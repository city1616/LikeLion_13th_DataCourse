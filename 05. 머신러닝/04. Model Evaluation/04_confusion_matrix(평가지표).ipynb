{
 "cells": [
  {
   "cell_type": "markdown",
   "id": "6ec78d04",
   "metadata": {},
   "source": [
    "### 2021_10_19_5"
   ]
  },
  {
   "cell_type": "markdown",
   "id": "7ddd78b4",
   "metadata": {},
   "source": [
    "### 평가지표\n",
    "* 회귀(Regression)\n",
    "    * 결정계수(0 ~ 1), MAE, MSE, RMSE, RMLSE, MAPE\n",
    "* 분류(Classification)\n",
    "    * 오차행렬 or 혼동행렬(Confusion matrix)\n",
    "    * 정확도(accuracy), 정밀도(precision), 민감도(Sensitivity, Recall, TPrage), 특이도, Fprate"
   ]
  },
  {
   "cell_type": "code",
   "execution_count": 1,
   "id": "2b934e56",
   "metadata": {},
   "outputs": [],
   "source": [
    "from IPython.display import display, Image\n",
    "import warnings\n",
    "warnings.filterwarnings(action='ignore')"
   ]
  },
  {
   "cell_type": "code",
   "execution_count": 2,
   "id": "823e66c7",
   "metadata": {},
   "outputs": [],
   "source": [
    "import pandas as pd\n",
    "import numpy as np\n",
    "from sklearn.model_selection import train_test_split\n",
    "import matplotlib.pyplot as plt\n",
    "import seaborn as sns"
   ]
  },
  {
   "cell_type": "markdown",
   "id": "ab54e68d",
   "metadata": {},
   "source": [
    "### 01. 데이터 셋 준비\n",
    "* 데이터 셋\n",
    "    * 손글씨 데이터\n",
    "    * data : 1797장, 64개의 pixel 데이터\n",
    "        * images : 1797, 8, 8\n",
    "    * target : 0~9까지의 손글씨 값\n",
    "    * pixel : 화소(텔레비전·컴퓨터 화면의 화상을 구성하는 최소 단위)\n",
    "        * 화면 이미지들은 더 이상 쪼개지지 않는 사각형의 작은 점들이 모여 이뤄진다. 이때 이미지를 구성하는 최소 단위를 픽셀이라고 한다."
   ]
  },
  {
   "cell_type": "code",
   "execution_count": 4,
   "id": "66c69d20",
   "metadata": {},
   "outputs": [
    {
     "name": "stdout",
     "output_type": "stream",
     "text": [
      "(1797, 64)\n",
      "dict_keys(['data', 'target', 'frame', 'feature_names', 'target_names', 'images', 'DESCR']) [0 1 2 ... 8 9 8]\n",
      "[0 1 2 3 4 5 6 7 8 9]\n"
     ]
    },
    {
     "data": {
      "text/plain": [
       "<AxesSubplot:ylabel='count'>"
      ]
     },
     "execution_count": 4,
     "metadata": {},
     "output_type": "execute_result"
    },
    {
     "data": {
      "image/png": "[encoded data removed]",
      "text/plain": [
       "<Figure size 432x288 with 1 Axes>"
      ]
     },
     "metadata": {
      "needs_background": "light"
     },
     "output_type": "display_data"
    }
   ],
   "source": [
    "from sklearn.datasets import load_digits\n",
    "\n",
    "digits = load_digits()\n",
    "print(digits.data.shape)\n",
    "print(digits.keys(), digits.target)\n",
    "print(np.unique(digits.target))\n",
    "sns.countplot(digits.target)"
   ]
  },
  {
   "cell_type": "markdown",
   "id": "29c379c9",
   "metadata": {},
   "source": [
    "### Target 값을 이진값으로 만들기\n",
    "### 데이터 셋의 Target을 9 : 1의 비율로 나누기\n",
    "* 9이면 True\n",
    "* 9가 아니면 False"
   ]
  },
  {
   "cell_type": "code",
   "execution_count": 5,
   "id": "a18a638c",
   "metadata": {},
   "outputs": [
    {
     "data": {
      "text/plain": [
       "array([False,  True])"
      ]
     },
     "execution_count": 5,
     "metadata": {},
     "output_type": "execute_result"
    }
   ],
   "source": [
    "X = digits.data          # 입력\n",
    "y = digits.target == 9   # 출력\n",
    "\n",
    "np.unique(y)"
   ]
  },
  {
   "cell_type": "code",
   "execution_count": 6,
   "id": "a84b6e89",
   "metadata": {},
   "outputs": [],
   "source": [
    "X_train, X_test, y_train, y_test = train_test_split(X, y, random_state=0)"
   ]
  },
  {
   "cell_type": "code",
   "execution_count": 7,
   "id": "3601d7bb",
   "metadata": {},
   "outputs": [
    {
     "data": {
      "text/plain": [
       "Text(0.5, 1.0, 'test')"
      ]
     },
     "execution_count": 7,
     "metadata": {},
     "output_type": "execute_result"
    },
    {
     "data": {
      "image/png": "[encoded data removed]",
      "text/plain": [
       "<Figure size 1080x432 with 2 Axes>"
      ]
     },
     "metadata": {
      "needs_background": "light"
     },
     "output_type": "display_data"
    }
   ],
   "source": [
    "plt.figure(figsize=(15,6))\n",
    "plt.subplot(1, 2, 1)\n",
    "# y_train의 값 확인\n",
    "sns.countplot(y_train)\n",
    "plt.title(\"train\")\n",
    "\n",
    "plt.subplot(1, 2, 2)\n",
    "# y_test의 값 확인\n",
    "sns.countplot(y_test)\n",
    "plt.title(\"test\")"
   ]
  },
  {
   "cell_type": "markdown",
   "id": "43d6ec66",
   "metadata": {},
   "source": [
    "## 02. 다양한 모델의 평가\n",
    "* 정확도(accuracy) 확인"
   ]
  },
  {
   "cell_type": "markdown",
   "id": "8769d119",
   "metadata": {},
   "source": [
    "### 의사결정트리 모델"
   ]
  },
  {
   "cell_type": "code",
   "execution_count": 8,
   "id": "e4c4b34b",
   "metadata": {},
   "outputs": [
    {
     "name": "stdout",
     "output_type": "stream",
     "text": [
      "정확도(accuracy) : 0.92\n"
     ]
    }
   ],
   "source": [
    "from sklearn.tree import DecisionTreeClassifier\n",
    "\n",
    "tree = DecisionTreeClassifier(max_depth = 2).fit(X_train, y_train)\n",
    "pred_tree = tree.predict(X_test)\n",
    "\n",
    "print(\"정확도(accuracy) : {:.2f}\".format(tree.score(X_test, y_test)))"
   ]
  },
  {
   "cell_type": "markdown",
   "id": "e0b8f87c",
   "metadata": {},
   "source": [
    "### LogisticRegression 모델"
   ]
  },
  {
   "cell_type": "code",
   "execution_count": 9,
   "id": "6c8f225e",
   "metadata": {},
   "outputs": [
    {
     "name": "stdout",
     "output_type": "stream",
     "text": [
      "정확도(accuracy) : 0.98\n"
     ]
    }
   ],
   "source": [
    "from sklearn.linear_model import LogisticRegression\n",
    "\n",
    "logreg = LogisticRegression().fit(X_train, y_train)\n",
    "pred_log = logreg.predict(X_test)\n",
    "\n",
    "print(\"정확도(accuracy) : {:.2f}\".format(logreg.score(X_test, y_test)))"
   ]
  },
  {
   "cell_type": "markdown",
   "id": "1bf8ca4d",
   "metadata": {},
   "source": [
    "### RandomForestRegressor"
   ]
  },
  {
   "cell_type": "code",
   "execution_count": 12,
   "id": "42408a98",
   "metadata": {},
   "outputs": [
    {
     "name": "stdout",
     "output_type": "stream",
     "text": [
      "정확도(accuracy) : 0.98\n"
     ]
    }
   ],
   "source": [
    "from sklearn.ensemble import RandomForestClassifier\n",
    "\n",
    "rf = RandomForestClassifier().fit(X_train, y_train)\n",
    "pred_rf = rf.predict(X_test)\n",
    "\n",
    "print(\"정확도(accuracy) : {:.2f}\".format(rf.score(X_test, y_test)))"
   ]
  },
  {
   "cell_type": "markdown",
   "id": "f8b7744b",
   "metadata": {},
   "source": [
    "### DummyClassifier\n",
    "* 간단한 규칙을 사용하여 예측을 수행한다.\n",
    "* 실제 프로젝트에서 사용하지 않으며, 간단한 베이스라인 모델로서 사용된다.\n",
    "* DummyClassifier(strategy='most_frequent') : 학습용 세트에서 가장 많이 있는 Label(라벨)을 예측한다.\n",
    "    * most_frequent : 가장 많이 있는 Label(라벨)을 예측\n",
    "    * stratified : 클래스 분포를 존중하여 예측을 생성\n",
    "    * uniform : 무작위로 균일하게 예측을 생성 ,\n",
    "    * 기타 : prior, constant\n",
    "\n",
    "* 아래 모델은 가장 많은 레이블을 가진 False만 예측하게 된다."
   ]
  },
  {
   "cell_type": "code",
   "execution_count": 13,
   "id": "20ba8012",
   "metadata": {},
   "outputs": [
    {
     "name": "stdout",
     "output_type": "stream",
     "text": [
      "예측된 레이블의 고유값: [False]\n",
      "정확도(accuracy) : 0.90\n"
     ]
    }
   ],
   "source": [
    "from sklearn.dummy import DummyClassifier\n",
    "\n",
    "dummy_model = DummyClassifier(strategy='most_frequent').fit(X_train, y_train)\n",
    "pred_most_frequent = dummy_model.predict(X_test)\n",
    "print(\"예측된 레이블의 고유값: {}\".format(np.unique(pred_most_frequent)))\n",
    "print(\"정확도(accuracy) : {:.2f}\".format(dummy_model.score(X_test, y_test)))"
   ]
  },
  {
   "cell_type": "markdown",
   "id": "89b44a16",
   "metadata": {},
   "source": [
    "### 03. 오차행렬(confusion matrix)"
   ]
  },
  {
   "cell_type": "code",
   "execution_count": 14,
   "id": "13712ed2",
   "metadata": {},
   "outputs": [
    {
     "data": {
      "image/png": "[encoded data removed]",
      "text/plain": [
       "<Figure size 432x288 with 1 Axes>"
      ]
     },
     "metadata": {
      "needs_background": "light"
     },
     "output_type": "display_data"
    }
   ],
   "source": [
    "import mglearn\n",
    "\n",
    "mglearn.plots.plot_binary_confusion_matrix()"
   ]
  },
  {
   "cell_type": "markdown",
   "id": "3bccc64f",
   "metadata": {},
   "source": [
    "### confusion_matrix 를 이용한 오차(혼동) 행렬 구하기"
   ]
  },
  {
   "cell_type": "code",
   "execution_count": 19,
   "id": "ca23dc56",
   "metadata": {},
   "outputs": [
    {
     "name": "stdout",
     "output_type": "stream",
     "text": [
      "오차 행렬 : \n",
      "[[399   4]\n",
      " [  7  40]]\n"
     ]
    }
   ],
   "source": [
    "from sklearn.metrics import confusion_matrix\n",
    "\n",
    "confusion = confusion_matrix(y_test, pred_log)\n",
    "print(\"오차 행렬 : \\n{}\".format(confusion))"
   ]
  },
  {
   "cell_type": "code",
   "execution_count": 20,
   "id": "16a6ef78",
   "metadata": {},
   "outputs": [
    {
     "data": {
      "image/png": "[encoded data removed]",
      "text/plain": [
       "<Figure size 576x576 with 1 Axes>"
      ]
     },
     "metadata": {
      "needs_background": "light"
     },
     "output_type": "display_data"
    }
   ],
   "source": [
    "mglearn.plots.plot_confusion_matrix_illustration()"
   ]
  },
  {
   "cell_type": "code",
   "execution_count": 23,
   "id": "a12f4bad",
   "metadata": {},
   "outputs": [
    {
     "name": "stdout",
     "output_type": "stream",
     "text": [
      "정확도 : 0.9777777777777777\n",
      "정밀도 : 0.9512195121951219\n",
      "민감도 : 0.8297872340425532\n",
      "특이도 : 0.9950372208436724\n",
      "FPRate : 0.004962779156327543\n"
     ]
    }
   ],
   "source": [
    "print(\"정확도 : {}\".format((39 + 401) / (39 + 8 + 2 + 401)))\n",
    "print(\"정밀도 : {}\".format((39) / (39 + 2)))\n",
    "print(\"민감도 : {}\".format((39) / (39 + 8)))\n",
    "print(\"특이도 : {}\".format((401) / (401 + 2)))\n",
    "print(\"FPRate : {}\".format((2) / (401 + 2)))"
   ]
  },
  {
   "cell_type": "code",
   "execution_count": 25,
   "id": "618afead",
   "metadata": {},
   "outputs": [
    {
     "name": "stdout",
     "output_type": "stream",
     "text": [
      "정확도 : 0.9755555555555555\n",
      "정밀도 : 0.9090909090909091\n",
      "민감도 : 0.851063829787234\n",
      "특이도 : 0.9900744416873449\n",
      "FPRate : 0.009925558312655087\n"
     ]
    }
   ],
   "source": [
    "TN = confusion[0][0]\n",
    "FP = confusion[0][1]\n",
    "FN = confusion[1][0]\n",
    "TP = confusion[1][1]\n",
    "\n",
    "print(\"정확도 : {}\".format((TP + TN) / (TP + FP + FN + TN)))\n",
    "print(\"정밀도 : {}\".format((TP) / (TP + FP)))\n",
    "print(\"민감도 : {}\".format((TP) / (TP + FN)))\n",
    "print(\"특이도 : {}\".format((TN) / (FP + TN)))\n",
    "print(\"FPRate : {}\".format((FP) / (FP + TN)))"
   ]
  },
  {
   "cell_type": "markdown",
   "id": "c5351846",
   "metadata": {},
   "source": [
    "* 이진 분류에서는 정밀도와 재현율을 가장 많이 사용.\n",
    "    * 분야마다 다른 지표를 사용할 수 있다.\n",
    "    \n",
    "### F-score\n",
    "\n",
    "* 오차 행렬의 결과를 요약하는 여러 방법 중 가장 일반적인 것은 정밀도, 재현율이다.\n",
    "* 정밀도와 재현율은 중요한 측정 방법이지만, 둘중의 하나의 방법으로 전체 그림을 보기가 어렵다.\n",
    "* 정밀도와 민감도(recall,재현율)을 하나만 가지고 측정이 안된다. 정밀도(precision)와 재현율(recall)의 조화 평균인 f-점수 또는 f-측정은 이 둘을 하나로 요약을 해 줍니다."
   ]
  },
  {
   "cell_type": "code",
   "execution_count": null,
   "id": "9f94aca6",
   "metadata": {},
   "outputs": [],
   "source": []
  }
 ],
 "metadata": {
  "kernelspec": {
   "display_name": "Python 3 (ipykernel)",
   "language": "python",
   "name": "python3"
  },
  "language_info": {
   "codemirror_mode": {
    "name": "ipython",
    "version": 3
   },
   "file_extension": ".py",
   "mimetype": "text/x-python",
   "name": "python",
   "nbconvert_exporter": "python",
   "pygments_lexer": "ipython3",
   "version": "3.8.8"
  }
 },
 "nbformat": 4,
 "nbformat_minor": 5
}
