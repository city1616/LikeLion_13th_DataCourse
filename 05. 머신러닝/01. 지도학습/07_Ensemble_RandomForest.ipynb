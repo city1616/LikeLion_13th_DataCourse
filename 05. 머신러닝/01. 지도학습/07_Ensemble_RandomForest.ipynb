{
 "cells": [
  {
   "cell_type": "markdown",
   "metadata": {
    "id": "dudQIUhCTkop"
   },
   "source": [
    "### 2021_10_14_5"
   ]
  },
  {
   "cell_type": "markdown",
   "metadata": {
    "id": "uHWu0wgIUTHn"
   },
   "source": [
    "## 대표적인 알고리즘 RandomForest\n",
    "\n",
    "### 학습 내용\n",
    "* 앙상블이 무엇인지 알아본다.\n",
    "* 랜덤 포레스트 알고리즘을 이용해 본다.\n",
    "* 기타 모델로 다시 만들어 여러 모델을 비교해 본다.\n",
    "\n",
    "### 01 앙상블(Ensemble)이란?\n",
    "* 여러 머신러닝 모델을 연결하여 더 강력한 모델을 만드는 기법이다.\n",
    "\n",
    "### 02 RandomForest(랜덤 포레스트)는 무엇인가?\n",
    "* 01 트리를 많이 만든다.\n",
    "* 02 각각의 모델이 예측한다.\n",
    "* 03 예측한 값들의 평균값을 구한다.\n",
    "* 04 이를 최종 예측값으로 이용한다."
   ]
  },
  {
   "cell_type": "code",
   "execution_count": 1,
   "metadata": {
    "id": "aQTifQOXTc_a"
   },
   "outputs": [],
   "source": [
    "import seaborn as sns"
   ]
  },
  {
   "cell_type": "code",
   "execution_count": 2,
   "metadata": {
    "colab": {
     "base_uri": "https://localhost:8080/"
    },
    "id": "GrahrRuOUa49",
    "outputId": "e73ed73e-e348-42f7-954a-6a6edc718404"
   },
   "outputs": [
    {
     "name": "stdout",
     "output_type": "stream",
     "text": [
      "<class 'pandas.core.frame.DataFrame'>\n",
      "RangeIndex: 244 entries, 0 to 243\n",
      "Data columns (total 7 columns):\n",
      " #   Column      Non-Null Count  Dtype   \n",
      "---  ------      --------------  -----   \n",
      " 0   total_bill  244 non-null    float64 \n",
      " 1   tip         244 non-null    float64 \n",
      " 2   sex         244 non-null    category\n",
      " 3   smoker      244 non-null    category\n",
      " 4   day         244 non-null    category\n",
      " 5   time        244 non-null    category\n",
      " 6   size        244 non-null    int64   \n",
      "dtypes: category(4), float64(2), int64(1)\n",
      "memory usage: 7.3 KB\n"
     ]
    }
   ],
   "source": [
    "tips = sns.load_dataset(\"tips\")\n",
    "tips.info()"
   ]
  },
  {
   "cell_type": "code",
   "execution_count": 3,
   "metadata": {
    "colab": {
     "base_uri": "https://localhost:8080/",
     "height": 142
    },
    "id": "fxJOQigVUd1C",
    "outputId": "eecee7b0-1a44-4e6a-c9b7-5f2a2ce1ec9d"
   },
   "outputs": [
    {
     "data": {
      "text/html": [
       "<div>\n",
       "<style scoped>\n",
       "    .dataframe tbody tr th:only-of-type {\n",
       "        vertical-align: middle;\n",
       "    }\n",
       "\n",
       "    .dataframe tbody tr th {\n",
       "        vertical-align: top;\n",
       "    }\n",
       "\n",
       "    .dataframe thead th {\n",
       "        text-align: right;\n",
       "    }\n",
       "</style>\n",
       "<table border=\"1\" class=\"dataframe\">\n",
       "  <thead>\n",
       "    <tr style=\"text-align: right;\">\n",
       "      <th></th>\n",
       "      <th>total_bill</th>\n",
       "      <th>tip</th>\n",
       "      <th>sex</th>\n",
       "      <th>smoker</th>\n",
       "      <th>day</th>\n",
       "      <th>time</th>\n",
       "      <th>size</th>\n",
       "    </tr>\n",
       "  </thead>\n",
       "  <tbody>\n",
       "    <tr>\n",
       "      <th>0</th>\n",
       "      <td>16.99</td>\n",
       "      <td>1.01</td>\n",
       "      <td>Female</td>\n",
       "      <td>No</td>\n",
       "      <td>Sun</td>\n",
       "      <td>Dinner</td>\n",
       "      <td>2</td>\n",
       "    </tr>\n",
       "    <tr>\n",
       "      <th>1</th>\n",
       "      <td>10.34</td>\n",
       "      <td>1.66</td>\n",
       "      <td>Male</td>\n",
       "      <td>No</td>\n",
       "      <td>Sun</td>\n",
       "      <td>Dinner</td>\n",
       "      <td>3</td>\n",
       "    </tr>\n",
       "    <tr>\n",
       "      <th>2</th>\n",
       "      <td>21.01</td>\n",
       "      <td>3.50</td>\n",
       "      <td>Male</td>\n",
       "      <td>No</td>\n",
       "      <td>Sun</td>\n",
       "      <td>Dinner</td>\n",
       "      <td>3</td>\n",
       "    </tr>\n",
       "  </tbody>\n",
       "</table>\n",
       "</div>"
      ],
      "text/plain": [
       "   total_bill   tip     sex smoker  day    time  size\n",
       "0       16.99  1.01  Female     No  Sun  Dinner     2\n",
       "1       10.34  1.66    Male     No  Sun  Dinner     3\n",
       "2       21.01  3.50    Male     No  Sun  Dinner     3"
      ]
     },
     "execution_count": 3,
     "metadata": {},
     "output_type": "execute_result"
    }
   ],
   "source": [
    "tips.head(3)"
   ]
  },
  {
   "cell_type": "markdown",
   "metadata": {
    "id": "qv2_Wbl1UxEe"
   },
   "source": [
    "* 데이터 셋 내용\n",
    "\t* total_bill : 총 지불 비용\n",
    "\t* tip : 팁\n",
    "\t* sex : 성별\n",
    "\t* smoker : 흡연 유무\n",
    "\t* day : 이용한 요일\n",
    "\t* time : 점심인지 저녁인지\n",
    "\t* size : 식당 이용 인원"
   ]
  },
  {
   "cell_type": "markdown",
   "metadata": {
    "id": "Iedmlv8kVVvg"
   },
   "source": [
    "### 04 머신러닝 문제\n",
    "* 조건 1. 우리에게는 지금까지 이용한 고객의 180개의 데이터가 있다.\n",
    "* 조건 2. 이후에 몇명이 이용할지 모른다.\n",
    "* 조건 3. 우리는 몇명이 우리 식당에 방문할지 알아야 한다. 이 인원을 예측하는 머신러닝 시스템을 만들어, 이를 토대로 앞으로의 고객 서비스에 반영해보자."
   ]
  },
  {
   "cell_type": "code",
   "execution_count": 5,
   "metadata": {
    "colab": {
     "base_uri": "https://localhost:8080/"
    },
    "id": "fLaBJmtrUe5P",
    "outputId": "637e0f2b-0f42-4889-8b10-7058a27ea262"
   },
   "outputs": [
    {
     "name": "stderr",
     "output_type": "stream",
     "text": [
      "/usr/local/lib/python3.7/dist-packages/pandas/core/frame.py:4174: SettingWithCopyWarning: \n",
      "A value is trying to be set on a copy of a slice from a DataFrame\n",
      "\n",
      "See the caveats in the documentation: https://pandas.pydata.org/pandas-docs/stable/user_guide/indexing.html#returning-a-view-versus-a-copy\n",
      "  errors=errors,\n"
     ]
    },
    {
     "data": {
      "text/plain": [
       "((220, 7), (24, 6))"
      ]
     },
     "execution_count": 5,
     "metadata": {},
     "output_type": "execute_result"
    }
   ],
   "source": [
    "tips_have = tips.iloc[0 : 220, :] # 현재 가진 고객 데이터\n",
    "tips_new = tips.iloc[220 :, :]    # 미래의 고객 데이터\n",
    "\n",
    "tips_new.drop([\"size\"], axis = 1, inplace = True)\n",
    "\n",
    "tips_have.shape, tips_new.shape"
   ]
  },
  {
   "cell_type": "code",
   "execution_count": 6,
   "metadata": {
    "colab": {
     "base_uri": "https://localhost:8080/"
    },
    "id": "YYK_xhBSVGIe",
    "outputId": "e8866f18-b8c8-419a-a09e-9b71aa69cb1b"
   },
   "outputs": [
    {
     "data": {
      "text/plain": [
       "(Index(['total_bill', 'tip', 'sex', 'smoker', 'day', 'time', 'size'], dtype='object'),\n",
       " Index(['total_bill', 'tip', 'sex', 'smoker', 'day', 'time'], dtype='object'))"
      ]
     },
     "execution_count": 6,
     "metadata": {},
     "output_type": "execute_result"
    }
   ],
   "source": [
    "tips_have.columns, tips_new.columns"
   ]
  },
  {
   "cell_type": "markdown",
   "metadata": {
    "id": "54rmvfUdVgRJ"
   },
   "source": [
    "### 05 머신러닝 문제 수행\n",
    "* 머신러닝은 숫자 데이터를 좋아하고 이해할 수 있다.\n",
    "  * 그러면 total_bill, tip의 컬럼(변수)를 사용해서 size를 예측하는 것을 해보자.\n",
    "\n",
    "### 머신러닝은 다음과 같은 과정을 거친다.\n",
    "\n",
    "* 모델 만들고\n",
    "* 선택된 모델을 준비된 데이터(입력, 출력)로 학습을 시키고\n",
    "* 마지막으로 학습된 모델로 새로운 데이터를 예측을 수행한다.\n",
    "\n",
    "### 우리의 과제\n",
    "\n",
    "* 모델에 사용할 데이터를 준비한다.\n",
    "  * 학습-입력(X_train), 학습-출력(y_train)\n",
    "  * 예측에 사용할 새로운 데이터(X_test), y_test(는 예측되므로 없음)"
   ]
  },
  {
   "cell_type": "code",
   "execution_count": 11,
   "metadata": {
    "id": "t9xxIChXVOtm"
   },
   "outputs": [],
   "source": [
    "sel = [\"total_bill\", \"tip\"]\n",
    "\n",
    "X = tips_have[sel]\n",
    "y = tips_have[\"size\"]\n",
    "\n",
    "test_X = tips_new[sel]"
   ]
  },
  {
   "cell_type": "markdown",
   "metadata": {
    "id": "C64GpW73WbB7"
   },
   "source": [
    "### 랜덤 포레스트 이용\n",
    "\n",
    "* 예측하려는 타깃(레이블)이 수치형일때는 RandomForestRegressor를 활용\n",
    "* 예측하려는 타깃(레이블)이 범주형일때는 RandomForestClassifier를 활용"
   ]
  },
  {
   "cell_type": "code",
   "execution_count": 10,
   "metadata": {
    "id": "FALnCfH2WNX2"
   },
   "outputs": [],
   "source": [
    "from sklearn.ensemble import RandomForestClassifier"
   ]
  },
  {
   "cell_type": "code",
   "execution_count": 12,
   "metadata": {
    "colab": {
     "base_uri": "https://localhost:8080/"
    },
    "id": "8brxtWpWaaS6",
    "outputId": "6d9e51c5-24ca-45d9-a087-a0bd9df6dfa0"
   },
   "outputs": [
    {
     "data": {
      "text/plain": [
       "RandomForestClassifier(bootstrap=True, ccp_alpha=0.0, class_weight=None,\n",
       "                       criterion='gini', max_depth=None, max_features='auto',\n",
       "                       max_leaf_nodes=None, max_samples=None,\n",
       "                       min_impurity_decrease=0.0, min_impurity_split=None,\n",
       "                       min_samples_leaf=1, min_samples_split=2,\n",
       "                       min_weight_fraction_leaf=0.0, n_estimators=100,\n",
       "                       n_jobs=None, oob_score=False, random_state=None,\n",
       "                       verbose=0, warm_start=False)"
      ]
     },
     "execution_count": 12,
     "metadata": {},
     "output_type": "execute_result"
    }
   ],
   "source": [
    "model = RandomForestClassifier().fit(X, y)\n",
    "model"
   ]
  },
  {
   "cell_type": "code",
   "execution_count": 13,
   "metadata": {
    "colab": {
     "base_uri": "https://localhost:8080/"
    },
    "id": "tcT3Ag8dagz1",
    "outputId": "72770294-d2e3-4cdd-af60-2a7897c3fa8c"
   },
   "outputs": [
    {
     "data": {
      "text/plain": [
       "array([2, 2, 2, 2, 2, 2, 2, 2, 2, 2, 4, 2, 2, 2, 2, 2, 2, 2, 4, 4, 4, 4,\n",
       "       2, 4])"
      ]
     },
     "execution_count": 13,
     "metadata": {},
     "output_type": "execute_result"
    }
   ],
   "source": [
    "pred = model.predict(test_X)\n",
    "pred"
   ]
  },
  {
   "cell_type": "markdown",
   "metadata": {
    "id": "TCJqRfKua3Rk"
   },
   "source": [
    "### 06 우리가 만든 모델이 좋은지 아닌지 어떻게 평가할 수 없을까?\n",
    "\n",
    "* 내가 만든 모델이 어느정도 좋은 성능을 가지는지 현재로서는 알기가 어렵다.\n",
    "  * 해결 방안 1. tips_have에는 출력 size가 있다. tips_new는 없다. 그러면 우선 tips_have을 잘 데이터로 나누어 학습과 예측을 하여, 가진 답으로 맞추어보고 검증을 해보자.\n",
    "* train_test_split 함수를 이용하여 학습용, 테스트용으로 나눌 수 있다."
   ]
  },
  {
   "cell_type": "code",
   "execution_count": 14,
   "metadata": {
    "id": "Pl4m147LakvB"
   },
   "outputs": [],
   "source": [
    "from sklearn.model_selection import train_test_split"
   ]
  },
  {
   "cell_type": "code",
   "execution_count": 18,
   "metadata": {
    "id": "xhWw_WnFbBqe"
   },
   "outputs": [],
   "source": [
    "# random_state는 난수 발생기의 패턴을 고정시키기 위해 사용한다.\n",
    "# 이를 통해 우리는 X(입력), y(출력)이 각각 학습용, 테스트용으로 나누어진다.\n",
    "X_train, X_test, y_train, y_test = train_test_split(X, y, random_state = 0)"
   ]
  },
  {
   "cell_type": "markdown",
   "metadata": {
    "id": "5ZCr_aGbcGqa"
   },
   "source": [
    "### 07 모델 생성 후, 평가"
   ]
  },
  {
   "cell_type": "code",
   "execution_count": 38,
   "metadata": {
    "colab": {
     "base_uri": "https://localhost:8080/"
    },
    "id": "2pT-SEj5bIna",
    "outputId": "94266a6f-ce1d-4864-bee9-137a5282d97e"
   },
   "outputs": [
    {
     "data": {
      "text/plain": [
       "array([2, 2, 2, 2, 3])"
      ]
     },
     "execution_count": 38,
     "metadata": {},
     "output_type": "execute_result"
    }
   ],
   "source": [
    "model = RandomForestClassifier(n_estimators = 100).fit(X_train, y_train)\n",
    "pred = model.predict(X_test)\n",
    "pred[0 : 5]"
   ]
  },
  {
   "cell_type": "markdown",
   "metadata": {
    "id": "Pat8Ne-ScNH7"
   },
   "source": [
    "### 여기서 예측한 pred와 y_test는 비교하여 얼마나 정확하게 맞추었는지 확인 가능"
   ]
  },
  {
   "cell_type": "code",
   "execution_count": 39,
   "metadata": {
    "colab": {
     "base_uri": "https://localhost:8080/"
    },
    "id": "UeL_cIlRbRSw",
    "outputId": "30b2757d-7d16-4fc8-d550-a0ae97135963"
   },
   "outputs": [
    {
     "data": {
      "text/plain": [
       "0.6"
      ]
     },
     "execution_count": 39,
     "metadata": {},
     "output_type": "execute_result"
    }
   ],
   "source": [
    "(pred == y_test).sum() / len(pred)"
   ]
  },
  {
   "cell_type": "markdown",
   "metadata": {
    "id": "10kCkPhEcxA2"
   },
   "source": [
    "### 08 다른 모델의 정확도 확인"
   ]
  },
  {
   "cell_type": "code",
   "execution_count": 19,
   "metadata": {
    "id": "P8JzEpw2bU5B"
   },
   "outputs": [],
   "source": [
    "from sklearn.linear_model import LinearRegression\n",
    "from sklearn.neighbors import KNeighborsRegressor\n",
    "from sklearn.tree import DecisionTreeRegressor"
   ]
  },
  {
   "cell_type": "code",
   "execution_count": 20,
   "metadata": {
    "colab": {
     "base_uri": "https://localhost:8080/"
    },
    "id": "XpBlFWqNcdIg",
    "outputId": "68f4766b-ceaa-4a8b-84f5-1268cdc5377f"
   },
   "outputs": [
    {
     "data": {
      "text/plain": [
       "0.0"
      ]
     },
     "execution_count": 20,
     "metadata": {},
     "output_type": "execute_result"
    }
   ],
   "source": [
    "model = LinearRegression().fit(X_train, y_train)\n",
    "pred = model.predict(X_test)\n",
    "\n",
    "(pred == y_test).sum()/len(pred)"
   ]
  },
  {
   "cell_type": "code",
   "execution_count": 21,
   "metadata": {
    "colab": {
     "base_uri": "https://localhost:8080/"
    },
    "id": "dJMAdWNOchQX",
    "outputId": "498ebf2b-bc5d-4f10-c67d-5b18b796b2e2"
   },
   "outputs": [
    {
     "data": {
      "text/plain": [
       "0.3090909090909091"
      ]
     },
     "execution_count": 21,
     "metadata": {},
     "output_type": "execute_result"
    }
   ],
   "source": [
    "model = KNeighborsRegressor().fit(X_train, y_train)\n",
    "pred = model.predict(X_test)\n",
    "\n",
    "(pred == y_test).sum()/len(pred)"
   ]
  },
  {
   "cell_type": "code",
   "execution_count": 49,
   "metadata": {
    "colab": {
     "base_uri": "https://localhost:8080/"
    },
    "id": "KhHwtKJPcjkW",
    "outputId": "00006ad7-1755-4049-ef93-45e5b07d0d32"
   },
   "outputs": [
    {
     "data": {
      "text/plain": [
       "0.5272727272727272"
      ]
     },
     "execution_count": 49,
     "metadata": {},
     "output_type": "execute_result"
    }
   ],
   "source": [
    "model = DecisionTreeRegressor().fit(X_train, y_train)\n",
    "pred = model.predict(X_test)\n",
    "\n",
    "(pred == y_test).sum()/len(pred)"
   ]
  },
  {
   "cell_type": "markdown",
   "metadata": {
    "id": "Lr-S7B6Odn7p"
   },
   "source": [
    "### 결과 확인\n",
    "\n",
    "* 일반적인 모델 사용 결과 knn보다 의사결정트리가 좋고,\n",
    "* 의사결정트리보다 랜덤포레스트 모델이 좋다.\n",
    "* 랜덤포레스트는 많은 개수의 트리를 사용해서, 많은 트리를 사용하는 것이 좋은 것으로 보여진다."
   ]
  },
  {
   "cell_type": "code",
   "execution_count": null,
   "metadata": {
    "id": "TiFVhGMOdZ4W"
   },
   "outputs": [],
   "source": []
  }
 ],
 "metadata": {
  "colab": {
   "collapsed_sections": [],
   "name": "Ensemble_RandomForest.ipynb",
   "provenance": []
  },
  "kernelspec": {
   "display_name": "Python 3 (ipykernel)",
   "language": "python",
   "name": "python3"
  },
  "language_info": {
   "codemirror_mode": {
    "name": "ipython",
    "version": 3
   },
   "file_extension": ".py",
   "mimetype": "text/x-python",
   "name": "python",
   "nbconvert_exporter": "python",
   "pygments_lexer": "ipython3",
   "version": "3.8.8"
  }
 },
 "nbformat": 4,
 "nbformat_minor": 1
}
