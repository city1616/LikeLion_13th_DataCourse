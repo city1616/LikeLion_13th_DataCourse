{
 "cells": [
  {
   "cell_type": "markdown",
   "id": "3f8e26b1",
   "metadata": {},
   "source": [
    "## Gradient Boosting 기법"
   ]
  },
  {
   "cell_type": "code",
   "execution_count": 1,
   "id": "66e721e8",
   "metadata": {},
   "outputs": [],
   "source": [
    "import matplotlib\n",
    "from matplotlib import font_manager, rc\n",
    "import matplotlib.pyplot as plt\n",
    "import platform"
   ]
  },
  {
   "cell_type": "code",
   "execution_count": 2,
   "id": "5ba1d5a9",
   "metadata": {},
   "outputs": [],
   "source": [
    "path = \"C:/Windows/Fonts/malgun.ttf\"\n",
    "if platform.system() == \"Windows\":\n",
    "    font_name = font_manager.FontProperties(fname=path).get_name()\n",
    "    rc('font', family=font_name)\n",
    "elif platform.system()==\"Darwin\":\n",
    "    rc('font', family='AppleGothic')\n",
    "else:\n",
    "    print(\"Unknown System\")"
   ]
  },
  {
   "cell_type": "markdown",
   "id": "9a569eae",
   "metadata": {},
   "source": [
    "### 이전 학습 내용\n",
    "* (1) 지도학습에는 classificatoin(분류)와 Regression(회귀)로 나누어진다.\n",
    "* (2) Classification은 이진분류(binary classification)와 다중 분류가 있다.\n",
    "* (3) 모델을 만들때 과적합(Overfitting)을 피하고 일반화(generalization) 되도록 해야 한다."
   ]
  },
  {
   "cell_type": "markdown",
   "id": "759ef07b",
   "metadata": {},
   "source": [
    "### 선형모델(linear Regression)\n",
    "\n",
    "* 라쏘(Lasso Regression) - L1 규제(regularization)\n",
    "    * 가중치를 w을 0으로 가깝게 제한하지만, 실제로 어떤 계수를 0으로 만든다.\n",
    "* 릿지(Ridge Regression) - L2 규제(regularization)\n",
    "    * 가중치의 절대값을 가능한 한 작게 만든다.(w의 모든 원소가 0에 가깝게 되기를 원한다.)"
   ]
  },
  {
   "cell_type": "markdown",
   "id": "bd78d8c9",
   "metadata": {},
   "source": [
    "### 그래디언트 부스팅(Gradient Boosting)\n",
    "\n",
    "* (가) 여러 개의 결정 트리를 묶어 강력한 모델을 만든다.\n",
    "* (나) 분류(Classification)과 회귀(Regression)에 모두 사용 가능.\n",
    "* (다) 랜덤포레스트(random forest)와 달리 이전 트리의 오차를 보완하는 방식으로 순차적으로 트리를 만든다.\n",
    "    * 이전 트리의 오차를 얼마나 강하게 보정할 것인가를 제어(learning_rate이다.)\n",
    "* (라) 무작위성이 없으며, 대신 강력한 사전 가지치기(pruning)을 사용\n",
    "* (마) 각각의 트리는 일부에 대해서만 예측을 잘 수행, 트리가 많을수록 성능이 좋아짐\n",
    "* (바) 랜덤 포레스트보다 매개 변수 설정에 더 민감하지만, 잘 조정하면 더 높은 정확도를 얻을 수 있음.\n",
    "* (사) 중요한 매개변수 중의 하나는 learning_rate이다.\n",
    "    * 학습률이 크면 보정을 강하게 하기 때문에 복잡한 모델을 만든다.\n",
    "* (아) n_estimators 의 값을 키우면 앙상블에 더 많은 트리가 추가되어, 모델의 복잡도는 커지지만 훈련 세트에서의 실수가 보완된다.\n",
    "* (자) 트리의 깊이가 5정도로서 깊지 않은 트리를 사용하여 메모리 사용이 적고 예측도 빠르다."
   ]
  },
  {
   "cell_type": "code",
   "execution_count": 3,
   "id": "a0d67467",
   "metadata": {},
   "outputs": [],
   "source": [
    "from sklearn.model_selection import train_test_split\n",
    "from sklearn.datasets import load_breast_cancer\n",
    "import matplotlib.pyplot as plt\n",
    "import numpy as np\n",
    "%matplotlib inline"
   ]
  },
  {
   "cell_type": "code",
   "execution_count": 4,
   "id": "d5c341d3",
   "metadata": {},
   "outputs": [],
   "source": [
    "# n_features : 변수의 개수\n",
    "# feature_names : 변수의 이름 \n",
    "# model : 모델 \n",
    "def plot_feature_important_up(model, n_features, feature_names):\n",
    "    imp = model.feature_importances_     # feature의 중요도 \n",
    "    plt.barh(range(n_features) , imp, align='center')  # 그래프(가로 막대 그래프)\n",
    "    plt.yticks(np.arange(n_features), feature_names)  #y축의 축의 값\n",
    "    plt.xlabel(\"feature importance\")   # x축 레이블(제목)\n",
    "    plt.ylabel(\"feature\")              # y축 제목\n",
    "    plt.ylim(-1, n_features)           # y축의 범위 지정 "
   ]
  },
  {
   "cell_type": "markdown",
   "id": "25463061",
   "metadata": {},
   "source": [
    "### GradientBoosting 알고리즘 실습\n",
    "* depth = 3\n",
    "* tree 100개(n_estimators)\n",
    "* 학습률 : 0.1 사용\n",
    "\n",
    "* 데이터 셋 : load_breast_cancer\n",
    "    * classification용 유방암 진단 자료"
   ]
  },
  {
   "cell_type": "code",
   "execution_count": 5,
   "id": "cf20520e",
   "metadata": {},
   "outputs": [
    {
     "name": "stdout",
     "output_type": "stream",
     "text": [
      "dict_keys(['data', 'target', 'frame', 'target_names', 'DESCR', 'feature_names', 'filename'])\n",
      "['malignant' 'benign']\n",
      "[0 0 0 0 0 0 0 0 0 0 0 0 0 0 0 0 0 0 0 1 1 1 0 0 0 0 0 0 0 0 0 0 0 0 0 0 0\n",
      " 1 0 0 0 0 0 0 0 0 1 0 1 1 1 1 1 0 0 1 0 0 1 1 1 1 0 1 0 0 1 1 1 1 0 1 0 0\n",
      " 1 0 1 0 0 1 1 1 0 0 1 0 0 0 1 1 1 0 1 1 0 0 1 1 1 0 0 1 1 1 1 0 1 1 0 1 1\n",
      " 1 1 1 1 1 1 0 0 0 1 0 0 1 1 1 0 0 1 0 1 0 0 1 0 0 1 1 0 1 1 0 1 1 1 1 0 1\n",
      " 1 1 1 1 1 1 1 1 0 1 1 1 1 0 0 1 0 1 1 0 0 1 1 0 0 1 1 1 1 0 1 1 0 0 0 1 0\n",
      " 1 0 1 1 1 0 1 1 0 0 1 0 0 0 0 1 0 0 0 1 0 1 0 1 1 0 1 0 0 0 0 1 1 0 0 1 1\n",
      " 1 0 1 1 1 1 1 0 0 1 1 0 1 1 0 0 1 0 1 1 1 1 0 1 1 1 1 1 0 1 0 0 0 0 0 0 0\n",
      " 0 0 0 0 0 0 0 1 1 1 1 1 1 0 1 0 1 1 0 1 1 0 1 0 0 1 1 1 1 1 1 1 1 1 1 1 1\n",
      " 1 0 1 1 0 1 0 1 1 1 1 1 1 1 1 1 1 1 1 1 1 0 1 1 1 0 1 0 1 1 1 1 0 0 0 1 1\n",
      " 1 1 0 1 0 1 0 1 1 1 0 1 1 1 1 1 1 1 0 0 0 1 1 1 1 1 1 1 1 1 1 1 0 0 1 0 0\n",
      " 0 1 0 0 1 1 1 1 1 0 1 1 1 1 1 0 1 1 1 0 1 1 0 0 1 1 1 1 1 1 0 1 1 1 1 1 1\n",
      " 1 0 1 1 1 1 1 0 1 1 0 1 1 1 1 1 1 1 1 1 1 1 1 0 1 0 0 1 0 1 1 1 1 1 0 1 1\n",
      " 0 1 0 1 1 0 1 0 1 1 1 1 1 1 1 1 0 0 1 1 1 1 1 1 0 1 1 1 1 1 1 1 1 1 1 0 1\n",
      " 1 1 1 1 1 1 0 1 0 1 1 0 1 1 1 1 1 0 0 1 0 1 0 1 1 1 1 1 0 1 1 0 1 0 1 0 0\n",
      " 1 1 1 0 1 1 1 1 1 1 1 1 1 1 1 0 1 0 0 1 1 1 1 1 1 1 1 1 1 1 1 1 1 1 1 1 1\n",
      " 1 1 1 1 1 1 1 0 0 0 0 0 0 1]\n",
      "['mean radius' 'mean texture' 'mean perimeter' 'mean area'\n",
      " 'mean smoothness' 'mean compactness' 'mean concavity'\n",
      " 'mean concave points' 'mean symmetry' 'mean fractal dimension'\n",
      " 'radius error' 'texture error' 'perimeter error' 'area error'\n",
      " 'smoothness error' 'compactness error' 'concavity error'\n",
      " 'concave points error' 'symmetry error' 'fractal dimension error'\n",
      " 'worst radius' 'worst texture' 'worst perimeter' 'worst area'\n",
      " 'worst smoothness' 'worst compactness' 'worst concavity'\n",
      " 'worst concave points' 'worst symmetry' 'worst fractal dimension']\n",
      "(569, 30)\n",
      "[[1.799e+01 1.038e+01 1.228e+02 ... 2.654e-01 4.601e-01 1.189e-01]\n",
      " [2.057e+01 1.777e+01 1.329e+02 ... 1.860e-01 2.750e-01 8.902e-02]\n",
      " [1.969e+01 2.125e+01 1.300e+02 ... 2.430e-01 3.613e-01 8.758e-02]\n",
      " ...\n",
      " [1.660e+01 2.808e+01 1.083e+02 ... 1.418e-01 2.218e-01 7.820e-02]\n",
      " [2.060e+01 2.933e+01 1.401e+02 ... 2.650e-01 4.087e-01 1.240e-01]\n",
      " [7.760e+00 2.454e+01 4.792e+01 ... 0.000e+00 2.871e-01 7.039e-02]]\n"
     ]
    }
   ],
   "source": [
    "from sklearn.ensemble import GradientBoostingClassifier\n",
    "\n",
    "cancer = load_breast_cancer()\n",
    "\n",
    "# 데이터 확인\n",
    "print(cancer.keys())\n",
    "print(cancer.target_names) # 목적변수(종속변수)\n",
    "print(cancer.target)\n",
    "print(cancer.feature_names)\n",
    "print(cancer.data.shape)   # row : 569, column : 30\n",
    "print(cancer.data)         # 설명변수(독립변수)"
   ]
  },
  {
   "cell_type": "code",
   "execution_count": 6,
   "id": "2ebcbe78",
   "metadata": {},
   "outputs": [
    {
     "data": {
      "text/plain": [
       "GradientBoostingClassifier(random_state=0)"
      ]
     },
     "execution_count": 6,
     "metadata": {},
     "output_type": "execute_result"
    }
   ],
   "source": [
    "# 데이터 나누기\n",
    "X = cancer.data\n",
    "y = cancer.target\n",
    "X_train, X_test, y_train, y_test = train_test_split(X, y,\n",
    "                                                   random_state = 0)\n",
    "\n",
    "# 모델 생성 및 학습\n",
    "# 기본값 사용\n",
    "# max_depth = 3, n_estimators = 100, learning_rate = 0.1\n",
    "gbrt = GradientBoostingClassifier(random_state = 0)\n",
    "gbrt.fit(X_train, y_train)"
   ]
  },
  {
   "cell_type": "code",
   "execution_count": 7,
   "id": "102b1658",
   "metadata": {},
   "outputs": [
    {
     "name": "stdout",
     "output_type": "stream",
     "text": [
      "훈련 세트 정확도: 1.000\n",
      "테스트 세트 정확도: 0.965\n"
     ]
    }
   ],
   "source": [
    "# 정확도 확인\n",
    "print(\"훈련 세트 정확도: {:.3f}\".format(gbrt.score(X_train, y_train)))\n",
    "print(\"테스트 세트 정확도: {:.3f}\".format(gbrt.score(X_test, y_test)))"
   ]
  },
  {
   "cell_type": "markdown",
   "id": "99be5c36",
   "metadata": {},
   "source": [
    "* 훈련 세트의 정확도가 100%이므로 과대적합(Overfitting)"
   ]
  },
  {
   "cell_type": "markdown",
   "id": "d92c4bc9",
   "metadata": {},
   "source": [
    "### 02. 훈련세트에 대한 과적합을 줄이기\n",
    "\n",
    "* max_depth 조절 : 트리의 깊이\n",
    "* learning_rate 조절 : 학습 속도 조절"
   ]
  },
  {
   "cell_type": "markdown",
   "id": "97f98c33",
   "metadata": {},
   "source": [
    "### 모델의 depth 조절\n",
    "* 훈련 세트의 정확도는 떨어지지만 테스트 세트의 정확도는 향상됨."
   ]
  },
  {
   "cell_type": "code",
   "execution_count": 8,
   "id": "587ddde8",
   "metadata": {},
   "outputs": [
    {
     "name": "stdout",
     "output_type": "stream",
     "text": [
      "훈련 세트 정확도: 0.991\n",
      "테스트 세트 정확도: 0.972\n"
     ]
    }
   ],
   "source": [
    "gbrt = GradientBoostingClassifier(random_state=0, max_depth=1)\n",
    "gbrt.fit(X_train, y_train)\n",
    "\n",
    "print(\"훈련 세트 정확도: {:.3f}\".format(gbrt.score(X_train, y_train)))\n",
    "print(\"테스트 세트 정확도: {:.3f}\".format(gbrt.score(X_test, y_test)))"
   ]
  },
  {
   "cell_type": "markdown",
   "id": "79f72af0",
   "metadata": {},
   "source": [
    "### 트리의 학습률(learning_rate) 조절\n",
    "* 0.1 -> 0.01 로 조절"
   ]
  },
  {
   "cell_type": "code",
   "execution_count": 9,
   "id": "e0c78845",
   "metadata": {},
   "outputs": [
    {
     "name": "stdout",
     "output_type": "stream",
     "text": [
      "훈련 세트 정확도: 0.988\n",
      "테스트 세트 정확도: 0.965\n"
     ]
    }
   ],
   "source": [
    "gbrt = GradientBoostingClassifier(random_state=0, learning_rate=0.01)\n",
    "gbrt.fit(X_train, y_train)\n",
    "\n",
    "print(\"훈련 세트 정확도: {:.3f}\".format(gbrt.score(X_train, y_train)))\n",
    "print(\"테스트 세트 정확도: {:.3f}\".format(gbrt.score(X_test, y_test)))"
   ]
  },
  {
   "cell_type": "code",
   "execution_count": 10,
   "id": "c1730039",
   "metadata": {},
   "outputs": [],
   "source": [
    "# model : 모델\n",
    "# n_features : feature(변수의 개수)\n",
    "# feature_names : 특성의 이름\n",
    "def plot_feature_important_up(model, n_features, feature_names):\n",
    "    imp = model.feature_importances_     # feature의 중요도 \n",
    "    plt.barh(range(n_features) , imp, align='center')  # 그래프(가로 막대 그래프)\n",
    "    plt.yticks(np.arange(n_features), feature_names)  #y축의 축의 값\n",
    "    plt.xlabel(\"feature importance\")   # x축 레이블(제목)\n",
    "    plt.ylabel(\"feature\")              # y축 제목\n",
    "    plt.ylim(-1, n_features)           # y축의 범위 지정 "
   ]
  },
  {
   "cell_type": "code",
   "execution_count": 12,
   "id": "57960def",
   "metadata": {},
   "outputs": [
    {
     "data": {
      "image/png": "[encoded data removed]",
      "text/plain": [
       "<Figure size 432x288 with 1 Axes>"
      ]
     },
     "metadata": {
      "needs_background": "light"
     },
     "output_type": "display_data"
    }
   ],
   "source": [
    "gbrt = GradientBoostingClassifier(random_state=0, max_depth=1,\n",
    "                                  learning_rate=0.1)\n",
    "gbrt.fit(X_train, y_train)\n",
    "\n",
    "feature_num = X_train.shape[1]\n",
    "feature_names = cancer.feature_names\n",
    "\n",
    "plot_feature_important_up(gbrt, feature_num, feature_names)"
   ]
  },
  {
   "cell_type": "code",
   "execution_count": 13,
   "id": "325dab01",
   "metadata": {},
   "outputs": [],
   "source": [
    "import pandas as pd\n",
    "import seaborn as sns"
   ]
  },
  {
   "cell_type": "code",
   "execution_count": 15,
   "id": "199ec601",
   "metadata": {},
   "outputs": [
    {
     "data": {
      "text/plain": [
       "GradientBoostingClassifier(learning_rate=0.01, random_state=0)"
      ]
     },
     "execution_count": 15,
     "metadata": {},
     "output_type": "execute_result"
    }
   ],
   "source": [
    "gbrt = GradientBoostingClassifier(random_state=0, \n",
    "                                  learning_rate=0.01)\n",
    "gbrt.fit(X_train, y_train)"
   ]
  },
  {
   "cell_type": "code",
   "execution_count": 16,
   "id": "f08c6883",
   "metadata": {},
   "outputs": [
    {
     "data": {
      "text/plain": [
       "<AxesSubplot:title={'center':'feature importances'}>"
      ]
     },
     "execution_count": 16,
     "metadata": {},
     "output_type": "execute_result"
    },
    {
     "data": {
      "image/png": "[encoded data removed]",
      "text/plain": [
       "<Figure size 576x432 with 1 Axes>"
      ]
     },
     "metadata": {
      "needs_background": "light"
     },
     "output_type": "display_data"
    }
   ],
   "source": [
    "fea_imp_values = gbrt.feature_importances_\n",
    "importances = pd.Series(fea_imp_values, index=feature_names)\n",
    "\n",
    "plt.figure(figsize=(8,6))\n",
    "plt.title('feature importances')\n",
    "sns.barplot(x=importances, y=importances.index)"
   ]
  },
  {
   "cell_type": "markdown",
   "id": "50ebe133",
   "metadata": {},
   "source": [
    "* 그래디언트 부스팅은 일부 특성을 완전히 무시\n",
    "* 비슷한 종류의 데이터에서 보통 더 안정적인 랜덤 포레스트를 먼저 적용해본다."
   ]
  },
  {
   "cell_type": "markdown",
   "id": "21964c45",
   "metadata": {},
   "source": [
    "### 모델의 장단점\n",
    "* 단점 :\n",
    "    * 매개변수를 잘 조정해야 하며, 훈련 시간이 길다.\n",
    "* 장점 :\n",
    "    * feature의 scale(범위, 값)을 조정하지 않아도 이진특성이 연속적인 특성에서 잘 동작\n",
    "    * feature의 스케일을 조정하지 않아도 된다.\n",
    "\n",
    "### 매개변수\n",
    "* 이전트리의 오차를 보정하는 정도 조절 : learning_rate\n",
    "    * learning_rate를 낮추면 =>> 비슷한 복잡도의 모델을 만들기 위해 더 많은 트리를 추가해야 한다.\n",
    "* n_estimator가 클수록 좋다.\n",
    "* n_estimator가 크면 그래디언트 부스팅은 과적합의 가능성이 있음.\n",
    "* 트리의 복잡도를 낮추는 max_depth (또는 max_leaf_nodes)\n",
    "* 보통 부스팅 모델에서 max_depth를 매우작게 설정하며 트리의 깊이가 5보다 깊어지지 않도록 한다.\n",
    "* n_estimators를 맞춘 이후에 learning_rate를 찾는다."
   ]
  },
  {
   "cell_type": "code",
   "execution_count": null,
   "id": "3dca4385",
   "metadata": {},
   "outputs": [],
   "source": []
  }
 ],
 "metadata": {
  "kernelspec": {
   "display_name": "Python 3 (ipykernel)",
   "language": "python",
   "name": "python3"
  },
  "language_info": {
   "codemirror_mode": {
    "name": "ipython",
    "version": 3
   },
   "file_extension": ".py",
   "mimetype": "text/x-python",
   "name": "python",
   "nbconvert_exporter": "python",
   "pygments_lexer": "ipython3",
   "version": "3.8.8"
  }
 },
 "nbformat": 4,
 "nbformat_minor": 5
}
