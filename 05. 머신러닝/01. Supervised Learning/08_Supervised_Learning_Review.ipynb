{
 "cells": [
  {
   "cell_type": "markdown",
   "id": "e561f3e9",
   "metadata": {},
   "source": [
    "### 2021_10_18_1"
   ]
  },
  {
   "cell_type": "markdown",
   "id": "5d84f074",
   "metadata": {},
   "source": [
    "* os\n",
    "    * os.listdir()\n",
    "    * os.getcwd() : 현재 작업 디렉터리 확인\n",
    "\n",
    "* 시각화 : matplotlib, seaborn, folium, plotly\n",
    "* 데이터 처리 : pandas\n",
    "* 선형대수, 난수 발생, 수학함수.. 딥러닝 라이브러리 : numpy\n",
    "* scikit-learn : sklearn\n",
    "* SciPy\n",
    "* mglearn : 저자가 제작한 라이브러리."
   ]
  },
  {
   "cell_type": "markdown",
   "id": "35f73568",
   "metadata": {},
   "source": [
    "### 학습용 데이터와 테스트 데이터를 나눈 이유\n",
    "* 기본으로 75%, 25%\n",
    "* 학습용으로는 머신을 학습시키고, \n",
    "* 테스트용으로는 머신을 평가한다.\n",
    "    * 분류 모델의 model.score() : 정확도\n",
    "    * 회귀 모델의 model.score() : 결정계수(적합도) 0 ~ 1\n",
    "* from sklearn.model_selection import train_test_split\n",
    "    * 레이블이 불균형한 데이터가 있어서, stratify = cancer.target\n",
    "* 5 : 5, 6 : 4, 7 : 3, 8 : 2, 9 : 1 비율별 성능 평가"
   ]
  },
  {
   "cell_type": "markdown",
   "id": "bc64af1f",
   "metadata": {},
   "source": [
    "### 머신러닝\n",
    "* 지도학습\n",
    "* 비지도학습\n",
    "* 강화학습\n",
    "* 준지도학습\n",
    "\n",
    "* 지도학습과 비지도학습의 차이\n",
    "    * 차이점 : target이 존재하는가 존재하지 않는가?\n",
    "\n",
    "* 지도학습\n",
    "    * 분류(classification)\n",
    "    * 회귀(Regression)\n",
    "        * 우리가 예측하고자 하는 레이블이 연속형인지, 범주형인지?"
   ]
  },
  {
   "cell_type": "markdown",
   "id": "589de3ab",
   "metadata": {},
   "source": [
    "### 분류와 회귀의 머신러닝 알고리즘\n",
    "* knn 모델\n",
    "    * 기본 설명\n",
    "    * 01 k를 지정한다.\n",
    "    * 02 분류모델에 사용될 경우, 거리가 가까운 k개의 이웃을 찾고, 이들의 레이블 값을 확인하여 가장 많은 것으로 분류한다.\n",
    "\n",
    "* knn 모델 - 회귀\n",
    "    * 01 k를 지정한다.\n",
    "    * 02 회귀 모델 - 거리상 가장 가까운 k개의 이웃을 찾고, 이웃이 가르키는 예측값(y)의 평균으로 예측한다."
   ]
  },
  {
   "cell_type": "markdown",
   "id": "a7218efe",
   "metadata": {},
   "source": [
    "### 모델 파라미터, 하이퍼 파라미터\n",
    "* 모델 파라미터 : 모델이 정해주는 파라미터.\n",
    "    * 선형회귀 : 모델이 데이터를 이용해서 학습해서 정해주는 가중치나 편향이 될 수 있다.\n",
    "* 하이퍼 파라미터 : 사용자가 지정해 주는 파라미터"
   ]
  },
  {
   "cell_type": "code",
   "execution_count": null,
   "id": "bfed64d8",
   "metadata": {},
   "outputs": [],
   "source": [
    "from sklearn.neighbors import KNeighborsClassifier\n",
    "from sklearn.neighbors import KNeighborsRegressor\n",
    "from sklearn.linear_model import LinearRegression\n",
    "from sklearn.linear_model import Lasso, Ridge\n",
    "from sklearn.tree import DecisionTreeClassifier\n",
    "from sklearn.tree import DecisionTreeRegressor\n",
    "from sklearn.ensemble import RandomForestClassifier\n",
    "from sklearn.ensemble import RandomForestRegressor"
   ]
  },
  {
   "cell_type": "markdown",
   "id": "45abae03",
   "metadata": {},
   "source": [
    "### 머신러닝 모델 만들기\n",
    "* 모델 선택 및 지정 : model = 모델명(매개변수 = 0...)\n",
    "* 모델 학습 : model.fit(X_train, y_train)\n",
    "* 모델 예측 : pred = model.predict(X_test)\n",
    "* 모델 평가 : pred, y_test 비교해서 평가한다."
   ]
  },
  {
   "cell_type": "markdown",
   "id": "aac7ce9e",
   "metadata": {},
   "source": [
    "### Lasso와 Ridge의 공통점\n",
    "* 선형 회귀에서 가중치를 제한을 둔다. w의 값을 0에 가깝게 만든다.\n",
    "* 과대적합을 일반화시켜준다.\n",
    "* 매개변수(alpha)\n",
    "    * 크면 클수록 - 0에 가깝게 된다. 제한이 크다.\n",
    "    * 작으면 작을수록 - 제한이 줄어들어서 0에 가까워지는 것이 줄어든다.\n",
    "    \n",
    "### Lasso와 Ridge의 차이점\n",
    "* Lasso : w의 제한을 둔다. 어떤 가중치(w)를 0으로 만든다.\n",
    "* Ridge : w의 제한을 둔다. 가중치(w)가 0이 되는 것이 없다."
   ]
  },
  {
   "cell_type": "markdown",
   "id": "649f6077",
   "metadata": {},
   "source": [
    "### 모델 평가지표\n",
    "* 분류 : model.score() - 정확도(accuracy)\n",
    "* 회귀 : 결정계수(0 ~ 1), MSE(평균제곱오차), MAE, RMSE, RMLSE"
   ]
  },
  {
   "cell_type": "markdown",
   "id": "b39809e7",
   "metadata": {},
   "source": [
    "### 의사 결정 트리\n",
    "* 2가지로 분류한다.\n",
    "* 노드가 분기할 때 엔트로피/지니계수가 최대한 낮아지도록 모델을 만들어간다.\n",
    "* 장점 : 시각화를 통해 쉽게 이해가 가능하다.\n",
    "* 단점 : 과대적합이 일어날 수 있다.\n",
    "    * 과대적합을 어떻게 해소할 수 있을까?\n",
    "        * 첫번째 방법 : RandomForest 등의 앙상블 이용하기\n",
    "        * 두번째 방법 : max_depth에 제한을 둔다.(사전가지치기)"
   ]
  },
  {
   "cell_type": "markdown",
   "id": "2842ddfb",
   "metadata": {},
   "source": [
    "### 앙상블 기법의 RandomForest에 대해 알아보기\n",
    "* 여러 머신러닝 모델을 연결하여 만드는 기법의 대표적인 알고리즘이다.\n",
    "* 여러개의 트리를 사용하여 만드는 알고리즘이다.\n",
    "* 트리를 만드는 2가지 방법\n",
    "    * 랜덤하게 변수를 선택한다.\n",
    "    * 중복을 허용한 데이터를 추출한다.(배깅)\n",
    "        * 약간의 다른 트리를 생성하게 된다."
   ]
  },
  {
   "cell_type": "code",
   "execution_count": 7,
   "id": "703293ae",
   "metadata": {},
   "outputs": [],
   "source": [
    "from sklearn.ensemble import RandomForestRegressor\n",
    "from sklearn.datasets import make_moons\n",
    "from sklearn.model_selection import train_test_split\n",
    "import matplotlib.pyplot as plt\n",
    "import numpy as np\n",
    "import seaborn as sns"
   ]
  },
  {
   "cell_type": "code",
   "execution_count": 4,
   "id": "b5ef3802",
   "metadata": {},
   "outputs": [],
   "source": [
    "import pandas as pd\n",
    "\n",
    "train = pd.read_csv(\"./CSV/house_train.csv\")\n",
    "test = pd.read_csv(\"./CSV/house_test.csv\")"
   ]
  },
  {
   "cell_type": "code",
   "execution_count": 5,
   "id": "0c5112bc",
   "metadata": {},
   "outputs": [
    {
     "data": {
      "text/html": [
       "<div>\n",
       "<style scoped>\n",
       "    .dataframe tbody tr th:only-of-type {\n",
       "        vertical-align: middle;\n",
       "    }\n",
       "\n",
       "    .dataframe tbody tr th {\n",
       "        vertical-align: top;\n",
       "    }\n",
       "\n",
       "    .dataframe thead th {\n",
       "        text-align: right;\n",
       "    }\n",
       "</style>\n",
       "<table border=\"1\" class=\"dataframe\">\n",
       "  <thead>\n",
       "    <tr style=\"text-align: right;\">\n",
       "      <th></th>\n",
       "      <th>id</th>\n",
       "      <th>date</th>\n",
       "      <th>price</th>\n",
       "      <th>bedrooms</th>\n",
       "      <th>bathrooms</th>\n",
       "      <th>sqft_living</th>\n",
       "      <th>sqft_lot</th>\n",
       "      <th>floors</th>\n",
       "      <th>waterfront</th>\n",
       "      <th>view</th>\n",
       "      <th>...</th>\n",
       "      <th>grade</th>\n",
       "      <th>sqft_above</th>\n",
       "      <th>sqft_basement</th>\n",
       "      <th>yr_built</th>\n",
       "      <th>yr_renovated</th>\n",
       "      <th>zipcode</th>\n",
       "      <th>lat</th>\n",
       "      <th>long</th>\n",
       "      <th>sqft_living15</th>\n",
       "      <th>sqft_lot15</th>\n",
       "    </tr>\n",
       "  </thead>\n",
       "  <tbody>\n",
       "    <tr>\n",
       "      <th>0</th>\n",
       "      <td>0</td>\n",
       "      <td>20141013T000000</td>\n",
       "      <td>221900.0</td>\n",
       "      <td>3</td>\n",
       "      <td>1.0</td>\n",
       "      <td>1180</td>\n",
       "      <td>5650</td>\n",
       "      <td>1.0</td>\n",
       "      <td>0</td>\n",
       "      <td>0</td>\n",
       "      <td>...</td>\n",
       "      <td>7</td>\n",
       "      <td>1180</td>\n",
       "      <td>0</td>\n",
       "      <td>1955</td>\n",
       "      <td>0</td>\n",
       "      <td>98178</td>\n",
       "      <td>47.5112</td>\n",
       "      <td>-122.257</td>\n",
       "      <td>1340</td>\n",
       "      <td>5650</td>\n",
       "    </tr>\n",
       "    <tr>\n",
       "      <th>1</th>\n",
       "      <td>1</td>\n",
       "      <td>20150225T000000</td>\n",
       "      <td>180000.0</td>\n",
       "      <td>2</td>\n",
       "      <td>1.0</td>\n",
       "      <td>770</td>\n",
       "      <td>10000</td>\n",
       "      <td>1.0</td>\n",
       "      <td>0</td>\n",
       "      <td>0</td>\n",
       "      <td>...</td>\n",
       "      <td>6</td>\n",
       "      <td>770</td>\n",
       "      <td>0</td>\n",
       "      <td>1933</td>\n",
       "      <td>0</td>\n",
       "      <td>98028</td>\n",
       "      <td>47.7379</td>\n",
       "      <td>-122.233</td>\n",
       "      <td>2720</td>\n",
       "      <td>8062</td>\n",
       "    </tr>\n",
       "    <tr>\n",
       "      <th>2</th>\n",
       "      <td>2</td>\n",
       "      <td>20150218T000000</td>\n",
       "      <td>510000.0</td>\n",
       "      <td>3</td>\n",
       "      <td>2.0</td>\n",
       "      <td>1680</td>\n",
       "      <td>8080</td>\n",
       "      <td>1.0</td>\n",
       "      <td>0</td>\n",
       "      <td>0</td>\n",
       "      <td>...</td>\n",
       "      <td>8</td>\n",
       "      <td>1680</td>\n",
       "      <td>0</td>\n",
       "      <td>1987</td>\n",
       "      <td>0</td>\n",
       "      <td>98074</td>\n",
       "      <td>47.6168</td>\n",
       "      <td>-122.045</td>\n",
       "      <td>1800</td>\n",
       "      <td>7503</td>\n",
       "    </tr>\n",
       "  </tbody>\n",
       "</table>\n",
       "<p>3 rows × 21 columns</p>\n",
       "</div>"
      ],
      "text/plain": [
       "   id             date     price  bedrooms  bathrooms  sqft_living  sqft_lot  \\\n",
       "0   0  20141013T000000  221900.0         3        1.0         1180      5650   \n",
       "1   1  20150225T000000  180000.0         2        1.0          770     10000   \n",
       "2   2  20150218T000000  510000.0         3        2.0         1680      8080   \n",
       "\n",
       "   floors  waterfront  view  ...  grade  sqft_above  sqft_basement  yr_built  \\\n",
       "0     1.0           0     0  ...      7        1180              0      1955   \n",
       "1     1.0           0     0  ...      6         770              0      1933   \n",
       "2     1.0           0     0  ...      8        1680              0      1987   \n",
       "\n",
       "   yr_renovated  zipcode      lat     long  sqft_living15  sqft_lot15  \n",
       "0             0    98178  47.5112 -122.257           1340        5650  \n",
       "1             0    98028  47.7379 -122.233           2720        8062  \n",
       "2             0    98074  47.6168 -122.045           1800        7503  \n",
       "\n",
       "[3 rows x 21 columns]"
      ]
     },
     "execution_count": 5,
     "metadata": {},
     "output_type": "execute_result"
    }
   ],
   "source": [
    "train.head(3)"
   ]
  },
  {
   "cell_type": "code",
   "execution_count": 6,
   "id": "9915c98b",
   "metadata": {},
   "outputs": [
    {
     "name": "stdout",
     "output_type": "stream",
     "text": [
      "<class 'pandas.core.frame.DataFrame'>\n",
      "RangeIndex: 15035 entries, 0 to 15034\n",
      "Data columns (total 21 columns):\n",
      " #   Column         Non-Null Count  Dtype  \n",
      "---  ------         --------------  -----  \n",
      " 0   id             15035 non-null  int64  \n",
      " 1   date           15035 non-null  object \n",
      " 2   price          15035 non-null  float64\n",
      " 3   bedrooms       15035 non-null  int64  \n",
      " 4   bathrooms      15035 non-null  float64\n",
      " 5   sqft_living    15035 non-null  int64  \n",
      " 6   sqft_lot       15035 non-null  int64  \n",
      " 7   floors         15035 non-null  float64\n",
      " 8   waterfront     15035 non-null  int64  \n",
      " 9   view           15035 non-null  int64  \n",
      " 10  condition      15035 non-null  int64  \n",
      " 11  grade          15035 non-null  int64  \n",
      " 12  sqft_above     15035 non-null  int64  \n",
      " 13  sqft_basement  15035 non-null  int64  \n",
      " 14  yr_built       15035 non-null  int64  \n",
      " 15  yr_renovated   15035 non-null  int64  \n",
      " 16  zipcode        15035 non-null  int64  \n",
      " 17  lat            15035 non-null  float64\n",
      " 18  long           15035 non-null  float64\n",
      " 19  sqft_living15  15035 non-null  int64  \n",
      " 20  sqft_lot15     15035 non-null  int64  \n",
      "dtypes: float64(5), int64(15), object(1)\n",
      "memory usage: 2.4+ MB\n"
     ]
    }
   ],
   "source": [
    "train.info()"
   ]
  },
  {
   "cell_type": "code",
   "execution_count": 8,
   "id": "a1d94b36",
   "metadata": {},
   "outputs": [
    {
     "data": {
      "text/plain": [
       "((15035, 21), (6555, 20))"
      ]
     },
     "execution_count": 8,
     "metadata": {},
     "output_type": "execute_result"
    }
   ],
   "source": [
    "train.shape, test.shape"
   ]
  },
  {
   "cell_type": "code",
   "execution_count": 9,
   "id": "da1208ea",
   "metadata": {},
   "outputs": [
    {
     "data": {
      "text/plain": [
       "(array([1.3258e+04, 1.4770e+03, 2.1000e+02, 6.4000e+01, 1.8000e+01,\n",
       "        1.0000e+00, 3.0000e+00, 1.0000e+00, 1.0000e+00, 2.0000e+00]),\n",
       " array([  78000.,  840200., 1602400., 2364600., 3126800., 3889000.,\n",
       "        4651200., 5413400., 6175600., 6937800., 7700000.]),\n",
       " <BarContainer object of 10 artists>)"
      ]
     },
     "execution_count": 9,
     "metadata": {},
     "output_type": "execute_result"
    },
    {
     "data": {
      "image/png": "[encoded data removed]",
      "text/plain": [
       "<Figure size 432x288 with 1 Axes>"
      ]
     },
     "metadata": {
      "needs_background": "light"
     },
     "output_type": "display_data"
    }
   ],
   "source": [
    "plt.hist(train.price)"
   ]
  },
  {
   "cell_type": "code",
   "execution_count": 12,
   "id": "32f7bc53",
   "metadata": {},
   "outputs": [
    {
     "name": "stdout",
     "output_type": "stream",
     "text": [
      "침실의 수 : \n",
      " [ 3  2  5  4  6  1  7  9  8  0 10] [4 3 2 5 6 1 0 7 8 9]\n",
      "\n",
      "화장실의 수 : \n",
      " [1.   2.   2.25 1.5  2.5  1.75 3.   2.75 3.25 4.   3.5  0.75 4.75 5.\n",
      " 4.25 4.5  3.75 5.25 6.   1.25 0.5  5.5  6.75 5.75 0.   8.   7.5  7.75\n",
      " 6.25] [4.5  2.5  3.   1.   1.75 2.   2.25 3.25 4.   1.5  3.5  2.75 0.75 5.\n",
      " 4.25 0.   1.25 3.75 4.75 5.5  5.25 6.   0.5  6.5 ]\n",
      "\n",
      "집의 층수 : \n",
      " [1.  2.  1.5 3.  2.5 3.5] [1.  2.  1.5 3.  2.5 3.5]\n",
      "\n",
      "집의 전방에 강이 흐르는지 유무 : \n",
      " [0 1] [0 1]\n",
      "\n",
      "집이 얼마나 좋아 보이는지의 정도 : \n",
      " [0 3 4 2 1] [0 3 2 4 1]\n",
      "\n",
      "집의 전반적인 상태 : \n",
      " [3 4 5 2 1] [3 4 2 5 1]\n",
      "\n",
      "King County grading 시스템 기준으로 매긴 집의 등급 : \n",
      " [ 7  6  8  9 10 11 12  5  4  3 13  1] [11  7  9  8  6 10  5  4 12 13  1]\n",
      "\n",
      "위도 범위 : \n",
      " 47.1559 47.7776\n",
      "\n",
      "위도 범위 : \n",
      " 47.1593 47.7776\n",
      "\n",
      "경도 범위 : \n",
      " -122.519 -121.315\n",
      "\n",
      "경도 범위 : \n",
      " -122.515 -121.315\n",
      "\n"
     ]
    }
   ],
   "source": [
    "print(\"침실의 수 : \\n\",\n",
    "      train['bedrooms'].unique(), test['bedrooms'].unique(), end='\\n\\n' )\n",
    "print(\"화장실의 수 : \\n\",\n",
    "      train['bathrooms'].unique(), test['bathrooms'].unique(), end='\\n\\n' )\n",
    "print(\"집의 층수 : \\n\", train['floors'].unique(), test['floors'].unique(),\n",
    "      end='\\n\\n' )\n",
    "print(\"집의 전방에 강이 흐르는지 유무 : \\n\", \n",
    "      train['waterfront'].unique(), test['waterfront'].unique(), end='\\n\\n' )\n",
    "print(\"집이 얼마나 좋아 보이는지의 정도 : \\n\", \n",
    "      train['view'].unique(), test['view'].unique(), end='\\n\\n' )\n",
    "print(\"집의 전반적인 상태 : \\n\", \n",
    "      train['condition'].unique(), test['condition'].unique(), end='\\n\\n' )\n",
    "print(\"King County grading 시스템 기준으로 매긴 집의 등급 : \\n\", \n",
    "      train['grade'].unique(), test['grade'].unique(), end='\\n\\n' )\n",
    "print(\"위도 범위 : \\n\", \n",
    "      train['lat'].min(), train['lat'].max(), end='\\n\\n' )\n",
    "print(\"위도 범위 : \\n\", \n",
    "      test['lat'].min(), test['lat'].max(), end='\\n\\n' )\n",
    "\n",
    "print(\"경도 범위 : \\n\", \n",
    "      train['long'].min(), train['long'].max(), end='\\n\\n' )\n",
    "print(\"경도 범위 : \\n\", \n",
    "      test['long'].min(), test['long'].max(), end='\\n\\n' )"
   ]
  },
  {
   "cell_type": "code",
   "execution_count": 16,
   "id": "681605f9",
   "metadata": {},
   "outputs": [
    {
     "data": {
      "text/html": [
       "<div>\n",
       "<style scoped>\n",
       "    .dataframe tbody tr th:only-of-type {\n",
       "        vertical-align: middle;\n",
       "    }\n",
       "\n",
       "    .dataframe tbody tr th {\n",
       "        vertical-align: top;\n",
       "    }\n",
       "\n",
       "    .dataframe thead th {\n",
       "        text-align: right;\n",
       "    }\n",
       "</style>\n",
       "<table border=\"1\" class=\"dataframe\">\n",
       "  <thead>\n",
       "    <tr style=\"text-align: right;\">\n",
       "      <th></th>\n",
       "      <th>id</th>\n",
       "      <th>price</th>\n",
       "      <th>bedrooms</th>\n",
       "      <th>bathrooms</th>\n",
       "      <th>sqft_living</th>\n",
       "      <th>sqft_lot</th>\n",
       "      <th>floors</th>\n",
       "      <th>waterfront</th>\n",
       "      <th>view</th>\n",
       "      <th>condition</th>\n",
       "      <th>grade</th>\n",
       "      <th>sqft_above</th>\n",
       "      <th>sqft_basement</th>\n",
       "      <th>yr_built</th>\n",
       "      <th>yr_renovated</th>\n",
       "      <th>zipcode</th>\n",
       "      <th>lat</th>\n",
       "      <th>long</th>\n",
       "      <th>sqft_living15</th>\n",
       "      <th>sqft_lot15</th>\n",
       "    </tr>\n",
       "  </thead>\n",
       "  <tbody>\n",
       "    <tr>\n",
       "      <th>id</th>\n",
       "      <td>1.000000</td>\n",
       "      <td>0.020899</td>\n",
       "      <td>0.010520</td>\n",
       "      <td>0.104030</td>\n",
       "      <td>0.041725</td>\n",
       "      <td>-0.034077</td>\n",
       "      <td>0.182848</td>\n",
       "      <td>-0.011775</td>\n",
       "      <td>-0.024360</td>\n",
       "      <td>-0.101618</td>\n",
       "      <td>0.078622</td>\n",
       "      <td>0.073086</td>\n",
       "      <td>-0.050634</td>\n",
       "      <td>0.202477</td>\n",
       "      <td>-0.029810</td>\n",
       "      <td>-0.005761</td>\n",
       "      <td>0.002588</td>\n",
       "      <td>0.014757</td>\n",
       "      <td>0.029248</td>\n",
       "      <td>-0.032269</td>\n",
       "    </tr>\n",
       "    <tr>\n",
       "      <th>price</th>\n",
       "      <td>0.020899</td>\n",
       "      <td>1.000000</td>\n",
       "      <td>0.323672</td>\n",
       "      <td>0.525479</td>\n",
       "      <td>0.702899</td>\n",
       "      <td>0.096793</td>\n",
       "      <td>0.262588</td>\n",
       "      <td>0.265738</td>\n",
       "      <td>0.400806</td>\n",
       "      <td>0.039740</td>\n",
       "      <td>0.667211</td>\n",
       "      <td>0.608577</td>\n",
       "      <td>0.322218</td>\n",
       "      <td>0.047290</td>\n",
       "      <td>0.140808</td>\n",
       "      <td>-0.051498</td>\n",
       "      <td>0.301604</td>\n",
       "      <td>0.023547</td>\n",
       "      <td>0.586419</td>\n",
       "      <td>0.086384</td>\n",
       "    </tr>\n",
       "    <tr>\n",
       "      <th>bedrooms</th>\n",
       "      <td>0.010520</td>\n",
       "      <td>0.323672</td>\n",
       "      <td>1.000000</td>\n",
       "      <td>0.530548</td>\n",
       "      <td>0.596974</td>\n",
       "      <td>0.033475</td>\n",
       "      <td>0.189532</td>\n",
       "      <td>-0.004819</td>\n",
       "      <td>0.085703</td>\n",
       "      <td>0.034885</td>\n",
       "      <td>0.375286</td>\n",
       "      <td>0.494867</td>\n",
       "      <td>0.315183</td>\n",
       "      <td>0.158799</td>\n",
       "      <td>0.022729</td>\n",
       "      <td>-0.162081</td>\n",
       "      <td>-0.011190</td>\n",
       "      <td>0.135802</td>\n",
       "      <td>0.407394</td>\n",
       "      <td>0.027242</td>\n",
       "    </tr>\n",
       "    <tr>\n",
       "      <th>bathrooms</th>\n",
       "      <td>0.104030</td>\n",
       "      <td>0.525479</td>\n",
       "      <td>0.530548</td>\n",
       "      <td>1.000000</td>\n",
       "      <td>0.755853</td>\n",
       "      <td>0.089308</td>\n",
       "      <td>0.508649</td>\n",
       "      <td>0.075452</td>\n",
       "      <td>0.187488</td>\n",
       "      <td>-0.125907</td>\n",
       "      <td>0.666278</td>\n",
       "      <td>0.688255</td>\n",
       "      <td>0.282642</td>\n",
       "      <td>0.503964</td>\n",
       "      <td>0.065423</td>\n",
       "      <td>-0.207500</td>\n",
       "      <td>0.018110</td>\n",
       "      <td>0.227669</td>\n",
       "      <td>0.573541</td>\n",
       "      <td>0.088120</td>\n",
       "    </tr>\n",
       "    <tr>\n",
       "      <th>sqft_living</th>\n",
       "      <td>0.041725</td>\n",
       "      <td>0.702899</td>\n",
       "      <td>0.596974</td>\n",
       "      <td>0.755853</td>\n",
       "      <td>1.000000</td>\n",
       "      <td>0.176500</td>\n",
       "      <td>0.363193</td>\n",
       "      <td>0.108137</td>\n",
       "      <td>0.282821</td>\n",
       "      <td>-0.054213</td>\n",
       "      <td>0.762543</td>\n",
       "      <td>0.878736</td>\n",
       "      <td>0.434017</td>\n",
       "      <td>0.315927</td>\n",
       "      <td>0.064893</td>\n",
       "      <td>-0.200745</td>\n",
       "      <td>0.051609</td>\n",
       "      <td>0.245429</td>\n",
       "      <td>0.760271</td>\n",
       "      <td>0.184176</td>\n",
       "    </tr>\n",
       "    <tr>\n",
       "      <th>sqft_lot</th>\n",
       "      <td>-0.034077</td>\n",
       "      <td>0.096793</td>\n",
       "      <td>0.033475</td>\n",
       "      <td>0.089308</td>\n",
       "      <td>0.176500</td>\n",
       "      <td>1.000000</td>\n",
       "      <td>0.001535</td>\n",
       "      <td>0.025584</td>\n",
       "      <td>0.080441</td>\n",
       "      <td>-0.002099</td>\n",
       "      <td>0.119906</td>\n",
       "      <td>0.186242</td>\n",
       "      <td>0.017818</td>\n",
       "      <td>0.058686</td>\n",
       "      <td>-0.001451</td>\n",
       "      <td>-0.127709</td>\n",
       "      <td>-0.082234</td>\n",
       "      <td>0.227451</td>\n",
       "      <td>0.147562</td>\n",
       "      <td>0.728458</td>\n",
       "    </tr>\n",
       "    <tr>\n",
       "      <th>floors</th>\n",
       "      <td>0.182848</td>\n",
       "      <td>0.262588</td>\n",
       "      <td>0.189532</td>\n",
       "      <td>0.508649</td>\n",
       "      <td>0.363193</td>\n",
       "      <td>0.001535</td>\n",
       "      <td>1.000000</td>\n",
       "      <td>0.031159</td>\n",
       "      <td>0.034511</td>\n",
       "      <td>-0.261016</td>\n",
       "      <td>0.462598</td>\n",
       "      <td>0.529476</td>\n",
       "      <td>-0.239350</td>\n",
       "      <td>0.490436</td>\n",
       "      <td>0.009752</td>\n",
       "      <td>-0.059107</td>\n",
       "      <td>0.049004</td>\n",
       "      <td>0.126983</td>\n",
       "      <td>0.287125</td>\n",
       "      <td>-0.010287</td>\n",
       "    </tr>\n",
       "    <tr>\n",
       "      <th>waterfront</th>\n",
       "      <td>-0.011775</td>\n",
       "      <td>0.265738</td>\n",
       "      <td>-0.004819</td>\n",
       "      <td>0.075452</td>\n",
       "      <td>0.108137</td>\n",
       "      <td>0.025584</td>\n",
       "      <td>0.031159</td>\n",
       "      <td>1.000000</td>\n",
       "      <td>0.389669</td>\n",
       "      <td>0.011613</td>\n",
       "      <td>0.088061</td>\n",
       "      <td>0.081968</td>\n",
       "      <td>0.071576</td>\n",
       "      <td>-0.026523</td>\n",
       "      <td>0.104168</td>\n",
       "      <td>0.028632</td>\n",
       "      <td>-0.014772</td>\n",
       "      <td>-0.037922</td>\n",
       "      <td>0.091810</td>\n",
       "      <td>0.028255</td>\n",
       "    </tr>\n",
       "    <tr>\n",
       "      <th>view</th>\n",
       "      <td>-0.024360</td>\n",
       "      <td>0.400806</td>\n",
       "      <td>0.085703</td>\n",
       "      <td>0.187488</td>\n",
       "      <td>0.282821</td>\n",
       "      <td>0.080441</td>\n",
       "      <td>0.034511</td>\n",
       "      <td>0.389669</td>\n",
       "      <td>1.000000</td>\n",
       "      <td>0.045255</td>\n",
       "      <td>0.247924</td>\n",
       "      <td>0.172693</td>\n",
       "      <td>0.265880</td>\n",
       "      <td>-0.061670</td>\n",
       "      <td>0.107605</td>\n",
       "      <td>0.089247</td>\n",
       "      <td>0.005285</td>\n",
       "      <td>-0.073151</td>\n",
       "      <td>0.278267</td>\n",
       "      <td>0.076501</td>\n",
       "    </tr>\n",
       "    <tr>\n",
       "      <th>condition</th>\n",
       "      <td>-0.101618</td>\n",
       "      <td>0.039740</td>\n",
       "      <td>0.034885</td>\n",
       "      <td>-0.125907</td>\n",
       "      <td>-0.054213</td>\n",
       "      <td>-0.002099</td>\n",
       "      <td>-0.261016</td>\n",
       "      <td>0.011613</td>\n",
       "      <td>0.045255</td>\n",
       "      <td>1.000000</td>\n",
       "      <td>-0.143599</td>\n",
       "      <td>-0.152856</td>\n",
       "      <td>0.175064</td>\n",
       "      <td>-0.366590</td>\n",
       "      <td>-0.062342</td>\n",
       "      <td>0.001106</td>\n",
       "      <td>-0.015974</td>\n",
       "      <td>-0.110742</td>\n",
       "      <td>-0.091407</td>\n",
       "      <td>-0.003873</td>\n",
       "    </tr>\n",
       "    <tr>\n",
       "      <th>grade</th>\n",
       "      <td>0.078622</td>\n",
       "      <td>0.667211</td>\n",
       "      <td>0.375286</td>\n",
       "      <td>0.666278</td>\n",
       "      <td>0.762543</td>\n",
       "      <td>0.119906</td>\n",
       "      <td>0.462598</td>\n",
       "      <td>0.088061</td>\n",
       "      <td>0.247924</td>\n",
       "      <td>-0.143599</td>\n",
       "      <td>1.000000</td>\n",
       "      <td>0.759240</td>\n",
       "      <td>0.162657</td>\n",
       "      <td>0.440608</td>\n",
       "      <td>0.030155</td>\n",
       "      <td>-0.186541</td>\n",
       "      <td>0.112319</td>\n",
       "      <td>0.202130</td>\n",
       "      <td>0.715321</td>\n",
       "      <td>0.119734</td>\n",
       "    </tr>\n",
       "    <tr>\n",
       "      <th>sqft_above</th>\n",
       "      <td>0.073086</td>\n",
       "      <td>0.608577</td>\n",
       "      <td>0.494867</td>\n",
       "      <td>0.688255</td>\n",
       "      <td>0.878736</td>\n",
       "      <td>0.186242</td>\n",
       "      <td>0.529476</td>\n",
       "      <td>0.081968</td>\n",
       "      <td>0.172693</td>\n",
       "      <td>-0.152856</td>\n",
       "      <td>0.759240</td>\n",
       "      <td>1.000000</td>\n",
       "      <td>-0.048623</td>\n",
       "      <td>0.422431</td>\n",
       "      <td>0.031441</td>\n",
       "      <td>-0.258474</td>\n",
       "      <td>0.001074</td>\n",
       "      <td>0.347226</td>\n",
       "      <td>0.737795</td>\n",
       "      <td>0.194226</td>\n",
       "    </tr>\n",
       "    <tr>\n",
       "      <th>sqft_basement</th>\n",
       "      <td>-0.050634</td>\n",
       "      <td>0.322218</td>\n",
       "      <td>0.315183</td>\n",
       "      <td>0.282642</td>\n",
       "      <td>0.434017</td>\n",
       "      <td>0.017818</td>\n",
       "      <td>-0.239350</td>\n",
       "      <td>0.071576</td>\n",
       "      <td>0.265880</td>\n",
       "      <td>0.175064</td>\n",
       "      <td>0.162657</td>\n",
       "      <td>-0.048623</td>\n",
       "      <td>1.000000</td>\n",
       "      <td>-0.136214</td>\n",
       "      <td>0.076452</td>\n",
       "      <td>0.067782</td>\n",
       "      <td>0.105969</td>\n",
       "      <td>-0.141792</td>\n",
       "      <td>0.198380</td>\n",
       "      <td>0.018813</td>\n",
       "    </tr>\n",
       "    <tr>\n",
       "      <th>yr_built</th>\n",
       "      <td>0.202477</td>\n",
       "      <td>0.047290</td>\n",
       "      <td>0.158799</td>\n",
       "      <td>0.503964</td>\n",
       "      <td>0.315927</td>\n",
       "      <td>0.058686</td>\n",
       "      <td>0.490436</td>\n",
       "      <td>-0.026523</td>\n",
       "      <td>-0.061670</td>\n",
       "      <td>-0.366590</td>\n",
       "      <td>0.440608</td>\n",
       "      <td>0.422431</td>\n",
       "      <td>-0.136214</td>\n",
       "      <td>1.000000</td>\n",
       "      <td>-0.215760</td>\n",
       "      <td>-0.354280</td>\n",
       "      <td>-0.156563</td>\n",
       "      <td>0.414565</td>\n",
       "      <td>0.324221</td>\n",
       "      <td>0.076009</td>\n",
       "    </tr>\n",
       "    <tr>\n",
       "      <th>yr_renovated</th>\n",
       "      <td>-0.029810</td>\n",
       "      <td>0.140808</td>\n",
       "      <td>0.022729</td>\n",
       "      <td>0.065423</td>\n",
       "      <td>0.064893</td>\n",
       "      <td>-0.001451</td>\n",
       "      <td>0.009752</td>\n",
       "      <td>0.104168</td>\n",
       "      <td>0.107605</td>\n",
       "      <td>-0.062342</td>\n",
       "      <td>0.030155</td>\n",
       "      <td>0.031441</td>\n",
       "      <td>0.076452</td>\n",
       "      <td>-0.215760</td>\n",
       "      <td>1.000000</td>\n",
       "      <td>0.068307</td>\n",
       "      <td>0.034844</td>\n",
       "      <td>-0.070134</td>\n",
       "      <td>0.007995</td>\n",
       "      <td>-0.000348</td>\n",
       "    </tr>\n",
       "    <tr>\n",
       "      <th>zipcode</th>\n",
       "      <td>-0.005761</td>\n",
       "      <td>-0.051498</td>\n",
       "      <td>-0.162081</td>\n",
       "      <td>-0.207500</td>\n",
       "      <td>-0.200745</td>\n",
       "      <td>-0.127709</td>\n",
       "      <td>-0.059107</td>\n",
       "      <td>0.028632</td>\n",
       "      <td>0.089247</td>\n",
       "      <td>0.001106</td>\n",
       "      <td>-0.186541</td>\n",
       "      <td>-0.258474</td>\n",
       "      <td>0.067782</td>\n",
       "      <td>-0.354280</td>\n",
       "      <td>0.068307</td>\n",
       "      <td>1.000000</td>\n",
       "      <td>0.261312</td>\n",
       "      <td>-0.563455</td>\n",
       "      <td>-0.274176</td>\n",
       "      <td>-0.145710</td>\n",
       "    </tr>\n",
       "    <tr>\n",
       "      <th>lat</th>\n",
       "      <td>0.002588</td>\n",
       "      <td>0.301604</td>\n",
       "      <td>-0.011190</td>\n",
       "      <td>0.018110</td>\n",
       "      <td>0.051609</td>\n",
       "      <td>-0.082234</td>\n",
       "      <td>0.049004</td>\n",
       "      <td>-0.014772</td>\n",
       "      <td>0.005285</td>\n",
       "      <td>-0.015974</td>\n",
       "      <td>0.112319</td>\n",
       "      <td>0.001074</td>\n",
       "      <td>0.105969</td>\n",
       "      <td>-0.156563</td>\n",
       "      <td>0.034844</td>\n",
       "      <td>0.261312</td>\n",
       "      <td>1.000000</td>\n",
       "      <td>-0.133460</td>\n",
       "      <td>0.048924</td>\n",
       "      <td>-0.081725</td>\n",
       "    </tr>\n",
       "    <tr>\n",
       "      <th>long</th>\n",
       "      <td>0.014757</td>\n",
       "      <td>0.023547</td>\n",
       "      <td>0.135802</td>\n",
       "      <td>0.227669</td>\n",
       "      <td>0.245429</td>\n",
       "      <td>0.227451</td>\n",
       "      <td>0.126983</td>\n",
       "      <td>-0.037922</td>\n",
       "      <td>-0.073151</td>\n",
       "      <td>-0.110742</td>\n",
       "      <td>0.202130</td>\n",
       "      <td>0.347226</td>\n",
       "      <td>-0.141792</td>\n",
       "      <td>0.414565</td>\n",
       "      <td>-0.070134</td>\n",
       "      <td>-0.563455</td>\n",
       "      <td>-0.133460</td>\n",
       "      <td>1.000000</td>\n",
       "      <td>0.333673</td>\n",
       "      <td>0.256201</td>\n",
       "    </tr>\n",
       "    <tr>\n",
       "      <th>sqft_living15</th>\n",
       "      <td>0.029248</td>\n",
       "      <td>0.586419</td>\n",
       "      <td>0.407394</td>\n",
       "      <td>0.573541</td>\n",
       "      <td>0.760271</td>\n",
       "      <td>0.147562</td>\n",
       "      <td>0.287125</td>\n",
       "      <td>0.091810</td>\n",
       "      <td>0.278267</td>\n",
       "      <td>-0.091407</td>\n",
       "      <td>0.715321</td>\n",
       "      <td>0.737795</td>\n",
       "      <td>0.198380</td>\n",
       "      <td>0.324221</td>\n",
       "      <td>0.007995</td>\n",
       "      <td>-0.274176</td>\n",
       "      <td>0.048924</td>\n",
       "      <td>0.333673</td>\n",
       "      <td>1.000000</td>\n",
       "      <td>0.183599</td>\n",
       "    </tr>\n",
       "    <tr>\n",
       "      <th>sqft_lot15</th>\n",
       "      <td>-0.032269</td>\n",
       "      <td>0.086384</td>\n",
       "      <td>0.027242</td>\n",
       "      <td>0.088120</td>\n",
       "      <td>0.184176</td>\n",
       "      <td>0.728458</td>\n",
       "      <td>-0.010287</td>\n",
       "      <td>0.028255</td>\n",
       "      <td>0.076501</td>\n",
       "      <td>-0.003873</td>\n",
       "      <td>0.119734</td>\n",
       "      <td>0.194226</td>\n",
       "      <td>0.018813</td>\n",
       "      <td>0.076009</td>\n",
       "      <td>-0.000348</td>\n",
       "      <td>-0.145710</td>\n",
       "      <td>-0.081725</td>\n",
       "      <td>0.256201</td>\n",
       "      <td>0.183599</td>\n",
       "      <td>1.000000</td>\n",
       "    </tr>\n",
       "  </tbody>\n",
       "</table>\n",
       "</div>"
      ],
      "text/plain": [
       "                     id     price  bedrooms  bathrooms  sqft_living  sqft_lot  \\\n",
       "id             1.000000  0.020899  0.010520   0.104030     0.041725 -0.034077   \n",
       "price          0.020899  1.000000  0.323672   0.525479     0.702899  0.096793   \n",
       "bedrooms       0.010520  0.323672  1.000000   0.530548     0.596974  0.033475   \n",
       "bathrooms      0.104030  0.525479  0.530548   1.000000     0.755853  0.089308   \n",
       "sqft_living    0.041725  0.702899  0.596974   0.755853     1.000000  0.176500   \n",
       "sqft_lot      -0.034077  0.096793  0.033475   0.089308     0.176500  1.000000   \n",
       "floors         0.182848  0.262588  0.189532   0.508649     0.363193  0.001535   \n",
       "waterfront    -0.011775  0.265738 -0.004819   0.075452     0.108137  0.025584   \n",
       "view          -0.024360  0.400806  0.085703   0.187488     0.282821  0.080441   \n",
       "condition     -0.101618  0.039740  0.034885  -0.125907    -0.054213 -0.002099   \n",
       "grade          0.078622  0.667211  0.375286   0.666278     0.762543  0.119906   \n",
       "sqft_above     0.073086  0.608577  0.494867   0.688255     0.878736  0.186242   \n",
       "sqft_basement -0.050634  0.322218  0.315183   0.282642     0.434017  0.017818   \n",
       "yr_built       0.202477  0.047290  0.158799   0.503964     0.315927  0.058686   \n",
       "yr_renovated  -0.029810  0.140808  0.022729   0.065423     0.064893 -0.001451   \n",
       "zipcode       -0.005761 -0.051498 -0.162081  -0.207500    -0.200745 -0.127709   \n",
       "lat            0.002588  0.301604 -0.011190   0.018110     0.051609 -0.082234   \n",
       "long           0.014757  0.023547  0.135802   0.227669     0.245429  0.227451   \n",
       "sqft_living15  0.029248  0.586419  0.407394   0.573541     0.760271  0.147562   \n",
       "sqft_lot15    -0.032269  0.086384  0.027242   0.088120     0.184176  0.728458   \n",
       "\n",
       "                 floors  waterfront      view  condition     grade  \\\n",
       "id             0.182848   -0.011775 -0.024360  -0.101618  0.078622   \n",
       "price          0.262588    0.265738  0.400806   0.039740  0.667211   \n",
       "bedrooms       0.189532   -0.004819  0.085703   0.034885  0.375286   \n",
       "bathrooms      0.508649    0.075452  0.187488  -0.125907  0.666278   \n",
       "sqft_living    0.363193    0.108137  0.282821  -0.054213  0.762543   \n",
       "sqft_lot       0.001535    0.025584  0.080441  -0.002099  0.119906   \n",
       "floors         1.000000    0.031159  0.034511  -0.261016  0.462598   \n",
       "waterfront     0.031159    1.000000  0.389669   0.011613  0.088061   \n",
       "view           0.034511    0.389669  1.000000   0.045255  0.247924   \n",
       "condition     -0.261016    0.011613  0.045255   1.000000 -0.143599   \n",
       "grade          0.462598    0.088061  0.247924  -0.143599  1.000000   \n",
       "sqft_above     0.529476    0.081968  0.172693  -0.152856  0.759240   \n",
       "sqft_basement -0.239350    0.071576  0.265880   0.175064  0.162657   \n",
       "yr_built       0.490436   -0.026523 -0.061670  -0.366590  0.440608   \n",
       "yr_renovated   0.009752    0.104168  0.107605  -0.062342  0.030155   \n",
       "zipcode       -0.059107    0.028632  0.089247   0.001106 -0.186541   \n",
       "lat            0.049004   -0.014772  0.005285  -0.015974  0.112319   \n",
       "long           0.126983   -0.037922 -0.073151  -0.110742  0.202130   \n",
       "sqft_living15  0.287125    0.091810  0.278267  -0.091407  0.715321   \n",
       "sqft_lot15    -0.010287    0.028255  0.076501  -0.003873  0.119734   \n",
       "\n",
       "               sqft_above  sqft_basement  yr_built  yr_renovated   zipcode  \\\n",
       "id               0.073086      -0.050634  0.202477     -0.029810 -0.005761   \n",
       "price            0.608577       0.322218  0.047290      0.140808 -0.051498   \n",
       "bedrooms         0.494867       0.315183  0.158799      0.022729 -0.162081   \n",
       "bathrooms        0.688255       0.282642  0.503964      0.065423 -0.207500   \n",
       "sqft_living      0.878736       0.434017  0.315927      0.064893 -0.200745   \n",
       "sqft_lot         0.186242       0.017818  0.058686     -0.001451 -0.127709   \n",
       "floors           0.529476      -0.239350  0.490436      0.009752 -0.059107   \n",
       "waterfront       0.081968       0.071576 -0.026523      0.104168  0.028632   \n",
       "view             0.172693       0.265880 -0.061670      0.107605  0.089247   \n",
       "condition       -0.152856       0.175064 -0.366590     -0.062342  0.001106   \n",
       "grade            0.759240       0.162657  0.440608      0.030155 -0.186541   \n",
       "sqft_above       1.000000      -0.048623  0.422431      0.031441 -0.258474   \n",
       "sqft_basement   -0.048623       1.000000 -0.136214      0.076452  0.067782   \n",
       "yr_built         0.422431      -0.136214  1.000000     -0.215760 -0.354280   \n",
       "yr_renovated     0.031441       0.076452 -0.215760      1.000000  0.068307   \n",
       "zipcode         -0.258474       0.067782 -0.354280      0.068307  1.000000   \n",
       "lat              0.001074       0.105969 -0.156563      0.034844  0.261312   \n",
       "long             0.347226      -0.141792  0.414565     -0.070134 -0.563455   \n",
       "sqft_living15    0.737795       0.198380  0.324221      0.007995 -0.274176   \n",
       "sqft_lot15       0.194226       0.018813  0.076009     -0.000348 -0.145710   \n",
       "\n",
       "                    lat      long  sqft_living15  sqft_lot15  \n",
       "id             0.002588  0.014757       0.029248   -0.032269  \n",
       "price          0.301604  0.023547       0.586419    0.086384  \n",
       "bedrooms      -0.011190  0.135802       0.407394    0.027242  \n",
       "bathrooms      0.018110  0.227669       0.573541    0.088120  \n",
       "sqft_living    0.051609  0.245429       0.760271    0.184176  \n",
       "sqft_lot      -0.082234  0.227451       0.147562    0.728458  \n",
       "floors         0.049004  0.126983       0.287125   -0.010287  \n",
       "waterfront    -0.014772 -0.037922       0.091810    0.028255  \n",
       "view           0.005285 -0.073151       0.278267    0.076501  \n",
       "condition     -0.015974 -0.110742      -0.091407   -0.003873  \n",
       "grade          0.112319  0.202130       0.715321    0.119734  \n",
       "sqft_above     0.001074  0.347226       0.737795    0.194226  \n",
       "sqft_basement  0.105969 -0.141792       0.198380    0.018813  \n",
       "yr_built      -0.156563  0.414565       0.324221    0.076009  \n",
       "yr_renovated   0.034844 -0.070134       0.007995   -0.000348  \n",
       "zipcode        0.261312 -0.563455      -0.274176   -0.145710  \n",
       "lat            1.000000 -0.133460       0.048924   -0.081725  \n",
       "long          -0.133460  1.000000       0.333673    0.256201  \n",
       "sqft_living15  0.048924  0.333673       1.000000    0.183599  \n",
       "sqft_lot15    -0.081725  0.256201       0.183599    1.000000  "
      ]
     },
     "execution_count": 16,
     "metadata": {},
     "output_type": "execute_result"
    }
   ],
   "source": [
    "train.corr()"
   ]
  },
  {
   "cell_type": "code",
   "execution_count": 14,
   "id": "b39f875d",
   "metadata": {},
   "outputs": [],
   "source": [
    "sel = [\"condition\", \"floors\", \"lat\", \"long\"]\n",
    "X = train[sel]\n",
    "y = train[\"price\"]\n",
    "\n",
    "X_train, X_test, y_train, y_test = train_test_split(X, y, random_state = 42)"
   ]
  },
  {
   "cell_type": "code",
   "execution_count": 15,
   "id": "b2455725",
   "metadata": {},
   "outputs": [],
   "source": [
    "### 3개 모델\n",
    "from sklearn.neighbors import KNeighborsRegressor\n",
    "from sklearn.linear_model import LinearRegression\n",
    "from sklearn.ensemble import RandomForestRegressor"
   ]
  },
  {
   "cell_type": "code",
   "execution_count": 23,
   "id": "7674f26b",
   "metadata": {},
   "outputs": [
    {
     "name": "stdout",
     "output_type": "stream",
     "text": [
      "0.4684276490243474\n"
     ]
    },
    {
     "name": "stderr",
     "output_type": "stream",
     "text": [
      "/Users/seungwoomun/opt/anaconda3/envs/likelion/lib/python3.8/site-packages/sklearn/base.py:441: UserWarning: X does not have valid feature names, but KNeighborsRegressor was fitted with feature names\n",
      "  warnings.warn(\n",
      "/Users/seungwoomun/opt/anaconda3/envs/likelion/lib/python3.8/site-packages/sklearn/base.py:441: UserWarning: X does not have valid feature names, but KNeighborsRegressor was fitted with feature names\n",
      "  warnings.warn(\n"
     ]
    }
   ],
   "source": [
    "knn = KNeighborsRegressor(n_neighbors = 3)\n",
    "knn.fit(X_train, y_train)\n",
    "pred = knn.predict(X_test)\n",
    "\n",
    "print(knn.score(X_test, y_test)) # 결정계수"
   ]
  },
  {
   "cell_type": "code",
   "execution_count": 24,
   "id": "f3a0d337",
   "metadata": {},
   "outputs": [
    {
     "name": "stdout",
     "output_type": "stream",
     "text": [
      "65922009736.41746\n"
     ]
    }
   ],
   "source": [
    "def MSE(real, pred) :\n",
    "    return (1 / len(real)) * np.sum((real - pred) ** 2)\n",
    "\n",
    "print(MSE(y_test, pred))"
   ]
  },
  {
   "cell_type": "code",
   "execution_count": 25,
   "id": "27f941a7",
   "metadata": {},
   "outputs": [
    {
     "name": "stdout",
     "output_type": "stream",
     "text": [
      "65922009736.41746 256752.8183611963\n"
     ]
    }
   ],
   "source": [
    "from sklearn.metrics import mean_squared_error\n",
    "mse = mean_squared_error(y_test, pred)\n",
    "rmse = np.sqrt(mse)\n",
    "print(mse, rmse)"
   ]
  },
  {
   "cell_type": "code",
   "execution_count": 26,
   "id": "6acb3416",
   "metadata": {},
   "outputs": [
    {
     "name": "stdout",
     "output_type": "stream",
     "text": [
      "65922009736.41746\n",
      "256752.8183611963\n"
     ]
    }
   ],
   "source": [
    "mse_val =  ( (pred - y_test) ** 2 ).sum() / len(pred)\n",
    "print( mse_val )  # mse\n",
    "print( mse_val ** 0.5 )   # rmse"
   ]
  },
  {
   "cell_type": "code",
   "execution_count": 27,
   "id": "6d526382",
   "metadata": {},
   "outputs": [
    {
     "name": "stdout",
     "output_type": "stream",
     "text": [
      "0.18561260970671156\n"
     ]
    }
   ],
   "source": [
    "lr_model = LinearRegression()\n",
    "lr_model.fit(X_train, y_train)\n",
    "pred = lr_model.predict(X_test)\n",
    "\n",
    "print(lr_model.score(X_test, y_test))"
   ]
  },
  {
   "cell_type": "code",
   "execution_count": 28,
   "id": "6c5c812c",
   "metadata": {},
   "outputs": [
    {
     "name": "stdout",
     "output_type": "stream",
     "text": [
      "100994819188.00688\n",
      "317796.82060714025\n"
     ]
    }
   ],
   "source": [
    "mse_val =  ( (pred - y_test) ** 2 ).sum() / len(pred)\n",
    "print( mse_val )  # mse\n",
    "print( mse_val ** 0.5 )   # rmse"
   ]
  },
  {
   "cell_type": "code",
   "execution_count": 41,
   "id": "6293f378",
   "metadata": {},
   "outputs": [
    {
     "name": "stdout",
     "output_type": "stream",
     "text": [
      "0.6102048472172175\n",
      "CPU times: user 18.9 s, sys: 1.1 s, total: 20 s\n",
      "Wall time: 3.01 s\n"
     ]
    }
   ],
   "source": [
    "%%time\n",
    "\n",
    "rf_model = RandomForestRegressor(random_state = 0,\n",
    "                                n_estimators = 500,\n",
    "                                n_jobs = -1)\n",
    "rf_model.fit(X_train, y_train)\n",
    "pred = rf_model.predict(X_test)\n",
    "\n",
    "print(rf_model.score(X_test, y_test))"
   ]
  },
  {
   "cell_type": "code",
   "execution_count": 30,
   "id": "9188e5ab",
   "metadata": {},
   "outputs": [
    {
     "name": "stdout",
     "output_type": "stream",
     "text": [
      "48237611588.44884\n",
      "219630.62534275322\n"
     ]
    }
   ],
   "source": [
    "mse_val =  ( (pred - y_test) ** 2 ).sum() / len(pred)\n",
    "print( mse_val )  # mse\n",
    "print( mse_val ** 0.5 )   # rmse"
   ]
  },
  {
   "cell_type": "code",
   "execution_count": 31,
   "id": "d6628184",
   "metadata": {},
   "outputs": [
    {
     "data": {
      "text/plain": [
       "Index(['id', 'date', 'price', 'bedrooms', 'bathrooms', 'sqft_living',\n",
       "       'sqft_lot', 'floors', 'waterfront', 'view', 'condition', 'grade',\n",
       "       'sqft_above', 'sqft_basement', 'yr_built', 'yr_renovated', 'zipcode',\n",
       "       'lat', 'long', 'sqft_living15', 'sqft_lot15'],\n",
       "      dtype='object')"
      ]
     },
     "execution_count": 31,
     "metadata": {},
     "output_type": "execute_result"
    }
   ],
   "source": [
    "train.columns"
   ]
  },
  {
   "cell_type": "code",
   "execution_count": 32,
   "id": "3a0e7578",
   "metadata": {},
   "outputs": [
    {
     "name": "stdout",
     "output_type": "stream",
     "text": [
      "[0.03574379 0.08536299 0.49674904 0.38214418]\n",
      "['condition', 'floors', 'lat', 'long']\n"
     ]
    }
   ],
   "source": [
    "print(rf_model.feature_importances_)\n",
    "print(sel)"
   ]
  },
  {
   "cell_type": "code",
   "execution_count": 33,
   "id": "b979af3b",
   "metadata": {},
   "outputs": [
    {
     "data": {
      "text/plain": [
       "condition    0.035744\n",
       "floors       0.085363\n",
       "lat          0.496749\n",
       "long         0.382144\n",
       "dtype: float64"
      ]
     },
     "execution_count": 33,
     "metadata": {},
     "output_type": "execute_result"
    }
   ],
   "source": [
    "imps = pd.Series(rf_model.feature_importances_, index = sel)\n",
    "imps"
   ]
  },
  {
   "cell_type": "code",
   "execution_count": 34,
   "id": "083ca5ba",
   "metadata": {},
   "outputs": [
    {
     "data": {
      "text/plain": [
       "<AxesSubplot:>"
      ]
     },
     "execution_count": 34,
     "metadata": {},
     "output_type": "execute_result"
    },
    {
     "data": {
      "image/png": "[encoded data removed]",
      "text/plain": [
       "<Figure size 432x288 with 1 Axes>"
      ]
     },
     "metadata": {
      "needs_background": "light"
     },
     "output_type": "display_data"
    }
   ],
   "source": [
    "sns.barplot(x = imps.index, y = imps.values, data = imps)"
   ]
  },
  {
   "cell_type": "code",
   "execution_count": 39,
   "id": "0b20834d",
   "metadata": {},
   "outputs": [
    {
     "data": {
      "text/plain": [
       "<AxesSubplot:>"
      ]
     },
     "execution_count": 39,
     "metadata": {},
     "output_type": "execute_result"
    },
    {
     "data": {
      "image/png": "[encoded data removed]",
      "text/plain": [
       "<Figure size 432x288 with 1 Axes>"
      ]
     },
     "metadata": {
      "needs_background": "light"
     },
     "output_type": "display_data"
    }
   ],
   "source": [
    "sns.barplot(x = imps.values, y = imps.index)"
   ]
  },
  {
   "cell_type": "code",
   "execution_count": null,
   "id": "55081147",
   "metadata": {},
   "outputs": [],
   "source": []
  }
 ],
 "metadata": {
  "kernelspec": {
   "display_name": "Python 3 (ipykernel)",
   "language": "python",
   "name": "python3"
  },
  "language_info": {
   "codemirror_mode": {
    "name": "ipython",
    "version": 3
   },
   "file_extension": ".py",
   "mimetype": "text/x-python",
   "name": "python",
   "nbconvert_exporter": "python",
   "pygments_lexer": "ipython3",
   "version": "3.8.8"
  }
 },
 "nbformat": 4,
 "nbformat_minor": 5
}
