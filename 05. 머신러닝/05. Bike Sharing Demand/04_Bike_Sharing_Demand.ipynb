{
 "cells": [
  {
   "cell_type": "markdown",
   "id": "cbdb1bc9",
   "metadata": {},
   "source": [
    "### 2021_10_25_5"
   ]
  },
  {
   "cell_type": "code",
   "execution_count": 1,
   "id": "14d31001",
   "metadata": {},
   "outputs": [
    {
     "name": "stdout",
     "output_type": "stream",
     "text": [
      "../CSV/bike-sharing-demand/.DS_Store\n",
      "../CSV/bike-sharing-demand/sampleSubmission.csv\n",
      "../CSV/bike-sharing-demand/test.csv\n",
      "../CSV/bike-sharing-demand/04_sub.csv\n",
      "../CSV/bike-sharing-demand/01_sub.csv\n",
      "../CSV/bike-sharing-demand/03_sub.csv\n",
      "../CSV/bike-sharing-demand/train.csv\n",
      "../CSV/bike-sharing-demand/02_sub.csv\n"
     ]
    }
   ],
   "source": [
    "import numpy as np # linear algebra\n",
    "import pandas as pd # data processing, CSV file I/O (e.g. pd.read_csv)\n",
    "import matplotlib.pyplot as plt # seaborn 보다 고급 시각화 가능. but 코드 복잡\n",
    "import seaborn as sns      # seaborn은 matplotlib보다 간단하게 사용 가능\n",
    "import os\n",
    "for dirname, _, filenames in os.walk('../CSV/bike-sharing-demand/'):\n",
    "    for filename in filenames:\n",
    "        print(os.path.join(dirname, filename))"
   ]
  },
  {
   "cell_type": "code",
   "execution_count": 2,
   "id": "e1a62a17",
   "metadata": {},
   "outputs": [
    {
     "name": "stdout",
     "output_type": "stream",
     "text": [
      "train shape : (10886, 12)\n",
      "test shape : (6493, 9)\n",
      "sub shape : (6493, 2)\n"
     ]
    }
   ],
   "source": [
    "train = pd.read_csv(\"../CSV/bike-sharing-demand/train.csv\",parse_dates=['datetime'])\n",
    "test = pd.read_csv(\"../CSV/bike-sharing-demand/test.csv\",parse_dates=['datetime'])\n",
    "sub = pd.read_csv(\"../CSV/bike-sharing-demand/sampleSubmission.csv\")\n",
    "\n",
    "print(\"train shape : {}\".format(train.shape))\n",
    "print(\"test shape : {}\".format(test.shape))\n",
    "print(\"sub shape : {}\".format(sub.shape))"
   ]
  },
  {
   "cell_type": "code",
   "execution_count": 3,
   "id": "c7da92b7",
   "metadata": {},
   "outputs": [
    {
     "name": "stdout",
     "output_type": "stream",
     "text": [
      "<class 'pandas.core.frame.DataFrame'>\n",
      "RangeIndex: 10886 entries, 0 to 10885\n",
      "Data columns (total 12 columns):\n",
      " #   Column      Non-Null Count  Dtype         \n",
      "---  ------      --------------  -----         \n",
      " 0   datetime    10886 non-null  datetime64[ns]\n",
      " 1   season      10886 non-null  int64         \n",
      " 2   holiday     10886 non-null  int64         \n",
      " 3   workingday  10886 non-null  int64         \n",
      " 4   weather     10886 non-null  int64         \n",
      " 5   temp        10886 non-null  float64       \n",
      " 6   atemp       10886 non-null  float64       \n",
      " 7   humidity    10886 non-null  int64         \n",
      " 8   windspeed   10886 non-null  float64       \n",
      " 9   casual      10886 non-null  int64         \n",
      " 10  registered  10886 non-null  int64         \n",
      " 11  count       10886 non-null  int64         \n",
      "dtypes: datetime64[ns](1), float64(3), int64(8)\n",
      "memory usage: 1020.7 KB\n"
     ]
    }
   ],
   "source": [
    "train.info()"
   ]
  },
  {
   "cell_type": "code",
   "execution_count": 4,
   "id": "77d97446",
   "metadata": {},
   "outputs": [
    {
     "data": {
      "text/html": [
       "<div>\n",
       "<style scoped>\n",
       "    .dataframe tbody tr th:only-of-type {\n",
       "        vertical-align: middle;\n",
       "    }\n",
       "\n",
       "    .dataframe tbody tr th {\n",
       "        vertical-align: top;\n",
       "    }\n",
       "\n",
       "    .dataframe thead th {\n",
       "        text-align: right;\n",
       "    }\n",
       "</style>\n",
       "<table border=\"1\" class=\"dataframe\">\n",
       "  <thead>\n",
       "    <tr style=\"text-align: right;\">\n",
       "      <th></th>\n",
       "      <th>datetime</th>\n",
       "      <th>season</th>\n",
       "      <th>holiday</th>\n",
       "      <th>workingday</th>\n",
       "      <th>weather</th>\n",
       "      <th>temp</th>\n",
       "      <th>atemp</th>\n",
       "      <th>humidity</th>\n",
       "      <th>windspeed</th>\n",
       "      <th>casual</th>\n",
       "      <th>registered</th>\n",
       "      <th>count</th>\n",
       "    </tr>\n",
       "  </thead>\n",
       "  <tbody>\n",
       "    <tr>\n",
       "      <th>0</th>\n",
       "      <td>2011-01-01 00:00:00</td>\n",
       "      <td>1</td>\n",
       "      <td>0</td>\n",
       "      <td>0</td>\n",
       "      <td>1</td>\n",
       "      <td>9.84</td>\n",
       "      <td>14.395</td>\n",
       "      <td>81</td>\n",
       "      <td>0.0</td>\n",
       "      <td>3</td>\n",
       "      <td>13</td>\n",
       "      <td>16</td>\n",
       "    </tr>\n",
       "    <tr>\n",
       "      <th>1</th>\n",
       "      <td>2011-01-01 01:00:00</td>\n",
       "      <td>1</td>\n",
       "      <td>0</td>\n",
       "      <td>0</td>\n",
       "      <td>1</td>\n",
       "      <td>9.02</td>\n",
       "      <td>13.635</td>\n",
       "      <td>80</td>\n",
       "      <td>0.0</td>\n",
       "      <td>8</td>\n",
       "      <td>32</td>\n",
       "      <td>40</td>\n",
       "    </tr>\n",
       "    <tr>\n",
       "      <th>2</th>\n",
       "      <td>2011-01-01 02:00:00</td>\n",
       "      <td>1</td>\n",
       "      <td>0</td>\n",
       "      <td>0</td>\n",
       "      <td>1</td>\n",
       "      <td>9.02</td>\n",
       "      <td>13.635</td>\n",
       "      <td>80</td>\n",
       "      <td>0.0</td>\n",
       "      <td>5</td>\n",
       "      <td>27</td>\n",
       "      <td>32</td>\n",
       "    </tr>\n",
       "  </tbody>\n",
       "</table>\n",
       "</div>"
      ],
      "text/plain": [
       "             datetime  season  holiday  workingday  weather  temp   atemp  \\\n",
       "0 2011-01-01 00:00:00       1        0           0        1  9.84  14.395   \n",
       "1 2011-01-01 01:00:00       1        0           0        1  9.02  13.635   \n",
       "2 2011-01-01 02:00:00       1        0           0        1  9.02  13.635   \n",
       "\n",
       "   humidity  windspeed  casual  registered  count  \n",
       "0        81        0.0       3          13     16  \n",
       "1        80        0.0       8          32     40  \n",
       "2        80        0.0       5          27     32  "
      ]
     },
     "execution_count": 4,
     "metadata": {},
     "output_type": "execute_result"
    }
   ],
   "source": [
    "train.head(3)"
   ]
  },
  {
   "cell_type": "code",
   "execution_count": 5,
   "id": "6d8dba0c",
   "metadata": {},
   "outputs": [
    {
     "data": {
      "text/plain": [
       "(array([4284., 2337., 1686., 1067.,  633.,  426.,  233.,  116.,   85.,\n",
       "          19.]),\n",
       " array([  1. ,  98.6, 196.2, 293.8, 391.4, 489. , 586.6, 684.2, 781.8,\n",
       "        879.4, 977. ]),\n",
       " <BarContainer object of 10 artists>)"
      ]
     },
     "execution_count": 5,
     "metadata": {},
     "output_type": "execute_result"
    },
    {
     "data": {
      "image/png": "[encoded data removed]",
      "text/plain": [
       "<Figure size 432x288 with 1 Axes>"
      ]
     },
     "metadata": {
      "needs_background": "light"
     },
     "output_type": "display_data"
    }
   ],
   "source": [
    "plt.hist(train[\"count\"])"
   ]
  },
  {
   "cell_type": "code",
   "execution_count": 6,
   "id": "39aaabc7",
   "metadata": {},
   "outputs": [],
   "source": [
    "new_train = train.copy()\n",
    "new_test = test.copy()"
   ]
  },
  {
   "cell_type": "markdown",
   "id": "f6782d5c",
   "metadata": {},
   "source": [
    "### 파생변수"
   ]
  },
  {
   "cell_type": "code",
   "execution_count": 7,
   "id": "35defc37",
   "metadata": {},
   "outputs": [],
   "source": [
    "new_train[\"year\"] = new_train[\"datetime\"].dt.year\n",
    "new_train[\"month\"] = new_train[\"datetime\"].dt.month\n",
    "new_train[\"day\"] = new_train[\"datetime\"].dt.day\n",
    "new_train[\"hour\"] = new_train[\"datetime\"].dt.hour\n",
    "new_train[\"minute\"] = new_train[\"datetime\"].dt.minute\n",
    "new_train[\"second\"] = new_train[\"datetime\"].dt.second\n",
    "new_train[\"dayofweek\"] = new_train[\"datetime\"].dt.dayofweek\n",
    "\n",
    "new_test[\"year\"] = new_test[\"datetime\"].dt.year\n",
    "new_test[\"month\"] = new_test[\"datetime\"].dt.month\n",
    "new_test[\"day\"] = new_test[\"datetime\"].dt.day\n",
    "new_test[\"hour\"] = new_test[\"datetime\"].dt.hour\n",
    "new_test[\"minute\"] = new_test[\"datetime\"].dt.minute\n",
    "new_test[\"second\"] = new_test[\"datetime\"].dt.second\n",
    "new_test[\"dayofweek\"] = new_test[\"datetime\"].dt.dayofweek"
   ]
  },
  {
   "cell_type": "code",
   "execution_count": 8,
   "id": "46641f48",
   "metadata": {},
   "outputs": [
    {
     "name": "stdout",
     "output_type": "stream",
     "text": [
      "<class 'pandas.core.frame.DataFrame'>\n",
      "RangeIndex: 10886 entries, 0 to 10885\n",
      "Data columns (total 19 columns):\n",
      " #   Column      Non-Null Count  Dtype         \n",
      "---  ------      --------------  -----         \n",
      " 0   datetime    10886 non-null  datetime64[ns]\n",
      " 1   season      10886 non-null  int64         \n",
      " 2   holiday     10886 non-null  int64         \n",
      " 3   workingday  10886 non-null  int64         \n",
      " 4   weather     10886 non-null  int64         \n",
      " 5   temp        10886 non-null  float64       \n",
      " 6   atemp       10886 non-null  float64       \n",
      " 7   humidity    10886 non-null  int64         \n",
      " 8   windspeed   10886 non-null  float64       \n",
      " 9   casual      10886 non-null  int64         \n",
      " 10  registered  10886 non-null  int64         \n",
      " 11  count       10886 non-null  int64         \n",
      " 12  year        10886 non-null  int64         \n",
      " 13  month       10886 non-null  int64         \n",
      " 14  day         10886 non-null  int64         \n",
      " 15  hour        10886 non-null  int64         \n",
      " 16  minute      10886 non-null  int64         \n",
      " 17  second      10886 non-null  int64         \n",
      " 18  dayofweek   10886 non-null  int64         \n",
      "dtypes: datetime64[ns](1), float64(3), int64(15)\n",
      "memory usage: 1.6 MB\n"
     ]
    }
   ],
   "source": [
    "new_train.info()"
   ]
  },
  {
   "cell_type": "code",
   "execution_count": 10,
   "id": "e84eca2a",
   "metadata": {},
   "outputs": [],
   "source": [
    "feature_names = ['season', 'holiday', 'workingday', 'weather', \n",
    "                  'temp', 'atemp', 'humidity', 'windspeed', \n",
    "                  \"year\", \"month\", \"hour\", \"dayofweek\"]  # 공통 변수\n",
    "\n",
    "X_train_all = new_train[feature_names]  # 학습용 데이터 변수 선택\n",
    "X_test_all = new_test[feature_names]    # 테스트 데이터의 변수 선택 \n",
    "\n",
    "label_name = 'count'                    # 렌탈 대수 (종속변수)\n",
    "y_train_all = new_train[label_name]     # 렌탈 대수 변수 값 선택"
   ]
  },
  {
   "cell_type": "markdown",
   "id": "859009ad",
   "metadata": {},
   "source": [
    "### 여러 모델 비교"
   ]
  },
  {
   "cell_type": "code",
   "execution_count": 11,
   "id": "1c4d8887",
   "metadata": {},
   "outputs": [],
   "source": [
    "from sklearn.model_selection import train_test_split\n",
    "from sklearn.linear_model import LinearRegression\n",
    "from sklearn.tree import DecisionTreeRegressor\n",
    "from sklearn.ensemble import RandomForestRegressor   # 앙상블(의사결정트리 확장판)\n",
    "from sklearn.ensemble import GradientBoostingRegressor"
   ]
  },
  {
   "cell_type": "code",
   "execution_count": 12,
   "id": "20ff6fe5",
   "metadata": {},
   "outputs": [],
   "source": [
    "X_train, X_test, y_train, y_test = train_test_split(X_train_all, \n",
    "                                                    y_train_all,\n",
    "                                                    test_size=0.3,\n",
    "                                                    random_state=77)"
   ]
  },
  {
   "cell_type": "code",
   "execution_count": 13,
   "id": "8f41ec70",
   "metadata": {},
   "outputs": [
    {
     "name": "stdout",
     "output_type": "stream",
     "text": [
      "LinearRegression\n",
      "학습용 세트 정확도: 0.393\n",
      "테스트 세트 정확도: 0.377\n",
      "\n",
      "DecisionTreeRegressor\n",
      "학습용 세트 정확도: 1.000\n",
      "테스트 세트 정확도: 0.896\n",
      "\n",
      "RandomForestRegressor\n",
      "학습용 세트 정확도: 0.992\n",
      "테스트 세트 정확도: 0.951\n",
      "\n",
      "GradientBoostingRegressor\n",
      "학습용 세트 정확도: 0.878\n",
      "테스트 세트 정확도: 0.869\n"
     ]
    }
   ],
   "source": [
    "model = LinearRegression()     # 모델 객체 생성\n",
    "model.fit(X_train, y_train)    # 모델 학습\n",
    "\n",
    "# 정확도 확인\n",
    "print(\"LinearRegression\")\n",
    "print(\"학습용 세트 정확도: {:.3f}\".format(model.score(X_train, y_train)))\n",
    "print(\"테스트 세트 정확도: {:.3f}\".format(model.score(X_test, y_test)))\n",
    "print()\n",
    "\n",
    "model = DecisionTreeRegressor()  # 모델 객체 생성\n",
    "model.fit(X_train, y_train)      # 모델 학습\n",
    "\n",
    "# 정확도 확인\n",
    "print(\"DecisionTreeRegressor\")\n",
    "print(\"학습용 세트 정확도: {:.3f}\".format(model.score(X_train, y_train)))\n",
    "print(\"테스트 세트 정확도: {:.3f}\".format(model.score(X_test, y_test)))\n",
    "print()\n",
    "\n",
    "model = RandomForestRegressor(n_jobs = -1, random_state = 37)  # 모델 객체 생성\n",
    "model.fit(X_train, y_train)                                    # 모델 학습\n",
    "\n",
    "# 정확도 확인\n",
    "print(\"RandomForestRegressor\")\n",
    "print(\"학습용 세트 정확도: {:.3f}\".format(model.score(X_train, y_train)))\n",
    "print(\"테스트 세트 정확도: {:.3f}\".format(model.score(X_test, y_test)))\n",
    "print()\n",
    "\n",
    "model = GradientBoostingRegressor(random_state = 37)  # 모델 객체 생성.\n",
    "model.fit(X_train, y_train)                           # 모델 학습\n",
    "\n",
    "# 정확도 확인\n",
    "print(\"GradientBoostingRegressor\")\n",
    "print(\"학습용 세트 정확도: {:.3f}\".format(model.score(X_train, y_train)))\n",
    "print(\"테스트 세트 정확도: {:.3f}\".format(model.score(X_test, y_test)))"
   ]
  },
  {
   "cell_type": "code",
   "execution_count": 14,
   "id": "6ede1d63",
   "metadata": {},
   "outputs": [
    {
     "name": "stdout",
     "output_type": "stream",
     "text": [
      "RandomForestRegressor\n",
      "학습용 세트 정확도: 0.992\n",
      "테스트 세트 정확도: 0.951\n",
      "\n"
     ]
    },
    {
     "data": {
      "text/plain": [
       "array([ 10.7 ,   4.53,   5.1 ,   3.63,   2.86,   4.37,  35.11,  94.47,\n",
       "       183.77, 120.12])"
      ]
     },
     "execution_count": 14,
     "metadata": {},
     "output_type": "execute_result"
    }
   ],
   "source": [
    "model = RandomForestRegressor(n_jobs = -1, random_state = 37)  # 모델 객체 생성\n",
    "model.fit(X_train, y_train)                                    # 모델 학습 \n",
    "\n",
    "# 정확도 확인\n",
    "print(\"RandomForestRegressor\")\n",
    "print(\"학습용 세트 정확도: {:.3f}\".format(model.score(X_train, y_train)))\n",
    "print(\"테스트 세트 정확도: {:.3f}\".format(model.score(X_test, y_test)))\n",
    "print()\n",
    "\n",
    "pred = model.predict(X_test_all)\n",
    "pred[:10]"
   ]
  },
  {
   "cell_type": "markdown",
   "id": "06a79834",
   "metadata": {},
   "source": [
    "### 제출 파일 생성"
   ]
  },
  {
   "cell_type": "code",
   "execution_count": 15,
   "id": "27fb2c42",
   "metadata": {},
   "outputs": [],
   "source": [
    "sub[\"count\"] = pred\n",
    "sub.loc[sub[\"count\"] < 0, \"count\"] = 0\n",
    "sub.to_csv(\"../CSV/bike-sharing-demand/05_sub.csv\", index = False)"
   ]
  },
  {
   "cell_type": "markdown",
   "id": "d681accb",
   "metadata": {},
   "source": [
    "* 점수 : 0.47513"
   ]
  },
  {
   "cell_type": "code",
   "execution_count": 16,
   "id": "dc8e5c59",
   "metadata": {},
   "outputs": [
    {
     "data": {
      "text/plain": [
       "array([0.00899929, 0.00241068, 0.03895128, 0.01567729, 0.07590183,\n",
       "       0.03260738, 0.03027205, 0.00902493, 0.08780173, 0.04588192,\n",
       "       0.60661801, 0.04585361])"
      ]
     },
     "execution_count": 16,
     "metadata": {},
     "output_type": "execute_result"
    }
   ],
   "source": [
    "model.feature_importances_"
   ]
  },
  {
   "cell_type": "code",
   "execution_count": 18,
   "id": "c1d775c6",
   "metadata": {},
   "outputs": [
    {
     "data": {
      "text/plain": [
       "Index(['season', 'holiday', 'workingday', 'weather', 'temp', 'atemp',\n",
       "       'humidity', 'windspeed', 'year', 'month', 'hour', 'dayofweek'],\n",
       "      dtype='object')"
      ]
     },
     "execution_count": 18,
     "metadata": {},
     "output_type": "execute_result"
    }
   ],
   "source": [
    "X_train.columns"
   ]
  },
  {
   "cell_type": "markdown",
   "id": "0ba78e50",
   "metadata": {},
   "source": [
    "### feature 변경"
   ]
  },
  {
   "cell_type": "code",
   "execution_count": 20,
   "id": "d5752d0e",
   "metadata": {},
   "outputs": [
    {
     "name": "stdout",
     "output_type": "stream",
     "text": [
      "LinearRegression\n",
      "학습용 세트 정확도: 0.392\n",
      "테스트 세트 정확도: 0.377\n",
      "\n",
      "DecisionTreeRegressor\n",
      "학습용 세트 정확도: 1.000\n",
      "테스트 세트 정확도: 0.889\n",
      "\n",
      "RandomForestRegressor\n",
      "학습용 세트 정확도: 0.992\n",
      "테스트 세트 정확도: 0.952\n",
      "\n",
      "GradientBoostingRegressor\n",
      "학습용 세트 정확도: 0.876\n",
      "테스트 세트 정확도: 0.867\n"
     ]
    }
   ],
   "source": [
    "feature_names = ['workingday', 'weather', \n",
    "                  'temp', 'atemp', 'humidity', \n",
    "                  \"year\", \"month\", \"hour\", \"dayofweek\"]  # 공통 변수\n",
    "\n",
    "X_train_all = new_train[feature_names]  # 학습용 데이터 변수 선택\n",
    "X_test_all = new_test[feature_names]    # 테스트 데이터의 변수 선택 \n",
    "\n",
    "label_name = 'count'                    # 렌탈 대수 (종속변수)\n",
    "y_train_all = new_train[label_name]     # 렌탈 대수 변수 값 선택\n",
    "\n",
    "X_train, X_test, y_train, y_test = train_test_split(X_train_all, \n",
    "                                                    y_train_all,\n",
    "                                                    test_size=0.3,\n",
    "                                                    random_state=77)\n",
    "\n",
    "model = LinearRegression()     # 모델 객체 생성\n",
    "model.fit(X_train, y_train)    # 모델 학습\n",
    "\n",
    "# 정확도 확인\n",
    "print(\"LinearRegression\")\n",
    "print(\"학습용 세트 정확도: {:.3f}\".format(model.score(X_train, y_train)))\n",
    "print(\"테스트 세트 정확도: {:.3f}\".format(model.score(X_test, y_test)))\n",
    "print()\n",
    "\n",
    "model = DecisionTreeRegressor()  # 모델 객체 생성\n",
    "model.fit(X_train, y_train)      # 모델 학습\n",
    "\n",
    "# 정확도 확인\n",
    "print(\"DecisionTreeRegressor\")\n",
    "print(\"학습용 세트 정확도: {:.3f}\".format(model.score(X_train, y_train)))\n",
    "print(\"테스트 세트 정확도: {:.3f}\".format(model.score(X_test, y_test)))\n",
    "print()\n",
    "\n",
    "model = RandomForestRegressor(n_jobs = -1, random_state = 37)  # 모델 객체 생성\n",
    "model.fit(X_train, y_train)                                    # 모델 학습\n",
    "\n",
    "# 정확도 확인\n",
    "print(\"RandomForestRegressor\")\n",
    "print(\"학습용 세트 정확도: {:.3f}\".format(model.score(X_train, y_train)))\n",
    "print(\"테스트 세트 정확도: {:.3f}\".format(model.score(X_test, y_test)))\n",
    "print()\n",
    "\n",
    "model = GradientBoostingRegressor(random_state = 37)  # 모델 객체 생성.\n",
    "model.fit(X_train, y_train)                           # 모델 학습\n",
    "\n",
    "# 정확도 확인\n",
    "print(\"GradientBoostingRegressor\")\n",
    "print(\"학습용 세트 정확도: {:.3f}\".format(model.score(X_train, y_train)))\n",
    "print(\"테스트 세트 정확도: {:.3f}\".format(model.score(X_test, y_test)))"
   ]
  },
  {
   "cell_type": "markdown",
   "id": "159bc3d8",
   "metadata": {},
   "source": [
    "### 제출 파일 생성"
   ]
  },
  {
   "cell_type": "code",
   "execution_count": 21,
   "id": "29c2aea8",
   "metadata": {},
   "outputs": [
    {
     "name": "stdout",
     "output_type": "stream",
     "text": [
      "RandomForestRegressor\n",
      "학습용 세트 정확도: 0.992\n",
      "테스트 세트 정확도: 0.952\n",
      "\n"
     ]
    }
   ],
   "source": [
    "model = RandomForestRegressor(n_jobs = -1, random_state = 37)  # 모델 객체 생성\n",
    "model.fit(X_train, y_train)                                    # 모델 학습 \n",
    "\n",
    "# 정확도 확인\n",
    "print(\"RandomForestRegressor\")\n",
    "print(\"학습용 세트 정확도: {:.3f}\".format(model.score(X_train, y_train)))\n",
    "print(\"테스트 세트 정확도: {:.3f}\".format(model.score(X_test, y_test)))\n",
    "print()\n",
    "\n",
    "pred = model.predict(X_test_all)\n",
    "\n",
    "sub[\"count\"] = pred\n",
    "sub.loc[sub[\"count\"] < 0, \"count\"] = 0\n",
    "sub.to_csv(\"../CSV/bike-sharing-demand/06_sub.csv\", index = False)"
   ]
  },
  {
   "cell_type": "markdown",
   "id": "2b43e537",
   "metadata": {},
   "source": [
    "* 점수 : 0.47513 -> 점수 : 0.48664 향상됨"
   ]
  },
  {
   "cell_type": "code",
   "execution_count": null,
   "id": "8f7b6fcc",
   "metadata": {},
   "outputs": [],
   "source": [
    "new_train[\"hour_val\"] = "
   ]
  },
  {
   "cell_type": "code",
   "execution_count": 41,
   "id": "9691843d",
   "metadata": {},
   "outputs": [
    {
     "data": {
      "text/html": [
       "<div>\n",
       "<style scoped>\n",
       "    .dataframe tbody tr th:only-of-type {\n",
       "        vertical-align: middle;\n",
       "    }\n",
       "\n",
       "    .dataframe tbody tr th {\n",
       "        vertical-align: top;\n",
       "    }\n",
       "\n",
       "    .dataframe thead th {\n",
       "        text-align: right;\n",
       "    }\n",
       "</style>\n",
       "<table border=\"1\" class=\"dataframe\">\n",
       "  <thead>\n",
       "    <tr style=\"text-align: right;\">\n",
       "      <th></th>\n",
       "      <th>datetime</th>\n",
       "      <th>season</th>\n",
       "      <th>holiday</th>\n",
       "      <th>workingday</th>\n",
       "      <th>weather</th>\n",
       "      <th>temp</th>\n",
       "      <th>atemp</th>\n",
       "      <th>humidity</th>\n",
       "      <th>windspeed</th>\n",
       "      <th>casual</th>\n",
       "      <th>registered</th>\n",
       "      <th>count</th>\n",
       "      <th>year</th>\n",
       "      <th>month</th>\n",
       "      <th>day</th>\n",
       "      <th>hour</th>\n",
       "      <th>minute</th>\n",
       "      <th>second</th>\n",
       "      <th>dayofweek</th>\n",
       "    </tr>\n",
       "  </thead>\n",
       "  <tbody>\n",
       "    <tr>\n",
       "      <th>7</th>\n",
       "      <td>2011-01-01 07:00:00</td>\n",
       "      <td>1</td>\n",
       "      <td>0</td>\n",
       "      <td>0</td>\n",
       "      <td>1</td>\n",
       "      <td>8.20</td>\n",
       "      <td>12.880</td>\n",
       "      <td>86</td>\n",
       "      <td>0.0000</td>\n",
       "      <td>1</td>\n",
       "      <td>2</td>\n",
       "      <td>3</td>\n",
       "      <td>2011</td>\n",
       "      <td>1</td>\n",
       "      <td>1</td>\n",
       "      <td>7</td>\n",
       "      <td>0</td>\n",
       "      <td>0</td>\n",
       "      <td>5</td>\n",
       "    </tr>\n",
       "    <tr>\n",
       "      <th>17</th>\n",
       "      <td>2011-01-01 17:00:00</td>\n",
       "      <td>1</td>\n",
       "      <td>0</td>\n",
       "      <td>0</td>\n",
       "      <td>2</td>\n",
       "      <td>18.04</td>\n",
       "      <td>21.970</td>\n",
       "      <td>82</td>\n",
       "      <td>19.0012</td>\n",
       "      <td>15</td>\n",
       "      <td>52</td>\n",
       "      <td>67</td>\n",
       "      <td>2011</td>\n",
       "      <td>1</td>\n",
       "      <td>1</td>\n",
       "      <td>17</td>\n",
       "      <td>0</td>\n",
       "      <td>0</td>\n",
       "      <td>5</td>\n",
       "    </tr>\n",
       "    <tr>\n",
       "      <th>18</th>\n",
       "      <td>2011-01-01 18:00:00</td>\n",
       "      <td>1</td>\n",
       "      <td>0</td>\n",
       "      <td>0</td>\n",
       "      <td>3</td>\n",
       "      <td>17.22</td>\n",
       "      <td>21.210</td>\n",
       "      <td>88</td>\n",
       "      <td>16.9979</td>\n",
       "      <td>9</td>\n",
       "      <td>26</td>\n",
       "      <td>35</td>\n",
       "      <td>2011</td>\n",
       "      <td>1</td>\n",
       "      <td>1</td>\n",
       "      <td>18</td>\n",
       "      <td>0</td>\n",
       "      <td>0</td>\n",
       "      <td>5</td>\n",
       "    </tr>\n",
       "    <tr>\n",
       "      <th>30</th>\n",
       "      <td>2011-01-02 07:00:00</td>\n",
       "      <td>1</td>\n",
       "      <td>0</td>\n",
       "      <td>0</td>\n",
       "      <td>2</td>\n",
       "      <td>16.40</td>\n",
       "      <td>20.455</td>\n",
       "      <td>76</td>\n",
       "      <td>12.9980</td>\n",
       "      <td>0</td>\n",
       "      <td>1</td>\n",
       "      <td>1</td>\n",
       "      <td>2011</td>\n",
       "      <td>1</td>\n",
       "      <td>2</td>\n",
       "      <td>7</td>\n",
       "      <td>0</td>\n",
       "      <td>0</td>\n",
       "      <td>6</td>\n",
       "    </tr>\n",
       "    <tr>\n",
       "      <th>40</th>\n",
       "      <td>2011-01-02 17:00:00</td>\n",
       "      <td>1</td>\n",
       "      <td>0</td>\n",
       "      <td>0</td>\n",
       "      <td>1</td>\n",
       "      <td>13.94</td>\n",
       "      <td>16.665</td>\n",
       "      <td>57</td>\n",
       "      <td>12.9980</td>\n",
       "      <td>7</td>\n",
       "      <td>58</td>\n",
       "      <td>65</td>\n",
       "      <td>2011</td>\n",
       "      <td>1</td>\n",
       "      <td>2</td>\n",
       "      <td>17</td>\n",
       "      <td>0</td>\n",
       "      <td>0</td>\n",
       "      <td>6</td>\n",
       "    </tr>\n",
       "    <tr>\n",
       "      <th>...</th>\n",
       "      <td>...</td>\n",
       "      <td>...</td>\n",
       "      <td>...</td>\n",
       "      <td>...</td>\n",
       "      <td>...</td>\n",
       "      <td>...</td>\n",
       "      <td>...</td>\n",
       "      <td>...</td>\n",
       "      <td>...</td>\n",
       "      <td>...</td>\n",
       "      <td>...</td>\n",
       "      <td>...</td>\n",
       "      <td>...</td>\n",
       "      <td>...</td>\n",
       "      <td>...</td>\n",
       "      <td>...</td>\n",
       "      <td>...</td>\n",
       "      <td>...</td>\n",
       "      <td>...</td>\n",
       "    </tr>\n",
       "    <tr>\n",
       "      <th>10855</th>\n",
       "      <td>2012-12-18 17:00:00</td>\n",
       "      <td>4</td>\n",
       "      <td>0</td>\n",
       "      <td>1</td>\n",
       "      <td>1</td>\n",
       "      <td>16.40</td>\n",
       "      <td>20.455</td>\n",
       "      <td>47</td>\n",
       "      <td>30.0026</td>\n",
       "      <td>39</td>\n",
       "      <td>533</td>\n",
       "      <td>572</td>\n",
       "      <td>2012</td>\n",
       "      <td>12</td>\n",
       "      <td>18</td>\n",
       "      <td>17</td>\n",
       "      <td>0</td>\n",
       "      <td>0</td>\n",
       "      <td>1</td>\n",
       "    </tr>\n",
       "    <tr>\n",
       "      <th>10856</th>\n",
       "      <td>2012-12-18 18:00:00</td>\n",
       "      <td>4</td>\n",
       "      <td>0</td>\n",
       "      <td>1</td>\n",
       "      <td>1</td>\n",
       "      <td>15.58</td>\n",
       "      <td>19.695</td>\n",
       "      <td>46</td>\n",
       "      <td>22.0028</td>\n",
       "      <td>13</td>\n",
       "      <td>512</td>\n",
       "      <td>525</td>\n",
       "      <td>2012</td>\n",
       "      <td>12</td>\n",
       "      <td>18</td>\n",
       "      <td>18</td>\n",
       "      <td>0</td>\n",
       "      <td>0</td>\n",
       "      <td>1</td>\n",
       "    </tr>\n",
       "    <tr>\n",
       "      <th>10869</th>\n",
       "      <td>2012-12-19 07:00:00</td>\n",
       "      <td>4</td>\n",
       "      <td>0</td>\n",
       "      <td>1</td>\n",
       "      <td>1</td>\n",
       "      <td>10.66</td>\n",
       "      <td>13.635</td>\n",
       "      <td>75</td>\n",
       "      <td>8.9981</td>\n",
       "      <td>3</td>\n",
       "      <td>360</td>\n",
       "      <td>363</td>\n",
       "      <td>2012</td>\n",
       "      <td>12</td>\n",
       "      <td>19</td>\n",
       "      <td>7</td>\n",
       "      <td>0</td>\n",
       "      <td>0</td>\n",
       "      <td>2</td>\n",
       "    </tr>\n",
       "    <tr>\n",
       "      <th>10879</th>\n",
       "      <td>2012-12-19 17:00:00</td>\n",
       "      <td>4</td>\n",
       "      <td>0</td>\n",
       "      <td>1</td>\n",
       "      <td>1</td>\n",
       "      <td>16.40</td>\n",
       "      <td>20.455</td>\n",
       "      <td>50</td>\n",
       "      <td>26.0027</td>\n",
       "      <td>26</td>\n",
       "      <td>536</td>\n",
       "      <td>562</td>\n",
       "      <td>2012</td>\n",
       "      <td>12</td>\n",
       "      <td>19</td>\n",
       "      <td>17</td>\n",
       "      <td>0</td>\n",
       "      <td>0</td>\n",
       "      <td>2</td>\n",
       "    </tr>\n",
       "    <tr>\n",
       "      <th>10880</th>\n",
       "      <td>2012-12-19 18:00:00</td>\n",
       "      <td>4</td>\n",
       "      <td>0</td>\n",
       "      <td>1</td>\n",
       "      <td>1</td>\n",
       "      <td>15.58</td>\n",
       "      <td>19.695</td>\n",
       "      <td>50</td>\n",
       "      <td>23.9994</td>\n",
       "      <td>23</td>\n",
       "      <td>546</td>\n",
       "      <td>569</td>\n",
       "      <td>2012</td>\n",
       "      <td>12</td>\n",
       "      <td>19</td>\n",
       "      <td>18</td>\n",
       "      <td>0</td>\n",
       "      <td>0</td>\n",
       "      <td>2</td>\n",
       "    </tr>\n",
       "  </tbody>\n",
       "</table>\n",
       "<p>1367 rows × 19 columns</p>\n",
       "</div>"
      ],
      "text/plain": [
       "                 datetime  season  holiday  workingday  weather   temp  \\\n",
       "7     2011-01-01 07:00:00       1        0           0        1   8.20   \n",
       "17    2011-01-01 17:00:00       1        0           0        2  18.04   \n",
       "18    2011-01-01 18:00:00       1        0           0        3  17.22   \n",
       "30    2011-01-02 07:00:00       1        0           0        2  16.40   \n",
       "40    2011-01-02 17:00:00       1        0           0        1  13.94   \n",
       "...                   ...     ...      ...         ...      ...    ...   \n",
       "10855 2012-12-18 17:00:00       4        0           1        1  16.40   \n",
       "10856 2012-12-18 18:00:00       4        0           1        1  15.58   \n",
       "10869 2012-12-19 07:00:00       4        0           1        1  10.66   \n",
       "10879 2012-12-19 17:00:00       4        0           1        1  16.40   \n",
       "10880 2012-12-19 18:00:00       4        0           1        1  15.58   \n",
       "\n",
       "        atemp  humidity  windspeed  casual  registered  count  year  month  \\\n",
       "7      12.880        86     0.0000       1           2      3  2011      1   \n",
       "17     21.970        82    19.0012      15          52     67  2011      1   \n",
       "18     21.210        88    16.9979       9          26     35  2011      1   \n",
       "30     20.455        76    12.9980       0           1      1  2011      1   \n",
       "40     16.665        57    12.9980       7          58     65  2011      1   \n",
       "...       ...       ...        ...     ...         ...    ...   ...    ...   \n",
       "10855  20.455        47    30.0026      39         533    572  2012     12   \n",
       "10856  19.695        46    22.0028      13         512    525  2012     12   \n",
       "10869  13.635        75     8.9981       3         360    363  2012     12   \n",
       "10879  20.455        50    26.0027      26         536    562  2012     12   \n",
       "10880  19.695        50    23.9994      23         546    569  2012     12   \n",
       "\n",
       "       day  hour  minute  second  dayofweek  \n",
       "7        1     7       0       0          5  \n",
       "17       1    17       0       0          5  \n",
       "18       1    18       0       0          5  \n",
       "30       2     7       0       0          6  \n",
       "40       2    17       0       0          6  \n",
       "...    ...   ...     ...     ...        ...  \n",
       "10855   18    17       0       0          1  \n",
       "10856   18    18       0       0          1  \n",
       "10869   19     7       0       0          2  \n",
       "10879   19    17       0       0          2  \n",
       "10880   19    18       0       0          2  \n",
       "\n",
       "[1367 rows x 19 columns]"
      ]
     },
     "execution_count": 41,
     "metadata": {},
     "output_type": "execute_result"
    }
   ],
   "source": [
    "new_train[(new_train[\"hour\"] == 7) | \n",
    "          (new_train[\"hour\"] == 17) | \n",
    "          (new_train[\"hour\"] == 18)]"
   ]
  },
  {
   "cell_type": "code",
   "execution_count": null,
   "id": "418bd754",
   "metadata": {},
   "outputs": [],
   "source": []
  }
 ],
 "metadata": {
  "kernelspec": {
   "display_name": "Python 3 (ipykernel)",
   "language": "python",
   "name": "python3"
  },
  "language_info": {
   "codemirror_mode": {
    "name": "ipython",
    "version": 3
   },
   "file_extension": ".py",
   "mimetype": "text/x-python",
   "name": "python",
   "nbconvert_exporter": "python",
   "pygments_lexer": "ipython3",
   "version": "3.8.8"
  }
 },
 "nbformat": 4,
 "nbformat_minor": 5
}
