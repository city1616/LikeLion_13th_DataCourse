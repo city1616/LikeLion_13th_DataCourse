{
 "cells": [
  {
   "cell_type": "markdown",
   "id": "6dc1e6ad",
   "metadata": {},
   "source": [
    "### 2021_10_25_2"
   ]
  },
  {
   "cell_type": "code",
   "execution_count": 2,
   "id": "e9b341e6",
   "metadata": {},
   "outputs": [
    {
     "name": "stdout",
     "output_type": "stream",
     "text": [
      "../CSV/bike-sharing-demand/sampleSubmission.csv\n",
      "../CSV/bike-sharing-demand/test.csv\n",
      "../CSV/bike-sharing-demand/train.csv\n"
     ]
    }
   ],
   "source": [
    "import numpy as np # linear algebra\n",
    "import pandas as pd # data processing, CSV file I/O (e.g. pd.read_csv)\n",
    "import os\n",
    "for dirname, _, filenames in os.walk('../CSV/bike-sharing-demand/'):\n",
    "    for filename in filenames:\n",
    "        print(os.path.join(dirname, filename))\n"
   ]
  },
  {
   "cell_type": "markdown",
   "id": "67042804",
   "metadata": {},
   "source": [
    "### 데이터 불러오기"
   ]
  },
  {
   "cell_type": "code",
   "execution_count": 5,
   "id": "b4851aaf",
   "metadata": {},
   "outputs": [
    {
     "name": "stdout",
     "output_type": "stream",
     "text": [
      "train shape : (10886, 12)\n",
      "test shape : (6493, 9)\n",
      "sub shape : (6493, 2)\n"
     ]
    }
   ],
   "source": [
    "train = pd.read_csv(\"../CSV/bike-sharing-demand/train.csv\",parse_dates=['datetime'])\n",
    "test = pd.read_csv(\"../CSV/bike-sharing-demand/test.csv\",parse_dates=['datetime'])\n",
    "sub = pd.read_csv(\"../CSV/bike-sharing-demand/sampleSubmission.csv\")\n",
    "\n",
    "print(\"train shape : {}\".format(train.shape))\n",
    "print(\"test shape : {}\".format(test.shape))\n",
    "print(\"sub shape : {}\".format(sub.shape))"
   ]
  },
  {
   "cell_type": "markdown",
   "id": "daeabb79",
   "metadata": {},
   "source": [
    "### 입력, 출력 데이터 선택"
   ]
  },
  {
   "cell_type": "code",
   "execution_count": 6,
   "id": "bee780ae",
   "metadata": {},
   "outputs": [],
   "source": [
    "f_names = ['temp', 'atemp']\n",
    "X_train = train[f_names]    # 학습용 데이터의 변수 선택 \n",
    "X_test = test[f_names]      # 테스트 데이터의 변수 선택 \n",
    "\n",
    "label_name = 'count'        # 렌탈 대수 (종속변수)\n",
    "y_train = train[label_name] # 렌탈 대수 변수 값 선택"
   ]
  },
  {
   "cell_type": "markdown",
   "id": "a7d4f61b",
   "metadata": {},
   "source": [
    "### 모델 만들기 및 예측 순서\n",
    "* 모델을 생성한다. -> model = 모델명()\n",
    "* 모델을 학습한다. -> model.fit(입력값, 출력값)\n",
    "* 모델을 이용하여 예측한다. -> model.predict(입력값)"
   ]
  },
  {
   "cell_type": "code",
   "execution_count": 7,
   "id": "0f436110",
   "metadata": {},
   "outputs": [],
   "source": [
    "from sklearn.linear_model import LinearRegression"
   ]
  },
  {
   "cell_type": "code",
   "execution_count": 8,
   "id": "1b79b0cf",
   "metadata": {},
   "outputs": [
    {
     "name": "stdout",
     "output_type": "stream",
     "text": [
      "[8.19865874 0.90720808]\n",
      "4.2481326458035085\n"
     ]
    }
   ],
   "source": [
    "model = LinearRegression()\n",
    "model.fit(X_train, y_train)\n",
    "model.predict(X_test)\n",
    "\n",
    "print(model.coef_) # 모델(선형회귀의 계수)\n",
    "print(model.intercept_) # 모델(선형회귀의 교차점)"
   ]
  },
  {
   "cell_type": "markdown",
   "id": "f9229194",
   "metadata": {},
   "source": [
    "* 모델\n",
    "* 렌탈 대수 = temp * 8.19 + atemp * 0.97 + 4.24"
   ]
  },
  {
   "cell_type": "code",
   "execution_count": 10,
   "id": "8a26fcb9",
   "metadata": {},
   "outputs": [],
   "source": [
    "pred = model.predict(X_test)\n",
    "sub[\"count\"] = pred\n",
    "sub.loc[sub[\"count\"] < 0, \"count\"] = 0\n",
    "sub.to_csv(\"../CSV/bike-sharing-demand/01_sub.csv\", index = False)"
   ]
  },
  {
   "cell_type": "code",
   "execution_count": 11,
   "id": "99916f89",
   "metadata": {},
   "outputs": [
    {
     "data": {
      "text/html": [
       "<div>\n",
       "<style scoped>\n",
       "    .dataframe tbody tr th:only-of-type {\n",
       "        vertical-align: middle;\n",
       "    }\n",
       "\n",
       "    .dataframe tbody tr th {\n",
       "        vertical-align: top;\n",
       "    }\n",
       "\n",
       "    .dataframe thead th {\n",
       "        text-align: right;\n",
       "    }\n",
       "</style>\n",
       "<table border=\"1\" class=\"dataframe\">\n",
       "  <thead>\n",
       "    <tr style=\"text-align: right;\">\n",
       "      <th></th>\n",
       "      <th>datetime</th>\n",
       "      <th>count</th>\n",
       "    </tr>\n",
       "  </thead>\n",
       "  <tbody>\n",
       "    <tr>\n",
       "      <th>0</th>\n",
       "      <td>2011-01-20 00:00:00</td>\n",
       "      <td>101.956255</td>\n",
       "    </tr>\n",
       "    <tr>\n",
       "      <th>1</th>\n",
       "      <td>2011-01-20 01:00:00</td>\n",
       "      <td>104.015617</td>\n",
       "    </tr>\n",
       "    <tr>\n",
       "      <th>2</th>\n",
       "      <td>2011-01-20 02:00:00</td>\n",
       "      <td>104.015617</td>\n",
       "    </tr>\n",
       "  </tbody>\n",
       "</table>\n",
       "</div>"
      ],
      "text/plain": [
       "              datetime       count\n",
       "0  2011-01-20 00:00:00  101.956255\n",
       "1  2011-01-20 01:00:00  104.015617\n",
       "2  2011-01-20 02:00:00  104.015617"
      ]
     },
     "execution_count": 11,
     "metadata": {},
     "output_type": "execute_result"
    }
   ],
   "source": [
    "sub.head(3)"
   ]
  },
  {
   "cell_type": "code",
   "execution_count": null,
   "id": "c8bdc97c",
   "metadata": {},
   "outputs": [],
   "source": []
  }
 ],
 "metadata": {
  "kernelspec": {
   "display_name": "Python 3 (ipykernel)",
   "language": "python",
   "name": "python3"
  },
  "language_info": {
   "codemirror_mode": {
    "name": "ipython",
    "version": 3
   },
   "file_extension": ".py",
   "mimetype": "text/x-python",
   "name": "python",
   "nbconvert_exporter": "python",
   "pygments_lexer": "ipython3",
   "version": "3.8.8"
  }
 },
 "nbformat": 4,
 "nbformat_minor": 5
}
