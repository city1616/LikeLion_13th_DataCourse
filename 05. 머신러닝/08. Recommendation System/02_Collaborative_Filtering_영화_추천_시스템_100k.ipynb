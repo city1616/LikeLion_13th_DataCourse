{
 "cells": [
  {
   "cell_type": "markdown",
   "id": "5a7086de",
   "metadata": {},
   "source": [
    "### 2021_10_29_4"
   ]
  },
  {
   "cell_type": "markdown",
   "id": "179ffd7c",
   "metadata": {},
   "source": [
    "### 아이템 기반 협업 필터링 기법을 활용한 영화 추천 시스템 만들기\n",
    "* 영화 리뷰 데이터를 이용한 추천 시스템 구현"
   ]
  },
  {
   "cell_type": "code",
   "execution_count": 1,
   "id": "98e3253b",
   "metadata": {},
   "outputs": [],
   "source": [
    "import pandas as pd\n",
    "import numpy as np"
   ]
  },
  {
   "cell_type": "markdown",
   "id": "d3c7d607",
   "metadata": {},
   "source": [
    "### 첫번째 데이터 불러오기\n",
    "* df : 10만개 리뷰 정보"
   ]
  },
  {
   "cell_type": "code",
   "execution_count": 2,
   "id": "df962b13",
   "metadata": {},
   "outputs": [
    {
     "name": "stdout",
     "output_type": "stream",
     "text": [
      "(100000, 4)\n",
      "   user_id  item_id  rating  timestamp\n",
      "0      196      242       3  881250949\n",
      "1      186      302       3  891717742\n",
      "2       22      377       1  878887116\n"
     ]
    }
   ],
   "source": [
    "columns = [\"user_id\", \"item_id\", \"rating\", \"timestamp\"]\n",
    "df = pd.read_csv(\"../DATA/ml-100k/u.data\", sep = \"\\t\", names = columns)\n",
    "print(df.shape)\n",
    "print(df.head(3))"
   ]
  },
  {
   "cell_type": "markdown",
   "id": "5f2f713c",
   "metadata": {},
   "source": [
    "### 두번째 데이터 불러오기\n",
    "* u.item\n",
    "    * item_id : 영화 정보\n",
    "    * movie_title : 영화 제목\n",
    "    * release date : 출시일\n",
    "    * video release date : 비디오 출시일\n",
    "    * IMDb URL : IMDb URL 정보\n",
    "    * unknown, .. : 기타 장르 정보"
   ]
  },
  {
   "cell_type": "code",
   "execution_count": 3,
   "id": "6154f509",
   "metadata": {},
   "outputs": [
    {
     "name": "stdout",
     "output_type": "stream",
     "text": [
      "movies shape :  (1682, 24)\n",
      "   item_id        movie title release date  video release date  \\\n",
      "0        1   Toy Story (1995)  01-Jan-1995                 NaN   \n",
      "1        2   GoldenEye (1995)  01-Jan-1995                 NaN   \n",
      "2        3  Four Rooms (1995)  01-Jan-1995                 NaN   \n",
      "\n",
      "                                            IMDb URL  unknown  Action  \\\n",
      "0  http://us.imdb.com/M/title-exact?Toy%20Story%2...        0       0   \n",
      "1  http://us.imdb.com/M/title-exact?GoldenEye%20(...        0       1   \n",
      "2  http://us.imdb.com/M/title-exact?Four%20Rooms%...        0       0   \n",
      "\n",
      "   Adventure  Animation  Childrens  ...  Fantasy  Film-Noir  Horror  Musical  \\\n",
      "0          0          1          1  ...        0          0       0        0   \n",
      "1          1          0          0  ...        0          0       0        0   \n",
      "2          0          0          0  ...        0          0       0        0   \n",
      "\n",
      "   Mystery  Romance  Sci-Fi  Thriller  War  Western  \n",
      "0        0        0       0         0    0        0  \n",
      "1        0        0       0         1    0        0  \n",
      "2        0        0       0         1    0        0  \n",
      "\n",
      "[3 rows x 24 columns]\n"
     ]
    }
   ],
   "source": [
    "# 장르 분야\n",
    "columns = ['item_id', 'movie title', 'release date', 'video release date', 'IMDb URL', \n",
    "           'unknown', 'Action', 'Adventure', 'Animation', 'Childrens', \n",
    "           'Comedy', 'Crime', 'Documentary', 'Drama', 'Fantasy', \n",
    "           'Film-Noir', 'Horror', 'Musical', 'Mystery', 'Romance', \n",
    "           'Sci-Fi', 'Thriller', 'War', 'Western']\n",
    "movies = pd.read_csv(\"../DATA/ml-100k/u.item\", sep = \"|\",\n",
    "                    names = columns, encoding = \"latin-1\")\n",
    "\n",
    "print(\"movies shape : \", movies.shape)\n",
    "print(movies.head(3))"
   ]
  },
  {
   "cell_type": "markdown",
   "id": "8a5be4af",
   "metadata": {},
   "source": [
    "### 두 데이터 병합\n",
    "* df : 10만개 리뷰 정보\n",
    "* movies : 영화 정보 및 장르 정보"
   ]
  },
  {
   "cell_type": "code",
   "execution_count": 8,
   "id": "d266f65d",
   "metadata": {},
   "outputs": [
    {
     "name": "stdout",
     "output_type": "stream",
     "text": [
      "영화 리뷰 정보의 영화 개수 : 1682\n",
      "영화 정보의 영화 개수 : 1682\n"
     ]
    }
   ],
   "source": [
    "# 영화 리뷰 정보의 영화 개수 : 1682편\n",
    "print(\"영화 리뷰 정보의 영화 개수 :\", len(df.item_id.unique()))     \n",
    "# 영화 정보의 영화 개수 : 1682편\n",
    "print(\"영화 정보의 영화 개수 :\", len(movies.item_id.unique())) "
   ]
  },
  {
   "cell_type": "code",
   "execution_count": 7,
   "id": "fcf663cd",
   "metadata": {},
   "outputs": [
    {
     "name": "stdout",
     "output_type": "stream",
     "text": [
      "(100000, 5)\n",
      "   user_id  item_id  rating  timestamp   movie title\n",
      "0      196      242       3  881250949  Kolya (1996)\n",
      "1       63      242       3  875747190  Kolya (1996)\n",
      "2      226      242       5  883888671  Kolya (1996)\n"
     ]
    }
   ],
   "source": [
    "movie_names = movies[[\"item_id\", \"movie title\"]]\n",
    "\n",
    "c_movies_data = pd.merge(df, movie_names, on = \"item_id\")\n",
    "print(c_movies_data.shape)\n",
    "print(c_movies_data.head(3))"
   ]
  },
  {
   "cell_type": "markdown",
   "id": "3391dd1b",
   "metadata": {},
   "source": [
    "### 하나의 영화를 선택하고 관련 유사한 영화 10편을 추천해 주는 시스템"
   ]
  },
  {
   "cell_type": "code",
   "execution_count": 12,
   "id": "fe68ad0d",
   "metadata": {},
   "outputs": [
    {
     "name": "stdout",
     "output_type": "stream",
     "text": [
      "(943, 1664)\n"
     ]
    },
    {
     "data": {
      "text/html": [
       "<div>\n",
       "<style scoped>\n",
       "    .dataframe tbody tr th:only-of-type {\n",
       "        vertical-align: middle;\n",
       "    }\n",
       "\n",
       "    .dataframe tbody tr th {\n",
       "        vertical-align: top;\n",
       "    }\n",
       "\n",
       "    .dataframe thead th {\n",
       "        text-align: right;\n",
       "    }\n",
       "</style>\n",
       "<table border=\"1\" class=\"dataframe\">\n",
       "  <thead>\n",
       "    <tr style=\"text-align: right;\">\n",
       "      <th>movie title</th>\n",
       "      <th>'Til There Was You (1997)</th>\n",
       "      <th>1-900 (1994)</th>\n",
       "      <th>101 Dalmatians (1996)</th>\n",
       "      <th>12 Angry Men (1957)</th>\n",
       "      <th>187 (1997)</th>\n",
       "      <th>2 Days in the Valley (1996)</th>\n",
       "      <th>20,000 Leagues Under the Sea (1954)</th>\n",
       "      <th>2001: A Space Odyssey (1968)</th>\n",
       "      <th>3 Ninjas: High Noon At Mega Mountain (1998)</th>\n",
       "      <th>39 Steps, The (1935)</th>\n",
       "      <th>...</th>\n",
       "      <th>Yankee Zulu (1994)</th>\n",
       "      <th>Year of the Horse (1997)</th>\n",
       "      <th>You So Crazy (1994)</th>\n",
       "      <th>Young Frankenstein (1974)</th>\n",
       "      <th>Young Guns (1988)</th>\n",
       "      <th>Young Guns II (1990)</th>\n",
       "      <th>Young Poisoner's Handbook, The (1995)</th>\n",
       "      <th>Zeus and Roxanne (1997)</th>\n",
       "      <th>unknown</th>\n",
       "      <th>Á köldum klaka (Cold Fever) (1994)</th>\n",
       "    </tr>\n",
       "    <tr>\n",
       "      <th>user_id</th>\n",
       "      <th></th>\n",
       "      <th></th>\n",
       "      <th></th>\n",
       "      <th></th>\n",
       "      <th></th>\n",
       "      <th></th>\n",
       "      <th></th>\n",
       "      <th></th>\n",
       "      <th></th>\n",
       "      <th></th>\n",
       "      <th></th>\n",
       "      <th></th>\n",
       "      <th></th>\n",
       "      <th></th>\n",
       "      <th></th>\n",
       "      <th></th>\n",
       "      <th></th>\n",
       "      <th></th>\n",
       "      <th></th>\n",
       "      <th></th>\n",
       "      <th></th>\n",
       "    </tr>\n",
       "  </thead>\n",
       "  <tbody>\n",
       "    <tr>\n",
       "      <th>1</th>\n",
       "      <td>0</td>\n",
       "      <td>0</td>\n",
       "      <td>2</td>\n",
       "      <td>5</td>\n",
       "      <td>0</td>\n",
       "      <td>0</td>\n",
       "      <td>3</td>\n",
       "      <td>4</td>\n",
       "      <td>0</td>\n",
       "      <td>0</td>\n",
       "      <td>...</td>\n",
       "      <td>0</td>\n",
       "      <td>0</td>\n",
       "      <td>0</td>\n",
       "      <td>5</td>\n",
       "      <td>3</td>\n",
       "      <td>0</td>\n",
       "      <td>0</td>\n",
       "      <td>0</td>\n",
       "      <td>4</td>\n",
       "      <td>0</td>\n",
       "    </tr>\n",
       "    <tr>\n",
       "      <th>2</th>\n",
       "      <td>0</td>\n",
       "      <td>0</td>\n",
       "      <td>0</td>\n",
       "      <td>0</td>\n",
       "      <td>0</td>\n",
       "      <td>0</td>\n",
       "      <td>0</td>\n",
       "      <td>0</td>\n",
       "      <td>1</td>\n",
       "      <td>0</td>\n",
       "      <td>...</td>\n",
       "      <td>0</td>\n",
       "      <td>0</td>\n",
       "      <td>0</td>\n",
       "      <td>0</td>\n",
       "      <td>0</td>\n",
       "      <td>0</td>\n",
       "      <td>0</td>\n",
       "      <td>0</td>\n",
       "      <td>0</td>\n",
       "      <td>0</td>\n",
       "    </tr>\n",
       "    <tr>\n",
       "      <th>3</th>\n",
       "      <td>0</td>\n",
       "      <td>0</td>\n",
       "      <td>0</td>\n",
       "      <td>0</td>\n",
       "      <td>2</td>\n",
       "      <td>0</td>\n",
       "      <td>0</td>\n",
       "      <td>0</td>\n",
       "      <td>0</td>\n",
       "      <td>0</td>\n",
       "      <td>...</td>\n",
       "      <td>0</td>\n",
       "      <td>0</td>\n",
       "      <td>0</td>\n",
       "      <td>0</td>\n",
       "      <td>0</td>\n",
       "      <td>0</td>\n",
       "      <td>0</td>\n",
       "      <td>0</td>\n",
       "      <td>0</td>\n",
       "      <td>0</td>\n",
       "    </tr>\n",
       "  </tbody>\n",
       "</table>\n",
       "<p>3 rows × 1664 columns</p>\n",
       "</div>"
      ],
      "text/plain": [
       "movie title  'Til There Was You (1997)  1-900 (1994)  101 Dalmatians (1996)  \\\n",
       "user_id                                                                       \n",
       "1                                    0             0                      2   \n",
       "2                                    0             0                      0   \n",
       "3                                    0             0                      0   \n",
       "\n",
       "movie title  12 Angry Men (1957)  187 (1997)  2 Days in the Valley (1996)  \\\n",
       "user_id                                                                     \n",
       "1                              5           0                            0   \n",
       "2                              0           0                            0   \n",
       "3                              0           2                            0   \n",
       "\n",
       "movie title  20,000 Leagues Under the Sea (1954)  \\\n",
       "user_id                                            \n",
       "1                                              3   \n",
       "2                                              0   \n",
       "3                                              0   \n",
       "\n",
       "movie title  2001: A Space Odyssey (1968)  \\\n",
       "user_id                                     \n",
       "1                                       4   \n",
       "2                                       0   \n",
       "3                                       0   \n",
       "\n",
       "movie title  3 Ninjas: High Noon At Mega Mountain (1998)  \\\n",
       "user_id                                                    \n",
       "1                                                      0   \n",
       "2                                                      1   \n",
       "3                                                      0   \n",
       "\n",
       "movie title  39 Steps, The (1935)  ...  Yankee Zulu (1994)  \\\n",
       "user_id                            ...                       \n",
       "1                               0  ...                   0   \n",
       "2                               0  ...                   0   \n",
       "3                               0  ...                   0   \n",
       "\n",
       "movie title  Year of the Horse (1997)  You So Crazy (1994)  \\\n",
       "user_id                                                      \n",
       "1                                   0                    0   \n",
       "2                                   0                    0   \n",
       "3                                   0                    0   \n",
       "\n",
       "movie title  Young Frankenstein (1974)  Young Guns (1988)  \\\n",
       "user_id                                                     \n",
       "1                                    5                  3   \n",
       "2                                    0                  0   \n",
       "3                                    0                  0   \n",
       "\n",
       "movie title  Young Guns II (1990)  Young Poisoner's Handbook, The (1995)  \\\n",
       "user_id                                                                    \n",
       "1                               0                                      0   \n",
       "2                               0                                      0   \n",
       "3                               0                                      0   \n",
       "\n",
       "movie title  Zeus and Roxanne (1997)  unknown  \\\n",
       "user_id                                         \n",
       "1                                  0        4   \n",
       "2                                  0        0   \n",
       "3                                  0        0   \n",
       "\n",
       "movie title  Á köldum klaka (Cold Fever) (1994)  \n",
       "user_id                                          \n",
       "1                                             0  \n",
       "2                                             0  \n",
       "3                                             0  \n",
       "\n",
       "[3 rows x 1664 columns]"
      ]
     },
     "execution_count": 12,
     "metadata": {},
     "output_type": "execute_result"
    }
   ],
   "source": [
    "rating_c = c_movies_data.pivot_table(values = \"rating\", \n",
    "                                    index = \"user_id\",\n",
    "                                    columns = \"movie title\",\n",
    "                                    fill_value = 0)\n",
    "print(rating_c.shape)\n",
    "rating_c.head(3)"
   ]
  },
  {
   "cell_type": "markdown",
   "id": "3e9c14e6",
   "metadata": {},
   "source": [
    "### 아이템 기반 협업 필터링을 위해 행열 바꾸기"
   ]
  },
  {
   "cell_type": "code",
   "execution_count": 13,
   "id": "6747594d",
   "metadata": {},
   "outputs": [
    {
     "name": "stdout",
     "output_type": "stream",
     "text": [
      "(1664, 943)\n"
     ]
    }
   ],
   "source": [
    "X = rating_c.T\n",
    "print(X.shape)"
   ]
  },
  {
   "cell_type": "code",
   "execution_count": 14,
   "id": "f4c5e7b4",
   "metadata": {},
   "outputs": [
    {
     "data": {
      "text/html": [
       "<div>\n",
       "<style scoped>\n",
       "    .dataframe tbody tr th:only-of-type {\n",
       "        vertical-align: middle;\n",
       "    }\n",
       "\n",
       "    .dataframe tbody tr th {\n",
       "        vertical-align: top;\n",
       "    }\n",
       "\n",
       "    .dataframe thead th {\n",
       "        text-align: right;\n",
       "    }\n",
       "</style>\n",
       "<table border=\"1\" class=\"dataframe\">\n",
       "  <thead>\n",
       "    <tr style=\"text-align: right;\">\n",
       "      <th>user_id</th>\n",
       "      <th>1</th>\n",
       "      <th>2</th>\n",
       "      <th>3</th>\n",
       "      <th>4</th>\n",
       "      <th>5</th>\n",
       "      <th>6</th>\n",
       "      <th>7</th>\n",
       "      <th>8</th>\n",
       "      <th>9</th>\n",
       "      <th>10</th>\n",
       "      <th>...</th>\n",
       "      <th>934</th>\n",
       "      <th>935</th>\n",
       "      <th>936</th>\n",
       "      <th>937</th>\n",
       "      <th>938</th>\n",
       "      <th>939</th>\n",
       "      <th>940</th>\n",
       "      <th>941</th>\n",
       "      <th>942</th>\n",
       "      <th>943</th>\n",
       "    </tr>\n",
       "    <tr>\n",
       "      <th>movie title</th>\n",
       "      <th></th>\n",
       "      <th></th>\n",
       "      <th></th>\n",
       "      <th></th>\n",
       "      <th></th>\n",
       "      <th></th>\n",
       "      <th></th>\n",
       "      <th></th>\n",
       "      <th></th>\n",
       "      <th></th>\n",
       "      <th></th>\n",
       "      <th></th>\n",
       "      <th></th>\n",
       "      <th></th>\n",
       "      <th></th>\n",
       "      <th></th>\n",
       "      <th></th>\n",
       "      <th></th>\n",
       "      <th></th>\n",
       "      <th></th>\n",
       "      <th></th>\n",
       "    </tr>\n",
       "  </thead>\n",
       "  <tbody>\n",
       "    <tr>\n",
       "      <th>'Til There Was You (1997)</th>\n",
       "      <td>0.0</td>\n",
       "      <td>0.0</td>\n",
       "      <td>0.0</td>\n",
       "      <td>0.0</td>\n",
       "      <td>0.0</td>\n",
       "      <td>0.0</td>\n",
       "      <td>0.0</td>\n",
       "      <td>0.0</td>\n",
       "      <td>0.0</td>\n",
       "      <td>0.0</td>\n",
       "      <td>...</td>\n",
       "      <td>0.0</td>\n",
       "      <td>0.0</td>\n",
       "      <td>0.0</td>\n",
       "      <td>0.0</td>\n",
       "      <td>0.0</td>\n",
       "      <td>0.0</td>\n",
       "      <td>0.0</td>\n",
       "      <td>0.0</td>\n",
       "      <td>0.0</td>\n",
       "      <td>0.0</td>\n",
       "    </tr>\n",
       "    <tr>\n",
       "      <th>1-900 (1994)</th>\n",
       "      <td>0.0</td>\n",
       "      <td>0.0</td>\n",
       "      <td>0.0</td>\n",
       "      <td>0.0</td>\n",
       "      <td>0.0</td>\n",
       "      <td>0.0</td>\n",
       "      <td>0.0</td>\n",
       "      <td>0.0</td>\n",
       "      <td>0.0</td>\n",
       "      <td>0.0</td>\n",
       "      <td>...</td>\n",
       "      <td>0.0</td>\n",
       "      <td>0.0</td>\n",
       "      <td>0.0</td>\n",
       "      <td>0.0</td>\n",
       "      <td>0.0</td>\n",
       "      <td>0.0</td>\n",
       "      <td>0.0</td>\n",
       "      <td>0.0</td>\n",
       "      <td>0.0</td>\n",
       "      <td>0.0</td>\n",
       "    </tr>\n",
       "    <tr>\n",
       "      <th>101 Dalmatians (1996)</th>\n",
       "      <td>2.0</td>\n",
       "      <td>0.0</td>\n",
       "      <td>0.0</td>\n",
       "      <td>0.0</td>\n",
       "      <td>2.0</td>\n",
       "      <td>0.0</td>\n",
       "      <td>0.0</td>\n",
       "      <td>0.0</td>\n",
       "      <td>0.0</td>\n",
       "      <td>0.0</td>\n",
       "      <td>...</td>\n",
       "      <td>2.0</td>\n",
       "      <td>0.0</td>\n",
       "      <td>0.0</td>\n",
       "      <td>2.0</td>\n",
       "      <td>4.0</td>\n",
       "      <td>0.0</td>\n",
       "      <td>0.0</td>\n",
       "      <td>0.0</td>\n",
       "      <td>0.0</td>\n",
       "      <td>0.0</td>\n",
       "    </tr>\n",
       "  </tbody>\n",
       "</table>\n",
       "<p>3 rows × 943 columns</p>\n",
       "</div>"
      ],
      "text/plain": [
       "user_id                    1    2    3    4    5    6    7    8    9    10   \\\n",
       "movie title                                                                   \n",
       "'Til There Was You (1997)  0.0  0.0  0.0  0.0  0.0  0.0  0.0  0.0  0.0  0.0   \n",
       "1-900 (1994)               0.0  0.0  0.0  0.0  0.0  0.0  0.0  0.0  0.0  0.0   \n",
       "101 Dalmatians (1996)      2.0  0.0  0.0  0.0  2.0  0.0  0.0  0.0  0.0  0.0   \n",
       "\n",
       "user_id                    ...  934  935  936  937  938  939  940  941  942  \\\n",
       "movie title                ...                                                \n",
       "'Til There Was You (1997)  ...  0.0  0.0  0.0  0.0  0.0  0.0  0.0  0.0  0.0   \n",
       "1-900 (1994)               ...  0.0  0.0  0.0  0.0  0.0  0.0  0.0  0.0  0.0   \n",
       "101 Dalmatians (1996)      ...  2.0  0.0  0.0  2.0  4.0  0.0  0.0  0.0  0.0   \n",
       "\n",
       "user_id                    943  \n",
       "movie title                     \n",
       "'Til There Was You (1997)  0.0  \n",
       "1-900 (1994)               0.0  \n",
       "101 Dalmatians (1996)      0.0  \n",
       "\n",
       "[3 rows x 943 columns]"
      ]
     },
     "execution_count": 14,
     "metadata": {},
     "output_type": "execute_result"
    }
   ],
   "source": [
    "X.head(3)"
   ]
  },
  {
   "cell_type": "markdown",
   "id": "a14f3392",
   "metadata": {},
   "source": [
    "### 차원 축소\n",
    "* SVD\n",
    "* 사이킷런을 활용하여 SVD를 할 수 있다.\n",
    "* truncated SVD를 사용하여 차원 축소한다."
   ]
  },
  {
   "cell_type": "code",
   "execution_count": 20,
   "id": "e31fd949",
   "metadata": {},
   "outputs": [
    {
     "name": "stdout",
     "output_type": "stream",
     "text": [
      "X shape : (1664, 943)\n",
      "resultant_matrix shape : (1664, 12)\n"
     ]
    }
   ],
   "source": [
    "from sklearn.decomposition import TruncatedSVD\n",
    "\n",
    "SVD = TruncatedSVD(n_components = 12, random_state = 5)\n",
    "resultant_matrix = SVD.fit_transform(X) \n",
    "\n",
    "print(\"X shape : {}\".format(X.shape))\n",
    "print(\"resultant_matrix shape :\", resultant_matrix.shape)"
   ]
  },
  {
   "cell_type": "markdown",
   "id": "546980af",
   "metadata": {},
   "source": [
    "### Correlation Pearson\n",
    "* 피어슨 상관계수 , 코사인 유사성과 같은 다양한 유사성 측정 지표를 사용할 수 있다.\n",
    "* 피어슨 상관계수를 이용하여 상관 행렬을 만들어봄."
   ]
  },
  {
   "cell_type": "code",
   "execution_count": 21,
   "id": "c946022e",
   "metadata": {},
   "outputs": [
    {
     "name": "stdout",
     "output_type": "stream",
     "text": [
      "(1664, 1664)\n"
     ]
    },
    {
     "data": {
      "text/plain": [
       "array([[ 1.        , -0.11573577,  0.51362284, ...,  0.38310045,\n",
       "         0.20193733,  0.5065142 ],\n",
       "       [-0.11573577,  1.        ,  0.05820808, ...,  0.15805829,\n",
       "         0.51795357,  0.27104818],\n",
       "       [ 0.51362284,  0.05820808,  1.        , ...,  0.76575655,\n",
       "         0.43824619,  0.19507139],\n",
       "       ...,\n",
       "       [ 0.38310045,  0.15805829,  0.76575655, ...,  1.        ,\n",
       "         0.18043708,  0.12115972],\n",
       "       [ 0.20193733,  0.51795357,  0.43824619, ...,  0.18043708,\n",
       "         1.        ,  0.20126072],\n",
       "       [ 0.5065142 ,  0.27104818,  0.19507139, ...,  0.12115972,\n",
       "         0.20126072,  1.        ]])"
      ]
     },
     "execution_count": 21,
     "metadata": {},
     "output_type": "execute_result"
    }
   ],
   "source": [
    "### correlation matrix\n",
    "corr_mat = np.corrcoef(resultant_matrix)\n",
    "print(corr_mat.shape)\n",
    "corr_mat"
   ]
  },
  {
   "cell_type": "markdown",
   "id": "24b2500d",
   "metadata": {},
   "source": [
    "### 유사 영화를 찾기\n",
    "### Similar Movies to Star Wars (1977)"
   ]
  },
  {
   "cell_type": "code",
   "execution_count": 23,
   "id": "5266070d",
   "metadata": {},
   "outputs": [
    {
     "data": {
      "text/plain": [
       "1398"
      ]
     },
     "execution_count": 23,
     "metadata": {},
     "output_type": "execute_result"
    }
   ],
   "source": [
    "rating_c.columns.get_loc(\"Star Wars (1977)\")"
   ]
  },
  {
   "cell_type": "code",
   "execution_count": 24,
   "id": "6bed2e42",
   "metadata": {},
   "outputs": [
    {
     "name": "stdout",
     "output_type": "stream",
     "text": [
      "(1664,)\n"
     ]
    }
   ],
   "source": [
    "col_idx = rating_c.columns.get_loc(\"Star Wars (1977)\")\n",
    "corr_specific = corr_mat[col_idx]    # Star Wars (1977)의 위치 행 획득\n",
    "print(corr_specific.shape) "
   ]
  },
  {
   "cell_type": "code",
   "execution_count": 25,
   "id": "81f259af",
   "metadata": {},
   "outputs": [
    {
     "name": "stdout",
     "output_type": "stream",
     "text": [
      "(1664, 2)\n"
     ]
    },
    {
     "data": {
      "text/html": [
       "<div>\n",
       "<style scoped>\n",
       "    .dataframe tbody tr th:only-of-type {\n",
       "        vertical-align: middle;\n",
       "    }\n",
       "\n",
       "    .dataframe tbody tr th {\n",
       "        vertical-align: top;\n",
       "    }\n",
       "\n",
       "    .dataframe thead th {\n",
       "        text-align: right;\n",
       "    }\n",
       "</style>\n",
       "<table border=\"1\" class=\"dataframe\">\n",
       "  <thead>\n",
       "    <tr style=\"text-align: right;\">\n",
       "      <th></th>\n",
       "      <th>corr_specific</th>\n",
       "      <th>Movies</th>\n",
       "    </tr>\n",
       "  </thead>\n",
       "  <tbody>\n",
       "    <tr>\n",
       "      <th>0</th>\n",
       "      <td>0.357238</td>\n",
       "      <td>'Til There Was You (1997)</td>\n",
       "    </tr>\n",
       "    <tr>\n",
       "      <th>1</th>\n",
       "      <td>0.421507</td>\n",
       "      <td>1-900 (1994)</td>\n",
       "    </tr>\n",
       "    <tr>\n",
       "      <th>2</th>\n",
       "      <td>0.593815</td>\n",
       "      <td>101 Dalmatians (1996)</td>\n",
       "    </tr>\n",
       "    <tr>\n",
       "      <th>3</th>\n",
       "      <td>0.722361</td>\n",
       "      <td>12 Angry Men (1957)</td>\n",
       "    </tr>\n",
       "    <tr>\n",
       "      <th>4</th>\n",
       "      <td>0.325221</td>\n",
       "      <td>187 (1997)</td>\n",
       "    </tr>\n",
       "  </tbody>\n",
       "</table>\n",
       "</div>"
      ],
      "text/plain": [
       "   corr_specific                     Movies\n",
       "0       0.357238  'Til There Was You (1997)\n",
       "1       0.421507               1-900 (1994)\n",
       "2       0.593815      101 Dalmatians (1996)\n",
       "3       0.722361        12 Angry Men (1957)\n",
       "4       0.325221                 187 (1997)"
      ]
     },
     "execution_count": 25,
     "metadata": {},
     "output_type": "execute_result"
    }
   ],
   "source": [
    "result = pd.DataFrame({'corr_specific':corr_specific, 'Movies': rating_c.columns})\n",
    "print(result.shape)\n",
    "result.head()"
   ]
  },
  {
   "cell_type": "markdown",
   "id": "76d8acbd",
   "metadata": {},
   "source": [
    "### 10개의 영화 추천"
   ]
  },
  {
   "cell_type": "code",
   "execution_count": 26,
   "id": "78613029",
   "metadata": {},
   "outputs": [
    {
     "data": {
      "text/html": [
       "<div>\n",
       "<style scoped>\n",
       "    .dataframe tbody tr th:only-of-type {\n",
       "        vertical-align: middle;\n",
       "    }\n",
       "\n",
       "    .dataframe tbody tr th {\n",
       "        vertical-align: top;\n",
       "    }\n",
       "\n",
       "    .dataframe thead th {\n",
       "        text-align: right;\n",
       "    }\n",
       "</style>\n",
       "<table border=\"1\" class=\"dataframe\">\n",
       "  <thead>\n",
       "    <tr style=\"text-align: right;\">\n",
       "      <th></th>\n",
       "      <th>corr_specific</th>\n",
       "      <th>Movies</th>\n",
       "    </tr>\n",
       "  </thead>\n",
       "  <tbody>\n",
       "    <tr>\n",
       "      <th>1398</th>\n",
       "      <td>1.000000</td>\n",
       "      <td>Star Wars (1977)</td>\n",
       "    </tr>\n",
       "    <tr>\n",
       "      <th>1234</th>\n",
       "      <td>0.988052</td>\n",
       "      <td>Return of the Jedi (1983)</td>\n",
       "    </tr>\n",
       "    <tr>\n",
       "      <th>1460</th>\n",
       "      <td>0.942655</td>\n",
       "      <td>Terminator 2: Judgment Day (1991)</td>\n",
       "    </tr>\n",
       "    <tr>\n",
       "      <th>1523</th>\n",
       "      <td>0.933978</td>\n",
       "      <td>Toy Story (1995)</td>\n",
       "    </tr>\n",
       "    <tr>\n",
       "      <th>1461</th>\n",
       "      <td>0.931701</td>\n",
       "      <td>Terminator, The (1984)</td>\n",
       "    </tr>\n",
       "    <tr>\n",
       "      <th>1205</th>\n",
       "      <td>0.925185</td>\n",
       "      <td>Raiders of the Lost Ark (1981)</td>\n",
       "    </tr>\n",
       "    <tr>\n",
       "      <th>456</th>\n",
       "      <td>0.923562</td>\n",
       "      <td>Empire Strikes Back, The (1980)</td>\n",
       "    </tr>\n",
       "    <tr>\n",
       "      <th>570</th>\n",
       "      <td>0.915965</td>\n",
       "      <td>Fugitive, The (1993)</td>\n",
       "    </tr>\n",
       "    <tr>\n",
       "      <th>414</th>\n",
       "      <td>0.914299</td>\n",
       "      <td>Die Hard (1988)</td>\n",
       "    </tr>\n",
       "    <tr>\n",
       "      <th>44</th>\n",
       "      <td>0.892894</td>\n",
       "      <td>Aliens (1986)</td>\n",
       "    </tr>\n",
       "  </tbody>\n",
       "</table>\n",
       "</div>"
      ],
      "text/plain": [
       "      corr_specific                             Movies\n",
       "1398       1.000000                   Star Wars (1977)\n",
       "1234       0.988052          Return of the Jedi (1983)\n",
       "1460       0.942655  Terminator 2: Judgment Day (1991)\n",
       "1523       0.933978                   Toy Story (1995)\n",
       "1461       0.931701             Terminator, The (1984)\n",
       "1205       0.925185     Raiders of the Lost Ark (1981)\n",
       "456        0.923562    Empire Strikes Back, The (1980)\n",
       "570        0.915965               Fugitive, The (1993)\n",
       "414        0.914299                    Die Hard (1988)\n",
       "44         0.892894                      Aliens (1986)"
      ]
     },
     "execution_count": 26,
     "metadata": {},
     "output_type": "execute_result"
    }
   ],
   "source": [
    "result.sort_values('corr_specific', ascending=False).head(10)"
   ]
  },
  {
   "cell_type": "markdown",
   "id": "5e6100b7",
   "metadata": {},
   "source": [
    "### 101 Dalmatians (1996) 관련 15개의 영화 추천"
   ]
  },
  {
   "cell_type": "code",
   "execution_count": 27,
   "id": "27071148",
   "metadata": {},
   "outputs": [
    {
     "data": {
      "text/plain": [
       "2"
      ]
     },
     "execution_count": 27,
     "metadata": {},
     "output_type": "execute_result"
    }
   ],
   "source": [
    "rating_c.columns.get_loc(\"101 Dalmatians (1996)\")"
   ]
  },
  {
   "cell_type": "code",
   "execution_count": 32,
   "id": "85b9da18",
   "metadata": {},
   "outputs": [
    {
     "name": "stdout",
     "output_type": "stream",
     "text": [
      "(1664,)\n",
      "(1664, 2)\n"
     ]
    },
    {
     "data": {
      "text/html": [
       "<div>\n",
       "<style scoped>\n",
       "    .dataframe tbody tr th:only-of-type {\n",
       "        vertical-align: middle;\n",
       "    }\n",
       "\n",
       "    .dataframe tbody tr th {\n",
       "        vertical-align: top;\n",
       "    }\n",
       "\n",
       "    .dataframe thead th {\n",
       "        text-align: right;\n",
       "    }\n",
       "</style>\n",
       "<table border=\"1\" class=\"dataframe\">\n",
       "  <thead>\n",
       "    <tr style=\"text-align: right;\">\n",
       "      <th></th>\n",
       "      <th>corr_specific</th>\n",
       "      <th>Movies</th>\n",
       "    </tr>\n",
       "  </thead>\n",
       "  <tbody>\n",
       "    <tr>\n",
       "      <th>2</th>\n",
       "      <td>1.000000</td>\n",
       "      <td>101 Dalmatians (1996)</td>\n",
       "    </tr>\n",
       "    <tr>\n",
       "      <th>693</th>\n",
       "      <td>0.944203</td>\n",
       "      <td>Homeward Bound II: Lost in San Francisco (1996)</td>\n",
       "    </tr>\n",
       "    <tr>\n",
       "      <th>713</th>\n",
       "      <td>0.932530</td>\n",
       "      <td>Hunchback of Notre Dame, The (1996)</td>\n",
       "    </tr>\n",
       "    <tr>\n",
       "      <th>659</th>\n",
       "      <td>0.922150</td>\n",
       "      <td>Harriet the Spy (1996)</td>\n",
       "    </tr>\n",
       "    <tr>\n",
       "      <th>46</th>\n",
       "      <td>0.910804</td>\n",
       "      <td>All Dogs Go to Heaven 2 (1996)</td>\n",
       "    </tr>\n",
       "    <tr>\n",
       "      <th>805</th>\n",
       "      <td>0.903955</td>\n",
       "      <td>Kazaam (1996)</td>\n",
       "    </tr>\n",
       "    <tr>\n",
       "      <th>23</th>\n",
       "      <td>0.899279</td>\n",
       "      <td>Adventures of Pinocchio, The (1996)</td>\n",
       "    </tr>\n",
       "    <tr>\n",
       "      <th>435</th>\n",
       "      <td>0.899266</td>\n",
       "      <td>Dragonheart (1996)</td>\n",
       "    </tr>\n",
       "    <tr>\n",
       "      <th>764</th>\n",
       "      <td>0.890192</td>\n",
       "      <td>Jack (1996)</td>\n",
       "    </tr>\n",
       "    <tr>\n",
       "      <th>505</th>\n",
       "      <td>0.881306</td>\n",
       "      <td>Father of the Bride Part II (1995)</td>\n",
       "    </tr>\n",
       "    <tr>\n",
       "      <th>953</th>\n",
       "      <td>0.876719</td>\n",
       "      <td>Matilda (1996)</td>\n",
       "    </tr>\n",
       "    <tr>\n",
       "      <th>1547</th>\n",
       "      <td>0.876565</td>\n",
       "      <td>Twister (1996)</td>\n",
       "    </tr>\n",
       "    <tr>\n",
       "      <th>532</th>\n",
       "      <td>0.867612</td>\n",
       "      <td>Flipper (1996)</td>\n",
       "    </tr>\n",
       "    <tr>\n",
       "      <th>525</th>\n",
       "      <td>0.863218</td>\n",
       "      <td>First Kid (1996)</td>\n",
       "    </tr>\n",
       "    <tr>\n",
       "      <th>644</th>\n",
       "      <td>0.863048</td>\n",
       "      <td>Grumpier Old Men (1995)</td>\n",
       "    </tr>\n",
       "  </tbody>\n",
       "</table>\n",
       "</div>"
      ],
      "text/plain": [
       "      corr_specific                                           Movies\n",
       "2          1.000000                            101 Dalmatians (1996)\n",
       "693        0.944203  Homeward Bound II: Lost in San Francisco (1996)\n",
       "713        0.932530              Hunchback of Notre Dame, The (1996)\n",
       "659        0.922150                           Harriet the Spy (1996)\n",
       "46         0.910804                   All Dogs Go to Heaven 2 (1996)\n",
       "805        0.903955                                    Kazaam (1996)\n",
       "23         0.899279              Adventures of Pinocchio, The (1996)\n",
       "435        0.899266                               Dragonheart (1996)\n",
       "764        0.890192                                      Jack (1996)\n",
       "505        0.881306               Father of the Bride Part II (1995)\n",
       "953        0.876719                                   Matilda (1996)\n",
       "1547       0.876565                                   Twister (1996)\n",
       "532        0.867612                                   Flipper (1996)\n",
       "525        0.863218                                 First Kid (1996)\n",
       "644        0.863048                          Grumpier Old Men (1995)"
      ]
     },
     "execution_count": 32,
     "metadata": {},
     "output_type": "execute_result"
    }
   ],
   "source": [
    "col_idx = rating_c.columns.get_loc(\"101 Dalmatians (1996)\")\n",
    "corr_specific = corr_mat[col_idx] # 101 Dalmatians (1996)의 행 획득\n",
    "print(corr_specific.shape)\n",
    "\n",
    "result = pd.DataFrame({\"corr_specific\" : corr_specific, \n",
    "                       \"Movies\" : rating_c.columns})\n",
    "print(result.shape)\n",
    "result.sort_values(\"corr_specific\", ascending = False).head(15)"
   ]
  },
  {
   "cell_type": "code",
   "execution_count": 31,
   "id": "df0b8255",
   "metadata": {},
   "outputs": [
    {
     "data": {
      "text/html": [
       "<div>\n",
       "<style scoped>\n",
       "    .dataframe tbody tr th:only-of-type {\n",
       "        vertical-align: middle;\n",
       "    }\n",
       "\n",
       "    .dataframe tbody tr th {\n",
       "        vertical-align: top;\n",
       "    }\n",
       "\n",
       "    .dataframe thead th {\n",
       "        text-align: right;\n",
       "    }\n",
       "</style>\n",
       "<table border=\"1\" class=\"dataframe\">\n",
       "  <thead>\n",
       "    <tr style=\"text-align: right;\">\n",
       "      <th></th>\n",
       "      <th>corr_specific</th>\n",
       "      <th>Movies</th>\n",
       "    </tr>\n",
       "  </thead>\n",
       "  <tbody>\n",
       "    <tr>\n",
       "      <th>2</th>\n",
       "      <td>1.000000</td>\n",
       "      <td>101 Dalmatians (1996)</td>\n",
       "    </tr>\n",
       "    <tr>\n",
       "      <th>693</th>\n",
       "      <td>0.944203</td>\n",
       "      <td>Homeward Bound II: Lost in San Francisco (1996)</td>\n",
       "    </tr>\n",
       "    <tr>\n",
       "      <th>713</th>\n",
       "      <td>0.932530</td>\n",
       "      <td>Hunchback of Notre Dame, The (1996)</td>\n",
       "    </tr>\n",
       "    <tr>\n",
       "      <th>659</th>\n",
       "      <td>0.922150</td>\n",
       "      <td>Harriet the Spy (1996)</td>\n",
       "    </tr>\n",
       "    <tr>\n",
       "      <th>46</th>\n",
       "      <td>0.910804</td>\n",
       "      <td>All Dogs Go to Heaven 2 (1996)</td>\n",
       "    </tr>\n",
       "    <tr>\n",
       "      <th>805</th>\n",
       "      <td>0.903955</td>\n",
       "      <td>Kazaam (1996)</td>\n",
       "    </tr>\n",
       "    <tr>\n",
       "      <th>23</th>\n",
       "      <td>0.899279</td>\n",
       "      <td>Adventures of Pinocchio, The (1996)</td>\n",
       "    </tr>\n",
       "    <tr>\n",
       "      <th>435</th>\n",
       "      <td>0.899266</td>\n",
       "      <td>Dragonheart (1996)</td>\n",
       "    </tr>\n",
       "    <tr>\n",
       "      <th>764</th>\n",
       "      <td>0.890192</td>\n",
       "      <td>Jack (1996)</td>\n",
       "    </tr>\n",
       "    <tr>\n",
       "      <th>505</th>\n",
       "      <td>0.881306</td>\n",
       "      <td>Father of the Bride Part II (1995)</td>\n",
       "    </tr>\n",
       "    <tr>\n",
       "      <th>953</th>\n",
       "      <td>0.876719</td>\n",
       "      <td>Matilda (1996)</td>\n",
       "    </tr>\n",
       "    <tr>\n",
       "      <th>1547</th>\n",
       "      <td>0.876565</td>\n",
       "      <td>Twister (1996)</td>\n",
       "    </tr>\n",
       "    <tr>\n",
       "      <th>532</th>\n",
       "      <td>0.867612</td>\n",
       "      <td>Flipper (1996)</td>\n",
       "    </tr>\n",
       "    <tr>\n",
       "      <th>525</th>\n",
       "      <td>0.863218</td>\n",
       "      <td>First Kid (1996)</td>\n",
       "    </tr>\n",
       "    <tr>\n",
       "      <th>644</th>\n",
       "      <td>0.863048</td>\n",
       "      <td>Grumpier Old Men (1995)</td>\n",
       "    </tr>\n",
       "  </tbody>\n",
       "</table>\n",
       "</div>"
      ],
      "text/plain": [
       "      corr_specific                                           Movies\n",
       "2          1.000000                            101 Dalmatians (1996)\n",
       "693        0.944203  Homeward Bound II: Lost in San Francisco (1996)\n",
       "713        0.932530              Hunchback of Notre Dame, The (1996)\n",
       "659        0.922150                           Harriet the Spy (1996)\n",
       "46         0.910804                   All Dogs Go to Heaven 2 (1996)\n",
       "805        0.903955                                    Kazaam (1996)\n",
       "23         0.899279              Adventures of Pinocchio, The (1996)\n",
       "435        0.899266                               Dragonheart (1996)\n",
       "764        0.890192                                      Jack (1996)\n",
       "505        0.881306               Father of the Bride Part II (1995)\n",
       "953        0.876719                                   Matilda (1996)\n",
       "1547       0.876565                                   Twister (1996)\n",
       "532        0.867612                                   Flipper (1996)\n",
       "525        0.863218                                 First Kid (1996)\n",
       "644        0.863048                          Grumpier Old Men (1995)"
      ]
     },
     "execution_count": 31,
     "metadata": {},
     "output_type": "execute_result"
    }
   ],
   "source": [
    "result"
   ]
  },
  {
   "cell_type": "markdown",
   "id": "3423080e",
   "metadata": {},
   "source": [
    "### 아이템 기반 협업 필터링 방식 - 코사인 유사도를 활용해 보기"
   ]
  },
  {
   "cell_type": "code",
   "execution_count": 33,
   "id": "2898262a",
   "metadata": {},
   "outputs": [],
   "source": [
    "from sklearn.metrics.pairwise import cosine_similarity"
   ]
  },
  {
   "cell_type": "code",
   "execution_count": 36,
   "id": "2593b2dc",
   "metadata": {},
   "outputs": [
    {
     "name": "stdout",
     "output_type": "stream",
     "text": [
      "(1664, 1664)\n"
     ]
    },
    {
     "data": {
      "text/plain": [
       "array([[ 1.        , -0.11573577,  0.51362284, ...,  0.38310045,\n",
       "         0.20193733,  0.5065142 ],\n",
       "       [-0.11573577,  1.        ,  0.05820808, ...,  0.15805829,\n",
       "         0.51795357,  0.27104818],\n",
       "       [ 0.51362284,  0.05820808,  1.        , ...,  0.76575655,\n",
       "         0.43824619,  0.19507139],\n",
       "       ...,\n",
       "       [ 0.38310045,  0.15805829,  0.76575655, ...,  1.        ,\n",
       "         0.18043708,  0.12115972],\n",
       "       [ 0.20193733,  0.51795357,  0.43824619, ...,  0.18043708,\n",
       "         1.        ,  0.20126072],\n",
       "       [ 0.5065142 ,  0.27104818,  0.19507139, ...,  0.12115972,\n",
       "         0.20126072,  1.        ]])"
      ]
     },
     "execution_count": 36,
     "metadata": {},
     "output_type": "execute_result"
    }
   ],
   "source": [
    "cosine_mat = cosine_similarity(resultant_matrix)\n",
    "print(cosine_mat.shape)\n",
    "corr_mat"
   ]
  },
  {
   "cell_type": "code",
   "execution_count": 37,
   "id": "bf9330ad",
   "metadata": {},
   "outputs": [
    {
     "data": {
      "text/html": [
       "<div>\n",
       "<style scoped>\n",
       "    .dataframe tbody tr th:only-of-type {\n",
       "        vertical-align: middle;\n",
       "    }\n",
       "\n",
       "    .dataframe tbody tr th {\n",
       "        vertical-align: top;\n",
       "    }\n",
       "\n",
       "    .dataframe thead th {\n",
       "        text-align: right;\n",
       "    }\n",
       "</style>\n",
       "<table border=\"1\" class=\"dataframe\">\n",
       "  <thead>\n",
       "    <tr style=\"text-align: right;\">\n",
       "      <th></th>\n",
       "      <th>cosine_sim</th>\n",
       "      <th>Movies</th>\n",
       "    </tr>\n",
       "  </thead>\n",
       "  <tbody>\n",
       "    <tr>\n",
       "      <th>2</th>\n",
       "      <td>1.000000</td>\n",
       "      <td>101 Dalmatians (1996)</td>\n",
       "    </tr>\n",
       "    <tr>\n",
       "      <th>693</th>\n",
       "      <td>0.946060</td>\n",
       "      <td>Homeward Bound II: Lost in San Francisco (1996)</td>\n",
       "    </tr>\n",
       "    <tr>\n",
       "      <th>713</th>\n",
       "      <td>0.943881</td>\n",
       "      <td>Hunchback of Notre Dame, The (1996)</td>\n",
       "    </tr>\n",
       "    <tr>\n",
       "      <th>46</th>\n",
       "      <td>0.921926</td>\n",
       "      <td>All Dogs Go to Heaven 2 (1996)</td>\n",
       "    </tr>\n",
       "    <tr>\n",
       "      <th>23</th>\n",
       "      <td>0.916551</td>\n",
       "      <td>Adventures of Pinocchio, The (1996)</td>\n",
       "    </tr>\n",
       "    <tr>\n",
       "      <th>659</th>\n",
       "      <td>0.909108</td>\n",
       "      <td>Harriet the Spy (1996)</td>\n",
       "    </tr>\n",
       "    <tr>\n",
       "      <th>505</th>\n",
       "      <td>0.892762</td>\n",
       "      <td>Father of the Bride Part II (1995)</td>\n",
       "    </tr>\n",
       "    <tr>\n",
       "      <th>1547</th>\n",
       "      <td>0.892041</td>\n",
       "      <td>Twister (1996)</td>\n",
       "    </tr>\n",
       "    <tr>\n",
       "      <th>764</th>\n",
       "      <td>0.887689</td>\n",
       "      <td>Jack (1996)</td>\n",
       "    </tr>\n",
       "    <tr>\n",
       "      <th>532</th>\n",
       "      <td>0.884186</td>\n",
       "      <td>Flipper (1996)</td>\n",
       "    </tr>\n",
       "    <tr>\n",
       "      <th>1146</th>\n",
       "      <td>0.882766</td>\n",
       "      <td>Phenomenon (1996)</td>\n",
       "    </tr>\n",
       "    <tr>\n",
       "      <th>1171</th>\n",
       "      <td>0.879310</td>\n",
       "      <td>Preacher's Wife, The (1996)</td>\n",
       "    </tr>\n",
       "    <tr>\n",
       "      <th>953</th>\n",
       "      <td>0.878371</td>\n",
       "      <td>Matilda (1996)</td>\n",
       "    </tr>\n",
       "    <tr>\n",
       "      <th>644</th>\n",
       "      <td>0.871794</td>\n",
       "      <td>Grumpier Old Men (1995)</td>\n",
       "    </tr>\n",
       "    <tr>\n",
       "      <th>38</th>\n",
       "      <td>0.862456</td>\n",
       "      <td>Alaska (1996)</td>\n",
       "    </tr>\n",
       "  </tbody>\n",
       "</table>\n",
       "</div>"
      ],
      "text/plain": [
       "      cosine_sim                                           Movies\n",
       "2       1.000000                            101 Dalmatians (1996)\n",
       "693     0.946060  Homeward Bound II: Lost in San Francisco (1996)\n",
       "713     0.943881              Hunchback of Notre Dame, The (1996)\n",
       "46      0.921926                   All Dogs Go to Heaven 2 (1996)\n",
       "23      0.916551              Adventures of Pinocchio, The (1996)\n",
       "659     0.909108                           Harriet the Spy (1996)\n",
       "505     0.892762               Father of the Bride Part II (1995)\n",
       "1547    0.892041                                   Twister (1996)\n",
       "764     0.887689                                      Jack (1996)\n",
       "532     0.884186                                   Flipper (1996)\n",
       "1146    0.882766                                Phenomenon (1996)\n",
       "1171    0.879310                      Preacher's Wife, The (1996)\n",
       "953     0.878371                                   Matilda (1996)\n",
       "644     0.871794                          Grumpier Old Men (1995)\n",
       "38      0.862456                                    Alaska (1996)"
      ]
     },
     "execution_count": 37,
     "metadata": {},
     "output_type": "execute_result"
    }
   ],
   "source": [
    "col_idx = rating_c.columns.get_loc('101 Dalmatians (1996)')\n",
    "cosine_spec = cosine_mat[col_idx]\n",
    "\n",
    "result = pd.DataFrame( {'cosine_sim':cosine_spec, 'Movies':rating_c.columns })\n",
    "result.sort_values('cosine_sim', ascending=False).head(15)"
   ]
  },
  {
   "cell_type": "code",
   "execution_count": null,
   "id": "9e99bf69",
   "metadata": {},
   "outputs": [],
   "source": []
  }
 ],
 "metadata": {
  "kernelspec": {
   "display_name": "Python 3 (ipykernel)",
   "language": "python",
   "name": "python3"
  },
  "language_info": {
   "codemirror_mode": {
    "name": "ipython",
    "version": 3
   },
   "file_extension": ".py",
   "mimetype": "text/x-python",
   "name": "python",
   "nbconvert_exporter": "python",
   "pygments_lexer": "ipython3",
   "version": "3.8.8"
  }
 },
 "nbformat": 4,
 "nbformat_minor": 5
}
