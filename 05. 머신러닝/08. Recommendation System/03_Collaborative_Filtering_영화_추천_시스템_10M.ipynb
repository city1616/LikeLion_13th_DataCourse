{
 "cells": [
  {
   "cell_type": "markdown",
   "id": "5a7086de",
   "metadata": {},
   "source": [
    "### 2021_10_29_4"
   ]
  },
  {
   "cell_type": "markdown",
   "id": "179ffd7c",
   "metadata": {},
   "source": [
    "### 아이템 기반 협업 필터링 기법을 활용한 영화 추천 시스템 만들기\n",
    "* 영화 리뷰 데이터를 이용한 추천 시스템 구현\n",
    "* 총 리뷰 데이터 : 약 1000만건, 영화 정보 : 10681편"
   ]
  },
  {
   "cell_type": "code",
   "execution_count": 61,
   "id": "98e3253b",
   "metadata": {},
   "outputs": [],
   "source": [
    "import pandas as pd\n",
    "import numpy as np"
   ]
  },
  {
   "cell_type": "markdown",
   "id": "d3c7d607",
   "metadata": {},
   "source": [
    "### 첫번째 데이터 불러오기\n",
    "* df : 10만개 리뷰 정보"
   ]
  },
  {
   "cell_type": "code",
   "execution_count": 62,
   "id": "df962b13",
   "metadata": {},
   "outputs": [
    {
     "name": "stderr",
     "output_type": "stream",
     "text": [
      "/Users/seungwoomun/opt/anaconda3/envs/likelion/lib/python3.8/site-packages/pandas/util/_decorators.py:311: ParserWarning: Falling back to the 'python' engine because the 'c' engine does not support regex separators (separators > 1 char and different from '\\s+' are interpreted as regex); you can avoid this warning by specifying engine='python'.\n",
      "  return func(*args, **kwargs)\n"
     ]
    },
    {
     "name": "stdout",
     "output_type": "stream",
     "text": [
      "(10000054, 4)\n",
      "   user_id  item_id  rating  timestamp\n",
      "0        1      122     5.0  838985046\n",
      "1        1      185     5.0  838983525\n",
      "2        1      231     5.0  838983392\n"
     ]
    }
   ],
   "source": [
    "columns = [\"user_id\", \"item_id\", \"rating\", \"timestamp\"]\n",
    "rating = pd.read_csv(\"../DATA/ml-10M100K/ratings.dat\", sep = \"::\", names = columns)\n",
    "print(rating.shape)\n",
    "print(rating.head(3))"
   ]
  },
  {
   "cell_type": "markdown",
   "id": "5f2f713c",
   "metadata": {},
   "source": [
    "### 두번째 데이터 불러오기\n",
    "* u.item\n",
    "    * item_id : 영화 정보\n",
    "    * movie_title : 영화 제목\n",
    "    * release date : 출시일\n",
    "    * video release date : 비디오 출시일\n",
    "    * IMDb URL : IMDb URL 정보\n",
    "    * unknown, .. : 기타 장르 정보"
   ]
  },
  {
   "cell_type": "code",
   "execution_count": 63,
   "id": "6154f509",
   "metadata": {},
   "outputs": [
    {
     "name": "stdout",
     "output_type": "stream",
     "text": [
      "movies shape :  (10681, 3)\n",
      "   item_id              movie title  \\\n",
      "0        1         Toy Story (1995)   \n",
      "1        2           Jumanji (1995)   \n",
      "2        3  Grumpier Old Men (1995)   \n",
      "\n",
      "                                       unknown  \n",
      "0  Adventure|Animation|Children|Comedy|Fantasy  \n",
      "1                   Adventure|Children|Fantasy  \n",
      "2                               Comedy|Romance  \n"
     ]
    },
    {
     "name": "stderr",
     "output_type": "stream",
     "text": [
      "/Users/seungwoomun/opt/anaconda3/envs/likelion/lib/python3.8/site-packages/pandas/util/_decorators.py:311: ParserWarning: Falling back to the 'python' engine because the 'c' engine does not support regex separators (separators > 1 char and different from '\\s+' are interpreted as regex); you can avoid this warning by specifying engine='python'.\n",
      "  return func(*args, **kwargs)\n"
     ]
    }
   ],
   "source": [
    "# 장르 분야\n",
    "columns = ['item_id', 'movie title', \"unknown\"]\n",
    "movies = pd.read_csv(\"../DATA/ml-10M100K/movies.dat\", sep = \"::\",\n",
    "                    names = columns, encoding = \"latin-1\")\n",
    "\n",
    "print(\"movies shape : \", movies.shape)\n",
    "print(movies.head(3))"
   ]
  },
  {
   "cell_type": "markdown",
   "id": "8a5be4af",
   "metadata": {},
   "source": [
    "### 두 데이터 병합\n",
    "* df : 10만개 리뷰 정보\n",
    "* movies : 영화 정보 및 장르 정보"
   ]
  },
  {
   "cell_type": "code",
   "execution_count": 7,
   "id": "d266f65d",
   "metadata": {},
   "outputs": [
    {
     "name": "stdout",
     "output_type": "stream",
     "text": [
      "영화 리뷰 정보의 영화 개수 : 10677\n",
      "영화 정보의 영화 개수 : 10681\n"
     ]
    }
   ],
   "source": [
    "# 영화 리뷰 정보의 영화 개수 : 1682편\n",
    "print(\"영화 리뷰 정보의 영화 개수 :\", len(rating.item_id.unique()))     \n",
    "# 영화 정보의 영화 개수 : 1682편\n",
    "print(\"영화 정보의 영화 개수 :\", len(movies.item_id.unique())) "
   ]
  },
  {
   "cell_type": "code",
   "execution_count": 8,
   "id": "fcf663cd",
   "metadata": {},
   "outputs": [
    {
     "name": "stdout",
     "output_type": "stream",
     "text": [
      "(10000054, 5)\n",
      "   user_id  item_id  rating   timestamp       movie title\n",
      "0        1      122     5.0   838985046  Boomerang (1992)\n",
      "1      139      122     3.0   974302621  Boomerang (1992)\n",
      "2      149      122     2.5  1112342322  Boomerang (1992)\n"
     ]
    }
   ],
   "source": [
    "movie_names = movies[[\"item_id\", \"movie title\"]]\n",
    "\n",
    "c_movies_data = pd.merge(rating, movie_names, on = \"item_id\")\n",
    "print(c_movies_data.shape)\n",
    "print(c_movies_data.head(3))"
   ]
  },
  {
   "cell_type": "markdown",
   "id": "3391dd1b",
   "metadata": {},
   "source": [
    "### 하나의 영화를 선택하고 관련 유사한 영화 10편을 추천해 주는 시스템"
   ]
  },
  {
   "cell_type": "code",
   "execution_count": 9,
   "id": "fe68ad0d",
   "metadata": {},
   "outputs": [
    {
     "name": "stdout",
     "output_type": "stream",
     "text": [
      "(69878, 10676)\n"
     ]
    },
    {
     "data": {
      "text/html": [
       "<div>\n",
       "<style scoped>\n",
       "    .dataframe tbody tr th:only-of-type {\n",
       "        vertical-align: middle;\n",
       "    }\n",
       "\n",
       "    .dataframe tbody tr th {\n",
       "        vertical-align: top;\n",
       "    }\n",
       "\n",
       "    .dataframe thead th {\n",
       "        text-align: right;\n",
       "    }\n",
       "</style>\n",
       "<table border=\"1\" class=\"dataframe\">\n",
       "  <thead>\n",
       "    <tr style=\"text-align: right;\">\n",
       "      <th>movie title</th>\n",
       "      <th>\"Great Performances\" Cats (1998)</th>\n",
       "      <th>'Round Midnight (1986)</th>\n",
       "      <th>'Til There Was You (1997)</th>\n",
       "      <th>'burbs, The (1989)</th>\n",
       "      <th>'night Mother (1986)</th>\n",
       "      <th>*batteries not included (1987)</th>\n",
       "      <th>...All the Marbles (a.k.a. The California Dolls) (1981)</th>\n",
       "      <th>...And God Created Woman (Et Dieu... crÃ©a la femme) (1956)</th>\n",
       "      <th>...And God Spoke (1993)</th>\n",
       "      <th>...And Justice for All (1979)</th>\n",
       "      <th>...</th>\n",
       "      <th>Zorba the Greek (Alexis Zorbas) (1964)</th>\n",
       "      <th>Zorro, the Gay Blade (1981)</th>\n",
       "      <th>Zulu (1964)</th>\n",
       "      <th>Zus &amp; Zo (2001)</th>\n",
       "      <th>[Rec] (2007)</th>\n",
       "      <th>eXistenZ (1999)</th>\n",
       "      <th>ffolks (a.k.a. North Sea Hijack) (1980)</th>\n",
       "      <th>loudQUIETloud: A Film About the Pixies (2006)</th>\n",
       "      <th>xXx: State of the Union (2005)</th>\n",
       "      <th>Ãge d'or, L' (1930)</th>\n",
       "    </tr>\n",
       "    <tr>\n",
       "      <th>user_id</th>\n",
       "      <th></th>\n",
       "      <th></th>\n",
       "      <th></th>\n",
       "      <th></th>\n",
       "      <th></th>\n",
       "      <th></th>\n",
       "      <th></th>\n",
       "      <th></th>\n",
       "      <th></th>\n",
       "      <th></th>\n",
       "      <th></th>\n",
       "      <th></th>\n",
       "      <th></th>\n",
       "      <th></th>\n",
       "      <th></th>\n",
       "      <th></th>\n",
       "      <th></th>\n",
       "      <th></th>\n",
       "      <th></th>\n",
       "      <th></th>\n",
       "      <th></th>\n",
       "    </tr>\n",
       "  </thead>\n",
       "  <tbody>\n",
       "    <tr>\n",
       "      <th>1</th>\n",
       "      <td>0.0</td>\n",
       "      <td>0.0</td>\n",
       "      <td>0.0</td>\n",
       "      <td>0.0</td>\n",
       "      <td>0.0</td>\n",
       "      <td>0.0</td>\n",
       "      <td>0.0</td>\n",
       "      <td>0.0</td>\n",
       "      <td>0.0</td>\n",
       "      <td>0.0</td>\n",
       "      <td>...</td>\n",
       "      <td>0.0</td>\n",
       "      <td>0.0</td>\n",
       "      <td>0.0</td>\n",
       "      <td>0.0</td>\n",
       "      <td>0.0</td>\n",
       "      <td>0.0</td>\n",
       "      <td>0.0</td>\n",
       "      <td>0.0</td>\n",
       "      <td>0.0</td>\n",
       "      <td>0.0</td>\n",
       "    </tr>\n",
       "    <tr>\n",
       "      <th>2</th>\n",
       "      <td>0.0</td>\n",
       "      <td>0.0</td>\n",
       "      <td>0.0</td>\n",
       "      <td>0.0</td>\n",
       "      <td>0.0</td>\n",
       "      <td>0.0</td>\n",
       "      <td>0.0</td>\n",
       "      <td>0.0</td>\n",
       "      <td>0.0</td>\n",
       "      <td>0.0</td>\n",
       "      <td>...</td>\n",
       "      <td>0.0</td>\n",
       "      <td>0.0</td>\n",
       "      <td>0.0</td>\n",
       "      <td>0.0</td>\n",
       "      <td>0.0</td>\n",
       "      <td>0.0</td>\n",
       "      <td>0.0</td>\n",
       "      <td>0.0</td>\n",
       "      <td>0.0</td>\n",
       "      <td>0.0</td>\n",
       "    </tr>\n",
       "    <tr>\n",
       "      <th>3</th>\n",
       "      <td>0.0</td>\n",
       "      <td>0.0</td>\n",
       "      <td>0.0</td>\n",
       "      <td>0.0</td>\n",
       "      <td>0.0</td>\n",
       "      <td>0.0</td>\n",
       "      <td>0.0</td>\n",
       "      <td>0.0</td>\n",
       "      <td>0.0</td>\n",
       "      <td>0.0</td>\n",
       "      <td>...</td>\n",
       "      <td>0.0</td>\n",
       "      <td>0.0</td>\n",
       "      <td>0.0</td>\n",
       "      <td>0.0</td>\n",
       "      <td>0.0</td>\n",
       "      <td>0.0</td>\n",
       "      <td>0.0</td>\n",
       "      <td>0.0</td>\n",
       "      <td>0.0</td>\n",
       "      <td>0.0</td>\n",
       "    </tr>\n",
       "  </tbody>\n",
       "</table>\n",
       "<p>3 rows × 10676 columns</p>\n",
       "</div>"
      ],
      "text/plain": [
       "movie title  \"Great Performances\" Cats (1998)  'Round Midnight (1986)  \\\n",
       "user_id                                                                 \n",
       "1                                         0.0                     0.0   \n",
       "2                                         0.0                     0.0   \n",
       "3                                         0.0                     0.0   \n",
       "\n",
       "movie title  'Til There Was You (1997)  'burbs, The (1989)  \\\n",
       "user_id                                                      \n",
       "1                                  0.0                 0.0   \n",
       "2                                  0.0                 0.0   \n",
       "3                                  0.0                 0.0   \n",
       "\n",
       "movie title  'night Mother (1986)  *batteries not included (1987)  \\\n",
       "user_id                                                             \n",
       "1                             0.0                             0.0   \n",
       "2                             0.0                             0.0   \n",
       "3                             0.0                             0.0   \n",
       "\n",
       "movie title  ...All the Marbles (a.k.a. The California Dolls) (1981)  \\\n",
       "user_id                                                                \n",
       "1                                                          0.0         \n",
       "2                                                          0.0         \n",
       "3                                                          0.0         \n",
       "\n",
       "movie title  ...And God Created Woman (Et Dieu... crÃ©a la femme) (1956)  \\\n",
       "user_id                                                                    \n",
       "1                                                          0.0             \n",
       "2                                                          0.0             \n",
       "3                                                          0.0             \n",
       "\n",
       "movie title  ...And God Spoke (1993)  ...And Justice for All (1979)  ...  \\\n",
       "user_id                                                              ...   \n",
       "1                                0.0                            0.0  ...   \n",
       "2                                0.0                            0.0  ...   \n",
       "3                                0.0                            0.0  ...   \n",
       "\n",
       "movie title  Zorba the Greek (Alexis Zorbas) (1964)  \\\n",
       "user_id                                               \n",
       "1                                               0.0   \n",
       "2                                               0.0   \n",
       "3                                               0.0   \n",
       "\n",
       "movie title  Zorro, the Gay Blade (1981)  Zulu (1964)  Zus & Zo (2001)  \\\n",
       "user_id                                                                  \n",
       "1                                    0.0          0.0              0.0   \n",
       "2                                    0.0          0.0              0.0   \n",
       "3                                    0.0          0.0              0.0   \n",
       "\n",
       "movie title  [Rec] (2007)  eXistenZ (1999)  \\\n",
       "user_id                                      \n",
       "1                     0.0              0.0   \n",
       "2                     0.0              0.0   \n",
       "3                     0.0              0.0   \n",
       "\n",
       "movie title  ffolks (a.k.a. North Sea Hijack) (1980)  \\\n",
       "user_id                                                \n",
       "1                                                0.0   \n",
       "2                                                0.0   \n",
       "3                                                0.0   \n",
       "\n",
       "movie title  loudQUIETloud: A Film About the Pixies (2006)  \\\n",
       "user_id                                                      \n",
       "1                                                      0.0   \n",
       "2                                                      0.0   \n",
       "3                                                      0.0   \n",
       "\n",
       "movie title  xXx: State of the Union (2005)  Ãge d'or, L' (1930)  \n",
       "user_id                                                            \n",
       "1                                       0.0                   0.0  \n",
       "2                                       0.0                   0.0  \n",
       "3                                       0.0                   0.0  \n",
       "\n",
       "[3 rows x 10676 columns]"
      ]
     },
     "execution_count": 9,
     "metadata": {},
     "output_type": "execute_result"
    }
   ],
   "source": [
    "rating_c = c_movies_data.pivot_table(values = \"rating\", \n",
    "                                    index = \"user_id\",\n",
    "                                    columns = \"movie title\",\n",
    "                                    fill_value = 0)\n",
    "print(rating_c.shape)\n",
    "rating_c.head(3)"
   ]
  },
  {
   "cell_type": "markdown",
   "id": "3e9c14e6",
   "metadata": {},
   "source": [
    "### 아이템 기반 협업 필터링을 위해 행열 바꾸기"
   ]
  },
  {
   "cell_type": "code",
   "execution_count": 10,
   "id": "6747594d",
   "metadata": {},
   "outputs": [
    {
     "name": "stdout",
     "output_type": "stream",
     "text": [
      "(10676, 69878)\n"
     ]
    }
   ],
   "source": [
    "X = rating_c.T\n",
    "print(X.shape)"
   ]
  },
  {
   "cell_type": "code",
   "execution_count": 11,
   "id": "f4c5e7b4",
   "metadata": {},
   "outputs": [
    {
     "data": {
      "text/html": [
       "<div>\n",
       "<style scoped>\n",
       "    .dataframe tbody tr th:only-of-type {\n",
       "        vertical-align: middle;\n",
       "    }\n",
       "\n",
       "    .dataframe tbody tr th {\n",
       "        vertical-align: top;\n",
       "    }\n",
       "\n",
       "    .dataframe thead th {\n",
       "        text-align: right;\n",
       "    }\n",
       "</style>\n",
       "<table border=\"1\" class=\"dataframe\">\n",
       "  <thead>\n",
       "    <tr style=\"text-align: right;\">\n",
       "      <th>user_id</th>\n",
       "      <th>1</th>\n",
       "      <th>2</th>\n",
       "      <th>3</th>\n",
       "      <th>4</th>\n",
       "      <th>5</th>\n",
       "      <th>6</th>\n",
       "      <th>7</th>\n",
       "      <th>8</th>\n",
       "      <th>9</th>\n",
       "      <th>10</th>\n",
       "      <th>...</th>\n",
       "      <th>71558</th>\n",
       "      <th>71559</th>\n",
       "      <th>71560</th>\n",
       "      <th>71561</th>\n",
       "      <th>71562</th>\n",
       "      <th>71563</th>\n",
       "      <th>71564</th>\n",
       "      <th>71565</th>\n",
       "      <th>71566</th>\n",
       "      <th>71567</th>\n",
       "    </tr>\n",
       "    <tr>\n",
       "      <th>movie title</th>\n",
       "      <th></th>\n",
       "      <th></th>\n",
       "      <th></th>\n",
       "      <th></th>\n",
       "      <th></th>\n",
       "      <th></th>\n",
       "      <th></th>\n",
       "      <th></th>\n",
       "      <th></th>\n",
       "      <th></th>\n",
       "      <th></th>\n",
       "      <th></th>\n",
       "      <th></th>\n",
       "      <th></th>\n",
       "      <th></th>\n",
       "      <th></th>\n",
       "      <th></th>\n",
       "      <th></th>\n",
       "      <th></th>\n",
       "      <th></th>\n",
       "      <th></th>\n",
       "    </tr>\n",
       "  </thead>\n",
       "  <tbody>\n",
       "    <tr>\n",
       "      <th>\"Great Performances\" Cats (1998)</th>\n",
       "      <td>0.0</td>\n",
       "      <td>0.0</td>\n",
       "      <td>0.0</td>\n",
       "      <td>0.0</td>\n",
       "      <td>0.0</td>\n",
       "      <td>0.0</td>\n",
       "      <td>0.0</td>\n",
       "      <td>0.0</td>\n",
       "      <td>0.0</td>\n",
       "      <td>0.0</td>\n",
       "      <td>...</td>\n",
       "      <td>0.0</td>\n",
       "      <td>0.0</td>\n",
       "      <td>0.0</td>\n",
       "      <td>0.0</td>\n",
       "      <td>0.0</td>\n",
       "      <td>0.0</td>\n",
       "      <td>0.0</td>\n",
       "      <td>0.0</td>\n",
       "      <td>0.0</td>\n",
       "      <td>0.0</td>\n",
       "    </tr>\n",
       "    <tr>\n",
       "      <th>'Round Midnight (1986)</th>\n",
       "      <td>0.0</td>\n",
       "      <td>0.0</td>\n",
       "      <td>0.0</td>\n",
       "      <td>0.0</td>\n",
       "      <td>0.0</td>\n",
       "      <td>0.0</td>\n",
       "      <td>0.0</td>\n",
       "      <td>0.0</td>\n",
       "      <td>0.0</td>\n",
       "      <td>0.0</td>\n",
       "      <td>...</td>\n",
       "      <td>0.0</td>\n",
       "      <td>0.0</td>\n",
       "      <td>0.0</td>\n",
       "      <td>0.0</td>\n",
       "      <td>0.0</td>\n",
       "      <td>0.0</td>\n",
       "      <td>0.0</td>\n",
       "      <td>0.0</td>\n",
       "      <td>0.0</td>\n",
       "      <td>0.0</td>\n",
       "    </tr>\n",
       "    <tr>\n",
       "      <th>'Til There Was You (1997)</th>\n",
       "      <td>0.0</td>\n",
       "      <td>0.0</td>\n",
       "      <td>0.0</td>\n",
       "      <td>0.0</td>\n",
       "      <td>0.0</td>\n",
       "      <td>0.0</td>\n",
       "      <td>0.0</td>\n",
       "      <td>0.0</td>\n",
       "      <td>0.0</td>\n",
       "      <td>0.0</td>\n",
       "      <td>...</td>\n",
       "      <td>0.0</td>\n",
       "      <td>0.0</td>\n",
       "      <td>0.0</td>\n",
       "      <td>0.0</td>\n",
       "      <td>0.0</td>\n",
       "      <td>0.0</td>\n",
       "      <td>0.0</td>\n",
       "      <td>0.0</td>\n",
       "      <td>0.0</td>\n",
       "      <td>0.0</td>\n",
       "    </tr>\n",
       "  </tbody>\n",
       "</table>\n",
       "<p>3 rows × 69878 columns</p>\n",
       "</div>"
      ],
      "text/plain": [
       "user_id                           1      2      3      4      5      6      \\\n",
       "movie title                                                                  \n",
       "\"Great Performances\" Cats (1998)    0.0    0.0    0.0    0.0    0.0    0.0   \n",
       "'Round Midnight (1986)              0.0    0.0    0.0    0.0    0.0    0.0   \n",
       "'Til There Was You (1997)           0.0    0.0    0.0    0.0    0.0    0.0   \n",
       "\n",
       "user_id                           7      8      9      10     ...  71558  \\\n",
       "movie title                                                   ...          \n",
       "\"Great Performances\" Cats (1998)    0.0    0.0    0.0    0.0  ...    0.0   \n",
       "'Round Midnight (1986)              0.0    0.0    0.0    0.0  ...    0.0   \n",
       "'Til There Was You (1997)           0.0    0.0    0.0    0.0  ...    0.0   \n",
       "\n",
       "user_id                           71559  71560  71561  71562  71563  71564  \\\n",
       "movie title                                                                  \n",
       "\"Great Performances\" Cats (1998)    0.0    0.0    0.0    0.0    0.0    0.0   \n",
       "'Round Midnight (1986)              0.0    0.0    0.0    0.0    0.0    0.0   \n",
       "'Til There Was You (1997)           0.0    0.0    0.0    0.0    0.0    0.0   \n",
       "\n",
       "user_id                           71565  71566  71567  \n",
       "movie title                                            \n",
       "\"Great Performances\" Cats (1998)    0.0    0.0    0.0  \n",
       "'Round Midnight (1986)              0.0    0.0    0.0  \n",
       "'Til There Was You (1997)           0.0    0.0    0.0  \n",
       "\n",
       "[3 rows x 69878 columns]"
      ]
     },
     "execution_count": 11,
     "metadata": {},
     "output_type": "execute_result"
    }
   ],
   "source": [
    "X.head(3)"
   ]
  },
  {
   "cell_type": "markdown",
   "id": "a14f3392",
   "metadata": {},
   "source": [
    "### 차원 축소\n",
    "* SVD\n",
    "* 사이킷런을 활용하여 SVD를 할 수 있다.\n",
    "* truncated SVD를 사용하여 차원 축소한다."
   ]
  },
  {
   "cell_type": "code",
   "execution_count": 12,
   "id": "e31fd949",
   "metadata": {},
   "outputs": [
    {
     "name": "stdout",
     "output_type": "stream",
     "text": [
      "X shape : (10676, 69878)\n",
      "resultant_matrix shape : (10676, 12)\n"
     ]
    }
   ],
   "source": [
    "from sklearn.decomposition import TruncatedSVD\n",
    "\n",
    "SVD = TruncatedSVD(n_components = 12, random_state = 5)\n",
    "resultant_matrix = SVD.fit_transform(X) \n",
    "\n",
    "print(\"X shape : {}\".format(X.shape))\n",
    "print(\"resultant_matrix shape :\", resultant_matrix.shape)"
   ]
  },
  {
   "cell_type": "markdown",
   "id": "546980af",
   "metadata": {},
   "source": [
    "### Correlation Pearson\n",
    "* 피어슨 상관계수 , 코사인 유사성과 같은 다양한 유사성 측정 지표를 사용할 수 있다.\n",
    "* 피어슨 상관계수를 이용하여 상관 행렬을 만들어봄."
   ]
  },
  {
   "cell_type": "code",
   "execution_count": 13,
   "id": "c946022e",
   "metadata": {},
   "outputs": [
    {
     "name": "stdout",
     "output_type": "stream",
     "text": [
      "(10676, 10676)\n"
     ]
    },
    {
     "data": {
      "text/plain": [
       "array([[1.        , 0.91104477, 0.43040745, ..., 0.58091296, 0.51191829,\n",
       "        0.86042399],\n",
       "       [0.91104477, 1.        , 0.28779129, ..., 0.7131907 , 0.4264758 ,\n",
       "        0.9175588 ],\n",
       "       [0.43040745, 0.28779129, 1.        , ..., 0.05476156, 0.23606898,\n",
       "        0.11309555],\n",
       "       ...,\n",
       "       [0.58091296, 0.7131907 , 0.05476156, ..., 1.        , 0.45256165,\n",
       "        0.8176457 ],\n",
       "       [0.51191829, 0.4264758 , 0.23606898, ..., 0.45256165, 1.        ,\n",
       "        0.43937709],\n",
       "       [0.86042399, 0.9175588 , 0.11309555, ..., 0.8176457 , 0.43937709,\n",
       "        1.        ]])"
      ]
     },
     "execution_count": 13,
     "metadata": {},
     "output_type": "execute_result"
    }
   ],
   "source": [
    "### correlation matrix\n",
    "corr_mat = np.corrcoef(resultant_matrix)\n",
    "print(corr_mat.shape)\n",
    "corr_mat"
   ]
  },
  {
   "cell_type": "markdown",
   "id": "24b2500d",
   "metadata": {},
   "source": [
    "### 유사 영화를 찾기\n",
    "### 'night Mother (1986) 관련 10개의 영화 추천"
   ]
  },
  {
   "cell_type": "code",
   "execution_count": 52,
   "id": "5266070d",
   "metadata": {},
   "outputs": [
    {
     "data": {
      "text/plain": [
       "4"
      ]
     },
     "execution_count": 52,
     "metadata": {},
     "output_type": "execute_result"
    }
   ],
   "source": [
    "rating_c.columns.get_loc(\"'night Mother (1986)\")"
   ]
  },
  {
   "cell_type": "code",
   "execution_count": 53,
   "id": "6bed2e42",
   "metadata": {},
   "outputs": [
    {
     "name": "stdout",
     "output_type": "stream",
     "text": [
      "(10676,)\n"
     ]
    }
   ],
   "source": [
    "col_idx = rating_c.columns.get_loc(\"'night Mother (1986)\")\n",
    "corr_specific = corr_mat[col_idx]    # Star Wars (1977)의 위치 행 획득\n",
    "print(corr_specific.shape) "
   ]
  },
  {
   "cell_type": "code",
   "execution_count": 54,
   "id": "81f259af",
   "metadata": {},
   "outputs": [
    {
     "name": "stdout",
     "output_type": "stream",
     "text": [
      "(10676, 2)\n"
     ]
    },
    {
     "data": {
      "text/html": [
       "<div>\n",
       "<style scoped>\n",
       "    .dataframe tbody tr th:only-of-type {\n",
       "        vertical-align: middle;\n",
       "    }\n",
       "\n",
       "    .dataframe tbody tr th {\n",
       "        vertical-align: top;\n",
       "    }\n",
       "\n",
       "    .dataframe thead th {\n",
       "        text-align: right;\n",
       "    }\n",
       "</style>\n",
       "<table border=\"1\" class=\"dataframe\">\n",
       "  <thead>\n",
       "    <tr style=\"text-align: right;\">\n",
       "      <th></th>\n",
       "      <th>corr_specific</th>\n",
       "      <th>Movies</th>\n",
       "    </tr>\n",
       "  </thead>\n",
       "  <tbody>\n",
       "    <tr>\n",
       "      <th>4</th>\n",
       "      <td>1.000000</td>\n",
       "      <td>'night Mother (1986)</td>\n",
       "    </tr>\n",
       "    <tr>\n",
       "      <th>4250</th>\n",
       "      <td>0.988687</td>\n",
       "      <td>Heartburn (1986)</td>\n",
       "    </tr>\n",
       "    <tr>\n",
       "      <th>2215</th>\n",
       "      <td>0.983593</td>\n",
       "      <td>Crimes of the Heart (1986)</td>\n",
       "    </tr>\n",
       "    <tr>\n",
       "      <th>253</th>\n",
       "      <td>0.978932</td>\n",
       "      <td>Agnes of God (1985)</td>\n",
       "    </tr>\n",
       "    <tr>\n",
       "      <th>3474</th>\n",
       "      <td>0.972053</td>\n",
       "      <td>For Roseanna (Roseanna's Grave) (1997)</td>\n",
       "    </tr>\n",
       "    <tr>\n",
       "      <th>9434</th>\n",
       "      <td>0.968020</td>\n",
       "      <td>Tex (1982)</td>\n",
       "    </tr>\n",
       "    <tr>\n",
       "      <th>5931</th>\n",
       "      <td>0.965983</td>\n",
       "      <td>Madame Sousatzka (1988)</td>\n",
       "    </tr>\n",
       "    <tr>\n",
       "      <th>3537</th>\n",
       "      <td>0.964287</td>\n",
       "      <td>Frances (1982)</td>\n",
       "    </tr>\n",
       "    <tr>\n",
       "      <th>4654</th>\n",
       "      <td>0.963117</td>\n",
       "      <td>I Love You, Don't Touch Me! (1998)</td>\n",
       "    </tr>\n",
       "    <tr>\n",
       "      <th>2172</th>\n",
       "      <td>0.961164</td>\n",
       "      <td>Cousin Bette (1998)</td>\n",
       "    </tr>\n",
       "  </tbody>\n",
       "</table>\n",
       "</div>"
      ],
      "text/plain": [
       "      corr_specific                                  Movies\n",
       "4          1.000000                    'night Mother (1986)\n",
       "4250       0.988687                        Heartburn (1986)\n",
       "2215       0.983593              Crimes of the Heart (1986)\n",
       "253        0.978932                     Agnes of God (1985)\n",
       "3474       0.972053  For Roseanna (Roseanna's Grave) (1997)\n",
       "9434       0.968020                              Tex (1982)\n",
       "5931       0.965983                 Madame Sousatzka (1988)\n",
       "3537       0.964287                          Frances (1982)\n",
       "4654       0.963117      I Love You, Don't Touch Me! (1998)\n",
       "2172       0.961164                     Cousin Bette (1998)"
      ]
     },
     "execution_count": 54,
     "metadata": {},
     "output_type": "execute_result"
    }
   ],
   "source": [
    "result = pd.DataFrame({'corr_specific':corr_specific, 'Movies': rating_c.columns})\n",
    "print(result.shape)\n",
    "result.sort_values('corr_specific', ascending=False).head(10)"
   ]
  },
  {
   "cell_type": "markdown",
   "id": "5e6100b7",
   "metadata": {},
   "source": [
    "### 101 Dalmatians (1996) 관련 15개의 영화 추천"
   ]
  },
  {
   "cell_type": "code",
   "execution_count": 21,
   "id": "27071148",
   "metadata": {},
   "outputs": [
    {
     "data": {
      "text/plain": [
       "22"
      ]
     },
     "execution_count": 21,
     "metadata": {},
     "output_type": "execute_result"
    }
   ],
   "source": [
    "rating_c.columns.get_loc(\"101 Dalmatians (1996)\")"
   ]
  },
  {
   "cell_type": "code",
   "execution_count": 22,
   "id": "85b9da18",
   "metadata": {},
   "outputs": [
    {
     "name": "stdout",
     "output_type": "stream",
     "text": [
      "(10676,)\n",
      "(10676, 2)\n"
     ]
    },
    {
     "data": {
      "text/html": [
       "<div>\n",
       "<style scoped>\n",
       "    .dataframe tbody tr th:only-of-type {\n",
       "        vertical-align: middle;\n",
       "    }\n",
       "\n",
       "    .dataframe tbody tr th {\n",
       "        vertical-align: top;\n",
       "    }\n",
       "\n",
       "    .dataframe thead th {\n",
       "        text-align: right;\n",
       "    }\n",
       "</style>\n",
       "<table border=\"1\" class=\"dataframe\">\n",
       "  <thead>\n",
       "    <tr style=\"text-align: right;\">\n",
       "      <th></th>\n",
       "      <th>corr_specific</th>\n",
       "      <th>Movies</th>\n",
       "    </tr>\n",
       "  </thead>\n",
       "  <tbody>\n",
       "    <tr>\n",
       "      <th>22</th>\n",
       "      <td>1.000000</td>\n",
       "      <td>101 Dalmatians (1996)</td>\n",
       "    </tr>\n",
       "    <tr>\n",
       "      <th>6151</th>\n",
       "      <td>0.975378</td>\n",
       "      <td>Matilda (1996)</td>\n",
       "    </tr>\n",
       "    <tr>\n",
       "      <th>4598</th>\n",
       "      <td>0.966167</td>\n",
       "      <td>Hunchback of Notre Dame, The (1996)</td>\n",
       "    </tr>\n",
       "    <tr>\n",
       "      <th>10653</th>\n",
       "      <td>0.941702</td>\n",
       "      <td>Zeus and Roxanne (1997)</td>\n",
       "    </tr>\n",
       "    <tr>\n",
       "      <th>5139</th>\n",
       "      <td>0.938503</td>\n",
       "      <td>Jungle2Jungle (a.k.a. Jungle 2 Jungle) (1997)</td>\n",
       "    </tr>\n",
       "    <tr>\n",
       "      <th>8858</th>\n",
       "      <td>0.938176</td>\n",
       "      <td>Space Jam (1996)</td>\n",
       "    </tr>\n",
       "    <tr>\n",
       "      <th>6561</th>\n",
       "      <td>0.937814</td>\n",
       "      <td>Muppet Treasure Island (1996)</td>\n",
       "    </tr>\n",
       "    <tr>\n",
       "      <th>1280</th>\n",
       "      <td>0.933891</td>\n",
       "      <td>Bogus (1996)</td>\n",
       "    </tr>\n",
       "    <tr>\n",
       "      <th>3362</th>\n",
       "      <td>0.933605</td>\n",
       "      <td>First Kid (1996)</td>\n",
       "    </tr>\n",
       "    <tr>\n",
       "      <th>3369</th>\n",
       "      <td>0.925414</td>\n",
       "      <td>First Wives Club, The (1996)</td>\n",
       "    </tr>\n",
       "    <tr>\n",
       "      <th>4187</th>\n",
       "      <td>0.924922</td>\n",
       "      <td>Harriet the Spy (1996)</td>\n",
       "    </tr>\n",
       "    <tr>\n",
       "      <th>279</th>\n",
       "      <td>0.921119</td>\n",
       "      <td>Alaska (1996)</td>\n",
       "    </tr>\n",
       "    <tr>\n",
       "      <th>479</th>\n",
       "      <td>0.916449</td>\n",
       "      <td>Angels in the Outfield (1994)</td>\n",
       "    </tr>\n",
       "    <tr>\n",
       "      <th>6269</th>\n",
       "      <td>0.914613</td>\n",
       "      <td>Michael (1996)</td>\n",
       "    </tr>\n",
       "    <tr>\n",
       "      <th>8524</th>\n",
       "      <td>0.913383</td>\n",
       "      <td>Shiloh (1997)</td>\n",
       "    </tr>\n",
       "  </tbody>\n",
       "</table>\n",
       "</div>"
      ],
      "text/plain": [
       "       corr_specific                                         Movies\n",
       "22          1.000000                          101 Dalmatians (1996)\n",
       "6151        0.975378                                 Matilda (1996)\n",
       "4598        0.966167            Hunchback of Notre Dame, The (1996)\n",
       "10653       0.941702                        Zeus and Roxanne (1997)\n",
       "5139        0.938503  Jungle2Jungle (a.k.a. Jungle 2 Jungle) (1997)\n",
       "8858        0.938176                               Space Jam (1996)\n",
       "6561        0.937814                  Muppet Treasure Island (1996)\n",
       "1280        0.933891                                   Bogus (1996)\n",
       "3362        0.933605                               First Kid (1996)\n",
       "3369        0.925414                   First Wives Club, The (1996)\n",
       "4187        0.924922                         Harriet the Spy (1996)\n",
       "279         0.921119                                  Alaska (1996)\n",
       "479         0.916449                  Angels in the Outfield (1994)\n",
       "6269        0.914613                                 Michael (1996)\n",
       "8524        0.913383                                  Shiloh (1997)"
      ]
     },
     "execution_count": 22,
     "metadata": {},
     "output_type": "execute_result"
    }
   ],
   "source": [
    "col_idx = rating_c.columns.get_loc(\"101 Dalmatians (1996)\")\n",
    "corr_specific = corr_mat[col_idx] # 101 Dalmatians (1996)의 행 획득\n",
    "print(corr_specific.shape)\n",
    "\n",
    "result = pd.DataFrame({\"corr_specific\" : corr_specific, \n",
    "                       \"Movies\" : rating_c.columns})\n",
    "print(result.shape)\n",
    "result.sort_values(\"corr_specific\", ascending = False).head(15)"
   ]
  },
  {
   "cell_type": "markdown",
   "id": "3423080e",
   "metadata": {},
   "source": [
    "### 아이템 기반 협업 필터링 방식 - 코사인 유사도를 활용해 보기"
   ]
  },
  {
   "cell_type": "code",
   "execution_count": 24,
   "id": "2898262a",
   "metadata": {},
   "outputs": [],
   "source": [
    "from sklearn.metrics.pairwise import cosine_similarity"
   ]
  },
  {
   "cell_type": "code",
   "execution_count": 25,
   "id": "2593b2dc",
   "metadata": {},
   "outputs": [
    {
     "name": "stdout",
     "output_type": "stream",
     "text": [
      "(10676, 10676)\n"
     ]
    },
    {
     "data": {
      "text/plain": [
       "array([[1.        , 0.91104477, 0.43040745, ..., 0.58091296, 0.51191829,\n",
       "        0.86042399],\n",
       "       [0.91104477, 1.        , 0.28779129, ..., 0.7131907 , 0.4264758 ,\n",
       "        0.9175588 ],\n",
       "       [0.43040745, 0.28779129, 1.        , ..., 0.05476156, 0.23606898,\n",
       "        0.11309555],\n",
       "       ...,\n",
       "       [0.58091296, 0.7131907 , 0.05476156, ..., 1.        , 0.45256165,\n",
       "        0.8176457 ],\n",
       "       [0.51191829, 0.4264758 , 0.23606898, ..., 0.45256165, 1.        ,\n",
       "        0.43937709],\n",
       "       [0.86042399, 0.9175588 , 0.11309555, ..., 0.8176457 , 0.43937709,\n",
       "        1.        ]])"
      ]
     },
     "execution_count": 25,
     "metadata": {},
     "output_type": "execute_result"
    }
   ],
   "source": [
    "cosine_mat = cosine_similarity(resultant_matrix)\n",
    "print(cosine_mat.shape)\n",
    "corr_mat"
   ]
  },
  {
   "cell_type": "code",
   "execution_count": 26,
   "id": "bf9330ad",
   "metadata": {},
   "outputs": [
    {
     "data": {
      "text/html": [
       "<div>\n",
       "<style scoped>\n",
       "    .dataframe tbody tr th:only-of-type {\n",
       "        vertical-align: middle;\n",
       "    }\n",
       "\n",
       "    .dataframe tbody tr th {\n",
       "        vertical-align: top;\n",
       "    }\n",
       "\n",
       "    .dataframe thead th {\n",
       "        text-align: right;\n",
       "    }\n",
       "</style>\n",
       "<table border=\"1\" class=\"dataframe\">\n",
       "  <thead>\n",
       "    <tr style=\"text-align: right;\">\n",
       "      <th></th>\n",
       "      <th>cosine_sim</th>\n",
       "      <th>Movies</th>\n",
       "    </tr>\n",
       "  </thead>\n",
       "  <tbody>\n",
       "    <tr>\n",
       "      <th>22</th>\n",
       "      <td>1.000000</td>\n",
       "      <td>101 Dalmatians (1996)</td>\n",
       "    </tr>\n",
       "    <tr>\n",
       "      <th>6151</th>\n",
       "      <td>0.977458</td>\n",
       "      <td>Matilda (1996)</td>\n",
       "    </tr>\n",
       "    <tr>\n",
       "      <th>4598</th>\n",
       "      <td>0.959141</td>\n",
       "      <td>Hunchback of Notre Dame, The (1996)</td>\n",
       "    </tr>\n",
       "    <tr>\n",
       "      <th>8858</th>\n",
       "      <td>0.942675</td>\n",
       "      <td>Space Jam (1996)</td>\n",
       "    </tr>\n",
       "    <tr>\n",
       "      <th>3362</th>\n",
       "      <td>0.934840</td>\n",
       "      <td>First Kid (1996)</td>\n",
       "    </tr>\n",
       "    <tr>\n",
       "      <th>6561</th>\n",
       "      <td>0.932172</td>\n",
       "      <td>Muppet Treasure Island (1996)</td>\n",
       "    </tr>\n",
       "    <tr>\n",
       "      <th>3369</th>\n",
       "      <td>0.929352</td>\n",
       "      <td>First Wives Club, The (1996)</td>\n",
       "    </tr>\n",
       "    <tr>\n",
       "      <th>10653</th>\n",
       "      <td>0.928715</td>\n",
       "      <td>Zeus and Roxanne (1997)</td>\n",
       "    </tr>\n",
       "    <tr>\n",
       "      <th>279</th>\n",
       "      <td>0.927311</td>\n",
       "      <td>Alaska (1996)</td>\n",
       "    </tr>\n",
       "    <tr>\n",
       "      <th>4187</th>\n",
       "      <td>0.925863</td>\n",
       "      <td>Harriet the Spy (1996)</td>\n",
       "    </tr>\n",
       "    <tr>\n",
       "      <th>5139</th>\n",
       "      <td>0.924211</td>\n",
       "      <td>Jungle2Jungle (a.k.a. Jungle 2 Jungle) (1997)</td>\n",
       "    </tr>\n",
       "    <tr>\n",
       "      <th>1280</th>\n",
       "      <td>0.922397</td>\n",
       "      <td>Bogus (1996)</td>\n",
       "    </tr>\n",
       "    <tr>\n",
       "      <th>4982</th>\n",
       "      <td>0.911784</td>\n",
       "      <td>Jack (1996)</td>\n",
       "    </tr>\n",
       "    <tr>\n",
       "      <th>5192</th>\n",
       "      <td>0.908141</td>\n",
       "      <td>Kazaam (1996)</td>\n",
       "    </tr>\n",
       "    <tr>\n",
       "      <th>6269</th>\n",
       "      <td>0.902813</td>\n",
       "      <td>Michael (1996)</td>\n",
       "    </tr>\n",
       "  </tbody>\n",
       "</table>\n",
       "</div>"
      ],
      "text/plain": [
       "       cosine_sim                                         Movies\n",
       "22       1.000000                          101 Dalmatians (1996)\n",
       "6151     0.977458                                 Matilda (1996)\n",
       "4598     0.959141            Hunchback of Notre Dame, The (1996)\n",
       "8858     0.942675                               Space Jam (1996)\n",
       "3362     0.934840                               First Kid (1996)\n",
       "6561     0.932172                  Muppet Treasure Island (1996)\n",
       "3369     0.929352                   First Wives Club, The (1996)\n",
       "10653    0.928715                        Zeus and Roxanne (1997)\n",
       "279      0.927311                                  Alaska (1996)\n",
       "4187     0.925863                         Harriet the Spy (1996)\n",
       "5139     0.924211  Jungle2Jungle (a.k.a. Jungle 2 Jungle) (1997)\n",
       "1280     0.922397                                   Bogus (1996)\n",
       "4982     0.911784                                    Jack (1996)\n",
       "5192     0.908141                                  Kazaam (1996)\n",
       "6269     0.902813                                 Michael (1996)"
      ]
     },
     "execution_count": 26,
     "metadata": {},
     "output_type": "execute_result"
    }
   ],
   "source": [
    "col_idx = rating_c.columns.get_loc('101 Dalmatians (1996)')\n",
    "cosine_spec = cosine_mat[col_idx]\n",
    "\n",
    "result = pd.DataFrame( {'cosine_sim':cosine_spec, 'Movies':rating_c.columns })\n",
    "result.sort_values('cosine_sim', ascending=False).head(15)"
   ]
  },
  {
   "cell_type": "code",
   "execution_count": null,
   "id": "9e99bf69",
   "metadata": {},
   "outputs": [],
   "source": []
  }
 ],
 "metadata": {
  "kernelspec": {
   "display_name": "Python 3 (ipykernel)",
   "language": "python",
   "name": "python3"
  },
  "language_info": {
   "codemirror_mode": {
    "name": "ipython",
    "version": 3
   },
   "file_extension": ".py",
   "mimetype": "text/x-python",
   "name": "python",
   "nbconvert_exporter": "python",
   "pygments_lexer": "ipython3",
   "version": "3.8.8"
  }
 },
 "nbformat": 4,
 "nbformat_minor": 5
}
