{
 "cells": [
  {
   "cell_type": "markdown",
   "id": "838aa497",
   "metadata": {},
   "source": [
    "### 2021_10_29_3"
   ]
  },
  {
   "cell_type": "markdown",
   "id": "64150abb",
   "metadata": {},
   "source": [
    "## 추천 시스템(Recommendation System)\n",
    "### 협업 필터링(collaborative filtering)"
   ]
  },
  {
   "cell_type": "markdown",
   "id": "c36fbf6e",
   "metadata": {},
   "source": [
    "| |피자|치킨|김밥|탕수육|\n",
    "|-|--|--|--|--|\n",
    "|고객1|좋다|좋다|X|좋다|\n",
    "|고객2|X|X|좋다|X|\n",
    "|고객3|좋다|좋다|X|?|\n"
   ]
  },
  {
   "cell_type": "code",
   "execution_count": 10,
   "id": "8fa49bea",
   "metadata": {},
   "outputs": [],
   "source": [
    "import numpy as np\n",
    "import pandas as pd"
   ]
  },
  {
   "cell_type": "markdown",
   "id": "e00fd039",
   "metadata": {},
   "source": [
    "### 사용자 기반 협업 필터링"
   ]
  },
  {
   "cell_type": "code",
   "execution_count": 3,
   "id": "f9990076",
   "metadata": {},
   "outputs": [
    {
     "name": "stdout",
     "output_type": "stream",
     "text": [
      "(3, 4)\n"
     ]
    },
    {
     "data": {
      "text/plain": [
       "array([[2, 2, 1, 2],\n",
       "       [1, 1, 2, 1],\n",
       "       [2, 2, 1, 0]])"
      ]
     },
     "execution_count": 3,
     "metadata": {},
     "output_type": "execute_result"
    }
   ],
   "source": [
    "user1 = np.array([2, 2, 1, 2])\n",
    "user2 = np.array([1, 1, 2, 1])\n",
    "user3 = np.array([2, 2, 1, 0])\n",
    "\n",
    "rMatrix = np.vstack((user1, user2, user3))\n",
    "print(rMatrix.shape)\n",
    "rMatrix"
   ]
  },
  {
   "cell_type": "markdown",
   "id": "c76526e8",
   "metadata": {},
   "source": [
    "### 사이킷 런의 cosine_similarity함수를 이용한 코사인 유사도"
   ]
  },
  {
   "cell_type": "code",
   "execution_count": 4,
   "id": "a3ab3d6f",
   "metadata": {},
   "outputs": [
    {
     "name": "stdout",
     "output_type": "stream",
     "text": [
      "(3, 3)\n"
     ]
    },
    {
     "data": {
      "text/plain": [
       "array([[1.        , 0.83862787, 0.83205029],\n",
       "       [0.83862787, 1.        , 0.75592895],\n",
       "       [0.83205029, 0.75592895, 1.        ]])"
      ]
     },
     "execution_count": 4,
     "metadata": {},
     "output_type": "execute_result"
    }
   ],
   "source": [
    "from sklearn.metrics.pairwise import cosine_similarity\n",
    "\n",
    "cosineSim = cosine_similarity(rMatrix)\n",
    "print(cosineSim.shape)\n",
    "cosineSim"
   ]
  },
  {
   "cell_type": "markdown",
   "id": "0d7610fb",
   "metadata": {},
   "source": [
    "||||\n",
    "|-|-|-|\n",
    "| user1 user1 | user1 user2 | user1 user3 |\n",
    "| user2 user1 | user2 user2 | user2 user3 |\n",
    "| user3 user1 | user3 user2 | user3 user3 |\n"
   ]
  },
  {
   "cell_type": "markdown",
   "id": "497f9871",
   "metadata": {},
   "source": [
    "### 아이템 기반 협업 필터링"
   ]
  },
  {
   "cell_type": "markdown",
   "id": "83df41de",
   "metadata": {},
   "source": [
    "||user1|user2|user3|\n",
    "|-|-|-|-|\n",
    "|피자| | | |\n",
    "|치킨||||\n",
    "|김밥||||\n",
    "|탕수육||||"
   ]
  },
  {
   "cell_type": "code",
   "execution_count": 6,
   "id": "aac10a8f",
   "metadata": {},
   "outputs": [
    {
     "name": "stdout",
     "output_type": "stream",
     "text": [
      "(4, 3)\n"
     ]
    },
    {
     "data": {
      "text/plain": [
       "array([[2, 1, 2],\n",
       "       [2, 1, 2],\n",
       "       [1, 2, 1],\n",
       "       [2, 1, 0]])"
      ]
     },
     "execution_count": 6,
     "metadata": {},
     "output_type": "execute_result"
    }
   ],
   "source": [
    "rMatrix_t = np.transpose(rMatrix)\n",
    "print(rMatrix_t.shape)\n",
    "rMatrix_t"
   ]
  },
  {
   "cell_type": "code",
   "execution_count": 7,
   "id": "20538a71",
   "metadata": {},
   "outputs": [
    {
     "data": {
      "text/plain": [
       "array([[1.        , 1.        , 0.81649658, 0.74535599],\n",
       "       [1.        , 1.        , 0.81649658, 0.74535599],\n",
       "       [0.81649658, 0.81649658, 1.        , 0.73029674],\n",
       "       [0.74535599, 0.74535599, 0.73029674, 1.        ]])"
      ]
     },
     "execution_count": 7,
     "metadata": {},
     "output_type": "execute_result"
    }
   ],
   "source": [
    "cosineSim_t = cosine_similarity(rMatrix_t)\n",
    "cosineSim_t"
   ]
  },
  {
   "cell_type": "markdown",
   "id": "10c56a61",
   "metadata": {},
   "source": [
    "|||||\n",
    "|-|-|-|-|\n",
    "|피자 피자|피자 치킨|피자 김밥|피자 탕수육|\n",
    "|치킨 피자|치킨 치킨|치킨 김밥|치킨 탕수육|\n",
    "|김밥 피자|김밥 치킨|김밥 김밥|김밥 탕수육|\n",
    "|탕수육 피자|탕수육 치킨|탕수육 김밥|피자 탕수육|"
   ]
  },
  {
   "cell_type": "markdown",
   "id": "d1a64cff",
   "metadata": {},
   "source": [
    "* 탕수육과 피자(or 치킨)은 비슷한 선호도(0.7453559)를 갖는다."
   ]
  }
 ],
 "metadata": {
  "kernelspec": {
   "display_name": "Python 3 (ipykernel)",
   "language": "python",
   "name": "python3"
  },
  "language_info": {
   "codemirror_mode": {
    "name": "ipython",
    "version": 3
   },
   "file_extension": ".py",
   "mimetype": "text/x-python",
   "name": "python",
   "nbconvert_exporter": "python",
   "pygments_lexer": "ipython3",
   "version": "3.8.8"
  }
 },
 "nbformat": 4,
 "nbformat_minor": 5
}
