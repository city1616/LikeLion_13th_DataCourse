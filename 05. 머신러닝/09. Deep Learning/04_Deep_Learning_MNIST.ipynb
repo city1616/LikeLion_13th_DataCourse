{
 "cells": [
  {
   "cell_type": "markdown",
   "id": "3559526d",
   "metadata": {},
   "source": [
    "## MNIST Dataset을 활용하여 Deep Learning Model 구현"
   ]
  },
  {
   "cell_type": "markdown",
   "id": "3b1a8acd",
   "metadata": {},
   "source": [
    "### Keras\n",
    "* ONEIROS(Open-ended Neuro-Electronic Intelligent Robot Operating System) 프로젝트 일부\n",
    "* 오네이로스 - 꿈을 의인화 시킨 신\n",
    "* 꿈을 인간들에게 보내는 신(진실, 거짓의 문)\n",
    "* 밤의 여신 닉스와 잠의 신(힙노스)의 자식들\n",
    "\n",
    "### 케라스 딥러닝 모델 만들기\n",
    "* 가. 데이터 셋 준비\n",
    "    * 데이터 준비(훈련셋, 검증셋, 시험셋 등)\n",
    "    * 딥러닝 모델의 학습 및 평가를 위한 데이터 형태 맞추기(포맷 변환)\n",
    "* 나. 모델 구성\n",
    "    * 모델(Sequential)을 생성 후, 레이어를 추가하여 구성\n",
    "    * 복잡한 모델을 구성시에 Keras API를 사용\n",
    "* 다. 모델 학습과정 설정하기(compile() - 학습에 대한 설정)\n",
    "    * 학습에 대한 설정, 손실 함수 및 최적화 방법 정의\n",
    "* 라. 모델 학습(fit() - 모델을 훈련셋으로 학습)\n",
    "* 마. 학습과정 살펴보기(훈련셋, 검증셋의 손실 및 정확도 측정)\n",
    "* 바. 모델 평가(evaluate()) - 준비된 시험셋으로 학습 모델 평가\n",
    "* 사. 모델 사용하기(predict())\n",
    "\n",
    "### 케라스의(Keras) 주요 특징 4가지\n",
    "* 개발 및 유지 보수 : 프랑소와 쏠레(Francois Chollet) - 구글에 있음.(tf 2.0)\n",
    "* 모듈화(Modularity) : 모듈은 독립적이고 최소한의 제약사항으로 연결\n",
    "* 최소주의(Minimalism) : 각 모듈은 짧고 간결하다.\n",
    "* 쉬운 확장성 : 새로운 클래스나 함수로 모듈을 아주 쉽게 추가\n",
    "* 파이썬 기반 : 파이썬 코드로 모델들이 정의\n",
    "\n",
    "### 데이터 셋 MNIST\n",
    "* 6만개의 훈련 이미지\n",
    "* 만개의 테스트 이미지\n",
    "* 딥러닝계의 MNIST\n",
    "* 1980년대 미국 국립표준 기술 연구소(National Institute of Standards and TEchnology, NIST)에서 수집한 데이터\n",
    "\n",
    "### 클래스, 샘플, 레이블\n",
    "* 분류의 문제의 범주를 클래스라하고,\n",
    "* 데이터 포인터를 샘플(sample)이라고 한다.\n",
    "* 특정 샘플의 클래스는 레이블(Label)이라고 한다."
   ]
  },
  {
   "cell_type": "code",
   "execution_count": 43,
   "id": "b5e81a4e",
   "metadata": {},
   "outputs": [],
   "source": [
    "import tensorflow as tf\n",
    "import keras\n",
    "import sys\n",
    "\n",
    "from keras.datasets import mnist\n",
    "from keras.models import Sequential\n",
    "from keras.layers import Dense, Activation\n",
    "from keras.utils import np_utils\n",
    "\n",
    "import matplotlib.pyplot as plt\n",
    "import numpy as np"
   ]
  },
  {
   "cell_type": "code",
   "execution_count": 4,
   "id": "cd038a63",
   "metadata": {},
   "outputs": [
    {
     "name": "stdout",
     "output_type": "stream",
     "text": [
      "tensorflow version : 2.6.1\n",
      "keras version : 2.6.0\n",
      "sys version : 3.8.8 (default, Apr 13 2021, 12:59:45) \n",
      "[Clang 10.0.0 ]\n"
     ]
    }
   ],
   "source": [
    "print(\"tensorflow version :\", tf.__version__)\n",
    "print(\"keras version :\", keras.__version__)\n",
    "print(\"sys version :\", sys.version)"
   ]
  },
  {
   "cell_type": "markdown",
   "id": "2f62f944",
   "metadata": {},
   "source": [
    "### Dataset 불러오기"
   ]
  },
  {
   "cell_type": "code",
   "execution_count": 28,
   "id": "eae64b07",
   "metadata": {},
   "outputs": [],
   "source": [
    "(x_train, y_train), (x_test, y_test) = mnist.load_data()"
   ]
  },
  {
   "cell_type": "code",
   "execution_count": 7,
   "id": "096475bd",
   "metadata": {},
   "outputs": [],
   "source": [
    "x_train_n = x_train.copy()\n",
    "y_train_n = y_train.copy()\n",
    "x_test_n = x_test.copy()\n",
    "y_test_n = y_test.copy()"
   ]
  },
  {
   "cell_type": "markdown",
   "id": "1aeb87a2",
   "metadata": {},
   "source": [
    "### 데이터 크기\n",
    "* 60000개의 train dataset, 10000개의 test dataset"
   ]
  },
  {
   "cell_type": "code",
   "execution_count": 8,
   "id": "a975e47d",
   "metadata": {},
   "outputs": [
    {
     "name": "stdout",
     "output_type": "stream",
     "text": [
      "x_train shape : (60000, 28, 28)\n",
      "y_train shape : (60000,)\n",
      "x_test shape : (10000, 28, 28)\n",
      "y_test shape : (10000,)\n"
     ]
    }
   ],
   "source": [
    "print(\"x_train shape :\", x_train.shape)\n",
    "print(\"y_train shape :\", y_train.shape)\n",
    "print(\"x_test shape :\", x_test.shape)\n",
    "print(\"y_test shape :\", y_test.shape)"
   ]
  },
  {
   "cell_type": "markdown",
   "id": "27a81e2a",
   "metadata": {},
   "source": [
    "### x_train 하나의 데이터 확인\n",
    "* 60000장의 이미지(28, 28 숫자데이터)"
   ]
  },
  {
   "cell_type": "code",
   "execution_count": 11,
   "id": "cd5d41ba",
   "metadata": {},
   "outputs": [
    {
     "data": {
      "text/plain": [
       "<matplotlib.image.AxesImage at 0x7fe2324beb80>"
      ]
     },
     "execution_count": 11,
     "metadata": {},
     "output_type": "execute_result"
    },
    {
     "data": {
      "image/png": "[encoded data removed]",
      "text/plain": [
       "<Figure size 432x288 with 1 Axes>"
      ]
     },
     "metadata": {
      "needs_background": "light"
     },
     "output_type": "display_data"
    }
   ],
   "source": [
    "plt.imshow(x_train[0])"
   ]
  },
  {
   "cell_type": "markdown",
   "id": "28b1d59d",
   "metadata": {},
   "source": [
    "### 10개의 y_train data 확인"
   ]
  },
  {
   "cell_type": "code",
   "execution_count": 12,
   "id": "af000242",
   "metadata": {},
   "outputs": [
    {
     "name": "stdout",
     "output_type": "stream",
     "text": [
      "label = [5 0 4 1 9 2 1 3 1 4]\n"
     ]
    }
   ],
   "source": [
    "# y 레이블 데이터 0 ~ 10개 확인\n",
    "print(\"label = {}\".format(y_train[0:10]))"
   ]
  },
  {
   "cell_type": "code",
   "execution_count": 19,
   "id": "726784f1",
   "metadata": {},
   "outputs": [
    {
     "name": "stdout",
     "output_type": "stream",
     "text": [
      "label = [5 0 4 1 9 2 1 3 1 4 3 5 3 6 1]\n"
     ]
    },
    {
     "data": {
      "image/png": "[encoded data removed]",
      "text/plain": [
       "<Figure size 1296x864 with 15 Axes>"
      ]
     },
     "metadata": {
      "needs_background": "light"
     },
     "output_type": "display_data"
    }
   ],
   "source": [
    "figure,axes = plt.subplots(nrows = 3, ncols = 5)  # 3행 5열의 구조 \n",
    "figure.set_size_inches(18,12)  # 전체 크기\n",
    "\n",
    "print(\"label = {}\".format(y_train[0:15]))   # y 레이블 데이터 0~15개 확인\n",
    "\n",
    "col = 0\n",
    "for row in range(0,3):\n",
    "    col = row * 5\n",
    "    axes[row][0].imshow(x_train[col])  # 0,5,10의 값을 갖는 위치 값 이미지 표시\n",
    "    axes[row][1].imshow(x_train[col + 1])# 1,6,11의 값을 갖는 위치 값 이미지 표시\n",
    "    axes[row][2].imshow(x_train[col + 2])# 2,7,12의 값을 갖는 위치 값 이미지 표시\n",
    "    axes[row][3].imshow(x_train[col + 3])# 3,8,13의 값을 갖는 위치 값 이미지 표시\n",
    "    axes[row][4].imshow(x_train[col + 4])# 4,9,14의 값을 갖는 위치 값 이미지 표시"
   ]
  },
  {
   "cell_type": "markdown",
   "id": "3ef070d3",
   "metadata": {},
   "source": [
    "### data shape 변경\n",
    "* x_train shape 변경 60000, 28, 28  -> 60000, 784 (28*28)\n",
    "* x_test shape 변경 10000, 28, 28  -> 10000, 784 (28*28)\n",
    "\n",
    "* y_train shape 변경 60000,   -> 60000, 10 (28*28)\n",
    "* y_test shape 변경 10000,   -> 10000, 10 (28*28)"
   ]
  },
  {
   "cell_type": "code",
   "execution_count": 29,
   "id": "e4903b76",
   "metadata": {},
   "outputs": [
    {
     "name": "stdout",
     "output_type": "stream",
     "text": [
      "x_train shape : (60000, 28, 28)\n",
      "x_test shape : (10000, 28, 28)\n",
      "\n",
      "x_train shape : (60000, 784)\n",
      "x_test shape : (10000, 784)\n",
      "==============================\n",
      "y_train shape : (60000,)\n",
      "y_test shape : (10000,)\n",
      "[5 0 4 1 9]\n",
      "\n",
      "y_train shape : (60000, 10)\n",
      "y_test shape : (10000, 10)\n",
      "[[0. 0. 0. 0. 0. 1. 0. 0. 0. 0.]\n",
      " [1. 0. 0. 0. 0. 0. 0. 0. 0. 0.]\n",
      " [0. 0. 0. 0. 1. 0. 0. 0. 0. 0.]\n",
      " [0. 1. 0. 0. 0. 0. 0. 0. 0. 0.]\n",
      " [0. 0. 0. 0. 0. 0. 0. 0. 0. 1.]]\n"
     ]
    }
   ],
   "source": [
    "print(\"x_train shape :\", x_train.shape)\n",
    "print(\"x_test shape :\", x_test.shape)\n",
    "print()\n",
    "\n",
    "x_train = x_train.reshape(60000, 784)\n",
    "x_test = x_test.reshape(10000, 784)\n",
    "\n",
    "print(\"x_train shape :\", x_train.shape)\n",
    "print(\"x_test shape :\", x_test.shape)\n",
    "\n",
    "print(\"=\" * 30)\n",
    "\n",
    "print(\"y_train shape :\", y_train.shape)\n",
    "print(\"y_test shape :\", y_test.shape)\n",
    "\n",
    "print(y_train[0:5])\n",
    "print()\n",
    "\n",
    "y_train = np_utils.to_categorical(y_train)\n",
    "y_test = np_utils.to_categorical(y_test)\n",
    "\n",
    "print(\"y_train shape :\", y_train.shape)\n",
    "print(\"y_test shape :\", y_test.shape)\n",
    "print(y_train[0:5])"
   ]
  },
  {
   "cell_type": "code",
   "execution_count": 30,
   "id": "94b9d91c",
   "metadata": {},
   "outputs": [
    {
     "name": "stdout",
     "output_type": "stream",
     "text": [
      "[  0   0   0   0   0   0   0   0   0   0   0   0   0   0   0   0   0   0\n",
      "   0   0   0   0   0   0   0   0   0   0   0   0   0   0   0   0   0   0\n",
      "   0   0   0   0   0   0   0   0   0   0   0   0   0   0   0   0   0   0\n",
      "   0   0   0   0   0   0   0   0   0   0   0   0   0   0   0   0   0   0\n",
      "   0   0   0   0   0   0   0   0   0   0   0   0   0   0   0   0   0   0\n",
      "   0   0   0   0   0   0   0   0   0   0   0   0   0   0   0   0   0   0\n",
      "   0   0   0   0   0   0   0   0   0   0   0   0   0   0   0   0   0   0\n",
      "   0   0   0   0   0   0   0   0   0   0   0   0   0   0   0   0   0   0\n",
      "   0   0   0   0   0   0   0   0   3  18  18  18 126 136 175  26 166 255\n",
      " 247 127   0   0   0   0   0   0   0   0   0   0   0   0  30  36  94 154\n",
      " 170 253 253 253 253 253 225 172 253 242 195  64   0   0   0   0   0   0\n",
      "   0   0   0   0   0  49 238 253 253 253 253 253 253 253 253 251  93  82\n",
      "  82  56  39   0   0   0   0   0   0   0   0   0   0   0   0  18 219 253\n",
      " 253 253 253 253 198 182 247 241   0   0   0   0   0   0   0   0   0   0\n",
      "   0   0   0   0   0   0   0   0  80 156 107 253 253 205  11   0  43 154\n",
      "   0   0   0   0   0   0   0   0   0   0   0   0   0   0   0   0   0   0\n",
      "   0  14   1 154 253  90   0   0   0   0   0   0   0   0   0   0   0   0\n",
      "   0   0   0   0   0   0   0   0   0   0   0   0   0 139 253 190   2   0\n",
      "   0   0   0   0   0   0   0   0   0   0   0   0   0   0   0   0   0   0\n",
      "   0   0   0   0   0  11 190 253  70   0   0   0   0   0   0   0   0   0\n",
      "   0   0   0   0   0   0   0   0   0   0   0   0   0   0   0   0  35 241\n",
      " 225 160 108   1   0   0   0   0   0   0   0   0   0   0   0   0   0   0\n",
      "   0   0   0   0   0   0   0   0   0  81 240 253 253 119  25   0   0   0\n",
      "   0   0   0   0   0   0   0   0   0   0   0   0   0   0   0   0   0   0\n",
      "   0   0  45 186 253 253 150  27   0   0   0   0   0   0   0   0   0   0\n",
      "   0   0   0   0   0   0   0   0   0   0   0   0   0  16  93 252 253 187\n",
      "   0   0   0   0   0   0   0   0   0   0   0   0   0   0   0   0   0   0\n",
      "   0   0   0   0   0   0   0 249 253 249  64   0   0   0   0   0   0   0\n",
      "   0   0   0   0   0   0   0   0   0   0   0   0   0   0  46 130 183 253\n",
      " 253 207   2   0   0   0   0   0   0   0   0   0   0   0   0   0   0   0\n",
      "   0   0   0   0  39 148 229 253 253 253 250 182   0   0   0   0   0   0\n",
      "   0   0   0   0   0   0   0   0   0   0   0   0  24 114 221 253 253 253\n",
      " 253 201  78   0   0   0   0   0   0   0   0   0   0   0   0   0   0   0\n",
      "   0   0  23  66 213 253 253 253 253 198  81   2   0   0   0   0   0   0\n",
      "   0   0   0   0   0   0   0   0   0   0  18 171 219 253 253 253 253 195\n",
      "  80   9   0   0   0   0   0   0   0   0   0   0   0   0   0   0   0   0\n",
      "  55 172 226 253 253 253 253 244 133  11   0   0   0   0   0   0   0   0\n",
      "   0   0   0   0   0   0   0   0   0   0 136 253 253 253 212 135 132  16\n",
      "   0   0   0   0   0   0   0   0   0   0   0   0   0   0   0   0   0   0\n",
      "   0   0   0   0   0   0   0   0   0   0   0   0   0   0   0   0   0   0\n",
      "   0   0   0   0   0   0   0   0   0   0   0   0   0   0   0   0   0   0\n",
      "   0   0   0   0   0   0   0   0   0   0   0   0   0   0   0   0   0   0\n",
      "   0   0   0   0   0   0   0   0   0   0   0   0   0   0   0   0   0   0\n",
      "   0   0   0   0   0   0   0   0   0   0]\n",
      "[0.         0.         0.         0.         0.         0.\n",
      " 0.         0.         0.         0.         0.         0.\n",
      " 0.         0.         0.         0.         0.         0.\n",
      " 0.         0.         0.         0.         0.         0.\n",
      " 0.         0.         0.         0.         0.         0.\n",
      " 0.         0.         0.         0.         0.         0.\n",
      " 0.         0.         0.         0.         0.         0.\n",
      " 0.         0.         0.         0.         0.         0.\n",
      " 0.         0.         0.         0.         0.         0.\n",
      " 0.         0.         0.         0.         0.         0.\n",
      " 0.         0.         0.         0.         0.         0.\n",
      " 0.         0.         0.         0.         0.         0.\n",
      " 0.         0.         0.         0.         0.         0.\n",
      " 0.         0.         0.         0.         0.         0.\n",
      " 0.         0.         0.         0.         0.         0.\n",
      " 0.         0.         0.         0.         0.         0.\n",
      " 0.         0.         0.         0.         0.         0.\n",
      " 0.         0.         0.         0.         0.         0.\n",
      " 0.         0.         0.         0.         0.         0.\n",
      " 0.         0.         0.         0.         0.         0.\n",
      " 0.         0.         0.         0.         0.         0.\n",
      " 0.         0.         0.         0.         0.         0.\n",
      " 0.         0.         0.         0.         0.         0.\n",
      " 0.         0.         0.         0.         0.         0.\n",
      " 0.         0.         0.         0.         0.         0.\n",
      " 0.         0.         0.01176471 0.07058824 0.07058824 0.07058824\n",
      " 0.49411765 0.53333336 0.6862745  0.10196079 0.6509804  1.\n",
      " 0.96862745 0.49803922 0.         0.         0.         0.\n",
      " 0.         0.         0.         0.         0.         0.\n",
      " 0.         0.         0.11764706 0.14117648 0.36862746 0.6039216\n",
      " 0.6666667  0.99215686 0.99215686 0.99215686 0.99215686 0.99215686\n",
      " 0.88235295 0.6745098  0.99215686 0.9490196  0.7647059  0.2509804\n",
      " 0.         0.         0.         0.         0.         0.\n",
      " 0.         0.         0.         0.         0.         0.19215687\n",
      " 0.93333334 0.99215686 0.99215686 0.99215686 0.99215686 0.99215686\n",
      " 0.99215686 0.99215686 0.99215686 0.9843137  0.3647059  0.32156864\n",
      " 0.32156864 0.21960784 0.15294118 0.         0.         0.\n",
      " 0.         0.         0.         0.         0.         0.\n",
      " 0.         0.         0.         0.07058824 0.85882354 0.99215686\n",
      " 0.99215686 0.99215686 0.99215686 0.99215686 0.7764706  0.7137255\n",
      " 0.96862745 0.94509804 0.         0.         0.         0.\n",
      " 0.         0.         0.         0.         0.         0.\n",
      " 0.         0.         0.         0.         0.         0.\n",
      " 0.         0.         0.3137255  0.6117647  0.41960785 0.99215686\n",
      " 0.99215686 0.8039216  0.04313726 0.         0.16862746 0.6039216\n",
      " 0.         0.         0.         0.         0.         0.\n",
      " 0.         0.         0.         0.         0.         0.\n",
      " 0.         0.         0.         0.         0.         0.\n",
      " 0.         0.05490196 0.00392157 0.6039216  0.99215686 0.3529412\n",
      " 0.         0.         0.         0.         0.         0.\n",
      " 0.         0.         0.         0.         0.         0.\n",
      " 0.         0.         0.         0.         0.         0.\n",
      " 0.         0.         0.         0.         0.         0.\n",
      " 0.         0.54509807 0.99215686 0.74509805 0.00784314 0.\n",
      " 0.         0.         0.         0.         0.         0.\n",
      " 0.         0.         0.         0.         0.         0.\n",
      " 0.         0.         0.         0.         0.         0.\n",
      " 0.         0.         0.         0.         0.         0.04313726\n",
      " 0.74509805 0.99215686 0.27450982 0.         0.         0.\n",
      " 0.         0.         0.         0.         0.         0.\n",
      " 0.         0.         0.         0.         0.         0.\n",
      " 0.         0.         0.         0.         0.         0.\n",
      " 0.         0.         0.         0.         0.13725491 0.94509804\n",
      " 0.88235295 0.627451   0.42352942 0.00392157 0.         0.\n",
      " 0.         0.         0.         0.         0.         0.\n",
      " 0.         0.         0.         0.         0.         0.\n",
      " 0.         0.         0.         0.         0.         0.\n",
      " 0.         0.         0.         0.31764707 0.9411765  0.99215686\n",
      " 0.99215686 0.46666667 0.09803922 0.         0.         0.\n",
      " 0.         0.         0.         0.         0.         0.\n",
      " 0.         0.         0.         0.         0.         0.\n",
      " 0.         0.         0.         0.         0.         0.\n",
      " 0.         0.         0.1764706  0.7294118  0.99215686 0.99215686\n",
      " 0.5882353  0.10588235 0.         0.         0.         0.\n",
      " 0.         0.         0.         0.         0.         0.\n",
      " 0.         0.         0.         0.         0.         0.\n",
      " 0.         0.         0.         0.         0.         0.\n",
      " 0.         0.0627451  0.3647059  0.9882353  0.99215686 0.73333335\n",
      " 0.         0.         0.         0.         0.         0.\n",
      " 0.         0.         0.         0.         0.         0.\n",
      " 0.         0.         0.         0.         0.         0.\n",
      " 0.         0.         0.         0.         0.         0.\n",
      " 0.         0.9764706  0.99215686 0.9764706  0.2509804  0.\n",
      " 0.         0.         0.         0.         0.         0.\n",
      " 0.         0.         0.         0.         0.         0.\n",
      " 0.         0.         0.         0.         0.         0.\n",
      " 0.         0.         0.18039216 0.50980395 0.7176471  0.99215686\n",
      " 0.99215686 0.8117647  0.00784314 0.         0.         0.\n",
      " 0.         0.         0.         0.         0.         0.\n",
      " 0.         0.         0.         0.         0.         0.\n",
      " 0.         0.         0.         0.         0.15294118 0.5803922\n",
      " 0.8980392  0.99215686 0.99215686 0.99215686 0.98039216 0.7137255\n",
      " 0.         0.         0.         0.         0.         0.\n",
      " 0.         0.         0.         0.         0.         0.\n",
      " 0.         0.         0.         0.         0.         0.\n",
      " 0.09411765 0.44705883 0.8666667  0.99215686 0.99215686 0.99215686\n",
      " 0.99215686 0.7882353  0.30588236 0.         0.         0.\n",
      " 0.         0.         0.         0.         0.         0.\n",
      " 0.         0.         0.         0.         0.         0.\n",
      " 0.         0.         0.09019608 0.25882354 0.8352941  0.99215686\n",
      " 0.99215686 0.99215686 0.99215686 0.7764706  0.31764707 0.00784314\n",
      " 0.         0.         0.         0.         0.         0.\n",
      " 0.         0.         0.         0.         0.         0.\n",
      " 0.         0.         0.         0.         0.07058824 0.67058825\n",
      " 0.85882354 0.99215686 0.99215686 0.99215686 0.99215686 0.7647059\n",
      " 0.3137255  0.03529412 0.         0.         0.         0.\n",
      " 0.         0.         0.         0.         0.         0.\n",
      " 0.         0.         0.         0.         0.         0.\n",
      " 0.21568628 0.6745098  0.8862745  0.99215686 0.99215686 0.99215686\n",
      " 0.99215686 0.95686275 0.52156866 0.04313726 0.         0.\n",
      " 0.         0.         0.         0.         0.         0.\n",
      " 0.         0.         0.         0.         0.         0.\n",
      " 0.         0.         0.         0.         0.53333336 0.99215686\n",
      " 0.99215686 0.99215686 0.83137256 0.5294118  0.5176471  0.0627451\n",
      " 0.         0.         0.         0.         0.         0.\n",
      " 0.         0.         0.         0.         0.         0.\n",
      " 0.         0.         0.         0.         0.         0.\n",
      " 0.         0.         0.         0.         0.         0.\n",
      " 0.         0.         0.         0.         0.         0.\n",
      " 0.         0.         0.         0.         0.         0.\n",
      " 0.         0.         0.         0.         0.         0.\n",
      " 0.         0.         0.         0.         0.         0.\n",
      " 0.         0.         0.         0.         0.         0.\n",
      " 0.         0.         0.         0.         0.         0.\n",
      " 0.         0.         0.         0.         0.         0.\n",
      " 0.         0.         0.         0.         0.         0.\n",
      " 0.         0.         0.         0.         0.         0.\n",
      " 0.         0.         0.         0.         0.         0.\n",
      " 0.         0.         0.         0.         0.         0.\n",
      " 0.         0.         0.         0.         0.         0.\n",
      " 0.         0.         0.         0.        ]\n"
     ]
    }
   ],
   "source": [
    "# 데이터 자료형 변경\n",
    "# 01. 실수형 변경.\n",
    "# 02. 값의 범위를 정규화(0 ~ 255) -> 0 ~ 1로 변경\n",
    "print(x_train[0])\n",
    "\n",
    "x_train = x_train.astype('float32') / 255.0\n",
    "x_test = x_test.astype('float32') / 255.0\n",
    "\n",
    "print(x_train[0])"
   ]
  },
  {
   "cell_type": "code",
   "execution_count": 31,
   "id": "4b85b07b",
   "metadata": {},
   "outputs": [],
   "source": [
    "# 위 내용의 코드를 간략하게 만들 수 있음\n",
    "# x_train = x_train.reshape(60000, 784).astype('float32') / 255.0\n",
    "# x_test = x_test.reshape(10000, 784).astype('float32') / 255.0\n",
    "# y_train = np_utils.to_categorical(y_train)\n",
    "# y_test = np_utils.to_categorical(y_test)"
   ]
  },
  {
   "cell_type": "markdown",
   "id": "1c9b9644",
   "metadata": {},
   "source": [
    "### 모델 구성하기"
   ]
  },
  {
   "cell_type": "code",
   "execution_count": 33,
   "id": "86639ec9",
   "metadata": {},
   "outputs": [],
   "source": [
    "model = Sequential()\n",
    "model.add(Dense(units = 64, input_dim = 28 * 28, activation = \"tanh\")) # 입력층(28 * 28 = 784 노드), 은닉층(64 노드)\n",
    "model.add(Dense(32))\n",
    "model.add(Activation(\"tanh\"))\n",
    "model.add(Dense(32))\n",
    "model.add(Activation(\"tanh\")) # 한줄로 표현 가능 -> model.add(Dense(32, activation = \"tanh\"))\n",
    "model.add(Dense(units = 10, activation = \"softmax\")) # 출력층(10 노드)"
   ]
  },
  {
   "cell_type": "markdown",
   "id": "9cee094d",
   "metadata": {},
   "source": [
    "### 손실함수(loss function) or 목적함수(objective function)\n",
    "* 신경망의 출력을 제어하기 위해 출력이 기대하는 것보다 얼마나 벗어났는지에 대해 측정하기\n",
    "* 비용함수는 모든 훈련 데이터에 대한 손실 함수의 합을 나타내고 목적함수는 더 일반적인 용어로 최적화하기 위한 대상 함수를 의미한다.\n",
    "\n",
    "### 모델 학습과정 설정하기\n",
    "* model.compile\n",
    "    * 손실 함수(loss function) : 훈련 데이터에서 신경망의 성능을 측정하는 방법. 네트워크가 옮은 방향으로 학습될 수 있도록 도와준다.\n",
    "    * 옵티마이저(optimizer) : 입력된 데이터와 손실 함수를 기반으로 네트워크를 업데이트하는 메커니즘.\n",
    "    * metrics : 훈련과 테스트 과정을 모니터링할 지표 : 정확도(정확히 분류된 이미지의 비율)만 고려\n",
    "* categorical_crossentropy : 여러가지 오차를 구하는 함수 중의 하나\n",
    "* sgd(Stochastic Gradient Descent) : 데이터 셋을 미니배치만큼 돌려서 찾아가는 방법\n",
    "* accuracy : 정확도로 성능을 측정"
   ]
  },
  {
   "cell_type": "code",
   "execution_count": 34,
   "id": "1eea9ad9",
   "metadata": {},
   "outputs": [],
   "source": [
    "model.compile(loss = \"categorical_crossentropy\", \n",
    "              optimizer = \"sgd\", metrics = [\"accuracy\"])"
   ]
  },
  {
   "cell_type": "markdown",
   "id": "e3bb930d",
   "metadata": {},
   "source": [
    "### 모델 학습시키기\n",
    "* [모델명].fit(, , , )\n",
    "* hist = model.fit(x_train, y_train, epochs=5, batch_size=32)\n",
    "    * x_train : 입력 데이터\n",
    "    * y_train : 출력(예측) 데이터\n",
    "    * epochs : 전체 데이터 몇번 돌리것인가?\n",
    "    * batch_size : 몇개씩 데이터를 돌려볼 것인가?"
   ]
  },
  {
   "cell_type": "code",
   "execution_count": 35,
   "id": "4ea742a2",
   "metadata": {},
   "outputs": [
    {
     "name": "stderr",
     "output_type": "stream",
     "text": [
      "2021-11-02 22:09:41.428237: I tensorflow/compiler/mlir/mlir_graph_optimization_pass.cc:185] None of the MLIR Optimization Passes are enabled (registered 2)\n"
     ]
    },
    {
     "name": "stdout",
     "output_type": "stream",
     "text": [
      "Epoch 1/10\n",
      "1875/1875 [==============================] - 2s 631us/step - loss: 0.7171 - accuracy: 0.8177\n",
      "Epoch 2/10\n",
      "1875/1875 [==============================] - 1s 610us/step - loss: 0.3322 - accuracy: 0.9093\n",
      "Epoch 3/10\n",
      "1875/1875 [==============================] - 1s 600us/step - loss: 0.2660 - accuracy: 0.9245\n",
      "Epoch 4/10\n",
      "1875/1875 [==============================] - 1s 611us/step - loss: 0.2273 - accuracy: 0.9350\n",
      "Epoch 5/10\n",
      "1875/1875 [==============================] - 1s 620us/step - loss: 0.1987 - accuracy: 0.9438\n",
      "Epoch 6/10\n",
      "1875/1875 [==============================] - 1s 616us/step - loss: 0.1770 - accuracy: 0.9500\n",
      "Epoch 7/10\n",
      "1875/1875 [==============================] - 1s 643us/step - loss: 0.1594 - accuracy: 0.9548\n",
      "Epoch 8/10\n",
      "1875/1875 [==============================] - 1s 639us/step - loss: 0.1450 - accuracy: 0.9585\n",
      "Epoch 9/10\n",
      "1875/1875 [==============================] - 1s 655us/step - loss: 0.1330 - accuracy: 0.9622\n",
      "Epoch 10/10\n",
      "1875/1875 [==============================] - 1s 653us/step - loss: 0.1228 - accuracy: 0.9643\n"
     ]
    }
   ],
   "source": [
    "hist = model.fit(x_train, y_train, epochs = 10, batch_size = 32)"
   ]
  },
  {
   "cell_type": "markdown",
   "id": "df339eab",
   "metadata": {},
   "source": [
    "### 학습과정 확인\n",
    "* 각 epoch별 loss값과 acc값 확인\n",
    "* 그래프로 확인"
   ]
  },
  {
   "cell_type": "code",
   "execution_count": 36,
   "id": "3373e703",
   "metadata": {},
   "outputs": [
    {
     "data": {
      "text/plain": [
       "dict_keys(['loss', 'accuracy'])"
      ]
     },
     "execution_count": 36,
     "metadata": {},
     "output_type": "execute_result"
    }
   ],
   "source": [
    "# 값 확인\n",
    "hist.history.keys()"
   ]
  },
  {
   "cell_type": "code",
   "execution_count": 37,
   "id": "129f170e",
   "metadata": {},
   "outputs": [
    {
     "name": "stdout",
     "output_type": "stream",
     "text": [
      "## training loss and acc ##\n",
      "[0.7170971632003784, 0.33223089575767517, 0.2659815549850464, 0.2272626757621765, 0.19870449602603912, 0.1769905537366867, 0.15937338769435883, 0.14502644538879395, 0.13298824429512024, 0.12280840426683426]\n",
      "[0.8177000284194946, 0.9092666506767273, 0.9245166778564453, 0.9350166916847229, 0.9438166618347168, 0.9499666690826416, 0.9547833204269409, 0.9585333466529846, 0.962233304977417, 0.9643333554267883]\n"
     ]
    }
   ],
   "source": [
    "# 10번의 epoch마다의 loss(손실)과 accuracy(정확도)의 값.\n",
    "print('## training loss and acc ##')\n",
    "print(hist.history['loss'])\n",
    "print(hist.history['accuracy'])"
   ]
  },
  {
   "cell_type": "code",
   "execution_count": 39,
   "id": "409ee10e",
   "metadata": {},
   "outputs": [
    {
     "data": {
      "text/plain": [
       "<matplotlib.legend.Legend at 0x7fe2333fea00>"
      ]
     },
     "execution_count": 39,
     "metadata": {},
     "output_type": "execute_result"
    },
    {
     "data": {
      "image/png": "[encoded data removed]",
      "text/plain": [
       "<Figure size 720x576 with 1 Axes>"
      ]
     },
     "metadata": {},
     "output_type": "display_data"
    }
   ],
   "source": [
    "plt.figure(figsize = (10, 8),facecolor = 'white')\n",
    "x_lim = range(1, 11)\n",
    "plt.plot(x_lim, hist.history['loss'])\n",
    "plt.plot(x_lim, hist.history['accuracy'])\n",
    "plt.legend(['loss','acc'])"
   ]
  },
  {
   "cell_type": "markdown",
   "id": "8dafed2f",
   "metadata": {},
   "source": [
    "### 모델 평가\n",
    "* test data를 활용하여 만들어진 모델 평가"
   ]
  },
  {
   "cell_type": "code",
   "execution_count": 40,
   "id": "852d8da4",
   "metadata": {},
   "outputs": [
    {
     "name": "stdout",
     "output_type": "stream",
     "text": [
      "313/313 [==============================] - 0s 570us/step - loss: 0.1291 - accuracy: 0.9614\n",
      "## evaluation loss and_metrics ##\n",
      "[0.12913306057453156, 0.9613999724388123]\n"
     ]
    }
   ],
   "source": [
    "loss_and_metrics = model.evaluate(x_test, y_test, batch_size = 32)\n",
    "\n",
    "print('## evaluation loss and_metrics ##')\n",
    "print(loss_and_metrics)  # 최종 데이터 loss와 정확도(accuracy)"
   ]
  },
  {
   "cell_type": "markdown",
   "id": "dc5af5ea",
   "metadata": {},
   "source": [
    "### 모델 사용하여 예측"
   ]
  },
  {
   "cell_type": "code",
   "execution_count": 42,
   "id": "7c0ff768",
   "metadata": {},
   "outputs": [
    {
     "data": {
      "text/plain": [
       "<matplotlib.image.AxesImage at 0x7fe233593850>"
      ]
     },
     "execution_count": 42,
     "metadata": {},
     "output_type": "execute_result"
    },
    {
     "data": {
      "image/png": "[encoded data removed]",
      "text/plain": [
       "<Figure size 432x288 with 1 Axes>"
      ]
     },
     "metadata": {
      "needs_background": "light"
     },
     "output_type": "display_data"
    }
   ],
   "source": [
    "# x_test 하나의 데이터 확인\n",
    "plt.imshow(x_test_n[0])"
   ]
  },
  {
   "cell_type": "code",
   "execution_count": 44,
   "id": "3b741416",
   "metadata": {},
   "outputs": [
    {
     "name": "stdout",
     "output_type": "stream",
     "text": [
      "## yhat ##\n",
      "[[0.000109 0.000078 0.000537 0.002768 0.000015 0.000015 0.000000 0.995144\n",
      "  0.000021 0.001314]]\n",
      "[7]\n"
     ]
    }
   ],
   "source": [
    "# np.set_printoptions(precision=3) \n",
    "# 좀 더 확인하기 쉽게 표시\n",
    "np.set_printoptions(formatter = {'float_kind': lambda x: \"{0:0.6f}\".format(x)})\n",
    "\n",
    "xhat = x_test[0:1]\n",
    "yhat = model.predict(xhat)\n",
    "print('## yhat ##')\n",
    "print(yhat) # 각 값의 확률을 표시\n",
    "print(yhat.argmax(axis = 1))"
   ]
  },
  {
   "cell_type": "code",
   "execution_count": null,
   "id": "81ffde77",
   "metadata": {},
   "outputs": [],
   "source": []
  },
  {
   "cell_type": "code",
   "execution_count": null,
   "id": "05a639c5",
   "metadata": {},
   "outputs": [],
   "source": []
  }
 ],
 "metadata": {
  "kernelspec": {
   "display_name": "Python 3 (ipykernel)",
   "language": "python",
   "name": "python3"
  },
  "language_info": {
   "codemirror_mode": {
    "name": "ipython",
    "version": 3
   },
   "file_extension": ".py",
   "mimetype": "text/x-python",
   "name": "python",
   "nbconvert_exporter": "python",
   "pygments_lexer": "ipython3",
   "version": "3.8.8"
  }
 },
 "nbformat": 4,
 "nbformat_minor": 5
}
