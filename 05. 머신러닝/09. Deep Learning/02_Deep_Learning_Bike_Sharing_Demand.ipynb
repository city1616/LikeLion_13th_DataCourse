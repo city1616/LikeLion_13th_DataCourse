{
 "cells": [
  {
   "cell_type": "markdown",
   "id": "6243330f",
   "metadata": {},
   "source": [
    "### 2021_11_02_3"
   ]
  },
  {
   "cell_type": "markdown",
   "id": "38da62bb",
   "metadata": {},
   "source": [
    "### 딥러닝 모델 구현"
   ]
  },
  {
   "cell_type": "code",
   "execution_count": 7,
   "id": "e74d157f",
   "metadata": {},
   "outputs": [],
   "source": [
    "import tensorflow as tf\n",
    "import keras\n",
    "\n",
    "import numpy as np\n",
    "import matplotlib.pyplot as plt\n",
    "import matplotlib\n",
    "import pandas as pd\n",
    "\n",
    "from sklearn.model_selection import train_test_split"
   ]
  },
  {
   "cell_type": "code",
   "execution_count": 2,
   "id": "b98cb3c9",
   "metadata": {},
   "outputs": [
    {
     "name": "stdout",
     "output_type": "stream",
     "text": [
      "tf version : 2.6.1\n",
      "keras version : 2.6.0\n",
      "numpy version : 1.19.5\n",
      "matplotlib version : 3.4.3\n",
      "pandas version : 1.3.2\n"
     ]
    }
   ],
   "source": [
    "print(\"tf version : {}\".format(tf.__version__))\n",
    "print(\"keras version : {}\".format(keras.__version__))\n",
    "print(\"numpy version : {}\".format(np.__version__))\n",
    "print(\"matplotlib version : {}\".format(matplotlib.__version__))\n",
    "print(\"pandas version : {}\".format(pd.__version__))"
   ]
  },
  {
   "cell_type": "markdown",
   "id": "e64a9713",
   "metadata": {},
   "source": [
    "### 데이터 셋 불러오기"
   ]
  },
  {
   "cell_type": "code",
   "execution_count": 3,
   "id": "dc25f960",
   "metadata": {},
   "outputs": [],
   "source": [
    "## train 데이터 셋 , test 데이터 셋\n",
    "## train 은 학습을 위한 입력 데이터 셋\n",
    "## test 은 예측을 위한 새로운 데이터 셋(평가)\n",
    "## parse_dates : datetime 컬럼을 시간형으로 불러올 수 있음\n",
    "train = pd.read_csv(\"../CSV/bike_mod_train.csv\", parse_dates=['datetime'])\n",
    "test = pd.read_csv(\"../CSV/bike_mod_test.csv\", parse_dates=['datetime'])"
   ]
  },
  {
   "cell_type": "markdown",
   "id": "48a73e81",
   "metadata": {},
   "source": [
    "### 데이터 탐색"
   ]
  },
  {
   "cell_type": "code",
   "execution_count": 4,
   "id": "7f1aa50f",
   "metadata": {},
   "outputs": [
    {
     "data": {
      "text/plain": [
       "Index(['datetime', 'season', 'holiday', 'workingday', 'weather', 'temp',\n",
       "       'atemp', 'humidity', 'windspeed', 'casual', 'registered', 'count',\n",
       "       'year', 'month', 'day', 'hour', 'minute', 'second', 'dayofweek'],\n",
       "      dtype='object')"
      ]
     },
     "execution_count": 4,
     "metadata": {},
     "output_type": "execute_result"
    }
   ],
   "source": [
    "train.columns"
   ]
  },
  {
   "cell_type": "code",
   "execution_count": 5,
   "id": "4cec9127",
   "metadata": {},
   "outputs": [
    {
     "data": {
      "text/plain": [
       "Index(['datetime', 'season', 'holiday', 'workingday', 'weather', 'temp',\n",
       "       'atemp', 'humidity', 'windspeed', 'year', 'month', 'day', 'dayofweek',\n",
       "       'hour', 'minute', 'second'],\n",
       "      dtype='object')"
      ]
     },
     "execution_count": 5,
     "metadata": {},
     "output_type": "execute_result"
    }
   ],
   "source": [
    "test.columns"
   ]
  },
  {
   "cell_type": "code",
   "execution_count": 6,
   "id": "a0df2e17",
   "metadata": {},
   "outputs": [
    {
     "name": "stdout",
     "output_type": "stream",
     "text": [
      "<class 'pandas.core.frame.DataFrame'>\n",
      "RangeIndex: 10886 entries, 0 to 10885\n",
      "Data columns (total 19 columns):\n",
      " #   Column      Non-Null Count  Dtype         \n",
      "---  ------      --------------  -----         \n",
      " 0   datetime    10886 non-null  datetime64[ns]\n",
      " 1   season      10886 non-null  int64         \n",
      " 2   holiday     10886 non-null  int64         \n",
      " 3   workingday  10886 non-null  int64         \n",
      " 4   weather     10886 non-null  int64         \n",
      " 5   temp        10886 non-null  float64       \n",
      " 6   atemp       10886 non-null  float64       \n",
      " 7   humidity    10886 non-null  int64         \n",
      " 8   windspeed   10886 non-null  float64       \n",
      " 9   casual      10886 non-null  int64         \n",
      " 10  registered  10886 non-null  int64         \n",
      " 11  count       10886 non-null  int64         \n",
      " 12  year        10886 non-null  int64         \n",
      " 13  month       10886 non-null  int64         \n",
      " 14  day         10886 non-null  int64         \n",
      " 15  hour        10886 non-null  int64         \n",
      " 16  minute      10886 non-null  int64         \n",
      " 17  second      10886 non-null  int64         \n",
      " 18  dayofweek   10886 non-null  int64         \n",
      "dtypes: datetime64[ns](1), float64(3), int64(15)\n",
      "memory usage: 1.6 MB\n",
      "None\n",
      "\n",
      "<class 'pandas.core.frame.DataFrame'>\n",
      "RangeIndex: 6493 entries, 0 to 6492\n",
      "Data columns (total 16 columns):\n",
      " #   Column      Non-Null Count  Dtype         \n",
      "---  ------      --------------  -----         \n",
      " 0   datetime    6493 non-null   datetime64[ns]\n",
      " 1   season      6493 non-null   int64         \n",
      " 2   holiday     6493 non-null   int64         \n",
      " 3   workingday  6493 non-null   int64         \n",
      " 4   weather     6493 non-null   int64         \n",
      " 5   temp        6493 non-null   float64       \n",
      " 6   atemp       6493 non-null   float64       \n",
      " 7   humidity    6493 non-null   int64         \n",
      " 8   windspeed   6493 non-null   float64       \n",
      " 9   year        6493 non-null   int64         \n",
      " 10  month       6493 non-null   int64         \n",
      " 11  day         6493 non-null   int64         \n",
      " 12  dayofweek   6493 non-null   int64         \n",
      " 13  hour        6493 non-null   int64         \n",
      " 14  minute      6493 non-null   int64         \n",
      " 15  second      6493 non-null   int64         \n",
      "dtypes: datetime64[ns](1), float64(3), int64(12)\n",
      "memory usage: 811.8 KB\n",
      "None\n"
     ]
    }
   ],
   "source": [
    "print(train.info())\n",
    "print()\n",
    "print(test.info())"
   ]
  },
  {
   "cell_type": "markdown",
   "id": "43641e09",
   "metadata": {},
   "source": [
    "### 모델을 위한 데이터 선택\n",
    "* X : hour, temp(시간, 온도)\n",
    "* y : count - 시간대별 자전거 렌탈 대수"
   ]
  },
  {
   "cell_type": "code",
   "execution_count": 8,
   "id": "cb5f2c6c",
   "metadata": {},
   "outputs": [
    {
     "name": "stdout",
     "output_type": "stream",
     "text": [
      "X_train shape : (8164, 2)\n",
      "X_test shape : (2722, 2)\n"
     ]
    }
   ],
   "source": [
    "input_col = [\"hour\", \"temp\"]\n",
    "labeled_col = [\"count\"]\n",
    "\n",
    "X = train[input_col]\n",
    "y = train[labeled_col]\n",
    "\n",
    "X_val = test[input_col]\n",
    "\n",
    "X_train, X_test, y_train, y_test = train_test_split(X, y, \n",
    "                                                   random_state = 0)\n",
    "\n",
    "print(\"X_train shape :\", X_train.shape)\n",
    "print(\"X_test shape :\", X_test.shape)"
   ]
  },
  {
   "cell_type": "markdown",
   "id": "b105e9e3",
   "metadata": {},
   "source": [
    "### 딥러닝 모델 만들기\n",
    "* 케라스 라이브러리 중에서 Sequential 함수는 딥러닝의 구조를 한층 한층 쉽게 쌓아올릴 수 있다.\n",
    "* Sequential() 함수 선언 후, 신경망의 층을 쌓기 위해 model.add() 함수를 사용한다\n",
    "* input_dim 입력층 노드의 수\n",
    "* activation - 활성화 함수 선언 (relu, sigmoid)\n",
    "* Dense() 함수를 이용하여 각 층에 세부 내용을 설정해 준다."
   ]
  },
  {
   "cell_type": "code",
   "execution_count": 9,
   "id": "f412c60c",
   "metadata": {},
   "outputs": [],
   "source": [
    "from keras.models import Sequential\n",
    "from keras.layers import Dense"
   ]
  },
  {
   "cell_type": "code",
   "execution_count": 10,
   "id": "5677b124",
   "metadata": {},
   "outputs": [
    {
     "name": "stderr",
     "output_type": "stream",
     "text": [
      "2021-11-02 11:44:38.832395: I tensorflow/core/platform/cpu_feature_guard.cc:142] This TensorFlow binary is optimized with oneAPI Deep Neural Network Library (oneDNN) to use the following CPU instructions in performance-critical operations:  AVX2 FMA\n",
      "To enable them in other operations, rebuild TensorFlow with the appropriate compiler flags.\n"
     ]
    }
   ],
   "source": [
    "model = Sequential()\n",
    "model.add(Dense(30, input_dim = 2, activation = \"relu\"))\n",
    "model.add(Dense(1))"
   ]
  },
  {
   "cell_type": "code",
   "execution_count": 13,
   "id": "d2f96d51",
   "metadata": {},
   "outputs": [
    {
     "name": "stdout",
     "output_type": "stream",
     "text": [
      "Model: \"sequential\"\n",
      "_________________________________________________________________\n",
      "Layer (type)                 Output Shape              Param #   \n",
      "=================================================================\n",
      "dense (Dense)                (None, 30)                90        \n",
      "_________________________________________________________________\n",
      "dense_1 (Dense)              (None, 1)                 31        \n",
      "=================================================================\n",
      "Total params: 121\n",
      "Trainable params: 121\n",
      "Non-trainable params: 0\n",
      "_________________________________________________________________\n"
     ]
    }
   ],
   "source": [
    "model.summary()"
   ]
  },
  {
   "cell_type": "markdown",
   "id": "80488bc7",
   "metadata": {},
   "source": [
    "### 미니배치의 이해\n",
    "* 이미지를 하나씩 학습시키는 것보다 여러 개를 한꺼번에 학습시키는 쪽이 효과가 좋다.\n",
    "* 많은 메모리와 높은 컴퓨터 성능이 필요하므로 일반적으로 데이터를 적당한 크기로 잘라서 학습시킨다.\n",
    "    * 미니배치라고 한다."
   ]
  },
  {
   "cell_type": "markdown",
   "id": "814ebd4b",
   "metadata": {},
   "source": [
    "### 딥러닝 실행"
   ]
  },
  {
   "cell_type": "code",
   "execution_count": 12,
   "id": "7bf73ce2",
   "metadata": {},
   "outputs": [
    {
     "name": "stderr",
     "output_type": "stream",
     "text": [
      "2021-11-02 11:47:12.542054: I tensorflow/compiler/mlir/mlir_graph_optimization_pass.cc:185] None of the MLIR Optimization Passes are enabled (registered 2)\n"
     ]
    },
    {
     "name": "stdout",
     "output_type": "stream",
     "text": [
      "Epoch 1/20\n",
      "817/817 [==============================] - 1s 473us/step - loss: 46730.5352\n",
      "Epoch 2/20\n",
      "817/817 [==============================] - 0s 511us/step - loss: 24393.3184\n",
      "Epoch 3/20\n",
      "817/817 [==============================] - 0s 482us/step - loss: 23688.7500\n",
      "Epoch 4/20\n",
      "817/817 [==============================] - 0s 489us/step - loss: 22922.5703\n",
      "Epoch 5/20\n",
      "817/817 [==============================] - 0s 479us/step - loss: 22097.4453\n",
      "Epoch 6/20\n",
      "817/817 [==============================] - 0s 488us/step - loss: 21328.3262\n",
      "Epoch 7/20\n",
      "817/817 [==============================] - 0s 453us/step - loss: 20709.9160\n",
      "Epoch 8/20\n",
      "817/817 [==============================] - 0s 491us/step - loss: 20267.7891\n",
      "Epoch 9/20\n",
      "817/817 [==============================] - 0s 490us/step - loss: 19998.3105\n",
      "Epoch 10/20\n",
      "817/817 [==============================] - 0s 547us/step - loss: 19820.1348\n",
      "Epoch 11/20\n",
      "817/817 [==============================] - 1s 796us/step - loss: 19706.7734\n",
      "Epoch 12/20\n",
      "817/817 [==============================] - 0s 593us/step - loss: 19651.4707\n",
      "Epoch 13/20\n",
      "817/817 [==============================] - 0s 551us/step - loss: 19611.9121\n",
      "Epoch 14/20\n",
      "817/817 [==============================] - 0s 513us/step - loss: 19583.2227\n",
      "Epoch 15/20\n",
      "817/817 [==============================] - 0s 534us/step - loss: 19559.5586\n",
      "Epoch 16/20\n",
      "817/817 [==============================] - 0s 489us/step - loss: 19550.3320\n",
      "Epoch 17/20\n",
      "817/817 [==============================] - 0s 499us/step - loss: 19539.5273\n",
      "Epoch 18/20\n",
      "817/817 [==============================] - 0s 506us/step - loss: 19537.1172\n",
      "Epoch 19/20\n",
      "817/817 [==============================] - 0s 493us/step - loss: 19527.5117\n",
      "Epoch 20/20\n",
      "817/817 [==============================] - 0s 487us/step - loss: 19503.5430\n"
     ]
    },
    {
     "data": {
      "text/plain": [
       "<keras.callbacks.History at 0x7f80ee12eaf0>"
      ]
     },
     "execution_count": 12,
     "metadata": {},
     "output_type": "execute_result"
    }
   ],
   "source": [
    "model.compile(loss = \"mean_squared_error\", optimizer = \"rmsprop\")\n",
    "model.fit(X_train, y_train, epochs = 20, batch_size = 10)"
   ]
  },
  {
   "cell_type": "markdown",
   "id": "88c8c99d",
   "metadata": {},
   "source": [
    "### 평가 확인"
   ]
  },
  {
   "cell_type": "code",
   "execution_count": 14,
   "id": "4f204ec4",
   "metadata": {},
   "outputs": [
    {
     "name": "stdout",
     "output_type": "stream",
     "text": [
      "86/86 [==============================] - 0s 510us/step - loss: 19340.1348\n"
     ]
    },
    {
     "data": {
      "text/plain": [
       "19340.134765625"
      ]
     },
     "execution_count": 14,
     "metadata": {},
     "output_type": "execute_result"
    }
   ],
   "source": [
    "model.evaluate(X_test, y_test)"
   ]
  },
  {
   "cell_type": "code",
   "execution_count": 15,
   "id": "7e33797e",
   "metadata": {},
   "outputs": [],
   "source": [
    "pred = model.predict(X_val)\n",
    "sub = pd.read_csv(\"../CSV/bike-sharing-demand/sampleSubmission.csv\")\n",
    "sub[\"count\"] = pred\n",
    "\n",
    "sub.loc[sub[\"count\"] < 0, \"count\"] = 0\n",
    "\n",
    "sub.to_csv(\"../CSV/bike-sharing-demand/10_sub.csv\", index = False)"
   ]
  },
  {
   "cell_type": "code",
   "execution_count": 16,
   "id": "a2c13d16",
   "metadata": {},
   "outputs": [
    {
     "data": {
      "text/plain": [
       "Index(['datetime', 'season', 'holiday', 'workingday', 'weather', 'temp',\n",
       "       'atemp', 'humidity', 'windspeed', 'casual', 'registered', 'count',\n",
       "       'year', 'month', 'day', 'hour', 'minute', 'second', 'dayofweek'],\n",
       "      dtype='object')"
      ]
     },
     "execution_count": 16,
     "metadata": {},
     "output_type": "execute_result"
    }
   ],
   "source": [
    "train.columns"
   ]
  },
  {
   "cell_type": "markdown",
   "id": "32a412c6",
   "metadata": {},
   "source": [
    "### 모델 개선\n",
    "* 01 변수 추가, 성능 개선 확인\n",
    "* 02 은닉층 추가\n",
    "* 03 노드수 늘리기"
   ]
  },
  {
   "cell_type": "markdown",
   "id": "095ea253",
   "metadata": {},
   "source": [
    "### 은닉층 1개 추가"
   ]
  },
  {
   "cell_type": "code",
   "execution_count": 18,
   "id": "d8af358f",
   "metadata": {
    "scrolled": true
   },
   "outputs": [
    {
     "name": "stdout",
     "output_type": "stream",
     "text": [
      "Epoch 1/20\n",
      "817/817 [==============================] - 1s 466us/step - loss: 31557.3105\n",
      "Epoch 2/20\n",
      "817/817 [==============================] - 0s 488us/step - loss: 22244.9434\n",
      "Epoch 3/20\n",
      "817/817 [==============================] - 0s 506us/step - loss: 20605.4922\n",
      "Epoch 4/20\n",
      "817/817 [==============================] - 0s 475us/step - loss: 19863.2383\n",
      "Epoch 5/20\n",
      "817/817 [==============================] - 0s 519us/step - loss: 19644.8691\n",
      "Epoch 6/20\n",
      "817/817 [==============================] - 0s 537us/step - loss: 19572.6992\n",
      "Epoch 7/20\n",
      "817/817 [==============================] - 0s 502us/step - loss: 19554.4941\n",
      "Epoch 8/20\n",
      "817/817 [==============================] - 0s 608us/step - loss: 19509.1523\n",
      "Epoch 9/20\n",
      "817/817 [==============================] - 0s 570us/step - loss: 19491.9043\n",
      "Epoch 10/20\n",
      "817/817 [==============================] - 0s 525us/step - loss: 19472.1484\n",
      "Epoch 11/20\n",
      "817/817 [==============================] - 0s 488us/step - loss: 19423.0254\n",
      "Epoch 12/20\n",
      "817/817 [==============================] - 0s 470us/step - loss: 19432.2832\n",
      "Epoch 13/20\n",
      "817/817 [==============================] - 0s 531us/step - loss: 19414.9766\n",
      "Epoch 14/20\n",
      "817/817 [==============================] - 0s 506us/step - loss: 19384.0488\n",
      "Epoch 15/20\n",
      "817/817 [==============================] - 0s 504us/step - loss: 19353.6914\n",
      "Epoch 16/20\n",
      "817/817 [==============================] - 0s 531us/step - loss: 19311.8555\n",
      "Epoch 17/20\n",
      "817/817 [==============================] - 0s 475us/step - loss: 19279.6641\n",
      "Epoch 18/20\n",
      "817/817 [==============================] - 0s 507us/step - loss: 19264.3477\n",
      "Epoch 19/20\n",
      "817/817 [==============================] - 0s 472us/step - loss: 19264.8535\n",
      "Epoch 20/20\n",
      "817/817 [==============================] - 0s 480us/step - loss: 19199.4160\n"
     ]
    }
   ],
   "source": [
    "model = Sequential()\n",
    "model.add(Dense(16, input_dim = 2, activation = \"relu\"))\n",
    "model.add(Dense(16, activation = \"relu\"))\n",
    "model.add(Dense(1))\n",
    "\n",
    "model.compile(loss = \"mean_squared_error\", optimizer = \"rmsprop\")\n",
    "model.fit(X_train, y_train, epochs = 20, batch_size = 10)\n",
    "\n",
    "pred = model.predict(X_val)\n",
    "sub = pd.read_csv(\"../CSV/bike-sharing-demand/sampleSubmission.csv\")\n",
    "sub[\"count\"] = pred\n",
    "\n",
    "sub.loc[sub[\"count\"] < 0, \"count\"] = 0\n",
    "\n",
    "sub.to_csv(\"../CSV/bike-sharing-demand/11_sub.csv\", index = False)"
   ]
  },
  {
   "cell_type": "markdown",
   "id": "c07ea713",
   "metadata": {},
   "source": [
    "### 변수 1개 추가, 은닉층 3개 추가\n",
    "* kaggle score = 1.03439"
   ]
  },
  {
   "cell_type": "code",
   "execution_count": 25,
   "id": "df80a715",
   "metadata": {
    "scrolled": true
   },
   "outputs": [
    {
     "name": "stdout",
     "output_type": "stream",
     "text": [
      "X_train shape : (8164, 3)\n",
      "X_test shape : (2722, 3)\n",
      "Epoch 1/20\n",
      "817/817 [==============================] - 1s 846us/step - loss: 25364.6855\n",
      "Epoch 2/20\n",
      "817/817 [==============================] - 1s 791us/step - loss: 19907.1816\n",
      "Epoch 3/20\n",
      "817/817 [==============================] - 1s 780us/step - loss: 19536.4395\n",
      "Epoch 4/20\n",
      "817/817 [==============================] - 1s 715us/step - loss: 19302.2852\n",
      "Epoch 5/20\n",
      "817/817 [==============================] - 1s 676us/step - loss: 19168.9199\n",
      "Epoch 6/20\n",
      "817/817 [==============================] - 1s 659us/step - loss: 19055.3105\n",
      "Epoch 7/20\n",
      "817/817 [==============================] - 1s 724us/step - loss: 18924.3711\n",
      "Epoch 8/20\n",
      "817/817 [==============================] - 1s 660us/step - loss: 18786.1445\n",
      "Epoch 9/20\n",
      "817/817 [==============================] - 1s 819us/step - loss: 18682.6641\n",
      "Epoch 10/20\n",
      "817/817 [==============================] - 1s 808us/step - loss: 18384.4707\n",
      "Epoch 11/20\n",
      "817/817 [==============================] - 1s 723us/step - loss: 18175.2910\n",
      "Epoch 12/20\n",
      "817/817 [==============================] - 1s 788us/step - loss: 17912.6445\n",
      "Epoch 13/20\n",
      "817/817 [==============================] - 1s 690us/step - loss: 17689.0840\n",
      "Epoch 14/20\n",
      "817/817 [==============================] - 1s 704us/step - loss: 17631.4473\n",
      "Epoch 15/20\n",
      "817/817 [==============================] - 1s 685us/step - loss: 17397.6602\n",
      "Epoch 16/20\n",
      "817/817 [==============================] - 1s 681us/step - loss: 17273.8301\n",
      "Epoch 17/20\n",
      "817/817 [==============================] - 1s 694us/step - loss: 17095.9004\n",
      "Epoch 18/20\n",
      "817/817 [==============================] - 1s 671us/step - loss: 16827.0488\n",
      "Epoch 19/20\n",
      "817/817 [==============================] - 1s 683us/step - loss: 16573.4414\n",
      "Epoch 20/20\n",
      "817/817 [==============================] - 1s 698us/step - loss: 16324.7891\n"
     ]
    }
   ],
   "source": [
    "input_col = [\"hour\", \"temp\", \"atemp\"]\n",
    "labeled_col = [\"count\"]\n",
    "\n",
    "X = train[input_col]\n",
    "y = train[labeled_col]\n",
    "\n",
    "X_val = test[input_col]\n",
    "\n",
    "X_train, X_test, y_train, y_test = train_test_split(X, y, \n",
    "                                                   random_state = 0)\n",
    "\n",
    "print(\"X_train shape :\", X_train.shape)\n",
    "print(\"X_test shape :\", X_test.shape)\n",
    "\n",
    "model = Sequential()\n",
    "model.add(Dense(16, input_dim = 3, activation = \"relu\"))\n",
    "model.add(Dense(32, activation = \"relu\"))\n",
    "model.add(Dense(64, activation = \"relu\"))\n",
    "model.add(Dense(32, activation = \"relu\"))\n",
    "model.add(Dense(16, activation = \"relu\"))\n",
    "model.add(Dense(1))\n",
    "\n",
    "model.compile(loss = \"mean_squared_error\", optimizer = \"rmsprop\")\n",
    "model.fit(X_train, y_train, epochs = 20, batch_size = 10)\n",
    "\n",
    "pred = model.predict(X_val)\n",
    "sub = pd.read_csv(\"../CSV/bike-sharing-demand/sampleSubmission.csv\")\n",
    "sub[\"count\"] = pred\n",
    "\n",
    "sub.loc[sub[\"count\"] < 0, \"count\"] = 0\n",
    "\n",
    "sub.to_csv(\"../CSV/bike-sharing-demand/12_sub.csv\", index = False)"
   ]
  },
  {
   "cell_type": "markdown",
   "id": "9af3cf2e",
   "metadata": {},
   "source": [
    "### 변수 1개 추가, 은닉층 3개 추가, 노드수 추가, epochs = 100\n",
    "* kaggle score = 0.75426"
   ]
  },
  {
   "cell_type": "code",
   "execution_count": 30,
   "id": "de047ab5",
   "metadata": {
    "scrolled": true
   },
   "outputs": [
    {
     "name": "stdout",
     "output_type": "stream",
     "text": [
      "X_train shape : (8164, 3)\n",
      "X_test shape : (2722, 3)\n",
      "Epoch 1/100\n",
      "817/817 [==============================] - 1s 653us/step - loss: 23274.5156\n",
      "Epoch 2/100\n",
      "817/817 [==============================] - 1s 649us/step - loss: 19728.2598\n",
      "Epoch 3/100\n",
      "817/817 [==============================] - 1s 627us/step - loss: 19506.3789\n",
      "Epoch 4/100\n",
      "817/817 [==============================] - 1s 614us/step - loss: 19242.6465\n",
      "Epoch 5/100\n",
      "817/817 [==============================] - 1s 768us/step - loss: 19052.9434\n",
      "Epoch 6/100\n",
      "817/817 [==============================] - 1s 760us/step - loss: 18798.1992\n",
      "Epoch 7/100\n",
      "817/817 [==============================] - 1s 647us/step - loss: 18470.7246\n",
      "Epoch 8/100\n",
      "817/817 [==============================] - 1s 612us/step - loss: 18168.6602\n",
      "Epoch 9/100\n",
      "817/817 [==============================] - 0s 611us/step - loss: 17945.4375\n",
      "Epoch 10/100\n",
      "817/817 [==============================] - 1s 631us/step - loss: 17682.5293\n",
      "Epoch 11/100\n",
      "817/817 [==============================] - 1s 649us/step - loss: 17382.1094\n",
      "Epoch 12/100\n",
      "817/817 [==============================] - 0s 591us/step - loss: 17142.1562\n",
      "Epoch 13/100\n",
      "817/817 [==============================] - 1s 614us/step - loss: 17073.9414\n",
      "Epoch 14/100\n",
      "817/817 [==============================] - 1s 634us/step - loss: 16874.0586\n",
      "Epoch 15/100\n",
      "817/817 [==============================] - 0s 610us/step - loss: 16772.1250\n",
      "Epoch 16/100\n",
      "817/817 [==============================] - 1s 639us/step - loss: 16513.5703\n",
      "Epoch 17/100\n",
      "817/817 [==============================] - 1s 625us/step - loss: 16178.1357\n",
      "Epoch 18/100\n",
      "817/817 [==============================] - 1s 676us/step - loss: 16095.0195\n",
      "Epoch 19/100\n",
      "817/817 [==============================] - 1s 736us/step - loss: 15984.7900\n",
      "Epoch 20/100\n",
      "817/817 [==============================] - 1s 674us/step - loss: 15900.4922\n",
      "Epoch 21/100\n",
      "817/817 [==============================] - 1s 986us/step - loss: 15558.5322\n",
      "Epoch 22/100\n",
      "817/817 [==============================] - 1s 896us/step - loss: 15415.5996\n",
      "Epoch 23/100\n",
      "817/817 [==============================] - 1s 972us/step - loss: 15209.6914\n",
      "Epoch 24/100\n",
      "817/817 [==============================] - 1s 757us/step - loss: 15040.6348\n",
      "Epoch 25/100\n",
      "817/817 [==============================] - 1s 704us/step - loss: 14862.7715\n",
      "Epoch 26/100\n",
      "817/817 [==============================] - 1s 696us/step - loss: 14702.3789\n",
      "Epoch 27/100\n",
      "817/817 [==============================] - 1s 632us/step - loss: 14507.0674\n",
      "Epoch 28/100\n",
      "817/817 [==============================] - 1s 698us/step - loss: 14450.2344\n",
      "Epoch 29/100\n",
      "817/817 [==============================] - 1s 665us/step - loss: 14242.6621\n",
      "Epoch 30/100\n",
      "817/817 [==============================] - 1s 647us/step - loss: 14221.3896\n",
      "Epoch 31/100\n",
      "817/817 [==============================] - 1s 659us/step - loss: 14123.5410\n",
      "Epoch 32/100\n",
      "817/817 [==============================] - 1s 768us/step - loss: 14067.5498\n",
      "Epoch 33/100\n",
      "817/817 [==============================] - 1s 691us/step - loss: 13949.4600\n",
      "Epoch 34/100\n",
      "817/817 [==============================] - 1s 798us/step - loss: 13963.6660\n",
      "Epoch 35/100\n",
      "817/817 [==============================] - 1s 814us/step - loss: 13830.8867\n",
      "Epoch 36/100\n",
      "817/817 [==============================] - 1s 736us/step - loss: 13690.2207\n",
      "Epoch 37/100\n",
      "817/817 [==============================] - 1s 686us/step - loss: 13705.1104\n",
      "Epoch 38/100\n",
      "817/817 [==============================] - 1s 731us/step - loss: 13590.6602\n",
      "Epoch 39/100\n",
      "817/817 [==============================] - 1s 757us/step - loss: 13543.1621\n",
      "Epoch 40/100\n",
      "817/817 [==============================] - 1s 674us/step - loss: 13498.9336\n",
      "Epoch 41/100\n",
      "817/817 [==============================] - 1s 676us/step - loss: 13647.3369\n",
      "Epoch 42/100\n",
      "817/817 [==============================] - 1s 732us/step - loss: 13537.3105\n",
      "Epoch 43/100\n",
      "817/817 [==============================] - 1s 656us/step - loss: 13474.4277\n",
      "Epoch 44/100\n",
      "817/817 [==============================] - 1s 641us/step - loss: 13369.7510\n",
      "Epoch 45/100\n",
      "817/817 [==============================] - 1s 653us/step - loss: 13398.8359\n",
      "Epoch 46/100\n",
      "817/817 [==============================] - 1s 805us/step - loss: 13405.8545\n",
      "Epoch 47/100\n",
      "817/817 [==============================] - 1s 677us/step - loss: 13347.9004\n",
      "Epoch 48/100\n",
      "817/817 [==============================] - 1s 657us/step - loss: 13279.9648\n",
      "Epoch 49/100\n",
      "817/817 [==============================] - 1s 712us/step - loss: 13368.4258\n",
      "Epoch 50/100\n",
      "817/817 [==============================] - 1s 698us/step - loss: 13330.6299\n",
      "Epoch 51/100\n",
      "817/817 [==============================] - 1s 668us/step - loss: 13259.4453\n",
      "Epoch 52/100\n",
      "817/817 [==============================] - 1s 663us/step - loss: 13230.0303\n",
      "Epoch 53/100\n",
      "817/817 [==============================] - 1s 657us/step - loss: 13216.5850\n",
      "Epoch 54/100\n",
      "817/817 [==============================] - 1s 654us/step - loss: 13197.7021\n",
      "Epoch 55/100\n",
      "817/817 [==============================] - 1s 669us/step - loss: 13298.5869\n",
      "Epoch 56/100\n",
      "817/817 [==============================] - 1s 650us/step - loss: 13082.2100\n",
      "Epoch 57/100\n",
      "817/817 [==============================] - 1s 649us/step - loss: 13225.7773\n",
      "Epoch 58/100\n",
      "817/817 [==============================] - 1s 672us/step - loss: 13282.9346\n",
      "Epoch 59/100\n",
      "817/817 [==============================] - 1s 667us/step - loss: 13153.2891\n",
      "Epoch 60/100\n",
      "817/817 [==============================] - 1s 685us/step - loss: 13339.7158\n",
      "Epoch 61/100\n",
      "817/817 [==============================] - 1s 719us/step - loss: 13139.0928\n",
      "Epoch 62/100\n",
      "817/817 [==============================] - 1s 720us/step - loss: 13138.8770\n",
      "Epoch 63/100\n",
      "817/817 [==============================] - 1s 653us/step - loss: 13207.0283\n",
      "Epoch 64/100\n",
      "817/817 [==============================] - 1s 679us/step - loss: 13152.9072\n",
      "Epoch 65/100\n",
      "817/817 [==============================] - 1s 767us/step - loss: 13207.6611\n",
      "Epoch 66/100\n",
      "817/817 [==============================] - 1s 672us/step - loss: 13070.3096\n",
      "Epoch 67/100\n",
      "817/817 [==============================] - 1s 712us/step - loss: 13101.3584\n",
      "Epoch 68/100\n",
      "817/817 [==============================] - 1s 713us/step - loss: 13163.1699\n",
      "Epoch 69/100\n",
      "817/817 [==============================] - 1s 693us/step - loss: 13043.6592\n",
      "Epoch 70/100\n",
      "817/817 [==============================] - 1s 675us/step - loss: 13111.1045\n",
      "Epoch 71/100\n",
      "817/817 [==============================] - 1s 682us/step - loss: 13040.7783\n",
      "Epoch 72/100\n",
      "817/817 [==============================] - 1s 701us/step - loss: 13063.7900\n",
      "Epoch 73/100\n",
      "817/817 [==============================] - 1s 697us/step - loss: 13043.6357\n",
      "Epoch 74/100\n",
      "817/817 [==============================] - 1s 768us/step - loss: 13089.2402\n",
      "Epoch 75/100\n",
      "817/817 [==============================] - 1s 894us/step - loss: 12970.4766\n",
      "Epoch 76/100\n",
      "817/817 [==============================] - 1s 722us/step - loss: 13064.9072\n",
      "Epoch 77/100\n",
      "817/817 [==============================] - 1s 734us/step - loss: 12942.3896\n",
      "Epoch 78/100\n",
      "817/817 [==============================] - 1s 680us/step - loss: 12950.5957\n",
      "Epoch 79/100\n",
      "817/817 [==============================] - 1s 725us/step - loss: 13027.3193\n",
      "Epoch 80/100\n",
      "817/817 [==============================] - 1s 731us/step - loss: 12905.2715\n",
      "Epoch 81/100\n",
      "817/817 [==============================] - 1s 736us/step - loss: 12967.3223\n",
      "Epoch 82/100\n",
      "817/817 [==============================] - 1s 773us/step - loss: 12887.2090\n",
      "Epoch 83/100\n",
      "817/817 [==============================] - 1s 739us/step - loss: 12961.3076\n",
      "Epoch 84/100\n",
      "817/817 [==============================] - 1s 745us/step - loss: 12845.1133\n",
      "Epoch 85/100\n",
      "817/817 [==============================] - 1s 724us/step - loss: 12791.6084\n",
      "Epoch 86/100\n",
      "817/817 [==============================] - 1s 673us/step - loss: 12937.6963\n",
      "Epoch 87/100\n",
      "817/817 [==============================] - 1s 676us/step - loss: 12956.4990\n",
      "Epoch 88/100\n",
      "817/817 [==============================] - 1s 795us/step - loss: 12837.4521\n",
      "Epoch 89/100\n",
      "817/817 [==============================] - 1s 771us/step - loss: 12915.2949\n",
      "Epoch 90/100\n",
      "817/817 [==============================] - 1s 732us/step - loss: 12959.7354\n",
      "Epoch 91/100\n",
      "817/817 [==============================] - 1s 708us/step - loss: 12912.4854\n",
      "Epoch 92/100\n"
     ]
    },
    {
     "name": "stdout",
     "output_type": "stream",
     "text": [
      "817/817 [==============================] - 1s 660us/step - loss: 12925.6387\n",
      "Epoch 93/100\n",
      "817/817 [==============================] - 1s 670us/step - loss: 12869.3994\n",
      "Epoch 94/100\n",
      "817/817 [==============================] - 1s 739us/step - loss: 12790.3604\n",
      "Epoch 95/100\n",
      "817/817 [==============================] - 1s 824us/step - loss: 12841.6260\n",
      "Epoch 96/100\n",
      "817/817 [==============================] - 1s 682us/step - loss: 12819.9062\n",
      "Epoch 97/100\n",
      "817/817 [==============================] - 1s 698us/step - loss: 12761.7500\n",
      "Epoch 98/100\n",
      "817/817 [==============================] - 1s 712us/step - loss: 12697.7402\n",
      "Epoch 99/100\n",
      "817/817 [==============================] - 1s 687us/step - loss: 12807.4033\n",
      "Epoch 100/100\n",
      "817/817 [==============================] - 1s 723us/step - loss: 12831.6680\n"
     ]
    }
   ],
   "source": [
    "input_col = [\"hour\", \"temp\", \"atemp\"]\n",
    "labeled_col = [\"count\"]\n",
    "\n",
    "X = train[input_col]\n",
    "y = train[labeled_col]\n",
    "\n",
    "X_val = test[input_col]\n",
    "\n",
    "X_train, X_test, y_train, y_test = train_test_split(X, y, \n",
    "                                                   random_state = 0)\n",
    "\n",
    "print(\"X_train shape :\", X_train.shape)\n",
    "print(\"X_test shape :\", X_test.shape)\n",
    "\n",
    "model = Sequential()\n",
    "model.add(Dense(20, input_dim = 3, activation = \"relu\"))\n",
    "model.add(Dense(32, activation = \"relu\"))\n",
    "model.add(Dense(64, activation = \"relu\"))\n",
    "model.add(Dense(32, activation = \"relu\"))\n",
    "model.add(Dense(16, activation = \"relu\"))\n",
    "model.add(Dense(1))\n",
    "\n",
    "model.compile(loss = \"mean_squared_error\", optimizer = \"rmsprop\")\n",
    "model.fit(X_train, y_train, epochs = 100, batch_size = 10)\n",
    "\n",
    "pred = model.predict(X_val)\n",
    "sub = pd.read_csv(\"../CSV/bike-sharing-demand/sampleSubmission.csv\")\n",
    "sub[\"count\"] = pred\n",
    "\n",
    "sub.loc[sub[\"count\"] < 0, \"count\"] = 0\n",
    "\n",
    "sub.to_csv(\"../CSV/bike-sharing-demand/13_sub.csv\", index = False)"
   ]
  },
  {
   "cell_type": "code",
   "execution_count": null,
   "id": "aaa62c56",
   "metadata": {},
   "outputs": [],
   "source": []
  },
  {
   "cell_type": "code",
   "execution_count": null,
   "id": "9db5fa9c",
   "metadata": {},
   "outputs": [],
   "source": []
  }
 ],
 "metadata": {
  "kernelspec": {
   "display_name": "Python 3 (ipykernel)",
   "language": "python",
   "name": "python3"
  },
  "language_info": {
   "codemirror_mode": {
    "name": "ipython",
    "version": 3
   },
   "file_extension": ".py",
   "mimetype": "text/x-python",
   "name": "python",
   "nbconvert_exporter": "python",
   "pygments_lexer": "ipython3",
   "version": "3.8.8"
  }
 },
 "nbformat": 4,
 "nbformat_minor": 5
}
