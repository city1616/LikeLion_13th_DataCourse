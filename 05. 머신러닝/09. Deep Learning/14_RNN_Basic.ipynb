{
 "cells": [
  {
   "cell_type": "markdown",
   "id": "d3065719",
   "metadata": {},
   "source": [
    "### 2021_11_12_3"
   ]
  },
  {
   "cell_type": "markdown",
   "id": "abad9dcc",
   "metadata": {},
   "source": [
    "### RNN Basic"
   ]
  },
  {
   "cell_type": "code",
   "execution_count": 2,
   "id": "cdf50f4a",
   "metadata": {},
   "outputs": [],
   "source": [
    "import tensorflow as tf\n",
    "import keras\n",
    "import numpy as np"
   ]
  },
  {
   "cell_type": "code",
   "execution_count": 4,
   "id": "7b9efe80",
   "metadata": {},
   "outputs": [
    {
     "name": "stdout",
     "output_type": "stream",
     "text": [
      "[0, 1, 2, 3, 4]\n",
      "[1, 2, 3, 4, 5]\n",
      "[2, 3, 4, 5, 6]\n",
      "[3, 4, 5, 6, 7]\n",
      "[4, 5, 6, 7, 8]\n",
      "[5, 6, 7, 8, 9]\n",
      "[6, 7, 8, 9, 10]\n",
      "[7, 8, 9, 10, 11]\n",
      "[8, 9, 10, 11, 12]\n",
      "[9, 10, 11, 12, 13]\n"
     ]
    }
   ],
   "source": [
    "for i in range(10) :\n",
    "    lst = list(range(i, i + 5))\n",
    "    print(lst)"
   ]
  },
  {
   "cell_type": "code",
   "execution_count": 6,
   "id": "d8f0bcc2",
   "metadata": {},
   "outputs": [
    {
     "name": "stdout",
     "output_type": "stream",
     "text": [
      "X shape : (10, 5, 1)  Y shape : (10,)\n",
      "[[0. ]\n",
      " [0.1]\n",
      " [0.2]\n",
      " [0.3]\n",
      " [0.4]] 0.5\n",
      "[[0.1]\n",
      " [0.2]\n",
      " [0.3]\n",
      " [0.4]\n",
      " [0.5]] 0.6\n"
     ]
    }
   ],
   "source": [
    "X = []\n",
    "Y = []\n",
    "\n",
    "for i in range(10) :\n",
    "    lst = list(range(i, i + 5))\n",
    "    X.append([[c / 10] for c in lst])\n",
    "    Y.append((i + 5) / 10)\n",
    "    \n",
    "X = np.array(X)\n",
    "Y = np.array(Y)\n",
    "\n",
    "print(\"X shape :\", X.shape, \" Y shape :\",  Y.shape)\n",
    "print(X[0], Y[0])\n",
    "print(X[1], Y[1])"
   ]
  },
  {
   "cell_type": "code",
   "execution_count": 8,
   "id": "56df95d3",
   "metadata": {},
   "outputs": [
    {
     "name": "stdout",
     "output_type": "stream",
     "text": [
      "[[0. ]\n",
      " [0.1]\n",
      " [0.2]\n",
      " [0.3]\n",
      " [0.4]] 0.5\n",
      "[[0.1]\n",
      " [0.2]\n",
      " [0.3]\n",
      " [0.4]\n",
      " [0.5]] 0.6\n",
      "[[0.2]\n",
      " [0.3]\n",
      " [0.4]\n",
      " [0.5]\n",
      " [0.6]] 0.7\n",
      "[[0.3]\n",
      " [0.4]\n",
      " [0.5]\n",
      " [0.6]\n",
      " [0.7]] 0.8\n",
      "[[0.4]\n",
      " [0.5]\n",
      " [0.6]\n",
      " [0.7]\n",
      " [0.8]] 0.9\n",
      "[[0.5]\n",
      " [0.6]\n",
      " [0.7]\n",
      " [0.8]\n",
      " [0.9]] 1.0\n",
      "[[0.6]\n",
      " [0.7]\n",
      " [0.8]\n",
      " [0.9]\n",
      " [1. ]] 1.1\n",
      "[[0.7]\n",
      " [0.8]\n",
      " [0.9]\n",
      " [1. ]\n",
      " [1.1]] 1.2\n",
      "[[0.8]\n",
      " [0.9]\n",
      " [1. ]\n",
      " [1.1]\n",
      " [1.2]] 1.3\n",
      "[[0.9]\n",
      " [1. ]\n",
      " [1.1]\n",
      " [1.2]\n",
      " [1.3]] 1.4\n",
      "X shape : (10, 5, 1)\n",
      "Y shape : (10,)\n"
     ]
    }
   ],
   "source": [
    "# 전체 데이터 확인\n",
    "for i in range(len(X)) :\n",
    "    print(X[i], Y[i])\n",
    "print(\"X shape :\", X.shape)\n",
    "print(\"Y shape :\", Y.shape)"
   ]
  },
  {
   "cell_type": "markdown",
   "id": "0592d16d",
   "metadata": {},
   "source": [
    "### 모델 구축\n",
    "* SimpleRNN\n",
    "    * return_sequences : 기본값(False)\n",
    "        * False : 마지막 상태만 출력\n",
    "        * True : 모든 지점의 은닉 상태 출력\n",
    "    * return_state : 기본값(False)\n",
    "        * True : return_sequences의 값과 상관없이 마지막 은닉 상태를 출력"
   ]
  },
  {
   "cell_type": "code",
   "execution_count": 15,
   "id": "efcff308",
   "metadata": {},
   "outputs": [],
   "source": [
    "model = tf.keras.Sequential([\n",
    "    tf.keras.layers.SimpleRNN(units = 10, \n",
    "                              return_sequences = False,\n",
    "                              input_shape = [5, 1]), \n",
    "    tf.keras.layers.Dense(1)\n",
    "])"
   ]
  },
  {
   "cell_type": "code",
   "execution_count": 16,
   "id": "a7a809c3",
   "metadata": {},
   "outputs": [
    {
     "name": "stdout",
     "output_type": "stream",
     "text": [
      "Model: \"sequential_2\"\n",
      "_________________________________________________________________\n",
      " Layer (type)                Output Shape              Param #   \n",
      "=================================================================\n",
      " simple_rnn_2 (SimpleRNN)    (None, 10)                120       \n",
      "                                                                 \n",
      " dense_2 (Dense)             (None, 1)                 11        \n",
      "                                                                 \n",
      "=================================================================\n",
      "Total params: 131\n",
      "Trainable params: 131\n",
      "Non-trainable params: 0\n",
      "_________________________________________________________________\n"
     ]
    }
   ],
   "source": [
    "model.summary()"
   ]
  },
  {
   "cell_type": "code",
   "execution_count": 17,
   "id": "fbc2fafe",
   "metadata": {},
   "outputs": [
    {
     "name": "stdout",
     "output_type": "stream",
     "text": [
      "Model: \"sequential_2\"\n",
      "_________________________________________________________________\n",
      " Layer (type)                Output Shape              Param #   \n",
      "=================================================================\n",
      " simple_rnn_2 (SimpleRNN)    (None, 10)                120       \n",
      "                                                                 \n",
      " dense_2 (Dense)             (None, 1)                 11        \n",
      "                                                                 \n",
      "=================================================================\n",
      "Total params: 131\n",
      "Trainable params: 131\n",
      "Non-trainable params: 0\n",
      "_________________________________________________________________\n"
     ]
    }
   ],
   "source": [
    "model.compile(optimizer = \"adam\", loss = \"mse\")\n",
    "\n",
    "model.summary()"
   ]
  },
  {
   "cell_type": "markdown",
   "id": "f40b21e0",
   "metadata": {},
   "source": [
    "### 파라미터 개수\n",
    "* 파라미터 아웃 * (파라미터 아웃 + 차원 + 1(바이어스))\n",
    "* 10 (10 1 + 1) = 120"
   ]
  },
  {
   "cell_type": "code",
   "execution_count": 18,
   "id": "68306c18",
   "metadata": {},
   "outputs": [
    {
     "name": "stdout",
     "output_type": "stream",
     "text": [
      "Epoch 1/50\n",
      "1/1 [==============================] - 1s 577ms/step - loss: 2.6768\n",
      "Epoch 2/50\n",
      "1/1 [==============================] - 0s 4ms/step - loss: 2.5926\n",
      "Epoch 3/50\n",
      "1/1 [==============================] - 0s 3ms/step - loss: 2.5097\n",
      "Epoch 4/50\n",
      "1/1 [==============================] - 0s 3ms/step - loss: 2.4282\n",
      "Epoch 5/50\n",
      "1/1 [==============================] - 0s 4ms/step - loss: 2.3481\n",
      "Epoch 6/50\n",
      "1/1 [==============================] - 0s 4ms/step - loss: 2.2694\n",
      "Epoch 7/50\n",
      "1/1 [==============================] - 0s 6ms/step - loss: 2.1922\n",
      "Epoch 8/50\n",
      "1/1 [==============================] - 0s 5ms/step - loss: 2.1166\n",
      "Epoch 9/50\n",
      "1/1 [==============================] - 0s 5ms/step - loss: 2.0425\n",
      "Epoch 10/50\n",
      "1/1 [==============================] - 0s 5ms/step - loss: 1.9699\n",
      "Epoch 11/50\n",
      "1/1 [==============================] - 0s 4ms/step - loss: 1.8990\n",
      "Epoch 12/50\n",
      "1/1 [==============================] - 0s 4ms/step - loss: 1.8297\n",
      "Epoch 13/50\n",
      "1/1 [==============================] - 0s 4ms/step - loss: 1.7620\n",
      "Epoch 14/50\n",
      "1/1 [==============================] - 0s 4ms/step - loss: 1.6959\n",
      "Epoch 15/50\n",
      "1/1 [==============================] - 0s 4ms/step - loss: 1.6315\n",
      "Epoch 16/50\n",
      "1/1 [==============================] - 0s 5ms/step - loss: 1.5687\n",
      "Epoch 17/50\n",
      "1/1 [==============================] - 0s 3ms/step - loss: 1.5075\n",
      "Epoch 18/50\n",
      "1/1 [==============================] - 0s 5ms/step - loss: 1.4479\n",
      "Epoch 19/50\n",
      "1/1 [==============================] - 0s 4ms/step - loss: 1.3899\n",
      "Epoch 20/50\n",
      "1/1 [==============================] - 0s 4ms/step - loss: 1.3335\n",
      "Epoch 21/50\n",
      "1/1 [==============================] - 0s 6ms/step - loss: 1.2786\n",
      "Epoch 22/50\n",
      "1/1 [==============================] - 0s 3ms/step - loss: 1.2254\n",
      "Epoch 23/50\n",
      "1/1 [==============================] - 0s 4ms/step - loss: 1.1736\n",
      "Epoch 24/50\n",
      "1/1 [==============================] - 0s 4ms/step - loss: 1.1234\n",
      "Epoch 25/50\n",
      "1/1 [==============================] - 0s 3ms/step - loss: 1.0747\n",
      "Epoch 26/50\n",
      "1/1 [==============================] - 0s 3ms/step - loss: 1.0275\n",
      "Epoch 27/50\n",
      "1/1 [==============================] - 0s 4ms/step - loss: 0.9817\n",
      "Epoch 28/50\n",
      "1/1 [==============================] - 0s 3ms/step - loss: 0.9374\n",
      "Epoch 29/50\n",
      "1/1 [==============================] - 0s 4ms/step - loss: 0.8945\n",
      "Epoch 30/50\n",
      "1/1 [==============================] - 0s 4ms/step - loss: 0.8531\n",
      "Epoch 31/50\n",
      "1/1 [==============================] - 0s 5ms/step - loss: 0.8130\n",
      "Epoch 32/50\n",
      "1/1 [==============================] - 0s 4ms/step - loss: 0.7743\n",
      "Epoch 33/50\n",
      "1/1 [==============================] - 0s 4ms/step - loss: 0.7370\n",
      "Epoch 34/50\n",
      "1/1 [==============================] - 0s 4ms/step - loss: 0.7010\n",
      "Epoch 35/50\n",
      "1/1 [==============================] - 0s 3ms/step - loss: 0.6663\n",
      "Epoch 36/50\n",
      "1/1 [==============================] - 0s 3ms/step - loss: 0.6329\n",
      "Epoch 37/50\n",
      "1/1 [==============================] - 0s 5ms/step - loss: 0.6008\n",
      "Epoch 38/50\n",
      "1/1 [==============================] - 0s 5ms/step - loss: 0.5699\n",
      "Epoch 39/50\n",
      "1/1 [==============================] - 0s 5ms/step - loss: 0.5403\n",
      "Epoch 40/50\n",
      "1/1 [==============================] - 0s 6ms/step - loss: 0.5118\n",
      "Epoch 41/50\n",
      "1/1 [==============================] - 0s 4ms/step - loss: 0.4846\n",
      "Epoch 42/50\n",
      "1/1 [==============================] - 0s 6ms/step - loss: 0.4585\n",
      "Epoch 43/50\n",
      "1/1 [==============================] - 0s 4ms/step - loss: 0.4335\n",
      "Epoch 44/50\n",
      "1/1 [==============================] - 0s 5ms/step - loss: 0.4097\n",
      "Epoch 45/50\n",
      "1/1 [==============================] - 0s 9ms/step - loss: 0.3869\n",
      "Epoch 46/50\n",
      "1/1 [==============================] - 0s 5ms/step - loss: 0.3652\n",
      "Epoch 47/50\n",
      "1/1 [==============================] - 0s 4ms/step - loss: 0.3446\n",
      "Epoch 48/50\n",
      "1/1 [==============================] - 0s 4ms/step - loss: 0.3249\n",
      "Epoch 49/50\n",
      "1/1 [==============================] - 0s 5ms/step - loss: 0.3062\n",
      "Epoch 50/50\n",
      "1/1 [==============================] - 0s 3ms/step - loss: 0.2885\n"
     ]
    },
    {
     "data": {
      "text/plain": [
       "<keras.callbacks.History at 0x7fccc3a644f0>"
      ]
     },
     "execution_count": 18,
     "metadata": {},
     "output_type": "execute_result"
    }
   ],
   "source": [
    "model.fit(X, Y, epochs = 50, verbose = 1)"
   ]
  },
  {
   "cell_type": "code",
   "execution_count": 19,
   "id": "f3e5b0ff",
   "metadata": {},
   "outputs": [
    {
     "name": "stdout",
     "output_type": "stream",
     "text": [
      "[0.5 0.6 0.7 0.8 0.9 1.  1.1 1.2 1.3 1.4]\n"
     ]
    },
    {
     "data": {
      "text/plain": [
       "array([[0.41972467],\n",
       "       [0.50236946],\n",
       "       [0.55135244],\n",
       "       [0.5736221 ],\n",
       "       [0.576312  ],\n",
       "       [0.5651973 ],\n",
       "       [0.5445627 ],\n",
       "       [0.5175112 ],\n",
       "       [0.48629412],\n",
       "       [0.4525499 ]], dtype=float32)"
      ]
     },
     "execution_count": 19,
     "metadata": {},
     "output_type": "execute_result"
    }
   ],
   "source": [
    "print(Y) # 실제값\n",
    "pred = model.predict(X)\n",
    "pred"
   ]
  },
  {
   "cell_type": "code",
   "execution_count": null,
   "id": "0d2e2dbd",
   "metadata": {},
   "outputs": [],
   "source": []
  }
 ],
 "metadata": {
  "kernelspec": {
   "display_name": "Python 3 (ipykernel)",
   "language": "python",
   "name": "python3"
  },
  "language_info": {
   "codemirror_mode": {
    "name": "ipython",
    "version": 3
   },
   "file_extension": ".py",
   "mimetype": "text/x-python",
   "name": "python",
   "nbconvert_exporter": "python",
   "pygments_lexer": "ipython3",
   "version": "3.8.8"
  }
 },
 "nbformat": 4,
 "nbformat_minor": 5
}
