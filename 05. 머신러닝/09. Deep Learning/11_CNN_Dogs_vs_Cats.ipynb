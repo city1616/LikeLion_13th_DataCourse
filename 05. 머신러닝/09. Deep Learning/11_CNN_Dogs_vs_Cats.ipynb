{
 "cells": [
  {
   "cell_type": "markdown",
   "id": "3ac75e51",
   "metadata": {},
   "source": [
    "### 2021_11_11_4"
   ]
  },
  {
   "cell_type": "code",
   "execution_count": 1,
   "id": "c671944c",
   "metadata": {},
   "outputs": [],
   "source": [
    "import os"
   ]
  },
  {
   "cell_type": "code",
   "execution_count": 2,
   "id": "30e4a5a6",
   "metadata": {},
   "outputs": [
    {
     "name": "stdout",
     "output_type": "stream",
     "text": [
      "total 1217008\n",
      "drwxr-xr-x@ 25002 seungwoomun  staff  800064  9 20  2013 .\n",
      "drwx------@     9 seungwoomun  staff     288 11 11 10:27 ..\n",
      "-rw-r--r--@     1 seungwoomun  staff   12414  9 20  2013 cat.0.jpg\n",
      "-rw-r--r--@     1 seungwoomun  staff   16880  9 20  2013 cat.1.jpg\n",
      "wc: illegal option -- 1\n",
      "usage: wc [-clmw] [file ...]\n",
      "ls: ../DATA/dogs-vs-cats/test: No such file or directory\n",
      "ls: ../DATA/dogs-vs-cats/test: No such file or directory\n",
      "wc: illegal option -- 1\n",
      "usage: wc [-clmw] [file ...]\n"
     ]
    }
   ],
   "source": [
    "!ls -al \"../DATA/dogs-vs-cats/train/\" | head -5\n",
    "!ls -l \"../DATA/dogs-vs-cats/train/\" | grep ^- | wc -1\n",
    "!ls -al \"../DATA/dogs-vs-cats/test\" | head -5\n",
    "!ls -l \"../DATA/dogs-vs-cats/test\" | grep ^- | wc -1"
   ]
  },
  {
   "cell_type": "code",
   "execution_count": 8,
   "id": "42423b8e",
   "metadata": {},
   "outputs": [],
   "source": [
    "# 원본 데이터셋을 압축 해제한 디렉터리 경로\n",
    "ori_dataset_dir = '../DATA/dogs-vs-cats/train'\n",
    "\n",
    "# 소규모 데이터셋을 저장할 디렉터리\n",
    "base_dir = '../DATA/dogs-vs-cats/dogs_and_cats_small'"
   ]
  },
  {
   "cell_type": "code",
   "execution_count": 9,
   "id": "71414f61",
   "metadata": {},
   "outputs": [],
   "source": [
    "# 훈련, 검증, 테스트 분할을 위한 디렉터리\n",
    "train_dir = os.path.join(base_dir, 'train')\n",
    "\n",
    "val_dir = os.path.join(base_dir, 'validation')\n",
    "\n",
    "test_dir = os.path.join(base_dir, 'test')\n",
    "\n",
    "# 훈련용 고양이 사진 디렉터리\n",
    "train_cats_dir = os.path.join(train_dir, 'cats')\n",
    "\n",
    "# 훈련용 강아지 사진 디렉터리\n",
    "train_dogs_dir = os.path.join(train_dir, 'dogs')\n",
    "\n",
    "# 검증용 고양이 사진 디렉터리\n",
    "val_cats_dir = os.path.join(val_dir, 'cats')\n",
    "\n",
    "# 검증용 강아지 사진 디렉터리\n",
    "val_dogs_dir = os.path.join(val_dir, 'dogs')\n",
    "\n",
    "# 테스트용 고양이 사진 디렉터리\n",
    "test_cats_dir = os.path.join(test_dir, 'cats')\n",
    "\n",
    "# 테스트용 강아지 사진 디렉터리\n",
    "test_dogs_dir = os.path.join(test_dir, 'dogs')"
   ]
  },
  {
   "cell_type": "markdown",
   "id": "0a44375a",
   "metadata": {},
   "source": [
    "### [훈련/검증/테스트]에 들어있는 사진의 개수를 카운트"
   ]
  },
  {
   "cell_type": "code",
   "execution_count": 10,
   "id": "566e59a6",
   "metadata": {},
   "outputs": [
    {
     "name": "stdout",
     "output_type": "stream",
     "text": [
      "훈련용 고양이 이미지 전체 개수: 1000\n",
      "훈련용 강아지 이미지 전체 개수: 1000\n",
      "검증용 고양이 이미지 전체 개수: 500\n",
      "검증용 강아지 이미지 전체 개수: 500\n",
      "테스트용 고양이 이미지 전체 개수: 500\n",
      "테스트용 강아지 이미지 전체 개수: 500\n"
     ]
    }
   ],
   "source": [
    "print('훈련용 고양이 이미지 전체 개수:', len(os.listdir(train_cats_dir)))\n",
    "print('훈련용 강아지 이미지 전체 개수:', len(os.listdir(train_dogs_dir)))\n",
    "\n",
    "print('검증용 고양이 이미지 전체 개수:', len(os.listdir(val_cats_dir)))\n",
    "print('검증용 강아지 이미지 전체 개수:', len(os.listdir(val_dogs_dir)))\n",
    "\n",
    "print('테스트용 고양이 이미지 전체 개수:', len(os.listdir(test_cats_dir)))\n",
    "print('테스트용 강아지 이미지 전체 개수:', len(os.listdir(test_dogs_dir)))"
   ]
  },
  {
   "cell_type": "markdown",
   "id": "d5d23367",
   "metadata": {},
   "source": [
    "### 사전 훈련 네트워크 가져오기"
   ]
  },
  {
   "cell_type": "code",
   "execution_count": 11,
   "id": "5e98e424",
   "metadata": {},
   "outputs": [
    {
     "name": "stderr",
     "output_type": "stream",
     "text": [
      "Using TensorFlow backend.\n",
      "2021-11-11 13:26:08.273520: I tensorflow/core/platform/cpu_feature_guard.cc:151] This TensorFlow binary is optimized with oneAPI Deep Neural Network Library (oneDNN) to use the following CPU instructions in performance-critical operations:  AVX2 FMA\n",
      "To enable them in other operations, rebuild TensorFlow with the appropriate compiler flags.\n"
     ]
    },
    {
     "name": "stdout",
     "output_type": "stream",
     "text": [
      "Downloading data from https://storage.googleapis.com/tensorflow/keras-applications/vgg16/vgg16_weights_tf_dim_ordering_tf_kernels_notop.h5\n",
      "58892288/58889256 [==============================] - 5s 0us/step\n"
     ]
    }
   ],
   "source": [
    "from tensorflow.keras.applications import VGG16\n",
    "\n",
    "conv_base = VGG16(weights = \"imagenet\", \n",
    "                  include_top = False, # 완전 연결 계층(FCL)\n",
    "                  input_shape = (150, 150, 3))"
   ]
  },
  {
   "cell_type": "markdown",
   "id": "e82f39db",
   "metadata": {},
   "source": [
    "* VGG16 함수에 세 개의 매개변수를 전달\n",
    "    * weights는 모델을 초기화할 가중치 체크포인트를 지정\n",
    "        * None, 'imagenet', weights의 path\n",
    "    * include_top은 네트워크의 최상위 완전 연결 분류기를 포함할지 안할지를 지정.\n",
    "        * 기본값은 ImageNet의 1,000개의 클래스에 대응되는 완전 연결 분류기를 포함.\n",
    "        * 여기서는 별도의 (강아지와 고양이 두 개의 클래스를 구분하는) 완전 연결 층을 추가할 계획.\n",
    "    * input_shape은 네트워크에 주입할 이미지 텐서의 크기입니다.\n",
    "        * 이 매개변수는 선택사항입니다. 이 값을 지정하지 않으면 네트워크가 어떤 크기의 입력도 처리할 수 있습니다."
   ]
  },
  {
   "cell_type": "code",
   "execution_count": 12,
   "id": "0bf2743b",
   "metadata": {},
   "outputs": [
    {
     "name": "stdout",
     "output_type": "stream",
     "text": [
      "Model: \"vgg16\"\n",
      "_________________________________________________________________\n",
      "Layer (type)                 Output Shape              Param #   \n",
      "=================================================================\n",
      "input_1 (InputLayer)         [(None, 150, 150, 3)]     0         \n",
      "_________________________________________________________________\n",
      "block1_conv1 (Conv2D)        (None, 150, 150, 64)      1792      \n",
      "_________________________________________________________________\n",
      "block1_conv2 (Conv2D)        (None, 150, 150, 64)      36928     \n",
      "_________________________________________________________________\n",
      "block1_pool (MaxPooling2D)   (None, 75, 75, 64)        0         \n",
      "_________________________________________________________________\n",
      "block2_conv1 (Conv2D)        (None, 75, 75, 128)       73856     \n",
      "_________________________________________________________________\n",
      "block2_conv2 (Conv2D)        (None, 75, 75, 128)       147584    \n",
      "_________________________________________________________________\n",
      "block2_pool (MaxPooling2D)   (None, 37, 37, 128)       0         \n",
      "_________________________________________________________________\n",
      "block3_conv1 (Conv2D)        (None, 37, 37, 256)       295168    \n",
      "_________________________________________________________________\n",
      "block3_conv2 (Conv2D)        (None, 37, 37, 256)       590080    \n",
      "_________________________________________________________________\n",
      "block3_conv3 (Conv2D)        (None, 37, 37, 256)       590080    \n",
      "_________________________________________________________________\n",
      "block3_pool (MaxPooling2D)   (None, 18, 18, 256)       0         \n",
      "_________________________________________________________________\n",
      "block4_conv1 (Conv2D)        (None, 18, 18, 512)       1180160   \n",
      "_________________________________________________________________\n",
      "block4_conv2 (Conv2D)        (None, 18, 18, 512)       2359808   \n",
      "_________________________________________________________________\n",
      "block4_conv3 (Conv2D)        (None, 18, 18, 512)       2359808   \n",
      "_________________________________________________________________\n",
      "block4_pool (MaxPooling2D)   (None, 9, 9, 512)         0         \n",
      "_________________________________________________________________\n",
      "block5_conv1 (Conv2D)        (None, 9, 9, 512)         2359808   \n",
      "_________________________________________________________________\n",
      "block5_conv2 (Conv2D)        (None, 9, 9, 512)         2359808   \n",
      "_________________________________________________________________\n",
      "block5_conv3 (Conv2D)        (None, 9, 9, 512)         2359808   \n",
      "_________________________________________________________________\n",
      "block5_pool (MaxPooling2D)   (None, 4, 4, 512)         0         \n",
      "=================================================================\n",
      "Total params: 14,714,688\n",
      "Trainable params: 14,714,688\n",
      "Non-trainable params: 0\n",
      "_________________________________________________________________\n"
     ]
    }
   ],
   "source": [
    "conv_base.summary()"
   ]
  },
  {
   "cell_type": "markdown",
   "id": "67d7d410",
   "metadata": {},
   "source": [
    "* VGG16은 합성곱 13개, 완전 연결 층(FCL) 3개.\n",
    "    * include_top이 기본값이 True일 경우 input_shape이 원본 모델과 동일한 (224, 224, 3)이 되어야 한다.\n",
    "* 다른 모델 VGG19는 합성곱 층 16개, 완전 연결 층 3개로 이루어져 있음."
   ]
  },
  {
   "cell_type": "markdown",
   "id": "f68a36c3",
   "metadata": {},
   "source": [
    "### 데이터 증식을 사용하지 않는 빠른 특성 추출"
   ]
  },
  {
   "cell_type": "code",
   "execution_count": 19,
   "id": "00e78d1a",
   "metadata": {},
   "outputs": [],
   "source": [
    "import os\n",
    "import numpy as np\n",
    "from keras.preprocessing.image import ImageDataGenerator\n",
    "\n",
    "# 소규모 데이터셋을 저장할 디렉터리\n",
    "base_dir = '../DATA/dogs-vs-cats/dogs_and_cats_small'\n",
    "\n",
    "# 데이터 디렉터리\n",
    "train_dir = os.path.join(base_dir, 'train')\n",
    "validation_dir = os.path.join(base_dir, 'validation')\n",
    "test_dir = os.path.join(base_dir, 'test')\n",
    "\n",
    "datagen = ImageDataGenerator(rescale=1./255)\n",
    "batch_size = 20"
   ]
  },
  {
   "cell_type": "markdown",
   "id": "97edb941",
   "metadata": {},
   "source": [
    "### 이미지 제너레이터를 활용한 데이터 가져오기"
   ]
  },
  {
   "cell_type": "code",
   "execution_count": 20,
   "id": "fe8ac78a",
   "metadata": {},
   "outputs": [],
   "source": [
    "def extract_features(directory, sample_count):\n",
    "    features = np.zeros(shape=(sample_count, 4, 4, 512))\n",
    "    labels = np.zeros(shape=(sample_count))\n",
    "\n",
    "    print(\"피처, 레이블 : \", features.shape, labels.shape  )\n",
    "\n",
    "    generator = datagen.flow_from_directory(\n",
    "        directory,\n",
    "        target_size=(150, 150),\n",
    "        batch_size=batch_size,\n",
    "        class_mode='binary')\n",
    "    \n",
    "    i = 0\n",
    "    for inputs_batch, labels_batch in generator:\n",
    "        features_batch = conv_base.predict(inputs_batch)\n",
    "        #print(  type(features_batch), features_batch.shape  )\n",
    "        features[i * batch_size : (i + 1) * batch_size] = features_batch\n",
    "        labels[i * batch_size : (i + 1) * batch_size] = labels_batch\n",
    "        i += 1\n",
    "        if i * batch_size >= sample_count:\n",
    "            # 제너레이터는 루프 안에서 무한하게 데이터를 만들어내므로 \n",
    "            # 모든 이미지를 한 번씩 처리하고 나면 중지합니다\n",
    "            break\n",
    "    #print(  type(features), features_batch.shape  )\n",
    "    return features, labels"
   ]
  },
  {
   "cell_type": "code",
   "execution_count": 21,
   "id": "2dddce8a",
   "metadata": {},
   "outputs": [
    {
     "name": "stdout",
     "output_type": "stream",
     "text": [
      "피처, 레이블 :  (100, 4, 4, 512) (100,)\n",
      "Found 2000 images belonging to 2 classes.\n",
      "(100, 4, 4, 512) (100,)\n"
     ]
    }
   ],
   "source": [
    "t_features, t_labels = extract_features(train_dir, 100)\n",
    "print( t_features.shape, t_labels.shape )"
   ]
  },
  {
   "cell_type": "code",
   "execution_count": null,
   "id": "abd52b92",
   "metadata": {},
   "outputs": [],
   "source": []
  }
 ],
 "metadata": {
  "kernelspec": {
   "display_name": "Python 3 (ipykernel)",
   "language": "python",
   "name": "python3"
  },
  "language_info": {
   "codemirror_mode": {
    "name": "ipython",
    "version": 3
   },
   "file_extension": ".py",
   "mimetype": "text/x-python",
   "name": "python",
   "nbconvert_exporter": "python",
   "pygments_lexer": "ipython3",
   "version": "3.8.8"
  }
 },
 "nbformat": 4,
 "nbformat_minor": 5
}
