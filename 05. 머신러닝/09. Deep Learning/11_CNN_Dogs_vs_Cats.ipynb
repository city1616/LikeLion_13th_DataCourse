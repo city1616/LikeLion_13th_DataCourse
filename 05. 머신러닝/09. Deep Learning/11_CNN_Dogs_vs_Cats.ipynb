{
 "cells": [
  {
   "cell_type": "markdown",
   "id": "73565acb",
   "metadata": {},
   "source": [
    "### 2021_11_11_4"
   ]
  },
  {
   "cell_type": "code",
   "execution_count": 1,
   "id": "a31fb43e",
   "metadata": {},
   "outputs": [],
   "source": [
    "import os"
   ]
  },
  {
   "cell_type": "code",
   "execution_count": 2,
   "id": "136b301f",
   "metadata": {},
   "outputs": [
    {
     "name": "stdout",
     "output_type": "stream",
     "text": [
      "total 1217008\n",
      "drwxr-xr-x@ 25002 seungwoomun  staff  800064  9 20  2013 .\n",
      "drwx------@     9 seungwoomun  staff     288 11 11 10:27 ..\n",
      "-rw-r--r--@     1 seungwoomun  staff   12414  9 20  2013 cat.0.jpg\n",
      "-rw-r--r--@     1 seungwoomun  staff   16880  9 20  2013 cat.1.jpg\n",
      "wc: illegal option -- 1\n",
      "usage: wc [-clmw] [file ...]\n",
      "ls: ../DATA/dogs-vs-cats/test: No such file or directory\n",
      "ls: ../DATA/dogs-vs-cats/test: No such file or directory\n",
      "wc: illegal option -- 1\n",
      "usage: wc [-clmw] [file ...]\n"
     ]
    }
   ],
   "source": [
    "!ls -al \"../DATA/dogs-vs-cats/train/\" | head -5\n",
    "!ls -l \"../DATA/dogs-vs-cats/train/\" | grep ^- | wc -1\n",
    "!ls -al \"../DATA/dogs-vs-cats/test\" | head -5\n",
    "!ls -l \"../DATA/dogs-vs-cats/test\" | grep ^- | wc -1"
   ]
  },
  {
   "cell_type": "code",
   "execution_count": 8,
   "id": "dd7e4c0a",
   "metadata": {},
   "outputs": [],
   "source": [
    "# 원본 데이터셋을 압축 해제한 디렉터리 경로\n",
    "ori_dataset_dir = '../DATA/dogs-vs-cats/train'\n",
    "\n",
    "# 소규모 데이터셋을 저장할 디렉터리\n",
    "base_dir = '../DATA/dogs-vs-cats/dogs_and_cats_small'"
   ]
  },
  {
   "cell_type": "code",
   "execution_count": 9,
   "id": "a401a1b7",
   "metadata": {},
   "outputs": [],
   "source": [
    "# 훈련, 검증, 테스트 분할을 위한 디렉터리\n",
    "train_dir = os.path.join(base_dir, 'train')\n",
    "\n",
    "val_dir = os.path.join(base_dir, 'validation')\n",
    "\n",
    "test_dir = os.path.join(base_dir, 'test')\n",
    "\n",
    "# 훈련용 고양이 사진 디렉터리\n",
    "train_cats_dir = os.path.join(train_dir, 'cats')\n",
    "\n",
    "# 훈련용 강아지 사진 디렉터리\n",
    "train_dogs_dir = os.path.join(train_dir, 'dogs')\n",
    "\n",
    "# 검증용 고양이 사진 디렉터리\n",
    "val_cats_dir = os.path.join(val_dir, 'cats')\n",
    "\n",
    "# 검증용 강아지 사진 디렉터리\n",
    "val_dogs_dir = os.path.join(val_dir, 'dogs')\n",
    "\n",
    "# 테스트용 고양이 사진 디렉터리\n",
    "test_cats_dir = os.path.join(test_dir, 'cats')\n",
    "\n",
    "# 테스트용 강아지 사진 디렉터리\n",
    "test_dogs_dir = os.path.join(test_dir, 'dogs')"
   ]
  },
  {
   "cell_type": "markdown",
   "id": "0fb38d2d",
   "metadata": {},
   "source": [
    "### [훈련/검증/테스트]에 들어있는 사진의 개수를 카운트"
   ]
  },
  {
   "cell_type": "code",
   "execution_count": 10,
   "id": "0897c3f1",
   "metadata": {},
   "outputs": [
    {
     "name": "stdout",
     "output_type": "stream",
     "text": [
      "훈련용 고양이 이미지 전체 개수: 1000\n",
      "훈련용 강아지 이미지 전체 개수: 1000\n",
      "검증용 고양이 이미지 전체 개수: 500\n",
      "검증용 강아지 이미지 전체 개수: 500\n",
      "테스트용 고양이 이미지 전체 개수: 500\n",
      "테스트용 강아지 이미지 전체 개수: 500\n"
     ]
    }
   ],
   "source": [
    "print('훈련용 고양이 이미지 전체 개수:', len(os.listdir(train_cats_dir)))\n",
    "print('훈련용 강아지 이미지 전체 개수:', len(os.listdir(train_dogs_dir)))\n",
    "\n",
    "print('검증용 고양이 이미지 전체 개수:', len(os.listdir(val_cats_dir)))\n",
    "print('검증용 강아지 이미지 전체 개수:', len(os.listdir(val_dogs_dir)))\n",
    "\n",
    "print('테스트용 고양이 이미지 전체 개수:', len(os.listdir(test_cats_dir)))\n",
    "print('테스트용 강아지 이미지 전체 개수:', len(os.listdir(test_dogs_dir)))"
   ]
  },
  {
   "cell_type": "markdown",
   "id": "85b0fd19",
   "metadata": {},
   "source": [
    "### 사전 훈련 네트워크 가져오기"
   ]
  },
  {
   "cell_type": "code",
   "execution_count": 11,
   "id": "ccc48ff0",
   "metadata": {},
   "outputs": [
    {
     "name": "stderr",
     "output_type": "stream",
     "text": [
      "Using TensorFlow backend.\n",
      "2021-11-11 13:26:08.273520: I tensorflow/core/platform/cpu_feature_guard.cc:151] This TensorFlow binary is optimized with oneAPI Deep Neural Network Library (oneDNN) to use the following CPU instructions in performance-critical operations:  AVX2 FMA\n",
      "To enable them in other operations, rebuild TensorFlow with the appropriate compiler flags.\n"
     ]
    },
    {
     "name": "stdout",
     "output_type": "stream",
     "text": [
      "Downloading data from https://storage.googleapis.com/tensorflow/keras-applications/vgg16/vgg16_weights_tf_dim_ordering_tf_kernels_notop.h5\n",
      "58892288/58889256 [==============================] - 5s 0us/step\n"
     ]
    }
   ],
   "source": [
    "from tensorflow.keras.applications import VGG16\n",
    "\n",
    "conv_base = VGG16(weights = \"imagenet\", \n",
    "                  include_top = False, # 완전 연결 계층(FCL)\n",
    "                  input_shape = (150, 150, 3))"
   ]
  },
  {
   "cell_type": "markdown",
   "id": "40d5c237",
   "metadata": {},
   "source": [
    "* VGG16 함수에 세 개의 매개변수를 전달\n",
    "    * weights는 모델을 초기화할 가중치 체크포인트를 지정\n",
    "        * None, 'imagenet', weights의 path\n",
    "    * include_top은 네트워크의 최상위 완전 연결 분류기를 포함할지 안할지를 지정.\n",
    "        * 기본값은 ImageNet의 1,000개의 클래스에 대응되는 완전 연결 분류기를 포함.\n",
    "        * 여기서는 별도의 (강아지와 고양이 두 개의 클래스를 구분하는) 완전 연결 층을 추가할 계획.\n",
    "    * input_shape은 네트워크에 주입할 이미지 텐서의 크기입니다.\n",
    "        * 이 매개변수는 선택사항입니다. 이 값을 지정하지 않으면 네트워크가 어떤 크기의 입력도 처리할 수 있습니다."
   ]
  },
  {
   "cell_type": "code",
   "execution_count": 12,
   "id": "d0c1e9f6",
   "metadata": {},
   "outputs": [
    {
     "name": "stdout",
     "output_type": "stream",
     "text": [
      "Model: \"vgg16\"\n",
      "_________________________________________________________________\n",
      "Layer (type)                 Output Shape              Param #   \n",
      "=================================================================\n",
      "input_1 (InputLayer)         [(None, 150, 150, 3)]     0         \n",
      "_________________________________________________________________\n",
      "block1_conv1 (Conv2D)        (None, 150, 150, 64)      1792      \n",
      "_________________________________________________________________\n",
      "block1_conv2 (Conv2D)        (None, 150, 150, 64)      36928     \n",
      "_________________________________________________________________\n",
      "block1_pool (MaxPooling2D)   (None, 75, 75, 64)        0         \n",
      "_________________________________________________________________\n",
      "block2_conv1 (Conv2D)        (None, 75, 75, 128)       73856     \n",
      "_________________________________________________________________\n",
      "block2_conv2 (Conv2D)        (None, 75, 75, 128)       147584    \n",
      "_________________________________________________________________\n",
      "block2_pool (MaxPooling2D)   (None, 37, 37, 128)       0         \n",
      "_________________________________________________________________\n",
      "block3_conv1 (Conv2D)        (None, 37, 37, 256)       295168    \n",
      "_________________________________________________________________\n",
      "block3_conv2 (Conv2D)        (None, 37, 37, 256)       590080    \n",
      "_________________________________________________________________\n",
      "block3_conv3 (Conv2D)        (None, 37, 37, 256)       590080    \n",
      "_________________________________________________________________\n",
      "block3_pool (MaxPooling2D)   (None, 18, 18, 256)       0         \n",
      "_________________________________________________________________\n",
      "block4_conv1 (Conv2D)        (None, 18, 18, 512)       1180160   \n",
      "_________________________________________________________________\n",
      "block4_conv2 (Conv2D)        (None, 18, 18, 512)       2359808   \n",
      "_________________________________________________________________\n",
      "block4_conv3 (Conv2D)        (None, 18, 18, 512)       2359808   \n",
      "_________________________________________________________________\n",
      "block4_pool (MaxPooling2D)   (None, 9, 9, 512)         0         \n",
      "_________________________________________________________________\n",
      "block5_conv1 (Conv2D)        (None, 9, 9, 512)         2359808   \n",
      "_________________________________________________________________\n",
      "block5_conv2 (Conv2D)        (None, 9, 9, 512)         2359808   \n",
      "_________________________________________________________________\n",
      "block5_conv3 (Conv2D)        (None, 9, 9, 512)         2359808   \n",
      "_________________________________________________________________\n",
      "block5_pool (MaxPooling2D)   (None, 4, 4, 512)         0         \n",
      "=================================================================\n",
      "Total params: 14,714,688\n",
      "Trainable params: 14,714,688\n",
      "Non-trainable params: 0\n",
      "_________________________________________________________________\n"
     ]
    }
   ],
   "source": [
    "conv_base.summary()"
   ]
  },
  {
   "cell_type": "markdown",
   "id": "e1969749",
   "metadata": {},
   "source": [
    "* VGG16은 합성곱 13개, 완전 연결 층(FCL) 3개.\n",
    "    * include_top이 기본값이 True일 경우 input_shape이 원본 모델과 동일한 (224, 224, 3)이 되어야 한다.\n",
    "* 다른 모델 VGG19는 합성곱 층 16개, 완전 연결 층 3개로 이루어져 있음."
   ]
  },
  {
   "cell_type": "markdown",
   "id": "74b7ee1c",
   "metadata": {},
   "source": [
    "### 데이터 증식을 사용하지 않는 빠른 특성 추출"
   ]
  },
  {
   "cell_type": "code",
   "execution_count": 19,
   "id": "cb8a7f06",
   "metadata": {},
   "outputs": [],
   "source": [
    "import os\n",
    "import numpy as np\n",
    "from keras.preprocessing.image import ImageDataGenerator\n",
    "\n",
    "# 소규모 데이터셋을 저장할 디렉터리\n",
    "base_dir = '../DATA/dogs-vs-cats/dogs_and_cats_small'\n",
    "\n",
    "# 데이터 디렉터리\n",
    "train_dir = os.path.join(base_dir, 'train')\n",
    "validation_dir = os.path.join(base_dir, 'validation')\n",
    "test_dir = os.path.join(base_dir, 'test')\n",
    "\n",
    "datagen = ImageDataGenerator(rescale=1./255)\n",
    "batch_size = 20"
   ]
  },
  {
   "cell_type": "markdown",
   "id": "5be93058",
   "metadata": {},
   "source": [
    "### 이미지 제너레이터를 활용한 데이터 가져오기"
   ]
  },
  {
   "cell_type": "code",
   "execution_count": 20,
   "id": "2932adf5",
   "metadata": {},
   "outputs": [],
   "source": [
    "def extract_features(directory, sample_count):\n",
    "    features = np.zeros(shape=(sample_count, 4, 4, 512))\n",
    "    labels = np.zeros(shape=(sample_count))\n",
    "\n",
    "    print(\"피처, 레이블 : \", features.shape, labels.shape  )\n",
    "\n",
    "    generator = datagen.flow_from_directory(\n",
    "        directory,\n",
    "        target_size=(150, 150),\n",
    "        batch_size=batch_size,\n",
    "        class_mode='binary')\n",
    "    \n",
    "    i = 0\n",
    "    for inputs_batch, labels_batch in generator:\n",
    "        features_batch = conv_base.predict(inputs_batch)\n",
    "        #print(  type(features_batch), features_batch.shape  )\n",
    "        features[i * batch_size : (i + 1) * batch_size] = features_batch\n",
    "        labels[i * batch_size : (i + 1) * batch_size] = labels_batch\n",
    "        i += 1\n",
    "        if i * batch_size >= sample_count:\n",
    "            # 제너레이터는 루프 안에서 무한하게 데이터를 만들어내므로 \n",
    "            # 모든 이미지를 한 번씩 처리하고 나면 중지합니다\n",
    "            break\n",
    "    #print(  type(features), features_batch.shape  )\n",
    "    return features, labels"
   ]
  },
  {
   "cell_type": "code",
   "execution_count": 21,
   "id": "4580241e",
   "metadata": {},
   "outputs": [
    {
     "name": "stdout",
     "output_type": "stream",
     "text": [
      "피처, 레이블 :  (100, 4, 4, 512) (100,)\n",
      "Found 2000 images belonging to 2 classes.\n",
      "(100, 4, 4, 512) (100,)\n"
     ]
    }
   ],
   "source": [
    "t_features, t_labels = extract_features(train_dir, 100)\n",
    "print( t_features.shape, t_labels.shape )"
   ]
  },
  {
   "cell_type": "code",
   "execution_count": 22,
   "id": "cd234373",
   "metadata": {},
   "outputs": [
    {
     "name": "stdout",
     "output_type": "stream",
     "text": [
      "피처, 레이블 :  (2000, 4, 4, 512) (2000,)\n",
      "Found 2000 images belonging to 2 classes.\n",
      "피처, 레이블 :  (1000, 4, 4, 512) (1000,)\n",
      "Found 1000 images belonging to 2 classes.\n",
      "피처, 레이블 :  (1000, 4, 4, 512) (1000,)\n",
      "Found 1000 images belonging to 2 classes.\n",
      "CPU times: user 30min 49s, sys: 2min 55s, total: 33min 44s\n",
      "Wall time: 4min 25s\n"
     ]
    }
   ],
   "source": [
    "%%time\n",
    "\n",
    "train_features, train_labels = extract_features(train_dir, 2000)\n",
    "validation_features, validation_labels = extract_features(validation_dir, 1000)\n",
    "test_features, test_labels = extract_features(test_dir, 1000)"
   ]
  },
  {
   "cell_type": "code",
   "execution_count": 23,
   "id": "a47e5a29",
   "metadata": {},
   "outputs": [
    {
     "name": "stdout",
     "output_type": "stream",
     "text": [
      "(2000, 4, 4, 512) (2000,)\n",
      "(1000, 4, 4, 512) (1000,)\n",
      "(1000, 4, 4, 512) (1000,)\n"
     ]
    }
   ],
   "source": [
    "print( train_features.shape, train_labels.shape )\n",
    "print( validation_features.shape, validation_labels.shape )\n",
    "print( test_features.shape, test_labels.shape )"
   ]
  },
  {
   "cell_type": "markdown",
   "id": "a1fce342",
   "metadata": {},
   "source": [
    "* 추출된 특성(데이터)의 크기는 (samples, 4, 4, 512). 완전 연결 분류기에 주입하기 위해 먼저 (samples, 8192)크기로 펼치기"
   ]
  },
  {
   "cell_type": "code",
   "execution_count": 24,
   "id": "f32f6952",
   "metadata": {},
   "outputs": [],
   "source": [
    "train_features = np.reshape(train_features, (2000, 4 * 4 * 512))\n",
    "validation_features = np.reshape(validation_features, (1000, 4 * 4 * 512))\n",
    "test_features = np.reshape(test_features, (1000, 4 * 4 * 512))"
   ]
  },
  {
   "cell_type": "markdown",
   "id": "9d67a082",
   "metadata": {},
   "source": [
    "### 완전 연결 분류기 정의(FCL)\n",
    "* 완전 연결 분류기(FCL)를 정의\n",
    "* 신경망의 규제를 위해 드롭아웃을 사용.\n",
    "* 저장된 데이터와 레이블을 사용해 훈련"
   ]
  },
  {
   "cell_type": "code",
   "execution_count": 25,
   "id": "ce1e2b3f",
   "metadata": {},
   "outputs": [],
   "source": [
    "from tensorflow.keras import models, layers, optimizers"
   ]
  },
  {
   "cell_type": "code",
   "execution_count": 26,
   "id": "88f27c49",
   "metadata": {},
   "outputs": [
    {
     "name": "stderr",
     "output_type": "stream",
     "text": [
      "/Users/seungwoomun/opt/anaconda3/envs/likelion/lib/python3.8/site-packages/tensorflow/python/keras/optimizer_v2/optimizer_v2.py:367: UserWarning: The `lr` argument is deprecated, use `learning_rate` instead.\n",
      "  warnings.warn(\n"
     ]
    },
    {
     "name": "stdout",
     "output_type": "stream",
     "text": [
      "Epoch 1/30\n",
      "100/100 [==============================] - 2s 21ms/step - loss: 0.5956 - acc: 0.6770 - val_loss: 0.4491 - val_acc: 0.8300\n",
      "Epoch 2/30\n",
      "100/100 [==============================] - 2s 20ms/step - loss: 0.4203 - acc: 0.8115 - val_loss: 0.3662 - val_acc: 0.8510\n",
      "Epoch 3/30\n",
      "100/100 [==============================] - 2s 19ms/step - loss: 0.3520 - acc: 0.8520 - val_loss: 0.3448 - val_acc: 0.8490\n",
      "Epoch 4/30\n",
      "100/100 [==============================] - 2s 19ms/step - loss: 0.3177 - acc: 0.8680 - val_loss: 0.3007 - val_acc: 0.8810\n",
      "Epoch 5/30\n",
      "100/100 [==============================] - 2s 19ms/step - loss: 0.2843 - acc: 0.8840 - val_loss: 0.2836 - val_acc: 0.8870\n",
      "Epoch 6/30\n",
      "100/100 [==============================] - 2s 19ms/step - loss: 0.2607 - acc: 0.8880 - val_loss: 0.2743 - val_acc: 0.8900\n",
      "Epoch 7/30\n",
      "100/100 [==============================] - 2s 19ms/step - loss: 0.2497 - acc: 0.9020 - val_loss: 0.2632 - val_acc: 0.8930\n",
      "Epoch 8/30\n",
      "100/100 [==============================] - 2s 19ms/step - loss: 0.2255 - acc: 0.9125 - val_loss: 0.2599 - val_acc: 0.8930\n",
      "Epoch 9/30\n",
      "100/100 [==============================] - 2s 19ms/step - loss: 0.2132 - acc: 0.9180 - val_loss: 0.2501 - val_acc: 0.9040\n",
      "Epoch 10/30\n",
      "100/100 [==============================] - 2s 19ms/step - loss: 0.2010 - acc: 0.9280 - val_loss: 0.2502 - val_acc: 0.8980\n",
      "Epoch 11/30\n",
      "100/100 [==============================] - 2s 18ms/step - loss: 0.1983 - acc: 0.9245 - val_loss: 0.2419 - val_acc: 0.9020\n",
      "Epoch 12/30\n",
      "100/100 [==============================] - 2s 19ms/step - loss: 0.1853 - acc: 0.9335 - val_loss: 0.2399 - val_acc: 0.9020\n",
      "Epoch 13/30\n",
      "100/100 [==============================] - 2s 18ms/step - loss: 0.1785 - acc: 0.9320 - val_loss: 0.2382 - val_acc: 0.9040\n",
      "Epoch 14/30\n",
      "100/100 [==============================] - 2s 18ms/step - loss: 0.1723 - acc: 0.9360 - val_loss: 0.2381 - val_acc: 0.9040\n",
      "Epoch 15/30\n",
      "100/100 [==============================] - 2s 18ms/step - loss: 0.1571 - acc: 0.9435 - val_loss: 0.2342 - val_acc: 0.9040\n",
      "Epoch 16/30\n",
      "100/100 [==============================] - 2s 18ms/step - loss: 0.1508 - acc: 0.9470 - val_loss: 0.2329 - val_acc: 0.9020\n",
      "Epoch 17/30\n",
      "100/100 [==============================] - 2s 19ms/step - loss: 0.1451 - acc: 0.9425 - val_loss: 0.2405 - val_acc: 0.9010\n",
      "Epoch 18/30\n",
      "100/100 [==============================] - 2s 19ms/step - loss: 0.1419 - acc: 0.9530 - val_loss: 0.2325 - val_acc: 0.9020\n",
      "Epoch 19/30\n",
      "100/100 [==============================] - 2s 18ms/step - loss: 0.1355 - acc: 0.9535 - val_loss: 0.2345 - val_acc: 0.9020\n",
      "Epoch 20/30\n",
      "100/100 [==============================] - 2s 18ms/step - loss: 0.1286 - acc: 0.9590 - val_loss: 0.2333 - val_acc: 0.9040\n",
      "Epoch 21/30\n",
      "100/100 [==============================] - 2s 19ms/step - loss: 0.1192 - acc: 0.9580 - val_loss: 0.2315 - val_acc: 0.9050\n",
      "Epoch 22/30\n",
      "100/100 [==============================] - 2s 19ms/step - loss: 0.1195 - acc: 0.9585 - val_loss: 0.2487 - val_acc: 0.9000\n",
      "Epoch 23/30\n",
      "100/100 [==============================] - 2s 18ms/step - loss: 0.1136 - acc: 0.9640 - val_loss: 0.2356 - val_acc: 0.9020\n",
      "Epoch 24/30\n",
      "100/100 [==============================] - 2s 18ms/step - loss: 0.1109 - acc: 0.9620 - val_loss: 0.2336 - val_acc: 0.9070\n",
      "Epoch 25/30\n",
      "100/100 [==============================] - 2s 19ms/step - loss: 0.1046 - acc: 0.9675 - val_loss: 0.2446 - val_acc: 0.9010\n",
      "Epoch 26/30\n",
      "100/100 [==============================] - 2s 19ms/step - loss: 0.1029 - acc: 0.9650 - val_loss: 0.2350 - val_acc: 0.9050\n",
      "Epoch 27/30\n",
      "100/100 [==============================] - 2s 19ms/step - loss: 0.0987 - acc: 0.9660 - val_loss: 0.2476 - val_acc: 0.9000\n",
      "Epoch 28/30\n",
      "100/100 [==============================] - 2s 18ms/step - loss: 0.1016 - acc: 0.9700 - val_loss: 0.2486 - val_acc: 0.8990\n",
      "Epoch 29/30\n",
      "100/100 [==============================] - 2s 19ms/step - loss: 0.0897 - acc: 0.9710 - val_loss: 0.2364 - val_acc: 0.9060\n",
      "Epoch 30/30\n",
      "100/100 [==============================] - 2s 19ms/step - loss: 0.0905 - acc: 0.9710 - val_loss: 0.2358 - val_acc: 0.8980\n",
      "CPU times: user 4min 10s, sys: 27.4 s, total: 4min 38s\n",
      "Wall time: 56.9 s\n"
     ]
    }
   ],
   "source": [
    "%%time\n",
    "\n",
    "# 완전 연결층\n",
    "model = models.Sequential()\n",
    "model.add(layers.Dense(256, activation='relu', input_dim=4 * 4 * 512))\n",
    "model.add(layers.Dropout(0.5))\n",
    "model.add(layers.Dense(1, activation='sigmoid'))\n",
    "\n",
    "model.compile(optimizer=optimizers.RMSprop(lr=2e-5),\n",
    "              loss='binary_crossentropy',\n",
    "              metrics=['acc'])\n",
    "\n",
    "history = model.fit(train_features, train_labels,\n",
    "                    epochs=30,\n",
    "                    batch_size=20,\n",
    "                    validation_data=(validation_features, validation_labels))"
   ]
  },
  {
   "cell_type": "markdown",
   "id": "50b82725",
   "metadata": {},
   "source": [
    "* FCL(완전 연결층)2개의 Dense 층만 처리하면 되기 때문에 훈련이 빠르다.\n",
    "    * 합성곱 층의 가중치는 사전 훈련 네트워크 가중치 이용.\n",
    "    * 데이터가 늘어날 경우 정확도가 올라간다."
   ]
  },
  {
   "cell_type": "markdown",
   "id": "d15c9207",
   "metadata": {},
   "source": [
    "### 훈련 손실과 정확도 곡선"
   ]
  },
  {
   "cell_type": "code",
   "execution_count": 27,
   "id": "090cac9c",
   "metadata": {},
   "outputs": [
    {
     "data": {
      "image/png": "[encoded data removed]",
      "text/plain": [
       "<Figure size 432x288 with 1 Axes>"
      ]
     },
     "metadata": {
      "needs_background": "light"
     },
     "output_type": "display_data"
    },
    {
     "data": {
      "image/png": "[encoded data removed]",
      "text/plain": [
       "<Figure size 432x288 with 1 Axes>"
      ]
     },
     "metadata": {
      "needs_background": "light"
     },
     "output_type": "display_data"
    }
   ],
   "source": [
    "import matplotlib.pyplot as plt\n",
    "\n",
    "acc = history.history['acc']\n",
    "val_acc = history.history['val_acc']\n",
    "loss = history.history['loss']\n",
    "val_loss = history.history['val_loss']\n",
    "\n",
    "epochs = range(len(acc))\n",
    "\n",
    "plt.plot(epochs, acc, 'bo', label='Training acc')\n",
    "plt.plot(epochs, val_acc, 'b', label='Validation acc')\n",
    "plt.title('Training and validation accuracy')\n",
    "plt.legend()\n",
    "\n",
    "plt.figure()\n",
    "\n",
    "plt.plot(epochs, loss, 'bo', label='Training loss')\n",
    "plt.plot(epochs, val_loss, 'b', label='Validation loss')\n",
    "plt.title('Training and validation loss')\n",
    "plt.legend()\n",
    "\n",
    "plt.show()"
   ]
  },
  {
   "cell_type": "markdown",
   "id": "0abc4fe4",
   "metadata": {},
   "source": [
    "### Summary\n",
    "* validation 90%의 검증 정확도에 도달\n",
    "* 앞에서 처음부터 훈련시킨 작은 모델에서 얻은 것보다 훨씬 좋음.\n",
    "* 드롭아웃을 사용했음에도 불구하고 훈련이 시작하면서 거의 바로 과대적합되고 있다는 것\n",
    "    * 과대적합의 이유 작은 이미지 데이터셋에서는 과대적합을 막기 위해 필수적인 데이터 증식을 사용하지 않음."
   ]
  },
  {
   "cell_type": "markdown",
   "id": "9c046252",
   "metadata": {},
   "source": [
    "### 모델 저장"
   ]
  },
  {
   "cell_type": "code",
   "execution_count": 28,
   "id": "93b2b3e2",
   "metadata": {},
   "outputs": [],
   "source": [
    "model.save('./Model/cats_dogs_small_3_VGG_30_epoch.h5')"
   ]
  },
  {
   "cell_type": "markdown",
   "id": "34944c68",
   "metadata": {},
   "source": [
    "### 미세 조정 - 일부 훈련\n",
    "* 모델을 재사용하는 데 널리 사용되는 또 하나의 기법은 특성 추출을 보완하는 미세 조정\n",
    "* 미세 조정은 특성 추출에 사용했던 동결 모델의 상위 층 몇 개를 동결에서 해제한다.\n",
    "    * 모델에 새로 추가한 층(여기서는 완전 연결 분류기)과 함께 훈련하는 것.\n",
    "    * 주어진 문제에 조금 더 밀접하게 재사용 모델의 표현을 일부 조정하기 때문에 미세 조정이라고 부른다.\n",
    "    \n",
    "* 같은 이유로 맨 위에 있는 분류기가 훈련된 후에 합성곱 기반의 상위 층을 미세 조정 가능.\n",
    "* 분류기가 미리 훈련되지 않으면 훈련되는 동안 너무 큰 오차 신호가 네트워크에 전파됩니다.\n",
    "\n",
    "    * 미세 조정될 층들이 사전에 학습한 표현들을 망가뜨리게 될 것입니다.\n",
    "    * 네트워크를 미세 조정하는 단계:\n",
    "        * 01 사전에 훈련된 기반 네트워크 위에 새로운 네트워크를 추가합니다.\n",
    "        * 02 훈련된 기반 네트워크를 동결합니다.\n",
    "        * 03 새로 추가한 네트워크를 훈련합니다.\n",
    "        * 04 기반 네트워크에서 일부 층의 동결을 해제합니다.\n",
    "        * 05 동결을 해제한 층과 새로 추가한 층을 함께 훈련합니다.\n",
    "* 처음 세 단계는 특성 추출을 할 때 이미 완료했습니다.\n",
    "* 네 번째 단계를 진행해 보죠. conv_base의 동결을 해제하고 개별 층을 동결하겠습니다."
   ]
  },
  {
   "cell_type": "code",
   "execution_count": 29,
   "id": "9df2a140",
   "metadata": {},
   "outputs": [
    {
     "name": "stdout",
     "output_type": "stream",
     "text": [
      "Model: \"vgg16\"\n",
      "_________________________________________________________________\n",
      "Layer (type)                 Output Shape              Param #   \n",
      "=================================================================\n",
      "input_1 (InputLayer)         [(None, 150, 150, 3)]     0         \n",
      "_________________________________________________________________\n",
      "block1_conv1 (Conv2D)        (None, 150, 150, 64)      1792      \n",
      "_________________________________________________________________\n",
      "block1_conv2 (Conv2D)        (None, 150, 150, 64)      36928     \n",
      "_________________________________________________________________\n",
      "block1_pool (MaxPooling2D)   (None, 75, 75, 64)        0         \n",
      "_________________________________________________________________\n",
      "block2_conv1 (Conv2D)        (None, 75, 75, 128)       73856     \n",
      "_________________________________________________________________\n",
      "block2_conv2 (Conv2D)        (None, 75, 75, 128)       147584    \n",
      "_________________________________________________________________\n",
      "block2_pool (MaxPooling2D)   (None, 37, 37, 128)       0         \n",
      "_________________________________________________________________\n",
      "block3_conv1 (Conv2D)        (None, 37, 37, 256)       295168    \n",
      "_________________________________________________________________\n",
      "block3_conv2 (Conv2D)        (None, 37, 37, 256)       590080    \n",
      "_________________________________________________________________\n",
      "block3_conv3 (Conv2D)        (None, 37, 37, 256)       590080    \n",
      "_________________________________________________________________\n",
      "block3_pool (MaxPooling2D)   (None, 18, 18, 256)       0         \n",
      "_________________________________________________________________\n",
      "block4_conv1 (Conv2D)        (None, 18, 18, 512)       1180160   \n",
      "_________________________________________________________________\n",
      "block4_conv2 (Conv2D)        (None, 18, 18, 512)       2359808   \n",
      "_________________________________________________________________\n",
      "block4_conv3 (Conv2D)        (None, 18, 18, 512)       2359808   \n",
      "_________________________________________________________________\n",
      "block4_pool (MaxPooling2D)   (None, 9, 9, 512)         0         \n",
      "_________________________________________________________________\n",
      "block5_conv1 (Conv2D)        (None, 9, 9, 512)         2359808   \n",
      "_________________________________________________________________\n",
      "block5_conv2 (Conv2D)        (None, 9, 9, 512)         2359808   \n",
      "_________________________________________________________________\n",
      "block5_conv3 (Conv2D)        (None, 9, 9, 512)         2359808   \n",
      "_________________________________________________________________\n",
      "block5_pool (MaxPooling2D)   (None, 4, 4, 512)         0         \n",
      "=================================================================\n",
      "Total params: 14,714,688\n",
      "Trainable params: 14,714,688\n",
      "Non-trainable params: 0\n",
      "_________________________________________________________________\n"
     ]
    }
   ],
   "source": [
    "conv_base.summary()"
   ]
  },
  {
   "cell_type": "markdown",
   "id": "9ee3860a",
   "metadata": {},
   "source": [
    "* 마지막 세 개의 합성곱 층을 미세 조정하겠습니다.\n",
    "    * 즉, block4_pool까지 모든 층은 동결\n",
    "    * block5_conv1, block5_conv2, block5_conv3 층은 학습 대상"
   ]
  },
  {
   "cell_type": "code",
   "execution_count": 30,
   "id": "334f60ad",
   "metadata": {},
   "outputs": [],
   "source": [
    "conv_base.trainable = True\n",
    "\n",
    "set_trainable = False\n",
    "for layer in conv_base.layers:\n",
    "    if layer.name == 'block5_conv1':\n",
    "        set_trainable = True\n",
    "    if set_trainable:\n",
    "        layer.trainable = True\n",
    "    else:\n",
    "        layer.trainable = False"
   ]
  },
  {
   "cell_type": "code",
   "execution_count": 32,
   "id": "df8df349",
   "metadata": {},
   "outputs": [],
   "source": [
    "from tensorflow.keras.preprocessing.image import ImageDataGenerator\n",
    "from tensorflow.keras import optimizers\n",
    "\n",
    "batch_size = 20\n",
    "epochs = 30"
   ]
  },
  {
   "cell_type": "code",
   "execution_count": 33,
   "id": "0089b742",
   "metadata": {},
   "outputs": [
    {
     "name": "stdout",
     "output_type": "stream",
     "text": [
      "Found 2000 images belonging to 2 classes.\n",
      "Found 1000 images belonging to 2 classes.\n"
     ]
    }
   ],
   "source": [
    "train_datagen = ImageDataGenerator(\n",
    "      rescale=1./255,\n",
    "      rotation_range=20,\n",
    "      width_shift_range=0.1,\n",
    "      height_shift_range=0.1,\n",
    "      shear_range=0.1,\n",
    "      zoom_range=0.1,\n",
    "      horizontal_flip=True,\n",
    "      fill_mode='nearest')\n",
    "\n",
    "train_generator = train_datagen.flow_from_directory(\n",
    "        # 타깃 디렉터리\n",
    "        train_dir,\n",
    "        # 모든 이미지의 크기를 150 × 150로 변경합니다\n",
    "        target_size=(150, 150),\n",
    "        batch_size=20,\n",
    "        # binary_crossentropy 손실을 사용하므로 이진 레이블이 필요합니다\n",
    "        class_mode='binary')\n",
    "\n",
    "# 검증 데이터는 증식되어서는 안 됩니다!\n",
    "test_datagen = ImageDataGenerator(rescale=1./255)\n",
    "\n",
    "validation_generator = test_datagen.flow_from_directory(\n",
    "        val_dir,\n",
    "        target_size=(150, 150),\n",
    "        batch_size=20,\n",
    "        class_mode='binary')"
   ]
  },
  {
   "cell_type": "code",
   "execution_count": 34,
   "id": "4c3a38a3",
   "metadata": {},
   "outputs": [
    {
     "name": "stderr",
     "output_type": "stream",
     "text": [
      "/Users/seungwoomun/opt/anaconda3/envs/likelion/lib/python3.8/site-packages/tensorflow/python/keras/engine/training.py:1963: UserWarning: `Model.fit_generator` is deprecated and will be removed in a future version. Please use `Model.fit`, which supports generators.\n",
      "  warnings.warn('`Model.fit_generator` is deprecated and '\n"
     ]
    },
    {
     "name": "stdout",
     "output_type": "stream",
     "text": [
      "Epoch 1/50\n",
      "WARNING:tensorflow:Model was constructed with shape (None, 8192) for input KerasTensor(type_spec=TensorSpec(shape=(None, 8192), dtype=tf.float32, name='dense_input'), name='dense_input', description=\"created by layer 'dense_input'\"), but it was called on an input with incompatible shape (None, None, None, None).\n"
     ]
    },
    {
     "ename": "ValueError",
     "evalue": "in user code:\n\n\n    ValueError: `logits` and `labels` must have the same shape, received ((None, None, None, 1) vs (None, 1)).\n",
     "output_type": "error",
     "traceback": [
      "\u001b[0;31m---------------------------------------------------------------------------\u001b[0m",
      "\u001b[0;31mValueError\u001b[0m                                Traceback (most recent call last)",
      "\u001b[0;32m<timed exec>\u001b[0m in \u001b[0;36m<module>\u001b[0;34m\u001b[0m\n",
      "\u001b[0;32m~/opt/anaconda3/envs/likelion/lib/python3.8/site-packages/tensorflow/python/keras/engine/training.py\u001b[0m in \u001b[0;36mfit_generator\u001b[0;34m(self, generator, steps_per_epoch, epochs, verbose, callbacks, validation_data, validation_steps, validation_freq, class_weight, max_queue_size, workers, use_multiprocessing, shuffle, initial_epoch)\u001b[0m\n\u001b[1;32m   1964\u001b[0m                   \u001b[0;34m'will be removed in a future version. '\u001b[0m\u001b[0;34m\u001b[0m\u001b[0;34m\u001b[0m\u001b[0m\n\u001b[1;32m   1965\u001b[0m                   'Please use `Model.fit`, which supports generators.')\n\u001b[0;32m-> 1966\u001b[0;31m     return self.fit(\n\u001b[0m\u001b[1;32m   1967\u001b[0m         \u001b[0mgenerator\u001b[0m\u001b[0;34m,\u001b[0m\u001b[0;34m\u001b[0m\u001b[0;34m\u001b[0m\u001b[0m\n\u001b[1;32m   1968\u001b[0m         \u001b[0msteps_per_epoch\u001b[0m\u001b[0;34m=\u001b[0m\u001b[0msteps_per_epoch\u001b[0m\u001b[0;34m,\u001b[0m\u001b[0;34m\u001b[0m\u001b[0;34m\u001b[0m\u001b[0m\n",
      "\u001b[0;32m~/opt/anaconda3/envs/likelion/lib/python3.8/site-packages/tensorflow/python/keras/engine/training.py\u001b[0m in \u001b[0;36mfit\u001b[0;34m(self, x, y, batch_size, epochs, verbose, callbacks, validation_split, validation_data, shuffle, class_weight, sample_weight, initial_epoch, steps_per_epoch, validation_steps, validation_batch_size, validation_freq, max_queue_size, workers, use_multiprocessing)\u001b[0m\n\u001b[1;32m   1187\u001b[0m                 _r=1):\n\u001b[1;32m   1188\u001b[0m               \u001b[0mcallbacks\u001b[0m\u001b[0;34m.\u001b[0m\u001b[0mon_train_batch_begin\u001b[0m\u001b[0;34m(\u001b[0m\u001b[0mstep\u001b[0m\u001b[0;34m)\u001b[0m\u001b[0;34m\u001b[0m\u001b[0;34m\u001b[0m\u001b[0m\n\u001b[0;32m-> 1189\u001b[0;31m               \u001b[0mtmp_logs\u001b[0m \u001b[0;34m=\u001b[0m \u001b[0mself\u001b[0m\u001b[0;34m.\u001b[0m\u001b[0mtrain_function\u001b[0m\u001b[0;34m(\u001b[0m\u001b[0miterator\u001b[0m\u001b[0;34m)\u001b[0m\u001b[0;34m\u001b[0m\u001b[0;34m\u001b[0m\u001b[0m\n\u001b[0m\u001b[1;32m   1190\u001b[0m               \u001b[0;32mif\u001b[0m \u001b[0mdata_handler\u001b[0m\u001b[0;34m.\u001b[0m\u001b[0mshould_sync\u001b[0m\u001b[0;34m:\u001b[0m\u001b[0;34m\u001b[0m\u001b[0;34m\u001b[0m\u001b[0m\n\u001b[1;32m   1191\u001b[0m                 \u001b[0mcontext\u001b[0m\u001b[0;34m.\u001b[0m\u001b[0masync_wait\u001b[0m\u001b[0;34m(\u001b[0m\u001b[0;34m)\u001b[0m\u001b[0;34m\u001b[0m\u001b[0;34m\u001b[0m\u001b[0m\n",
      "\u001b[0;32m~/opt/anaconda3/envs/likelion/lib/python3.8/site-packages/tensorflow/python/util/traceback_utils.py\u001b[0m in \u001b[0;36merror_handler\u001b[0;34m(*args, **kwargs)\u001b[0m\n\u001b[1;32m    151\u001b[0m     \u001b[0;32mexcept\u001b[0m \u001b[0mException\u001b[0m \u001b[0;32mas\u001b[0m \u001b[0me\u001b[0m\u001b[0;34m:\u001b[0m\u001b[0;34m\u001b[0m\u001b[0;34m\u001b[0m\u001b[0m\n\u001b[1;32m    152\u001b[0m       \u001b[0mfiltered_tb\u001b[0m \u001b[0;34m=\u001b[0m \u001b[0m_process_traceback_frames\u001b[0m\u001b[0;34m(\u001b[0m\u001b[0me\u001b[0m\u001b[0;34m.\u001b[0m\u001b[0m__traceback__\u001b[0m\u001b[0;34m)\u001b[0m\u001b[0;34m\u001b[0m\u001b[0;34m\u001b[0m\u001b[0m\n\u001b[0;32m--> 153\u001b[0;31m       \u001b[0;32mraise\u001b[0m \u001b[0me\u001b[0m\u001b[0;34m.\u001b[0m\u001b[0mwith_traceback\u001b[0m\u001b[0;34m(\u001b[0m\u001b[0mfiltered_tb\u001b[0m\u001b[0;34m)\u001b[0m \u001b[0;32mfrom\u001b[0m \u001b[0;32mNone\u001b[0m\u001b[0;34m\u001b[0m\u001b[0;34m\u001b[0m\u001b[0m\n\u001b[0m\u001b[1;32m    154\u001b[0m     \u001b[0;32mfinally\u001b[0m\u001b[0;34m:\u001b[0m\u001b[0;34m\u001b[0m\u001b[0;34m\u001b[0m\u001b[0m\n\u001b[1;32m    155\u001b[0m       \u001b[0;32mdel\u001b[0m \u001b[0mfiltered_tb\u001b[0m\u001b[0;34m\u001b[0m\u001b[0;34m\u001b[0m\u001b[0m\n",
      "\u001b[0;32m~/opt/anaconda3/envs/likelion/lib/python3.8/site-packages/tensorflow/python/framework/func_graph.py\u001b[0m in \u001b[0;36mautograph_handler\u001b[0;34m(*args, **kwargs)\u001b[0m\n\u001b[1;32m   1127\u001b[0m           \u001b[0;32mexcept\u001b[0m \u001b[0mException\u001b[0m \u001b[0;32mas\u001b[0m \u001b[0me\u001b[0m\u001b[0;34m:\u001b[0m  \u001b[0;31m# pylint:disable=broad-except\u001b[0m\u001b[0;34m\u001b[0m\u001b[0;34m\u001b[0m\u001b[0m\n\u001b[1;32m   1128\u001b[0m             \u001b[0;32mif\u001b[0m \u001b[0mhasattr\u001b[0m\u001b[0;34m(\u001b[0m\u001b[0me\u001b[0m\u001b[0;34m,\u001b[0m \u001b[0;34m\"ag_error_metadata\"\u001b[0m\u001b[0;34m)\u001b[0m\u001b[0;34m:\u001b[0m\u001b[0;34m\u001b[0m\u001b[0;34m\u001b[0m\u001b[0m\n\u001b[0;32m-> 1129\u001b[0;31m               \u001b[0;32mraise\u001b[0m \u001b[0me\u001b[0m\u001b[0;34m.\u001b[0m\u001b[0mag_error_metadata\u001b[0m\u001b[0;34m.\u001b[0m\u001b[0mto_exception\u001b[0m\u001b[0;34m(\u001b[0m\u001b[0me\u001b[0m\u001b[0;34m)\u001b[0m\u001b[0;34m\u001b[0m\u001b[0;34m\u001b[0m\u001b[0m\n\u001b[0m\u001b[1;32m   1130\u001b[0m             \u001b[0;32melse\u001b[0m\u001b[0;34m:\u001b[0m\u001b[0;34m\u001b[0m\u001b[0;34m\u001b[0m\u001b[0m\n\u001b[1;32m   1131\u001b[0m               \u001b[0;32mraise\u001b[0m\u001b[0;34m\u001b[0m\u001b[0;34m\u001b[0m\u001b[0m\n",
      "\u001b[0;31mValueError\u001b[0m: in user code:\n\n\n    ValueError: `logits` and `labels` must have the same shape, received ((None, None, None, 1) vs (None, 1)).\n"
     ]
    }
   ],
   "source": [
    "%%time\n",
    "\n",
    "model.compile(loss='binary_crossentropy',\n",
    "              optimizer=optimizers.RMSprop(lr=1e-5),\n",
    "              metrics=['acc'])\n",
    "\n",
    "\n",
    "history = model.fit_generator(\n",
    "      train_generator,\n",
    "      steps_per_epoch=100,  # total_train // batch_size\n",
    "      epochs=50,\n",
    "      validation_data=validation_generator,\n",
    "      validation_steps=50,  # total_val // batch_size\n",
    "      verbose=1)"
   ]
  },
  {
   "cell_type": "code",
   "execution_count": null,
   "id": "934e9361",
   "metadata": {},
   "outputs": [],
   "source": []
  }
 ],
 "metadata": {
  "kernelspec": {
   "display_name": "Python 3 (ipykernel)",
   "language": "python",
   "name": "python3"
  },
  "language_info": {
   "codemirror_mode": {
    "name": "ipython",
    "version": 3
   },
   "file_extension": ".py",
   "mimetype": "text/x-python",
   "name": "python",
   "nbconvert_exporter": "python",
   "pygments_lexer": "ipython3",
   "version": "3.8.8"
  }
 },
 "nbformat": 4,
 "nbformat_minor": 5
}
