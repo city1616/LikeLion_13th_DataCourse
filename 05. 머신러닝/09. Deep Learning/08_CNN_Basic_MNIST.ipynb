{
  "nbformat": 4,
  "nbformat_minor": 0,
  "metadata": {
    "colab": {
      "name": "CNN_Basic_MNIST.ipynb",
      "provenance": []
    },
    "kernelspec": {
      "name": "python3",
      "display_name": "Python 3"
    },
    "language_info": {
      "name": "python"
    },
    "accelerator": "GPU"
  },
  "cells": [
    {
      "cell_type": "markdown",
      "metadata": {
        "id": "Pk8kqPwoJFi-"
      },
      "source": [
        "### 2021_11_08_2"
      ]
    },
    {
      "cell_type": "markdown",
      "metadata": {
        "id": "MCjltK_5JJpc"
      },
      "source": [
        "### CNN(Convolution Neural Network) - 합성곱 신경망"
      ]
    },
    {
      "cell_type": "code",
      "metadata": {
        "id": "S5nADnCQ3x7d"
      },
      "source": [
        "import os, warnings\n",
        "\n",
        "warnings.filterwarnings(action='ignore')"
      ],
      "execution_count": 2,
      "outputs": []
    },
    {
      "cell_type": "code",
      "metadata": {
        "id": "5EA98bNEJU2M"
      },
      "source": [
        "import tensorflow as tf\n",
        "from tensorflow.keras import models\n",
        "from tensorflow.keras import layers"
      ],
      "execution_count": 3,
      "outputs": []
    },
    {
      "cell_type": "code",
      "metadata": {
        "colab": {
          "base_uri": "https://localhost:8080/"
        },
        "id": "w9DXH_aONJHA",
        "outputId": "3c3efb5d-8b84-4aba-87ed-0d3299f09e44"
      },
      "source": [
        "model = models.Sequential()\n",
        "model.add(layers.Conv2D(32, (3, 3), activation = \"relu\", \n",
        "                      input_shape = (28, 28, 1)))\n",
        "model.add(layers.MaxPooling2D((2, 2)))\n",
        "model.add(layers.Conv2D(64, (3, 3), activation = \"relu\"))\n",
        "model.add(layers.MaxPooling2D((2, 2)))\n",
        "model.add(layers.Conv2D(64, (3, 3), activation = \"relu\"))\n",
        "\n",
        "model.add(layers.Flatten()) # 1차원으로 변환\n",
        "model.add(layers.Dense(64, activation = \"relu\"))\n",
        "model.add(layers.Dense(10, activation = \"softmax\"))\n",
        "\n",
        "model.summary()"
      ],
      "execution_count": 4,
      "outputs": [
        {
          "output_type": "stream",
          "name": "stdout",
          "text": [
            "Model: \"sequential\"\n",
            "_________________________________________________________________\n",
            "Layer (type)                 Output Shape              Param #   \n",
            "=================================================================\n",
            "conv2d (Conv2D)              (None, 26, 26, 32)        320       \n",
            "_________________________________________________________________\n",
            "max_pooling2d (MaxPooling2D) (None, 13, 13, 32)        0         \n",
            "_________________________________________________________________\n",
            "conv2d_1 (Conv2D)            (None, 11, 11, 64)        18496     \n",
            "_________________________________________________________________\n",
            "max_pooling2d_1 (MaxPooling2 (None, 5, 5, 64)          0         \n",
            "_________________________________________________________________\n",
            "conv2d_2 (Conv2D)            (None, 3, 3, 64)          36928     \n",
            "_________________________________________________________________\n",
            "flatten (Flatten)            (None, 576)               0         \n",
            "_________________________________________________________________\n",
            "dense (Dense)                (None, 64)                36928     \n",
            "_________________________________________________________________\n",
            "dense_1 (Dense)              (None, 10)                650       \n",
            "=================================================================\n",
            "Total params: 93,322\n",
            "Trainable params: 93,322\n",
            "Non-trainable params: 0\n",
            "_________________________________________________________________\n"
          ]
        }
      ]
    },
    {
      "cell_type": "markdown",
      "metadata": {
        "id": "CoAFHR4dS4pW"
      },
      "source": [
        "### 데이터 준비"
      ]
    },
    {
      "cell_type": "code",
      "metadata": {
        "colab": {
          "base_uri": "https://localhost:8080/"
        },
        "id": "MXzbrnI4Nma6",
        "outputId": "ffdad8de-ebf7-453b-a624-8ffa2a6212ac"
      },
      "source": [
        "from tensorflow.keras.datasets import mnist\n",
        "from tensorflow.keras.utils import to_categorical\n",
        "\n",
        "(train_images, train_labels), (test_images, test_labels) = mnist.load_data()"
      ],
      "execution_count": 5,
      "outputs": [
        {
          "output_type": "stream",
          "name": "stdout",
          "text": [
            "Downloading data from https://storage.googleapis.com/tensorflow/tf-keras-datasets/mnist.npz\n",
            "11493376/11490434 [==============================] - 0s 0us/step\n",
            "11501568/11490434 [==============================] - 0s 0us/step\n"
          ]
        }
      ]
    },
    {
      "cell_type": "code",
      "metadata": {
        "id": "TZspBMMeTJdT"
      },
      "source": [
        "train_images = train_images.reshape((60000, 28, 28, 1))\n",
        "train_images = train_images.astype(\"float32\") / 255\n",
        "\n",
        "test_images = test_images.reshape((10000, 28, 28, 1))\n",
        "test_images = test_images.astype(\"float32\") / 255\n",
        "\n",
        "train_labels = to_categorical(train_labels)\n",
        "test_labels = to_categorical(test_labels)"
      ],
      "execution_count": 6,
      "outputs": []
    },
    {
      "cell_type": "code",
      "metadata": {
        "colab": {
          "base_uri": "https://localhost:8080/"
        },
        "id": "JhzaFcg5TkQ2",
        "outputId": "528390e6-1530-45fc-e6e9-d64e9be7d152"
      },
      "source": [
        "print(train_labels[0 : 10])\n",
        "print(\"train_labels shape :\", train_labels.shape)\n",
        "print(\"test_labels shape :\", test_labels.shape)"
      ],
      "execution_count": 7,
      "outputs": [
        {
          "output_type": "stream",
          "name": "stdout",
          "text": [
            "[[0. 0. 0. 0. 0. 1. 0. 0. 0. 0.]\n",
            " [1. 0. 0. 0. 0. 0. 0. 0. 0. 0.]\n",
            " [0. 0. 0. 0. 1. 0. 0. 0. 0. 0.]\n",
            " [0. 1. 0. 0. 0. 0. 0. 0. 0. 0.]\n",
            " [0. 0. 0. 0. 0. 0. 0. 0. 0. 1.]\n",
            " [0. 0. 1. 0. 0. 0. 0. 0. 0. 0.]\n",
            " [0. 1. 0. 0. 0. 0. 0. 0. 0. 0.]\n",
            " [0. 0. 0. 1. 0. 0. 0. 0. 0. 0.]\n",
            " [0. 1. 0. 0. 0. 0. 0. 0. 0. 0.]\n",
            " [0. 0. 0. 0. 1. 0. 0. 0. 0. 0.]]\n",
            "train_labels shape : (60000, 10)\n",
            "test_labels shape : (10000, 10)\n"
          ]
        }
      ]
    },
    {
      "cell_type": "code",
      "metadata": {
        "colab": {
          "base_uri": "https://localhost:8080/"
        },
        "id": "_cWzGwwAUqnt",
        "outputId": "6ba71987-44dc-4210-8bbc-54778b859ba8"
      },
      "source": [
        "%%time\n",
        "\n",
        "model.compile(optimizer = \"sgd\", \n",
        "              loss = \"categorical_crossentropy\", \n",
        "              metrics = [\"accuracy\"])\n",
        "model.fit(train_images, train_labels, epochs = 25, batch_size = 64, \n",
        "          validation_data = (test_images, test_labels))"
      ],
      "execution_count": 10,
      "outputs": [
        {
          "output_type": "stream",
          "name": "stdout",
          "text": [
            "Epoch 1/25\n",
            "938/938 [==============================] - 8s 8ms/step - loss: 0.0458 - accuracy: 0.9859 - val_loss: 0.0754 - val_accuracy: 0.9736\n",
            "Epoch 2/25\n",
            "938/938 [==============================] - 7s 8ms/step - loss: 0.0434 - accuracy: 0.9862 - val_loss: 0.0575 - val_accuracy: 0.9829\n",
            "Epoch 3/25\n",
            "938/938 [==============================] - 7s 8ms/step - loss: 0.0415 - accuracy: 0.9868 - val_loss: 0.0477 - val_accuracy: 0.9838\n",
            "Epoch 4/25\n",
            "938/938 [==============================] - 7s 8ms/step - loss: 0.0385 - accuracy: 0.9882 - val_loss: 0.0400 - val_accuracy: 0.9870\n",
            "Epoch 5/25\n",
            "938/938 [==============================] - 7s 8ms/step - loss: 0.0370 - accuracy: 0.9886 - val_loss: 0.0376 - val_accuracy: 0.9875\n",
            "Epoch 6/25\n",
            "938/938 [==============================] - 7s 8ms/step - loss: 0.0355 - accuracy: 0.9886 - val_loss: 0.0453 - val_accuracy: 0.9853\n",
            "Epoch 7/25\n",
            "938/938 [==============================] - 7s 7ms/step - loss: 0.0336 - accuracy: 0.9900 - val_loss: 0.0437 - val_accuracy: 0.9852\n",
            "Epoch 8/25\n",
            "938/938 [==============================] - 7s 8ms/step - loss: 0.0318 - accuracy: 0.9903 - val_loss: 0.0381 - val_accuracy: 0.9866\n",
            "Epoch 9/25\n",
            "938/938 [==============================] - 7s 8ms/step - loss: 0.0307 - accuracy: 0.9902 - val_loss: 0.0337 - val_accuracy: 0.9895\n",
            "Epoch 10/25\n",
            "938/938 [==============================] - 7s 8ms/step - loss: 0.0294 - accuracy: 0.9909 - val_loss: 0.0355 - val_accuracy: 0.9892\n",
            "Epoch 11/25\n",
            "938/938 [==============================] - 7s 7ms/step - loss: 0.0280 - accuracy: 0.9910 - val_loss: 0.0389 - val_accuracy: 0.9876\n",
            "Epoch 12/25\n",
            "938/938 [==============================] - 7s 7ms/step - loss: 0.0273 - accuracy: 0.9914 - val_loss: 0.0364 - val_accuracy: 0.9879\n",
            "Epoch 13/25\n",
            "938/938 [==============================] - 7s 7ms/step - loss: 0.0258 - accuracy: 0.9918 - val_loss: 0.0347 - val_accuracy: 0.9900\n",
            "Epoch 14/25\n",
            "938/938 [==============================] - 7s 7ms/step - loss: 0.0249 - accuracy: 0.9919 - val_loss: 0.0377 - val_accuracy: 0.9874\n",
            "Epoch 15/25\n",
            "938/938 [==============================] - 7s 7ms/step - loss: 0.0238 - accuracy: 0.9927 - val_loss: 0.0392 - val_accuracy: 0.9870\n",
            "Epoch 16/25\n",
            "938/938 [==============================] - 7s 7ms/step - loss: 0.0232 - accuracy: 0.9924 - val_loss: 0.0359 - val_accuracy: 0.9890\n",
            "Epoch 17/25\n",
            "938/938 [==============================] - 7s 8ms/step - loss: 0.0222 - accuracy: 0.9931 - val_loss: 0.0334 - val_accuracy: 0.9895\n",
            "Epoch 18/25\n",
            "938/938 [==============================] - 7s 7ms/step - loss: 0.0209 - accuracy: 0.9934 - val_loss: 0.0337 - val_accuracy: 0.9899\n",
            "Epoch 19/25\n",
            "938/938 [==============================] - 7s 7ms/step - loss: 0.0202 - accuracy: 0.9937 - val_loss: 0.0344 - val_accuracy: 0.9892\n",
            "Epoch 20/25\n",
            "938/938 [==============================] - 7s 7ms/step - loss: 0.0198 - accuracy: 0.9942 - val_loss: 0.0348 - val_accuracy: 0.9895\n",
            "Epoch 21/25\n",
            "938/938 [==============================] - 7s 7ms/step - loss: 0.0193 - accuracy: 0.9941 - val_loss: 0.0335 - val_accuracy: 0.9895\n",
            "Epoch 22/25\n",
            "938/938 [==============================] - 7s 7ms/step - loss: 0.0185 - accuracy: 0.9945 - val_loss: 0.0381 - val_accuracy: 0.9880\n",
            "Epoch 23/25\n",
            "938/938 [==============================] - 7s 7ms/step - loss: 0.0176 - accuracy: 0.9947 - val_loss: 0.0328 - val_accuracy: 0.9898\n",
            "Epoch 24/25\n",
            "938/938 [==============================] - 7s 7ms/step - loss: 0.0168 - accuracy: 0.9949 - val_loss: 0.0355 - val_accuracy: 0.9890\n",
            "Epoch 25/25\n",
            "938/938 [==============================] - 7s 7ms/step - loss: 0.0161 - accuracy: 0.9949 - val_loss: 0.0413 - val_accuracy: 0.9870\n",
            "CPU times: user 2min 40s, sys: 21.8 s, total: 3min 2s\n",
            "Wall time: 2min 56s\n"
          ]
        }
      ]
    },
    {
      "cell_type": "code",
      "metadata": {
        "id": "zOYCijCiXDno"
      },
      "source": [
        "test_loss, test_acc = model.evaluate(test_images, test_labels)\n",
        "print(test_acc)"
      ],
      "execution_count": null,
      "outputs": []
    }
  ]
}