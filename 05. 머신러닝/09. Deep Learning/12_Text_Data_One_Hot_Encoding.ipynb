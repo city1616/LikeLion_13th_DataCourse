{
 "cells": [
  {
   "cell_type": "markdown",
   "id": "578a11de",
   "metadata": {},
   "source": [
    "### 2021_11_12_2"
   ]
  },
  {
   "cell_type": "markdown",
   "id": "6f138bcb",
   "metadata": {},
   "source": [
    "### 텍스트 데이터 다루기"
   ]
  },
  {
   "cell_type": "markdown",
   "id": "eb5b7db3",
   "metadata": {},
   "source": [
    "### 학습 내용\n",
    "* 원핫 인코딩을 이해하고 실습해 봅니다.\n",
    "* 케라스를 활용하여 원핫인코딩을 실습해 봅니다.\n",
    "* 해싱 기법을 활용한 원핫 인코딩 실습을 해 봅니다."
   ]
  },
  {
   "cell_type": "markdown",
   "id": "3aec7bfc",
   "metadata": {},
   "source": [
    "### 텍스트 데이터\n",
    "* 텍스트는 가장 흔한 시퀀스 형태의 데이터이다.\n",
    "* 시퀀스 처리용 딥러닝 모델은 문서 분류, 감성 분석, 저자 식별, 질문 응답 등의 애플리케이션에 적합하다.\n",
    "* 텍스트를 수치형 텐서로 변환하는 과정을 텍스트 벡터화(vectorizing text)라고 한다.\n",
    "    * 방법1 : 텍스트를 단어로 나누고 각 단어를 하나의 벡터로 변환\n",
    "    * 방법2 : 텍스트를 문자로 나누고 각 문자를 하나의 벡터로 변환\n",
    "    * 방법3 : 텍스트에서 단어나 문자의 n-그램(n-gram)추출하여 각 n-그램을 하나의 벡터로 변환\n",
    "        * n-gram은 연속된 단어나 문자의 그룹이다. 텍스트에서 단어나 문자를 하나씩 이동하면서 추출\n",
    "* 텍스트를 나누는 이런 단위(단어, 문자, n-그램)를 토큰(token)이라 한다.\n",
    "    * 토큰으로 나누는 작업을 토큰화(tokenization)이라 한다."
   ]
  },
  {
   "cell_type": "markdown",
   "id": "7cb1eab3",
   "metadata": {},
   "source": [
    "### 텍스트의 벡터화 과정\n",
    "1. 어떤 종류의 토큰화 적용\n",
    "2. 토큰에 수치형 벡터를 연결\n",
    "3. 벡터는 시퀀스 텐서로 묶여져서 심층 신경망의 입력으로 사용"
   ]
  },
  {
   "cell_type": "markdown",
   "id": "d99891be",
   "metadata": {},
   "source": [
    "### 토큰과 벡터를 연결하는 방법 2가지\n",
    "1. 원-핫 인코딩(one-hot encoding)\n",
    "2. 토큰 임베딩(token embedding) - 보통 단어에만 사용되면 단어(word embedding)이라 말한다."
   ]
  },
  {
   "cell_type": "markdown",
   "id": "5fa5e564",
   "metadata": {},
   "source": [
    "### 원핫 인코딩 실습해 보기\n",
    "* 모든 데이터에 대해서(문장)을 토큰으로 나눈다. 그리고 이를 사전에 하나의 단어와 인덱스로 만든다.\n",
    "* 단어 사전이 갖는 인덱스 수만큼의 배열을 만든다.(값은 0으로 채운다.) np.zeros이용.\n",
    "* 단어들을 인덱스 값(0,10)을 원핫 인코딩하여 해당 위치에 1을 채운다."
   ]
  },
  {
   "cell_type": "code",
   "execution_count": 2,
   "id": "f9362208",
   "metadata": {},
   "outputs": [
    {
     "name": "stdout",
     "output_type": "stream",
     "text": [
      "2.2.4\n",
      "2.7.0\n"
     ]
    }
   ],
   "source": [
    "import keras\n",
    "import tensorflow as tf\n",
    "import numpy as np\n",
    "\n",
    "print(keras.__version__)\n",
    "print(tf.__version__)"
   ]
  },
  {
   "cell_type": "code",
   "execution_count": 3,
   "id": "9b52c639",
   "metadata": {},
   "outputs": [],
   "source": [
    "# 하나의 원소가 샘플. 하나의 문장.\n",
    "samples = ['The cat sat on the mat.', 'The dog ate my homework.']"
   ]
  },
  {
   "cell_type": "code",
   "execution_count": 4,
   "id": "56f41a80",
   "metadata": {},
   "outputs": [
    {
     "data": {
      "text/plain": [
       "{'The': 1,\n",
       " 'cat': 2,\n",
       " 'sat': 3,\n",
       " 'on': 4,\n",
       " 'the': 5,\n",
       " 'mat.': 6,\n",
       " 'dog': 7,\n",
       " 'ate': 8,\n",
       " 'my': 9,\n",
       " 'homework.': 10}"
      ]
     },
     "execution_count": 4,
     "metadata": {},
     "output_type": "execute_result"
    }
   ],
   "source": [
    "# 문장에 있는 단어들을 가지고 인덱스(사전)을 구축함.\n",
    "# 단어:인덱스\n",
    "token_index = {}\n",
    "for sample in samples :\n",
    "    for word in sample.split() :\n",
    "        if word not in token_index :\n",
    "            token_index[word] = len(token_index) + 1\n",
    "\n",
    "max_length = 10\n",
    "token_index"
   ]
  },
  {
   "cell_type": "code",
   "execution_count": 5,
   "id": "60c65c3d",
   "metadata": {},
   "outputs": [
    {
     "data": {
      "text/plain": [
       "11"
      ]
     },
     "execution_count": 5,
     "metadata": {},
     "output_type": "execute_result"
    }
   ],
   "source": [
    "# 단어 인덱스의 길이 확인 \n",
    "max(token_index.values()) + 1"
   ]
  },
  {
   "cell_type": "code",
   "execution_count": 7,
   "id": "2f942585",
   "metadata": {},
   "outputs": [
    {
     "name": "stdout",
     "output_type": "stream",
     "text": [
      "(2, 10, 11)\n",
      "[[[0. 0. 0. 0. 0. 0. 0. 0. 0. 0. 0.]\n",
      "  [0. 0. 0. 0. 0. 0. 0. 0. 0. 0. 0.]\n",
      "  [0. 0. 0. 0. 0. 0. 0. 0. 0. 0. 0.]\n",
      "  [0. 0. 0. 0. 0. 0. 0. 0. 0. 0. 0.]\n",
      "  [0. 0. 0. 0. 0. 0. 0. 0. 0. 0. 0.]\n",
      "  [0. 0. 0. 0. 0. 0. 0. 0. 0. 0. 0.]\n",
      "  [0. 0. 0. 0. 0. 0. 0. 0. 0. 0. 0.]\n",
      "  [0. 0. 0. 0. 0. 0. 0. 0. 0. 0. 0.]\n",
      "  [0. 0. 0. 0. 0. 0. 0. 0. 0. 0. 0.]\n",
      "  [0. 0. 0. 0. 0. 0. 0. 0. 0. 0. 0.]]\n",
      "\n",
      " [[0. 0. 0. 0. 0. 0. 0. 0. 0. 0. 0.]\n",
      "  [0. 0. 0. 0. 0. 0. 0. 0. 0. 0. 0.]\n",
      "  [0. 0. 0. 0. 0. 0. 0. 0. 0. 0. 0.]\n",
      "  [0. 0. 0. 0. 0. 0. 0. 0. 0. 0. 0.]\n",
      "  [0. 0. 0. 0. 0. 0. 0. 0. 0. 0. 0.]\n",
      "  [0. 0. 0. 0. 0. 0. 0. 0. 0. 0. 0.]\n",
      "  [0. 0. 0. 0. 0. 0. 0. 0. 0. 0. 0.]\n",
      "  [0. 0. 0. 0. 0. 0. 0. 0. 0. 0. 0.]\n",
      "  [0. 0. 0. 0. 0. 0. 0. 0. 0. 0. 0.]\n",
      "  [0. 0. 0. 0. 0. 0. 0. 0. 0. 0. 0.]]]\n"
     ]
    }
   ],
   "source": [
    "# 결과를 저장할 배열(0으로 이루어진 벡터)\n",
    "# max_length는 사용할 단어수\n",
    "results = np.zeros((len(samples), max_length, max(token_index.values()) + 1))\n",
    "print(results.shape)\n",
    "print(results)"
   ]
  },
  {
   "cell_type": "code",
   "execution_count": 8,
   "id": "e2ed64d7",
   "metadata": {},
   "outputs": [
    {
     "data": {
      "text/plain": [
       "10"
      ]
     },
     "execution_count": 8,
     "metadata": {},
     "output_type": "execute_result"
    }
   ],
   "source": [
    "token_index.get(word)"
   ]
  },
  {
   "cell_type": "markdown",
   "id": "936893a3",
   "metadata": {},
   "source": [
    "### 원핫 인코딩"
   ]
  },
  {
   "cell_type": "code",
   "execution_count": 9,
   "id": "4c2fdef4",
   "metadata": {},
   "outputs": [],
   "source": [
    "for i, sample in enumerate(samples):\n",
    "    for j, word in list(enumerate(sample.split()))[:max_length]:\n",
    "        index = token_index.get(word)\n",
    "        results[i, j, index] = 1.  # 행, 열, 인덱스를 1로 치환 "
   ]
  },
  {
   "cell_type": "code",
   "execution_count": 10,
   "id": "4f990b37",
   "metadata": {},
   "outputs": [
    {
     "data": {
      "text/plain": [
       "array([[[0., 1., 0., 0., 0., 0., 0., 0., 0., 0., 0.],\n",
       "        [0., 0., 1., 0., 0., 0., 0., 0., 0., 0., 0.],\n",
       "        [0., 0., 0., 1., 0., 0., 0., 0., 0., 0., 0.],\n",
       "        [0., 0., 0., 0., 1., 0., 0., 0., 0., 0., 0.],\n",
       "        [0., 0., 0., 0., 0., 1., 0., 0., 0., 0., 0.],\n",
       "        [0., 0., 0., 0., 0., 0., 1., 0., 0., 0., 0.],\n",
       "        [0., 0., 0., 0., 0., 0., 0., 0., 0., 0., 0.],\n",
       "        [0., 0., 0., 0., 0., 0., 0., 0., 0., 0., 0.],\n",
       "        [0., 0., 0., 0., 0., 0., 0., 0., 0., 0., 0.],\n",
       "        [0., 0., 0., 0., 0., 0., 0., 0., 0., 0., 0.]],\n",
       "\n",
       "       [[0., 1., 0., 0., 0., 0., 0., 0., 0., 0., 0.],\n",
       "        [0., 0., 0., 0., 0., 0., 0., 1., 0., 0., 0.],\n",
       "        [0., 0., 0., 0., 0., 0., 0., 0., 1., 0., 0.],\n",
       "        [0., 0., 0., 0., 0., 0., 0., 0., 0., 1., 0.],\n",
       "        [0., 0., 0., 0., 0., 0., 0., 0., 0., 0., 1.],\n",
       "        [0., 0., 0., 0., 0., 0., 0., 0., 0., 0., 0.],\n",
       "        [0., 0., 0., 0., 0., 0., 0., 0., 0., 0., 0.],\n",
       "        [0., 0., 0., 0., 0., 0., 0., 0., 0., 0., 0.],\n",
       "        [0., 0., 0., 0., 0., 0., 0., 0., 0., 0., 0.],\n",
       "        [0., 0., 0., 0., 0., 0., 0., 0., 0., 0., 0.]]])"
      ]
     },
     "execution_count": 10,
     "metadata": {},
     "output_type": "execute_result"
    }
   ],
   "source": [
    "results"
   ]
  },
  {
   "cell_type": "markdown",
   "id": "43c235c8",
   "metadata": {},
   "source": [
    "### 케라스(텐서플로워)를 활용한 원핫 인코딩 실습\n",
    "* 케라스에서는 원본 텍스트 데이터를 단어 또는 문자 수준의 원-핫 인코딩으로 변환해 주는 유틸리티가 있다."
   ]
  },
  {
   "cell_type": "code",
   "execution_count": 11,
   "id": "8c1dd04c",
   "metadata": {},
   "outputs": [],
   "source": [
    "from keras.preprocessing.text import Tokenizer\n",
    "\n",
    "samples = ['The cat sat on the mat.', 'The dog ate my homework.']"
   ]
  },
  {
   "cell_type": "markdown",
   "id": "e529b744",
   "metadata": {},
   "source": [
    "### 단어들에 대한 인덱스 값 얻기"
   ]
  },
  {
   "cell_type": "code",
   "execution_count": 12,
   "id": "4fff4f1b",
   "metadata": {},
   "outputs": [
    {
     "data": {
      "text/plain": [
       "['The cat sat on the mat.', 'The dog ate my homework.']"
      ]
     },
     "execution_count": 12,
     "metadata": {},
     "output_type": "execute_result"
    }
   ],
   "source": [
    "samples"
   ]
  },
  {
   "cell_type": "code",
   "execution_count": 13,
   "id": "e3e3e432",
   "metadata": {},
   "outputs": [
    {
     "data": {
      "text/plain": [
       "[[1, 2, 3, 4, 1, 5], [1, 6, 7, 8, 9]]"
      ]
     },
     "execution_count": 13,
     "metadata": {},
     "output_type": "execute_result"
    }
   ],
   "source": [
    "# 가장 빈도가 높은 1,000개의 단어만 선택하도록 Tokenizer 객체를 만듭니다.\n",
    "tokenizer = Tokenizer(num_words=1000)\n",
    "\n",
    "# 단어 인덱스를 구축합니다.\n",
    "tokenizer.fit_on_texts(samples)\n",
    "\n",
    "# 문자열을 정수 인덱스의 리스트로 변환합니다.\n",
    "sequences = tokenizer.texts_to_sequences(samples)\n",
    "sequences"
   ]
  },
  {
   "cell_type": "markdown",
   "id": "14876c92",
   "metadata": {},
   "source": [
    "### 직접 원핫 이진 벡터 표현 얻기\n",
    "* 각각의 문장을 1000여개의 단어의 위치에 1로 매핑시키기."
   ]
  },
  {
   "cell_type": "code",
   "execution_count": 14,
   "id": "f16948d9",
   "metadata": {},
   "outputs": [
    {
     "data": {
      "text/plain": [
       "((2, 1000),\n",
       " array([[0., 1., 1., ..., 0., 0., 0.],\n",
       "        [0., 1., 0., ..., 0., 0., 0.]]))"
      ]
     },
     "execution_count": 14,
     "metadata": {},
     "output_type": "execute_result"
    }
   ],
   "source": [
    "one_hot = tokenizer.texts_to_matrix(samples, mode='binary')\n",
    "one_hot.shape, one_hot"
   ]
  },
  {
   "cell_type": "code",
   "execution_count": 15,
   "id": "6f2ea2f1",
   "metadata": {},
   "outputs": [
    {
     "name": "stdout",
     "output_type": "stream",
     "text": [
      "{'the': 1, 'cat': 2, 'sat': 3, 'on': 4, 'mat': 5, 'dog': 6, 'ate': 7, 'my': 8, 'homework': 9}\n",
      "Found 9 unique tokens.\n"
     ]
    }
   ],
   "source": [
    "# 계산된 단어 인덱스를 구합니다.\n",
    "word_index = tokenizer.word_index\n",
    "print(word_index)\n",
    "print('Found %s unique tokens.' % len(word_index))"
   ]
  },
  {
   "cell_type": "markdown",
   "id": "c3700f3a",
   "metadata": {},
   "source": [
    "### 해싱 기법을 이용한 원핫 인코딩-변형된 형태(원핫 해싱)\n",
    "* 원핫 인코딩의 변종중의 하나는 원-핫 해싱(one-hot hashing)기법입니다.\n",
    "* 고유한 토큰의 수가 너무 커서 다루기 어려울 때 사용.\n",
    "    * 각 단어에 명시적으로 인덱스를 할당하고 이 인덱스를 딕셔너리에 저장하지 않고, 단어를 해싱한다."
   ]
  },
  {
   "cell_type": "code",
   "execution_count": 16,
   "id": "6b319236",
   "metadata": {},
   "outputs": [],
   "source": [
    "samples = ['The cat sat on the mat.', 'The dog ate my homework.']\n",
    "\n",
    "# 단어를 크기가 1,000인 벡터로 저장합니다.\n",
    "# 1,000개(또는 그이상)의 단어가 있다면 해싱 충돌이 늘어나고 인코딩의 정확도가 감소될 것입니다\n",
    "dimensionality = 1000\n",
    "max_length = 10"
   ]
  },
  {
   "cell_type": "code",
   "execution_count": 17,
   "id": "2e25aed6",
   "metadata": {},
   "outputs": [
    {
     "name": "stdout",
     "output_type": "stream",
     "text": [
      "(2, 10, 1000)\n"
     ]
    }
   ],
   "source": [
    "results = np.zeros((len(samples), max_length, dimensionality))\n",
    "print(results.shape)\n",
    "\n",
    "for i, sample in enumerate(samples):\n",
    "    for j, word in list(enumerate(sample.split()))[:max_length]:\n",
    "        # 단어를 해싱하여 0과 1,000 사이의 랜덤한 정수 인덱스로 변환합니다.\n",
    "        index = abs(hash(word)) % dimensionality\n",
    "        results[i, j, index] = 1."
   ]
  },
  {
   "cell_type": "code",
   "execution_count": 18,
   "id": "8a0bb209",
   "metadata": {},
   "outputs": [
    {
     "data": {
      "text/plain": [
       "((2, 10, 1000),\n",
       " array([[[0., 0., 0., ..., 0., 0., 0.],\n",
       "         [0., 0., 0., ..., 0., 0., 0.],\n",
       "         [0., 0., 0., ..., 0., 0., 0.],\n",
       "         ...,\n",
       "         [0., 0., 0., ..., 0., 0., 0.],\n",
       "         [0., 0., 0., ..., 0., 0., 0.],\n",
       "         [0., 0., 0., ..., 0., 0., 0.]],\n",
       " \n",
       "        [[0., 0., 0., ..., 0., 0., 0.],\n",
       "         [0., 0., 0., ..., 0., 0., 0.],\n",
       "         [0., 0., 0., ..., 0., 0., 0.],\n",
       "         ...,\n",
       "         [0., 0., 0., ..., 0., 0., 0.],\n",
       "         [0., 0., 0., ..., 0., 0., 0.],\n",
       "         [0., 0., 0., ..., 0., 0., 0.]]]))"
      ]
     },
     "execution_count": 18,
     "metadata": {},
     "output_type": "execute_result"
    }
   ],
   "source": [
    "results.shape, results"
   ]
  },
  {
   "cell_type": "code",
   "execution_count": null,
   "id": "919a5f51",
   "metadata": {},
   "outputs": [],
   "source": []
  }
 ],
 "metadata": {
  "kernelspec": {
   "display_name": "Python 3 (ipykernel)",
   "language": "python",
   "name": "python3"
  },
  "language_info": {
   "codemirror_mode": {
    "name": "ipython",
    "version": 3
   },
   "file_extension": ".py",
   "mimetype": "text/x-python",
   "name": "python",
   "nbconvert_exporter": "python",
   "pygments_lexer": "ipython3",
   "version": "3.8.8"
  }
 },
 "nbformat": 4,
 "nbformat_minor": 5
}
