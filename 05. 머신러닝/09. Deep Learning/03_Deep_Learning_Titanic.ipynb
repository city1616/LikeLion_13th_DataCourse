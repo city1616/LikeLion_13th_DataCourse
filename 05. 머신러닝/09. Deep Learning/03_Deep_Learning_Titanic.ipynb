{
 "cells": [
  {
   "cell_type": "markdown",
   "id": "d68de2dd",
   "metadata": {},
   "source": [
    "## Deep Learning Titanic Dataset"
   ]
  },
  {
   "cell_type": "code",
   "execution_count": 8,
   "id": "83c26754",
   "metadata": {},
   "outputs": [],
   "source": [
    "import numpy as np\n",
    "import pandas as pd\n",
    "import matplotlib.pyplot as plt\n",
    "import matplotlib\n",
    "import tensorflow as tf\n",
    "\n",
    "import keras\n",
    "from keras.models import Sequential\n",
    "from keras.layers import Dense\n",
    "\n",
    "from sklearn.model_selection import train_test_split"
   ]
  },
  {
   "cell_type": "code",
   "execution_count": 3,
   "id": "fb0c9f8f",
   "metadata": {},
   "outputs": [
    {
     "name": "stdout",
     "output_type": "stream",
     "text": [
      "keras version : 2.6.0\n"
     ]
    }
   ],
   "source": [
    "print(\"keras version :\", keras.__version__)"
   ]
  },
  {
   "cell_type": "code",
   "execution_count": 4,
   "id": "5bf8d041",
   "metadata": {},
   "outputs": [
    {
     "name": "stdout",
     "output_type": "stream",
     "text": [
      "train shape : (891, 12)\n",
      "test shape : (418, 11)\n"
     ]
    }
   ],
   "source": [
    "train = pd.read_csv(\"../CSV/titanic/train.csv\")\n",
    "test = pd.read_csv(\"../CSV/titanic/test.csv\")\n",
    "\n",
    "print(\"train shape :\", train.shape)\n",
    "print(\"test shape :\", test.shape)"
   ]
  },
  {
   "cell_type": "code",
   "execution_count": 6,
   "id": "4626e5e7",
   "metadata": {},
   "outputs": [
    {
     "name": "stdout",
     "output_type": "stream",
     "text": [
      "<class 'pandas.core.frame.DataFrame'>\n",
      "RangeIndex: 891 entries, 0 to 890\n",
      "Data columns (total 12 columns):\n",
      " #   Column       Non-Null Count  Dtype  \n",
      "---  ------       --------------  -----  \n",
      " 0   PassengerId  891 non-null    int64  \n",
      " 1   Survived     891 non-null    int64  \n",
      " 2   Pclass       891 non-null    int64  \n",
      " 3   Name         891 non-null    object \n",
      " 4   Sex          891 non-null    object \n",
      " 5   Age          714 non-null    float64\n",
      " 6   SibSp        891 non-null    int64  \n",
      " 7   Parch        891 non-null    int64  \n",
      " 8   Ticket       891 non-null    object \n",
      " 9   Fare         891 non-null    float64\n",
      " 10  Cabin        204 non-null    object \n",
      " 11  Embarked     889 non-null    object \n",
      "dtypes: float64(2), int64(5), object(5)\n",
      "memory usage: 83.7+ KB\n",
      "None\n",
      "\n",
      "<class 'pandas.core.frame.DataFrame'>\n",
      "RangeIndex: 418 entries, 0 to 417\n",
      "Data columns (total 11 columns):\n",
      " #   Column       Non-Null Count  Dtype  \n",
      "---  ------       --------------  -----  \n",
      " 0   PassengerId  418 non-null    int64  \n",
      " 1   Pclass       418 non-null    int64  \n",
      " 2   Name         418 non-null    object \n",
      " 3   Sex          418 non-null    object \n",
      " 4   Age          332 non-null    float64\n",
      " 5   SibSp        418 non-null    int64  \n",
      " 6   Parch        418 non-null    int64  \n",
      " 7   Ticket       418 non-null    object \n",
      " 8   Fare         417 non-null    float64\n",
      " 9   Cabin        91 non-null     object \n",
      " 10  Embarked     418 non-null    object \n",
      "dtypes: float64(2), int64(4), object(5)\n",
      "memory usage: 36.0+ KB\n",
      "None\n"
     ]
    }
   ],
   "source": [
    "print(train.info())\n",
    "print()\n",
    "print(test.info())"
   ]
  },
  {
   "cell_type": "code",
   "execution_count": 9,
   "id": "89914544",
   "metadata": {},
   "outputs": [],
   "source": [
    "input_col = [\"Pclass\", \"SibSp\", \"Parch\"]\n",
    "labeled_col = [\"Survived\"]\n",
    "\n",
    "X = train[input_col]\n",
    "y = train[labeled_col]\n",
    "X_val = test[input_col]\n",
    "\n",
    "X_train, X_test, y_train, y_test = train_test_split(X, y, random_state = 0)"
   ]
  },
  {
   "cell_type": "code",
   "execution_count": 10,
   "id": "7970cab7",
   "metadata": {},
   "outputs": [
    {
     "name": "stdout",
     "output_type": "stream",
     "text": [
      "X_train shape : (668, 3), X_test shape : (223, 3)\n",
      "\n",
      "y_train shape : (668, 1), y_test shape : (223, 1)\n"
     ]
    }
   ],
   "source": [
    "print(\"X_train shape : {}, X_test shape : {}\".format(X_train.shape, X_test.shape))\n",
    "print()\n",
    "print(\"y_train shape : {}, y_test shape : {}\".format(y_train.shape, y_test.shape))"
   ]
  },
  {
   "cell_type": "markdown",
   "id": "e0e7c387",
   "metadata": {},
   "source": [
    "### 딥러닝 모델 만들기"
   ]
  },
  {
   "cell_type": "code",
   "execution_count": 11,
   "id": "1852caf5",
   "metadata": {},
   "outputs": [
    {
     "name": "stderr",
     "output_type": "stream",
     "text": [
      "2021-11-02 21:14:18.883681: I tensorflow/core/platform/cpu_feature_guard.cc:142] This TensorFlow binary is optimized with oneAPI Deep Neural Network Library (oneDNN) to use the following CPU instructions in performance-critical operations:  AVX2 FMA\n",
      "To enable them in other operations, rebuild TensorFlow with the appropriate compiler flags.\n"
     ]
    }
   ],
   "source": [
    "model = Sequential()\n",
    "model.add(Dense(30, input_dim = 3, activation = \"relu\"))\n",
    "model.add(Dense(15, activation = \"relu\"))\n",
    "model.add(Dense(1, activation = \"sigmoid\"))"
   ]
  },
  {
   "cell_type": "markdown",
   "id": "970ec25c",
   "metadata": {},
   "source": [
    "### 딥러닝 실행"
   ]
  },
  {
   "cell_type": "code",
   "execution_count": 12,
   "id": "9aa8fc90",
   "metadata": {},
   "outputs": [
    {
     "name": "stderr",
     "output_type": "stream",
     "text": [
      "2021-11-02 21:15:37.891902: I tensorflow/compiler/mlir/mlir_graph_optimization_pass.cc:185] None of the MLIR Optimization Passes are enabled (registered 2)\n"
     ]
    },
    {
     "name": "stdout",
     "output_type": "stream",
     "text": [
      "Epoch 1/100\n",
      "67/67 [==============================] - 0s 622us/step - loss: 0.6656 - accuracy: 0.5793\n",
      "Epoch 2/100\n",
      "67/67 [==============================] - 0s 576us/step - loss: 0.6384 - accuracy: 0.6183\n",
      "Epoch 3/100\n",
      "67/67 [==============================] - 0s 601us/step - loss: 0.6293 - accuracy: 0.6228\n",
      "Epoch 4/100\n",
      "67/67 [==============================] - 0s 587us/step - loss: 0.6234 - accuracy: 0.6332\n",
      "Epoch 5/100\n",
      "67/67 [==============================] - 0s 582us/step - loss: 0.6194 - accuracy: 0.6422\n",
      "Epoch 6/100\n",
      "67/67 [==============================] - 0s 607us/step - loss: 0.6145 - accuracy: 0.6452\n",
      "Epoch 7/100\n",
      "67/67 [==============================] - 0s 588us/step - loss: 0.6113 - accuracy: 0.6542\n",
      "Epoch 8/100\n",
      "67/67 [==============================] - 0s 634us/step - loss: 0.6070 - accuracy: 0.6856\n",
      "Epoch 9/100\n",
      "67/67 [==============================] - 0s 604us/step - loss: 0.6044 - accuracy: 0.6811\n",
      "Epoch 10/100\n",
      "67/67 [==============================] - 0s 613us/step - loss: 0.6010 - accuracy: 0.6841\n",
      "Epoch 11/100\n",
      "67/67 [==============================] - 0s 573us/step - loss: 0.5989 - accuracy: 0.6886\n",
      "Epoch 12/100\n",
      "67/67 [==============================] - 0s 577us/step - loss: 0.5968 - accuracy: 0.6901\n",
      "Epoch 13/100\n",
      "67/67 [==============================] - 0s 609us/step - loss: 0.5968 - accuracy: 0.6901\n",
      "Epoch 14/100\n",
      "67/67 [==============================] - 0s 577us/step - loss: 0.5942 - accuracy: 0.6961\n",
      "Epoch 15/100\n",
      "67/67 [==============================] - 0s 577us/step - loss: 0.5959 - accuracy: 0.6946\n",
      "Epoch 16/100\n",
      "67/67 [==============================] - 0s 563us/step - loss: 0.5917 - accuracy: 0.6961\n",
      "Epoch 17/100\n",
      "67/67 [==============================] - 0s 567us/step - loss: 0.5906 - accuracy: 0.6991\n",
      "Epoch 18/100\n",
      "67/67 [==============================] - 0s 651us/step - loss: 0.5908 - accuracy: 0.6991\n",
      "Epoch 19/100\n",
      "67/67 [==============================] - 0s 585us/step - loss: 0.5924 - accuracy: 0.6946\n",
      "Epoch 20/100\n",
      "67/67 [==============================] - 0s 576us/step - loss: 0.5902 - accuracy: 0.6946\n",
      "Epoch 21/100\n",
      "67/67 [==============================] - 0s 562us/step - loss: 0.5878 - accuracy: 0.7051\n",
      "Epoch 22/100\n",
      "67/67 [==============================] - 0s 570us/step - loss: 0.5874 - accuracy: 0.6991\n",
      "Epoch 23/100\n",
      "67/67 [==============================] - 0s 554us/step - loss: 0.5871 - accuracy: 0.6946\n",
      "Epoch 24/100\n",
      "67/67 [==============================] - 0s 586us/step - loss: 0.5854 - accuracy: 0.7006\n",
      "Epoch 25/100\n",
      "67/67 [==============================] - 0s 556us/step - loss: 0.5846 - accuracy: 0.7006\n",
      "Epoch 26/100\n",
      "67/67 [==============================] - 0s 584us/step - loss: 0.5860 - accuracy: 0.7081\n",
      "Epoch 27/100\n",
      "67/67 [==============================] - 0s 597us/step - loss: 0.5844 - accuracy: 0.7051\n",
      "Epoch 28/100\n",
      "67/67 [==============================] - 0s 607us/step - loss: 0.5833 - accuracy: 0.7036\n",
      "Epoch 29/100\n",
      "67/67 [==============================] - 0s 596us/step - loss: 0.5822 - accuracy: 0.7021\n",
      "Epoch 30/100\n",
      "67/67 [==============================] - 0s 612us/step - loss: 0.5817 - accuracy: 0.7051\n",
      "Epoch 31/100\n",
      "67/67 [==============================] - 0s 599us/step - loss: 0.5843 - accuracy: 0.7036\n",
      "Epoch 32/100\n",
      "67/67 [==============================] - 0s 622us/step - loss: 0.5811 - accuracy: 0.7081\n",
      "Epoch 33/100\n",
      "67/67 [==============================] - 0s 646us/step - loss: 0.5815 - accuracy: 0.7066\n",
      "Epoch 34/100\n",
      "67/67 [==============================] - 0s 650us/step - loss: 0.5829 - accuracy: 0.7051\n",
      "Epoch 35/100\n",
      "67/67 [==============================] - 0s 590us/step - loss: 0.5810 - accuracy: 0.7036\n",
      "Epoch 36/100\n",
      "67/67 [==============================] - 0s 591us/step - loss: 0.5809 - accuracy: 0.7051\n",
      "Epoch 37/100\n",
      "67/67 [==============================] - 0s 603us/step - loss: 0.5800 - accuracy: 0.7096\n",
      "Epoch 38/100\n",
      "67/67 [==============================] - 0s 624us/step - loss: 0.5816 - accuracy: 0.7066\n",
      "Epoch 39/100\n",
      "67/67 [==============================] - 0s 575us/step - loss: 0.5792 - accuracy: 0.7111\n",
      "Epoch 40/100\n",
      "67/67 [==============================] - 0s 565us/step - loss: 0.5803 - accuracy: 0.7111\n",
      "Epoch 41/100\n",
      "67/67 [==============================] - 0s 586us/step - loss: 0.5798 - accuracy: 0.7066\n",
      "Epoch 42/100\n",
      "67/67 [==============================] - 0s 622us/step - loss: 0.5794 - accuracy: 0.7111\n",
      "Epoch 43/100\n",
      "67/67 [==============================] - 0s 678us/step - loss: 0.5794 - accuracy: 0.7066\n",
      "Epoch 44/100\n",
      "67/67 [==============================] - 0s 622us/step - loss: 0.5787 - accuracy: 0.7126\n",
      "Epoch 45/100\n",
      "67/67 [==============================] - 0s 589us/step - loss: 0.5796 - accuracy: 0.7096\n",
      "Epoch 46/100\n",
      "67/67 [==============================] - 0s 589us/step - loss: 0.5795 - accuracy: 0.7111\n",
      "Epoch 47/100\n",
      "67/67 [==============================] - 0s 608us/step - loss: 0.5778 - accuracy: 0.7096\n",
      "Epoch 48/100\n",
      "67/67 [==============================] - 0s 621us/step - loss: 0.5775 - accuracy: 0.7096\n",
      "Epoch 49/100\n",
      "67/67 [==============================] - 0s 635us/step - loss: 0.5788 - accuracy: 0.7036\n",
      "Epoch 50/100\n",
      "67/67 [==============================] - 0s 644us/step - loss: 0.5781 - accuracy: 0.7081\n",
      "Epoch 51/100\n",
      "67/67 [==============================] - 0s 601us/step - loss: 0.5791 - accuracy: 0.7081\n",
      "Epoch 52/100\n",
      "67/67 [==============================] - 0s 675us/step - loss: 0.5773 - accuracy: 0.7111\n",
      "Epoch 53/100\n",
      "67/67 [==============================] - 0s 677us/step - loss: 0.5778 - accuracy: 0.7081\n",
      "Epoch 54/100\n",
      "67/67 [==============================] - 0s 591us/step - loss: 0.5785 - accuracy: 0.7096\n",
      "Epoch 55/100\n",
      "67/67 [==============================] - 0s 586us/step - loss: 0.5775 - accuracy: 0.7111\n",
      "Epoch 56/100\n",
      "67/67 [==============================] - 0s 578us/step - loss: 0.5772 - accuracy: 0.7096\n",
      "Epoch 57/100\n",
      "67/67 [==============================] - 0s 596us/step - loss: 0.5770 - accuracy: 0.7096\n",
      "Epoch 58/100\n",
      "67/67 [==============================] - 0s 569us/step - loss: 0.5775 - accuracy: 0.7096\n",
      "Epoch 59/100\n",
      "67/67 [==============================] - 0s 580us/step - loss: 0.5785 - accuracy: 0.7096\n",
      "Epoch 60/100\n",
      "67/67 [==============================] - 0s 556us/step - loss: 0.5765 - accuracy: 0.7126\n",
      "Epoch 61/100\n",
      "67/67 [==============================] - 0s 682us/step - loss: 0.5768 - accuracy: 0.7096\n",
      "Epoch 62/100\n",
      "67/67 [==============================] - 0s 556us/step - loss: 0.5783 - accuracy: 0.7111\n",
      "Epoch 63/100\n",
      "67/67 [==============================] - 0s 556us/step - loss: 0.5759 - accuracy: 0.7111\n",
      "Epoch 64/100\n",
      "67/67 [==============================] - 0s 592us/step - loss: 0.5764 - accuracy: 0.7066\n",
      "Epoch 65/100\n",
      "67/67 [==============================] - 0s 623us/step - loss: 0.5759 - accuracy: 0.7081\n",
      "Epoch 66/100\n",
      "67/67 [==============================] - 0s 601us/step - loss: 0.5763 - accuracy: 0.7096\n",
      "Epoch 67/100\n",
      "67/67 [==============================] - 0s 556us/step - loss: 0.5760 - accuracy: 0.7066\n",
      "Epoch 68/100\n",
      "67/67 [==============================] - 0s 588us/step - loss: 0.5764 - accuracy: 0.7096\n",
      "Epoch 69/100\n",
      "67/67 [==============================] - 0s 601us/step - loss: 0.5751 - accuracy: 0.7096\n",
      "Epoch 70/100\n",
      "67/67 [==============================] - 0s 640us/step - loss: 0.5758 - accuracy: 0.7096\n",
      "Epoch 71/100\n",
      "67/67 [==============================] - 0s 580us/step - loss: 0.5771 - accuracy: 0.7036\n",
      "Epoch 72/100\n",
      "67/67 [==============================] - 0s 577us/step - loss: 0.5764 - accuracy: 0.7111\n",
      "Epoch 73/100\n",
      "67/67 [==============================] - 0s 617us/step - loss: 0.5752 - accuracy: 0.7111\n",
      "Epoch 74/100\n",
      "67/67 [==============================] - 0s 697us/step - loss: 0.5760 - accuracy: 0.7096\n",
      "Epoch 75/100\n",
      "67/67 [==============================] - 0s 671us/step - loss: 0.5746 - accuracy: 0.7021\n",
      "Epoch 76/100\n",
      "67/67 [==============================] - 0s 581us/step - loss: 0.5743 - accuracy: 0.7111\n",
      "Epoch 77/100\n",
      "67/67 [==============================] - 0s 575us/step - loss: 0.5755 - accuracy: 0.7096\n",
      "Epoch 78/100\n",
      "67/67 [==============================] - 0s 690us/step - loss: 0.5750 - accuracy: 0.7111\n",
      "Epoch 79/100\n",
      "67/67 [==============================] - 0s 829us/step - loss: 0.5752 - accuracy: 0.7081\n",
      "Epoch 80/100\n",
      "67/67 [==============================] - 0s 706us/step - loss: 0.5747 - accuracy: 0.7096\n",
      "Epoch 81/100\n"
     ]
    },
    {
     "name": "stdout",
     "output_type": "stream",
     "text": [
      "67/67 [==============================] - 0s 623us/step - loss: 0.5735 - accuracy: 0.7111\n",
      "Epoch 82/100\n",
      "67/67 [==============================] - 0s 748us/step - loss: 0.5757 - accuracy: 0.6976\n",
      "Epoch 83/100\n",
      "67/67 [==============================] - 0s 810us/step - loss: 0.5756 - accuracy: 0.7036\n",
      "Epoch 84/100\n",
      "67/67 [==============================] - 0s 648us/step - loss: 0.5737 - accuracy: 0.7096\n",
      "Epoch 85/100\n",
      "67/67 [==============================] - 0s 657us/step - loss: 0.5754 - accuracy: 0.7096\n",
      "Epoch 86/100\n",
      "67/67 [==============================] - 0s 583us/step - loss: 0.5745 - accuracy: 0.7111\n",
      "Epoch 87/100\n",
      "67/67 [==============================] - 0s 571us/step - loss: 0.5781 - accuracy: 0.7066\n",
      "Epoch 88/100\n",
      "67/67 [==============================] - 0s 549us/step - loss: 0.5755 - accuracy: 0.7096\n",
      "Epoch 89/100\n",
      "67/67 [==============================] - 0s 563us/step - loss: 0.5736 - accuracy: 0.7096\n",
      "Epoch 90/100\n",
      "67/67 [==============================] - 0s 574us/step - loss: 0.5734 - accuracy: 0.7096\n",
      "Epoch 91/100\n",
      "67/67 [==============================] - 0s 561us/step - loss: 0.5748 - accuracy: 0.7111\n",
      "Epoch 92/100\n",
      "67/67 [==============================] - 0s 584us/step - loss: 0.5740 - accuracy: 0.7096\n",
      "Epoch 93/100\n",
      "67/67 [==============================] - 0s 579us/step - loss: 0.5740 - accuracy: 0.7111\n",
      "Epoch 94/100\n",
      "67/67 [==============================] - 0s 692us/step - loss: 0.5747 - accuracy: 0.7081\n",
      "Epoch 95/100\n",
      "67/67 [==============================] - 0s 574us/step - loss: 0.5747 - accuracy: 0.7036\n",
      "Epoch 96/100\n",
      "67/67 [==============================] - 0s 575us/step - loss: 0.5748 - accuracy: 0.6976\n",
      "Epoch 97/100\n",
      "67/67 [==============================] - 0s 566us/step - loss: 0.5730 - accuracy: 0.7081\n",
      "Epoch 98/100\n",
      "67/67 [==============================] - 0s 559us/step - loss: 0.5738 - accuracy: 0.7096\n",
      "Epoch 99/100\n",
      "67/67 [==============================] - 0s 555us/step - loss: 0.5736 - accuracy: 0.7111\n",
      "Epoch 100/100\n",
      "67/67 [==============================] - 0s 581us/step - loss: 0.5733 - accuracy: 0.7111\n"
     ]
    },
    {
     "data": {
      "text/plain": [
       "<keras.callbacks.History at 0x7f7d339f64c0>"
      ]
     },
     "execution_count": 12,
     "metadata": {},
     "output_type": "execute_result"
    }
   ],
   "source": [
    "model.compile(loss = \"binary_crossentropy\",\n",
    "              optimizer = \"adam\", \n",
    "              metrics = [\"accuracy\"])\n",
    "model.fit(X_train, y_train, epochs = 100, batch_size = 10)"
   ]
  },
  {
   "cell_type": "markdown",
   "id": "661cf39c",
   "metadata": {},
   "source": [
    "### 모델 평가"
   ]
  },
  {
   "cell_type": "code",
   "execution_count": 13,
   "id": "1daf155d",
   "metadata": {},
   "outputs": [
    {
     "name": "stdout",
     "output_type": "stream",
     "text": [
      "7/7 [==============================] - 0s 661us/step - loss: 0.5934 - accuracy: 0.7175\n"
     ]
    },
    {
     "data": {
      "text/plain": [
       "[0.5934314131736755, 0.7174887657165527]"
      ]
     },
     "execution_count": 13,
     "metadata": {},
     "output_type": "execute_result"
    }
   ],
   "source": [
    "model.evaluate(X_test, y_test)"
   ]
  },
  {
   "cell_type": "code",
   "execution_count": 14,
   "id": "eab565c4",
   "metadata": {},
   "outputs": [
    {
     "name": "stdout",
     "output_type": "stream",
     "text": [
      "7/7 [==============================] - 0s 824us/step - loss: 0.5934 - accuracy: 0.7175\n",
      "Accuracy : 0.7175\n"
     ]
    }
   ],
   "source": [
    "print(\"Accuracy : {:.4f}\".format(model.evaluate(X_test, y_test)[1]))"
   ]
  },
  {
   "cell_type": "code",
   "execution_count": 15,
   "id": "b157ddc7",
   "metadata": {},
   "outputs": [],
   "source": [
    "pred = model.predict(X_val)"
   ]
  },
  {
   "cell_type": "code",
   "execution_count": 19,
   "id": "dcea8ddc",
   "metadata": {},
   "outputs": [
    {
     "data": {
      "text/plain": [
       "array([False, False, False, False, False, False, False,  True, False,\n",
       "       False, False,  True,  True, False,  True, False, False, False,\n",
       "       False, False,  True,  True,  True,  True,  True, False,  True,\n",
       "       False,  True, False, False, False, False, False,  True, False,\n",
       "       False, False, False, False,  True,  True, False, False,  True,\n",
       "       False,  True, False,  True,  True,  True, False,  True,  True,\n",
       "       False, False, False, False, False,  True, False, False, False,\n",
       "       False,  True, False, False,  True,  True, False, False, False,\n",
       "       False,  True,  True,  True, False,  True, False, False, False,\n",
       "        True,  True, False, False, False, False, False, False,  True,\n",
       "       False, False,  True, False,  True, False,  True, False, False,\n",
       "       False,  True, False, False, False, False, False, False, False,\n",
       "       False, False, False, False,  True, False,  True, False, False,\n",
       "       False,  True, False, False, False,  True, False, False,  True,\n",
       "       False, False, False, False, False,  True, False, False, False,\n",
       "       False, False, False, False, False, False,  True,  True, False,\n",
       "        True, False,  True, False,  True,  True,  True, False, False,\n",
       "        True, False, False,  True, False,  True,  True, False, False,\n",
       "       False, False, False, False,  True, False,  True, False, False,\n",
       "       False, False, False, False,  True, False,  True,  True,  True,\n",
       "       False,  True,  True, False,  True, False,  True, False, False,\n",
       "       False, False,  True, False, False,  True, False,  True, False,\n",
       "       False, False, False,  True,  True,  True, False,  True, False,\n",
       "       False,  True, False, False, False, False, False, False,  True,\n",
       "       False,  True,  True, False, False, False, False, False,  True,\n",
       "        True, False, False, False, False, False,  True, False, False,\n",
       "        True, False,  True, False,  True,  True,  True,  True,  True,\n",
       "       False, False,  True, False,  True, False, False,  True, False,\n",
       "        True, False, False, False, False, False, False, False, False,\n",
       "       False,  True, False, False, False,  True, False, False, False,\n",
       "        True, False,  True, False, False, False, False, False, False,\n",
       "       False, False, False, False, False, False, False, False,  True,\n",
       "       False, False,  True, False, False,  True, False, False,  True,\n",
       "       False,  True, False, False, False,  True, False, False,  True,\n",
       "        True,  True,  True, False, False, False, False, False,  True,\n",
       "       False,  True, False, False, False, False, False, False,  True,\n",
       "        True, False,  True,  True, False, False,  True,  True, False,\n",
       "       False, False,  True, False,  True, False, False, False, False,\n",
       "       False,  True, False, False, False, False, False, False,  True,\n",
       "       False, False,  True, False,  True,  True, False, False, False,\n",
       "       False,  True, False, False,  True, False, False, False,  True,\n",
       "       False, False,  True,  True, False,  True,  True, False, False,\n",
       "        True, False, False, False, False, False, False,  True, False,\n",
       "       False, False, False,  True,  True,  True, False, False,  True,\n",
       "       False,  True, False, False,  True, False,  True,  True,  True,\n",
       "       False, False,  True, False, False, False,  True, False, False,\n",
       "        True, False, False, False])"
      ]
     },
     "execution_count": 19,
     "metadata": {},
     "output_type": "execute_result"
    }
   ],
   "source": [
    "# sub = pd.read_csv\n",
    "pred[:, 0] > 0.5"
   ]
  },
  {
   "cell_type": "code",
   "execution_count": null,
   "id": "8739f2f9",
   "metadata": {},
   "outputs": [],
   "source": [
    "sub[\"Survived\"] = pred[:, 0] > 0.5\n",
    "\n",
    "sub.loc[sub[\"Survived\"] == True, \"Survived\"] = 1\n",
    "sub.loc[sub[\"Survived\"] == False, \"Survived\"] = 0\n",
    "\n",
    "sub.to_csv(\"../CSV/titanic/titanic_submit.csv\", index = False)"
   ]
  }
 ],
 "metadata": {
  "kernelspec": {
   "display_name": "Python 3 (ipykernel)",
   "language": "python",
   "name": "python3"
  },
  "language_info": {
   "codemirror_mode": {
    "name": "ipython",
    "version": 3
   },
   "file_extension": ".py",
   "mimetype": "text/x-python",
   "name": "python",
   "nbconvert_exporter": "python",
   "pygments_lexer": "ipython3",
   "version": "3.8.8"
  }
 },
 "nbformat": 4,
 "nbformat_minor": 5
}
