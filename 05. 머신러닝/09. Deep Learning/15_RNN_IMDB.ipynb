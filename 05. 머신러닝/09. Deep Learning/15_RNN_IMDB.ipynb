{
 "cells": [
  {
   "cell_type": "markdown",
   "id": "95b3f9e5",
   "metadata": {},
   "source": [
    "### 2021_11_12_4"
   ]
  },
  {
   "cell_type": "markdown",
   "id": "c3367c89",
   "metadata": {},
   "source": [
    "### RNN(순환 신경망) 이해하기"
   ]
  },
  {
   "cell_type": "markdown",
   "id": "7807f86d",
   "metadata": {},
   "source": [
    "### 학습 내용\n",
    "* RNN에 대해 실습을 통해 알아본다.\n",
    "* 데이터 셋 : IMDB 영화 리뷰 분류 문제 적용"
   ]
  },
  {
   "cell_type": "markdown",
   "id": "83f7ccb1",
   "metadata": {},
   "source": [
    "* SimpleRNN이 하나의 시퀀스가 아니다.\n",
    "* 다른 케라스 층과 마찬가지로 시퀀스 배치를 처리\n",
    "    * (timesteps, input_features) 크기 아니다.\n",
    "    * (batch_size(샘플크기), timesteps, input_features) 크기의 입력"
   ]
  },
  {
   "cell_type": "markdown",
   "id": "0b7b87a8",
   "metadata": {},
   "source": [
    "### SimpleRNN 두가지 실행 모드\n",
    "* return_sequences : 기본값(False)\n",
    "    * False : 마지막 상태만 출력(Many-to-One)\n",
    "    * True : 모든 지점의 은닉 상태 출력 (Many-to-Many)"
   ]
  },
  {
   "cell_type": "code",
   "execution_count": 1,
   "id": "03e8d5d0",
   "metadata": {},
   "outputs": [],
   "source": [
    "import keras\n",
    "from keras.layers import SimpleRNN\n",
    "from keras.models import Sequential\n",
    "from keras.layers import Embedding, SimpleRNN"
   ]
  },
  {
   "cell_type": "code",
   "execution_count": 2,
   "id": "5e2943e9",
   "metadata": {},
   "outputs": [
    {
     "name": "stdout",
     "output_type": "stream",
     "text": [
      "2.7.0\n"
     ]
    }
   ],
   "source": [
    "print(keras.__version__)"
   ]
  },
  {
   "cell_type": "markdown",
   "id": "6f71fcef",
   "metadata": {},
   "source": [
    "### Embedding층의 입력\n",
    "* (samples, 임베딩차원, sequence_length)\n",
    "    * samples : 샘플수\n",
    "    * sequence_length : 시퀀스 길이 ( 단순히 길이)\n",
    "    * 정수 텐서를 입력으로 받음. 2D텐서\n",
    "* 여기서 sequence_length가 작은 길이의 시퀀스는 0으로 패딩되고, 긴 시퀀스는 잘리게 됩니다.\n",
    "\n",
    "### Embedding층의 출력\n",
    "* (samples, sqeuence_length, 임베딩 차원)\n",
    "    * samples : 샘플수\n",
    "    * sequence_length : 시퀀스 길이\n",
    "    * embedding_dimensionality : 임베딩 차원\n",
    "    * 출력은 3D 텐서가 된다."
   ]
  },
  {
   "cell_type": "markdown",
   "id": "d8fcff10",
   "metadata": {},
   "source": [
    "### return_sequences = False"
   ]
  },
  {
   "cell_type": "code",
   "execution_count": 3,
   "id": "46bafa82",
   "metadata": {},
   "outputs": [
    {
     "name": "stdout",
     "output_type": "stream",
     "text": [
      "Model: \"sequential\"\n",
      "_________________________________________________________________\n",
      " Layer (type)                Output Shape              Param #   \n",
      "=================================================================\n",
      " embedding (Embedding)       (None, None, 32)          320000    \n",
      "                                                                 \n",
      " simple_rnn (SimpleRNN)      (None, 32)                2080      \n",
      "                                                                 \n",
      "=================================================================\n",
      "Total params: 322,080\n",
      "Trainable params: 322,080\n",
      "Non-trainable params: 0\n",
      "_________________________________________________________________\n"
     ]
    },
    {
     "name": "stderr",
     "output_type": "stream",
     "text": [
      "2021-11-12 13:27:39.472125: I tensorflow/core/platform/cpu_feature_guard.cc:151] This TensorFlow binary is optimized with oneAPI Deep Neural Network Library (oneDNN) to use the following CPU instructions in performance-critical operations:  AVX2 FMA\n",
      "To enable them in other operations, rebuild TensorFlow with the appropriate compiler flags.\n"
     ]
    }
   ],
   "source": [
    "model = Sequential()\n",
    "model.add(Embedding(10000, 32))\n",
    "model.add(SimpleRNN(32, return_sequences = False))\n",
    "model.summary()"
   ]
  },
  {
   "cell_type": "markdown",
   "id": "59d6cc2e",
   "metadata": {},
   "source": [
    "### 파라미터 개수\n",
    "* 32 * (32 + 32 + 1) = 2080"
   ]
  },
  {
   "cell_type": "markdown",
   "id": "be39e00f",
   "metadata": {},
   "source": [
    "### return_sequences = True"
   ]
  },
  {
   "cell_type": "code",
   "execution_count": 4,
   "id": "0b475564",
   "metadata": {},
   "outputs": [
    {
     "name": "stdout",
     "output_type": "stream",
     "text": [
      "Model: \"sequential_1\"\n",
      "_________________________________________________________________\n",
      " Layer (type)                Output Shape              Param #   \n",
      "=================================================================\n",
      " embedding_1 (Embedding)     (None, None, 32)          320000    \n",
      "                                                                 \n",
      " simple_rnn_1 (SimpleRNN)    (None, None, 32)          2080      \n",
      "                                                                 \n",
      "=================================================================\n",
      "Total params: 322,080\n",
      "Trainable params: 322,080\n",
      "Non-trainable params: 0\n",
      "_________________________________________________________________\n"
     ]
    }
   ],
   "source": [
    "model = Sequential()\n",
    "model.add(Embedding(10000, 32))\n",
    "model.add(SimpleRNN(32, return_sequences = True))\n",
    "model.summary()"
   ]
  },
  {
   "cell_type": "markdown",
   "id": "4d891d12",
   "metadata": {},
   "source": [
    "### 은닉 상태 출력"
   ]
  },
  {
   "cell_type": "code",
   "execution_count": 5,
   "id": "ad426d7f",
   "metadata": {},
   "outputs": [
    {
     "name": "stdout",
     "output_type": "stream",
     "text": [
      "Model: \"sequential_2\"\n",
      "_________________________________________________________________\n",
      " Layer (type)                Output Shape              Param #   \n",
      "=================================================================\n",
      " embedding_2 (Embedding)     (None, None, 32)          320000    \n",
      "                                                                 \n",
      " simple_rnn_2 (SimpleRNN)    (None, None, 32)          2080      \n",
      "                                                                 \n",
      " simple_rnn_3 (SimpleRNN)    (None, None, 32)          2080      \n",
      "                                                                 \n",
      " simple_rnn_4 (SimpleRNN)    (None, None, 32)          2080      \n",
      "                                                                 \n",
      " simple_rnn_5 (SimpleRNN)    (None, 32)                2080      \n",
      "                                                                 \n",
      "=================================================================\n",
      "Total params: 328,320\n",
      "Trainable params: 328,320\n",
      "Non-trainable params: 0\n",
      "_________________________________________________________________\n"
     ]
    }
   ],
   "source": [
    "model = Sequential()\n",
    "model.add(Embedding(10000, 32))\n",
    "model.add(SimpleRNN(32, return_sequences = True))\n",
    "model.add(SimpleRNN(32, return_sequences = True))\n",
    "model.add(SimpleRNN(32, return_sequences = True))\n",
    "model.add(SimpleRNN(32)) # 맨 위 층만 마지막 출력을 반환\n",
    "\n",
    "model.summary()"
   ]
  },
  {
   "cell_type": "markdown",
   "id": "e60e51e0",
   "metadata": {},
   "source": [
    "### IMDB 영화 리뷰 분류 문제 풀기"
   ]
  },
  {
   "cell_type": "code",
   "execution_count": 6,
   "id": "32335bb6",
   "metadata": {},
   "outputs": [
    {
     "name": "stdout",
     "output_type": "stream",
     "text": [
      "데이터 로딩.......\n",
      "훈련 시퀀스 : 25000\n",
      "테스트 시퀀스 : 25000\n"
     ]
    }
   ],
   "source": [
    "from keras.datasets import imdb\n",
    "from keras.preprocessing import sequence\n",
    "\n",
    "max_features = 10000 # 특성으로 사용할 단어의 수\n",
    "maxlen = 500         # 사용할 텍스트의 길이(가장 빈번한 max_features 개의 단어만 사용)\n",
    "batch_size = 32\n",
    "\n",
    "print(\"데이터 로딩.......\")\n",
    "(input_train, y_train), (input_test, y_test) = imdb.load_data(num_words = max_features)\n",
    "print(\"훈련 시퀀스 :\", len(input_train))\n",
    "print(\"테스트 시퀀스 :\", len(input_test))"
   ]
  },
  {
   "cell_type": "code",
   "execution_count": 7,
   "id": "96edff9b",
   "metadata": {},
   "outputs": [
    {
     "data": {
      "text/plain": [
       "((25000,), (25000,), (25000,), (25000,))"
      ]
     },
     "execution_count": 7,
     "metadata": {},
     "output_type": "execute_result"
    }
   ],
   "source": [
    "input_train.shape, y_train.shape, input_test.shape, y_test.shape"
   ]
  },
  {
   "cell_type": "code",
   "execution_count": 8,
   "id": "eced6859",
   "metadata": {},
   "outputs": [
    {
     "name": "stdout",
     "output_type": "stream",
     "text": [
      "시퀀스 패딩 (samples x time)\n",
      "input_train 크기: (25000, 500)\n",
      "input_test 크기: (25000, 500)\n"
     ]
    }
   ],
   "source": [
    "# 문장에서 maxlen 이후의 있는 단어들을 pad_sequences()함수로 잘라낸다.\n",
    "# 문장 길이가 maxlen보다 작으면 부족한 부분을 0으로 채웁니다. \n",
    "print('시퀀스 패딩 (samples x time)')\n",
    "input_train = sequence.pad_sequences(input_train, maxlen=maxlen)\n",
    "input_test = sequence.pad_sequences(input_test, maxlen=maxlen)\n",
    "print('input_train 크기:', input_train.shape)\n",
    "print('input_test 크기:', input_test.shape)"
   ]
  },
  {
   "cell_type": "markdown",
   "id": "dd720a92",
   "metadata": {},
   "source": [
    "### 모델 구축"
   ]
  },
  {
   "cell_type": "code",
   "execution_count": 14,
   "id": "6e295b1b",
   "metadata": {},
   "outputs": [
    {
     "name": "stdout",
     "output_type": "stream",
     "text": [
      "Model: \"sequential_6\"\n",
      "_________________________________________________________________\n",
      " Layer (type)                Output Shape              Param #   \n",
      "=================================================================\n",
      " embedding_6 (Embedding)     (None, None, 32)          320000    \n",
      "                                                                 \n",
      " simple_rnn_11 (SimpleRNN)   (None, 32)                2080      \n",
      "                                                                 \n",
      " dense_2 (Dense)             (None, 1)                 33        \n",
      "                                                                 \n",
      "=================================================================\n",
      "Total params: 322,113\n",
      "Trainable params: 322,113\n",
      "Non-trainable params: 0\n",
      "_________________________________________________________________\n"
     ]
    }
   ],
   "source": [
    "from keras.layers import Dense\n",
    "\n",
    "model = Sequential()\n",
    "model.add(Embedding(max_features, 32)) # max_features = 10000\n",
    "# model.add(SimpleRNN(32, return_sequences = True))\n",
    "model.add(SimpleRNN(32))\n",
    "model.add(Dense(1, activation = \"sigmoid\"))\n",
    "\n",
    "model.compile(optimizer = \"rmsprop\", loss = \"binary_crossentropy\", \n",
    "              metrics = [\"acc\"])\n",
    "model.summary()"
   ]
  },
  {
   "cell_type": "code",
   "execution_count": 19,
   "id": "bddd8343",
   "metadata": {},
   "outputs": [
    {
     "name": "stdout",
     "output_type": "stream",
     "text": [
      "Epoch 1/15\n",
      "157/157 [==============================] - 21s 132ms/step - loss: 0.0024 - acc: 0.9994 - val_loss: 1.1213 - val_acc: 0.7818\n",
      "Epoch 2/15\n",
      "157/157 [==============================] - 21s 131ms/step - loss: 0.0075 - acc: 0.9977 - val_loss: 1.1177 - val_acc: 0.7916\n",
      "Epoch 3/15\n",
      "157/157 [==============================] - 22s 140ms/step - loss: 0.0015 - acc: 0.9995 - val_loss: 1.1276 - val_acc: 0.7886\n",
      "Epoch 4/15\n",
      "157/157 [==============================] - 20s 130ms/step - loss: 0.0014 - acc: 0.9996 - val_loss: 1.2830 - val_acc: 0.7488\n",
      "Epoch 5/15\n",
      "157/157 [==============================] - 20s 126ms/step - loss: 4.2811e-04 - acc: 0.9999 - val_loss: 1.7148 - val_acc: 0.6950\n",
      "Epoch 6/15\n",
      "157/157 [==============================] - 21s 132ms/step - loss: 9.4038e-04 - acc: 0.9996 - val_loss: 1.5188 - val_acc: 0.7228\n",
      "Epoch 7/15\n",
      "157/157 [==============================] - 21s 134ms/step - loss: 9.6409e-04 - acc: 0.9997 - val_loss: 1.3639 - val_acc: 0.7606\n",
      "Epoch 8/15\n",
      "157/157 [==============================] - 21s 136ms/step - loss: 3.1733e-04 - acc: 0.9999 - val_loss: 1.3804 - val_acc: 0.7500\n",
      "Epoch 9/15\n",
      "157/157 [==============================] - 21s 131ms/step - loss: 8.0031e-04 - acc: 0.9996 - val_loss: 1.4336 - val_acc: 0.7496\n",
      "Epoch 10/15\n",
      "157/157 [==============================] - 21s 137ms/step - loss: 6.1168e-04 - acc: 0.9998 - val_loss: 1.4645 - val_acc: 0.7466\n",
      "Epoch 11/15\n",
      "157/157 [==============================] - 21s 136ms/step - loss: 2.3683e-04 - acc: 0.9999 - val_loss: 1.4802 - val_acc: 0.7600\n",
      "Epoch 12/15\n",
      "157/157 [==============================] - 20s 130ms/step - loss: 0.0011 - acc: 0.9997 - val_loss: 1.4919 - val_acc: 0.7628\n",
      "Epoch 13/15\n",
      "157/157 [==============================] - 21s 132ms/step - loss: 9.4505e-04 - acc: 0.9995 - val_loss: 1.5479 - val_acc: 0.7502\n",
      "Epoch 14/15\n",
      "157/157 [==============================] - 22s 140ms/step - loss: 4.2203e-04 - acc: 0.9998 - val_loss: 1.5360 - val_acc: 0.7532\n",
      "Epoch 15/15\n",
      "157/157 [==============================] - 23s 144ms/step - loss: 7.5066e-04 - acc: 0.9998 - val_loss: 1.5442 - val_acc: 0.7500\n",
      "CPU times: user 15min 5s, sys: 4min 41s, total: 19min 46s\n",
      "Wall time: 5min 15s\n"
     ]
    }
   ],
   "source": [
    "%%time\n",
    "\n",
    "history = model.fit(input_train, y_train, \n",
    "                    epochs = 15, \n",
    "                    batch_size = 128, \n",
    "                    validation_split = 0.2)"
   ]
  },
  {
   "cell_type": "markdown",
   "id": "d6aaf552",
   "metadata": {},
   "source": [
    "### 훈련, 검증의 손실과 정확도 그래프 확인"
   ]
  },
  {
   "cell_type": "code",
   "execution_count": 20,
   "id": "123747d2",
   "metadata": {},
   "outputs": [],
   "source": [
    "import matplotlib.pyplot as plt"
   ]
  },
  {
   "cell_type": "code",
   "execution_count": 21,
   "id": "ee05cf1d",
   "metadata": {},
   "outputs": [
    {
     "data": {
      "image/png": "[encoded data removed]",
      "text/plain": [
       "<Figure size 432x288 with 1 Axes>"
      ]
     },
     "metadata": {
      "needs_background": "light"
     },
     "output_type": "display_data"
    },
    {
     "data": {
      "image/png": "[encoded data removed]",
      "text/plain": [
       "<Figure size 432x288 with 1 Axes>"
      ]
     },
     "metadata": {
      "needs_background": "light"
     },
     "output_type": "display_data"
    }
   ],
   "source": [
    "acc = history.history['acc']\n",
    "val_acc = history.history['val_acc']\n",
    "loss = history.history['loss']\n",
    "val_loss = history.history['val_loss']\n",
    "\n",
    "epochs = range(1, len(acc) + 1)\n",
    "\n",
    "plt.plot(epochs, acc, 'bo', label='Training acc')\n",
    "plt.plot(epochs, val_acc, 'b', label='Validation acc')\n",
    "plt.title('Training and validation accuracy')\n",
    "plt.legend()\n",
    "\n",
    "plt.figure()\n",
    "\n",
    "plt.plot(epochs, loss, 'bo', label='Training loss')\n",
    "plt.plot(epochs, val_loss, 'b', label='Validation loss')\n",
    "plt.title('Training and validation loss')\n",
    "plt.legend()\n",
    "\n",
    "plt.show()"
   ]
  },
  {
   "cell_type": "code",
   "execution_count": null,
   "id": "755a4229",
   "metadata": {},
   "outputs": [],
   "source": []
  }
 ],
 "metadata": {
  "kernelspec": {
   "display_name": "Python 3 (ipykernel)",
   "language": "python",
   "name": "python3"
  },
  "language_info": {
   "codemirror_mode": {
    "name": "ipython",
    "version": 3
   },
   "file_extension": ".py",
   "mimetype": "text/x-python",
   "name": "python",
   "nbconvert_exporter": "python",
   "pygments_lexer": "ipython3",
   "version": "3.8.8"
  }
 },
 "nbformat": 4,
 "nbformat_minor": 5
}
