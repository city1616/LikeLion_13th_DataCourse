{
 "cells": [
  {
   "cell_type": "markdown",
   "id": "a6c34368",
   "metadata": {},
   "source": [
    "### 2021_11_02_1"
   ]
  },
  {
   "cell_type": "markdown",
   "id": "5bdb6b95",
   "metadata": {},
   "source": [
    "## Deep Learning Basic"
   ]
  },
  {
   "cell_type": "code",
   "execution_count": 17,
   "id": "013b6622",
   "metadata": {},
   "outputs": [
    {
     "name": "stdout",
     "output_type": "stream",
     "text": [
      "2.6.1\n"
     ]
    }
   ],
   "source": [
    "import keras\n",
    "import tensorflow as tf\n",
    "import pandas as pd\n",
    "import numpy as np\n",
    "\n",
    "print(tf.__version__)"
   ]
  },
  {
   "cell_type": "code",
   "execution_count": 8,
   "id": "a1916f9a",
   "metadata": {},
   "outputs": [],
   "source": [
    "df = pd.DataFrame({\"kor\" : [50, 70, 80, 90, 100], \n",
    "                  \"eng\" : [70, 80, 90, 100, 70], \n",
    "                  \"math\" : [170, 220, 250, 280, 270]})"
   ]
  },
  {
   "cell_type": "code",
   "execution_count": 9,
   "id": "d296fc72",
   "metadata": {},
   "outputs": [
    {
     "data": {
      "text/html": [
       "<div>\n",
       "<style scoped>\n",
       "    .dataframe tbody tr th:only-of-type {\n",
       "        vertical-align: middle;\n",
       "    }\n",
       "\n",
       "    .dataframe tbody tr th {\n",
       "        vertical-align: top;\n",
       "    }\n",
       "\n",
       "    .dataframe thead th {\n",
       "        text-align: right;\n",
       "    }\n",
       "</style>\n",
       "<table border=\"1\" class=\"dataframe\">\n",
       "  <thead>\n",
       "    <tr style=\"text-align: right;\">\n",
       "      <th></th>\n",
       "      <th>kor</th>\n",
       "      <th>eng</th>\n",
       "      <th>math</th>\n",
       "    </tr>\n",
       "  </thead>\n",
       "  <tbody>\n",
       "    <tr>\n",
       "      <th>0</th>\n",
       "      <td>50</td>\n",
       "      <td>70</td>\n",
       "      <td>170</td>\n",
       "    </tr>\n",
       "    <tr>\n",
       "      <th>1</th>\n",
       "      <td>70</td>\n",
       "      <td>80</td>\n",
       "      <td>220</td>\n",
       "    </tr>\n",
       "    <tr>\n",
       "      <th>2</th>\n",
       "      <td>80</td>\n",
       "      <td>90</td>\n",
       "      <td>250</td>\n",
       "    </tr>\n",
       "    <tr>\n",
       "      <th>3</th>\n",
       "      <td>90</td>\n",
       "      <td>100</td>\n",
       "      <td>280</td>\n",
       "    </tr>\n",
       "    <tr>\n",
       "      <th>4</th>\n",
       "      <td>100</td>\n",
       "      <td>70</td>\n",
       "      <td>270</td>\n",
       "    </tr>\n",
       "  </tbody>\n",
       "</table>\n",
       "</div>"
      ],
      "text/plain": [
       "   kor  eng  math\n",
       "0   50   70   170\n",
       "1   70   80   220\n",
       "2   80   90   250\n",
       "3   90  100   280\n",
       "4  100   70   270"
      ]
     },
     "execution_count": 9,
     "metadata": {},
     "output_type": "execute_result"
    }
   ],
   "source": [
    "df"
   ]
  },
  {
   "cell_type": "code",
   "execution_count": 10,
   "id": "c7e5104e",
   "metadata": {},
   "outputs": [],
   "source": [
    "from sklearn.linear_model import LinearRegression"
   ]
  },
  {
   "cell_type": "code",
   "execution_count": 13,
   "id": "0f0c2533",
   "metadata": {},
   "outputs": [
    {
     "name": "stdout",
     "output_type": "stream",
     "text": [
      "가중치, y절편 : [2. 1.] -5.684341886080802e-14\n"
     ]
    }
   ],
   "source": [
    "X = df[[\"kor\", \"eng\"]]\n",
    "y = df[\"math\"]\n",
    "\n",
    "model = LinearRegression()\n",
    "model.fit(X, y)\n",
    "print(\"가중치, y절편 :\", model.coef_, model.intercept_)"
   ]
  },
  {
   "cell_type": "code",
   "execution_count": 14,
   "id": "57bcd06f",
   "metadata": {},
   "outputs": [
    {
     "data": {
      "text/plain": [
       "(2, 1)"
      ]
     },
     "execution_count": 14,
     "metadata": {},
     "output_type": "execute_result"
    }
   ],
   "source": [
    "new = [80, 85]\n",
    "dat1 = pd.DataFrame({\"kor\": new})\n",
    "dat1.shape"
   ]
  },
  {
   "cell_type": "markdown",
   "id": "fe563e10",
   "metadata": {},
   "source": [
    "* 이진분류 : 노드가 하나(확률이 나오면 0.5 기준으로 분류)\n",
    "* 다항분류 : 노드가 세개(아이리스)\n",
    "* 다항분류 : 노드가 10개(손글씨 예측)\n",
    "* 회귀 : 노드가 하나\n",
    "\n",
    "* 은닉층을 몇개로 할 것인가(선택가능)\n",
    "* 각각의 은닉층의 노드 수는 얼마로 할 것인가(선택가능)"
   ]
  },
  {
   "cell_type": "markdown",
   "id": "c0f2885e",
   "metadata": {},
   "source": [
    "### 신경망을 위한 데이터 이해\n",
    "* Tensor 자료형\n",
    "* 스칼라 : 하나의 숫자만 담고 있는 텐서를 스칼라라고 한다.\n",
    "    * 0차원 텐서, 0D텐서\n",
    "* 벡터(1D텐서)\n",
    "    * 숫자의 배열을 벡터(vector)또는 1D텐서라고 부른다. 1D 텐서는 딱 하나의 축을 가진다.\n",
    "    * 5개의 원소를 가지고 있으므로 5차원 벡터라 부른다.\n",
    "* 행렬(2D텐서)\n",
    "    * 벡터의 배열을 행렬(matrix) 또는 2D텐서라 부른다. \n",
    "    * 행렬에는 2개의 축이 있다. \n",
    "    * 보통 행과 열이라 한다.\n",
    "* 3D텐서와 고차원 텐서\n",
    "    * 행렬들을 하나의 새로운 배열로 합치면 숫자가 채워진 직육면체 형태로 해석할 수 있는 3D텐서가 만들어진다.\n",
    "    * 3D텐서들을 하나의 배열로 합치면 4D텐서가 된다.\n",
    "    * 딥러닝에서는 보통 0D에서 4D까지의 텐서를 다룬다."
   ]
  },
  {
   "cell_type": "code",
   "execution_count": 26,
   "id": "b05f61c7",
   "metadata": {},
   "outputs": [
    {
     "name": "stdout",
     "output_type": "stream",
     "text": [
      "12\n",
      "0\n",
      "()\n",
      "\n",
      "[10 20 30 40 50]\n",
      "1\n",
      "(5,)\n",
      "\n",
      "[[10 20 30]\n",
      " [11 21 31]\n",
      " [12 22 32]]\n",
      "2\n",
      "(3, 3)\n",
      "[[[11 21 31]\n",
      "  [12 22 32]\n",
      "  [13 23 33]]\n",
      "\n",
      " [[11 21 31]\n",
      "  [12 22 32]\n",
      "  [13 23 33]]\n",
      "\n",
      " [[11 21 31]\n",
      "  [12 22 32]\n",
      "  [13 23 33]]]\n",
      "3\n",
      "(3, 3, 3)\n"
     ]
    }
   ],
   "source": [
    "# 스칼라, 0D텐서\n",
    "x = np.array(12)\n",
    "print(x)\n",
    "print(x.ndim)  # 차원수\n",
    "print(x.shape) # 행렬\n",
    "print()\n",
    "\n",
    "# 1D텐서\n",
    "x = np.array([10, 20, 30, 40, 50])\n",
    "print(x)\n",
    "print(x.ndim)  # 차원수\n",
    "print(x.shape) # 행렬\n",
    "print()\n",
    "\n",
    "# 2D텐서\n",
    "x = np.array([[10, 20, 30], \n",
    "              [11, 21, 31], \n",
    "              [12, 22, 32]])\n",
    "print(x)\n",
    "print(x.ndim)  # 차원수\n",
    "print(x.shape) # 행렬\n",
    "\n",
    "x = np.array([\n",
    "              [ [11,21,31],\n",
    "               [12,22,32],\n",
    "               [13,23,33] ],\n",
    "              [ [11,21,31],\n",
    "               [12,22,32],\n",
    "               [13,23,33] ],\n",
    "              [ [11,21,31],\n",
    "               [12,22,32],\n",
    "               [13,23,33] ]\n",
    "             ])\n",
    "print(x)\n",
    "print(x.ndim)\n",
    "print(x.shape)\n"
   ]
  },
  {
   "cell_type": "markdown",
   "id": "adb8eec0",
   "metadata": {},
   "source": [
    "### MNIST 데이터 셋"
   ]
  },
  {
   "cell_type": "code",
   "execution_count": 27,
   "id": "f862a950",
   "metadata": {},
   "outputs": [
    {
     "name": "stdout",
     "output_type": "stream",
     "text": [
      "Downloading data from https://storage.googleapis.com/tensorflow/tf-keras-datasets/mnist.npz\n",
      "11493376/11490434 [==============================] - 1s 0us/step\n",
      "11501568/11490434 [==============================] - 1s 0us/step\n"
     ]
    }
   ],
   "source": [
    "from keras.datasets import mnist\n",
    "(train_images, train_labels), (test_images, test_labels) = mnist.load_data()"
   ]
  },
  {
   "cell_type": "code",
   "execution_count": 28,
   "id": "c32b6630",
   "metadata": {},
   "outputs": [
    {
     "name": "stdout",
     "output_type": "stream",
     "text": [
      "3\n",
      "(60000, 28, 28)\n",
      "uint8\n"
     ]
    }
   ],
   "source": [
    "print(train_images.ndim)\n",
    "print(train_images.shape)\n",
    "print(train_images.dtype)"
   ]
  },
  {
   "cell_type": "markdown",
   "id": "fb63ab7f",
   "metadata": {},
   "source": [
    "### 이미지 출력"
   ]
  },
  {
   "cell_type": "code",
   "execution_count": 29,
   "id": "06d87044",
   "metadata": {},
   "outputs": [
    {
     "data": {
      "image/png": "[encoded data removed]",
      "text/plain": [
       "<Figure size 432x288 with 1 Axes>"
      ]
     },
     "metadata": {
      "needs_background": "light"
     },
     "output_type": "display_data"
    }
   ],
   "source": [
    "import matplotlib.pyplot as plt\n",
    "\n",
    "image = train_images[5]\n",
    "plt.imshow(image, cmap=plt.cm.binary)\n",
    "plt.show()"
   ]
  },
  {
   "cell_type": "markdown",
   "id": "106fc6cf",
   "metadata": {},
   "source": [
    "### 넘파이를 활용한 텐서 조작\n",
    "* 배열에 있는 특정 원소의 일부를 선택하는 것을 슬라이싱(slicing)이라 한다."
   ]
  },
  {
   "cell_type": "code",
   "execution_count": 30,
   "id": "99056a0c",
   "metadata": {},
   "outputs": [
    {
     "name": "stdout",
     "output_type": "stream",
     "text": [
      "(40, 28, 28)\n",
      "(40, 28, 28)\n",
      "(40, 28, 28)\n"
     ]
    }
   ],
   "source": [
    "my_slice = train_images[10:50]\n",
    "print(my_slice.shape)\n",
    "\n",
    "my_slice = train_images[10:50, :, :]  # 이전것과 동일\n",
    "print(my_slice.shape)\n",
    "\n",
    "my_slice = train_images[10:50, 0:28, 0:28]  # 이전것과 동일\n",
    "print(my_slice.shape)"
   ]
  },
  {
   "cell_type": "markdown",
   "id": "d2b11d7c",
   "metadata": {},
   "source": [
    "### 이미지의 오른쪽 아래 14 x 14 픽셀 선택"
   ]
  },
  {
   "cell_type": "code",
   "execution_count": 31,
   "id": "e9ff9970",
   "metadata": {},
   "outputs": [
    {
     "name": "stdout",
     "output_type": "stream",
     "text": [
      "(60000, 14, 14)\n"
     ]
    },
    {
     "data": {
      "image/png": "[encoded data removed]",
      "text/plain": [
       "<Figure size 432x288 with 1 Axes>"
      ]
     },
     "metadata": {
      "needs_background": "light"
     },
     "output_type": "display_data"
    }
   ],
   "source": [
    "my_slice = train_images[:, 14:, 14:]\n",
    "print(my_slice.shape)\n",
    "\n",
    "image = my_slice[5]\n",
    "plt.imshow(image, cmap=plt.cm.binary)\n",
    "plt.show()"
   ]
  },
  {
   "cell_type": "markdown",
   "id": "c5cbe10e",
   "metadata": {},
   "source": [
    "### 배치 데이터\n",
    "* 딥러닝 모델에서는 한 번에 전체 데이터를 처리하지 않는다.\n",
    "* 그대신 데이터를 작은 배치(batch)로 나눈다.\n",
    "* 구체적으로 말하면 MNIST 숫자 데이터에서 크기가 128인 배치 하나는 다음과 같다."
   ]
  },
  {
   "cell_type": "code",
   "execution_count": 33,
   "id": "ffe3d77c",
   "metadata": {},
   "outputs": [],
   "source": [
    "batch = train_images[ : 128]\n",
    "# 다음 배치\n",
    "batch = train_images[128:256]\n",
    "# n번째 배치\n",
    "# batch = train_images[128 * n:128 * (n+1)]"
   ]
  },
  {
   "cell_type": "markdown",
   "id": "00f42d17",
   "metadata": {},
   "source": [
    "### 텐서의 실제 사례\n",
    "* 벡터 데이터(sample.features)크기의 2D텐서\n",
    "* 시계열 데이터 또는 시퀀스 (sequence) 데이터 : (samples, timesteps, features)크기의 3D텐서\n",
    "* 이미지(samples, height, width, channels) 또는 (samples, channels, height, width) 크기의 4D텐서\n",
    "* 동영상 : (samples, frames, height, width, channels) 또는 (sampels, frames, channels, height, width)크기의 5D텐서\n",
    "\n",
    "### 이미지 데이터\n",
    "* 이미지는 전형적으로 높이, 너비, 컬러 채널의 3차원으로 이루어진다.\n",
    "* 흑백이미지의 channel의 차원 크기는 1입니다.\n",
    "* 256 x 256 크기의 흑백 이미지에 대한 128개의 배치는 (128, 256, 256, 1)크기의 텐서\n",
    "* 256 x 256 크기의 컬러 이미지에 대한 128개의 배치는 (128, 256, 256, 3)크기의 텐서\n",
    "\n",
    "### 비디오 데이터\n",
    "* 프레임의 연속 (frames, height, width, color_depth)의 4D텐서\n",
    "* 여러 비디오의 배치(samples, frames, height, width, color_depth)의 5D텐서로 저장.\n",
    "\n",
    "### 60초 짜리 144 x 256유튜브 비디오 클립을 초당 4프레임으로 샘플링하면 240프레임이 된다.\n",
    "* 클립을 4개 가진 배치는 (4, 240, 144, 256, 3) 크기의 텐서에 저장."
   ]
  },
  {
   "cell_type": "markdown",
   "id": "e37e916a",
   "metadata": {},
   "source": [
    "### 텐서의 크기 변환"
   ]
  },
  {
   "cell_type": "code",
   "execution_count": 34,
   "id": "60225f4d",
   "metadata": {},
   "outputs": [
    {
     "data": {
      "text/plain": [
       "(60000, 784)"
      ]
     },
     "execution_count": 34,
     "metadata": {},
     "output_type": "execute_result"
    }
   ],
   "source": [
    "train_images = train_images.reshape((60000, 28*28))\n",
    "train_images.shape"
   ]
  },
  {
   "cell_type": "code",
   "execution_count": 35,
   "id": "0e3a53d0",
   "metadata": {},
   "outputs": [
    {
     "name": "stdout",
     "output_type": "stream",
     "text": [
      "(3, 2)\n"
     ]
    },
    {
     "data": {
      "text/plain": [
       "(6, 1)"
      ]
     },
     "execution_count": 35,
     "metadata": {},
     "output_type": "execute_result"
    }
   ],
   "source": [
    "x = np.array( [[0. , 1.], \n",
    "               [2. , 3.],\n",
    "               [4. , 5.]])\n",
    "print(x.shape)\n",
    "\n",
    "x1 = x.reshape((6,1))\n",
    "x1.shape"
   ]
  },
  {
   "cell_type": "code",
   "execution_count": null,
   "id": "24bf209d",
   "metadata": {},
   "outputs": [],
   "source": []
  }
 ],
 "metadata": {
  "kernelspec": {
   "display_name": "Python 3 (ipykernel)",
   "language": "python",
   "name": "python3"
  },
  "language_info": {
   "codemirror_mode": {
    "name": "ipython",
    "version": 3
   },
   "file_extension": ".py",
   "mimetype": "text/x-python",
   "name": "python",
   "nbconvert_exporter": "python",
   "pygments_lexer": "ipython3",
   "version": "3.8.8"
  }
 },
 "nbformat": 4,
 "nbformat_minor": 5
}
