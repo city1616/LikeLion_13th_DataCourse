{
 "cells": [
  {
   "cell_type": "markdown",
   "id": "989125a2",
   "metadata": {},
   "source": [
    "### 2021_11_03_4"
   ]
  },
  {
   "cell_type": "markdown",
   "id": "e17ac18b",
   "metadata": {},
   "source": [
    "## Keras Deep Learning - EarlyStopping()\n",
    "* 학습 조기 종료 함수\n",
    "\n",
    "### 학습 조기 종료 시키기\n",
    "* 학습의 조기 종료 함수 - EarlyStopping()\n",
    "* 더 이상의 개선의 여지가 없을 때, 학습을 종료시키는 콜백함수\n",
    "* fit() 함수에서는 EarlyStopping() 콜백함수가 학습 과정 중에 매번 호출됨.\n",
    "\n",
    "### EarlyStopping 지정 방법\n",
    "early_stopping = EarlyStopping()\n",
    "model.fit(X_train, Y_train, nb_epoch = 1000, callbacks =  [early_stopping])\n",
    "\n",
    "### CallBack 함수의 사용인자\n",
    "keras.callbacks.EarlyStopping(monitor = 'val_loss', \n",
    "                              min_delta = 0, \n",
    "                              patience = 0, \n",
    "                              verbose = 0, \n",
    "                              mode = 'auto')\n",
    "                              \n",
    "* monitor : 관찰 항목 (val_loss : 평가 비용 함수)\n",
    "* min_delta : 개선되고 있다는 최소 변화량. 변화량이 적은 경우, 개선이 없음으로 판단.\n",
    "* patience : 개선이 없다고 바로 종료하지 않고, 얼마나 기다려줄지 지정. 10번이라면 10번째 지속될 때, 학습 종료\n",
    "* verbose : 얼마나 자세하게 정보를 볼지(0,1,2)\n",
    "* mode : 관찰 항목에 대해 개선이 없다고 판단할 기준 지정.\n",
    "    * auto : 관찰하는 이름에 따라 자동 지정\n",
    "    * min : 관찰하는 있는 항목이 감소되는 것을 멈출 때 종료\n",
    "    * max : 관찰하고 있는 항목이 증가되는 것을 멈출 때 종료"
   ]
  },
  {
   "cell_type": "code",
   "execution_count": 21,
   "id": "2db98170",
   "metadata": {},
   "outputs": [],
   "source": [
    "from keras.utils import np_utils\n",
    "from keras.datasets import mnist\n",
    "from keras.models import Sequential\n",
    "from keras.layers import Dense, Activation\n",
    "import numpy as np"
   ]
  },
  {
   "cell_type": "markdown",
   "id": "179a2095",
   "metadata": {},
   "source": [
    "### 데이터 나누기"
   ]
  },
  {
   "cell_type": "code",
   "execution_count": 31,
   "id": "cced9b8c",
   "metadata": {},
   "outputs": [
    {
     "name": "stdout",
     "output_type": "stream",
     "text": [
      "(50000, 784) (50000, 10)\n",
      "(10000, 784) (10000, 10)\n",
      "(10000, 784) (10000, 10)\n"
     ]
    }
   ],
   "source": [
    "np.random.seed(3)\n",
    "\n",
    "(X_train, y_train), (X_test, y_test) = mnist.load_data()\n",
    "\n",
    "# 훈련셋과 검증셋 분리\n",
    "X_val = X_train[50000:]\n",
    "y_val = y_train[50000:]\n",
    "X_train = X_train[:50000]\n",
    "y_train = y_train[:50000]\n",
    "\n",
    "X_train = X_train.reshape(50000, 784).astype('float32') / 255.0\n",
    "X_val = X_val.reshape(10000, 784).astype('float32') / 255.0\n",
    "X_test = X_test.reshape(10000, 784).astype('float32') / 255.0\n",
    "\n",
    "# 훈련셋, 검증셋 고르기\n",
    "# train_rand_idxs = np.random.choice(50000, 10000)\n",
    "# val_rand_idxs = np.random.choice(10000, 5000)\n",
    "\n",
    "# X_train = X_train[train_rand_idxs]\n",
    "# y_train = y_train[train_rand_idxs]\n",
    "# X_val = X_val[val_rand_idxs]\n",
    "# y_val = y_val[val_rand_idxs]\n",
    "\n",
    "# 라벨링 전환\n",
    "y_train = np_utils.to_categorical(y_train)\n",
    "y_val = np_utils.to_categorical(y_val)\n",
    "y_test = np_utils.to_categorical(y_test)\n",
    "\n",
    "print(X_train.shape, y_train.shape)\n",
    "print(X_val.shape, y_val.shape)\n",
    "print(X_test.shape, y_test.shape)"
   ]
  },
  {
   "cell_type": "markdown",
   "id": "188252f4",
   "metadata": {},
   "source": [
    "### 모델 구성"
   ]
  },
  {
   "cell_type": "code",
   "execution_count": 32,
   "id": "55605e69",
   "metadata": {},
   "outputs": [],
   "source": [
    "# 모델 구성하기\n",
    "model = Sequential()\n",
    "model.add(Dense(units = 64, input_dim = 28 * 28, activation = 'relu'))\n",
    "model.add(Dense(units = 32, activation = 'relu'))\n",
    "model.add(Dense(units = 10, activation = 'softmax'))\n",
    "\n",
    "# 모델의 오차함수, 최적화 함수 설정\n",
    "model.compile(loss = 'categorical_crossentropy', \n",
    "              optimizer = 'sgd', \n",
    "              metrics = ['accuracy'])"
   ]
  },
  {
   "cell_type": "markdown",
   "id": "0ab36272",
   "metadata": {},
   "source": [
    "### 조기 종료시키기"
   ]
  },
  {
   "cell_type": "code",
   "execution_count": 33,
   "id": "28a90421",
   "metadata": {},
   "outputs": [
    {
     "name": "stdout",
     "output_type": "stream",
     "text": [
      "Epoch 1/3000\n",
      "5000/5000 [==============================] - 4s 795us/step - loss: 0.4774 - accuracy: 0.8621 - val_loss: 0.2415 - val_accuracy: 0.9300\n",
      "Epoch 2/3000\n",
      "5000/5000 [==============================] - 4s 730us/step - loss: 0.2288 - accuracy: 0.9333 - val_loss: 0.1856 - val_accuracy: 0.9467\n",
      "Epoch 3/3000\n",
      "5000/5000 [==============================] - 4s 869us/step - loss: 0.1764 - accuracy: 0.9482 - val_loss: 0.1802 - val_accuracy: 0.9481\n",
      "Epoch 4/3000\n",
      "5000/5000 [==============================] - 3s 687us/step - loss: 0.1463 - accuracy: 0.9572 - val_loss: 0.1347 - val_accuracy: 0.9600\n",
      "Epoch 5/3000\n",
      "5000/5000 [==============================] - 3s 698us/step - loss: 0.1258 - accuracy: 0.9632 - val_loss: 0.1274 - val_accuracy: 0.9634\n",
      "Epoch 6/3000\n",
      "5000/5000 [==============================] - 4s 731us/step - loss: 0.1110 - accuracy: 0.9675 - val_loss: 0.1200 - val_accuracy: 0.9633\n",
      "Epoch 7/3000\n",
      "5000/5000 [==============================] - 4s 724us/step - loss: 0.0980 - accuracy: 0.9713 - val_loss: 0.1175 - val_accuracy: 0.9652\n",
      "Epoch 8/3000\n",
      "5000/5000 [==============================] - 4s 740us/step - loss: 0.0892 - accuracy: 0.9736 - val_loss: 0.1070 - val_accuracy: 0.9678\n",
      "Epoch 9/3000\n",
      "5000/5000 [==============================] - 4s 746us/step - loss: 0.0795 - accuracy: 0.9761 - val_loss: 0.1106 - val_accuracy: 0.9670\n",
      "Epoch 10/3000\n",
      "5000/5000 [==============================] - 4s 746us/step - loss: 0.0717 - accuracy: 0.9785 - val_loss: 0.1065 - val_accuracy: 0.9689\n",
      "Epoch 11/3000\n",
      "5000/5000 [==============================] - 4s 769us/step - loss: 0.0652 - accuracy: 0.9807 - val_loss: 0.0998 - val_accuracy: 0.9710\n",
      "Epoch 12/3000\n",
      "5000/5000 [==============================] - 4s 746us/step - loss: 0.0594 - accuracy: 0.9817 - val_loss: 0.0990 - val_accuracy: 0.9733\n",
      "Epoch 13/3000\n",
      "5000/5000 [==============================] - 4s 746us/step - loss: 0.0540 - accuracy: 0.9838 - val_loss: 0.1124 - val_accuracy: 0.9680\n",
      "Epoch 14/3000\n",
      "5000/5000 [==============================] - 4s 746us/step - loss: 0.0499 - accuracy: 0.9847 - val_loss: 0.0943 - val_accuracy: 0.9739\n",
      "Epoch 15/3000\n",
      "5000/5000 [==============================] - 4s 765us/step - loss: 0.0455 - accuracy: 0.9858 - val_loss: 0.0936 - val_accuracy: 0.9749\n",
      "Epoch 16/3000\n",
      "5000/5000 [==============================] - 4s 798us/step - loss: 0.0413 - accuracy: 0.9874 - val_loss: 0.0977 - val_accuracy: 0.9740\n",
      "Epoch 17/3000\n",
      "5000/5000 [==============================] - 4s 773us/step - loss: 0.0380 - accuracy: 0.9888 - val_loss: 0.1035 - val_accuracy: 0.9726\n",
      "Epoch 18/3000\n",
      "5000/5000 [==============================] - 4s 872us/step - loss: 0.0350 - accuracy: 0.9895 - val_loss: 0.0955 - val_accuracy: 0.9738\n",
      "Epoch 19/3000\n",
      "5000/5000 [==============================] - 4s 779us/step - loss: 0.0323 - accuracy: 0.9905 - val_loss: 0.0973 - val_accuracy: 0.9734\n",
      "Epoch 20/3000\n",
      "5000/5000 [==============================] - 4s 745us/step - loss: 0.0287 - accuracy: 0.9920 - val_loss: 0.1037 - val_accuracy: 0.9718\n",
      "Epoch 21/3000\n",
      "5000/5000 [==============================] - 4s 804us/step - loss: 0.0263 - accuracy: 0.9929 - val_loss: 0.1041 - val_accuracy: 0.9723\n",
      "Epoch 22/3000\n",
      "5000/5000 [==============================] - 4s 813us/step - loss: 0.0239 - accuracy: 0.9936 - val_loss: 0.0999 - val_accuracy: 0.9731\n",
      "Epoch 23/3000\n",
      "5000/5000 [==============================] - 4s 776us/step - loss: 0.0224 - accuracy: 0.9937 - val_loss: 0.1021 - val_accuracy: 0.9744\n",
      "Epoch 24/3000\n",
      "5000/5000 [==============================] - 4s 795us/step - loss: 0.0210 - accuracy: 0.9942 - val_loss: 0.0969 - val_accuracy: 0.9755\n",
      "Epoch 25/3000\n",
      "5000/5000 [==============================] - 5s 959us/step - loss: 0.0188 - accuracy: 0.9953 - val_loss: 0.0973 - val_accuracy: 0.9750\n",
      "Epoch 26/3000\n",
      "5000/5000 [==============================] - 6s 1ms/step - loss: 0.0173 - accuracy: 0.9957 - val_loss: 0.0963 - val_accuracy: 0.9759\n",
      "Epoch 27/3000\n",
      "5000/5000 [==============================] - 6s 1ms/step - loss: 0.0152 - accuracy: 0.9968 - val_loss: 0.0988 - val_accuracy: 0.9763\n",
      "Epoch 28/3000\n",
      "5000/5000 [==============================] - 6s 1ms/step - loss: 0.0139 - accuracy: 0.9971 - val_loss: 0.0963 - val_accuracy: 0.9753\n",
      "Epoch 29/3000\n",
      "5000/5000 [==============================] - 5s 1ms/step - loss: 0.0127 - accuracy: 0.9973 - val_loss: 0.1083 - val_accuracy: 0.9729\n",
      "Epoch 30/3000\n",
      "5000/5000 [==============================] - 5s 1ms/step - loss: 0.0119 - accuracy: 0.9977 - val_loss: 0.1059 - val_accuracy: 0.9745\n",
      "Epoch 31/3000\n",
      "5000/5000 [==============================] - 4s 900us/step - loss: 0.0105 - accuracy: 0.9981 - val_loss: 0.1060 - val_accuracy: 0.9743\n",
      "Epoch 32/3000\n",
      "5000/5000 [==============================] - 4s 846us/step - loss: 0.0097 - accuracy: 0.9986 - val_loss: 0.1035 - val_accuracy: 0.9762\n",
      "Epoch 33/3000\n",
      "5000/5000 [==============================] - 4s 813us/step - loss: 0.0090 - accuracy: 0.9986 - val_loss: 0.1079 - val_accuracy: 0.9740\n",
      "Epoch 34/3000\n",
      "5000/5000 [==============================] - 4s 798us/step - loss: 0.0083 - accuracy: 0.9988 - val_loss: 0.1092 - val_accuracy: 0.9752\n",
      "Epoch 35/3000\n",
      "5000/5000 [==============================] - 4s 805us/step - loss: 0.0076 - accuracy: 0.9991 - val_loss: 0.1093 - val_accuracy: 0.9744\n",
      "Epoch 36/3000\n",
      "5000/5000 [==============================] - 4s 824us/step - loss: 0.0066 - accuracy: 0.9993 - val_loss: 0.1104 - val_accuracy: 0.9755\n",
      "Epoch 37/3000\n",
      "5000/5000 [==============================] - 4s 827us/step - loss: 0.0061 - accuracy: 0.9994 - val_loss: 0.1074 - val_accuracy: 0.9759\n",
      "Epoch 38/3000\n",
      "5000/5000 [==============================] - 4s 811us/step - loss: 0.0060 - accuracy: 0.9993 - val_loss: 0.1106 - val_accuracy: 0.9752\n",
      "Epoch 39/3000\n",
      "5000/5000 [==============================] - 5s 943us/step - loss: 0.0052 - accuracy: 0.9994 - val_loss: 0.1101 - val_accuracy: 0.9761\n",
      "Epoch 40/3000\n",
      "5000/5000 [==============================] - 5s 1ms/step - loss: 0.0049 - accuracy: 0.9996 - val_loss: 0.1106 - val_accuracy: 0.9754\n",
      "Epoch 41/3000\n",
      "5000/5000 [==============================] - 5s 940us/step - loss: 0.0044 - accuracy: 0.9997 - val_loss: 0.1138 - val_accuracy: 0.9752\n",
      "Epoch 42/3000\n",
      "5000/5000 [==============================] - 5s 903us/step - loss: 0.0043 - accuracy: 0.9996 - val_loss: 0.1103 - val_accuracy: 0.9765\n",
      "Epoch 43/3000\n",
      "5000/5000 [==============================] - 5s 922us/step - loss: 0.0039 - accuracy: 0.9997 - val_loss: 0.1108 - val_accuracy: 0.9771\n",
      "Epoch 44/3000\n",
      "5000/5000 [==============================] - 4s 897us/step - loss: 0.0035 - accuracy: 0.9997 - val_loss: 0.1159 - val_accuracy: 0.9763\n",
      "Epoch 45/3000\n",
      "5000/5000 [==============================] - 4s 884us/step - loss: 0.0033 - accuracy: 0.9998 - val_loss: 0.1156 - val_accuracy: 0.9756\n"
     ]
    }
   ],
   "source": [
    "# 모델 학습시키기\n",
    "from keras.callbacks import EarlyStopping\n",
    "\n",
    "# early_stopping = EarlyStopping() # 조기종료 콜백함수 정의\n",
    "early_stopping = EarlyStopping(patience = 30) # 조기종료 콜백함수 정의\n",
    "\n",
    "hist = model.fit(X_train, y_train, \n",
    "                 epochs = 3000, \n",
    "                 batch_size = 10, \n",
    "                 validation_data = (X_val, y_val), \n",
    "                 callbacks = [early_stopping])"
   ]
  },
  {
   "cell_type": "code",
   "execution_count": 34,
   "id": "8024c363",
   "metadata": {},
   "outputs": [
    {
     "data": {
      "text/plain": [
       "dict_keys(['loss', 'accuracy', 'val_loss', 'val_accuracy'])"
      ]
     },
     "execution_count": 34,
     "metadata": {},
     "output_type": "execute_result"
    }
   ],
   "source": [
    "hist.history.keys()"
   ]
  },
  {
   "cell_type": "markdown",
   "id": "e67e5248",
   "metadata": {},
   "source": [
    "### 모델 학습 과정 표시"
   ]
  },
  {
   "cell_type": "code",
   "execution_count": 35,
   "id": "4438e8d3",
   "metadata": {},
   "outputs": [
    {
     "data": {
      "image/png": "[encoded data removed]",
      "text/plain": [
       "<Figure size 432x288 with 2 Axes>"
      ]
     },
     "metadata": {
      "needs_background": "light"
     },
     "output_type": "display_data"
    }
   ],
   "source": [
    "# 모델 학습 과정 표시하기\n",
    "%matplotlib inline\n",
    "import matplotlib.pyplot as plt\n",
    "\n",
    "fig, loss_ax = plt.subplots()\n",
    "\n",
    "acc_ax = loss_ax.twinx()\n",
    "\n",
    "loss_ax.plot(hist.history['loss'], 'y', label = 'train loss')\n",
    "loss_ax.plot(hist.history['val_loss'], 'r', label = 'val loss')\n",
    "\n",
    "acc_ax.plot(hist.history['accuracy'], 'b', label = 'train acc')\n",
    "acc_ax.plot(hist.history['val_accuracy'], 'g', label = 'val acc')\n",
    "\n",
    "loss_ax.set_xlabel('epoch')\n",
    "loss_ax.set_ylabel('loss')\n",
    "acc_ax.set_ylabel('accuray')\n",
    "\n",
    "loss_ax.legend(loc = 'upper left')\n",
    "acc_ax.legend(loc = 'lower left')\n",
    "\n",
    "plt.show()"
   ]
  },
  {
   "cell_type": "markdown",
   "id": "25b12587",
   "metadata": {},
   "source": [
    "### 모델 평가하기"
   ]
  },
  {
   "cell_type": "code",
   "execution_count": 36,
   "id": "4c4f4d17",
   "metadata": {},
   "outputs": [
    {
     "name": "stdout",
     "output_type": "stream",
     "text": [
      "313/313 [==============================] - 0s 1ms/step - loss: 0.1109 - accuracy: 0.9742\n",
      "\n",
      "loss : 0.11086329072713852\n",
      "accuray : 0.9742000102996826\n"
     ]
    }
   ],
   "source": [
    "# 모델 평가하기\n",
    "loss_and_metrics = model.evaluate(X_test, y_test, batch_size = 32)\n",
    "\n",
    "print('')\n",
    "print('loss : ' + str(loss_and_metrics[0]))\n",
    "print('accuray : ' + str(loss_and_metrics[1]))"
   ]
  },
  {
   "cell_type": "code",
   "execution_count": null,
   "id": "0c4d0cee",
   "metadata": {},
   "outputs": [],
   "source": []
  }
 ],
 "metadata": {
  "kernelspec": {
   "display_name": "Python 3 (ipykernel)",
   "language": "python",
   "name": "python3"
  },
  "language_info": {
   "codemirror_mode": {
    "name": "ipython",
    "version": 3
   },
   "file_extension": ".py",
   "mimetype": "text/x-python",
   "name": "python",
   "nbconvert_exporter": "python",
   "pygments_lexer": "ipython3",
   "version": "3.8.8"
  }
 },
 "nbformat": 4,
 "nbformat_minor": 5
}
