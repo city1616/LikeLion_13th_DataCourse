{
 "cells": [
  {
   "cell_type": "code",
   "execution_count": 2,
   "metadata": {
    "_cell_guid": "b1076dfc-b9ad-4769-8c92-a6c4dae69d19",
    "_uuid": "8f2839f25d086af736a60e9eeb907d3b93b6e0e5",
    "execution": {
     "iopub.execute_input": "2021-10-22T05:15:53.118473Z",
     "iopub.status.busy": "2021-10-22T05:15:53.118262Z",
     "iopub.status.idle": "2021-10-22T05:15:53.124703Z",
     "shell.execute_reply": "2021-10-22T05:15:53.123856Z",
     "shell.execute_reply.started": "2021-10-22T05:15:53.118448Z"
    }
   },
   "outputs": [],
   "source": [
    "import os\n",
    "import pandas as pd\n",
    "\n",
    "PATH = '../input/jigsaw-unintended-bias-in-toxicity-classification/'\n",
    "os.listdir(PATH)"
   ]
  },
  {
   "cell_type": "code",
   "execution_count": 3,
   "metadata": {
    "execution": {
     "iopub.execute_input": "2021-10-22T05:15:55.328998Z",
     "iopub.status.busy": "2021-10-22T05:15:55.328279Z",
     "iopub.status.idle": "2021-10-22T05:15:56.316465Z",
     "shell.execute_reply": "2021-10-22T05:15:56.315524Z",
     "shell.execute_reply.started": "2021-10-22T05:15:55.328940Z"
    }
   },
   "outputs": [],
   "source": [
    "test = pd.read_csv(PATH + 'test.csv')"
   ]
  },
  {
   "cell_type": "code",
   "execution_count": 4,
   "metadata": {
    "execution": {
     "iopub.execute_input": "2021-10-22T05:15:56.894656Z",
     "iopub.status.busy": "2021-10-22T05:15:56.894378Z",
     "iopub.status.idle": "2021-10-22T05:15:56.917342Z",
     "shell.execute_reply": "2021-10-22T05:15:56.916297Z",
     "shell.execute_reply.started": "2021-10-22T05:15:56.894628Z"
    }
   },
   "outputs": [],
   "source": [
    "test"
   ]
  },
  {
   "cell_type": "code",
   "execution_count": 6,
   "metadata": {
    "execution": {
     "iopub.execute_input": "2021-10-22T05:10:48.130352Z",
     "iopub.status.busy": "2021-10-22T05:10:48.130063Z",
     "iopub.status.idle": "2021-10-22T05:10:48.139480Z",
     "shell.execute_reply": "2021-10-22T05:10:48.138487Z",
     "shell.execute_reply.started": "2021-10-22T05:10:48.130317Z"
    }
   },
   "outputs": [],
   "source": [
    "test[\"comment_text\"][0]"
   ]
  },
  {
   "cell_type": "code",
   "execution_count": 7,
   "metadata": {
    "execution": {
     "iopub.execute_input": "2021-10-22T05:10:48.620410Z",
     "iopub.status.busy": "2021-10-22T05:10:48.619983Z",
     "iopub.status.idle": "2021-10-22T05:10:49.512302Z",
     "shell.execute_reply": "2021-10-22T05:10:49.511391Z",
     "shell.execute_reply.started": "2021-10-22T05:10:48.620360Z"
    }
   },
   "outputs": [],
   "source": [
    "test[\"word\"] = test[\"comment_text\"].str.split(\" \")"
   ]
  },
  {
   "cell_type": "code",
   "execution_count": 8,
   "metadata": {
    "execution": {
     "iopub.execute_input": "2021-10-22T05:10:49.514270Z",
     "iopub.status.busy": "2021-10-22T05:10:49.514030Z",
     "iopub.status.idle": "2021-10-22T05:10:49.520947Z",
     "shell.execute_reply": "2021-10-22T05:10:49.519953Z",
     "shell.execute_reply.started": "2021-10-22T05:10:49.514240Z"
    }
   },
   "outputs": [],
   "source": [
    "test[\"word\"][0]"
   ]
  },
  {
   "cell_type": "code",
   "execution_count": null,
   "metadata": {
    "execution": {
     "iopub.execute_input": "2021-10-22T05:11:40.663807Z",
     "iopub.status.busy": "2021-10-22T05:11:40.662882Z"
    }
   },
   "outputs": [],
   "source": [
    "word = test[\"comment_text\"].str.split(\" \").to_list()\n",
    "ps = pd.Series(word)\n",
    "ps.value_counts()"
   ]
  },
  {
   "cell_type": "code",
   "execution_count": 20,
   "metadata": {
    "execution": {
     "iopub.execute_input": "2021-10-22T04:48:40.478374Z",
     "iopub.status.busy": "2021-10-22T04:48:40.477722Z",
     "iopub.status.idle": "2021-10-22T04:48:45.019937Z",
     "shell.execute_reply": "2021-10-22T04:48:45.019009Z",
     "shell.execute_reply.started": "2021-10-22T04:48:40.478334Z"
    }
   },
   "outputs": [],
   "source": [
    "d = dict()\n",
    "    \n",
    "for i in test['comment_text'].str.split(' '):\n",
    "    for w in i:\n",
    "            if w in d:\n",
    "                d[w] = d[w] + 1\n",
    "            else:\n",
    "                d[w] = 1\n",
    "d"
   ]
  },
  {
   "cell_type": "markdown",
   "metadata": {},
   "source": [
    "### 텍스트에 존재하는 단어 카운트"
   ]
  },
  {
   "cell_type": "code",
   "execution_count": 5,
   "metadata": {
    "execution": {
     "iopub.execute_input": "2021-10-22T05:16:06.285167Z",
     "iopub.status.busy": "2021-10-22T05:16:06.284832Z",
     "iopub.status.idle": "2021-10-22T05:16:06.289890Z",
     "shell.execute_reply": "2021-10-22T05:16:06.288478Z",
     "shell.execute_reply.started": "2021-10-22T05:16:06.285133Z"
    }
   },
   "outputs": [],
   "source": [
    "from itertools import chain"
   ]
  },
  {
   "cell_type": "code",
   "execution_count": 10,
   "metadata": {
    "execution": {
     "iopub.execute_input": "2021-10-22T05:16:57.491668Z",
     "iopub.status.busy": "2021-10-22T05:16:57.490512Z",
     "iopub.status.idle": "2021-10-22T05:17:00.102999Z",
     "shell.execute_reply": "2021-10-22T05:17:00.102140Z",
     "shell.execute_reply.started": "2021-10-22T05:16:57.491582Z"
    }
   },
   "outputs": [],
   "source": [
    "a = test[\"comment_text\"].str.split(\" \")\n",
    "word_list = list(chain.from_iterable(a))\n",
    "pd.Series(word_list).value_counts()"
   ]
  },
  {
   "cell_type": "code",
   "execution_count": 7,
   "metadata": {
    "execution": {
     "iopub.execute_input": "2021-10-22T05:16:15.442960Z",
     "iopub.status.busy": "2021-10-22T05:16:15.442348Z",
     "iopub.status.idle": "2021-10-22T05:16:16.477338Z",
     "shell.execute_reply": "2021-10-22T05:16:16.476694Z",
     "shell.execute_reply.started": "2021-10-22T05:16:15.442906Z"
    }
   },
   "outputs": [],
   "source": [
    "from collections import Counter\n",
    "c = Counter(word_list)\n",
    "c"
   ]
  },
  {
   "cell_type": "code",
   "execution_count": 11,
   "metadata": {
    "execution": {
     "iopub.execute_input": "2021-10-22T05:18:16.065742Z",
     "iopub.status.busy": "2021-10-22T05:18:16.065413Z",
     "iopub.status.idle": "2021-10-22T05:18:18.491007Z",
     "shell.execute_reply": "2021-10-22T05:18:18.490129Z",
     "shell.execute_reply.started": "2021-10-22T05:18:16.065708Z"
    }
   },
   "outputs": [],
   "source": [
    "from itertools import chain\n",
    "from collections import Counter\n",
    "\n",
    "test = pd.read_csv(PATH + '/test.csv')\n",
    "test_str_list = test['comment_text'].str.split(' ')\n",
    "\n",
    "word_list = list(chain.from_iterable(test_str_list))\n",
    "c = Counter(word_list)"
   ]
  },
  {
   "cell_type": "code",
   "execution_count": 1,
   "metadata": {},
   "outputs": [],
   "source": [
    "from tqdm import tqdm"
   ]
  },
  {
   "cell_type": "code",
   "execution_count": null,
   "metadata": {},
   "outputs": [],
   "source": [
    "for i in tqdm(train.iterrows()) :\n",
    "    "
   ]
  },
  {
   "cell_type": "code",
   "execution_count": null,
   "metadata": {},
   "outputs": [],
   "source": [
    "a = train[\"comment_text\"].str.split()\n",
    "for i in a :"
   ]
  },
  {
   "cell_type": "code",
   "execution_count": null,
   "metadata": {},
   "outputs": [],
   "source": [
    "train[\"comment_text\"].map(lambda x: x.split())"
   ]
  }
 ],
 "metadata": {
  "kernelspec": {
   "display_name": "Python 3 (ipykernel)",
   "language": "python",
   "name": "python3"
  },
  "language_info": {
   "codemirror_mode": {
    "name": "ipython",
    "version": 3
   },
   "file_extension": ".py",
   "mimetype": "text/x-python",
   "name": "python",
   "nbconvert_exporter": "python",
   "pygments_lexer": "ipython3",
   "version": "3.8.8"
  }
 },
 "nbformat": 4,
 "nbformat_minor": 4
}
