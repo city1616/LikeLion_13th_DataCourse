{
 "cells": [
  {
   "cell_type": "markdown",
   "id": "c07901b1",
   "metadata": {},
   "source": [
    "### 2021_10_21_8"
   ]
  },
  {
   "cell_type": "markdown",
   "id": "579a8525",
   "metadata": {},
   "source": [
    "## 새로운 특성(feature)를 선택하는 방법\n",
    "\n",
    "* 일변량 통계(univariate statistics)\n",
    "* 모델 기반 선택(model-based selection)\n",
    "* 반복적 선택(iterative selection)"
   ]
  },
  {
   "cell_type": "markdown",
   "id": "18b9fada",
   "metadata": {},
   "source": [
    "### 일변량 통계(F-통계량)\n",
    "\n",
    "* 개개의 특성과 타깃(목표변수) 사이에 중요한 통계적 관계가 있는지 계산\n",
    "* 분류에서는 분산분석(ANOVA)라고 한다.\n",
    "* 각 특성(feature)이 독립적으로 평가.\n",
    "* 계산이 매우 빠르고 평가를 위한 모델을 만들 필요가 없음.\n",
    "* SelectPercentile에서 특성을 선택하는 기준은 F-값. 값이 클수록 클래스 평균의 분산이 비교적 크다."
   ]
  },
  {
   "cell_type": "markdown",
   "id": "485d36a7",
   "metadata": {},
   "source": [
    "### 분류 - f_classif, 회귀 - f_regression"
   ]
  },
  {
   "cell_type": "code",
   "execution_count": 1,
   "id": "32f4685b",
   "metadata": {},
   "outputs": [],
   "source": [
    "import warnings\n",
    "warnings.filterwarnings(action='ignore')\n",
    "# warnings.filterwarnings(action='default')"
   ]
  },
  {
   "cell_type": "code",
   "execution_count": 13,
   "id": "95691e0d",
   "metadata": {},
   "outputs": [],
   "source": [
    "from sklearn.feature_selection import SelectPercentile\n",
    "from sklearn.feature_selection import f_regression\n",
    "\n",
    "from sklearn.datasets import load_boston\n",
    "from sklearn.preprocessing import MinMaxScaler, PolynomialFeatures\n",
    "\n",
    "from sklearn.model_selection import train_test_split\n",
    "from sklearn.linear_model import LinearRegression\n",
    "from sklearn.ensemble import RandomForestRegressor\n",
    "\n",
    "import pandas as pd\n",
    "import numpy as np"
   ]
  },
  {
   "cell_type": "code",
   "execution_count": 3,
   "id": "71c49c6b",
   "metadata": {},
   "outputs": [
    {
     "data": {
      "text/html": [
       "<div>\n",
       "<style scoped>\n",
       "    .dataframe tbody tr th:only-of-type {\n",
       "        vertical-align: middle;\n",
       "    }\n",
       "\n",
       "    .dataframe tbody tr th {\n",
       "        vertical-align: top;\n",
       "    }\n",
       "\n",
       "    .dataframe thead th {\n",
       "        text-align: right;\n",
       "    }\n",
       "</style>\n",
       "<table border=\"1\" class=\"dataframe\">\n",
       "  <thead>\n",
       "    <tr style=\"text-align: right;\">\n",
       "      <th></th>\n",
       "      <th>CRIM</th>\n",
       "      <th>ZN</th>\n",
       "      <th>INDUS</th>\n",
       "      <th>CHAS</th>\n",
       "      <th>NOX</th>\n",
       "      <th>RM</th>\n",
       "      <th>AGE</th>\n",
       "      <th>DIS</th>\n",
       "      <th>RAD</th>\n",
       "      <th>TAX</th>\n",
       "      <th>PTRATIO</th>\n",
       "      <th>B</th>\n",
       "      <th>LSTAT</th>\n",
       "      <th>target</th>\n",
       "    </tr>\n",
       "  </thead>\n",
       "  <tbody>\n",
       "    <tr>\n",
       "      <th>0</th>\n",
       "      <td>0.00632</td>\n",
       "      <td>18.0</td>\n",
       "      <td>2.31</td>\n",
       "      <td>0.0</td>\n",
       "      <td>0.538</td>\n",
       "      <td>6.575</td>\n",
       "      <td>65.2</td>\n",
       "      <td>4.0900</td>\n",
       "      <td>1.0</td>\n",
       "      <td>296.0</td>\n",
       "      <td>15.3</td>\n",
       "      <td>396.90</td>\n",
       "      <td>4.98</td>\n",
       "      <td>24.0</td>\n",
       "    </tr>\n",
       "    <tr>\n",
       "      <th>1</th>\n",
       "      <td>0.02731</td>\n",
       "      <td>0.0</td>\n",
       "      <td>7.07</td>\n",
       "      <td>0.0</td>\n",
       "      <td>0.469</td>\n",
       "      <td>6.421</td>\n",
       "      <td>78.9</td>\n",
       "      <td>4.9671</td>\n",
       "      <td>2.0</td>\n",
       "      <td>242.0</td>\n",
       "      <td>17.8</td>\n",
       "      <td>396.90</td>\n",
       "      <td>9.14</td>\n",
       "      <td>21.6</td>\n",
       "    </tr>\n",
       "    <tr>\n",
       "      <th>2</th>\n",
       "      <td>0.02729</td>\n",
       "      <td>0.0</td>\n",
       "      <td>7.07</td>\n",
       "      <td>0.0</td>\n",
       "      <td>0.469</td>\n",
       "      <td>7.185</td>\n",
       "      <td>61.1</td>\n",
       "      <td>4.9671</td>\n",
       "      <td>2.0</td>\n",
       "      <td>242.0</td>\n",
       "      <td>17.8</td>\n",
       "      <td>392.83</td>\n",
       "      <td>4.03</td>\n",
       "      <td>34.7</td>\n",
       "    </tr>\n",
       "    <tr>\n",
       "      <th>3</th>\n",
       "      <td>0.03237</td>\n",
       "      <td>0.0</td>\n",
       "      <td>2.18</td>\n",
       "      <td>0.0</td>\n",
       "      <td>0.458</td>\n",
       "      <td>6.998</td>\n",
       "      <td>45.8</td>\n",
       "      <td>6.0622</td>\n",
       "      <td>3.0</td>\n",
       "      <td>222.0</td>\n",
       "      <td>18.7</td>\n",
       "      <td>394.63</td>\n",
       "      <td>2.94</td>\n",
       "      <td>33.4</td>\n",
       "    </tr>\n",
       "    <tr>\n",
       "      <th>4</th>\n",
       "      <td>0.06905</td>\n",
       "      <td>0.0</td>\n",
       "      <td>2.18</td>\n",
       "      <td>0.0</td>\n",
       "      <td>0.458</td>\n",
       "      <td>7.147</td>\n",
       "      <td>54.2</td>\n",
       "      <td>6.0622</td>\n",
       "      <td>3.0</td>\n",
       "      <td>222.0</td>\n",
       "      <td>18.7</td>\n",
       "      <td>396.90</td>\n",
       "      <td>5.33</td>\n",
       "      <td>36.2</td>\n",
       "    </tr>\n",
       "  </tbody>\n",
       "</table>\n",
       "</div>"
      ],
      "text/plain": [
       "      CRIM    ZN  INDUS  CHAS    NOX     RM   AGE     DIS  RAD    TAX  \\\n",
       "0  0.00632  18.0   2.31   0.0  0.538  6.575  65.2  4.0900  1.0  296.0   \n",
       "1  0.02731   0.0   7.07   0.0  0.469  6.421  78.9  4.9671  2.0  242.0   \n",
       "2  0.02729   0.0   7.07   0.0  0.469  7.185  61.1  4.9671  2.0  242.0   \n",
       "3  0.03237   0.0   2.18   0.0  0.458  6.998  45.8  6.0622  3.0  222.0   \n",
       "4  0.06905   0.0   2.18   0.0  0.458  7.147  54.2  6.0622  3.0  222.0   \n",
       "\n",
       "   PTRATIO       B  LSTAT  target  \n",
       "0     15.3  396.90   4.98    24.0  \n",
       "1     17.8  396.90   9.14    21.6  \n",
       "2     17.8  392.83   4.03    34.7  \n",
       "3     18.7  394.63   2.94    33.4  \n",
       "4     18.7  396.90   5.33    36.2  "
      ]
     },
     "execution_count": 3,
     "metadata": {},
     "output_type": "execute_result"
    }
   ],
   "source": [
    "boston = load_boston()\n",
    "\n",
    "df_boston = pd.DataFrame(boston.data, columns=boston.feature_names)\n",
    "df_boston['target'] = pd.Series(boston.target)\n",
    "df_boston.head()"
   ]
  },
  {
   "cell_type": "markdown",
   "id": "bc5de5b4",
   "metadata": {},
   "source": [
    "### 정규화(0 ~ 1)"
   ]
  },
  {
   "cell_type": "code",
   "execution_count": 5,
   "id": "56df77b6",
   "metadata": {},
   "outputs": [
    {
     "name": "stdout",
     "output_type": "stream",
     "text": [
      "정규화, 확장 전 데이터 셋 :  (506, 13) (506,)\n"
     ]
    }
   ],
   "source": [
    "# 입력 데이터와 출력데이터를 지정해준다.\n",
    "X = df_boston.loc[ : , 'CRIM':'LSTAT']\n",
    "y = boston.target\n",
    "print(\"정규화, 확장 전 데이터 셋 : \", X.shape, y.shape)"
   ]
  },
  {
   "cell_type": "code",
   "execution_count": 7,
   "id": "7b03d406",
   "metadata": {},
   "outputs": [
    {
     "name": "stdout",
     "output_type": "stream",
     "text": [
      "[[0.00000000e+00 1.80000000e-01 6.78152493e-02 ... 2.87234043e-01\n",
      "  1.00000000e+00 8.96799117e-02]\n",
      " [2.35922539e-04 0.00000000e+00 2.42302053e-01 ... 5.53191489e-01\n",
      "  1.00000000e+00 2.04470199e-01]\n",
      " [2.35697744e-04 0.00000000e+00 2.42302053e-01 ... 5.53191489e-01\n",
      "  9.89737254e-01 6.34657837e-02]\n",
      " ...\n",
      " [6.11892474e-04 0.00000000e+00 4.20454545e-01 ... 8.93617021e-01\n",
      "  1.00000000e+00 1.07891832e-01]\n",
      " [1.16072990e-03 0.00000000e+00 4.20454545e-01 ... 8.93617021e-01\n",
      "  9.91300620e-01 1.31070640e-01]\n",
      " [4.61841693e-04 0.00000000e+00 4.20454545e-01 ... 8.93617021e-01\n",
      "  1.00000000e+00 1.69701987e-01]]\n"
     ]
    },
    {
     "data": {
      "text/plain": [
       "(0.0, 1.0)"
      ]
     },
     "execution_count": 7,
     "metadata": {},
     "output_type": "execute_result"
    }
   ],
   "source": [
    "## 값을 전체적으로 0 ~ 1로 사이로 만들기 \n",
    "nor_X = MinMaxScaler().fit_transform(X)\n",
    "print(nor_X)\n",
    "nor_X.min(), nor_X.max()"
   ]
  },
  {
   "cell_type": "markdown",
   "id": "d5fbde44",
   "metadata": {},
   "source": [
    "### 변수와 변수간의 상호작용을 통해 특징을 생성"
   ]
  },
  {
   "cell_type": "code",
   "execution_count": 8,
   "id": "7f44238f",
   "metadata": {},
   "outputs": [
    {
     "name": "stdout",
     "output_type": "stream",
     "text": [
      "(506, 104)\n"
     ]
    }
   ],
   "source": [
    "ex_X = PolynomialFeatures(degree = 2, include_bias = False).fit_transform(nor_X)\n",
    "print(ex_X.shape)"
   ]
  },
  {
   "cell_type": "code",
   "execution_count": 16,
   "id": "c6d4b0bb",
   "metadata": {},
   "outputs": [],
   "source": [
    "X = ex_X          # 입력\n",
    "y = boston.target # 출력\n",
    "\n",
    "X_train, X_test, y_train, y_test = train_test_split(X, y, \n",
    "                                                    random_state=0,\n",
    "                                                    test_size=0.5)"
   ]
  },
  {
   "cell_type": "code",
   "execution_count": 11,
   "id": "3057550d",
   "metadata": {},
   "outputs": [
    {
     "data": {
      "text/plain": [
       "((253, 104), (253, 104))"
      ]
     },
     "execution_count": 11,
     "metadata": {},
     "output_type": "execute_result"
    }
   ],
   "source": [
    "X_train.shape, X_test.shape"
   ]
  },
  {
   "cell_type": "markdown",
   "id": "725fad71",
   "metadata": {},
   "source": [
    "### 전체 특징 다 사용"
   ]
  },
  {
   "cell_type": "code",
   "execution_count": 15,
   "id": "aa3986b4",
   "metadata": {},
   "outputs": [
    {
     "data": {
      "text/plain": [
       "0.6637958337554006"
      ]
     },
     "execution_count": 15,
     "metadata": {},
     "output_type": "execute_result"
    }
   ],
   "source": [
    "model = LinearRegression()\n",
    "model.fit(X_train, y_train)\n",
    "model.score(X_test, y_test)"
   ]
  },
  {
   "cell_type": "markdown",
   "id": "41fe0645",
   "metadata": {},
   "source": [
    "### 특징 줄여서 사용"
   ]
  },
  {
   "cell_type": "code",
   "execution_count": 26,
   "id": "d5b80f9d",
   "metadata": {},
   "outputs": [
    {
     "name": "stdout",
     "output_type": "stream",
     "text": [
      "X_train.shape: (253, 104)\n",
      "X_train_selected.shape (253, 52)\n"
     ]
    }
   ],
   "source": [
    "X = ex_X          # 입력\n",
    "y = boston.target # 출력\n",
    "\n",
    "X_train, X_test, y_train, y_test = train_test_split(X, y, \n",
    "                                                    random_state = 0,\n",
    "                                                    test_size = 0.5)\n",
    "\n",
    "### 50%의 특징 추출\n",
    "select = SelectPercentile(score_func = f_regression, percentile = 50)\n",
    "select.fit(X_train, y_train)\n",
    "\n",
    "## 학습 세트에 적용\n",
    "X_tr_selected = select.transform(X_train)\n",
    "# 테스트 데이터 변환\n",
    "X_test_selected = select.transform(X_test)\n",
    "\n",
    "print( \"X_train.shape:\", X_train.shape)\n",
    "print( \"X_train_selected.shape\", X_tr_selected.shape)"
   ]
  },
  {
   "cell_type": "markdown",
   "id": "01322d49",
   "metadata": {},
   "source": [
    "* 결과를 통해 특징 개수가 104개에서 52개로 줄어든 것을 확인할 수 있다."
   ]
  },
  {
   "cell_type": "markdown",
   "id": "18192f3f",
   "metadata": {},
   "source": [
    "### 선택한 데이터 확인"
   ]
  },
  {
   "cell_type": "code",
   "execution_count": 27,
   "id": "7b975192",
   "metadata": {},
   "outputs": [
    {
     "name": "stdout",
     "output_type": "stream",
     "text": [
      "[ True  True  True False  True  True False False False  True  True False\n",
      "  True False False  True False  True False  True  True False  True  True\n",
      " False  True False False False  True  True  True False False False False\n",
      "  True False  True False  True False  True False  True  True  True False\n",
      "  True False False False False False False False False False False  True\n",
      " False  True False  True  True  True False  True  True False  True False\n",
      " False False  True  True  True False  True  True  True False  True False\n",
      " False False False False False  True  True  True False  True  True  True\n",
      " False  True  True False  True False  True  True]\n"
     ]
    },
    {
     "data": {
      "text/plain": [
       "<matplotlib.image.AxesImage at 0x7ffc0525fac0>"
      ]
     },
     "execution_count": 27,
     "metadata": {},
     "output_type": "execute_result"
    },
    {
     "data": {
      "image/png": "[encoded data removed]",
      "text/plain": [
       "<Figure size 1152x144 with 1 Axes>"
      ]
     },
     "metadata": {
      "needs_background": "light"
     },
     "output_type": "display_data"
    }
   ],
   "source": [
    "import matplotlib.pyplot as plt\n",
    "\n",
    "### 어떤 특성이 선택되었는지 확인\n",
    "mask = select.get_support()\n",
    "print(mask)\n",
    "plt.matshow(mask.reshape(1, -1), cmap='gray_r')"
   ]
  },
  {
   "cell_type": "markdown",
   "id": "cc007850",
   "metadata": {},
   "source": [
    "### 전체 특성을 사용한 점수, 선택된 특성을 사용한 점수"
   ]
  },
  {
   "cell_type": "code",
   "execution_count": 28,
   "id": "0427c3ec",
   "metadata": {},
   "outputs": [
    {
     "name": "stdout",
     "output_type": "stream",
     "text": [
      "전체 특성 사용 : 0.664\n",
      "선택된 일부 특성 사용 : 0.758\n"
     ]
    }
   ],
   "source": [
    "lr = LinearRegression()\n",
    "lr.fit(X_train, y_train)\n",
    "print(\"전체 특성 사용 : {:.3f}\".format(lr.score(X_test, y_test)))\n",
    "\n",
    "lr.fit(X_tr_selected, y_train)\n",
    "print(\"선택된 일부 특성 사용 : {:.3f}\".format(lr.score(X_test_selected, y_test)))"
   ]
  },
  {
   "cell_type": "markdown",
   "id": "716ecfbf",
   "metadata": {},
   "source": [
    "### 모델 기반 특성 선택\n",
    "\n",
    "* 지도 학습 머신러닝 모델을 사용하여 특성의 중요도를 평가해서 가장 중요한 특성들만 선택\n",
    "* 특성 선택에 사용하는 지도 학습 모델은 최종적으로 사용할 지도학습 모델과 같을 필요는 없음.\n",
    "* 결정트리와 유사한 모델은 featureimportance 속성을 제공함.\n",
    "* 선형 모델의 절대값으로 특성의 중요도를 재는데 사용\n",
    "* 모델 기반의 특성 선택은 SelectFromModel에 구현되어 있음."
   ]
  },
  {
   "cell_type": "code",
   "execution_count": 29,
   "id": "fa975a40",
   "metadata": {},
   "outputs": [],
   "source": [
    "from sklearn.feature_selection import SelectFromModel\n",
    "from sklearn.ensemble import RandomForestRegressor"
   ]
  },
  {
   "cell_type": "code",
   "execution_count": 30,
   "id": "47593380",
   "metadata": {},
   "outputs": [],
   "source": [
    "select = SelectFromModel(RandomForestRegressor(n_estimators=100, random_state=42),\n",
    "                         threshold=\"median\")"
   ]
  },
  {
   "cell_type": "markdown",
   "id": "8964bc21",
   "metadata": {},
   "source": [
    "* SelectFromModel은 지도학습 모델로 계산된 중요도가 임계치보다 큰 모든 특성을 선택\n",
    "* 절반 가량의 특성이 선택될 수 있도록 중간값을 임계치로 사용.\n",
    "* 트리 100개로 만든 랜덤 포레스트 분류기를 사용."
   ]
  },
  {
   "cell_type": "code",
   "execution_count": 31,
   "id": "d5daf7f3",
   "metadata": {},
   "outputs": [
    {
     "name": "stdout",
     "output_type": "stream",
     "text": [
      "X_train.shape : (253, 104)\n",
      "X_train_l1.shape : (253, 52)\n"
     ]
    }
   ],
   "source": [
    "select.fit(X_train, y_train)\n",
    "X_train_l1 = select.transform(X_train)\n",
    "\n",
    "print(\"X_train.shape :\" , X_train.shape)\n",
    "print(\"X_train_l1.shape :\", X_train_l1.shape)"
   ]
  },
  {
   "cell_type": "markdown",
   "id": "73b4d9fa",
   "metadata": {},
   "source": [
    "### 어떤 특성이 선택되었는지 확인"
   ]
  },
  {
   "cell_type": "code",
   "execution_count": 32,
   "id": "9cf74170",
   "metadata": {},
   "outputs": [
    {
     "name": "stdout",
     "output_type": "stream",
     "text": [
      "[False False False False False  True False False False False False  True\n",
      "  True False  True  True False  True  True  True False False  True  True\n",
      " False  True False  True False False False False False False False False\n",
      " False False False False  True False  True  True  True False  True  True\n",
      "  True False False False False False False False False False False False\n",
      " False False  True False  True  True False  True  True  True  True  True\n",
      "  True  True  True  True False  True  True  True  True  True  True False\n",
      "  True  True  True  True  True False False  True  True  True False  True\n",
      "  True  True False  True  True False  True  True]\n"
     ]
    },
    {
     "data": {
      "text/plain": [
       "Text(0.5, 0, '특성 번호')"
      ]
     },
     "execution_count": 32,
     "metadata": {},
     "output_type": "execute_result"
    },
    {
     "data": {
      "image/png": "[encoded data removed]",
      "text/plain": [
       "<Figure size 1152x144 with 1 Axes>"
      ]
     },
     "metadata": {
      "needs_background": "light"
     },
     "output_type": "display_data"
    }
   ],
   "source": [
    "mask = select.get_support()\n",
    "print(mask)\n",
    "plt.matshow(mask.reshape(1, -1), cmap='gray_r')\n",
    "plt.xlabel(\"특성 번호\")"
   ]
  },
  {
   "cell_type": "code",
   "execution_count": 33,
   "id": "2544daea",
   "metadata": {},
   "outputs": [
    {
     "name": "stdout",
     "output_type": "stream",
     "text": [
      "선택된 일부 특성 사용 : 0.770\n"
     ]
    }
   ],
   "source": [
    "# 테스트 데이터 변환 \n",
    "X_test_l1 = select.transform(X_test)\n",
    "\n",
    "lr0 = LinearRegression()\n",
    "lr0.fit(X_train_l1, y_train)\n",
    "print(\"선택된 일부 특성 사용 : {:.3f}\".format(lr0.score(X_test_l1, y_test)))"
   ]
  },
  {
   "cell_type": "code",
   "execution_count": 34,
   "id": "d98b3d27",
   "metadata": {},
   "outputs": [
    {
     "name": "stdout",
     "output_type": "stream",
     "text": [
      "전체 특성 사용 : 0.795\n"
     ]
    }
   ],
   "source": [
    "# 테스트 데이터 변환 \n",
    "# X_test_l1 = select.transform(X_test)\n",
    "\n",
    "rf = RandomForestRegressor()\n",
    "rf.fit(X_train, y_train)\n",
    "print(\"전체 특성 사용 : {:.3f}\".format(rf.score(X_test, y_test)))\n",
    "\n",
    "# score = LogisticRegression().fit(X_train, y_train).score(X_test_l1, y_test)"
   ]
  },
  {
   "cell_type": "markdown",
   "id": "3c4cfde2",
   "metadata": {},
   "source": [
    "### 반복적 특성 선택\n",
    "\n",
    "* 일변량 모델은 모델을 사용하지 않음.(F값)\n",
    "* 모델 기반 선택은 하나의 모델을 사용\n",
    "* 반복적 특성 선택(iterative Feature Selection)에서는 특성의 수가 각기 다른 일련의 모델이 만들어짐.\n",
    "    * 하나, 특성을 하나도 선택하지 않은 상태로 시작해서 어떤 종료 조건까지 하나씩 추가\n",
    "    * 둘, 모든 특성을 가지고 시작하여 어떤 종료 조건이 될때까지 특성을 하나씩 제거.\n",
    "* 이 모델들은 앞서 소개한 방법들보다 계산 비용이 훨씬 많이 든다.\n",
    "* 재귀적 특성 제거(RFE:recursive feature elimination)가 하나의 방법"
   ]
  },
  {
   "cell_type": "code",
   "execution_count": 35,
   "id": "c060e5c5",
   "metadata": {},
   "outputs": [
    {
     "data": {
      "text/plain": [
       "Text(0.5, 0, '특성 번호')"
      ]
     },
     "execution_count": 35,
     "metadata": {},
     "output_type": "execute_result"
    },
    {
     "data": {
      "image/png": "[encoded data removed]",
      "text/plain": [
       "<Figure size 1152x144 with 1 Axes>"
      ]
     },
     "metadata": {
      "needs_background": "light"
     },
     "output_type": "display_data"
    }
   ],
   "source": [
    "from sklearn.feature_selection import RFE\n",
    "\n",
    "select = RFE(RandomForestRegressor(n_estimators = 100, random_state = 42),\n",
    "            n_features_to_select = 52)\n",
    "\n",
    "select.fit(X_train, y_train)\n",
    "\n",
    "# 선택된 특성을 표시합니다.\n",
    "mask = select.get_support()\n",
    "plt.matshow(mask.reshape(1,-1), cmap = 'gray_r')\n",
    "plt.xlabel(\"특성 번호\")"
   ]
  },
  {
   "cell_type": "markdown",
   "id": "daa8d736",
   "metadata": {},
   "source": [
    "* 일변량 분석이나 모델 기반 특성보다 특성 선택이 나아짐.\n",
    "* 랜덤 포레스트 모델은 특성이 누락될때마다 다시 학습하므로 52번 실행.\n",
    "* 이 코드를 실행하면 모델 기반 선택보다 훨씬 오래 걸림."
   ]
  },
  {
   "cell_type": "code",
   "execution_count": 37,
   "id": "75e02ace",
   "metadata": {},
   "outputs": [
    {
     "name": "stdout",
     "output_type": "stream",
     "text": [
      "선택된 일부 특성 사용 : 0.799\n",
      "테스트 점수 : 0.797\n"
     ]
    }
   ],
   "source": [
    "X_tr_rfe = select.transform(X_train)\n",
    "X_test_rfe = select.transform(X_test)\n",
    "\n",
    "lr1 = LinearRegression()\n",
    "lr1.fit(X_tr_rfe, y_train)\n",
    "print(\"선택된 일부 특성 사용 : {:.3f}\".format(lr1.score(X_test_rfe, y_test)))\n",
    "\n",
    "score = RandomForestRegressor().fit(X_tr_rfe, y_train).score(X_test_rfe, y_test)\n",
    "print(\"테스트 점수 : {:.3f}\".format(score))"
   ]
  },
  {
   "cell_type": "code",
   "execution_count": null,
   "id": "65992490",
   "metadata": {},
   "outputs": [],
   "source": []
  }
 ],
 "metadata": {
  "kernelspec": {
   "display_name": "Python 3 (ipykernel)",
   "language": "python",
   "name": "python3"
  },
  "language_info": {
   "codemirror_mode": {
    "name": "ipython",
    "version": 3
   },
   "file_extension": ".py",
   "mimetype": "text/x-python",
   "name": "python",
   "nbconvert_exporter": "python",
   "pygments_lexer": "ipython3",
   "version": "3.8.8"
  }
 },
 "nbformat": 4,
 "nbformat_minor": 5
}
