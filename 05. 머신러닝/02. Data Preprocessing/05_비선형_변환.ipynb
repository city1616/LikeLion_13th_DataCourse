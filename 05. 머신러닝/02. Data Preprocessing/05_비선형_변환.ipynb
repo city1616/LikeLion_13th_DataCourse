{
 "cells": [
  {
   "cell_type": "markdown",
   "id": "e06039e0",
   "metadata": {},
   "source": [
    "### 2021_10_28_1"
   ]
  },
  {
   "cell_type": "markdown",
   "id": "b58a1ea8",
   "metadata": {},
   "source": [
    "## 비선형 변환"
   ]
  },
  {
   "cell_type": "markdown",
   "id": "4a43d867",
   "metadata": {},
   "source": [
    "### 비선형 변환\n",
    "* 제곱항이나 세제곱 항을 추가하면 선형 회귀 모델에 도움이 된다.\n",
    "* log, exp, sin 같은 수학 함수를 적용하는 방법도 특성 변환에 유용.\n",
    "* 선형 모델과 신경망은 각 특성의 스케일과 분포에 밀접하게 연관되어 있음.\n",
    "* log, exp 함수는 데이터의 스케일을 변경하여 선형 모델과 신경망을 올리는데 도움이 된다."
   ]
  },
  {
   "cell_type": "code",
   "execution_count": 2,
   "id": "c46e8b84",
   "metadata": {},
   "outputs": [],
   "source": [
    "import matplotlib\n",
    "from matplotlib import font_manager, rc\n",
    "import matplotlib.pyplot as plt\n",
    "import platform"
   ]
  },
  {
   "cell_type": "code",
   "execution_count": 3,
   "id": "3b08946d",
   "metadata": {},
   "outputs": [],
   "source": [
    "path = \"C:/Windows/Fonts/malgun.ttf\"\n",
    "if platform.system() == \"Windows\":\n",
    "    font_name = font_manager.FontProperties(fname=path).get_name()\n",
    "    rc('font', family=font_name)\n",
    "elif platform.system()==\"Darwin\":\n",
    "    rc('font', family='AppleGothic')\n",
    "else:\n",
    "    print(\"Unknown System\")"
   ]
  },
  {
   "cell_type": "markdown",
   "id": "0b50d3b9",
   "metadata": {},
   "source": [
    "### 실습"
   ]
  },
  {
   "cell_type": "code",
   "execution_count": 4,
   "id": "f4b98ddc",
   "metadata": {},
   "outputs": [],
   "source": [
    "import numpy as np\n",
    "import matplotlib.pyplot as plt"
   ]
  },
  {
   "cell_type": "code",
   "execution_count": 5,
   "id": "8cf7116d",
   "metadata": {},
   "outputs": [
    {
     "name": "stdout",
     "output_type": "stream",
     "text": [
      "(1000, 3)\n"
     ]
    }
   ],
   "source": [
    "rnd = np.random.RandomState(0)\n",
    "X_org = rnd.normal(size=(1000,3))\n",
    "print(X_org.shape)"
   ]
  },
  {
   "cell_type": "code",
   "execution_count": 6,
   "id": "786a31b3",
   "metadata": {},
   "outputs": [
    {
     "name": "stdout",
     "output_type": "stream",
     "text": [
      "(3,)\n"
     ]
    }
   ],
   "source": [
    "w = rnd.normal(size=3)\n",
    "print(w.shape)"
   ]
  },
  {
   "cell_type": "code",
   "execution_count": 7,
   "id": "f61f442e",
   "metadata": {},
   "outputs": [],
   "source": [
    "X = rnd.poisson(10 * np.exp(X_org))\n",
    "y = np.dot(X_org, w)"
   ]
  },
  {
   "cell_type": "code",
   "execution_count": 8,
   "id": "93f43d52",
   "metadata": {},
   "outputs": [
    {
     "name": "stdout",
     "output_type": "stream",
     "text": [
      "값들의 출현 횟수 :  [28 38 68 48 61 59 45 56 37 40 35 34 36 26 23 26 27 21 23 23 18 21 10  9\n",
      " 17  9  7 14 12  7  3  8  4  5  5  3  4  2  4  1  1  3  2  5  3  8  2  5\n",
      "  2  1  2  3  3  2  2  3  3  0  1  2  1  0  0  3  1  0  0  0  1  3  0  1\n",
      "  0  2  0  1  1  0  0  0  0  1  0  0  2  2  0  1  1  0  0  0  0  1  1  0\n",
      "  0  0  0  0  0  0  1  0  0  0  0  0  1  1  0  0  1  0  0  0  0  0  0  0\n",
      "  1  0  0  0  0  1  0  0  0  0  0  0  0  0  0  0  0  0  0  0  1]\n"
     ]
    }
   ],
   "source": [
    "print(\"값들의 출현 횟수 : \", np.bincount(X[:,0]))"
   ]
  },
  {
   "cell_type": "markdown",
   "id": "20bb39fc",
   "metadata": {},
   "source": [
    "* 2가 68번으로 가장 많이 나타나며. 큰 값의 수는 빠르게 줄어든다.\n",
    "* 85, 86처럼 아주 큰 값도 약간은 있음"
   ]
  },
  {
   "cell_type": "code",
   "execution_count": 9,
   "id": "ddca0eba",
   "metadata": {},
   "outputs": [
    {
     "data": {
      "text/plain": [
       "Text(0.5, 0, '값')"
      ]
     },
     "execution_count": 9,
     "metadata": {},
     "output_type": "execute_result"
    },
    {
     "data": {
      "image/png": "[encoded data removed]",
      "text/plain": [
       "<Figure size 432x288 with 1 Axes>"
      ]
     },
     "metadata": {
      "needs_background": "light"
     },
     "output_type": "display_data"
    }
   ],
   "source": [
    "plt.xlim(0, 160)\n",
    "plt.ylim(0, 70)\n",
    "bins = np.bincount(X[:, 0])\n",
    "plt.bar(range(len(bins)), bins, color='grey')\n",
    "plt.ylabel(\"출현 횟수\")\n",
    "plt.xlabel(\"값\")"
   ]
  },
  {
   "cell_type": "code",
   "execution_count": 10,
   "id": "0be6f000",
   "metadata": {},
   "outputs": [
    {
     "data": {
      "text/plain": [
       "Text(0.5, 0, '값')"
      ]
     },
     "execution_count": 10,
     "metadata": {},
     "output_type": "execute_result"
    },
    {
     "data": {
      "image/png": "[encoded data removed]",
      "text/plain": [
       "<Figure size 864x720 with 2 Axes>"
      ]
     },
     "metadata": {
      "needs_background": "light"
     },
     "output_type": "display_data"
    }
   ],
   "source": [
    "plt.figure(figsize=(12, 10))\n",
    "\n",
    "plt.subplot(2,1,1)\n",
    "bins = np.bincount(X[:, 0])\n",
    "plt.bar(range(len(bins)), bins, color='grey')\n",
    "plt.ylabel(\"출현 횟수\")\n",
    "plt.xlabel(\"값\")\n",
    "\n",
    "plt.subplot(2,1,2)\n",
    "bins = np.bincount(X[:, 1])\n",
    "plt.bar(range(len(bins)), bins, color='grey')\n",
    "plt.ylabel(\"출현 횟수\")\n",
    "plt.xlabel(\"값\")"
   ]
  },
  {
   "cell_type": "markdown",
   "id": "52ab0c5d",
   "metadata": {},
   "source": [
    "### 데이터를 리지 회귀(L1규제)에 적용"
   ]
  },
  {
   "cell_type": "code",
   "execution_count": 11,
   "id": "538bd694",
   "metadata": {},
   "outputs": [],
   "source": [
    "from sklearn.linear_model import Ridge\n",
    "from sklearn.model_selection import train_test_split"
   ]
  },
  {
   "cell_type": "code",
   "execution_count": 14,
   "id": "ba921de8",
   "metadata": {},
   "outputs": [
    {
     "name": "stdout",
     "output_type": "stream",
     "text": [
      "테스트 점수 : 0.622\n"
     ]
    }
   ],
   "source": [
    "X_train, X_test, y_train, y_test = train_test_split(X, y,\n",
    "                                                   random_state = 0)\n",
    "score = Ridge().fit(X_train, y_train).score(X_test, y_test)\n",
    "print(\"테스트 점수 : {:.3f}\".format(score))"
   ]
  },
  {
   "cell_type": "code",
   "execution_count": 15,
   "id": "36eaad83",
   "metadata": {},
   "outputs": [],
   "source": [
    "X_train_log = np.log(X_train + 1)\n",
    "X_test_log = np.log(X_test + 1)"
   ]
  },
  {
   "cell_type": "code",
   "execution_count": 16,
   "id": "a74b2bd9",
   "metadata": {},
   "outputs": [
    {
     "data": {
      "text/plain": [
       "Text(0.5, 0, '값(log적용)')"
      ]
     },
     "execution_count": 16,
     "metadata": {},
     "output_type": "execute_result"
    },
    {
     "data": {
      "image/png": "[encoded data removed]",
      "text/plain": [
       "<Figure size 864x720 with 2 Axes>"
      ]
     },
     "metadata": {
      "needs_background": "light"
     },
     "output_type": "display_data"
    }
   ],
   "source": [
    "plt.figure(figsize=(12, 10))\n",
    "\n",
    "plt.subplot(2,2,1)\n",
    "bins = np.bincount(X[:, 0])\n",
    "plt.bar(range(len(bins)), bins, color='grey')\n",
    "plt.ylabel(\"출현 횟수\")\n",
    "plt.xlabel(\"값\")\n",
    "\n",
    "plt.subplot(2,2,2)\n",
    "plt.hist( X_train_log[:, 0], bins=25, color='orange')\n",
    "plt.ylabel(\"출현 횟수\")\n",
    "plt.xlabel(\"값(log적용)\")"
   ]
  },
  {
   "cell_type": "code",
   "execution_count": 19,
   "id": "2d547bf2",
   "metadata": {},
   "outputs": [
    {
     "name": "stdout",
     "output_type": "stream",
     "text": [
      "테스트 점수 : 0.875\n"
     ]
    }
   ],
   "source": [
    "model = Ridge().fit(X_train_log, y_train)\n",
    "score = model.score(X_test_log, y_test)\n",
    "print(\"테스트 점수 : {:.3f}\".format(score))"
   ]
  },
  {
   "cell_type": "markdown",
   "id": "f20074e3",
   "metadata": {},
   "source": [
    "* 결정계수의 값이 0.622에서 0.875로 향상되었다.\n",
    "* 선형모델, 나이브 베이즈 모델 같은 덜 복잡한 모델에서 구간 분할, 다항식, 상호작용은 데이터가 주어진 상황에서 모델의 성능에 큰 영향을 줄 수 있다."
   ]
  },
  {
   "cell_type": "code",
   "execution_count": null,
   "id": "2d317b22",
   "metadata": {},
   "outputs": [],
   "source": []
  }
 ],
 "metadata": {
  "kernelspec": {
   "display_name": "Python 3 (ipykernel)",
   "language": "python",
   "name": "python3"
  },
  "language_info": {
   "codemirror_mode": {
    "name": "ipython",
    "version": 3
   },
   "file_extension": ".py",
   "mimetype": "text/x-python",
   "name": "python",
   "nbconvert_exporter": "python",
   "pygments_lexer": "ipython3",
   "version": "3.8.8"
  }
 },
 "nbformat": 4,
 "nbformat_minor": 5
}
