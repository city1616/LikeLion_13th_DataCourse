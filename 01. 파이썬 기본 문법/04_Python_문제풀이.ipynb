{
 "cells": [
  {
   "cell_type": "markdown",
   "metadata": {},
   "source": [
    "### 2021_08_31_1\n",
    "* 문제풀이"
   ]
  },
  {
   "cell_type": "code",
   "execution_count": 3,
   "metadata": {
    "colab": {
     "base_uri": "https://localhost:8080/"
    },
    "executionInfo": {
     "elapsed": 315,
     "status": "ok",
     "timestamp": 1630369059940,
     "user": {
      "displayName": "문승우",
      "photoUrl": "",
      "userId": "03306029417396722813"
     },
     "user_tz": -540
    },
    "id": "Q6w5FgUTgqqV",
    "outputId": "9ae67dd0-b841-42db-e0a5-72d41b519c10"
   },
   "outputs": [
    {
     "name": "stdout",
     "output_type": "stream",
     "text": [
      "{'제육볶음', '과자'}\n",
      "{'제육볶음', '과자'} <class 'set'>\n"
     ]
    }
   ],
   "source": [
    "# 문제풀이\n",
    "# 9. 오류가 있는지, 어떻게 수정할 수 있는가?\n",
    "'''\n",
    "myfood = set(['과자', '찌개', '제육볶음'])\n",
    "item = '찌개'\n",
    "print(myfood - item)\n",
    "'''\n",
    "\n",
    "# list, dict, str, 튜플, 집합\n",
    "# list : [], dict : {}, 튜플 : (), 집합 : set()\n",
    "set1 = set(['과자', '찌개', '제육볶음'])\n",
    "set2 = set(['찌개'])\n",
    "print(set1 - set2)\n",
    "\n",
    "myfood = set(['과자', '찌개', '제육볶음'])\n",
    "item = set(['찌개'])\n",
    "print(myfood - item, type(myfood - item))"
   ]
  },
  {
   "cell_type": "code",
   "execution_count": 6,
   "metadata": {
    "colab": {
     "base_uri": "https://localhost:8080/"
    },
    "executionInfo": {
     "elapsed": 398,
     "status": "ok",
     "timestamp": 1630369244988,
     "user": {
      "displayName": "문승우",
      "photoUrl": "",
      "userId": "03306029417396722813"
     },
     "user_tz": -540
    },
    "id": "Dmi5d7u-i3gK",
    "outputId": "0aae71dd-ad07-4b00-a2f0-9d81f2263acf"
   },
   "outputs": [
    {
     "name": "stdout",
     "output_type": "stream",
     "text": [
      "1\n",
      "3\n",
      "5\n",
      "7\n",
      "9\n",
      "1\n",
      "3\n",
      "5\n",
      "7\n",
      "9\n"
     ]
    }
   ],
   "source": [
    "# 10. for문과 while의 차이는 무엇인가요? 모범 답안은 없으니 아시는 대로 작성해 보세요.\n",
    "# for : 일정 구간 반복\n",
    "# while : 조건을 만족하지 않을때까지 반복\n",
    "\n",
    "# 11. for문을 이용하여 10까지의 값 중에 홀수를 출력하는 프로그램을 작성해 보세요.(프로그램)\n",
    "for i in range(1, 11, 2) :\n",
    "    print(i)\n",
    "\n",
    "for i in range(11) :\n",
    "    if i % 2 == 1 :\n",
    "        print(i)"
   ]
  },
  {
   "cell_type": "code",
   "execution_count": 7,
   "metadata": {
    "colab": {
     "base_uri": "https://localhost:8080/"
    },
    "executionInfo": {
     "elapsed": 8021,
     "status": "ok",
     "timestamp": 1630369495518,
     "user": {
      "displayName": "문승우",
      "photoUrl": "",
      "userId": "03306029417396722813"
     },
     "user_tz": -540
    },
    "id": "FtMYS-Svk6Q-",
    "outputId": "bfcb115c-8420-48e3-a285-745bfb0285b1"
   },
   "outputs": [
    {
     "name": "stdout",
     "output_type": "stream",
     "text": [
      "음식 입력 : a\n",
      "음식 입력 : b\n",
      "음식 입력 : c\n",
      "['a', 'b', 'c']\n",
      "음식 추가 3개 : a b c\n",
      "['a', 'b', 'c']\n"
     ]
    }
   ],
   "source": [
    "# 12. 내가 좋아하는 음식 추가\n",
    "# 음식을 3개 입력받는다.\n",
    "# 하나의 리스트 이름으로 세개의 음식을 추가한다.\n",
    "# 이를 출력한다.\n",
    "food = []\n",
    "for i in range(3) :\n",
    "    one = input(\"음식 입력 : \")\n",
    "    food.append(one)\n",
    "print(food)\n",
    "\n",
    "food = input(\"음식 추가 3개 : \").split()\n",
    "print(food)"
   ]
  },
  {
   "cell_type": "code",
   "execution_count": 8,
   "metadata": {
    "colab": {
     "base_uri": "https://localhost:8080/"
    },
    "executionInfo": {
     "elapsed": 6976,
     "status": "ok",
     "timestamp": 1630369693826,
     "user": {
      "displayName": "문승우",
      "photoUrl": "",
      "userId": "03306029417396722813"
     },
     "user_tz": -540
    },
    "id": "VtJYvBt9mBjO",
    "outputId": "a2a48412-4e94-4972-80bf-fb6bf5177953"
   },
   "outputs": [
    {
     "name": "stdout",
     "output_type": "stream",
     "text": [
      "음식을 입력해 주세요 : 제육볶음\n",
      "곱배기 주세요\n"
     ]
    }
   ],
   "source": [
    "# 13. if문 프로그램\n",
    "food = input(\"음식을 입력해 주세요 : \")\n",
    "if food == '제육볶음' :\n",
    "    print(\"곱배기 주세요\")\n",
    "else :\n",
    "    print(\"그냥 주세요\")\n"
   ]
  },
  {
   "cell_type": "code",
   "execution_count": 15,
   "metadata": {
    "colab": {
     "base_uri": "https://localhost:8080/"
    },
    "executionInfo": {
     "elapsed": 16174,
     "status": "ok",
     "timestamp": 1630370361181,
     "user": {
      "displayName": "문승우",
      "photoUrl": "",
      "userId": "03306029417396722813"
     },
     "user_tz": -540
    },
    "id": "4AbNjHSCmyOE",
    "outputId": "7d1a59e1-b577-4d6a-ed8b-910fd6b2a6b8"
   },
   "outputs": [
    {
     "name": "stdout",
     "output_type": "stream",
     "text": [
      "추가 음식:a\n",
      "추가 음식:b\n",
      "추가 음식:\n",
      "추가 음식:c\n",
      "추가 음식:q\n",
      "['a', 'b', '', 'c']\n",
      "제외 음식:a\n",
      "['b', '', 'c']\n",
      "제외 음식:q\n",
      "물건 목록 :\n",
      "b\n",
      "\n",
      "c\n"
     ]
    }
   ],
   "source": [
    "# 14. 프로그램 작성\n",
    "import time\n",
    "foods = []\n",
    "while True:\n",
    "    one_food = input(\"추가 음식:\")\n",
    "    if one_food == \"q\":\n",
    "        break\n",
    "    foods.append(one_food)\n",
    "\n",
    "while True:\n",
    "    print(foods)\n",
    "    remove_food = input(\"제외 음식:\")\n",
    "    if remove_food == \"q\":\n",
    "        break\n",
    "    foods.remove(remove_food)\n",
    "\n",
    "print(\"물건 목록 :\")\n",
    "for i in foods:\n",
    "    time.sleep(1)\n",
    "    print(i)"
   ]
  },
  {
   "cell_type": "code",
   "execution_count": 11,
   "metadata": {
    "colab": {
     "base_uri": "https://localhost:8080/"
    },
    "executionInfo": {
     "elapsed": 4381,
     "status": "ok",
     "timestamp": 1630369957653,
     "user": {
      "displayName": "문승우",
      "photoUrl": "",
      "userId": "03306029417396722813"
     },
     "user_tz": -540
    },
    "id": "TD7ytJDnnd4C",
    "outputId": "a666462b-37b6-446e-ba13-974f809ad2d6"
   },
   "outputs": [
    {
     "name": "stdout",
     "output_type": "stream",
     "text": [
      "출력\n",
      "출력\n"
     ]
    }
   ],
   "source": [
    "# time 함수\n",
    "import time\n",
    "\n",
    "print('출력')\n",
    "time.sleep(2)\n",
    "print('출력')\n",
    "time.sleep(2)"
   ]
  },
  {
   "cell_type": "code",
   "execution_count": 16,
   "metadata": {
    "colab": {
     "base_uri": "https://localhost:8080/"
    },
    "executionInfo": {
     "elapsed": 314,
     "status": "ok",
     "timestamp": 1630370585646,
     "user": {
      "displayName": "문승우",
      "photoUrl": "",
      "userId": "03306029417396722813"
     },
     "user_tz": -540
    },
    "id": "NrrR3OdlnzQc",
    "outputId": "5b766880-cafb-4fd9-c2c5-42e307c0734c"
   },
   "outputs": [
    {
     "name": "stdout",
     "output_type": "stream",
     "text": [
      "1번 커피 만들기\n",
      "2번 커피 만들기\n"
     ]
    }
   ],
   "source": [
    "# 15. 2종류의 커피를 만드는 함수를 만든다. 이를 실행시켜서 과정을 출력한다.\n",
    "def make_coffee_1() :\n",
    "    print('1번 커피 만들기')\n",
    "\n",
    "def make_coffee_2() :\n",
    "    print('2번 커피 만들기')\n",
    "\n",
    "make_coffee_1()\n",
    "make_coffee_2()"
   ]
  },
  {
   "cell_type": "code",
   "execution_count": 17,
   "metadata": {
    "colab": {
     "base_uri": "https://localhost:8080/"
    },
    "executionInfo": {
     "elapsed": 336,
     "status": "ok",
     "timestamp": 1630371078560,
     "user": {
      "displayName": "문승우",
      "photoUrl": "",
      "userId": "03306029417396722813"
     },
     "user_tz": -540
    },
    "id": "yHRyNTbSoXhp",
    "outputId": "66a55cba-d1d7-4b75-dfa6-3f5c29544c9c"
   },
   "outputs": [
    {
     "name": "stdout",
     "output_type": "stream",
     "text": [
      "{'c', 'a', 'b'}\n"
     ]
    }
   ],
   "source": [
    "a = set('abc')\n",
    "print(a)"
   ]
  },
  {
   "cell_type": "code",
   "execution_count": null,
   "metadata": {
    "id": "S2Xccb39sF3t"
   },
   "outputs": [],
   "source": []
  }
 ],
 "metadata": {
  "colab": {
   "authorship_tag": "ABX9TyOy+K8KeIAkhHtPMXsLtgpG",
   "collapsed_sections": [],
   "name": "2021_08_31_1.ipynb",
   "provenance": []
  },
  "kernelspec": {
   "display_name": "Python 3 (ipykernel)",
   "language": "python",
   "name": "python3"
  },
  "language_info": {
   "codemirror_mode": {
    "name": "ipython",
    "version": 3
   },
   "file_extension": ".py",
   "mimetype": "text/x-python",
   "name": "python",
   "nbconvert_exporter": "python",
   "pygments_lexer": "ipython3",
   "version": "3.8.8"
  }
 },
 "nbformat": 4,
 "nbformat_minor": 1
}
