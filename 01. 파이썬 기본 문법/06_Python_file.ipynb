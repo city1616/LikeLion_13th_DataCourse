{
 "cells": [
  {
   "cell_type": "markdown",
   "metadata": {},
   "source": [
    "### 2021_08_31_4\n",
    "\n",
    "### 파일 읽고 쓰기\n",
    "* 파일 생성하기\n",
    "* 파일 읽기"
   ]
  },
  {
   "cell_type": "code",
   "execution_count": 2,
   "metadata": {
    "colab": {
     "base_uri": "https://localhost:8080/"
    },
    "executionInfo": {
     "elapsed": 223,
     "status": "ok",
     "timestamp": 1630383171845,
     "user": {
      "displayName": "문승우",
      "photoUrl": "",
      "userId": "03306029417396722813"
     },
     "user_tz": -540
    },
    "id": "8UpytPOzZJmF",
    "outputId": "d984cc5e-9530-477c-c43f-73bd45d54db2"
   },
   "outputs": [
    {
     "data": {
      "text/plain": [
       "['.config',\n",
       " 'smalldog.jpeg',\n",
       " 'mydata.txt',\n",
       " 'hello.txt',\n",
       " 'hello_utf.txt',\n",
       " 'price01.txt',\n",
       " 'sample_data']"
      ]
     },
     "execution_count": 2,
     "metadata": {},
     "output_type": "execute_result"
    }
   ],
   "source": [
    "# 파일 읽고 쓰기\n",
    "import os\n",
    "os.listdir()"
   ]
  },
  {
   "cell_type": "code",
   "execution_count": 14,
   "metadata": {
    "colab": {
     "base_uri": "https://localhost:8080/"
    },
    "executionInfo": {
     "elapsed": 202,
     "status": "ok",
     "timestamp": 1630384613617,
     "user": {
      "displayName": "문승우",
      "photoUrl": "",
      "userId": "03306029417396722813"
     },
     "user_tz": -540
    },
    "id": "LU0aYLA-ZZGS",
    "outputId": "53bc2ce2-a69c-471d-cbec-08df2573814b"
   },
   "outputs": [
    {
     "data": {
      "text/plain": [
       "<_io.TextIOWrapper name='hello_utf.txt' mode='r' encoding='UTF-8'>"
      ]
     },
     "execution_count": 14,
     "metadata": {},
     "output_type": "execute_result"
    }
   ],
   "source": [
    "# utf-8로 변경해서 다시 올리고 읽어보기\n",
    "var = open('hello_utf.txt', \"r\")\n",
    "var"
   ]
  },
  {
   "cell_type": "code",
   "execution_count": 5,
   "metadata": {
    "colab": {
     "base_uri": "https://localhost:8080/",
     "height": 35
    },
    "executionInfo": {
     "elapsed": 220,
     "status": "ok",
     "timestamp": 1630383694612,
     "user": {
      "displayName": "문승우",
      "photoUrl": "",
      "userId": "03306029417396722813"
     },
     "user_tz": -540
    },
    "id": "ZEGFpGm3adDy",
    "outputId": "74a65c0d-c771-41b3-8d5e-29664d774c40"
   },
   "outputs": [
    {
     "data": {
      "application/vnd.google.colaboratory.intrinsic+json": {
       "type": "string"
      },
      "text/plain": [
       "'안녕하세요. 반갑습니다.'"
      ]
     },
     "execution_count": 5,
     "metadata": {},
     "output_type": "execute_result"
    }
   ],
   "source": [
    "var.read()"
   ]
  },
  {
   "cell_type": "code",
   "execution_count": 10,
   "metadata": {
    "colab": {
     "base_uri": "https://localhost:8080/"
    },
    "executionInfo": {
     "elapsed": 284,
     "status": "ok",
     "timestamp": 1630384158840,
     "user": {
      "displayName": "문승우",
      "photoUrl": "",
      "userId": "03306029417396722813"
     },
     "user_tz": -540
    },
    "id": "51LikP0OcODX",
    "outputId": "2e578771-6848-4127-f088-268e6c0082ef"
   },
   "outputs": [
    {
     "name": "stdout",
     "output_type": "stream",
     "text": [
      "테스트 파\n"
     ]
    }
   ],
   "source": [
    "# 파일을 하나 만들어서 올려보고 다시 읽어보기\n",
    "var1 = open('test.txt', \"r\")\n",
    "var1\n",
    "print(var1.read(5))"
   ]
  },
  {
   "cell_type": "code",
   "execution_count": 9,
   "metadata": {
    "colab": {
     "base_uri": "https://localhost:8080/",
     "height": 35
    },
    "executionInfo": {
     "elapsed": 206,
     "status": "ok",
     "timestamp": 1630384072395,
     "user": {
      "displayName": "문승우",
      "photoUrl": "",
      "userId": "03306029417396722813"
     },
     "user_tz": -540
    },
    "id": "0en0mthCdZjx",
    "outputId": "cc756ad5-f36e-44d5-e19f-180f7993f845"
   },
   "outputs": [
    {
     "data": {
      "application/vnd.google.colaboratory.intrinsic+json": {
       "type": "string"
      },
      "text/plain": [
       "'테스트 파일'"
      ]
     },
     "execution_count": 9,
     "metadata": {},
     "output_type": "execute_result"
    }
   ],
   "source": [
    "var1.read()"
   ]
  },
  {
   "cell_type": "code",
   "execution_count": 16,
   "metadata": {
    "executionInfo": {
     "elapsed": 311,
     "status": "ok",
     "timestamp": 1630384701866,
     "user": {
      "displayName": "문승우",
      "photoUrl": "",
      "userId": "03306029417396722813"
     },
     "user_tz": -540
    },
    "id": "JPV-TJKKdddG"
   },
   "outputs": [],
   "source": [
    "var = open('hello.txt', 'r', encoding = 'euc-kr')\n",
    "var.read()\n",
    "var.close()"
   ]
  },
  {
   "cell_type": "code",
   "execution_count": 18,
   "metadata": {
    "colab": {
     "base_uri": "https://localhost:8080/",
     "height": 35
    },
    "executionInfo": {
     "elapsed": 205,
     "status": "ok",
     "timestamp": 1630384749500,
     "user": {
      "displayName": "문승우",
      "photoUrl": "",
      "userId": "03306029417396722813"
     },
     "user_tz": -540
    },
    "id": "HkINpHs6fln3",
    "outputId": "b04a4363-cb56-410f-a5f6-81e6fbed6531"
   },
   "outputs": [
    {
     "data": {
      "application/vnd.google.colaboratory.intrinsic+json": {
       "type": "string"
      },
      "text/plain": [
       "'상품01, 5000\\n상품02, 7000\\n상품03, 2000\\n상품04, 2000\\n상품05, 5500'"
      ]
     },
     "execution_count": 18,
     "metadata": {},
     "output_type": "execute_result"
    }
   ],
   "source": [
    "# 4-3 파일 읽어오기 - price01.txt\n",
    "var = open('price01.txt', 'r')\n",
    "var.read()"
   ]
  },
  {
   "cell_type": "code",
   "execution_count": 23,
   "metadata": {
    "executionInfo": {
     "elapsed": 234,
     "status": "ok",
     "timestamp": 1630384893106,
     "user": {
      "displayName": "문승우",
      "photoUrl": "",
      "userId": "03306029417396722813"
     },
     "user_tz": -540
    },
    "id": "KXIgTe1JgBUN"
   },
   "outputs": [],
   "source": [
    "# \"r\"\n",
    "#   read() : 전체 파일 내용 출력\n",
    "#   readline() : "
   ]
  },
  {
   "cell_type": "code",
   "execution_count": 25,
   "metadata": {
    "colab": {
     "base_uri": "https://localhost:8080/"
    },
    "executionInfo": {
     "elapsed": 234,
     "status": "ok",
     "timestamp": 1630385081947,
     "user": {
      "displayName": "문승우",
      "photoUrl": "",
      "userId": "03306029417396722813"
     },
     "user_tz": -540
    },
    "id": "zBWVwDmxghcx",
    "outputId": "81d90ffa-5d48-4e37-9e09-1c98a8e4e0f6"
   },
   "outputs": [
    {
     "name": "stdout",
     "output_type": "stream",
     "text": [
      "상품01, 5000\n",
      "상품02, 7000\n",
      "\n"
     ]
    }
   ],
   "source": [
    "var = open('price01.txt', 'r')\n",
    "one = var.readline()\n",
    "print(one, end = \"\")\n",
    "one = var.readline()\n",
    "print(one)\n",
    "var.close()"
   ]
  },
  {
   "cell_type": "code",
   "execution_count": 31,
   "metadata": {
    "colab": {
     "base_uri": "https://localhost:8080/"
    },
    "executionInfo": {
     "elapsed": 211,
     "status": "ok",
     "timestamp": 1630385302404,
     "user": {
      "displayName": "문승우",
      "photoUrl": "",
      "userId": "03306029417396722813"
     },
     "user_tz": -540
    },
    "id": "CjFk3iEbgzJ3",
    "outputId": "7a6ee6b6-3320-492c-c686-6016e0a2f070"
   },
   "outputs": [
    {
     "name": "stdout",
     "output_type": "stream",
     "text": [
      "8 가나다라마바사\n",
      "10 123456789\n",
      "7 abcdef\n",
      "6 ABCDEF"
     ]
    }
   ],
   "source": [
    "# 직접 파일을 만들고 읽어오기. 그리고 매 줄의 길이도 출력해 주기\n",
    "file = open('readline_test.txt', 'r')\n",
    "line = file.readline()\n",
    "\n",
    "while line != \"\" :\n",
    "    print(len(line), line, end = '')\n",
    "    line = file.readline()"
   ]
  },
  {
   "cell_type": "code",
   "execution_count": 32,
   "metadata": {
    "executionInfo": {
     "elapsed": 209,
     "status": "ok",
     "timestamp": 1630386137458,
     "user": {
      "displayName": "문승우",
      "photoUrl": "",
      "userId": "03306029417396722813"
     },
     "user_tz": -540
    },
    "id": "5SZJjbHmhizS"
   },
   "outputs": [],
   "source": [
    "# open() : 파일을 열어주기\n",
    "# read() : 내용 읽기, 전체 읽어서 화면에 보여주기\n",
    "# readline() : 한줄씩 읽어온다.\n",
    "# readlines() : "
   ]
  },
  {
   "cell_type": "code",
   "execution_count": 43,
   "metadata": {
    "colab": {
     "base_uri": "https://localhost:8080/"
    },
    "executionInfo": {
     "elapsed": 214,
     "status": "ok",
     "timestamp": 1630386355084,
     "user": {
      "displayName": "문승우",
      "photoUrl": "",
      "userId": "03306029417396722813"
     },
     "user_tz": -540
    },
    "id": "kdjT4acolidP",
    "outputId": "b695d932-1b8a-45ed-ee38-2da2a2d24bd6"
   },
   "outputs": [
    {
     "name": "stdout",
     "output_type": "stream",
     "text": [
      "['상품01, 5000\\n', '상품02, 7000\\n', '상품03, 2000\\n', '상품04, 2000\\n', '상품05, 5500']\n",
      "<class 'list'>\n",
      "상품01, 5000\n",
      "상품02, 7000\n",
      "상품03, 2000\n",
      "상품04, 2000\n",
      "상품05, 55005000\n",
      "7000\n",
      "2000\n",
      "2000\n",
      "5500\n",
      "['상품01', '상품02', '상품03', '상품04', '상품05']\n"
     ]
    }
   ],
   "source": [
    "file = open('price01.txt', 'r')\n",
    "lines = file.readlines()\n",
    "item = []\n",
    "\n",
    "print(lines)\n",
    "print(type(lines)) # list\n",
    "\n",
    "for i in lines :\n",
    "    print(i, end = \"\")\n",
    "\n",
    "for i in lines :\n",
    "    print(i[6 : ], end = \"\")\n",
    "    item.append(i[0 : 4])\n",
    "print()\n",
    "print(item)"
   ]
  },
  {
   "cell_type": "code",
   "execution_count": 44,
   "metadata": {
    "executionInfo": {
     "elapsed": 228,
     "status": "ok",
     "timestamp": 1630386548675,
     "user": {
      "displayName": "문승우",
      "photoUrl": "",
      "userId": "03306029417396722813"
     },
     "user_tz": -540
    },
    "id": "7kNJzfpmlpQ2"
   },
   "outputs": [],
   "source": [
    "# open() 'r' : 읽기모드\n",
    "#   encoding 방식에 따라서 출력이 에러 발생\n",
    "#     파일을 utf-8로 변경 저장, encoding = 'euc-kr'\n",
    "#   read() : 전체 파일 출력\n",
    "#   readline() : 한줄씩 내용 읽기\n",
    "#   readlines() : 전체 줄을 읽어와요.(리스트)\n",
    "# open() \"w\", \"a\" : 파일을 만들기, 파일에 내용을 추가"
   ]
  },
  {
   "cell_type": "code",
   "execution_count": 46,
   "metadata": {
    "executionInfo": {
     "elapsed": 209,
     "status": "ok",
     "timestamp": 1630386666334,
     "user": {
      "displayName": "문승우",
      "photoUrl": "",
      "userId": "03306029417396722813"
     },
     "user_tz": -540
    },
    "id": "hBSH24CUnGuH"
   },
   "outputs": [],
   "source": [
    "f1 = open(\"myfile.txt\", \"w\")\n",
    "f1.write('monitor, 200000')\n",
    "f1.close()"
   ]
  },
  {
   "cell_type": "code",
   "execution_count": 53,
   "metadata": {
    "executionInfo": {
     "elapsed": 3,
     "status": "ok",
     "timestamp": 1630387255880,
     "user": {
      "displayName": "문승우",
      "photoUrl": "",
      "userId": "03306029417396722813"
     },
     "user_tz": -540
    },
    "id": "q_gcyuL1nYgn"
   },
   "outputs": [],
   "source": [
    "f1 = open(\"myfile.txt\", \"w\")\n",
    "f1.write('monitor, 200000\\n')\n",
    "f1.write('monitor, 250000\\n')\n",
    "f1.close()"
   ]
  },
  {
   "cell_type": "code",
   "execution_count": 54,
   "metadata": {
    "executionInfo": {
     "elapsed": 216,
     "status": "ok",
     "timestamp": 1630387257925,
     "user": {
      "displayName": "문승우",
      "photoUrl": "",
      "userId": "03306029417396722813"
     },
     "user_tz": -540
    },
    "id": "Vgf0s0CboUKN"
   },
   "outputs": [],
   "source": [
    "f1 = open(\"myfile.txt\", \"a\")\n",
    "f1.write('monitor, 200000\\n')\n",
    "f1.write('monitor, 250000\\n')\n",
    "f1.close()"
   ]
  },
  {
   "cell_type": "code",
   "execution_count": 56,
   "metadata": {
    "colab": {
     "base_uri": "https://localhost:8080/"
    },
    "executionInfo": {
     "elapsed": 9011,
     "status": "ok",
     "timestamp": 1630387536171,
     "user": {
      "displayName": "문승우",
      "photoUrl": "",
      "userId": "03306029417396722813"
     },
     "user_tz": -540
    },
    "id": "hQuSUKIPoXOM",
    "outputId": "16641b2f-dfa5-4a42-ce21-1007d9f4940b"
   },
   "outputs": [
    {
     "name": "stdout",
     "output_type": "stream",
     "text": [
      "별명을 입력하세요 : ggg\n",
      "나이를 입력하세요 : 335\n",
      "성별을 입력하세요 : female\n"
     ]
    }
   ],
   "source": [
    "# 01. 실습\n",
    "# 고객 정보를 입력받아서,\n",
    "# 별명, 나이, 성별\n",
    "# 정보를 추가해 주는 프로그램을 작성해 보자\n",
    "\n",
    "# 고객 정보 입력받기\n",
    "name = input(\"별명을 입력하세요 : \")\n",
    "age = int(input(\"나이를 입력하세요 : \"))\n",
    "gen = input(\"성별을 입력하세요 : \")\n",
    "\n",
    "file = open('myfile.txt', 'a')\n",
    "file.write(f\"별명 : {name}\\n나이 : {age}\\n성별 : {gen}\\n\")\n",
    "file.close()"
   ]
  },
  {
   "cell_type": "code",
   "execution_count": 57,
   "metadata": {
    "colab": {
     "base_uri": "https://localhost:8080/",
     "height": 266
    },
    "executionInfo": {
     "elapsed": 2620,
     "status": "error",
     "timestamp": 1630387612090,
     "user": {
      "displayName": "문승우",
      "photoUrl": "",
      "userId": "03306029417396722813"
     },
     "user_tz": -540
    },
    "id": "Jehc0KW5pspZ",
    "outputId": "62e72e29-8d76-4559-8d92-83ccc8da8b28"
   },
   "outputs": [
    {
     "name": "stdout",
     "output_type": "stream",
     "text": [
      "별명을 입력하세요 : a\n",
      "나이를 입력하세요 : b\n"
     ]
    },
    {
     "ename": "ValueError",
     "evalue": "ignored",
     "output_type": "error",
     "traceback": [
      "\u001b[0;31m---------------------------------------------------------------------------\u001b[0m",
      "\u001b[0;31mValueError\u001b[0m                                Traceback (most recent call last)",
      "\u001b[0;32m<ipython-input-57-8eb8ae0321d3>\u001b[0m in \u001b[0;36m<module>\u001b[0;34m()\u001b[0m\n\u001b[1;32m      1\u001b[0m \u001b[0;31m# 고객 정보 입력받기\u001b[0m\u001b[0;34m\u001b[0m\u001b[0;34m\u001b[0m\u001b[0;34m\u001b[0m\u001b[0m\n\u001b[1;32m      2\u001b[0m \u001b[0mname\u001b[0m \u001b[0;34m=\u001b[0m \u001b[0minput\u001b[0m\u001b[0;34m(\u001b[0m\u001b[0;34m\"별명을 입력하세요 : \"\u001b[0m\u001b[0;34m)\u001b[0m\u001b[0;34m\u001b[0m\u001b[0;34m\u001b[0m\u001b[0m\n\u001b[0;32m----> 3\u001b[0;31m \u001b[0mage\u001b[0m \u001b[0;34m=\u001b[0m \u001b[0mint\u001b[0m\u001b[0;34m(\u001b[0m\u001b[0minput\u001b[0m\u001b[0;34m(\u001b[0m\u001b[0;34m\"나이를 입력하세요 : \"\u001b[0m\u001b[0;34m)\u001b[0m\u001b[0;34m)\u001b[0m\u001b[0;34m\u001b[0m\u001b[0;34m\u001b[0m\u001b[0m\n\u001b[0m\u001b[1;32m      4\u001b[0m \u001b[0mgen\u001b[0m \u001b[0;34m=\u001b[0m \u001b[0minput\u001b[0m\u001b[0;34m(\u001b[0m\u001b[0;34m\"성별을 입력하세요 : \"\u001b[0m\u001b[0;34m)\u001b[0m\u001b[0;34m\u001b[0m\u001b[0;34m\u001b[0m\u001b[0m\n\u001b[1;32m      5\u001b[0m \u001b[0;34m\u001b[0m\u001b[0m\n",
      "\u001b[0;31mValueError\u001b[0m: invalid literal for int() with base 10: 'b'"
     ]
    }
   ],
   "source": [
    "# 고객 정보 입력받기\n",
    "name = input(\"별명을 입력하세요 : \")\n",
    "age = int(input(\"나이를 입력하세요 : \"))\n",
    "gen = input(\"성별을 입력하세요 : \")\n",
    "\n",
    "file = open(\"mylist.txt\", \"a\")\n",
    "str1 = name + ', ' + age + ', ' + \"\\n\""
   ]
  },
  {
   "cell_type": "code",
   "execution_count": 69,
   "metadata": {
    "colab": {
     "base_uri": "https://localhost:8080/"
    },
    "executionInfo": {
     "elapsed": 1994,
     "status": "ok",
     "timestamp": 1630393978205,
     "user": {
      "displayName": "문승우",
      "photoUrl": "",
      "userId": "03306029417396722813"
     },
     "user_tz": -540
    },
    "id": "njHM1_qZrJ47",
    "outputId": "4f44d394-7a7c-4677-f297-178d2252af1a"
   },
   "outputs": [
    {
     "name": "stdout",
     "output_type": "stream",
     "text": [
      "---------------------\n",
      "1. 고객 정보 입력\n",
      "2. 고객 정보 보기\n",
      "3. 종료\n",
      "---------------------\n",
      "메뉴 선택 : 3\n",
      "종료\n"
     ]
    }
   ],
   "source": [
    "# 고객 정보 추가 함수\n",
    "def cus_add(name, age, gender) :\n",
    "    file = open(\"mylist.txt\", \"a\")\n",
    "    str1 = name + ', ' + age + ', ' + gender + \"\\n\"\n",
    "    file.write(str1)\n",
    "\n",
    "def cus_read() :\n",
    "    cus_file = open(\"mylist.txt\", 'r')\n",
    "    cus_list = cus_file.readlines()\n",
    "    for i in range(len(cus_list)) :\n",
    "        print(f\"{i + 1}. {cus_list[i]}\\n\")\n",
    "        \n",
    "def age_check(a) :\n",
    "    if a >= 20 :\n",
    "        return True\n",
    "    else :\n",
    "        print(\"20살 미만입니다.\")\n",
    "        return False\n",
    "\n",
    "while True :\n",
    "    print(\"---------------------\")\n",
    "    print(\"1. 고객 정보 입력\")\n",
    "    print(\"2. 고객 정보 보기\")\n",
    "    print(\"3. 종료\")\n",
    "    print(\"---------------------\")\n",
    "    menu = int(input(\"메뉴 선택 : \"))\n",
    "\n",
    "    if menu == 1 :\n",
    "        # 고객 정보 입력받기\n",
    "        name = input(\"별명을 입력하세요 : \")\n",
    "        age = input(\"나이를 입력하세요 : \")\n",
    "        gender = input(\"성별을 입력하세요 : \")\n",
    "        cus_add(name, age, gender)\n",
    "        print(\"정보 추가 완료\")\n",
    "    elif menu == 2 :\n",
    "        cus_read()\n",
    "    elif menu == 3 :\n",
    "        print(\"종료\")\n",
    "        break\n"
   ]
  },
  {
   "cell_type": "code",
   "execution_count": 70,
   "metadata": {
    "colab": {
     "base_uri": "https://localhost:8080/"
    },
    "executionInfo": {
     "elapsed": 439,
     "status": "ok",
     "timestamp": 1630394306027,
     "user": {
      "displayName": "문승우",
      "photoUrl": "",
      "userId": "03306029417396722813"
     },
     "user_tz": -540
    },
    "id": "mJp9BHM9wk1v",
    "outputId": "f5a69ad2-4c15-4cd1-9ee3-1d7e18c0a92a"
   },
   "outputs": [
    {
     "name": "stdout",
     "output_type": "stream",
     "text": [
      "복사완료\n"
     ]
    }
   ],
   "source": [
    "# 이미지 프로그래밍\n",
    "file1 = \"smalldog.jpeg\"\n",
    "backup = \"smalldog_back.jpeg\"\n",
    "\n",
    "infile = open(file1, 'rb')\n",
    "outfile = open(backup, \"wb\")\n",
    "\n",
    "while True :\n",
    "    copy_buffer = infile.read(1024)\n",
    "\n",
    "    if not copy_buffer :\n",
    "        break\n",
    "    outfile.write(copy_buffer)\n",
    "\n",
    "infile.close()\n",
    "outfile.close()\n",
    "print(\"복사완료\")"
   ]
  },
  {
   "cell_type": "code",
   "execution_count": 71,
   "metadata": {
    "colab": {
     "base_uri": "https://localhost:8080/"
    },
    "executionInfo": {
     "elapsed": 216,
     "status": "ok",
     "timestamp": 1630394598328,
     "user": {
      "displayName": "문승우",
      "photoUrl": "",
      "userId": "03306029417396722813"
     },
     "user_tz": -540
    },
    "id": "oE9DWPiqEsrX",
    "outputId": "8a4ce247-2362-4088-e479-8d323029bcae"
   },
   "outputs": [
    {
     "name": "stdout",
     "output_type": "stream",
     "text": [
      "복사완료\n"
     ]
    }
   ],
   "source": [
    "# 실습\n",
    "# 파일 하나의 복사본을 2개씩 만든다.\n",
    "\n",
    "file1 = \"smalldog.jpeg\"\n",
    "backup1 = \"smalldog_back1.jpeg\"\n",
    "backup2 = \"smalldog_back2.jpeg\"\n",
    "\n",
    "infile = open(file1, 'rb')\n",
    "outfile1 = open(backup1, \"wb\")\n",
    "outfile2 = open(backup2, \"wb\")\n",
    "\n",
    "while True :\n",
    "    copy_buffer = infile.read(1024)\n",
    "\n",
    "    if not copy_buffer :\n",
    "        break\n",
    "    outfile1.write(copy_buffer)\n",
    "    outfile2.write(copy_buffer)\n",
    "\n",
    "infile.close()\n",
    "outfile1.close()\n",
    "outfile2.close()\n",
    "print(\"복사완료\")"
   ]
  },
  {
   "cell_type": "code",
   "execution_count": 74,
   "metadata": {
    "colab": {
     "base_uri": "https://localhost:8080/"
    },
    "executionInfo": {
     "elapsed": 4653,
     "status": "ok",
     "timestamp": 1630395060990,
     "user": {
      "displayName": "문승우",
      "photoUrl": "",
      "userId": "03306029417396722813"
     },
     "user_tz": -540
    },
    "id": "0uLiSHmMF0GA",
    "outputId": "e69c0e46-1706-4cd7-92a3-fcf428cd17ad"
   },
   "outputs": [
    {
     "name": "stdout",
     "output_type": "stream",
     "text": [
      "파일명을 입력하세요test01 test02\n"
     ]
    }
   ],
   "source": [
    "# 실습\n",
    "# (추가) 두개의 파일명을 지정\n",
    "#   test -> test01.jpeg, test02.jpeg\n",
    "name = input(\"파일명을 입력하세요 : \").split()\n",
    "one = name[0] + \".jpeg\"\n",
    "two = name[1] + \".jpeg\"\n",
    "file1 = \"smalldog.jpeg\"\n",
    "\n",
    "infile = open(file1, \"rb\")\n",
    "one_file = open(one, \"wb\")\n",
    "two_file = open(two, \"wb\")\n",
    "\n",
    "while True :\n",
    "    copy_buffer = infile.read(1024)\n",
    "\n",
    "    if not copy_buffer :\n",
    "        break\n",
    "\n",
    "    one_file.write(copy_buffer)\n",
    "    two_file.write(copy_buffer)\n",
    "\n",
    "print(\"복사 완료\")\n",
    "infile.close()\n",
    "one_file.close()\n",
    "two_file.close()"
   ]
  },
  {
   "cell_type": "code",
   "execution_count": 72,
   "metadata": {
    "executionInfo": {
     "elapsed": 262,
     "status": "ok",
     "timestamp": 1630395024795,
     "user": {
      "displayName": "문승우",
      "photoUrl": "",
      "userId": "03306029417396722813"
     },
     "user_tz": -540
    },
    "id": "DYRnoyRcHaCh"
   },
   "outputs": [],
   "source": []
  }
 ],
 "metadata": {
  "colab": {
   "authorship_tag": "ABX9TyNpmaMqg4VW/At0I0jR9KRq",
   "collapsed_sections": [],
   "name": "2021_08_31_4.ipynb",
   "provenance": []
  },
  "kernelspec": {
   "display_name": "Python 3 (ipykernel)",
   "language": "python",
   "name": "python3"
  },
  "language_info": {
   "codemirror_mode": {
    "name": "ipython",
    "version": 3
   },
   "file_extension": ".py",
   "mimetype": "text/x-python",
   "name": "python",
   "nbconvert_exporter": "python",
   "pygments_lexer": "ipython3",
   "version": "3.8.8"
  }
 },
 "nbformat": 4,
 "nbformat_minor": 1
}
