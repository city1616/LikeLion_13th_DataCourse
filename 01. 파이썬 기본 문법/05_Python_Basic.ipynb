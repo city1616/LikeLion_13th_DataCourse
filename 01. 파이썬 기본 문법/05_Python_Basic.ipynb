{
 "cells": [
  {
   "cell_type": "markdown",
   "metadata": {},
   "source": [
    "### 2021_08_31_2\n",
    "* 프로그래밍 실습\n",
    "* 지역변수 / 전역변수\n",
    "* 파일 읽고 쓰기"
   ]
  },
  {
   "cell_type": "code",
   "execution_count": null,
   "metadata": {
    "colab": {
     "base_uri": "https://localhost:8080/",
     "height": 137
    },
    "executionInfo": {
     "elapsed": 8231,
     "status": "ok",
     "timestamp": 1630372742629,
     "user": {
      "displayName": "문승우",
      "photoUrl": "",
      "userId": "03306029417396722813"
     },
     "user_tz": -540
    },
    "id": "4mkFwiHGvU1E",
    "outputId": "a8f4b172-223b-4b5e-f004-fe60cf34625d"
   },
   "outputs": [
    {
     "name": "stdout",
     "output_type": "stream",
     "text": [
      "단어를 입력하세요 : abc\n",
      "단어를 입력하세요 : abc\n",
      "단어를 입력하세요 : abc\n",
      "단어를 입력하세요 : q\n",
      "aaa\n"
     ]
    },
    {
     "data": {
      "application/vnd.google.colaboratory.intrinsic+json": {
       "type": "string"
      },
      "text/plain": [
       "'\\nch1, ch2, ch3 = input(\"단어를 입력하세요 : \").split()\\nresult = three_char(ch1, ch2, ch3)\\nprint(result)\\n'"
      ]
     },
     "execution_count": 8,
     "metadata": {},
     "output_type": "execute_result"
    }
   ],
   "source": [
    "# 프로그래밍 실습\n",
    "\n",
    "# 01. 세 개의 단어를 입력받아, 첫번째 문자만을 더해서 출력한다.\n",
    "'''\n",
    "result_list = []\n",
    "result_str = ''\n",
    "for i in range(3) :\n",
    "  word = input(\"단어를 입력하세요 : \")\n",
    "  result_list.append(word[0])\n",
    "  result_str = result_str + word[0]\n",
    "print(result_list)\n",
    "print(result_str)\n",
    "'''\n",
    "def three_char() :\n",
    "    result = ''\n",
    "    while True :\n",
    "        word = input(\"단어를 입력하세요 : \")\n",
    "        if word == 'q' :\n",
    "            break\n",
    "        else :\n",
    "            result = result + word[0]\n",
    "    return result\n",
    "\n",
    "print(three_char())\n",
    "\n",
    "'''\n",
    "ch1, ch2, ch3 = input(\"단어를 입력하세요 : \").split()\n",
    "result = three_char(ch1, ch2, ch3)\n",
    "print(result)\n",
    "'''"
   ]
  },
  {
   "cell_type": "code",
   "execution_count": null,
   "metadata": {
    "colab": {
     "base_uri": "https://localhost:8080/"
    },
    "executionInfo": {
     "elapsed": 400,
     "status": "ok",
     "timestamp": 1630372924083,
     "user": {
      "displayName": "문승우",
      "photoUrl": "",
      "userId": "03306029417396722813"
     },
     "user_tz": -540
    },
    "id": "utJxwwb0vr03",
    "outputId": "a82a8c93-cbdf-44c7-993b-6dba6a7c35d6"
   },
   "outputs": [
    {
     "name": "stdout",
     "output_type": "stream",
     "text": [
      "지역 탑 :  toto\n"
     ]
    }
   ],
   "source": [
    "# 02. 지역변수, 전역변수\n",
    "top1 = 'toto'\n",
    "def nameprint() :\n",
    "    print(\"지역 탑 : \", top1)\n",
    "\n",
    "nameprint()"
   ]
  },
  {
   "cell_type": "code",
   "execution_count": null,
   "metadata": {
    "colab": {
     "base_uri": "https://localhost:8080/"
    },
    "executionInfo": {
     "elapsed": 2,
     "status": "ok",
     "timestamp": 1630372998507,
     "user": {
      "displayName": "문승우",
      "photoUrl": "",
      "userId": "03306029417396722813"
     },
     "user_tz": -540
    },
    "id": "1meAuFx4zIcy",
    "outputId": "c791bbb4-8ded-4ab3-c9c0-a83e8873bfb0"
   },
   "outputs": [
    {
     "name": "stdout",
     "output_type": "stream",
     "text": [
      "지역 탑 :  banana\n",
      "전국 탑 :  toto\n"
     ]
    }
   ],
   "source": [
    "top2 = 'toto'\n",
    "def nameprint() :\n",
    "    top2 = 'banana'\n",
    "    print(\"지역 탑 : \", top2)\n",
    "\n",
    "nameprint()\n",
    "print(\"전국 탑 : \", top2)"
   ]
  },
  {
   "cell_type": "code",
   "execution_count": null,
   "metadata": {
    "colab": {
     "base_uri": "https://localhost:8080/"
    },
    "executionInfo": {
     "elapsed": 370,
     "status": "ok",
     "timestamp": 1630373059944,
     "user": {
      "displayName": "문승우",
      "photoUrl": "",
      "userId": "03306029417396722813"
     },
     "user_tz": -540
    },
    "id": "J0oKAjlazatJ",
    "outputId": "05143b24-02d3-4df5-fff8-7f79303860ad"
   },
   "outputs": [
    {
     "name": "stdout",
     "output_type": "stream",
     "text": [
      "지역 탑 :  banana\n",
      "전국 탑 :  banana\n"
     ]
    }
   ],
   "source": [
    "top3 = 'toto'\n",
    "def nameprint() :\n",
    "    global top3\n",
    "    top3 = 'banana'\n",
    "    print(\"지역 탑 : \", top3)\n",
    "\n",
    "nameprint()\n",
    "print(\"전국 탑 : \", top3)"
   ]
  },
  {
   "cell_type": "code",
   "execution_count": null,
   "metadata": {
    "colab": {
     "base_uri": "https://localhost:8080/"
    },
    "executionInfo": {
     "elapsed": 5865,
     "status": "ok",
     "timestamp": 1630373403781,
     "user": {
      "displayName": "문승우",
      "photoUrl": "",
      "userId": "03306029417396722813"
     },
     "user_tz": -540
    },
    "id": "ww5zXI3hzpns",
    "outputId": "d6339f65-f323-4671-966b-7e91a11ee1fd"
   },
   "outputs": [
    {
     "name": "stdout",
     "output_type": "stream",
     "text": [
      "이름을 입력하세요 : kim\n",
      "변경하고 싶은 이름을 입력하세요 : mark\n",
      "지역 이름 :  mark\n",
      "전국 이름 :  mark\n"
     ]
    }
   ],
   "source": [
    "# 실습 확인 1\n",
    "# 하나의 단어를 입력받고, 이를 함수에서 추가 변경한다.\n",
    "# 이를 최종적으로 출력해 보자.\n",
    "name = input(\"이름을 입력하세요 : \")\n",
    "def change_name() :\n",
    "    global name\n",
    "    name = input(\"변경하고 싶은 이름을 입력하세요 : \")\n",
    "    print(\"지역 이름 : \", name)\n",
    "\n",
    "change_name()\n",
    "print(\"전국 이름 : \", name)"
   ]
  },
  {
   "cell_type": "code",
   "execution_count": null,
   "metadata": {
    "colab": {
     "base_uri": "https://localhost:8080/"
    },
    "executionInfo": {
     "elapsed": 68248,
     "status": "ok",
     "timestamp": 1630374639149,
     "user": {
      "displayName": "문승우",
      "photoUrl": "",
      "userId": "03306029417396722813"
     },
     "user_tz": -540
    },
    "id": "MIiJmEv108Lu",
    "outputId": "b5e199e2-36ed-4541-9edb-87dc4cb2beff"
   },
   "outputs": [
    {
     "name": "stdout",
     "output_type": "stream",
     "text": [
      "1번째 시도\n",
      "id를 입력하세요 : a;dkjf;akdsjf;aksdjgldkjglskdjaflsdkfjakdlfjkaldjf\n",
      "id의 길이가 너무 깁니다. 다시 입력하세요.\n",
      "1번째 시도\n",
      "id를 입력하세요 : a;dlkfja;kdjf;kaj\n",
      "password를 입력하세요 : alsdkfj\n",
      "fail\n",
      "2번째 시도\n",
      "id를 입력하세요 : toto\n",
      "password를 입력하세요 : 1234\n",
      "success\n"
     ]
    }
   ],
   "source": [
    "# 05. 아이디 및 암호 입력 알고리즘 프로그램 만들기\n",
    "id1 = 'toto'\n",
    "pwd1 = '1234'\n",
    "\n",
    "cnt = 1\n",
    "while True :\n",
    "    print(f\"{cnt}번째 시도\")\n",
    "    your_id = input(\"id를 입력하세요 : \")\n",
    "    if len(your_id) >= 30 :\n",
    "        print(\"id의 길이가 너무 깁니다. 다시 입력하세요.\")\n",
    "        continue\n",
    "    your_pwd = input(\"password를 입력하세요 : \")\n",
    "    if your_id == id1 and your_pwd == pwd1 :\n",
    "        print(\"success\")\n",
    "        break\n",
    "    else :\n",
    "        print(\"fail\")\n",
    "  \n",
    "    if cnt == 5 :\n",
    "        print(\"5회 실패\")\n",
    "    cnt += 1"
   ]
  },
  {
   "cell_type": "code",
   "execution_count": null,
   "metadata": {
    "colab": {
     "base_uri": "https://localhost:8080/"
    },
    "executionInfo": {
     "elapsed": 389,
     "status": "ok",
     "timestamp": 1630376993916,
     "user": {
      "displayName": "문승우",
      "photoUrl": "",
      "userId": "03306029417396722813"
     },
     "user_tz": -540
    },
    "id": "a1_xWex03O8U",
    "outputId": "59ee7a02-4ff8-43a1-a327-71728b00abdd"
   },
   "outputs": [
    {
     "name": "stdout",
     "output_type": "stream",
     "text": [
      "ABCDEFGHIJKLMNOPQRSTUVWXYZabcdefghijklmnopqrstuvwxyz!\"#$%&'()*+,-./\n",
      "65 :  A\n",
      "90 :  Z\n",
      "97 :  a\n",
      "122 :  z\n"
     ]
    }
   ],
   "source": [
    "# 07. 프로그래밍 - 암호 생성기\n",
    "all_str = \"\" # 패스워드 문자열\n",
    "for x in range(65, 91) :\n",
    "    all_str += chr(x)\n",
    "for x in range(97, 123) :\n",
    "    all_str += chr(x)\n",
    "for x in range(33, 48) :\n",
    "    all_str += chr(x)\n",
    "print(all_str)\n",
    "print(\"65 : \", chr(65))\n",
    "print(\"90 : \", chr(90))\n",
    "print(\"97 : \", chr(97))\n",
    "print(\"122 : \", chr(122))"
   ]
  },
  {
   "cell_type": "code",
   "execution_count": null,
   "metadata": {
    "colab": {
     "base_uri": "https://localhost:8080/"
    },
    "executionInfo": {
     "elapsed": 373,
     "status": "ok",
     "timestamp": 1630376774361,
     "user": {
      "displayName": "문승우",
      "photoUrl": "",
      "userId": "03306029417396722813"
     },
     "user_tz": -540
    },
    "id": "mcc9Y1hC_SeE",
    "outputId": "2bcffb6f-159b-4f19-e791-0aad15433214"
   },
   "outputs": [
    {
     "name": "stdout",
     "output_type": "stream",
     "text": [
      "99\n"
     ]
    }
   ],
   "source": [
    "import random\n",
    "\n",
    "idx = random.randrange(100)\n",
    "print(idx)"
   ]
  },
  {
   "cell_type": "code",
   "execution_count": null,
   "metadata": {
    "colab": {
     "base_uri": "https://localhost:8080/",
     "height": 35
    },
    "executionInfo": {
     "elapsed": 374,
     "status": "ok",
     "timestamp": 1630377002117,
     "user": {
      "displayName": "문승우",
      "photoUrl": "",
      "userId": "03306029417396722813"
     },
     "user_tz": -540
    },
    "id": "_sjCld4rAQDw",
    "outputId": "dd67f9fc-8ed1-4952-d1f5-c5c6b77e60ad"
   },
   "outputs": [
    {
     "data": {
      "application/vnd.google.colaboratory.intrinsic+json": {
       "type": "string"
      },
      "text/plain": [
       "'tjajsJdUYN'"
      ]
     },
     "execution_count": 42,
     "metadata": {},
     "output_type": "execute_result"
    }
   ],
   "source": [
    "# 암호 생성기\n",
    "# 10글자 암호, 대문자 A ~ Z, a ~ z, 특수문자를 포함시킨다.\n",
    "\n",
    "import random\n",
    "\n",
    "def passGen() :\n",
    "    password = \"\"\n",
    "\n",
    "    for i in range(10) :\n",
    "        idx = random.randrange(len(all_str))\n",
    "        password = password + all_str[idx]\n",
    "    return password\n",
    "\n",
    "passGen()"
   ]
  },
  {
   "cell_type": "code",
   "execution_count": null,
   "metadata": {
    "colab": {
     "base_uri": "https://localhost:8080/"
    },
    "executionInfo": {
     "elapsed": 2048,
     "status": "ok",
     "timestamp": 1630377234083,
     "user": {
      "displayName": "문승우",
      "photoUrl": "",
      "userId": "03306029417396722813"
     },
     "user_tz": -540
    },
    "id": "adtyVgRVC8mC",
    "outputId": "3baba7f6-7159-486c-eed0-de5858a189f1"
   },
   "outputs": [
    {
     "name": "stdout",
     "output_type": "stream",
     "text": [
      "암호의 길이를 작성하시오 : 3\n",
      "abcdefghijklmnopqrstuvwxyz\n",
      "ABCDEFGHIJKLMNOPQRSTUVWXYZ\n",
      "0123456789\n",
      "!\"#$%&'()*+,-./:;<=>?@[\\]^_`{|}~\n",
      "f@k\n"
     ]
    }
   ],
   "source": [
    "import random\n",
    "import string\n",
    "\n",
    "length = int(input(\"암호의 길이를 작성하시오 : \"))\n",
    "\n",
    "lower = string.ascii_lowercase\n",
    "upper = string.ascii_uppercase\n",
    "num = string.digits\n",
    "symbol = string.punctuation\n",
    "\n",
    "# combine 4\n",
    "all = lower + upper + num + symbol\n",
    "\n",
    "# use Random\n",
    "temp = random.sample(all,length)\n",
    "\n",
    "# Create Password\n",
    "password = \"\".join(temp)\n",
    "\n",
    "# Print Password\n",
    "print(password)"
   ]
  },
  {
   "cell_type": "code",
   "execution_count": null,
   "metadata": {
    "id": "4rCTFRymAhmV"
   },
   "outputs": [],
   "source": [
    "# 파일 읽고 쓰기\n",
    "# 파일의 종류\n",
    "#   텍스트 파일 : 사람이 읽을 수 있는 텍스트 포함\n",
    "#   이진 파일 : 사람이 읽을 수 없으나, 컴퓨터는 읽을 수 있다.\n",
    "# 사전 작업\n",
    "#   메모장을 열어 내용을 간단하게 입력한 후, 파일 저장시 'ANSI'로 저장\n",
    "# read()함수, close()함수\n",
    "#   open(\"파일경로및파일명\", 파일모드(읽기, 쓰기, 추가), endcoding = '인코딩방식')\n",
    "#     파일 모드 - 읽기(r), 쓰기(w), 추가(a)\n",
    "#     인코딩 방식 = utf-8(다국어), euc-kr(한국어 지원)\n",
    "#   read() 파일 전체를 문자열로 읽어온다.\n",
    "#   close() 파일 닫기\n",
    "#     이를 안쓰면 종료될때까지 해당 파일의 수정은 불가능"
   ]
  },
  {
   "cell_type": "code",
   "execution_count": null,
   "metadata": {
    "id": "K0i97V2OEjJc"
   },
   "outputs": [],
   "source": []
  }
 ],
 "metadata": {
  "colab": {
   "authorship_tag": "ABX9TyNikbZAC+rEx/whEhcioPv1",
   "collapsed_sections": [],
   "name": "2021_08_31_2.ipynb",
   "provenance": []
  },
  "kernelspec": {
   "display_name": "Python 3 (ipykernel)",
   "language": "python",
   "name": "python3"
  },
  "language_info": {
   "codemirror_mode": {
    "name": "ipython",
    "version": 3
   },
   "file_extension": ".py",
   "mimetype": "text/x-python",
   "name": "python",
   "nbconvert_exporter": "python",
   "pygments_lexer": "ipython3",
   "version": "3.8.8"
  }
 },
 "nbformat": 4,
 "nbformat_minor": 1
}
