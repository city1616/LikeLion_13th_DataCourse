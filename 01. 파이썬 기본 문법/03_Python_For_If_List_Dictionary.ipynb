{
 "cells": [
  {
   "cell_type": "markdown",
   "metadata": {},
   "source": [
    "### 2021_08_30_2\n",
    "* 반복문\n",
    "* 조건문\n",
    "* 함수\n",
    "* 리스트\n",
    "* 딕셔너리"
   ]
  },
  {
   "cell_type": "code",
   "execution_count": 1,
   "metadata": {
    "executionInfo": {
     "elapsed": 5,
     "status": "ok",
     "timestamp": 1630286301215,
     "user": {
      "displayName": "문승우",
      "photoUrl": "",
      "userId": "03306029417396722813"
     },
     "user_tz": -540
    },
    "id": "1_FozYZ_olh1"
   },
   "outputs": [],
   "source": [
    "### CTRL + MB : 현재 셀 아래 생성\n",
    "### CTRL + MA : 현재 셀 위에 생성\n",
    "### CTRL + ENTER : 현재 셀 실행\n",
    "### SHIFT + ENTER : 현재 셀 실행하고 다음 셀로, 없으면 셀 추가\n",
    "### CTRL + MD : 셀 삭제"
   ]
  },
  {
   "cell_type": "code",
   "execution_count": 3,
   "metadata": {
    "colab": {
     "base_uri": "https://localhost:8080/",
     "height": 52
    },
    "executionInfo": {
     "elapsed": 3169,
     "status": "ok",
     "timestamp": 1630286336937,
     "user": {
      "displayName": "문승우",
      "photoUrl": "",
      "userId": "03306029417396722813"
     },
     "user_tz": -540
    },
    "id": "yNC97iXYnpMT",
    "outputId": "46f30b18-cfa3-4acf-bc1b-f025e87a2028"
   },
   "outputs": [
    {
     "name": "stdout",
     "output_type": "stream",
     "text": [
      "test\n"
     ]
    },
    {
     "data": {
      "application/vnd.google.colaboratory.intrinsic+json": {
       "type": "string"
      },
      "text/plain": [
       "'test'"
      ]
     },
     "execution_count": 3,
     "metadata": {},
     "output_type": "execute_result"
    }
   ],
   "source": [
    "### print()\n",
    "input()"
   ]
  },
  {
   "cell_type": "code",
   "execution_count": 4,
   "metadata": {
    "executionInfo": {
     "elapsed": 261,
     "status": "ok",
     "timestamp": 1630286447432,
     "user": {
      "displayName": "문승우",
      "photoUrl": "",
      "userId": "03306029417396722813"
     },
     "user_tz": -540
    },
    "id": "xyFU2qRqouJX"
   },
   "outputs": [],
   "source": [
    "## 변수\n",
    "## 자료형 변환 int(), str(), float(), list(), set(), dict()\n",
    "## 연산자 : +, -, *, /, //, %, **\n",
    "## 비교연산자 : ==, !=, <=, >=, =<(x)\n",
    "## and, or, not\n",
    "## in\n",
    "## if"
   ]
  },
  {
   "cell_type": "code",
   "execution_count": 9,
   "metadata": {
    "colab": {
     "base_uri": "https://localhost:8080/",
     "height": 52
    },
    "executionInfo": {
     "elapsed": 274,
     "status": "ok",
     "timestamp": 1630286882222,
     "user": {
      "displayName": "문승우",
      "photoUrl": "",
      "userId": "03306029417396722813"
     },
     "user_tz": -540
    },
    "id": "-htO86kApQDP",
    "outputId": "a942eea6-8ae7-405a-8d27-bca2843e8a29"
   },
   "outputs": [
    {
     "data": {
      "application/vnd.google.colaboratory.intrinsic+json": {
       "type": "string"
      },
      "text/plain": [
       "'\\nif(조건식) :\\n__실행문1\\n__실행문2\\n\\nif(조건식) :\\n__실행문1\\n__실행문2\\nelse :\\n__실행문1\\n__실행문2\\n\\nif(조건식) :\\n__실행문1\\n__실행문2\\nelif(조건식) :\\n__실행문1\\n__실행문2\\nelse :\\n__실행문1\\n__실행문2\\n'"
      ]
     },
     "execution_count": 9,
     "metadata": {},
     "output_type": "execute_result"
    }
   ],
   "source": [
    "### 들여쓰기\n",
    "'''\n",
    "if(조건식) :\n",
    "__실행문1\n",
    "__실행문2\n",
    "\n",
    "if(조건식) :\n",
    "__실행문1\n",
    "__실행문2\n",
    "else :\n",
    "__실행문1\n",
    "__실행문2\n",
    "\n",
    "if(조건식) :\n",
    "__실행문1\n",
    "__실행문2\n",
    "elif(조건식) :\n",
    "__실행문1\n",
    "__실행문2\n",
    "else :\n",
    "__실행문1\n",
    "__실행문2\n",
    "'''"
   ]
  },
  {
   "cell_type": "code",
   "execution_count": 7,
   "metadata": {
    "colab": {
     "base_uri": "https://localhost:8080/"
    },
    "executionInfo": {
     "elapsed": 256,
     "status": "ok",
     "timestamp": 1630286780901,
     "user": {
      "displayName": "문승우",
      "photoUrl": "",
      "userId": "03306029417396722813"
     },
     "user_tz": -540
    },
    "id": "GYNOKl9vqJ1n",
    "outputId": "d587bfca-d242-4ecc-a766-f3852e0973d6"
   },
   "outputs": [
    {
     "name": "stdout",
     "output_type": "stream",
     "text": [
      "[0, 2, 4, 6, 8]\n"
     ]
    }
   ],
   "source": [
    "a = list(range(0, 10, 2))\n",
    "print(a)"
   ]
  },
  {
   "cell_type": "code",
   "execution_count": 8,
   "metadata": {
    "colab": {
     "base_uri": "https://localhost:8080/",
     "height": 35
    },
    "executionInfo": {
     "elapsed": 262,
     "status": "ok",
     "timestamp": 1630286812699,
     "user": {
      "displayName": "문승우",
      "photoUrl": "",
      "userId": "03306029417396722813"
     },
     "user_tz": -540
    },
    "id": "P4ODQOL0qBV_",
    "outputId": "36492949-ed82-416c-a5da-2f976a974f26"
   },
   "outputs": [
    {
     "data": {
      "application/vnd.google.colaboratory.intrinsic+json": {
       "type": "string"
      },
      "text/plain": [
       "'\\nfor x in range(0, 10, 1) :\\n  print(x)\\n\\nfor x in range(10) \\n'"
      ]
     },
     "execution_count": 8,
     "metadata": {},
     "output_type": "execute_result"
    }
   ],
   "source": [
    "'''\n",
    "for x in range(0, 10, 1) :\n",
    "  print(x)\n",
    "\n",
    "for x in range(10) :\n",
    "  print(x)\n",
    "\n",
    "a = ['a', 'b', 'c']\n",
    "for x in a :\n",
    "  print(x)\n",
    "\n",
    "'''"
   ]
  },
  {
   "cell_type": "code",
   "execution_count": 10,
   "metadata": {
    "colab": {
     "base_uri": "https://localhost:8080/"
    },
    "executionInfo": {
     "elapsed": 263,
     "status": "ok",
     "timestamp": 1630286937761,
     "user": {
      "displayName": "문승우",
      "photoUrl": "",
      "userId": "03306029417396722813"
     },
     "user_tz": -540
    },
    "id": "Y0JxeTaHqpOW",
    "outputId": "796b53e8-3425-4087-e4a8-1fd1b57af20a"
   },
   "outputs": [
    {
     "name": "stdout",
     "output_type": "stream",
     "text": [
      "0\n",
      "1\n",
      "2\n",
      "3\n",
      "4\n",
      "5\n",
      "6\n",
      "7\n",
      "8\n",
      "9\n"
     ]
    }
   ],
   "source": [
    "for x in range(0, 10, 1) :\n",
    "    print(x)"
   ]
  },
  {
   "cell_type": "code",
   "execution_count": 13,
   "metadata": {
    "colab": {
     "base_uri": "https://localhost:8080/"
    },
    "executionInfo": {
     "elapsed": 256,
     "status": "ok",
     "timestamp": 1630286982269,
     "user": {
      "displayName": "문승우",
      "photoUrl": "",
      "userId": "03306029417396722813"
     },
     "user_tz": -540
    },
    "id": "3gWCnCz7rHwR",
    "outputId": "a8dfcb2f-004d-47b1-b186-13980453fe85"
   },
   "outputs": [
    {
     "name": "stdout",
     "output_type": "stream",
     "text": [
      "-10\n",
      "-9\n",
      "-8\n",
      "-7\n",
      "-6\n",
      "-5\n"
     ]
    }
   ],
   "source": [
    "for x in range(-10, -4, 1) :\n",
    "    print(x)"
   ]
  },
  {
   "cell_type": "code",
   "execution_count": 14,
   "metadata": {
    "colab": {
     "base_uri": "https://localhost:8080/"
    },
    "executionInfo": {
     "elapsed": 290,
     "status": "ok",
     "timestamp": 1630287175087,
     "user": {
      "displayName": "문승우",
      "photoUrl": "",
      "userId": "03306029417396722813"
     },
     "user_tz": -540
    },
    "id": "aerkA6rdrMee",
    "outputId": "ceebc8b7-986e-4ca1-d51a-1adfc3153b53"
   },
   "outputs": [
    {
     "name": "stdout",
     "output_type": "stream",
     "text": [
      "a\n",
      "b\n",
      "c\n"
     ]
    }
   ],
   "source": [
    "a = ['a', 'b', 'c']\n",
    "for x in a :\n",
    "    print(x)"
   ]
  },
  {
   "cell_type": "code",
   "execution_count": 15,
   "metadata": {
    "executionInfo": {
     "elapsed": 265,
     "status": "ok",
     "timestamp": 1630287304336,
     "user": {
      "displayName": "문승우",
      "photoUrl": "",
      "userId": "03306029417396722813"
     },
     "user_tz": -540
    },
    "id": "1xUlk9UUsBr4"
   },
   "outputs": [],
   "source": [
    "### 실습. 내가 좋아하는 음식 3가지를 리스트로 만들고 이를 출력해보기"
   ]
  },
  {
   "cell_type": "code",
   "execution_count": 17,
   "metadata": {
    "colab": {
     "base_uri": "https://localhost:8080/"
    },
    "executionInfo": {
     "elapsed": 6748,
     "status": "ok",
     "timestamp": 1630287387195,
     "user": {
      "displayName": "문승우",
      "photoUrl": "",
      "userId": "03306029417396722813"
     },
     "user_tz": -540
    },
    "id": "CiFLnUMYshQF",
    "outputId": "cccf0a30-7e90-4512-d1ad-0ea98ac05cf2"
   },
   "outputs": [
    {
     "name": "stdout",
     "output_type": "stream",
     "text": [
      "a\n",
      "b\n",
      "c\n",
      "['a', 'b', 'c']\n"
     ]
    }
   ],
   "source": [
    "foods = []\n",
    "for i in range(3) :\n",
    "    food = input()\n",
    "    foods.append(food)\n",
    "\n",
    "print(foods)"
   ]
  },
  {
   "cell_type": "code",
   "execution_count": 20,
   "metadata": {
    "colab": {
     "base_uri": "https://localhost:8080/"
    },
    "executionInfo": {
     "elapsed": 3646,
     "status": "ok",
     "timestamp": 1630287772009,
     "user": {
      "displayName": "문승우",
      "photoUrl": "",
      "userId": "03306029417396722813"
     },
     "user_tz": -540
    },
    "id": "kQNKUOFGssQB",
    "outputId": "c4d77bb8-d78d-43b6-8ebb-ac97b2f58433"
   },
   "outputs": [
    {
     "name": "stdout",
     "output_type": "stream",
     "text": [
      "음식 입력 : a\n",
      "음식 입력 : b\n",
      "음식 입력 : c\n",
      "0 a\n",
      "1 b\n",
      "2 c\n"
     ]
    }
   ],
   "source": [
    "myfood = []\n",
    "for x in range(3) :\n",
    "    item = input(\"음식 입력 : \")\n",
    "    myfood.append(item)\n",
    "\n",
    "for x, i in enumerate(myfood) :\n",
    "    print(x, i)"
   ]
  },
  {
   "cell_type": "code",
   "execution_count": 21,
   "metadata": {
    "colab": {
     "base_uri": "https://localhost:8080/",
     "height": 35
    },
    "executionInfo": {
     "elapsed": 282,
     "status": "ok",
     "timestamp": 1630287963683,
     "user": {
      "displayName": "문승우",
      "photoUrl": "",
      "userId": "03306029417396722813"
     },
     "user_tz": -540
    },
    "id": "FreFbryMtLYL",
    "outputId": "c89b916e-0916-4b15-adf2-55a2213ebb7c"
   },
   "outputs": [
    {
     "data": {
      "application/vnd.google.colaboratory.intrinsic+json": {
       "type": "string"
      },
      "text/plain": [
       "'\\ndef 함수명() :\\n__실행문1\\n\\nclass 클래스명 :\\n__\\n'"
      ]
     },
     "execution_count": 21,
     "metadata": {},
     "output_type": "execute_result"
    }
   ],
   "source": [
    "'''\n",
    "def 함수명() :\n",
    "__실행문1\n",
    "\n",
    "class 클래스명 :\n",
    "__\n",
    "'''"
   ]
  },
  {
   "cell_type": "code",
   "execution_count": 25,
   "metadata": {
    "colab": {
     "base_uri": "https://localhost:8080/"
    },
    "executionInfo": {
     "elapsed": 7977,
     "status": "ok",
     "timestamp": 1630288396593,
     "user": {
      "displayName": "문승우",
      "photoUrl": "",
      "userId": "03306029417396722813"
     },
     "user_tz": -540
    },
    "id": "5P6G1o9PvCJ-",
    "outputId": "8aec7b17-dd83-4b57-f4ae-957f76a7d944"
   },
   "outputs": [
    {
     "name": "stdout",
     "output_type": "stream",
     "text": [
      "age : 18\n",
      "birth month : 10\n",
      "빙고\n"
     ]
    }
   ],
   "source": [
    "# 10월, 18살 이상\n",
    "age = int(input(\"age : \"))\n",
    "birth_month = int(input(\"birth month : \"))\n",
    "if age >= 18 :\n",
    "  if birth_month == 10 :\n",
    "    print(\"빙고\")\n",
    "  else :\n",
    "    print(\"age는 18살 이지만 birth_month는 10월이 아닙니다.\")\n",
    "else :\n",
    "  print(\"age가 18살 미만입니다.\")"
   ]
  },
  {
   "cell_type": "code",
   "execution_count": 26,
   "metadata": {
    "colab": {
     "base_uri": "https://localhost:8080/"
    },
    "executionInfo": {
     "elapsed": 15,
     "status": "ok",
     "timestamp": 1630289314159,
     "user": {
      "displayName": "문승우",
      "photoUrl": "",
      "userId": "03306029417396722813"
     },
     "user_tz": -540
    },
    "id": "RVDT0OhRvnD5",
    "outputId": "4094d27b-cc56-4307-ba24-62fa6b277b93"
   },
   "outputs": [
    {
     "name": "stdout",
     "output_type": "stream",
     "text": [
      "(0, 'a')\n",
      "<class 'tuple'>\n",
      "(1, 'b')\n",
      "<class 'tuple'>\n",
      "(2, 'c')\n",
      "<class 'tuple'>\n"
     ]
    }
   ],
   "source": [
    "for i in enumerate(foods) :\n",
    "  print(i)\n",
    "  print(type(i))"
   ]
  },
  {
   "cell_type": "code",
   "execution_count": 28,
   "metadata": {
    "colab": {
     "base_uri": "https://localhost:8080/"
    },
    "executionInfo": {
     "elapsed": 270,
     "status": "ok",
     "timestamp": 1630289599497,
     "user": {
      "displayName": "문승우",
      "photoUrl": "",
      "userId": "03306029417396722813"
     },
     "user_tz": -540
    },
    "id": "rzf9CA8-0L5J",
    "outputId": "7c1131a3-b26a-440a-9951-c34cc0f6abf4"
   },
   "outputs": [
    {
     "name": "stdout",
     "output_type": "stream",
     "text": [
      "합은 5 입니다.\n",
      "5 와 2의 합은 7 입니다.\n",
      "5 와 2의 합은 7입니다.\n",
      "5 와 2의 나눈 값은 2.5입니다.\n"
     ]
    }
   ],
   "source": [
    "a = 5\n",
    "b = 2\n",
    "plus = a + b\n",
    "mul = a * b\n",
    "div = a / b # 결과값 형변환 5/2 = 2.5\n",
    "remainder = a % b\n",
    "power = a ** b\n",
    "print(\"합은 %d 입니다.\" % a)\n",
    "print(\"%d 와 %d의 합은 %d 입니다.\" % (a, b, plus))\n",
    "print(\"{} 와 {}의 합은 {}입니다.\".format(a, b, plus))\n",
    "print(f\"{a} 와 {b}의 나눈 값은 {div}입니다.\")"
   ]
  },
  {
   "cell_type": "code",
   "execution_count": 29,
   "metadata": {
    "colab": {
     "base_uri": "https://localhost:8080/"
    },
    "executionInfo": {
     "elapsed": 318,
     "status": "ok",
     "timestamp": 1630289975402,
     "user": {
      "displayName": "문승우",
      "photoUrl": "",
      "userId": "03306029417396722813"
     },
     "user_tz": -540
    },
    "id": "eGZECZmR0oFd",
    "outputId": "ccad102d-8ebe-4e60-854f-6bc4d04d6d1e"
   },
   "outputs": [
    {
     "name": "stdout",
     "output_type": "stream",
     "text": [
      "주문을 받고\n",
      "원두를 넣는다.\n",
      "기계를 돌려서 원액을 뽑고\n",
      "원액 및 재료를 넣어 커피를 만든다.\n",
      "주문을 받고\n",
      "원두를 넣는다.\n",
      "기계를 돌려서 원액을 뽑고\n",
      "원액 및 재료를 넣어 커피를 만든다.\n",
      "주문을 받고\n",
      "원두를 넣는다.\n",
      "기계를 돌려서 원액을 뽑고\n",
      "원액 및 재료를 넣어 커피를 만든다.\n"
     ]
    }
   ],
   "source": [
    "### 함수\n",
    "def coffee_make() :\n",
    "    print(\"주문을 받고\")\n",
    "    print(\"원두를 넣는다.\")\n",
    "    print(\"기계를 돌려서 원액을 뽑고\")\n",
    "    print(\"원액 및 재료를 넣어 커피를 만든다.\")\n",
    "\n",
    "coffee_make()\n",
    "coffee_make()\n",
    "coffee_make()"
   ]
  },
  {
   "cell_type": "markdown",
   "metadata": {
    "id": "VPI7avkZ3iig"
   },
   "source": [
    "def 함수명() :\n",
    "  실행문1\n",
    "  실행문2\n",
    "  for x in range():\n",
    "    print(X)\n",
    "  if 조건식1 :\n",
    "    print(x)"
   ]
  },
  {
   "cell_type": "code",
   "execution_count": 30,
   "metadata": {
    "colab": {
     "base_uri": "https://localhost:8080/",
     "height": 52
    },
    "executionInfo": {
     "elapsed": 272,
     "status": "ok",
     "timestamp": 1630290478765,
     "user": {
      "displayName": "문승우",
      "photoUrl": "",
      "userId": "03306029417396722813"
     },
     "user_tz": -540
    },
    "id": "mMX_WlVp3kEF",
    "outputId": "a8693c18-15eb-428a-c21e-27215bdbef55"
   },
   "outputs": [
    {
     "data": {
      "application/vnd.google.colaboratory.intrinsic+json": {
       "type": "string"
      },
      "text/plain": [
       "'\\n## 일을 시키고, 끝\\ndef 함수명() :\\n  실행문1\\n\\n## 일을 시키고, 결과를 전달, 값 반환\\ndef 함수명() :\\n  result = 5 + 3\\n  return result\\n\\n## 일을 시키고, 결과를 전달(정보를 전달)\\ndef 함수명(num1, num2) :\\n  result = num1 + num2\\n  return result\\n\\n## 일을 시키고, 결과를 전달(정보를 전달)\\ndef 함수명(num1, num2 = 0) :\\n  result = num1 + num2\\n  return result\\n'"
      ]
     },
     "execution_count": 30,
     "metadata": {},
     "output_type": "execute_result"
    }
   ],
   "source": [
    "'''\n",
    "## 일을 시키고, 끝\n",
    "def 함수명() :\n",
    "  실행문1\n",
    "\n",
    "## 일을 시키고, 결과를 전달, 값 반환\n",
    "def 함수명() :\n",
    "  result = 5 + 3\n",
    "  return result\n",
    "\n",
    "## 일을 시키고, 결과를 전달(정보를 전달)\n",
    "def 함수명(num1, num2) :\n",
    "  result = num1 + num2\n",
    "  return result\n",
    "\n",
    "## 일을 시키고, 결과를 전달(정보를 전달)\n",
    "def 함수명(num1, num2 = 0) :\n",
    "  result = num1 + num2\n",
    "  return result\n",
    "'''"
   ]
  },
  {
   "cell_type": "code",
   "execution_count": 49,
   "metadata": {
    "colab": {
     "base_uri": "https://localhost:8080/"
    },
    "executionInfo": {
     "elapsed": 260,
     "status": "ok",
     "timestamp": 1630297085421,
     "user": {
      "displayName": "문승우",
      "photoUrl": "",
      "userId": "03306029417396722813"
     },
     "user_tz": -540
    },
    "id": "JmplHUR84oQO",
    "outputId": "ce57511e-96e0-4271-ee25-d190f807c4a2"
   },
   "outputs": [
    {
     "name": "stdout",
     "output_type": "stream",
     "text": [
      "=========================\n",
      "=========================\n",
      "=========================\n",
      "=========================\n",
      "성공\n",
      "3\n",
      "1\n"
     ]
    }
   ],
   "source": [
    "### 실습 3 - 1. 아래 출력하는 함수 작성하기\n",
    "def twoline() :\n",
    "    print(\"=========================\")\n",
    "    print(\"=========================\")\n",
    "\n",
    "### 실습 3 - 2. 아래 출력하는 함수 작성하기. 호출한 친구에게 결과 완성. '성공'(True)값 전달\n",
    "def twoline_2() :\n",
    "    print(\"=========================\")\n",
    "    print(\"=========================\")\n",
    "    return '성공'\n",
    "\n",
    "twoline()\n",
    "result = twoline_2()\n",
    "print(result)\n",
    "\n",
    "### 실습 3 - 3. 두 값을 전달받아, 이를 더하는 함수 만들어보기\n",
    "def two_plus(num1, num2) :\n",
    "    res = num1 + num2\n",
    "    return res\n",
    "\n",
    "### 실습 3 - 4. 하나의 값은 0으로 초기값 지정, 두 개의 값을 더하는 함수 만들어보기\n",
    "def two_plus_2(num3, num4 = 0) :\n",
    "    res_2 = num3 + num4\n",
    "    return res_2\n",
    "\n",
    "val_1 = two_plus(1, 2)\n",
    "val_2 = two_plus_2(1)\n",
    "print(val_1)\n",
    "print(val_2)"
   ]
  },
  {
   "cell_type": "code",
   "execution_count": 43,
   "metadata": {
    "colab": {
     "base_uri": "https://localhost:8080/"
    },
    "executionInfo": {
     "elapsed": 6168,
     "status": "ok",
     "timestamp": 1630292037900,
     "user": {
      "displayName": "문승우",
      "photoUrl": "",
      "userId": "03306029417396722813"
     },
     "user_tz": -540
    },
    "id": "pkeYi0Yw5ODj",
    "outputId": "1b578a4b-0285-4a0a-fd62-e0bc09812c6c"
   },
   "outputs": [
    {
     "name": "stdout",
     "output_type": "stream",
     "text": [
      "첫번째값 : 3\n",
      "연산자 : 2\n",
      "두번째값 : 4\n",
      "값 입력 에러\n",
      "결과 :  None\n"
     ]
    }
   ],
   "source": [
    "def cal(num1, o, num2) :\n",
    "    if o == \"+\" :\n",
    "        return num1 + num2\n",
    "    elif o == \"-\" :\n",
    "        return num1 - num2\n",
    "    elif o == \"/\" :\n",
    "        return num1 / num2\n",
    "    elif o == \"*\" :\n",
    "        return num1 * num2\n",
    "    elif o == \"//\" :\n",
    "        return num1 // num2\n",
    "    elif o == \"%\" :\n",
    "        return num1 % num2\n",
    "    elif o == \"**\" :\n",
    "        return num1 ** num2\n",
    "    else :\n",
    "        print(\"값 입력 에러\")\n",
    "\n",
    "a = int(input(\"첫번째값 : \"))\n",
    "b = input(\"연산자 : \")\n",
    "c = int(input(\"두번째값 : \"))\n",
    "\n",
    "result = cal(a, b, c)\n",
    "print(\"결과 : \", result)"
   ]
  },
  {
   "cell_type": "code",
   "execution_count": 56,
   "metadata": {
    "colab": {
     "base_uri": "https://localhost:8080/"
    },
    "executionInfo": {
     "elapsed": 257,
     "status": "ok",
     "timestamp": 1630297468056,
     "user": {
      "displayName": "문승우",
      "photoUrl": "",
      "userId": "03306029417396722813"
     },
     "user_tz": -540
    },
    "id": "xdQUMuCt65RH",
    "outputId": "913d2c3e-b5cb-4e8d-a08c-9496ef9354ef"
   },
   "outputs": [
    {
     "name": "stdout",
     "output_type": "stream",
     "text": [
      "content1 :  hello, content2 :  default, content3 :  default\n"
     ]
    }
   ],
   "source": [
    "def myprint(content1, content2 = \"default\", content3 = \"default\") :\n",
    "    print(\"content1 : \", content1, end = \", \")\n",
    "    print(\"content2 : \", content2, end = \", \")\n",
    "    print(\"content3 : \", content3)\n",
    "\n",
    "myprint(\"hello\")"
   ]
  },
  {
   "cell_type": "code",
   "execution_count": 59,
   "metadata": {
    "colab": {
     "base_uri": "https://localhost:8080/"
    },
    "executionInfo": {
     "elapsed": 263,
     "status": "ok",
     "timestamp": 1630297708787,
     "user": {
      "displayName": "문승우",
      "photoUrl": "",
      "userId": "03306029417396722813"
     },
     "user_tz": -540
    },
    "id": "DYv0b66ySEQq",
    "outputId": "c3f5dc07-52c6-4923-92c8-efa01ac42d13"
   },
   "outputs": [
    {
     "name": "stdout",
     "output_type": "stream",
     "text": [
      "hello/default/default입니다.\n",
      "hello,default,default입니다.\n"
     ]
    }
   ],
   "source": [
    "def myprint(content1, content2 = \"default\", content3 = \"default\", sep1 = \"/\", sep2 = \",\", end1 = \"입니다.\\n\") :\n",
    "    print(content1, content2, content3, sep = sep1, end = end1)\n",
    "    print(content1, content2, content3, sep = sep2, end = end1)\n",
    "\n",
    "myprint(\"hello\")"
   ]
  },
  {
   "cell_type": "markdown",
   "metadata": {
    "id": "J3Arq4AhU5fE"
   },
   "source": []
  },
  {
   "cell_type": "code",
   "execution_count": 85,
   "metadata": {
    "colab": {
     "base_uri": "https://localhost:8080/"
    },
    "executionInfo": {
     "elapsed": 3822,
     "status": "ok",
     "timestamp": 1630298943524,
     "user": {
      "displayName": "문승우",
      "photoUrl": "",
      "userId": "03306029417396722813"
     },
     "user_tz": -540
    },
    "id": "eCDkixgaT_Gk",
    "outputId": "e59c5a40-a222-4b04-e13c-9b92b41e3a37"
   },
   "outputs": [
    {
     "name": "stdout",
     "output_type": "stream",
     "text": [
      "값 입력: 3\n",
      "값 입력: \n",
      "값 입력: \n",
      "3, , 입니다.\n",
      "<class 'str'> __ <class 'str'> __ <class 'str'>\n",
      "성공\n"
     ]
    }
   ],
   "source": [
    "def myprint(char1, char2 = \"\", char3 = \"\", sep1 = \" __ \", sep2 = \", \", end1 = \"입니다.\\n\") :\n",
    "    if len(char1) > 1 or len(char2) > 1 or len(char3) > 1 :\n",
    "        return False\n",
    "    else :\n",
    "        print(char1, char2, char3, sep = sep2, end = end1)\n",
    "        print(type(char1), type(char2), type(char3), sep = f\"{sep1}\")\n",
    "        return True\n",
    "a = input(\"값 입력: \")\n",
    "b = input(\"값 입력: \")\n",
    "c =input(\"값 입력: \")\n",
    "if myprint(a, b, c) == False :\n",
    "    print(\"에러\")\n",
    "else :\n",
    "    print(\"성공\")\n"
   ]
  },
  {
   "cell_type": "code",
   "execution_count": 80,
   "metadata": {
    "executionInfo": {
     "elapsed": 316,
     "status": "ok",
     "timestamp": 1630298824506,
     "user": {
      "displayName": "문승우",
      "photoUrl": "",
      "userId": "03306029417396722813"
     },
     "user_tz": -540
    },
    "id": "7bSUhhBQVHWA"
   },
   "outputs": [],
   "source": [
    "f\n",
    "def myprint(str1, str2=\"d\", str3=\"df\") :\n",
    "    print(str1, str2, end = f\"{str3}\\n\") \n",
    "    print(type(str1))\n"
   ]
  },
  {
   "cell_type": "code",
   "execution_count": 81,
   "metadata": {
    "colab": {
     "base_uri": "https://localhost:8080/"
    },
    "executionInfo": {
     "elapsed": 270,
     "status": "ok",
     "timestamp": 1630298826493,
     "user": {
      "displayName": "문승우",
      "photoUrl": "",
      "userId": "03306029417396722813"
     },
     "user_tz": -540
    },
    "id": "YV7QlS8XYTQv",
    "outputId": "b2b40d48-f976-42f6-8188-265a1320ce9d"
   },
   "outputs": [
    {
     "name": "stdout",
     "output_type": "stream",
     "text": [
      "a ddf\n",
      "<class 'str'>\n"
     ]
    }
   ],
   "source": [
    "myprint(\"a\")"
   ]
  },
  {
   "cell_type": "code",
   "execution_count": 86,
   "metadata": {
    "colab": {
     "base_uri": "https://localhost:8080/"
    },
    "executionInfo": {
     "elapsed": 262,
     "status": "ok",
     "timestamp": 1630300338753,
     "user": {
      "displayName": "문승우",
      "photoUrl": "",
      "userId": "03306029417396722813"
     },
     "user_tz": -540
    },
    "id": "OJy_fJN5YWZS",
    "outputId": "a2dd9141-9ba9-4575-90c2-373556c6a395"
   },
   "outputs": [
    {
     "name": "stdout",
     "output_type": "stream",
     "text": [
      "Hello, World!\n"
     ]
    }
   ],
   "source": [
    "### 들여쓰기 . : - 들여쓰기\n",
    "### 함수\n",
    "### 리스트, 딕셔너리, 집합\n",
    "### 리스트 : 순서가 있음\n",
    "### 딕셔너리 : key 와 value로 이루어져 있어 접근성이 좋고, 값을 빠르게 검색 가능\n",
    "### 집합 : 순서가 없고, 중복을 제거해 준다.\n",
    "\n",
    "# 문자열\n",
    "str1 = \"Hello, World!\"\n",
    "print(str1)\n"
   ]
  },
  {
   "cell_type": "code",
   "execution_count": 92,
   "metadata": {
    "colab": {
     "base_uri": "https://localhost:8080/"
    },
    "executionInfo": {
     "elapsed": 423,
     "status": "ok",
     "timestamp": 1630300764822,
     "user": {
      "displayName": "문승우",
      "photoUrl": "",
      "userId": "03306029417396722813"
     },
     "user_tz": -540
    },
    "id": "f6ejdE7aePe8",
    "outputId": "8d40caf2-7d3b-4293-d955-145a4fe6a1a8"
   },
   "outputs": [
    {
     "name": "stdout",
     "output_type": "stream",
     "text": [
      "H\n",
      "Hello\n",
      "World!\n",
      "World!\n",
      "Hello, World!\n"
     ]
    }
   ],
   "source": [
    "# 문자열 인덱싱, 슬라이싱\n",
    "# 인덱싱(indexing) : 값을 하나 하나 선택\n",
    "# 슬라이싱(slicing) : 값을 조각 단위로 선택\n",
    "print(str1[0])\n",
    "print(str1[0 : 5])\n",
    "print(str1[7 : ])\n",
    "print(str1[-6 : ])\n",
    "print(str1[ : ])"
   ]
  },
  {
   "cell_type": "code",
   "execution_count": 98,
   "metadata": {
    "colab": {
     "base_uri": "https://localhost:8080/"
    },
    "executionInfo": {
     "elapsed": 261,
     "status": "ok",
     "timestamp": 1630300988032,
     "user": {
      "displayName": "문승우",
      "photoUrl": "",
      "userId": "03306029417396722813"
     },
     "user_tz": -540
    },
    "id": "5hhh1kKqeTJ6",
    "outputId": "50c79723-b5ba-4f7c-ef6d-a9188be6c34b"
   },
   "outputs": [
    {
     "name": "stdout",
     "output_type": "stream",
     "text": [
      "5\n",
      "5\n",
      "[4, 5]\n",
      "[1, 4, 'a']\n",
      "[5, 3]\n"
     ]
    }
   ],
   "source": [
    "# 리스트\n",
    "a = [1, 3, 4, 5, 'a']\n",
    "a\n",
    "\n",
    "print(a[3])\n",
    "print(a[-2])\n",
    "print(a[2 : 4])\n",
    "print(a[0 : 5 : 2])\n",
    "print(a[-2 : : -2])"
   ]
  },
  {
   "cell_type": "code",
   "execution_count": 100,
   "metadata": {
    "colab": {
     "base_uri": "https://localhost:8080/"
    },
    "executionInfo": {
     "elapsed": 262,
     "status": "ok",
     "timestamp": 1630301184507,
     "user": {
      "displayName": "문승우",
      "photoUrl": "",
      "userId": "03306029417396722813"
     },
     "user_tz": -540
    },
    "id": "yU1vgg_Of8E0",
    "outputId": "79e8174f-b227-431c-972f-df6488472c40"
   },
   "outputs": [
    {
     "name": "stdout",
     "output_type": "stream",
     "text": [
      "[1, 2, 3, 4, 5]\n",
      "2\n"
     ]
    }
   ],
   "source": [
    "# 1차원 리스트\n",
    "a = [1, 2, 3, 4, 5]\n",
    "print(a)\n",
    "\n",
    "# 2차원 리스트\n",
    "a1 = [[1, 2], [11, 22], [111, 222]]\n",
    "print(a1[0][1])"
   ]
  },
  {
   "cell_type": "code",
   "execution_count": 108,
   "metadata": {
    "colab": {
     "base_uri": "https://localhost:8080/"
    },
    "executionInfo": {
     "elapsed": 254,
     "status": "ok",
     "timestamp": 1630301464321,
     "user": {
      "displayName": "문승우",
      "photoUrl": "",
      "userId": "03306029417396722813"
     },
     "user_tz": -540
    },
    "id": "ygvvBN0-hawt",
    "outputId": "cd067d18-1652-4f43-8a09-e1dfaa8b7f85"
   },
   "outputs": [
    {
     "name": "stdout",
     "output_type": "stream",
     "text": [
      "2 22 222 "
     ]
    }
   ],
   "source": [
    "# 실습 for문을 이용해서 2, 22, 222를 출력시켜보기\n",
    "\n",
    "a1 = [[1, 2], [11, 22], [111, 222]]\n",
    "for i in a1 :\n",
    "    print(i[1], end = \" \")\n"
   ]
  },
  {
   "cell_type": "code",
   "execution_count": 110,
   "metadata": {
    "colab": {
     "base_uri": "https://localhost:8080/"
    },
    "executionInfo": {
     "elapsed": 272,
     "status": "ok",
     "timestamp": 1630301644050,
     "user": {
      "displayName": "문승우",
      "photoUrl": "",
      "userId": "03306029417396722813"
     },
     "user_tz": -540
    },
    "id": "tX3qDrEmhpyr",
    "outputId": "cfafc820-3ec1-41a0-dff0-b767f62e1f21"
   },
   "outputs": [
    {
     "name": "stdout",
     "output_type": "stream",
     "text": [
      "222\n",
      "tmp :  [222]\n"
     ]
    }
   ],
   "source": [
    "# 실습 위 세 값 중에 100을 넘는 값만 출력해 보기\n",
    "a1 = [[1, 2], [11, 22], [111, 222]]\n",
    "tmp = []\n",
    "for i in a1 :\n",
    "    if i[1] >= 100 :\n",
    "        tmp.append(i[1])\n",
    "        print(i[1])\n",
    "\n",
    "print(\"tmp : \", tmp)"
   ]
  },
  {
   "cell_type": "code",
   "execution_count": 119,
   "metadata": {
    "colab": {
     "base_uri": "https://localhost:8080/"
    },
    "executionInfo": {
     "elapsed": 269,
     "status": "ok",
     "timestamp": 1630302065719,
     "user": {
      "displayName": "문승우",
      "photoUrl": "",
      "userId": "03306029417396722813"
     },
     "user_tz": -540
    },
    "id": "R7qxc2ueiaYE",
    "outputId": "53fb4857-8320-412a-87c5-c3424f605649"
   },
   "outputs": [
    {
     "name": "stdout",
     "output_type": "stream",
     "text": [
      "[1, 2, 3, 1, 2, 3, 4]\n",
      "[1, 2, 3, 4, 5]\n",
      "[1, 2, 3, 4]\n",
      "[1, 2, 3, 4, [1, 2, 3, 4]]\n"
     ]
    }
   ],
   "source": [
    "# 문자열 - 인덱싱, 슬라이싱\n",
    "# 리스트 - 인덱싱, 슬라이싱\n",
    "\n",
    "# 리스트 연산\n",
    "a = [1, 2, 3]\n",
    "b = [1, 2, 3, 4]\n",
    "print(a + b)\n",
    "\n",
    "# 리스트 값 추가\n",
    "a.append(4)\n",
    "a.append(5)\n",
    "print(a)\n",
    "\n",
    "# 리스트 값 삭제\n",
    "a.remove(5)\n",
    "print(a)\n",
    "\n",
    "a.append(b)\n",
    "print(a)"
   ]
  },
  {
   "cell_type": "code",
   "execution_count": 122,
   "metadata": {
    "colab": {
     "base_uri": "https://localhost:8080/"
    },
    "executionInfo": {
     "elapsed": 432,
     "status": "ok",
     "timestamp": 1630302122820,
     "user": {
      "displayName": "문승우",
      "photoUrl": "",
      "userId": "03306029417396722813"
     },
     "user_tz": -540
    },
    "id": "vs3VUFqEjswH",
    "outputId": "1841f401-3334-4287-8a5a-aefb659cb8c1"
   },
   "outputs": [
    {
     "name": "stdout",
     "output_type": "stream",
     "text": [
      "[1, 2, 3, 1, 2, 3, 4]\n"
     ]
    }
   ],
   "source": [
    "# 리스트에 리스트 값 추가\n",
    "a = [1, 2, 3]\n",
    "b = [1, 2, 3, 4]\n",
    "'''\n",
    "for x in b :\n",
    "  a.append(x)\n",
    "print(a)\n",
    "'''\n",
    "a.extend(b)\n",
    "print(a)"
   ]
  },
  {
   "cell_type": "code",
   "execution_count": 126,
   "metadata": {
    "colab": {
     "base_uri": "https://localhost:8080/"
    },
    "executionInfo": {
     "elapsed": 440408,
     "status": "ok",
     "timestamp": 1630302891907,
     "user": {
      "displayName": "문승우",
      "photoUrl": "",
      "userId": "03306029417396722813"
     },
     "user_tz": -540
    },
    "id": "r0JJdaVNk1_H",
    "outputId": "f147d9bc-4c8f-4230-ca60-800d150af107"
   },
   "outputs": [
    {
     "name": "stdout",
     "output_type": "stream",
     "text": [
      "원하는 음식을 입력하세요 : ㅁ\n",
      "원하는 음식을 입력하세요 : ㅠ\n",
      "원하는 음식을 입력하세요 : q\n",
      "myfood :  ['ㅁ', 'ㅠ']\n",
      "삭제하고 싶은 음식을 입력하세요 : d\n",
      "원하는 음식이 없습니다. 다시 입력하세요\n",
      "삭제하고 싶은 음식을 입력하세요 : f\n",
      "원하는 음식이 없습니다. 다시 입력하세요\n",
      "삭제하고 싶은 음식을 입력하세요 : ㅠ\n",
      "삭제하고 싶은 음식을 입력하세요 : q\n",
      "최종 myfood :  ['ㅁ']\n"
     ]
    }
   ],
   "source": [
    "# 5-4 실습 - 원하는 음식을 q가 나올때까지 추가(append), 추가 후, 다시 빼고 싶은 음식을 빼준다.\n",
    "myfood = []\n",
    "while True :\n",
    "    item = input(\"원하는 음식을 입력하세요 : \")\n",
    "    if item == 'q' :\n",
    "        break\n",
    "    else :\n",
    "        myfood.append(item)\n",
    "\n",
    "print(\"myfood : \", myfood)\n",
    "\n",
    "while True :\n",
    "    item = input(\"삭제하고 싶은 음식을 입력하세요 : \")\n",
    "    if item == 'q' :\n",
    "        break\n",
    "    elif item not in myfood :\n",
    "        print(\"원하는 음식이 없습니다. 다시 입력하세요\")\n",
    "    else :\n",
    "        myfood.remove(item)\n",
    "\n",
    "print(\"최종 myfood : \", myfood)\n"
   ]
  },
  {
   "cell_type": "code",
   "execution_count": 131,
   "metadata": {
    "colab": {
     "base_uri": "https://localhost:8080/"
    },
    "executionInfo": {
     "elapsed": 14505,
     "status": "ok",
     "timestamp": 1630303580840,
     "user": {
      "displayName": "문승우",
      "photoUrl": "",
      "userId": "03306029417396722813"
     },
     "user_tz": -540
    },
    "id": "2vFZUer8l1t1",
    "outputId": "3f417017-d4c8-46bf-969a-60c14316ac49"
   },
   "outputs": [
    {
     "name": "stdout",
     "output_type": "stream",
     "text": [
      "==========================\n",
      "1. 원하는 음식 입력하기\n",
      "2. 음식 삭제하기\n",
      "3. 최종 입력된 음식 보기\n",
      "4. 종료\n",
      "==========================\n",
      "메뉴를 선택하세요 : 1\n",
      "원하는 음식을 입력하세요 : ㄹㅇ니아ㅓ리나얼만얼;ㅏ어리ㅓ미나어리ㅏㄴ머알\n",
      "ㄹㅇ니아ㅓ리나얼만얼;ㅏ어리ㅓ미나어리ㅏㄴ머알 은 너무 깁니다. 다시 입력해주세요.\n",
      "원하는 음식을 입력하세요 : q\n",
      "==========================\n",
      "1. 원하는 음식 입력하기\n",
      "2. 음식 삭제하기\n",
      "3. 최종 입력된 음식 보기\n",
      "4. 종료\n",
      "==========================\n",
      "메뉴를 선택하세요 : 4\n",
      "프로그램을 종료합니다.\n"
     ]
    }
   ],
   "source": [
    "def food_menu(menu_index) :\n",
    "    myfood = []\n",
    "\n",
    "    while True :\n",
    "        print(\"==========================\")\n",
    "        print(\"1. 원하는 음식 입력하기\")\n",
    "        print(\"2. 음식 삭제하기\")\n",
    "        print(\"3. 최종 입력된 음식 보기\")\n",
    "        print(\"4. 종료\")\n",
    "        print(\"==========================\")\n",
    "\n",
    "        menu = int(input(\"메뉴를 선택하세요 : \"))\n",
    "\n",
    "        if menu == 1 :\n",
    "            while True :\n",
    "                item = input(\"원하는 음식을 입력하세요 : \")\n",
    "                if item == 'q' :\n",
    "                    break\n",
    "                elif len(item) >= 20 :\n",
    "                    print(item, \"은 너무 깁니다. 다시 입력해주세요.\")\n",
    "                elif item in myfood :\n",
    "                    print(item, \"은 이미 존재합니다. 다시 입력해주세요.\")\n",
    "                else :\n",
    "                    myfood.append(item)\n",
    "        elif menu == 2 :\n",
    "            while True :\n",
    "                item = input(\"삭제하고 싶은 음식을 입력하세요 : \")\n",
    "                if item == 'q' :\n",
    "                    break\n",
    "                elif item not in myfood :\n",
    "                    print(\"원하는 음식이 없습니다. 다시 입력하세요\")\n",
    "                else :\n",
    "                    myfood.remove(item)\n",
    "        elif menu == 3 :\n",
    "            print(\"최종 myfood : \", myfood)\n",
    "        elif menu == 4 :\n",
    "            print(\"프로그램을 종료합니다.\")\n",
    "            break"
   ]
  },
  {
   "cell_type": "code",
   "execution_count": 141,
   "metadata": {
    "colab": {
     "base_uri": "https://localhost:8080/"
    },
    "executionInfo": {
     "elapsed": 282,
     "status": "ok",
     "timestamp": 1630304712489,
     "user": {
      "displayName": "문승우",
      "photoUrl": "",
      "userId": "03306029417396722813"
     },
     "user_tz": -540
    },
    "id": "ezvQ4ysKnxUE",
    "outputId": "a9871200-6d6c-402a-9aba-0fd4a075864d"
   },
   "outputs": [
    {
     "name": "stdout",
     "output_type": "stream",
     "text": [
      "[1, 2, 3, 4]\n",
      "(1, 2, 3, 4)\n",
      "<class 'list'> <class 'tuple'>\n",
      "[1, 2, 30, 4]\n"
     ]
    }
   ],
   "source": [
    "# 리스트 : [ ], 데이터 추가, 변경, 삭제 가능\n",
    "# 튜플 : ( ), 데이터 추가, 변경, 삭제 불가능\n",
    "# 리스트 vs 튜플\n",
    "#   공통점 : 둘 다 순서가 있다.\n",
    "#   리스트는 원소 변경 가능\n",
    "#   튜플은 원소 변경이 어렵다.\n",
    "#     튜플은 왜 쓸까?\n",
    "#       튜플이 리스트에 비해 정보를 덜 담고 있어서 정보 교환시 비교적 빠름, 메모리 면에서 더 효율적이다.\n",
    "\n",
    "# 딕셔너리 : {key1 : val1, key2 : val2, key3 : val3}\n",
    "# 딕셔너리 접근 : dict[\"key1\"]\n",
    "# 집합 : set()\n",
    "\n",
    "a = [1, 2, 3, 4]\n",
    "a1 = (1, 2, 3, 4)\n",
    "\n",
    "print(a)\n",
    "print(a1)\n",
    "print(type(a), type(a1))\n",
    "a[2] = 30\n",
    "print(a)\n"
   ]
  },
  {
   "cell_type": "code",
   "execution_count": 143,
   "metadata": {
    "colab": {
     "base_uri": "https://localhost:8080/"
    },
    "executionInfo": {
     "elapsed": 334,
     "status": "ok",
     "timestamp": 1630304912102,
     "user": {
      "displayName": "문승우",
      "photoUrl": "",
      "userId": "03306029417396722813"
     },
     "user_tz": -540
    },
    "id": "-1TFpX4YtFYi",
    "outputId": "d4ba0e50-7ce6-4120-aa6e-497b8d0d18ac"
   },
   "outputs": [
    {
     "data": {
      "text/plain": [
       "['사과', '애플']"
      ]
     },
     "execution_count": 143,
     "metadata": {},
     "output_type": "execute_result"
    }
   ],
   "source": [
    "dict1 = {'apple' : [\"사과\", \"애플\"], 'run' : [\"달리다\", \"동작하다\"], 'class' : (\"수업\", \"반\")}\n",
    "dict1[\"apple\"]\n"
   ]
  },
  {
   "cell_type": "code",
   "execution_count": 156,
   "metadata": {
    "colab": {
     "base_uri": "https://localhost:8080/"
    },
    "executionInfo": {
     "elapsed": 252,
     "status": "ok",
     "timestamp": 1630305337233,
     "user": {
      "displayName": "문승우",
      "photoUrl": "",
      "userId": "03306029417396722813"
     },
     "user_tz": -540
    },
    "id": "gzj-jmk3vqe4",
    "outputId": "6a5e97b1-1f6a-4e68-96e9-6350f2c2e6a6"
   },
   "outputs": [
    {
     "data": {
      "text/plain": [
       "dict_values([['사과', '애플'], ['달리다', '동작하다'], ('수업', '반'), ['바나나']])"
      ]
     },
     "execution_count": 156,
     "metadata": {},
     "output_type": "execute_result"
    }
   ],
   "source": [
    "# 키, 값 전체 출력\n",
    "dict1.items()\n",
    "\n",
    "# 키 값만 출력\n",
    "dict1.keys()\n",
    "\n",
    "# 값만 출력\n",
    "dict1.values()"
   ]
  },
  {
   "cell_type": "code",
   "execution_count": 157,
   "metadata": {
    "colab": {
     "base_uri": "https://localhost:8080/"
    },
    "executionInfo": {
     "elapsed": 420,
     "status": "ok",
     "timestamp": 1630305472480,
     "user": {
      "displayName": "문승우",
      "photoUrl": "",
      "userId": "03306029417396722813"
     },
     "user_tz": -540
    },
    "id": "S66wMnyXvvSh",
    "outputId": "6cfcb8da-2a31-4900-eae0-eb46b621bfc0"
   },
   "outputs": [
    {
     "name": "stdout",
     "output_type": "stream",
     "text": [
      "key :  apple value :  ['사과', '애플']\n",
      "key :  run value :  ['달리다', '동작하다']\n",
      "key :  class value :  ('수업', '반')\n",
      "단어 :  apple 뜻 ['사과', '애플']\n",
      "단어 :  run 뜻 ['달리다', '동작하다']\n",
      "단어 :  class 뜻 ('수업', '반')\n"
     ]
    }
   ],
   "source": [
    "# 6-2 실습확인 - for문으로 아래 값을 출력해 보기\n",
    "\n",
    "dict1 = {'apple' : [\"사과\", \"애플\"], 'run' : [\"달리다\", \"동작하다\"], 'class' : (\"수업\", \"반\")}\n",
    "for key in dict1 :\n",
    "    print(\"key : \", key, \"value : \", dict1[key])\n",
    "\n",
    "for key, val in dict1.items() :\n",
    "    print(\"단어 : \", key, \"뜻\", val)"
   ]
  },
  {
   "cell_type": "code",
   "execution_count": 178,
   "metadata": {
    "colab": {
     "base_uri": "https://localhost:8080/"
    },
    "executionInfo": {
     "elapsed": 197880,
     "status": "ok",
     "timestamp": 1630306738424,
     "user": {
      "displayName": "문승우",
      "photoUrl": "",
      "userId": "03306029417396722813"
     },
     "user_tz": -540
    },
    "id": "vGQBZ9czwM5U",
    "outputId": "9d31c372-71a0-44f6-910e-02b8f6ee73f5"
   },
   "outputs": [
    {
     "name": "stdout",
     "output_type": "stream",
     "text": [
      "-------------\n",
      "1. 단어 입력\n",
      "2. 단어 출력\n",
      "3. 종료\n",
      "-------------\n",
      "메뉴를 선택하세요 : 1\n",
      "단어를 입력하세요 : a\n",
      "뜻을 입력하세요 : d, f, e\n",
      "-------------\n",
      "1. 단어 입력\n",
      "2. 단어 출력\n",
      "3. 종료\n",
      "-------------\n",
      "메뉴를 선택하세요 : 2\n",
      "단어 :  apple 뜻 ['사과', '애플']\n",
      "단어 :  run 뜻 ['달리다', '동작하다']\n",
      "단어 :  class 뜻 ('수업', '반')\n",
      "단어 :  a 뜻 ['d', 'f', 'e']\n",
      "-------------\n",
      "1. 단어 입력\n",
      "2. 단어 출력\n",
      "3. 종료\n",
      "-------------\n",
      "메뉴를 선택하세요 : 1\n",
      "단어를 입력하세요 : fa\n",
      "뜻을 입력하세요 : fd,fs,fd\n",
      "-------------\n",
      "1. 단어 입력\n",
      "2. 단어 출력\n",
      "3. 종료\n",
      "-------------\n",
      "메뉴를 선택하세요 : 2\n",
      "단어 :  apple 뜻 ['사과', '애플']\n",
      "단어 :  run 뜻 ['달리다', '동작하다']\n",
      "단어 :  class 뜻 ('수업', '반')\n",
      "단어 :  a 뜻 ['d', 'f', 'e']\n",
      "단어 :  fa 뜻 ['fd,fs,fd']\n",
      "-------------\n",
      "1. 단어 입력\n",
      "2. 단어 출력\n",
      "3. 종료\n",
      "-------------\n",
      "메뉴를 선택하세요 : 3\n",
      "종료\n"
     ]
    }
   ],
   "source": [
    "# 6-2 실습확인 - for문으로 아래 값을 출력해 보기\n",
    "# 사전 리스트 출력\n",
    "# 추가할 단어와 뜻 입력 받기\n",
    "\n",
    "dict1 = {'apple' : [\"사과\", \"애플\"], 'run' : [\"달리다\", \"동작하다\"], 'class' : (\"수업\", \"반\")}\n",
    "\n",
    "while True :\n",
    "    print(\"-------------\")\n",
    "    print(\"1. 단어 입력\")\n",
    "    print(\"2. 단어 출력\")\n",
    "    print(\"3. 종료\")\n",
    "    print(\"-------------\")\n",
    "    menu = int(input(\"메뉴를 선택하세요 : \"))\n",
    "\n",
    "    if menu == 1 :\n",
    "        word = input(\"단어를 입력하세요 : \")\n",
    "        if word in dict1.keys() :\n",
    "            print(\"이미 있는 단어입니다.\")\n",
    "        else :\n",
    "            val = input(\"뜻을 입력하세요 : \").split(\", \")\n",
    "            dict1[word] = val\n",
    "    elif menu == 2 :\n",
    "        for key, val in dict1.items() :\n",
    "            print(\"단어 : \", key, \"뜻\", val)\n",
    "    elif menu == 3 :\n",
    "        print(\"종료\")\n",
    "        break "
   ]
  },
  {
   "cell_type": "code",
   "execution_count": 183,
   "metadata": {
    "executionInfo": {
     "elapsed": 261,
     "status": "ok",
     "timestamp": 1630308997606,
     "user": {
      "displayName": "문승우",
      "photoUrl": "",
      "userId": "03306029417396722813"
     },
     "user_tz": -540
    },
    "id": "jQcW5sBG5Ov-"
   },
   "outputs": [],
   "source": [
    "# 숫자형\n",
    "# 1, 2, 3, 4\n",
    "# 1.0, 2.0, 3.0\n",
    "\n",
    "# 사칙연산\n",
    "# +, -, *, /\n",
    "# **\n",
    "# %, //\n",
    "\n",
    "# 문자열 자료형\n",
    "# \"\", ''\n",
    "# \"\"\"  \"\"\", ''' '''\n",
    "\n",
    "# 문자열 연산\n",
    "# 문자열 더하기 : +\n",
    "# 문자열 곱하기 : \"333\" * 2\n",
    "# 문자열 길이 구하는 함수 : len()\n",
    "\n",
    "# 문자열 인덱싱과 슬라이싱\n",
    "# \"\"\"  \"\"\", ''' '''\n",
    "\n",
    "# 문자열 연산\n",
    "# 문자열 더하기 : +\n",
    "# 문자열 곱하기 : \"333\" * 2\n",
    "# 문자열 길이 구하는 함수 : len()\n",
    "\n",
    "# 문자열 인덱싱과 슬라이싱\n",
    "# 문자열 인덱싱 : 하나의 값 선택\n",
    "# 문자열 슬라이싱 : 조각으로 값을 뽑는다.\n",
    "\n",
    "# 문자열 포매팅\n",
    "# print(\"%d\" % (a))\n",
    "# print(\"{} {}\".format(a, b))\n",
    "# print(f\"{a} {b}\")\n",
    "\n",
    "# 리스트 자료형\n",
    "# 리스트 연산(+) : \n",
    "# 리스트 길이 구하기 : len()\n",
    "# del a[2]\n",
    "# append(), remove(), extend()...\n",
    "\n",
    "# 리스트와 튜플\n",
    "# 리스트 : [], 튜플 : ()\n",
    "# 튜플은 추가, 변경, 삭제 불가능\n",
    "\n",
    "# 딕셔너리\n",
    "# {}\n",
    "# del a[1]\n",
    "# dicts.items(), dicts.keys(), dicts.values()\n",
    "\n",
    "# 불 자료형\n",
    "# True, False\n",
    "\n",
    "# if문\n",
    "# "
   ]
  },
  {
   "cell_type": "code",
   "execution_count": null,
   "metadata": {
    "id": "Cxi9e0Q7_Rbl"
   },
   "outputs": [],
   "source": []
  }
 ],
 "metadata": {
  "colab": {
   "authorship_tag": "ABX9TyOgCcpKvXAT5OCavRPD7Wl+",
   "collapsed_sections": [],
   "name": "2021_08_30_2.ipynb",
   "provenance": []
  },
  "kernelspec": {
   "display_name": "Python 3 (ipykernel)",
   "language": "python",
   "name": "python3"
  },
  "language_info": {
   "codemirror_mode": {
    "name": "ipython",
    "version": 3
   },
   "file_extension": ".py",
   "mimetype": "text/x-python",
   "name": "python",
   "nbconvert_exporter": "python",
   "pygments_lexer": "ipython3",
   "version": "3.8.8"
  }
 },
 "nbformat": 4,
 "nbformat_minor": 1
}
