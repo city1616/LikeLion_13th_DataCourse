{
 "cells": [
  {
   "cell_type": "markdown",
   "metadata": {},
   "source": [
    "### 2021_09_01_1\n",
    "* 지난 시간 리뷰\n",
    "* 클래스\n",
    "* 예외 처리\n",
    "* 시각화 라이브러리"
   ]
  },
  {
   "cell_type": "code",
   "execution_count": 1,
   "metadata": {
    "executionInfo": {
     "elapsed": 3,
     "status": "ok",
     "timestamp": 1630455248784,
     "user": {
      "displayName": "문승우",
      "photoUrl": "",
      "userId": "03306029417396722813"
     },
     "user_tz": -540
    },
    "id": "-WJLoe8-rld-"
   },
   "outputs": [],
   "source": [
    "# 지난 시간 리뷰\n",
    "# 파일 읽고 쓰기\n",
    "#   open() : 파일 열기 함수\n",
    "#   open(파일명, \"r\") : 파일 읽기 모드\n",
    "#   open(파일명, \"w\") : 파일 쓰기 모드\n",
    "#   open(파일명, \"a\") : 파일 추가 모드\n",
    "#   open(파일명, \"rb\") : 이미지 파일 읽기 모드\n",
    "#   open(파일명, \"wb\") : 이미지 파일 쓰기 모드\n",
    "# 전역변수와 지역변수가 있을 때 : 지역변수가 우선된다.\n",
    "# global\n",
    "# random.randrange() : 랜덤으로 범위에 있는 값을 추출한다.\n",
    "# file.read() : 인코딩 에러 발생시\n",
    "#   파일 utf-8 인코딩 방식으로 변경\n",
    "#   file = open(파일명, 'r', encoding = 'euc-kr')\n",
    "# 파일 읽을 때,\n",
    "#   read() : 전체 읽기\n",
    "#   readline() : 한줄씩 읽기\n",
    "#   readlines() : 다 읽어와서 한줄씩 리스트 원소를 넣음\n",
    "# 파일 닫을 때\n",
    "#   close()\n",
    "# 파일 쓰기\n",
    "#   open()\n",
    "#   write() : 파일 쓰기"
   ]
  },
  {
   "cell_type": "code",
   "execution_count": 7,
   "metadata": {
    "colab": {
     "base_uri": "https://localhost:8080/"
    },
    "executionInfo": {
     "elapsed": 236,
     "status": "ok",
     "timestamp": 1630456112592,
     "user": {
      "displayName": "문승우",
      "photoUrl": "",
      "userId": "03306029417396722813"
     },
     "user_tz": -540
    },
    "id": "piXCuH3dtKEv",
    "outputId": "8fbb9c24-d267-4700-ad99-2388a3d559fb"
   },
   "outputs": [
    {
     "name": "stdout",
     "output_type": "stream",
     "text": [
      "10\n",
      "20\n"
     ]
    }
   ],
   "source": [
    "# 1-2 더하기 기능을 갖는 계산기 추가\n",
    "result1 = 0\n",
    "\n",
    "def plus_1(num) :\n",
    "    global result1\n",
    "    result1 += num  # result1 = result1 + num\n",
    "    return result1\n",
    "\n",
    "print(plus_1(10))"
   ]
  },
  {
   "cell_type": "code",
   "execution_count": null,
   "metadata": {
    "id": "bDFrzTZmwhCw"
   },
   "outputs": [],
   "source": [
    "# 1-3 계산기 2대를 만들기(더하기 기능을 갖는)\n",
    "result1 = 0\n",
    "result2 = 0\n",
    "\n",
    "def plus_1(num) :\n",
    "    global result1\n",
    "    result1 += num  # result1 = result1 + num\n",
    "    return result1\n",
    "\n",
    "def plus_2(num) :\n",
    "    global result2\n",
    "    result2 += num  # result2 = result2 + num\n",
    "    return result2\n",
    "\n",
    "print(plus_1(10))\n",
    "print(plus_2(20))"
   ]
  },
  {
   "cell_type": "code",
   "execution_count": null,
   "metadata": {
    "id": "2k0AUh8Vw6gN"
   },
   "outputs": [],
   "source": [
    "# 1-3 계산기 2대를 만들기(더하기, 곱하기, 나머지 기능)\n",
    "result1 = 0\n",
    "result2 = 0\n",
    "\n",
    "def plus_1(num) :\n",
    "    global result1\n",
    "    result1 += num  # result1 = result1 + num\n",
    "    return result1\n",
    "\n",
    "def plus_2(num) :\n",
    "    global result2\n",
    "    result2 += num  # result2 = result2 + num\n",
    "    return result2\n",
    "\n",
    "def mul_1(num) :\n",
    "    global result3\n",
    "    result3 *= num\n",
    "    return result3\n",
    "\n",
    "def mul_2(num) :\n",
    "    global result4\n",
    "    result4 *= num\n",
    "    return result4\n",
    "\n",
    "def rem_1(num) :\n",
    "    global result5\n",
    "    result5 %= num\n",
    "    return result5\n",
    "\n",
    "def rem_1(num) :\n",
    "    global result6\n",
    "    result6 %= num\n",
    "    return result6\n",
    "\n",
    "print(plus_1(10))\n",
    "print(plus_2(20))"
   ]
  },
  {
   "cell_type": "code",
   "execution_count": 6,
   "metadata": {
    "colab": {
     "base_uri": "https://localhost:8080/"
    },
    "executionInfo": {
     "elapsed": 234,
     "status": "ok",
     "timestamp": 1630455583833,
     "user": {
      "displayName": "문승우",
      "photoUrl": "",
      "userId": "03306029417396722813"
     },
     "user_tz": -540
    },
    "id": "Fk3IHzl3uP_U",
    "outputId": "8f5df25e-6275-43ba-e85f-b491e111d92c"
   },
   "outputs": [
    {
     "name": "stdout",
     "output_type": "stream",
     "text": [
      "0\n"
     ]
    }
   ],
   "source": [
    "1-3 (도전) 두개 또는 세개 인자를 넣었을때, 이를 전체 더해주거나 곱하거나 나머지를 구하는 함수 만들기\n",
    "def plus(a, b) :\n",
    "    return a + b\n",
    "\n",
    "num1 = int(input(\"첫번째 숫자 : \"))\n",
    "opt = input(\"계산 기호 : \")\n",
    "num2 = int(input(\"두번째 숫자 : \"))\n",
    "\n",
    "result = plus(num1, num2)\n",
    "print(\"결과 : \", result)"
   ]
  },
  {
   "cell_type": "code",
   "execution_count": 8,
   "metadata": {
    "colab": {
     "base_uri": "https://localhost:8080/"
    },
    "executionInfo": {
     "elapsed": 236,
     "status": "ok",
     "timestamp": 1630456569833,
     "user": {
      "displayName": "문승우",
      "photoUrl": "",
      "userId": "03306029417396722813"
     },
     "user_tz": -540
    },
    "id": "bLXje-yax5Er",
    "outputId": "8e66511b-a5d6-4ce7-f289-7f89806d11fd"
   },
   "outputs": [
    {
     "name": "stdout",
     "output_type": "stream",
     "text": [
      "10\n",
      "20\n",
      "20\n",
      "20\n",
      "20\n"
     ]
    }
   ],
   "source": [
    "# 1-4 다섯대의 계산기 만들기(더하기 기능)\n",
    "result1 = 0\n",
    "result2 = 0\n",
    "result3 = 0\n",
    "result4 = 0\n",
    "result5 = 0\n",
    "\n",
    "def plus_1(num) :\n",
    "    global result1\n",
    "    result1 += num  # result1 = result1 + num\n",
    "    return result1\n",
    "\n",
    "def plus_2(num) :\n",
    "    global result2\n",
    "    result2 += num  # result2 = result2 + num\n",
    "    return result2\n",
    "\n",
    "def plus_3(num) :\n",
    "    global result3\n",
    "    result3 += num  # result3 = result3 + num\n",
    "    return result3\n",
    "\n",
    "def plus_4(num) :\n",
    "    global result4\n",
    "    result4 += num  # result4 = result4 + num\n",
    "    return result4\n",
    "\n",
    "def plus_5(num) :\n",
    "    global result5\n",
    "    result5 += num  # result5 = result5 + num\n",
    "    return result5\n",
    "\n",
    "print(plus_1(10))\n",
    "print(plus_2(20))\n",
    "print(plus_3(20))\n",
    "print(plus_4(20))\n",
    "print(plus_5(20))"
   ]
  },
  {
   "cell_type": "code",
   "execution_count": 11,
   "metadata": {
    "colab": {
     "base_uri": "https://localhost:8080/"
    },
    "executionInfo": {
     "elapsed": 257,
     "status": "ok",
     "timestamp": 1630458217974,
     "user": {
      "displayName": "문승우",
      "photoUrl": "",
      "userId": "03306029417396722813"
     },
     "user_tz": -540
    },
    "id": "GzImsATWt8ix",
    "outputId": "c7b6bcaf-733f-44bf-f3d3-07babc66fb66"
   },
   "outputs": [
    {
     "name": "stdout",
     "output_type": "stream",
     "text": [
      "30\n",
      "40\n",
      "5\n",
      "50\n",
      "\n",
      "10\n",
      "20\n"
     ]
    }
   ],
   "source": [
    "# 클래스를 이용해서 계산기 만들기\n",
    "# 더하기 기능\n",
    "class Cal :\n",
    "  result = 0\n",
    "\n",
    "  def plus(self, num) :\n",
    "    self.result += num\n",
    "    return self.result\n",
    "\n",
    "c1 = Cal()\n",
    "c2 = Cal()\n",
    "c3 = Cal()\n",
    "c4 = Cal()\n",
    "c5 = Cal()\n",
    "\n",
    "print(c3.plus(30))\n",
    "print(c3.plus(10))\n",
    "print()\n",
    "print(c5.plus(10))\n",
    "print(c5.plus(10))\n"
   ]
  },
  {
   "cell_type": "code",
   "execution_count": 12,
   "metadata": {
    "colab": {
     "base_uri": "https://localhost:8080/"
    },
    "executionInfo": {
     "elapsed": 249,
     "status": "ok",
     "timestamp": 1630458288610,
     "user": {
      "displayName": "문승우",
      "photoUrl": "",
      "userId": "03306029417396722813"
     },
     "user_tz": -540
    },
    "id": "XwJqX1Yu0mUy",
    "outputId": "77c9ec79-d7be-4d36-aec4-85ee4c848abf"
   },
   "outputs": [
    {
     "name": "stdout",
     "output_type": "stream",
     "text": [
      "30\n",
      "40\n",
      "5\n",
      "50\n",
      "\n",
      "10\n",
      "20\n"
     ]
    }
   ],
   "source": [
    "# 클래스를 이용해서 계산기 만들기\n",
    "# 나머지, 곱하기 기능 추가\n",
    "class Cal :\n",
    "    result = 0\n",
    "\n",
    "    def plus(self, num) :\n",
    "        self.result += num\n",
    "        return self.result\n",
    "\n",
    "    def mul(self, num) :\n",
    "        self.result *= num\n",
    "        return self.result\n",
    "  \n",
    "    def mod(self, num) :\n",
    "        self.result %= num\n",
    "        return self.result\n",
    "\n",
    "c1 = Cal()\n",
    "c2 = Cal()\n",
    "c3 = Cal()\n",
    "c4 = Cal()\n",
    "c5 = Cal()\n",
    "\n",
    "print(c3.plus(30))\n",
    "print(c3.plus(10))\n",
    "print(c3.mod(7))\n",
    "print(c3.mul(10))\n",
    "print()\n",
    "print(c5.plus(10))\n",
    "print(c5.plus(10))"
   ]
  },
  {
   "cell_type": "code",
   "execution_count": 13,
   "metadata": {
    "colab": {
     "base_uri": "https://localhost:8080/"
    },
    "executionInfo": {
     "elapsed": 247,
     "status": "ok",
     "timestamp": 1630458755609,
     "user": {
      "displayName": "문승우",
      "photoUrl": "",
      "userId": "03306029417396722813"
     },
     "user_tz": -540
    },
    "id": "tL-jN4VM4xdA",
    "outputId": "a1eacc91-7ff4-442a-f238-79f8b1b5b677"
   },
   "outputs": [
    {
     "name": "stdout",
     "output_type": "stream",
     "text": [
      "30\n",
      "20\n",
      "40\n",
      "20\n",
      "400\n"
     ]
    }
   ],
   "source": [
    "# 클래스를 이용해서 계산기 만들기\n",
    "# 나누기 기능 추가\n",
    "class Cal :\n",
    "    result = 0\n",
    "\n",
    "    def plus(self, num) :\n",
    "        self.result += num\n",
    "        return self.result\n",
    "\n",
    "    def minus(self, num) :\n",
    "        self.result -= num\n",
    "        return self.result\n",
    "\n",
    "    def mul(self, num) :\n",
    "        self.result *= num\n",
    "        return self.result\n",
    "\n",
    "    def mod(self, num) :\n",
    "        self.result %= num\n",
    "        return self.result\n",
    "\n",
    "    def div(self, num) :\n",
    "        self.result /= num\n",
    "        return self.result\n",
    "\n",
    "    def squ(self, num) :\n",
    "        self.result **= num\n",
    "        return self.result\n",
    "\n",
    "    def quo(self, num) :\n",
    "        self.result //= num\n",
    "        return self.result\n",
    "\n",
    "c1 = Cal()\n",
    "c2 = Cal()\n",
    "c3 = Cal()\n",
    "c4 = Cal()\n",
    "c5 = Cal()\n",
    "\n",
    "print(c3.plus(30))\n",
    "print(c3.minus(10))\n",
    "print(c3.mul(2))\n",
    "print(c3.quo(2))\n",
    "print(c3.squ(2))"
   ]
  },
  {
   "cell_type": "code",
   "execution_count": 18,
   "metadata": {
    "colab": {
     "base_uri": "https://localhost:8080/"
    },
    "executionInfo": {
     "elapsed": 245,
     "status": "ok",
     "timestamp": 1630459264629,
     "user": {
      "displayName": "문승우",
      "photoUrl": "",
      "userId": "03306029417396722813"
     },
     "user_tz": -540
    },
    "id": "TcNOiq9X6jeb",
    "outputId": "d262cbd8-33d9-4621-ef0a-78740330ec06"
   },
   "outputs": [
    {
     "name": "stdout",
     "output_type": "stream",
     "text": [
      "0\n",
      "0으로 나눌 수 없습니다.\n"
     ]
    }
   ],
   "source": [
    "# Cal_upgrade 클래스 만들고, 실행해보기\n",
    "class Cal_upgrade :\n",
    "    result = 0\n",
    "\n",
    "    def plus(self, num) :\n",
    "        self.result += num\n",
    "        return self.result\n",
    "\n",
    "    def minus(self, num) :\n",
    "        self.result -= num\n",
    "        return self.result\n",
    "\n",
    "    def mul(self, num) :\n",
    "        self.result *= num\n",
    "        return self.result\n",
    "\n",
    "    def mod(self, num) :\n",
    "        self.result %= num\n",
    "        return self.result\n",
    "\n",
    "    def div(self, num) :\n",
    "        if num == 0 :\n",
    "            return \"0으로 나눌 수 없습니다.\"\n",
    "        else :\n",
    "            self.result /= num\n",
    "        return self.result\n",
    "\n",
    "    def squ(self, num) :\n",
    "        self.result **= num\n",
    "        return self.result\n",
    "\n",
    "    def quo(self, num) :\n",
    "        self.result //= num\n",
    "        return self.result\n",
    "\n",
    "c1_up = Cal_upgrade()\n",
    "c2_up = Cal_upgrade()\n",
    "print(c2_up.result)\n",
    "print(c2_up.div(0))"
   ]
  },
  {
   "cell_type": "code",
   "execution_count": 21,
   "metadata": {
    "colab": {
     "base_uri": "https://localhost:8080/"
    },
    "executionInfo": {
     "elapsed": 236,
     "status": "ok",
     "timestamp": 1630459922517,
     "user": {
      "displayName": "문승우",
      "photoUrl": "",
      "userId": "03306029417396722813"
     },
     "user_tz": -540
    },
    "id": "IuyH2TF_8CRv",
    "outputId": "3b1b63e7-ef74-493f-b3b7-58d851f0073f"
   },
   "outputs": [
    {
     "name": "stdout",
     "output_type": "stream",
     "text": [
      "0으로 나눌 수 없습니다.\n",
      "1002\n",
      "1003\n",
      "0\n"
     ]
    }
   ],
   "source": [
    "# 오버라이딩\n",
    "# 상속받아서 사용하는데, 기존에 상속받은 존재하는 메소드를 변경하는 것\n",
    "class Cal_upgrade2(Cal) :\n",
    "    def div(self, num) :\n",
    "        if num == 0 :\n",
    "            return \"0으로 나눌 수 없습니다.\"\n",
    "        else :\n",
    "            self.result /= num\n",
    "        return self.result\n",
    "  \n",
    "    def Czero(self) :\n",
    "        self.result = 0\n",
    "        return self.result\n",
    "\n",
    "c1_up = Cal_upgrade2()\n",
    "c2_up = Cal_upgrade2()\n",
    "\n",
    "print(c2_up.div(0))\n",
    "print(c2_up.plus(1002))\n",
    "print(c2_up.plus(1))\n",
    "print(c2_up.Czero())"
   ]
  },
  {
   "cell_type": "code",
   "execution_count": 22,
   "metadata": {
    "colab": {
     "base_uri": "https://localhost:8080/"
    },
    "executionInfo": {
     "elapsed": 341,
     "status": "ok",
     "timestamp": 1630460545437,
     "user": {
      "displayName": "문승우",
      "photoUrl": "",
      "userId": "03306029417396722813"
     },
     "user_tz": -540
    },
    "id": "OQTOXvQI-dhM",
    "outputId": "c54bb48d-b8d3-4450-86b4-4d96436b8e42"
   },
   "outputs": [
    {
     "name": "stdout",
     "output_type": "stream",
     "text": [
      "30\n",
      "20\n",
      "40\n",
      "20\n",
      "400\n"
     ]
    }
   ],
   "source": [
    "# 클래스를 이용해서 계산기 만들기\n",
    "# +, -, *, /, //, %, **, 0초기화\n",
    "class Cal_sw :\n",
    "    result = 0\n",
    "\n",
    "    def plus(self, num) :   # 더하기\n",
    "        self.result += num\n",
    "        return self.result\n",
    "\n",
    "    def minus(self, num) :   # 빼기\n",
    "        self.result -= num\n",
    "        return self.result\n",
    "\n",
    "    def mul(self, num) :     # 곱하기\n",
    "        self.result *= num\n",
    "        return self.result\n",
    "\n",
    "    def mod(self, num) :    # 나머지\n",
    "        self.result %= num\n",
    "        return self.result\n",
    "  \n",
    "    def div(self, num) :    # 나누기\n",
    "        if num == 0 :\n",
    "            return \"0으로 나눌 수 없습니다.\"\n",
    "        else :\n",
    "            self.result /= num\n",
    "        return self.result\n",
    "  \n",
    "    def squ(self, num) :    # 제곱\n",
    "        self.result **= num\n",
    "        return self.result\n",
    "\n",
    "    def quo(self, num) :    # 몫\n",
    "        self.result //= num\n",
    "        return self.result\n",
    "\n",
    "    def Czero(self) :       # 0으로 초기화\n",
    "        self.result = 0\n",
    "        return self.result\n",
    "\n",
    "c1 = Cal_sw()\n",
    "c2 = Cal_sw()\n",
    "c3 = Cal_sw()\n",
    "\n",
    "print(c3.plus(30))\n",
    "print(c3.minus(10))\n",
    "print(c3.mul(2))\n",
    "print(c3.quo(2))\n",
    "print(c3.squ(2))"
   ]
  },
  {
   "cell_type": "code",
   "execution_count": 23,
   "metadata": {
    "executionInfo": {
     "elapsed": 350,
     "status": "ok",
     "timestamp": 1630462158069,
     "user": {
      "displayName": "문승우",
      "photoUrl": "",
      "userId": "03306029417396722813"
     },
     "user_tz": -540
    },
    "id": "sLYV9OB-BYa6"
   },
   "outputs": [],
   "source": [
    "# 클래스\n",
    "# 객체에 대한 설계도\n",
    "# 특정한 종류를 찍어내는 형틀(template)\n",
    "class Food :\n",
    "    pass\n",
    "\n",
    "# 객체 이름 = 클래스명()\n",
    "f1 = Food() # f1 객체 생성\n",
    "f2 = Food() # f2 객체 생성"
   ]
  },
  {
   "cell_type": "code",
   "execution_count": 34,
   "metadata": {
    "colab": {
     "base_uri": "https://localhost:8080/"
    },
    "executionInfo": {
     "elapsed": 261,
     "status": "ok",
     "timestamp": 1630462965499,
     "user": {
      "displayName": "문승우",
      "photoUrl": "",
      "userId": "03306029417396722813"
     },
     "user_tz": -540
    },
    "id": "r6QoXcG1HiIZ",
    "outputId": "3c563dcf-8636-4f16-bac6-84e6633c4cfc"
   },
   "outputs": [
    {
     "name": "stdout",
     "output_type": "stream",
     "text": [
      "tv on\n",
      "tv on\n"
     ]
    }
   ],
   "source": [
    "class Tv_toto :\n",
    "    ch_num = 0\n",
    "\n",
    "    def tvon(self) :\n",
    "        print(\"tv on\")\n",
    "\n",
    "    def tvoff(self) :\n",
    "        print(\"tv off\")\n",
    "\n",
    "    def chadd(self) :\n",
    "        pass\n",
    "\n",
    "    def chremove(self) :\n",
    "        pass\n",
    "\n",
    "tv1 = Tv_toto()\n",
    "tv2 = Tv_toto()\n",
    "tv3 = Tv_toto()\n",
    "\n",
    "# self\n",
    "# Tv_toto.tvon(tv1)\n",
    "# Tv_toto.tvon(tv2)\n",
    "tv1.tvon()\n",
    "tv2.tvon()"
   ]
  },
  {
   "cell_type": "code",
   "execution_count": 45,
   "metadata": {
    "colab": {
     "base_uri": "https://localhost:8080/"
    },
    "executionInfo": {
     "elapsed": 240,
     "status": "ok",
     "timestamp": 1630463740318,
     "user": {
      "displayName": "문승우",
      "photoUrl": "",
      "userId": "03306029417396722813"
     },
     "user_tz": -540
    },
    "id": "WXZw2TR0Ie7d",
    "outputId": "86a08f7d-bce3-4618-8c32-a7b83fed8b9f"
   },
   "outputs": [
    {
     "name": "stdout",
     "output_type": "stream",
     "text": [
      "tv on\n",
      "4\n",
      "0\n",
      "netflix on\n",
      "netfilx off\n",
      "6\n",
      "7\n",
      "6\n",
      "5\n",
      "7\n"
     ]
    }
   ],
   "source": [
    "# 기능이 추가된 TV\n",
    "# tv 켜기, tv 끄기, 채널 올리기, 채널 내리기, 채널 지우기, netfilx 켜기끄기, 볼륨 올리기, 볼륨 내리기, 채널 옮기기\n",
    "class Tv(Tv_toto) :\n",
    "    vol = 5\n",
    "\n",
    "    def tvon(self) :\n",
    "        return \"tv on\"\n",
    "\n",
    "    def tvoff(self) :\n",
    "        return \"tv off\"\n",
    "\n",
    "    def ch_up(self) :\n",
    "        self.ch_num += 1\n",
    "        return self.ch_num\n",
    "\n",
    "    def ch_down(self) :\n",
    "        self.ch_num -= 1\n",
    "        return self.ch_num\n",
    "\n",
    "    def chremove(self) :\n",
    "        self.ch_num = 0\n",
    "        return self.ch_num\n",
    "\n",
    "    def netflix_on(self) :\n",
    "        return \"netflix on\"\n",
    "\n",
    "    def netflix_off(self) :\n",
    "        return \"netfilx off\"\n",
    "\n",
    "    def vol_up(self) :\n",
    "        self.vol += 1\n",
    "        return self.vol\n",
    "\n",
    "    def vol_down(self) :\n",
    "        self.vol -= 1\n",
    "        return self.vol\n",
    "\n",
    "    def ch_move(self, num) :\n",
    "        self.ch_num = num\n",
    "        return self.ch_num\n",
    "\n",
    "tv1 = Tv()\n",
    "print(tv1.tvon())\n",
    "print(tv1.chadd(4))\n",
    "print(tv1.chremove())\n",
    "print(tv1.netflix_on())\n",
    "print(tv1.netflix_off())\n",
    "print(tv1.vol_up())\n",
    "print(tv1.vol_up())\n",
    "print(tv1.vol_down())\n",
    "print(tv1.vol_down())\n",
    "print(tv1.ch_move(7))"
   ]
  },
  {
   "cell_type": "code",
   "execution_count": 50,
   "metadata": {
    "colab": {
     "base_uri": "https://localhost:8080/"
    },
    "executionInfo": {
     "elapsed": 243,
     "status": "ok",
     "timestamp": 1630469433061,
     "user": {
      "displayName": "문승우",
      "photoUrl": "",
      "userId": "03306029417396722813"
     },
     "user_tz": -540
    },
    "id": "RnX5OLijKTPf",
    "outputId": "bf659499-5901-4339-d0ea-f5d49f8ad112"
   },
   "outputs": [
    {
     "name": "stdout",
     "output_type": "stream",
     "text": [
      "객체 생성\n"
     ]
    }
   ],
   "source": [
    "# __init__ 메서드\n",
    "# 이 메서드는 생성자로 인식되어 객체가 생성되는 시점에 자동 호출\n",
    "# init 앞뒤로 __ 언더스코어(_)가 두개 붙는다.\n",
    "class CalFnc3() :\n",
    "    result = 0\n",
    "\n",
    "    def __init__(self, result = 0) :\n",
    "        print(\"객체 생성\")\n",
    "        self.result = result\n",
    "\n",
    "    def plus(self, num) :\n",
    "        self.result += num\n",
    "        return self.result\n",
    "\n",
    "    def sub(self, num) :\n",
    "        self.result -= num\n",
    "        return self.result\n",
    "\n",
    "    def div(self, num) :\n",
    "        self.result /= num\n",
    "        return self.result\n",
    "\n",
    "c1 = CalFnc3(1000)\n"
   ]
  },
  {
   "cell_type": "code",
   "execution_count": 51,
   "metadata": {
    "colab": {
     "base_uri": "https://localhost:8080/"
    },
    "executionInfo": {
     "elapsed": 6,
     "status": "ok",
     "timestamp": 1630469434074,
     "user": {
      "displayName": "문승우",
      "photoUrl": "",
      "userId": "03306029417396722813"
     },
     "user_tz": -540
    },
    "id": "BAgPdCbMisdk",
    "outputId": "a89fbd02-d2c0-4742-806c-1d9fbe21dc76"
   },
   "outputs": [
    {
     "data": {
      "text/plain": [
       "1000"
      ]
     },
     "execution_count": 51,
     "metadata": {},
     "output_type": "execute_result"
    }
   ],
   "source": [
    "c1.result"
   ]
  },
  {
   "cell_type": "code",
   "execution_count": 52,
   "metadata": {
    "colab": {
     "base_uri": "https://localhost:8080/",
     "height": 181
    },
    "executionInfo": {
     "elapsed": 245,
     "status": "error",
     "timestamp": 1630469455957,
     "user": {
      "displayName": "문승우",
      "photoUrl": "",
      "userId": "03306029417396722813"
     },
     "user_tz": -540
    },
    "id": "3WQtXJ3eiukr",
    "outputId": "e3df0f44-259a-483b-bac3-a370cacac9e8"
   },
   "outputs": [
    {
     "ename": "IndexError",
     "evalue": "ignored",
     "output_type": "error",
     "traceback": [
      "\u001b[0;31m---------------------------------------------------------------------------\u001b[0m",
      "\u001b[0;31mIndexError\u001b[0m                                Traceback (most recent call last)",
      "\u001b[0;32m<ipython-input-52-a30ef7ad4340>\u001b[0m in \u001b[0;36m<module>\u001b[0;34m()\u001b[0m\n\u001b[1;32m      1\u001b[0m \u001b[0mf\u001b[0m \u001b[0;34m=\u001b[0m \u001b[0;34m[\u001b[0m\u001b[0;34m'사과'\u001b[0m\u001b[0;34m,\u001b[0m \u001b[0;34m'과일'\u001b[0m\u001b[0;34m,\u001b[0m \u001b[0;34m'포도'\u001b[0m\u001b[0;34m]\u001b[0m\u001b[0;34m\u001b[0m\u001b[0;34m\u001b[0m\u001b[0m\n\u001b[0;32m----> 2\u001b[0;31m \u001b[0mprint\u001b[0m\u001b[0;34m(\u001b[0m\u001b[0mf\u001b[0m\u001b[0;34m[\u001b[0m\u001b[0;36m4\u001b[0m\u001b[0;34m]\u001b[0m\u001b[0;34m)\u001b[0m\u001b[0;34m\u001b[0m\u001b[0;34m\u001b[0m\u001b[0m\n\u001b[0m",
      "\u001b[0;31mIndexError\u001b[0m: list index out of range"
     ]
    }
   ],
   "source": [
    "# 예외 처리\n",
    "f = ['사과', '과일', '포도']\n",
    "print(f[4])"
   ]
  },
  {
   "cell_type": "code",
   "execution_count": 53,
   "metadata": {
    "colab": {
     "base_uri": "https://localhost:8080/",
     "height": 35
    },
    "executionInfo": {
     "elapsed": 253,
     "status": "ok",
     "timestamp": 1630469559212,
     "user": {
      "displayName": "문승우",
      "photoUrl": "",
      "userId": "03306029417396722813"
     },
     "user_tz": -540
    },
    "id": "tiK1V8m7jX34",
    "outputId": "3ba84da8-ca47-4b24-9515-44125ec1fe64"
   },
   "outputs": [
    {
     "data": {
      "application/vnd.google.colaboratory.intrinsic+json": {
       "type": "string"
      },
      "text/plain": [
       "'\\ntry :\\n  실행문1\\n  실행문2\\nexcept : \\n  에러 발생시 명령1\\n  에러 발생시 명령2\\n'"
      ]
     },
     "execution_count": 53,
     "metadata": {},
     "output_type": "execute_result"
    }
   ],
   "source": [
    "# 예외 처리\n",
    "'''\n",
    "try :\n",
    "  실행문1\n",
    "  실행문2\n",
    "except : \n",
    "  에러 발생시 명령1\n",
    "  에러 발생시 명령2\n",
    "'''"
   ]
  },
  {
   "cell_type": "code",
   "execution_count": 56,
   "metadata": {
    "colab": {
     "base_uri": "https://localhost:8080/"
    },
    "executionInfo": {
     "elapsed": 262,
     "status": "ok",
     "timestamp": 1630469717884,
     "user": {
      "displayName": "문승우",
      "photoUrl": "",
      "userId": "03306029417396722813"
     },
     "user_tz": -540
    },
    "id": "j4WHQMxMjxEt",
    "outputId": "c09cc9bc-c435-4d06-c6b7-caf4eda67e1d"
   },
   "outputs": [
    {
     "name": "stdout",
     "output_type": "stream",
     "text": [
      "에러 발생\n"
     ]
    }
   ],
   "source": [
    "try :\n",
    "    fruits = ['사과', '과일', '포도']\n",
    "    print(fruits[4])\n",
    "except :\n",
    "    print(\"에러 발생\")"
   ]
  },
  {
   "cell_type": "code",
   "execution_count": 57,
   "metadata": {
    "colab": {
     "base_uri": "https://localhost:8080/"
    },
    "executionInfo": {
     "elapsed": 364,
     "status": "ok",
     "timestamp": 1630469742764,
     "user": {
      "displayName": "문승우",
      "photoUrl": "",
      "userId": "03306029417396722813"
     },
     "user_tz": -540
    },
    "id": "cpD1-CUDj42x",
    "outputId": "667fe487-b23e-4243-b338-3ebf0b6d63dc"
   },
   "outputs": [
    {
     "name": "stdout",
     "output_type": "stream",
     "text": [
      "에러 발생 list index out of range\n"
     ]
    }
   ],
   "source": [
    "try :\n",
    "    fruits = ['사과', '과일', '포도']\n",
    "    print(fruits[4])\n",
    "except Exception as e :\n",
    "    print(\"에러 발생\", e)"
   ]
  },
  {
   "cell_type": "code",
   "execution_count": 58,
   "metadata": {
    "colab": {
     "base_uri": "https://localhost:8080/"
    },
    "executionInfo": {
     "elapsed": 234,
     "status": "ok",
     "timestamp": 1630469871823,
     "user": {
      "displayName": "문승우",
      "photoUrl": "",
      "userId": "03306029417396722813"
     },
     "user_tz": -540
    },
    "id": "wYJPXhazkd3F",
    "outputId": "937c38b7-f862-46bb-88a7-7b8b277f6600"
   },
   "outputs": [
    {
     "name": "stdout",
     "output_type": "stream",
     "text": [
      "에러 발생 division by zero\n"
     ]
    }
   ],
   "source": [
    "# 4-3 4 / 0을 예외 처리 해보기\n",
    "try :\n",
    "    print(4 / 0)\n",
    "except Exception as e :\n",
    "    print(\"에러 발생\", e)"
   ]
  },
  {
   "cell_type": "code",
   "execution_count": 59,
   "metadata": {
    "colab": {
     "base_uri": "https://localhost:8080/",
     "height": 52
    },
    "executionInfo": {
     "elapsed": 253,
     "status": "ok",
     "timestamp": 1630470281869,
     "user": {
      "displayName": "문승우",
      "photoUrl": "",
      "userId": "03306029417396722813"
     },
     "user_tz": -540
    },
    "id": "9U35I5u_k9Z0",
    "outputId": "074d44f0-b212-4518-8af7-2319fc29ff0c"
   },
   "outputs": [
    {
     "data": {
      "application/vnd.google.colaboratory.intrinsic+json": {
       "type": "string"
      },
      "text/plain": [
       "'\\ntry :\\n  실행 시도할 명령\\nexcept : \\n  예외가 발생 시, 실행 코드\\nelse :\\n  예외가 없을 때 실행 코드\\nfinally : \\n  예외에 상관없이 무조건 실행될 코드\\n'"
      ]
     },
     "execution_count": 59,
     "metadata": {},
     "output_type": "execute_result"
    }
   ],
   "source": [
    "# 예외 처리 전체적인 구조\n",
    "'''\n",
    "try :\n",
    "  실행 시도할 명령\n",
    "except : \n",
    "  예외가 발생 시, 실행 코드\n",
    "else :\n",
    "  예외가 없을 때 실행 코드\n",
    "finally : \n",
    "  예외에 상관없이 무조건 실행될 코드\n",
    "'''"
   ]
  },
  {
   "cell_type": "code",
   "execution_count": 63,
   "metadata": {
    "colab": {
     "base_uri": "https://localhost:8080/"
    },
    "executionInfo": {
     "elapsed": 249,
     "status": "ok",
     "timestamp": 1630470740098,
     "user": {
      "displayName": "문승우",
      "photoUrl": "",
      "userId": "03306029417396722813"
     },
     "user_tz": -540
    },
    "id": "O6daFxtPoHlF",
    "outputId": "799652f8-0a23-41a5-bdae-fe972452a1fc"
   },
   "outputs": [
    {
     "name": "stdout",
     "output_type": "stream",
     "text": [
      "5\n",
      "10\n",
      "10\n"
     ]
    }
   ],
   "source": [
    "print(\"%d\" % 5)\n",
    "print(\"{}\" .format(10))\n",
    "print(f\"{10}\")"
   ]
  },
  {
   "cell_type": "code",
   "execution_count": 62,
   "metadata": {
    "colab": {
     "base_uri": "https://localhost:8080/",
     "height": 164
    },
    "executionInfo": {
     "elapsed": 241,
     "status": "error",
     "timestamp": 1630470517845,
     "user": {
      "displayName": "문승우",
      "photoUrl": "",
      "userId": "03306029417396722813"
     },
     "user_tz": -540
    },
    "id": "J0jQMcStnZdM",
    "outputId": "6b176883-8098-4580-e874-c20bf88abc3d"
   },
   "outputs": [
    {
     "ename": "ZeroDivisionError",
     "evalue": "ignored",
     "output_type": "error",
     "traceback": [
      "\u001b[0;31m---------------------------------------------------------------------------\u001b[0m",
      "\u001b[0;31mZeroDivisionError\u001b[0m                         Traceback (most recent call last)",
      "\u001b[0;32m<ipython-input-62-8b4ac6d3a3e1>\u001b[0m in \u001b[0;36m<module>\u001b[0;34m()\u001b[0m\n\u001b[0;32m----> 1\u001b[0;31m \u001b[0;36m2\u001b[0m \u001b[0;34m/\u001b[0m \u001b[0;36m0\u001b[0m\u001b[0;34m\u001b[0m\u001b[0;34m\u001b[0m\u001b[0m\n\u001b[0m",
      "\u001b[0;31mZeroDivisionError\u001b[0m: division by zero"
     ]
    }
   ],
   "source": [
    "2 / 0"
   ]
  },
  {
   "cell_type": "code",
   "execution_count": 61,
   "metadata": {
    "colab": {
     "base_uri": "https://localhost:8080/"
    },
    "executionInfo": {
     "elapsed": 3599,
     "status": "ok",
     "timestamp": 1630470495599,
     "user": {
      "displayName": "문승우",
      "photoUrl": "",
      "userId": "03306029417396722813"
     },
     "user_tz": -540
    },
    "id": "7k84ukXSmhgr",
    "outputId": "a659e315-e266-452e-9f7f-640720a858d0"
   },
   "outputs": [
    {
     "name": "stdout",
     "output_type": "stream",
     "text": [
      "숫자 입력 : 100\n",
      "나눗셈 숫자 하나 입력 : 0\n",
      "0으로 나눌 수 없습니다. (division by zero)\n"
     ]
    }
   ],
   "source": [
    "# 0으로 나눌 때 에러 발생 - ZeroDivisionError 발생\n",
    "num1 = int(input(\"숫자 입력 : \"))\n",
    "num2 = int(input(\"나눗셈 숫자 하나 입력 : \"))\n",
    "\n",
    "try :\n",
    "    result = num1 / num2\n",
    "    print(result)\n",
    "except ZeroDivisionError as e :\n",
    "    print(f\"0으로 나눌 수 없습니다. ({e})\")\n",
    "except Exception as e :\n",
    "    print(e)\n"
   ]
  },
  {
   "cell_type": "code",
   "execution_count": 78,
   "metadata": {
    "colab": {
     "base_uri": "https://localhost:8080/"
    },
    "executionInfo": {
     "elapsed": 2566,
     "status": "ok",
     "timestamp": 1630471696433,
     "user": {
      "displayName": "문승우",
      "photoUrl": "",
      "userId": "03306029417396722813"
     },
     "user_tz": -540
    },
    "id": "aMdZWPMJm3C_",
    "outputId": "8053e077-77de-46a4-ada9-e17fdff95176"
   },
   "outputs": [
    {
     "name": "stdout",
     "output_type": "stream",
     "text": [
      "숫자 입력 : 100\n",
      "나눗셈 숫자 하나 입력 : 1\n",
      "100.0\n",
      "실행 완료\n"
     ]
    }
   ],
   "source": [
    "# 예외 처리에 finally, else 추가해 보기\n",
    "\n",
    "try :\n",
    "    num1 = int(input(\"숫자 입력 : \"))\n",
    "    num2 = int(input(\"나눗셈 숫자 하나 입력 : \"))\n",
    "    result = num1 / num2\n",
    "except ZeroDivisionError as e :\n",
    "    print(f\"0으로 나눌 수 없습니다. ({e})\")\n",
    "except Exception as e :\n",
    "    print(e)\n",
    "else :\n",
    "    print(result)\n",
    "finally :\n",
    "    print(\"실행 완료\")"
   ]
  },
  {
   "cell_type": "code",
   "execution_count": 65,
   "metadata": {
    "colab": {
     "base_uri": "https://localhost:8080/",
     "height": 181
    },
    "executionInfo": {
     "elapsed": 253,
     "status": "error",
     "timestamp": 1630471055736,
     "user": {
      "displayName": "문승우",
      "photoUrl": "",
      "userId": "03306029417396722813"
     },
     "user_tz": -540
    },
    "id": "Fcz4yl6fosgm",
    "outputId": "a7cd2c04-ce0c-417a-e817-29d4970e97f3"
   },
   "outputs": [
    {
     "ename": "IndexError",
     "evalue": "ignored",
     "output_type": "error",
     "traceback": [
      "\u001b[0;31m---------------------------------------------------------------------------\u001b[0m",
      "\u001b[0;31mIndexError\u001b[0m                                Traceback (most recent call last)",
      "\u001b[0;32m<ipython-input-65-f214d3172da6>\u001b[0m in \u001b[0;36m<module>\u001b[0;34m()\u001b[0m\n\u001b[1;32m      1\u001b[0m \u001b[0ma\u001b[0m \u001b[0;34m=\u001b[0m \u001b[0;34m[\u001b[0m\u001b[0;36m1\u001b[0m\u001b[0;34m,\u001b[0m \u001b[0;36m2\u001b[0m\u001b[0;34m]\u001b[0m\u001b[0;34m\u001b[0m\u001b[0;34m\u001b[0m\u001b[0m\n\u001b[0;32m----> 2\u001b[0;31m \u001b[0mprint\u001b[0m\u001b[0;34m(\u001b[0m\u001b[0ma\u001b[0m\u001b[0;34m[\u001b[0m\u001b[0;36m3\u001b[0m\u001b[0;34m]\u001b[0m\u001b[0;34m)\u001b[0m\u001b[0;34m\u001b[0m\u001b[0;34m\u001b[0m\u001b[0m\n\u001b[0m",
      "\u001b[0;31mIndexError\u001b[0m: list index out of range"
     ]
    }
   ],
   "source": [
    "a = [1, 2]\n",
    "print(a[3])"
   ]
  },
  {
   "cell_type": "code",
   "execution_count": 75,
   "metadata": {
    "colab": {
     "base_uri": "https://localhost:8080/"
    },
    "executionInfo": {
     "elapsed": 236,
     "status": "ok",
     "timestamp": 1630471232201,
     "user": {
      "displayName": "문승우",
      "photoUrl": "",
      "userId": "03306029417396722813"
     },
     "user_tz": -540
    },
    "id": "WxhEtIn_pebP",
    "outputId": "b5927d28-2a6e-4e1e-9dd3-3ada4a1922a0"
   },
   "outputs": [
    {
     "name": "stdout",
     "output_type": "stream",
     "text": [
      "3\n"
     ]
    }
   ],
   "source": [
    "try :\n",
    "    a = [1, 0]\n",
    "    # print(a[3])\n",
    "    print(a[0] / a[1])\n",
    "except (IndexError, ZeroDivisionError) as e :\n",
    "    print(3)"
   ]
  },
  {
   "cell_type": "code",
   "execution_count": 76,
   "metadata": {
    "colab": {
     "base_uri": "https://localhost:8080/"
    },
    "executionInfo": {
     "elapsed": 245,
     "status": "ok",
     "timestamp": 1630471268152,
     "user": {
      "displayName": "문승우",
      "photoUrl": "",
      "userId": "03306029417396722813"
     },
     "user_tz": -540
    },
    "id": "_TUKNN-ep02i",
    "outputId": "8d91d07c-1f69-4518-a466-bee68593c783"
   },
   "outputs": [
    {
     "name": "stdout",
     "output_type": "stream",
     "text": [
      "파일을 찾을 수 없습니다. [Errno 2] No such file or directory: '없는파일'\n"
     ]
    }
   ],
   "source": [
    "try :\n",
    "    f = open(\"없는파일\", \"r\")\n",
    "except FileNotFoundError as e :\n",
    "    print(\"파일을 찾을 수 없습니다.\", e)"
   ]
  },
  {
   "cell_type": "code",
   "execution_count": 84,
   "metadata": {
    "colab": {
     "base_uri": "https://localhost:8080/"
    },
    "executionInfo": {
     "elapsed": 270,
     "status": "ok",
     "timestamp": 1630473471291,
     "user": {
      "displayName": "문승우",
      "photoUrl": "",
      "userId": "03306029417396722813"
     },
     "user_tz": -540
    },
    "id": "Na1PnLE-qSTO",
    "outputId": "55ef9e14-f204-4349-aa91-55a7bf852e52"
   },
   "outputs": [
    {
     "name": "stdout",
     "output_type": "stream",
     "text": [
      "1 * 1 = 1\n",
      "1 * 2 = 2\n",
      "1 * 3 = 3\n",
      "1 * 4 = 4\n",
      "1 * 5 = 5\n",
      "1 * 6 = 6\n",
      "1 * 7 = 7\n",
      "1 * 8 = 8\n",
      "1 * 9 = 9\n",
      "\n",
      "2 * 1 = 2\n",
      "2 * 2 = 4\n",
      "2 * 3 = 6\n",
      "2 * 4 = 8\n",
      "2 * 5 = 10\n",
      "2 * 6 = 12\n",
      "2 * 7 = 14\n",
      "2 * 8 = 16\n",
      "2 * 9 = 18\n",
      "\n",
      "3 * 1 = 3\n",
      "3 * 2 = 6\n",
      "3 * 3 = 9\n",
      "3 * 4 = 12\n",
      "3 * 5 = 15\n",
      "3 * 6 = 18\n",
      "3 * 7 = 21\n",
      "3 * 8 = 24\n",
      "3 * 9 = 27\n",
      "\n",
      "4 * 1 = 4\n",
      "4 * 2 = 8\n",
      "4 * 3 = 12\n",
      "4 * 4 = 16\n",
      "4 * 5 = 20\n",
      "4 * 6 = 24\n",
      "4 * 7 = 28\n",
      "4 * 8 = 32\n",
      "4 * 9 = 36\n",
      "\n",
      "5 * 1 = 5\n",
      "5 * 2 = 10\n",
      "5 * 3 = 15\n",
      "5 * 4 = 20\n",
      "5 * 5 = 25\n",
      "5 * 6 = 30\n",
      "5 * 7 = 35\n",
      "5 * 8 = 40\n",
      "5 * 9 = 45\n",
      "\n",
      "6 * 1 = 6\n",
      "6 * 2 = 12\n",
      "6 * 3 = 18\n",
      "6 * 4 = 24\n",
      "6 * 5 = 30\n",
      "6 * 6 = 36\n",
      "6 * 7 = 42\n",
      "6 * 8 = 48\n",
      "6 * 9 = 54\n",
      "\n",
      "7 * 1 = 7\n",
      "7 * 2 = 14\n",
      "7 * 3 = 21\n",
      "7 * 4 = 28\n",
      "7 * 5 = 35\n",
      "7 * 6 = 42\n",
      "7 * 7 = 49\n",
      "7 * 8 = 56\n",
      "7 * 9 = 63\n",
      "\n",
      "8 * 1 = 8\n",
      "8 * 2 = 16\n",
      "8 * 3 = 24\n",
      "8 * 4 = 32\n",
      "8 * 5 = 40\n",
      "8 * 6 = 48\n",
      "8 * 7 = 56\n",
      "8 * 8 = 64\n",
      "8 * 9 = 72\n",
      "\n",
      "9 * 1 = 9\n",
      "9 * 2 = 18\n",
      "9 * 3 = 27\n",
      "9 * 4 = 36\n",
      "9 * 5 = 45\n",
      "9 * 6 = 54\n",
      "9 * 7 = 63\n",
      "9 * 8 = 72\n",
      "9 * 9 = 81\n",
      "\n"
     ]
    }
   ],
   "source": [
    "# 구구단 프로그래밍 만들어보기\n",
    "for i in range(1, 10) :\n",
    "    for j in range(1, 10) :\n",
    "        print(f\"{i} * {j} = {i * j}\")\n",
    "    print()"
   ]
  },
  {
   "cell_type": "code",
   "execution_count": 90,
   "metadata": {
    "colab": {
     "base_uri": "https://localhost:8080/"
    },
    "executionInfo": {
     "elapsed": 269,
     "status": "ok",
     "timestamp": 1630473812493,
     "user": {
      "displayName": "문승우",
      "photoUrl": "",
      "userId": "03306029417396722813"
     },
     "user_tz": -540
    },
    "id": "vmZ_Ux5AxXSU",
    "outputId": "90c9db7b-724f-497c-ed90-6ca4897371f2"
   },
   "outputs": [
    {
     "name": "stdout",
     "output_type": "stream",
     "text": [
      "  *\n",
      " ***\n",
      "*****\n"
     ]
    }
   ],
   "source": [
    "for i in range(3) :\n",
    "    print(\" \" * (2 - i) + \"*\" * (2 * i + 1))"
   ]
  },
  {
   "cell_type": "code",
   "execution_count": 91,
   "metadata": {
    "colab": {
     "base_uri": "https://localhost:8080/"
    },
    "executionInfo": {
     "elapsed": 237,
     "status": "ok",
     "timestamp": 1630473916236,
     "user": {
      "displayName": "문승우",
      "photoUrl": "",
      "userId": "03306029417396722813"
     },
     "user_tz": -540
    },
    "id": "ntvNDLNuy1bK",
    "outputId": "f0045087-7d07-4b71-ece5-2b76d34e01bf"
   },
   "outputs": [
    {
     "name": "stdout",
     "output_type": "stream",
     "text": [
      "*********\n",
      "*******\n",
      "*****\n",
      " ***\n"
     ]
    }
   ],
   "source": [
    "for i in range(4, 0, -1) :\n",
    "    print(\" \" * (2 - i) + \"*\" * (2 * i + 1))"
   ]
  },
  {
   "cell_type": "code",
   "execution_count": 93,
   "metadata": {
    "executionInfo": {
     "elapsed": 238,
     "status": "ok",
     "timestamp": 1630474779321,
     "user": {
      "displayName": "문승우",
      "photoUrl": "",
      "userId": "03306029417396722813"
     },
     "user_tz": -540
    },
    "id": "ZFb0Fn-W0Yzf"
   },
   "outputs": [],
   "source": [
    "# 시각화 라이브러리\n",
    "import seaborn as sns\n",
    "import matplotlib.pyplot as plt\n",
    "\n",
    "# 데이터 생성 및 선형대수(딥러닝)\n",
    "import numpy as np"
   ]
  },
  {
   "cell_type": "code",
   "execution_count": 96,
   "metadata": {
    "colab": {
     "base_uri": "https://localhost:8080/",
     "height": 282
    },
    "executionInfo": {
     "elapsed": 281,
     "status": "ok",
     "timestamp": 1630475129703,
     "user": {
      "displayName": "문승우",
      "photoUrl": "",
      "userId": "03306029417396722813"
     },
     "user_tz": -540
    },
    "id": "-LbZzQkR3m5d",
    "outputId": "3f4334ba-e790-4294-ec41-968fb2089a76"
   },
   "outputs": [
    {
     "data": {
      "text/plain": [
       "[<matplotlib.lines.Line2D at 0x7f2f2edd8110>]"
      ]
     },
     "execution_count": 96,
     "metadata": {},
     "output_type": "execute_result"
    },
    {
     "data": {
      "image/png": "[encoded data removed]",
      "text/plain": [
       "<Figure size 432x288 with 1 Axes>"
      ]
     },
     "metadata": {
      "needs_background": "light"
     },
     "output_type": "display_data"
    }
   ],
   "source": [
    "# x, y 값이 필요\n",
    "# x의 값 100, y의 값 100\n",
    "# x, y를 그래프 좌표 위에 표시\n",
    "x = np.linspace(0, 14, 100)\n",
    "y = np.sin(x)\n",
    "\n",
    "plt.plot(x, y, 'o')"
   ]
  },
  {
   "cell_type": "code",
   "execution_count": 98,
   "metadata": {
    "colab": {
     "base_uri": "https://localhost:8080/",
     "height": 316
    },
    "executionInfo": {
     "elapsed": 379,
     "status": "ok",
     "timestamp": 1630476506477,
     "user": {
      "displayName": "문승우",
      "photoUrl": "",
      "userId": "03306029417396722813"
     },
     "user_tz": -540
    },
    "id": "e0qc4sXC42oy",
    "outputId": "7874adbf-9b51-424b-c564-34022220e67b"
   },
   "outputs": [
    {
     "data": {
      "text/plain": [
       "[<matplotlib.lines.Line2D at 0x7f2f2ed20c10>,\n",
       " <matplotlib.lines.Line2D at 0x7f2f2ed20e10>,\n",
       " <matplotlib.lines.Line2D at 0x7f2f2ed20fd0>]"
      ]
     },
     "execution_count": 98,
     "metadata": {},
     "output_type": "execute_result"
    },
    {
     "data": {
      "image/png": "[encoded data removed]",
      "text/plain": [
       "<Figure size 432x288 with 1 Axes>"
      ]
     },
     "metadata": {
      "needs_background": "light"
     },
     "output_type": "display_data"
    }
   ],
   "source": [
    "x = np.linspace(1, 14, 100)\n",
    "y1 = np.sin(x)\n",
    "y2 = 2 * np.sin(x)\n",
    "y3 = 3 * np.sin(x)\n",
    "\n",
    "plt.plot(x, y1, x, y2, x, y3)"
   ]
  },
  {
   "cell_type": "code",
   "execution_count": 99,
   "metadata": {
    "colab": {
     "base_uri": "https://localhost:8080/",
     "height": 316
    },
    "executionInfo": {
     "elapsed": 1255,
     "status": "ok",
     "timestamp": 1630476516518,
     "user": {
      "displayName": "문승우",
      "photoUrl": "",
      "userId": "03306029417396722813"
     },
     "user_tz": -540
    },
    "id": "yUeo7Ynk9bsf",
    "outputId": "2fb133c2-0ebe-4461-f9d8-cf67e837c2b6"
   },
   "outputs": [
    {
     "data": {
      "text/plain": [
       "[<matplotlib.lines.Line2D at 0x7f2f2ec91910>,\n",
       " <matplotlib.lines.Line2D at 0x7f2f2ec91b10>,\n",
       " <matplotlib.lines.Line2D at 0x7f2f2ec91cd0>]"
      ]
     },
     "execution_count": 99,
     "metadata": {},
     "output_type": "execute_result"
    },
    {
     "data": {
      "image/png": "[encoded data removed]",
      "text/plain": [
       "<Figure size 432x288 with 1 Axes>"
      ]
     },
     "metadata": {},
     "output_type": "display_data"
    }
   ],
   "source": [
    "sns.set_style(\"whitegrid\")\n",
    "plt.plot(x, y1, x, y2, x, y3)"
   ]
  },
  {
   "cell_type": "code",
   "execution_count": 100,
   "metadata": {
    "colab": {
     "base_uri": "https://localhost:8080/",
     "height": 419
    },
    "executionInfo": {
     "elapsed": 672,
     "status": "ok",
     "timestamp": 1630476969233,
     "user": {
      "displayName": "문승우",
      "photoUrl": "",
      "userId": "03306029417396722813"
     },
     "user_tz": -540
    },
    "id": "Grh4l-bJ-TRO",
    "outputId": "fb698cbd-fda5-4b26-fa2e-f03593e8b3c7"
   },
   "outputs": [
    {
     "data": {
      "text/html": [
       "<div>\n",
       "<style scoped>\n",
       "    .dataframe tbody tr th:only-of-type {\n",
       "        vertical-align: middle;\n",
       "    }\n",
       "\n",
       "    .dataframe tbody tr th {\n",
       "        vertical-align: top;\n",
       "    }\n",
       "\n",
       "    .dataframe thead th {\n",
       "        text-align: right;\n",
       "    }\n",
       "</style>\n",
       "<table border=\"1\" class=\"dataframe\">\n",
       "  <thead>\n",
       "    <tr style=\"text-align: right;\">\n",
       "      <th></th>\n",
       "      <th>total_bill</th>\n",
       "      <th>tip</th>\n",
       "      <th>sex</th>\n",
       "      <th>smoker</th>\n",
       "      <th>day</th>\n",
       "      <th>time</th>\n",
       "      <th>size</th>\n",
       "    </tr>\n",
       "  </thead>\n",
       "  <tbody>\n",
       "    <tr>\n",
       "      <th>0</th>\n",
       "      <td>16.99</td>\n",
       "      <td>1.01</td>\n",
       "      <td>Female</td>\n",
       "      <td>No</td>\n",
       "      <td>Sun</td>\n",
       "      <td>Dinner</td>\n",
       "      <td>2</td>\n",
       "    </tr>\n",
       "    <tr>\n",
       "      <th>1</th>\n",
       "      <td>10.34</td>\n",
       "      <td>1.66</td>\n",
       "      <td>Male</td>\n",
       "      <td>No</td>\n",
       "      <td>Sun</td>\n",
       "      <td>Dinner</td>\n",
       "      <td>3</td>\n",
       "    </tr>\n",
       "    <tr>\n",
       "      <th>2</th>\n",
       "      <td>21.01</td>\n",
       "      <td>3.50</td>\n",
       "      <td>Male</td>\n",
       "      <td>No</td>\n",
       "      <td>Sun</td>\n",
       "      <td>Dinner</td>\n",
       "      <td>3</td>\n",
       "    </tr>\n",
       "    <tr>\n",
       "      <th>3</th>\n",
       "      <td>23.68</td>\n",
       "      <td>3.31</td>\n",
       "      <td>Male</td>\n",
       "      <td>No</td>\n",
       "      <td>Sun</td>\n",
       "      <td>Dinner</td>\n",
       "      <td>2</td>\n",
       "    </tr>\n",
       "    <tr>\n",
       "      <th>4</th>\n",
       "      <td>24.59</td>\n",
       "      <td>3.61</td>\n",
       "      <td>Female</td>\n",
       "      <td>No</td>\n",
       "      <td>Sun</td>\n",
       "      <td>Dinner</td>\n",
       "      <td>4</td>\n",
       "    </tr>\n",
       "    <tr>\n",
       "      <th>...</th>\n",
       "      <td>...</td>\n",
       "      <td>...</td>\n",
       "      <td>...</td>\n",
       "      <td>...</td>\n",
       "      <td>...</td>\n",
       "      <td>...</td>\n",
       "      <td>...</td>\n",
       "    </tr>\n",
       "    <tr>\n",
       "      <th>239</th>\n",
       "      <td>29.03</td>\n",
       "      <td>5.92</td>\n",
       "      <td>Male</td>\n",
       "      <td>No</td>\n",
       "      <td>Sat</td>\n",
       "      <td>Dinner</td>\n",
       "      <td>3</td>\n",
       "    </tr>\n",
       "    <tr>\n",
       "      <th>240</th>\n",
       "      <td>27.18</td>\n",
       "      <td>2.00</td>\n",
       "      <td>Female</td>\n",
       "      <td>Yes</td>\n",
       "      <td>Sat</td>\n",
       "      <td>Dinner</td>\n",
       "      <td>2</td>\n",
       "    </tr>\n",
       "    <tr>\n",
       "      <th>241</th>\n",
       "      <td>22.67</td>\n",
       "      <td>2.00</td>\n",
       "      <td>Male</td>\n",
       "      <td>Yes</td>\n",
       "      <td>Sat</td>\n",
       "      <td>Dinner</td>\n",
       "      <td>2</td>\n",
       "    </tr>\n",
       "    <tr>\n",
       "      <th>242</th>\n",
       "      <td>17.82</td>\n",
       "      <td>1.75</td>\n",
       "      <td>Male</td>\n",
       "      <td>No</td>\n",
       "      <td>Sat</td>\n",
       "      <td>Dinner</td>\n",
       "      <td>2</td>\n",
       "    </tr>\n",
       "    <tr>\n",
       "      <th>243</th>\n",
       "      <td>18.78</td>\n",
       "      <td>3.00</td>\n",
       "      <td>Female</td>\n",
       "      <td>No</td>\n",
       "      <td>Thur</td>\n",
       "      <td>Dinner</td>\n",
       "      <td>2</td>\n",
       "    </tr>\n",
       "  </tbody>\n",
       "</table>\n",
       "<p>244 rows × 7 columns</p>\n",
       "</div>"
      ],
      "text/plain": [
       "     total_bill   tip     sex smoker   day    time  size\n",
       "0         16.99  1.01  Female     No   Sun  Dinner     2\n",
       "1         10.34  1.66    Male     No   Sun  Dinner     3\n",
       "2         21.01  3.50    Male     No   Sun  Dinner     3\n",
       "3         23.68  3.31    Male     No   Sun  Dinner     2\n",
       "4         24.59  3.61  Female     No   Sun  Dinner     4\n",
       "..          ...   ...     ...    ...   ...     ...   ...\n",
       "239       29.03  5.92    Male     No   Sat  Dinner     3\n",
       "240       27.18  2.00  Female    Yes   Sat  Dinner     2\n",
       "241       22.67  2.00    Male    Yes   Sat  Dinner     2\n",
       "242       17.82  1.75    Male     No   Sat  Dinner     2\n",
       "243       18.78  3.00  Female     No  Thur  Dinner     2\n",
       "\n",
       "[244 rows x 7 columns]"
      ]
     },
     "execution_count": 100,
     "metadata": {},
     "output_type": "execute_result"
    }
   ],
   "source": [
    "tips = sns.load_dataset(\"tips\")\n",
    "tips"
   ]
  },
  {
   "cell_type": "code",
   "execution_count": 109,
   "metadata": {
    "colab": {
     "base_uri": "https://localhost:8080/",
     "height": 537
    },
    "executionInfo": {
     "elapsed": 765,
     "status": "ok",
     "timestamp": 1630477887146,
     "user": {
      "displayName": "문승우",
      "photoUrl": "",
      "userId": "03306029417396722813"
     },
     "user_tz": -540
    },
    "id": "ev8PcnfbACDj",
    "outputId": "e9acba5b-77ce-425b-880f-aadffb906512"
   },
   "outputs": [
    {
     "name": "stdout",
     "output_type": "stream",
     "text": [
      "shape : (244, 7)\n",
      "<class 'pandas.core.frame.DataFrame'>\n",
      "RangeIndex: 244 entries, 0 to 243\n",
      "Data columns (total 7 columns):\n",
      " #   Column      Non-Null Count  Dtype   \n",
      "---  ------      --------------  -----   \n",
      " 0   total_bill  244 non-null    float64 \n",
      " 1   tip         244 non-null    float64 \n",
      " 2   sex         244 non-null    category\n",
      " 3   smoker      244 non-null    category\n",
      " 4   day         244 non-null    category\n",
      " 5   time        244 non-null    category\n",
      " 6   size        244 non-null    int64   \n",
      "dtypes: category(4), float64(2), int64(1)\n",
      "memory usage: 7.3 KB\n"
     ]
    },
    {
     "data": {
      "text/plain": [
       "[<matplotlib.lines.Line2D at 0x7f2f2e6397d0>]"
      ]
     },
     "execution_count": 109,
     "metadata": {},
     "output_type": "execute_result"
    },
    {
     "data": {
      "image/png": "[encoded data removed]",
      "text/plain": [
       "<Figure size 432x288 with 1 Axes>"
      ]
     },
     "metadata": {},
     "output_type": "display_data"
    }
   ],
   "source": [
    "# 데이터 분석 중요한 기준\n",
    "# 행과 열 -> 244, 7\n",
    "print(f\"shape : {tips.shape}\")\n",
    "\n",
    "# 통계값을 확인해 보겠다.\n",
    "# 통계값\n",
    "# 편차(데이터 제대로 되어 있는지)\n",
    "tips.describe()\n",
    "\n",
    "# 오류, 편차(데이터 제대로 되어 있는지)\n",
    "# 데이터 type을 보겠다.\n",
    "tips.info()\n",
    "\n",
    "# 어디에 써먹을 수 있을까? -> 식당 참고, 활용(성별, 담배피는것, 날짜 등)\n",
    "\n",
    "# 산점도를 확인해 보겠다 - 상관관계\n",
    "plt.plot(tips.total_bill, tips.tip, 'o')\n",
    "\n",
    "# 데이터 신뢰도\n",
    "# 정렬을 해서 큰 값과 작은 값"
   ]
  },
  {
   "cell_type": "code",
   "execution_count": 110,
   "metadata": {
    "colab": {
     "base_uri": "https://localhost:8080/",
     "height": 204
    },
    "executionInfo": {
     "elapsed": 276,
     "status": "ok",
     "timestamp": 1630478220037,
     "user": {
      "displayName": "문승우",
      "photoUrl": "",
      "userId": "03306029417396722813"
     },
     "user_tz": -540
    },
    "id": "tM9p0sXMCJhp",
    "outputId": "9c884aa7-6edd-475b-877b-313f52805be9"
   },
   "outputs": [
    {
     "data": {
      "text/html": [
       "<div>\n",
       "<style scoped>\n",
       "    .dataframe tbody tr th:only-of-type {\n",
       "        vertical-align: middle;\n",
       "    }\n",
       "\n",
       "    .dataframe tbody tr th {\n",
       "        vertical-align: top;\n",
       "    }\n",
       "\n",
       "    .dataframe thead th {\n",
       "        text-align: right;\n",
       "    }\n",
       "</style>\n",
       "<table border=\"1\" class=\"dataframe\">\n",
       "  <thead>\n",
       "    <tr style=\"text-align: right;\">\n",
       "      <th></th>\n",
       "      <th>total_bill</th>\n",
       "      <th>tip</th>\n",
       "      <th>sex</th>\n",
       "      <th>smoker</th>\n",
       "      <th>day</th>\n",
       "      <th>time</th>\n",
       "      <th>size</th>\n",
       "    </tr>\n",
       "  </thead>\n",
       "  <tbody>\n",
       "    <tr>\n",
       "      <th>0</th>\n",
       "      <td>16.99</td>\n",
       "      <td>1.01</td>\n",
       "      <td>Female</td>\n",
       "      <td>No</td>\n",
       "      <td>Sun</td>\n",
       "      <td>Dinner</td>\n",
       "      <td>2</td>\n",
       "    </tr>\n",
       "    <tr>\n",
       "      <th>1</th>\n",
       "      <td>10.34</td>\n",
       "      <td>1.66</td>\n",
       "      <td>Male</td>\n",
       "      <td>No</td>\n",
       "      <td>Sun</td>\n",
       "      <td>Dinner</td>\n",
       "      <td>3</td>\n",
       "    </tr>\n",
       "    <tr>\n",
       "      <th>2</th>\n",
       "      <td>21.01</td>\n",
       "      <td>3.50</td>\n",
       "      <td>Male</td>\n",
       "      <td>No</td>\n",
       "      <td>Sun</td>\n",
       "      <td>Dinner</td>\n",
       "      <td>3</td>\n",
       "    </tr>\n",
       "    <tr>\n",
       "      <th>3</th>\n",
       "      <td>23.68</td>\n",
       "      <td>3.31</td>\n",
       "      <td>Male</td>\n",
       "      <td>No</td>\n",
       "      <td>Sun</td>\n",
       "      <td>Dinner</td>\n",
       "      <td>2</td>\n",
       "    </tr>\n",
       "    <tr>\n",
       "      <th>4</th>\n",
       "      <td>24.59</td>\n",
       "      <td>3.61</td>\n",
       "      <td>Female</td>\n",
       "      <td>No</td>\n",
       "      <td>Sun</td>\n",
       "      <td>Dinner</td>\n",
       "      <td>4</td>\n",
       "    </tr>\n",
       "  </tbody>\n",
       "</table>\n",
       "</div>"
      ],
      "text/plain": [
       "   total_bill   tip     sex smoker  day    time  size\n",
       "0       16.99  1.01  Female     No  Sun  Dinner     2\n",
       "1       10.34  1.66    Male     No  Sun  Dinner     3\n",
       "2       21.01  3.50    Male     No  Sun  Dinner     3\n",
       "3       23.68  3.31    Male     No  Sun  Dinner     2\n",
       "4       24.59  3.61  Female     No  Sun  Dinner     4"
      ]
     },
     "execution_count": 110,
     "metadata": {},
     "output_type": "execute_result"
    }
   ],
   "source": [
    "# 요일별 식사금액은 얼마나 될까?\n",
    "tips.head()"
   ]
  },
  {
   "cell_type": "code",
   "execution_count": 112,
   "metadata": {
    "colab": {
     "base_uri": "https://localhost:8080/",
     "height": 296
    },
    "executionInfo": {
     "elapsed": 659,
     "status": "ok",
     "timestamp": 1630478344902,
     "user": {
      "displayName": "문승우",
      "photoUrl": "",
      "userId": "03306029417396722813"
     },
     "user_tz": -540
    },
    "id": "vqXHT3YwCSgb",
    "outputId": "4d4c9425-8046-4dda-80de-8f6535b80389"
   },
   "outputs": [
    {
     "data": {
      "text/plain": [
       "<matplotlib.axes._subplots.AxesSubplot at 0x7f2f2e605a50>"
      ]
     },
     "execution_count": 112,
     "metadata": {},
     "output_type": "execute_result"
    },
    {
     "data": {
      "image/png": "[encoded data removed]",
      "text/plain": [
       "<Figure size 432x288 with 1 Axes>"
      ]
     },
     "metadata": {},
     "output_type": "display_data"
    }
   ],
   "source": [
    "sns.barplot(x = \"day\", y = \"total_bill\", data = tips)"
   ]
  },
  {
   "cell_type": "code",
   "execution_count": 132,
   "metadata": {
    "colab": {
     "base_uri": "https://localhost:8080/",
     "height": 1000
    },
    "executionInfo": {
     "elapsed": 967,
     "status": "ok",
     "timestamp": 1630479361516,
     "user": {
      "displayName": "문승우",
      "photoUrl": "",
      "userId": "03306029417396722813"
     },
     "user_tz": -540
    },
    "id": "pAyf3ucBFPA4",
    "outputId": "206b5644-eb18-495b-e806-bd01cfa9843c"
   },
   "outputs": [
    {
     "name": "stdout",
     "output_type": "stream",
     "text": [
      "===== flights info =====\n",
      "<class 'pandas.core.frame.DataFrame'>\n",
      "RangeIndex: 144 entries, 0 to 143\n",
      "Data columns (total 3 columns):\n",
      " #   Column      Non-Null Count  Dtype   \n",
      "---  ------      --------------  -----   \n",
      " 0   year        144 non-null    int64   \n",
      " 1   month       144 non-null    category\n",
      " 2   passengers  144 non-null    int64   \n",
      "dtypes: category(1), int64(2)\n",
      "memory usage: 2.9 KB\n",
      "None\n",
      "\n",
      "===== flights shape =====\n",
      "(144, 3)\n",
      "\n",
      "===== flights 통계값 =====\n",
      "              year  passengers\n",
      "count   144.000000  144.000000\n",
      "mean   1954.500000  280.298611\n",
      "std       3.464102  119.966317\n",
      "min    1949.000000  104.000000\n",
      "25%    1951.750000  180.000000\n",
      "50%    1954.500000  265.500000\n",
      "75%    1957.250000  360.500000\n",
      "max    1960.000000  622.000000\n",
      "\n",
      "===== flights head =====\n",
      "   year month  passengers\n",
      "0  1949   Jan         112\n",
      "1  1949   Feb         118\n",
      "2  1949   Mar         132\n",
      "3  1949   Apr         129\n",
      "4  1949   May         121\n",
      "\n",
      "===== flights tile =====\n",
      "     year month  passengers\n",
      "139  1960   Aug         606\n",
      "140  1960   Sep         508\n",
      "141  1960   Oct         461\n",
      "142  1960   Nov         390\n",
      "143  1960   Dec         432\n",
      "\n"
     ]
    },
    {
     "data": {
      "text/plain": [
       "[<matplotlib.lines.Line2D at 0x7f2f2de24f10>]"
      ]
     },
     "execution_count": 132,
     "metadata": {},
     "output_type": "execute_result"
    },
    {
     "data": {
      "image/png": "[encoded data removed]",
      "text/plain": [
       "<Figure size 432x288 with 1 Axes>"
      ]
     },
     "metadata": {},
     "output_type": "display_data"
    }
   ],
   "source": [
    "# 6-4 실습 과제 - flights.csv를 불러와서\n",
    "# 통계값 확인\n",
    "# 데이터 확인\n",
    "# 행열 확인\n",
    "# head(), tail()\n",
    "# 그래프 그려보기\n",
    "# info() : 정보확인\n",
    "import seaborn as sns\n",
    "import matplotlib.pyplot as plt\n",
    "import numpy as np\n",
    "\n",
    "flights = sns.load_dataset(\"flights\")\n",
    "\n",
    "print(\"===== flights info =====\")\n",
    "print(flights.info())\n",
    "print()\n",
    "\n",
    "print(\"===== flights shape =====\")\n",
    "print(flights.shape)\n",
    "print()\n",
    "\n",
    "print(\"===== flights 통계값 =====\")\n",
    "print(flights.describe())\n",
    "print()\n",
    "\n",
    "print(\"===== flights head =====\")\n",
    "print(flights.head())\n",
    "print()\n",
    "\n",
    "print(\"===== flights tile =====\")\n",
    "print(flights.tail())\n",
    "print()\n",
    "\n",
    "sns.barplot(x = \"year\", y = \"passengers\", data = flights)\n",
    "# sns.barplot(x = \"month\", y = \"passengers\", data = flights)\n",
    "plt.plot(flights.year, flights.passengers)"
   ]
  },
  {
   "cell_type": "code",
   "execution_count": null,
   "metadata": {
    "id": "-_264on1F0gi"
   },
   "outputs": [],
   "source": []
  }
 ],
 "metadata": {
  "colab": {
   "authorship_tag": "ABX9TyPls24f1aB041avK+GqY9ss",
   "collapsed_sections": [],
   "name": "2021_09_01_1.ipynb",
   "provenance": []
  },
  "kernelspec": {
   "display_name": "Python 3 (ipykernel)",
   "language": "python",
   "name": "python3"
  },
  "language_info": {
   "codemirror_mode": {
    "name": "ipython",
    "version": 3
   },
   "file_extension": ".py",
   "mimetype": "text/x-python",
   "name": "python",
   "nbconvert_exporter": "python",
   "pygments_lexer": "ipython3",
   "version": "3.8.8"
  }
 },
 "nbformat": 4,
 "nbformat_minor": 1
}
