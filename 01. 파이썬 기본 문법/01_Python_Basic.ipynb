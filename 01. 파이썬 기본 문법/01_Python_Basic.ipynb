{
 "cells": [
  {
   "cell_type": "markdown",
   "metadata": {},
   "source": [
    "### 2021_08_27_6"
   ]
  },
  {
   "cell_type": "code",
   "execution_count": null,
   "metadata": {
    "colab": {
     "base_uri": "https://localhost:8080/"
    },
    "executionInfo": {
     "elapsed": 668,
     "status": "ok",
     "timestamp": 1630044774146,
     "user": {
      "displayName": "문승우",
      "photoUrl": "",
      "userId": "03306029417396722813"
     },
     "user_tz": -540
    },
    "id": "cFS0WlCSOIeM",
    "outputId": "8f62afba-6efc-460b-e531-951d40f12db4"
   },
   "outputs": [
    {
     "name": "stdout",
     "output_type": "stream",
     "text": [
      "10\n"
     ]
    }
   ],
   "source": [
    "print(10)"
   ]
  },
  {
   "cell_type": "code",
   "execution_count": null,
   "metadata": {
    "colab": {
     "base_uri": "https://localhost:8080/"
    },
    "executionInfo": {
     "elapsed": 402,
     "status": "ok",
     "timestamp": 1630044785997,
     "user": {
      "displayName": "문승우",
      "photoUrl": "",
      "userId": "03306029417396722813"
     },
     "user_tz": -540
    },
    "id": "V1IRfwmMPVf-",
    "outputId": "132122f0-7084-405e-c15e-1750a35b5f87"
   },
   "outputs": [
    {
     "name": "stdout",
     "output_type": "stream",
     "text": [
      "10\n"
     ]
    }
   ],
   "source": [
    "print(10)"
   ]
  },
  {
   "cell_type": "code",
   "execution_count": null,
   "metadata": {
    "colab": {
     "base_uri": "https://localhost:8080/"
    },
    "executionInfo": {
     "elapsed": 289,
     "status": "ok",
     "timestamp": 1630045015748,
     "user": {
      "displayName": "문승우",
      "photoUrl": "",
      "userId": "03306029417396722813"
     },
     "user_tz": -540
    },
    "id": "wtY0oNbyPYnv",
    "outputId": "f7db2847-d37b-48af-8539-127a595482cc"
   },
   "outputs": [
    {
     "name": "stdout",
     "output_type": "stream",
     "text": [
      "10\n",
      "hello\n"
     ]
    }
   ],
   "source": [
    "print(10)\n",
    "print(\"hello\") # \"\", ''"
   ]
  },
  {
   "cell_type": "code",
   "execution_count": null,
   "metadata": {
    "colab": {
     "base_uri": "https://localhost:8080/"
    },
    "executionInfo": {
     "elapsed": 270,
     "status": "ok",
     "timestamp": 1630045671171,
     "user": {
      "displayName": "문승우",
      "photoUrl": "",
      "userId": "03306029417396722813"
     },
     "user_tz": -540
    },
    "id": "1H2-7EGbQQwP",
    "outputId": "de2fcdb5-c5c1-45e8-a8e7-157257396d9d"
   },
   "outputs": [
    {
     "name": "stdout",
     "output_type": "stream",
     "text": [
      "100\n",
      "50\n",
      "hello\n",
      "100 50 hello\n",
      "100, 50, hello\n"
     ]
    }
   ],
   "source": [
    "math = 100\n",
    "eng = 50\n",
    "str1 = \"hello\"\n",
    "\n",
    "print(math)\n",
    "print(eng)\n",
    "print(str1)\n",
    "\n",
    "print(math, eng, str1, end = \"\")\n",
    "print()\n",
    "print(math, eng, str1, sep = \", \")"
   ]
  },
  {
   "cell_type": "code",
   "execution_count": null,
   "metadata": {
    "colab": {
     "base_uri": "https://localhost:8080/"
    },
    "executionInfo": {
     "elapsed": 294,
     "status": "ok",
     "timestamp": 1630045704315,
     "user": {
      "displayName": "문승우",
      "photoUrl": "",
      "userId": "03306029417396722813"
     },
     "user_tz": -540
    },
    "id": "KD-HBBShSwxZ",
    "outputId": "ff2ec464-1f4c-47a9-c137-cc5b5dcdf8a1"
   },
   "outputs": [
    {
     "name": "stdout",
     "output_type": "stream",
     "text": [
      "\n",
      "line1\n",
      "line2\n",
      "line3\n",
      "\n",
      "hello \n",
      "world\n"
     ]
    }
   ],
   "source": [
    "## 문자열과 문자열을 이어주기\n",
    "\"hello\" + \"World\"\n",
    "\n",
    "## 문자열 여러줄 입력하기\n",
    "str1 = \"\"\"\n",
    "line1\n",
    "line2\n",
    "line3\n",
    "\"\"\"\n",
    "print(str1)\n",
    "\n",
    "## 두 줄 출력\n",
    "print(\"hello \\nworld\")"
   ]
  },
  {
   "cell_type": "code",
   "execution_count": null,
   "metadata": {
    "colab": {
     "base_uri": "https://localhost:8080/"
    },
    "executionInfo": {
     "elapsed": 5738,
     "status": "ok",
     "timestamp": 1630045908060,
     "user": {
      "displayName": "문승우",
      "photoUrl": "",
      "userId": "03306029417396722813"
     },
     "user_tz": -540
    },
    "id": "7ZZ4L8EDS43N",
    "outputId": "df90e07b-edf6-4fae-9680-1bc237544179"
   },
   "outputs": [
    {
     "name": "stdout",
     "output_type": "stream",
     "text": [
      "id : toto\n",
      "pwd : 0000\n",
      "통과\n",
      "id =  toto pwd =  0000\n"
     ]
    }
   ],
   "source": [
    "# 파이썬에서 내장함수\n",
    "# 6 - 8 (실습) id와 패스워드를 입력받아서 출력해 보기\n",
    "id = input(\"id : \")\n",
    "pwd = input(\"pwd : \")\n",
    "\n",
    "if id == \"toto\" and pwd == \"0000\" :\n",
    "  print(\"통과\")\n",
    "print(\"id = \", id, \"pwd = \", pwd)"
   ]
  },
  {
   "cell_type": "code",
   "execution_count": null,
   "metadata": {
    "id": "0H6T7xKLTpR3"
   },
   "outputs": [],
   "source": [
    "# python 내장함수\n",
    "### print()\n",
    "### input()"
   ]
  },
  {
   "cell_type": "code",
   "execution_count": null,
   "metadata": {
    "colab": {
     "base_uri": "https://localhost:8080/"
    },
    "executionInfo": {
     "elapsed": 2930,
     "status": "ok",
     "timestamp": 1630046146359,
     "user": {
      "displayName": "문승우",
      "photoUrl": "",
      "userId": "03306029417396722813"
     },
     "user_tz": -540
    },
    "id": "1n9WQD8UT5xH",
    "outputId": "e51631a2-9e4d-4926-9bd8-b9b106d4117b"
   },
   "outputs": [
    {
     "name": "stdout",
     "output_type": "stream",
     "text": [
      "age : 10\n",
      "20 <class 'int'>\n"
     ]
    }
   ],
   "source": [
    "age = int(input(\"age : \"))\n",
    "print(age + 10, type(age))"
   ]
  },
  {
   "cell_type": "code",
   "execution_count": null,
   "metadata": {
    "id": "c1iQDaD3UG9V"
   },
   "outputs": [],
   "source": [
    "# 자료형\n",
    "# int : 정수형\n",
    "# float : 실수형\n",
    "# str : 문자열\n",
    "# set : 집합\n",
    "# dict : 딕셔너리(사전)\n",
    "# list : 리스트"
   ]
  },
  {
   "cell_type": "code",
   "execution_count": null,
   "metadata": {
    "colab": {
     "base_uri": "https://localhost:8080/"
    },
    "executionInfo": {
     "elapsed": 1032,
     "status": "ok",
     "timestamp": 1630046418346,
     "user": {
      "displayName": "문승우",
      "photoUrl": "",
      "userId": "03306029417396722813"
     },
     "user_tz": -540
    },
    "id": "wdrMAfq8Vdua",
    "outputId": "36d2cce2-6fa9-4951-c363-0b1da6f97f69"
   },
   "outputs": [
    {
     "data": {
      "text/plain": [
       "str"
      ]
     },
     "execution_count": 19,
     "metadata": {},
     "output_type": "execute_result"
    }
   ],
   "source": [
    "type('a')"
   ]
  },
  {
   "cell_type": "code",
   "execution_count": null,
   "metadata": {
    "colab": {
     "base_uri": "https://localhost:8080/"
    },
    "executionInfo": {
     "elapsed": 888,
     "status": "ok",
     "timestamp": 1630046730520,
     "user": {
      "displayName": "문승우",
      "photoUrl": "",
      "userId": "03306029417396722813"
     },
     "user_tz": -540
    },
    "id": "jG3TdVE0VmgL",
    "outputId": "ed3000fe-203b-4189-af3c-a43b9760e2ca"
   },
   "outputs": [
    {
     "name": "stdout",
     "output_type": "stream",
     "text": [
      "4434\n",
      "23.0\n",
      "33333\n"
     ]
    }
   ],
   "source": [
    "# print(), input(), type()\n",
    "# 형변환 함수 : int(), float(), str()\n",
    "# print(int('a'))\n",
    "print(int(\"4434\"))\n",
    "print(float(\"23\"))\n",
    "print(str(33333))"
   ]
  },
  {
   "cell_type": "code",
   "execution_count": null,
   "metadata": {
    "colab": {
     "base_uri": "https://localhost:8080/"
    },
    "executionInfo": {
     "elapsed": 4863,
     "status": "ok",
     "timestamp": 1630046923959,
     "user": {
      "displayName": "문승우",
      "photoUrl": "",
      "userId": "03306029417396722813"
     },
     "user_tz": -540
    },
    "id": "xfoQGkmOVzPM",
    "outputId": "8626dc33-6117-409e-f73d-685626003a7f"
   },
   "outputs": [
    {
     "name": "stdout",
     "output_type": "stream",
     "text": [
      "나이는 : 30\n",
      "당신의 나이는\n",
      "30\n",
      "입니다.\n"
     ]
    }
   ],
   "source": [
    "age = int(input(\"나이는 : \"))\n",
    "print(\"당신의 나이는\", age, \"입니다.\", sep = \"\\n\")"
   ]
  },
  {
   "cell_type": "code",
   "execution_count": null,
   "metadata": {
    "colab": {
     "base_uri": "https://localhost:8080/"
    },
    "executionInfo": {
     "elapsed": 906,
     "status": "ok",
     "timestamp": 1630047900670,
     "user": {
      "displayName": "문승우",
      "photoUrl": "",
      "userId": "03306029417396722813"
     },
     "user_tz": -540
    },
    "id": "Hdu23oLsXXEQ",
    "outputId": "3236e7a5-6ccf-416e-c667-8b27555fd9f8"
   },
   "outputs": [
    {
     "name": "stdout",
     "output_type": "stream",
     "text": [
      "3 5 2\n"
     ]
    }
   ],
   "source": [
    "### print() : 출력\n",
    "### input() : 사용자 입력\n",
    "### type() : str, int, float, dict, list\n",
    "### print(______, sep \" \")\n",
    "print(3, 5, 2, sep = \" \", end = \"\\n\")"
   ]
  },
  {
   "cell_type": "code",
   "execution_count": null,
   "metadata": {
    "colab": {
     "base_uri": "https://localhost:8080/"
    },
    "executionInfo": {
     "elapsed": 291,
     "status": "ok",
     "timestamp": 1630048048474,
     "user": {
      "displayName": "문승우",
      "photoUrl": "",
      "userId": "03306029417396722813"
     },
     "user_tz": -540
    },
    "id": "NFbCdO7FbQzH",
    "outputId": "35f79758-7001-4e12-e6b7-03babb42a52f"
   },
   "outputs": [
    {
     "name": "stdout",
     "output_type": "stream",
     "text": [
      "1 3 2 "
     ]
    }
   ],
   "source": [
    "# 1, 3, 2를 연속으로 출력하자 end 연산자\n",
    "print(1, end = \" \")\n",
    "print(3, end = \" \")\n",
    "print(2, end = \" \")"
   ]
  },
  {
   "cell_type": "code",
   "execution_count": null,
   "metadata": {
    "id": "7exE3vMFbU4j"
   },
   "outputs": [],
   "source": [
    "### 연산자\n",
    "# +, -, /, *, //, %\n",
    "# 2**5\n"
   ]
  },
  {
   "cell_type": "code",
   "execution_count": null,
   "metadata": {
    "id": "c1o5ERpScJN7"
   },
   "outputs": [],
   "source": [
    "# 비교연산자\n",
    "# == : 같다\n",
    "# != : 다르다\n",
    "# >= : 크거나 같다\n",
    "# <= : 작거나 같다\n",
    "# => : 에러"
   ]
  },
  {
   "cell_type": "code",
   "execution_count": null,
   "metadata": {
    "colab": {
     "base_uri": "https://localhost:8080/"
    },
    "executionInfo": {
     "elapsed": 274,
     "status": "ok",
     "timestamp": 1630048404571,
     "user": {
      "displayName": "문승우",
      "photoUrl": "",
      "userId": "03306029417396722813"
     },
     "user_tz": -540
    },
    "id": "xfLZcqvScrfi",
    "outputId": "3f23191b-f075-4600-a253-159ccfa17d28"
   },
   "outputs": [
    {
     "data": {
      "text/plain": [
       "bool"
      ]
     },
     "execution_count": 33,
     "metadata": {},
     "output_type": "execute_result"
    }
   ],
   "source": [
    "1 == 1\n",
    "1 != 1\n",
    "\n",
    "# True, False = \n",
    "type(True)"
   ]
  },
  {
   "cell_type": "code",
   "execution_count": null,
   "metadata": {
    "colab": {
     "base_uri": "https://localhost:8080/"
    },
    "executionInfo": {
     "elapsed": 544,
     "status": "ok",
     "timestamp": 1630049023735,
     "user": {
      "displayName": "문승우",
      "photoUrl": "",
      "userId": "03306029417396722813"
     },
     "user_tz": -540
    },
    "id": "QtBXjQUadMGz",
    "outputId": "be0847ee-820d-4673-b307-010abc7f230b"
   },
   "outputs": [
    {
     "name": "stdout",
     "output_type": "stream",
     "text": [
      "a\n",
      "True\n",
      "False\n",
      "----------\n",
      "True\n",
      "False\n",
      "True\n",
      "False\n",
      "True\n"
     ]
    }
   ],
   "source": [
    "### and, or, not\n",
    "# A and B : \n",
    "# A 또는 B가 Fase -> False\n",
    "# A 와 B가 True -> True\n",
    "# A or B :\n",
    "# A 또는 B가 둘중 하나라도 True -> True\n",
    "# A 와 B가 False -> False\n",
    "print(10 and 'a')\n",
    "print(10 and True)\n",
    "print(not True) # False\n",
    "\n",
    "print(\"----------\")\n",
    "\n",
    "print(True and True)\n",
    "print(True and False)\n",
    "print(True or True)\n",
    "print(False or False)\n",
    "print(1 == 1 and 1 > 0)"
   ]
  },
  {
   "cell_type": "code",
   "execution_count": null,
   "metadata": {
    "colab": {
     "base_uri": "https://localhost:8080/"
    },
    "executionInfo": {
     "elapsed": 302,
     "status": "ok",
     "timestamp": 1630048652984,
     "user": {
      "displayName": "문승우",
      "photoUrl": "",
      "userId": "03306029417396722813"
     },
     "user_tz": -540
    },
    "id": "6nldjE69dtjA",
    "outputId": "bb1cb266-a189-4d19-c3d2-74bb9c625d2b"
   },
   "outputs": [
    {
     "name": "stdout",
     "output_type": "stream",
     "text": [
      "True\n"
     ]
    }
   ],
   "source": [
    "if(10 and 'a') :\n",
    "  print(\"True\")\n",
    "else :\n",
    "  print(\"False\")"
   ]
  },
  {
   "cell_type": "code",
   "execution_count": null,
   "metadata": {
    "colab": {
     "base_uri": "https://localhost:8080/"
    },
    "executionInfo": {
     "elapsed": 323,
     "status": "ok",
     "timestamp": 1630049185684,
     "user": {
      "displayName": "문승우",
      "photoUrl": "",
      "userId": "03306029417396722813"
     },
     "user_tz": -540
    },
    "id": "Zp9eqVoIeIon",
    "outputId": "2c61a9a5-623f-4976-8435-7dd1ca820eeb"
   },
   "outputs": [
    {
     "name": "stdout",
     "output_type": "stream",
     "text": [
      "False\n",
      "True\n",
      "True\n"
     ]
    }
   ],
   "source": [
    "# 0 : False\n",
    "# 0 이외의 모든 값 : True\n",
    "print(True and True and False)\n",
    "print(True and True and True)\n",
    "print(False or False or True)"
   ]
  },
  {
   "cell_type": "code",
   "execution_count": null,
   "metadata": {
    "colab": {
     "base_uri": "https://localhost:8080/"
    },
    "executionInfo": {
     "elapsed": 288,
     "status": "ok",
     "timestamp": 1630049105511,
     "user": {
      "displayName": "문승우",
      "photoUrl": "",
      "userId": "03306029417396722813"
     },
     "user_tz": -540
    },
    "id": "Hfb2hmdbfuVS",
    "outputId": "14b3e6f0-0cea-4679-89e6-68d40efc7ae9"
   },
   "outputs": [
    {
     "data": {
      "text/plain": [
       "3"
      ]
     },
     "execution_count": 43,
     "metadata": {},
     "output_type": "execute_result"
    }
   ],
   "source": [
    "### .ipynb : notebook\n",
    "### .py :\n",
    "3"
   ]
  },
  {
   "cell_type": "code",
   "execution_count": null,
   "metadata": {
    "colab": {
     "base_uri": "https://localhost:8080/"
    },
    "executionInfo": {
     "elapsed": 279,
     "status": "ok",
     "timestamp": 1630049300029,
     "user": {
      "displayName": "문승우",
      "photoUrl": "",
      "userId": "03306029417396722813"
     },
     "user_tz": -540
    },
    "id": "KaIsDh6sfzwU",
    "outputId": "9a5c5c4c-841c-40fa-8ce0-92dcb7188c36"
   },
   "outputs": [
    {
     "name": "stdout",
     "output_type": "stream",
     "text": [
      "1/2/3/1 2 3\n"
     ]
    }
   ],
   "source": [
    "a = 1\n",
    "b = 2\n",
    "c = 3\n",
    "print(a, b, c, sep = \"/\", end = \"/\")\n",
    "print(a, b, c)"
   ]
  },
  {
   "cell_type": "code",
   "execution_count": null,
   "metadata": {
    "id": "AeESJwOtiW1-"
   },
   "outputs": [],
   "source": []
  },
  {
   "cell_type": "code",
   "execution_count": null,
   "metadata": {
    "colab": {
     "base_uri": "https://localhost:8080/"
    },
    "executionInfo": {
     "elapsed": 419,
     "status": "ok",
     "timestamp": 1630049498616,
     "user": {
      "displayName": "문승우",
      "photoUrl": "",
      "userId": "03306029417396722813"
     },
     "user_tz": -540
    },
    "id": "eyfSrlLWgb1g",
    "outputId": "58839b44-49e8-4056-9ab6-214bbedff416"
   },
   "outputs": [
    {
     "name": "stdout",
     "output_type": "stream",
     "text": [
      "good\n"
     ]
    }
   ],
   "source": [
    "today = 15\n",
    "mygender = 'female'\n",
    "age = 19\n",
    "if mygender == 'female' and age >= 18 and today == 15 :\n",
    "  print(\"good\")"
   ]
  },
  {
   "cell_type": "code",
   "execution_count": null,
   "metadata": {
    "id": "gC3RooHOhXJg"
   },
   "outputs": [],
   "source": [
    "### print() : \n",
    "### input() :\n",
    "### and, or, not\n",
    "### str(), int(), float(), list(), dict(), set()\n"
   ]
  },
  {
   "cell_type": "code",
   "execution_count": null,
   "metadata": {
    "colab": {
     "base_uri": "https://localhost:8080/"
    },
    "executionInfo": {
     "elapsed": 2799,
     "status": "ok",
     "timestamp": 1630050059341,
     "user": {
      "displayName": "문승우",
      "photoUrl": "",
      "userId": "03306029417396722813"
     },
     "user_tz": -540
    },
    "id": "7ZrlG9QviFu8",
    "outputId": "fd53c4d8-98e5-4805-b0ca-5691a430bae0"
   },
   "outputs": [
    {
     "name": "stdout",
     "output_type": "stream",
     "text": [
      "score : 40\n",
      "F\n"
     ]
    }
   ],
   "source": [
    "score = int(input(\"score : \"))\n",
    "if score >= 90 :\n",
    "  print(\"A\")\n",
    "elif score >= 80 :\n",
    "  print(\"B\")\n",
    "elif score >= 70 :\n",
    "  print(\"C\")\n",
    "elif score >= 60 :\n",
    "  print(\"D\")\n",
    "else :\n",
    "  print(\"F\")"
   ]
  },
  {
   "cell_type": "code",
   "execution_count": null,
   "metadata": {
    "colab": {
     "base_uri": "https://localhost:8080/"
    },
    "executionInfo": {
     "elapsed": 2451,
     "status": "ok",
     "timestamp": 1630050315613,
     "user": {
      "displayName": "문승우",
      "photoUrl": "",
      "userId": "03306029417396722813"
     },
     "user_tz": -540
    },
    "id": "EkY3gcVtjeC-",
    "outputId": "cad74abd-164c-47de-9ed7-e8fdaaf4a578"
   },
   "outputs": [
    {
     "name": "stdout",
     "output_type": "stream",
     "text": [
      "grade : a\n",
      "ERROR\n"
     ]
    }
   ],
   "source": [
    "grade = input(\"grade : \")\n",
    "if grade == \"A\" :\n",
    "  print(4.5)\n",
    "elif grade == \"B\" :\n",
    "  print(4.0)\n",
    "elif grade == \"C\" :\n",
    "  print(3.5)\n",
    "elif grade == \"D\" : \n",
    "  print(3.0)\n",
    "elif grade == \"F\" :\n",
    "  print(0)\n",
    "else :\n",
    "  print(\"ERROR\")"
   ]
  },
  {
   "cell_type": "code",
   "execution_count": null,
   "metadata": {
    "id": "i8dFQBGSkGz7"
   },
   "outputs": [],
   "source": []
  }
 ],
 "metadata": {
  "colab": {
   "authorship_tag": "ABX9TyMnfTIhuDsctIPC5OOBG8Sg",
   "collapsed_sections": [],
   "name": "8_27_6.ipynb",
   "provenance": []
  },
  "kernelspec": {
   "display_name": "Python 3 (ipykernel)",
   "language": "python",
   "name": "python3"
  },
  "language_info": {
   "codemirror_mode": {
    "name": "ipython",
    "version": 3
   },
   "file_extension": ".py",
   "mimetype": "text/x-python",
   "name": "python",
   "nbconvert_exporter": "python",
   "pygments_lexer": "ipython3",
   "version": "3.8.8"
  }
 },
 "nbformat": 4,
 "nbformat_minor": 1
}
