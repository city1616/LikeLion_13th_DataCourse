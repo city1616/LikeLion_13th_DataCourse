{
 "cells": [
  {
   "cell_type": "markdown",
   "id": "cc8586c1",
   "metadata": {},
   "source": [
    "### 2021_09_13_3 4"
   ]
  },
  {
   "cell_type": "markdown",
   "id": "090a9b14",
   "metadata": {},
   "source": [
    "## Selenium 실습"
   ]
  },
  {
   "cell_type": "code",
   "execution_count": 27,
   "id": "5fa52d3b",
   "metadata": {},
   "outputs": [],
   "source": [
    "from selenium import webdriver\n",
    "from bs4 import BeautifulSoup\n",
    "import time"
   ]
  },
  {
   "cell_type": "code",
   "execution_count": 28,
   "id": "56b24103",
   "metadata": {},
   "outputs": [],
   "source": [
    "url = 'https://pythonstart.github.io/web/'\n",
    "start = time.time()\n",
    "driver = webdriver.Chrome('./DATA/chromedriver')\n",
    "driver.get(url)"
   ]
  },
  {
   "cell_type": "code",
   "execution_count": 29,
   "id": "4062aec3",
   "metadata": {},
   "outputs": [
    {
     "data": {
      "text/plain": [
       "'01. 제목 가져오기(title)'"
      ]
     },
     "execution_count": 29,
     "metadata": {},
     "output_type": "execute_result"
    }
   ],
   "source": [
    "a_tag = driver.find_element_by_css_selector(\"ul a\")\n",
    "a_tag.text"
   ]
  },
  {
   "cell_type": "code",
   "execution_count": 30,
   "id": "f8aa4343",
   "metadata": {},
   "outputs": [
    {
     "data": {
      "text/plain": [
       "'my web page'"
      ]
     },
     "execution_count": 30,
     "metadata": {},
     "output_type": "execute_result"
    }
   ],
   "source": [
    "# body 밑에 h1 요소 선택\n",
    "a_tag = driver.find_element_by_css_selector(\"body h1\")\n",
    "a_tag.text"
   ]
  },
  {
   "cell_type": "code",
   "execution_count": 31,
   "id": "607d3b4b",
   "metadata": {},
   "outputs": [
    {
     "data": {
      "text/plain": [
       "'10. 랭킹 정보 가져오기(웹 크롤링)'"
      ]
     },
     "execution_count": 31,
     "metadata": {},
     "output_type": "execute_result"
    }
   ],
   "source": [
    "# a태그(id = \"rank\") 선택 -> id 이용\n",
    "a_tag = driver.find_element_by_id(\"rank\")\n",
    "a_tag.text"
   ]
  },
  {
   "cell_type": "code",
   "execution_count": 32,
   "id": "4b57a59a",
   "metadata": {},
   "outputs": [
    {
     "data": {
      "text/plain": [
       "'10. 랭킹 정보 가져오기(웹 크롤링)'"
      ]
     },
     "execution_count": 32,
     "metadata": {},
     "output_type": "execute_result"
    }
   ],
   "source": [
    "# a태그(id = \"rank\") 선택 -> css selector 이용\n",
    "a_tag = driver.find_element_by_css_selector(\"body ul a#rank\")\n",
    "a_tag.text"
   ]
  },
  {
   "cell_type": "code",
   "execution_count": 33,
   "id": "36f915fa",
   "metadata": {},
   "outputs": [
    {
     "data": {
      "text/plain": [
       "'10. 랭킹 정보 가져오기(웹 크롤링)'"
      ]
     },
     "execution_count": 33,
     "metadata": {},
     "output_type": "execute_result"
    }
   ],
   "source": [
    "# a태그(id = \"rank\") 선택 -> css selector 이용\n",
    "a_tag = driver.find_element_by_css_selector(\"a#rank\")\n",
    "a_tag.text"
   ]
  },
  {
   "cell_type": "code",
   "execution_count": 34,
   "id": "9ee46fb8",
   "metadata": {},
   "outputs": [
    {
     "data": {
      "text/plain": [
       "[<selenium.webdriver.remote.webelement.WebElement (session=\"83c257c9d5d6d67ace9251c0d30d3eea\", element=\"acc03cba-c659-4c1f-bf91-81ada1e9357b\")>,\n",
       " <selenium.webdriver.remote.webelement.WebElement (session=\"83c257c9d5d6d67ace9251c0d30d3eea\", element=\"abc3fc52-daa5-464e-b3c7-c7085b3631d4\")>,\n",
       " <selenium.webdriver.remote.webelement.WebElement (session=\"83c257c9d5d6d67ace9251c0d30d3eea\", element=\"bfa447d8-a86d-4967-9391-c94bfedae194\")>,\n",
       " <selenium.webdriver.remote.webelement.WebElement (session=\"83c257c9d5d6d67ace9251c0d30d3eea\", element=\"88a1b109-f987-420e-be50-48653eb9a1f5\")>,\n",
       " <selenium.webdriver.remote.webelement.WebElement (session=\"83c257c9d5d6d67ace9251c0d30d3eea\", element=\"ade202f6-f858-4fed-93b2-0c29087e6f04\")>,\n",
       " <selenium.webdriver.remote.webelement.WebElement (session=\"83c257c9d5d6d67ace9251c0d30d3eea\", element=\"771665c9-4454-48a8-98eb-f2e6b52017c2\")>,\n",
       " <selenium.webdriver.remote.webelement.WebElement (session=\"83c257c9d5d6d67ace9251c0d30d3eea\", element=\"a6297b93-e5df-4678-9f0a-730d697e4e93\")>,\n",
       " <selenium.webdriver.remote.webelement.WebElement (session=\"83c257c9d5d6d67ace9251c0d30d3eea\", element=\"b21f14bf-724a-44c4-b611-414a7495878e\")>,\n",
       " <selenium.webdriver.remote.webelement.WebElement (session=\"83c257c9d5d6d67ace9251c0d30d3eea\", element=\"d20d053d-2cfa-46e5-9fa0-0d6452a78651\")>,\n",
       " <selenium.webdriver.remote.webelement.WebElement (session=\"83c257c9d5d6d67ace9251c0d30d3eea\", element=\"674b443f-238f-4573-984b-643f59d570a7\")>]"
      ]
     },
     "execution_count": 34,
     "metadata": {},
     "output_type": "execute_result"
    }
   ],
   "source": [
    "# a태그 전체 선택\n",
    "a_tag = driver.find_elements_by_css_selector(\"a\")\n",
    "a_tag"
   ]
  },
  {
   "cell_type": "code",
   "execution_count": 35,
   "id": "18e9b5c8",
   "metadata": {},
   "outputs": [
    {
     "name": "stdout",
     "output_type": "stream",
     "text": [
      "[<selenium.webdriver.remote.webelement.WebElement (session=\"83c257c9d5d6d67ace9251c0d30d3eea\", element=\"a1ca51cc-b207-4b4f-be94-2cd086f2318f\")>, <selenium.webdriver.remote.webelement.WebElement (session=\"83c257c9d5d6d67ace9251c0d30d3eea\", element=\"acc03cba-c659-4c1f-bf91-81ada1e9357b\")>, <selenium.webdriver.remote.webelement.WebElement (session=\"83c257c9d5d6d67ace9251c0d30d3eea\", element=\"abc3fc52-daa5-464e-b3c7-c7085b3631d4\")>, <selenium.webdriver.remote.webelement.WebElement (session=\"83c257c9d5d6d67ace9251c0d30d3eea\", element=\"bfa447d8-a86d-4967-9391-c94bfedae194\")>, <selenium.webdriver.remote.webelement.WebElement (session=\"83c257c9d5d6d67ace9251c0d30d3eea\", element=\"88a1b109-f987-420e-be50-48653eb9a1f5\")>, <selenium.webdriver.remote.webelement.WebElement (session=\"83c257c9d5d6d67ace9251c0d30d3eea\", element=\"ade202f6-f858-4fed-93b2-0c29087e6f04\")>, <selenium.webdriver.remote.webelement.WebElement (session=\"83c257c9d5d6d67ace9251c0d30d3eea\", element=\"771665c9-4454-48a8-98eb-f2e6b52017c2\")>, <selenium.webdriver.remote.webelement.WebElement (session=\"83c257c9d5d6d67ace9251c0d30d3eea\", element=\"a6297b93-e5df-4678-9f0a-730d697e4e93\")>, <selenium.webdriver.remote.webelement.WebElement (session=\"83c257c9d5d6d67ace9251c0d30d3eea\", element=\"b21f14bf-724a-44c4-b611-414a7495878e\")>, <selenium.webdriver.remote.webelement.WebElement (session=\"83c257c9d5d6d67ace9251c0d30d3eea\", element=\"d20d053d-2cfa-46e5-9fa0-0d6452a78651\")>, <selenium.webdriver.remote.webelement.WebElement (session=\"83c257c9d5d6d67ace9251c0d30d3eea\", element=\"674b443f-238f-4573-984b-643f59d570a7\")>]\n"
     ]
    }
   ],
   "source": [
    "# h1, a 태그 전체 선택\n",
    "h1_a_tag = driver.find_elements_by_css_selector(\"h1, a\")\n",
    "len(h1_a_tag)\n",
    "print(h1_a_tag)"
   ]
  },
  {
   "cell_type": "code",
   "execution_count": 36,
   "id": "b783c8b7",
   "metadata": {},
   "outputs": [
    {
     "data": {
      "text/plain": [
       "<title>나의 웹 페이지</title>"
      ]
     },
     "execution_count": 36,
     "metadata": {},
     "output_type": "execute_result"
    }
   ],
   "source": [
    "## 주어진 페이지 구조화\n",
    "soup = BeautifulSoup(driver.page_source, 'lxml')\n",
    "soup.title"
   ]
  },
  {
   "cell_type": "code",
   "execution_count": 37,
   "id": "bdb715b4",
   "metadata": {},
   "outputs": [
    {
     "data": {
      "text/plain": [
       "[<ul>\n",
       " <a href=\"./01.html\" name=\"link_get\" target=\"_blank\"> 01. 제목 가져오기(title) </a> <br/>\n",
       " <a href=\"./02.html\" name=\"text_get\" target=\"_blank\"> 02. 텍스트 가져오기(p) </a> <br/>\n",
       " <a href=\"./03.html\" name=\"link_get\" target=\"_blank\"> 03. 링크 가져오기(a) </a> <br/>\n",
       " <a href=\"https://pythonstart.github.io/web/04.html\" target=\"_blank\"> 04. 이미지 정보 가져오기(img) </a> <br/>\n",
       " <a href=\"./05.html\" target=\"_blank\"> 05. 리스트 정보 가져오기(ul,ol) </a> <br/>\n",
       " <a href=\"./06.html\" target=\"_blank\"> 06. id를 활용한 정보 획득 </a> <br/>\n",
       " <a href=\"./07.html\" target=\"_blank\"> 07. class를 활용한 정보 획득 </a> <br/>\n",
       " <a href=\"./08.html\" target=\"_blank\"> 08. 하나의 이미지 다운로드 </a> <br/>\n",
       " <a href=\"https://pythonstart.github.io/web/09.html\" target=\"_blank\"> 09. 여러개의 이미지 다운로드 </a> <br/>\n",
       " <a href=\"./10.html\" id=\"rank\" target=\"_blank\"> 10. 랭킹 정보 가져오기(웹 크롤링) </a> <br/>\n",
       " </ul>]"
      ]
     },
     "execution_count": 37,
     "metadata": {},
     "output_type": "execute_result"
    }
   ],
   "source": [
    "soup.select(\"ul\")"
   ]
  },
  {
   "cell_type": "code",
   "execution_count": 38,
   "id": "187406b7",
   "metadata": {},
   "outputs": [
    {
     "data": {
      "text/plain": [
       "[<a href=\"./10.html\" id=\"rank\" target=\"_blank\"> 10. 랭킹 정보 가져오기(웹 크롤링) </a>]"
      ]
     },
     "execution_count": 38,
     "metadata": {},
     "output_type": "execute_result"
    }
   ],
   "source": [
    "soup.select(\"#rank\")"
   ]
  },
  {
   "cell_type": "code",
   "execution_count": 39,
   "id": "b8b98893",
   "metadata": {},
   "outputs": [],
   "source": [
    "driver.get(\"https://pythonstart.github.io/web/07.html\")"
   ]
  },
  {
   "cell_type": "code",
   "execution_count": 41,
   "id": "d2f21073",
   "metadata": {},
   "outputs": [],
   "source": [
    "## 주어진 페이지 구조화\n",
    "soup = BeautifulSoup(driver.page_source, 'lxml')\n",
    "soup.title"
   ]
  },
  {
   "cell_type": "code",
   "execution_count": 42,
   "id": "ac510b0e",
   "metadata": {},
   "outputs": [
    {
     "data": {
      "text/plain": [
       "[<div class=\"word\">\n",
       " 오늘의 인기 키워드\n",
       " <ul>\n",
       " <li class=\"kw\">냉면</li>\n",
       " <li class=\"kw\">감자</li>\n",
       " <li class=\"kw\">오늘의 영화</li>\n",
       " <li class=\"kw\">할수있어</li>\n",
       " </ul>\n",
       " </div>]"
      ]
     },
     "execution_count": 42,
     "metadata": {},
     "output_type": "execute_result"
    }
   ],
   "source": [
    "soup.select(\"div.word\")"
   ]
  },
  {
   "cell_type": "code",
   "execution_count": 45,
   "id": "a73ac58d",
   "metadata": {},
   "outputs": [
    {
     "data": {
      "text/plain": [
       "[<li>냉면이 맛있어 보인다.</li>,\n",
       " <li>연기가 조금 어색해.</li>,\n",
       " <li>오늘의 영화로서 손색이 없어.</li>,\n",
       " <li>할수 있다는 맘이 생겨.</li>]"
      ]
     },
     "execution_count": 45,
     "metadata": {},
     "output_type": "execute_result"
    }
   ],
   "source": [
    "soup.select(\"div.comment\")"
   ]
  },
  {
   "cell_type": "code",
   "execution_count": 48,
   "id": "1ef743fb",
   "metadata": {},
   "outputs": [
    {
     "data": {
      "text/plain": [
       "[<li>냉면이 맛있어 보인다.</li>,\n",
       " <li>연기가 조금 어색해.</li>,\n",
       " <li>오늘의 영화로서 손색이 없어.</li>,\n",
       " <li>할수 있다는 맘이 생겨.</li>]"
      ]
     },
     "execution_count": 48,
     "metadata": {},
     "output_type": "execute_result"
    }
   ],
   "source": [
    "soup.select(\"div.comment li\")"
   ]
  },
  {
   "cell_type": "code",
   "execution_count": 56,
   "id": "238a509c",
   "metadata": {},
   "outputs": [
    {
     "name": "stdout",
     "output_type": "stream",
     "text": [
      "https://pythonstart.github.io/web/01.html\n",
      "https://pythonstart.github.io/web/02.html\n",
      "https://pythonstart.github.io/web/03.html\n",
      "https://pythonstart.github.io/web/04.html\n",
      "https://pythonstart.github.io/web/05.html\n",
      "https://pythonstart.github.io/web/06.html\n",
      "https://pythonstart.github.io/web/07.html\n",
      "https://pythonstart.github.io/web/08.html\n",
      "https://pythonstart.github.io/web/09.html\n",
      "https://pythonstart.github.io/web/10.html\n"
     ]
    }
   ],
   "source": [
    "a_link = driver.find_elements_by_css_selector(\"a\")\n",
    "for one in a_link :\n",
    "    print(one.get_attribute('href'))"
   ]
  },
  {
   "cell_type": "code",
   "execution_count": 58,
   "id": "84a239fe",
   "metadata": {},
   "outputs": [
    {
     "ename": "InvalidArgumentException",
     "evalue": "Message: invalid argument: 'url' must be a string\n  (Session info: chrome=93.0.4577.63)\n",
     "output_type": "error",
     "traceback": [
      "\u001b[0;31m---------------------------------------------------------------------------\u001b[0m",
      "\u001b[0;31mInvalidArgumentException\u001b[0m                  Traceback (most recent call last)",
      "\u001b[0;32m/var/folders/t9/yt46lj5s0lv1slvgpm05mrs00000gn/T/ipykernel_29584/1692536873.py\u001b[0m in \u001b[0;36m<module>\u001b[0;34m\u001b[0m\n\u001b[1;32m      2\u001b[0m \u001b[0;32mfor\u001b[0m \u001b[0mlink\u001b[0m \u001b[0;32min\u001b[0m \u001b[0ma_link\u001b[0m \u001b[0;34m:\u001b[0m\u001b[0;34m\u001b[0m\u001b[0;34m\u001b[0m\u001b[0m\n\u001b[1;32m      3\u001b[0m     \u001b[0mdriver\u001b[0m \u001b[0;34m=\u001b[0m \u001b[0mwebdriver\u001b[0m\u001b[0;34m.\u001b[0m\u001b[0mChrome\u001b[0m\u001b[0;34m(\u001b[0m\u001b[0;34m'./DATA/chromedriver'\u001b[0m\u001b[0;34m)\u001b[0m\u001b[0;34m\u001b[0m\u001b[0;34m\u001b[0m\u001b[0m\n\u001b[0;32m----> 4\u001b[0;31m     \u001b[0mdriver\u001b[0m\u001b[0;34m.\u001b[0m\u001b[0mget\u001b[0m\u001b[0;34m(\u001b[0m\u001b[0mlink\u001b[0m\u001b[0;34m)\u001b[0m\u001b[0;34m\u001b[0m\u001b[0;34m\u001b[0m\u001b[0m\n\u001b[0m\u001b[1;32m      5\u001b[0m     \u001b[0mtitle\u001b[0m \u001b[0;34m=\u001b[0m \u001b[0mdriver\u001b[0m\u001b[0;34m.\u001b[0m\u001b[0mfind_element_by_tag_name\u001b[0m\u001b[0;34m(\u001b[0m\u001b[0;34m\"title\"\u001b[0m\u001b[0;34m)\u001b[0m\u001b[0;34m.\u001b[0m\u001b[0mtext\u001b[0m\u001b[0;34m\u001b[0m\u001b[0;34m\u001b[0m\u001b[0m\n\u001b[1;32m      6\u001b[0m     \u001b[0mtitles\u001b[0m\u001b[0;34m.\u001b[0m\u001b[0mappend\u001b[0m\u001b[0;34m(\u001b[0m\u001b[0mtitle\u001b[0m\u001b[0;34m)\u001b[0m\u001b[0;34m\u001b[0m\u001b[0;34m\u001b[0m\u001b[0m\n",
      "\u001b[0;32m~/opt/anaconda3/envs/likelion/lib/python3.8/site-packages/selenium/webdriver/remote/webdriver.py\u001b[0m in \u001b[0;36mget\u001b[0;34m(self, url)\u001b[0m\n\u001b[1;32m    331\u001b[0m         \u001b[0mLoads\u001b[0m \u001b[0ma\u001b[0m \u001b[0mweb\u001b[0m \u001b[0mpage\u001b[0m \u001b[0;32min\u001b[0m \u001b[0mthe\u001b[0m \u001b[0mcurrent\u001b[0m \u001b[0mbrowser\u001b[0m \u001b[0msession\u001b[0m\u001b[0;34m.\u001b[0m\u001b[0;34m\u001b[0m\u001b[0;34m\u001b[0m\u001b[0m\n\u001b[1;32m    332\u001b[0m         \"\"\"\n\u001b[0;32m--> 333\u001b[0;31m         \u001b[0mself\u001b[0m\u001b[0;34m.\u001b[0m\u001b[0mexecute\u001b[0m\u001b[0;34m(\u001b[0m\u001b[0mCommand\u001b[0m\u001b[0;34m.\u001b[0m\u001b[0mGET\u001b[0m\u001b[0;34m,\u001b[0m \u001b[0;34m{\u001b[0m\u001b[0;34m'url'\u001b[0m\u001b[0;34m:\u001b[0m \u001b[0murl\u001b[0m\u001b[0;34m}\u001b[0m\u001b[0;34m)\u001b[0m\u001b[0;34m\u001b[0m\u001b[0;34m\u001b[0m\u001b[0m\n\u001b[0m\u001b[1;32m    334\u001b[0m \u001b[0;34m\u001b[0m\u001b[0m\n\u001b[1;32m    335\u001b[0m     \u001b[0;34m@\u001b[0m\u001b[0mproperty\u001b[0m\u001b[0;34m\u001b[0m\u001b[0;34m\u001b[0m\u001b[0m\n",
      "\u001b[0;32m~/opt/anaconda3/envs/likelion/lib/python3.8/site-packages/selenium/webdriver/remote/webdriver.py\u001b[0m in \u001b[0;36mexecute\u001b[0;34m(self, driver_command, params)\u001b[0m\n\u001b[1;32m    319\u001b[0m         \u001b[0mresponse\u001b[0m \u001b[0;34m=\u001b[0m \u001b[0mself\u001b[0m\u001b[0;34m.\u001b[0m\u001b[0mcommand_executor\u001b[0m\u001b[0;34m.\u001b[0m\u001b[0mexecute\u001b[0m\u001b[0;34m(\u001b[0m\u001b[0mdriver_command\u001b[0m\u001b[0;34m,\u001b[0m \u001b[0mparams\u001b[0m\u001b[0;34m)\u001b[0m\u001b[0;34m\u001b[0m\u001b[0;34m\u001b[0m\u001b[0m\n\u001b[1;32m    320\u001b[0m         \u001b[0;32mif\u001b[0m \u001b[0mresponse\u001b[0m\u001b[0;34m:\u001b[0m\u001b[0;34m\u001b[0m\u001b[0;34m\u001b[0m\u001b[0m\n\u001b[0;32m--> 321\u001b[0;31m             \u001b[0mself\u001b[0m\u001b[0;34m.\u001b[0m\u001b[0merror_handler\u001b[0m\u001b[0;34m.\u001b[0m\u001b[0mcheck_response\u001b[0m\u001b[0;34m(\u001b[0m\u001b[0mresponse\u001b[0m\u001b[0;34m)\u001b[0m\u001b[0;34m\u001b[0m\u001b[0;34m\u001b[0m\u001b[0m\n\u001b[0m\u001b[1;32m    322\u001b[0m             response['value'] = self._unwrap_value(\n\u001b[1;32m    323\u001b[0m                 response.get('value', None))\n",
      "\u001b[0;32m~/opt/anaconda3/envs/likelion/lib/python3.8/site-packages/selenium/webdriver/remote/errorhandler.py\u001b[0m in \u001b[0;36mcheck_response\u001b[0;34m(self, response)\u001b[0m\n\u001b[1;32m    240\u001b[0m                 \u001b[0malert_text\u001b[0m \u001b[0;34m=\u001b[0m \u001b[0mvalue\u001b[0m\u001b[0;34m[\u001b[0m\u001b[0;34m'alert'\u001b[0m\u001b[0;34m]\u001b[0m\u001b[0;34m.\u001b[0m\u001b[0mget\u001b[0m\u001b[0;34m(\u001b[0m\u001b[0;34m'text'\u001b[0m\u001b[0;34m)\u001b[0m\u001b[0;34m\u001b[0m\u001b[0;34m\u001b[0m\u001b[0m\n\u001b[1;32m    241\u001b[0m             \u001b[0;32mraise\u001b[0m \u001b[0mexception_class\u001b[0m\u001b[0;34m(\u001b[0m\u001b[0mmessage\u001b[0m\u001b[0;34m,\u001b[0m \u001b[0mscreen\u001b[0m\u001b[0;34m,\u001b[0m \u001b[0mstacktrace\u001b[0m\u001b[0;34m,\u001b[0m \u001b[0malert_text\u001b[0m\u001b[0;34m)\u001b[0m\u001b[0;34m\u001b[0m\u001b[0;34m\u001b[0m\u001b[0m\n\u001b[0;32m--> 242\u001b[0;31m         \u001b[0;32mraise\u001b[0m \u001b[0mexception_class\u001b[0m\u001b[0;34m(\u001b[0m\u001b[0mmessage\u001b[0m\u001b[0;34m,\u001b[0m \u001b[0mscreen\u001b[0m\u001b[0;34m,\u001b[0m \u001b[0mstacktrace\u001b[0m\u001b[0;34m)\u001b[0m\u001b[0;34m\u001b[0m\u001b[0;34m\u001b[0m\u001b[0m\n\u001b[0m\u001b[1;32m    243\u001b[0m \u001b[0;34m\u001b[0m\u001b[0m\n\u001b[1;32m    244\u001b[0m     \u001b[0;32mdef\u001b[0m \u001b[0m_value_or_default\u001b[0m\u001b[0;34m(\u001b[0m\u001b[0mself\u001b[0m\u001b[0;34m,\u001b[0m \u001b[0mobj\u001b[0m\u001b[0;34m,\u001b[0m \u001b[0mkey\u001b[0m\u001b[0;34m,\u001b[0m \u001b[0mdefault\u001b[0m\u001b[0;34m)\u001b[0m\u001b[0;34m:\u001b[0m\u001b[0;34m\u001b[0m\u001b[0;34m\u001b[0m\u001b[0m\n",
      "\u001b[0;31mInvalidArgumentException\u001b[0m: Message: invalid argument: 'url' must be a string\n  (Session info: chrome=93.0.4577.63)\n"
     ]
    }
   ],
   "source": [
    "titles = []\n",
    "for link in a_link :\n",
    "    driver = webdriver.Chrome('./DATA/chromedriver')\n",
    "    driver.get(link)\n",
    "    title = driver.find_element_by_tag_name(\"title\").text\n",
    "    titles.append(title)\n",
    "    \n",
    "for i in titles :\n",
    "    print(i)"
   ]
  },
  {
   "cell_type": "code",
   "execution_count": null,
   "id": "1148d9e0",
   "metadata": {},
   "outputs": [],
   "source": []
  }
 ],
 "metadata": {
  "kernelspec": {
   "display_name": "Python 3 (ipykernel)",
   "language": "python",
   "name": "python3"
  },
  "language_info": {
   "codemirror_mode": {
    "name": "ipython",
    "version": 3
   },
   "file_extension": ".py",
   "mimetype": "text/x-python",
   "name": "python",
   "nbconvert_exporter": "python",
   "pygments_lexer": "ipython3",
   "version": "3.8.8"
  }
 },
 "nbformat": 4,
 "nbformat_minor": 5
}
