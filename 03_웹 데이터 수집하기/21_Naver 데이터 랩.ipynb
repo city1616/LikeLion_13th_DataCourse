{
 "cells": [
  {
   "cell_type": "markdown",
   "id": "b63f5af9",
   "metadata": {},
   "source": [
    "### 2021_09_13_4 5 6"
   ]
  },
  {
   "cell_type": "markdown",
   "id": "c4003b71",
   "metadata": {},
   "source": [
    "### 네이버 데이터 랩에서 데이터 가져오기"
   ]
  },
  {
   "cell_type": "code",
   "execution_count": 6,
   "id": "4cb8c162",
   "metadata": {},
   "outputs": [
    {
     "name": "stdout",
     "output_type": "stream",
     "text": [
      "시트명을 입력해 주세요: 패션의류_0913\n"
     ]
    }
   ],
   "source": [
    "filename = \"datalab_word.xlsx\"\n",
    "# 해당 시트명 입력\n",
    "sheetname = input(\"시트명을 입력해 주세요: \")"
   ]
  },
  {
   "cell_type": "code",
   "execution_count": 49,
   "id": "c3c243aa",
   "metadata": {},
   "outputs": [],
   "source": [
    "import os\n",
    "os.getcwd()\n",
    "\n",
    "from selenium import webdriver\n",
    "from bs4 import BeautifulSoup\n",
    "\n",
    "driver = webdriver.Chrome(\"./DATA/chromedriver\")"
   ]
  },
  {
   "cell_type": "code",
   "execution_count": 50,
   "id": "33cae039",
   "metadata": {},
   "outputs": [],
   "source": [
    "url = \"https://datalab.naver.com/\"\n",
    "driver.get(url)"
   ]
  },
  {
   "cell_type": "markdown",
   "id": "a4057bc3",
   "metadata": {},
   "source": [
    "### 날짜 가져오기\n",
    "* 각 날짜의 xpath or bs4를 이용해서 가져온다.\n",
    "* 이 요소를 선택 후, 가져와 해당 부분의 text를 확인한다."
   ]
  },
  {
   "cell_type": "code",
   "execution_count": 25,
   "id": "bd49c698",
   "metadata": {
    "scrolled": true
   },
   "outputs": [
    {
     "name": "stdout",
     "output_type": "stream",
     "text": [
      "\n",
      "\n",
      "\n",
      "\n",
      "2021.09.05.(일)\n",
      "2021.09.06.(월)\n",
      "2021.09.07.(화)\n",
      "2021.09.08.(수)\n",
      "2021.09.09.(목)\n",
      "2021.09.10.(금)\n",
      "\n",
      "\n"
     ]
    }
   ],
   "source": [
    "date = driver.find_elements_by_css_selector(\"span.title_cell\")\n",
    "\n",
    "for one in date :\n",
    "    print(one.text)"
   ]
  },
  {
   "cell_type": "code",
   "execution_count": 28,
   "id": "fc38ea37",
   "metadata": {
    "scrolled": true
   },
   "outputs": [
    {
     "name": "stdout",
     "output_type": "stream",
     "text": [
      "14\n",
      "12\n"
     ]
    }
   ],
   "source": [
    "soup = BeautifulSoup(driver.page_source, 'lxml')\n",
    "date_all = soup.find_all(\"span\", class_ = \"title_cell\")\n",
    "date_list = []\n",
    "print(len(date_all))\n",
    "for one in date_all :\n",
    "    if len(one.text) :\n",
    "        date_list.append(one.text)\n",
    "print(len(date_list))"
   ]
  },
  {
   "cell_type": "code",
   "execution_count": 30,
   "id": "4cac24ee",
   "metadata": {},
   "outputs": [
    {
     "data": {
      "text/plain": [
       "['2021.09.01.(수)',\n",
       " '2021.09.02.(목)',\n",
       " '2021.09.03.(금)',\n",
       " '2021.09.04.(토)',\n",
       " '2021.09.05.(일)',\n",
       " '2021.09.06.(월)',\n",
       " '2021.09.07.(화)',\n",
       " '2021.09.08.(수)',\n",
       " '2021.09.09.(목)',\n",
       " '2021.09.10.(금)',\n",
       " '2021.09.11.(토)',\n",
       " '2021.09.12.(일)']"
      ]
     },
     "execution_count": 30,
     "metadata": {},
     "output_type": "execute_result"
    }
   ],
   "source": [
    "date_list"
   ]
  },
  {
   "cell_type": "code",
   "execution_count": 32,
   "id": "22712a74",
   "metadata": {},
   "outputs": [
    {
     "name": "stdout",
     "output_type": "stream",
     "text": [
      "<selenium.webdriver.remote.webelement.WebElement (session=\"a7e7d13dc8896fd2e67b0b246c3997a1\", element=\"30434eaf-66bb-4f2d-8dca-1fe329e5c11e\")>\n",
      "원피스\n"
     ]
    }
   ],
   "source": [
    "# xpath : //*[@id=\"content\"]/div[1]/div[4]/div/div[1]/div/div/div[6]/div/div/ul/li[1]/a/span\n",
    "one_ele = driver.find_element_by_xpath('//*[@id=\"content\"]/div[1]/div[4]/div/div[1]/div/div/div[6]/div/div/ul/li[1]/a/span')\n",
    "print(one_ele)\n",
    "print(one_ele.text)"
   ]
  },
  {
   "cell_type": "code",
   "execution_count": 37,
   "id": "572a8795",
   "metadata": {},
   "outputs": [
    {
     "name": "stdout",
     "output_type": "stream",
     "text": [
      "원피스\n",
      "나이키바람막이\n",
      "가을원피스\n",
      "후드집업\n",
      "나이키후드티\n",
      "바람막이\n",
      "트위드자켓\n",
      "맨투맨\n",
      "가디건\n",
      "폴로가디건\n"
     ]
    }
   ],
   "source": [
    "# 검색어 1 : //*[@id=\"content\"]/div[1]/div[4]/div/div[1]/div/div/div[6]/div/div/ul/li[1]/a/span\n",
    "# 검색어 3 : //*[@id=\"content\"]/div[1]/div[4]/div/div[1]/div/div/div[6]/div/div/ul/li[3]/a/span\n",
    "# 검색어 10 : //*[@id=\"content\"]/div[1]/div[4]/div/div[1]/div/div/div[6]/div/div/ul/li[10]/a/span\n",
    "pop_word = []\n",
    "\n",
    "for num in range(1, 11, 1) :\n",
    "    xpath_url = '//*[@id=\"content\"]/div[1]/div[4]/div/div[1]/div/div/div[6]/div/div/ul/li[' + str(num) + ']/a/span'\n",
    "    one_item = driver.find_element_by_xpath(xpath_url)\n",
    "    pop_word.append(one_item.text)\n",
    "\n",
    "for i in pop_word :\n",
    "    print(i)"
   ]
  },
  {
   "cell_type": "code",
   "execution_count": 39,
   "id": "02574de8",
   "metadata": {},
   "outputs": [
    {
     "name": "stdout",
     "output_type": "stream",
     "text": [
      "원피스\n",
      "나이키바람막이\n",
      "가을원피스\n",
      "후드집업\n",
      "나이키후드티\n",
      "바람막이\n",
      "트위드자켓\n",
      "맨투맨\n",
      "가디건\n",
      "폴로가디건\n",
      "원피스\n",
      "나이키바람막이\n",
      "후드집업\n",
      "바람막이\n",
      "가을원피스\n",
      "나이키후드티\n",
      "트위드자켓\n",
      "맨투맨\n",
      "가디건\n",
      "폴로가디건\n",
      "원피스\n",
      "가을원피스\n",
      "나이키바람막이\n",
      "나이키후드티\n",
      "후드집업\n",
      "트위드자켓\n",
      "바람막이\n",
      "맨투맨\n",
      "반팔티\n",
      "가디건\n",
      "원피스\n",
      "가을원피스\n",
      "나이키바람막이\n",
      "트위드자켓\n",
      "나이키후드티\n",
      "후드집업\n",
      "바람막이\n",
      "반팔티\n",
      "반바지\n",
      "써스데이아일랜드원피스\n"
     ]
    }
   ],
   "source": [
    "# 9월 6일\n",
    "# 검색어 1 : //*[@id=\"content\"]/div[1]/div[4]/div/div[1]/div/div/div[6]/div/div/ul/li[1]/a/span\n",
    "# 검색어 3 : //*[@id=\"content\"]/div[1]/div[4]/div/div[1]/div/div/div[6]/div/div/ul/li[3]/a/span\n",
    "# 검색어 10 : //*[@id=\"content\"]/div[1]/div[4]/div/div[1]/div/div/div[6]/div/div/ul/li[10]/a/span\n",
    "# 9월 7일\n",
    "# 검색어 1 : //*[@id=\"content\"]/div[1]/div[4]/div/div[1]/div/div/div[7]/div/div/ul/li[1]/a/span\n",
    "# 검색어 3 : //*[@id=\"content\"]/div[1]/div[4]/div/div[1]/div/div/div[7]/div/div/ul/li[3]/a/span\n",
    "\n",
    "pop_word = []\n",
    "\n",
    "for date in range(6, 10, 1) :\n",
    "    for num in range(1, 11, 1) :\n",
    "        xpath_url = '//*[@id=\"content\"]/div[1]/div[4]/div/div[1]/div/div/div[' + str(date) + ']/div/div/ul/li[' + str(num) + ']/a/span'\n",
    "        one_item = driver.find_element_by_xpath(xpath_url)\n",
    "        pop_word.append(one_item.text)\n",
    "        \n",
    "for i in pop_word :\n",
    "    print(i)"
   ]
  },
  {
   "cell_type": "code",
   "execution_count": 47,
   "id": "6140941a",
   "metadata": {},
   "outputs": [
    {
     "name": "stdout",
     "output_type": "stream",
     "text": [
      "2021.09.12.(일)\n",
      "1. 원피스\n",
      "2. 나이키후드티\n",
      "3. 써스데이아일랜드원피스\n",
      "4. 가을원피스\n",
      "5. 트위드자켓\n",
      "6. 나이키바람막이\n",
      "7. 바람막이\n",
      "8. 후드집업\n",
      "9. 맨투맨\n",
      "10. 블라우스\n",
      "2021.09.11.(토)\n",
      "1. 원피스\n",
      "2. 나이키후드티\n",
      "3. 트위드자켓\n",
      "4. 나이키바람막이\n",
      "5. 가을원피스\n",
      "6. 써스데이아일랜드원피스\n",
      "7. 반팔티\n",
      "8. 맨투맨\n",
      "9. 후드집업\n",
      "10. 반바지\n",
      "2021.09.10.(금)\n",
      "1. 원피스\n",
      "2. 가을원피스\n",
      "3. 트위드자켓\n",
      "4. 나이키바람막이\n",
      "5. 나이키후드티\n",
      "6. 써스데이아일랜드원피스\n",
      "7. 반팔티\n",
      "8. 반바지\n",
      "9. 팬츠\n",
      "10. 바람막이\n",
      "2021.09.09.(목)\n",
      "1. 원피스\n",
      "2. 가을원피스\n",
      "3. 나이키바람막이\n",
      "4. 트위드자켓\n",
      "5. 나이키후드티\n",
      "6. 후드집업\n",
      "7. 바람막이\n",
      "8. 반팔티\n",
      "9. 반바지\n",
      "10. 써스데이아일랜드원피스\n",
      "2021.09.08.(수)\n",
      "1. 원피스\n",
      "2. 가을원피스\n",
      "3. 나이키바람막이\n",
      "4. 나이키후드티\n",
      "5. 후드집업\n",
      "6. 트위드자켓\n",
      "7. 바람막이\n",
      "8. 맨투맨\n",
      "9. 반팔티\n",
      "10. 가디건\n",
      "2021.09.07.(화)\n",
      "1. 원피스\n",
      "2. 나이키바람막이\n",
      "3. 후드집업\n",
      "4. 바람막이\n",
      "5. 가을원피스\n",
      "6. 나이키후드티\n",
      "7. 트위드자켓\n",
      "8. 맨투맨\n",
      "9. 가디건\n",
      "10. 폴로가디건\n",
      "2021.09.06.(월)\n",
      "1. 원피스\n",
      "2. 나이키바람막이\n",
      "3. 가을원피스\n",
      "4. 후드집업\n",
      "5. 나이키후드티\n",
      "6. 바람막이\n",
      "7. 트위드자켓\n",
      "8. 맨투맨\n",
      "9. 가디건\n",
      "10. 폴로가디건\n",
      "2021.09.05.(일)\n",
      "1. 원피스\n",
      "2. 나이키후드티\n",
      "3. 가을원피스\n",
      "4. 나이키바람막이\n",
      "5. 트위드자켓\n",
      "6. 후드집업\n",
      "7. 바람막이\n",
      "8. 트렌치코트\n",
      "9. 맨투맨\n",
      "10. 써스데이아일랜드원피스\n",
      "2021.09.04.(토)\n",
      "1. 원피스\n",
      "2. 트위드자켓\n",
      "3. 나이키후드티\n",
      "4. 가을원피스\n",
      "5. 나이키바람막이\n",
      "6. 후드집업\n",
      "7. 써스데이아일랜드원피스\n",
      "8. 바람막이\n",
      "9. 트렌치코트\n",
      "10. 가디건\n",
      "2021.09.03.(금)\n",
      "1. 원피스\n",
      "2. 나이키후드티\n",
      "3. 가을원피스\n",
      "4. 나이키바람막이\n",
      "5. 후드집업\n",
      "6. 트위드자켓\n",
      "7. 써스데이아일랜드원피스\n",
      "8. 반바지\n",
      "9. 반팔티\n",
      "10. 바람막이\n",
      "2021.09.02.(목)\n",
      "1. 원피스\n",
      "2. 가을원피스\n",
      "3. 나이키후드티\n",
      "4. 나이키바람막이\n",
      "5. 후드집업\n",
      "6. 트위드자켓\n",
      "7. 바람막이\n",
      "8. 트렌치코트\n",
      "9. 맨투맨\n",
      "10. 반팔티\n",
      "2021.09.01.(수)\n",
      "1. 원피스\n",
      "2. 나이키후드티\n",
      "3. 후드집업\n",
      "4. 나이키바람막이\n",
      "5. 가을원피스\n",
      "6. 바람막이\n",
      "7. 트위드자켓\n",
      "8. 트렌치코트\n",
      "9. 맨투맨\n",
      "10. 가디건\n"
     ]
    }
   ],
   "source": [
    "# 9월 9일 ~ 9월 12일까지의 순위\n",
    "# 9/8 xpath : //*[@id=\"content\"]/div[1]/div[4]/div/div[1]/div/div/div[8]/div/strong/span\n",
    "# 9/9 xpath : //*[@id=\"content\"]/div[1]/div[4]/div/div[1]/div/div/div[9]/div/strong/span\n",
    "# 9/10 xpath : //*[@id=\"content\"]/div[1]/div[4]/div/div[1]/div/div/div[10]/div/strong/span\n",
    "import time\n",
    "\n",
    "pop_word = []\n",
    "\n",
    "for date in range(12, 0, -1) :\n",
    "    date_url = '//*[@id=\"content\"]/div[1]/div[4]/div/div[1]/div/div/div[' + str(date) + ']/div/strong/span'\n",
    "    date_text = driver.find_element_by_xpath(date_url)\n",
    "    pop_word.append(date_text.text)\n",
    "    for num in range(1, 11, 1) :\n",
    "        xpath_url = '//*[@id=\"content\"]/div[1]/div[4]/div/div[1]/div/div/div[' + str(date) + ']/div/div/ul/li[' + str(num) + ']/a/span'\n",
    "        one_item = driver.find_element_by_xpath(xpath_url)\n",
    "        pop_word.append(str(num) + \". \" + one_item.text)\n",
    "    if date <= 9 :\n",
    "        button = driver.find_element_by_xpath('//*[@id=\"content\"]/div[1]/div[4]/div/div[1]/div/a[1]')\n",
    "        button.click()\n",
    "        time.sleep(5)\n",
    "        \n",
    "        \n",
    "for i in pop_word :\n",
    "    print(i)"
   ]
  },
  {
   "cell_type": "code",
   "execution_count": 64,
   "id": "4bae4bc2",
   "metadata": {},
   "outputs": [
    {
     "name": "stdout",
     "output_type": "stream",
     "text": [
      "['2021.09.12.(일)', '2021.09.11.(토)', '2021.09.10.(금)', '2021.09.09.(목)', '2021.09.08.(수)', '2021.09.07.(화)', '2021.09.06.(월)', '2021.09.05.(일)', '2021.09.04.(토)', '2021.09.03.(금)', '2021.09.02.(목)', '2021.09.01.(수)']\n",
      "  2021.09.12.(일) 2021.09.11.(토) 2021.09.10.(금) 2021.09.09.(목) 2021.09.08.(수)  \\\n",
      "0            원피스            원피스            원피스            원피스            원피스   \n",
      "1         나이키후드티         나이키후드티          가을원피스          가을원피스          가을원피스   \n",
      "2    써스데이아일랜드원피스          트위드자켓          트위드자켓        나이키바람막이        나이키바람막이   \n",
      "3          가을원피스        나이키바람막이        나이키바람막이          트위드자켓         나이키후드티   \n",
      "4          트위드자켓          가을원피스         나이키후드티         나이키후드티           후드집업   \n",
      "5        나이키바람막이    써스데이아일랜드원피스    써스데이아일랜드원피스           후드집업          트위드자켓   \n",
      "6           바람막이            반팔티            반팔티           바람막이           바람막이   \n",
      "7           후드집업            맨투맨            반바지            반팔티            맨투맨   \n",
      "8            맨투맨           후드집업             팬츠            반바지            반팔티   \n",
      "9           블라우스            반바지           바람막이    써스데이아일랜드원피스            가디건   \n",
      "\n",
      "  2021.09.07.(화) 2021.09.06.(월) 2021.09.05.(일) 2021.09.04.(토) 2021.09.03.(금)  \\\n",
      "0            원피스            원피스            원피스            원피스            원피스   \n",
      "1        나이키바람막이        나이키바람막이         나이키후드티          트위드자켓         나이키후드티   \n",
      "2           후드집업          가을원피스          가을원피스         나이키후드티          가을원피스   \n",
      "3           바람막이           후드집업        나이키바람막이          가을원피스        나이키바람막이   \n",
      "4          가을원피스         나이키후드티          트위드자켓        나이키바람막이           후드집업   \n",
      "5         나이키후드티           바람막이           후드집업           후드집업          트위드자켓   \n",
      "6          트위드자켓          트위드자켓           바람막이    써스데이아일랜드원피스    써스데이아일랜드원피스   \n",
      "7            맨투맨            맨투맨          트렌치코트           바람막이            반바지   \n",
      "8            가디건            가디건            맨투맨          트렌치코트            반팔티   \n",
      "9          폴로가디건          폴로가디건    써스데이아일랜드원피스            가디건           바람막이   \n",
      "\n",
      "  2021.09.02.(목) 2021.09.01.(수)  \n",
      "0            원피스            원피스  \n",
      "1          가을원피스         나이키후드티  \n",
      "2         나이키후드티           후드집업  \n",
      "3        나이키바람막이        나이키바람막이  \n",
      "4           후드집업          가을원피스  \n",
      "5          트위드자켓           바람막이  \n",
      "6           바람막이          트위드자켓  \n",
      "7          트렌치코트          트렌치코트  \n",
      "8            맨투맨            맨투맨  \n",
      "9            반팔티            가디건  \n"
     ]
    }
   ],
   "source": [
    "# csv 파일 생성하기\n",
    "import time\n",
    "import pandas as pd\n",
    "from selenium import webdriver\n",
    "from bs4 import BeautifulSoup\n",
    "\n",
    "driver = webdriver.Chrome(\"./DATA/chromedriver\")\n",
    "url = \"https://datalab.naver.com/\"\n",
    "driver.get(url)\n",
    "time.sleep(2)\n",
    "\n",
    "date_list = []\n",
    "result_item = []\n",
    "\n",
    "for date in range(12, 0, -1) :\n",
    "    date_url = '//*[@id=\"content\"]/div[1]/div[4]/div/div[1]/div/div/div[' + str(date) + ']/div/strong/span'\n",
    "    dates = driver.find_element_by_xpath(date_url)\n",
    "    date_list.append(dates.text)\n",
    "    lists = []\n",
    "    for num in range(1, 11, 1) :\n",
    "        xpath_url = '//*[@id=\"content\"]/div[1]/div[4]/div/div[1]/div/div/div[' + str(date) + ']/div/div/ul/li[' + str(num) + ']/a/span'\n",
    "        one_item = driver.find_element_by_xpath(xpath_url)\n",
    "        lists.append(one_item.text)\n",
    "    result_item.append(lists)\n",
    "    if date <= 9 :\n",
    "        button = driver.find_element_by_xpath('//*[@id=\"content\"]/div[1]/div[4]/div/div[1]/div/a[1]')\n",
    "        button.click()\n",
    "        time.sleep(3)\n",
    "        \n",
    "        \n",
    "data_dict = {}\n",
    "print(date_list)\n",
    "\n",
    "for i in range(len(date_list)) :\n",
    "    data_dict[date_list[i]] = result_item[i]\n",
    "\n",
    "rank = pd.DataFrame(data_dict)\n",
    "print(rank)\n",
    "rank.to_csv(\"./CSV/패션의류 순위.csv\", index = False)"
   ]
  },
  {
   "cell_type": "code",
   "execution_count": null,
   "id": "f0f8fb98",
   "metadata": {},
   "outputs": [],
   "source": []
  },
  {
   "cell_type": "code",
   "execution_count": null,
   "id": "ee4e008a",
   "metadata": {},
   "outputs": [],
   "source": []
  }
 ],
 "metadata": {
  "kernelspec": {
   "display_name": "Python 3 (ipykernel)",
   "language": "python",
   "name": "python3"
  },
  "language_info": {
   "codemirror_mode": {
    "name": "ipython",
    "version": 3
   },
   "file_extension": ".py",
   "mimetype": "text/x-python",
   "name": "python",
   "nbconvert_exporter": "python",
   "pygments_lexer": "ipython3",
   "version": "3.8.8"
  }
 },
 "nbformat": 4,
 "nbformat_minor": 5
}
