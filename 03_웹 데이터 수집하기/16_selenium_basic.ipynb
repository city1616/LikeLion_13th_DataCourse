{
 "cells": [
  {
   "cell_type": "markdown",
   "id": "8cb6bfc5",
   "metadata": {},
   "source": [
    "## 2021_09_10_3\n",
    "## selenium basic"
   ]
  },
  {
   "cell_type": "code",
   "execution_count": 1,
   "id": "21051b8e",
   "metadata": {},
   "outputs": [
    {
     "data": {
      "text/plain": [
       "'/Users/seungwoomun/Documents/Github/LikeLion_13th_DataCourse/02. 웹과 Github 기본/05_web_data'"
      ]
     },
     "execution_count": 1,
     "metadata": {},
     "output_type": "execute_result"
    }
   ],
   "source": [
    "import os\n",
    "\n",
    "# 작업 디렉토리\n",
    "os.getcwd()"
   ]
  },
  {
   "cell_type": "code",
   "execution_count": 2,
   "id": "202bfe3c",
   "metadata": {},
   "outputs": [],
   "source": [
    "from selenium import webdriver\n",
    "from bs4 import BeautifulSoup\n",
    "import time"
   ]
  },
  {
   "cell_type": "code",
   "execution_count": 8,
   "id": "385c0bed",
   "metadata": {},
   "outputs": [],
   "source": [
    "url = 'https://pythonstart.github.io/web/'\n",
    "driver = webdriver.Chrome('./DATA/chromedriver')\n",
    "driver.get(url) # url 접속"
   ]
  },
  {
   "cell_type": "code",
   "execution_count": 9,
   "id": "6a274a03",
   "metadata": {},
   "outputs": [],
   "source": [
    "url1 = \"https://movie.naver.com/movie/point/af/list.nhn?st=mcode&sword=171725&target=after&page\"\n",
    "driver.get(url1) # url 접속"
   ]
  },
  {
   "cell_type": "code",
   "execution_count": 13,
   "id": "7ccd17bb",
   "metadata": {},
   "outputs": [],
   "source": [
    "url = 'https://pythonstart.github.io/web/'\n",
    "driver = webdriver.Chrome('./DATA/chromedriver')\n",
    "driver.get(url) # url 접속"
   ]
  },
  {
   "cell_type": "code",
   "execution_count": 17,
   "id": "63e31c09",
   "metadata": {},
   "outputs": [
    {
     "name": "stdout",
     "output_type": "stream",
     "text": [
      "<selenium.webdriver.remote.webelement.WebElement (session=\"7e6d80b7f29326b9cc4b02cb2086a581\", element=\"79f47824-a98a-4516-9fa5-7ac7c6ee3535\")>\n",
      "해당 연결의 tag : a\n",
      "해당 태그의 text 정보 : 10. 랭킹 정보 가져오기(웹 크롤링)\n"
     ]
    }
   ],
   "source": [
    "selected_id = driver.find_element_by_id(\"rank\")\n",
    "print(selected_id)\n",
    "print(\"해당 연결의 tag :\", selected_id.tag_name)  # 해당 연결의 tag 이름 보기\n",
    "print(\"해당 태그의 text 정보 :\", selected_id.text) # 해당 태그의 text 정보 보기"
   ]
  },
  {
   "cell_type": "code",
   "execution_count": 18,
   "id": "b9aad653",
   "metadata": {},
   "outputs": [
    {
     "name": "stdout",
     "output_type": "stream",
     "text": [
      "<selenium.webdriver.remote.webelement.WebElement (session=\"7e6d80b7f29326b9cc4b02cb2086a581\", element=\"9c17087d-05a1-4ca1-a684-5c4bdb9e112f\")>\n"
     ]
    }
   ],
   "source": [
    "a_tag = driver.find_element_by_tag_name(\"a\")\n",
    "print(a_tag)"
   ]
  },
  {
   "cell_type": "code",
   "execution_count": 21,
   "id": "c3e66cb1",
   "metadata": {},
   "outputs": [
    {
     "name": "stdout",
     "output_type": "stream",
     "text": [
      "text : 01. 제목 가져오기(title)\n",
      "tag : a\n"
     ]
    }
   ],
   "source": [
    "# 가져온 정보의 text 보기\n",
    "print(\"text :\", a_tag.text)\n",
    "\n",
    "# 가져온 정보의 tag 보기\n",
    "print(\"tag :\", a_tag.tag_name)"
   ]
  },
  {
   "cell_type": "code",
   "execution_count": 25,
   "id": "20f97551",
   "metadata": {},
   "outputs": [],
   "source": [
    "# 링크 클릭하기\n",
    "a_tag.click()"
   ]
  },
  {
   "cell_type": "code",
   "execution_count": 27,
   "id": "ac70901e",
   "metadata": {},
   "outputs": [
    {
     "data": {
      "text/plain": [
       "<selenium.webdriver.remote.webelement.WebElement (session=\"7e6d80b7f29326b9cc4b02cb2086a581\", element=\"c882eb59-f5d8-4ebc-a8ab-c468c92552cb\")>"
      ]
     },
     "execution_count": 27,
     "metadata": {},
     "output_type": "execute_result"
    }
   ],
   "source": [
    "a_tag_by_name = driver.find_element_by_name(\"text_get\")\n",
    "a_tag_by_name"
   ]
  },
  {
   "cell_type": "code",
   "execution_count": 30,
   "id": "cd65f846",
   "metadata": {},
   "outputs": [
    {
     "name": "stdout",
     "output_type": "stream",
     "text": [
      "text : 02. 텍스트 가져오기(p)\n",
      "tag : a\n"
     ]
    }
   ],
   "source": [
    "# 가져온 정보의 text 보기\n",
    "print(\"text :\", a_tag_by_name.text)\n",
    "\n",
    "# 가져온 정보의 tag 보기\n",
    "print(\"tag :\", a_tag_by_name.tag_name)\n",
    "\n",
    "# 링크 클릭하기\n",
    "a_tag_by_name.click()"
   ]
  },
  {
   "cell_type": "code",
   "execution_count": 31,
   "id": "5ddf0304",
   "metadata": {},
   "outputs": [
    {
     "data": {
      "text/plain": [
       "[<selenium.webdriver.remote.webelement.WebElement (session=\"7e6d80b7f29326b9cc4b02cb2086a581\", element=\"9c17087d-05a1-4ca1-a684-5c4bdb9e112f\")>,\n",
       " <selenium.webdriver.remote.webelement.WebElement (session=\"7e6d80b7f29326b9cc4b02cb2086a581\", element=\"c882eb59-f5d8-4ebc-a8ab-c468c92552cb\")>,\n",
       " <selenium.webdriver.remote.webelement.WebElement (session=\"7e6d80b7f29326b9cc4b02cb2086a581\", element=\"a3ba6a24-1f8a-4073-af0e-84edb6176ca9\")>,\n",
       " <selenium.webdriver.remote.webelement.WebElement (session=\"7e6d80b7f29326b9cc4b02cb2086a581\", element=\"d4e26aba-26c9-4a9b-8af7-56fb594f84ab\")>,\n",
       " <selenium.webdriver.remote.webelement.WebElement (session=\"7e6d80b7f29326b9cc4b02cb2086a581\", element=\"e57b7d1d-0c24-4b32-a6fd-d2b39a26dee9\")>,\n",
       " <selenium.webdriver.remote.webelement.WebElement (session=\"7e6d80b7f29326b9cc4b02cb2086a581\", element=\"e1ac1a51-a3ab-46b4-a508-23b8479285a5\")>,\n",
       " <selenium.webdriver.remote.webelement.WebElement (session=\"7e6d80b7f29326b9cc4b02cb2086a581\", element=\"d766613a-1cd6-4248-bc52-7b8a0bf680e2\")>,\n",
       " <selenium.webdriver.remote.webelement.WebElement (session=\"7e6d80b7f29326b9cc4b02cb2086a581\", element=\"8bb8e995-f7ea-4794-9dea-c0cb32091a63\")>,\n",
       " <selenium.webdriver.remote.webelement.WebElement (session=\"7e6d80b7f29326b9cc4b02cb2086a581\", element=\"3e8a2599-5517-4890-a6b3-ad787ae72a7d\")>,\n",
       " <selenium.webdriver.remote.webelement.WebElement (session=\"7e6d80b7f29326b9cc4b02cb2086a581\", element=\"79f47824-a98a-4516-9fa5-7ac7c6ee3535\")>]"
      ]
     },
     "execution_count": 31,
     "metadata": {},
     "output_type": "execute_result"
    }
   ],
   "source": [
    "all_tag = driver.find_elements_by_tag_name(\"a\")\n",
    "all_tag"
   ]
  },
  {
   "cell_type": "code",
   "execution_count": 32,
   "id": "cbf6eaeb",
   "metadata": {},
   "outputs": [
    {
     "name": "stdout",
     "output_type": "stream",
     "text": [
      "01. 제목 가져오기(title)\n",
      "02. 텍스트 가져오기(p)\n",
      "03. 링크 가져오기(a)\n",
      "04. 이미지 정보 가져오기(img)\n",
      "05. 리스트 정보 가져오기(ul,ol)\n",
      "06. id를 활용한 정보 획득\n",
      "07. class를 활용한 정보 획득\n",
      "08. 하나의 이미지 다운로드\n",
      "09. 여러개의 이미지 다운로드\n",
      "10. 랭킹 정보 가져오기(웹 크롤링)\n"
     ]
    }
   ],
   "source": [
    "for one in all_tag :\n",
    "    print(one.text)"
   ]
  },
  {
   "cell_type": "code",
   "execution_count": 37,
   "id": "af9562df",
   "metadata": {},
   "outputs": [
    {
     "name": "stdout",
     "output_type": "stream",
     "text": [
      "text : 10. 랭킹 정보 가져오기(웹 크롤링)\n",
      "tag : a\n"
     ]
    }
   ],
   "source": [
    "# id를 가져오기(10번째) a요소\n",
    "a_id = driver.find_element_by_id(\"rank\")\n",
    "\n",
    "# 가져온 정보의 text 보기\n",
    "print(\"text :\", a_id.text)\n",
    "\n",
    "# 가져온 정보의 tag 보기\n",
    "print(\"tag :\", a_id.tag_name)\n",
    "\n",
    "# 링크 클릭하기\n",
    "a_id.click()"
   ]
  },
  {
   "cell_type": "code",
   "execution_count": 39,
   "id": "4fe3aa65",
   "metadata": {},
   "outputs": [
    {
     "name": "stdout",
     "output_type": "stream",
     "text": [
      "text : 01. 제목 가져오기(title)\n",
      "text : 03. 링크 가져오기(a)\n"
     ]
    }
   ],
   "source": [
    "# name를 이용해서 1,3번째 요소 가져와서 텍스트 출력해 보기\n",
    "a_name = driver.find_elements_by_name(\"link_get\")\n",
    "\n",
    "for one in a_name :\n",
    "    print(\"text :\", one.text)"
   ]
  },
  {
   "cell_type": "markdown",
   "id": "2f8cfbd8",
   "metadata": {},
   "source": [
    "## 2021_09_10_4"
   ]
  },
  {
   "cell_type": "markdown",
   "id": "d7eceddd",
   "metadata": {},
   "source": [
    "## selector를 이용한 접근\n",
    "* find_element_by_css_selector\n",
    "* find_elements_by_css_selector"
   ]
  },
  {
   "cell_type": "code",
   "execution_count": 41,
   "id": "137001f0",
   "metadata": {},
   "outputs": [
    {
     "name": "stdout",
     "output_type": "stream",
     "text": [
      "10. 랭킹 정보 가져오기(웹 크롤링)\n"
     ]
    }
   ],
   "source": [
    "content = driver.find_element_by_css_selector(\"body ul a#rank\")\n",
    "print(content.text)"
   ]
  },
  {
   "cell_type": "code",
   "execution_count": 42,
   "id": "87a9e64f",
   "metadata": {},
   "outputs": [
    {
     "name": "stdout",
     "output_type": "stream",
     "text": [
      "01. 제목 가져오기(title)\n"
     ]
    }
   ],
   "source": [
    "content1 = driver.find_element_by_css_selector(\"a\")\n",
    "print(content1.text)"
   ]
  },
  {
   "cell_type": "code",
   "execution_count": 44,
   "id": "df4d88eb",
   "metadata": {},
   "outputs": [
    {
     "name": "stdout",
     "output_type": "stream",
     "text": [
      "01. 제목 가져오기(title)\n",
      "02. 텍스트 가져오기(p)\n",
      "03. 링크 가져오기(a)\n",
      "04. 이미지 정보 가져오기(img)\n",
      "05. 리스트 정보 가져오기(ul,ol)\n",
      "06. id를 활용한 정보 획득\n",
      "07. class를 활용한 정보 획득\n",
      "08. 하나의 이미지 다운로드\n",
      "09. 여러개의 이미지 다운로드\n",
      "10. 랭킹 정보 가져오기(웹 크롤링)\n"
     ]
    }
   ],
   "source": [
    "a_content_all = driver.find_elements_by_css_selector(\"a\")\n",
    "\n",
    "for one in a_content_all :\n",
    "    print(one.text)"
   ]
  },
  {
   "cell_type": "code",
   "execution_count": 45,
   "id": "6a8f2f77",
   "metadata": {},
   "outputs": [
    {
     "name": "stdout",
     "output_type": "stream",
     "text": [
      "my web page\n"
     ]
    }
   ],
   "source": [
    "content2 = driver.find_element_by_css_selector(\"body h1\")\n",
    "print(content2.text)"
   ]
  },
  {
   "cell_type": "code",
   "execution_count": 47,
   "id": "c31123eb",
   "metadata": {},
   "outputs": [
    {
     "name": "stdout",
     "output_type": "stream",
     "text": [
      "01. 제목 가져오기(title)\n"
     ]
    }
   ],
   "source": [
    "content3 = driver.find_element_by_css_selector(\"a\")\n",
    "print(content3.text)"
   ]
  },
  {
   "cell_type": "code",
   "execution_count": 48,
   "id": "2791dc54",
   "metadata": {},
   "outputs": [
    {
     "name": "stdout",
     "output_type": "stream",
     "text": [
      "01. 제목 가져오기(title)\n"
     ]
    }
   ],
   "source": [
    "content4 = driver.find_element_by_css_selector(\"ul a\")\n",
    "print(content4.text)"
   ]
  },
  {
   "cell_type": "code",
   "execution_count": 50,
   "id": "885c8d8c",
   "metadata": {},
   "outputs": [
    {
     "name": "stdout",
     "output_type": "stream",
     "text": [
      "01. 제목 가져오기(title)\n",
      "02. 텍스트 가져오기(p)\n",
      "03. 링크 가져오기(a)\n",
      "04. 이미지 정보 가져오기(img)\n",
      "05. 리스트 정보 가져오기(ul,ol)\n",
      "06. id를 활용한 정보 획득\n",
      "07. class를 활용한 정보 획득\n",
      "08. 하나의 이미지 다운로드\n",
      "09. 여러개의 이미지 다운로드\n",
      "10. 랭킹 정보 가져오기(웹 크롤링)\n"
     ]
    }
   ],
   "source": [
    "ul_a_content_all = driver.find_elements_by_css_selector(\"ul a\")\n",
    "\n",
    "for one in ul_a_content_all :\n",
    "    print(one.text)"
   ]
  },
  {
   "cell_type": "code",
   "execution_count": 54,
   "id": "68319499",
   "metadata": {},
   "outputs": [
    {
     "name": "stdout",
     "output_type": "stream",
     "text": [
      "01. 제목 가져오기(title)\n"
     ]
    }
   ],
   "source": [
    "content5 = driver.find_element_by_link_text(\"01. 제목 가져오기(title)\")\n",
    "print(content5.text)"
   ]
  },
  {
   "cell_type": "code",
   "execution_count": null,
   "id": "9b2be307",
   "metadata": {},
   "outputs": [],
   "source": []
  }
 ],
 "metadata": {
  "kernelspec": {
   "display_name": "Python 3 (ipykernel)",
   "language": "python",
   "name": "python3"
  },
  "language_info": {
   "codemirror_mode": {
    "name": "ipython",
    "version": 3
   },
   "file_extension": ".py",
   "mimetype": "text/x-python",
   "name": "python",
   "nbconvert_exporter": "python",
   "pygments_lexer": "ipython3",
   "version": "3.8.8"
  }
 },
 "nbformat": 4,
 "nbformat_minor": 5
}
