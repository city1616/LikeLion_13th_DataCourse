{
 "cells": [
  {
   "cell_type": "markdown",
   "id": "7b902c13",
   "metadata": {},
   "source": [
    "### 2021_09_23_5"
   ]
  },
  {
   "cell_type": "code",
   "execution_count": 4,
   "id": "bd402645",
   "metadata": {},
   "outputs": [],
   "source": [
    "from selenium import webdriver\n",
    "import pandas as pd\n",
    "import folium\n",
    "import time"
   ]
  },
  {
   "cell_type": "code",
   "execution_count": 10,
   "id": "34e814fd",
   "metadata": {},
   "outputs": [],
   "source": [
    "starbucks_url = \"https://www.starbucks.co.kr/index.do\"\n",
    "driver = webdriver.Chrome(\"../../05_web_data/DATA/chromedriver\")\n",
    "driver.get(starbucks_url)\n",
    "driver.implicitly_wait(10)\n",
    "\n",
    "# store xpath : //*[@id=\"gnb\"]/div/nav/div/ul/li[3]/h2/a\n",
    "# 지역 검색 xpath : //*[@id=\"gnb\"]/div/nav/div/ul/li[3]/div/div[1]/div/ul[1]/li[3]/a\n",
    "store_button = driver.find_element_by_xpath('//*[@id=\"gnb\"]/div/nav/div/ul/li[3]/h2/a')\n",
    "store_button.click()\n",
    "\n",
    "first_button = driver.find_element_by_xpath('//*[@id=\"gnb\"]/div/nav/div/ul/li[3]/div/div[1]/div/ul[1]/li[3]/a')\n",
    "first_button.click()\n",
    "time.sleep(1)\n",
    "\n"
   ]
  },
  {
   "cell_type": "code",
   "execution_count": null,
   "id": "56d18882",
   "metadata": {},
   "outputs": [],
   "source": []
  }
 ],
 "metadata": {
  "kernelspec": {
   "display_name": "Python 3 (ipykernel)",
   "language": "python",
   "name": "python3"
  },
  "language_info": {
   "codemirror_mode": {
    "name": "ipython",
    "version": 3
   },
   "file_extension": ".py",
   "mimetype": "text/x-python",
   "name": "python",
   "nbconvert_exporter": "python",
   "pygments_lexer": "ipython3",
   "version": "3.8.8"
  }
 },
 "nbformat": 4,
 "nbformat_minor": 5
}
