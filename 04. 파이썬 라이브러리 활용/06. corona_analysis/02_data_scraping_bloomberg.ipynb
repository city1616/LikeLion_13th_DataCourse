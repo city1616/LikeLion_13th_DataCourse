{
 "cells": [
  {
   "cell_type": "markdown",
   "id": "893bd533",
   "metadata": {},
   "source": [
    "### 2021_09_29_4 5"
   ]
  },
  {
   "cell_type": "code",
   "execution_count": 5,
   "id": "86e3dbf9",
   "metadata": {},
   "outputs": [],
   "source": [
    "from selenium import webdriver\n",
    "from bs4 import BeautifulSoup\n",
    "import time"
   ]
  },
  {
   "cell_type": "markdown",
   "id": "6d766b62",
   "metadata": {},
   "source": [
    "### 웹 브라우저 띄우기"
   ]
  },
  {
   "cell_type": "code",
   "execution_count": 10,
   "id": "6737432d",
   "metadata": {},
   "outputs": [],
   "source": [
    "driver = webdriver.Chrome('./DATA/chromedriver')\n",
    "\n",
    "url = 'https://www.bloomberg.com/graphics/covid-vaccine-tracker-global-distribution/'\n",
    "driver.get(url)"
   ]
  },
  {
   "cell_type": "markdown",
   "id": "8e388d64",
   "metadata": {},
   "source": [
    "### 전체 데이터 보기\n",
    "* 나라가 여러나라가 있어, 더 보기 버튼을 2번 정도 눌러준다."
   ]
  },
  {
   "cell_type": "code",
   "execution_count": 11,
   "id": "81247cf9",
   "metadata": {},
   "outputs": [],
   "source": [
    "# //*[@id=\"dvz-table-global-vaccination\"]/div[2]/div[2]/button\n",
    "# //*[@id=\"dvz-table-global-vaccination\"]/div[2]/div[2]/button\n",
    "sel_more1 = driver.find_element_by_xpath('//*[@id=\"dvz-table-global-vaccination\"]/div[2]/div[2]/button')\n",
    "sel_more1.click()\n",
    "time.sleep(1)"
   ]
  },
  {
   "cell_type": "code",
   "execution_count": 12,
   "id": "59115396",
   "metadata": {},
   "outputs": [],
   "source": [
    "# //*[@id=\"dvz-table-usa-vaccination\"]/div[2]/div[2]/button\n",
    "sel_more2 = driver.find_element_by_xpath('//*[@id=\"dvz-table-global-vaccination\"]/div[2]/div[2]/button')\n",
    "sel_more2.click()"
   ]
  },
  {
   "cell_type": "markdown",
   "id": "14dfbd93",
   "metadata": {},
   "source": [
    "### TABLE 선택 후, 데이터 가져오기"
   ]
  },
  {
   "cell_type": "markdown",
   "id": "9ae4281c",
   "metadata": {},
   "source": [
    "Countries and regions\n",
    "* //*[@id=\"dvz-table-global-vaccination\"]/div[2]/div[1]/table/tbody/tr[1]/td[1]\n",
    "* ..\n",
    "* //*[@id=\"dvz-table-global-vaccination\"]/div[2]/div[1]/table/tbody/tr[3]/td[1]\n",
    "\n",
    "Doses administered\n",
    "* //*[@id=\"dvz-table-global-vaccination\"]/div[2]/div[1]/table/tbody/tr[1]/td[2]\n",
    "\n",
    "Enough for % of people\n",
    "* //*[@id=\"dvz-table-global-vaccination\"]/div[2]/div[1]/table/tbody/tr[1]/td[3]\n",
    "\n",
    "given 1+ dose\n",
    "* //*[@id=\"dvz-table-global-vaccination\"]/div[2]/div[1]/table/tbody/tr[1]/td[4]\n",
    "\n",
    "fully vaccinated\n",
    "* //*[@id=\"dvz-table-global-vaccination\"]/div[2]/div[1]/table/tbody/tr[1]/td[5]\n",
    "\n",
    "Daily rate of doses administered\n",
    "* //*[@id=\"dvz-table-global-vaccination\"]/div[2]/div[1]/table/tbody/tr[1]/td[6]"
   ]
  },
  {
   "cell_type": "code",
   "execution_count": 14,
   "id": "667d7d74",
   "metadata": {
    "scrolled": true
   },
   "outputs": [
    {
     "name": "stdout",
     "output_type": "stream",
     "text": [
      "['Global Total', 'Mainland China', 'India', 'EU', 'U.S.', 'Brazil', 'Japan', 'Indonesia', 'Turkey', 'Germany', 'Mexico', 'France', 'U.K.', '', '', '', '', '', 'Russia', 'Italy', 'Pakistan', 'Spain', 'South Korea', 'Canada', '', '', '', '', '', '', '', '', '', '', '', '', '', 'Argentina', 'Thailand', 'Philippines', 'Iran', 'Malaysia', 'Saudi Arabia', 'Bangladesh', 'Morocco', 'Colombia', 'Vietnam', 'Poland', 'Chile', 'Australia', 'Sri Lanka', 'Peru', 'Cambodia', 'Netherlands', 'Ecuador', 'Cuba', 'UAE', 'Uzbekistan', 'Ukraine', 'South Africa', 'Belgium', 'Portugal', 'Egypt', 'Israel', 'Taiwan', 'Algeria', 'Venezuela', 'Kazakhstan', 'Sweden', 'Nepal', 'Greece', 'Dominican Republic', 'Czech Republic', 'Hungary', 'Austria', 'Switzerland', '', 'Romania', 'Singapore', 'Myanmar', 'Denmark', 'Hong Kong', 'Azerbaijan', 'Norway', 'Finland', 'Iraq', 'Tunisia', 'El Salvador', 'Ireland', 'Jordan', 'Guatemala', 'Bolivia', 'Nigeria', 'Serbia', 'Uruguay', 'Panama', 'Costa Rica', 'Zimbabwe', 'Honduras', 'New Zealand', 'Oman', 'Slovakia', 'Qatar', 'Mongolia', 'Paraguay', 'Laos', 'Tajikistan', 'Rwanda', 'Mozambique', 'Kenya', 'Ethiopia', 'Croatia', 'Belarus', 'Lithuania', 'Angola', 'Afghanistan', 'Lebanon', 'Bahrain', 'Bulgaria', 'Kuwait', 'Slovenia', 'Uganda', 'Ivory Coast', 'Senegal', 'Georgia', 'Albania', 'Guinea', 'Ghana', 'Sudan', 'Mauritius', 'Latvia', 'Libya', 'North Macedonia', 'Kyrgyzstan', 'Moldova', 'Estonia', 'Kosovo', 'Cyprus', 'Malawi', 'Bhutan', 'Bosnia and Herzegovina', 'Trinidad and Tobago', 'Togo', 'Fiji', 'Mauritania', 'Malta', 'Nicaragua', 'Luxembourg', 'Jamaica', 'Maldives', 'Zambia', 'Timor-Leste', 'Macau', 'Niger', 'Botswana', 'Iceland', 'Guyana', 'Syria', 'Somalia', 'Cameroon', 'Montenegro', 'Brunei', 'Madagascar', 'Cape Verde', 'Armenia', 'Namibia', 'Mali', 'Suriname', 'Tanzania', 'Equatorial Guinea', 'Comoros', 'Lesotho', 'Republic of the Congo', 'Yemen', 'Belize', 'Liberia', 'Burkina Faso', 'Eswatini', 'Barbados', 'Sierra Leone', 'Benin', 'Gambia', 'Central African Republic', 'Curaçao', 'Bahamas', 'Gabon', 'Papua New Guinea', 'Aruba', 'Jersey', 'Samoa', 'Seychelles', 'Chad', 'DR Congo', 'Isle of Man', 'Cayman Islands', 'South Sudan', 'Greenland', 'Guernsey', 'Solomon Islands', 'Andorra', 'Guinea-Bissau', 'Antigua and Barbuda', 'Bermuda', 'Sao Tome and Principe', 'Gibraltar', 'St. Lucia', 'Faroe Islands', 'Tonga', 'Micronesia', 'Djibouti', 'Haiti', 'Grenada', 'Turks & Caicos', 'Monaco', 'Sint Maarten', 'Saint Kitts and Nevis', 'San Marino', 'Dominica', 'Turkmenistan', 'St. Vincent and the Grenadines', 'Anguilla', 'Nauru', 'St. Helena', 'Falkland Islands', 'Montserrat', 'Eritrea']\n",
      "['6,199,443,468', '2,203,185,000', '876,538,633', '564,029,956', '391,152,574', '233,261,963', '161,057,159', '139,232,210', '108,761,681', '107,197,993', '99,366,403', '94,250,528', '93,565,474', '', '', '', '', '', '89,865,316', '84,351,559', '79,533,208', '69,936,755', '62,462,921', '56,036,106', '', '', '', '', '', '', '', '', '', '', '', '', '', '51,222,138', '46,023,016', '44,361,285', '43,372,270', '43,028,919', '41,886,224', '41,466,455', '40,273,386', '39,701,907', '39,232,772', '37,158,644', '31,553,676', '27,109,766', '26,096,107', '25,912,376', '23,830,570', '23,540,559', '20,571,335', '20,298,170', '19,963,359', '18,526,941', '17,867,953', '17,176,603', '16,644,129', '15,950,862', '15,057,720', '14,970,627', '14,763,330', '14,082,920', '14,050,000', '14,013,701', '13,703,515', '13,166,598', '12,088,975', '11,828,826', '11,788,930', '11,167,215', '10,802,266', '10,358,035', '', '10,114,580', '9,306,870', '9,001,616', '8,815,419', '8,622,733', '8,350,575', '7,757,255', '7,523,959', '7,448,300', '7,425,277', '7,396,969', '7,200,652', '6,960,192', '6,757,605', '6,700,654', '6,552,979', '6,409,263', '6,214,949', '5,367,816', '5,278,479', '5,263,782', '5,196,072', '5,087,231', '4,946,987', '4,762,272', '4,702,517', '4,545,348', '4,488,153', '4,402,770', '3,872,421', '3,740,279', '3,644,423', '3,613,357', '3,535,329', '3,413,174', '3,389,520', '3,199,916', '3,134,137', '3,133,227', '2,929,966', '2,568,320', '2,521,738', '2,380,000', '2,113,404', '2,058,553', '1,968,171', '1,784,832', '1,760,878', '1,715,133', '1,699,898', '1,653,422', '1,650,828', '1,633,952', '1,621,953', '1,546,967', '1,495,762', '1,422,970', '1,392,707', '1,361,564', '1,283,840', '1,147,010', '1,087,426', '1,068,414', '1,060,145', '1,047,111', '997,632', '975,268', '890,122', '818,593', '788,502', '784,482', '743,184', '727,664', '711,264', '675,891', '649,564', '621,853', '606,699', '551,110', '538,748', '533,949', '464,359', '461,201', '452,830', '443,676', '417,648', '414,300', '408,535', '407,502', '405,053', '394,029', '389,807', '387,510', '336,863', '332,954', '329,905', '322,934', '304,218', '284,246', '254,545', '240,002', '234,124', '232,375', '226,269', '207,195', '187,160', '186,793', '184,461', '180,320', '164,776', '155,753', '150,891', '149,431', '148,402', '142,548', '134,945', '129,318', '110,096', '103,751', '102,357', '101,898', '97,744', '95,918', '94,715', '89,252', '86,676', '82,679', '79,502', '76,224', '74,129', '73,603', '72,085', '67,229', '64,799', '55,663', '52,374', '49,980', '49,310', '47,098', '47,088', '44,624', '41,993', '33,077', '18,584', '14,863', '7,892', '4,407', '2,871', '–']\n",
      "['–', '78.7', '32.0', '63.5', '61.1', '56.5', '63.8', '26.1', '65.4', '64.5', '38.9', '72.7', '70.0', '', '', '', '', '', '30.6', '69.9', '19.4', '75.2', '60.4', '74.7', '', '', '', '', '', '', '', '', '', '', '', '', '', '57.0', '33.1', '20.7', '26.0', '66.0', '61.4', '12.4', '56.6', '39.4', '20.3', '48.9', '82.6', '53.1', '59.8', '39.1', '72.2', '68.3', '59.6', '89.6', '92.9', '27.9', '21.4', '16.4', '72.6', '77.6', '7.6', '82.7', '31.3', '16.2', '25.3', '37.6', '66.3', '23.1', '56.4', '57.1', '55.3', '57.1', '61.0', '60.6', '', '26.1', '81.6', '8.5', '75.9', '57.3', '41.8', '72.4', '68.2', '9.5', '31.5', '57.3', '72.7', '34.6', '19.2', '29.0', '1.6', '46.0', '88.3', '63.6', '52.0', '17.7', '26.6', '51.6', '59.0', '43.7', '84.1', '68.9', '31.4', '30.7', '20.8', '15.1', '5.8', '3.8', '1.8', '42.0', '17.9', '57.5', '5.2', '4.2', '21.4', '86.5', '18.1', '25.1', '52.1', '2.6', '3.7', '5.5', '23.6', '29.9', '6.2', '2.7', '1.9', '64.5', '42.2', '11.8', '36.0', '11.1', '26.0', '51.4', '35.7', '65.5', '2.7', '71.7', '16.1', '37.5', '6.2', '54.5', '11.0', '82.9', '6.0', '63.9', '13.6', '97.8', '1.9', '26.1', '47.8', '1.3', '12.8', '77.2', '34.3', '–', '1.5', '0.9', '36.3', '48.2', '0.8', '37.7', '6.9', '8.3', '1.1', '33.0', '0.3', '14.2', '19.3', '8.1', '3.6', '0.5', '37.3', '3.1', '0.6', '10.8', '40.8', '1.5', '1.0', '4.4', '2.0', '57.3', '24.2', '4.3', '1.0', '69.5', '–', '37.2', '77.3', '0.4', '0.1', '76.1', '84.7', '0.4', '89.8', '–', '7.6', '62.3', '2.7', '46.0', '68.8', '19.4', '116.9', '21.2', '75.6', '36.8', '34.7', '3.1', '0.3', '25.5', '68.9', '64.1', '58.7', '41.3', '69.2', '31.4', '0.4', '15.0', '61.9', '57.2', '65.8', '73.5', '28.7', '–']\n",
      "['–', '78.6', '46.7', '67.3', '64.4', '71.3', '69.5', '32.9', '64.5', '67.9', '49.8', '77.4', '73.0', '', '', '', '', '', '32.6', '74.5', '28.3', '81.0', '74.5', '76.2', '', '', '', '', '', '', '', '', '', '', '', '', '', '65.7', '42.4', '23.5', '35.5', '70.6', '68.4', '14.9', '61.6', '51.4', '32.1', '52.1', '78.5', '63.1', '66.0', '46.7', '79.6', '70.3', '64.2', '79.8', '85.9', '29.4', '29.6', '20.7', '74.8', '86.9', '9.7', '67.3', '53.2', '13.9', '31.6', '40.4', '69.2', '23.9', '59.9', '58.2', '57.0', '60.2', '64.5', '64.3', '', '28.2', '82.1', '10.5', '76.7', '59.5', '47.2', '77.2', '74.8', '11.7', '40.5', '62.8', '76.1', '36.6', '24.9', '36.8', '2.3', '43.4', '77.7', '69.7', '64.5', '20.5', '32.8', '66.0', '69.1', '44.8', '84.4', '68.3', '36.7', '39.1', '24.8', '16.9', '6.1', '5.7', '2.9', '44.5', '19.8', '62.5', '7.1', '2.6', '23.5', '78.4', '17.3', '56.2', '54.1', '4.1', '5.6', '7.6', '26.2', '32.7', '8.5', '2.9', '1.5', '66.8', '47.4', '20.7', '37.6', '12.7', '22.9', '57.0', '43.3', '67.9', '3.9', '77.1', '19.2', '41.5', '7.4', '65.7', '7.9', '85.1', '7.7', '68.1', '19.3', '105.3', '1.8', '32.8', '51.2', '1.7', '17.2', '78.8', '45.2', '–', '1.7', '1.5', '38.6', '58.7', '0.7', '51.7', '8.9', '10.5', '1.7', '37.8', '–', '16.4', '20.0', '12.2', '4.7', '1.0', '47.6', '2.3', '1.2', '18.7', '46.1', '2.4', '1.3', '7.8', '3.0', '60.0', '30.0', '4.9', '1.4', '72.5', '–', '49.3', '80.5', '0.7', '0.1', '77.0', '84.7', '0.6', '124.5', '–', '11.6', '68.7', '4.9', '50.1', '69.6', '28.4', '117.4', '25.0', '77.7', '46.1', '41.6', '3.8', '0.4', '30.4', '72.2', '68.4', '61.2', '44.2', '71.8', '33.3', '0.6', '18.2', '63.3', '58.6', '72.7', '87.7', '29.7', '–']\n"
     ]
    },
    {
     "name": "stdout",
     "output_type": "stream",
     "text": [
      "['–', '73.0', '16.8', '64.7', '55.8', '41.9', '58.2', '18.4', '53.0', '64.2', '35.0', '74.6', '67.1', '', '', '', '', '', '28.5', '74.5', '13.4', '78.5', '46.3', '70.6', '', '', '', '', '', '', '', '', '', '', '', '', '', '48.3', '22.8', '19.2', '16.8', '60.7', '54.4', '10.0', '51.6', '32.8', '8.6', '51.1', '73.8', '41.9', '53.3', '31.1', '66.0', '63.6', '57.0', '43.6', '76.1', '11.1', '13.2', '14.3', '73.2', '84.0', '5.5', '62.1', '9.4', '9.3', '18.9', '34.4', '63.3', '21.7', '56.6', '55.5', '55.8', '57.7', '60.9', '58.3', '', '27.5', '79.2', '6.6', '75.1', '55.2', '36.4', '67.6', '61.6', '7.3', '29.0', '51.6', '74.1', '32.3', '13.1', '28.2', '0.9', '41.4', '72.9', '57.5', '39.5', '14.8', '20.4', '37.2', '48.9', '41.3', '79.4', '64.5', '26.1', '26.7', '16.8', '13.2', '5.6', '1.9', '0.8', '41.7', '16.0', '57.7', '3.3', '1.2', '19.3', '75.0', '19.0', '19.4', '48.1', '1.0', '1.4', '3.5', '21.1', '27.0', '3.9', '2.5', '1.3', '62.2', '43.5', '2.8', '34.3', '9.5', '29.0', '45.7', '28.1', '63.1', '2.4', '66.3', '12.9', '34.4', '5.0', '43.3', '0.5', '85.1', '4.4', '65.1', '8.9', '90.3', '2.1', '19.4', '44.6', '0.4', '9.5', '77.2', '23.4', '–', '1.4', '0.3', '33.7', '37.8', '0.7', '23.7', '4.8', '6.5', '1.2', '28.2', '–', '12.1', '18.5', '11.7', '2.5', '<0.1', '28.2', '0.6', '0.8', '18.1', '35.5', '0.5', '0.2', '7.3', '0.2', '54.6', '18.4', '3.8', '0.5', '66.6', '–', '25.0', '74.1', '0.2', '<0.1', '75.1', '84.7', '0.2', '64.5', '–', '3.6', '55.9', '0.4', '41.9', '68.0', '10.4', '116.4', '17.3', '73.6', '27.5', '–', '2.4', '0.2', '20.7', '65.6', '59.8', '56.2', '38.5', '71.8', '29.6', '0.2', '11.9', '60.6', '55.8', '58.9', '59.2', '27.8', '–']\n",
      "['29,152,868', '3,171,286', '7,178,901', '1,052,903', '701,422', '1,317,163', '1,134,065', '1,916,012', '381,129', '194,817', '536,693', '229,555', '63,126', '', '', '', '', '', '214,966', '211,345', '670,870', '72,816', '533,067', '105,929', '', '', '', '', '', '', '', '', '', '', '', '', '', '222,650', '640,484', '369,770', '1,368,407', '300,427', '101,318', '504,273', '237,441', '169,329', '621,033', '25,851', '109,701', '285,221', '167,003', '246,687', '213,009', '20,051', '16,381', '270,811', '59,157', '155,946', '157,673', '116,932', '22,185', '23,657', '303,446', '29,290', '202,336', '292,376', '246,316', '56,369', '30,188', '186,712', '22,088', '22,374', '8,874', '5,617', '9,919', '28,480', '', '20,423', '23,733', '163,440', '4,355', '28,497', '53,286', '17,426', '20,879', '110,874', '36,864', '32,549', '9,025', '16,091', '73,439', '33,238', '59,719', '15,790', '20,806', '16,408', '12', '31,282', '46,577', '38,574', '38,813', '6,412', '4,415', '16,573', '9,935', '9,906', '70,941', '54,654', '54,234', '30,756', '50,195', '6,307', '26,145', '21,363', '44,858', '765,279', '28,922', '3,999', '5,780', '12,990', '6,460', '90,201', '33,239', '2,395', '12,798', '8,220', '41,480', '3,330', '21,549', '1,155', '4,283', '11,651', '5,856', '10,359', '3,561', '3,361', '15,384', '1,090', '7,915', '3,185', '7,334', '3,453', '23,544', '9,017', '2,813', '824', '2,155', '592', '4,756', '759', '6,903', '3,941', '4,123', '9,294', '2,729', '1,103', '2,082', '23,498', '9,868', '995', '2,132', '5,261', '5,145', '3,741', '5,965', '4,761', '1,460', '2,208', '5,687', '2,838', '249', '6,246', '1,525', '244', '2,922', '9,467', '8,839', '888', '1,684', '805', '1,696', '357', '212', '276', '210', '1,099', '2,517', '150', '80', '981', '154', '2,785', '432', '30', '685', '996', '300', '45', '2,902', '113', '3,807', '1,048', '60', '2,420', '30', '495', '104', '274', '266', '174', '663', '579', '77', '120', '22', '31', '9', '82', '–', '113', '2', '4', '8', '202', '2', '–']\n"
     ]
    }
   ],
   "source": [
    "all_data = []\n",
    "\n",
    "for i in range(1,7,1):\n",
    "    data_col = []\n",
    "    xpath = '//*[@id=\"dvz-table-global-vaccination\"]/div[2]/div[1]/table/tbody/tr/td[%s]' % str(i) \n",
    "    sel_data = driver.find_elements_by_xpath(xpath)\n",
    "    \n",
    "    for dat in sel_data:\n",
    "        data_col.append(dat.text)\n",
    "        \n",
    "    print(data_col)\n",
    "    all_data.append(data_col)"
   ]
  },
  {
   "cell_type": "markdown",
   "id": "2f638894",
   "metadata": {},
   "source": [
    "### 데이터 확인\n",
    "* Countries and regions : 나라 및 지역 / country 컬럼\n",
    "* Doses administered : 접종 수 / Doses_administered 컬럼\n",
    "* Enough for % of people : 접종률 / percent_of_people 컬럼\n",
    "* given 1+ dose : 1차 접종 / 1_percent 컬럼\n",
    "* fully vaccinated : 2차 접종 / 2_percent 컬럼\n",
    "* Daily_rate_of_doses_administered : 일일 투여 용량 / Daily_rate_of_doses 컬럼"
   ]
  },
  {
   "cell_type": "markdown",
   "id": "af09f223",
   "metadata": {},
   "source": [
    "### 데이터 프레임 생성"
   ]
  },
  {
   "cell_type": "code",
   "execution_count": 17,
   "id": "877e1854",
   "metadata": {},
   "outputs": [],
   "source": [
    "import pandas as pd"
   ]
  },
  {
   "cell_type": "code",
   "execution_count": 137,
   "id": "1c4784e9",
   "metadata": {},
   "outputs": [
    {
     "data": {
      "text/html": [
       "<div>\n",
       "<style scoped>\n",
       "    .dataframe tbody tr th:only-of-type {\n",
       "        vertical-align: middle;\n",
       "    }\n",
       "\n",
       "    .dataframe tbody tr th {\n",
       "        vertical-align: top;\n",
       "    }\n",
       "\n",
       "    .dataframe thead th {\n",
       "        text-align: right;\n",
       "    }\n",
       "</style>\n",
       "<table border=\"1\" class=\"dataframe\">\n",
       "  <thead>\n",
       "    <tr style=\"text-align: right;\">\n",
       "      <th></th>\n",
       "      <th>국가</th>\n",
       "      <th>백신접종수</th>\n",
       "      <th>Enough_percent_people</th>\n",
       "      <th>1차접종</th>\n",
       "      <th>2차접종</th>\n",
       "      <th>일별접종수</th>\n",
       "    </tr>\n",
       "  </thead>\n",
       "  <tbody>\n",
       "    <tr>\n",
       "      <th>0</th>\n",
       "      <td>Global Total</td>\n",
       "      <td>6,199,443,468</td>\n",
       "      <td>–</td>\n",
       "      <td>–</td>\n",
       "      <td>–</td>\n",
       "      <td>29,152,868</td>\n",
       "    </tr>\n",
       "    <tr>\n",
       "      <th>1</th>\n",
       "      <td>Mainland China</td>\n",
       "      <td>2,203,185,000</td>\n",
       "      <td>78.7</td>\n",
       "      <td>78.6</td>\n",
       "      <td>73.0</td>\n",
       "      <td>3,171,286</td>\n",
       "    </tr>\n",
       "    <tr>\n",
       "      <th>2</th>\n",
       "      <td>India</td>\n",
       "      <td>876,538,633</td>\n",
       "      <td>32.0</td>\n",
       "      <td>46.7</td>\n",
       "      <td>16.8</td>\n",
       "      <td>7,178,901</td>\n",
       "    </tr>\n",
       "    <tr>\n",
       "      <th>3</th>\n",
       "      <td>EU</td>\n",
       "      <td>564,029,956</td>\n",
       "      <td>63.5</td>\n",
       "      <td>67.3</td>\n",
       "      <td>64.7</td>\n",
       "      <td>1,052,903</td>\n",
       "    </tr>\n",
       "    <tr>\n",
       "      <th>4</th>\n",
       "      <td>U.S.</td>\n",
       "      <td>391,152,574</td>\n",
       "      <td>61.1</td>\n",
       "      <td>64.4</td>\n",
       "      <td>55.8</td>\n",
       "      <td>701,422</td>\n",
       "    </tr>\n",
       "    <tr>\n",
       "      <th>...</th>\n",
       "      <td>...</td>\n",
       "      <td>...</td>\n",
       "      <td>...</td>\n",
       "      <td>...</td>\n",
       "      <td>...</td>\n",
       "      <td>...</td>\n",
       "    </tr>\n",
       "    <tr>\n",
       "      <th>221</th>\n",
       "      <td>Nauru</td>\n",
       "      <td>14,863</td>\n",
       "      <td>57.2</td>\n",
       "      <td>58.6</td>\n",
       "      <td>55.8</td>\n",
       "      <td>4</td>\n",
       "    </tr>\n",
       "    <tr>\n",
       "      <th>222</th>\n",
       "      <td>St. Helena</td>\n",
       "      <td>7,892</td>\n",
       "      <td>65.8</td>\n",
       "      <td>72.7</td>\n",
       "      <td>58.9</td>\n",
       "      <td>8</td>\n",
       "    </tr>\n",
       "    <tr>\n",
       "      <th>223</th>\n",
       "      <td>Falkland Islands</td>\n",
       "      <td>4,407</td>\n",
       "      <td>73.5</td>\n",
       "      <td>87.7</td>\n",
       "      <td>59.2</td>\n",
       "      <td>202</td>\n",
       "    </tr>\n",
       "    <tr>\n",
       "      <th>224</th>\n",
       "      <td>Montserrat</td>\n",
       "      <td>2,871</td>\n",
       "      <td>28.7</td>\n",
       "      <td>29.7</td>\n",
       "      <td>27.8</td>\n",
       "      <td>2</td>\n",
       "    </tr>\n",
       "    <tr>\n",
       "      <th>225</th>\n",
       "      <td>Eritrea</td>\n",
       "      <td>–</td>\n",
       "      <td>–</td>\n",
       "      <td>–</td>\n",
       "      <td>–</td>\n",
       "      <td>–</td>\n",
       "    </tr>\n",
       "  </tbody>\n",
       "</table>\n",
       "<p>226 rows × 6 columns</p>\n",
       "</div>"
      ],
      "text/plain": [
       "                   국가          백신접종수 Enough_percent_people  1차접종  2차접종  \\\n",
       "0        Global Total  6,199,443,468                     –     –     –   \n",
       "1      Mainland China  2,203,185,000                  78.7  78.6  73.0   \n",
       "2               India    876,538,633                  32.0  46.7  16.8   \n",
       "3                  EU    564,029,956                  63.5  67.3  64.7   \n",
       "4                U.S.    391,152,574                  61.1  64.4  55.8   \n",
       "..                ...            ...                   ...   ...   ...   \n",
       "221             Nauru         14,863                  57.2  58.6  55.8   \n",
       "222        St. Helena          7,892                  65.8  72.7  58.9   \n",
       "223  Falkland Islands          4,407                  73.5  87.7  59.2   \n",
       "224        Montserrat          2,871                  28.7  29.7  27.8   \n",
       "225           Eritrea              –                     –     –     –   \n",
       "\n",
       "          일별접종수  \n",
       "0    29,152,868  \n",
       "1     3,171,286  \n",
       "2     7,178,901  \n",
       "3     1,052,903  \n",
       "4       701,422  \n",
       "..          ...  \n",
       "221           4  \n",
       "222           8  \n",
       "223         202  \n",
       "224           2  \n",
       "225           –  \n",
       "\n",
       "[226 rows x 6 columns]"
      ]
     },
     "execution_count": 137,
     "metadata": {},
     "output_type": "execute_result"
    }
   ],
   "source": [
    "pd.set_option(\"display.max_rows\", 40)\n",
    "\n",
    "dat_dict = {'국가':all_data[0],\n",
    "            '백신접종수':all_data[1],\n",
    "            'Enough_percent_people':all_data[2],\n",
    "            '1차접종':all_data[3],\n",
    "            '2차접종':all_data[4],\n",
    "            '일별접종수':all_data[5]\n",
    "           }\n",
    "\n",
    "co_df = pd.DataFrame(dat_dict)\n",
    "co_df"
   ]
  },
  {
   "cell_type": "code",
   "execution_count": 138,
   "id": "34988ca0",
   "metadata": {},
   "outputs": [
    {
     "name": "stdout",
     "output_type": "stream",
     "text": [
      "<class 'pandas.core.frame.DataFrame'>\n",
      "RangeIndex: 226 entries, 0 to 225\n",
      "Data columns (total 6 columns):\n",
      " #   Column                 Non-Null Count  Dtype \n",
      "---  ------                 --------------  ----- \n",
      " 0   국가                     226 non-null    object\n",
      " 1   백신접종수                  226 non-null    object\n",
      " 2   Enough_percent_people  226 non-null    object\n",
      " 3   1차접종                   226 non-null    object\n",
      " 4   2차접종                   226 non-null    object\n",
      " 5   일별접종수                  226 non-null    object\n",
      "dtypes: object(6)\n",
      "memory usage: 10.7+ KB\n"
     ]
    }
   ],
   "source": [
    "co_df.info()"
   ]
  },
  {
   "cell_type": "markdown",
   "id": "53765acf",
   "metadata": {},
   "source": [
    "### 데이터 전처리\n",
    "* 데이터가 없거나 제대로 얻어지지 못한 부분 제거\n",
    "* 추가 컬럼 생성\n",
    "* [ ].str.len() : 데이터의 길이"
   ]
  },
  {
   "cell_type": "code",
   "execution_count": 139,
   "id": "b39f962f",
   "metadata": {},
   "outputs": [
    {
     "data": {
      "text/plain": [
       "0      12\n",
       "1      14\n",
       "2       5\n",
       "3       2\n",
       "4       4\n",
       "       ..\n",
       "221     5\n",
       "222    10\n",
       "223    16\n",
       "224    10\n",
       "225     7\n",
       "Name: 국가, Length: 226, dtype: int64"
      ]
     },
     "execution_count": 139,
     "metadata": {},
     "output_type": "execute_result"
    }
   ],
   "source": [
    "co_df[\"국가\"].str.len()"
   ]
  },
  {
   "cell_type": "code",
   "execution_count": 140,
   "id": "642deb36",
   "metadata": {},
   "outputs": [
    {
     "data": {
      "text/plain": [
       "array([12, 14,  5,  2,  4,  6,  9,  7,  0,  8, 11, 10,  3, 18, 15, 22, 19,\n",
       "       17, 21, 24, 16, 13, 30])"
      ]
     },
     "execution_count": 140,
     "metadata": {},
     "output_type": "execute_result"
    }
   ],
   "source": [
    "co_df[\"국가\"].str.len().unique()"
   ]
  },
  {
   "cell_type": "markdown",
   "id": "ac24b745",
   "metadata": {},
   "source": [
    "### 한 나라의 중복 행 존재로 이 부분은 정보 취득 못함\n",
    "* 공백행 제거"
   ]
  },
  {
   "cell_type": "code",
   "execution_count": 141,
   "id": "c53c0dc1",
   "metadata": {},
   "outputs": [
    {
     "name": "stdout",
     "output_type": "stream",
     "text": [
      "(226, 6)\n",
      "(207, 6)\n"
     ]
    }
   ],
   "source": [
    "print(co_df.shape)\n",
    "co_df = co_df.loc[co_df['국가'].str.len() > 1, :]\n",
    "print(co_df.shape)"
   ]
  },
  {
   "cell_type": "code",
   "execution_count": 142,
   "id": "a1df0ce8",
   "metadata": {},
   "outputs": [],
   "source": [
    "# 데이터가 없는 인덱스를 얻어서 해당 행을 삭제한다.\n",
    "\n",
    "# sel_index = co_df[co_df['국가'].str.len() < 1].index\n",
    "# print(sel_index)\n",
    "# print(co_df.shape)\n",
    "# co_df.drop (sel_index, axis = 0, inplace = True )\n",
    "# print(co_df.shape)"
   ]
  },
  {
   "cell_type": "code",
   "execution_count": 143,
   "id": "4fc59804",
   "metadata": {},
   "outputs": [
    {
     "data": {
      "text/html": [
       "<div>\n",
       "<style scoped>\n",
       "    .dataframe tbody tr th:only-of-type {\n",
       "        vertical-align: middle;\n",
       "    }\n",
       "\n",
       "    .dataframe tbody tr th {\n",
       "        vertical-align: top;\n",
       "    }\n",
       "\n",
       "    .dataframe thead th {\n",
       "        text-align: right;\n",
       "    }\n",
       "</style>\n",
       "<table border=\"1\" class=\"dataframe\">\n",
       "  <thead>\n",
       "    <tr style=\"text-align: right;\">\n",
       "      <th></th>\n",
       "      <th>국가</th>\n",
       "      <th>백신접종수</th>\n",
       "      <th>Enough_percent_people</th>\n",
       "      <th>1차접종</th>\n",
       "      <th>2차접종</th>\n",
       "      <th>일별접종수</th>\n",
       "    </tr>\n",
       "  </thead>\n",
       "  <tbody>\n",
       "    <tr>\n",
       "      <th>0</th>\n",
       "      <td>Global Total</td>\n",
       "      <td>6,199,443,468</td>\n",
       "      <td>–</td>\n",
       "      <td>–</td>\n",
       "      <td>–</td>\n",
       "      <td>29,152,868</td>\n",
       "    </tr>\n",
       "    <tr>\n",
       "      <th>1</th>\n",
       "      <td>Mainland China</td>\n",
       "      <td>2,203,185,000</td>\n",
       "      <td>78.7</td>\n",
       "      <td>78.6</td>\n",
       "      <td>73.0</td>\n",
       "      <td>3,171,286</td>\n",
       "    </tr>\n",
       "    <tr>\n",
       "      <th>2</th>\n",
       "      <td>India</td>\n",
       "      <td>876,538,633</td>\n",
       "      <td>32.0</td>\n",
       "      <td>46.7</td>\n",
       "      <td>16.8</td>\n",
       "      <td>7,178,901</td>\n",
       "    </tr>\n",
       "  </tbody>\n",
       "</table>\n",
       "</div>"
      ],
      "text/plain": [
       "               국가          백신접종수 Enough_percent_people  1차접종  2차접종       일별접종수\n",
       "0    Global Total  6,199,443,468                     –     –     –  29,152,868\n",
       "1  Mainland China  2,203,185,000                  78.7  78.6  73.0   3,171,286\n",
       "2           India    876,538,633                  32.0  46.7  16.8   7,178,901"
      ]
     },
     "execution_count": 143,
     "metadata": {},
     "output_type": "execute_result"
    }
   ],
   "source": [
    "co_df.head(3)"
   ]
  },
  {
   "cell_type": "markdown",
   "id": "41d633b7",
   "metadata": {},
   "source": [
    "### 인덱스가 일정하지 않아, 인덱스 값 초기화\n",
    "* df.reset_index()"
   ]
  },
  {
   "cell_type": "code",
   "execution_count": 144,
   "id": "465bc8d8",
   "metadata": {},
   "outputs": [
    {
     "name": "stdout",
     "output_type": "stream",
     "text": [
      "co_df shape : (207, 7)\n"
     ]
    },
    {
     "data": {
      "text/html": [
       "<div>\n",
       "<style scoped>\n",
       "    .dataframe tbody tr th:only-of-type {\n",
       "        vertical-align: middle;\n",
       "    }\n",
       "\n",
       "    .dataframe tbody tr th {\n",
       "        vertical-align: top;\n",
       "    }\n",
       "\n",
       "    .dataframe thead th {\n",
       "        text-align: right;\n",
       "    }\n",
       "</style>\n",
       "<table border=\"1\" class=\"dataframe\">\n",
       "  <thead>\n",
       "    <tr style=\"text-align: right;\">\n",
       "      <th></th>\n",
       "      <th>index</th>\n",
       "      <th>국가</th>\n",
       "      <th>백신접종수</th>\n",
       "      <th>Enough_percent_people</th>\n",
       "      <th>1차접종</th>\n",
       "      <th>2차접종</th>\n",
       "      <th>일별접종수</th>\n",
       "    </tr>\n",
       "  </thead>\n",
       "  <tbody>\n",
       "    <tr>\n",
       "      <th>202</th>\n",
       "      <td>221</td>\n",
       "      <td>Nauru</td>\n",
       "      <td>14,863</td>\n",
       "      <td>57.2</td>\n",
       "      <td>58.6</td>\n",
       "      <td>55.8</td>\n",
       "      <td>4</td>\n",
       "    </tr>\n",
       "    <tr>\n",
       "      <th>203</th>\n",
       "      <td>222</td>\n",
       "      <td>St. Helena</td>\n",
       "      <td>7,892</td>\n",
       "      <td>65.8</td>\n",
       "      <td>72.7</td>\n",
       "      <td>58.9</td>\n",
       "      <td>8</td>\n",
       "    </tr>\n",
       "    <tr>\n",
       "      <th>204</th>\n",
       "      <td>223</td>\n",
       "      <td>Falkland Islands</td>\n",
       "      <td>4,407</td>\n",
       "      <td>73.5</td>\n",
       "      <td>87.7</td>\n",
       "      <td>59.2</td>\n",
       "      <td>202</td>\n",
       "    </tr>\n",
       "    <tr>\n",
       "      <th>205</th>\n",
       "      <td>224</td>\n",
       "      <td>Montserrat</td>\n",
       "      <td>2,871</td>\n",
       "      <td>28.7</td>\n",
       "      <td>29.7</td>\n",
       "      <td>27.8</td>\n",
       "      <td>2</td>\n",
       "    </tr>\n",
       "    <tr>\n",
       "      <th>206</th>\n",
       "      <td>225</td>\n",
       "      <td>Eritrea</td>\n",
       "      <td>–</td>\n",
       "      <td>–</td>\n",
       "      <td>–</td>\n",
       "      <td>–</td>\n",
       "      <td>–</td>\n",
       "    </tr>\n",
       "  </tbody>\n",
       "</table>\n",
       "</div>"
      ],
      "text/plain": [
       "     index                국가   백신접종수 Enough_percent_people  1차접종  2차접종 일별접종수\n",
       "202    221             Nauru  14,863                  57.2  58.6  55.8     4\n",
       "203    222        St. Helena   7,892                  65.8  72.7  58.9     8\n",
       "204    223  Falkland Islands   4,407                  73.5  87.7  59.2   202\n",
       "205    224        Montserrat   2,871                  28.7  29.7  27.8     2\n",
       "206    225           Eritrea       –                     –     –     –     –"
      ]
     },
     "execution_count": 144,
     "metadata": {},
     "output_type": "execute_result"
    }
   ],
   "source": [
    "co_df = co_df.reset_index()\n",
    "print(\"co_df shape :\", co_df.shape)\n",
    "co_df.tail()"
   ]
  },
  {
   "cell_type": "markdown",
   "id": "ba06edc1",
   "metadata": {},
   "source": [
    "### 이상치 '-' 값 확인"
   ]
  },
  {
   "cell_type": "code",
   "execution_count": 145,
   "id": "d4d900d5",
   "metadata": {},
   "outputs": [
    {
     "data": {
      "text/html": [
       "<div>\n",
       "<style scoped>\n",
       "    .dataframe tbody tr th:only-of-type {\n",
       "        vertical-align: middle;\n",
       "    }\n",
       "\n",
       "    .dataframe tbody tr th {\n",
       "        vertical-align: top;\n",
       "    }\n",
       "\n",
       "    .dataframe thead th {\n",
       "        text-align: right;\n",
       "    }\n",
       "</style>\n",
       "<table border=\"1\" class=\"dataframe\">\n",
       "  <thead>\n",
       "    <tr style=\"text-align: right;\">\n",
       "      <th></th>\n",
       "      <th>index</th>\n",
       "      <th>국가</th>\n",
       "      <th>백신접종수</th>\n",
       "      <th>Enough_percent_people</th>\n",
       "      <th>1차접종</th>\n",
       "      <th>2차접종</th>\n",
       "      <th>일별접종수</th>\n",
       "    </tr>\n",
       "  </thead>\n",
       "  <tbody>\n",
       "    <tr>\n",
       "      <th>206</th>\n",
       "      <td>225</td>\n",
       "      <td>Eritrea</td>\n",
       "      <td>–</td>\n",
       "      <td>–</td>\n",
       "      <td>–</td>\n",
       "      <td>–</td>\n",
       "      <td>–</td>\n",
       "    </tr>\n",
       "  </tbody>\n",
       "</table>\n",
       "</div>"
      ],
      "text/plain": [
       "     index       국가 백신접종수 Enough_percent_people 1차접종 2차접종 일별접종수\n",
       "206    225  Eritrea     –                     –    –    –     –"
      ]
     },
     "execution_count": 145,
     "metadata": {},
     "output_type": "execute_result"
    }
   ],
   "source": [
    "co_df.loc[co_df[\"백신접종수\"] == \"–\"]"
   ]
  },
  {
   "cell_type": "code",
   "execution_count": 146,
   "id": "b69feba7",
   "metadata": {},
   "outputs": [
    {
     "ename": "KeyError",
     "evalue": "'Enough_percent_people:'",
     "output_type": "error",
     "traceback": [
      "\u001b[0;31m---------------------------------------------------------------------------\u001b[0m",
      "\u001b[0;31mKeyError\u001b[0m                                  Traceback (most recent call last)",
      "\u001b[0;32m~/opt/anaconda3/envs/likelion/lib/python3.8/site-packages/pandas/core/indexes/base.py\u001b[0m in \u001b[0;36mget_loc\u001b[0;34m(self, key, method, tolerance)\u001b[0m\n\u001b[1;32m   3360\u001b[0m             \u001b[0;32mtry\u001b[0m\u001b[0;34m:\u001b[0m\u001b[0;34m\u001b[0m\u001b[0;34m\u001b[0m\u001b[0m\n\u001b[0;32m-> 3361\u001b[0;31m                 \u001b[0;32mreturn\u001b[0m \u001b[0mself\u001b[0m\u001b[0;34m.\u001b[0m\u001b[0m_engine\u001b[0m\u001b[0;34m.\u001b[0m\u001b[0mget_loc\u001b[0m\u001b[0;34m(\u001b[0m\u001b[0mcasted_key\u001b[0m\u001b[0;34m)\u001b[0m\u001b[0;34m\u001b[0m\u001b[0;34m\u001b[0m\u001b[0m\n\u001b[0m\u001b[1;32m   3362\u001b[0m             \u001b[0;32mexcept\u001b[0m \u001b[0mKeyError\u001b[0m \u001b[0;32mas\u001b[0m \u001b[0merr\u001b[0m\u001b[0;34m:\u001b[0m\u001b[0;34m\u001b[0m\u001b[0;34m\u001b[0m\u001b[0m\n",
      "\u001b[0;32m~/opt/anaconda3/envs/likelion/lib/python3.8/site-packages/pandas/_libs/index.pyx\u001b[0m in \u001b[0;36mpandas._libs.index.IndexEngine.get_loc\u001b[0;34m()\u001b[0m\n",
      "\u001b[0;32m~/opt/anaconda3/envs/likelion/lib/python3.8/site-packages/pandas/_libs/index.pyx\u001b[0m in \u001b[0;36mpandas._libs.index.IndexEngine.get_loc\u001b[0;34m()\u001b[0m\n",
      "\u001b[0;32mpandas/_libs/hashtable_class_helper.pxi\u001b[0m in \u001b[0;36mpandas._libs.hashtable.PyObjectHashTable.get_item\u001b[0;34m()\u001b[0m\n",
      "\u001b[0;32mpandas/_libs/hashtable_class_helper.pxi\u001b[0m in \u001b[0;36mpandas._libs.hashtable.PyObjectHashTable.get_item\u001b[0;34m()\u001b[0m\n",
      "\u001b[0;31mKeyError\u001b[0m: 'Enough_percent_people:'",
      "\nThe above exception was the direct cause of the following exception:\n",
      "\u001b[0;31mKeyError\u001b[0m                                  Traceback (most recent call last)",
      "\u001b[0;32m/var/folders/t9/yt46lj5s0lv1slvgpm05mrs00000gn/T/ipykernel_81563/212828581.py\u001b[0m in \u001b[0;36m<module>\u001b[0;34m\u001b[0m\n\u001b[0;32m----> 1\u001b[0;31m \u001b[0mco_df\u001b[0m\u001b[0;34m.\u001b[0m\u001b[0mloc\u001b[0m\u001b[0;34m[\u001b[0m\u001b[0mco_df\u001b[0m\u001b[0;34m[\u001b[0m\u001b[0;34m\"Enough_percent_people:\"\u001b[0m\u001b[0;34m]\u001b[0m \u001b[0;34m==\u001b[0m \u001b[0;34m\"–\"\u001b[0m\u001b[0;34m]\u001b[0m\u001b[0;34m\u001b[0m\u001b[0;34m\u001b[0m\u001b[0m\n\u001b[0m",
      "\u001b[0;32m~/opt/anaconda3/envs/likelion/lib/python3.8/site-packages/pandas/core/frame.py\u001b[0m in \u001b[0;36m__getitem__\u001b[0;34m(self, key)\u001b[0m\n\u001b[1;32m   3453\u001b[0m             \u001b[0;32mif\u001b[0m \u001b[0mself\u001b[0m\u001b[0;34m.\u001b[0m\u001b[0mcolumns\u001b[0m\u001b[0;34m.\u001b[0m\u001b[0mnlevels\u001b[0m \u001b[0;34m>\u001b[0m \u001b[0;36m1\u001b[0m\u001b[0;34m:\u001b[0m\u001b[0;34m\u001b[0m\u001b[0;34m\u001b[0m\u001b[0m\n\u001b[1;32m   3454\u001b[0m                 \u001b[0;32mreturn\u001b[0m \u001b[0mself\u001b[0m\u001b[0;34m.\u001b[0m\u001b[0m_getitem_multilevel\u001b[0m\u001b[0;34m(\u001b[0m\u001b[0mkey\u001b[0m\u001b[0;34m)\u001b[0m\u001b[0;34m\u001b[0m\u001b[0;34m\u001b[0m\u001b[0m\n\u001b[0;32m-> 3455\u001b[0;31m             \u001b[0mindexer\u001b[0m \u001b[0;34m=\u001b[0m \u001b[0mself\u001b[0m\u001b[0;34m.\u001b[0m\u001b[0mcolumns\u001b[0m\u001b[0;34m.\u001b[0m\u001b[0mget_loc\u001b[0m\u001b[0;34m(\u001b[0m\u001b[0mkey\u001b[0m\u001b[0;34m)\u001b[0m\u001b[0;34m\u001b[0m\u001b[0;34m\u001b[0m\u001b[0m\n\u001b[0m\u001b[1;32m   3456\u001b[0m             \u001b[0;32mif\u001b[0m \u001b[0mis_integer\u001b[0m\u001b[0;34m(\u001b[0m\u001b[0mindexer\u001b[0m\u001b[0;34m)\u001b[0m\u001b[0;34m:\u001b[0m\u001b[0;34m\u001b[0m\u001b[0;34m\u001b[0m\u001b[0m\n\u001b[1;32m   3457\u001b[0m                 \u001b[0mindexer\u001b[0m \u001b[0;34m=\u001b[0m \u001b[0;34m[\u001b[0m\u001b[0mindexer\u001b[0m\u001b[0;34m]\u001b[0m\u001b[0;34m\u001b[0m\u001b[0;34m\u001b[0m\u001b[0m\n",
      "\u001b[0;32m~/opt/anaconda3/envs/likelion/lib/python3.8/site-packages/pandas/core/indexes/base.py\u001b[0m in \u001b[0;36mget_loc\u001b[0;34m(self, key, method, tolerance)\u001b[0m\n\u001b[1;32m   3361\u001b[0m                 \u001b[0;32mreturn\u001b[0m \u001b[0mself\u001b[0m\u001b[0;34m.\u001b[0m\u001b[0m_engine\u001b[0m\u001b[0;34m.\u001b[0m\u001b[0mget_loc\u001b[0m\u001b[0;34m(\u001b[0m\u001b[0mcasted_key\u001b[0m\u001b[0;34m)\u001b[0m\u001b[0;34m\u001b[0m\u001b[0;34m\u001b[0m\u001b[0m\n\u001b[1;32m   3362\u001b[0m             \u001b[0;32mexcept\u001b[0m \u001b[0mKeyError\u001b[0m \u001b[0;32mas\u001b[0m \u001b[0merr\u001b[0m\u001b[0;34m:\u001b[0m\u001b[0;34m\u001b[0m\u001b[0;34m\u001b[0m\u001b[0m\n\u001b[0;32m-> 3363\u001b[0;31m                 \u001b[0;32mraise\u001b[0m \u001b[0mKeyError\u001b[0m\u001b[0;34m(\u001b[0m\u001b[0mkey\u001b[0m\u001b[0;34m)\u001b[0m \u001b[0;32mfrom\u001b[0m \u001b[0merr\u001b[0m\u001b[0;34m\u001b[0m\u001b[0;34m\u001b[0m\u001b[0m\n\u001b[0m\u001b[1;32m   3364\u001b[0m \u001b[0;34m\u001b[0m\u001b[0m\n\u001b[1;32m   3365\u001b[0m         \u001b[0;32mif\u001b[0m \u001b[0mis_scalar\u001b[0m\u001b[0;34m(\u001b[0m\u001b[0mkey\u001b[0m\u001b[0;34m)\u001b[0m \u001b[0;32mand\u001b[0m \u001b[0misna\u001b[0m\u001b[0;34m(\u001b[0m\u001b[0mkey\u001b[0m\u001b[0;34m)\u001b[0m \u001b[0;32mand\u001b[0m \u001b[0;32mnot\u001b[0m \u001b[0mself\u001b[0m\u001b[0;34m.\u001b[0m\u001b[0mhasnans\u001b[0m\u001b[0;34m:\u001b[0m\u001b[0;34m\u001b[0m\u001b[0;34m\u001b[0m\u001b[0m\n",
      "\u001b[0;31mKeyError\u001b[0m: 'Enough_percent_people:'"
     ]
    }
   ],
   "source": [
    "co_df.loc[co_df[\"Enough_percent_people:\"] == \"–\"]"
   ]
  },
  {
   "cell_type": "code",
   "execution_count": 147,
   "id": "8fba218b",
   "metadata": {},
   "outputs": [
    {
     "data": {
      "text/html": [
       "<div>\n",
       "<style scoped>\n",
       "    .dataframe tbody tr th:only-of-type {\n",
       "        vertical-align: middle;\n",
       "    }\n",
       "\n",
       "    .dataframe tbody tr th {\n",
       "        vertical-align: top;\n",
       "    }\n",
       "\n",
       "    .dataframe thead th {\n",
       "        text-align: right;\n",
       "    }\n",
       "</style>\n",
       "<table border=\"1\" class=\"dataframe\">\n",
       "  <thead>\n",
       "    <tr style=\"text-align: right;\">\n",
       "      <th></th>\n",
       "      <th>index</th>\n",
       "      <th>국가</th>\n",
       "      <th>백신접종수</th>\n",
       "      <th>Enough_percent_people</th>\n",
       "      <th>1차접종</th>\n",
       "      <th>2차접종</th>\n",
       "      <th>일별접종수</th>\n",
       "    </tr>\n",
       "  </thead>\n",
       "  <tbody>\n",
       "    <tr>\n",
       "      <th>0</th>\n",
       "      <td>0</td>\n",
       "      <td>Global Total</td>\n",
       "      <td>6,199,443,468</td>\n",
       "      <td>–</td>\n",
       "      <td>–</td>\n",
       "      <td>–</td>\n",
       "      <td>29,152,868</td>\n",
       "    </tr>\n",
       "    <tr>\n",
       "      <th>138</th>\n",
       "      <td>157</td>\n",
       "      <td>Syria</td>\n",
       "      <td>533,949</td>\n",
       "      <td>–</td>\n",
       "      <td>–</td>\n",
       "      <td>–</td>\n",
       "      <td>23,498</td>\n",
       "    </tr>\n",
       "    <tr>\n",
       "      <th>149</th>\n",
       "      <td>168</td>\n",
       "      <td>Tanzania</td>\n",
       "      <td>389,807</td>\n",
       "      <td>0.3</td>\n",
       "      <td>–</td>\n",
       "      <td>–</td>\n",
       "      <td>5,687</td>\n",
       "    </tr>\n",
       "    <tr>\n",
       "      <th>169</th>\n",
       "      <td>188</td>\n",
       "      <td>Jersey</td>\n",
       "      <td>150,891</td>\n",
       "      <td>–</td>\n",
       "      <td>–</td>\n",
       "      <td>–</td>\n",
       "      <td>80</td>\n",
       "    </tr>\n",
       "    <tr>\n",
       "      <th>178</th>\n",
       "      <td>197</td>\n",
       "      <td>Guernsey</td>\n",
       "      <td>101,898</td>\n",
       "      <td>–</td>\n",
       "      <td>–</td>\n",
       "      <td>–</td>\n",
       "      <td>45</td>\n",
       "    </tr>\n",
       "    <tr>\n",
       "      <th>206</th>\n",
       "      <td>225</td>\n",
       "      <td>Eritrea</td>\n",
       "      <td>–</td>\n",
       "      <td>–</td>\n",
       "      <td>–</td>\n",
       "      <td>–</td>\n",
       "      <td>–</td>\n",
       "    </tr>\n",
       "  </tbody>\n",
       "</table>\n",
       "</div>"
      ],
      "text/plain": [
       "     index            국가          백신접종수 Enough_percent_people 1차접종 2차접종  \\\n",
       "0        0  Global Total  6,199,443,468                     –    –    –   \n",
       "138    157         Syria        533,949                     –    –    –   \n",
       "149    168      Tanzania        389,807                   0.3    –    –   \n",
       "169    188        Jersey        150,891                     –    –    –   \n",
       "178    197      Guernsey        101,898                     –    –    –   \n",
       "206    225       Eritrea              –                     –    –    –   \n",
       "\n",
       "          일별접종수  \n",
       "0    29,152,868  \n",
       "138      23,498  \n",
       "149       5,687  \n",
       "169          80  \n",
       "178          45  \n",
       "206           –  "
      ]
     },
     "execution_count": 147,
     "metadata": {},
     "output_type": "execute_result"
    }
   ],
   "source": [
    "co_df.loc[co_df[\"1차접종\"] == \"–\"]"
   ]
  },
  {
   "cell_type": "code",
   "execution_count": 148,
   "id": "0f682844",
   "metadata": {},
   "outputs": [
    {
     "data": {
      "text/html": [
       "<div>\n",
       "<style scoped>\n",
       "    .dataframe tbody tr th:only-of-type {\n",
       "        vertical-align: middle;\n",
       "    }\n",
       "\n",
       "    .dataframe tbody tr th {\n",
       "        vertical-align: top;\n",
       "    }\n",
       "\n",
       "    .dataframe thead th {\n",
       "        text-align: right;\n",
       "    }\n",
       "</style>\n",
       "<table border=\"1\" class=\"dataframe\">\n",
       "  <thead>\n",
       "    <tr style=\"text-align: right;\">\n",
       "      <th></th>\n",
       "      <th>index</th>\n",
       "      <th>국가</th>\n",
       "      <th>백신접종수</th>\n",
       "      <th>Enough_percent_people</th>\n",
       "      <th>1차접종</th>\n",
       "      <th>2차접종</th>\n",
       "      <th>일별접종수</th>\n",
       "    </tr>\n",
       "  </thead>\n",
       "  <tbody>\n",
       "    <tr>\n",
       "      <th>0</th>\n",
       "      <td>0</td>\n",
       "      <td>Global Total</td>\n",
       "      <td>6,199,443,468</td>\n",
       "      <td>–</td>\n",
       "      <td>–</td>\n",
       "      <td>–</td>\n",
       "      <td>29,152,868</td>\n",
       "    </tr>\n",
       "    <tr>\n",
       "      <th>138</th>\n",
       "      <td>157</td>\n",
       "      <td>Syria</td>\n",
       "      <td>533,949</td>\n",
       "      <td>–</td>\n",
       "      <td>–</td>\n",
       "      <td>–</td>\n",
       "      <td>23,498</td>\n",
       "    </tr>\n",
       "    <tr>\n",
       "      <th>149</th>\n",
       "      <td>168</td>\n",
       "      <td>Tanzania</td>\n",
       "      <td>389,807</td>\n",
       "      <td>0.3</td>\n",
       "      <td>–</td>\n",
       "      <td>–</td>\n",
       "      <td>5,687</td>\n",
       "    </tr>\n",
       "    <tr>\n",
       "      <th>169</th>\n",
       "      <td>188</td>\n",
       "      <td>Jersey</td>\n",
       "      <td>150,891</td>\n",
       "      <td>–</td>\n",
       "      <td>–</td>\n",
       "      <td>–</td>\n",
       "      <td>80</td>\n",
       "    </tr>\n",
       "    <tr>\n",
       "      <th>178</th>\n",
       "      <td>197</td>\n",
       "      <td>Guernsey</td>\n",
       "      <td>101,898</td>\n",
       "      <td>–</td>\n",
       "      <td>–</td>\n",
       "      <td>–</td>\n",
       "      <td>45</td>\n",
       "    </tr>\n",
       "    <tr>\n",
       "      <th>189</th>\n",
       "      <td>208</td>\n",
       "      <td>Micronesia</td>\n",
       "      <td>72,085</td>\n",
       "      <td>34.7</td>\n",
       "      <td>41.6</td>\n",
       "      <td>–</td>\n",
       "      <td>266</td>\n",
       "    </tr>\n",
       "    <tr>\n",
       "      <th>206</th>\n",
       "      <td>225</td>\n",
       "      <td>Eritrea</td>\n",
       "      <td>–</td>\n",
       "      <td>–</td>\n",
       "      <td>–</td>\n",
       "      <td>–</td>\n",
       "      <td>–</td>\n",
       "    </tr>\n",
       "  </tbody>\n",
       "</table>\n",
       "</div>"
      ],
      "text/plain": [
       "     index            국가          백신접종수 Enough_percent_people  1차접종 2차접종  \\\n",
       "0        0  Global Total  6,199,443,468                     –     –    –   \n",
       "138    157         Syria        533,949                     –     –    –   \n",
       "149    168      Tanzania        389,807                   0.3     –    –   \n",
       "169    188        Jersey        150,891                     –     –    –   \n",
       "178    197      Guernsey        101,898                     –     –    –   \n",
       "189    208    Micronesia         72,085                  34.7  41.6    –   \n",
       "206    225       Eritrea              –                     –     –    –   \n",
       "\n",
       "          일별접종수  \n",
       "0    29,152,868  \n",
       "138      23,498  \n",
       "149       5,687  \n",
       "169          80  \n",
       "178          45  \n",
       "189         266  \n",
       "206           –  "
      ]
     },
     "execution_count": 148,
     "metadata": {},
     "output_type": "execute_result"
    }
   ],
   "source": [
    "co_df.loc[co_df[\"2차접종\"] == \"–\"]"
   ]
  },
  {
   "cell_type": "code",
   "execution_count": 149,
   "id": "f55aefd9",
   "metadata": {},
   "outputs": [
    {
     "data": {
      "text/html": [
       "<div>\n",
       "<style scoped>\n",
       "    .dataframe tbody tr th:only-of-type {\n",
       "        vertical-align: middle;\n",
       "    }\n",
       "\n",
       "    .dataframe tbody tr th {\n",
       "        vertical-align: top;\n",
       "    }\n",
       "\n",
       "    .dataframe thead th {\n",
       "        text-align: right;\n",
       "    }\n",
       "</style>\n",
       "<table border=\"1\" class=\"dataframe\">\n",
       "  <thead>\n",
       "    <tr style=\"text-align: right;\">\n",
       "      <th></th>\n",
       "      <th>index</th>\n",
       "      <th>국가</th>\n",
       "      <th>백신접종수</th>\n",
       "      <th>Enough_percent_people</th>\n",
       "      <th>1차접종</th>\n",
       "      <th>2차접종</th>\n",
       "      <th>일별접종수</th>\n",
       "    </tr>\n",
       "  </thead>\n",
       "  <tbody>\n",
       "    <tr>\n",
       "      <th>199</th>\n",
       "      <td>218</td>\n",
       "      <td>Turkmenistan</td>\n",
       "      <td>41,993</td>\n",
       "      <td>0.4</td>\n",
       "      <td>0.6</td>\n",
       "      <td>0.2</td>\n",
       "      <td>–</td>\n",
       "    </tr>\n",
       "    <tr>\n",
       "      <th>206</th>\n",
       "      <td>225</td>\n",
       "      <td>Eritrea</td>\n",
       "      <td>–</td>\n",
       "      <td>–</td>\n",
       "      <td>–</td>\n",
       "      <td>–</td>\n",
       "      <td>–</td>\n",
       "    </tr>\n",
       "  </tbody>\n",
       "</table>\n",
       "</div>"
      ],
      "text/plain": [
       "     index            국가   백신접종수 Enough_percent_people 1차접종 2차접종 일별접종수\n",
       "199    218  Turkmenistan  41,993                   0.4  0.6  0.2     –\n",
       "206    225       Eritrea       –                     –    –    –     –"
      ]
     },
     "execution_count": 149,
     "metadata": {},
     "output_type": "execute_result"
    }
   ],
   "source": [
    "co_df.loc[co_df[\"일별접종수\"] == \"–\"]"
   ]
  },
  {
   "cell_type": "code",
   "execution_count": 150,
   "id": "e954fe6d",
   "metadata": {},
   "outputs": [
    {
     "data": {
      "text/plain": [
       "Index(['index', '국가', '백신접종수', 'Enough_percent_people', '1차접종', '2차접종',\n",
       "       '일별접종수'],\n",
       "      dtype='object')"
      ]
     },
     "execution_count": 150,
     "metadata": {},
     "output_type": "execute_result"
    }
   ],
   "source": [
    "co_df.columns"
   ]
  },
  {
   "cell_type": "markdown",
   "id": "5781e180",
   "metadata": {},
   "source": [
    "### 이상값(결측치 '-') 확인"
   ]
  },
  {
   "cell_type": "code",
   "execution_count": 151,
   "id": "624b1db1",
   "metadata": {},
   "outputs": [
    {
     "name": "stdout",
     "output_type": "stream",
     "text": [
      "col name :  index\n",
      "0\n",
      "col name :  국가\n",
      "0\n",
      "col name :  백신접종수\n",
      "1\n",
      "col name :  Enough_percent_people\n",
      "5\n",
      "col name :  1차접종\n",
      "6\n",
      "col name :  2차접종\n",
      "7\n",
      "col name :  일별접종수\n",
      "2\n"
     ]
    }
   ],
   "source": [
    "col_all = co_df.columns\n",
    "for one in col_all:\n",
    "    print(\"col name : \", one)\n",
    "    print(co_df.loc[co_df[one] == '–', one].count())"
   ]
  },
  {
   "cell_type": "markdown",
   "id": "5a43ac61",
   "metadata": {},
   "source": [
    "### 이상값(결측치 '-') 제거"
   ]
  },
  {
   "cell_type": "code",
   "execution_count": 152,
   "id": "f2c5ef17",
   "metadata": {},
   "outputs": [
    {
     "name": "stdout",
     "output_type": "stream",
     "text": [
      "col name :  index\n",
      "0\n",
      "col name :  국가\n",
      "0\n",
      "col name :  백신접종수\n",
      "1\n",
      "col name :  Enough_percent_people\n",
      "5\n",
      "col name :  1차접종\n",
      "6\n",
      "col name :  2차접종\n",
      "7\n",
      "col name :  일별접종수\n",
      "2\n"
     ]
    }
   ],
   "source": [
    "col_all = co_df.columns\n",
    "for one in col_all:\n",
    "    print(\"col name : \", one)\n",
    "    print(co_df.loc[co_df[one] == '–', one].count())\n",
    "    \n",
    "    co_df.loc[co_df[one] == '–', one] = \"-999\"\n",
    "    co_df.loc[co_df[one] == \"<0.1\", one] = \"0.05\""
   ]
  },
  {
   "cell_type": "markdown",
   "id": "a4dbc7b4",
   "metadata": {},
   "source": [
    "### 이상값(결측치 '-') 제거 확인"
   ]
  },
  {
   "cell_type": "code",
   "execution_count": 153,
   "id": "5e6b783e",
   "metadata": {},
   "outputs": [
    {
     "name": "stdout",
     "output_type": "stream",
     "text": [
      "col name :  index\n",
      "0\n",
      "col name :  국가\n",
      "0\n",
      "col name :  백신접종수\n",
      "0\n",
      "col name :  Enough_percent_people\n",
      "0\n",
      "col name :  1차접종\n",
      "0\n",
      "col name :  2차접종\n",
      "0\n",
      "col name :  일별접종수\n",
      "0\n"
     ]
    }
   ],
   "source": [
    "col_all = co_df.columns\n",
    "for one in col_all:\n",
    "    print(\"col name : \", one)\n",
    "    print(co_df.loc[co_df[one] == '–', one].count())"
   ]
  },
  {
   "cell_type": "code",
   "execution_count": 154,
   "id": "dfafaf10",
   "metadata": {},
   "outputs": [
    {
     "data": {
      "text/html": [
       "<div>\n",
       "<style scoped>\n",
       "    .dataframe tbody tr th:only-of-type {\n",
       "        vertical-align: middle;\n",
       "    }\n",
       "\n",
       "    .dataframe tbody tr th {\n",
       "        vertical-align: top;\n",
       "    }\n",
       "\n",
       "    .dataframe thead th {\n",
       "        text-align: right;\n",
       "    }\n",
       "</style>\n",
       "<table border=\"1\" class=\"dataframe\">\n",
       "  <thead>\n",
       "    <tr style=\"text-align: right;\">\n",
       "      <th></th>\n",
       "      <th>index</th>\n",
       "      <th>국가</th>\n",
       "      <th>백신접종수</th>\n",
       "      <th>Enough_percent_people</th>\n",
       "      <th>1차접종</th>\n",
       "      <th>2차접종</th>\n",
       "      <th>일별접종수</th>\n",
       "    </tr>\n",
       "  </thead>\n",
       "  <tbody>\n",
       "    <tr>\n",
       "      <th>0</th>\n",
       "      <td>0</td>\n",
       "      <td>Global Total</td>\n",
       "      <td>6,199,443,468</td>\n",
       "      <td>-999</td>\n",
       "      <td>-999</td>\n",
       "      <td>-999</td>\n",
       "      <td>29,152,868</td>\n",
       "    </tr>\n",
       "    <tr>\n",
       "      <th>1</th>\n",
       "      <td>1</td>\n",
       "      <td>Mainland China</td>\n",
       "      <td>2,203,185,000</td>\n",
       "      <td>78.7</td>\n",
       "      <td>78.6</td>\n",
       "      <td>73.0</td>\n",
       "      <td>3,171,286</td>\n",
       "    </tr>\n",
       "    <tr>\n",
       "      <th>2</th>\n",
       "      <td>2</td>\n",
       "      <td>India</td>\n",
       "      <td>876,538,633</td>\n",
       "      <td>32.0</td>\n",
       "      <td>46.7</td>\n",
       "      <td>16.8</td>\n",
       "      <td>7,178,901</td>\n",
       "    </tr>\n",
       "  </tbody>\n",
       "</table>\n",
       "</div>"
      ],
      "text/plain": [
       "  index              국가          백신접종수 Enough_percent_people  1차접종  2차접종  \\\n",
       "0     0    Global Total  6,199,443,468                  -999  -999  -999   \n",
       "1     1  Mainland China  2,203,185,000                  78.7  78.6  73.0   \n",
       "2     2           India    876,538,633                  32.0  46.7  16.8   \n",
       "\n",
       "        일별접종수  \n",
       "0  29,152,868  \n",
       "1   3,171,286  \n",
       "2   7,178,901  "
      ]
     },
     "execution_count": 154,
     "metadata": {},
     "output_type": "execute_result"
    }
   ],
   "source": [
    "co_df.head(3)"
   ]
  },
  {
   "cell_type": "markdown",
   "id": "96fd0213",
   "metadata": {},
   "source": [
    "### 수치 데이터의 ',' 제거"
   ]
  },
  {
   "cell_type": "code",
   "execution_count": 155,
   "id": "b885d5e6",
   "metadata": {},
   "outputs": [],
   "source": [
    "co_df[\"백신접종수\"] = co_df[\"백신접종수\"].str.replace(pat = r\"[,]\", repl = r\"\", regex = True)\n",
    "co_df[\"일별접종수\"] = co_df[\"일별접종수\"].str.replace(pat = r\"[,]\", repl = r\"\", regex = True)"
   ]
  },
  {
   "cell_type": "code",
   "execution_count": 156,
   "id": "4166ee53",
   "metadata": {},
   "outputs": [
    {
     "data": {
      "text/html": [
       "<div>\n",
       "<style scoped>\n",
       "    .dataframe tbody tr th:only-of-type {\n",
       "        vertical-align: middle;\n",
       "    }\n",
       "\n",
       "    .dataframe tbody tr th {\n",
       "        vertical-align: top;\n",
       "    }\n",
       "\n",
       "    .dataframe thead th {\n",
       "        text-align: right;\n",
       "    }\n",
       "</style>\n",
       "<table border=\"1\" class=\"dataframe\">\n",
       "  <thead>\n",
       "    <tr style=\"text-align: right;\">\n",
       "      <th></th>\n",
       "      <th>index</th>\n",
       "      <th>국가</th>\n",
       "      <th>백신접종수</th>\n",
       "      <th>Enough_percent_people</th>\n",
       "      <th>1차접종</th>\n",
       "      <th>2차접종</th>\n",
       "      <th>일별접종수</th>\n",
       "    </tr>\n",
       "  </thead>\n",
       "  <tbody>\n",
       "    <tr>\n",
       "      <th>0</th>\n",
       "      <td>0</td>\n",
       "      <td>Global Total</td>\n",
       "      <td>6199443468</td>\n",
       "      <td>-999</td>\n",
       "      <td>-999</td>\n",
       "      <td>-999</td>\n",
       "      <td>29152868</td>\n",
       "    </tr>\n",
       "    <tr>\n",
       "      <th>1</th>\n",
       "      <td>1</td>\n",
       "      <td>Mainland China</td>\n",
       "      <td>2203185000</td>\n",
       "      <td>78.7</td>\n",
       "      <td>78.6</td>\n",
       "      <td>73.0</td>\n",
       "      <td>3171286</td>\n",
       "    </tr>\n",
       "    <tr>\n",
       "      <th>2</th>\n",
       "      <td>2</td>\n",
       "      <td>India</td>\n",
       "      <td>876538633</td>\n",
       "      <td>32.0</td>\n",
       "      <td>46.7</td>\n",
       "      <td>16.8</td>\n",
       "      <td>7178901</td>\n",
       "    </tr>\n",
       "  </tbody>\n",
       "</table>\n",
       "</div>"
      ],
      "text/plain": [
       "  index              국가       백신접종수 Enough_percent_people  1차접종  2차접종  \\\n",
       "0     0    Global Total  6199443468                  -999  -999  -999   \n",
       "1     1  Mainland China  2203185000                  78.7  78.6  73.0   \n",
       "2     2           India   876538633                  32.0  46.7  16.8   \n",
       "\n",
       "      일별접종수  \n",
       "0  29152868  \n",
       "1   3171286  \n",
       "2   7178901  "
      ]
     },
     "execution_count": 156,
     "metadata": {},
     "output_type": "execute_result"
    }
   ],
   "source": [
    "co_df.head(3)"
   ]
  },
  {
   "cell_type": "markdown",
   "id": "cd5308ab",
   "metadata": {},
   "source": [
    "### 데이터 전처리 후, 확인"
   ]
  },
  {
   "cell_type": "code",
   "execution_count": 157,
   "id": "497d8c1f",
   "metadata": {},
   "outputs": [
    {
     "name": "stdout",
     "output_type": "stream",
     "text": [
      "<class 'pandas.core.frame.DataFrame'>\n",
      "RangeIndex: 207 entries, 0 to 206\n",
      "Data columns (total 7 columns):\n",
      " #   Column                 Non-Null Count  Dtype \n",
      "---  ------                 --------------  ----- \n",
      " 0   index                  207 non-null    object\n",
      " 1   국가                     207 non-null    object\n",
      " 2   백신접종수                  207 non-null    object\n",
      " 3   Enough_percent_people  207 non-null    object\n",
      " 4   1차접종                   207 non-null    object\n",
      " 5   2차접종                   207 non-null    object\n",
      " 6   일별접종수                  207 non-null    object\n",
      "dtypes: object(7)\n",
      "memory usage: 11.4+ KB\n"
     ]
    }
   ],
   "source": [
    "co_df.info()"
   ]
  },
  {
   "cell_type": "code",
   "execution_count": 158,
   "id": "3aebab7e",
   "metadata": {},
   "outputs": [
    {
     "data": {
      "text/plain": [
       "index                    0\n",
       "국가                       0\n",
       "백신접종수                    0\n",
       "Enough_percent_people    0\n",
       "1차접종                     0\n",
       "2차접종                     0\n",
       "일별접종수                    0\n",
       "dtype: int64"
      ]
     },
     "execution_count": 158,
     "metadata": {},
     "output_type": "execute_result"
    }
   ],
   "source": [
    "co_df.isnull().sum()"
   ]
  },
  {
   "cell_type": "code",
   "execution_count": 159,
   "id": "dfbf53e8",
   "metadata": {},
   "outputs": [
    {
     "data": {
      "text/plain": [
       "array(['6199443468', '2203185000', '876538633', '564029956', '391152574',\n",
       "       '233261963', '161057159', '139232210', '108761681', '107197993',\n",
       "       '99366403', '94250528', '93565474', '89865316', '84351559',\n",
       "       '79533208', '69936755', '62462921', '56036106', '51222138',\n",
       "       '46023016', '44361285', '43372270', '43028919', '41886224',\n",
       "       '41466455', '40273386', '39701907', '39232772', '37158644',\n",
       "       '31553676', '27109766', '26096107', '25912376', '23830570',\n",
       "       '23540559', '20571335', '20298170', '19963359', '18526941',\n",
       "       '17867953', '17176603', '16644129', '15950862', '15057720',\n",
       "       '14970627', '14763330', '14082920', '14050000', '14013701',\n",
       "       '13703515', '13166598', '12088975', '11828826', '11788930',\n",
       "       '11167215', '10802266', '10358035', '10114580', '9306870',\n",
       "       '9001616', '8815419', '8622733', '8350575', '7757255', '7523959',\n",
       "       '7448300', '7425277', '7396969', '7200652', '6960192', '6757605',\n",
       "       '6700654', '6552979', '6409263', '6214949', '5367816', '5278479',\n",
       "       '5263782', '5196072', '5087231', '4946987', '4762272', '4702517',\n",
       "       '4545348', '4488153', '4402770', '3872421', '3740279', '3644423',\n",
       "       '3613357', '3535329', '3413174', '3389520', '3199916', '3134137',\n",
       "       '3133227', '2929966', '2568320', '2521738', '2380000', '2113404',\n",
       "       '2058553', '1968171', '1784832', '1760878', '1715133', '1699898',\n",
       "       '1653422', '1650828', '1633952', '1621953', '1546967', '1495762',\n",
       "       '1422970', '1392707', '1361564', '1283840', '1147010', '1087426',\n",
       "       '1068414', '1060145', '1047111', '997632', '975268', '890122',\n",
       "       '818593', '788502', '784482', '743184', '727664', '711264',\n",
       "       '675891', '649564', '621853', '606699', '551110', '538748',\n",
       "       '533949', '464359', '461201', '452830', '443676', '417648',\n",
       "       '414300', '408535', '407502', '405053', '394029', '389807',\n",
       "       '387510', '336863', '332954', '329905', '322934', '304218',\n",
       "       '284246', '254545', '240002', '234124', '232375', '226269',\n",
       "       '207195', '187160', '186793', '184461', '180320', '164776',\n",
       "       '155753', '150891', '149431', '148402', '142548', '134945',\n",
       "       '129318', '110096', '103751', '102357', '101898', '97744', '95918',\n",
       "       '94715', '89252', '86676', '82679', '79502', '76224', '74129',\n",
       "       '73603', '72085', '67229', '64799', '55663', '52374', '49980',\n",
       "       '49310', '47098', '47088', '44624', '41993', '33077', '18584',\n",
       "       '14863', '7892', '4407', '2871', '-999'], dtype=object)"
      ]
     },
     "execution_count": 159,
     "metadata": {},
     "output_type": "execute_result"
    }
   ],
   "source": [
    "co_df[\"백신접종수\"].unique()"
   ]
  },
  {
   "cell_type": "code",
   "execution_count": 160,
   "id": "f656b4f9",
   "metadata": {},
   "outputs": [
    {
     "data": {
      "text/plain": [
       "0     6199443468\n",
       "1     2203185000\n",
       "2      876538633\n",
       "3      564029956\n",
       "4      391152574\n",
       "5      233261963\n",
       "6      161057159\n",
       "7      139232210\n",
       "8      108761681\n",
       "9      107197993\n",
       "10      99366403\n",
       "11      94250528\n",
       "12      93565474\n",
       "13      89865316\n",
       "14      84351559\n",
       "Name: 백신접종수, dtype: object"
      ]
     },
     "execution_count": 160,
     "metadata": {},
     "output_type": "execute_result"
    }
   ],
   "source": [
    "co_df[\"백신접종수\"].head(15)"
   ]
  },
  {
   "cell_type": "code",
   "execution_count": 161,
   "id": "148eb753",
   "metadata": {},
   "outputs": [
    {
     "data": {
      "text/html": [
       "<div>\n",
       "<style scoped>\n",
       "    .dataframe tbody tr th:only-of-type {\n",
       "        vertical-align: middle;\n",
       "    }\n",
       "\n",
       "    .dataframe tbody tr th {\n",
       "        vertical-align: top;\n",
       "    }\n",
       "\n",
       "    .dataframe thead th {\n",
       "        text-align: right;\n",
       "    }\n",
       "</style>\n",
       "<table border=\"1\" class=\"dataframe\">\n",
       "  <thead>\n",
       "    <tr style=\"text-align: right;\">\n",
       "      <th></th>\n",
       "      <th>index</th>\n",
       "      <th>국가</th>\n",
       "      <th>백신접종수</th>\n",
       "      <th>Enough_percent_people</th>\n",
       "      <th>1차접종</th>\n",
       "      <th>2차접종</th>\n",
       "      <th>일별접종수</th>\n",
       "    </tr>\n",
       "  </thead>\n",
       "  <tbody>\n",
       "  </tbody>\n",
       "</table>\n",
       "</div>"
      ],
      "text/plain": [
       "Empty DataFrame\n",
       "Columns: [index, 국가, 백신접종수, Enough_percent_people, 1차접종, 2차접종, 일별접종수]\n",
       "Index: []"
      ]
     },
     "execution_count": 161,
     "metadata": {},
     "output_type": "execute_result"
    }
   ],
   "source": [
    "co_df.loc[co_df[\"백신접종수\"].isna(), :]"
   ]
  },
  {
   "cell_type": "markdown",
   "id": "9cda6542",
   "metadata": {},
   "source": [
    "### index 컬럼 제거"
   ]
  },
  {
   "cell_type": "code",
   "execution_count": 162,
   "id": "3e725ae5",
   "metadata": {},
   "outputs": [
    {
     "data": {
      "text/plain": [
       "Index(['국가', '백신접종수', 'Enough_percent_people', '1차접종', '2차접종', '일별접종수'], dtype='object')"
      ]
     },
     "execution_count": 162,
     "metadata": {},
     "output_type": "execute_result"
    }
   ],
   "source": [
    "co_df = co_df.iloc[:, 1:]\n",
    "co_df.columns"
   ]
  },
  {
   "cell_type": "code",
   "execution_count": 163,
   "id": "1a1d01c8",
   "metadata": {},
   "outputs": [
    {
     "data": {
      "text/plain": [
       "Index(['백신접종수', 'Enough_percent_people', '1차접종', '2차접종', '일별접종수'], dtype='object')"
      ]
     },
     "execution_count": 163,
     "metadata": {},
     "output_type": "execute_result"
    }
   ],
   "source": [
    "co_tmp = co_df.iloc[:, 1:]\n",
    "co_tmp.columns"
   ]
  },
  {
   "cell_type": "code",
   "execution_count": 164,
   "id": "f0715f4d",
   "metadata": {},
   "outputs": [
    {
     "name": "stdout",
     "output_type": "stream",
     "text": [
      "<class 'pandas.core.frame.DataFrame'>\n",
      "RangeIndex: 207 entries, 0 to 206\n",
      "Data columns (total 6 columns):\n",
      " #   Column                 Non-Null Count  Dtype \n",
      "---  ------                 --------------  ----- \n",
      " 0   국가                     207 non-null    object\n",
      " 1   백신접종수                  207 non-null    object\n",
      " 2   Enough_percent_people  207 non-null    object\n",
      " 3   1차접종                   207 non-null    object\n",
      " 4   2차접종                   207 non-null    object\n",
      " 5   일별접종수                  207 non-null    object\n",
      "dtypes: object(6)\n",
      "memory usage: 9.8+ KB\n"
     ]
    }
   ],
   "source": [
    "co_df.info()"
   ]
  },
  {
   "cell_type": "code",
   "execution_count": 165,
   "id": "864323c3",
   "metadata": {},
   "outputs": [
    {
     "name": "stdout",
     "output_type": "stream",
     "text": [
      "column name : 백신접종수\n",
      "column name : Enough_percent_people\n",
      "column name : 1차접종\n",
      "column name : 2차접종\n",
      "column name : 일별접종수\n"
     ]
    },
    {
     "name": "stderr",
     "output_type": "stream",
     "text": [
      "/var/folders/t9/yt46lj5s0lv1slvgpm05mrs00000gn/T/ipykernel_81563/525896243.py:4: SettingWithCopyWarning: \n",
      "A value is trying to be set on a copy of a slice from a DataFrame.\n",
      "Try using .loc[row_indexer,col_indexer] = value instead\n",
      "\n",
      "See the caveats in the documentation: https://pandas.pydata.org/pandas-docs/stable/user_guide/indexing.html#returning-a-view-versus-a-copy\n",
      "  co_df[one] = co_df[one].astype(\"float32\")\n"
     ]
    }
   ],
   "source": [
    "sel_col = co_tmp.columns\n",
    "for one in sel_col :\n",
    "    print(\"column name :\", one)\n",
    "    co_df[one] = co_df[one].astype(\"float32\")"
   ]
  },
  {
   "cell_type": "code",
   "execution_count": 166,
   "id": "e57db20b",
   "metadata": {},
   "outputs": [
    {
     "name": "stdout",
     "output_type": "stream",
     "text": [
      "<class 'pandas.core.frame.DataFrame'>\n",
      "RangeIndex: 207 entries, 0 to 206\n",
      "Data columns (total 6 columns):\n",
      " #   Column                 Non-Null Count  Dtype  \n",
      "---  ------                 --------------  -----  \n",
      " 0   국가                     207 non-null    object \n",
      " 1   백신접종수                  207 non-null    float32\n",
      " 2   Enough_percent_people  207 non-null    float32\n",
      " 3   1차접종                   207 non-null    float32\n",
      " 4   2차접종                   207 non-null    float32\n",
      " 5   일별접종수                  207 non-null    float32\n",
      "dtypes: float32(5), object(1)\n",
      "memory usage: 5.8+ KB\n"
     ]
    }
   ],
   "source": [
    "co_df.info()"
   ]
  },
  {
   "cell_type": "markdown",
   "id": "f3580f98",
   "metadata": {},
   "source": [
    "### 파일 만들기"
   ]
  },
  {
   "cell_type": "code",
   "execution_count": 167,
   "id": "0244326a",
   "metadata": {},
   "outputs": [
    {
     "name": "stdout",
     "output_type": "stream",
     "text": [
      "28\n",
      "20210929_14\n",
      "csv path : /Users/seungwoomun/Documents/Github/LikeLion_13th_DataCourse/02. 웹과 Github 기본/06_python_library/06_corona_analysis/CSV/20210929_14\n",
      "excel path : /Users/seungwoomun/Documents/Github/LikeLion_13th_DataCourse/02. 웹과 Github 기본/06_python_library/06_corona_analysis/EXCEL/20210929_14\n"
     ]
    }
   ],
   "source": [
    "from datetime import datetime\n",
    "import os\n",
    "\n",
    "now = datetime.now()\n",
    "file_make_time = \"%04d%02d%02d_%02d\" % (now.year, now.month, now.day, now.hour)\n",
    "print(now.day - 1)\n",
    "now_day = now.day\n",
    "now_hour = now.hour\n",
    "print(file_make_time)\n",
    "\n",
    "path_dir = os.getcwd()\n",
    "path_file_csv = path_dir + \"/CSV/\" + file_make_time\n",
    "path_file_excel = path_dir + \"/EXCEL/\" + file_make_time\n",
    "\n",
    "print(\"csv path :\", path_file_csv)\n",
    "print(\"excel path :\", path_file_excel)"
   ]
  },
  {
   "cell_type": "code",
   "execution_count": 168,
   "id": "8031d1ee",
   "metadata": {},
   "outputs": [],
   "source": [
    "co_df.to_csv(path_file_csv + \"_vaccine_bloomberg.csv\", index = False)\n",
    "co_df.to_excel(path_file_excel + \"_vaccine_bloomberg.xlsx\", index = False)"
   ]
  },
  {
   "cell_type": "code",
   "execution_count": null,
   "id": "5ff562fe",
   "metadata": {},
   "outputs": [],
   "source": []
  }
 ],
 "metadata": {
  "kernelspec": {
   "display_name": "Python 3 (ipykernel)",
   "language": "python",
   "name": "python3"
  },
  "language_info": {
   "codemirror_mode": {
    "name": "ipython",
    "version": 3
   },
   "file_extension": ".py",
   "mimetype": "text/x-python",
   "name": "python",
   "nbconvert_exporter": "python",
   "pygments_lexer": "ipython3",
   "version": "3.8.8"
  }
 },
 "nbformat": 4,
 "nbformat_minor": 5
}
