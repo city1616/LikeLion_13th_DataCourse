{
  "nbformat": 4,
  "nbformat_minor": 0,
  "metadata": {
    "colab": {
      "name": "pandas_복습.ipynb",
      "provenance": []
    },
    "kernelspec": {
      "name": "python3",
      "display_name": "Python 3"
    },
    "language_info": {
      "name": "python"
    }
  },
  "cells": [
    {
      "cell_type": "markdown",
      "metadata": {
        "id": "BN0ZZJMUyZ8u"
      },
      "source": [
        "### 2021_10_05_1"
      ]
    },
    {
      "cell_type": "code",
      "metadata": {
        "colab": {
          "base_uri": "https://localhost:8080/"
        },
        "id": "-b-Iy2UjyUSn",
        "outputId": "aa55e3cb-4507-4d7b-f8aa-b62ce6d086be"
      },
      "source": [
        "myfood = ['banana', 'apple', 'candy']\n",
        "print(myfood[0])\n",
        "print(myfood[1])\n",
        "print(myfood[2])\n",
        "print(myfood[1:3])  # 첫번째 두번째 가져오기"
      ],
      "execution_count": 1,
      "outputs": [
        {
          "output_type": "stream",
          "name": "stdout",
          "text": [
            "banana\n",
            "apple\n",
            "candy\n",
            "['apple', 'candy']\n"
          ]
        }
      ]
    },
    {
      "cell_type": "code",
      "metadata": {
        "id": "kRn2qMl6ynkb"
      },
      "source": [
        "dict1 = {'one':'하나', 'two':\"둘\", 'three':'셋'}\n",
        "dict2 = {1:\"하나\", 2:\"둘\", 3:\"셋\"}\n",
        "dict3 = {'col1':[1,2,3], 'col2':['a','b','c']}"
      ],
      "execution_count": 2,
      "outputs": []
    },
    {
      "cell_type": "code",
      "metadata": {
        "colab": {
          "base_uri": "https://localhost:8080/"
        },
        "id": "3M8V-ffRyuXa",
        "outputId": "4757cc05-72b0-49fe-d42e-8cd61ca224f7"
      },
      "source": [
        "print(dict1['one'])\n",
        "print(dict2[2])\n",
        "print(dict3['col2']) "
      ],
      "execution_count": 3,
      "outputs": [
        {
          "output_type": "stream",
          "name": "stdout",
          "text": [
            "하나\n",
            "둘\n",
            "['a', 'b', 'c']\n"
          ]
        }
      ]
    },
    {
      "cell_type": "code",
      "metadata": {
        "id": "ZiecqCXZyw4y"
      },
      "source": [
        "import pandas as pd"
      ],
      "execution_count": 4,
      "outputs": []
    },
    {
      "cell_type": "code",
      "metadata": {
        "id": "6ZloaTgey5Qa"
      },
      "source": [
        "# pandas안의 Series와 DataFrame을 불러옴.\n",
        "from pandas import Series, DataFrame"
      ],
      "execution_count": 6,
      "outputs": []
    },
    {
      "cell_type": "code",
      "metadata": {
        "colab": {
          "base_uri": "https://localhost:8080/"
        },
        "id": "N38MvepuzGB-",
        "outputId": "e6c4e5d2-7495-48b9-9e13-28d06c36b068"
      },
      "source": [
        "score = Series( [1000, 14000, 3000, 3000, 1000] )\n",
        "print(score)\n",
        "print(\"자료형 확인 : \", type(score))"
      ],
      "execution_count": 7,
      "outputs": [
        {
          "output_type": "stream",
          "name": "stdout",
          "text": [
            "0     1000\n",
            "1    14000\n",
            "2     3000\n",
            "3     3000\n",
            "4     1000\n",
            "dtype: int64\n",
            "자료형 확인 :  <class 'pandas.core.series.Series'>\n"
          ]
        }
      ]
    },
    {
      "cell_type": "code",
      "metadata": {
        "colab": {
          "base_uri": "https://localhost:8080/"
        },
        "id": "HMtDHlkvzdlf",
        "outputId": "f66e03f8-fe33-41a7-8cdc-2d8b0d0149f1"
      },
      "source": [
        "## Series 인덱스 확인\n",
        "print(score.index) \n",
        "\n",
        "# 인덱스를 리스트 자료형으로 변경 후, 확인하기\n",
        "print(list(score.index))   \n",
        "\n",
        "## Series 값 확인\n",
        "print(score.values) \n",
        "\n",
        "## Series 값 자료형 확인\n",
        "print(score.dtype)"
      ],
      "execution_count": 8,
      "outputs": [
        {
          "output_type": "stream",
          "name": "stdout",
          "text": [
            "RangeIndex(start=0, stop=5, step=1)\n",
            "[0, 1, 2, 3, 4]\n",
            "[ 1000 14000  3000  3000  1000]\n",
            "int64\n"
          ]
        }
      ]
    },
    {
      "cell_type": "code",
      "metadata": {
        "colab": {
          "base_uri": "https://localhost:8080/"
        },
        "id": "iG__vLMCz7HK",
        "outputId": "5912df0e-f912-464b-cc3b-21291c2c0dce"
      },
      "source": [
        "### 인덱스(index) 속성 이용 \n",
        "score = Series( [1000, 14000, 3000], \n",
        "               index = ['2019-05-01', '2019-05-02', '2019-05-03'] )\n",
        "\n",
        "print(score)"
      ],
      "execution_count": 9,
      "outputs": [
        {
          "output_type": "stream",
          "name": "stdout",
          "text": [
            "2019-05-01     1000\n",
            "2019-05-02    14000\n",
            "2019-05-03     3000\n",
            "dtype: int64\n"
          ]
        }
      ]
    },
    {
      "cell_type": "code",
      "metadata": {
        "id": "4p3TejsNz_pY"
      },
      "source": [
        "gildong = Series([1500, 3000, 2500], \n",
        "                 index = ['2019-05-01', '2019-05-02', '2019-05-03'] )\n",
        "\n",
        "toto = Series([3000, 3000, 2000], \n",
        "              index = ['2019-05-01', '2019-05-03', '2019-05-02'] ) "
      ],
      "execution_count": 10,
      "outputs": []
    },
    {
      "cell_type": "code",
      "metadata": {
        "colab": {
          "base_uri": "https://localhost:8080/",
          "height": 173
        },
        "id": "ZwgGvqZ40HWc",
        "outputId": "4d0713cd-642d-4c16-cf3c-a62bbc66dcdd"
      },
      "source": [
        "dat = { 'col1' : [1,2,3,4],\n",
        "        'col2' : [10,20,30,40],\n",
        "        'col3' : ['A', 'B', 'C', 'D'] }\n",
        "df = DataFrame(dat)\n",
        "df"
      ],
      "execution_count": 11,
      "outputs": [
        {
          "output_type": "execute_result",
          "data": {
            "text/html": [
              "<div>\n",
              "<style scoped>\n",
              "    .dataframe tbody tr th:only-of-type {\n",
              "        vertical-align: middle;\n",
              "    }\n",
              "\n",
              "    .dataframe tbody tr th {\n",
              "        vertical-align: top;\n",
              "    }\n",
              "\n",
              "    .dataframe thead th {\n",
              "        text-align: right;\n",
              "    }\n",
              "</style>\n",
              "<table border=\"1\" class=\"dataframe\">\n",
              "  <thead>\n",
              "    <tr style=\"text-align: right;\">\n",
              "      <th></th>\n",
              "      <th>col1</th>\n",
              "      <th>col2</th>\n",
              "      <th>col3</th>\n",
              "    </tr>\n",
              "  </thead>\n",
              "  <tbody>\n",
              "    <tr>\n",
              "      <th>0</th>\n",
              "      <td>1</td>\n",
              "      <td>10</td>\n",
              "      <td>A</td>\n",
              "    </tr>\n",
              "    <tr>\n",
              "      <th>1</th>\n",
              "      <td>2</td>\n",
              "      <td>20</td>\n",
              "      <td>B</td>\n",
              "    </tr>\n",
              "    <tr>\n",
              "      <th>2</th>\n",
              "      <td>3</td>\n",
              "      <td>30</td>\n",
              "      <td>C</td>\n",
              "    </tr>\n",
              "    <tr>\n",
              "      <th>3</th>\n",
              "      <td>4</td>\n",
              "      <td>40</td>\n",
              "      <td>D</td>\n",
              "    </tr>\n",
              "  </tbody>\n",
              "</table>\n",
              "</div>"
            ],
            "text/plain": [
              "   col1  col2 col3\n",
              "0     1    10    A\n",
              "1     2    20    B\n",
              "2     3    30    C\n",
              "3     4    40    D"
            ]
          },
          "metadata": {},
          "execution_count": 11
        }
      ]
    },
    {
      "cell_type": "code",
      "metadata": {
        "colab": {
          "base_uri": "https://localhost:8080/",
          "height": 204
        },
        "id": "xWSCBgiF0hvZ",
        "outputId": "43a09ee6-5d13-417c-b56a-563141466504"
      },
      "source": [
        "from pandas import DataFrame\n",
        "\n",
        "team_score = { \"toto\":[1500,3000,5000,7000,5500],\n",
        "               \"apple\":[4000,5000,6000,5500,4500],\n",
        "               \"gildong\":[2000,2500,3000,4000,3000],\n",
        "               \"catanddog\":[7000,5000,3000,5000,4000]}\n",
        "\n",
        "team_df = DataFrame(team_score)\n",
        "team_df"
      ],
      "execution_count": 12,
      "outputs": [
        {
          "output_type": "execute_result",
          "data": {
            "text/html": [
              "<div>\n",
              "<style scoped>\n",
              "    .dataframe tbody tr th:only-of-type {\n",
              "        vertical-align: middle;\n",
              "    }\n",
              "\n",
              "    .dataframe tbody tr th {\n",
              "        vertical-align: top;\n",
              "    }\n",
              "\n",
              "    .dataframe thead th {\n",
              "        text-align: right;\n",
              "    }\n",
              "</style>\n",
              "<table border=\"1\" class=\"dataframe\">\n",
              "  <thead>\n",
              "    <tr style=\"text-align: right;\">\n",
              "      <th></th>\n",
              "      <th>toto</th>\n",
              "      <th>apple</th>\n",
              "      <th>gildong</th>\n",
              "      <th>catanddog</th>\n",
              "    </tr>\n",
              "  </thead>\n",
              "  <tbody>\n",
              "    <tr>\n",
              "      <th>0</th>\n",
              "      <td>1500</td>\n",
              "      <td>4000</td>\n",
              "      <td>2000</td>\n",
              "      <td>7000</td>\n",
              "    </tr>\n",
              "    <tr>\n",
              "      <th>1</th>\n",
              "      <td>3000</td>\n",
              "      <td>5000</td>\n",
              "      <td>2500</td>\n",
              "      <td>5000</td>\n",
              "    </tr>\n",
              "    <tr>\n",
              "      <th>2</th>\n",
              "      <td>5000</td>\n",
              "      <td>6000</td>\n",
              "      <td>3000</td>\n",
              "      <td>3000</td>\n",
              "    </tr>\n",
              "    <tr>\n",
              "      <th>3</th>\n",
              "      <td>7000</td>\n",
              "      <td>5500</td>\n",
              "      <td>4000</td>\n",
              "      <td>5000</td>\n",
              "    </tr>\n",
              "    <tr>\n",
              "      <th>4</th>\n",
              "      <td>5500</td>\n",
              "      <td>4500</td>\n",
              "      <td>3000</td>\n",
              "      <td>4000</td>\n",
              "    </tr>\n",
              "  </tbody>\n",
              "</table>\n",
              "</div>"
            ],
            "text/plain": [
              "   toto  apple  gildong  catanddog\n",
              "0  1500   4000     2000       7000\n",
              "1  3000   5000     2500       5000\n",
              "2  5000   6000     3000       3000\n",
              "3  7000   5500     4000       5000\n",
              "4  5500   4500     3000       4000"
            ]
          },
          "metadata": {},
          "execution_count": 12
        }
      ]
    },
    {
      "cell_type": "code",
      "metadata": {
        "colab": {
          "base_uri": "https://localhost:8080/",
          "height": 204
        },
        "id": "N4b9ihJO05kh",
        "outputId": "2c3826b3-2114-4ac8-890d-beca0a24e5d7"
      },
      "source": [
        "date = ['19-05-01','19-05-02', '19-05-03', '19-05-04', '19-05-05']\n",
        "team_df = DataFrame(team_score,\n",
        "                   columns=['catanddog', 'toto', 'apple', 'gildong'],\n",
        "                   index=date)\n",
        "team_df"
      ],
      "execution_count": 13,
      "outputs": [
        {
          "output_type": "execute_result",
          "data": {
            "text/html": [
              "<div>\n",
              "<style scoped>\n",
              "    .dataframe tbody tr th:only-of-type {\n",
              "        vertical-align: middle;\n",
              "    }\n",
              "\n",
              "    .dataframe tbody tr th {\n",
              "        vertical-align: top;\n",
              "    }\n",
              "\n",
              "    .dataframe thead th {\n",
              "        text-align: right;\n",
              "    }\n",
              "</style>\n",
              "<table border=\"1\" class=\"dataframe\">\n",
              "  <thead>\n",
              "    <tr style=\"text-align: right;\">\n",
              "      <th></th>\n",
              "      <th>catanddog</th>\n",
              "      <th>toto</th>\n",
              "      <th>apple</th>\n",
              "      <th>gildong</th>\n",
              "    </tr>\n",
              "  </thead>\n",
              "  <tbody>\n",
              "    <tr>\n",
              "      <th>19-05-01</th>\n",
              "      <td>7000</td>\n",
              "      <td>1500</td>\n",
              "      <td>4000</td>\n",
              "      <td>2000</td>\n",
              "    </tr>\n",
              "    <tr>\n",
              "      <th>19-05-02</th>\n",
              "      <td>5000</td>\n",
              "      <td>3000</td>\n",
              "      <td>5000</td>\n",
              "      <td>2500</td>\n",
              "    </tr>\n",
              "    <tr>\n",
              "      <th>19-05-03</th>\n",
              "      <td>3000</td>\n",
              "      <td>5000</td>\n",
              "      <td>6000</td>\n",
              "      <td>3000</td>\n",
              "    </tr>\n",
              "    <tr>\n",
              "      <th>19-05-04</th>\n",
              "      <td>5000</td>\n",
              "      <td>7000</td>\n",
              "      <td>5500</td>\n",
              "      <td>4000</td>\n",
              "    </tr>\n",
              "    <tr>\n",
              "      <th>19-05-05</th>\n",
              "      <td>4000</td>\n",
              "      <td>5500</td>\n",
              "      <td>4500</td>\n",
              "      <td>3000</td>\n",
              "    </tr>\n",
              "  </tbody>\n",
              "</table>\n",
              "</div>"
            ],
            "text/plain": [
              "          catanddog  toto  apple  gildong\n",
              "19-05-01       7000  1500   4000     2000\n",
              "19-05-02       5000  3000   5000     2500\n",
              "19-05-03       3000  5000   6000     3000\n",
              "19-05-04       5000  7000   5500     4000\n",
              "19-05-05       4000  5500   4500     3000"
            ]
          },
          "metadata": {},
          "execution_count": 13
        }
      ]
    },
    {
      "cell_type": "code",
      "metadata": {
        "colab": {
          "base_uri": "https://localhost:8080/"
        },
        "id": "wdiwvBo61IFK",
        "outputId": "cb5f6272-7476-4127-dcde-6f06b9daca95"
      },
      "source": [
        "team_df['toto'] "
      ],
      "execution_count": 14,
      "outputs": [
        {
          "output_type": "execute_result",
          "data": {
            "text/plain": [
              "19-05-01    1500\n",
              "19-05-02    3000\n",
              "19-05-03    5000\n",
              "19-05-04    7000\n",
              "19-05-05    5500\n",
              "Name: toto, dtype: int64"
            ]
          },
          "metadata": {},
          "execution_count": 14
        }
      ]
    },
    {
      "cell_type": "code",
      "metadata": {
        "colab": {
          "base_uri": "https://localhost:8080/",
          "height": 204
        },
        "id": "z_Q3RWOl1MXQ",
        "outputId": "15874d65-01a3-4de3-e625-39bc19a25115"
      },
      "source": [
        "team_df[ ['toto', 'gildong'] ] "
      ],
      "execution_count": 15,
      "outputs": [
        {
          "output_type": "execute_result",
          "data": {
            "text/html": [
              "<div>\n",
              "<style scoped>\n",
              "    .dataframe tbody tr th:only-of-type {\n",
              "        vertical-align: middle;\n",
              "    }\n",
              "\n",
              "    .dataframe tbody tr th {\n",
              "        vertical-align: top;\n",
              "    }\n",
              "\n",
              "    .dataframe thead th {\n",
              "        text-align: right;\n",
              "    }\n",
              "</style>\n",
              "<table border=\"1\" class=\"dataframe\">\n",
              "  <thead>\n",
              "    <tr style=\"text-align: right;\">\n",
              "      <th></th>\n",
              "      <th>toto</th>\n",
              "      <th>gildong</th>\n",
              "    </tr>\n",
              "  </thead>\n",
              "  <tbody>\n",
              "    <tr>\n",
              "      <th>19-05-01</th>\n",
              "      <td>1500</td>\n",
              "      <td>2000</td>\n",
              "    </tr>\n",
              "    <tr>\n",
              "      <th>19-05-02</th>\n",
              "      <td>3000</td>\n",
              "      <td>2500</td>\n",
              "    </tr>\n",
              "    <tr>\n",
              "      <th>19-05-03</th>\n",
              "      <td>5000</td>\n",
              "      <td>3000</td>\n",
              "    </tr>\n",
              "    <tr>\n",
              "      <th>19-05-04</th>\n",
              "      <td>7000</td>\n",
              "      <td>4000</td>\n",
              "    </tr>\n",
              "    <tr>\n",
              "      <th>19-05-05</th>\n",
              "      <td>5500</td>\n",
              "      <td>3000</td>\n",
              "    </tr>\n",
              "  </tbody>\n",
              "</table>\n",
              "</div>"
            ],
            "text/plain": [
              "          toto  gildong\n",
              "19-05-01  1500     2000\n",
              "19-05-02  3000     2500\n",
              "19-05-03  5000     3000\n",
              "19-05-04  7000     4000\n",
              "19-05-05  5500     3000"
            ]
          },
          "metadata": {},
          "execution_count": 15
        }
      ]
    },
    {
      "cell_type": "markdown",
      "metadata": {
        "id": "v-KGDyaJ16X5"
      },
      "source": [
        "* loc, iloc의 접근\n",
        "  * loc : 행과 열의 인덱스로 접근\n",
        "  * iloc : 행과 열의 순서로 접근"
      ]
    },
    {
      "cell_type": "code",
      "metadata": {
        "colab": {
          "base_uri": "https://localhost:8080/"
        },
        "id": "FJKvrgMV1O9X",
        "outputId": "80811f0b-fe6b-4b30-c2a6-63e5b477156e"
      },
      "source": [
        "print(team_df.loc[ '19-05-02' ] ) # 19-05-02 일\n",
        "print(\"-----------\")\n",
        "print(team_df.loc[ ['19-05-02', '19-05-03'] ]) # 5월 2일, 3일 \n",
        "print(\"-----------\")\n",
        "print(team_df.loc[ '19-05-02': ])  # 5월 2일 이후 전체 데이터 가져오기"
      ],
      "execution_count": 16,
      "outputs": [
        {
          "output_type": "stream",
          "name": "stdout",
          "text": [
            "catanddog    5000\n",
            "toto         3000\n",
            "apple        5000\n",
            "gildong      2500\n",
            "Name: 19-05-02, dtype: int64\n",
            "-----------\n",
            "          catanddog  toto  apple  gildong\n",
            "19-05-02       5000  3000   5000     2500\n",
            "19-05-03       3000  5000   6000     3000\n",
            "-----------\n",
            "          catanddog  toto  apple  gildong\n",
            "19-05-02       5000  3000   5000     2500\n",
            "19-05-03       3000  5000   6000     3000\n",
            "19-05-04       5000  7000   5500     4000\n",
            "19-05-05       4000  5500   4500     3000\n"
          ]
        }
      ]
    },
    {
      "cell_type": "code",
      "metadata": {
        "colab": {
          "base_uri": "https://localhost:8080/"
        },
        "id": "V_vVQCCh2KAE",
        "outputId": "f9027134-f8cc-4069-bdbb-13e76eb7ada5"
      },
      "source": [
        "## 컬럼명 확인 \n",
        "print(team_df.columns)\n",
        "print(\"-----\")\n",
        "print(team_df.loc[:, 'toto'])   # 전체행, toto팀 \n",
        "print(\"-----\")\n",
        "print(team_df.loc[:, ['toto', 'gildong'] ])   # 전체행, toto, gildong팀\n",
        "print(\"-----\")\n",
        "print(team_df.loc[:, 'toto': ])   # 전체행, toto 부터 끝까지"
      ],
      "execution_count": 17,
      "outputs": [
        {
          "output_type": "stream",
          "name": "stdout",
          "text": [
            "Index(['catanddog', 'toto', 'apple', 'gildong'], dtype='object')\n",
            "-----\n",
            "19-05-01    1500\n",
            "19-05-02    3000\n",
            "19-05-03    5000\n",
            "19-05-04    7000\n",
            "19-05-05    5500\n",
            "Name: toto, dtype: int64\n",
            "-----\n",
            "          toto  gildong\n",
            "19-05-01  1500     2000\n",
            "19-05-02  3000     2500\n",
            "19-05-03  5000     3000\n",
            "19-05-04  7000     4000\n",
            "19-05-05  5500     3000\n",
            "-----\n",
            "          toto  apple  gildong\n",
            "19-05-01  1500   4000     2000\n",
            "19-05-02  3000   5000     2500\n",
            "19-05-03  5000   6000     3000\n",
            "19-05-04  7000   5500     4000\n",
            "19-05-05  5500   4500     3000\n"
          ]
        }
      ]
    },
    {
      "cell_type": "code",
      "metadata": {
        "colab": {
          "base_uri": "https://localhost:8080/"
        },
        "id": "7f1qzRV32M6r",
        "outputId": "c7e92f79-d237-4d99-9560-3a61ed71b93a"
      },
      "source": [
        "print(team_df.iloc[0])      # 첫번째 행 접근\n",
        "print(\"------\")\n",
        "print(team_df.iloc[ [0,1] ])  # 첫번째 두번째 행 접근\n",
        "print(\"------\")\n",
        "print(team_df.iloc[ 0:3:1] )  # 첫번째부터 세번째 행 접근\n",
        "print(\"------\")\n",
        "range_num = list(range(0,3,1))\n",
        "print(team_df.iloc[ range_num ] )  # 첫번째부터 세번째 행 접근 "
      ],
      "execution_count": 18,
      "outputs": [
        {
          "output_type": "stream",
          "name": "stdout",
          "text": [
            "catanddog    7000\n",
            "toto         1500\n",
            "apple        4000\n",
            "gildong      2000\n",
            "Name: 19-05-01, dtype: int64\n",
            "------\n",
            "          catanddog  toto  apple  gildong\n",
            "19-05-01       7000  1500   4000     2000\n",
            "19-05-02       5000  3000   5000     2500\n",
            "------\n",
            "          catanddog  toto  apple  gildong\n",
            "19-05-01       7000  1500   4000     2000\n",
            "19-05-02       5000  3000   5000     2500\n",
            "19-05-03       3000  5000   6000     3000\n",
            "------\n",
            "          catanddog  toto  apple  gildong\n",
            "19-05-01       7000  1500   4000     2000\n",
            "19-05-02       5000  3000   5000     2500\n",
            "19-05-03       3000  5000   6000     3000\n"
          ]
        }
      ]
    },
    {
      "cell_type": "code",
      "metadata": {
        "colab": {
          "base_uri": "https://localhost:8080/"
        },
        "id": "AZQJtwsD2Pi6",
        "outputId": "d5b3f0a8-6217-42e1-fc28-28e9e887fe02"
      },
      "source": [
        "print(team_df.iloc[:, 0])      # 첫번째 열 접근\n",
        "print(\"------\")\n",
        "print(team_df.iloc[:, [0,1] ])  # 첫번째 두번째 열 접근\n",
        "print(\"------\")\n",
        "print(team_df.iloc[:, 0:3:1] )  # 첫번째부터 세번째 열 접근\n",
        "print(\"------\")\n",
        "range_num = list(range(0,3,1))\n",
        "print(team_df.iloc[:, range_num ] )  # 첫번째부터 세번째 열 접근 "
      ],
      "execution_count": 19,
      "outputs": [
        {
          "output_type": "stream",
          "name": "stdout",
          "text": [
            "19-05-01    7000\n",
            "19-05-02    5000\n",
            "19-05-03    3000\n",
            "19-05-04    5000\n",
            "19-05-05    4000\n",
            "Name: catanddog, dtype: int64\n",
            "------\n",
            "          catanddog  toto\n",
            "19-05-01       7000  1500\n",
            "19-05-02       5000  3000\n",
            "19-05-03       3000  5000\n",
            "19-05-04       5000  7000\n",
            "19-05-05       4000  5500\n",
            "------\n",
            "          catanddog  toto  apple\n",
            "19-05-01       7000  1500   4000\n",
            "19-05-02       5000  3000   5000\n",
            "19-05-03       3000  5000   6000\n",
            "19-05-04       5000  7000   5500\n",
            "19-05-05       4000  5500   4500\n",
            "------\n",
            "          catanddog  toto  apple\n",
            "19-05-01       7000  1500   4000\n",
            "19-05-02       5000  3000   5000\n",
            "19-05-03       3000  5000   6000\n",
            "19-05-04       5000  7000   5500\n",
            "19-05-05       4000  5500   4500\n"
          ]
        }
      ]
    },
    {
      "cell_type": "code",
      "metadata": {
        "colab": {
          "base_uri": "https://localhost:8080/"
        },
        "id": "qzEGfEyE2umB",
        "outputId": "7ea7e1c5-c979-4e4c-81b6-4aa356fd5d82"
      },
      "source": [
        "print(team_df.sum() )\n",
        "print(\"----\")\n",
        "print(team_df.mean() ) \n",
        "print(\"----\")  "
      ],
      "execution_count": 20,
      "outputs": [
        {
          "output_type": "stream",
          "name": "stdout",
          "text": [
            "catanddog    24000\n",
            "toto         22000\n",
            "apple        25000\n",
            "gildong      14500\n",
            "dtype: int64\n",
            "----\n",
            "catanddog    4800.0\n",
            "toto         4400.0\n",
            "apple        5000.0\n",
            "gildong      2900.0\n",
            "dtype: float64\n",
            "----\n"
          ]
        }
      ]
    },
    {
      "cell_type": "code",
      "metadata": {
        "colab": {
          "base_uri": "https://localhost:8080/",
          "height": 297
        },
        "id": "oxhcpDGM2xj0",
        "outputId": "3f4a13c3-76e2-455b-e091-687c67b70c65"
      },
      "source": [
        "\n",
        "team_df.describe() "
      ],
      "execution_count": 21,
      "outputs": [
        {
          "output_type": "execute_result",
          "data": {
            "text/html": [
              "<div>\n",
              "<style scoped>\n",
              "    .dataframe tbody tr th:only-of-type {\n",
              "        vertical-align: middle;\n",
              "    }\n",
              "\n",
              "    .dataframe tbody tr th {\n",
              "        vertical-align: top;\n",
              "    }\n",
              "\n",
              "    .dataframe thead th {\n",
              "        text-align: right;\n",
              "    }\n",
              "</style>\n",
              "<table border=\"1\" class=\"dataframe\">\n",
              "  <thead>\n",
              "    <tr style=\"text-align: right;\">\n",
              "      <th></th>\n",
              "      <th>catanddog</th>\n",
              "      <th>toto</th>\n",
              "      <th>apple</th>\n",
              "      <th>gildong</th>\n",
              "    </tr>\n",
              "  </thead>\n",
              "  <tbody>\n",
              "    <tr>\n",
              "      <th>count</th>\n",
              "      <td>5.000000</td>\n",
              "      <td>5.000000</td>\n",
              "      <td>5.000000</td>\n",
              "      <td>5.000000</td>\n",
              "    </tr>\n",
              "    <tr>\n",
              "      <th>mean</th>\n",
              "      <td>4800.000000</td>\n",
              "      <td>4400.000000</td>\n",
              "      <td>5000.000000</td>\n",
              "      <td>2900.000000</td>\n",
              "    </tr>\n",
              "    <tr>\n",
              "      <th>std</th>\n",
              "      <td>1483.239697</td>\n",
              "      <td>2162.174831</td>\n",
              "      <td>790.569415</td>\n",
              "      <td>741.619849</td>\n",
              "    </tr>\n",
              "    <tr>\n",
              "      <th>min</th>\n",
              "      <td>3000.000000</td>\n",
              "      <td>1500.000000</td>\n",
              "      <td>4000.000000</td>\n",
              "      <td>2000.000000</td>\n",
              "    </tr>\n",
              "    <tr>\n",
              "      <th>25%</th>\n",
              "      <td>4000.000000</td>\n",
              "      <td>3000.000000</td>\n",
              "      <td>4500.000000</td>\n",
              "      <td>2500.000000</td>\n",
              "    </tr>\n",
              "    <tr>\n",
              "      <th>50%</th>\n",
              "      <td>5000.000000</td>\n",
              "      <td>5000.000000</td>\n",
              "      <td>5000.000000</td>\n",
              "      <td>3000.000000</td>\n",
              "    </tr>\n",
              "    <tr>\n",
              "      <th>75%</th>\n",
              "      <td>5000.000000</td>\n",
              "      <td>5500.000000</td>\n",
              "      <td>5500.000000</td>\n",
              "      <td>3000.000000</td>\n",
              "    </tr>\n",
              "    <tr>\n",
              "      <th>max</th>\n",
              "      <td>7000.000000</td>\n",
              "      <td>7000.000000</td>\n",
              "      <td>6000.000000</td>\n",
              "      <td>4000.000000</td>\n",
              "    </tr>\n",
              "  </tbody>\n",
              "</table>\n",
              "</div>"
            ],
            "text/plain": [
              "         catanddog         toto        apple      gildong\n",
              "count     5.000000     5.000000     5.000000     5.000000\n",
              "mean   4800.000000  4400.000000  5000.000000  2900.000000\n",
              "std    1483.239697  2162.174831   790.569415   741.619849\n",
              "min    3000.000000  1500.000000  4000.000000  2000.000000\n",
              "25%    4000.000000  3000.000000  4500.000000  2500.000000\n",
              "50%    5000.000000  5000.000000  5000.000000  3000.000000\n",
              "75%    5000.000000  5500.000000  5500.000000  3000.000000\n",
              "max    7000.000000  7000.000000  6000.000000  4000.000000"
            ]
          },
          "metadata": {},
          "execution_count": 21
        }
      ]
    },
    {
      "cell_type": "code",
      "metadata": {
        "colab": {
          "base_uri": "https://localhost:8080/",
          "height": 204
        },
        "id": "1aWmTkOM4QHD",
        "outputId": "79e3cf7d-4f05-4e40-c133-fbb43e27135f"
      },
      "source": [
        "team_df['rowsum'] = team_df.sum(axis=1)\n",
        "team_df"
      ],
      "execution_count": 22,
      "outputs": [
        {
          "output_type": "execute_result",
          "data": {
            "text/html": [
              "<div>\n",
              "<style scoped>\n",
              "    .dataframe tbody tr th:only-of-type {\n",
              "        vertical-align: middle;\n",
              "    }\n",
              "\n",
              "    .dataframe tbody tr th {\n",
              "        vertical-align: top;\n",
              "    }\n",
              "\n",
              "    .dataframe thead th {\n",
              "        text-align: right;\n",
              "    }\n",
              "</style>\n",
              "<table border=\"1\" class=\"dataframe\">\n",
              "  <thead>\n",
              "    <tr style=\"text-align: right;\">\n",
              "      <th></th>\n",
              "      <th>catanddog</th>\n",
              "      <th>toto</th>\n",
              "      <th>apple</th>\n",
              "      <th>gildong</th>\n",
              "      <th>rowsum</th>\n",
              "    </tr>\n",
              "  </thead>\n",
              "  <tbody>\n",
              "    <tr>\n",
              "      <th>19-05-01</th>\n",
              "      <td>7000</td>\n",
              "      <td>1500</td>\n",
              "      <td>4000</td>\n",
              "      <td>2000</td>\n",
              "      <td>14500</td>\n",
              "    </tr>\n",
              "    <tr>\n",
              "      <th>19-05-02</th>\n",
              "      <td>5000</td>\n",
              "      <td>3000</td>\n",
              "      <td>5000</td>\n",
              "      <td>2500</td>\n",
              "      <td>15500</td>\n",
              "    </tr>\n",
              "    <tr>\n",
              "      <th>19-05-03</th>\n",
              "      <td>3000</td>\n",
              "      <td>5000</td>\n",
              "      <td>6000</td>\n",
              "      <td>3000</td>\n",
              "      <td>17000</td>\n",
              "    </tr>\n",
              "    <tr>\n",
              "      <th>19-05-04</th>\n",
              "      <td>5000</td>\n",
              "      <td>7000</td>\n",
              "      <td>5500</td>\n",
              "      <td>4000</td>\n",
              "      <td>21500</td>\n",
              "    </tr>\n",
              "    <tr>\n",
              "      <th>19-05-05</th>\n",
              "      <td>4000</td>\n",
              "      <td>5500</td>\n",
              "      <td>4500</td>\n",
              "      <td>3000</td>\n",
              "      <td>17000</td>\n",
              "    </tr>\n",
              "  </tbody>\n",
              "</table>\n",
              "</div>"
            ],
            "text/plain": [
              "          catanddog  toto  apple  gildong  rowsum\n",
              "19-05-01       7000  1500   4000     2000   14500\n",
              "19-05-02       5000  3000   5000     2500   15500\n",
              "19-05-03       3000  5000   6000     3000   17000\n",
              "19-05-04       5000  7000   5500     4000   21500\n",
              "19-05-05       4000  5500   4500     3000   17000"
            ]
          },
          "metadata": {},
          "execution_count": 22
        }
      ]
    },
    {
      "cell_type": "code",
      "metadata": {
        "colab": {
          "base_uri": "https://localhost:8080/"
        },
        "id": "XBstQGP64SVF",
        "outputId": "9ef71cc2-330d-4f57-f8f1-f76f76911ef1"
      },
      "source": [
        "team_df.rowsum.sort_values(ascending=False)"
      ],
      "execution_count": 23,
      "outputs": [
        {
          "output_type": "execute_result",
          "data": {
            "text/plain": [
              "19-05-04    21500\n",
              "19-05-05    17000\n",
              "19-05-03    17000\n",
              "19-05-02    15500\n",
              "19-05-01    14500\n",
              "Name: rowsum, dtype: int64"
            ]
          },
          "metadata": {},
          "execution_count": 23
        }
      ]
    },
    {
      "cell_type": "code",
      "metadata": {
        "colab": {
          "base_uri": "https://localhost:8080/",
          "height": 204
        },
        "id": "KFD3pfMr4UOb",
        "outputId": "ce5f640e-380f-4a73-e73f-52f88ea49caa"
      },
      "source": [
        "team_df.sort_values(by='rowsum', ascending=False)"
      ],
      "execution_count": 24,
      "outputs": [
        {
          "output_type": "execute_result",
          "data": {
            "text/html": [
              "<div>\n",
              "<style scoped>\n",
              "    .dataframe tbody tr th:only-of-type {\n",
              "        vertical-align: middle;\n",
              "    }\n",
              "\n",
              "    .dataframe tbody tr th {\n",
              "        vertical-align: top;\n",
              "    }\n",
              "\n",
              "    .dataframe thead th {\n",
              "        text-align: right;\n",
              "    }\n",
              "</style>\n",
              "<table border=\"1\" class=\"dataframe\">\n",
              "  <thead>\n",
              "    <tr style=\"text-align: right;\">\n",
              "      <th></th>\n",
              "      <th>catanddog</th>\n",
              "      <th>toto</th>\n",
              "      <th>apple</th>\n",
              "      <th>gildong</th>\n",
              "      <th>rowsum</th>\n",
              "    </tr>\n",
              "  </thead>\n",
              "  <tbody>\n",
              "    <tr>\n",
              "      <th>19-05-04</th>\n",
              "      <td>5000</td>\n",
              "      <td>7000</td>\n",
              "      <td>5500</td>\n",
              "      <td>4000</td>\n",
              "      <td>21500</td>\n",
              "    </tr>\n",
              "    <tr>\n",
              "      <th>19-05-03</th>\n",
              "      <td>3000</td>\n",
              "      <td>5000</td>\n",
              "      <td>6000</td>\n",
              "      <td>3000</td>\n",
              "      <td>17000</td>\n",
              "    </tr>\n",
              "    <tr>\n",
              "      <th>19-05-05</th>\n",
              "      <td>4000</td>\n",
              "      <td>5500</td>\n",
              "      <td>4500</td>\n",
              "      <td>3000</td>\n",
              "      <td>17000</td>\n",
              "    </tr>\n",
              "    <tr>\n",
              "      <th>19-05-02</th>\n",
              "      <td>5000</td>\n",
              "      <td>3000</td>\n",
              "      <td>5000</td>\n",
              "      <td>2500</td>\n",
              "      <td>15500</td>\n",
              "    </tr>\n",
              "    <tr>\n",
              "      <th>19-05-01</th>\n",
              "      <td>7000</td>\n",
              "      <td>1500</td>\n",
              "      <td>4000</td>\n",
              "      <td>2000</td>\n",
              "      <td>14500</td>\n",
              "    </tr>\n",
              "  </tbody>\n",
              "</table>\n",
              "</div>"
            ],
            "text/plain": [
              "          catanddog  toto  apple  gildong  rowsum\n",
              "19-05-04       5000  7000   5500     4000   21500\n",
              "19-05-03       3000  5000   6000     3000   17000\n",
              "19-05-05       4000  5500   4500     3000   17000\n",
              "19-05-02       5000  3000   5000     2500   15500\n",
              "19-05-01       7000  1500   4000     2000   14500"
            ]
          },
          "metadata": {},
          "execution_count": 24
        }
      ]
    },
    {
      "cell_type": "code",
      "metadata": {
        "colab": {
          "base_uri": "https://localhost:8080/",
          "height": 142
        },
        "id": "dTsribxU4WeV",
        "outputId": "eec4d1f4-41a6-4c83-c469-282de02181fd"
      },
      "source": [
        "team_df[ team_df.rowsum >= 17000]"
      ],
      "execution_count": 25,
      "outputs": [
        {
          "output_type": "execute_result",
          "data": {
            "text/html": [
              "<div>\n",
              "<style scoped>\n",
              "    .dataframe tbody tr th:only-of-type {\n",
              "        vertical-align: middle;\n",
              "    }\n",
              "\n",
              "    .dataframe tbody tr th {\n",
              "        vertical-align: top;\n",
              "    }\n",
              "\n",
              "    .dataframe thead th {\n",
              "        text-align: right;\n",
              "    }\n",
              "</style>\n",
              "<table border=\"1\" class=\"dataframe\">\n",
              "  <thead>\n",
              "    <tr style=\"text-align: right;\">\n",
              "      <th></th>\n",
              "      <th>catanddog</th>\n",
              "      <th>toto</th>\n",
              "      <th>apple</th>\n",
              "      <th>gildong</th>\n",
              "      <th>rowsum</th>\n",
              "    </tr>\n",
              "  </thead>\n",
              "  <tbody>\n",
              "    <tr>\n",
              "      <th>19-05-03</th>\n",
              "      <td>3000</td>\n",
              "      <td>5000</td>\n",
              "      <td>6000</td>\n",
              "      <td>3000</td>\n",
              "      <td>17000</td>\n",
              "    </tr>\n",
              "    <tr>\n",
              "      <th>19-05-04</th>\n",
              "      <td>5000</td>\n",
              "      <td>7000</td>\n",
              "      <td>5500</td>\n",
              "      <td>4000</td>\n",
              "      <td>21500</td>\n",
              "    </tr>\n",
              "    <tr>\n",
              "      <th>19-05-05</th>\n",
              "      <td>4000</td>\n",
              "      <td>5500</td>\n",
              "      <td>4500</td>\n",
              "      <td>3000</td>\n",
              "      <td>17000</td>\n",
              "    </tr>\n",
              "  </tbody>\n",
              "</table>\n",
              "</div>"
            ],
            "text/plain": [
              "          catanddog  toto  apple  gildong  rowsum\n",
              "19-05-03       3000  5000   6000     3000   17000\n",
              "19-05-04       5000  7000   5500     4000   21500\n",
              "19-05-05       4000  5500   4500     3000   17000"
            ]
          },
          "metadata": {},
          "execution_count": 25
        }
      ]
    },
    {
      "cell_type": "code",
      "metadata": {
        "colab": {
          "base_uri": "https://localhost:8080/",
          "height": 204
        },
        "id": "i7qmOn964beG",
        "outputId": "502798d4-cf13-4568-b176-90ba60c9450b"
      },
      "source": [
        "team_df.drop(['toto', 'gildong' ], axis=1)"
      ],
      "execution_count": 26,
      "outputs": [
        {
          "output_type": "execute_result",
          "data": {
            "text/html": [
              "<div>\n",
              "<style scoped>\n",
              "    .dataframe tbody tr th:only-of-type {\n",
              "        vertical-align: middle;\n",
              "    }\n",
              "\n",
              "    .dataframe tbody tr th {\n",
              "        vertical-align: top;\n",
              "    }\n",
              "\n",
              "    .dataframe thead th {\n",
              "        text-align: right;\n",
              "    }\n",
              "</style>\n",
              "<table border=\"1\" class=\"dataframe\">\n",
              "  <thead>\n",
              "    <tr style=\"text-align: right;\">\n",
              "      <th></th>\n",
              "      <th>catanddog</th>\n",
              "      <th>apple</th>\n",
              "      <th>rowsum</th>\n",
              "    </tr>\n",
              "  </thead>\n",
              "  <tbody>\n",
              "    <tr>\n",
              "      <th>19-05-01</th>\n",
              "      <td>7000</td>\n",
              "      <td>4000</td>\n",
              "      <td>14500</td>\n",
              "    </tr>\n",
              "    <tr>\n",
              "      <th>19-05-02</th>\n",
              "      <td>5000</td>\n",
              "      <td>5000</td>\n",
              "      <td>15500</td>\n",
              "    </tr>\n",
              "    <tr>\n",
              "      <th>19-05-03</th>\n",
              "      <td>3000</td>\n",
              "      <td>6000</td>\n",
              "      <td>17000</td>\n",
              "    </tr>\n",
              "    <tr>\n",
              "      <th>19-05-04</th>\n",
              "      <td>5000</td>\n",
              "      <td>5500</td>\n",
              "      <td>21500</td>\n",
              "    </tr>\n",
              "    <tr>\n",
              "      <th>19-05-05</th>\n",
              "      <td>4000</td>\n",
              "      <td>4500</td>\n",
              "      <td>17000</td>\n",
              "    </tr>\n",
              "  </tbody>\n",
              "</table>\n",
              "</div>"
            ],
            "text/plain": [
              "          catanddog  apple  rowsum\n",
              "19-05-01       7000   4000   14500\n",
              "19-05-02       5000   5000   15500\n",
              "19-05-03       3000   6000   17000\n",
              "19-05-04       5000   5500   21500\n",
              "19-05-05       4000   4500   17000"
            ]
          },
          "metadata": {},
          "execution_count": 26
        }
      ]
    },
    {
      "cell_type": "code",
      "metadata": {
        "colab": {
          "base_uri": "https://localhost:8080/"
        },
        "id": "UKQ9KL5a6ObJ",
        "outputId": "5a4609b8-797a-4724-9742-04dbcccb67af"
      },
      "source": [
        "team_df.dtypes"
      ],
      "execution_count": 27,
      "outputs": [
        {
          "output_type": "execute_result",
          "data": {
            "text/plain": [
              "catanddog    int64\n",
              "toto         int64\n",
              "apple        int64\n",
              "gildong      int64\n",
              "rowsum       int64\n",
              "dtype: object"
            ]
          },
          "metadata": {},
          "execution_count": 27
        }
      ]
    },
    {
      "cell_type": "code",
      "metadata": {
        "colab": {
          "base_uri": "https://localhost:8080/"
        },
        "id": "2GImAoMN6Rs0",
        "outputId": "6d243383-9a1a-4bfe-e39b-5221a965812a"
      },
      "source": [
        "team_df.isnull().sum()"
      ],
      "execution_count": 29,
      "outputs": [
        {
          "output_type": "execute_result",
          "data": {
            "text/plain": [
              "catanddog    0\n",
              "toto         0\n",
              "apple        0\n",
              "gildong      0\n",
              "rowsum       0\n",
              "dtype: int64"
            ]
          },
          "metadata": {},
          "execution_count": 29
        }
      ]
    },
    {
      "cell_type": "code",
      "metadata": {
        "id": "Or8Npecy_os4"
      },
      "source": [
        "import seaborn as sns"
      ],
      "execution_count": 31,
      "outputs": []
    },
    {
      "cell_type": "code",
      "metadata": {
        "colab": {
          "base_uri": "https://localhost:8080/"
        },
        "id": "_bwXXQJ36TUt",
        "outputId": "b253f4af-fb47-4357-bc52-aa390326a5ce"
      },
      "source": [
        "train = sns.load_dataset(\"titanic\")\n",
        "train.shape"
      ],
      "execution_count": 32,
      "outputs": [
        {
          "output_type": "execute_result",
          "data": {
            "text/plain": [
              "(891, 15)"
            ]
          },
          "metadata": {},
          "execution_count": 32
        }
      ]
    },
    {
      "cell_type": "code",
      "metadata": {
        "colab": {
          "base_uri": "https://localhost:8080/",
          "height": 173
        },
        "id": "eusu2m5W_m_q",
        "outputId": "6d9ba6a8-966d-4c83-9770-e679c041c32f"
      },
      "source": [
        "train.describe(include=['O'])"
      ],
      "execution_count": 33,
      "outputs": [
        {
          "output_type": "execute_result",
          "data": {
            "text/html": [
              "<div>\n",
              "<style scoped>\n",
              "    .dataframe tbody tr th:only-of-type {\n",
              "        vertical-align: middle;\n",
              "    }\n",
              "\n",
              "    .dataframe tbody tr th {\n",
              "        vertical-align: top;\n",
              "    }\n",
              "\n",
              "    .dataframe thead th {\n",
              "        text-align: right;\n",
              "    }\n",
              "</style>\n",
              "<table border=\"1\" class=\"dataframe\">\n",
              "  <thead>\n",
              "    <tr style=\"text-align: right;\">\n",
              "      <th></th>\n",
              "      <th>sex</th>\n",
              "      <th>embarked</th>\n",
              "      <th>who</th>\n",
              "      <th>embark_town</th>\n",
              "      <th>alive</th>\n",
              "    </tr>\n",
              "  </thead>\n",
              "  <tbody>\n",
              "    <tr>\n",
              "      <th>count</th>\n",
              "      <td>891</td>\n",
              "      <td>889</td>\n",
              "      <td>891</td>\n",
              "      <td>889</td>\n",
              "      <td>891</td>\n",
              "    </tr>\n",
              "    <tr>\n",
              "      <th>unique</th>\n",
              "      <td>2</td>\n",
              "      <td>3</td>\n",
              "      <td>3</td>\n",
              "      <td>3</td>\n",
              "      <td>2</td>\n",
              "    </tr>\n",
              "    <tr>\n",
              "      <th>top</th>\n",
              "      <td>male</td>\n",
              "      <td>S</td>\n",
              "      <td>man</td>\n",
              "      <td>Southampton</td>\n",
              "      <td>no</td>\n",
              "    </tr>\n",
              "    <tr>\n",
              "      <th>freq</th>\n",
              "      <td>577</td>\n",
              "      <td>644</td>\n",
              "      <td>537</td>\n",
              "      <td>644</td>\n",
              "      <td>549</td>\n",
              "    </tr>\n",
              "  </tbody>\n",
              "</table>\n",
              "</div>"
            ],
            "text/plain": [
              "         sex embarked  who  embark_town alive\n",
              "count    891      889  891          889   891\n",
              "unique     2        3    3            3     2\n",
              "top     male        S  man  Southampton    no\n",
              "freq     577      644  537          644   549"
            ]
          },
          "metadata": {},
          "execution_count": 33
        }
      ]
    },
    {
      "cell_type": "code",
      "metadata": {
        "colab": {
          "base_uri": "https://localhost:8080/",
          "height": 173
        },
        "id": "mfh5tUp2_t1d",
        "outputId": "05ac6252-a800-41f0-cbb2-85fdb7694fc9"
      },
      "source": [
        "grp = train.groupby(['pclass'])\n",
        "grp.count()"
      ],
      "execution_count": 34,
      "outputs": [
        {
          "output_type": "execute_result",
          "data": {
            "text/html": [
              "<div>\n",
              "<style scoped>\n",
              "    .dataframe tbody tr th:only-of-type {\n",
              "        vertical-align: middle;\n",
              "    }\n",
              "\n",
              "    .dataframe tbody tr th {\n",
              "        vertical-align: top;\n",
              "    }\n",
              "\n",
              "    .dataframe thead th {\n",
              "        text-align: right;\n",
              "    }\n",
              "</style>\n",
              "<table border=\"1\" class=\"dataframe\">\n",
              "  <thead>\n",
              "    <tr style=\"text-align: right;\">\n",
              "      <th></th>\n",
              "      <th>survived</th>\n",
              "      <th>sex</th>\n",
              "      <th>age</th>\n",
              "      <th>sibsp</th>\n",
              "      <th>parch</th>\n",
              "      <th>fare</th>\n",
              "      <th>embarked</th>\n",
              "      <th>class</th>\n",
              "      <th>who</th>\n",
              "      <th>adult_male</th>\n",
              "      <th>deck</th>\n",
              "      <th>embark_town</th>\n",
              "      <th>alive</th>\n",
              "      <th>alone</th>\n",
              "    </tr>\n",
              "    <tr>\n",
              "      <th>pclass</th>\n",
              "      <th></th>\n",
              "      <th></th>\n",
              "      <th></th>\n",
              "      <th></th>\n",
              "      <th></th>\n",
              "      <th></th>\n",
              "      <th></th>\n",
              "      <th></th>\n",
              "      <th></th>\n",
              "      <th></th>\n",
              "      <th></th>\n",
              "      <th></th>\n",
              "      <th></th>\n",
              "      <th></th>\n",
              "    </tr>\n",
              "  </thead>\n",
              "  <tbody>\n",
              "    <tr>\n",
              "      <th>1</th>\n",
              "      <td>216</td>\n",
              "      <td>216</td>\n",
              "      <td>186</td>\n",
              "      <td>216</td>\n",
              "      <td>216</td>\n",
              "      <td>216</td>\n",
              "      <td>214</td>\n",
              "      <td>216</td>\n",
              "      <td>216</td>\n",
              "      <td>216</td>\n",
              "      <td>175</td>\n",
              "      <td>214</td>\n",
              "      <td>216</td>\n",
              "      <td>216</td>\n",
              "    </tr>\n",
              "    <tr>\n",
              "      <th>2</th>\n",
              "      <td>184</td>\n",
              "      <td>184</td>\n",
              "      <td>173</td>\n",
              "      <td>184</td>\n",
              "      <td>184</td>\n",
              "      <td>184</td>\n",
              "      <td>184</td>\n",
              "      <td>184</td>\n",
              "      <td>184</td>\n",
              "      <td>184</td>\n",
              "      <td>16</td>\n",
              "      <td>184</td>\n",
              "      <td>184</td>\n",
              "      <td>184</td>\n",
              "    </tr>\n",
              "    <tr>\n",
              "      <th>3</th>\n",
              "      <td>491</td>\n",
              "      <td>491</td>\n",
              "      <td>355</td>\n",
              "      <td>491</td>\n",
              "      <td>491</td>\n",
              "      <td>491</td>\n",
              "      <td>491</td>\n",
              "      <td>491</td>\n",
              "      <td>491</td>\n",
              "      <td>491</td>\n",
              "      <td>12</td>\n",
              "      <td>491</td>\n",
              "      <td>491</td>\n",
              "      <td>491</td>\n",
              "    </tr>\n",
              "  </tbody>\n",
              "</table>\n",
              "</div>"
            ],
            "text/plain": [
              "        survived  sex  age  sibsp  ...  deck  embark_town  alive  alone\n",
              "pclass                             ...                                 \n",
              "1            216  216  186    216  ...   175          214    216    216\n",
              "2            184  184  173    184  ...    16          184    184    184\n",
              "3            491  491  355    491  ...    12          491    491    491\n",
              "\n",
              "[3 rows x 14 columns]"
            ]
          },
          "metadata": {},
          "execution_count": 34
        }
      ]
    },
    {
      "cell_type": "code",
      "metadata": {
        "colab": {
          "base_uri": "https://localhost:8080/",
          "height": 266
        },
        "id": "ZI-zF9vM_vts",
        "outputId": "142d21ad-14f3-41cd-cb25-45f793486be5"
      },
      "source": [
        "grp = train.groupby(['pclass', 'sex'])\n",
        "grp.count()"
      ],
      "execution_count": 35,
      "outputs": [
        {
          "output_type": "execute_result",
          "data": {
            "text/html": [
              "<div>\n",
              "<style scoped>\n",
              "    .dataframe tbody tr th:only-of-type {\n",
              "        vertical-align: middle;\n",
              "    }\n",
              "\n",
              "    .dataframe tbody tr th {\n",
              "        vertical-align: top;\n",
              "    }\n",
              "\n",
              "    .dataframe thead th {\n",
              "        text-align: right;\n",
              "    }\n",
              "</style>\n",
              "<table border=\"1\" class=\"dataframe\">\n",
              "  <thead>\n",
              "    <tr style=\"text-align: right;\">\n",
              "      <th></th>\n",
              "      <th></th>\n",
              "      <th>survived</th>\n",
              "      <th>age</th>\n",
              "      <th>sibsp</th>\n",
              "      <th>parch</th>\n",
              "      <th>fare</th>\n",
              "      <th>embarked</th>\n",
              "      <th>class</th>\n",
              "      <th>who</th>\n",
              "      <th>adult_male</th>\n",
              "      <th>deck</th>\n",
              "      <th>embark_town</th>\n",
              "      <th>alive</th>\n",
              "      <th>alone</th>\n",
              "    </tr>\n",
              "    <tr>\n",
              "      <th>pclass</th>\n",
              "      <th>sex</th>\n",
              "      <th></th>\n",
              "      <th></th>\n",
              "      <th></th>\n",
              "      <th></th>\n",
              "      <th></th>\n",
              "      <th></th>\n",
              "      <th></th>\n",
              "      <th></th>\n",
              "      <th></th>\n",
              "      <th></th>\n",
              "      <th></th>\n",
              "      <th></th>\n",
              "      <th></th>\n",
              "    </tr>\n",
              "  </thead>\n",
              "  <tbody>\n",
              "    <tr>\n",
              "      <th rowspan=\"2\" valign=\"top\">1</th>\n",
              "      <th>female</th>\n",
              "      <td>94</td>\n",
              "      <td>85</td>\n",
              "      <td>94</td>\n",
              "      <td>94</td>\n",
              "      <td>94</td>\n",
              "      <td>92</td>\n",
              "      <td>94</td>\n",
              "      <td>94</td>\n",
              "      <td>94</td>\n",
              "      <td>81</td>\n",
              "      <td>92</td>\n",
              "      <td>94</td>\n",
              "      <td>94</td>\n",
              "    </tr>\n",
              "    <tr>\n",
              "      <th>male</th>\n",
              "      <td>122</td>\n",
              "      <td>101</td>\n",
              "      <td>122</td>\n",
              "      <td>122</td>\n",
              "      <td>122</td>\n",
              "      <td>122</td>\n",
              "      <td>122</td>\n",
              "      <td>122</td>\n",
              "      <td>122</td>\n",
              "      <td>94</td>\n",
              "      <td>122</td>\n",
              "      <td>122</td>\n",
              "      <td>122</td>\n",
              "    </tr>\n",
              "    <tr>\n",
              "      <th rowspan=\"2\" valign=\"top\">2</th>\n",
              "      <th>female</th>\n",
              "      <td>76</td>\n",
              "      <td>74</td>\n",
              "      <td>76</td>\n",
              "      <td>76</td>\n",
              "      <td>76</td>\n",
              "      <td>76</td>\n",
              "      <td>76</td>\n",
              "      <td>76</td>\n",
              "      <td>76</td>\n",
              "      <td>10</td>\n",
              "      <td>76</td>\n",
              "      <td>76</td>\n",
              "      <td>76</td>\n",
              "    </tr>\n",
              "    <tr>\n",
              "      <th>male</th>\n",
              "      <td>108</td>\n",
              "      <td>99</td>\n",
              "      <td>108</td>\n",
              "      <td>108</td>\n",
              "      <td>108</td>\n",
              "      <td>108</td>\n",
              "      <td>108</td>\n",
              "      <td>108</td>\n",
              "      <td>108</td>\n",
              "      <td>6</td>\n",
              "      <td>108</td>\n",
              "      <td>108</td>\n",
              "      <td>108</td>\n",
              "    </tr>\n",
              "    <tr>\n",
              "      <th rowspan=\"2\" valign=\"top\">3</th>\n",
              "      <th>female</th>\n",
              "      <td>144</td>\n",
              "      <td>102</td>\n",
              "      <td>144</td>\n",
              "      <td>144</td>\n",
              "      <td>144</td>\n",
              "      <td>144</td>\n",
              "      <td>144</td>\n",
              "      <td>144</td>\n",
              "      <td>144</td>\n",
              "      <td>6</td>\n",
              "      <td>144</td>\n",
              "      <td>144</td>\n",
              "      <td>144</td>\n",
              "    </tr>\n",
              "    <tr>\n",
              "      <th>male</th>\n",
              "      <td>347</td>\n",
              "      <td>253</td>\n",
              "      <td>347</td>\n",
              "      <td>347</td>\n",
              "      <td>347</td>\n",
              "      <td>347</td>\n",
              "      <td>347</td>\n",
              "      <td>347</td>\n",
              "      <td>347</td>\n",
              "      <td>6</td>\n",
              "      <td>347</td>\n",
              "      <td>347</td>\n",
              "      <td>347</td>\n",
              "    </tr>\n",
              "  </tbody>\n",
              "</table>\n",
              "</div>"
            ],
            "text/plain": [
              "               survived  age  sibsp  parch  ...  deck  embark_town  alive  alone\n",
              "pclass sex                                  ...                                 \n",
              "1      female        94   85     94     94  ...    81           92     94     94\n",
              "       male         122  101    122    122  ...    94          122    122    122\n",
              "2      female        76   74     76     76  ...    10           76     76     76\n",
              "       male         108   99    108    108  ...     6          108    108    108\n",
              "3      female       144  102    144    144  ...     6          144    144    144\n",
              "       male         347  253    347    347  ...     6          347    347    347\n",
              "\n",
              "[6 rows x 13 columns]"
            ]
          },
          "metadata": {},
          "execution_count": 35
        }
      ]
    },
    {
      "cell_type": "code",
      "metadata": {
        "colab": {
          "base_uri": "https://localhost:8080/"
        },
        "id": "3225FWPe_8lK",
        "outputId": "8e279d10-f45f-4154-9a64-479f5b483a6d"
      },
      "source": [
        "grp = train.groupby(['pclass', 'sex'], as_index=False)\n",
        "grp.mean()['survived']"
      ],
      "execution_count": 36,
      "outputs": [
        {
          "output_type": "execute_result",
          "data": {
            "text/plain": [
              "0    0.968085\n",
              "1    0.368852\n",
              "2    0.921053\n",
              "3    0.157407\n",
              "4    0.500000\n",
              "5    0.135447\n",
              "Name: survived, dtype: float64"
            ]
          },
          "metadata": {},
          "execution_count": 36
        }
      ]
    },
    {
      "cell_type": "code",
      "metadata": {
        "colab": {
          "base_uri": "https://localhost:8080/",
          "height": 419
        },
        "id": "ep04Y80bATNc",
        "outputId": "152dfb8d-4e9a-4f29-e160-16e8bae4f2ff"
      },
      "source": [
        "train_df = train.drop(['deck', 'embark_town'], axis=1)\n",
        "train_df"
      ],
      "execution_count": 37,
      "outputs": [
        {
          "output_type": "execute_result",
          "data": {
            "text/html": [
              "<div>\n",
              "<style scoped>\n",
              "    .dataframe tbody tr th:only-of-type {\n",
              "        vertical-align: middle;\n",
              "    }\n",
              "\n",
              "    .dataframe tbody tr th {\n",
              "        vertical-align: top;\n",
              "    }\n",
              "\n",
              "    .dataframe thead th {\n",
              "        text-align: right;\n",
              "    }\n",
              "</style>\n",
              "<table border=\"1\" class=\"dataframe\">\n",
              "  <thead>\n",
              "    <tr style=\"text-align: right;\">\n",
              "      <th></th>\n",
              "      <th>survived</th>\n",
              "      <th>pclass</th>\n",
              "      <th>sex</th>\n",
              "      <th>age</th>\n",
              "      <th>sibsp</th>\n",
              "      <th>parch</th>\n",
              "      <th>fare</th>\n",
              "      <th>embarked</th>\n",
              "      <th>class</th>\n",
              "      <th>who</th>\n",
              "      <th>adult_male</th>\n",
              "      <th>alive</th>\n",
              "      <th>alone</th>\n",
              "    </tr>\n",
              "  </thead>\n",
              "  <tbody>\n",
              "    <tr>\n",
              "      <th>0</th>\n",
              "      <td>0</td>\n",
              "      <td>3</td>\n",
              "      <td>male</td>\n",
              "      <td>22.0</td>\n",
              "      <td>1</td>\n",
              "      <td>0</td>\n",
              "      <td>7.2500</td>\n",
              "      <td>S</td>\n",
              "      <td>Third</td>\n",
              "      <td>man</td>\n",
              "      <td>True</td>\n",
              "      <td>no</td>\n",
              "      <td>False</td>\n",
              "    </tr>\n",
              "    <tr>\n",
              "      <th>1</th>\n",
              "      <td>1</td>\n",
              "      <td>1</td>\n",
              "      <td>female</td>\n",
              "      <td>38.0</td>\n",
              "      <td>1</td>\n",
              "      <td>0</td>\n",
              "      <td>71.2833</td>\n",
              "      <td>C</td>\n",
              "      <td>First</td>\n",
              "      <td>woman</td>\n",
              "      <td>False</td>\n",
              "      <td>yes</td>\n",
              "      <td>False</td>\n",
              "    </tr>\n",
              "    <tr>\n",
              "      <th>2</th>\n",
              "      <td>1</td>\n",
              "      <td>3</td>\n",
              "      <td>female</td>\n",
              "      <td>26.0</td>\n",
              "      <td>0</td>\n",
              "      <td>0</td>\n",
              "      <td>7.9250</td>\n",
              "      <td>S</td>\n",
              "      <td>Third</td>\n",
              "      <td>woman</td>\n",
              "      <td>False</td>\n",
              "      <td>yes</td>\n",
              "      <td>True</td>\n",
              "    </tr>\n",
              "    <tr>\n",
              "      <th>3</th>\n",
              "      <td>1</td>\n",
              "      <td>1</td>\n",
              "      <td>female</td>\n",
              "      <td>35.0</td>\n",
              "      <td>1</td>\n",
              "      <td>0</td>\n",
              "      <td>53.1000</td>\n",
              "      <td>S</td>\n",
              "      <td>First</td>\n",
              "      <td>woman</td>\n",
              "      <td>False</td>\n",
              "      <td>yes</td>\n",
              "      <td>False</td>\n",
              "    </tr>\n",
              "    <tr>\n",
              "      <th>4</th>\n",
              "      <td>0</td>\n",
              "      <td>3</td>\n",
              "      <td>male</td>\n",
              "      <td>35.0</td>\n",
              "      <td>0</td>\n",
              "      <td>0</td>\n",
              "      <td>8.0500</td>\n",
              "      <td>S</td>\n",
              "      <td>Third</td>\n",
              "      <td>man</td>\n",
              "      <td>True</td>\n",
              "      <td>no</td>\n",
              "      <td>True</td>\n",
              "    </tr>\n",
              "    <tr>\n",
              "      <th>...</th>\n",
              "      <td>...</td>\n",
              "      <td>...</td>\n",
              "      <td>...</td>\n",
              "      <td>...</td>\n",
              "      <td>...</td>\n",
              "      <td>...</td>\n",
              "      <td>...</td>\n",
              "      <td>...</td>\n",
              "      <td>...</td>\n",
              "      <td>...</td>\n",
              "      <td>...</td>\n",
              "      <td>...</td>\n",
              "      <td>...</td>\n",
              "    </tr>\n",
              "    <tr>\n",
              "      <th>886</th>\n",
              "      <td>0</td>\n",
              "      <td>2</td>\n",
              "      <td>male</td>\n",
              "      <td>27.0</td>\n",
              "      <td>0</td>\n",
              "      <td>0</td>\n",
              "      <td>13.0000</td>\n",
              "      <td>S</td>\n",
              "      <td>Second</td>\n",
              "      <td>man</td>\n",
              "      <td>True</td>\n",
              "      <td>no</td>\n",
              "      <td>True</td>\n",
              "    </tr>\n",
              "    <tr>\n",
              "      <th>887</th>\n",
              "      <td>1</td>\n",
              "      <td>1</td>\n",
              "      <td>female</td>\n",
              "      <td>19.0</td>\n",
              "      <td>0</td>\n",
              "      <td>0</td>\n",
              "      <td>30.0000</td>\n",
              "      <td>S</td>\n",
              "      <td>First</td>\n",
              "      <td>woman</td>\n",
              "      <td>False</td>\n",
              "      <td>yes</td>\n",
              "      <td>True</td>\n",
              "    </tr>\n",
              "    <tr>\n",
              "      <th>888</th>\n",
              "      <td>0</td>\n",
              "      <td>3</td>\n",
              "      <td>female</td>\n",
              "      <td>NaN</td>\n",
              "      <td>1</td>\n",
              "      <td>2</td>\n",
              "      <td>23.4500</td>\n",
              "      <td>S</td>\n",
              "      <td>Third</td>\n",
              "      <td>woman</td>\n",
              "      <td>False</td>\n",
              "      <td>no</td>\n",
              "      <td>False</td>\n",
              "    </tr>\n",
              "    <tr>\n",
              "      <th>889</th>\n",
              "      <td>1</td>\n",
              "      <td>1</td>\n",
              "      <td>male</td>\n",
              "      <td>26.0</td>\n",
              "      <td>0</td>\n",
              "      <td>0</td>\n",
              "      <td>30.0000</td>\n",
              "      <td>C</td>\n",
              "      <td>First</td>\n",
              "      <td>man</td>\n",
              "      <td>True</td>\n",
              "      <td>yes</td>\n",
              "      <td>True</td>\n",
              "    </tr>\n",
              "    <tr>\n",
              "      <th>890</th>\n",
              "      <td>0</td>\n",
              "      <td>3</td>\n",
              "      <td>male</td>\n",
              "      <td>32.0</td>\n",
              "      <td>0</td>\n",
              "      <td>0</td>\n",
              "      <td>7.7500</td>\n",
              "      <td>Q</td>\n",
              "      <td>Third</td>\n",
              "      <td>man</td>\n",
              "      <td>True</td>\n",
              "      <td>no</td>\n",
              "      <td>True</td>\n",
              "    </tr>\n",
              "  </tbody>\n",
              "</table>\n",
              "<p>891 rows × 13 columns</p>\n",
              "</div>"
            ],
            "text/plain": [
              "     survived  pclass     sex   age  ...    who  adult_male  alive  alone\n",
              "0           0       3    male  22.0  ...    man        True     no  False\n",
              "1           1       1  female  38.0  ...  woman       False    yes  False\n",
              "2           1       3  female  26.0  ...  woman       False    yes   True\n",
              "3           1       1  female  35.0  ...  woman       False    yes  False\n",
              "4           0       3    male  35.0  ...    man        True     no   True\n",
              "..        ...     ...     ...   ...  ...    ...         ...    ...    ...\n",
              "886         0       2    male  27.0  ...    man        True     no   True\n",
              "887         1       1  female  19.0  ...  woman       False    yes   True\n",
              "888         0       3  female   NaN  ...  woman       False     no  False\n",
              "889         1       1    male  26.0  ...    man        True    yes   True\n",
              "890         0       3    male  32.0  ...    man        True     no   True\n",
              "\n",
              "[891 rows x 13 columns]"
            ]
          },
          "metadata": {},
          "execution_count": 37
        }
      ]
    },
    {
      "cell_type": "code",
      "metadata": {
        "colab": {
          "base_uri": "https://localhost:8080/",
          "height": 419
        },
        "id": "tVdWdPakBJJt",
        "outputId": "afc9ab34-2e2b-42ed-8f88-91ce31891135"
      },
      "source": [
        "train_df['embarked'] = train_df['embarked'].fillna('S')\n",
        "train_df['embarked'] = train_df['embarked'].map( {'S': 0, 'C': 1, 'Q': 2} ).astype(int)\n",
        "train_df"
      ],
      "execution_count": 38,
      "outputs": [
        {
          "output_type": "execute_result",
          "data": {
            "text/html": [
              "<div>\n",
              "<style scoped>\n",
              "    .dataframe tbody tr th:only-of-type {\n",
              "        vertical-align: middle;\n",
              "    }\n",
              "\n",
              "    .dataframe tbody tr th {\n",
              "        vertical-align: top;\n",
              "    }\n",
              "\n",
              "    .dataframe thead th {\n",
              "        text-align: right;\n",
              "    }\n",
              "</style>\n",
              "<table border=\"1\" class=\"dataframe\">\n",
              "  <thead>\n",
              "    <tr style=\"text-align: right;\">\n",
              "      <th></th>\n",
              "      <th>survived</th>\n",
              "      <th>pclass</th>\n",
              "      <th>sex</th>\n",
              "      <th>age</th>\n",
              "      <th>sibsp</th>\n",
              "      <th>parch</th>\n",
              "      <th>fare</th>\n",
              "      <th>embarked</th>\n",
              "      <th>class</th>\n",
              "      <th>who</th>\n",
              "      <th>adult_male</th>\n",
              "      <th>alive</th>\n",
              "      <th>alone</th>\n",
              "    </tr>\n",
              "  </thead>\n",
              "  <tbody>\n",
              "    <tr>\n",
              "      <th>0</th>\n",
              "      <td>0</td>\n",
              "      <td>3</td>\n",
              "      <td>male</td>\n",
              "      <td>22.0</td>\n",
              "      <td>1</td>\n",
              "      <td>0</td>\n",
              "      <td>7.2500</td>\n",
              "      <td>0</td>\n",
              "      <td>Third</td>\n",
              "      <td>man</td>\n",
              "      <td>True</td>\n",
              "      <td>no</td>\n",
              "      <td>False</td>\n",
              "    </tr>\n",
              "    <tr>\n",
              "      <th>1</th>\n",
              "      <td>1</td>\n",
              "      <td>1</td>\n",
              "      <td>female</td>\n",
              "      <td>38.0</td>\n",
              "      <td>1</td>\n",
              "      <td>0</td>\n",
              "      <td>71.2833</td>\n",
              "      <td>1</td>\n",
              "      <td>First</td>\n",
              "      <td>woman</td>\n",
              "      <td>False</td>\n",
              "      <td>yes</td>\n",
              "      <td>False</td>\n",
              "    </tr>\n",
              "    <tr>\n",
              "      <th>2</th>\n",
              "      <td>1</td>\n",
              "      <td>3</td>\n",
              "      <td>female</td>\n",
              "      <td>26.0</td>\n",
              "      <td>0</td>\n",
              "      <td>0</td>\n",
              "      <td>7.9250</td>\n",
              "      <td>0</td>\n",
              "      <td>Third</td>\n",
              "      <td>woman</td>\n",
              "      <td>False</td>\n",
              "      <td>yes</td>\n",
              "      <td>True</td>\n",
              "    </tr>\n",
              "    <tr>\n",
              "      <th>3</th>\n",
              "      <td>1</td>\n",
              "      <td>1</td>\n",
              "      <td>female</td>\n",
              "      <td>35.0</td>\n",
              "      <td>1</td>\n",
              "      <td>0</td>\n",
              "      <td>53.1000</td>\n",
              "      <td>0</td>\n",
              "      <td>First</td>\n",
              "      <td>woman</td>\n",
              "      <td>False</td>\n",
              "      <td>yes</td>\n",
              "      <td>False</td>\n",
              "    </tr>\n",
              "    <tr>\n",
              "      <th>4</th>\n",
              "      <td>0</td>\n",
              "      <td>3</td>\n",
              "      <td>male</td>\n",
              "      <td>35.0</td>\n",
              "      <td>0</td>\n",
              "      <td>0</td>\n",
              "      <td>8.0500</td>\n",
              "      <td>0</td>\n",
              "      <td>Third</td>\n",
              "      <td>man</td>\n",
              "      <td>True</td>\n",
              "      <td>no</td>\n",
              "      <td>True</td>\n",
              "    </tr>\n",
              "    <tr>\n",
              "      <th>...</th>\n",
              "      <td>...</td>\n",
              "      <td>...</td>\n",
              "      <td>...</td>\n",
              "      <td>...</td>\n",
              "      <td>...</td>\n",
              "      <td>...</td>\n",
              "      <td>...</td>\n",
              "      <td>...</td>\n",
              "      <td>...</td>\n",
              "      <td>...</td>\n",
              "      <td>...</td>\n",
              "      <td>...</td>\n",
              "      <td>...</td>\n",
              "    </tr>\n",
              "    <tr>\n",
              "      <th>886</th>\n",
              "      <td>0</td>\n",
              "      <td>2</td>\n",
              "      <td>male</td>\n",
              "      <td>27.0</td>\n",
              "      <td>0</td>\n",
              "      <td>0</td>\n",
              "      <td>13.0000</td>\n",
              "      <td>0</td>\n",
              "      <td>Second</td>\n",
              "      <td>man</td>\n",
              "      <td>True</td>\n",
              "      <td>no</td>\n",
              "      <td>True</td>\n",
              "    </tr>\n",
              "    <tr>\n",
              "      <th>887</th>\n",
              "      <td>1</td>\n",
              "      <td>1</td>\n",
              "      <td>female</td>\n",
              "      <td>19.0</td>\n",
              "      <td>0</td>\n",
              "      <td>0</td>\n",
              "      <td>30.0000</td>\n",
              "      <td>0</td>\n",
              "      <td>First</td>\n",
              "      <td>woman</td>\n",
              "      <td>False</td>\n",
              "      <td>yes</td>\n",
              "      <td>True</td>\n",
              "    </tr>\n",
              "    <tr>\n",
              "      <th>888</th>\n",
              "      <td>0</td>\n",
              "      <td>3</td>\n",
              "      <td>female</td>\n",
              "      <td>NaN</td>\n",
              "      <td>1</td>\n",
              "      <td>2</td>\n",
              "      <td>23.4500</td>\n",
              "      <td>0</td>\n",
              "      <td>Third</td>\n",
              "      <td>woman</td>\n",
              "      <td>False</td>\n",
              "      <td>no</td>\n",
              "      <td>False</td>\n",
              "    </tr>\n",
              "    <tr>\n",
              "      <th>889</th>\n",
              "      <td>1</td>\n",
              "      <td>1</td>\n",
              "      <td>male</td>\n",
              "      <td>26.0</td>\n",
              "      <td>0</td>\n",
              "      <td>0</td>\n",
              "      <td>30.0000</td>\n",
              "      <td>1</td>\n",
              "      <td>First</td>\n",
              "      <td>man</td>\n",
              "      <td>True</td>\n",
              "      <td>yes</td>\n",
              "      <td>True</td>\n",
              "    </tr>\n",
              "    <tr>\n",
              "      <th>890</th>\n",
              "      <td>0</td>\n",
              "      <td>3</td>\n",
              "      <td>male</td>\n",
              "      <td>32.0</td>\n",
              "      <td>0</td>\n",
              "      <td>0</td>\n",
              "      <td>7.7500</td>\n",
              "      <td>2</td>\n",
              "      <td>Third</td>\n",
              "      <td>man</td>\n",
              "      <td>True</td>\n",
              "      <td>no</td>\n",
              "      <td>True</td>\n",
              "    </tr>\n",
              "  </tbody>\n",
              "</table>\n",
              "<p>891 rows × 13 columns</p>\n",
              "</div>"
            ],
            "text/plain": [
              "     survived  pclass     sex   age  ...    who  adult_male  alive  alone\n",
              "0           0       3    male  22.0  ...    man        True     no  False\n",
              "1           1       1  female  38.0  ...  woman       False    yes  False\n",
              "2           1       3  female  26.0  ...  woman       False    yes   True\n",
              "3           1       1  female  35.0  ...  woman       False    yes  False\n",
              "4           0       3    male  35.0  ...    man        True     no   True\n",
              "..        ...     ...     ...   ...  ...    ...         ...    ...    ...\n",
              "886         0       2    male  27.0  ...    man        True     no   True\n",
              "887         1       1  female  19.0  ...  woman       False    yes   True\n",
              "888         0       3  female   NaN  ...  woman       False     no  False\n",
              "889         1       1    male  26.0  ...    man        True    yes   True\n",
              "890         0       3    male  32.0  ...    man        True     no   True\n",
              "\n",
              "[891 rows x 13 columns]"
            ]
          },
          "metadata": {},
          "execution_count": 38
        }
      ]
    },
    {
      "cell_type": "code",
      "metadata": {
        "id": "GSDUY-BjBM7k"
      },
      "source": [
        ""
      ],
      "execution_count": null,
      "outputs": []
    }
  ]
}