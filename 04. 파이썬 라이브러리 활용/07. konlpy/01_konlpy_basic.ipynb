{
  "nbformat": 4,
  "nbformat_minor": 0,
  "metadata": {
    "colab": {
      "name": "01_konlpy_basic.ipynb",
      "provenance": [],
      "collapsed_sections": []
    },
    "kernelspec": {
      "name": "python3",
      "display_name": "Python 3"
    },
    "language_info": {
      "name": "python"
    }
  },
  "cells": [
    {
      "cell_type": "code",
      "metadata": {
        "colab": {
          "base_uri": "https://localhost:8080/"
        },
        "id": "941QnESZOr_8",
        "outputId": "4d88ec2f-7573-463e-8a57-8c196b3e8aab"
      },
      "source": [
        "!pip install konlpy"
      ],
      "execution_count": 2,
      "outputs": [
        {
          "output_type": "stream",
          "name": "stdout",
          "text": [
            "Collecting konlpy\n",
            "  Downloading konlpy-0.5.2-py2.py3-none-any.whl (19.4 MB)\n",
            "\u001b[K     |████████████████████████████████| 19.4 MB 1.3 MB/s \n",
            "\u001b[?25hCollecting JPype1>=0.7.0\n",
            "  Downloading JPype1-1.3.0-cp37-cp37m-manylinux_2_5_x86_64.manylinux1_x86_64.whl (448 kB)\n",
            "\u001b[K     |████████████████████████████████| 448 kB 37.4 MB/s \n",
            "\u001b[?25hRequirement already satisfied: lxml>=4.1.0 in /usr/local/lib/python3.7/dist-packages (from konlpy) (4.2.6)\n",
            "Collecting beautifulsoup4==4.6.0\n",
            "  Downloading beautifulsoup4-4.6.0-py3-none-any.whl (86 kB)\n",
            "\u001b[K     |████████████████████████████████| 86 kB 5.5 MB/s \n",
            "\u001b[?25hRequirement already satisfied: tweepy>=3.7.0 in /usr/local/lib/python3.7/dist-packages (from konlpy) (3.10.0)\n",
            "Collecting colorama\n",
            "  Downloading colorama-0.4.4-py2.py3-none-any.whl (16 kB)\n",
            "Requirement already satisfied: numpy>=1.6 in /usr/local/lib/python3.7/dist-packages (from konlpy) (1.19.5)\n",
            "Requirement already satisfied: typing-extensions in /usr/local/lib/python3.7/dist-packages (from JPype1>=0.7.0->konlpy) (3.7.4.3)\n",
            "Requirement already satisfied: six>=1.10.0 in /usr/local/lib/python3.7/dist-packages (from tweepy>=3.7.0->konlpy) (1.15.0)\n",
            "Requirement already satisfied: requests-oauthlib>=0.7.0 in /usr/local/lib/python3.7/dist-packages (from tweepy>=3.7.0->konlpy) (1.3.0)\n",
            "Requirement already satisfied: requests[socks]>=2.11.1 in /usr/local/lib/python3.7/dist-packages (from tweepy>=3.7.0->konlpy) (2.23.0)\n",
            "Requirement already satisfied: oauthlib>=3.0.0 in /usr/local/lib/python3.7/dist-packages (from requests-oauthlib>=0.7.0->tweepy>=3.7.0->konlpy) (3.1.1)\n",
            "Requirement already satisfied: certifi>=2017.4.17 in /usr/local/lib/python3.7/dist-packages (from requests[socks]>=2.11.1->tweepy>=3.7.0->konlpy) (2021.5.30)\n",
            "Requirement already satisfied: idna<3,>=2.5 in /usr/local/lib/python3.7/dist-packages (from requests[socks]>=2.11.1->tweepy>=3.7.0->konlpy) (2.10)\n",
            "Requirement already satisfied: chardet<4,>=3.0.2 in /usr/local/lib/python3.7/dist-packages (from requests[socks]>=2.11.1->tweepy>=3.7.0->konlpy) (3.0.4)\n",
            "Requirement already satisfied: urllib3!=1.25.0,!=1.25.1,<1.26,>=1.21.1 in /usr/local/lib/python3.7/dist-packages (from requests[socks]>=2.11.1->tweepy>=3.7.0->konlpy) (1.24.3)\n",
            "Requirement already satisfied: PySocks!=1.5.7,>=1.5.6 in /usr/local/lib/python3.7/dist-packages (from requests[socks]>=2.11.1->tweepy>=3.7.0->konlpy) (1.7.1)\n",
            "Installing collected packages: JPype1, colorama, beautifulsoup4, konlpy\n",
            "  Attempting uninstall: beautifulsoup4\n",
            "    Found existing installation: beautifulsoup4 4.6.3\n",
            "    Uninstalling beautifulsoup4-4.6.3:\n",
            "      Successfully uninstalled beautifulsoup4-4.6.3\n",
            "Successfully installed JPype1-1.3.0 beautifulsoup4-4.6.0 colorama-0.4.4 konlpy-0.5.2\n"
          ]
        }
      ]
    },
    {
      "cell_type": "code",
      "metadata": {
        "id": "h3EbUn0RC9Wu"
      },
      "source": [
        "import konlpy"
      ],
      "execution_count": 4,
      "outputs": []
    },
    {
      "cell_type": "code",
      "metadata": {
        "id": "qOx5GmPqPANg"
      },
      "source": [
        "### 문장 분석"
      ],
      "execution_count": 5,
      "outputs": []
    },
    {
      "cell_type": "code",
      "metadata": {
        "colab": {
          "base_uri": "https://localhost:8080/"
        },
        "id": "1J74nUOmJxiH",
        "outputId": "b8ccfab3-b9e0-4c49-9cd7-92ca6c19c452"
      },
      "source": [
        "from konlpy.tag import Kkma\n",
        "k = Kkma()\n",
        "k.sentences(\"안녕하세요! 오늘은 한글 분석을 시작합니다.\")"
      ],
      "execution_count": 7,
      "outputs": [
        {
          "output_type": "execute_result",
          "data": {
            "text/plain": [
              "['안녕하세요!', '오늘은 한글 분석을 시작합니다.']"
            ]
          },
          "metadata": {},
          "execution_count": 7
        }
      ]
    },
    {
      "cell_type": "code",
      "metadata": {
        "colab": {
          "base_uri": "https://localhost:8080/"
        },
        "id": "vqtUc7mcPUgr",
        "outputId": "d084d5f6-cd54-4459-e9bf-dc849db16fca"
      },
      "source": [
        "k.nouns(\"안녕하세요! 오늘은 한글 분석을 시작합니다.\")"
      ],
      "execution_count": 8,
      "outputs": [
        {
          "output_type": "execute_result",
          "data": {
            "text/plain": [
              "['안녕', '오늘', '한글', '분석']"
            ]
          },
          "metadata": {},
          "execution_count": 8
        }
      ]
    },
    {
      "cell_type": "code",
      "metadata": {
        "colab": {
          "base_uri": "https://localhost:8080/"
        },
        "id": "foHbYNXNPc52",
        "outputId": "b92d3718-75fc-4110-a138-208fc609fa70"
      },
      "source": [
        "from konlpy.tag import Kkma\n",
        "k = Kkma()\n",
        "k.pos(\"아버지가 방에 들어가신다.\")"
      ],
      "execution_count": 9,
      "outputs": [
        {
          "output_type": "execute_result",
          "data": {
            "text/plain": [
              "[('아버지', 'NNG'),\n",
              " ('가', 'JKS'),\n",
              " ('방', 'NNG'),\n",
              " ('에', 'JKM'),\n",
              " ('들어가', 'VV'),\n",
              " ('시', 'EPH'),\n",
              " ('ㄴ다', 'EFN'),\n",
              " ('.', 'SF')]"
            ]
          },
          "metadata": {},
          "execution_count": 9
        }
      ]
    },
    {
      "cell_type": "markdown",
      "metadata": {
        "id": "5pUhtfiYP8QE"
      },
      "source": [
        "### 여러가지 엔진 사용해보기\n",
        "* Hannanum\n",
        "* Okt(예전 - Twitter)\n",
        "* Kkma\n",
        "* Mecab\n",
        "* Komoran"
      ]
    },
    {
      "cell_type": "code",
      "metadata": {
        "colab": {
          "base_uri": "https://localhost:8080/"
        },
        "id": "xnl3iCTyPmWM",
        "outputId": "a727e14e-ca6c-48b1-9734-24b4c7778b38"
      },
      "source": [
        "from konlpy.tag import Hannanum\n",
        "hannanum = Hannanum()\n",
        "hannanum.pos(\"아버지가 방에 들어가신다.\")"
      ],
      "execution_count": 10,
      "outputs": [
        {
          "output_type": "execute_result",
          "data": {
            "text/plain": [
              "[('아버지', 'N'),\n",
              " ('가', 'J'),\n",
              " ('방', 'N'),\n",
              " ('에', 'J'),\n",
              " ('들', 'P'),\n",
              " ('어', 'E'),\n",
              " ('가', 'P'),\n",
              " ('시ㄴ다', 'E'),\n",
              " ('.', 'S')]"
            ]
          },
          "metadata": {},
          "execution_count": 10
        }
      ]
    },
    {
      "cell_type": "code",
      "metadata": {
        "colab": {
          "base_uri": "https://localhost:8080/"
        },
        "id": "fElfftU8Q-4c",
        "outputId": "4cb55293-a57f-4912-be31-c481b845df17"
      },
      "source": [
        "from konlpy.tag import Kkma\n",
        "k = Kkma()\n",
        "k.pos(\"아버지가 방에 들어가신다.\")"
      ],
      "execution_count": 11,
      "outputs": [
        {
          "output_type": "execute_result",
          "data": {
            "text/plain": [
              "[('아버지', 'NNG'),\n",
              " ('가', 'JKS'),\n",
              " ('방', 'NNG'),\n",
              " ('에', 'JKM'),\n",
              " ('들어가', 'VV'),\n",
              " ('시', 'EPH'),\n",
              " ('ㄴ다', 'EFN'),\n",
              " ('.', 'SF')]"
            ]
          },
          "metadata": {},
          "execution_count": 11
        }
      ]
    },
    {
      "cell_type": "code",
      "metadata": {
        "colab": {
          "base_uri": "https://localhost:8080/"
        },
        "id": "dAnf-8eQRB_R",
        "outputId": "ba410697-51eb-4728-dcb2-266fc79e562f"
      },
      "source": [
        "from konlpy.tag import Komoran\n",
        "k = Komoran()\n",
        "k.pos(\"아버지가 방에 들어가신다.\")"
      ],
      "execution_count": 12,
      "outputs": [
        {
          "output_type": "execute_result",
          "data": {
            "text/plain": [
              "[('아버지', 'NNG'),\n",
              " ('가', 'JKS'),\n",
              " ('방', 'NNG'),\n",
              " ('에', 'JKB'),\n",
              " ('들어가', 'VV'),\n",
              " ('시', 'EP'),\n",
              " ('ㄴ다', 'EF'),\n",
              " ('.', 'SF')]"
            ]
          },
          "metadata": {},
          "execution_count": 12
        }
      ]
    },
    {
      "cell_type": "code",
      "metadata": {
        "colab": {
          "base_uri": "https://localhost:8080/"
        },
        "id": "jAx686qmRF-K",
        "outputId": "14ac6280-5a1e-4158-cee2-8c18c0b5f336"
      },
      "source": [
        "from konlpy.tag import Okt\n",
        "okt = Okt()\n",
        "okt.pos(\"아버지가 방에 들어가신다.\")"
      ],
      "execution_count": 13,
      "outputs": [
        {
          "output_type": "execute_result",
          "data": {
            "text/plain": [
              "[('아버지', 'Noun'),\n",
              " ('가', 'Josa'),\n",
              " ('방', 'Noun'),\n",
              " ('에', 'Josa'),\n",
              " ('들어가신다', 'Verb'),\n",
              " ('.', 'Punctuation')]"
            ]
          },
          "metadata": {},
          "execution_count": 13
        }
      ]
    },
    {
      "cell_type": "markdown",
      "metadata": {
        "id": "PLlISyoPRRr3"
      },
      "source": [
        "### 말뭉치(corpus) 사용\n",
        "* kolaw : 한국 법률 말뭉치 : constitution.txt\n",
        "* kobill : 대한민국 국회 의안 말뭉치. 파일 ID는 의안 번호를 의미\n",
        "  * 1809890.txt ~ 1809899.txt"
      ]
    },
    {
      "cell_type": "code",
      "metadata": {
        "colab": {
          "base_uri": "https://localhost:8080/"
        },
        "id": "UfxIj4cNROFn",
        "outputId": "1ae6dd25-0da9-406d-d517-5c65a2673235"
      },
      "source": [
        "from konlpy.corpus import kolaw\n",
        "c = kolaw.open('constitution.txt').read()\n",
        "print( c[:15])"
      ],
      "execution_count": 14,
      "outputs": [
        {
          "output_type": "stream",
          "name": "stdout",
          "text": [
            "대한민국헌법\n",
            "\n",
            "유구한 역사와\n"
          ]
        }
      ]
    },
    {
      "cell_type": "code",
      "metadata": {
        "colab": {
          "base_uri": "https://localhost:8080/"
        },
        "id": "DKuxz5pvRiXa",
        "outputId": "c315f426-6b93-4357-c35a-7bae7d638a73"
      },
      "source": [
        "from konlpy.corpus import kobill\n",
        "d = kobill.open('1809890.txt').read()\n",
        "print( d[:20])"
      ],
      "execution_count": 15,
      "outputs": [
        {
          "output_type": "stream",
          "name": "stdout",
          "text": [
            "지방공무원법 일부개정법률안\n",
            "\n",
            "(정의화\n"
          ]
        }
      ]
    },
    {
      "cell_type": "code",
      "metadata": {
        "id": "Zp8RDve2Rkgv"
      },
      "source": [
        ""
      ],
      "execution_count": null,
      "outputs": []
    }
  ]
}