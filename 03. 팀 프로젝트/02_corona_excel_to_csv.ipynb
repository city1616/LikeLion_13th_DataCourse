{
 "cells": [
  {
   "cell_type": "markdown",
   "id": "ca262214",
   "metadata": {},
   "source": [
    "### 코로나 데이터\n",
    "* 코로나 데이터 처리\n",
    "    * 기간 : 2020-01-20 ~ 2021-08-31\n",
    "* 데이터 프레임 생성\n",
    "    * 전체 데이터 프레임                    -> corona_df\n",
    "    * 주말 제거된 데이터 프레임(토, 일 제거)    -> corona_coin_df\n",
    "* 각각의 csv 파일 생성\n",
    "    * 전체 데이터           -> corona.csv        -> 코로나 vs 뉴스 상관관계 분석에 사용\n",
    "    * 주말 제거된 데이터      -> corona_coin.csv   -> 코로나 vs 주식, 코인 상관관계 분석에 사용"
   ]
  },
  {
   "cell_type": "code",
   "execution_count": 50,
   "id": "25e4dd58",
   "metadata": {},
   "outputs": [],
   "source": [
    "import pandas as pd\n",
    "from datetime import datetime"
   ]
  },
  {
   "cell_type": "code",
   "execution_count": 51,
   "id": "351fe77b",
   "metadata": {},
   "outputs": [
    {
     "data": {
      "text/html": [
       "<div>\n",
       "<style scoped>\n",
       "    .dataframe tbody tr th:only-of-type {\n",
       "        vertical-align: middle;\n",
       "    }\n",
       "\n",
       "    .dataframe tbody tr th {\n",
       "        vertical-align: top;\n",
       "    }\n",
       "\n",
       "    .dataframe thead th {\n",
       "        text-align: right;\n",
       "    }\n",
       "</style>\n",
       "<table border=\"1\" class=\"dataframe\">\n",
       "  <thead>\n",
       "    <tr style=\"text-align: right;\">\n",
       "      <th></th>\n",
       "      <th>Unnamed: 0</th>\n",
       "      <th>Unnamed: 1</th>\n",
       "      <th>Unnamed: 2</th>\n",
       "      <th>Unnamed: 3</th>\n",
       "      <th>Unnamed: 4</th>\n",
       "    </tr>\n",
       "  </thead>\n",
       "  <tbody>\n",
       "    <tr>\n",
       "      <th>0</th>\n",
       "      <td>NaN</td>\n",
       "      <td>NaN</td>\n",
       "      <td>NaN</td>\n",
       "      <td>NaN</td>\n",
       "      <td>NaN</td>\n",
       "    </tr>\n",
       "    <tr>\n",
       "      <th>1</th>\n",
       "      <td>NaN</td>\n",
       "      <td>NaN</td>\n",
       "      <td>NaN</td>\n",
       "      <td>NaN</td>\n",
       "      <td>NaN</td>\n",
       "    </tr>\n",
       "    <tr>\n",
       "      <th>2</th>\n",
       "      <td>NaN</td>\n",
       "      <td>NaN</td>\n",
       "      <td>NaN</td>\n",
       "      <td>NaN</td>\n",
       "      <td>NaN</td>\n",
       "    </tr>\n",
       "    <tr>\n",
       "      <th>3</th>\n",
       "      <td>일자</td>\n",
       "      <td>계(명)</td>\n",
       "      <td>국내발생(명)</td>\n",
       "      <td>해외유입(명)</td>\n",
       "      <td>사망(명)</td>\n",
       "    </tr>\n",
       "    <tr>\n",
       "      <th>4</th>\n",
       "      <td>누적(명)</td>\n",
       "      <td>305842</td>\n",
       "      <td>291457</td>\n",
       "      <td>14385</td>\n",
       "      <td>2463.5</td>\n",
       "    </tr>\n",
       "    <tr>\n",
       "      <th>5</th>\n",
       "      <td>2020-01-20 00:00:00</td>\n",
       "      <td>1</td>\n",
       "      <td>-</td>\n",
       "      <td>1</td>\n",
       "      <td>-</td>\n",
       "    </tr>\n",
       "  </tbody>\n",
       "</table>\n",
       "</div>"
      ],
      "text/plain": [
       "            Unnamed: 0 Unnamed: 1 Unnamed: 2 Unnamed: 3 Unnamed: 4\n",
       "0                  NaN        NaN        NaN        NaN        NaN\n",
       "1                  NaN        NaN        NaN        NaN        NaN\n",
       "2                  NaN        NaN        NaN        NaN        NaN\n",
       "3                   일자       계(명)    국내발생(명)    해외유입(명)      사망(명)\n",
       "4                누적(명)     305842     291457      14385     2463.5\n",
       "5  2020-01-20 00:00:00          1          -          1          -"
      ]
     },
     "execution_count": 51,
     "metadata": {},
     "output_type": "execute_result"
    }
   ],
   "source": [
    "xlsx = pd.read_excel(\"./EXCEL/코로나바이러스감염증-19_확진환자_발생현황_210928.xlsx\")\n",
    "xlsx.head(6)"
   ]
  },
  {
   "cell_type": "code",
   "execution_count": 52,
   "id": "708e85ae",
   "metadata": {},
   "outputs": [
    {
     "data": {
      "text/plain": [
       "(623, 5)"
      ]
     },
     "execution_count": 52,
     "metadata": {},
     "output_type": "execute_result"
    }
   ],
   "source": [
    "xlsx.shape"
   ]
  },
  {
   "cell_type": "code",
   "execution_count": 53,
   "id": "40b72174",
   "metadata": {},
   "outputs": [
    {
     "data": {
      "text/plain": [
       "Unnamed: 0    3\n",
       "Unnamed: 1    3\n",
       "Unnamed: 2    3\n",
       "Unnamed: 3    3\n",
       "Unnamed: 4    3\n",
       "dtype: int64"
      ]
     },
     "execution_count": 53,
     "metadata": {},
     "output_type": "execute_result"
    }
   ],
   "source": [
    "xlsx.isnull().sum()"
   ]
  },
  {
   "cell_type": "code",
   "execution_count": 54,
   "id": "35e752f5",
   "metadata": {},
   "outputs": [
    {
     "data": {
      "text/plain": [
       "Unnamed: 0         일자\n",
       "Unnamed: 1       계(명)\n",
       "Unnamed: 2    국내발생(명)\n",
       "Unnamed: 3    해외유입(명)\n",
       "Unnamed: 4      사망(명)\n",
       "Name: 3, dtype: object"
      ]
     },
     "execution_count": 54,
     "metadata": {},
     "output_type": "execute_result"
    }
   ],
   "source": [
    "xlsx.loc[3]"
   ]
  },
  {
   "cell_type": "code",
   "execution_count": 55,
   "id": "4bc73791",
   "metadata": {},
   "outputs": [
    {
     "name": "stdout",
     "output_type": "stream",
     "text": [
      "일자\n",
      "계(명)\n",
      "국내발생(명)\n",
      "해외유입(명)\n",
      "사망(명)\n"
     ]
    }
   ],
   "source": [
    "col = xlsx.loc[3]\n",
    "columns = []\n",
    "for i in col :\n",
    "    columns.append(i)\n",
    "    print(i)"
   ]
  },
  {
   "cell_type": "code",
   "execution_count": 59,
   "id": "6c23a50d",
   "metadata": {},
   "outputs": [
    {
     "data": {
      "text/html": [
       "<div>\n",
       "<style scoped>\n",
       "    .dataframe tbody tr th:only-of-type {\n",
       "        vertical-align: middle;\n",
       "    }\n",
       "\n",
       "    .dataframe tbody tr th {\n",
       "        vertical-align: top;\n",
       "    }\n",
       "\n",
       "    .dataframe thead th {\n",
       "        text-align: right;\n",
       "    }\n",
       "</style>\n",
       "<table border=\"1\" class=\"dataframe\">\n",
       "  <thead>\n",
       "    <tr style=\"text-align: right;\">\n",
       "      <th></th>\n",
       "      <th>일자</th>\n",
       "      <th>계(명)</th>\n",
       "      <th>국내발생(명)</th>\n",
       "      <th>해외유입(명)</th>\n",
       "      <th>사망(명)</th>\n",
       "    </tr>\n",
       "  </thead>\n",
       "  <tbody>\n",
       "    <tr>\n",
       "      <th>0</th>\n",
       "      <td>NaN</td>\n",
       "      <td>NaN</td>\n",
       "      <td>NaN</td>\n",
       "      <td>NaN</td>\n",
       "      <td>NaN</td>\n",
       "    </tr>\n",
       "    <tr>\n",
       "      <th>1</th>\n",
       "      <td>NaN</td>\n",
       "      <td>NaN</td>\n",
       "      <td>NaN</td>\n",
       "      <td>NaN</td>\n",
       "      <td>NaN</td>\n",
       "    </tr>\n",
       "    <tr>\n",
       "      <th>2</th>\n",
       "      <td>NaN</td>\n",
       "      <td>NaN</td>\n",
       "      <td>NaN</td>\n",
       "      <td>NaN</td>\n",
       "      <td>NaN</td>\n",
       "    </tr>\n",
       "    <tr>\n",
       "      <th>3</th>\n",
       "      <td>일자</td>\n",
       "      <td>계(명)</td>\n",
       "      <td>국내발생(명)</td>\n",
       "      <td>해외유입(명)</td>\n",
       "      <td>사망(명)</td>\n",
       "    </tr>\n",
       "    <tr>\n",
       "      <th>4</th>\n",
       "      <td>누적(명)</td>\n",
       "      <td>305842</td>\n",
       "      <td>291457</td>\n",
       "      <td>14385</td>\n",
       "      <td>2463.5</td>\n",
       "    </tr>\n",
       "    <tr>\n",
       "      <th>5</th>\n",
       "      <td>2020-01-20 00:00:00</td>\n",
       "      <td>1</td>\n",
       "      <td>-</td>\n",
       "      <td>1</td>\n",
       "      <td>-</td>\n",
       "    </tr>\n",
       "  </tbody>\n",
       "</table>\n",
       "</div>"
      ],
      "text/plain": [
       "                    일자    계(명)  국내발생(명)  해외유입(명)   사망(명)\n",
       "0                  NaN     NaN      NaN      NaN     NaN\n",
       "1                  NaN     NaN      NaN      NaN     NaN\n",
       "2                  NaN     NaN      NaN      NaN     NaN\n",
       "3                   일자    계(명)  국내발생(명)  해외유입(명)   사망(명)\n",
       "4                누적(명)  305842   291457    14385  2463.5\n",
       "5  2020-01-20 00:00:00       1        -        1       -"
      ]
     },
     "execution_count": 59,
     "metadata": {},
     "output_type": "execute_result"
    }
   ],
   "source": [
    "xlsx.columns = columns\n",
    "xlsx.head(6)"
   ]
  },
  {
   "cell_type": "code",
   "execution_count": 60,
   "id": "72a38d64",
   "metadata": {},
   "outputs": [],
   "source": [
    "# 상단 3개 행 제거\n",
    "xlsx_tmp = xlsx.drop([0, 1, 2, 3, 4])"
   ]
  },
  {
   "cell_type": "code",
   "execution_count": 61,
   "id": "91753aa6",
   "metadata": {},
   "outputs": [
    {
     "data": {
      "text/html": [
       "<div>\n",
       "<style scoped>\n",
       "    .dataframe tbody tr th:only-of-type {\n",
       "        vertical-align: middle;\n",
       "    }\n",
       "\n",
       "    .dataframe tbody tr th {\n",
       "        vertical-align: top;\n",
       "    }\n",
       "\n",
       "    .dataframe thead th {\n",
       "        text-align: right;\n",
       "    }\n",
       "</style>\n",
       "<table border=\"1\" class=\"dataframe\">\n",
       "  <thead>\n",
       "    <tr style=\"text-align: right;\">\n",
       "      <th></th>\n",
       "      <th>일자</th>\n",
       "      <th>계(명)</th>\n",
       "      <th>국내발생(명)</th>\n",
       "      <th>해외유입(명)</th>\n",
       "      <th>사망(명)</th>\n",
       "    </tr>\n",
       "  </thead>\n",
       "  <tbody>\n",
       "    <tr>\n",
       "      <th>0</th>\n",
       "      <td>2020-01-20 00:00:00</td>\n",
       "      <td>1</td>\n",
       "      <td>-</td>\n",
       "      <td>1</td>\n",
       "      <td>-</td>\n",
       "    </tr>\n",
       "    <tr>\n",
       "      <th>1</th>\n",
       "      <td>2020-01-21 00:00:00</td>\n",
       "      <td>0</td>\n",
       "      <td>-</td>\n",
       "      <td>-</td>\n",
       "      <td>-</td>\n",
       "    </tr>\n",
       "    <tr>\n",
       "      <th>2</th>\n",
       "      <td>2020-01-22 00:00:00</td>\n",
       "      <td>0</td>\n",
       "      <td>-</td>\n",
       "      <td>-</td>\n",
       "      <td>-</td>\n",
       "    </tr>\n",
       "  </tbody>\n",
       "</table>\n",
       "</div>"
      ],
      "text/plain": [
       "                    일자 계(명) 국내발생(명) 해외유입(명) 사망(명)\n",
       "0  2020-01-20 00:00:00    1       -       1     -\n",
       "1  2020-01-21 00:00:00    0       -       -     -\n",
       "2  2020-01-22 00:00:00    0       -       -     -"
      ]
     },
     "execution_count": 61,
     "metadata": {},
     "output_type": "execute_result"
    }
   ],
   "source": [
    "xlsx_tmp.reset_index(drop = True, inplace = True)\n",
    "xlsx_tmp.head(3)"
   ]
  },
  {
   "cell_type": "code",
   "execution_count": 62,
   "id": "875bfb57",
   "metadata": {},
   "outputs": [
    {
     "name": "stdout",
     "output_type": "stream",
     "text": [
      "<class 'pandas.core.frame.DataFrame'>\n",
      "RangeIndex: 618 entries, 0 to 617\n",
      "Data columns (total 5 columns):\n",
      " #   Column   Non-Null Count  Dtype \n",
      "---  ------   --------------  ----- \n",
      " 0   일자       618 non-null    object\n",
      " 1   계(명)     618 non-null    object\n",
      " 2   국내발생(명)  618 non-null    object\n",
      " 3   해외유입(명)  618 non-null    object\n",
      " 4   사망(명)    618 non-null    object\n",
      "dtypes: object(5)\n",
      "memory usage: 24.3+ KB\n"
     ]
    }
   ],
   "source": [
    "xlsx_tmp.info()"
   ]
  },
  {
   "cell_type": "markdown",
   "id": "e81049b5",
   "metadata": {},
   "source": [
    "### 코로나 확진자 수 데이터 타입 변경"
   ]
  },
  {
   "cell_type": "code",
   "execution_count": 63,
   "id": "0eea532e",
   "metadata": {},
   "outputs": [
    {
     "name": "stderr",
     "output_type": "stream",
     "text": [
      "/var/folders/t9/yt46lj5s0lv1slvgpm05mrs00000gn/T/ipykernel_12353/4294553769.py:2: SettingWithCopyWarning: \n",
      "A value is trying to be set on a copy of a slice from a DataFrame.\n",
      "Try using .loc[row_indexer,col_indexer] = value instead\n",
      "\n",
      "See the caveats in the documentation: https://pandas.pydata.org/pandas-docs/stable/user_guide/indexing.html#returning-a-view-versus-a-copy\n",
      "  corona[\"계(명)\"] = corona[\"계(명)\"].astype(\"int\")\n"
     ]
    },
    {
     "data": {
      "text/html": [
       "<div>\n",
       "<style scoped>\n",
       "    .dataframe tbody tr th:only-of-type {\n",
       "        vertical-align: middle;\n",
       "    }\n",
       "\n",
       "    .dataframe tbody tr th {\n",
       "        vertical-align: top;\n",
       "    }\n",
       "\n",
       "    .dataframe thead th {\n",
       "        text-align: right;\n",
       "    }\n",
       "</style>\n",
       "<table border=\"1\" class=\"dataframe\">\n",
       "  <thead>\n",
       "    <tr style=\"text-align: right;\">\n",
       "      <th></th>\n",
       "      <th>일자</th>\n",
       "      <th>계(명)</th>\n",
       "    </tr>\n",
       "  </thead>\n",
       "  <tbody>\n",
       "    <tr>\n",
       "      <th>0</th>\n",
       "      <td>2020-01-20 00:00:00</td>\n",
       "      <td>1</td>\n",
       "    </tr>\n",
       "    <tr>\n",
       "      <th>1</th>\n",
       "      <td>2020-01-21 00:00:00</td>\n",
       "      <td>0</td>\n",
       "    </tr>\n",
       "    <tr>\n",
       "      <th>2</th>\n",
       "      <td>2020-01-22 00:00:00</td>\n",
       "      <td>0</td>\n",
       "    </tr>\n",
       "  </tbody>\n",
       "</table>\n",
       "</div>"
      ],
      "text/plain": [
       "                    일자  계(명)\n",
       "0  2020-01-20 00:00:00     1\n",
       "1  2020-01-21 00:00:00     0\n",
       "2  2020-01-22 00:00:00     0"
      ]
     },
     "execution_count": 63,
     "metadata": {},
     "output_type": "execute_result"
    }
   ],
   "source": [
    "corona = xlsx_tmp[[\"일자\", \"계(명)\"]]\n",
    "corona[\"계(명)\"] = corona[\"계(명)\"].astype(\"int\")\n",
    "corona.head(3)"
   ]
  },
  {
   "cell_type": "code",
   "execution_count": 64,
   "id": "4f8c5f75",
   "metadata": {},
   "outputs": [
    {
     "name": "stdout",
     "output_type": "stream",
     "text": [
      "<class 'pandas.core.frame.DataFrame'>\n",
      "RangeIndex: 618 entries, 0 to 617\n",
      "Data columns (total 2 columns):\n",
      " #   Column  Non-Null Count  Dtype \n",
      "---  ------  --------------  ----- \n",
      " 0   일자      618 non-null    object\n",
      " 1   계(명)    618 non-null    int64 \n",
      "dtypes: int64(1), object(1)\n",
      "memory usage: 9.8+ KB\n"
     ]
    }
   ],
   "source": [
    "corona.info()"
   ]
  },
  {
   "cell_type": "markdown",
   "id": "59d4a268",
   "metadata": {},
   "source": [
    "### 코로나 날짜 데이터 타입 변경"
   ]
  },
  {
   "cell_type": "code",
   "execution_count": 65,
   "id": "56b70981",
   "metadata": {},
   "outputs": [
    {
     "name": "stderr",
     "output_type": "stream",
     "text": [
      "/var/folders/t9/yt46lj5s0lv1slvgpm05mrs00000gn/T/ipykernel_12353/2267844618.py:1: SettingWithCopyWarning: \n",
      "A value is trying to be set on a copy of a slice from a DataFrame.\n",
      "Try using .loc[row_indexer,col_indexer] = value instead\n",
      "\n",
      "See the caveats in the documentation: https://pandas.pydata.org/pandas-docs/stable/user_guide/indexing.html#returning-a-view-versus-a-copy\n",
      "  corona[\"일자\"] = pd.to_datetime(corona[\"일자\"], unit = \"ns\")\n"
     ]
    }
   ],
   "source": [
    "corona[\"일자\"] = pd.to_datetime(corona[\"일자\"], unit = \"ns\")\n",
    "# corona[\"일자\"].apply(lambda _ : datetime.strptime(_, \"%Y-%m-%d %H:%M:%S\"))\n",
    "# corona_df[\"일자\"] = corona_df[\"일자\"].apply(lambda _ : datetime.strptime(_, \"%Y-%m-%d %H:%M:%S\"))"
   ]
  },
  {
   "cell_type": "code",
   "execution_count": 67,
   "id": "dd91f957",
   "metadata": {},
   "outputs": [
    {
     "name": "stdout",
     "output_type": "stream",
     "text": [
      "<class 'pandas.core.frame.DataFrame'>\n",
      "RangeIndex: 618 entries, 0 to 617\n",
      "Data columns (total 2 columns):\n",
      " #   Column  Non-Null Count  Dtype         \n",
      "---  ------  --------------  -----         \n",
      " 0   일자      618 non-null    datetime64[ns]\n",
      " 1   계(명)    618 non-null    int64         \n",
      "dtypes: datetime64[ns](1), int64(1)\n",
      "memory usage: 9.8 KB\n"
     ]
    }
   ],
   "source": [
    "corona.info()"
   ]
  },
  {
   "cell_type": "markdown",
   "id": "89a1aa74",
   "metadata": {},
   "source": [
    "### 날짜가 2021년 9월 1일 이전인 데이터만 추출\n",
    "* 2020년 1월 20일 ~ 2021년 8월 31일 데이터"
   ]
  },
  {
   "cell_type": "code",
   "execution_count": 69,
   "id": "420d7823",
   "metadata": {},
   "outputs": [
    {
     "name": "stdout",
     "output_type": "stream",
     "text": [
      "<class 'pandas.core.frame.DataFrame'>\n",
      "Int64Index: 590 entries, 0 to 589\n",
      "Data columns (total 2 columns):\n",
      " #   Column  Non-Null Count  Dtype         \n",
      "---  ------  --------------  -----         \n",
      " 0   일자      590 non-null    datetime64[ns]\n",
      " 1   계(명)    590 non-null    int64         \n",
      "dtypes: datetime64[ns](1), int64(1)\n",
      "memory usage: 13.8 KB\n"
     ]
    }
   ],
   "source": [
    "corona = corona.loc[corona[\"일자\"] < '2021-09-01', :]\n",
    "corona.info()"
   ]
  },
  {
   "cell_type": "code",
   "execution_count": 71,
   "id": "d33355d6",
   "metadata": {},
   "outputs": [
    {
     "data": {
      "text/html": [
       "<div>\n",
       "<style scoped>\n",
       "    .dataframe tbody tr th:only-of-type {\n",
       "        vertical-align: middle;\n",
       "    }\n",
       "\n",
       "    .dataframe tbody tr th {\n",
       "        vertical-align: top;\n",
       "    }\n",
       "\n",
       "    .dataframe thead th {\n",
       "        text-align: right;\n",
       "    }\n",
       "</style>\n",
       "<table border=\"1\" class=\"dataframe\">\n",
       "  <thead>\n",
       "    <tr style=\"text-align: right;\">\n",
       "      <th></th>\n",
       "      <th>일자</th>\n",
       "      <th>계(명)</th>\n",
       "    </tr>\n",
       "  </thead>\n",
       "  <tbody>\n",
       "    <tr>\n",
       "      <th>585</th>\n",
       "      <td>2021-08-27</td>\n",
       "      <td>1837</td>\n",
       "    </tr>\n",
       "    <tr>\n",
       "      <th>586</th>\n",
       "      <td>2021-08-28</td>\n",
       "      <td>1791</td>\n",
       "    </tr>\n",
       "    <tr>\n",
       "      <th>587</th>\n",
       "      <td>2021-08-29</td>\n",
       "      <td>1619</td>\n",
       "    </tr>\n",
       "    <tr>\n",
       "      <th>588</th>\n",
       "      <td>2021-08-30</td>\n",
       "      <td>1485</td>\n",
       "    </tr>\n",
       "    <tr>\n",
       "      <th>589</th>\n",
       "      <td>2021-08-31</td>\n",
       "      <td>1370</td>\n",
       "    </tr>\n",
       "  </tbody>\n",
       "</table>\n",
       "</div>"
      ],
      "text/plain": [
       "            일자  계(명)\n",
       "585 2021-08-27  1837\n",
       "586 2021-08-28  1791\n",
       "587 2021-08-29  1619\n",
       "588 2021-08-30  1485\n",
       "589 2021-08-31  1370"
      ]
     },
     "execution_count": 71,
     "metadata": {},
     "output_type": "execute_result"
    }
   ],
   "source": [
    "corona.tail()"
   ]
  },
  {
   "cell_type": "markdown",
   "id": "523a8b0e",
   "metadata": {},
   "source": [
    "### 주말 제거된 데이터 생성"
   ]
  },
  {
   "cell_type": "code",
   "execution_count": 72,
   "id": "19ce4116",
   "metadata": {},
   "outputs": [
    {
     "data": {
      "text/plain": [
       "'Sunday'"
      ]
     },
     "execution_count": 72,
     "metadata": {},
     "output_type": "execute_result"
    }
   ],
   "source": [
    "corona[\"일자\"][6].strftime(\"%A\")"
   ]
  },
  {
   "cell_type": "code",
   "execution_count": 73,
   "id": "a4bafc54",
   "metadata": {},
   "outputs": [
    {
     "data": {
      "text/plain": [
       "0         Monday\n",
       "1        Tuesday\n",
       "2      Wednesday\n",
       "3       Thursday\n",
       "4         Friday\n",
       "         ...    \n",
       "585       Friday\n",
       "586     Saturday\n",
       "587       Sunday\n",
       "588       Monday\n",
       "589      Tuesday\n",
       "Name: 일자, Length: 590, dtype: object"
      ]
     },
     "execution_count": 73,
     "metadata": {},
     "output_type": "execute_result"
    }
   ],
   "source": [
    "corona[\"일자\"].dt.strftime(\"%A\")"
   ]
  },
  {
   "cell_type": "code",
   "execution_count": 74,
   "id": "235c0a14",
   "metadata": {},
   "outputs": [
    {
     "data": {
      "text/plain": [
       "0      0\n",
       "1      1\n",
       "2      2\n",
       "3      3\n",
       "4      4\n",
       "      ..\n",
       "585    4\n",
       "586    5\n",
       "587    6\n",
       "588    0\n",
       "589    1\n",
       "Name: 일자, Length: 590, dtype: int64"
      ]
     },
     "execution_count": 74,
     "metadata": {},
     "output_type": "execute_result"
    }
   ],
   "source": [
    "corona[\"일자\"].dt.weekday # 0 : Monday, 6 : Sunday"
   ]
  },
  {
   "cell_type": "code",
   "execution_count": 75,
   "id": "fae0910d",
   "metadata": {},
   "outputs": [
    {
     "data": {
      "text/plain": [
       "(422, 2)"
      ]
     },
     "execution_count": 75,
     "metadata": {},
     "output_type": "execute_result"
    }
   ],
   "source": [
    "# 5(토요일) : 84, 6(일요일) : 84\n",
    "# 590 - 84 - 84 = 422\n",
    "corona_kospi = corona.loc[(corona[\"일자\"].dt.weekday != 5) & (corona[\"일자\"].dt.weekday != 6), :]\n",
    "corona_kospi.shape"
   ]
  },
  {
   "cell_type": "code",
   "execution_count": 76,
   "id": "bd685c05",
   "metadata": {},
   "outputs": [
    {
     "data": {
      "text/html": [
       "<div>\n",
       "<style scoped>\n",
       "    .dataframe tbody tr th:only-of-type {\n",
       "        vertical-align: middle;\n",
       "    }\n",
       "\n",
       "    .dataframe tbody tr th {\n",
       "        vertical-align: top;\n",
       "    }\n",
       "\n",
       "    .dataframe thead th {\n",
       "        text-align: right;\n",
       "    }\n",
       "</style>\n",
       "<table border=\"1\" class=\"dataframe\">\n",
       "  <thead>\n",
       "    <tr style=\"text-align: right;\">\n",
       "      <th></th>\n",
       "      <th>일자</th>\n",
       "      <th>계(명)</th>\n",
       "    </tr>\n",
       "  </thead>\n",
       "  <tbody>\n",
       "    <tr>\n",
       "      <th>417</th>\n",
       "      <td>2021-08-25</td>\n",
       "      <td>2154</td>\n",
       "    </tr>\n",
       "    <tr>\n",
       "      <th>418</th>\n",
       "      <td>2021-08-26</td>\n",
       "      <td>1882</td>\n",
       "    </tr>\n",
       "    <tr>\n",
       "      <th>419</th>\n",
       "      <td>2021-08-27</td>\n",
       "      <td>1837</td>\n",
       "    </tr>\n",
       "    <tr>\n",
       "      <th>420</th>\n",
       "      <td>2021-08-30</td>\n",
       "      <td>1485</td>\n",
       "    </tr>\n",
       "    <tr>\n",
       "      <th>421</th>\n",
       "      <td>2021-08-31</td>\n",
       "      <td>1370</td>\n",
       "    </tr>\n",
       "  </tbody>\n",
       "</table>\n",
       "</div>"
      ],
      "text/plain": [
       "            일자  계(명)\n",
       "417 2021-08-25  2154\n",
       "418 2021-08-26  1882\n",
       "419 2021-08-27  1837\n",
       "420 2021-08-30  1485\n",
       "421 2021-08-31  1370"
      ]
     },
     "execution_count": 76,
     "metadata": {},
     "output_type": "execute_result"
    }
   ],
   "source": [
    "corona_kospi.reset_index(drop = True, inplace = True)\n",
    "corona_kospi.tail()"
   ]
  },
  {
   "cell_type": "markdown",
   "id": "f857c370",
   "metadata": {},
   "source": [
    "### DataFrame"
   ]
  },
  {
   "cell_type": "code",
   "execution_count": 77,
   "id": "ba881677",
   "metadata": {},
   "outputs": [
    {
     "name": "stdout",
     "output_type": "stream",
     "text": [
      "corona shape : (590, 2)\n",
      "corona_kospi shape :  (422, 2)\n"
     ]
    }
   ],
   "source": [
    "print(\"corona shape :\", corona.shape)\n",
    "print(\"corona_kospi shape : \", corona_kospi.shape)"
   ]
  },
  {
   "cell_type": "code",
   "execution_count": 78,
   "id": "ea287a8e",
   "metadata": {},
   "outputs": [],
   "source": [
    "corona.to_csv(\"./CSV/01_corona.csv\", index = False)\n",
    "corona_kospi.to_csv(\"./CSV/02_corona_without_weekend.csv\", index = False)"
   ]
  },
  {
   "cell_type": "code",
   "execution_count": null,
   "id": "eb47ad37",
   "metadata": {},
   "outputs": [],
   "source": []
  }
 ],
 "metadata": {
  "kernelspec": {
   "display_name": "Python 3 (ipykernel)",
   "language": "python",
   "name": "python3"
  },
  "language_info": {
   "codemirror_mode": {
    "name": "ipython",
    "version": 3
   },
   "file_extension": ".py",
   "mimetype": "text/x-python",
   "name": "python",
   "nbconvert_exporter": "python",
   "pygments_lexer": "ipython3",
   "version": "3.8.8"
  }
 },
 "nbformat": 4,
 "nbformat_minor": 5
}
