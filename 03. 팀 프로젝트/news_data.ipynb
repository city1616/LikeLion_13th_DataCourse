{
 "cells": [
  {
   "cell_type": "markdown",
   "id": "2e0ed926",
   "metadata": {},
   "source": [
    "### 뉴스 데이터 수집 및 처리, csv 파일 생성"
   ]
  },
  {
   "cell_type": "code",
   "execution_count": 29,
   "id": "7c0c769f",
   "metadata": {},
   "outputs": [],
   "source": [
    "from selenium import webdriver\n",
    "from selenium.webdriver.common.keys import Keys\n",
    "import time"
   ]
  },
  {
   "cell_type": "code",
   "execution_count": 36,
   "id": "30d08e42",
   "metadata": {},
   "outputs": [],
   "source": [
    "url = \"https://www.bigkinds.or.kr/v2/news/index.do\"\n",
    "driver = webdriver.Chrome(\"./DATA/chromedriver\")\n",
    "driver.get(url)\n",
    "\n",
    "# implicitly wait\n",
    "# 10초로 설정하면 페이지가 로딩되는데 10초까지 기다린다.\n",
    "# 만약 페이지 로딩이 2초에 완료되었다면 더 기다리지 않고 다음 코드 실행한다.\n",
    "driver.implicitly_wait(10)\n",
    "\n",
    "# xpath\n",
    "# login_button : //*[@id=\"header\"]/div[1]/div/div[2]/button[1]\n",
    "# email_field : //*[@id=\"login-user-id\"]\n",
    "# password_field : //*[@id=\"login-user-password\"]\n",
    "# login_button2 : //*[@id=\"login-btn\"]\n",
    "# search_field : //*[@id=\"total-search-key\"]\n",
    "# corona_word : //*[@id=\"suggests-wrap\"]/li/button\n",
    "# date_tap : //*[@id=\"collapse-step-1-body\"]/div[3]/div/div[1]/div[1]/a\n",
    "# start_date : //*[@id=\"search-begin-date\"]\n",
    "# end_date : //*[@id=\"search-end-date\"]\n",
    "# search_button : //*[@id=\"search-foot-div\"]/div[2]/button[2]\n",
    "\n",
    "# 로그인 버튼 선택\n",
    "login_button = driver.find_element_by_xpath('//*[@id=\"header\"]/div[1]/div/div[2]/button[1]')\n",
    "login_button.click()\n",
    "time.sleep(1)\n",
    "\n",
    "# 이메일, 비밀번호 입력 후 로그인 버튼 선택\n",
    "email_field = driver.find_element_by_xpath('//*[@id=\"login-user-id\"]')\n",
    "password_field = driver.find_element_by_xpath('//*[@id=\"login-user-password\"]')\n",
    "login_button2 = driver.find_element_by_xpath('//*[@id=\"login-btn\"]')\n",
    "time.sleep(1)\n",
    "\n",
    "email_field.send_keys(\"city1616@naver.com\")\n",
    "password_field.send_keys(\"Seungwoo!32\")\n",
    "login_button2.click()\n",
    "time.sleep(1)\n",
    "\n",
    "# 뉴스 검색 입력창에 코로나 입력\n",
    "search_field = driver.find_element_by_xpath('//*[@id=\"total-search-key\"]')\n",
    "search_field.send_keys(\"코로나\")\n",
    "time.sleep(1)\n",
    "\n",
    "corona_word = driver.find_element_by_xpath('//*[@id=\"suggests-wrap\"]/li/button')\n",
    "corona_word.click()\n",
    "time.sleep(1)\n",
    "\n",
    "# 기간 탭 선택 후 가져올 기간 설정\n",
    "date_tap = driver.find_element_by_xpath('//*[@id=\"collapse-step-1-body\"]/div[3]/div/div[1]/div[1]/a')\n",
    "date_tap.click()\n",
    "\n",
    "start_date = driver.find_element_by_xpath('//*[@id=\"search-begin-date\"]')\n",
    "# start_date.clear()\n",
    "start_date.send_keys(Keys.BACKSPACE * 10)\n",
    "time.sleep(1)\n",
    "start_date.send_keys(\"20200120\")\n",
    "\n",
    "end_date = driver.find_element_by_xpath('//*[@id=\"search-end-date\"]')\n",
    "# end_date.clear()\n",
    "end_date.send_keys(Keys.BACKSPACE * 10)\n",
    "time.sleep(1)\n",
    "end_date.send_keys(\"20200121\")\n",
    "\n",
    "search_button = driver.find_element_by_xpath('//*[@id=\"search-foot-div\"]/div[2]/button[2]')\n",
    "search_button.click()\n",
    "\n"
   ]
  },
  {
   "cell_type": "code",
   "execution_count": null,
   "id": "c8aa9aad",
   "metadata": {},
   "outputs": [],
   "source": []
  }
 ],
 "metadata": {
  "kernelspec": {
   "display_name": "Python 3 (ipykernel)",
   "language": "python",
   "name": "python3"
  },
  "language_info": {
   "codemirror_mode": {
    "name": "ipython",
    "version": 3
   },
   "file_extension": ".py",
   "mimetype": "text/x-python",
   "name": "python",
   "nbconvert_exporter": "python",
   "pygments_lexer": "ipython3",
   "version": "3.8.8"
  }
 },
 "nbformat": 4,
 "nbformat_minor": 5
}
