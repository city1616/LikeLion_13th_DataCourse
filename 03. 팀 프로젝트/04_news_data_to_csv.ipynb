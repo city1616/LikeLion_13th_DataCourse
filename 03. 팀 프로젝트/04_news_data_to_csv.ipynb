{
 "cells": [
  {
   "cell_type": "markdown",
   "id": "3a98dd57",
   "metadata": {},
   "source": [
    "### 뉴스 데이터 xlsx to csv\n",
    "* 엑셀 파일의 뉴스 데이터를 모두 가져와 csv 파일로 저장"
   ]
  },
  {
   "cell_type": "code",
   "execution_count": 100,
   "id": "8ada4ddb",
   "metadata": {},
   "outputs": [],
   "source": [
    "import pandas as pd\n",
    "import datetime"
   ]
  },
  {
   "cell_type": "code",
   "execution_count": 101,
   "id": "5370c636",
   "metadata": {},
   "outputs": [],
   "source": [
    "# 일자 list 생성\n",
    "start = datetime.datetime.strptime(\"2020-01-20\", \"%Y-%m-%d\")\n",
    "end = datetime.datetime.strptime(\"2021-09-01\", \"%Y-%m-%d\")\n",
    "date_tmp = [start + datetime.timedelta(days = x) for x in range(0, (end-start).days)]\n",
    "date_list = []\n",
    "\n",
    "for date in date_tmp :\n",
    "    date_list.append(date.strftime(\"%Y%m%d\"))"
   ]
  },
  {
   "cell_type": "code",
   "execution_count": 102,
   "id": "78e4aa79",
   "metadata": {},
   "outputs": [],
   "source": [
    "# excel file name : NewsResult_20200120-20200121\n",
    "# skiprows = [0]\n",
    "# 1. 706\n",
    "# 2. 1191\n",
    "# 3. 848\n",
    "news_tmp = pd.read_excel(\"./EXCEL/NewsResult_20200120-20200121.xlsx\")\n",
    "pd.set_option(\"display.max_rows\", 100)"
   ]
  },
  {
   "cell_type": "code",
   "execution_count": 103,
   "id": "1e2aac6a",
   "metadata": {},
   "outputs": [
    {
     "data": {
      "text/plain": [
       "590"
      ]
     },
     "execution_count": 103,
     "metadata": {},
     "output_type": "execute_result"
    }
   ],
   "source": [
    "len(date_list)"
   ]
  },
  {
   "cell_type": "code",
   "execution_count": 104,
   "id": "fadd7b96",
   "metadata": {},
   "outputs": [
    {
     "name": "stdout",
     "output_type": "stream",
     "text": [
      "news_tmp shape : (706, 19)\n"
     ]
    }
   ],
   "source": [
    "print(\"news_tmp shape :\", news_tmp.shape)"
   ]
  },
  {
   "cell_type": "code",
   "execution_count": 105,
   "id": "bcb4bdcb",
   "metadata": {
    "scrolled": true
   },
   "outputs": [
    {
     "name": "stdout",
     "output_type": "stream",
     "text": [
      "col len : 19\n",
      "뉴스 식별자, 일자, 언론사, 기고자, 제목, 통합 분류1, 통합 분류2, 통합 분류3, 사건/사고 분류1, 사건/사고 분류2, 사건/사고 분류3, 인물, 위치, 기관, 키워드, 특성추출(가중치순 상위 50개), 본문, URL, 분석제외 여부, "
     ]
    }
   ],
   "source": [
    "col = news_tmp.columns\n",
    "print(\"col len :\", len(col))\n",
    "for i in col :\n",
    "    print(i, end = \", \")"
   ]
  },
  {
   "cell_type": "code",
   "execution_count": 106,
   "id": "33deb0f6",
   "metadata": {},
   "outputs": [
    {
     "name": "stdout",
     "output_type": "stream",
     "text": [
      "news_data shape : (705, 19)\n"
     ]
    }
   ],
   "source": [
    "news_data = news_tmp.iloc[1:, :]\n",
    "news_data.columns = col\n",
    "print(\"news_data shape :\", news_data.shape)"
   ]
  },
  {
   "cell_type": "code",
   "execution_count": 107,
   "id": "18d09717",
   "metadata": {},
   "outputs": [
    {
     "name": "stdout",
     "output_type": "stream",
     "text": [
      "1 data shape : (1190, 19)\n",
      "2 data shape : (847, 19)\n",
      "3 data shape : (1686, 19)\n",
      "4 data shape : (6107, 19)\n",
      "5 data shape : (6251, 19)\n",
      "6 data shape : (3446, 19)\n",
      "7 data shape : (8088, 19)\n",
      "8 data shape : (8047, 19)\n",
      "9 data shape : (4117, 19)\n",
      "10 data shape : (5139, 19)\n",
      "11 data shape : (6167, 19)\n",
      "12 data shape : (5214, 19)\n",
      "13 data shape : (2630, 19)\n",
      "14 data shape : (6241, 19)\n",
      "15 data shape : (8116, 19)\n",
      "16 data shape : (6978, 19)\n",
      "17 data shape : (10650, 19)\n",
      "18 data shape : (15268, 19)\n",
      "19 data shape : (14258, 19)\n",
      "20 data shape : (6380, 19)\n",
      "21 data shape : (15302, 19)\n",
      "22 data shape : (15041, 19)\n",
      "23 data shape : (7679, 19)\n",
      "24 data shape : (10608, 19)\n",
      "25 data shape : (15073, 19)\n",
      "26 data shape : (13174, 19)\n",
      "27 data shape : (5560, 19)\n",
      "28 data shape : (14937, 19)\n",
      "29 data shape : (15479, 19)\n",
      "30 data shape : (7393, 19)\n",
      "31 data shape : (11091, 19)\n",
      "32 data shape : (14666, 19)\n",
      "33 data shape : (12637, 19)\n",
      "34 data shape : (5717, 19)\n",
      "35 data shape : (14711, 19)\n",
      "36 data shape : (14700, 19)\n",
      "37 data shape : (6959, 19)\n",
      "38 data shape : (10343, 19)\n",
      "39 data shape : (13756, 19)\n",
      "40 data shape : (11645, 19)\n",
      "41 data shape : (4781, 19)\n",
      "42 data shape : (12237, 19)\n",
      "43 data shape : (9706, 19)\n",
      "44 data shape : (5603, 19)\n",
      "45 data shape : (9149, 19)\n",
      "46 data shape : (11758, 19)\n",
      "47 data shape : (10232, 19)\n",
      "48 data shape : (4031, 19)\n",
      "49 data shape : (11834, 19)\n",
      "50 data shape : (8005, 19)\n",
      "51 data shape : (3729, 19)\n",
      "52 data shape : (6043, 19)\n",
      "53 data shape : (9163, 19)\n",
      "54 data shape : (9953, 19)\n",
      "55 data shape : (4802, 19)\n",
      "56 data shape : (11846, 19)\n",
      "57 data shape : (11847, 19)\n",
      "58 data shape : (5731, 19)\n",
      "59 data shape : (7880, 19)\n",
      "60 data shape : (11065, 19)\n",
      "61 data shape : (8809, 19)\n",
      "62 data shape : (3783, 19)\n",
      "63 data shape : (9936, 19)\n",
      "64 data shape : (10619, 19)\n",
      "65 data shape : (4896, 19)\n",
      "66 data shape : (7389, 19)\n",
      "67 data shape : (9428, 19)\n",
      "68 data shape : (7832, 19)\n",
      "69 data shape : (3336, 19)\n",
      "70 data shape : (9393, 19)\n",
      "71 data shape : (9459, 19)\n",
      "72 data shape : (4361, 19)\n",
      "73 data shape : (6897, 19)\n",
      "74 data shape : (9173, 19)\n",
      "75 data shape : (7397, 19)\n",
      "76 data shape : (3233, 19)\n",
      "77 data shape : (8888, 19)\n",
      "78 data shape : (8824, 19)\n",
      "79 data shape : (4207, 19)\n",
      "80 data shape : (6466, 19)\n",
      "81 data shape : (9393, 19)\n",
      "82 data shape : (7738, 19)\n",
      "83 data shape : (3258, 19)\n",
      "84 data shape : (8676, 19)\n",
      "85 data shape : (8307, 19)\n",
      "86 data shape : (3495, 19)\n",
      "87 data shape : (5787, 19)\n",
      "88 data shape : (8009, 19)\n",
      "89 data shape : (7031, 19)\n",
      "90 data shape : (2687, 19)\n",
      "91 data shape : (7877, 19)\n",
      "92 data shape : (8207, 19)\n",
      "93 data shape : (3811, 19)\n",
      "94 data shape : (6036, 19)\n",
      "95 data shape : (7678, 19)\n",
      "96 data shape : (6925, 19)\n",
      "97 data shape : (2415, 19)\n",
      "98 data shape : (6609, 19)\n",
      "99 data shape : (6553, 19)\n",
      "100 data shape : (3067, 19)\n",
      "101 data shape : (4873, 19)\n",
      "102 data shape : (7339, 19)\n",
      "103 data shape : (7124, 19)\n",
      "104 data shape : (3029, 19)\n",
      "105 data shape : (8651, 19)\n",
      "106 data shape : (11521, 19)\n",
      "107 data shape : (6732, 19)\n",
      "108 data shape : (9134, 19)\n",
      "109 data shape : (11662, 19)\n",
      "110 data shape : (10056, 19)\n",
      "111 data shape : (4219, 19)\n",
      "112 data shape : (11567, 19)\n",
      "113 data shape : (10465, 19)\n",
      "114 data shape : (4921, 19)\n",
      "115 data shape : (7375, 19)\n",
      "116 data shape : (10350, 19)\n",
      "117 data shape : (9034, 19)\n",
      "118 data shape : (3187, 19)\n",
      "119 data shape : (9567, 19)\n",
      "120 data shape : (9701, 19)\n",
      "121 data shape : (4459, 19)\n",
      "122 data shape : (6780, 19)\n",
      "123 data shape : (10294, 19)\n",
      "124 data shape : (8726, 19)\n",
      "125 data shape : (2994, 19)\n",
      "126 data shape : (8245, 19)\n",
      "127 data shape : (2762, 19)\n",
      "128 data shape : (2321, 19)\n",
      "129 data shape : (6991, 19)\n",
      "130 data shape : (8926, 19)\n",
      "131 data shape : (5332, 19)\n",
      "132 data shape : (2761, 19)\n",
      "133 data shape : (8250, 19)\n",
      "134 data shape : (7838, 19)\n",
      "135 data shape : (3478, 19)\n",
      "136 data shape : (5883, 19)\n",
      "137 data shape : (7564, 19)\n",
      "138 data shape : (6367, 19)\n",
      "139 data shape : (2602, 19)\n",
      "140 data shape : (7838, 19)\n",
      "141 data shape : (8066, 19)\n",
      "142 data shape : (3451, 19)\n",
      "143 data shape : (5487, 19)\n",
      "144 data shape : (7062, 19)\n",
      "145 data shape : (5991, 19)\n",
      "146 data shape : (2440, 19)\n",
      "147 data shape : (7669, 19)\n",
      "148 data shape : (7992, 19)\n",
      "149 data shape : (3942, 19)\n",
      "150 data shape : (6431, 19)\n",
      "151 data shape : (8238, 19)\n",
      "152 data shape : (7406, 19)\n",
      "153 data shape : (3249, 19)\n",
      "154 data shape : (9297, 19)\n",
      "155 data shape : (9620, 19)\n",
      "156 data shape : (4813, 19)\n",
      "157 data shape : (6828, 19)\n",
      "158 data shape : (9485, 19)\n",
      "159 data shape : (8161, 19)\n",
      "160 data shape : (3320, 19)\n",
      "161 data shape : (9283, 19)\n",
      "162 data shape : (9210, 19)\n",
      "163 data shape : (4789, 19)\n",
      "164 data shape : (7843, 19)\n",
      "165 data shape : (10010, 19)\n",
      "166 data shape : (9048, 19)\n",
      "167 data shape : (4082, 19)\n",
      "168 data shape : (10881, 19)\n",
      "169 data shape : (9423, 19)\n",
      "170 data shape : (3572, 19)\n",
      "171 data shape : (7892, 19)\n",
      "172 data shape : (10604, 19)\n",
      "173 data shape : (6829, 19)\n",
      "174 data shape : (3559, 19)\n",
      "175 data shape : (10167, 19)\n",
      "176 data shape : (8819, 19)\n",
      "177 data shape : (4127, 19)\n",
      "178 data shape : (6965, 19)\n",
      "179 data shape : (9127, 19)\n",
      "180 data shape : (7663, 19)\n",
      "181 data shape : (2933, 19)\n",
      "182 data shape : (8626, 19)\n",
      "183 data shape : (8873, 19)\n",
      "184 data shape : (4052, 19)\n",
      "185 data shape : (6428, 19)\n",
      "186 data shape : (9379, 19)\n",
      "187 data shape : (8193, 19)\n",
      "188 data shape : (3026, 19)\n",
      "189 data shape : (8686, 19)\n",
      "190 data shape : (9190, 19)\n",
      "191 data shape : (3960, 19)\n",
      "192 data shape : (6406, 19)\n",
      "193 data shape : (8089, 19)\n",
      "194 data shape : (2596, 19)\n",
      "195 data shape : (2874, 19)\n",
      "196 data shape : (8015, 19)\n",
      "197 data shape : (7649, 19)\n",
      "198 data shape : (3645, 19)\n",
      "199 data shape : (5519, 19)\n",
      "200 data shape : (7766, 19)\n",
      "201 data shape : (7514, 19)\n",
      "202 data shape : (1615, 19)\n",
      "203 data shape : (5749, 19)\n",
      "204 data shape : (7332, 19)\n",
      "205 data shape : (3181, 19)\n",
      "206 data shape : (5353, 19)\n",
      "207 data shape : (6826, 19)\n",
      "208 data shape : (5454, 19)\n",
      "209 data shape : (2212, 19)\n",
      "210 data shape : (6335, 19)\n",
      "211 data shape : (6745, 19)\n",
      "212 data shape : (2931, 19)\n",
      "213 data shape : (4899, 19)\n",
      "214 data shape : (6606, 19)\n",
      "215 data shape : (5892, 19)\n",
      "216 data shape : (2222, 19)\n",
      "217 data shape : (6493, 19)\n",
      "218 data shape : (6990, 19)\n",
      "219 data shape : (3211, 19)\n",
      "220 data shape : (4799, 19)\n",
      "221 data shape : (7091, 19)\n",
      "222 data shape : (5576, 19)\n",
      "223 data shape : (2301, 19)\n",
      "224 data shape : (6946, 19)\n",
      "225 data shape : (6904, 19)\n",
      "226 data shape : (3284, 19)\n",
      "227 data shape : (5094, 19)\n",
      "228 data shape : (6943, 19)\n",
      "229 data shape : (5863, 19)\n",
      "230 data shape : (2394, 19)\n",
      "231 data shape : (6977, 19)\n",
      "232 data shape : (7217, 19)\n",
      "233 data shape : (3627, 19)\n",
      "234 data shape : (5175, 19)\n",
      "235 data shape : (5113, 19)\n",
      "236 data shape : (5760, 19)\n",
      "237 data shape : (2394, 19)\n",
      "238 data shape : (6673, 19)\n",
      "239 data shape : (6348, 19)\n",
      "240 data shape : (3040, 19)\n",
      "241 data shape : (4518, 19)\n",
      "242 data shape : (4391, 19)\n",
      "243 data shape : (5056, 19)\n",
      "244 data shape : (2408, 19)\n",
      "245 data shape : (6092, 19)\n",
      "246 data shape : (6268, 19)\n",
      "247 data shape : (2792, 19)\n",
      "248 data shape : (4363, 19)\n",
      "249 data shape : (6052, 19)\n",
      "250 data shape : (4995, 19)\n",
      "251 data shape : (1987, 19)\n",
      "252 data shape : (5500, 19)\n",
      "253 data shape : (5427, 19)\n",
      "254 data shape : (2667, 19)\n",
      "255 data shape : (4255, 19)\n",
      "256 data shape : (5681, 19)\n",
      "257 data shape : (4654, 19)\n",
      "258 data shape : (1891, 19)\n",
      "259 data shape : (5481, 19)\n",
      "260 data shape : (5561, 19)\n",
      "261 data shape : (2687, 19)\n",
      "262 data shape : (4046, 19)\n",
      "263 data shape : (5702, 19)\n",
      "264 data shape : (5163, 19)\n",
      "265 data shape : (1906, 19)\n",
      "266 data shape : (5697, 19)\n",
      "267 data shape : (6748, 19)\n",
      "268 data shape : (3624, 19)\n",
      "269 data shape : (5237, 19)\n",
      "270 data shape : (7390, 19)\n",
      "271 data shape : (6423, 19)\n",
      "272 data shape : (2743, 19)\n",
      "273 data shape : (7530, 19)\n",
      "274 data shape : (7080, 19)\n",
      "275 data shape : (3633, 19)\n",
      "276 data shape : (4719, 19)\n",
      "277 data shape : (6087, 19)\n",
      "278 data shape : (5535, 19)\n",
      "279 data shape : (2146, 19)\n",
      "280 data shape : (5793, 19)\n",
      "281 data shape : (5937, 19)\n",
      "282 data shape : (2972, 19)\n",
      "283 data shape : (4629, 19)\n",
      "284 data shape : (6684, 19)\n",
      "285 data shape : (5948, 19)\n",
      "286 data shape : (1772, 19)\n",
      "287 data shape : (4903, 19)\n",
      "288 data shape : (5645, 19)\n",
      "289 data shape : (2929, 19)\n",
      "290 data shape : (4423, 19)\n",
      "291 data shape : (5727, 19)\n",
      "292 data shape : (5438, 19)\n",
      "293 data shape : (2033, 19)\n",
      "294 data shape : (5802, 19)\n",
      "data shape : (1952789, 19)\n"
     ]
    }
   ],
   "source": [
    "# 2 ~ len(date_list)\n",
    "# result2 = pd.concat([df1,df2], ignore_index=True)\n",
    "# 705 + 1190 + 847 = 2742\n",
    "\n",
    "for i in range(2, len(date_list), 2) :\n",
    "    news_tmp = pd.read_excel(f\"./EXCEL/NewsResult_{date_list[i]}-{date_list[i + 1]}.xlsx\", skiprows = [0])\n",
    "    news_tmp.columns = col\n",
    "    news_data = pd.concat([news_data, news_tmp], ignore_index = True)\n",
    "    print(int(i / 2), \"data shape :\", news_tmp.shape)\n",
    "    #     print(\"data length :\", len(news_tmp))\n",
    "    \n",
    "# print(type(news_data))\n",
    "print(\"data shape :\", news_data.shape)"
   ]
  },
  {
   "cell_type": "code",
   "execution_count": 108,
   "id": "bdacefdf",
   "metadata": {
    "scrolled": true
   },
   "outputs": [
    {
     "data": {
      "text/plain": [
       "1952789"
      ]
     },
     "execution_count": 108,
     "metadata": {},
     "output_type": "execute_result"
    }
   ],
   "source": [
    "len(news_data)"
   ]
  },
  {
   "cell_type": "code",
   "execution_count": 109,
   "id": "2618ae99",
   "metadata": {},
   "outputs": [
    {
     "data": {
      "text/plain": [
       "Index(['뉴스 식별자', '일자', '언론사', '기고자', '제목', '통합 분류1', '통합 분류2', '통합 분류3',\n",
       "       '사건/사고 분류1', '사건/사고 분류2', '사건/사고 분류3', '인물', '위치', '기관', '키워드',\n",
       "       '특성추출(가중치순 상위 50개)', '본문', 'URL', '분석제외 여부'],\n",
       "      dtype='object')"
      ]
     },
     "execution_count": 109,
     "metadata": {},
     "output_type": "execute_result"
    }
   ],
   "source": [
    "news_data.columns"
   ]
  },
  {
   "cell_type": "code",
   "execution_count": 110,
   "id": "db3ee265",
   "metadata": {},
   "outputs": [
    {
     "data": {
      "text/html": [
       "<div>\n",
       "<style scoped>\n",
       "    .dataframe tbody tr th:only-of-type {\n",
       "        vertical-align: middle;\n",
       "    }\n",
       "\n",
       "    .dataframe tbody tr th {\n",
       "        vertical-align: top;\n",
       "    }\n",
       "\n",
       "    .dataframe thead th {\n",
       "        text-align: right;\n",
       "    }\n",
       "</style>\n",
       "<table border=\"1\" class=\"dataframe\">\n",
       "  <thead>\n",
       "    <tr style=\"text-align: right;\">\n",
       "      <th></th>\n",
       "      <th>일자</th>\n",
       "      <th>제목</th>\n",
       "      <th>키워드</th>\n",
       "      <th>특성추출(가중치순 상위 50개)</th>\n",
       "      <th>본문</th>\n",
       "    </tr>\n",
       "  </thead>\n",
       "  <tbody>\n",
       "    <tr>\n",
       "      <th>0</th>\n",
       "      <td>20200121</td>\n",
       "      <td>[사설] 중국발 '우한 폐렴' 공포, 우리나라도 안전지대 아니다</td>\n",
       "      <td>중국발,폐렴,공포,우리나라,안전지대,코로나바이러스,중국발,신종,일명,우한,武漢,폐렴...</td>\n",
       "      <td>중국,사망자,확진자,우리나라,중국인,춘제,희생자,한국,안전지대,중국발,방역당국,전염...</td>\n",
       "      <td>중국발 신종 코로나바이러스, 일명 '우한(武漢) 폐렴' 환자가 20일 국내에서 첫 ...</td>\n",
       "    </tr>\n",
       "    <tr>\n",
       "      <th>1</th>\n",
       "      <td>20200121</td>\n",
       "      <td>춘절 기간 中관광객 13만명 오는데 ‘우한 폐렴’ 공항 방역 비상</td>\n",
       "      <td>춘절,기간,관광객,13만,폐렴,비상,공항,방역,인천국제공항,전수조사,직행,노선,승객...</td>\n",
       "      <td>중국,우한시,인천공항,중국인,항공기,감염자,인천국제공항,관광객,이용객,불가능,방문자...</td>\n",
       "      <td>[인천국제공항 가보니]\\n우한 직행 노선 승객 대상 전수조사 이동경로 소독 횟수 늘...</td>\n",
       "    </tr>\n",
       "    <tr>\n",
       "      <th>2</th>\n",
       "      <td>20200121</td>\n",
       "      <td>우한 폐렴 1명이 14명 감염 사스급 전염병 우려</td>\n",
       "      <td>폐렴,감염,사스급,전염병,사람,전염,확인,6명,사망,확진,의료진,호주,필리핀,의심환...</td>\n",
       "      <td>중국,1명,사스,우한,광둥성,전염병,의료진,베이징,긴급회의,상하이,전문가,코로나바이...</td>\n",
       "      <td>사람 간 전염 확인 中 사망 6명, 의료진 15명 확진 \\n호주ㆍ필리핀서도 의심환자...</td>\n",
       "    </tr>\n",
       "  </tbody>\n",
       "</table>\n",
       "</div>"
      ],
      "text/plain": [
       "         일자                                    제목  \\\n",
       "0  20200121   [사설] 중국발 '우한 폐렴' 공포, 우리나라도 안전지대 아니다   \n",
       "1  20200121  춘절 기간 中관광객 13만명 오는데 ‘우한 폐렴’ 공항 방역 비상   \n",
       "2  20200121           우한 폐렴 1명이 14명 감염 사스급 전염병 우려   \n",
       "\n",
       "                                                 키워드  \\\n",
       "0  중국발,폐렴,공포,우리나라,안전지대,코로나바이러스,중국발,신종,일명,우한,武漢,폐렴...   \n",
       "1  춘절,기간,관광객,13만,폐렴,비상,공항,방역,인천국제공항,전수조사,직행,노선,승객...   \n",
       "2  폐렴,감염,사스급,전염병,사람,전염,확인,6명,사망,확진,의료진,호주,필리핀,의심환...   \n",
       "\n",
       "                                   특성추출(가중치순 상위 50개)  \\\n",
       "0  중국,사망자,확진자,우리나라,중국인,춘제,희생자,한국,안전지대,중국발,방역당국,전염...   \n",
       "1  중국,우한시,인천공항,중국인,항공기,감염자,인천국제공항,관광객,이용객,불가능,방문자...   \n",
       "2  중국,1명,사스,우한,광둥성,전염병,의료진,베이징,긴급회의,상하이,전문가,코로나바이...   \n",
       "\n",
       "                                                  본문  \n",
       "0  중국발 신종 코로나바이러스, 일명 '우한(武漢) 폐렴' 환자가 20일 국내에서 첫 ...  \n",
       "1  [인천국제공항 가보니]\\n우한 직행 노선 승객 대상 전수조사 이동경로 소독 횟수 늘...  \n",
       "2  사람 간 전염 확인 中 사망 6명, 의료진 15명 확진 \\n호주ㆍ필리핀서도 의심환자...  "
      ]
     },
     "execution_count": 110,
     "metadata": {},
     "output_type": "execute_result"
    }
   ],
   "source": [
    "res_col = [\"일자\", \"제목\", \"키워드\", \"특성추출(가중치순 상위 50개)\", \"본문\"]\n",
    "result_news_df = news_data[res_col].copy()\n",
    "result_news_df.head(3)"
   ]
  },
  {
   "cell_type": "code",
   "execution_count": 112,
   "id": "bb7ca42f",
   "metadata": {},
   "outputs": [
    {
     "data": {
      "text/html": [
       "<div>\n",
       "<style scoped>\n",
       "    .dataframe tbody tr th:only-of-type {\n",
       "        vertical-align: middle;\n",
       "    }\n",
       "\n",
       "    .dataframe tbody tr th {\n",
       "        vertical-align: top;\n",
       "    }\n",
       "\n",
       "    .dataframe thead th {\n",
       "        text-align: right;\n",
       "    }\n",
       "</style>\n",
       "<table border=\"1\" class=\"dataframe\">\n",
       "  <thead>\n",
       "    <tr style=\"text-align: right;\">\n",
       "      <th></th>\n",
       "      <th>일자</th>\n",
       "      <th>제목</th>\n",
       "    </tr>\n",
       "  </thead>\n",
       "  <tbody>\n",
       "    <tr>\n",
       "      <th>0</th>\n",
       "      <td>20200121</td>\n",
       "      <td>[사설] 중국발 '우한 폐렴' 공포, 우리나라도 안전지대 아니다</td>\n",
       "    </tr>\n",
       "    <tr>\n",
       "      <th>1</th>\n",
       "      <td>20200121</td>\n",
       "      <td>춘절 기간 中관광객 13만명 오는데 ‘우한 폐렴’ 공항 방역 비상</td>\n",
       "    </tr>\n",
       "    <tr>\n",
       "      <th>2</th>\n",
       "      <td>20200121</td>\n",
       "      <td>우한 폐렴 1명이 14명 감염 사스급 전염병 우려</td>\n",
       "    </tr>\n",
       "  </tbody>\n",
       "</table>\n",
       "</div>"
      ],
      "text/plain": [
       "         일자                                    제목\n",
       "0  20200121   [사설] 중국발 '우한 폐렴' 공포, 우리나라도 안전지대 아니다\n",
       "1  20200121  춘절 기간 中관광객 13만명 오는데 ‘우한 폐렴’ 공항 방역 비상\n",
       "2  20200121           우한 폐렴 1명이 14명 감염 사스급 전염병 우려"
      ]
     },
     "execution_count": 112,
     "metadata": {},
     "output_type": "execute_result"
    }
   ],
   "source": [
    "title_col = [\"일자\", \"제목\"]\n",
    "news_title_df = news_data[title_col].copy()\n",
    "news_title_df.head(3)"
   ]
  },
  {
   "cell_type": "markdown",
   "id": "139cc644",
   "metadata": {},
   "source": [
    "### 최종 데이터 프레임\n",
    "* news_data : 전체 데이터\n",
    "* result_news_df : 일자, 제목, 키워드, 특성추출, 본문 컬럼만 가지고 있는 데이터\n",
    "* news_title_df : 일자, 제목 컬럼만 가지고 있는 데이터"
   ]
  },
  {
   "cell_type": "code",
   "execution_count": 111,
   "id": "e8b84df9",
   "metadata": {},
   "outputs": [],
   "source": [
    "news_data.to_csv(\"./CSV/news_all_data.csv\")\n",
    "result_news_df.to_csv(\"./CSV/news_data_five_columns.csv\")"
   ]
  },
  {
   "cell_type": "code",
   "execution_count": 113,
   "id": "4bcbb1f1",
   "metadata": {},
   "outputs": [],
   "source": [
    "news_title_df.to_csv(\"./CSV/news_title.csv\")"
   ]
  },
  {
   "cell_type": "code",
   "execution_count": null,
   "id": "c7aed76e",
   "metadata": {},
   "outputs": [],
   "source": []
  }
 ],
 "metadata": {
  "kernelspec": {
   "display_name": "Python 3 (ipykernel)",
   "language": "python",
   "name": "python3"
  },
  "language_info": {
   "codemirror_mode": {
    "name": "ipython",
    "version": 3
   },
   "file_extension": ".py",
   "mimetype": "text/x-python",
   "name": "python",
   "nbconvert_exporter": "python",
   "pygments_lexer": "ipython3",
   "version": "3.8.8"
  }
 },
 "nbformat": 4,
 "nbformat_minor": 5
}
