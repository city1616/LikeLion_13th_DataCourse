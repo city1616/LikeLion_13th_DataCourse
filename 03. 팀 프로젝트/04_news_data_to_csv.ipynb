{
 "cells": [
  {
   "cell_type": "markdown",
   "id": "725db71f",
   "metadata": {},
   "source": [
    "### 뉴스 데이터 xlsx to csv\n",
    "* 엑셀 파일의 뉴스 데이터를 모두 가져와 csv 파일로 저장"
   ]
  },
  {
   "cell_type": "code",
   "execution_count": 7,
   "id": "8ada4ddb",
   "metadata": {},
   "outputs": [],
   "source": [
    "import pandas as pd\n",
    "import datetime"
   ]
  },
  {
   "cell_type": "code",
   "execution_count": 8,
   "id": "5370c636",
   "metadata": {},
   "outputs": [],
   "source": [
    "# 일자 list 생성\n",
    "start = datetime.datetime.strptime(\"2020-01-20\", \"%Y-%m-%d\")\n",
    "end = datetime.datetime.strptime(\"2021-09-01\", \"%Y-%m-%d\")\n",
    "date_tmp = [start + datetime.timedelta(days = x) for x in range(0, (end-start).days)]\n",
    "date_list = []\n",
    "\n",
    "for date in date_tmp :\n",
    "    date_list.append(date.strftime(\"%Y%m%d\"))"
   ]
  },
  {
   "cell_type": "code",
   "execution_count": 10,
   "id": "78e4aa79",
   "metadata": {},
   "outputs": [
    {
     "name": "stderr",
     "output_type": "stream",
     "text": [
      "/Users/seungwoomun/opt/anaconda3/envs/likelion/lib/python3.8/site-packages/openpyxl/styles/stylesheet.py:221: UserWarning: Workbook contains no default style, apply openpyxl's default\n",
      "  warn(\"Workbook contains no default style, apply openpyxl's default\")\n"
     ]
    }
   ],
   "source": [
    "# excel file name : NewsResult_20200120-20200121\n",
    "# skiprows = [0]\n",
    "# 1. 706\n",
    "# 2. 1191\n",
    "# 3. 848\n",
    "news_tmp = pd.read_excel(\"./EXCEL/news data/NewsResult_20200120-20200121.xlsx\")\n",
    "pd.set_option(\"display.max_rows\", 100)"
   ]
  },
  {
   "cell_type": "code",
   "execution_count": 11,
   "id": "1e2aac6a",
   "metadata": {},
   "outputs": [
    {
     "data": {
      "text/plain": [
       "590"
      ]
     },
     "execution_count": 11,
     "metadata": {},
     "output_type": "execute_result"
    }
   ],
   "source": [
    "len(date_list)"
   ]
  },
  {
   "cell_type": "code",
   "execution_count": 12,
   "id": "fadd7b96",
   "metadata": {},
   "outputs": [
    {
     "name": "stdout",
     "output_type": "stream",
     "text": [
      "news_tmp shape : (706, 19)\n"
     ]
    }
   ],
   "source": [
    "print(\"news_tmp shape :\", news_tmp.shape)"
   ]
  },
  {
   "cell_type": "code",
   "execution_count": 13,
   "id": "bcb4bdcb",
   "metadata": {
    "scrolled": true
   },
   "outputs": [
    {
     "name": "stdout",
     "output_type": "stream",
     "text": [
      "col len : 19\n",
      "뉴스 식별자, 일자, 언론사, 기고자, 제목, 통합 분류1, 통합 분류2, 통합 분류3, 사건/사고 분류1, 사건/사고 분류2, 사건/사고 분류3, 인물, 위치, 기관, 키워드, 특성추출(가중치순 상위 50개), 본문, URL, 분석제외 여부, "
     ]
    }
   ],
   "source": [
    "col = news_tmp.columns\n",
    "print(\"col len :\", len(col))\n",
    "for i in col :\n",
    "    print(i, end = \", \")"
   ]
  },
  {
   "cell_type": "code",
   "execution_count": 14,
   "id": "33deb0f6",
   "metadata": {},
   "outputs": [
    {
     "name": "stdout",
     "output_type": "stream",
     "text": [
      "news_data shape : (705, 19)\n"
     ]
    }
   ],
   "source": [
    "news_data = news_tmp.iloc[1:, :]\n",
    "news_data.columns = col\n",
    "print(\"news_data shape :\", news_data.shape)"
   ]
  },
  {
   "cell_type": "code",
   "execution_count": null,
   "id": "18d09717",
   "metadata": {},
   "outputs": [
    {
     "name": "stdout",
     "output_type": "stream",
     "text": [
      "1 data shape : (1190, 19)\n",
      "2 data shape : (847, 19)\n",
      "3 data shape : (1686, 19)\n",
      "4 data shape : (6107, 19)\n",
      "5 data shape : (6251, 19)\n",
      "6 data shape : (3446, 19)\n",
      "7 data shape : (8088, 19)\n",
      "8 data shape : (8047, 19)\n",
      "9 data shape : (4117, 19)\n",
      "10 data shape : (5139, 19)\n",
      "11 data shape : (6167, 19)\n",
      "12 data shape : (5214, 19)\n",
      "13 data shape : (2630, 19)\n",
      "14 data shape : (6241, 19)\n",
      "15 data shape : (8116, 19)\n",
      "16 data shape : (6978, 19)\n",
      "17 data shape : (10650, 19)\n",
      "18 data shape : (15268, 19)\n",
      "19 data shape : (14258, 19)\n",
      "20 data shape : (6380, 19)\n",
      "21 data shape : (15302, 19)\n",
      "22 data shape : (15041, 19)\n",
      "23 data shape : (7679, 19)\n",
      "24 data shape : (10608, 19)\n",
      "25 data shape : (15073, 19)\n",
      "26 data shape : (13174, 19)\n",
      "27 data shape : (5560, 19)\n"
     ]
    }
   ],
   "source": [
    "# 2 ~ len(date_list)\n",
    "# result2 = pd.concat([df1,df2], ignore_index=True)\n",
    "# 705 + 1190 + 847 = 2742\n",
    "\n",
    "for i in range(2, len(date_list), 2) :\n",
    "    news_tmp = pd.read_excel(f\"./EXCEL/news data/NewsResult_{date_list[i]}-{date_list[i + 1]}.xlsx\", skiprows = [0])\n",
    "    news_tmp.columns = col\n",
    "    news_data = pd.concat([news_data, news_tmp], ignore_index = True)\n",
    "    print(int(i / 2), \"data shape :\", news_tmp.shape)\n",
    "    #     print(\"data length :\", len(news_tmp))\n",
    "    \n",
    "# print(type(news_data))\n",
    "print(\"data shape :\", news_data.shape)"
   ]
  },
  {
   "cell_type": "code",
   "execution_count": 108,
   "id": "bdacefdf",
   "metadata": {
    "scrolled": true
   },
   "outputs": [
    {
     "data": {
      "text/plain": [
       "1952789"
      ]
     },
     "execution_count": 108,
     "metadata": {},
     "output_type": "execute_result"
    }
   ],
   "source": [
    "len(news_data)"
   ]
  },
  {
   "cell_type": "code",
   "execution_count": 109,
   "id": "2618ae99",
   "metadata": {},
   "outputs": [
    {
     "data": {
      "text/plain": [
       "Index(['뉴스 식별자', '일자', '언론사', '기고자', '제목', '통합 분류1', '통합 분류2', '통합 분류3',\n",
       "       '사건/사고 분류1', '사건/사고 분류2', '사건/사고 분류3', '인물', '위치', '기관', '키워드',\n",
       "       '특성추출(가중치순 상위 50개)', '본문', 'URL', '분석제외 여부'],\n",
       "      dtype='object')"
      ]
     },
     "execution_count": 109,
     "metadata": {},
     "output_type": "execute_result"
    }
   ],
   "source": [
    "news_data.columns"
   ]
  },
  {
   "cell_type": "code",
   "execution_count": 110,
   "id": "db3ee265",
   "metadata": {},
   "outputs": [
    {
     "data": {
      "text/html": [
       "<div>\n",
       "<style scoped>\n",
       "    .dataframe tbody tr th:only-of-type {\n",
       "        vertical-align: middle;\n",
       "    }\n",
       "\n",
       "    .dataframe tbody tr th {\n",
       "        vertical-align: top;\n",
       "    }\n",
       "\n",
       "    .dataframe thead th {\n",
       "        text-align: right;\n",
       "    }\n",
       "</style>\n",
       "<table border=\"1\" class=\"dataframe\">\n",
       "  <thead>\n",
       "    <tr style=\"text-align: right;\">\n",
       "      <th></th>\n",
       "      <th>일자</th>\n",
       "      <th>제목</th>\n",
       "      <th>키워드</th>\n",
       "      <th>특성추출(가중치순 상위 50개)</th>\n",
       "      <th>본문</th>\n",
       "    </tr>\n",
       "  </thead>\n",
       "  <tbody>\n",
       "    <tr>\n",
       "      <th>0</th>\n",
       "      <td>20200121</td>\n",
       "      <td>[사설] 중국발 '우한 폐렴' 공포, 우리나라도 안전지대 아니다</td>\n",
       "      <td>중국발,폐렴,공포,우리나라,안전지대,코로나바이러스,중국발,신종,일명,우한,武漢,폐렴...</td>\n",
       "      <td>중국,사망자,확진자,우리나라,중국인,춘제,희생자,한국,안전지대,중국발,방역당국,전염...</td>\n",
       "      <td>중국발 신종 코로나바이러스, 일명 '우한(武漢) 폐렴' 환자가 20일 국내에서 첫 ...</td>\n",
       "    </tr>\n",
       "    <tr>\n",
       "      <th>1</th>\n",
       "      <td>20200121</td>\n",
       "      <td>춘절 기간 中관광객 13만명 오는데 ‘우한 폐렴’ 공항 방역 비상</td>\n",
       "      <td>춘절,기간,관광객,13만,폐렴,비상,공항,방역,인천국제공항,전수조사,직행,노선,승객...</td>\n",
       "      <td>중국,우한시,인천공항,중국인,항공기,감염자,인천국제공항,관광객,이용객,불가능,방문자...</td>\n",
       "      <td>[인천국제공항 가보니]\\n우한 직행 노선 승객 대상 전수조사 이동경로 소독 횟수 늘...</td>\n",
       "    </tr>\n",
       "    <tr>\n",
       "      <th>2</th>\n",
       "      <td>20200121</td>\n",
       "      <td>우한 폐렴 1명이 14명 감염 사스급 전염병 우려</td>\n",
       "      <td>폐렴,감염,사스급,전염병,사람,전염,확인,6명,사망,확진,의료진,호주,필리핀,의심환...</td>\n",
       "      <td>중국,1명,사스,우한,광둥성,전염병,의료진,베이징,긴급회의,상하이,전문가,코로나바이...</td>\n",
       "      <td>사람 간 전염 확인 中 사망 6명, 의료진 15명 확진 \\n호주ㆍ필리핀서도 의심환자...</td>\n",
       "    </tr>\n",
       "  </tbody>\n",
       "</table>\n",
       "</div>"
      ],
      "text/plain": [
       "         일자                                    제목  \\\n",
       "0  20200121   [사설] 중국발 '우한 폐렴' 공포, 우리나라도 안전지대 아니다   \n",
       "1  20200121  춘절 기간 中관광객 13만명 오는데 ‘우한 폐렴’ 공항 방역 비상   \n",
       "2  20200121           우한 폐렴 1명이 14명 감염 사스급 전염병 우려   \n",
       "\n",
       "                                                 키워드  \\\n",
       "0  중국발,폐렴,공포,우리나라,안전지대,코로나바이러스,중국발,신종,일명,우한,武漢,폐렴...   \n",
       "1  춘절,기간,관광객,13만,폐렴,비상,공항,방역,인천국제공항,전수조사,직행,노선,승객...   \n",
       "2  폐렴,감염,사스급,전염병,사람,전염,확인,6명,사망,확진,의료진,호주,필리핀,의심환...   \n",
       "\n",
       "                                   특성추출(가중치순 상위 50개)  \\\n",
       "0  중국,사망자,확진자,우리나라,중국인,춘제,희생자,한국,안전지대,중국발,방역당국,전염...   \n",
       "1  중국,우한시,인천공항,중국인,항공기,감염자,인천국제공항,관광객,이용객,불가능,방문자...   \n",
       "2  중국,1명,사스,우한,광둥성,전염병,의료진,베이징,긴급회의,상하이,전문가,코로나바이...   \n",
       "\n",
       "                                                  본문  \n",
       "0  중국발 신종 코로나바이러스, 일명 '우한(武漢) 폐렴' 환자가 20일 국내에서 첫 ...  \n",
       "1  [인천국제공항 가보니]\\n우한 직행 노선 승객 대상 전수조사 이동경로 소독 횟수 늘...  \n",
       "2  사람 간 전염 확인 中 사망 6명, 의료진 15명 확진 \\n호주ㆍ필리핀서도 의심환자...  "
      ]
     },
     "execution_count": 110,
     "metadata": {},
     "output_type": "execute_result"
    }
   ],
   "source": [
    "res_col = [\"일자\", \"제목\", \"키워드\", \"특성추출(가중치순 상위 50개)\", \"본문\"]\n",
    "result_news_df = news_data[res_col].copy()\n",
    "result_news_df.head(3)"
   ]
  },
  {
   "cell_type": "code",
   "execution_count": 112,
   "id": "bb7ca42f",
   "metadata": {},
   "outputs": [
    {
     "data": {
      "text/html": [
       "<div>\n",
       "<style scoped>\n",
       "    .dataframe tbody tr th:only-of-type {\n",
       "        vertical-align: middle;\n",
       "    }\n",
       "\n",
       "    .dataframe tbody tr th {\n",
       "        vertical-align: top;\n",
       "    }\n",
       "\n",
       "    .dataframe thead th {\n",
       "        text-align: right;\n",
       "    }\n",
       "</style>\n",
       "<table border=\"1\" class=\"dataframe\">\n",
       "  <thead>\n",
       "    <tr style=\"text-align: right;\">\n",
       "      <th></th>\n",
       "      <th>일자</th>\n",
       "      <th>제목</th>\n",
       "    </tr>\n",
       "  </thead>\n",
       "  <tbody>\n",
       "    <tr>\n",
       "      <th>0</th>\n",
       "      <td>20200121</td>\n",
       "      <td>[사설] 중국발 '우한 폐렴' 공포, 우리나라도 안전지대 아니다</td>\n",
       "    </tr>\n",
       "    <tr>\n",
       "      <th>1</th>\n",
       "      <td>20200121</td>\n",
       "      <td>춘절 기간 中관광객 13만명 오는데 ‘우한 폐렴’ 공항 방역 비상</td>\n",
       "    </tr>\n",
       "    <tr>\n",
       "      <th>2</th>\n",
       "      <td>20200121</td>\n",
       "      <td>우한 폐렴 1명이 14명 감염 사스급 전염병 우려</td>\n",
       "    </tr>\n",
       "  </tbody>\n",
       "</table>\n",
       "</div>"
      ],
      "text/plain": [
       "         일자                                    제목\n",
       "0  20200121   [사설] 중국발 '우한 폐렴' 공포, 우리나라도 안전지대 아니다\n",
       "1  20200121  춘절 기간 中관광객 13만명 오는데 ‘우한 폐렴’ 공항 방역 비상\n",
       "2  20200121           우한 폐렴 1명이 14명 감염 사스급 전염병 우려"
      ]
     },
     "execution_count": 112,
     "metadata": {},
     "output_type": "execute_result"
    }
   ],
   "source": [
    "title_col = [\"일자\", \"제목\"]\n",
    "news_title_df = news_data[title_col].copy()\n",
    "news_title_df.head(3)"
   ]
  },
  {
   "cell_type": "markdown",
   "id": "139cc644",
   "metadata": {},
   "source": [
    "### 최종 데이터 프레임\n",
    "* news_data : 전체 데이터\n",
    "* result_news_df : 일자, 제목, 키워드, 특성추출, 본문 컬럼만 가지고 있는 데이터\n",
    "* news_title_df : 일자, 제목 컬럼만 가지고 있는 데이터"
   ]
  },
  {
   "cell_type": "code",
   "execution_count": 111,
   "id": "e8b84df9",
   "metadata": {},
   "outputs": [],
   "source": [
    "news_data.to_csv(\"./CSV/news_all_data.csv\")\n",
    "result_news_df.to_csv(\"./CSV/news_data_five_columns.csv\")"
   ]
  },
  {
   "cell_type": "code",
   "execution_count": 113,
   "id": "4bcbb1f1",
   "metadata": {},
   "outputs": [],
   "source": [
    "news_title_df.to_csv(\"./CSV/news_title.csv\")"
   ]
  },
  {
   "cell_type": "code",
   "execution_count": null,
   "id": "c7aed76e",
   "metadata": {},
   "outputs": [],
   "source": []
  }
 ],
 "metadata": {
  "kernelspec": {
   "display_name": "Python 3 (ipykernel)",
   "language": "python",
   "name": "python3"
  },
  "language_info": {
   "codemirror_mode": {
    "name": "ipython",
    "version": 3
   },
   "file_extension": ".py",
   "mimetype": "text/x-python",
   "name": "python",
   "nbconvert_exporter": "python",
   "pygments_lexer": "ipython3",
   "version": "3.8.8"
  }
 },
 "nbformat": 4,
 "nbformat_minor": 5
}
