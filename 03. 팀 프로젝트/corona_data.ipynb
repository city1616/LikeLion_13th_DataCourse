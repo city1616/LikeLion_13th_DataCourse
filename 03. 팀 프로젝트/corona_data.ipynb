{
 "cells": [
  {
   "cell_type": "code",
   "execution_count": 6,
   "id": "6b364c42",
   "metadata": {},
   "outputs": [],
   "source": [
    "from urllib.request import Request, urlopen\n",
    "from urllib.parse import urlencode, quote_plus\n",
    "\n",
    "import requests\n",
    "from bs4 import BeautifulSoup as bs\n",
    "from urllib import parse\n",
    "import pandas as pd"
   ]
  },
  {
   "cell_type": "code",
   "execution_count": 2,
   "id": "c7971ed0",
   "metadata": {},
   "outputs": [],
   "source": [
    "url = 'http://openapi.data.go.kr/openapi/service/rest/Covid19/getCovid19InfStateJson'\n",
    "servicekey = 'GCyZSspoE7iPOuN+4UKO10fOhJyXmQhnhGwke3KcD8v2qaWYLQkoGLNn7vTwbctZkR/3uEECJAykpO4UJxUwTQ=='\n",
    "queryParams = '?' + urlencode({ quote_plus('ServiceKey') : servicekey, \n",
    "                               quote_plus('pageNo') : '1', \n",
    "                               quote_plus('numOfRows') : '10', \n",
    "                               quote_plus('startCreateDt') : '20200310', \n",
    "                               quote_plus('endCreateDt') : '20200315' })"
   ]
  },
  {
   "cell_type": "code",
   "execution_count": 3,
   "id": "dfefb07a",
   "metadata": {},
   "outputs": [
    {
     "name": "stdout",
     "output_type": "stream",
     "text": [
      "b'<?xml version=\"1.0\" encoding=\"UTF-8\" standalone=\"yes\"?><response><header><resultCode>00</resultCode><resultMsg>NORMAL SERVICE.</resultMsg></header><body><items><item><accDefRate>3.2396602365</accDefRate><accExamCnt>268212</accExamCnt><accExamCompCnt>251940</accExamCompCnt><careCnt>7300</careCnt><clearCnt>834</clearCnt><createDt>2020-03-15 10:01:22.22</createDt><deathCnt>75</deathCnt><decideCnt>8162</decideCnt><examCnt>16272</examCnt><resutlNegCnt>243778</resutlNegCnt><seq>74</seq><stateDt>20200315</stateDt><stateTime>00:00</stateTime><updateDt>2020-03-15 10:01:22.22</updateDt></item><item><accDefRate>3.3180003364</accDefRate><accExamCnt>261335</accExamCnt><accExamCompCnt>243701</accExamCompCnt><careCnt>7402</careCnt><clearCnt>714</clearCnt><createDt>2020-03-14 10:29:11.11</createDt><deathCnt>72</deathCnt><decideCnt>8086</decideCnt><examCnt>17634</examCnt><resutlNegCnt>235615</resutlNegCnt><seq>73</seq><stateDt>20200314</stateDt><stateTime>00:00</stateTime><updateDt>2020-03-14 10:29:11.11</updateDt></item><item><accDefRate>3.4584993086</accDefRate><accExamCnt>248647</accExamCnt><accExamCompCnt>230707</accExamCompCnt><careCnt>7470</careCnt><clearCnt>510</clearCnt><createDt>2020-03-13 10:07:22.22</createDt><deathCnt>67</deathCnt><decideCnt>7979</decideCnt><examCnt>17940</examCnt><resutlNegCnt>222728</resutlNegCnt><seq>72</seq><stateDt>20200313</stateDt><stateTime>00:00</stateTime><updateDt>2020-03-13 10:07:22.22</updateDt></item><item><accDefRate>3.6217442732</accDefRate><accExamCnt>234998</accExamCnt><accExamCompCnt>217271</accExamCompCnt><careCnt>7407</careCnt><clearCnt>333</clearCnt><createDt>2020-03-12 10:37:03.03</createDt><deathCnt>66</deathCnt><decideCnt>7869</decideCnt><examCnt>17727</examCnt><resutlNegCnt>209402</resutlNegCnt><seq>71</seq><stateDt>20200312</stateDt><stateTime>00:00</stateTime><updateDt>2020-03-12 10:37:03.03</updateDt></item><item><accDefRate>3.8041745358</accDefRate><accExamCnt>222395</accExamCnt><accExamCompCnt>203855</accExamCompCnt><careCnt>7212</careCnt><clearCnt>288</clearCnt><createDt>2020-03-11 10:17:19.19</createDt><deathCnt>60</deathCnt><decideCnt>7755</decideCnt><examCnt>18540</examCnt><resutlNegCnt>196100</resutlNegCnt><seq>70</seq><stateDt>20200311</stateDt><stateTime>00:00</stateTime><updateDt>2020-03-11 10:17:19.19</updateDt></item><item><accDefRate>3.9193080566</accDefRate><accExamCnt>210144</accExamCnt><accExamCompCnt>191692</accExamCompCnt><careCnt>7165</careCnt><clearCnt>247</clearCnt><createDt>2020-03-10 10:20:27.27</createDt><deathCnt>54</deathCnt><decideCnt>7513</decideCnt><examCnt>18452</examCnt><resutlNegCnt>184179</resutlNegCnt><seq>69</seq><stateDt>20200310</stateDt><stateTime>00:00</stateTime><updateDt>2020-03-10 10:20:27.27</updateDt></item></items><numOfRows>10</numOfRows><pageNo>1</pageNo><totalCount>6</totalCount></body></response>'\n"
     ]
    }
   ],
   "source": [
    "request = Request(url + queryParams)\n",
    "request.get_method = lambda: 'GET'\n",
    "response_body = urlopen(request).read()\n",
    "print(response_body)"
   ]
  },
  {
   "cell_type": "code",
   "execution_count": 4,
   "id": "9b609d85",
   "metadata": {},
   "outputs": [
    {
     "name": "stdout",
     "output_type": "stream",
     "text": [
      "<class 'bytes'>\n",
      "<urllib.request.Request object at 0x7fa767a82280>\n"
     ]
    }
   ],
   "source": [
    "print(type(response_body))\n",
    "\n",
    "print(request)"
   ]
  },
  {
   "cell_type": "code",
   "execution_count": 97,
   "id": "24801d74",
   "metadata": {},
   "outputs": [],
   "source": [
    "# ServiceKey : 공공데이터포털에서 발급받은 서비스키\n",
    "# startCreateDt : 데이터 생성일 시작범위\n",
    "# endCreateDt : 데이터 생성일 종료범위\n",
    "params = {\"ServiceKey\" : parse.unquote(servicekey),\n",
    "         'startCreateDt' : 20210920,\n",
    "         \"endCreateDt\" : 20210927}"
   ]
  },
  {
   "cell_type": "code",
   "execution_count": 98,
   "id": "05303a01",
   "metadata": {},
   "outputs": [],
   "source": [
    "url = url + \"?\"\n",
    "res = requests.get(url, params = params)\n",
    "soup = bs(res.text, 'lxml')"
   ]
  },
  {
   "cell_type": "code",
   "execution_count": 99,
   "id": "df964191",
   "metadata": {
    "scrolled": true
   },
   "outputs": [
    {
     "name": "stdout",
     "output_type": "stream",
     "text": [
      "<?xml version=\"1.0\" encoding=\"UTF-8\" standalone=\"yes\"?><html><body><response><header><resultcode>00</resultcode><resultmsg>NORMAL SERVICE.</resultmsg></header><items><item><accdefrate>2.2916883087</accdefrate><accexamcnt>14365935</accexamcnt><accexamcompcnt>13245824</accexamcompcnt><carecnt>31965</carecnt><clearcnt>269132</clearcnt><createdt>2021-09-27 10:08:41.366</createdt><deathcnt>2456</deathcnt><decidecnt>303553</decidecnt><examcnt>1120111</examcnt><resutlnegcnt>12942271</resutlnegcnt><seq>648</seq><statedt>20210927</statedt><statetime>00:00</statetime><updatedt>null</updatedt></item><item><accdefrate>2.2765913507</accdefrate><accexamcnt>14325938</accexamcnt><accexamcompcnt>13229076</accexamcompcnt><carecnt>30582</carecnt><clearcnt>268140</clearcnt><createdt>2021-09-26 09:38:04.296</createdt><deathcnt>2450</deathcnt><decidecnt>301172</decidecnt><examcnt>1096862</examcnt><resutlnegcnt>12927904</resutlnegcnt><seq>647</seq><statedt>20210926</statedt><statetime>00:00</statetime><updatedt>null</updatedt></item><item><accdefrate>2.2556382452</accdefrate><accexamcnt>14285339</accexamcnt><accexamcompcnt>13229116</accexamcompcnt><carecnt>29546</carecnt><clearcnt>266414</clearcnt><createdt>2021-09-25 10:49:15.225</createdt><deathcnt>2441</deathcnt><decidecnt>298401</decidecnt><examcnt>1056223</examcnt><resutlnegcnt>12930715</resutlnegcnt><seq>646</seq><statedt>20210925</statedt><statetime>00:00</statetime><updatedt>2021-09-26 10:29:10.433</updatedt></item><item><accdefrate>2.2373425890</accdefrate><accexamcnt>14221685</accexamcnt><accexamcompcnt>13191185</accexamcompcnt><carecnt>28206</carecnt><clearcnt>264492</clearcnt><createdt>2021-09-24 09:53:29.116</createdt><deathcnt>2434</deathcnt><decidecnt>295132</decidecnt><examcnt>1030500</examcnt><resutlnegcnt>12896053</resutlnegcnt><seq>645</seq><statedt>20210924</statedt><statetime>00:00</statetime><updatedt>null</updatedt></item><item><accdefrate>2.2315584923</accdefrate><accexamcnt>14151069</accexamcnt><accexamcompcnt>13116349</accexamcompcnt><carecnt>27430</carecnt><clearcnt>262842</clearcnt><createdt>2021-09-23 10:01:14.491</createdt><deathcnt>2427</deathcnt><decidecnt>292699</decidecnt><examcnt>1034720</examcnt><resutlnegcnt>12823650</resutlnegcnt><seq>644</seq><statedt>20210923</statedt><statetime>00:00</statetime><updatedt>null</updatedt></item><item><accdefrate>2.2187986844</accdefrate><accexamcnt>14112435</accexamcnt><accexamcompcnt>13114439</accexamcompcnt><carecnt>26752</carecnt><clearcnt>261812</clearcnt><createdt>2021-09-22 09:35:53.93</createdt><deathcnt>2419</deathcnt><decidecnt>290983</decidecnt><examcnt>997996</examcnt><resutlnegcnt>12823456</resutlnegcnt><seq>643</seq><statedt>20210922</statedt><statetime>00:00</statetime><updatedt>null</updatedt></item><item><accdefrate>2.2055202395</accdefrate><accexamcnt>14081284</accexamcnt><accexamcompcnt>13115409</accexamcompcnt><carecnt>26760</carecnt><clearcnt>260090</clearcnt><createdt>2021-09-21 09:39:49.437</createdt><deathcnt>2413</deathcnt><decidecnt>289263</decidecnt><examcnt>965875</examcnt><resutlnegcnt>12826146</resutlnegcnt><seq>642</seq><statedt>20210921</statedt><statetime>00:00</statetime><updatedt>null</updatedt></item><item><accdefrate>2.1953447092</accdefrate><accexamcnt>14050974</accexamcnt><accexamcompcnt>13097442</accexamcompcnt><carecnt>26114</carecnt><clearcnt>259011</clearcnt><createdt>2021-09-20 09:09:41.18</createdt><deathcnt>2409</deathcnt><decidecnt>287534</decidecnt><examcnt>953532</examcnt><resutlnegcnt>12809908</resutlnegcnt><seq>641</seq><statedt>20210920</statedt><statetime>00:00</statetime><updatedt>2021-09-21 09:53:41.659</updatedt></item></items><numofrows>10</numofrows><pageno>1</pageno><totalcount>8</totalcount></response></body></html>\n"
     ]
    }
   ],
   "source": [
    "print(soup)"
   ]
  },
  {
   "cell_type": "code",
   "execution_count": 100,
   "id": "10261e70",
   "metadata": {},
   "outputs": [
    {
     "name": "stdout",
     "output_type": "stream",
     "text": [
      "303553\n"
     ]
    }
   ],
   "source": [
    "print(soup.find_all(\"decidecnt\")[0].text)"
   ]
  },
  {
   "cell_type": "code",
   "execution_count": 101,
   "id": "254e9491",
   "metadata": {},
   "outputs": [],
   "source": [
    "decidecnt_data = soup.find_all(\"decidecnt\")\n",
    "statedt_data = soup.find_all(\"statedt\")"
   ]
  },
  {
   "cell_type": "code",
   "execution_count": 102,
   "id": "73064b75",
   "metadata": {},
   "outputs": [],
   "source": [
    "decidecnt_list = []\n",
    "statedt_list = []\n",
    "daycnt_list = []"
   ]
  },
  {
   "cell_type": "code",
   "execution_count": 103,
   "id": "349fc3e9",
   "metadata": {},
   "outputs": [],
   "source": [
    "for one in range(len(decidecnt_data)) :\n",
    "    decidecnt_list.append(int(decidecnt_data[one].text))\n",
    "    if one != 0 :\n",
    "        statedt_list.append(statedt_data[one].text)"
   ]
  },
  {
   "cell_type": "code",
   "execution_count": 104,
   "id": "7969c40c",
   "metadata": {},
   "outputs": [
    {
     "name": "stdout",
     "output_type": "stream",
     "text": [
      "decidecnt len : 8\n",
      "statedt len : 7\n"
     ]
    }
   ],
   "source": [
    "print(\"decidecnt len :\", len(decidecnt_list))\n",
    "print(\"statedt len :\", len(statedt_list))"
   ]
  },
  {
   "cell_type": "code",
   "execution_count": 105,
   "id": "78522a7e",
   "metadata": {
    "scrolled": true
   },
   "outputs": [
    {
     "name": "stdout",
     "output_type": "stream",
     "text": [
      "303553\n",
      "301172\n",
      "298401\n",
      "295132\n",
      "292699\n",
      "290983\n",
      "289263\n",
      "287534\n",
      "20210926\n",
      "20210925\n",
      "20210924\n",
      "20210923\n",
      "20210922\n",
      "20210921\n",
      "20210920\n",
      "303553 301172\n",
      "301172 298401\n",
      "298401 295132\n",
      "295132 292699\n",
      "292699 290983\n",
      "290983 289263\n",
      "289263 287534\n",
      "2381\n",
      "2771\n",
      "3269\n",
      "2433\n",
      "1716\n",
      "1720\n",
      "1729\n"
     ]
    }
   ],
   "source": [
    "for i in range(len(decidecnt_data)) :\n",
    "    print(decidecnt_list[i]) # 2381\n",
    "\n",
    "for i in range(len(statedt_list)) :\n",
    "    print(statedt_list[i])\n",
    "\n",
    "for i in range(0, len(decidecnt_data) - 1) :\n",
    "    print(decidecnt_list[i], decidecnt_list[i + 1])\n",
    "    daycnt_list.append(decidecnt_list[i] - decidecnt_list[i + 1])\n",
    "\n",
    "for i in daycnt_list :\n",
    "    print(i)"
   ]
  },
  {
   "cell_type": "code",
   "execution_count": 106,
   "id": "996d6e8e",
   "metadata": {},
   "outputs": [
    {
     "data": {
      "text/html": [
       "<div>\n",
       "<style scoped>\n",
       "    .dataframe tbody tr th:only-of-type {\n",
       "        vertical-align: middle;\n",
       "    }\n",
       "\n",
       "    .dataframe tbody tr th {\n",
       "        vertical-align: top;\n",
       "    }\n",
       "\n",
       "    .dataframe thead th {\n",
       "        text-align: right;\n",
       "    }\n",
       "</style>\n",
       "<table border=\"1\" class=\"dataframe\">\n",
       "  <thead>\n",
       "    <tr style=\"text-align: right;\">\n",
       "      <th></th>\n",
       "      <th>날짜</th>\n",
       "      <th>일일 확진자수</th>\n",
       "    </tr>\n",
       "  </thead>\n",
       "  <tbody>\n",
       "    <tr>\n",
       "      <th>0</th>\n",
       "      <td>20210926</td>\n",
       "      <td>2381</td>\n",
       "    </tr>\n",
       "    <tr>\n",
       "      <th>1</th>\n",
       "      <td>20210925</td>\n",
       "      <td>2771</td>\n",
       "    </tr>\n",
       "    <tr>\n",
       "      <th>2</th>\n",
       "      <td>20210924</td>\n",
       "      <td>3269</td>\n",
       "    </tr>\n",
       "    <tr>\n",
       "      <th>3</th>\n",
       "      <td>20210923</td>\n",
       "      <td>2433</td>\n",
       "    </tr>\n",
       "    <tr>\n",
       "      <th>4</th>\n",
       "      <td>20210922</td>\n",
       "      <td>1716</td>\n",
       "    </tr>\n",
       "    <tr>\n",
       "      <th>5</th>\n",
       "      <td>20210921</td>\n",
       "      <td>1720</td>\n",
       "    </tr>\n",
       "    <tr>\n",
       "      <th>6</th>\n",
       "      <td>20210920</td>\n",
       "      <td>1729</td>\n",
       "    </tr>\n",
       "  </tbody>\n",
       "</table>\n",
       "</div>"
      ],
      "text/plain": [
       "         날짜  일일 확진자수\n",
       "0  20210926     2381\n",
       "1  20210925     2771\n",
       "2  20210924     3269\n",
       "3  20210923     2433\n",
       "4  20210922     1716\n",
       "5  20210921     1720\n",
       "6  20210920     1729"
      ]
     },
     "execution_count": 106,
     "metadata": {},
     "output_type": "execute_result"
    }
   ],
   "source": [
    "# 27 - 26 = 2381 -> 26일 데이터\n",
    "corona_dic = {\"날짜\" : statedt_list, \"일일 확진자수\" : daycnt_list}\n",
    "corona_df = pd.DataFrame(data = corona_dic)\n",
    "corona_df"
   ]
  },
  {
   "cell_type": "code",
   "execution_count": 107,
   "id": "ec67143f",
   "metadata": {},
   "outputs": [
    {
     "name": "stdout",
     "output_type": "stream",
     "text": [
      "<class 'pandas.core.frame.DataFrame'>\n",
      "RangeIndex: 7 entries, 0 to 6\n",
      "Data columns (total 2 columns):\n",
      " #   Column   Non-Null Count  Dtype \n",
      "---  ------   --------------  ----- \n",
      " 0   날짜       7 non-null      object\n",
      " 1   일일 확진자수  7 non-null      int64 \n",
      "dtypes: int64(1), object(1)\n",
      "memory usage: 240.0+ bytes\n"
     ]
    }
   ],
   "source": [
    "corona_df.info()"
   ]
  },
  {
   "cell_type": "code",
   "execution_count": null,
   "id": "060e1197",
   "metadata": {},
   "outputs": [],
   "source": []
  }
 ],
 "metadata": {
  "kernelspec": {
   "display_name": "Python 3 (ipykernel)",
   "language": "python",
   "name": "python3"
  },
  "language_info": {
   "codemirror_mode": {
    "name": "ipython",
    "version": 3
   },
   "file_extension": ".py",
   "mimetype": "text/x-python",
   "name": "python",
   "nbconvert_exporter": "python",
   "pygments_lexer": "ipython3",
   "version": "3.8.8"
  }
 },
 "nbformat": 4,
 "nbformat_minor": 5
}
