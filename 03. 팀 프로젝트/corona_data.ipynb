{
 "cells": [
  {
   "cell_type": "code",
   "execution_count": 6,
   "id": "cf891505",
   "metadata": {},
   "outputs": [],
   "source": [
    "from urllib.request import Request, urlopen\n",
    "from urllib.parse import urlencode, quote_plus\n",
    "\n",
    "import requests\n",
    "from bs4 import BeautifulSoup as bs\n",
    "from urllib import parse\n",
    "import pandas as pd"
   ]
  },
  {
   "cell_type": "code",
   "execution_count": 2,
   "id": "dfe56f39",
   "metadata": {},
   "outputs": [],
   "source": [
    "url = 'http://openapi.data.go.kr/openapi/service/rest/Covid19/getCovid19InfStateJson'\n",
    "servicekey = 'GCyZSspoE7iPOuN+4UKO10fOhJyXmQhnhGwke3KcD8v2qaWYLQkoGLNn7vTwbctZkR/3uEECJAykpO4UJxUwTQ=='\n",
    "queryParams = '?' + urlencode({ quote_plus('ServiceKey') : servicekey, \n",
    "                               quote_plus('pageNo') : '1', \n",
    "                               quote_plus('numOfRows') : '10', \n",
    "                               quote_plus('startCreateDt') : '20200310', \n",
    "                               quote_plus('endCreateDt') : '20200315' })"
   ]
  },
  {
   "cell_type": "code",
   "execution_count": 3,
   "id": "2575051c",
   "metadata": {},
   "outputs": [
    {
     "name": "stdout",
     "output_type": "stream",
     "text": [
      "b'<?xml version=\"1.0\" encoding=\"UTF-8\" standalone=\"yes\"?><response><header><resultCode>00</resultCode><resultMsg>NORMAL SERVICE.</resultMsg></header><body><items><item><accDefRate>3.2396602365</accDefRate><accExamCnt>268212</accExamCnt><accExamCompCnt>251940</accExamCompCnt><careCnt>7300</careCnt><clearCnt>834</clearCnt><createDt>2020-03-15 10:01:22.22</createDt><deathCnt>75</deathCnt><decideCnt>8162</decideCnt><examCnt>16272</examCnt><resutlNegCnt>243778</resutlNegCnt><seq>74</seq><stateDt>20200315</stateDt><stateTime>00:00</stateTime><updateDt>2020-03-15 10:01:22.22</updateDt></item><item><accDefRate>3.3180003364</accDefRate><accExamCnt>261335</accExamCnt><accExamCompCnt>243701</accExamCompCnt><careCnt>7402</careCnt><clearCnt>714</clearCnt><createDt>2020-03-14 10:29:11.11</createDt><deathCnt>72</deathCnt><decideCnt>8086</decideCnt><examCnt>17634</examCnt><resutlNegCnt>235615</resutlNegCnt><seq>73</seq><stateDt>20200314</stateDt><stateTime>00:00</stateTime><updateDt>2020-03-14 10:29:11.11</updateDt></item><item><accDefRate>3.4584993086</accDefRate><accExamCnt>248647</accExamCnt><accExamCompCnt>230707</accExamCompCnt><careCnt>7470</careCnt><clearCnt>510</clearCnt><createDt>2020-03-13 10:07:22.22</createDt><deathCnt>67</deathCnt><decideCnt>7979</decideCnt><examCnt>17940</examCnt><resutlNegCnt>222728</resutlNegCnt><seq>72</seq><stateDt>20200313</stateDt><stateTime>00:00</stateTime><updateDt>2020-03-13 10:07:22.22</updateDt></item><item><accDefRate>3.6217442732</accDefRate><accExamCnt>234998</accExamCnt><accExamCompCnt>217271</accExamCompCnt><careCnt>7407</careCnt><clearCnt>333</clearCnt><createDt>2020-03-12 10:37:03.03</createDt><deathCnt>66</deathCnt><decideCnt>7869</decideCnt><examCnt>17727</examCnt><resutlNegCnt>209402</resutlNegCnt><seq>71</seq><stateDt>20200312</stateDt><stateTime>00:00</stateTime><updateDt>2020-03-12 10:37:03.03</updateDt></item><item><accDefRate>3.8041745358</accDefRate><accExamCnt>222395</accExamCnt><accExamCompCnt>203855</accExamCompCnt><careCnt>7212</careCnt><clearCnt>288</clearCnt><createDt>2020-03-11 10:17:19.19</createDt><deathCnt>60</deathCnt><decideCnt>7755</decideCnt><examCnt>18540</examCnt><resutlNegCnt>196100</resutlNegCnt><seq>70</seq><stateDt>20200311</stateDt><stateTime>00:00</stateTime><updateDt>2020-03-11 10:17:19.19</updateDt></item><item><accDefRate>3.9193080566</accDefRate><accExamCnt>210144</accExamCnt><accExamCompCnt>191692</accExamCompCnt><careCnt>7165</careCnt><clearCnt>247</clearCnt><createDt>2020-03-10 10:20:27.27</createDt><deathCnt>54</deathCnt><decideCnt>7513</decideCnt><examCnt>18452</examCnt><resutlNegCnt>184179</resutlNegCnt><seq>69</seq><stateDt>20200310</stateDt><stateTime>00:00</stateTime><updateDt>2020-03-10 10:20:27.27</updateDt></item></items><numOfRows>10</numOfRows><pageNo>1</pageNo><totalCount>6</totalCount></body></response>'\n"
     ]
    }
   ],
   "source": [
    "request = Request(url + queryParams)\n",
    "request.get_method = lambda: 'GET'\n",
    "response_body = urlopen(request).read()\n",
    "print(response_body)"
   ]
  },
  {
   "cell_type": "code",
   "execution_count": 4,
   "id": "720276e6",
   "metadata": {},
   "outputs": [
    {
     "name": "stdout",
     "output_type": "stream",
     "text": [
      "<class 'bytes'>\n",
      "<urllib.request.Request object at 0x7fa767a82280>\n"
     ]
    }
   ],
   "source": [
    "print(type(response_body))\n",
    "\n",
    "print(request)"
   ]
  },
  {
   "cell_type": "code",
   "execution_count": 52,
   "id": "71f7f7a6",
   "metadata": {},
   "outputs": [],
   "source": [
    "# ServiceKey : 공공데이터포털에서 발급받은 서비스키\n",
    "# startCreateDt : 데이터 생성일 시작범위\n",
    "# endCreateDt : 데이터 생성일 종료범위\n",
    "params = {\"ServiceKey\" : parse.unquote(servicekey),\n",
    "         'startCreateDt' : 20210925,\n",
    "         \"endCreateDt\" : 20210927}"
   ]
  },
  {
   "cell_type": "code",
   "execution_count": 53,
   "id": "9e64caf4",
   "metadata": {},
   "outputs": [],
   "source": [
    "url = url + \"?\"\n",
    "res = requests.get(url, params = params)\n",
    "soup = bs(res.text, 'lxml')"
   ]
  },
  {
   "cell_type": "code",
   "execution_count": 54,
   "id": "681c2564",
   "metadata": {},
   "outputs": [
    {
     "name": "stdout",
     "output_type": "stream",
     "text": [
      "<?xml version=\"1.0\" encoding=\"UTF-8\" standalone=\"yes\"?><html><body><response><header><resultcode>00</resultcode><resultmsg>NORMAL SERVICE.</resultmsg></header><items><item><accdefrate>2.2916883087</accdefrate><accexamcnt>14365935</accexamcnt><accexamcompcnt>13245824</accexamcompcnt><carecnt>31965</carecnt><clearcnt>269132</clearcnt><createdt>2021-09-27 10:08:41.366</createdt><deathcnt>2456</deathcnt><decidecnt>303553</decidecnt><examcnt>1120111</examcnt><resutlnegcnt>12942271</resutlnegcnt><seq>648</seq><statedt>20210927</statedt><statetime>00:00</statetime><updatedt>null</updatedt></item><item><accdefrate>2.2765913507</accdefrate><accexamcnt>14325938</accexamcnt><accexamcompcnt>13229076</accexamcompcnt><carecnt>30582</carecnt><clearcnt>268140</clearcnt><createdt>2021-09-26 09:38:04.296</createdt><deathcnt>2450</deathcnt><decidecnt>301172</decidecnt><examcnt>1096862</examcnt><resutlnegcnt>12927904</resutlnegcnt><seq>647</seq><statedt>20210926</statedt><statetime>00:00</statetime><updatedt>null</updatedt></item><item><accdefrate>2.2556382452</accdefrate><accexamcnt>14285339</accexamcnt><accexamcompcnt>13229116</accexamcompcnt><carecnt>29546</carecnt><clearcnt>266414</clearcnt><createdt>2021-09-25 10:49:15.225</createdt><deathcnt>2441</deathcnt><decidecnt>298401</decidecnt><examcnt>1056223</examcnt><resutlnegcnt>12930715</resutlnegcnt><seq>646</seq><statedt>20210925</statedt><statetime>00:00</statetime><updatedt>2021-09-26 10:29:10.433</updatedt></item></items><numofrows>10</numofrows><pageno>1</pageno><totalcount>3</totalcount></response></body></html>\n"
     ]
    }
   ],
   "source": [
    "print(soup)"
   ]
  },
  {
   "cell_type": "code",
   "execution_count": 55,
   "id": "e0e27693",
   "metadata": {},
   "outputs": [
    {
     "name": "stdout",
     "output_type": "stream",
     "text": [
      "303553\n"
     ]
    }
   ],
   "source": [
    "print(soup.find_all(\"decidecnt\")[0].text)"
   ]
  },
  {
   "cell_type": "code",
   "execution_count": 56,
   "id": "4281351b",
   "metadata": {},
   "outputs": [],
   "source": [
    "decidecnt_data = soup.find_all(\"decidecnt\")\n",
    "statedt_data = soup.find_all(\"statedt\")"
   ]
  },
  {
   "cell_type": "code",
   "execution_count": 86,
   "id": "6fb3dd9a",
   "metadata": {},
   "outputs": [],
   "source": [
    "decidecnt_list = []\n",
    "statedt_list = []\n",
    "daycnt_list = []"
   ]
  },
  {
   "cell_type": "code",
   "execution_count": 87,
   "id": "7b63f0f5",
   "metadata": {},
   "outputs": [],
   "source": [
    "for one in range(len(decidecnt_data)) :\n",
    "    decidecnt_list.append(int(decidecnt_data[one].text))\n",
    "    statedt_list.append(statedt_data[one].text)"
   ]
  },
  {
   "cell_type": "code",
   "execution_count": 88,
   "id": "eb811e6a",
   "metadata": {},
   "outputs": [
    {
     "name": "stdout",
     "output_type": "stream",
     "text": [
      "decidecnt len : 3\n",
      "statedt len : 3\n"
     ]
    }
   ],
   "source": [
    "print(\"decidecnt len :\", len(decidecnt_list))\n",
    "print(\"statedt len :\", len(statedt_list))"
   ]
  },
  {
   "cell_type": "code",
   "execution_count": 89,
   "id": "4a4dfcb9",
   "metadata": {},
   "outputs": [
    {
     "name": "stdout",
     "output_type": "stream",
     "text": [
      "303553 20210927\n",
      "301172 20210926\n",
      "298401 20210925\n",
      "303553 301172\n",
      "301172 298401\n",
      "2381\n",
      "2771\n"
     ]
    }
   ],
   "source": [
    "for i in range(len(decidecnt_data)) :\n",
    "    print(decidecnt_list[i], statedt_list[i]) # 2381\n",
    "\n",
    "for i in range(0, len(decidecnt_data) - 1) :\n",
    "    print(decidecnt_list[i], decidecnt_list[i + 1])\n",
    "    daycnt_list.append(decidecnt_list[i] - decidecnt_list[i + 1])\n",
    "\n",
    "for i in daycnt_list :\n",
    "    print(i)"
   ]
  },
  {
   "cell_type": "code",
   "execution_count": null,
   "id": "852c5d1a",
   "metadata": {},
   "outputs": [],
   "source": [
    "# 27 - 26 = 2381 -> 26일 데이터"
   ]
  }
 ],
 "metadata": {
  "kernelspec": {
   "display_name": "Python 3 (ipykernel)",
   "language": "python",
   "name": "python3"
  },
  "language_info": {
   "codemirror_mode": {
    "name": "ipython",
    "version": 3
   },
   "file_extension": ".py",
   "mimetype": "text/x-python",
   "name": "python",
   "nbconvert_exporter": "python",
   "pygments_lexer": "ipython3",
   "version": "3.8.8"
  }
 },
 "nbformat": 4,
 "nbformat_minor": 5
}
