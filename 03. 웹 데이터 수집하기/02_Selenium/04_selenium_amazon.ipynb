{
 "cells": [
  {
   "cell_type": "markdown",
   "id": "7149d946",
   "metadata": {},
   "source": [
    "## selenium amazon 실습"
   ]
  },
  {
   "cell_type": "markdown",
   "id": "cb9df7e6",
   "metadata": {},
   "source": [
    "## 1. 아마존에서 검색하기"
   ]
  },
  {
   "cell_type": "code",
   "execution_count": 7,
   "id": "4cfb31ce",
   "metadata": {},
   "outputs": [],
   "source": [
    "from selenium import webdriver\n",
    "\n",
    "driver = webdriver.Chrome(\"../DATA/chromedriver\")\n",
    "amazon_url = \"https://www.amazon.com/\"\n",
    "driver.get(amazon_url)"
   ]
  },
  {
   "cell_type": "code",
   "execution_count": 8,
   "id": "0ac30884",
   "metadata": {},
   "outputs": [],
   "source": [
    "# input_xpath : //*[@id=\"twotabsearchtextbox\"]\n",
    "# search_xpath : //*[@id=\"nav-search-submit-button\"]\n",
    "amazon_input = driver.find_element_by_id(\"twotabsearchtextbox\")\n",
    "amazon_search = driver.find_element_by_id(\"nav-search-submit-button\")\n",
    "\n",
    "word = \"samsung\"\n",
    "amazon_input.clear()\n",
    "amazon_input.send_keys(word)\n",
    "amazon_search.click()"
   ]
  },
  {
   "cell_type": "markdown",
   "id": "53f78619",
   "metadata": {},
   "source": [
    "## 2. 아마존에서 하나의 상품 링크 가져오기"
   ]
  },
  {
   "cell_type": "code",
   "execution_count": 9,
   "id": "8617948a",
   "metadata": {},
   "outputs": [
    {
     "name": "stdout",
     "output_type": "stream",
     "text": [
      "<title>Amazon.com : samsung</title>\n",
      "https://www.amazon.com/s?k=samsung&ref=nb_sb_noss\n"
     ]
    }
   ],
   "source": [
    "from bs4 import BeautifulSoup\n",
    "\n",
    "page = driver.page_source\n",
    "soup = BeautifulSoup(page, 'lxml')\n",
    "print(soup.title)\n",
    "print(driver.current_url)"
   ]
  },
  {
   "cell_type": "code",
   "execution_count": 10,
   "id": "feec34ee",
   "metadata": {},
   "outputs": [
    {
     "name": "stdout",
     "output_type": "stream",
     "text": [
      "2\n",
      "/gp/slredirect/picassoRedirect.html/ref=pa_sp_atf_aps_sr_pg1_1?ie=UTF8&adId=A0474886DT0C66EO6DCM&url=%2FSamsung-Electronics-Unlocked-Smartphone-Intuitive%2Fdp%2FB097CNP994%2Fref%3Dsr_1_1_sspa%3Fdchild%3D1%26keywords%3Dsamsung%26qid%3D1635256052%26sr%3D8-1-spons%26psc%3D1&qualifier=1635256052&id=4794581300267539&widgetName=sp_atf\n",
      "/gp/slredirect/picassoRedirect.html/ref=pa_sp_atf_aps_sr_pg1_1?ie=UTF8&adId=A0474886DT0C66EO6DCM&url=%2FSamsung-Electronics-Unlocked-Smartphone-Intuitive%2Fdp%2FB097CNP994%2Fref%3Dsr_1_1_sspa%3Fdchild%3D1%26keywords%3Dsamsung%26qid%3D1635256052%26sr%3D8-1-spons%26psc%3D1&qualifier=1635256052&id=4794581300267539&widgetName=sp_atf\n",
      "https://www.amazon.com//gp/slredirect/picassoRedirect.html/ref=pa_sp_atf_aps_sr_pg1_1?ie=UTF8&adId=A0474886DT0C66EO6DCM&url=%2FSamsung-Electronics-Unlocked-Smartphone-Intuitive%2Fdp%2FB097CNP994%2Fref%3Dsr_1_1_sspa%3Fdchild%3D1%26keywords%3Dsamsung%26qid%3D1635256052%26sr%3D8-1-spons%26psc%3D1&qualifier=1635256052&id=4794581300267539&widgetName=sp_atf\n"
     ]
    }
   ],
   "source": [
    "item_1 = soup.find(\"h2\", class_ = \"a-size-mini a-spacing-none a-color-base s-line-clamp-2\")\n",
    "print(len(item_1))\n",
    "print(item_1.a['href'])\n",
    "print(item_1.a.attrs['href'])\n",
    "\n",
    "item_url = amazon_url + item_1.a.attrs['href']\n",
    "print(item_url)"
   ]
  },
  {
   "cell_type": "markdown",
   "id": "8c20fc80",
   "metadata": {},
   "source": [
    "## 3. 아마존에서 전체 상품의 링크 가져오기"
   ]
  },
  {
   "cell_type": "code",
   "execution_count": 11,
   "id": "452ebde6",
   "metadata": {},
   "outputs": [
    {
     "name": "stdout",
     "output_type": "stream",
     "text": [
      "item 개수 : 27\n",
      "1 https://www.amazon.com//gp/slredirect/picassoRedirect.html/ref=pa_sp_atf_aps_sr_pg1_1?ie=UTF8&adId=A0474886DT0C66EO6DCM&url=%2FSamsung-Electronics-Unlocked-Smartphone-Intuitive%2Fdp%2FB097CNP994%2Fref%3Dsr_1_1_sspa%3Fdchild%3D1%26keywords%3Dsamsung%26qid%3D1635256052%26sr%3D8-1-spons%26psc%3D1&qualifier=1635256052&id=4794581300267539&widgetName=sp_atf\n",
      "\n",
      "2 https://www.amazon.com//gp/slredirect/picassoRedirect.html/ref=pa_sp_atf_aps_sr_pg1_1?ie=UTF8&adId=A02025281QZBDRKSDLNYH&url=%2FPurtato-Ultra-Thin-Samsung-Galaxy-Flip%2Fdp%2FB09HCGFD11%2Fref%3Dsr_1_2_sspa%3Fdchild%3D1%26keywords%3Dsamsung%26qid%3D1635256052%26sr%3D8-2-spons%26psc%3D1&qualifier=1635256052&id=4794581300267539&widgetName=sp_atf\n",
      "\n",
      "3 https://www.amazon.com//Samsung-Galaxy-S20-5G-Cosmic/dp/B08B8Y5R4Y/ref=sr_1_3?dchild=1&keywords=samsung&qid=1635256052&sr=8-3\n",
      "\n",
      "4 https://www.amazon.com//Samsung-Galaxy-Wi-Fi-Mystic-Black/dp/B08FBN5STQ/ref=sr_1_4?dchild=1&keywords=samsung&qid=1635256052&sr=8-4\n",
      "\n",
      "5 https://www.amazon.com//Samsung-Unlocked-T-Mobile-Straight-International/dp/B08F2X5GLK/ref=sr_1_5?dchild=1&keywords=samsung&qid=1635256052&sr=8-5\n",
      "\n",
      "6 https://www.amazon.com//Samsung-UN40N5200AFXZA-40-Inch-Assistant-Compatibility/dp/B07YXH57B8/ref=sr_1_6?dchild=1&keywords=samsung&qid=1635256052&sr=8-6\n",
      "\n",
      "7 https://www.amazon.com//SAMSUNG-Portable-SSD-1TB-MU-PC1T0H/dp/B0874YJP92/ref=sr_1_7?dchild=1&keywords=samsung&qid=1635256052&sr=8-7\n",
      "\n",
      "8 https://www.amazon.com//Samsung-Lightweight-Android-Long-Lasting-Battery/dp/B08QQTQNDC/ref=sr_1_8?dchild=1&keywords=samsung&qid=1635256052&sr=8-8\n",
      "\n",
      "9 https://www.amazon.com//Samsung-Galaxy-Wi-Fi-Silver-SM-T500NZSAXAR/dp/B08GHVSGMQ/ref=sr_1_9?dchild=1&keywords=samsung&qid=1635256052&sr=8-9\n",
      "\n",
      "10 https://www.amazon.com//SAMSUNG-Inch-Internal-MZ-77E1T0B-AM/dp/B08QBJ2YMG/ref=sr_1_10?dchild=1&keywords=samsung&qid=1635256052&sr=8-10\n",
      "\n",
      "11 https://www.amazon.com//gp/slredirect/picassoRedirect.html/ref=pa_sp_mtf_aps_sr_pg1_1?ie=UTF8&adId=A06180263GSU2KJTUP88K&url=%2FKingston-Performance-Pocket-Sized-SXS2000-1000G%2Fdp%2FB09F5YHQ1K%2Fref%3Dsr_1_11_sspa%3Fdchild%3D1%26keywords%3Dsamsung%26qid%3D1635256052%26sr%3D8-11-spons%26psc%3D1&qualifier=1635256052&id=4794581300267539&widgetName=sp_mtf\n",
      "\n",
      "12 https://www.amazon.com//Samsung-Electronics-Unlocked-Smartphone-Long-Lasting/dp/B08BX7N9SK/ref=sr_1_12?dchild=1&keywords=samsung&qid=1635256052&sr=8-12\n",
      "\n",
      "13 https://www.amazon.com//Samsung-Unlocked-Smartphone-Pro-Grade-Lavender/dp/B08FYTRF6J/ref=sr_1_13?dchild=1&keywords=samsung&qid=1635256052&sr=8-13\n",
      "\n",
      "14 https://www.amazon.com//Samsung-Galaxy-Camera-Unlocked-International/dp/B082YF7WY5/ref=sr_1_14?dchild=1&keywords=samsung&qid=1635256052&sr=8-14\n",
      "\n",
      "15 https://www.amazon.com//Samsung-SM-A217M-Cameras-Android-International/dp/B089XZ3SZN/ref=sr_1_15?dchild=1&keywords=samsung&qid=1635256052&sr=8-15\n",
      "\n",
      "16 https://www.amazon.com//gp/slredirect/picassoRedirect.html/ref=pa_sp_mtf_aps_sr_pg1_1?ie=UTF8&adId=A070091821GH4X49X25P7&url=%2FProtector-TSQ-Protective-Rotatable-Shoulder%2Fdp%2FB08BLB8FRT%2Fref%3Dsr_1_16_sspa%3Fdchild%3D1%26keywords%3Dsamsung%26qid%3D1635256052%26sr%3D8-16-spons%26psc%3D1&qualifier=1635256052&id=4794581300267539&widgetName=sp_mtf\n",
      "\n",
      "17 https://www.amazon.com//SAMSUNG-870-QVO-SATA-MZ-77Q1T0B/dp/B089C73T72/ref=sr_1_17?dchild=1&keywords=samsung&qid=1635256052&sr=8-17\n",
      "\n",
      "18 https://www.amazon.com//SAMSUNG-QN32Q50RAFXZA-32Q50-Smart-TV2019/dp/B07W5QYD2K/ref=sr_1_18?dchild=1&keywords=samsung&qid=1635256052&sr=8-18\n",
      "\n",
      "19 https://www.amazon.com//SAMSUNG-Platform-Computer-Processor-Long-Lasting/dp/B091WR26F4/ref=sr_1_19?dchild=1&keywords=samsung&qid=1635256052&sr=8-19\n",
      "\n",
      "20 https://www.amazon.com//SAMSUNG-55-Inch-Class-QLED-Built/dp/B08WFNSM75/ref=sr_1_20?dchild=1&keywords=samsung&qid=1635256052&sr=8-20\n",
      "\n",
      "21 https://www.amazon.com//gp/slredirect/picassoRedirect.html/ref=pa_sp_btf_aps_sr_pg1_1?ie=UTF8&adId=A01155351YBV3P3ZRRY2O&url=%2FProtector-Compatible-Fingerprint-Scratch-Resistant-Coverage%2Fdp%2FB098JTVN93%2Fref%3Dsr_1_21_sspa%3Fdchild%3D1%26keywords%3Dsamsung%26qid%3D1635256052%26sr%3D8-21-spons%26psc%3D1&qualifier=1635256052&id=4794581300267539&widgetName=sp_btf\n",
      "\n",
      "22 https://www.amazon.com//gp/slredirect/picassoRedirect.html/ref=pa_sp_btf_aps_sr_pg1_1?ie=UTF8&adId=A01282633JJQKLIRZBB55&url=%2FErmorgen-Compatible-Definition-Anti-Scratch-Replacement%2Fdp%2FB09BCWSWNY%2Fref%3Dsr_1_22_sspa%3Fdchild%3D1%26keywords%3Dsamsung%26qid%3D1635256052%26sr%3D8-22-spons%26psc%3D1%26smid%3DAQ4SBURRVWAFY&qualifier=1635256052&id=4794581300267539&widgetName=sp_btf\n",
      "\n",
      "23 https://www.amazon.com//Samsung-Factory-Unlocked-Warranty-Renewed/dp/B07PFL39NH/ref=sxbs_aspa_sqa?cv_ct_cx=samsung&dchild=1&keywords=samsung&pd_rd_i=B07PFL39NH&pd_rd_r=e2d12be2-1343-4297-adf2-dab550d8a62c&pd_rd_w=HnVlU&pd_rd_wg=iSO2j&pf_rd_p=2d8889f6-827c-4aa3-ba78-25853f8933ed&pf_rd_r=F6H4XVZHT3ETKXVGHQV6&qid=1635256052&sr=1-1-e2a25af9-85f9-4cd2-bc34-0ef16cb90c3e\n",
      "\n",
      "24 https://www.amazon.com//Samsung-Factory-Unlocked-Warranty-Renewed/dp/B07PJV9ZLR/ref=sxbs_aspa_sqa?cv_ct_cx=samsung&dchild=1&keywords=samsung&pd_rd_i=B07PJV9ZLR&pd_rd_r=e2d12be2-1343-4297-adf2-dab550d8a62c&pd_rd_w=HnVlU&pd_rd_wg=iSO2j&pf_rd_p=2d8889f6-827c-4aa3-ba78-25853f8933ed&pf_rd_r=F6H4XVZHT3ETKXVGHQV6&qid=1635256052&sr=1-2-e2a25af9-85f9-4cd2-bc34-0ef16cb90c3e\n",
      "\n",
      "25 https://www.amazon.com//Samsung-Galaxy-Cellphone-Factory-Unlock/dp/B07NYBSX9V/ref=sxbs_aspa_sqa?cv_ct_cx=samsung&dchild=1&keywords=samsung&pd_rd_i=B07NYBSX9V&pd_rd_r=e2d12be2-1343-4297-adf2-dab550d8a62c&pd_rd_w=HnVlU&pd_rd_wg=iSO2j&pf_rd_p=2d8889f6-827c-4aa3-ba78-25853f8933ed&pf_rd_r=F6H4XVZHT3ETKXVGHQV6&qid=1635256052&sr=1-4-e2a25af9-85f9-4cd2-bc34-0ef16cb90c3e\n",
      "\n",
      "26 https://www.amazon.com//Samsung-Galaxy-Cellphone-Factory-Unlock/dp/B07P2FWRQT/ref=sxbs_aspa_sqa?cv_ct_cx=samsung&dchild=1&keywords=samsung&pd_rd_i=B07P2FWRQT&pd_rd_r=e2d12be2-1343-4297-adf2-dab550d8a62c&pd_rd_w=HnVlU&pd_rd_wg=iSO2j&pf_rd_p=2d8889f6-827c-4aa3-ba78-25853f8933ed&pf_rd_r=F6H4XVZHT3ETKXVGHQV6&qid=1635256052&sr=1-5-e2a25af9-85f9-4cd2-bc34-0ef16cb90c3e\n",
      "\n",
      "27 https://www.amazon.com//Samsung-SM-G973F-DS-Smartphone-International/dp/B07NZXXZB2/ref=sxbs_aspa_sqa?cv_ct_cx=samsung&dchild=1&keywords=samsung&pd_rd_i=B07NZXXZB2&pd_rd_r=e2d12be2-1343-4297-adf2-dab550d8a62c&pd_rd_w=HnVlU&pd_rd_wg=iSO2j&pf_rd_p=2d8889f6-827c-4aa3-ba78-25853f8933ed&pf_rd_r=F6H4XVZHT3ETKXVGHQV6&qid=1635256052&sr=1-7-e2a25af9-85f9-4cd2-bc34-0ef16cb90c3e\n",
      "\n"
     ]
    }
   ],
   "source": [
    "all_item_link = []\n",
    "all_item = soup.find_all(\"h2\", class_ = \"a-size-mini a-spacing-none a-color-base s-line-clamp-2\")\n",
    "print(\"item 개수 :\", len(all_item))\n",
    "for one in all_item :\n",
    "    # print(one.a.attrs['href'])\n",
    "    all_item_link.append(amazon_url + one.a.attrs['href'])\n",
    "\n",
    "for idx, val in enumerate(all_item_link) :\n",
    "    print(idx + 1, val)\n",
    "    print()"
   ]
  },
  {
   "cell_type": "code",
   "execution_count": null,
   "id": "a45f20d7",
   "metadata": {},
   "outputs": [],
   "source": []
  }
 ],
 "metadata": {
  "kernelspec": {
   "display_name": "Python 3 (ipykernel)",
   "language": "python",
   "name": "python3"
  },
  "language_info": {
   "codemirror_mode": {
    "name": "ipython",
    "version": 3
   },
   "file_extension": ".py",
   "mimetype": "text/x-python",
   "name": "python",
   "nbconvert_exporter": "python",
   "pygments_lexer": "ipython3",
   "version": "3.8.8"
  }
 },
 "nbformat": 4,
 "nbformat_minor": 5
}
