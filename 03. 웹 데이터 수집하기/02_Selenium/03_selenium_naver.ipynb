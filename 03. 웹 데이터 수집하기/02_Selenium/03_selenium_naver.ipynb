{
 "cells": [
  {
   "cell_type": "markdown",
   "id": "3c1ab812",
   "metadata": {},
   "source": [
    "## 2021_09_10_4\n",
    "* 네이버 웹 페이지 띄우고, 검색한 이후에, 정보 확인하기\n",
    "* 네이버 뉴스 속보탭 클릭\n",
    "* 네이버에서 코로나 검색\n",
    "* 네이버 증권 코스닥 정보 가져오기"
   ]
  },
  {
   "cell_type": "markdown",
   "id": "391c8a5f",
   "metadata": {},
   "source": [
    "## 네이버 웹 페이지를 띄우고, 검색한 이후에, 정보를 확인하기"
   ]
  },
  {
   "cell_type": "code",
   "execution_count": 95,
   "id": "0b97cfff",
   "metadata": {},
   "outputs": [],
   "source": [
    "from selenium import webdriver\n",
    "\n",
    "url = \"https://news.naver.com/\"\n",
    "driver = webdriver.Chrome(\"./DATA/chromedriver\")\n",
    "driver.get(url)"
   ]
  },
  {
   "cell_type": "code",
   "execution_count": 63,
   "id": "d500a4b5",
   "metadata": {},
   "outputs": [],
   "source": [
    "## 검색 입력창 xpath : //*[@id=\"lnb.searchForm\"]/fieldset/input[1]\n",
    "## 검색 버튼 xpath : //*[@id=\"lnb.searchForm\"]/fieldset/button"
   ]
  },
  {
   "cell_type": "code",
   "execution_count": 96,
   "id": "d5b996a5",
   "metadata": {},
   "outputs": [],
   "source": [
    "selected_xpath_a = driver.find_element_by_xpath('//*[@id=\"lnb.searchForm\"]/fieldset/input[1]')\n",
    "selected_xpath_search = driver.find_element_by_xpath('//*[@id=\"lnb.searchForm\"]/fieldset/button')"
   ]
  },
  {
   "cell_type": "code",
   "execution_count": 97,
   "id": "28abf2fa",
   "metadata": {},
   "outputs": [],
   "source": [
    "selected_xpath_a.send_keys(\"미세먼지\")\n",
    "# print(selected_xpath_a.text)\n",
    "selected_xpath_search.click()"
   ]
  },
  {
   "cell_type": "markdown",
   "id": "f9d3199c",
   "metadata": {},
   "source": [
    "## 네이버 뉴스 속보탭 클릭"
   ]
  },
  {
   "cell_type": "code",
   "execution_count": 11,
   "id": "75ec7ca7",
   "metadata": {},
   "outputs": [],
   "source": [
    "## 속보 링크 : //*[@id=\"lnb\"]/ul/li[2]/a\n",
    "## 속보 링크 span : //*[@id=\"lnb\"]/ul/li[2]/a/span\n",
    "## a tag 상위 li tag : //*[@id=\"lnb\"]/ul/li[2]"
   ]
  },
  {
   "cell_type": "code",
   "execution_count": 75,
   "id": "ed5e01dd",
   "metadata": {},
   "outputs": [],
   "source": [
    "selected_xpath_link = driver.find_element_by_xpath('//*[@id=\"lnb\"]/ul/li[2]')\n",
    "selected_xpath_link.click()"
   ]
  },
  {
   "cell_type": "markdown",
   "id": "8e9260cf",
   "metadata": {},
   "source": [
    "## 네이버에서 코로나 검색하기"
   ]
  },
  {
   "cell_type": "code",
   "execution_count": 76,
   "id": "55ed0c17",
   "metadata": {},
   "outputs": [],
   "source": [
    "naver_url = \"https://www.naver.com/\"\n",
    "driver.get(naver_url)"
   ]
  },
  {
   "cell_type": "code",
   "execution_count": 77,
   "id": "ad04704c",
   "metadata": {},
   "outputs": [],
   "source": [
    "# input xpath : //*[@id=\"query\"]\n",
    "# search button xpath : //*[@id=\"search_btn\"]"
   ]
  },
  {
   "cell_type": "code",
   "execution_count": 78,
   "id": "2cb64835",
   "metadata": {},
   "outputs": [],
   "source": [
    "naver_input_xpath = driver.find_element_by_xpath('//*[@id=\"query\"]')\n",
    "naver_search_button_xpath = driver.find_element_by_xpath('//*[@id=\"search_btn\"]')\n",
    "\n",
    "naver_input_xpath.send_keys(\"코로나\")\n",
    "naver_search_button_xpath.click()"
   ]
  },
  {
   "cell_type": "code",
   "execution_count": 79,
   "id": "006e7d56",
   "metadata": {},
   "outputs": [],
   "source": [
    "# naver_input_xpath.send_keys(\"코로나 라이브\")\n",
    "# naver_search_button_xpath.click()"
   ]
  },
  {
   "cell_type": "markdown",
   "id": "6ada52ef",
   "metadata": {},
   "source": [
    "## 네이버 증권 코스닥 정보 가져오기"
   ]
  },
  {
   "cell_type": "code",
   "execution_count": 82,
   "id": "1ded1e7f",
   "metadata": {},
   "outputs": [],
   "source": [
    "naver_finance_url = \"https://finance.naver.com/sise/\"\n",
    "driver.get(naver_finance_url)\n",
    "kosdaq_link = driver.find_element_by_xpath('//*[@id=\"contentarea\"]/div[1]/div[1]/ul/li[2]/a')\n",
    "kosdaq_link.click()"
   ]
  },
  {
   "cell_type": "code",
   "execution_count": 83,
   "id": "f4a77419",
   "metadata": {},
   "outputs": [],
   "source": [
    "naver_kosdaq_url = \"https://finance.naver.com/sise/sise_index.nhn?code=KOSDAQ\"\n",
    "driver.get(naver_kosdaq_url)"
   ]
  },
  {
   "cell_type": "code",
   "execution_count": 84,
   "id": "d229fb2e",
   "metadata": {},
   "outputs": [
    {
     "name": "stdout",
     "output_type": "stream",
     "text": [
      "코스닥 : 1,037.72\n"
     ]
    }
   ],
   "source": [
    "kosdaq = driver.find_element_by_id(\"now_value\")\n",
    "print(\"코스닥 :\", kosdaq.text)"
   ]
  },
  {
   "cell_type": "code",
   "execution_count": 85,
   "id": "ba560ea0",
   "metadata": {},
   "outputs": [
    {
     "name": "stdout",
     "output_type": "stream",
     "text": [
      "코스닥 : 1,037.72\n"
     ]
    }
   ],
   "source": [
    "kosdaq_xpath = driver.find_element_by_xpath('//*[@id=\"now_value\"]')\n",
    "print(\"코스닥 :\", kosdaq_xpath.text)"
   ]
  }
 ],
 "metadata": {
  "kernelspec": {
   "display_name": "Python 3 (ipykernel)",
   "language": "python",
   "name": "python3"
  },
  "language_info": {
   "codemirror_mode": {
    "name": "ipython",
    "version": 3
   },
   "file_extension": ".py",
   "mimetype": "text/x-python",
   "name": "python",
   "nbconvert_exporter": "python",
   "pygments_lexer": "ipython3",
   "version": "3.8.8"
  }
 },
 "nbformat": 4,
 "nbformat_minor": 5
}
