{
 "cells": [
  {
   "cell_type": "markdown",
   "id": "6d9f5046",
   "metadata": {},
   "source": [
    "### 코스피 1일 종가 데이터\n",
    "* 코로나 기간 : 2020-01-20 ~ 2021-08-31\n",
    "* 3년 데이터 기간 : 2018-01-01 ~ 2021-08-31\n",
    "* 데이터 프레임 생성\n",
    "    * 코로나 기간 : kospi\n",
    "    * 3년 데이터 기간 : kospi_3_year\n",
    "* 각각의 csv 파일 생성\n",
    "    * 코로나 기간 : 09_kospi.csv -> 코로나 확진자 수 vs 코스피 상관관계 분석을 위해 생성\n",
    "    * 3년 데이터 기간 : 10_kospi_3_year.csv -> 코로나 전후 비교를 위해 생성"
   ]
  },
  {
   "cell_type": "code",
   "execution_count": 57,
   "id": "384b420f",
   "metadata": {},
   "outputs": [],
   "source": [
    "import pandas as pd\n",
    "import yfinance as yf"
   ]
  },
  {
   "cell_type": "code",
   "execution_count": 58,
   "id": "3ba0a58d",
   "metadata": {},
   "outputs": [
    {
     "name": "stdout",
     "output_type": "stream",
     "text": [
      "[*********************100%***********************]  1 of 1 completed\n",
      "<class 'pandas.core.frame.DataFrame'>\n",
      "DatetimeIndex: 400 entries, 2020-01-20 to 2021-08-27\n",
      "Data columns (total 6 columns):\n",
      " #   Column     Non-Null Count  Dtype  \n",
      "---  ------     --------------  -----  \n",
      " 0   Open       400 non-null    float64\n",
      " 1   High       400 non-null    float64\n",
      " 2   Low        400 non-null    float64\n",
      " 3   Close      400 non-null    float64\n",
      " 4   Adj Close  400 non-null    float64\n",
      " 5   Volume     400 non-null    int64  \n",
      "dtypes: float64(5), int64(1)\n",
      "memory usage: 21.9 KB\n",
      "None\n"
     ]
    }
   ],
   "source": [
    "df = yf.download(\"^KS11\", start = \"2020-01-20\", end = \"2021-08-30\")\n",
    "print(df.info())"
   ]
  },
  {
   "cell_type": "code",
   "execution_count": 59,
   "id": "cf3e8d00",
   "metadata": {},
   "outputs": [
    {
     "data": {
      "text/plain": [
       "DatetimeIndex(['2020-01-20', '2020-01-21', '2020-01-22', '2020-01-23',\n",
       "               '2020-01-28', '2020-01-29', '2020-01-30', '2020-01-31',\n",
       "               '2020-02-03', '2020-02-04',\n",
       "               ...\n",
       "               '2021-08-13', '2021-08-17', '2021-08-18', '2021-08-19',\n",
       "               '2021-08-20', '2021-08-23', '2021-08-24', '2021-08-25',\n",
       "               '2021-08-26', '2021-08-27'],\n",
       "              dtype='datetime64[ns]', name='Date', length=400, freq=None)"
      ]
     },
     "execution_count": 59,
     "metadata": {},
     "output_type": "execute_result"
    }
   ],
   "source": [
    "df.index"
   ]
  },
  {
   "cell_type": "code",
   "execution_count": 60,
   "id": "f7bab70f",
   "metadata": {},
   "outputs": [],
   "source": [
    "# df.to_csv(\"kospi.csv\")"
   ]
  },
  {
   "cell_type": "code",
   "execution_count": 61,
   "id": "47565c32",
   "metadata": {},
   "outputs": [
    {
     "name": "stdout",
     "output_type": "stream",
     "text": [
      "<class 'pandas.core.frame.DataFrame'>\n",
      "DatetimeIndex: 400 entries, 2020-01-20 to 2021-08-27\n",
      "Data columns (total 1 columns):\n",
      " #   Column  Non-Null Count  Dtype  \n",
      "---  ------  --------------  -----  \n",
      " 0   코스피     400 non-null    float64\n",
      "dtypes: float64(1)\n",
      "memory usage: 6.2 KB\n"
     ]
    }
   ],
   "source": [
    "kospi = pd.DataFrame({\"코스피\" : df[\"Close\"]})\n",
    "kospi.info()"
   ]
  },
  {
   "cell_type": "code",
   "execution_count": 62,
   "id": "e3596634",
   "metadata": {},
   "outputs": [
    {
     "data": {
      "text/html": [
       "<div>\n",
       "<style scoped>\n",
       "    .dataframe tbody tr th:only-of-type {\n",
       "        vertical-align: middle;\n",
       "    }\n",
       "\n",
       "    .dataframe tbody tr th {\n",
       "        vertical-align: top;\n",
       "    }\n",
       "\n",
       "    .dataframe thead th {\n",
       "        text-align: right;\n",
       "    }\n",
       "</style>\n",
       "<table border=\"1\" class=\"dataframe\">\n",
       "  <thead>\n",
       "    <tr style=\"text-align: right;\">\n",
       "      <th></th>\n",
       "      <th>날짜</th>\n",
       "      <th>코스피</th>\n",
       "    </tr>\n",
       "  </thead>\n",
       "  <tbody>\n",
       "    <tr>\n",
       "      <th>397</th>\n",
       "      <td>2021-08-25</td>\n",
       "      <td>3146.810059</td>\n",
       "    </tr>\n",
       "    <tr>\n",
       "      <th>398</th>\n",
       "      <td>2021-08-26</td>\n",
       "      <td>3128.530029</td>\n",
       "    </tr>\n",
       "    <tr>\n",
       "      <th>399</th>\n",
       "      <td>2021-08-27</td>\n",
       "      <td>3133.899902</td>\n",
       "    </tr>\n",
       "  </tbody>\n",
       "</table>\n",
       "</div>"
      ],
      "text/plain": [
       "            날짜          코스피\n",
       "397 2021-08-25  3146.810059\n",
       "398 2021-08-26  3128.530029\n",
       "399 2021-08-27  3133.899902"
      ]
     },
     "execution_count": 62,
     "metadata": {},
     "output_type": "execute_result"
    }
   ],
   "source": [
    "kospi.reset_index(inplace = True)\n",
    "kospi.columns = [\"날짜\", \"코스피\"]\n",
    "kospi.tail(3)"
   ]
  },
  {
   "cell_type": "code",
   "execution_count": 63,
   "id": "345c092d",
   "metadata": {},
   "outputs": [
    {
     "name": "stdout",
     "output_type": "stream",
     "text": [
      "[*********************100%***********************]  1 of 1 completed\n",
      "<class 'pandas.core.frame.DataFrame'>\n",
      "DatetimeIndex: 899 entries, 2018-01-03 to 2021-08-27\n",
      "Data columns (total 6 columns):\n",
      " #   Column     Non-Null Count  Dtype  \n",
      "---  ------     --------------  -----  \n",
      " 0   Open       899 non-null    float64\n",
      " 1   High       899 non-null    float64\n",
      " 2   Low        899 non-null    float64\n",
      " 3   Close      899 non-null    float64\n",
      " 4   Adj Close  899 non-null    float64\n",
      " 5   Volume     899 non-null    int64  \n",
      "dtypes: float64(5), int64(1)\n",
      "memory usage: 49.2 KB\n",
      "None\n"
     ]
    }
   ],
   "source": [
    "df_tmp = yf.download(\"^KS11\", start = \"2018-01-01\", end = \"2021-08-31\")\n",
    "print(df_tmp.info())"
   ]
  },
  {
   "cell_type": "code",
   "execution_count": 64,
   "id": "bcba2707",
   "metadata": {},
   "outputs": [
    {
     "name": "stdout",
     "output_type": "stream",
     "text": [
      "<class 'pandas.core.frame.DataFrame'>\n",
      "DatetimeIndex: 899 entries, 2018-01-03 to 2021-08-27\n",
      "Data columns (total 1 columns):\n",
      " #   Column  Non-Null Count  Dtype  \n",
      "---  ------  --------------  -----  \n",
      " 0   코스피     899 non-null    float64\n",
      "dtypes: float64(1)\n",
      "memory usage: 14.0 KB\n"
     ]
    }
   ],
   "source": [
    "kospi_3_year = pd.DataFrame({\"코스피\" : df_tmp[\"Close\"]})\n",
    "kospi_3_year.info()"
   ]
  },
  {
   "cell_type": "code",
   "execution_count": 65,
   "id": "d479f032",
   "metadata": {},
   "outputs": [
    {
     "data": {
      "text/html": [
       "<div>\n",
       "<style scoped>\n",
       "    .dataframe tbody tr th:only-of-type {\n",
       "        vertical-align: middle;\n",
       "    }\n",
       "\n",
       "    .dataframe tbody tr th {\n",
       "        vertical-align: top;\n",
       "    }\n",
       "\n",
       "    .dataframe thead th {\n",
       "        text-align: right;\n",
       "    }\n",
       "</style>\n",
       "<table border=\"1\" class=\"dataframe\">\n",
       "  <thead>\n",
       "    <tr style=\"text-align: right;\">\n",
       "      <th></th>\n",
       "      <th>날짜</th>\n",
       "      <th>코스피</th>\n",
       "    </tr>\n",
       "  </thead>\n",
       "  <tbody>\n",
       "    <tr>\n",
       "      <th>896</th>\n",
       "      <td>2021-08-25</td>\n",
       "      <td>3146.810059</td>\n",
       "    </tr>\n",
       "    <tr>\n",
       "      <th>897</th>\n",
       "      <td>2021-08-26</td>\n",
       "      <td>3128.530029</td>\n",
       "    </tr>\n",
       "    <tr>\n",
       "      <th>898</th>\n",
       "      <td>2021-08-27</td>\n",
       "      <td>3133.899902</td>\n",
       "    </tr>\n",
       "  </tbody>\n",
       "</table>\n",
       "</div>"
      ],
      "text/plain": [
       "            날짜          코스피\n",
       "896 2021-08-25  3146.810059\n",
       "897 2021-08-26  3128.530029\n",
       "898 2021-08-27  3133.899902"
      ]
     },
     "execution_count": 65,
     "metadata": {},
     "output_type": "execute_result"
    }
   ],
   "source": [
    "kospi_3_year.reset_index(inplace = True)\n",
    "kospi_3_year.columns = [\"날짜\", \"코스피\"]\n",
    "kospi_3_year.tail(3)"
   ]
  },
  {
   "cell_type": "code",
   "execution_count": 66,
   "id": "92fb9031",
   "metadata": {},
   "outputs": [
    {
     "name": "stdout",
     "output_type": "stream",
     "text": [
      "<class 'pandas.core.frame.DataFrame'>\n",
      "RangeIndex: 400 entries, 0 to 399\n",
      "Data columns (total 2 columns):\n",
      " #   Column  Non-Null Count  Dtype         \n",
      "---  ------  --------------  -----         \n",
      " 0   날짜      400 non-null    datetime64[ns]\n",
      " 1   코스피     400 non-null    float64       \n",
      "dtypes: datetime64[ns](1), float64(1)\n",
      "memory usage: 6.4 KB\n",
      "None\n",
      "<class 'pandas.core.frame.DataFrame'>\n",
      "RangeIndex: 899 entries, 0 to 898\n",
      "Data columns (total 2 columns):\n",
      " #   Column  Non-Null Count  Dtype         \n",
      "---  ------  --------------  -----         \n",
      " 0   날짜      899 non-null    datetime64[ns]\n",
      " 1   코스피     899 non-null    float64       \n",
      "dtypes: datetime64[ns](1), float64(1)\n",
      "memory usage: 14.2 KB\n",
      "None\n"
     ]
    }
   ],
   "source": [
    "print(kospi.info())\n",
    "print(kospi_3_year.info())"
   ]
  },
  {
   "cell_type": "code",
   "execution_count": 67,
   "id": "34a07bfc",
   "metadata": {},
   "outputs": [
    {
     "name": "stdout",
     "output_type": "stream",
     "text": [
      "kospi shape : (400, 2)\n",
      "kospi_900 shape :  (899, 2)\n"
     ]
    }
   ],
   "source": [
    "print(\"kospi shape :\", kospi.shape)\n",
    "print(\"kospi_3_year shape : \", kospi_3_year.shape)"
   ]
  },
  {
   "cell_type": "code",
   "execution_count": 55,
   "id": "46da8fc6",
   "metadata": {},
   "outputs": [],
   "source": [
    "kospi.to_csv(\"./CSV/09_kospi.csv\", index = False)\n",
    "kospi_3_year.to_csv(\"./CSV/10_kospi_3_year.csv\", index = False)"
   ]
  },
  {
   "cell_type": "code",
   "execution_count": 4,
   "id": "8e8fc44f",
   "metadata": {},
   "outputs": [],
   "source": [
    "# import matplotlib.pyplot as plt\n",
    " \n",
    "# msft = yf.Ticker(\"066570.KS\")\n",
    "# #msft.info\n",
    "# df =msft.history(start ='2018-01-01', end = '2020-03-04')\n",
    "# df =msft.history(period = '1y')\n",
    "# df =msft.history(period = 'max')\n",
    "# plt.plot(list(df['Open']))"
   ]
  },
  {
   "cell_type": "code",
   "execution_count": null,
   "id": "9c8846eb",
   "metadata": {},
   "outputs": [],
   "source": []
  }
 ],
 "metadata": {
  "kernelspec": {
   "display_name": "Python 3 (ipykernel)",
   "language": "python",
   "name": "python3"
  },
  "language_info": {
   "codemirror_mode": {
    "name": "ipython",
    "version": 3
   },
   "file_extension": ".py",
   "mimetype": "text/x-python",
   "name": "python",
   "nbconvert_exporter": "python",
   "pygments_lexer": "ipython3",
   "version": "3.8.8"
  }
 },
 "nbformat": 4,
 "nbformat_minor": 5
}
