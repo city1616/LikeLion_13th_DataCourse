{
 "cells": [
  {
   "cell_type": "code",
   "execution_count": 18,
   "id": "640bd943",
   "metadata": {},
   "outputs": [],
   "source": [
    "import pandas as pd"
   ]
  },
  {
   "cell_type": "code",
   "execution_count": 19,
   "id": "73ac6f83",
   "metadata": {},
   "outputs": [],
   "source": [
    "news_data = pd.read_csv(\"./CSV/05_news_title.csv\")"
   ]
  },
  {
   "cell_type": "code",
   "execution_count": 20,
   "id": "31ce07f7",
   "metadata": {},
   "outputs": [
    {
     "data": {
      "text/html": [
       "<div>\n",
       "<style scoped>\n",
       "    .dataframe tbody tr th:only-of-type {\n",
       "        vertical-align: middle;\n",
       "    }\n",
       "\n",
       "    .dataframe tbody tr th {\n",
       "        vertical-align: top;\n",
       "    }\n",
       "\n",
       "    .dataframe thead th {\n",
       "        text-align: right;\n",
       "    }\n",
       "</style>\n",
       "<table border=\"1\" class=\"dataframe\">\n",
       "  <thead>\n",
       "    <tr style=\"text-align: right;\">\n",
       "      <th></th>\n",
       "      <th>날짜</th>\n",
       "      <th>제목</th>\n",
       "    </tr>\n",
       "  </thead>\n",
       "  <tbody>\n",
       "    <tr>\n",
       "      <th>0</th>\n",
       "      <td>2020-01-21</td>\n",
       "      <td>[사설] 중국발 '우한 폐렴' 공포, 우리나라도 안전지대 아니다</td>\n",
       "    </tr>\n",
       "    <tr>\n",
       "      <th>1</th>\n",
       "      <td>2020-01-21</td>\n",
       "      <td>춘절 기간 中관광객 13만명 오는데 ‘우한 폐렴’ 공항 방역 비상</td>\n",
       "    </tr>\n",
       "    <tr>\n",
       "      <th>2</th>\n",
       "      <td>2020-01-21</td>\n",
       "      <td>우한 폐렴 1명이 14명 감염 사스급 전염병 우려</td>\n",
       "    </tr>\n",
       "  </tbody>\n",
       "</table>\n",
       "</div>"
      ],
      "text/plain": [
       "           날짜                                    제목\n",
       "0  2020-01-21   [사설] 중국발 '우한 폐렴' 공포, 우리나라도 안전지대 아니다\n",
       "1  2020-01-21  춘절 기간 中관광객 13만명 오는데 ‘우한 폐렴’ 공항 방역 비상\n",
       "2  2020-01-21           우한 폐렴 1명이 14명 감염 사스급 전염병 우려"
      ]
     },
     "execution_count": 20,
     "metadata": {},
     "output_type": "execute_result"
    }
   ],
   "source": [
    "news_data.head(3)"
   ]
  },
  {
   "cell_type": "code",
   "execution_count": 21,
   "id": "b1899547",
   "metadata": {},
   "outputs": [
    {
     "name": "stdout",
     "output_type": "stream",
     "text": [
      "<class 'pandas.core.frame.DataFrame'>\n",
      "RangeIndex: 1952789 entries, 0 to 1952788\n",
      "Data columns (total 2 columns):\n",
      " #   Column  Dtype \n",
      "---  ------  ----- \n",
      " 0   날짜      object\n",
      " 1   제목      object\n",
      "dtypes: object(2)\n",
      "memory usage: 29.8+ MB\n"
     ]
    }
   ],
   "source": [
    "news_data.info()"
   ]
  },
  {
   "cell_type": "markdown",
   "id": "66f100fc",
   "metadata": {},
   "source": [
    "### 날짜 데이터 타입 변경"
   ]
  },
  {
   "cell_type": "code",
   "execution_count": 22,
   "id": "388d6984",
   "metadata": {},
   "outputs": [
    {
     "data": {
      "text/html": [
       "<div>\n",
       "<style scoped>\n",
       "    .dataframe tbody tr th:only-of-type {\n",
       "        vertical-align: middle;\n",
       "    }\n",
       "\n",
       "    .dataframe tbody tr th {\n",
       "        vertical-align: top;\n",
       "    }\n",
       "\n",
       "    .dataframe thead th {\n",
       "        text-align: right;\n",
       "    }\n",
       "</style>\n",
       "<table border=\"1\" class=\"dataframe\">\n",
       "  <thead>\n",
       "    <tr style=\"text-align: right;\">\n",
       "      <th></th>\n",
       "      <th>날짜</th>\n",
       "      <th>제목</th>\n",
       "    </tr>\n",
       "  </thead>\n",
       "  <tbody>\n",
       "    <tr>\n",
       "      <th>0</th>\n",
       "      <td>2020-01-21</td>\n",
       "      <td>[사설] 중국발 '우한 폐렴' 공포, 우리나라도 안전지대 아니다</td>\n",
       "    </tr>\n",
       "    <tr>\n",
       "      <th>1</th>\n",
       "      <td>2020-01-21</td>\n",
       "      <td>춘절 기간 中관광객 13만명 오는데 ‘우한 폐렴’ 공항 방역 비상</td>\n",
       "    </tr>\n",
       "    <tr>\n",
       "      <th>2</th>\n",
       "      <td>2020-01-21</td>\n",
       "      <td>우한 폐렴 1명이 14명 감염 사스급 전염병 우려</td>\n",
       "    </tr>\n",
       "  </tbody>\n",
       "</table>\n",
       "</div>"
      ],
      "text/plain": [
       "          날짜                                    제목\n",
       "0 2020-01-21   [사설] 중국발 '우한 폐렴' 공포, 우리나라도 안전지대 아니다\n",
       "1 2020-01-21  춘절 기간 中관광객 13만명 오는데 ‘우한 폐렴’ 공항 방역 비상\n",
       "2 2020-01-21           우한 폐렴 1명이 14명 감염 사스급 전염병 우려"
      ]
     },
     "execution_count": 22,
     "metadata": {},
     "output_type": "execute_result"
    }
   ],
   "source": [
    "news_data[\"날짜\"] = news_data[\"날짜\"].astype(\"str\")\n",
    "news_data[\"날짜\"] = pd.to_datetime(news_data[\"날짜\"], format = \"%Y-%m-%d\")\n",
    "# news_data[\"일자\"] = pd.to_datetime(news_data[\"일자\"], unit = \"ns\")\n",
    "# news_data[\"일자\"] = news_data[\"일자\"].apply(lambda _ : datetime.strftime(_, \"%Y%m%d\"))\n",
    "news_data.head(3)"
   ]
  },
  {
   "cell_type": "code",
   "execution_count": 23,
   "id": "9a50bcf7",
   "metadata": {},
   "outputs": [
    {
     "name": "stdout",
     "output_type": "stream",
     "text": [
      "<class 'pandas.core.frame.DataFrame'>\n",
      "RangeIndex: 1952789 entries, 0 to 1952788\n",
      "Data columns (total 2 columns):\n",
      " #   Column  Dtype         \n",
      "---  ------  -----         \n",
      " 0   날짜      datetime64[ns]\n",
      " 1   제목      object        \n",
      "dtypes: datetime64[ns](1), object(1)\n",
      "memory usage: 29.8+ MB\n"
     ]
    }
   ],
   "source": [
    "news_data.info()"
   ]
  },
  {
   "cell_type": "code",
   "execution_count": 24,
   "id": "ed821110",
   "metadata": {},
   "outputs": [
    {
     "data": {
      "text/html": [
       "<div>\n",
       "<style scoped>\n",
       "    .dataframe tbody tr th:only-of-type {\n",
       "        vertical-align: middle;\n",
       "    }\n",
       "\n",
       "    .dataframe tbody tr th {\n",
       "        vertical-align: top;\n",
       "    }\n",
       "\n",
       "    .dataframe thead th {\n",
       "        text-align: right;\n",
       "    }\n",
       "</style>\n",
       "<table border=\"1\" class=\"dataframe\">\n",
       "  <thead>\n",
       "    <tr style=\"text-align: right;\">\n",
       "      <th></th>\n",
       "      <th>제목</th>\n",
       "    </tr>\n",
       "    <tr>\n",
       "      <th>날짜</th>\n",
       "      <th></th>\n",
       "    </tr>\n",
       "  </thead>\n",
       "  <tbody>\n",
       "    <tr>\n",
       "      <th>2020-01-20</th>\n",
       "      <td>273</td>\n",
       "    </tr>\n",
       "    <tr>\n",
       "      <th>2020-01-21</th>\n",
       "      <td>432</td>\n",
       "    </tr>\n",
       "    <tr>\n",
       "      <th>2020-01-22</th>\n",
       "      <td>563</td>\n",
       "    </tr>\n",
       "    <tr>\n",
       "      <th>2020-01-23</th>\n",
       "      <td>627</td>\n",
       "    </tr>\n",
       "    <tr>\n",
       "      <th>2020-01-24</th>\n",
       "      <td>473</td>\n",
       "    </tr>\n",
       "    <tr>\n",
       "      <th>...</th>\n",
       "      <td>...</td>\n",
       "    </tr>\n",
       "    <tr>\n",
       "      <th>2021-08-27</th>\n",
       "      <td>2120</td>\n",
       "    </tr>\n",
       "    <tr>\n",
       "      <th>2021-08-28</th>\n",
       "      <td>634</td>\n",
       "    </tr>\n",
       "    <tr>\n",
       "      <th>2021-08-29</th>\n",
       "      <td>1399</td>\n",
       "    </tr>\n",
       "    <tr>\n",
       "      <th>2021-08-30</th>\n",
       "      <td>2862</td>\n",
       "    </tr>\n",
       "    <tr>\n",
       "      <th>2021-08-31</th>\n",
       "      <td>2940</td>\n",
       "    </tr>\n",
       "  </tbody>\n",
       "</table>\n",
       "<p>590 rows × 1 columns</p>\n",
       "</div>"
      ],
      "text/plain": [
       "              제목\n",
       "날짜              \n",
       "2020-01-20   273\n",
       "2020-01-21   432\n",
       "2020-01-22   563\n",
       "2020-01-23   627\n",
       "2020-01-24   473\n",
       "...          ...\n",
       "2021-08-27  2120\n",
       "2021-08-28   634\n",
       "2021-08-29  1399\n",
       "2021-08-30  2862\n",
       "2021-08-31  2940\n",
       "\n",
       "[590 rows x 1 columns]"
      ]
     },
     "execution_count": 24,
     "metadata": {},
     "output_type": "execute_result"
    }
   ],
   "source": [
    "news_data.groupby(news_data[\"날짜\"]).count()"
   ]
  },
  {
   "cell_type": "code",
   "execution_count": 25,
   "id": "0db46b83",
   "metadata": {},
   "outputs": [
    {
     "data": {
      "text/html": [
       "<div>\n",
       "<style scoped>\n",
       "    .dataframe tbody tr th:only-of-type {\n",
       "        vertical-align: middle;\n",
       "    }\n",
       "\n",
       "    .dataframe tbody tr th {\n",
       "        vertical-align: top;\n",
       "    }\n",
       "\n",
       "    .dataframe thead th {\n",
       "        text-align: right;\n",
       "    }\n",
       "</style>\n",
       "<table border=\"1\" class=\"dataframe\">\n",
       "  <thead>\n",
       "    <tr style=\"text-align: right;\">\n",
       "      <th></th>\n",
       "      <th>날짜</th>\n",
       "      <th>뉴스 개수</th>\n",
       "    </tr>\n",
       "  </thead>\n",
       "  <tbody>\n",
       "    <tr>\n",
       "      <th>0</th>\n",
       "      <td>2020-01-20</td>\n",
       "      <td>273</td>\n",
       "    </tr>\n",
       "    <tr>\n",
       "      <th>1</th>\n",
       "      <td>2020-01-21</td>\n",
       "      <td>432</td>\n",
       "    </tr>\n",
       "    <tr>\n",
       "      <th>2</th>\n",
       "      <td>2020-01-22</td>\n",
       "      <td>563</td>\n",
       "    </tr>\n",
       "  </tbody>\n",
       "</table>\n",
       "</div>"
      ],
      "text/plain": [
       "          날짜  뉴스 개수\n",
       "0 2020-01-20    273\n",
       "1 2020-01-21    432\n",
       "2 2020-01-22    563"
      ]
     },
     "execution_count": 25,
     "metadata": {},
     "output_type": "execute_result"
    }
   ],
   "source": [
    "news_cnt = news_data.groupby(news_data[\"날짜\"]).count()\n",
    "# news_df[\"일자\"] = news_df.index\n",
    "news_cnt.reset_index(inplace = True)\n",
    "news_cnt.columns = [\"날짜\", \"뉴스 개수\"]\n",
    "# type(news_df)\n",
    "news_cnt.head(3)\n",
    "# news_df.columns\n",
    "# news_df.info()"
   ]
  },
  {
   "cell_type": "code",
   "execution_count": 26,
   "id": "f4029595",
   "metadata": {},
   "outputs": [
    {
     "name": "stdout",
     "output_type": "stream",
     "text": [
      "<class 'pandas.core.frame.DataFrame'>\n",
      "RangeIndex: 590 entries, 0 to 589\n",
      "Data columns (total 2 columns):\n",
      " #   Column  Non-Null Count  Dtype         \n",
      "---  ------  --------------  -----         \n",
      " 0   날짜      590 non-null    datetime64[ns]\n",
      " 1   뉴스 개수   590 non-null    int64         \n",
      "dtypes: datetime64[ns](1), int64(1)\n",
      "memory usage: 9.3 KB\n"
     ]
    }
   ],
   "source": [
    "news_cnt.info()"
   ]
  },
  {
   "cell_type": "code",
   "execution_count": 27,
   "id": "b6a676d3",
   "metadata": {},
   "outputs": [],
   "source": [
    "news_cnt.to_csv(\"./CSV/06_news_cnt.csv\", index = False)"
   ]
  },
  {
   "cell_type": "code",
   "execution_count": null,
   "id": "062f3c9f",
   "metadata": {},
   "outputs": [],
   "source": []
  }
 ],
 "metadata": {
  "kernelspec": {
   "display_name": "Python 3 (ipykernel)",
   "language": "python",
   "name": "python3"
  },
  "language_info": {
   "codemirror_mode": {
    "name": "ipython",
    "version": 3
   },
   "file_extension": ".py",
   "mimetype": "text/x-python",
   "name": "python",
   "nbconvert_exporter": "python",
   "pygments_lexer": "ipython3",
   "version": "3.8.8"
  }
 },
 "nbformat": 4,
 "nbformat_minor": 5
}
