{
 "cells": [
  {
   "cell_type": "code",
   "execution_count": 11,
   "id": "b1189c5a",
   "metadata": {},
   "outputs": [],
   "source": [
    "from bs4 import BeautifulSoup\n",
    "from selenium import webdriver\n",
    "import pandas as pd\n",
    "import time"
   ]
  },
  {
   "cell_type": "code",
   "execution_count": 2,
   "id": "ed383667",
   "metadata": {},
   "outputs": [],
   "source": [
    "melon_url = \"https://www.melon.com/index.htm\"\n",
    "driver = webdriver.Chrome(\"./DATA/chromedriver\")\n",
    "driver.get(melon_url)"
   ]
  },
  {
   "cell_type": "code",
   "execution_count": 3,
   "id": "f5c9ff18",
   "metadata": {},
   "outputs": [],
   "source": [
    "melon_chart_button = driver.find_element_by_xpath('//*[@id=\"gnb_menu\"]/ul[1]/li[1]/a')\n",
    "melon_chart_button.click()"
   ]
  },
  {
   "cell_type": "code",
   "execution_count": 12,
   "id": "9f9c397e",
   "metadata": {},
   "outputs": [
    {
     "name": "stdout",
     "output_type": "stream",
     "text": [
      "100\n",
      "100\n",
      "100\n",
      "                        곡 제목                          아티스트      좋아요\n",
      "0                       STAY  The Kid LAROI, Justin Bieber  129,865\n",
      "1                        신호등                           이무진  204,101\n",
      "2                 Next Level                         aespa  201,277\n",
      "3                     바라만 본다                 MSG워너비(M.O.M)  152,786\n",
      "4             OHAYO MY NIGHT     디핵 (D-Hack), PATEKO (파테코)  121,085\n",
      "..                       ...                           ...      ...\n",
      "95                        고백                           장범준   26,132\n",
      "96  끝이라고 말할 것 같았어 (Too Late)                           황치열    3,878\n",
      "97                       라라라                        SG 워너비   84,975\n",
      "98                Antifreeze              백예린 (Yerin Baek)   17,002\n",
      "99                       허리춤                     오반 (OVAN)   33,362\n",
      "\n",
      "[100 rows x 3 columns]\n"
     ]
    }
   ],
   "source": [
    "# title_lst50 : //*[@id=\"lst50\"]/td[6]/div/div/div[1]/span/a\n",
    "# title_lst100 : //*[@id=\"lst100\"]/td[6]/div/div/div[1]/span/a\n",
    "# artist : //*[@id=\"lst50\"]/td[6]/div/div/div[2]\n",
    "# heart_cnt : //*[@id=\"lst50\"]/td[8]/div/button/span[2]\n",
    "num = ['50', '100']\n",
    "top100_list = []\n",
    "artist_list = []\n",
    "heart_cnt_list = []\n",
    "\n",
    "for one in num :\n",
    "    top100 = driver.find_elements_by_xpath(f'//*[@id=\"lst{one}\"]/td[6]/div/div/div[1]/span/a')\n",
    "    for title in top100 :\n",
    "        top100_list.append(title.text)\n",
    "    artist = driver.find_elements_by_xpath(f'//*[@id=\"lst{one}\"]/td[6]/div/div/div[2]')\n",
    "    for art in artist :\n",
    "        artist_list.append(art.text)\n",
    "    heart_cnt = driver.find_elements_by_xpath(f'//*[@id=\"lst{one}\"]/td[8]/div/button/span[2]')\n",
    "    for heart in heart_cnt :\n",
    "        heart_cnt_list.append(heart.text)\n",
    "        \n",
    "print(len(top100_list))\n",
    "print(len(artist_list))\n",
    "print(len(heart_cnt_list))\n",
    "\n",
    "data_dict = {\"곡 제목\" : top100_list, \"아티스트\" : artist_list, \"좋아요\" : heart_cnt_list}\n",
    "melon_top100 = pd.DataFrame(data_dict)\n",
    "print(melon_top100)\n"
   ]
  },
  {
   "cell_type": "code",
   "execution_count": null,
   "id": "1f92eaf9",
   "metadata": {},
   "outputs": [],
   "source": []
  },
  {
   "cell_type": "code",
   "execution_count": null,
   "id": "83a7eb02",
   "metadata": {},
   "outputs": [],
   "source": []
  }
 ],
 "metadata": {
  "kernelspec": {
   "display_name": "Python 3 (ipykernel)",
   "language": "python",
   "name": "python3"
  },
  "language_info": {
   "codemirror_mode": {
    "name": "ipython",
    "version": 3
   },
   "file_extension": ".py",
   "mimetype": "text/x-python",
   "name": "python",
   "nbconvert_exporter": "python",
   "pygments_lexer": "ipython3",
   "version": "3.8.8"
  }
 },
 "nbformat": 4,
 "nbformat_minor": 5
}
