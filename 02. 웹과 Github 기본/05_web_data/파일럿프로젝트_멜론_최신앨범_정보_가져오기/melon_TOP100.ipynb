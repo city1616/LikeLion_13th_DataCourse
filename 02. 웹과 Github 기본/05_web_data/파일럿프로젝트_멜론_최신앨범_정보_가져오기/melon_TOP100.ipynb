{
 "cells": [
  {
   "cell_type": "code",
   "execution_count": 20,
   "id": "0655aebe",
   "metadata": {},
   "outputs": [],
   "source": [
    "# 멜론 홈페이지의 top100 음악의 정보 크롤링\n",
    "# top100의 곡명, 아티스트, 좋아요, 앨범명 크롤링\n",
    "# DataFrame 생성 후, CSV 파일로 저장\n",
    "# CSV 파일명 : 크롤링한 날짜_melon_TOP100.csv"
   ]
  },
  {
   "cell_type": "code",
   "execution_count": 25,
   "id": "bed2c444",
   "metadata": {},
   "outputs": [],
   "source": [
    "from selenium import webdriver\n",
    "import pandas as pd\n",
    "import time\n",
    "from datetime import datetime"
   ]
  },
  {
   "cell_type": "code",
   "execution_count": 26,
   "id": "e96f4778",
   "metadata": {},
   "outputs": [],
   "source": [
    "melon_url = \"https://www.melon.com/index.htm\"\n",
    "driver = webdriver.Chrome(\"../DATA/chromedriver\")\n",
    "driver.get(melon_url)"
   ]
  },
  {
   "cell_type": "code",
   "execution_count": 27,
   "id": "6fef8557",
   "metadata": {},
   "outputs": [],
   "source": [
    "# 멜론차트_TOP100\n",
    "melon_chart_button = driver.find_element_by_xpath('//*[@id=\"gnb_menu\"]/ul[1]/li[1]/a')\n",
    "melon_chart_button.click()"
   ]
  },
  {
   "cell_type": "code",
   "execution_count": 28,
   "id": "6a1eba24",
   "metadata": {},
   "outputs": [
    {
     "name": "stdout",
     "output_type": "stream",
     "text": [
      "top100 title list length : 100\n",
      "top100 artist list length : 100\n",
      "top100 heart count list length : 100\n",
      "top100 album title list length : 100\n",
      "                       곡 제목                          아티스트     좋아요  \\\n",
      "0                      STAY  The Kid LAROI, Justin Bieber  135802   \n",
      "1                       신호등                           이무진  206751   \n",
      "2                Next Level                         aespa  202402   \n",
      "3            OHAYO MY NIGHT     디핵 (D-Hack), PATEKO (파테코)  124319   \n",
      "4                    바라만 본다                 MSG워너비(M.O.M)  153675   \n",
      "..                      ...                           ...     ...   \n",
      "95  어떻게 지내 (Prod. By VAN.C)                     오반 (OVAN)  167599   \n",
      "96                      라라라                        SG 워너비   85090   \n",
      "97                       고백                           장범준   26738   \n",
      "98                     왜? 날              백예린 (Yerin Baek)   15885   \n",
      "99               Antifreeze              백예린 (Yerin Baek)   21280   \n",
      "\n",
      "                앨범  \n",
      "0             Stay  \n",
      "1              신호등  \n",
      "2       Next Level  \n",
      "3   OHAYO MY NIGHT  \n",
      "4        MSG워너비 1집  \n",
      "..             ...  \n",
      "95          어떻게 지내  \n",
      "96       My Friend  \n",
      "97       첫 번째 '고백'  \n",
      "98              선물  \n",
      "99              선물  \n",
      "\n",
      "[100 rows x 4 columns]\n"
     ]
    }
   ],
   "source": [
    "# 멜론차트 TOP100 곡명, 아티스트, 좋아요, 앨범명 가져오기\n",
    "\n",
    "# title_lst50 : //*[@id=\"lst50\"]/td[6]/div/div/div[1]/span/a\n",
    "# title_lst100 : //*[@id=\"lst100\"]/td[6]/div/div/div[1]/span/a\n",
    "# artist : //*[@id=\"lst50\"]/td[6]/div/div/div[2]\n",
    "# heart_cnt : //*[@id=\"lst50\"]/td[8]/div/button/span[2]\n",
    "# album : //*[@id=\"lst50\"]/td[7]/div/div/div/a\n",
    "#         //*[@id=\"lst100\"]/td[7]/div/div/div/a\n",
    "\n",
    "num = ['50', '100']\n",
    "top100_list = []\n",
    "artist_list = []\n",
    "heart_cnt_list = []\n",
    "album_list = []\n",
    "\n",
    "for one in num :\n",
    "    top100 = driver.find_elements_by_xpath(f'//*[@id=\"lst{one}\"]/td[6]/div/div/div[1]/span/a')\n",
    "    for title in top100 :\n",
    "        top100_list.append(title.text)\n",
    "    artist = driver.find_elements_by_xpath(f'//*[@id=\"lst{one}\"]/td[6]/div/div/div[2]')\n",
    "    for art in artist :\n",
    "        artist_list.append(art.text)\n",
    "    heart_cnt = driver.find_elements_by_xpath(f'//*[@id=\"lst{one}\"]/td[8]/div/button/span[2]')\n",
    "    for heart in heart_cnt :\n",
    "        if \",\" in heart.text :\n",
    "            heart_cnt_list.append(int(heart.text.replace(\",\", \"\")))\n",
    "        else :\n",
    "            heart_cnt_list.append(int(heart.text))\n",
    "    album_info = driver.find_elements_by_xpath(f'//*[@id=\"lst{one}\"]/td[7]/div/div/div/a')\n",
    "    for album in album_info :\n",
    "        album_list.append(album.text)\n",
    "        \n",
    "# list 길이 확인\n",
    "print(\"top100 title list length :\", len(top100_list))\n",
    "print(\"top100 artist list length :\", len(artist_list))\n",
    "print(\"top100 heart count list length :\", len(heart_cnt_list))\n",
    "print(\"top100 album title list length :\", len(album_list))\n",
    "\n",
    "# DataFrame 생성 후 확인\n",
    "# CSV 파일 생성\n",
    "data_dict = {\"곡 제목\" : top100_list, \"아티스트\" : artist_list, \"좋아요\" : heart_cnt_list, \"앨범\" : album_list}\n",
    "melon_top100 = pd.DataFrame(data_dict)\n",
    "print(melon_top100)\n",
    "melon_top100.to_csv(\"./\" + datetime.today().strftime(\"%Y_%m_%d\") + \"_melon_TOP100.csv\", index = False)"
   ]
  },
  {
   "cell_type": "code",
   "execution_count": 29,
   "id": "bd4c3e6e",
   "metadata": {},
   "outputs": [
    {
     "name": "stdout",
     "output_type": "stream",
     "text": [
      "<class 'pandas.core.frame.DataFrame'>\n",
      "RangeIndex: 100 entries, 0 to 99\n",
      "Data columns (total 4 columns):\n",
      " #   Column  Non-Null Count  Dtype \n",
      "---  ------  --------------  ----- \n",
      " 0   곡 제목    100 non-null    object\n",
      " 1   아티스트    100 non-null    object\n",
      " 2   좋아요     100 non-null    int64 \n",
      " 3   앨범      100 non-null    object\n",
      "dtypes: int64(1), object(3)\n",
      "memory usage: 3.2+ KB\n"
     ]
    }
   ],
   "source": [
    "melon_top100.info()"
   ]
  },
  {
   "cell_type": "code",
   "execution_count": null,
   "id": "c6e92ba7",
   "metadata": {},
   "outputs": [],
   "source": []
  }
 ],
 "metadata": {
  "kernelspec": {
   "display_name": "Python 3 (ipykernel)",
   "language": "python",
   "name": "python3"
  },
  "language_info": {
   "codemirror_mode": {
    "name": "ipython",
    "version": 3
   },
   "file_extension": ".py",
   "mimetype": "text/x-python",
   "name": "python",
   "nbconvert_exporter": "python",
   "pygments_lexer": "ipython3",
   "version": "3.8.8"
  }
 },
 "nbformat": 4,
 "nbformat_minor": 5
}
