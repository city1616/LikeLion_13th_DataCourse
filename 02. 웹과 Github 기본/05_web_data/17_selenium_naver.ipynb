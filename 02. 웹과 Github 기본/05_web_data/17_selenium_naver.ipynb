{
 "cells": [
  {
   "cell_type": "markdown",
   "id": "9ad7ed61",
   "metadata": {},
   "source": [
    "## 2021_09_10_4\n",
    "### Naver news"
   ]
  },
  {
   "cell_type": "markdown",
   "id": "d55343cd",
   "metadata": {},
   "source": [
    "## 네이버 웹 페이지를 띄우고, 검색한 이후에, 정보를 확인하기"
   ]
  },
  {
   "cell_type": "code",
   "execution_count": 1,
   "id": "9894cc8f",
   "metadata": {},
   "outputs": [],
   "source": [
    "from selenium import webdriver\n",
    "\n",
    "url = \"https://news.naver.com/\"\n",
    "driver = webdriver.Chrome(\"./DATA/chromedriver\")\n",
    "driver.get(url)"
   ]
  },
  {
   "cell_type": "code",
   "execution_count": 2,
   "id": "57f7979d",
   "metadata": {},
   "outputs": [],
   "source": [
    "## 검색 입력창 xpath : //*[@id=\"lnb.searchForm\"]/fieldset/input[1]\n",
    "## 검색 버튼 xpath : //*[@id=\"lnb.searchForm\"]/fieldset/button"
   ]
  },
  {
   "cell_type": "code",
   "execution_count": 6,
   "id": "7ca022bb",
   "metadata": {},
   "outputs": [],
   "source": [
    "selected_xpath_a = driver.find_element_by_xpath('//*[@id=\"lnb.searchForm\"]/fieldset/input[1]')\n",
    "selected_xpath_search = driver.find_element_by_xpath('//*[@id=\"lnb.searchForm\"]/fieldset/button')"
   ]
  },
  {
   "cell_type": "code",
   "execution_count": 9,
   "id": "093b11ad",
   "metadata": {},
   "outputs": [
    {
     "name": "stdout",
     "output_type": "stream",
     "text": [
      "\n"
     ]
    }
   ],
   "source": [
    "selected_xpath_a.send_keys(\"미세먼지\")\n",
    "# print(selected_xpath_a.text)\n",
    "selected_xpath_search.click()"
   ]
  },
  {
   "cell_type": "code",
   "execution_count": null,
   "id": "f281c933",
   "metadata": {},
   "outputs": [],
   "source": []
  }
 ],
 "metadata": {
  "kernelspec": {
   "display_name": "Python 3 (ipykernel)",
   "language": "python",
   "name": "python3"
  },
  "language_info": {
   "codemirror_mode": {
    "name": "ipython",
    "version": 3
   },
   "file_extension": ".py",
   "mimetype": "text/x-python",
   "name": "python",
   "nbconvert_exporter": "python",
   "pygments_lexer": "ipython3",
   "version": "3.8.8"
  }
 },
 "nbformat": 4,
 "nbformat_minor": 5
}
