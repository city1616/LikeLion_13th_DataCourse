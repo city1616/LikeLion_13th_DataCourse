{
 "cells": [
  {
   "cell_type": "markdown",
   "id": "000c4141",
   "metadata": {},
   "source": [
    "## 2021_09_10_4\n",
    "### Naver news"
   ]
  },
  {
   "cell_type": "markdown",
   "id": "e0ad2c36",
   "metadata": {},
   "source": [
    "## 네이버 웹 페이지를 띄우고, 검색한 이후에, 정보를 확인하기"
   ]
  },
  {
   "cell_type": "code",
   "execution_count": 95,
   "id": "37453f91",
   "metadata": {},
   "outputs": [],
   "source": [
    "from selenium import webdriver\n",
    "\n",
    "url = \"https://news.naver.com/\"\n",
    "driver = webdriver.Chrome(\"./DATA/chromedriver\")\n",
    "driver.get(url)"
   ]
  },
  {
   "cell_type": "code",
   "execution_count": 63,
   "id": "5403bd6d",
   "metadata": {},
   "outputs": [],
   "source": [
    "## 검색 입력창 xpath : //*[@id=\"lnb.searchForm\"]/fieldset/input[1]\n",
    "## 검색 버튼 xpath : //*[@id=\"lnb.searchForm\"]/fieldset/button"
   ]
  },
  {
   "cell_type": "code",
   "execution_count": 96,
   "id": "80d62c46",
   "metadata": {},
   "outputs": [],
   "source": [
    "selected_xpath_a = driver.find_element_by_xpath('//*[@id=\"lnb.searchForm\"]/fieldset/input[1]')\n",
    "selected_xpath_search = driver.find_element_by_xpath('//*[@id=\"lnb.searchForm\"]/fieldset/button')"
   ]
  },
  {
   "cell_type": "code",
   "execution_count": 97,
   "id": "00b97732",
   "metadata": {},
   "outputs": [],
   "source": [
    "selected_xpath_a.send_keys(\"미세먼지\")\n",
    "# print(selected_xpath_a.text)\n",
    "selected_xpath_search.click()"
   ]
  },
  {
   "cell_type": "markdown",
   "id": "1170ea08",
   "metadata": {},
   "source": [
    "## 네이버 뉴스 속보탭 클릭"
   ]
  },
  {
   "cell_type": "code",
   "execution_count": 11,
   "id": "683c798f",
   "metadata": {},
   "outputs": [],
   "source": [
    "## 속보 링크 : //*[@id=\"lnb\"]/ul/li[2]/a\n",
    "## 속보 링크 span : //*[@id=\"lnb\"]/ul/li[2]/a/span\n",
    "## a tag 상위 li tag : //*[@id=\"lnb\"]/ul/li[2]"
   ]
  },
  {
   "cell_type": "code",
   "execution_count": 75,
   "id": "445d5480",
   "metadata": {},
   "outputs": [],
   "source": [
    "selected_xpath_link = driver.find_element_by_xpath('//*[@id=\"lnb\"]/ul/li[2]')\n",
    "selected_xpath_link.click()"
   ]
  },
  {
   "cell_type": "markdown",
   "id": "d759f34c",
   "metadata": {},
   "source": [
    "## 네이버에서 코로나 검색하기"
   ]
  },
  {
   "cell_type": "code",
   "execution_count": 76,
   "id": "dfa373ff",
   "metadata": {},
   "outputs": [],
   "source": [
    "naver_url = \"https://www.naver.com/\"\n",
    "driver.get(naver_url)"
   ]
  },
  {
   "cell_type": "code",
   "execution_count": 77,
   "id": "8bd331b0",
   "metadata": {},
   "outputs": [],
   "source": [
    "# input xpath : //*[@id=\"query\"]\n",
    "# search button xpath : //*[@id=\"search_btn\"]"
   ]
  },
  {
   "cell_type": "code",
   "execution_count": 78,
   "id": "e981f418",
   "metadata": {},
   "outputs": [],
   "source": [
    "naver_input_xpath = driver.find_element_by_xpath('//*[@id=\"query\"]')\n",
    "naver_search_button_xpath = driver.find_element_by_xpath('//*[@id=\"search_btn\"]')\n",
    "\n",
    "naver_input_xpath.send_keys(\"코로나\")\n",
    "naver_search_button_xpath.click()"
   ]
  },
  {
   "cell_type": "code",
   "execution_count": 79,
   "id": "cc3acb27",
   "metadata": {},
   "outputs": [],
   "source": [
    "# naver_input_xpath.send_keys(\"코로나 라이브\")\n",
    "# naver_search_button_xpath.click()"
   ]
  },
  {
   "cell_type": "markdown",
   "id": "8d59f66e",
   "metadata": {},
   "source": [
    "## 네이버 증권 코스닥 정보 가져오기"
   ]
  },
  {
   "cell_type": "code",
   "execution_count": 82,
   "id": "907cadee",
   "metadata": {},
   "outputs": [],
   "source": [
    "naver_finance_url = \"https://finance.naver.com/sise/\"\n",
    "driver.get(naver_finance_url)\n",
    "kosdaq_link = driver.find_element_by_xpath('//*[@id=\"contentarea\"]/div[1]/div[1]/ul/li[2]/a')\n",
    "kosdaq_link.click()"
   ]
  },
  {
   "cell_type": "code",
   "execution_count": 83,
   "id": "40c9e8b3",
   "metadata": {},
   "outputs": [],
   "source": [
    "naver_kosdaq_url = \"https://finance.naver.com/sise/sise_index.nhn?code=KOSDAQ\"\n",
    "driver.get(naver_kosdaq_url)"
   ]
  },
  {
   "cell_type": "code",
   "execution_count": 84,
   "id": "d1027928",
   "metadata": {},
   "outputs": [
    {
     "name": "stdout",
     "output_type": "stream",
     "text": [
      "코스닥 : 1,037.72\n"
     ]
    }
   ],
   "source": [
    "kosdaq = driver.find_element_by_id(\"now_value\")\n",
    "print(\"코스닥 :\", kosdaq.text)"
   ]
  },
  {
   "cell_type": "code",
   "execution_count": 85,
   "id": "d63f6024",
   "metadata": {},
   "outputs": [
    {
     "name": "stdout",
     "output_type": "stream",
     "text": [
      "코스닥 : 1,037.72\n"
     ]
    }
   ],
   "source": [
    "kosdaq_xpath = driver.find_element_by_xpath('//*[@id=\"now_value\"]')\n",
    "print(\"코스닥 :\", kosdaq_xpath.text)"
   ]
  },
  {
   "cell_type": "markdown",
   "id": "b1ee7d2a",
   "metadata": {},
   "source": [
    "## 아마존에서 검색하기"
   ]
  },
  {
   "cell_type": "code",
   "execution_count": 101,
   "id": "94616f9b",
   "metadata": {},
   "outputs": [],
   "source": [
    "amazon_url = \"https://www.amazon.com/\"\n",
    "driver.get(amazon_url)"
   ]
  },
  {
   "cell_type": "code",
   "execution_count": 108,
   "id": "63c93fc4",
   "metadata": {},
   "outputs": [],
   "source": [
    "# input_xpath : //*[@id=\"twotabsearchtextbox\"]\n",
    "# search_xpath : //*[@id=\"nav-search-submit-button\"]\n",
    "amazon_input = driver.find_element_by_id(\"twotabsearchtextbox\")\n",
    "amazon_search = driver.find_element_by_id(\"nav-search-submit-button\")\n",
    "\n",
    "word = \"samsung\"\n",
    "amazon_input.clear()\n",
    "amazon_input.send_keys(word)\n",
    "amazon_search.click()"
   ]
  },
  {
   "cell_type": "markdown",
   "id": "57e8c218",
   "metadata": {},
   "source": [
    "## 아마존에서 하나의 상품 링크 가져오기"
   ]
  },
  {
   "cell_type": "code",
   "execution_count": 118,
   "id": "38c56c3a",
   "metadata": {},
   "outputs": [
    {
     "name": "stdout",
     "output_type": "stream",
     "text": [
      "<title>Amazon.com : samsung</title>\n",
      "https://www.amazon.com/s?k=samsung&ref=nb_sb_noss\n"
     ]
    }
   ],
   "source": [
    "from bs4 import BeautifulSoup\n",
    "\n",
    "page = driver.page_source\n",
    "soup = BeautifulSoup(page, 'lxml')\n",
    "print(soup.title)\n",
    "print(driver.current_url)"
   ]
  },
  {
   "cell_type": "code",
   "execution_count": 122,
   "id": "ecf175a8",
   "metadata": {},
   "outputs": [
    {
     "name": "stdout",
     "output_type": "stream",
     "text": [
      "2\n",
      "/gp/slredirect/picassoRedirect.html/ref=pa_sp_atf_aps_sr_pg1_1?ie=UTF8&adId=A019554333EKUUB9M84ID&url=%2FSAMSUNG-Classic-Smartwatch-Detection-Bluetooth%2Fdp%2FB096BKVWZZ%2Fref%3Dsr_1_1_sspa%3Fdchild%3D1%26keywords%3Dsamsung%26qid%3D1631252609%26sr%3D8-1-spons%26psc%3D1&qualifier=1631252609&id=5836996500031458&widgetName=sp_atf\n",
      "/gp/slredirect/picassoRedirect.html/ref=pa_sp_atf_aps_sr_pg1_1?ie=UTF8&adId=A019554333EKUUB9M84ID&url=%2FSAMSUNG-Classic-Smartwatch-Detection-Bluetooth%2Fdp%2FB096BKVWZZ%2Fref%3Dsr_1_1_sspa%3Fdchild%3D1%26keywords%3Dsamsung%26qid%3D1631252609%26sr%3D8-1-spons%26psc%3D1&qualifier=1631252609&id=5836996500031458&widgetName=sp_atf\n",
      "https://www.amazon.com//gp/slredirect/picassoRedirect.html/ref=pa_sp_atf_aps_sr_pg1_1?ie=UTF8&adId=A019554333EKUUB9M84ID&url=%2FSAMSUNG-Classic-Smartwatch-Detection-Bluetooth%2Fdp%2FB096BKVWZZ%2Fref%3Dsr_1_1_sspa%3Fdchild%3D1%26keywords%3Dsamsung%26qid%3D1631252609%26sr%3D8-1-spons%26psc%3D1&qualifier=1631252609&id=5836996500031458&widgetName=sp_atf\n"
     ]
    }
   ],
   "source": [
    "item_1 = soup.find(\"h2\", class_ = \"a-size-mini a-spacing-none a-color-base s-line-clamp-2\")\n",
    "print(len(item_1))\n",
    "print(item_1.a['href'])\n",
    "print(item_1.a.attrs['href'])\n",
    "\n",
    "item_url = amazon_url + item_1.a.attrs['href']\n",
    "print(item_url)"
   ]
  },
  {
   "cell_type": "markdown",
   "id": "56008bdb",
   "metadata": {},
   "source": [
    "## 아마존에서 전체 상품의 링크 가져오기"
   ]
  },
  {
   "cell_type": "code",
   "execution_count": 128,
   "id": "8accadca",
   "metadata": {},
   "outputs": [
    {
     "name": "stdout",
     "output_type": "stream",
     "text": [
      "item 개수 : 22\n",
      "1 https://www.amazon.com//gp/slredirect/picassoRedirect.html/ref=pa_sp_atf_aps_sr_pg1_1?ie=UTF8&adId=A019554333EKUUB9M84ID&url=%2FSAMSUNG-Classic-Smartwatch-Detection-Bluetooth%2Fdp%2FB096BKVWZZ%2Fref%3Dsr_1_1_sspa%3Fdchild%3D1%26keywords%3Dsamsung%26qid%3D1631252609%26sr%3D8-1-spons%26psc%3D1&qualifier=1631252609&id=5836996500031458&widgetName=sp_atf\n",
      "\n",
      "2 https://www.amazon.com//gp/slredirect/picassoRedirect.html/ref=pa_sp_atf_aps_sr_pg1_1?ie=UTF8&adId=A09791713DA3RZIDYU7O3&url=%2FSamsung-Factory-Unlocked-Smartphone-Pro-Grade%2Fdp%2FB08FYV4ZZ8%2Fref%3Dsr_1_2_sspa%3Fdchild%3D1%26keywords%3Dsamsung%26qid%3D1631252609%26sr%3D8-2-spons%26psc%3D1&qualifier=1631252609&id=5836996500031458&widgetName=sp_atf\n",
      "\n",
      "3 https://www.amazon.com//Samsung-Unlocked-Smartphone-Pro-Grade-SM-G998UZKEXAA/dp/B08P54F6HB/ref=sr_1_3?dchild=1&keywords=samsung&qid=1631252609&sr=8-3\n",
      "\n",
      "4 https://www.amazon.com//Samsung-Factory-Unlocked-Smartphone-Pro-Grade/dp/B08FYVMRM5/ref=sr_1_4?dchild=1&keywords=samsung&qid=1631252609&sr=8-4\n",
      "\n",
      "5 https://www.amazon.com//Samsung-Galaxy-S21-Ultra-5G/dp/B08X3SKF4S/ref=sr_1_5?dchild=1&keywords=samsung&qid=1631252609&sr=8-5\n",
      "\n",
      "6 https://www.amazon.com//SAMSUNG-65-Inch-Class-QLED-Built/dp/B08WFQFK3M/ref=sr_1_6?dchild=1&keywords=samsung&qid=1631252609&sr=8-6\n",
      "\n",
      "7 https://www.amazon.com//Samsung-Unlocked-Storage-Lasting-Battery/dp/B08BX67ZNV/ref=sr_1_7?dchild=1&keywords=samsung&qid=1631252609&sr=8-7\n",
      "\n",
      "8 https://www.amazon.com//SAMSUNG-65-Inch-Class-QLED-Built/dp/B08WF4XDMF/ref=sr_1_8?dchild=1&keywords=samsung&qid=1631252609&sr=8-8\n",
      "\n",
      "9 https://www.amazon.com//Electronics-Unlocked-Smartphone-Multi-Camera-Expandable/dp/B08XX66S6Z/ref=sr_1_9?dchild=1&keywords=samsung&qid=1631252609&sr=8-9\n",
      "\n",
      "10 https://www.amazon.com//Samsung-Galaxy-Factory-Unlocked-Warranty/dp/B07V8NLJ3Y/ref=sr_1_10?dchild=1&keywords=samsung&qid=1631252609&sr=8-10\n",
      "\n",
      "11 https://www.amazon.com//gp/slredirect/picassoRedirect.html/ref=pa_sp_mtf_aps_sr_pg1_1?ie=UTF8&adId=A02112233J8AA12VUEA0L&url=%2FWeArmor-Tempered-Protector-Compatible-Installation%2Fdp%2FB098KSZMVV%2Fref%3Dsr_1_11_sspa%3Fdchild%3D1%26keywords%3Dsamsung%26qid%3D1631252609%26sr%3D8-11-spons%26psc%3D1&qualifier=1631252609&id=5836996500031458&widgetName=sp_mtf\n",
      "\n",
      "12 https://www.amazon.com//Samsung-Galaxy-Wi-Fi-Mystic-Silver/dp/B08FBPX3W2/ref=sr_1_12?dchild=1&keywords=samsung&qid=1631252609&sr=8-12\n",
      "\n",
      "13 https://www.amazon.com//SAMSUNG-65-Inch-Class-QN90A-Built/dp/B08V3K77SC/ref=sr_1_13?dchild=1&keywords=samsung&qid=1631252609&sr=8-13\n",
      "\n",
      "14 https://www.amazon.com//Samsung-Unlocked-T-Mobile-Straight-International/dp/B08F2X5GLK/ref=sr_1_14?dchild=1&keywords=samsung&qid=1631252609&sr=8-14\n",
      "\n",
      "15 https://www.amazon.com//Samsung-Display-Battery-Unlocked-DS/dp/B08Z79854C/ref=sr_1_15?dchild=1&keywords=samsung&qid=1631252609&sr=8-15\n",
      "\n",
      "16 https://www.amazon.com//gp/slredirect/picassoRedirect.html/ref=pa_sp_mtf_aps_sr_pg1_1?ie=UTF8&adId=A01732452DD9FH1JU42S2&url=%2FPHOUZIN-Universal-Dashboard-Compatible-Smartphones%2Fdp%2FB099RTWJJK%2Fref%3Dsr_1_16_sspa%3Fdchild%3D1%26keywords%3Dsamsung%26qid%3D1631252609%26sr%3D8-16-spons%26psc%3D1&qualifier=1631252609&id=5836996500031458&widgetName=sp_mtf\n",
      "\n",
      "17 https://www.amazon.com//Samsung-Galaxy-Verizon-Unlocked-Renewed/dp/B07SVFBB67/ref=sr_1_17?dchild=1&keywords=samsung&qid=1631252609&sr=8-17\n",
      "\n",
      "18 https://www.amazon.com//SAMSUNG-50-Inch-Crystal-AU8000-Built/dp/B08Z1RN7NP/ref=sr_1_18?dchild=1&keywords=samsung&qid=1631252609&sr=8-18\n",
      "\n",
      "19 https://www.amazon.com//SAMSUNG-Unlocked-Smartphone-Intuitive-Warranty/dp/B097CN57TH/ref=sr_1_19?dchild=1&keywords=samsung&qid=1631252609&sr=8-19\n",
      "\n",
      "20 https://www.amazon.com//SAMSUNG-55-Inch-Class-Frame-Built/dp/B08VWPBBTF/ref=sr_1_20?dchild=1&keywords=samsung&qid=1631252609&sr=8-20\n",
      "\n",
      "21 https://www.amazon.com//gp/slredirect/picassoRedirect.html/ref=pa_sp_btf_aps_sr_pg1_1?ie=UTF8&adId=A067815534FPCUO4XDOKD&url=%2FSAMSUNG-Smartwatch-Monitor-Tracker-Detection%2Fdp%2FB096BHXDDP%2Fref%3Dsr_1_21_sspa%3Fdchild%3D1%26keywords%3Dsamsung%26qid%3D1631252609%26sr%3D8-21-spons%26psc%3D1&qualifier=1631252609&id=5836996500031458&widgetName=sp_btf\n",
      "\n",
      "22 https://www.amazon.com//gp/slredirect/picassoRedirect.html/ref=pa_sp_btf_aps_sr_pg1_1?ie=UTF8&adId=A000681533NYQFBC2L5XV&url=%2FDexnor-Protector-Protection-Shockproof-Protective%2Fdp%2FB098JRTPT7%2Fref%3Dsr_1_22_sspa%3Fdchild%3D1%26keywords%3Dsamsung%26qid%3D1631252609%26sr%3D8-22-spons%26psc%3D1%26smid%3DA7VWP6YZ6RE2W&qualifier=1631252609&id=5836996500031458&widgetName=sp_btf\n",
      "\n"
     ]
    }
   ],
   "source": [
    "all_item_link = []\n",
    "all_item = soup.find_all(\"h2\", class_ = \"a-size-mini a-spacing-none a-color-base s-line-clamp-2\")\n",
    "print(\"item 개수 :\", len(all_item))\n",
    "for one in all_item :\n",
    "    # print(one.a.attrs['href'])\n",
    "    all_item_link.append(amazon_url + one.a.attrs['href'])\n",
    "\n",
    "for idx, val in enumerate(all_item_link) :\n",
    "    print(idx + 1, val)\n",
    "    print()"
   ]
  },
  {
   "cell_type": "code",
   "execution_count": null,
   "id": "95720632",
   "metadata": {},
   "outputs": [],
   "source": []
  }
 ],
 "metadata": {
  "kernelspec": {
   "display_name": "Python 3 (ipykernel)",
   "language": "python",
   "name": "python3"
  },
  "language_info": {
   "codemirror_mode": {
    "name": "ipython",
    "version": 3
   },
   "file_extension": ".py",
   "mimetype": "text/x-python",
   "name": "python",
   "nbconvert_exporter": "python",
   "pygments_lexer": "ipython3",
   "version": "3.8.8"
  }
 },
 "nbformat": 4,
 "nbformat_minor": 5
}
