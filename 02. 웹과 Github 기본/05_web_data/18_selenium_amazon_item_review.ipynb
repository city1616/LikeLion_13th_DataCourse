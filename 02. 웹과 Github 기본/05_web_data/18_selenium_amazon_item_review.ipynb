{
 "cells": [
  {
   "cell_type": "markdown",
   "id": "fb8f692f",
   "metadata": {},
   "source": [
    "## 2021_09_10_6"
   ]
  },
  {
   "cell_type": "code",
   "execution_count": 1,
   "id": "2e2ab9d4",
   "metadata": {},
   "outputs": [],
   "source": [
    "from selenium import webdriver\n",
    "from bs4 import BeautifulSoup"
   ]
  },
  {
   "cell_type": "code",
   "execution_count": 46,
   "id": "d67a2d9e",
   "metadata": {},
   "outputs": [],
   "source": [
    "amazon_url = \"https://www.amazon.com\"\n",
    "driver = webdriver.Chrome(\"./DATA/chromedriver\")\n",
    "driver.get(amazon_url)"
   ]
  },
  {
   "cell_type": "code",
   "execution_count": 47,
   "id": "5f6ee166",
   "metadata": {},
   "outputs": [],
   "source": [
    "# 검색창 요소\n",
    "input_xpath = driver.find_element_by_xpath('//*[@id=\"twotabsearchtextbox\"]')\n",
    "\n",
    "# 검색버튼 요소\n",
    "search_xpath = driver.find_element_by_xpath('//*[@id=\"nav-search-submit-button\"]')"
   ]
  },
  {
   "cell_type": "code",
   "execution_count": 48,
   "id": "02073baf",
   "metadata": {},
   "outputs": [],
   "source": [
    "# 검색창에 값 입력\n",
    "word = \"samsung\"\n",
    "\n",
    "input_xpath.clear()\n",
    "input_xpath.send_keys(word)"
   ]
  },
  {
   "cell_type": "code",
   "execution_count": 49,
   "id": "3fb18ce4",
   "metadata": {},
   "outputs": [],
   "source": [
    "search_xpath.click()"
   ]
  },
  {
   "cell_type": "code",
   "execution_count": 50,
   "id": "2d7a32f6",
   "metadata": {},
   "outputs": [
    {
     "data": {
      "text/plain": [
       "<title>Amazon.com : samsung</title>"
      ]
     },
     "execution_count": 50,
     "metadata": {},
     "output_type": "execute_result"
    }
   ],
   "source": [
    "page = driver.page_source\n",
    "soup = BeautifulSoup(page, 'lxml')\n",
    "soup.title"
   ]
  },
  {
   "cell_type": "code",
   "execution_count": 51,
   "id": "e4a68c69",
   "metadata": {},
   "outputs": [
    {
     "data": {
      "text/plain": [
       "'https://www.amazon.com/s?k=samsung&ref=nb_sb_noss_2'"
      ]
     },
     "execution_count": 51,
     "metadata": {},
     "output_type": "execute_result"
    }
   ],
   "source": [
    "current_url = driver.current_url\n",
    "current_url"
   ]
  },
  {
   "cell_type": "code",
   "execution_count": 52,
   "id": "1174365a",
   "metadata": {},
   "outputs": [
    {
     "name": "stdout",
     "output_type": "stream",
     "text": [
      "<h2 class=\"a-size-mini a-spacing-none a-color-base s-line-clamp-2\"><a class=\"a-link-normal a-text-normal\" href=\"/gp/slredirect/picassoRedirect.html/ref=pa_sp_atf_aps_sr_pg1_1?ie=UTF8&amp;adId=A01598721P9WDT21K42LL&amp;url=%2FSAMSUNG-Classic-Smartwatch-Detection-Bluetooth%2Fdp%2FB096BKVWZZ%2Fref%3Dsr_1_1_sspa%3Fdchild%3D1%26keywords%3Dsamsung%26qid%3D1631257293%26sr%3D8-1-spons%26psc%3D1&amp;qualifier=1631257293&amp;id=4608705241738380&amp;widgetName=sp_atf\"><span class=\"a-size-medium a-color-base a-text-normal\">SAMSUNG Galaxy Watch 4 Classic 42mm Smartwatch with ECG Monitor Tracker for Health Fitness Running Sleep Cycles GPS Fall Detection Bluetooth US Version, Black</span> </a> </h2>\n",
      "SAMSUNG Galaxy Watch 4 Classic 42mm Smartwatch with ECG Monitor Tracker for Health Fitness Running Sleep Cycles GPS Fall Detection Bluetooth US Version, Black\n",
      "\n",
      "/gp/slredirect/picassoRedirect.html/ref=pa_sp_atf_aps_sr_pg1_1?ie=UTF8&adId=A01598721P9WDT21K42LL&url=%2FSAMSUNG-Classic-Smartwatch-Detection-Bluetooth%2Fdp%2FB096BKVWZZ%2Fref%3Dsr_1_1_sspa%3Fdchild%3D1%26keywords%3Dsamsung%26qid%3D1631257293%26sr%3D8-1-spons%26psc%3D1&qualifier=1631257293&id=4608705241738380&widgetName=sp_atf\n"
     ]
    }
   ],
   "source": [
    "tmp = soup.find_all('h2', class_='a-size-mini a-spacing-none a-color-base s-line-clamp-2')[0]\n",
    "print(tmp)\n",
    "print(tmp.span.text)\n",
    "print()\n",
    "print(tmp.a.attrs['href'])"
   ]
  },
  {
   "cell_type": "code",
   "execution_count": 53,
   "id": "c16ec2ea",
   "metadata": {},
   "outputs": [
    {
     "name": "stdout",
     "output_type": "stream",
     "text": [
      "https://www.amazon.com/gp/slredirect/picassoRedirect.html/ref=pa_sp_atf_aps_sr_pg1_1?ie=UTF8&adId=A01598721P9WDT21K42LL&url=%2FSAMSUNG-Classic-Smartwatch-Detection-Bluetooth%2Fdp%2FB096BKVWZZ%2Fref%3Dsr_1_1_sspa%3Fdchild%3D1%26keywords%3Dsamsung%26qid%3D1631257293%26sr%3D8-1-spons%26psc%3D1&qualifier=1631257293&id=4608705241738380&widgetName=sp_atf\n"
     ]
    }
   ],
   "source": [
    "# 상품에 대한 전체 URL을 얻는다.\n",
    "item_url = amazon_url + tmp.a.attrs['href']\n",
    "print(item_url)"
   ]
  },
  {
   "cell_type": "markdown",
   "id": "b690916f",
   "metadata": {},
   "source": [
    "## 아마존 리뷰 가져오기"
   ]
  },
  {
   "cell_type": "code",
   "execution_count": 79,
   "id": "fbcba47e",
   "metadata": {},
   "outputs": [],
   "source": [
    "driver = webdriver.Chrome(\"./DATA/chromedriver\")\n",
    "driver.get(item_url)"
   ]
  },
  {
   "cell_type": "code",
   "execution_count": 80,
   "id": "4eb30647",
   "metadata": {},
   "outputs": [],
   "source": [
    "# 첫번째 리뷰 버튼 클릭\n",
    "# 첫번재 리뷰 버튼 xpath : //*[@id=\"acrCustomerReviewText\"]\n",
    "first_review = driver.find_element_by_xpath('//*[@id=\"acrCustomerReviewText\"]')\n",
    "first_review.click()"
   ]
  },
  {
   "cell_type": "code",
   "execution_count": 81,
   "id": "47f3020f",
   "metadata": {},
   "outputs": [],
   "source": [
    "# 두번째 리뷰 버튼 클릭\n",
    "# 두번째 리뷰 버튼 xpath : //*[@id=\"reviews-medley-footer\"]/div[2]/a\n",
    "second_review = driver.find_element_by_xpath('//*[@id=\"reviews-medley-footer\"]/div[2]/a')\n",
    "second_review.click()"
   ]
  },
  {
   "cell_type": "markdown",
   "id": "292bd24b",
   "metadata": {},
   "source": [
    "## 아이템 페이지 정보를 넘겨받고, 하나의 리뷰 가져오기"
   ]
  },
  {
   "cell_type": "code",
   "execution_count": 57,
   "id": "929d822a",
   "metadata": {},
   "outputs": [
    {
     "data": {
      "text/plain": [
       "<title>Amazon.com: Customer reviews: SAMSUNG Galaxy Watch 4 Classic 42mm Smartwatch with ECG Monitor Tracker for Health Fitness Running Sleep Cycles GPS Fall Detection Bluetooth US Version, Black</title>"
      ]
     },
     "execution_count": 57,
     "metadata": {},
     "output_type": "execute_result"
    }
   ],
   "source": [
    "page = driver.page_source\n",
    "soup = BeautifulSoup(page, 'html.parser')\n",
    "soup.title"
   ]
  },
  {
   "cell_type": "code",
   "execution_count": 58,
   "id": "98843066",
   "metadata": {},
   "outputs": [
    {
     "name": "stdout",
     "output_type": "stream",
     "text": [
      "count review : 10\n",
      "If you're into the samsung bloatware experience then by all means go for it. There are absolutely no pros about this watch but here are the cons:1) battery won't last a day2) Does not work with Wear OS, it will get detected and the progress is stuck. Watch is connected with limited usability3) requires the full bloatware from Samsung so be prepared to create samsung accounts and have all your vital stats at the mercy of a Korean giant.4) First install the Samsung Wearable app and make sure you give it ALL the permissions else it will fail and you're get constant notifications even after you;'ve corrected the permissions. Then install the Samsung Watch 4 Plugin app and agains give it all permissions. Then you need to install the Samsung Health app and even that needs access to your phone.5) After installing 3 Samsung apps and 2 samsung accounts, you will now experience degraded battery life on your phone6) Samsung Health does not sync with Google Fit. So forget about trying to get that to work without installing another 3rd party app.7) No Google Assistant on the watch8) No Google Pay on the watchSo basically nothing Google works on this watch. So what's even the point and all the fuss about?\n"
     ]
    }
   ],
   "source": [
    "# 하나의 정보 확인\n",
    "review = soup.find_all(\"span\", class_ = \"a-size-base review-text review-text-content\")\n",
    "print(\"count review :\", len(review))\n",
    "print(review[0].text.strip())"
   ]
  },
  {
   "cell_type": "markdown",
   "id": "aa15e611",
   "metadata": {},
   "source": [
    "## 아이템 페이지 정보를 넘겨받고, 한 페이지 리뷰 모두 가져오기"
   ]
  },
  {
   "cell_type": "code",
   "execution_count": 59,
   "id": "0f65b0c6",
   "metadata": {},
   "outputs": [
    {
     "name": "stdout",
     "output_type": "stream",
     "text": [
      "count review : 10\n",
      "1 If you're into the samsung bloatware experience then by all means go for it. There are absolutely no pros about this watch but here are the cons:1) battery won't last a day2) Does not work with Wear OS, it will get detected and the progress is stuck. Watch is connected with limited usability3) requires the full bloatware from Samsung so be prepared to create samsung accounts and have all your vital stats at the mercy of a Korean giant.4) First install the Samsung Wearable app and make sure you give it ALL the permissions else it will fail and you're get constant notifications even after you;'ve corrected the permissions. Then install the Samsung Watch 4 Plugin app and agains give it all permissions. Then you need to install the Samsung Health app and even that needs access to your phone.5) After installing 3 Samsung apps and 2 samsung accounts, you will now experience degraded battery life on your phone6) Samsung Health does not sync with Google Fit. So forget about trying to get that to work without installing another 3rd party app.7) No Google Assistant on the watch8) No Google Pay on the watchSo basically nothing Google works on this watch. So what's even the point and all the fuss about?\n",
      "----------------------------------------------------------------------\n",
      "2 I've owned a few Android compatible smart watches in the past (Huawei Watch and Galaxy Watch Active 2) and have played around with several others and I can confidently say this is by a mile the best smart watch ever available to Android users. The new OS is really beautiful (why did it take so long to finally get here?), the performance with the new processor is incredibly snappy (I've yet to experience any lag), the aesthetic is perfect for my taste (Galaxy Watch 4 Classic), and the rotating bezel is so satisfying to use (the build quality is super premium). The selection of health sensors is really impressive and so far seem to work well, and now Google Maps, Google Pay, and Android Messages are available via the Play Store.If you are at all interested in owning a smart watch and are an Android user please don't waste your time with any other smart watch. At least at the time of writing this review the Galaxy Watch 4 and Watch 4 Classic are the only reasonable choice. I've used various Apple Watches and was always openly envious of iPhone users for having such a great smart watch platform. In my opinion this watch matches up with the Apple Watch Series 6 extremely well. Thank you Samsung and Google for FINALLY putting out a smartwatch that is worth the money.\n",
      "----------------------------------------------------------------------\n",
      "3 New for 2021, Samsung has released two versions of the Galaxy Watch:  Galaxy Watch 4 and Galaxy Watch 4 Classic.  This Galaxy Watch 4 has a physical design similar to the Galaxy Watch Active 2, with the digital touch ring around the edge, and sizes of 40mm and 44mm.  Meanwhile, the Watch 4 “Classic” has a physical design more like the Watch 3, with a physical rotating steel bezel and sizes of 42mm and 46mm.  Both versions come in Bluetooth or LTE models.  Both versions now use Google's WearOS operating system, instead of Samsung's TizenOS, which all previous Samsung watches used.  This means a wider selection of apps to choose from for your watch, including all of the Google apps.So to reiterate:Watch4 = Watch Active2 design + Google WearOSWatch4 Classic = Watch3 design + Google WearOSBoth versions now have a faster processor than the Watch3, as well as more RAM (1.5GB upgraded from 1GB) and more storage (16GB upgraded from 8GB).  There are also some extra sensors including a geomagnetic sensor, and body composition analysis, although some functionality may depend on your country.Here are some of my other thoughts after using these watches so far:-WearOS:  This is the biggest difference to me so far.  There are many more apps available now that Samsung is using WearOS, including things like Google Maps.  I have really enjoyed the wider variety of apps to choose from.  Of course, if you had previously been using a custom watch face on a Galaxy Watch 3 from the Galaxy Store, you might miss that old face, but there are plenty of others to choose from.-Speed:  The Watch 4 is noticeably faster.  Scrolling through apps and launching applications just seems to be more smooth, and a tiny bit faster to do everything.-BodyComp:  This seemed to be pretty inaccurate for me, but it is nice to have this data for a baseline to try to improve.-Battery:  The battery life seems to be a bit better with this Watch4 than it was with the Watch3.  I will test this more over the next few weeks.Overall, I like the changes with this new version of the Galaxy Watch.  There are reportedly more software updates in the works too, like using Google Assistant instead of Bixby.  Coming from the Galaxy Watch 3, I prefer the Watch 4 “Classic” model because of the rotating bezel, but if you are upgrading from the Active2 and don't care about the bezel, then you might prefer the regular Watch 4.  (Note – I personally have not tried to use these with an iPhone, but several sources seem to indicate that there are some difficulties when trying to do so, so do some research first if you are using an iPhone)\n",
      "----------------------------------------------------------------------\n",
      "4 I pre-ordered the classic 46mm and received it last Wednesday. Upgraded from the 3. I really like the watch, new sensors and move to WearOS - so I recommend the watch. Issue is with the band. The quick release pins, release latch that you use to remove the bands do not stick up from the band - at all - so it's impossible to get the band back on once removed. Really poor design from Samsung. I can't get it back in, so I'm watch-less until I can buy new ones. So, you've been advised - don't plan on using the OEM Samsung band if you like to switch out different bands.\n",
      "----------------------------------------------------------------------\n",
      "5 The new watch series will only work with certain Samsung chargers. It will NOT work with any previous chargers, nor will it charge from powersharing with a Note 20 Ultra. Further, they've done away with the old menu system. Remember how it was an organized pattern that was selected by the bezel? Now it's a giant pile. Good luck trying to use it without giving 100% attention. I'm returning and I'll keep using my previous model. Funny, my two year old watch still has better battery life.\n",
      "----------------------------------------------------------------------\n",
      "6 The watch is Awesome but there is no watch faces available in the Wear OS store compared to the Samsung Watch Store for previous galaxy watches. Google needs to make more watch faces. ASAP!!!\n",
      "----------------------------------------------------------------------\n",
      "7 Man alive have I been stoked about these. Finally got the wife the Fold 3 and me the Classic Watch 4 and man are they 👍 the charger works for both and no issues connecting to them :) I love being wireless and look forward to expanding the theme across the 🏠ITS WIRELESS CHARGING YALL\n",
      "----------------------------------------------------------------------\n",
      "8 For a while I had been looking forward to the Watch 4 and the Wear OS integration. To me this watch is Tinzen OS on an energy drink. Samsung still does not allow most third party apps to work on this Watch. I think it is just hair better than my Galaxy Watch. I kept it for one day then sent it back. Not going to waste my money on this product, darn sure not gonna send them my Galaxy Watch that had been set as a trade. I guess Samsung will never step up to the plate and create a quality made product. One that can really give Apple a run for the money. The boat has sailed and Samsung is left standing on the dock scratching their head. AGAIN!!!!!\n",
      "----------------------------------------------------------------------\n",
      "9 Watch itself is very large--so large that if you have a small/medium wrist, you probably should find a smaller model.  The large watchband fits me, but the watch itself extends out so far it does not lie flat on the wrist!  Large watch supports bigger battery which is the main reason I bought this watch.  Galaxywatch 4 is based on 5nm chip which provides all models with a better battery life than smartwatch alternatives.  Out of the box, there is no manual.  Go online and try to download.  None of the links work!  Had to do a tech support chat just to get the manual.  Included watch band is thick stiff plastic.  Stainless steel watch looks good but grey plastic look on band is horrible. Fortunately, alternative bands are available(at extra cost and backordered)Display is large and excellent quality.  Uses touch screen, two buttons and the rotating bezel to communicate with the watch.  Can also handle Bixby voice commands if activated.  Battery life while better than smartwatch alternatives is still weak.  Lasted a little more than one day on first day trying it.Expect long run battery life will depend on usage of various features since some such as measuring body fat involve pushing out electrical signals to the body.This has the capability of handling powerful software.  I bought it primarily as a fitness device.  Existing fitness software is mediocre but appears to have needed functions such as inactivity monitor and steps .  Given the power and compatibility with Google operating system, there will hopefully be better software developed.Charging is by magnetic attachment to inductive charger.  This promises much more reliability than methods used by my prior fitness trackers.Samsung website for this is as intrusive and annoying as for their other products.  I tried to login to check the status of an order I placed with them. It refused to let me in unless I agreed to an agreement to allow Sofi, their financial/payment system to have access to all my Samsung devices(I have o interest in the product)!  I had to go on their website as a guest and not login in order to check the status of the order to avoid this agreement!\n",
      "----------------------------------------------------------------------\n",
      "10 overall, solid smart watch choice\n",
      "----------------------------------------------------------------------\n"
     ]
    }
   ],
   "source": [
    "page = driver.page_source\n",
    "soup = BeautifulSoup(page, 'html.parser')\n",
    "all_review = []\n",
    "\n",
    "review = soup.find_all(\"span\", class_ = \"a-size-base review-text review-text-content\")\n",
    "print(\"count review :\", len(review))\n",
    "# print(review[0].text.strip())\n",
    "\n",
    "for one in review :\n",
    "    all_review.append(one.text.strip())\n",
    "    \n",
    "for idx, val in enumerate(all_review) :\n",
    "    print(idx + 1, val)\n",
    "    print(\"-\" * 70)"
   ]
  },
  {
   "cell_type": "code",
   "execution_count": 38,
   "id": "a697c5ee",
   "metadata": {},
   "outputs": [
    {
     "name": "stdout",
     "output_type": "stream",
     "text": [
      "                                              아마존 리뷰\n",
      "0  If you're into the samsung bloatware experienc...\n",
      "1  I've owned a few Android compatible smart watc...\n",
      "2  New for 2021, Samsung has released two version...\n",
      "3  I pre-ordered the classic 46mm and received it...\n",
      "4  The new watch series will only work with certa...\n",
      "5  The watch is Awesome but there is no watch fac...\n",
      "6  Man alive have I been stoked about these. Fina...\n",
      "7  For a while I had been looking forward to the ...\n",
      "8  Watch itself is very large--so large that if y...\n",
      "9                  overall, solid smart watch choice\n"
     ]
    }
   ],
   "source": [
    "import pandas as pd\n",
    "\n",
    "review_df = pd.DataFrame(all_review, columns = [\"아마존 리뷰\"])\n",
    "print(review_df)\n",
    "review_df.to_csv(\"./CSV/amazon_review_10.csv\", index = False)"
   ]
  },
  {
   "cell_type": "markdown",
   "id": "824d2a86",
   "metadata": {},
   "source": [
    "## 아이템 페이지 정보를 넘겨받고, 두 페이지 리뷰 모두 가져오기"
   ]
  },
  {
   "cell_type": "code",
   "execution_count": 76,
   "id": "1a4ddf97",
   "metadata": {},
   "outputs": [
    {
     "name": "stdout",
     "output_type": "stream",
     "text": [
      "1 If you're into the samsung bloatware experience then by all means go for it. There are absolutely no pros about this watch but here are the cons:1) battery won't last a day2) Does not work with Wear OS, it will get detected and the progress is stuck. Watch is connected with limited usability3) requires the full bloatware from Samsung so be prepared to create samsung accounts and have all your vital stats at the mercy of a Korean giant.4) First install the Samsung Wearable app and make sure you give it ALL the permissions else it will fail and you're get constant notifications even after you;'ve corrected the permissions. Then install the Samsung Watch 4 Plugin app and agains give it all permissions. Then you need to install the Samsung Health app and even that needs access to your phone.5) After installing 3 Samsung apps and 2 samsung accounts, you will now experience degraded battery life on your phone6) Samsung Health does not sync with Google Fit. So forget about trying to get that to work without installing another 3rd party app.7) No Google Assistant on the watch8) No Google Pay on the watchSo basically nothing Google works on this watch. So what's even the point and all the fuss about?\n",
      "----------------------------------------------------------------------\n",
      "2 I've owned a few Android compatible smart watches in the past (Huawei Watch and Galaxy Watch Active 2) and have played around with several others and I can confidently say this is by a mile the best smart watch ever available to Android users. The new OS is really beautiful (why did it take so long to finally get here?), the performance with the new processor is incredibly snappy (I've yet to experience any lag), the aesthetic is perfect for my taste (Galaxy Watch 4 Classic), and the rotating bezel is so satisfying to use (the build quality is super premium). The selection of health sensors is really impressive and so far seem to work well, and now Google Maps, Google Pay, and Android Messages are available via the Play Store.If you are at all interested in owning a smart watch and are an Android user please don't waste your time with any other smart watch. At least at the time of writing this review the Galaxy Watch 4 and Watch 4 Classic are the only reasonable choice. I've used various Apple Watches and was always openly envious of iPhone users for having such a great smart watch platform. In my opinion this watch matches up with the Apple Watch Series 6 extremely well. Thank you Samsung and Google for FINALLY putting out a smartwatch that is worth the money.\n",
      "----------------------------------------------------------------------\n",
      "3 New for 2021, Samsung has released two versions of the Galaxy Watch:  Galaxy Watch 4 and Galaxy Watch 4 Classic.  This Galaxy Watch 4 has a physical design similar to the Galaxy Watch Active 2, with the digital touch ring around the edge, and sizes of 40mm and 44mm.  Meanwhile, the Watch 4 “Classic” has a physical design more like the Watch 3, with a physical rotating steel bezel and sizes of 42mm and 46mm.  Both versions come in Bluetooth or LTE models.  Both versions now use Google's WearOS operating system, instead of Samsung's TizenOS, which all previous Samsung watches used.  This means a wider selection of apps to choose from for your watch, including all of the Google apps.So to reiterate:Watch4 = Watch Active2 design + Google WearOSWatch4 Classic = Watch3 design + Google WearOSBoth versions now have a faster processor than the Watch3, as well as more RAM (1.5GB upgraded from 1GB) and more storage (16GB upgraded from 8GB).  There are also some extra sensors including a geomagnetic sensor, and body composition analysis, although some functionality may depend on your country.Here are some of my other thoughts after using these watches so far:-WearOS:  This is the biggest difference to me so far.  There are many more apps available now that Samsung is using WearOS, including things like Google Maps.  I have really enjoyed the wider variety of apps to choose from.  Of course, if you had previously been using a custom watch face on a Galaxy Watch 3 from the Galaxy Store, you might miss that old face, but there are plenty of others to choose from.-Speed:  The Watch 4 is noticeably faster.  Scrolling through apps and launching applications just seems to be more smooth, and a tiny bit faster to do everything.-BodyComp:  This seemed to be pretty inaccurate for me, but it is nice to have this data for a baseline to try to improve.-Battery:  The battery life seems to be a bit better with this Watch4 than it was with the Watch3.  I will test this more over the next few weeks.Overall, I like the changes with this new version of the Galaxy Watch.  There are reportedly more software updates in the works too, like using Google Assistant instead of Bixby.  Coming from the Galaxy Watch 3, I prefer the Watch 4 “Classic” model because of the rotating bezel, but if you are upgrading from the Active2 and don't care about the bezel, then you might prefer the regular Watch 4.  (Note – I personally have not tried to use these with an iPhone, but several sources seem to indicate that there are some difficulties when trying to do so, so do some research first if you are using an iPhone)\n",
      "----------------------------------------------------------------------\n",
      "4 I pre-ordered the classic 46mm and received it last Wednesday. Upgraded from the 3. I really like the watch, new sensors and move to WearOS - so I recommend the watch. Issue is with the band. The quick release pins, release latch that you use to remove the bands do not stick up from the band - at all - so it's impossible to get the band back on once removed. Really poor design from Samsung. I can't get it back in, so I'm watch-less until I can buy new ones. So, you've been advised - don't plan on using the OEM Samsung band if you like to switch out different bands.\n",
      "----------------------------------------------------------------------\n",
      "5 The new watch series will only work with certain Samsung chargers. It will NOT work with any previous chargers, nor will it charge from powersharing with a Note 20 Ultra. Further, they've done away with the old menu system. Remember how it was an organized pattern that was selected by the bezel? Now it's a giant pile. Good luck trying to use it without giving 100% attention. I'm returning and I'll keep using my previous model. Funny, my two year old watch still has better battery life.\n",
      "----------------------------------------------------------------------\n",
      "6 The watch is Awesome but there is no watch faces available in the Wear OS store compared to the Samsung Watch Store for previous galaxy watches. Google needs to make more watch faces. ASAP!!!\n",
      "----------------------------------------------------------------------\n",
      "7 Man alive have I been stoked about these. Finally got the wife the Fold 3 and me the Classic Watch 4 and man are they 👍 the charger works for both and no issues connecting to them :) I love being wireless and look forward to expanding the theme across the 🏠ITS WIRELESS CHARGING YALL\n",
      "----------------------------------------------------------------------\n",
      "8 For a while I had been looking forward to the Watch 4 and the Wear OS integration. To me this watch is Tinzen OS on an energy drink. Samsung still does not allow most third party apps to work on this Watch. I think it is just hair better than my Galaxy Watch. I kept it for one day then sent it back. Not going to waste my money on this product, darn sure not gonna send them my Galaxy Watch that had been set as a trade. I guess Samsung will never step up to the plate and create a quality made product. One that can really give Apple a run for the money. The boat has sailed and Samsung is left standing on the dock scratching their head. AGAIN!!!!!\n",
      "----------------------------------------------------------------------\n",
      "9 Watch itself is very large--so large that if you have a small/medium wrist, you probably should find a smaller model.  The large watchband fits me, but the watch itself extends out so far it does not lie flat on the wrist!  Large watch supports bigger battery which is the main reason I bought this watch.  Galaxywatch 4 is based on 5nm chip which provides all models with a better battery life than smartwatch alternatives.  Out of the box, there is no manual.  Go online and try to download.  None of the links work!  Had to do a tech support chat just to get the manual.  Included watch band is thick stiff plastic.  Stainless steel watch looks good but grey plastic look on band is horrible. Fortunately, alternative bands are available(at extra cost and backordered)Display is large and excellent quality.  Uses touch screen, two buttons and the rotating bezel to communicate with the watch.  Can also handle Bixby voice commands if activated.  Battery life while better than smartwatch alternatives is still weak.  Lasted a little more than one day on first day trying it.Expect long run battery life will depend on usage of various features since some such as measuring body fat involve pushing out electrical signals to the body.This has the capability of handling powerful software.  I bought it primarily as a fitness device.  Existing fitness software is mediocre but appears to have needed functions such as inactivity monitor and steps .  Given the power and compatibility with Google operating system, there will hopefully be better software developed.Charging is by magnetic attachment to inductive charger.  This promises much more reliability than methods used by my prior fitness trackers.Samsung website for this is as intrusive and annoying as for their other products.  I tried to login to check the status of an order I placed with them. It refused to let me in unless I agreed to an agreement to allow Sofi, their financial/payment system to have access to all my Samsung devices(I have o interest in the product)!  I had to go on their website as a guest and not login in order to check the status of the order to avoid this agreement!\n",
      "----------------------------------------------------------------------\n",
      "10 overall, solid smart watch choice\n",
      "----------------------------------------------------------------------\n",
      "11 If you're into the samsung bloatware experience then by all means go for it. There are absolutely no pros about this watch but here are the cons:1) battery won't last a day2) Does not work with Wear OS, it will get detected and the progress is stuck. Watch is connected with limited usability3) requires the full bloatware from Samsung so be prepared to create samsung accounts and have all your vital stats at the mercy of a Korean giant.4) First install the Samsung Wearable app and make sure you give it ALL the permissions else it will fail and you're get constant notifications even after you;'ve corrected the permissions. Then install the Samsung Watch 4 Plugin app and agains give it all permissions. Then you need to install the Samsung Health app and even that needs access to your phone.5) After installing 3 Samsung apps and 2 samsung accounts, you will now experience degraded battery life on your phone6) Samsung Health does not sync with Google Fit. So forget about trying to get that to work without installing another 3rd party app.7) No Google Assistant on the watch8) No Google Pay on the watchSo basically nothing Google works on this watch. So what's even the point and all the fuss about?\n",
      "----------------------------------------------------------------------\n",
      "12 I've owned a few Android compatible smart watches in the past (Huawei Watch and Galaxy Watch Active 2) and have played around with several others and I can confidently say this is by a mile the best smart watch ever available to Android users. The new OS is really beautiful (why did it take so long to finally get here?), the performance with the new processor is incredibly snappy (I've yet to experience any lag), the aesthetic is perfect for my taste (Galaxy Watch 4 Classic), and the rotating bezel is so satisfying to use (the build quality is super premium). The selection of health sensors is really impressive and so far seem to work well, and now Google Maps, Google Pay, and Android Messages are available via the Play Store.If you are at all interested in owning a smart watch and are an Android user please don't waste your time with any other smart watch. At least at the time of writing this review the Galaxy Watch 4 and Watch 4 Classic are the only reasonable choice. I've used various Apple Watches and was always openly envious of iPhone users for having such a great smart watch platform. In my opinion this watch matches up with the Apple Watch Series 6 extremely well. Thank you Samsung and Google for FINALLY putting out a smartwatch that is worth the money.\n",
      "----------------------------------------------------------------------\n",
      "13 New for 2021, Samsung has released two versions of the Galaxy Watch:  Galaxy Watch 4 and Galaxy Watch 4 Classic.  This Galaxy Watch 4 has a physical design similar to the Galaxy Watch Active 2, with the digital touch ring around the edge, and sizes of 40mm and 44mm.  Meanwhile, the Watch 4 “Classic” has a physical design more like the Watch 3, with a physical rotating steel bezel and sizes of 42mm and 46mm.  Both versions come in Bluetooth or LTE models.  Both versions now use Google's WearOS operating system, instead of Samsung's TizenOS, which all previous Samsung watches used.  This means a wider selection of apps to choose from for your watch, including all of the Google apps.So to reiterate:Watch4 = Watch Active2 design + Google WearOSWatch4 Classic = Watch3 design + Google WearOSBoth versions now have a faster processor than the Watch3, as well as more RAM (1.5GB upgraded from 1GB) and more storage (16GB upgraded from 8GB).  There are also some extra sensors including a geomagnetic sensor, and body composition analysis, although some functionality may depend on your country.Here are some of my other thoughts after using these watches so far:-WearOS:  This is the biggest difference to me so far.  There are many more apps available now that Samsung is using WearOS, including things like Google Maps.  I have really enjoyed the wider variety of apps to choose from.  Of course, if you had previously been using a custom watch face on a Galaxy Watch 3 from the Galaxy Store, you might miss that old face, but there are plenty of others to choose from.-Speed:  The Watch 4 is noticeably faster.  Scrolling through apps and launching applications just seems to be more smooth, and a tiny bit faster to do everything.-BodyComp:  This seemed to be pretty inaccurate for me, but it is nice to have this data for a baseline to try to improve.-Battery:  The battery life seems to be a bit better with this Watch4 than it was with the Watch3.  I will test this more over the next few weeks.Overall, I like the changes with this new version of the Galaxy Watch.  There are reportedly more software updates in the works too, like using Google Assistant instead of Bixby.  Coming from the Galaxy Watch 3, I prefer the Watch 4 “Classic” model because of the rotating bezel, but if you are upgrading from the Active2 and don't care about the bezel, then you might prefer the regular Watch 4.  (Note – I personally have not tried to use these with an iPhone, but several sources seem to indicate that there are some difficulties when trying to do so, so do some research first if you are using an iPhone)\n",
      "----------------------------------------------------------------------\n",
      "14 I pre-ordered the classic 46mm and received it last Wednesday. Upgraded from the 3. I really like the watch, new sensors and move to WearOS - so I recommend the watch. Issue is with the band. The quick release pins, release latch that you use to remove the bands do not stick up from the band - at all - so it's impossible to get the band back on once removed. Really poor design from Samsung. I can't get it back in, so I'm watch-less until I can buy new ones. So, you've been advised - don't plan on using the OEM Samsung band if you like to switch out different bands.\n",
      "----------------------------------------------------------------------\n",
      "15 The new watch series will only work with certain Samsung chargers. It will NOT work with any previous chargers, nor will it charge from powersharing with a Note 20 Ultra. Further, they've done away with the old menu system. Remember how it was an organized pattern that was selected by the bezel? Now it's a giant pile. Good luck trying to use it without giving 100% attention. I'm returning and I'll keep using my previous model. Funny, my two year old watch still has better battery life.\n",
      "----------------------------------------------------------------------\n",
      "16 The watch is Awesome but there is no watch faces available in the Wear OS store compared to the Samsung Watch Store for previous galaxy watches. Google needs to make more watch faces. ASAP!!!\n",
      "----------------------------------------------------------------------\n",
      "17 Man alive have I been stoked about these. Finally got the wife the Fold 3 and me the Classic Watch 4 and man are they 👍 the charger works for both and no issues connecting to them :) I love being wireless and look forward to expanding the theme across the 🏠ITS WIRELESS CHARGING YALL\n",
      "----------------------------------------------------------------------\n",
      "18 For a while I had been looking forward to the Watch 4 and the Wear OS integration. To me this watch is Tinzen OS on an energy drink. Samsung still does not allow most third party apps to work on this Watch. I think it is just hair better than my Galaxy Watch. I kept it for one day then sent it back. Not going to waste my money on this product, darn sure not gonna send them my Galaxy Watch that had been set as a trade. I guess Samsung will never step up to the plate and create a quality made product. One that can really give Apple a run for the money. The boat has sailed and Samsung is left standing on the dock scratching their head. AGAIN!!!!!\n",
      "----------------------------------------------------------------------\n",
      "19 Watch itself is very large--so large that if you have a small/medium wrist, you probably should find a smaller model.  The large watchband fits me, but the watch itself extends out so far it does not lie flat on the wrist!  Large watch supports bigger battery which is the main reason I bought this watch.  Galaxywatch 4 is based on 5nm chip which provides all models with a better battery life than smartwatch alternatives.  Out of the box, there is no manual.  Go online and try to download.  None of the links work!  Had to do a tech support chat just to get the manual.  Included watch band is thick stiff plastic.  Stainless steel watch looks good but grey plastic look on band is horrible. Fortunately, alternative bands are available(at extra cost and backordered)Display is large and excellent quality.  Uses touch screen, two buttons and the rotating bezel to communicate with the watch.  Can also handle Bixby voice commands if activated.  Battery life while better than smartwatch alternatives is still weak.  Lasted a little more than one day on first day trying it.Expect long run battery life will depend on usage of various features since some such as measuring body fat involve pushing out electrical signals to the body.This has the capability of handling powerful software.  I bought it primarily as a fitness device.  Existing fitness software is mediocre but appears to have needed functions such as inactivity monitor and steps .  Given the power and compatibility with Google operating system, there will hopefully be better software developed.Charging is by magnetic attachment to inductive charger.  This promises much more reliability than methods used by my prior fitness trackers.Samsung website for this is as intrusive and annoying as for their other products.  I tried to login to check the status of an order I placed with them. It refused to let me in unless I agreed to an agreement to allow Sofi, their financial/payment system to have access to all my Samsung devices(I have o interest in the product)!  I had to go on their website as a guest and not login in order to check the status of the order to avoid this agreement!\n",
      "----------------------------------------------------------------------\n",
      "20 overall, solid smart watch choice\n",
      "----------------------------------------------------------------------\n"
     ]
    }
   ],
   "source": [
    "page = driver.page_source\n",
    "soup = BeautifulSoup(page, 'html.parser')\n",
    "all_review = []\n",
    "\n",
    "review = soup.find_all(\"span\", class_ = \"a-size-base review-text review-text-content\")\n",
    "# print(\"count review :\", len(review))\n",
    "# print(review[0].text.strip())\n",
    "\n",
    "for one in review :\n",
    "    all_review.append(one.text.strip())\n",
    "\n",
    "next_button = driver.find_element_by_xpath('//*[@id=\"cm_cr-pagination_bar\"]/ul/li[2]/a')\n",
    "next_button.click()\n",
    "\n",
    "next_page = driver.page_source\n",
    "next_soup = BeautifulSoup(next_page, 'html.parser')\n",
    "\n",
    "next_review = next_soup.find_all(\"span\", class_ = \"a-size-base review-text review-text-content\")\n",
    "\n",
    "for r in next_review :\n",
    "    all_review.append(r.text.strip())\n",
    "    \n",
    "for idx, val in enumerate(all_review) :\n",
    "    print(idx + 1, val)\n",
    "    print(\"-\" * 70)"
   ]
  },
  {
   "cell_type": "code",
   "execution_count": 82,
   "id": "60beeee0",
   "metadata": {},
   "outputs": [],
   "source": [
    "page = driver.page_source\n",
    "soup = BeautifulSoup(page, 'html.parser')\n",
    "all_review = []\n",
    "\n",
    "review = soup.find_all(\"span\", class_ = \"a-size-base review-text review-text-content\")\n",
    "# print(\"count review :\", len(review))\n",
    "# print(review[0].text.strip())\n",
    "\n",
    "for one in review :\n",
    "    all_review.append(one.text.strip())"
   ]
  },
  {
   "cell_type": "code",
   "execution_count": 83,
   "id": "edbccb35",
   "metadata": {},
   "outputs": [],
   "source": [
    "next_button = driver.find_element_by_xpath('//*[@id=\"cm_cr-pagination_bar\"]/ul/li[2]/a')\n",
    "next_button.click()\n"
   ]
  },
  {
   "cell_type": "code",
   "execution_count": 84,
   "id": "fc3590c9",
   "metadata": {},
   "outputs": [
    {
     "name": "stdout",
     "output_type": "stream",
     "text": [
      "1 If you're into the samsung bloatware experience then by all means go for it. There are absolutely no pros about this watch but here are the cons:1) battery won't last a day2) Does not work with Wear OS, it will get detected and the progress is stuck. Watch is connected with limited usability3) requires the full bloatware from Samsung so be prepared to create samsung accounts and have all your vital stats at the mercy of a Korean giant.4) First install the Samsung Wearable app and make sure you give it ALL the permissions else it will fail and you're get constant notifications even after you;'ve corrected the permissions. Then install the Samsung Watch 4 Plugin app and agains give it all permissions. Then you need to install the Samsung Health app and even that needs access to your phone.5) After installing 3 Samsung apps and 2 samsung accounts, you will now experience degraded battery life on your phone6) Samsung Health does not sync with Google Fit. So forget about trying to get that to work without installing another 3rd party app.7) No Google Assistant on the watch8) No Google Pay on the watchSo basically nothing Google works on this watch. So what's even the point and all the fuss about?\n",
      "----------------------------------------------------------------------\n",
      "2 I've owned a few Android compatible smart watches in the past (Huawei Watch and Galaxy Watch Active 2) and have played around with several others and I can confidently say this is by a mile the best smart watch ever available to Android users. The new OS is really beautiful (why did it take so long to finally get here?), the performance with the new processor is incredibly snappy (I've yet to experience any lag), the aesthetic is perfect for my taste (Galaxy Watch 4 Classic), and the rotating bezel is so satisfying to use (the build quality is super premium). The selection of health sensors is really impressive and so far seem to work well, and now Google Maps, Google Pay, and Android Messages are available via the Play Store.If you are at all interested in owning a smart watch and are an Android user please don't waste your time with any other smart watch. At least at the time of writing this review the Galaxy Watch 4 and Watch 4 Classic are the only reasonable choice. I've used various Apple Watches and was always openly envious of iPhone users for having such a great smart watch platform. In my opinion this watch matches up with the Apple Watch Series 6 extremely well. Thank you Samsung and Google for FINALLY putting out a smartwatch that is worth the money.\n",
      "----------------------------------------------------------------------\n",
      "3 New for 2021, Samsung has released two versions of the Galaxy Watch:  Galaxy Watch 4 and Galaxy Watch 4 Classic.  This Galaxy Watch 4 has a physical design similar to the Galaxy Watch Active 2, with the digital touch ring around the edge, and sizes of 40mm and 44mm.  Meanwhile, the Watch 4 “Classic” has a physical design more like the Watch 3, with a physical rotating steel bezel and sizes of 42mm and 46mm.  Both versions come in Bluetooth or LTE models.  Both versions now use Google's WearOS operating system, instead of Samsung's TizenOS, which all previous Samsung watches used.  This means a wider selection of apps to choose from for your watch, including all of the Google apps.So to reiterate:Watch4 = Watch Active2 design + Google WearOSWatch4 Classic = Watch3 design + Google WearOSBoth versions now have a faster processor than the Watch3, as well as more RAM (1.5GB upgraded from 1GB) and more storage (16GB upgraded from 8GB).  There are also some extra sensors including a geomagnetic sensor, and body composition analysis, although some functionality may depend on your country.Here are some of my other thoughts after using these watches so far:-WearOS:  This is the biggest difference to me so far.  There are many more apps available now that Samsung is using WearOS, including things like Google Maps.  I have really enjoyed the wider variety of apps to choose from.  Of course, if you had previously been using a custom watch face on a Galaxy Watch 3 from the Galaxy Store, you might miss that old face, but there are plenty of others to choose from.-Speed:  The Watch 4 is noticeably faster.  Scrolling through apps and launching applications just seems to be more smooth, and a tiny bit faster to do everything.-BodyComp:  This seemed to be pretty inaccurate for me, but it is nice to have this data for a baseline to try to improve.-Battery:  The battery life seems to be a bit better with this Watch4 than it was with the Watch3.  I will test this more over the next few weeks.Overall, I like the changes with this new version of the Galaxy Watch.  There are reportedly more software updates in the works too, like using Google Assistant instead of Bixby.  Coming from the Galaxy Watch 3, I prefer the Watch 4 “Classic” model because of the rotating bezel, but if you are upgrading from the Active2 and don't care about the bezel, then you might prefer the regular Watch 4.  (Note – I personally have not tried to use these with an iPhone, but several sources seem to indicate that there are some difficulties when trying to do so, so do some research first if you are using an iPhone)\n",
      "----------------------------------------------------------------------\n",
      "4 I pre-ordered the classic 46mm and received it last Wednesday. Upgraded from the 3. I really like the watch, new sensors and move to WearOS - so I recommend the watch. Issue is with the band. The quick release pins, release latch that you use to remove the bands do not stick up from the band - at all - so it's impossible to get the band back on once removed. Really poor design from Samsung. I can't get it back in, so I'm watch-less until I can buy new ones. So, you've been advised - don't plan on using the OEM Samsung band if you like to switch out different bands.\n",
      "----------------------------------------------------------------------\n",
      "5 The new watch series will only work with certain Samsung chargers. It will NOT work with any previous chargers, nor will it charge from powersharing with a Note 20 Ultra. Further, they've done away with the old menu system. Remember how it was an organized pattern that was selected by the bezel? Now it's a giant pile. Good luck trying to use it without giving 100% attention. I'm returning and I'll keep using my previous model. Funny, my two year old watch still has better battery life.\n",
      "----------------------------------------------------------------------\n",
      "6 The watch is Awesome but there is no watch faces available in the Wear OS store compared to the Samsung Watch Store for previous galaxy watches. Google needs to make more watch faces. ASAP!!!\n",
      "----------------------------------------------------------------------\n",
      "7 Man alive have I been stoked about these. Finally got the wife the Fold 3 and me the Classic Watch 4 and man are they 👍 the charger works for both and no issues connecting to them :) I love being wireless and look forward to expanding the theme across the 🏠ITS WIRELESS CHARGING YALL\n",
      "----------------------------------------------------------------------\n",
      "8 For a while I had been looking forward to the Watch 4 and the Wear OS integration. To me this watch is Tinzen OS on an energy drink. Samsung still does not allow most third party apps to work on this Watch. I think it is just hair better than my Galaxy Watch. I kept it for one day then sent it back. Not going to waste my money on this product, darn sure not gonna send them my Galaxy Watch that had been set as a trade. I guess Samsung will never step up to the plate and create a quality made product. One that can really give Apple a run for the money. The boat has sailed and Samsung is left standing on the dock scratching their head. AGAIN!!!!!\n",
      "----------------------------------------------------------------------\n",
      "9 Watch itself is very large--so large that if you have a small/medium wrist, you probably should find a smaller model.  The large watchband fits me, but the watch itself extends out so far it does not lie flat on the wrist!  Large watch supports bigger battery which is the main reason I bought this watch.  Galaxywatch 4 is based on 5nm chip which provides all models with a better battery life than smartwatch alternatives.  Out of the box, there is no manual.  Go online and try to download.  None of the links work!  Had to do a tech support chat just to get the manual.  Included watch band is thick stiff plastic.  Stainless steel watch looks good but grey plastic look on band is horrible. Fortunately, alternative bands are available(at extra cost and backordered)Display is large and excellent quality.  Uses touch screen, two buttons and the rotating bezel to communicate with the watch.  Can also handle Bixby voice commands if activated.  Battery life while better than smartwatch alternatives is still weak.  Lasted a little more than one day on first day trying it.Expect long run battery life will depend on usage of various features since some such as measuring body fat involve pushing out electrical signals to the body.This has the capability of handling powerful software.  I bought it primarily as a fitness device.  Existing fitness software is mediocre but appears to have needed functions such as inactivity monitor and steps .  Given the power and compatibility with Google operating system, there will hopefully be better software developed.Charging is by magnetic attachment to inductive charger.  This promises much more reliability than methods used by my prior fitness trackers.Samsung website for this is as intrusive and annoying as for their other products.  I tried to login to check the status of an order I placed with them. It refused to let me in unless I agreed to an agreement to allow Sofi, their financial/payment system to have access to all my Samsung devices(I have o interest in the product)!  I had to go on their website as a guest and not login in order to check the status of the order to avoid this agreement!\n",
      "----------------------------------------------------------------------\n",
      "10 overall, solid smart watch choice\n",
      "----------------------------------------------------------------------\n",
      "11 This is the best Samsung Galaxy watch before and I've had most of them. Great functions, and gravy and able to directly download from the Google Play Store. The only drawbacks are that the watch faces from Tyson on that transferable, and for a man the slim down on the watch band from 22 mm to 20 mm feels a little feminine. Other than that beautiful watch\n",
      "----------------------------------------------------------------------\n",
      "12 It has been years since I used a Smartwatch. The last one was the original Galaxy Gear S and ever since I switched over to traditional ones.The galaxy watch 4 classic changed my mind. It looks and feels like a really high quality watch. Except for the wristband it comes with. I get it for the normal one, but they should have definitely added a leather strap instead of this silicone one.It is easy enough to change though.You will definitely not be disappointed with this watch when it comes to looks and overall style.Btw, my wrist is 18cm and the Classic 46mm fits perfectly. I got used to big watches and was always using 45mm ones. 42mm felt too small, and thus I went with the 46mm one.The software is great as well, doesn't matter if you use Galaxy phones or other Android phones. BUT keep in mind, that since it IS a watch from Samsung, samsung devices will have it easier and will overall have a smoother experience, as you don't have to install its apps like S Health or Galaxy Wearable.Google apps are not on it as of yet, except for google maps, but they are coming, according to both Samsung and Google.I personally don't use any other google services other than Maps and Assistant, but I can wait for the latter. Bixby and Samsung Pay don't work in my country anyway (Japan). I just hope they will let us remap those 2 physical buttons.Also, I actually do recommend to use S health of google fit anyway, since it offers way more information and works smoothly with the watch.The speakers and microphone are unexpectedly good.Spotify works great as well. One can easily download playlists and albumbs directly from the watch and listen to it offline.The rotating bezel is as always a godsend. It looks and feels great and works like a charm.Doesn't matter what kind of Phone you have, even if you own an iPhone, this watch will work, even if you have to install apps. Still better than having a smartwatch that won't work at all with Android. You know who I am speaking off. So complaining here does not really make sense. Especially if the apps are great.I recommend it a lot 5/5\n",
      "----------------------------------------------------------------------\n"
     ]
    }
   ],
   "source": [
    "next_page = driver.page_source\n",
    "next_soup = BeautifulSoup(next_page, 'html.parser')\n",
    "\n",
    "next_review = next_soup.find_all(\"span\", class_ = \"a-size-base review-text review-text-content\")\n",
    "\n",
    "for r in next_review :\n",
    "    all_review.append(r.text.strip())\n",
    "    \n",
    "for idx, val in enumerate(all_review) :\n",
    "    print(idx + 1, val)\n",
    "    print(\"-\" * 70)"
   ]
  },
  {
   "cell_type": "code",
   "execution_count": null,
   "id": "fe3e2d2e",
   "metadata": {},
   "outputs": [],
   "source": []
  }
 ],
 "metadata": {
  "kernelspec": {
   "display_name": "Python 3 (ipykernel)",
   "language": "python",
   "name": "python3"
  },
  "language_info": {
   "codemirror_mode": {
    "name": "ipython",
    "version": 3
   },
   "file_extension": ".py",
   "mimetype": "text/x-python",
   "name": "python",
   "nbconvert_exporter": "python",
   "pygments_lexer": "ipython3",
   "version": "3.8.8"
  }
 },
 "nbformat": 4,
 "nbformat_minor": 5
}
