{
 "cells": [
  {
   "cell_type": "markdown",
   "id": "d9405757",
   "metadata": {},
   "source": [
    "### CSS"
   ]
  },
  {
   "cell_type": "markdown",
   "id": "fdcf3699",
   "metadata": {},
   "source": [
    "* CSS 넣는 3가지 방법\n",
    "    * inline\n",
    "    * internal\n",
    "    * external"
   ]
  },
  {
   "cell_type": "markdown",
   "id": "4f51f204",
   "metadata": {},
   "source": [
    "* inline\n",
    "    * <a style = \"\"></a>"
   ]
  },
  {
   "cell_type": "markdown",
   "id": "2e403542",
   "metadata": {},
   "source": [
    "* internal\n",
    "    * <style> ___ </style>"
   ]
  },
  {
   "cell_type": "markdown",
   "id": "f606c3be",
   "metadata": {},
   "source": [
    "### CSS selector"
   ]
  },
  {
   "cell_type": "markdown",
   "id": "5c2737b7",
   "metadata": {},
   "source": [
    "* id -> #id\n",
    "* html tag -> tag명\n",
    "* class -> .class명"
   ]
  },
  {
   "cell_type": "markdown",
   "id": "1576225e",
   "metadata": {},
   "source": [
    "* text-align : center; # left, right, center"
   ]
  },
  {
   "cell_type": "markdown",
   "id": "9dec8c07",
   "metadata": {},
   "source": [
    "* 외부 연결\n",
    "    *  <code><link rel=\"stylesheet\" href=\".css\"></code>"
   ]
  },
  {
   "cell_type": "markdown",
   "id": "68b47827",
   "metadata": {},
   "source": [
    "<code> h1, p {\n",
    "    color: red;\n",
    "}\n",
    "</code>\n",
    "\n",
    "h1과 p를 선택해서 스타일을 적용시키라는 의미."
   ]
  },
  {
   "cell_type": "markdown",
   "id": "de4d6f45",
   "metadata": {},
   "source": [
    "<code> h1 p {\n",
    "    color: red;\n",
    "}\n",
    "</code>\n",
    "\n",
    "h1태그에 속하는 p태그"
   ]
  },
  {
   "cell_type": "markdown",
   "id": "bc4a9357",
   "metadata": {},
   "source": [
    "* css의 파일 내용\n",
    "    * html 파일의 style 태그의 내용을 css파일로 만들어준다."
   ]
  },
  {
   "cell_type": "markdown",
   "id": "0ad9f2c6",
   "metadata": {},
   "source": [
    "* padding, margin"
   ]
  },
  {
   "cell_type": "markdown",
   "id": "21ca5fed",
   "metadata": {},
   "source": [
    "### JS"
   ]
  },
  {
   "cell_type": "markdown",
   "id": "ad788ae4",
   "metadata": {},
   "source": [
    "<code>\n",
    "    <button type=\"button\" onclick=\"document.getElementById('p_date').innerHTML = Date()\">\n",
    "    Click me to display Date and Time.</button>\n",
    "    <p id=\"p_date\"></p>\n",
    "</code>"
   ]
  },
  {
   "cell_type": "markdown",
   "id": "303776e1",
   "metadata": {},
   "source": [
    "* 함수\n",
    "<script>\n",
    "function start_fuc() {\n",
    "    document.getElementById(\"p1\").innerHTML = \"My First JavaScript\";\n",
    "    return \"hello\";\n",
    "start_fuc()\n",
    "</script>"
   ]
  },
  {
   "cell_type": "markdown",
   "id": "ac1413ba",
   "metadata": {},
   "source": [
    "* 주석 -> //"
   ]
  },
  {
   "cell_type": "markdown",
   "id": "9e33e789",
   "metadata": {},
   "source": [
    "* switch () { }"
   ]
  },
  {
   "cell_type": "markdown",
   "id": "cc8b9657",
   "metadata": {},
   "source": [
    "### BS4"
   ]
  },
  {
   "cell_type": "raw",
   "id": "87501de4",
   "metadata": {},
   "source": [
    "* urlopen 함수\n",
    "    * urlopen(url) : 해당 웹서버에 요청하여 html 소스코드 얻기"
   ]
  },
  {
   "cell_type": "markdown",
   "id": "802d7c00",
   "metadata": {},
   "source": [
    "* BeautifulSoup\n",
    "    * 데이터를 수집할 때 사용한다.\n",
    "    * 파이썬 라이브러리\n",
    "    * html을 파싱하여 BeautifulSoup 자료형 구조로 만든다.\n",
    "        * 쉽게 정보를 가져올 수 있도록 하기 위해"
   ]
  },
  {
   "cell_type": "markdown",
   "id": "6b31d113",
   "metadata": {},
   "source": [
    "soup = BeautifulSoup(html, '')"
   ]
  },
  {
   "cell_type": "markdown",
   "id": "c936a47b",
   "metadata": {},
   "source": [
    "* soup.find(tag명)\n",
    "* soup.find(tag명, id = \"\")\n",
    "* soup.find(tag명, class_ = \"\")\n",
    "\n",
    "* soup.find_all(tag명)\n",
    "* soup.find_all(tag명, id = \"\")\n",
    "* soup.find_all(tag명, class_ = \"\")\n",
    "    * 저장되는 자료형 BS 리스트 형태로 가져오게 된다.\n",
    "    * for문을 이용해서 하나씩 원하는 분석을 수행한다.\n"
   ]
  },
  {
   "cell_type": "markdown",
   "id": "5e4ecf6b",
   "metadata": {},
   "source": [
    "* children\n",
    "    * [태그명].children\n",
    "        * 태그명 하위의 요소를 리스트 형태로 가져온다."
   ]
  },
  {
   "cell_type": "markdown",
   "id": "2189219d",
   "metadata": {},
   "source": [
    "a = soup.find_all(\"a\")"
   ]
  },
  {
   "cell_type": "markdown",
   "id": "3161dcce",
   "metadata": {},
   "source": [
    "for one in a :\n",
    "    print(one['href'])"
   ]
  },
  {
   "cell_type": "code",
   "execution_count": null,
   "id": "49a38d35",
   "metadata": {},
   "outputs": [],
   "source": []
  },
  {
   "cell_type": "markdown",
   "id": "5fbb871b",
   "metadata": {},
   "source": [
    "### Selenium"
   ]
  },
  {
   "cell_type": "markdown",
   "id": "dbc80f8d",
   "metadata": {},
   "source": [
    "* 라이브러리 설치\n",
    "    * pip install selenium"
   ]
  },
  {
   "cell_type": "code",
   "execution_count": 12,
   "id": "fc0f882f",
   "metadata": {},
   "outputs": [],
   "source": [
    "from selenium import webdriver\n",
    "from bs4 import BeautifulSoup"
   ]
  },
  {
   "cell_type": "code",
   "execution_count": 13,
   "id": "bf2f1a12",
   "metadata": {},
   "outputs": [],
   "source": [
    "driver = webdriver.Chrome('./DATA/chromedriver') # chromedriver 활용"
   ]
  },
  {
   "cell_type": "code",
   "execution_count": 14,
   "id": "8af2087e",
   "metadata": {},
   "outputs": [],
   "source": [
    "### 웹 페이지 접속\n",
    "url = \"https://www.naver.com\"\n",
    "driver.get(url)"
   ]
  },
  {
   "cell_type": "code",
   "execution_count": 15,
   "id": "011f848f",
   "metadata": {},
   "outputs": [
    {
     "data": {
      "text/plain": [
       "<title>NAVER</title>"
      ]
     },
     "execution_count": 15,
     "metadata": {},
     "output_type": "execute_result"
    }
   ],
   "source": [
    "### 웹 페이지로부터 html source 코드를 넘겨받을 수 있다.\n",
    "page = driver.page_source\n",
    "soup = BeautifulSoup(page, 'lxml')\n",
    "soup.title"
   ]
  },
  {
   "cell_type": "code",
   "execution_count": 16,
   "id": "821272ae",
   "metadata": {},
   "outputs": [],
   "source": [
    "### driver가 가지고 있는 웹 요소를 선택해서 가져올 수 있다.\n",
    "### xpath : 웹 페이지의 유일한 주소\n",
    "\n",
    "## 검색 : //*[@id=\"query\"]\n",
    "## 버튼 : //*[@id=\"search_btn\"]"
   ]
  },
  {
   "cell_type": "code",
   "execution_count": 17,
   "id": "658431d1",
   "metadata": {},
   "outputs": [],
   "source": [
    "# 검색과 버튼을 선택\n",
    "sel_search = driver.find_element_by_xpath('//*[@id=\"query\"]')\n",
    "sel_btn = driver.find_element_by_xpath('//*[@id=\"search_btn\"]')"
   ]
  },
  {
   "cell_type": "code",
   "execution_count": 18,
   "id": "a76c3dfa",
   "metadata": {},
   "outputs": [
    {
     "data": {
      "text/plain": [
       "(<selenium.webdriver.remote.webelement.WebElement (session=\"347e490f87645bcbb2cf079269c878bd\", element=\"63c9e0ce-a0ba-4056-ac7b-c14693595a0e\")>,\n",
       " <selenium.webdriver.remote.webelement.WebElement (session=\"347e490f87645bcbb2cf079269c878bd\", element=\"a9b0c387-aa8c-4e63-9728-0fad0d5e5355\")>)"
      ]
     },
     "execution_count": 18,
     "metadata": {},
     "output_type": "execute_result"
    }
   ],
   "source": [
    "sel_search, sel_btn"
   ]
  },
  {
   "cell_type": "code",
   "execution_count": 19,
   "id": "f5c0abf5",
   "metadata": {},
   "outputs": [
    {
     "data": {
      "text/plain": [
       "<selenium.webdriver.remote.webelement.WebElement (session=\"347e490f87645bcbb2cf079269c878bd\", element=\"63c9e0ce-a0ba-4056-ac7b-c14693595a0e\")>"
      ]
     },
     "execution_count": 19,
     "metadata": {},
     "output_type": "execute_result"
    }
   ],
   "source": [
    "sel_search"
   ]
  },
  {
   "cell_type": "code",
   "execution_count": 20,
   "id": "50d16bc9",
   "metadata": {},
   "outputs": [
    {
     "data": {
      "text/plain": [
       "''"
      ]
     },
     "execution_count": 20,
     "metadata": {},
     "output_type": "execute_result"
    }
   ],
   "source": [
    "sel_search.text"
   ]
  },
  {
   "cell_type": "code",
   "execution_count": 21,
   "id": "9f0e1b05",
   "metadata": {},
   "outputs": [
    {
     "data": {
      "text/plain": [
       "'검색'"
      ]
     },
     "execution_count": 21,
     "metadata": {},
     "output_type": "execute_result"
    }
   ],
   "source": [
    "sel_btn.text"
   ]
  },
  {
   "cell_type": "code",
   "execution_count": 22,
   "id": "f1a31f18",
   "metadata": {},
   "outputs": [],
   "source": [
    "# 핫이슈 검색 후, 버튼 클릭 -> 핫이슈 검색 페이지로 넘어감\n",
    "sel_search.send_keys(\"핫이슈\")\n",
    "sel_btn.click()"
   ]
  },
  {
   "cell_type": "code",
   "execution_count": null,
   "id": "d2f6e541",
   "metadata": {},
   "outputs": [],
   "source": []
  }
 ],
 "metadata": {
  "kernelspec": {
   "display_name": "Python 3 (ipykernel)",
   "language": "python",
   "name": "python3"
  },
  "language_info": {
   "codemirror_mode": {
    "name": "ipython",
    "version": 3
   },
   "file_extension": ".py",
   "mimetype": "text/x-python",
   "name": "python",
   "nbconvert_exporter": "python",
   "pygments_lexer": "ipython3",
   "version": "3.8.8"
  }
 },
 "nbformat": 4,
 "nbformat_minor": 5
}
