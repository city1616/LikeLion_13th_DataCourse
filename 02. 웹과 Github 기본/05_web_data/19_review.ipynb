{
 "cells": [
  {
   "cell_type": "markdown",
   "id": "4631b5d2",
   "metadata": {},
   "source": [
    "### 2021_09_13_1 2"
   ]
  },
  {
   "cell_type": "markdown",
   "id": "65bcfc97",
   "metadata": {},
   "source": [
    "### CSS"
   ]
  },
  {
   "cell_type": "markdown",
   "id": "be9a40f7",
   "metadata": {},
   "source": [
    "* CSS 넣는 3가지 방법\n",
    "    * inline\n",
    "    * internal\n",
    "    * external"
   ]
  },
  {
   "cell_type": "markdown",
   "id": "2834a99d",
   "metadata": {},
   "source": [
    "* inline\n",
    "    * <a style = \"\"></a>"
   ]
  },
  {
   "cell_type": "markdown",
   "id": "e9a4f616",
   "metadata": {},
   "source": [
    "* internal\n",
    "    * <style> ___ </style>"
   ]
  },
  {
   "cell_type": "markdown",
   "id": "2d366383",
   "metadata": {},
   "source": [
    "### CSS selector"
   ]
  },
  {
   "cell_type": "markdown",
   "id": "1a7f028a",
   "metadata": {},
   "source": [
    "* id -> #id\n",
    "* html tag -> tag명\n",
    "* class -> .class명"
   ]
  },
  {
   "cell_type": "markdown",
   "id": "8609dfd0",
   "metadata": {},
   "source": [
    "* text-align : center; # left, right, center"
   ]
  },
  {
   "cell_type": "markdown",
   "id": "36ff28d3",
   "metadata": {},
   "source": [
    "* 외부 연결\n",
    "    *  <code><link rel=\"stylesheet\" href=\".css\"></code>"
   ]
  },
  {
   "cell_type": "markdown",
   "id": "f51e65c1",
   "metadata": {},
   "source": [
    "<code> h1, p {\n",
    "    color: red;\n",
    "}\n",
    "</code>\n",
    "\n",
    "h1과 p를 선택해서 스타일을 적용시키라는 의미."
   ]
  },
  {
   "cell_type": "markdown",
   "id": "b2db22eb",
   "metadata": {},
   "source": [
    "<code> h1 p {\n",
    "    color: red;\n",
    "}\n",
    "</code>\n",
    "\n",
    "h1태그에 속하는 p태그"
   ]
  },
  {
   "cell_type": "markdown",
   "id": "b507764a",
   "metadata": {},
   "source": [
    "* css의 파일 내용\n",
    "    * html 파일의 style 태그의 내용을 css파일로 만들어준다."
   ]
  },
  {
   "cell_type": "markdown",
   "id": "72b23957",
   "metadata": {},
   "source": [
    "* padding, margin"
   ]
  },
  {
   "cell_type": "markdown",
   "id": "b21b266e",
   "metadata": {},
   "source": [
    "### JS"
   ]
  },
  {
   "cell_type": "markdown",
   "id": "da3e571b",
   "metadata": {},
   "source": [
    "<code>\n",
    "    <button type=\"button\" onclick=\"document.getElementById('p_date').innerHTML = Date()\">\n",
    "    Click me to display Date and Time.</button>\n",
    "    <p id=\"p_date\"></p>\n",
    "</code>"
   ]
  },
  {
   "cell_type": "markdown",
   "id": "6d2fa135",
   "metadata": {},
   "source": [
    "* 함수\n",
    "<script>\n",
    "function start_fuc() {\n",
    "    document.getElementById(\"p1\").innerHTML = \"My First JavaScript\";\n",
    "    return \"hello\";\n",
    "start_fuc()\n",
    "</script>"
   ]
  },
  {
   "cell_type": "markdown",
   "id": "a24f77bb",
   "metadata": {},
   "source": [
    "* 주석 -> //"
   ]
  },
  {
   "cell_type": "markdown",
   "id": "05d737fe",
   "metadata": {},
   "source": [
    "* switch () { }"
   ]
  },
  {
   "cell_type": "markdown",
   "id": "ab2abc79",
   "metadata": {},
   "source": [
    "### BS4"
   ]
  },
  {
   "cell_type": "raw",
   "id": "4b1a178f",
   "metadata": {},
   "source": [
    "* urlopen 함수\n",
    "    * urlopen(url) : 해당 웹서버에 요청하여 html 소스코드 얻기"
   ]
  },
  {
   "cell_type": "markdown",
   "id": "a628373a",
   "metadata": {},
   "source": [
    "* BeautifulSoup\n",
    "    * 데이터를 수집할 때 사용한다.\n",
    "    * 파이썬 라이브러리\n",
    "    * html을 파싱하여 BeautifulSoup 자료형 구조로 만든다.\n",
    "        * 쉽게 정보를 가져올 수 있도록 하기 위해"
   ]
  },
  {
   "cell_type": "markdown",
   "id": "0af1b1f1",
   "metadata": {},
   "source": [
    "soup = BeautifulSoup(html, '')"
   ]
  },
  {
   "cell_type": "markdown",
   "id": "9811ff42",
   "metadata": {},
   "source": [
    "* soup.find(tag명)\n",
    "* soup.find(tag명, id = \"\")\n",
    "* soup.find(tag명, class_ = \"\")\n",
    "\n",
    "* soup.find_all(tag명)\n",
    "* soup.find_all(tag명, id = \"\")\n",
    "* soup.find_all(tag명, class_ = \"\")\n",
    "    * 저장되는 자료형 BS 리스트 형태로 가져오게 된다.\n",
    "    * for문을 이용해서 하나씩 원하는 분석을 수행한다.\n"
   ]
  },
  {
   "cell_type": "markdown",
   "id": "da02b449",
   "metadata": {},
   "source": [
    "* children\n",
    "    * [태그명].children\n",
    "        * 태그명 하위의 요소를 리스트 형태로 가져온다."
   ]
  },
  {
   "cell_type": "markdown",
   "id": "9fc6d8a8",
   "metadata": {},
   "source": [
    "a = soup.find_all(\"a\")"
   ]
  },
  {
   "cell_type": "markdown",
   "id": "2fcdcaa2",
   "metadata": {},
   "source": [
    "for one in a :\n",
    "    print(one['href'])"
   ]
  },
  {
   "cell_type": "code",
   "execution_count": null,
   "id": "990f14cf",
   "metadata": {},
   "outputs": [],
   "source": []
  },
  {
   "cell_type": "markdown",
   "id": "75f09387",
   "metadata": {},
   "source": [
    "### Selenium"
   ]
  },
  {
   "cell_type": "markdown",
   "id": "f0791262",
   "metadata": {},
   "source": [
    "* 라이브러리 설치\n",
    "    * pip install selenium"
   ]
  },
  {
   "cell_type": "code",
   "execution_count": 12,
   "id": "d76e8e46",
   "metadata": {},
   "outputs": [],
   "source": [
    "from selenium import webdriver\n",
    "from bs4 import BeautifulSoup"
   ]
  },
  {
   "cell_type": "code",
   "execution_count": 13,
   "id": "287117e3",
   "metadata": {},
   "outputs": [],
   "source": [
    "driver = webdriver.Chrome('./DATA/chromedriver') # chromedriver 활용"
   ]
  },
  {
   "cell_type": "code",
   "execution_count": 14,
   "id": "5c358a31",
   "metadata": {},
   "outputs": [],
   "source": [
    "### 웹 페이지 접속\n",
    "url = \"https://www.naver.com\"\n",
    "driver.get(url)"
   ]
  },
  {
   "cell_type": "code",
   "execution_count": 15,
   "id": "a5ed3bf3",
   "metadata": {},
   "outputs": [
    {
     "data": {
      "text/plain": [
       "<title>NAVER</title>"
      ]
     },
     "execution_count": 15,
     "metadata": {},
     "output_type": "execute_result"
    }
   ],
   "source": [
    "### 웹 페이지로부터 html source 코드를 넘겨받을 수 있다.\n",
    "page = driver.page_source\n",
    "soup = BeautifulSoup(page, 'lxml')\n",
    "soup.title"
   ]
  },
  {
   "cell_type": "code",
   "execution_count": 16,
   "id": "6b97bac2",
   "metadata": {},
   "outputs": [],
   "source": [
    "### driver가 가지고 있는 웹 요소를 선택해서 가져올 수 있다.\n",
    "### xpath : 웹 페이지의 유일한 주소\n",
    "\n",
    "## 검색 : //*[@id=\"query\"]\n",
    "## 버튼 : //*[@id=\"search_btn\"]"
   ]
  },
  {
   "cell_type": "code",
   "execution_count": 17,
   "id": "0d7add06",
   "metadata": {},
   "outputs": [],
   "source": [
    "# 검색과 버튼을 선택\n",
    "sel_search = driver.find_element_by_xpath('//*[@id=\"query\"]')\n",
    "sel_btn = driver.find_element_by_xpath('//*[@id=\"search_btn\"]')"
   ]
  },
  {
   "cell_type": "code",
   "execution_count": 18,
   "id": "e8d97010",
   "metadata": {},
   "outputs": [
    {
     "data": {
      "text/plain": [
       "(<selenium.webdriver.remote.webelement.WebElement (session=\"347e490f87645bcbb2cf079269c878bd\", element=\"63c9e0ce-a0ba-4056-ac7b-c14693595a0e\")>,\n",
       " <selenium.webdriver.remote.webelement.WebElement (session=\"347e490f87645bcbb2cf079269c878bd\", element=\"a9b0c387-aa8c-4e63-9728-0fad0d5e5355\")>)"
      ]
     },
     "execution_count": 18,
     "metadata": {},
     "output_type": "execute_result"
    }
   ],
   "source": [
    "sel_search, sel_btn"
   ]
  },
  {
   "cell_type": "code",
   "execution_count": 19,
   "id": "4687a449",
   "metadata": {},
   "outputs": [
    {
     "data": {
      "text/plain": [
       "<selenium.webdriver.remote.webelement.WebElement (session=\"347e490f87645bcbb2cf079269c878bd\", element=\"63c9e0ce-a0ba-4056-ac7b-c14693595a0e\")>"
      ]
     },
     "execution_count": 19,
     "metadata": {},
     "output_type": "execute_result"
    }
   ],
   "source": [
    "sel_search"
   ]
  },
  {
   "cell_type": "code",
   "execution_count": 20,
   "id": "c3021d47",
   "metadata": {},
   "outputs": [
    {
     "data": {
      "text/plain": [
       "''"
      ]
     },
     "execution_count": 20,
     "metadata": {},
     "output_type": "execute_result"
    }
   ],
   "source": [
    "sel_search.text"
   ]
  },
  {
   "cell_type": "code",
   "execution_count": 21,
   "id": "8a59092f",
   "metadata": {},
   "outputs": [
    {
     "data": {
      "text/plain": [
       "'검색'"
      ]
     },
     "execution_count": 21,
     "metadata": {},
     "output_type": "execute_result"
    }
   ],
   "source": [
    "sel_btn.text"
   ]
  },
  {
   "cell_type": "code",
   "execution_count": 22,
   "id": "d3ce0ddb",
   "metadata": {},
   "outputs": [],
   "source": [
    "# 핫이슈 검색 후, 버튼 클릭 -> 핫이슈 검색 페이지로 넘어감\n",
    "sel_search.send_keys(\"핫이슈\")\n",
    "sel_btn.click()"
   ]
  },
  {
   "cell_type": "code",
   "execution_count": null,
   "id": "0afbb1dc",
   "metadata": {},
   "outputs": [],
   "source": []
  }
 ],
 "metadata": {
  "kernelspec": {
   "display_name": "Python 3 (ipykernel)",
   "language": "python",
   "name": "python3"
  },
  "language_info": {
   "codemirror_mode": {
    "name": "ipython",
    "version": 3
   },
   "file_extension": ".py",
   "mimetype": "text/x-python",
   "name": "python",
   "nbconvert_exporter": "python",
   "pygments_lexer": "ipython3",
   "version": "3.8.8"
  }
 },
 "nbformat": 4,
 "nbformat_minor": 5
}
