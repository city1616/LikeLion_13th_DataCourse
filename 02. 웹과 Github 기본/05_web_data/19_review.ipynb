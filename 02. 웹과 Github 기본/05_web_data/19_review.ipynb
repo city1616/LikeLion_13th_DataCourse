{
 "cells": [
  {
   "cell_type": "markdown",
   "id": "73d2de2d",
   "metadata": {},
   "source": [
    "### CSS"
   ]
  },
  {
   "cell_type": "markdown",
   "id": "8bc4fedc",
   "metadata": {},
   "source": [
    "* CSS 넣는 3가지 방법\n",
    "    * inline\n",
    "    * internal\n",
    "    * external"
   ]
  },
  {
   "cell_type": "markdown",
   "id": "b0c0122b",
   "metadata": {},
   "source": [
    "* inline\n",
    "    * <a style = \"\"></a>"
   ]
  },
  {
   "cell_type": "markdown",
   "id": "e280ca55",
   "metadata": {},
   "source": [
    "* internal\n",
    "    * <style> ___ </style>"
   ]
  },
  {
   "cell_type": "markdown",
   "id": "407aafc4",
   "metadata": {},
   "source": [
    "### CSS selector"
   ]
  },
  {
   "cell_type": "markdown",
   "id": "6cbb7177",
   "metadata": {},
   "source": [
    "* id -> #id\n",
    "* html tag -> tag명\n",
    "* class -> .class명"
   ]
  },
  {
   "cell_type": "markdown",
   "id": "a6f06b51",
   "metadata": {},
   "source": [
    "* text-align : center; # left, right, center"
   ]
  },
  {
   "cell_type": "markdown",
   "id": "50030e9e",
   "metadata": {},
   "source": [
    "* 외부 연결\n",
    "    *  <code><link rel=\"stylesheet\" href=\".css\"></code>"
   ]
  },
  {
   "cell_type": "markdown",
   "id": "f273542f",
   "metadata": {},
   "source": [
    "<code> h1, p {\n",
    "    color: red;\n",
    "}\n",
    "</code>\n",
    "\n",
    "h1과 p를 선택해서 스타일을 적용시키라는 의미."
   ]
  },
  {
   "cell_type": "markdown",
   "id": "626d4be0",
   "metadata": {},
   "source": [
    "<code> h1 p {\n",
    "    color: red;\n",
    "}\n",
    "</code>\n",
    "\n",
    "h1태그에 속하는 p태그"
   ]
  },
  {
   "cell_type": "markdown",
   "id": "32a04b84",
   "metadata": {},
   "source": [
    "* css의 파일 내용\n",
    "    * html 파일의 style 태그의 내용을 css파일로 만들어준다."
   ]
  },
  {
   "cell_type": "markdown",
   "id": "60f526b0",
   "metadata": {},
   "source": [
    "* padding, margin"
   ]
  },
  {
   "cell_type": "markdown",
   "id": "261508c2",
   "metadata": {},
   "source": [
    "### JS"
   ]
  },
  {
   "cell_type": "markdown",
   "id": "33e97806",
   "metadata": {},
   "source": [
    "<code>\n",
    "    <button type=\"button\" onclick=\"document.getElementById('p_date').innerHTML = Date()\">\n",
    "    Click me to display Date and Time.</button>\n",
    "    <p id=\"p_date\"></p>\n",
    "</code>"
   ]
  },
  {
   "cell_type": "code",
   "execution_count": null,
   "id": "84256338",
   "metadata": {},
   "outputs": [],
   "source": []
  },
  {
   "cell_type": "code",
   "execution_count": null,
   "id": "b4306d42",
   "metadata": {},
   "outputs": [],
   "source": []
  },
  {
   "cell_type": "code",
   "execution_count": null,
   "id": "1d974d78",
   "metadata": {},
   "outputs": [],
   "source": []
  },
  {
   "cell_type": "markdown",
   "id": "ab1a7cd3",
   "metadata": {},
   "source": [
    "### BS4"
   ]
  },
  {
   "cell_type": "markdown",
   "id": "c8403a69",
   "metadata": {},
   "source": [
    "### Selenium"
   ]
  },
  {
   "cell_type": "code",
   "execution_count": null,
   "id": "30eb026c",
   "metadata": {},
   "outputs": [],
   "source": []
  }
 ],
 "metadata": {
  "kernelspec": {
   "display_name": "Python 3 (ipykernel)",
   "language": "python",
   "name": "python3"
  },
  "language_info": {
   "codemirror_mode": {
    "name": "ipython",
    "version": 3
   },
   "file_extension": ".py",
   "mimetype": "text/x-python",
   "name": "python",
   "nbconvert_exporter": "python",
   "pygments_lexer": "ipython3",
   "version": "3.8.8"
  }
 },
 "nbformat": 4,
 "nbformat_minor": 5
}
