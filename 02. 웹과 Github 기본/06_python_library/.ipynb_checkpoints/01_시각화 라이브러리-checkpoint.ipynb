{
 "cells": [
  {
   "cell_type": "markdown",
   "id": "55c5176a",
   "metadata": {},
   "source": [
    "### 2021_09_15_1"
   ]
  },
  {
   "cell_type": "markdown",
   "id": "4a73b09a",
   "metadata": {},
   "source": [
    "### 시각화 라이브러리\n",
    "* matplotlib\n",
    "* seaborn\n",
    "* folium\n",
    "* plot.ly\n",
    "* Bokeh\n",
    "* 기타 - plotline, pyecharts"
   ]
  },
  {
   "cell_type": "markdown",
   "id": "88083656",
   "metadata": {},
   "source": [
    "### matplotlib\n",
    "1. 파이썬에서 가장 많이 사용되는 라이브러리 중의 하나\n",
    "2. 가장 다양한 방식과 형태의 그래프를 그릴 수 있다.\n",
    "3. 실제 분석에서 matplotlib, seaborn 을 함께 활용하여 많이 사용되고 있다."
   ]
  },
  {
   "cell_type": "markdown",
   "id": "5ce176a6",
   "metadata": {},
   "source": [
    "### seaborn\n",
    "1. matplotlib 기반으로 만들어진 라이브러리\n",
    "2. 단 몇줄의 코드로 좀 더 세련된 시각화가 가능함.\n",
    "3. 기본 데이터 셋은 판다스 데이터 이용\n",
    "4. 제공되지 않는 세부적인 추가 기능 등은 matplotlib을 사용하여 해결"
   ]
  },
  {
   "cell_type": "markdown",
   "id": "38969251",
   "metadata": {},
   "source": [
    "### folium\n",
    "1. 지도 시각화를 위한 라이브러리\n",
    "2. 지도 데이터에 자바스크립트 라이브러리인 leftlet.js을 이용하여 위치정보를 시각화 하는 라이브러리"
   ]
  },
  {
   "cell_type": "markdown",
   "id": "c84620e0",
   "metadata": {},
   "source": [
    "### plot.ly\n",
    "1. 대표적인 interactive 그래프를 그려주는 라이브러리\n",
    "2. 시각화를 위해 D3.js라는 프로그램을 사용하고 있음\n",
    "3. matplotlib과 seaborn에 비해 조금 세련화된 시각화 라이브러리"
   ]
  },
  {
   "cell_type": "markdown",
   "id": "d738658f",
   "metadata": {},
   "source": []
  }
 ],
 "metadata": {
  "kernelspec": {
   "display_name": "Python 3 (ipykernel)",
   "language": "python",
   "name": "python3"
  },
  "language_info": {
   "codemirror_mode": {
    "name": "ipython",
    "version": 3
   },
   "file_extension": ".py",
   "mimetype": "text/x-python",
   "name": "python",
   "nbconvert_exporter": "python",
   "pygments_lexer": "ipython3",
   "version": "3.8.8"
  }
 },
 "nbformat": 4,
 "nbformat_minor": 5
}
