{
 "cells": [
  {
   "cell_type": "markdown",
   "id": "2a64d270",
   "metadata": {},
   "source": [
    "### 2021_09_29_5"
   ]
  },
  {
   "cell_type": "markdown",
   "id": "b4997075",
   "metadata": {},
   "source": [
    "### 코로나 데이터와 백신 데이터 합병"
   ]
  },
  {
   "cell_type": "code",
   "execution_count": 1,
   "id": "c82ee20e",
   "metadata": {},
   "outputs": [],
   "source": [
    "import pandas as pd"
   ]
  },
  {
   "cell_type": "code",
   "execution_count": 6,
   "id": "b90647b1",
   "metadata": {},
   "outputs": [],
   "source": [
    "# excel 데이터는 pd.read_excel로 가져올 수 있음.\n",
    "\n",
    "corona = pd.read_csv(\"./CSV/2021-09-28_corona.csv\")\n",
    "vaccine = pd.read_csv(\"./CSV/20210929_14_vaccine_bloomberg.csv\")\n",
    "country_code = pd.read_csv(\"./CSV/country.csv\", encoding = \"euc-kr\")"
   ]
  },
  {
   "cell_type": "code",
   "execution_count": 7,
   "id": "143b3e16",
   "metadata": {},
   "outputs": [
    {
     "name": "stdout",
     "output_type": "stream",
     "text": [
      "corona shape : (222, 13)\n",
      "vaccine shape : (207, 6)\n",
      "country_code shape : (227, 4)\n"
     ]
    }
   ],
   "source": [
    "print(\"corona shape :\", corona.shape)\n",
    "print(\"vaccine shape :\", vaccine.shape)\n",
    "print(\"country_code shape :\", country_code.shape)"
   ]
  },
  {
   "cell_type": "code",
   "execution_count": null,
   "id": "7c229f8c",
   "metadata": {},
   "outputs": [],
   "source": []
  }
 ],
 "metadata": {
  "kernelspec": {
   "display_name": "Python 3 (ipykernel)",
   "language": "python",
   "name": "python3"
  },
  "language_info": {
   "codemirror_mode": {
    "name": "ipython",
    "version": 3
   },
   "file_extension": ".py",
   "mimetype": "text/x-python",
   "name": "python",
   "nbconvert_exporter": "python",
   "pygments_lexer": "ipython3",
   "version": "3.8.8"
  }
 },
 "nbformat": 4,
 "nbformat_minor": 5
}
