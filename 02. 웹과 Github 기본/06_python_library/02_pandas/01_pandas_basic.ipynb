{
 "cells": [
  {
   "cell_type": "markdown",
   "id": "aea4f0d1",
   "metadata": {},
   "source": [
    "### 2021_09_16_1"
   ]
  },
  {
   "cell_type": "markdown",
   "id": "b2f2fc05",
   "metadata": {},
   "source": [
    "## pandas basic 실습"
   ]
  },
  {
   "cell_type": "code",
   "execution_count": 2,
   "id": "5e39641f",
   "metadata": {},
   "outputs": [
    {
     "name": "stdout",
     "output_type": "stream",
     "text": [
      "banana\n",
      "apple\n",
      "candy\n"
     ]
    }
   ],
   "source": [
    "myfood = ['banana', 'apple', 'candy']\n",
    "print(myfood[0])\n",
    "print(myfood[1])\n",
    "print(myfood[2])"
   ]
  },
  {
   "cell_type": "code",
   "execution_count": 3,
   "id": "e4ecc006",
   "metadata": {},
   "outputs": [
    {
     "name": "stdout",
     "output_type": "stream",
     "text": [
      "banana\n",
      "apple\n",
      "candy\n"
     ]
    }
   ],
   "source": [
    "for item in myfood :\n",
    "    print(item)"
   ]
  },
  {
   "cell_type": "code",
   "execution_count": 5,
   "id": "e5a35c49",
   "metadata": {},
   "outputs": [],
   "source": [
    "dict1 = {\"one\" : \"하나\", \"two\" : \"둘\", \"three\" : \"셋\"}\n",
    "dict2 = {1 : \"하나\", 2 : \"둘\", 3 : \"셋\"}\n",
    "dict3 = {\"col\" : [1, 2, 3], \"col2\" : ['a', 'b', 'c']}"
   ]
  },
  {
   "cell_type": "code",
   "execution_count": 6,
   "id": "caa399bd",
   "metadata": {},
   "outputs": [
    {
     "name": "stdout",
     "output_type": "stream",
     "text": [
      "{'one': '하나', 'two': '둘', 'three': '셋'}\n",
      "{1: '하나', 2: '둘', 3: '셋'}\n",
      "{'col': [1, 2, 3], 'col2': ['a', 'b', 'c']}\n"
     ]
    }
   ],
   "source": [
    "print(dict1)\n",
    "print(dict2)\n",
    "print(dict3)"
   ]
  },
  {
   "cell_type": "code",
   "execution_count": 7,
   "id": "4a165bb4",
   "metadata": {},
   "outputs": [],
   "source": [
    "import pandas as pd"
   ]
  },
  {
   "cell_type": "code",
   "execution_count": 9,
   "id": "56eb81e1",
   "metadata": {},
   "outputs": [
    {
     "name": "stdout",
     "output_type": "stream",
     "text": [
      "pandas version : 1.3.2\n"
     ]
    }
   ],
   "source": [
    "print(\"pandas version :\", pd.__version__)"
   ]
  },
  {
   "cell_type": "code",
   "execution_count": 11,
   "id": "0d0bc4d3",
   "metadata": {},
   "outputs": [],
   "source": [
    "from pandas import Series, DataFrame"
   ]
  },
  {
   "cell_type": "code",
   "execution_count": 12,
   "id": "2c9c4ad6",
   "metadata": {},
   "outputs": [
    {
     "name": "stdout",
     "output_type": "stream",
     "text": [
      "0     1000\n",
      "1    14000\n",
      "2     3000\n",
      "3    30000\n",
      "4    10000\n",
      "dtype: int64\n"
     ]
    }
   ],
   "source": [
    "## ___ = Series([1000, 14000, 3000, 30000, 10000])\n",
    "score = Series([1000, 14000, 3000, 30000, 10000])\n",
    "print(score)"
   ]
  },
  {
   "cell_type": "code",
   "execution_count": 13,
   "id": "4f88a73e",
   "metadata": {},
   "outputs": [
    {
     "data": {
      "text/plain": [
       "pandas.core.series.Series"
      ]
     },
     "execution_count": 13,
     "metadata": {},
     "output_type": "execute_result"
    }
   ],
   "source": [
    "type(score)"
   ]
  },
  {
   "cell_type": "code",
   "execution_count": 17,
   "id": "c57ed103",
   "metadata": {},
   "outputs": [
    {
     "name": "stdout",
     "output_type": "stream",
     "text": [
      "RangeIndex(start=0, stop=5, step=1)\n",
      "[0, 1, 2, 3, 4]\n",
      "[ 1000 14000  3000 30000 10000]\n",
      "<class 'pandas.core.indexes.range.RangeIndex'>\n",
      "<class 'list'>\n",
      "<class 'numpy.ndarray'>\n"
     ]
    }
   ],
   "source": [
    "# Series 인덱스 확인\n",
    "print(score.index)\n",
    "# 인덱스를 리스트 자료형으로 변경 후, 확인하기\n",
    "print(list(score.index))\n",
    "# Series 값 확인\n",
    "print(score.values)\n",
    "\n",
    "# score type 확인\n",
    "print(type(score.index))\n",
    "print(type(list(score.index)))\n",
    "print(type(score.values))"
   ]
  },
  {
   "cell_type": "markdown",
   "id": "b03fddd0",
   "metadata": {},
   "source": [
    "## 판다스 시리즈 인덱스 지정"
   ]
  },
  {
   "cell_type": "code",
   "execution_count": 19,
   "id": "34063ae4",
   "metadata": {},
   "outputs": [
    {
     "name": "stdout",
     "output_type": "stream",
     "text": [
      "2019-05-01     1000\n",
      "2019-05-02    14000\n",
      "2019-05-03     3000\n",
      "dtype: int64\n"
     ]
    }
   ],
   "source": [
    "# 인덱스(index) 속성 이용\n",
    "score = Series([1000, 14000, 3000], index = ['2019-05-01', '2019-05-02', '2019-05-03'])\n",
    "print(score)"
   ]
  },
  {
   "cell_type": "code",
   "execution_count": 21,
   "id": "bb3e0fe4",
   "metadata": {},
   "outputs": [
    {
     "name": "stdout",
     "output_type": "stream",
     "text": [
      "0    a\n",
      "1    b\n",
      "2    c\n",
      "dtype: object\n",
      "2021-09-16    a\n",
      "2021-09-17    b\n",
      "2021-09-18    c\n",
      "dtype: object\n"
     ]
    }
   ],
   "source": [
    "# 실습 1-1 Series를 만들기(자료형으로 만들기)\n",
    "score = Series(['a', 'b', 'c'])\n",
    "print(score)\n",
    "# 실습 1-2 index 넣어보기\n",
    "score_idx = Series(['a', 'b', 'c'], index = ['2021-09-16', '2021-09-17', '2021-09-18'])\n",
    "print(score_idx)"
   ]
  },
  {
   "cell_type": "code",
   "execution_count": null,
   "id": "4ba27ecf",
   "metadata": {},
   "outputs": [],
   "source": []
  }
 ],
 "metadata": {
  "kernelspec": {
   "display_name": "Python 3 (ipykernel)",
   "language": "python",
   "name": "python3"
  },
  "language_info": {
   "codemirror_mode": {
    "name": "ipython",
    "version": 3
   },
   "file_extension": ".py",
   "mimetype": "text/x-python",
   "name": "python",
   "nbconvert_exporter": "python",
   "pygments_lexer": "ipython3",
   "version": "3.8.8"
  }
 },
 "nbformat": 4,
 "nbformat_minor": 5
}
