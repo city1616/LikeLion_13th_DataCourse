{
 "cells": [
  {
   "cell_type": "markdown",
   "id": "1c6ef470",
   "metadata": {},
   "source": [
    "### 2021_09_16_1"
   ]
  },
  {
   "cell_type": "markdown",
   "id": "f5b328f9",
   "metadata": {},
   "source": [
    "## pandas basic 실습"
   ]
  },
  {
   "cell_type": "code",
   "execution_count": 2,
   "id": "fbec3307",
   "metadata": {},
   "outputs": [
    {
     "name": "stdout",
     "output_type": "stream",
     "text": [
      "banana\n",
      "apple\n",
      "candy\n"
     ]
    }
   ],
   "source": [
    "myfood = ['banana', 'apple', 'candy']\n",
    "print(myfood[0])\n",
    "print(myfood[1])\n",
    "print(myfood[2])"
   ]
  },
  {
   "cell_type": "code",
   "execution_count": 3,
   "id": "b14b4ab7",
   "metadata": {},
   "outputs": [
    {
     "name": "stdout",
     "output_type": "stream",
     "text": [
      "banana\n",
      "apple\n",
      "candy\n"
     ]
    }
   ],
   "source": [
    "for item in myfood :\n",
    "    print(item)"
   ]
  },
  {
   "cell_type": "code",
   "execution_count": 5,
   "id": "608c2b02",
   "metadata": {},
   "outputs": [],
   "source": [
    "dict1 = {\"one\" : \"하나\", \"two\" : \"둘\", \"three\" : \"셋\"}\n",
    "dict2 = {1 : \"하나\", 2 : \"둘\", 3 : \"셋\"}\n",
    "dict3 = {\"col\" : [1, 2, 3], \"col2\" : ['a', 'b', 'c']}"
   ]
  },
  {
   "cell_type": "code",
   "execution_count": 6,
   "id": "e191dab0",
   "metadata": {},
   "outputs": [
    {
     "name": "stdout",
     "output_type": "stream",
     "text": [
      "{'one': '하나', 'two': '둘', 'three': '셋'}\n",
      "{1: '하나', 2: '둘', 3: '셋'}\n",
      "{'col': [1, 2, 3], 'col2': ['a', 'b', 'c']}\n"
     ]
    }
   ],
   "source": [
    "print(dict1)\n",
    "print(dict2)\n",
    "print(dict3)"
   ]
  },
  {
   "cell_type": "markdown",
   "id": "a5a2f0ef",
   "metadata": {},
   "source": [
    "### pandas module 불러오기"
   ]
  },
  {
   "cell_type": "code",
   "execution_count": 7,
   "id": "d82a6e04",
   "metadata": {},
   "outputs": [],
   "source": [
    "import pandas as pd"
   ]
  },
  {
   "cell_type": "code",
   "execution_count": 9,
   "id": "d844a980",
   "metadata": {},
   "outputs": [
    {
     "name": "stdout",
     "output_type": "stream",
     "text": [
      "pandas version : 1.3.2\n"
     ]
    }
   ],
   "source": [
    "print(\"pandas version :\", pd.__version__)"
   ]
  },
  {
   "cell_type": "code",
   "execution_count": 11,
   "id": "d84d5a7d",
   "metadata": {},
   "outputs": [],
   "source": [
    "from pandas import Series, DataFrame"
   ]
  },
  {
   "cell_type": "code",
   "execution_count": 12,
   "id": "63b2e3e4",
   "metadata": {},
   "outputs": [
    {
     "name": "stdout",
     "output_type": "stream",
     "text": [
      "0     1000\n",
      "1    14000\n",
      "2     3000\n",
      "3    30000\n",
      "4    10000\n",
      "dtype: int64\n"
     ]
    }
   ],
   "source": [
    "## ___ = Series([1000, 14000, 3000, 30000, 10000])\n",
    "score = Series([1000, 14000, 3000, 30000, 10000])\n",
    "print(score)"
   ]
  },
  {
   "cell_type": "code",
   "execution_count": 13,
   "id": "ae42545d",
   "metadata": {},
   "outputs": [
    {
     "data": {
      "text/plain": [
       "pandas.core.series.Series"
      ]
     },
     "execution_count": 13,
     "metadata": {},
     "output_type": "execute_result"
    }
   ],
   "source": [
    "type(score)"
   ]
  },
  {
   "cell_type": "code",
   "execution_count": 17,
   "id": "0a4aac72",
   "metadata": {},
   "outputs": [
    {
     "name": "stdout",
     "output_type": "stream",
     "text": [
      "RangeIndex(start=0, stop=5, step=1)\n",
      "[0, 1, 2, 3, 4]\n",
      "[ 1000 14000  3000 30000 10000]\n",
      "<class 'pandas.core.indexes.range.RangeIndex'>\n",
      "<class 'list'>\n",
      "<class 'numpy.ndarray'>\n"
     ]
    }
   ],
   "source": [
    "# Series 인덱스 확인\n",
    "print(score.index)\n",
    "# 인덱스를 리스트 자료형으로 변경 후, 확인하기\n",
    "print(list(score.index))\n",
    "# Series 값 확인\n",
    "print(score.values)\n",
    "\n",
    "# score type 확인\n",
    "print(type(score.index))\n",
    "print(type(list(score.index)))\n",
    "print(type(score.values))"
   ]
  },
  {
   "cell_type": "markdown",
   "id": "63e5851c",
   "metadata": {},
   "source": [
    "## 판다스 시리즈 인덱스 지정"
   ]
  },
  {
   "cell_type": "code",
   "execution_count": 19,
   "id": "d49a402f",
   "metadata": {},
   "outputs": [
    {
     "name": "stdout",
     "output_type": "stream",
     "text": [
      "2019-05-01     1000\n",
      "2019-05-02    14000\n",
      "2019-05-03     3000\n",
      "dtype: int64\n"
     ]
    }
   ],
   "source": [
    "# 인덱스(index) 속성 이용\n",
    "score = Series([1000, 14000, 3000], index = ['2019-05-01', '2019-05-02', '2019-05-03'])\n",
    "print(score)"
   ]
  },
  {
   "cell_type": "code",
   "execution_count": 21,
   "id": "9da7fca4",
   "metadata": {},
   "outputs": [
    {
     "name": "stdout",
     "output_type": "stream",
     "text": [
      "0    a\n",
      "1    b\n",
      "2    c\n",
      "dtype: object\n",
      "2021-09-16    a\n",
      "2021-09-17    b\n",
      "2021-09-18    c\n",
      "dtype: object\n"
     ]
    }
   ],
   "source": [
    "# 실습 1-1 Series를 만들기(자료형으로 만들기)\n",
    "score = Series(['a', 'b', 'c'])\n",
    "print(score)\n",
    "# 실습 1-2 index 넣어보기\n",
    "score_idx = Series(['a', 'b', 'c'], index = ['2021-09-16', '2021-09-17', '2021-09-18'])\n",
    "print(score_idx)"
   ]
  },
  {
   "cell_type": "code",
   "execution_count": 22,
   "id": "927d7cf3",
   "metadata": {},
   "outputs": [
    {
     "name": "stdout",
     "output_type": "stream",
     "text": [
      "0\n",
      "1\n",
      "2\n"
     ]
    }
   ],
   "source": [
    "for idx in score.index :\n",
    "    print(idx)"
   ]
  },
  {
   "cell_type": "code",
   "execution_count": 23,
   "id": "5326dac9",
   "metadata": {},
   "outputs": [
    {
     "name": "stdout",
     "output_type": "stream",
     "text": [
      "a\n",
      "b\n",
      "c\n"
     ]
    }
   ],
   "source": [
    "for value in score.values :\n",
    "    print(value)"
   ]
  },
  {
   "cell_type": "code",
   "execution_count": 25,
   "id": "08fa3724",
   "metadata": {},
   "outputs": [
    {
     "name": "stdout",
     "output_type": "stream",
     "text": [
      "2021-01-01    a\n",
      "2021-01-02    b\n",
      "2021-01-03    c\n",
      "dtype: object\n"
     ]
    }
   ],
   "source": [
    "# date_range를 이용한 인덱스 지정\n",
    "idx = pd.date_range(start = \"2021-01-01\", end = \"2021-01-03\").tolist()\n",
    "\n",
    "score_idx = Series(['a', 'b', 'c'], index = idx)\n",
    "\n",
    "print(score_idx)"
   ]
  },
  {
   "cell_type": "markdown",
   "id": "fe140ccb",
   "metadata": {},
   "source": [
    "### 두 팀의 팀점수 합산해보기\n",
    "* 길동팀의 3일간의 점수와 toto팀의 3일간의 점수"
   ]
  },
  {
   "cell_type": "code",
   "execution_count": 26,
   "id": "2b19a71b",
   "metadata": {},
   "outputs": [
    {
     "name": "stdout",
     "output_type": "stream",
     "text": [
      "2019-05-01    4500\n",
      "2019-05-02    5000\n",
      "2019-05-03    5500\n",
      "dtype: int64\n"
     ]
    }
   ],
   "source": [
    "gildong = Series([1500, 3000, 2500], index = ['2019-05-01', '2019-05-02', '2019-05-03'])\n",
    "toto = Series([3000, 3000, 2000], index = ['2019-05-01', '2019-05-03', '2019-05-02'])\n",
    "print(gildong + toto)"
   ]
  },
  {
   "cell_type": "code",
   "execution_count": 28,
   "id": "381c8ec2",
   "metadata": {},
   "outputs": [
    {
     "name": "stdout",
     "output_type": "stream",
     "text": [
      "2021-01-01    3000\n",
      "2021-01-02    3000\n",
      "2021-01-03    3000\n",
      "dtype: int64\n"
     ]
    }
   ],
   "source": [
    "date_idx = pd.date_range(start = \"2021-01-01\", end = \"2021-01-03\").tolist()\n",
    "A = Series([1000, 1000, 1000], index = date_idx)\n",
    "B = Series([2000, 2000, 2000], index = date_idx)\n",
    "print(A + B)"
   ]
  },
  {
   "cell_type": "markdown",
   "id": "0afd2631",
   "metadata": {},
   "source": [
    "### 데이터는 3개월 날짜 1부터 90까지 idx를 3개월 날짜로 지정하기 (1월~3월)"
   ]
  },
  {
   "cell_type": "code",
   "execution_count": 29,
   "id": "5055580d",
   "metadata": {},
   "outputs": [
    {
     "name": "stdout",
     "output_type": "stream",
     "text": [
      "2021-01-01     1\n",
      "2021-01-02     2\n",
      "2021-01-03     3\n",
      "2021-01-04     4\n",
      "2021-01-05     5\n",
      "              ..\n",
      "2021-03-27    86\n",
      "2021-03-28    87\n",
      "2021-03-29    88\n",
      "2021-03-30    89\n",
      "2021-03-31    90\n",
      "Length: 90, dtype: int64\n"
     ]
    }
   ],
   "source": [
    "d_idx = pd.date_range(start = \"2021-01-01\", end = \"2021-03-31\").tolist()\n",
    "date = Series(range(1, 91), index = d_idx)\n",
    "print(date)"
   ]
  },
  {
   "cell_type": "markdown",
   "id": "8048babc",
   "metadata": {},
   "source": [
    "## 데이터 프레임의 이해\n",
    "* 데이터 프레임의 객체를 생성하는 가장 간단한 방법은 딕셔너리를 이용하는 방법\n",
    "* 데이터 프레임은 Series의 결합으로 이루어진 것으로 생각할 수 있음.\n",
    "* pandas의 대표적인 기본 자료형이다.\n",
    "* Seaborn 데이터(load_dataset() - pandas)\n",
    "    * seaborn에 들어가는 기본적인 데이터 자료형이 pandas이다.\n",
    "* plotly에서도 pandas 호환\n",
    "* DataFrame 함수를 이용하여 객체 생성이 가능하다."
   ]
  },
  {
   "cell_type": "code",
   "execution_count": 30,
   "id": "e0652f3e",
   "metadata": {},
   "outputs": [],
   "source": [
    "from pandas import DataFrame"
   ]
  },
  {
   "cell_type": "code",
   "execution_count": 33,
   "id": "f527a70c",
   "metadata": {},
   "outputs": [
    {
     "data": {
      "text/html": [
       "<div>\n",
       "<style scoped>\n",
       "    .dataframe tbody tr th:only-of-type {\n",
       "        vertical-align: middle;\n",
       "    }\n",
       "\n",
       "    .dataframe tbody tr th {\n",
       "        vertical-align: top;\n",
       "    }\n",
       "\n",
       "    .dataframe thead th {\n",
       "        text-align: right;\n",
       "    }\n",
       "</style>\n",
       "<table border=\"1\" class=\"dataframe\">\n",
       "  <thead>\n",
       "    <tr style=\"text-align: right;\">\n",
       "      <th></th>\n",
       "      <th>col1</th>\n",
       "      <th>col2</th>\n",
       "      <th>col3</th>\n",
       "    </tr>\n",
       "  </thead>\n",
       "  <tbody>\n",
       "    <tr>\n",
       "      <th>0</th>\n",
       "      <td>1</td>\n",
       "      <td>10</td>\n",
       "      <td>A</td>\n",
       "    </tr>\n",
       "    <tr>\n",
       "      <th>1</th>\n",
       "      <td>2</td>\n",
       "      <td>20</td>\n",
       "      <td>B</td>\n",
       "    </tr>\n",
       "    <tr>\n",
       "      <th>2</th>\n",
       "      <td>3</td>\n",
       "      <td>30</td>\n",
       "      <td>C</td>\n",
       "    </tr>\n",
       "    <tr>\n",
       "      <th>3</th>\n",
       "      <td>4</td>\n",
       "      <td>40</td>\n",
       "      <td>D</td>\n",
       "    </tr>\n",
       "  </tbody>\n",
       "</table>\n",
       "</div>"
      ],
      "text/plain": [
       "   col1  col2 col3\n",
       "0     1    10    A\n",
       "1     2    20    B\n",
       "2     3    30    C\n",
       "3     4    40    D"
      ]
     },
     "execution_count": 33,
     "metadata": {},
     "output_type": "execute_result"
    }
   ],
   "source": [
    "dat = {'col1' : [1, 2, 3, 4],\n",
    "      'col2' : [10, 20, 30, 40],\n",
    "      'col3' : ['A', 'B', 'C', 'D']}\n",
    "df = DataFrame(dat)\n",
    "df"
   ]
  },
  {
   "cell_type": "code",
   "execution_count": 35,
   "id": "e3300f16",
   "metadata": {},
   "outputs": [
    {
     "data": {
      "text/html": [
       "<div>\n",
       "<style scoped>\n",
       "    .dataframe tbody tr th:only-of-type {\n",
       "        vertical-align: middle;\n",
       "    }\n",
       "\n",
       "    .dataframe tbody tr th {\n",
       "        vertical-align: top;\n",
       "    }\n",
       "\n",
       "    .dataframe thead th {\n",
       "        text-align: right;\n",
       "    }\n",
       "</style>\n",
       "<table border=\"1\" class=\"dataframe\">\n",
       "  <thead>\n",
       "    <tr style=\"text-align: right;\">\n",
       "      <th></th>\n",
       "      <th>col1</th>\n",
       "      <th>col2</th>\n",
       "      <th>col3</th>\n",
       "    </tr>\n",
       "  </thead>\n",
       "  <tbody>\n",
       "    <tr>\n",
       "      <th>2021-09-01</th>\n",
       "      <td>1</td>\n",
       "      <td>10</td>\n",
       "      <td>A</td>\n",
       "    </tr>\n",
       "    <tr>\n",
       "      <th>2021-09-02</th>\n",
       "      <td>2</td>\n",
       "      <td>20</td>\n",
       "      <td>B</td>\n",
       "    </tr>\n",
       "    <tr>\n",
       "      <th>2021-09-03</th>\n",
       "      <td>3</td>\n",
       "      <td>30</td>\n",
       "      <td>C</td>\n",
       "    </tr>\n",
       "    <tr>\n",
       "      <th>2021-09-04</th>\n",
       "      <td>4</td>\n",
       "      <td>40</td>\n",
       "      <td>D</td>\n",
       "    </tr>\n",
       "  </tbody>\n",
       "</table>\n",
       "</div>"
      ],
      "text/plain": [
       "            col1  col2 col3\n",
       "2021-09-01     1    10    A\n",
       "2021-09-02     2    20    B\n",
       "2021-09-03     3    30    C\n",
       "2021-09-04     4    40    D"
      ]
     },
     "execution_count": 35,
     "metadata": {},
     "output_type": "execute_result"
    }
   ],
   "source": [
    "idx_date = pd.date_range(start = \"2021-09-01\", end = \"2021-09-04\").tolist()\n",
    "dat = {'col1' : [1, 2, 3, 4],\n",
    "      'col2' : [10, 20, 30, 40],\n",
    "      'col3' : ['A', 'B', 'C', 'D']}\n",
    "df = DataFrame(dat, index = idx_date)\n",
    "df"
   ]
  },
  {
   "cell_type": "code",
   "execution_count": null,
   "id": "13aae3ff",
   "metadata": {},
   "outputs": [],
   "source": []
  }
 ],
 "metadata": {
  "kernelspec": {
   "display_name": "Python 3 (ipykernel)",
   "language": "python",
   "name": "python3"
  },
  "language_info": {
   "codemirror_mode": {
    "name": "ipython",
    "version": 3
   },
   "file_extension": ".py",
   "mimetype": "text/x-python",
   "name": "python",
   "nbconvert_exporter": "python",
   "pygments_lexer": "ipython3",
   "version": "3.8.8"
  }
 },
 "nbformat": 4,
 "nbformat_minor": 5
}
