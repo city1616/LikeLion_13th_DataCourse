{
 "cells": [
  {
   "cell_type": "code",
   "execution_count": 3,
   "id": "7e65e3af",
   "metadata": {},
   "outputs": [],
   "source": [
    "import pandas as pd\n",
    "import pybithumb\n",
    "import pandas as pd"
   ]
  },
  {
   "cell_type": "code",
   "execution_count": 7,
   "id": "77990fef",
   "metadata": {},
   "outputs": [
    {
     "name": "stdout",
     "output_type": "stream",
     "text": [
      "btc type : <class 'pandas.core.frame.DataFrame'>\n",
      "                           open        high         low       close  \\\n",
      "time                                                                  \n",
      "2013-12-27 00:00:00    737000.0    755000.0    737000.0    755000.0   \n",
      "2013-12-28 00:00:00    750000.0    750000.0    750000.0    750000.0   \n",
      "2013-12-29 00:00:00    750000.0    750000.0    728000.0    739000.0   \n",
      "2013-12-30 00:00:00    740000.0    772000.0    740000.0    768000.0   \n",
      "2013-12-31 00:00:00    768000.0    800000.0    763000.0    768000.0   \n",
      "...                         ...         ...         ...         ...   \n",
      "2021-10-02 00:00:00  57096000.0  58965000.0  57001000.0  58560000.0   \n",
      "2021-10-03 00:00:00  58561000.0  58579000.0  57256000.0  58137000.0   \n",
      "2021-10-04 00:00:00  58135000.0  59350000.0  57377000.0  57773000.0   \n",
      "2021-10-05 00:00:00  57771000.0  61038000.0  57300000.0  60443000.0   \n",
      "2021-10-06 11:00:00  60464000.0  62488000.0  60051000.0  61997000.0   \n",
      "\n",
      "                          volume  \n",
      "time                              \n",
      "2013-12-27 00:00:00     3.780000  \n",
      "2013-12-28 00:00:00    12.000000  \n",
      "2013-12-29 00:00:00    19.058000  \n",
      "2013-12-30 00:00:00     9.488973  \n",
      "2013-12-31 00:00:00    18.650350  \n",
      "...                          ...  \n",
      "2021-10-02 00:00:00  1654.530376  \n",
      "2021-10-03 00:00:00  1293.707679  \n",
      "2021-10-04 00:00:00  1765.363773  \n",
      "2021-10-05 00:00:00  3613.689665  \n",
      "2021-10-06 11:00:00  1451.988504  \n",
      "\n",
      "[2751 rows x 5 columns]\n"
     ]
    }
   ],
   "source": [
    "btc_tmp = pybithumb.get_ohlcv(\"BTC\")\n",
    "\n",
    "# print(type(btc))\n",
    "# close = btc[‘close’]\n",
    "# print(close)\n",
    "\n",
    "print(\"btc type :\", type(btc_tmp))\n",
    "print(btc_tmp)"
   ]
  },
  {
   "cell_type": "code",
   "execution_count": 8,
   "id": "6d4727ca",
   "metadata": {},
   "outputs": [
    {
     "data": {
      "text/plain": [
       "Index(['open', 'high', 'low', 'close', 'volume'], dtype='object')"
      ]
     },
     "execution_count": 8,
     "metadata": {},
     "output_type": "execute_result"
    }
   ],
   "source": [
    "btc_tmp.columns"
   ]
  },
  {
   "cell_type": "code",
   "execution_count": 18,
   "id": "79ab29d2",
   "metadata": {},
   "outputs": [
    {
     "data": {
      "text/html": [
       "<div>\n",
       "<style scoped>\n",
       "    .dataframe tbody tr th:only-of-type {\n",
       "        vertical-align: middle;\n",
       "    }\n",
       "\n",
       "    .dataframe tbody tr th {\n",
       "        vertical-align: top;\n",
       "    }\n",
       "\n",
       "    .dataframe thead th {\n",
       "        text-align: right;\n",
       "    }\n",
       "</style>\n",
       "<table border=\"1\" class=\"dataframe\">\n",
       "  <thead>\n",
       "    <tr style=\"text-align: right;\">\n",
       "      <th></th>\n",
       "      <th>비트코인</th>\n",
       "    </tr>\n",
       "    <tr>\n",
       "      <th>time</th>\n",
       "      <th></th>\n",
       "    </tr>\n",
       "  </thead>\n",
       "  <tbody>\n",
       "    <tr>\n",
       "      <th>2020-01-20</th>\n",
       "      <td>9884000.0</td>\n",
       "    </tr>\n",
       "    <tr>\n",
       "      <th>2020-01-21</th>\n",
       "      <td>9878000.0</td>\n",
       "    </tr>\n",
       "    <tr>\n",
       "      <th>2020-01-22</th>\n",
       "      <td>9887000.0</td>\n",
       "    </tr>\n",
       "  </tbody>\n",
       "</table>\n",
       "</div>"
      ],
      "text/plain": [
       "                 비트코인\n",
       "time                 \n",
       "2020-01-20  9884000.0\n",
       "2020-01-21  9878000.0\n",
       "2020-01-22  9887000.0"
      ]
     },
     "execution_count": 18,
     "metadata": {},
     "output_type": "execute_result"
    }
   ],
   "source": [
    "bitcoin = pd.DataFrame({\"비트코인\" : btc_tmp.loc[\"2020-01-20\":\"2021-08-31\"][\"close\"]})\n",
    "bitcoin.head(3)"
   ]
  },
  {
   "cell_type": "code",
   "execution_count": 19,
   "id": "3ef8bfbc",
   "metadata": {},
   "outputs": [
    {
     "data": {
      "text/html": [
       "<div>\n",
       "<style scoped>\n",
       "    .dataframe tbody tr th:only-of-type {\n",
       "        vertical-align: middle;\n",
       "    }\n",
       "\n",
       "    .dataframe tbody tr th {\n",
       "        vertical-align: top;\n",
       "    }\n",
       "\n",
       "    .dataframe thead th {\n",
       "        text-align: right;\n",
       "    }\n",
       "</style>\n",
       "<table border=\"1\" class=\"dataframe\">\n",
       "  <thead>\n",
       "    <tr style=\"text-align: right;\">\n",
       "      <th></th>\n",
       "      <th>날짜</th>\n",
       "      <th>비트코인</th>\n",
       "    </tr>\n",
       "  </thead>\n",
       "  <tbody>\n",
       "    <tr>\n",
       "      <th>0</th>\n",
       "      <td>2020-01-20</td>\n",
       "      <td>9884000.0</td>\n",
       "    </tr>\n",
       "    <tr>\n",
       "      <th>1</th>\n",
       "      <td>2020-01-21</td>\n",
       "      <td>9878000.0</td>\n",
       "    </tr>\n",
       "    <tr>\n",
       "      <th>2</th>\n",
       "      <td>2020-01-22</td>\n",
       "      <td>9887000.0</td>\n",
       "    </tr>\n",
       "  </tbody>\n",
       "</table>\n",
       "</div>"
      ],
      "text/plain": [
       "          날짜       비트코인\n",
       "0 2020-01-20  9884000.0\n",
       "1 2020-01-21  9878000.0\n",
       "2 2020-01-22  9887000.0"
      ]
     },
     "execution_count": 19,
     "metadata": {},
     "output_type": "execute_result"
    }
   ],
   "source": [
    "bitcoin.reset_index(inplace = True)\n",
    "bitcoin.columns = [\"날짜\", \"비트코인\"]\n",
    "bitcoin.head(3)"
   ]
  },
  {
   "cell_type": "code",
   "execution_count": 22,
   "id": "3cbc0bf6",
   "metadata": {},
   "outputs": [
    {
     "data": {
      "text/html": [
       "<div>\n",
       "<style scoped>\n",
       "    .dataframe tbody tr th:only-of-type {\n",
       "        vertical-align: middle;\n",
       "    }\n",
       "\n",
       "    .dataframe tbody tr th {\n",
       "        vertical-align: top;\n",
       "    }\n",
       "\n",
       "    .dataframe thead th {\n",
       "        text-align: right;\n",
       "    }\n",
       "</style>\n",
       "<table border=\"1\" class=\"dataframe\">\n",
       "  <thead>\n",
       "    <tr style=\"text-align: right;\">\n",
       "      <th></th>\n",
       "      <th>비트코인</th>\n",
       "    </tr>\n",
       "    <tr>\n",
       "      <th>time</th>\n",
       "      <th></th>\n",
       "    </tr>\n",
       "  </thead>\n",
       "  <tbody>\n",
       "    <tr>\n",
       "      <th>2018-01-01</th>\n",
       "      <td>18657000.0</td>\n",
       "    </tr>\n",
       "    <tr>\n",
       "      <th>2018-01-02</th>\n",
       "      <td>18772000.0</td>\n",
       "    </tr>\n",
       "    <tr>\n",
       "      <th>2018-01-03</th>\n",
       "      <td>19970000.0</td>\n",
       "    </tr>\n",
       "  </tbody>\n",
       "</table>\n",
       "</div>"
      ],
      "text/plain": [
       "                  비트코인\n",
       "time                  \n",
       "2018-01-01  18657000.0\n",
       "2018-01-02  18772000.0\n",
       "2018-01-03  19970000.0"
      ]
     },
     "execution_count": 22,
     "metadata": {},
     "output_type": "execute_result"
    }
   ],
   "source": [
    "bitcoin_900 = pd.DataFrame({\"비트코인\" : btc_tmp.loc[\"2018-01-01\":\"2021-08-31\"][\"close\"]})\n",
    "bitcoin_900.head(3)"
   ]
  },
  {
   "cell_type": "code",
   "execution_count": 23,
   "id": "4554b0d1",
   "metadata": {},
   "outputs": [
    {
     "data": {
      "text/html": [
       "<div>\n",
       "<style scoped>\n",
       "    .dataframe tbody tr th:only-of-type {\n",
       "        vertical-align: middle;\n",
       "    }\n",
       "\n",
       "    .dataframe tbody tr th {\n",
       "        vertical-align: top;\n",
       "    }\n",
       "\n",
       "    .dataframe thead th {\n",
       "        text-align: right;\n",
       "    }\n",
       "</style>\n",
       "<table border=\"1\" class=\"dataframe\">\n",
       "  <thead>\n",
       "    <tr style=\"text-align: right;\">\n",
       "      <th></th>\n",
       "      <th>날짜</th>\n",
       "      <th>비트코인</th>\n",
       "    </tr>\n",
       "  </thead>\n",
       "  <tbody>\n",
       "    <tr>\n",
       "      <th>0</th>\n",
       "      <td>2018-01-01</td>\n",
       "      <td>18657000.0</td>\n",
       "    </tr>\n",
       "    <tr>\n",
       "      <th>1</th>\n",
       "      <td>2018-01-02</td>\n",
       "      <td>18772000.0</td>\n",
       "    </tr>\n",
       "    <tr>\n",
       "      <th>2</th>\n",
       "      <td>2018-01-03</td>\n",
       "      <td>19970000.0</td>\n",
       "    </tr>\n",
       "  </tbody>\n",
       "</table>\n",
       "</div>"
      ],
      "text/plain": [
       "          날짜        비트코인\n",
       "0 2018-01-01  18657000.0\n",
       "1 2018-01-02  18772000.0\n",
       "2 2018-01-03  19970000.0"
      ]
     },
     "execution_count": 23,
     "metadata": {},
     "output_type": "execute_result"
    }
   ],
   "source": [
    "bitcoin_900.reset_index(inplace = True)\n",
    "bitcoin_900.columns = [\"날짜\", \"비트코인\"]\n",
    "bitcoin_900.head(3)"
   ]
  },
  {
   "cell_type": "code",
   "execution_count": 24,
   "id": "7674624d",
   "metadata": {},
   "outputs": [
    {
     "name": "stdout",
     "output_type": "stream",
     "text": [
      "bitcoin shape : (590, 2)\n",
      "bitcoin_900 shape :  (1340, 2)\n"
     ]
    }
   ],
   "source": [
    "print(\"bitcoin shape :\", bitcoin.shape)\n",
    "print(\"bitcoin_900 shape : \", bitcoin_900.shape)"
   ]
  },
  {
   "cell_type": "code",
   "execution_count": 25,
   "id": "f24be163",
   "metadata": {},
   "outputs": [],
   "source": [
    "bitcoin.to_csv(\"./CSV/07_bitcoin.csv\", index = False)\n",
    "bitcoin_900.to_csv(\"./CSV/08_bitcoin_900.csv\", index = False)"
   ]
  },
  {
   "cell_type": "code",
   "execution_count": null,
   "id": "3c8df4e5",
   "metadata": {},
   "outputs": [],
   "source": []
  }
 ],
 "metadata": {
  "kernelspec": {
   "display_name": "Python 3 (ipykernel)",
   "language": "python",
   "name": "python3"
  },
  "language_info": {
   "codemirror_mode": {
    "name": "ipython",
    "version": 3
   },
   "file_extension": ".py",
   "mimetype": "text/x-python",
   "name": "python",
   "nbconvert_exporter": "python",
   "pygments_lexer": "ipython3",
   "version": "3.8.8"
  }
 },
 "nbformat": 4,
 "nbformat_minor": 5
}
