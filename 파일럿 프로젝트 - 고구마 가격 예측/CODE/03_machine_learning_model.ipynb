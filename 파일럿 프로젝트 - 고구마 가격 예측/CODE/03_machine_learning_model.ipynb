{
 "cells": [
  {
   "cell_type": "code",
   "execution_count": 2,
   "id": "84721d7b",
   "metadata": {},
   "outputs": [],
   "source": [
    "import pandas as pd\n",
    "import numpy as np"
   ]
  },
  {
   "cell_type": "code",
   "execution_count": 3,
   "id": "1feeefe9",
   "metadata": {},
   "outputs": [],
   "source": [
    "data = pd.read_csv(\"../CSV/result.csv\")"
   ]
  },
  {
   "cell_type": "code",
   "execution_count": 4,
   "id": "207370e1",
   "metadata": {},
   "outputs": [
    {
     "name": "stdout",
     "output_type": "stream",
     "text": [
      "<class 'pandas.core.frame.DataFrame'>\n",
      "RangeIndex: 3945 entries, 0 to 3944\n",
      "Data columns (total 28 columns):\n",
      " #   Column         Non-Null Count  Dtype  \n",
      "---  ------         --------------  -----  \n",
      " 0   지점번호           3945 non-null   int64  \n",
      " 1   지점명            3945 non-null   object \n",
      " 2   일시             3945 non-null   object \n",
      " 3   평균기온(℃)        3945 non-null   float64\n",
      " 4   최고기온(℃)        3945 non-null   float64\n",
      " 5   최고기온시각         3945 non-null   object \n",
      " 6   최저기온(℃)        3945 non-null   float64\n",
      " 7   최저기온시각         3945 non-null   object \n",
      " 8   일교차            3945 non-null   float64\n",
      " 9   강수량(mm)        3945 non-null   float64\n",
      " 10  1시간최다강수량(mm)   3945 non-null   float64\n",
      " 11  1시간최다강수량시각     3945 non-null   object \n",
      " 12  평균풍속(m/s)      3945 non-null   float64\n",
      " 13  최대풍속(m/s)      3945 non-null   float64\n",
      " 14  최대풍속풍향(deg)    3945 non-null   float64\n",
      " 15  최대풍속시각         3945 non-null   object \n",
      " 16  최대순간풍속(m/s)    3945 non-null   float64\n",
      " 17  최대순간풍속풍향(deg)  3945 non-null   float64\n",
      " 18  최대순간풍속시각       3945 non-null   object \n",
      " 19  평균습도(%rh)      3945 non-null   float64\n",
      " 20  최저습도(%rh)      3945 non-null   float64\n",
      " 21  평균             3945 non-null   float64\n",
      " 22  평년             3945 non-null   float64\n",
      " 23  서울             3945 non-null   float64\n",
      " 24  부산             3945 non-null   float64\n",
      " 25  대구             3945 non-null   float64\n",
      " 26  광주             3945 non-null   float64\n",
      " 27  대전             3945 non-null   float64\n",
      "dtypes: float64(20), int64(1), object(7)\n",
      "memory usage: 863.1+ KB\n"
     ]
    }
   ],
   "source": [
    "data.info()"
   ]
  },
  {
   "cell_type": "code",
   "execution_count": 5,
   "id": "115f4316",
   "metadata": {},
   "outputs": [
    {
     "data": {
      "text/plain": [
       "Index(['지점번호', '지점명', '일시', '평균기온(℃)', '최고기온(℃)', '최고기온시각', '최저기온(℃)',\n",
       "       '최저기온시각', '일교차', '강수량(mm)', '1시간최다강수량(mm)', '1시간최다강수량시각', '평균풍속(m/s)',\n",
       "       '최대풍속(m/s)', '최대풍속풍향(deg)', '최대풍속시각', '최대순간풍속(m/s)', '최대순간풍속풍향(deg)',\n",
       "       '최대순간풍속시각', '평균습도(%rh)', '최저습도(%rh)', '평균', '평년', '서울', '부산', '대구',\n",
       "       '광주', '대전'],\n",
       "      dtype='object')"
      ]
     },
     "execution_count": 5,
     "metadata": {},
     "output_type": "execute_result"
    }
   ],
   "source": [
    "data.columns"
   ]
  },
  {
   "cell_type": "code",
   "execution_count": 6,
   "id": "c68c7dce",
   "metadata": {},
   "outputs": [],
   "source": [
    "from sklearn.linear_model import LinearRegression\n",
    "from sklearn.model_selection import train_test_split"
   ]
  },
  {
   "cell_type": "code",
   "execution_count": 14,
   "id": "d8bed0fd",
   "metadata": {},
   "outputs": [],
   "source": [
    "X = data[[\"평균기온(℃)\", \"최고기온(℃)\", \"최저기온(℃)\", \"강수량(mm)\", '일교차', '평균풍속(m/s)', '평균습도(%rh)', '최저습도(%rh)']]\n",
    "y = data[\"광주\"]"
   ]
  },
  {
   "cell_type": "code",
   "execution_count": 20,
   "id": "5d38755e",
   "metadata": {},
   "outputs": [
    {
     "name": "stdout",
     "output_type": "stream",
     "text": [
      "학습용 : 9, 테스트용 : 1\n",
      "학습용 : 0.1358378157226362, 테스트용 : 0.12605166819715907\n",
      "MAE : 7986.018804981731\n",
      "MSE : 100953685.51549608\n",
      "RMSE : 10047.571125177272\n",
      "\n",
      "학습용 : 8, 테스트용 : 2\n",
      "학습용 : 0.13769125883792532, 테스트용 : 0.12257184750152628\n",
      "MAE : 7901.659941852359\n",
      "MSE : 98635357.0430948\n",
      "RMSE : 9931.533468860425\n",
      "\n",
      "학습용 : 7, 테스트용 : 3\n",
      "학습용 : 0.12971519040431545, 테스트용 : 0.14070180504840968\n",
      "MAE : 7800.334701080472\n",
      "MSE : 97698040.67080003\n",
      "RMSE : 9884.231921135806\n",
      "\n",
      "학습용 : 6, 테스트용 : 4\n",
      "학습용 : 0.12458801559523924, 테스트용 : 0.14403031867562677\n",
      "MAE : 7737.368084888357\n",
      "MSE : 95273701.96635866\n",
      "RMSE : 9760.824860961222\n",
      "\n",
      "학습용 : 5, 테스트용 : 5\n",
      "학습용 : 0.1254277444923496, 테스트용 : 0.1381534270191237\n",
      "MAE : 7698.837347391483\n",
      "MSE : 93642143.15999267\n",
      "RMSE : 9676.887059379822\n",
      "\n"
     ]
    }
   ],
   "source": [
    "for i in range(1, 6, 1) :\n",
    "    X_train, X_test, y_train, y_test = train_test_split(X, y, \n",
    "                                                       test_size = (i / 10),\n",
    "                                                       random_state = 42)\n",
    "    model = LinearRegression().fit(X_train, y_train)\n",
    "    pred = model.predict(X_test)\n",
    "    \n",
    "    train_score = model.score(X_train, y_train)\n",
    "    test_score = model.score(X_test, y_test)\n",
    "    \n",
    "    mae_val = np.abs(y_test - pred).sum() / len(pred)\n",
    "    mse_val = ((y_test - pred) ** 2).sum() / len(pred)\n",
    "    rmse_val = mse_val ** 0.5\n",
    "    \n",
    "    print(f\"학습용 : {10 - i}, 테스트용 : {i}\")\n",
    "    print(\"학습용 : {}, 테스트용 : {}\".format(train_score, test_score))\n",
    "    print(\"MAE : {}\".format(mae_val))\n",
    "    print(\"MSE : {}\".format(mse_val))\n",
    "    print(\"RMSE : {}\".format(rmse_val))\n",
    "    print()"
   ]
  },
  {
   "cell_type": "code",
   "execution_count": 7,
   "id": "10ebeeff",
   "metadata": {},
   "outputs": [],
   "source": [
    "from sklearn.tree import DecisionTreeRegressor"
   ]
  },
  {
   "cell_type": "code",
   "execution_count": 42,
   "id": "8f05ecdd",
   "metadata": {},
   "outputs": [
    {
     "name": "stdout",
     "output_type": "stream",
     "text": [
      "학습용 : 9, 테스트용 : 1\n",
      "학습용 : 0.9796690153914186, 테스트용 : -0.6167501209304227\n",
      "MAE : 10326.086899388738\n",
      "MSE : 186758046.5870964\n",
      "RMSE : 13665.944774771204\n",
      "\n",
      "학습용 : 8, 테스트용 : 2\n",
      "학습용 : 0.9772085165518597, 테스트용 : -0.5418308018253171\n",
      "MAE : 9997.605244002581\n",
      "MSE : 173323629.06870127\n",
      "RMSE : 13165.24322102335\n",
      "\n",
      "학습용 : 7, 테스트용 : 3\n",
      "학습용 : 0.9731637953567835, 테스트용 : -0.5639789188906332\n",
      "MAE : 10179.806905165979\n",
      "MSE : 177816824.15224788\n",
      "RMSE : 13334.79749198494\n",
      "\n",
      "학습용 : 6, 테스트용 : 4\n",
      "학습용 : 0.9875920524610281, 테스트용 : -0.5384448608048666\n",
      "MAE : 9937.281618008805\n",
      "MSE : 171236599.09684867\n",
      "RMSE : 13085.74029609516\n",
      "\n",
      "학습용 : 5, 테스트용 : 5\n",
      "학습용 : 0.9890199652783628, 테스트용 : -0.6184627412546508\n",
      "MAE : 10065.546813195066\n",
      "MSE : 175850696.01366866\n",
      "RMSE : 13260.870861812533\n",
      "\n"
     ]
    }
   ],
   "source": [
    "for i in range(1, 6, 1) :\n",
    "    X_train, X_test, y_train, y_test = train_test_split(X, y, \n",
    "                                                       test_size = (i / 10),\n",
    "                                                       random_state = 42)\n",
    "    model = DecisionTreeRegressor(max_depth = 20, random_state = 0).fit(X_train, y_train)\n",
    "    pred = model.predict(X_test)\n",
    "\n",
    "    train_score = model.score(X_train, y_train)\n",
    "    test_score = model.score(X_test, y_test)\n",
    "\n",
    "    mae_val = np.abs(y_test - pred).sum() / len(pred)\n",
    "    mse_val = ((y_test - pred) ** 2).sum() / len(pred)\n",
    "    rmse_val = mse_val ** 0.5\n",
    "\n",
    "    print(f\"학습용 : {10 - i}, 테스트용 : {i}\")\n",
    "    print(\"학습용 : {}, 테스트용 : {}\".format(train_score, test_score))\n",
    "    print(\"MAE : {}\".format(mae_val))\n",
    "    print(\"MSE : {}\".format(mse_val))\n",
    "    print(\"RMSE : {}\".format(rmse_val))\n",
    "    print()"
   ]
  },
  {
   "cell_type": "code",
   "execution_count": 8,
   "id": "a95aa67c",
   "metadata": {},
   "outputs": [],
   "source": [
    "from sklearn.ensemble import RandomForestRegressor"
   ]
  },
  {
   "cell_type": "code",
   "execution_count": 32,
   "id": "27581157",
   "metadata": {},
   "outputs": [
    {
     "name": "stdout",
     "output_type": "stream",
     "text": [
      "학습용 : 9, 테스트용 : 1\n",
      "학습용 : 0.8824041494789099, 테스트용 : 0.14199844066350653\n",
      "MAE : 7767.868354430379\n",
      "MSE : 99111602.41518988\n",
      "RMSE : 9955.481023797387\n",
      "\n",
      "학습용 : 8, 테스트용 : 2\n",
      "학습용 : 0.882161176614729, 테스트용 : 0.13158459287971946\n",
      "MAE : 7817.575411913815\n",
      "MSE : 97622196.756654\n",
      "RMSE : 9880.394564826549\n",
      "\n",
      "학습용 : 7, 테스트용 : 3\n",
      "학습용 : 0.8812195884341212, 테스트용 : 0.14144181562696945\n",
      "MAE : 7721.574324324324\n",
      "MSE : 97613905.05405405\n",
      "RMSE : 9879.97495209649\n",
      "\n",
      "학습용 : 6, 테스트용 : 4\n",
      "학습용 : 0.8810858063722167, 테스트용 : 0.13139144851952667\n",
      "MAE : 7701.707224334601\n",
      "MSE : 96680471.35868187\n",
      "RMSE : 9832.622811777226\n",
      "\n",
      "학습용 : 5, 테스트용 : 5\n",
      "학습용 : 0.8785375262214702, 테스트용 : 0.11767224646530838\n",
      "MAE : 7674.381652306133\n",
      "MSE : 95867483.1469843\n",
      "RMSE : 9791.194163480995\n",
      "\n"
     ]
    },
    {
     "data": {
      "text/html": [
       "<div>\n",
       "<style scoped>\n",
       "    .dataframe tbody tr th:only-of-type {\n",
       "        vertical-align: middle;\n",
       "    }\n",
       "\n",
       "    .dataframe tbody tr th {\n",
       "        vertical-align: top;\n",
       "    }\n",
       "\n",
       "    .dataframe thead th {\n",
       "        text-align: right;\n",
       "    }\n",
       "</style>\n",
       "<table border=\"1\" class=\"dataframe\">\n",
       "  <thead>\n",
       "    <tr style=\"text-align: right;\">\n",
       "      <th></th>\n",
       "      <th>실제값</th>\n",
       "      <th>예측값</th>\n",
       "      <th>오차</th>\n",
       "    </tr>\n",
       "  </thead>\n",
       "  <tbody>\n",
       "    <tr>\n",
       "      <th>3713</th>\n",
       "      <td>44300.0</td>\n",
       "      <td>21813.0</td>\n",
       "      <td>22487.0</td>\n",
       "    </tr>\n",
       "    <tr>\n",
       "      <th>2251</th>\n",
       "      <td>26000.0</td>\n",
       "      <td>32641.0</td>\n",
       "      <td>-6641.0</td>\n",
       "    </tr>\n",
       "    <tr>\n",
       "      <th>1872</th>\n",
       "      <td>20000.0</td>\n",
       "      <td>31295.0</td>\n",
       "      <td>-11295.0</td>\n",
       "    </tr>\n",
       "    <tr>\n",
       "      <th>729</th>\n",
       "      <td>23000.0</td>\n",
       "      <td>25438.0</td>\n",
       "      <td>-2438.0</td>\n",
       "    </tr>\n",
       "    <tr>\n",
       "      <th>605</th>\n",
       "      <td>32000.0</td>\n",
       "      <td>36281.0</td>\n",
       "      <td>-4281.0</td>\n",
       "    </tr>\n",
       "    <tr>\n",
       "      <th>402</th>\n",
       "      <td>29000.0</td>\n",
       "      <td>26134.0</td>\n",
       "      <td>2866.0</td>\n",
       "    </tr>\n",
       "    <tr>\n",
       "      <th>2775</th>\n",
       "      <td>40000.0</td>\n",
       "      <td>38318.0</td>\n",
       "      <td>1682.0</td>\n",
       "    </tr>\n",
       "    <tr>\n",
       "      <th>3509</th>\n",
       "      <td>70300.0</td>\n",
       "      <td>39549.0</td>\n",
       "      <td>30751.0</td>\n",
       "    </tr>\n",
       "    <tr>\n",
       "      <th>2807</th>\n",
       "      <td>36000.0</td>\n",
       "      <td>47381.0</td>\n",
       "      <td>-11381.0</td>\n",
       "    </tr>\n",
       "    <tr>\n",
       "      <th>3836</th>\n",
       "      <td>49300.0</td>\n",
       "      <td>35427.0</td>\n",
       "      <td>13873.0</td>\n",
       "    </tr>\n",
       "  </tbody>\n",
       "</table>\n",
       "</div>"
      ],
      "text/plain": [
       "          실제값      예측값       오차\n",
       "3713  44300.0  21813.0  22487.0\n",
       "2251  26000.0  32641.0  -6641.0\n",
       "1872  20000.0  31295.0 -11295.0\n",
       "729   23000.0  25438.0  -2438.0\n",
       "605   32000.0  36281.0  -4281.0\n",
       "402   29000.0  26134.0   2866.0\n",
       "2775  40000.0  38318.0   1682.0\n",
       "3509  70300.0  39549.0  30751.0\n",
       "2807  36000.0  47381.0 -11381.0\n",
       "3836  49300.0  35427.0  13873.0"
      ]
     },
     "execution_count": 32,
     "metadata": {},
     "output_type": "execute_result"
    }
   ],
   "source": [
    "for i in range(1, 6, 1) :\n",
    "    X_train, X_test, y_train, y_test = train_test_split(X, y, \n",
    "                                                       test_size = (i / 10),\n",
    "                                                       random_state = 42)\n",
    "    model = RandomForestRegressor().fit(X_train, y_train)\n",
    "    pred = model.predict(X_test)\n",
    "\n",
    "    train_score = model.score(X_train, y_train)\n",
    "    test_score = model.score(X_test, y_test)\n",
    "\n",
    "    mae_val = np.abs(y_test - pred).sum() / len(pred)\n",
    "    mse_val = ((y_test - pred) ** 2).sum() / len(pred)\n",
    "    rmse_val = mse_val ** 0.5\n",
    "\n",
    "    print(f\"학습용 : {10 - i}, 테스트용 : {i}\")\n",
    "    print(\"학습용 : {}, 테스트용 : {}\".format(train_score, test_score))\n",
    "    print(\"MAE : {}\".format(mae_val))\n",
    "    print(\"MSE : {}\".format(mse_val))\n",
    "    print(\"RMSE : {}\".format(rmse_val))\n",
    "    print()\n",
    "\n",
    "dict_dat = {\"실제값\" : y_test, \"예측값\" : pred, \"오차\" : y_test - pred}\n",
    "dat = pd.DataFrame(dict_dat)\n",
    "dat.head(10)"
   ]
  },
  {
   "cell_type": "code",
   "execution_count": 9,
   "id": "8e0261a6",
   "metadata": {},
   "outputs": [],
   "source": [
    "from sklearn.cluster import KMeans"
   ]
  },
  {
   "cell_type": "code",
   "execution_count": 30,
   "id": "d2aaed39",
   "metadata": {},
   "outputs": [
    {
     "name": "stdout",
     "output_type": "stream",
     "text": [
      "-1025106.3689783949 -933833.460333271\n"
     ]
    }
   ],
   "source": [
    "kmeans = KMeans(n_clusters = 2)\n",
    "kmeans.fit(X_train)\n",
    "y_pred = kmeans.predict(X_test)\n",
    "\n",
    "train_score = kmeans.score(X_train, y_train)\n",
    "test_score = kmeans.score(X_test, y_test)\n",
    "print(train_score, test_score)"
   ]
  },
  {
   "cell_type": "code",
   "execution_count": 10,
   "id": "b3cc02cd",
   "metadata": {},
   "outputs": [],
   "source": [
    "from sklearn.linear_model import Ridge"
   ]
  },
  {
   "cell_type": "code",
   "execution_count": 11,
   "id": "72031ee4",
   "metadata": {},
   "outputs": [
    {
     "ename": "NameError",
     "evalue": "name 'X' is not defined",
     "output_type": "error",
     "traceback": [
      "\u001b[0;31m---------------------------------------------------------------------------\u001b[0m",
      "\u001b[0;31mNameError\u001b[0m                                 Traceback (most recent call last)",
      "\u001b[0;32m/var/folders/t9/yt46lj5s0lv1slvgpm05mrs00000gn/T/ipykernel_2096/2211889743.py\u001b[0m in \u001b[0;36m<module>\u001b[0;34m\u001b[0m\n\u001b[0;32m----> 1\u001b[0;31m \u001b[0mX_train\u001b[0m\u001b[0;34m,\u001b[0m \u001b[0mX_test\u001b[0m\u001b[0;34m,\u001b[0m \u001b[0my_train\u001b[0m\u001b[0;34m,\u001b[0m \u001b[0my_test\u001b[0m \u001b[0;34m=\u001b[0m \u001b[0mtrain_test_split\u001b[0m\u001b[0;34m(\u001b[0m\u001b[0mX\u001b[0m\u001b[0;34m,\u001b[0m \u001b[0my\u001b[0m\u001b[0;34m)\u001b[0m\u001b[0;34m\u001b[0m\u001b[0;34m\u001b[0m\u001b[0m\n\u001b[0m\u001b[1;32m      2\u001b[0m \u001b[0;34m\u001b[0m\u001b[0m\n\u001b[1;32m      3\u001b[0m \u001b[0mridge\u001b[0m \u001b[0;34m=\u001b[0m \u001b[0mRidge\u001b[0m\u001b[0;34m(\u001b[0m\u001b[0;34m)\u001b[0m\u001b[0;34m.\u001b[0m\u001b[0mfit\u001b[0m\u001b[0;34m(\u001b[0m\u001b[0mX_train\u001b[0m\u001b[0;34m,\u001b[0m \u001b[0my_train\u001b[0m\u001b[0;34m)\u001b[0m\u001b[0;34m\u001b[0m\u001b[0;34m\u001b[0m\u001b[0m\n\u001b[1;32m      4\u001b[0m \u001b[0;34m\u001b[0m\u001b[0m\n\u001b[1;32m      5\u001b[0m \u001b[0mtrain_score\u001b[0m \u001b[0;34m=\u001b[0m \u001b[0mridge\u001b[0m\u001b[0;34m.\u001b[0m\u001b[0mscore\u001b[0m\u001b[0;34m(\u001b[0m\u001b[0mX_train\u001b[0m\u001b[0;34m,\u001b[0m \u001b[0my_train\u001b[0m\u001b[0;34m)\u001b[0m\u001b[0;34m\u001b[0m\u001b[0;34m\u001b[0m\u001b[0m\n",
      "\u001b[0;31mNameError\u001b[0m: name 'X' is not defined"
     ]
    }
   ],
   "source": [
    "X_train, X_test, y_train, y_test = train_test_split(X, y)\n",
    "\n",
    "ridge = Ridge().fit(X_train, y_train)\n",
    "\n",
    "train_score = ridge.score(X_train, y_train)\n",
    "test_score = ridge.score(X_test, y_test)\n",
    "print(\"학습용 : {}, 테스트용 : {}\".format(train_score, test_score))"
   ]
  },
  {
   "cell_type": "code",
   "execution_count": 15,
   "id": "a4f9b7ef",
   "metadata": {},
   "outputs": [
    {
     "name": "stdout",
     "output_type": "stream",
     "text": [
      "학습용 : 0.13589412573930737, 테스트용 : 0.13110726551107776\n"
     ]
    }
   ],
   "source": [
    "X_train, X_test, y_train, y_test = train_test_split(X, y)\n",
    "\n",
    "ridge = Ridge(alpha = 0.1).fit(X_train, y_train)\n",
    "\n",
    "train_score = ridge.score(X_train, y_train)\n",
    "test_score = ridge.score(X_test, y_test)\n",
    "print(\"학습용 : {}, 테스트용 : {}\".format(train_score, test_score))"
   ]
  },
  {
   "cell_type": "code",
   "execution_count": 16,
   "id": "94c9ddc4",
   "metadata": {},
   "outputs": [
    {
     "name": "stdout",
     "output_type": "stream",
     "text": [
      "학습용 : 0.1358939627064093, 테스트용 : 0.13109720266794211\n",
      "사용한 특성의 개수 : 8\n"
     ]
    },
    {
     "name": "stderr",
     "output_type": "stream",
     "text": [
      "/Users/seungwoomun/opt/anaconda3/envs/likelion/lib/python3.8/site-packages/sklearn/linear_model/_coordinate_descent.py:645: ConvergenceWarning: Objective did not converge. You might want to increase the number of iterations, check the scale of the features or consider increasing regularisation. Duality gap: 4.616e+10, tolerance: 3.066e+07\n",
      "  model = cd_fast.enet_coordinate_descent(\n"
     ]
    }
   ],
   "source": [
    "from sklearn.linear_model import Lasso\n",
    "\n",
    "lasso = Lasso().fit(X_train, y_train)\n",
    "\n",
    "train_score = lasso.score(X_train, y_train)\n",
    "test_score = lasso.score(X_test, y_test)\n",
    "print(\"학습용 : {}, 테스트용 : {}\".format(train_score, test_score))\n",
    "print(\"사용한 특성의 개수 : {}\".format(np.sum(lasso.coef_ != 0)))"
   ]
  },
  {
   "cell_type": "code",
   "execution_count": 17,
   "id": "a5bceb27",
   "metadata": {},
   "outputs": [
    {
     "name": "stdout",
     "output_type": "stream",
     "text": [
      "학습용 : 0.1358941257527324, 테스트용 : 0.13112005160352103\n",
      "사용한 특성의 개수 : 8\n"
     ]
    }
   ],
   "source": [
    "lasso = Lasso(alpha = 0.00001, max_iter = 10000000).fit(X_train, y_train)\n",
    "\n",
    "train_score = lasso.score(X_train, y_train)\n",
    "test_score = lasso.score(X_test, y_test)\n",
    "print(\"학습용 : {}, 테스트용 : {}\".format(train_score, test_score))\n",
    "print(\"사용한 특성의 개수 : {}\".format(np.sum(lasso.coef_ != 0)))"
   ]
  },
  {
   "cell_type": "code",
   "execution_count": 18,
   "id": "45faf549",
   "metadata": {},
   "outputs": [],
   "source": [
    "from sklearn.linear_model import LogisticRegression"
   ]
  },
  {
   "cell_type": "code",
   "execution_count": 19,
   "id": "0699e542",
   "metadata": {},
   "outputs": [
    {
     "name": "stdout",
     "output_type": "stream",
     "text": [
      "학습용 : 0.09939148073022312, 테스트용 : 0.09523809523809523\n"
     ]
    },
    {
     "name": "stderr",
     "output_type": "stream",
     "text": [
      "/Users/seungwoomun/opt/anaconda3/envs/likelion/lib/python3.8/site-packages/sklearn/linear_model/_logistic.py:814: ConvergenceWarning: lbfgs failed to converge (status=1):\n",
      "STOP: TOTAL NO. of ITERATIONS REACHED LIMIT.\n",
      "\n",
      "Increase the number of iterations (max_iter) or scale the data as shown in:\n",
      "    https://scikit-learn.org/stable/modules/preprocessing.html\n",
      "Please also refer to the documentation for alternative solver options:\n",
      "    https://scikit-learn.org/stable/modules/linear_model.html#logistic-regression\n",
      "  n_iter_i = _check_optimize_result(\n"
     ]
    }
   ],
   "source": [
    "logreg = LogisticRegression().fit(X_train, y_train)\n",
    "\n",
    "train_score = logreg.score(X_train, y_train)\n",
    "test_score = logreg.score(X_test, y_test)\n",
    "print(\"학습용 : {}, 테스트용 : {}\".format(train_score, test_score))"
   ]
  },
  {
   "cell_type": "code",
   "execution_count": 22,
   "id": "8d2b1f3a",
   "metadata": {},
   "outputs": [
    {
     "name": "stdout",
     "output_type": "stream",
     "text": [
      "LinearRegression\n",
      "학습용 정확도 : 0.1393813353466936, 테스트용 정확도 : 0.1584190703818502\n",
      "\n",
      "DecisionTreeRegressor\n",
      "학습용 정확도 : 1.0, 테스트용 정확도 : -0.5502246003715252\n",
      "\n",
      "RandomForestRegressor\n",
      "학습용 정확도 : 0.8811338468470196, 테스트용 정확도 : 0.16022258766236408\n",
      "\n",
      "Ridge\n",
      "학습용 정확도 : 0.13938133298459965, 테스트용 정확도 : 0.1584204578855346\n",
      "\n",
      "Lasso\n",
      "학습용 정확도 : 0.13937825724806652, 테스트용 정확도 : 0.15846678711731566\n"
     ]
    },
    {
     "name": "stderr",
     "output_type": "stream",
     "text": [
      "/Users/seungwoomun/opt/anaconda3/envs/likelion/lib/python3.8/site-packages/sklearn/linear_model/_coordinate_descent.py:645: ConvergenceWarning: Objective did not converge. You might want to increase the number of iterations, check the scale of the features or consider increasing regularisation. Duality gap: 2.954e+10, tolerance: 1.928e+07\n",
      "  model = cd_fast.enet_coordinate_descent(\n"
     ]
    }
   ],
   "source": [
    "X = data[[\"평균기온(℃)\", '최고기온(℃)', '최저기온(℃)', '강수량(mm)', '일교차', '강수량(mm)', '평균풍속(m/s)',\n",
    "       '최대풍속(m/s)', '평균습도(%rh)', '최저습도(%rh)']]\n",
    "y = data[\"평균\"]\n",
    "\n",
    "X_train, X_test, y_train, y_test = train_test_split(X, y, test_size = (4 / 10), random_state = 42)\n",
    "\n",
    "# LinearRegression\n",
    "lr = LinearRegression().fit(X_train, y_train)\n",
    "lr_pred = lr.predict(X_test)\n",
    "\n",
    "train_score = lr.score(X_train, y_train)\n",
    "test_score = lr.score(X_test, y_test)\n",
    "\n",
    "print(\"LinearRegression\")\n",
    "print(\"학습용 정확도 : {}, 테스트용 정확도 : {}\".format(train_score, test_score))\n",
    "print()\n",
    "\n",
    "# DecisionTreeRegressor\n",
    "tree = DecisionTreeRegressor().fit(X_train, y_train)\n",
    "tree_pred = tree.predict(X_test)\n",
    "\n",
    "train_score = tree.score(X_train, y_train)\n",
    "test_score = tree.score(X_test, y_test)\n",
    "\n",
    "print(\"DecisionTreeRegressor\")\n",
    "print(\"학습용 정확도 : {}, 테스트용 정확도 : {}\".format(train_score, test_score))\n",
    "print()\n",
    "\n",
    "# RandomForestRegressor\n",
    "rf = RandomForestRegressor(n_estimators = 100).fit(X_train, y_train)\n",
    "rf_pred = rf.predict(X_test)\n",
    "\n",
    "train_score = rf.score(X_train, y_train)\n",
    "test_score = rf.score(X_test, y_test)\n",
    "\n",
    "print(\"RandomForestRegressor\")\n",
    "print(\"학습용 정확도 : {}, 테스트용 정확도 : {}\".format(train_score, test_score))\n",
    "print()\n",
    "\n",
    "# Ridge\n",
    "ridge = Ridge(alpha = 0.1).fit(X_train, y_train)\n",
    "ridge_pred = ridge.predict(X_test)\n",
    "\n",
    "train_score = ridge.score(X_train, y_train)\n",
    "test_score = ridge.score(X_test, y_test)\n",
    "\n",
    "print(\"Ridge\")\n",
    "print(\"학습용 정확도 : {}, 테스트용 정확도 : {}\".format(train_score, test_score))\n",
    "print()\n",
    "\n",
    "# Lasso\n",
    "lasso = Lasso().fit(X_train, y_train)\n",
    "lasso_pred = lasso.predict(X_test)\n",
    "\n",
    "train_score = lasso.score(X_train, y_train)\n",
    "test_score = lasso.score(X_test, y_test)\n",
    "\n",
    "print(\"Lasso\")\n",
    "print(\"학습용 정확도 : {}, 테스트용 정확도 : {}\".format(train_score, test_score))"
   ]
  },
  {
   "cell_type": "code",
   "execution_count": 23,
   "id": "8eb91072",
   "metadata": {},
   "outputs": [],
   "source": [
    "from sklearn.model_selection import cross_val_score, KFold"
   ]
  },
  {
   "cell_type": "code",
   "execution_count": 24,
   "id": "047d8127",
   "metadata": {},
   "outputs": [
    {
     "name": "stdout",
     "output_type": "stream",
     "text": [
      "LinearRegression scores : [0.11841996 0.10700283 0.10010639 0.13385765 0.17001103]\n",
      "DecisionTree scores : [-0.79421959 -0.7354981  -0.64225204 -0.5006558  -0.5727883 ]\n",
      "RandomForest scores : [0.1117692  0.10347918 0.10675031 0.1427222  0.19530091]\n"
     ]
    }
   ],
   "source": [
    "lr_scores = cross_val_score(lr, X_train, y_train)\n",
    "print(\"LinearRegression scores : {}\".format(lr_scores))\n",
    "tree_scores = cross_val_score(tree, X_train, y_train)\n",
    "print(\"DecisionTree scores : {}\".format(tree_scores))\n",
    "rf_scores = cross_val_score(rf, X_train, y_train)\n",
    "print(\"RandomForest scores : {}\".format(rf_scores))"
   ]
  },
  {
   "cell_type": "code",
   "execution_count": 25,
   "id": "76dba90b",
   "metadata": {},
   "outputs": [
    {
     "name": "stdout",
     "output_type": "stream",
     "text": [
      "LinearRegression\n",
      "train 교차 검증 점수 :\n",
      "[0.11368321 0.13591501 0.09097696 0.18429343 0.1261977 ]\n",
      "test 교차 검증 점수 :\n",
      "[-5.52864991e+20  1.88481673e-01  1.40421593e-01  1.76460306e-01\n",
      "  1.03291185e-01]\n",
      "\n",
      "DecisionTree\n",
      "train 교차 검증 점수 :\n",
      "[-0.56728235 -0.85927947 -0.53967529 -0.71583105 -0.40768388]\n",
      "test 교차 검증 점수 :\n",
      "[-0.90425665 -0.42829368 -0.38773471 -0.68552491 -0.53093237]\n",
      "\n",
      "RandomForest\n",
      "train 교차 검증 점수 :\n",
      "[0.1471839  0.09309386 0.16866402 0.18840964 0.16205428]\n",
      "test 교차 검증 점수 :\n",
      "[0.21695047 0.17529004 0.15298503 0.13753823 0.07838464]\n"
     ]
    }
   ],
   "source": [
    "kfold = KFold(n_splits = 5, shuffle = True, random_state = 0)\n",
    "\n",
    "print(\"LinearRegression\")\n",
    "lr_train_scores = cross_val_score(lr, X_train, y_train, cv = kfold)\n",
    "print(\"train 교차 검증 점수 :\\n{}\".format(lr_train_scores))\n",
    "lr_test_scores = cross_val_score(lr, X_test, y_test, cv = kfold)\n",
    "print(\"test 교차 검증 점수 :\\n{}\".format(lr_test_scores))\n",
    "print()\n",
    "\n",
    "print(\"DecisionTree\")\n",
    "tree_train_scores = cross_val_score(tree, X_train, y_train, cv = kfold)\n",
    "print(\"train 교차 검증 점수 :\\n{}\".format(tree_train_scores))\n",
    "tree_test_scores = cross_val_score(tree, X_test, y_test, cv = kfold)\n",
    "print(\"test 교차 검증 점수 :\\n{}\".format(tree_test_scores))\n",
    "print()\n",
    "\n",
    "print(\"RandomForest\")\n",
    "rf_train_scores = cross_val_score(rf, X_train, y_train, cv = kfold)\n",
    "print(\"train 교차 검증 점수 :\\n{}\".format(rf_train_scores))\n",
    "rf_test_scores = cross_val_score(rf, X_test, y_test, cv = kfold)\n",
    "print(\"test 교차 검증 점수 :\\n{}\".format(rf_test_scores))"
   ]
  },
  {
   "cell_type": "code",
   "execution_count": null,
   "id": "887616f3",
   "metadata": {},
   "outputs": [],
   "source": []
  }
 ],
 "metadata": {
  "kernelspec": {
   "display_name": "Python 3 (ipykernel)",
   "language": "python",
   "name": "python3"
  },
  "language_info": {
   "codemirror_mode": {
    "name": "ipython",
    "version": 3
   },
   "file_extension": ".py",
   "mimetype": "text/x-python",
   "name": "python",
   "nbconvert_exporter": "python",
   "pygments_lexer": "ipython3",
   "version": "3.8.8"
  }
 },
 "nbformat": 4,
 "nbformat_minor": 5
}
