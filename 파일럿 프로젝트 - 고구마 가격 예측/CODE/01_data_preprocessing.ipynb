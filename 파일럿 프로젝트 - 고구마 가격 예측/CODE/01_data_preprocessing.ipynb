{
 "cells": [
  {
   "cell_type": "markdown",
   "id": "159aa35c",
   "metadata": {},
   "source": [
    "### data\n",
    "* temperature\n",
    "* rainfall\n",
    "* wind\n",
    "* humidity"
   ]
  },
  {
   "cell_type": "code",
   "execution_count": 240,
   "id": "1d191643",
   "metadata": {},
   "outputs": [],
   "source": [
    "import pandas as pd"
   ]
  },
  {
   "cell_type": "markdown",
   "id": "ed159b37",
   "metadata": {},
   "source": [
    "## 기온 데이터 불러오기"
   ]
  },
  {
   "cell_type": "code",
   "execution_count": 241,
   "id": "f984b012",
   "metadata": {},
   "outputs": [],
   "source": [
    "temperature = pd.read_csv(\"../CSV/목포_기온_utf_8.csv\", header = 10)"
   ]
  },
  {
   "cell_type": "code",
   "execution_count": 242,
   "id": "f73cff9b",
   "metadata": {},
   "outputs": [
    {
     "data": {
      "text/html": [
       "<div>\n",
       "<style scoped>\n",
       "    .dataframe tbody tr th:only-of-type {\n",
       "        vertical-align: middle;\n",
       "    }\n",
       "\n",
       "    .dataframe tbody tr th {\n",
       "        vertical-align: top;\n",
       "    }\n",
       "\n",
       "    .dataframe thead th {\n",
       "        text-align: right;\n",
       "    }\n",
       "</style>\n",
       "<table border=\"1\" class=\"dataframe\">\n",
       "  <thead>\n",
       "    <tr style=\"text-align: right;\">\n",
       "      <th></th>\n",
       "      <th>\\t\\t지점번호</th>\n",
       "      <th>지점명</th>\n",
       "      <th>일시</th>\n",
       "      <th>평균기온(℃)</th>\n",
       "      <th>최고기온(℃)</th>\n",
       "      <th>\\t최고기온시각</th>\n",
       "      <th>최저기온(℃)</th>\n",
       "      <th>최저기온시각일교차</th>\n",
       "      <th>Unnamed: 8</th>\n",
       "    </tr>\n",
       "  </thead>\n",
       "  <tbody>\n",
       "    <tr>\n",
       "      <th>0</th>\n",
       "      <td>\\t\\t165</td>\n",
       "      <td>목포</td>\n",
       "      <td>2011.1.1</td>\n",
       "      <td>-3.7</td>\n",
       "      <td>-0.2</td>\n",
       "      <td>14:12</td>\n",
       "      <td>-6.0</td>\n",
       "      <td>8:17</td>\n",
       "      <td>5.8</td>\n",
       "    </tr>\n",
       "    <tr>\n",
       "      <th>1</th>\n",
       "      <td>\\t\\t165</td>\n",
       "      <td>목포</td>\n",
       "      <td>2011.1.2</td>\n",
       "      <td>-2.4</td>\n",
       "      <td>2.0</td>\n",
       "      <td>13:07</td>\n",
       "      <td>-5.7</td>\n",
       "      <td>6:11</td>\n",
       "      <td>7.7</td>\n",
       "    </tr>\n",
       "    <tr>\n",
       "      <th>2</th>\n",
       "      <td>\\t\\t165</td>\n",
       "      <td>목포</td>\n",
       "      <td>2011.1.3</td>\n",
       "      <td>-1.6</td>\n",
       "      <td>1.4</td>\n",
       "      <td>11:59</td>\n",
       "      <td>-3.8</td>\n",
       "      <td>23:19</td>\n",
       "      <td>5.2</td>\n",
       "    </tr>\n",
       "  </tbody>\n",
       "</table>\n",
       "</div>"
      ],
      "text/plain": [
       "  \\t\\t지점번호 지점명        일시  평균기온(℃)  최고기온(℃) \\t최고기온시각  최저기온(℃) 최저기온시각일교차  \\\n",
       "0  \\t\\t165  목포  2011.1.1     -3.7     -0.2    14:12     -6.0      8:17   \n",
       "1  \\t\\t165  목포  2011.1.2     -2.4      2.0    13:07     -5.7      6:11   \n",
       "2  \\t\\t165  목포  2011.1.3     -1.6      1.4    11:59     -3.8     23:19   \n",
       "\n",
       "   Unnamed: 8  \n",
       "0         5.8  \n",
       "1         7.7  \n",
       "2         5.2  "
      ]
     },
     "execution_count": 242,
     "metadata": {},
     "output_type": "execute_result"
    }
   ],
   "source": [
    "temperature.head(3)"
   ]
  },
  {
   "cell_type": "code",
   "execution_count": 243,
   "id": "8c74b4fa",
   "metadata": {},
   "outputs": [
    {
     "data": {
      "text/plain": [
       "Index(['\\t\\t지점번호', '지점명', '일시', '평균기온(℃)', '최고기온(℃)', '\\t최고기온시각', '최저기온(℃)',\n",
       "       '최저기온시각일교차', 'Unnamed: 8'],\n",
       "      dtype='object')"
      ]
     },
     "execution_count": 243,
     "metadata": {},
     "output_type": "execute_result"
    }
   ],
   "source": [
    "temperature.columns"
   ]
  },
  {
   "cell_type": "markdown",
   "id": "7e9a9187",
   "metadata": {},
   "source": [
    "### 컬럼명 수정"
   ]
  },
  {
   "cell_type": "code",
   "execution_count": 244,
   "id": "1091a4ca",
   "metadata": {},
   "outputs": [],
   "source": [
    "temperature.columns = ['지점번호', '지점명', '일시', '평균기온(℃)', '최고기온(℃)', '최고기온시각', '최저기온(℃)',\n",
    "       '최저기온시각', '일교차']"
   ]
  },
  {
   "cell_type": "code",
   "execution_count": 245,
   "id": "a1ddab13",
   "metadata": {},
   "outputs": [
    {
     "data": {
      "text/html": [
       "<div>\n",
       "<style scoped>\n",
       "    .dataframe tbody tr th:only-of-type {\n",
       "        vertical-align: middle;\n",
       "    }\n",
       "\n",
       "    .dataframe tbody tr th {\n",
       "        vertical-align: top;\n",
       "    }\n",
       "\n",
       "    .dataframe thead th {\n",
       "        text-align: right;\n",
       "    }\n",
       "</style>\n",
       "<table border=\"1\" class=\"dataframe\">\n",
       "  <thead>\n",
       "    <tr style=\"text-align: right;\">\n",
       "      <th></th>\n",
       "      <th>지점번호</th>\n",
       "      <th>지점명</th>\n",
       "      <th>일시</th>\n",
       "      <th>평균기온(℃)</th>\n",
       "      <th>최고기온(℃)</th>\n",
       "      <th>최고기온시각</th>\n",
       "      <th>최저기온(℃)</th>\n",
       "      <th>최저기온시각</th>\n",
       "      <th>일교차</th>\n",
       "    </tr>\n",
       "  </thead>\n",
       "  <tbody>\n",
       "    <tr>\n",
       "      <th>0</th>\n",
       "      <td>\\t\\t165</td>\n",
       "      <td>목포</td>\n",
       "      <td>2011.1.1</td>\n",
       "      <td>-3.7</td>\n",
       "      <td>-0.2</td>\n",
       "      <td>14:12</td>\n",
       "      <td>-6.0</td>\n",
       "      <td>8:17</td>\n",
       "      <td>5.8</td>\n",
       "    </tr>\n",
       "    <tr>\n",
       "      <th>1</th>\n",
       "      <td>\\t\\t165</td>\n",
       "      <td>목포</td>\n",
       "      <td>2011.1.2</td>\n",
       "      <td>-2.4</td>\n",
       "      <td>2.0</td>\n",
       "      <td>13:07</td>\n",
       "      <td>-5.7</td>\n",
       "      <td>6:11</td>\n",
       "      <td>7.7</td>\n",
       "    </tr>\n",
       "    <tr>\n",
       "      <th>2</th>\n",
       "      <td>\\t\\t165</td>\n",
       "      <td>목포</td>\n",
       "      <td>2011.1.3</td>\n",
       "      <td>-1.6</td>\n",
       "      <td>1.4</td>\n",
       "      <td>11:59</td>\n",
       "      <td>-3.8</td>\n",
       "      <td>23:19</td>\n",
       "      <td>5.2</td>\n",
       "    </tr>\n",
       "  </tbody>\n",
       "</table>\n",
       "</div>"
      ],
      "text/plain": [
       "      지점번호 지점명        일시  평균기온(℃)  최고기온(℃) 최고기온시각  최저기온(℃) 최저기온시각  일교차\n",
       "0  \\t\\t165  목포  2011.1.1     -3.7     -0.2  14:12     -6.0   8:17  5.8\n",
       "1  \\t\\t165  목포  2011.1.2     -2.4      2.0  13:07     -5.7   6:11  7.7\n",
       "2  \\t\\t165  목포  2011.1.3     -1.6      1.4  11:59     -3.8  23:19  5.2"
      ]
     },
     "execution_count": 245,
     "metadata": {},
     "output_type": "execute_result"
    }
   ],
   "source": [
    "temperature.head(3)"
   ]
  },
  {
   "cell_type": "markdown",
   "id": "72ca190a",
   "metadata": {},
   "source": [
    "### 결측치 확인"
   ]
  },
  {
   "cell_type": "code",
   "execution_count": 246,
   "id": "01386ce4",
   "metadata": {},
   "outputs": [
    {
     "name": "stdout",
     "output_type": "stream",
     "text": [
      "<class 'pandas.core.frame.DataFrame'>\n",
      "RangeIndex: 3953 entries, 0 to 3952\n",
      "Data columns (total 9 columns):\n",
      " #   Column   Non-Null Count  Dtype  \n",
      "---  ------   --------------  -----  \n",
      " 0   지점번호     3953 non-null   object \n",
      " 1   지점명      3945 non-null   object \n",
      " 2   일시       3945 non-null   object \n",
      " 3   평균기온(℃)  3945 non-null   float64\n",
      " 4   최고기온(℃)  3944 non-null   float64\n",
      " 5   최고기온시각   3945 non-null   object \n",
      " 6   최저기온(℃)  3944 non-null   float64\n",
      " 7   최저기온시각   3945 non-null   object \n",
      " 8   일교차      3943 non-null   float64\n",
      "dtypes: float64(4), object(5)\n",
      "memory usage: 278.1+ KB\n"
     ]
    }
   ],
   "source": [
    "temperature.info()"
   ]
  },
  {
   "cell_type": "markdown",
   "id": "13074a52",
   "metadata": {},
   "source": [
    "### 일시 기준으로 결측치 제거"
   ]
  },
  {
   "cell_type": "code",
   "execution_count": 247,
   "id": "15092d42",
   "metadata": {},
   "outputs": [],
   "source": [
    "temperature.dropna(subset = [\"일시\"], axis = 0, inplace = True)"
   ]
  },
  {
   "cell_type": "code",
   "execution_count": 248,
   "id": "dfc12bb7",
   "metadata": {},
   "outputs": [
    {
     "name": "stdout",
     "output_type": "stream",
     "text": [
      "<class 'pandas.core.frame.DataFrame'>\n",
      "Int64Index: 3945 entries, 0 to 3944\n",
      "Data columns (total 9 columns):\n",
      " #   Column   Non-Null Count  Dtype  \n",
      "---  ------   --------------  -----  \n",
      " 0   지점번호     3945 non-null   object \n",
      " 1   지점명      3945 non-null   object \n",
      " 2   일시       3945 non-null   object \n",
      " 3   평균기온(℃)  3945 non-null   float64\n",
      " 4   최고기온(℃)  3944 non-null   float64\n",
      " 5   최고기온시각   3945 non-null   object \n",
      " 6   최저기온(℃)  3944 non-null   float64\n",
      " 7   최저기온시각   3945 non-null   object \n",
      " 8   일교차      3943 non-null   float64\n",
      "dtypes: float64(4), object(5)\n",
      "memory usage: 308.2+ KB\n"
     ]
    }
   ],
   "source": [
    "temperature.info()"
   ]
  },
  {
   "cell_type": "markdown",
   "id": "9aefa74e",
   "metadata": {},
   "source": [
    "### 앞의 데이터로 결측치 대체"
   ]
  },
  {
   "cell_type": "code",
   "execution_count": 249,
   "id": "66b4ccd7",
   "metadata": {},
   "outputs": [],
   "source": [
    "### 최저기온 결측치 -> 평균으로 대체\n",
    "# temperature.fillna({\"최저기온(℃)\" : temperature[\"최저기온(℃)\"].mean()}, inplace = True)\n",
    "temperature.fillna(method = \"ffill\", inplace = True)"
   ]
  },
  {
   "cell_type": "code",
   "execution_count": 250,
   "id": "4a643def",
   "metadata": {},
   "outputs": [
    {
     "name": "stdout",
     "output_type": "stream",
     "text": [
      "<class 'pandas.core.frame.DataFrame'>\n",
      "Int64Index: 3945 entries, 0 to 3944\n",
      "Data columns (total 9 columns):\n",
      " #   Column   Non-Null Count  Dtype  \n",
      "---  ------   --------------  -----  \n",
      " 0   지점번호     3945 non-null   object \n",
      " 1   지점명      3945 non-null   object \n",
      " 2   일시       3945 non-null   object \n",
      " 3   평균기온(℃)  3945 non-null   float64\n",
      " 4   최고기온(℃)  3945 non-null   float64\n",
      " 5   최고기온시각   3945 non-null   object \n",
      " 6   최저기온(℃)  3945 non-null   float64\n",
      " 7   최저기온시각   3945 non-null   object \n",
      " 8   일교차      3945 non-null   float64\n",
      "dtypes: float64(4), object(5)\n",
      "memory usage: 308.2+ KB\n"
     ]
    }
   ],
   "source": [
    "temperature.info()"
   ]
  },
  {
   "cell_type": "code",
   "execution_count": 251,
   "id": "90414921",
   "metadata": {},
   "outputs": [],
   "source": [
    "### 결측치 0으로 대체\n",
    "# temperature.fillna(0, inplace = True)"
   ]
  },
  {
   "cell_type": "code",
   "execution_count": 252,
   "id": "04187a3e",
   "metadata": {},
   "outputs": [
    {
     "name": "stdout",
     "output_type": "stream",
     "text": [
      "<class 'pandas.core.frame.DataFrame'>\n",
      "Int64Index: 3945 entries, 0 to 3944\n",
      "Data columns (total 9 columns):\n",
      " #   Column   Non-Null Count  Dtype  \n",
      "---  ------   --------------  -----  \n",
      " 0   지점번호     3945 non-null   object \n",
      " 1   지점명      3945 non-null   object \n",
      " 2   일시       3945 non-null   object \n",
      " 3   평균기온(℃)  3945 non-null   float64\n",
      " 4   최고기온(℃)  3945 non-null   float64\n",
      " 5   최고기온시각   3945 non-null   object \n",
      " 6   최저기온(℃)  3945 non-null   float64\n",
      " 7   최저기온시각   3945 non-null   object \n",
      " 8   일교차      3945 non-null   float64\n",
      "dtypes: float64(4), object(5)\n",
      "memory usage: 308.2+ KB\n"
     ]
    }
   ],
   "source": [
    "temperature.info()"
   ]
  },
  {
   "cell_type": "markdown",
   "id": "7624eedc",
   "metadata": {},
   "source": [
    "### 일시 datetime 타입으로 변환"
   ]
  },
  {
   "cell_type": "code",
   "execution_count": 253,
   "id": "95cd29ff",
   "metadata": {},
   "outputs": [],
   "source": [
    "temperature[\"일시\"] = pd.to_datetime(temperature[\"일시\"])"
   ]
  },
  {
   "cell_type": "code",
   "execution_count": 254,
   "id": "b7b6b6a8",
   "metadata": {},
   "outputs": [
    {
     "name": "stdout",
     "output_type": "stream",
     "text": [
      "<class 'pandas.core.frame.DataFrame'>\n",
      "Int64Index: 3945 entries, 0 to 3944\n",
      "Data columns (total 9 columns):\n",
      " #   Column   Non-Null Count  Dtype         \n",
      "---  ------   --------------  -----         \n",
      " 0   지점번호     3945 non-null   object        \n",
      " 1   지점명      3945 non-null   object        \n",
      " 2   일시       3945 non-null   datetime64[ns]\n",
      " 3   평균기온(℃)  3945 non-null   float64       \n",
      " 4   최고기온(℃)  3945 non-null   float64       \n",
      " 5   최고기온시각   3945 non-null   object        \n",
      " 6   최저기온(℃)  3945 non-null   float64       \n",
      " 7   최저기온시각   3945 non-null   object        \n",
      " 8   일교차      3945 non-null   float64       \n",
      "dtypes: datetime64[ns](1), float64(4), object(4)\n",
      "memory usage: 308.2+ KB\n"
     ]
    }
   ],
   "source": [
    "temperature.info()"
   ]
  },
  {
   "cell_type": "markdown",
   "id": "b9aa46ac",
   "metadata": {},
   "source": [
    "## 강수량 데이터 불러오기"
   ]
  },
  {
   "cell_type": "code",
   "execution_count": 255,
   "id": "fb93fa77",
   "metadata": {},
   "outputs": [],
   "source": [
    "rainfall = pd.read_csv(\"../CSV/목포_강수량_utf_8.csv\", header = 11)"
   ]
  },
  {
   "cell_type": "code",
   "execution_count": 256,
   "id": "99ad9fc6",
   "metadata": {},
   "outputs": [
    {
     "data": {
      "text/html": [
       "<div>\n",
       "<style scoped>\n",
       "    .dataframe tbody tr th:only-of-type {\n",
       "        vertical-align: middle;\n",
       "    }\n",
       "\n",
       "    .dataframe tbody tr th {\n",
       "        vertical-align: top;\n",
       "    }\n",
       "\n",
       "    .dataframe thead th {\n",
       "        text-align: right;\n",
       "    }\n",
       "</style>\n",
       "<table border=\"1\" class=\"dataframe\">\n",
       "  <thead>\n",
       "    <tr style=\"text-align: right;\">\n",
       "      <th></th>\n",
       "      <th>\\t지점번호</th>\n",
       "      <th>지점명</th>\n",
       "      <th>일시</th>\n",
       "      <th>강수량(mm)</th>\n",
       "      <th>1시간최다강수량(mm)</th>\n",
       "      <th>1시간최다강수량시각</th>\n",
       "    </tr>\n",
       "  </thead>\n",
       "  <tbody>\n",
       "    <tr>\n",
       "      <th>0</th>\n",
       "      <td>\\t165</td>\n",
       "      <td>목포</td>\n",
       "      <td>2011.1.1</td>\n",
       "      <td>1.3</td>\n",
       "      <td>NaN</td>\n",
       "      <td>NaN</td>\n",
       "    </tr>\n",
       "    <tr>\n",
       "      <th>1</th>\n",
       "      <td>\\t165</td>\n",
       "      <td>목포</td>\n",
       "      <td>2011.1.2</td>\n",
       "      <td>NaN</td>\n",
       "      <td>NaN</td>\n",
       "      <td>NaN</td>\n",
       "    </tr>\n",
       "    <tr>\n",
       "      <th>2</th>\n",
       "      <td>\\t165</td>\n",
       "      <td>목포</td>\n",
       "      <td>2011.1.3</td>\n",
       "      <td>NaN</td>\n",
       "      <td>NaN</td>\n",
       "      <td>NaN</td>\n",
       "    </tr>\n",
       "  </tbody>\n",
       "</table>\n",
       "</div>"
      ],
      "text/plain": [
       "  \\t지점번호 지점명        일시  강수량(mm)  1시간최다강수량(mm) 1시간최다강수량시각\n",
       "0  \\t165  목포  2011.1.1      1.3           NaN        NaN\n",
       "1  \\t165  목포  2011.1.2      NaN           NaN        NaN\n",
       "2  \\t165  목포  2011.1.3      NaN           NaN        NaN"
      ]
     },
     "execution_count": 256,
     "metadata": {},
     "output_type": "execute_result"
    }
   ],
   "source": [
    "rainfall.head(3)"
   ]
  },
  {
   "cell_type": "code",
   "execution_count": 257,
   "id": "a38b7b4a",
   "metadata": {},
   "outputs": [
    {
     "data": {
      "text/plain": [
       "Index(['\\t지점번호', '지점명', '일시', '강수량(mm)', '1시간최다강수량(mm)', '1시간최다강수량시각'], dtype='object')"
      ]
     },
     "execution_count": 257,
     "metadata": {},
     "output_type": "execute_result"
    }
   ],
   "source": [
    "rainfall.columns"
   ]
  },
  {
   "cell_type": "markdown",
   "id": "51a7557f",
   "metadata": {},
   "source": [
    "### 컬럼명 수정"
   ]
  },
  {
   "cell_type": "code",
   "execution_count": 258,
   "id": "ab44ca6a",
   "metadata": {},
   "outputs": [],
   "source": [
    "rainfall.columns = ['지점번호', '지점명', '일시', '강수량(mm)', '1시간최다강수량(mm)', '1시간최다강수량시각']"
   ]
  },
  {
   "cell_type": "code",
   "execution_count": 259,
   "id": "61b7aee7",
   "metadata": {},
   "outputs": [
    {
     "data": {
      "text/html": [
       "<div>\n",
       "<style scoped>\n",
       "    .dataframe tbody tr th:only-of-type {\n",
       "        vertical-align: middle;\n",
       "    }\n",
       "\n",
       "    .dataframe tbody tr th {\n",
       "        vertical-align: top;\n",
       "    }\n",
       "\n",
       "    .dataframe thead th {\n",
       "        text-align: right;\n",
       "    }\n",
       "</style>\n",
       "<table border=\"1\" class=\"dataframe\">\n",
       "  <thead>\n",
       "    <tr style=\"text-align: right;\">\n",
       "      <th></th>\n",
       "      <th>지점번호</th>\n",
       "      <th>지점명</th>\n",
       "      <th>일시</th>\n",
       "      <th>강수량(mm)</th>\n",
       "      <th>1시간최다강수량(mm)</th>\n",
       "      <th>1시간최다강수량시각</th>\n",
       "    </tr>\n",
       "  </thead>\n",
       "  <tbody>\n",
       "    <tr>\n",
       "      <th>0</th>\n",
       "      <td>\\t165</td>\n",
       "      <td>목포</td>\n",
       "      <td>2011.1.1</td>\n",
       "      <td>1.3</td>\n",
       "      <td>NaN</td>\n",
       "      <td>NaN</td>\n",
       "    </tr>\n",
       "    <tr>\n",
       "      <th>1</th>\n",
       "      <td>\\t165</td>\n",
       "      <td>목포</td>\n",
       "      <td>2011.1.2</td>\n",
       "      <td>NaN</td>\n",
       "      <td>NaN</td>\n",
       "      <td>NaN</td>\n",
       "    </tr>\n",
       "    <tr>\n",
       "      <th>2</th>\n",
       "      <td>\\t165</td>\n",
       "      <td>목포</td>\n",
       "      <td>2011.1.3</td>\n",
       "      <td>NaN</td>\n",
       "      <td>NaN</td>\n",
       "      <td>NaN</td>\n",
       "    </tr>\n",
       "  </tbody>\n",
       "</table>\n",
       "</div>"
      ],
      "text/plain": [
       "    지점번호 지점명        일시  강수량(mm)  1시간최다강수량(mm) 1시간최다강수량시각\n",
       "0  \\t165  목포  2011.1.1      1.3           NaN        NaN\n",
       "1  \\t165  목포  2011.1.2      NaN           NaN        NaN\n",
       "2  \\t165  목포  2011.1.3      NaN           NaN        NaN"
      ]
     },
     "execution_count": 259,
     "metadata": {},
     "output_type": "execute_result"
    }
   ],
   "source": [
    "rainfall.head(3)"
   ]
  },
  {
   "cell_type": "markdown",
   "id": "5e726bdc",
   "metadata": {},
   "source": [
    "### 결측치 확인"
   ]
  },
  {
   "cell_type": "code",
   "execution_count": 260,
   "id": "2bbe3de8",
   "metadata": {},
   "outputs": [
    {
     "name": "stdout",
     "output_type": "stream",
     "text": [
      "<class 'pandas.core.frame.DataFrame'>\n",
      "RangeIndex: 3951 entries, 0 to 3950\n",
      "Data columns (total 6 columns):\n",
      " #   Column        Non-Null Count  Dtype  \n",
      "---  ------        --------------  -----  \n",
      " 0   지점번호          3951 non-null   object \n",
      " 1   지점명           3945 non-null   object \n",
      " 2   일시            3945 non-null   object \n",
      " 3   강수량(mm)       1583 non-null   float64\n",
      " 4   1시간최다강수량(mm)  887 non-null    float64\n",
      " 5   1시간최다강수량시각    632 non-null    object \n",
      "dtypes: float64(2), object(4)\n",
      "memory usage: 185.3+ KB\n"
     ]
    }
   ],
   "source": [
    "rainfall.info()"
   ]
  },
  {
   "cell_type": "markdown",
   "id": "f555c463",
   "metadata": {},
   "source": [
    "### 일시 기준으로 결측치 제거"
   ]
  },
  {
   "cell_type": "code",
   "execution_count": 261,
   "id": "ee4337b2",
   "metadata": {},
   "outputs": [],
   "source": [
    "rainfall.dropna(subset = [\"일시\"], axis = 0, inplace = True)"
   ]
  },
  {
   "cell_type": "code",
   "execution_count": 262,
   "id": "d787f9da",
   "metadata": {},
   "outputs": [
    {
     "name": "stdout",
     "output_type": "stream",
     "text": [
      "<class 'pandas.core.frame.DataFrame'>\n",
      "Int64Index: 3945 entries, 0 to 3944\n",
      "Data columns (total 6 columns):\n",
      " #   Column        Non-Null Count  Dtype  \n",
      "---  ------        --------------  -----  \n",
      " 0   지점번호          3945 non-null   object \n",
      " 1   지점명           3945 non-null   object \n",
      " 2   일시            3945 non-null   object \n",
      " 3   강수량(mm)       1583 non-null   float64\n",
      " 4   1시간최다강수량(mm)  887 non-null    float64\n",
      " 5   1시간최다강수량시각    632 non-null    object \n",
      "dtypes: float64(2), object(4)\n",
      "memory usage: 215.7+ KB\n"
     ]
    }
   ],
   "source": [
    "rainfall.info()"
   ]
  },
  {
   "cell_type": "markdown",
   "id": "9881a43f",
   "metadata": {},
   "source": [
    "### 결측치 0으로 대체"
   ]
  },
  {
   "cell_type": "code",
   "execution_count": 263,
   "id": "a11643ae",
   "metadata": {},
   "outputs": [],
   "source": [
    "rainfall.fillna(0, inplace = True)"
   ]
  },
  {
   "cell_type": "code",
   "execution_count": 264,
   "id": "6d1c8b7b",
   "metadata": {},
   "outputs": [
    {
     "name": "stdout",
     "output_type": "stream",
     "text": [
      "<class 'pandas.core.frame.DataFrame'>\n",
      "Int64Index: 3945 entries, 0 to 3944\n",
      "Data columns (total 6 columns):\n",
      " #   Column        Non-Null Count  Dtype  \n",
      "---  ------        --------------  -----  \n",
      " 0   지점번호          3945 non-null   object \n",
      " 1   지점명           3945 non-null   object \n",
      " 2   일시            3945 non-null   object \n",
      " 3   강수량(mm)       3945 non-null   float64\n",
      " 4   1시간최다강수량(mm)  3945 non-null   float64\n",
      " 5   1시간최다강수량시각    3945 non-null   object \n",
      "dtypes: float64(2), object(4)\n",
      "memory usage: 215.7+ KB\n"
     ]
    }
   ],
   "source": [
    "rainfall.info()"
   ]
  },
  {
   "cell_type": "markdown",
   "id": "38908476",
   "metadata": {},
   "source": [
    "### 일시 datetime 타입으로 변환"
   ]
  },
  {
   "cell_type": "code",
   "execution_count": 265,
   "id": "c548fd0f",
   "metadata": {},
   "outputs": [],
   "source": [
    "rainfall[\"일시\"] = pd.to_datetime(rainfall[\"일시\"])"
   ]
  },
  {
   "cell_type": "code",
   "execution_count": 266,
   "id": "5461c629",
   "metadata": {},
   "outputs": [
    {
     "name": "stdout",
     "output_type": "stream",
     "text": [
      "<class 'pandas.core.frame.DataFrame'>\n",
      "Int64Index: 3945 entries, 0 to 3944\n",
      "Data columns (total 6 columns):\n",
      " #   Column        Non-Null Count  Dtype         \n",
      "---  ------        --------------  -----         \n",
      " 0   지점번호          3945 non-null   object        \n",
      " 1   지점명           3945 non-null   object        \n",
      " 2   일시            3945 non-null   datetime64[ns]\n",
      " 3   강수량(mm)       3945 non-null   float64       \n",
      " 4   1시간최다강수량(mm)  3945 non-null   float64       \n",
      " 5   1시간최다강수량시각    3945 non-null   object        \n",
      "dtypes: datetime64[ns](1), float64(2), object(3)\n",
      "memory usage: 215.7+ KB\n"
     ]
    }
   ],
   "source": [
    "rainfall.info()"
   ]
  },
  {
   "cell_type": "markdown",
   "id": "031f9012",
   "metadata": {},
   "source": [
    "### 지점번호, 지점명 컬럼 삭제"
   ]
  },
  {
   "cell_type": "code",
   "execution_count": 267,
   "id": "7681ee3d",
   "metadata": {},
   "outputs": [],
   "source": [
    "rainfall.drop([\"지점번호\", \"지점명\"], axis = 1, inplace = True)"
   ]
  },
  {
   "cell_type": "code",
   "execution_count": 268,
   "id": "c02394f2",
   "metadata": {},
   "outputs": [
    {
     "name": "stdout",
     "output_type": "stream",
     "text": [
      "<class 'pandas.core.frame.DataFrame'>\n",
      "Int64Index: 3945 entries, 0 to 3944\n",
      "Data columns (total 4 columns):\n",
      " #   Column        Non-Null Count  Dtype         \n",
      "---  ------        --------------  -----         \n",
      " 0   일시            3945 non-null   datetime64[ns]\n",
      " 1   강수량(mm)       3945 non-null   float64       \n",
      " 2   1시간최다강수량(mm)  3945 non-null   float64       \n",
      " 3   1시간최다강수량시각    3945 non-null   object        \n",
      "dtypes: datetime64[ns](1), float64(2), object(1)\n",
      "memory usage: 154.1+ KB\n"
     ]
    }
   ],
   "source": [
    "rainfall.info()"
   ]
  },
  {
   "cell_type": "markdown",
   "id": "90587221",
   "metadata": {},
   "source": [
    "## 바람 데이터 불러오기"
   ]
  },
  {
   "cell_type": "code",
   "execution_count": 269,
   "id": "ab4cd619",
   "metadata": {},
   "outputs": [],
   "source": [
    "wind = pd.read_csv(\"../CSV/목포_바람_utf_8.csv\", header = 14)"
   ]
  },
  {
   "cell_type": "code",
   "execution_count": 270,
   "id": "c7105e93",
   "metadata": {},
   "outputs": [
    {
     "data": {
      "text/html": [
       "<div>\n",
       "<style scoped>\n",
       "    .dataframe tbody tr th:only-of-type {\n",
       "        vertical-align: middle;\n",
       "    }\n",
       "\n",
       "    .dataframe tbody tr th {\n",
       "        vertical-align: top;\n",
       "    }\n",
       "\n",
       "    .dataframe thead th {\n",
       "        text-align: right;\n",
       "    }\n",
       "</style>\n",
       "<table border=\"1\" class=\"dataframe\">\n",
       "  <thead>\n",
       "    <tr style=\"text-align: right;\">\n",
       "      <th></th>\n",
       "      <th>\\t\\t지점번호</th>\n",
       "      <th>지점명</th>\n",
       "      <th>일시</th>\n",
       "      <th>평균풍속(m/s)</th>\n",
       "      <th>최대풍속(m/s)</th>\n",
       "      <th>최대풍속풍향(deg)</th>\n",
       "      <th>\\t최대풍속시각</th>\n",
       "      <th>최대순간풍속(m/s)</th>\n",
       "      <th>최대순간풍속풍향(deg)</th>\n",
       "      <th>\\t최대순간풍속시각</th>\n",
       "    </tr>\n",
       "  </thead>\n",
       "  <tbody>\n",
       "    <tr>\n",
       "      <th>0</th>\n",
       "      <td>\\t\\t165</td>\n",
       "      <td>목포</td>\n",
       "      <td>2011.1.1</td>\n",
       "      <td>2.1</td>\n",
       "      <td>6.6</td>\n",
       "      <td>360.0</td>\n",
       "      <td>13:25</td>\n",
       "      <td>9.9</td>\n",
       "      <td>20.0</td>\n",
       "      <td>15:22</td>\n",
       "    </tr>\n",
       "    <tr>\n",
       "      <th>1</th>\n",
       "      <td>\\t\\t165</td>\n",
       "      <td>목포</td>\n",
       "      <td>2011.1.2</td>\n",
       "      <td>2.2</td>\n",
       "      <td>7.8</td>\n",
       "      <td>360.0</td>\n",
       "      <td>15:36</td>\n",
       "      <td>11.2</td>\n",
       "      <td>360.0</td>\n",
       "      <td>15:28</td>\n",
       "    </tr>\n",
       "    <tr>\n",
       "      <th>2</th>\n",
       "      <td>\\t\\t165</td>\n",
       "      <td>목포</td>\n",
       "      <td>2011.1.3</td>\n",
       "      <td>2.9</td>\n",
       "      <td>6.5</td>\n",
       "      <td>360.0</td>\n",
       "      <td>15:14</td>\n",
       "      <td>8.9</td>\n",
       "      <td>360.0</td>\n",
       "      <td>15:13</td>\n",
       "    </tr>\n",
       "  </tbody>\n",
       "</table>\n",
       "</div>"
      ],
      "text/plain": [
       "  \\t\\t지점번호 지점명        일시  평균풍속(m/s)  최대풍속(m/s)  최대풍속풍향(deg) \\t최대풍속시각  \\\n",
       "0  \\t\\t165  목포  2011.1.1        2.1        6.6        360.0    13:25   \n",
       "1  \\t\\t165  목포  2011.1.2        2.2        7.8        360.0    15:36   \n",
       "2  \\t\\t165  목포  2011.1.3        2.9        6.5        360.0    15:14   \n",
       "\n",
       "   최대순간풍속(m/s)  최대순간풍속풍향(deg) \\t최대순간풍속시각  \n",
       "0          9.9           20.0      15:22  \n",
       "1         11.2          360.0      15:28  \n",
       "2          8.9          360.0      15:13  "
      ]
     },
     "execution_count": 270,
     "metadata": {},
     "output_type": "execute_result"
    }
   ],
   "source": [
    "wind.head(3)"
   ]
  },
  {
   "cell_type": "code",
   "execution_count": 271,
   "id": "42b4c4bf",
   "metadata": {},
   "outputs": [
    {
     "data": {
      "text/plain": [
       "Index(['\\t\\t지점번호', '지점명', '일시', '평균풍속(m/s)', '최대풍속(m/s)', '최대풍속풍향(deg)',\n",
       "       '\\t최대풍속시각', '최대순간풍속(m/s)', '최대순간풍속풍향(deg)', '\\t최대순간풍속시각'],\n",
       "      dtype='object')"
      ]
     },
     "execution_count": 271,
     "metadata": {},
     "output_type": "execute_result"
    }
   ],
   "source": [
    "wind.columns"
   ]
  },
  {
   "cell_type": "markdown",
   "id": "75bd43c6",
   "metadata": {},
   "source": [
    "### 컬럼명 수정"
   ]
  },
  {
   "cell_type": "code",
   "execution_count": 272,
   "id": "7ce3099d",
   "metadata": {},
   "outputs": [],
   "source": [
    "wind.columns = ['지점번호', '지점명', '일시', '평균풍속(m/s)', '최대풍속(m/s)', '최대풍속풍향(deg)',\n",
    "       '최대풍속시각', '최대순간풍속(m/s)', '최대순간풍속풍향(deg)', '최대순간풍속시각']"
   ]
  },
  {
   "cell_type": "code",
   "execution_count": 273,
   "id": "6c82c8a5",
   "metadata": {},
   "outputs": [
    {
     "data": {
      "text/html": [
       "<div>\n",
       "<style scoped>\n",
       "    .dataframe tbody tr th:only-of-type {\n",
       "        vertical-align: middle;\n",
       "    }\n",
       "\n",
       "    .dataframe tbody tr th {\n",
       "        vertical-align: top;\n",
       "    }\n",
       "\n",
       "    .dataframe thead th {\n",
       "        text-align: right;\n",
       "    }\n",
       "</style>\n",
       "<table border=\"1\" class=\"dataframe\">\n",
       "  <thead>\n",
       "    <tr style=\"text-align: right;\">\n",
       "      <th></th>\n",
       "      <th>지점번호</th>\n",
       "      <th>지점명</th>\n",
       "      <th>일시</th>\n",
       "      <th>평균풍속(m/s)</th>\n",
       "      <th>최대풍속(m/s)</th>\n",
       "      <th>최대풍속풍향(deg)</th>\n",
       "      <th>최대풍속시각</th>\n",
       "      <th>최대순간풍속(m/s)</th>\n",
       "      <th>최대순간풍속풍향(deg)</th>\n",
       "      <th>최대순간풍속시각</th>\n",
       "    </tr>\n",
       "  </thead>\n",
       "  <tbody>\n",
       "    <tr>\n",
       "      <th>0</th>\n",
       "      <td>\\t\\t165</td>\n",
       "      <td>목포</td>\n",
       "      <td>2011.1.1</td>\n",
       "      <td>2.1</td>\n",
       "      <td>6.6</td>\n",
       "      <td>360.0</td>\n",
       "      <td>13:25</td>\n",
       "      <td>9.9</td>\n",
       "      <td>20.0</td>\n",
       "      <td>15:22</td>\n",
       "    </tr>\n",
       "    <tr>\n",
       "      <th>1</th>\n",
       "      <td>\\t\\t165</td>\n",
       "      <td>목포</td>\n",
       "      <td>2011.1.2</td>\n",
       "      <td>2.2</td>\n",
       "      <td>7.8</td>\n",
       "      <td>360.0</td>\n",
       "      <td>15:36</td>\n",
       "      <td>11.2</td>\n",
       "      <td>360.0</td>\n",
       "      <td>15:28</td>\n",
       "    </tr>\n",
       "    <tr>\n",
       "      <th>2</th>\n",
       "      <td>\\t\\t165</td>\n",
       "      <td>목포</td>\n",
       "      <td>2011.1.3</td>\n",
       "      <td>2.9</td>\n",
       "      <td>6.5</td>\n",
       "      <td>360.0</td>\n",
       "      <td>15:14</td>\n",
       "      <td>8.9</td>\n",
       "      <td>360.0</td>\n",
       "      <td>15:13</td>\n",
       "    </tr>\n",
       "  </tbody>\n",
       "</table>\n",
       "</div>"
      ],
      "text/plain": [
       "      지점번호 지점명        일시  평균풍속(m/s)  최대풍속(m/s)  최대풍속풍향(deg) 최대풍속시각  \\\n",
       "0  \\t\\t165  목포  2011.1.1        2.1        6.6        360.0  13:25   \n",
       "1  \\t\\t165  목포  2011.1.2        2.2        7.8        360.0  15:36   \n",
       "2  \\t\\t165  목포  2011.1.3        2.9        6.5        360.0  15:14   \n",
       "\n",
       "   최대순간풍속(m/s)  최대순간풍속풍향(deg) 최대순간풍속시각  \n",
       "0          9.9           20.0    15:22  \n",
       "1         11.2          360.0    15:28  \n",
       "2          8.9          360.0    15:13  "
      ]
     },
     "execution_count": 273,
     "metadata": {},
     "output_type": "execute_result"
    }
   ],
   "source": [
    "wind.head(3)"
   ]
  },
  {
   "cell_type": "markdown",
   "id": "f3348855",
   "metadata": {},
   "source": [
    "### 결측치 확인"
   ]
  },
  {
   "cell_type": "code",
   "execution_count": 274,
   "id": "26b1e454",
   "metadata": {},
   "outputs": [
    {
     "name": "stdout",
     "output_type": "stream",
     "text": [
      "<class 'pandas.core.frame.DataFrame'>\n",
      "RangeIndex: 3949 entries, 0 to 3948\n",
      "Data columns (total 10 columns):\n",
      " #   Column         Non-Null Count  Dtype  \n",
      "---  ------         --------------  -----  \n",
      " 0   지점번호           3949 non-null   object \n",
      " 1   지점명            3945 non-null   object \n",
      " 2   일시             3945 non-null   object \n",
      " 3   평균풍속(m/s)      3945 non-null   float64\n",
      " 4   최대풍속(m/s)      3945 non-null   float64\n",
      " 5   최대풍속풍향(deg)    3945 non-null   float64\n",
      " 6   최대풍속시각         3945 non-null   object \n",
      " 7   최대순간풍속(m/s)    3945 non-null   float64\n",
      " 8   최대순간풍속풍향(deg)  3945 non-null   float64\n",
      " 9   최대순간풍속시각       3945 non-null   object \n",
      "dtypes: float64(5), object(5)\n",
      "memory usage: 308.6+ KB\n"
     ]
    }
   ],
   "source": [
    "wind.info()"
   ]
  },
  {
   "cell_type": "markdown",
   "id": "eeda7770",
   "metadata": {},
   "source": [
    "### 일시 기준으로 결측치 제거"
   ]
  },
  {
   "cell_type": "code",
   "execution_count": 275,
   "id": "09c5cac2",
   "metadata": {},
   "outputs": [],
   "source": [
    "wind.dropna(subset = [\"일시\"], axis = 0, inplace = True)"
   ]
  },
  {
   "cell_type": "code",
   "execution_count": 276,
   "id": "82031ec6",
   "metadata": {},
   "outputs": [
    {
     "name": "stdout",
     "output_type": "stream",
     "text": [
      "<class 'pandas.core.frame.DataFrame'>\n",
      "Int64Index: 3945 entries, 0 to 3944\n",
      "Data columns (total 10 columns):\n",
      " #   Column         Non-Null Count  Dtype  \n",
      "---  ------         --------------  -----  \n",
      " 0   지점번호           3945 non-null   object \n",
      " 1   지점명            3945 non-null   object \n",
      " 2   일시             3945 non-null   object \n",
      " 3   평균풍속(m/s)      3945 non-null   float64\n",
      " 4   최대풍속(m/s)      3945 non-null   float64\n",
      " 5   최대풍속풍향(deg)    3945 non-null   float64\n",
      " 6   최대풍속시각         3945 non-null   object \n",
      " 7   최대순간풍속(m/s)    3945 non-null   float64\n",
      " 8   최대순간풍속풍향(deg)  3945 non-null   float64\n",
      " 9   최대순간풍속시각       3945 non-null   object \n",
      "dtypes: float64(5), object(5)\n",
      "memory usage: 339.0+ KB\n"
     ]
    }
   ],
   "source": [
    "wind.info()"
   ]
  },
  {
   "cell_type": "markdown",
   "id": "9045a764",
   "metadata": {},
   "source": [
    "### 일시 datetime 타입으로 변환"
   ]
  },
  {
   "cell_type": "code",
   "execution_count": 277,
   "id": "29e64919",
   "metadata": {},
   "outputs": [],
   "source": [
    "wind[\"일시\"] = pd.to_datetime(wind[\"일시\"])"
   ]
  },
  {
   "cell_type": "code",
   "execution_count": 278,
   "id": "b470e924",
   "metadata": {},
   "outputs": [
    {
     "name": "stdout",
     "output_type": "stream",
     "text": [
      "<class 'pandas.core.frame.DataFrame'>\n",
      "Int64Index: 3945 entries, 0 to 3944\n",
      "Data columns (total 10 columns):\n",
      " #   Column         Non-Null Count  Dtype         \n",
      "---  ------         --------------  -----         \n",
      " 0   지점번호           3945 non-null   object        \n",
      " 1   지점명            3945 non-null   object        \n",
      " 2   일시             3945 non-null   datetime64[ns]\n",
      " 3   평균풍속(m/s)      3945 non-null   float64       \n",
      " 4   최대풍속(m/s)      3945 non-null   float64       \n",
      " 5   최대풍속풍향(deg)    3945 non-null   float64       \n",
      " 6   최대풍속시각         3945 non-null   object        \n",
      " 7   최대순간풍속(m/s)    3945 non-null   float64       \n",
      " 8   최대순간풍속풍향(deg)  3945 non-null   float64       \n",
      " 9   최대순간풍속시각       3945 non-null   object        \n",
      "dtypes: datetime64[ns](1), float64(5), object(4)\n",
      "memory usage: 339.0+ KB\n"
     ]
    }
   ],
   "source": [
    "wind.info()"
   ]
  },
  {
   "cell_type": "markdown",
   "id": "f3710b39",
   "metadata": {},
   "source": [
    "### 지점번호, 지점명 컬럼 삭제"
   ]
  },
  {
   "cell_type": "code",
   "execution_count": 279,
   "id": "0923c3a6",
   "metadata": {},
   "outputs": [],
   "source": [
    "wind.drop([\"지점번호\", \"지점명\"], axis = 1, inplace = True)"
   ]
  },
  {
   "cell_type": "code",
   "execution_count": 280,
   "id": "de547e3e",
   "metadata": {},
   "outputs": [
    {
     "name": "stdout",
     "output_type": "stream",
     "text": [
      "<class 'pandas.core.frame.DataFrame'>\n",
      "Int64Index: 3945 entries, 0 to 3944\n",
      "Data columns (total 8 columns):\n",
      " #   Column         Non-Null Count  Dtype         \n",
      "---  ------         --------------  -----         \n",
      " 0   일시             3945 non-null   datetime64[ns]\n",
      " 1   평균풍속(m/s)      3945 non-null   float64       \n",
      " 2   최대풍속(m/s)      3945 non-null   float64       \n",
      " 3   최대풍속풍향(deg)    3945 non-null   float64       \n",
      " 4   최대풍속시각         3945 non-null   object        \n",
      " 5   최대순간풍속(m/s)    3945 non-null   float64       \n",
      " 6   최대순간풍속풍향(deg)  3945 non-null   float64       \n",
      " 7   최대순간풍속시각       3945 non-null   object        \n",
      "dtypes: datetime64[ns](1), float64(5), object(2)\n",
      "memory usage: 277.4+ KB\n"
     ]
    }
   ],
   "source": [
    "wind.info()"
   ]
  },
  {
   "cell_type": "markdown",
   "id": "e02ffe3a",
   "metadata": {},
   "source": [
    "## 습도 데이터 불러오기"
   ]
  },
  {
   "cell_type": "code",
   "execution_count": 281,
   "id": "a4280865",
   "metadata": {},
   "outputs": [],
   "source": [
    "humidity = pd.read_csv(\"../CSV/목포_습도_utf_8.csv\", header = 15)"
   ]
  },
  {
   "cell_type": "code",
   "execution_count": 282,
   "id": "0f35f2d0",
   "metadata": {},
   "outputs": [
    {
     "data": {
      "text/html": [
       "<div>\n",
       "<style scoped>\n",
       "    .dataframe tbody tr th:only-of-type {\n",
       "        vertical-align: middle;\n",
       "    }\n",
       "\n",
       "    .dataframe tbody tr th {\n",
       "        vertical-align: top;\n",
       "    }\n",
       "\n",
       "    .dataframe thead th {\n",
       "        text-align: right;\n",
       "    }\n",
       "</style>\n",
       "<table border=\"1\" class=\"dataframe\">\n",
       "  <thead>\n",
       "    <tr style=\"text-align: right;\">\n",
       "      <th></th>\n",
       "      <th>\\t\\t지점번호</th>\n",
       "      <th>지점명</th>\n",
       "      <th>일시</th>\n",
       "      <th>평균습도(%rh)</th>\n",
       "      <th>최저습도(%rh)</th>\n",
       "    </tr>\n",
       "  </thead>\n",
       "  <tbody>\n",
       "    <tr>\n",
       "      <th>0</th>\n",
       "      <td>\\t\\t165</td>\n",
       "      <td>목포</td>\n",
       "      <td>2011.1.1</td>\n",
       "      <td>91.6</td>\n",
       "      <td>77.0</td>\n",
       "    </tr>\n",
       "    <tr>\n",
       "      <th>1</th>\n",
       "      <td>\\t\\t165</td>\n",
       "      <td>목포</td>\n",
       "      <td>2011.1.2</td>\n",
       "      <td>86.6</td>\n",
       "      <td>61.0</td>\n",
       "    </tr>\n",
       "    <tr>\n",
       "      <th>2</th>\n",
       "      <td>\\t\\t165</td>\n",
       "      <td>목포</td>\n",
       "      <td>2011.1.3</td>\n",
       "      <td>81.4</td>\n",
       "      <td>61.0</td>\n",
       "    </tr>\n",
       "  </tbody>\n",
       "</table>\n",
       "</div>"
      ],
      "text/plain": [
       "  \\t\\t지점번호 지점명        일시  평균습도(%rh)  최저습도(%rh)\n",
       "0  \\t\\t165  목포  2011.1.1       91.6       77.0\n",
       "1  \\t\\t165  목포  2011.1.2       86.6       61.0\n",
       "2  \\t\\t165  목포  2011.1.3       81.4       61.0"
      ]
     },
     "execution_count": 282,
     "metadata": {},
     "output_type": "execute_result"
    }
   ],
   "source": [
    "humidity.head(3)"
   ]
  },
  {
   "cell_type": "code",
   "execution_count": 283,
   "id": "71e8ae58",
   "metadata": {},
   "outputs": [
    {
     "data": {
      "text/plain": [
       "Index(['\\t\\t지점번호', '지점명', '일시', '평균습도(%rh)', '최저습도(%rh)'], dtype='object')"
      ]
     },
     "execution_count": 283,
     "metadata": {},
     "output_type": "execute_result"
    }
   ],
   "source": [
    "humidity.columns"
   ]
  },
  {
   "cell_type": "markdown",
   "id": "6fac916c",
   "metadata": {},
   "source": [
    "### 컬럼명 수정"
   ]
  },
  {
   "cell_type": "code",
   "execution_count": 284,
   "id": "1ad09168",
   "metadata": {},
   "outputs": [],
   "source": [
    "humidity.columns = ['지점번호', '지점명', '일시', '평균습도(%rh)', '최저습도(%rh)']"
   ]
  },
  {
   "cell_type": "code",
   "execution_count": 285,
   "id": "fb772ef7",
   "metadata": {},
   "outputs": [
    {
     "data": {
      "text/html": [
       "<div>\n",
       "<style scoped>\n",
       "    .dataframe tbody tr th:only-of-type {\n",
       "        vertical-align: middle;\n",
       "    }\n",
       "\n",
       "    .dataframe tbody tr th {\n",
       "        vertical-align: top;\n",
       "    }\n",
       "\n",
       "    .dataframe thead th {\n",
       "        text-align: right;\n",
       "    }\n",
       "</style>\n",
       "<table border=\"1\" class=\"dataframe\">\n",
       "  <thead>\n",
       "    <tr style=\"text-align: right;\">\n",
       "      <th></th>\n",
       "      <th>지점번호</th>\n",
       "      <th>지점명</th>\n",
       "      <th>일시</th>\n",
       "      <th>평균습도(%rh)</th>\n",
       "      <th>최저습도(%rh)</th>\n",
       "    </tr>\n",
       "  </thead>\n",
       "  <tbody>\n",
       "    <tr>\n",
       "      <th>0</th>\n",
       "      <td>\\t\\t165</td>\n",
       "      <td>목포</td>\n",
       "      <td>2011.1.1</td>\n",
       "      <td>91.6</td>\n",
       "      <td>77.0</td>\n",
       "    </tr>\n",
       "    <tr>\n",
       "      <th>1</th>\n",
       "      <td>\\t\\t165</td>\n",
       "      <td>목포</td>\n",
       "      <td>2011.1.2</td>\n",
       "      <td>86.6</td>\n",
       "      <td>61.0</td>\n",
       "    </tr>\n",
       "    <tr>\n",
       "      <th>2</th>\n",
       "      <td>\\t\\t165</td>\n",
       "      <td>목포</td>\n",
       "      <td>2011.1.3</td>\n",
       "      <td>81.4</td>\n",
       "      <td>61.0</td>\n",
       "    </tr>\n",
       "  </tbody>\n",
       "</table>\n",
       "</div>"
      ],
      "text/plain": [
       "      지점번호 지점명        일시  평균습도(%rh)  최저습도(%rh)\n",
       "0  \\t\\t165  목포  2011.1.1       91.6       77.0\n",
       "1  \\t\\t165  목포  2011.1.2       86.6       61.0\n",
       "2  \\t\\t165  목포  2011.1.3       81.4       61.0"
      ]
     },
     "execution_count": 285,
     "metadata": {},
     "output_type": "execute_result"
    }
   ],
   "source": [
    "humidity.head(3)"
   ]
  },
  {
   "cell_type": "markdown",
   "id": "8160682a",
   "metadata": {},
   "source": [
    "### 결측치 확인"
   ]
  },
  {
   "cell_type": "code",
   "execution_count": 286,
   "id": "7f7f469f",
   "metadata": {},
   "outputs": [
    {
     "name": "stdout",
     "output_type": "stream",
     "text": [
      "<class 'pandas.core.frame.DataFrame'>\n",
      "RangeIndex: 3948 entries, 0 to 3947\n",
      "Data columns (total 5 columns):\n",
      " #   Column     Non-Null Count  Dtype  \n",
      "---  ------     --------------  -----  \n",
      " 0   지점번호       3948 non-null   object \n",
      " 1   지점명        3945 non-null   object \n",
      " 2   일시         3945 non-null   object \n",
      " 3   평균습도(%rh)  3943 non-null   float64\n",
      " 4   최저습도(%rh)  3945 non-null   float64\n",
      "dtypes: float64(2), object(3)\n",
      "memory usage: 154.3+ KB\n"
     ]
    }
   ],
   "source": [
    "humidity.info()"
   ]
  },
  {
   "cell_type": "markdown",
   "id": "b0f57645",
   "metadata": {},
   "source": [
    "### 일시 기준으로 결측치 제거"
   ]
  },
  {
   "cell_type": "code",
   "execution_count": 287,
   "id": "e3381b2e",
   "metadata": {},
   "outputs": [],
   "source": [
    "humidity.dropna(subset = [\"일시\"], axis = 0, inplace = True)"
   ]
  },
  {
   "cell_type": "code",
   "execution_count": 288,
   "id": "04074e92",
   "metadata": {},
   "outputs": [
    {
     "name": "stdout",
     "output_type": "stream",
     "text": [
      "<class 'pandas.core.frame.DataFrame'>\n",
      "Int64Index: 3945 entries, 0 to 3944\n",
      "Data columns (total 5 columns):\n",
      " #   Column     Non-Null Count  Dtype  \n",
      "---  ------     --------------  -----  \n",
      " 0   지점번호       3945 non-null   object \n",
      " 1   지점명        3945 non-null   object \n",
      " 2   일시         3945 non-null   object \n",
      " 3   평균습도(%rh)  3943 non-null   float64\n",
      " 4   최저습도(%rh)  3945 non-null   float64\n",
      "dtypes: float64(2), object(3)\n",
      "memory usage: 184.9+ KB\n"
     ]
    }
   ],
   "source": [
    "humidity.info()"
   ]
  },
  {
   "cell_type": "markdown",
   "id": "f3e7a910",
   "metadata": {},
   "source": [
    "### 앞의 데이터로 결측치 대체"
   ]
  },
  {
   "cell_type": "code",
   "execution_count": 289,
   "id": "4676b6ec",
   "metadata": {},
   "outputs": [],
   "source": [
    "### 결측치 0으로 대체\n",
    "# humidity.fillna(0, inplace = True)\n",
    "humidity.fillna(method = \"ffill\", inplace = True)"
   ]
  },
  {
   "cell_type": "code",
   "execution_count": 290,
   "id": "47edfb56",
   "metadata": {},
   "outputs": [
    {
     "name": "stdout",
     "output_type": "stream",
     "text": [
      "<class 'pandas.core.frame.DataFrame'>\n",
      "Int64Index: 3945 entries, 0 to 3944\n",
      "Data columns (total 5 columns):\n",
      " #   Column     Non-Null Count  Dtype  \n",
      "---  ------     --------------  -----  \n",
      " 0   지점번호       3945 non-null   object \n",
      " 1   지점명        3945 non-null   object \n",
      " 2   일시         3945 non-null   object \n",
      " 3   평균습도(%rh)  3945 non-null   float64\n",
      " 4   최저습도(%rh)  3945 non-null   float64\n",
      "dtypes: float64(2), object(3)\n",
      "memory usage: 184.9+ KB\n"
     ]
    }
   ],
   "source": [
    "humidity.info()"
   ]
  },
  {
   "cell_type": "markdown",
   "id": "a668e43d",
   "metadata": {},
   "source": [
    "### 일시 datetime 타입으로 변환"
   ]
  },
  {
   "cell_type": "code",
   "execution_count": 291,
   "id": "ef965aa7",
   "metadata": {},
   "outputs": [],
   "source": [
    "humidity[\"일시\"] = pd.to_datetime(humidity[\"일시\"])"
   ]
  },
  {
   "cell_type": "code",
   "execution_count": 292,
   "id": "546c0526",
   "metadata": {},
   "outputs": [
    {
     "name": "stdout",
     "output_type": "stream",
     "text": [
      "<class 'pandas.core.frame.DataFrame'>\n",
      "Int64Index: 3945 entries, 0 to 3944\n",
      "Data columns (total 5 columns):\n",
      " #   Column     Non-Null Count  Dtype         \n",
      "---  ------     --------------  -----         \n",
      " 0   지점번호       3945 non-null   object        \n",
      " 1   지점명        3945 non-null   object        \n",
      " 2   일시         3945 non-null   datetime64[ns]\n",
      " 3   평균습도(%rh)  3945 non-null   float64       \n",
      " 4   최저습도(%rh)  3945 non-null   float64       \n",
      "dtypes: datetime64[ns](1), float64(2), object(2)\n",
      "memory usage: 184.9+ KB\n"
     ]
    }
   ],
   "source": [
    "humidity.info()"
   ]
  },
  {
   "cell_type": "markdown",
   "id": "cdd53c71",
   "metadata": {},
   "source": [
    "### 지점번호, 지점명 컬럼 삭제"
   ]
  },
  {
   "cell_type": "code",
   "execution_count": 293,
   "id": "6c052e6d",
   "metadata": {},
   "outputs": [],
   "source": [
    "humidity.drop([\"지점번호\", \"지점명\"], axis = 1, inplace = True)"
   ]
  },
  {
   "cell_type": "code",
   "execution_count": 294,
   "id": "3e120f1f",
   "metadata": {},
   "outputs": [
    {
     "name": "stdout",
     "output_type": "stream",
     "text": [
      "<class 'pandas.core.frame.DataFrame'>\n",
      "Int64Index: 3945 entries, 0 to 3944\n",
      "Data columns (total 3 columns):\n",
      " #   Column     Non-Null Count  Dtype         \n",
      "---  ------     --------------  -----         \n",
      " 0   일시         3945 non-null   datetime64[ns]\n",
      " 1   평균습도(%rh)  3945 non-null   float64       \n",
      " 2   최저습도(%rh)  3945 non-null   float64       \n",
      "dtypes: datetime64[ns](1), float64(2)\n",
      "memory usage: 123.3 KB\n"
     ]
    }
   ],
   "source": [
    "humidity.info()"
   ]
  },
  {
   "cell_type": "markdown",
   "id": "43429022",
   "metadata": {},
   "source": [
    "### data shape 확인"
   ]
  },
  {
   "cell_type": "code",
   "execution_count": 295,
   "id": "102fdda4",
   "metadata": {},
   "outputs": [
    {
     "name": "stdout",
     "output_type": "stream",
     "text": [
      "temperature shape : (3945, 9)\n",
      "rainfall shape : (3945, 4)\n",
      "wind shape : (3945, 8)\n",
      "humidity shape : (3945, 3)\n"
     ]
    }
   ],
   "source": [
    "print(\"temperature shape : {}\".format(temperature.shape))\n",
    "print(\"rainfall shape : {}\".format(rainfall.shape))\n",
    "print(\"wind shape : {}\".format(wind.shape))\n",
    "print(\"humidity shape : {}\".format(humidity.shape))"
   ]
  },
  {
   "cell_type": "markdown",
   "id": "d1a49d85",
   "metadata": {},
   "source": [
    "## temperature, rainfall, wind, humidity merge"
   ]
  },
  {
   "cell_type": "code",
   "execution_count": 296,
   "id": "78681bfe",
   "metadata": {},
   "outputs": [],
   "source": [
    "data_merge = pd.merge(temperature, rainfall, on = \"일시\")"
   ]
  },
  {
   "cell_type": "code",
   "execution_count": 300,
   "id": "dc34bc2a",
   "metadata": {},
   "outputs": [],
   "source": [
    "data_merge = data_merge.merge(wind, on = \"일시\")"
   ]
  },
  {
   "cell_type": "code",
   "execution_count": 304,
   "id": "bac9b08d",
   "metadata": {},
   "outputs": [],
   "source": [
    "data_merge = data_merge.merge(humidity, on = \"일시\")"
   ]
  },
  {
   "cell_type": "code",
   "execution_count": 305,
   "id": "2d85927c",
   "metadata": {},
   "outputs": [
    {
     "data": {
      "text/html": [
       "<div>\n",
       "<style scoped>\n",
       "    .dataframe tbody tr th:only-of-type {\n",
       "        vertical-align: middle;\n",
       "    }\n",
       "\n",
       "    .dataframe tbody tr th {\n",
       "        vertical-align: top;\n",
       "    }\n",
       "\n",
       "    .dataframe thead th {\n",
       "        text-align: right;\n",
       "    }\n",
       "</style>\n",
       "<table border=\"1\" class=\"dataframe\">\n",
       "  <thead>\n",
       "    <tr style=\"text-align: right;\">\n",
       "      <th></th>\n",
       "      <th>지점번호</th>\n",
       "      <th>지점명</th>\n",
       "      <th>일시</th>\n",
       "      <th>평균기온(℃)</th>\n",
       "      <th>최고기온(℃)</th>\n",
       "      <th>최고기온시각</th>\n",
       "      <th>최저기온(℃)</th>\n",
       "      <th>최저기온시각</th>\n",
       "      <th>일교차</th>\n",
       "      <th>강수량(mm)</th>\n",
       "      <th>...</th>\n",
       "      <th>1시간최다강수량시각</th>\n",
       "      <th>평균풍속(m/s)</th>\n",
       "      <th>최대풍속(m/s)</th>\n",
       "      <th>최대풍속풍향(deg)</th>\n",
       "      <th>최대풍속시각</th>\n",
       "      <th>최대순간풍속(m/s)</th>\n",
       "      <th>최대순간풍속풍향(deg)</th>\n",
       "      <th>최대순간풍속시각</th>\n",
       "      <th>평균습도(%rh)</th>\n",
       "      <th>최저습도(%rh)</th>\n",
       "    </tr>\n",
       "  </thead>\n",
       "  <tbody>\n",
       "    <tr>\n",
       "      <th>0</th>\n",
       "      <td>\\t\\t165</td>\n",
       "      <td>목포</td>\n",
       "      <td>2011-01-01</td>\n",
       "      <td>-3.7</td>\n",
       "      <td>-0.2</td>\n",
       "      <td>14:12</td>\n",
       "      <td>-6.0</td>\n",
       "      <td>8:17</td>\n",
       "      <td>5.8</td>\n",
       "      <td>1.3</td>\n",
       "      <td>...</td>\n",
       "      <td>0</td>\n",
       "      <td>2.1</td>\n",
       "      <td>6.6</td>\n",
       "      <td>360.0</td>\n",
       "      <td>13:25</td>\n",
       "      <td>9.9</td>\n",
       "      <td>20.0</td>\n",
       "      <td>15:22</td>\n",
       "      <td>91.6</td>\n",
       "      <td>77.0</td>\n",
       "    </tr>\n",
       "    <tr>\n",
       "      <th>1</th>\n",
       "      <td>\\t\\t165</td>\n",
       "      <td>목포</td>\n",
       "      <td>2011-01-02</td>\n",
       "      <td>-2.4</td>\n",
       "      <td>2.0</td>\n",
       "      <td>13:07</td>\n",
       "      <td>-5.7</td>\n",
       "      <td>6:11</td>\n",
       "      <td>7.7</td>\n",
       "      <td>0.0</td>\n",
       "      <td>...</td>\n",
       "      <td>0</td>\n",
       "      <td>2.2</td>\n",
       "      <td>7.8</td>\n",
       "      <td>360.0</td>\n",
       "      <td>15:36</td>\n",
       "      <td>11.2</td>\n",
       "      <td>360.0</td>\n",
       "      <td>15:28</td>\n",
       "      <td>86.6</td>\n",
       "      <td>61.0</td>\n",
       "    </tr>\n",
       "    <tr>\n",
       "      <th>2</th>\n",
       "      <td>\\t\\t165</td>\n",
       "      <td>목포</td>\n",
       "      <td>2011-01-03</td>\n",
       "      <td>-1.6</td>\n",
       "      <td>1.4</td>\n",
       "      <td>11:59</td>\n",
       "      <td>-3.8</td>\n",
       "      <td>23:19</td>\n",
       "      <td>5.2</td>\n",
       "      <td>0.0</td>\n",
       "      <td>...</td>\n",
       "      <td>0</td>\n",
       "      <td>2.9</td>\n",
       "      <td>6.5</td>\n",
       "      <td>360.0</td>\n",
       "      <td>15:14</td>\n",
       "      <td>8.9</td>\n",
       "      <td>360.0</td>\n",
       "      <td>15:13</td>\n",
       "      <td>81.4</td>\n",
       "      <td>61.0</td>\n",
       "    </tr>\n",
       "  </tbody>\n",
       "</table>\n",
       "<p>3 rows × 21 columns</p>\n",
       "</div>"
      ],
      "text/plain": [
       "      지점번호 지점명         일시  평균기온(℃)  최고기온(℃) 최고기온시각  최저기온(℃) 최저기온시각  일교차  \\\n",
       "0  \\t\\t165  목포 2011-01-01     -3.7     -0.2  14:12     -6.0   8:17  5.8   \n",
       "1  \\t\\t165  목포 2011-01-02     -2.4      2.0  13:07     -5.7   6:11  7.7   \n",
       "2  \\t\\t165  목포 2011-01-03     -1.6      1.4  11:59     -3.8  23:19  5.2   \n",
       "\n",
       "   강수량(mm)  ...  1시간최다강수량시각 평균풍속(m/s)  최대풍속(m/s)  최대풍속풍향(deg)  최대풍속시각  \\\n",
       "0      1.3  ...           0       2.1        6.6        360.0   13:25   \n",
       "1      0.0  ...           0       2.2        7.8        360.0   15:36   \n",
       "2      0.0  ...           0       2.9        6.5        360.0   15:14   \n",
       "\n",
       "  최대순간풍속(m/s)  최대순간풍속풍향(deg)  최대순간풍속시각 평균습도(%rh)  최저습도(%rh)  \n",
       "0         9.9           20.0     15:22      91.6       77.0  \n",
       "1        11.2          360.0     15:28      86.6       61.0  \n",
       "2         8.9          360.0     15:13      81.4       61.0  \n",
       "\n",
       "[3 rows x 21 columns]"
      ]
     },
     "execution_count": 305,
     "metadata": {},
     "output_type": "execute_result"
    }
   ],
   "source": [
    "data_merge.head(3)"
   ]
  },
  {
   "cell_type": "code",
   "execution_count": 309,
   "id": "07758377",
   "metadata": {},
   "outputs": [
    {
     "data": {
      "text/html": [
       "<div>\n",
       "<style scoped>\n",
       "    .dataframe tbody tr th:only-of-type {\n",
       "        vertical-align: middle;\n",
       "    }\n",
       "\n",
       "    .dataframe tbody tr th {\n",
       "        vertical-align: top;\n",
       "    }\n",
       "\n",
       "    .dataframe thead th {\n",
       "        text-align: right;\n",
       "    }\n",
       "</style>\n",
       "<table border=\"1\" class=\"dataframe\">\n",
       "  <thead>\n",
       "    <tr style=\"text-align: right;\">\n",
       "      <th></th>\n",
       "      <th>지점번호</th>\n",
       "      <th>지점명</th>\n",
       "      <th>일시</th>\n",
       "      <th>평균기온(℃)</th>\n",
       "      <th>최고기온(℃)</th>\n",
       "      <th>최고기온시각</th>\n",
       "      <th>최저기온(℃)</th>\n",
       "      <th>최저기온시각</th>\n",
       "      <th>일교차</th>\n",
       "      <th>강수량(mm)</th>\n",
       "      <th>...</th>\n",
       "      <th>1시간최다강수량시각</th>\n",
       "      <th>평균풍속(m/s)</th>\n",
       "      <th>최대풍속(m/s)</th>\n",
       "      <th>최대풍속풍향(deg)</th>\n",
       "      <th>최대풍속시각</th>\n",
       "      <th>최대순간풍속(m/s)</th>\n",
       "      <th>최대순간풍속풍향(deg)</th>\n",
       "      <th>최대순간풍속시각</th>\n",
       "      <th>평균습도(%rh)</th>\n",
       "      <th>최저습도(%rh)</th>\n",
       "    </tr>\n",
       "  </thead>\n",
       "  <tbody>\n",
       "    <tr>\n",
       "      <th>3940</th>\n",
       "      <td>\\t\\t165</td>\n",
       "      <td>목포</td>\n",
       "      <td>2021-10-15</td>\n",
       "      <td>19.6</td>\n",
       "      <td>23.2</td>\n",
       "      <td>13:45</td>\n",
       "      <td>16.5</td>\n",
       "      <td>21:38</td>\n",
       "      <td>6.7</td>\n",
       "      <td>4.3</td>\n",
       "      <td>...</td>\n",
       "      <td>20:50</td>\n",
       "      <td>4.3</td>\n",
       "      <td>8.7</td>\n",
       "      <td>360.0</td>\n",
       "      <td>18:20</td>\n",
       "      <td>11.1</td>\n",
       "      <td>360.0</td>\n",
       "      <td>18:26</td>\n",
       "      <td>81.9</td>\n",
       "      <td>61.0</td>\n",
       "    </tr>\n",
       "    <tr>\n",
       "      <th>3941</th>\n",
       "      <td>\\t\\t165</td>\n",
       "      <td>목포</td>\n",
       "      <td>2021-10-16</td>\n",
       "      <td>14.5</td>\n",
       "      <td>17.8</td>\n",
       "      <td>11:11</td>\n",
       "      <td>11.4</td>\n",
       "      <td>23:57</td>\n",
       "      <td>6.4</td>\n",
       "      <td>3.5</td>\n",
       "      <td>...</td>\n",
       "      <td>2:04</td>\n",
       "      <td>8.7</td>\n",
       "      <td>14.9</td>\n",
       "      <td>360.0</td>\n",
       "      <td>23:28</td>\n",
       "      <td>19.1</td>\n",
       "      <td>360.0</td>\n",
       "      <td>23:28</td>\n",
       "      <td>67.8</td>\n",
       "      <td>50.0</td>\n",
       "    </tr>\n",
       "    <tr>\n",
       "      <th>3942</th>\n",
       "      <td>\\t\\t165</td>\n",
       "      <td>목포</td>\n",
       "      <td>2021-10-17</td>\n",
       "      <td>8.8</td>\n",
       "      <td>12.0</td>\n",
       "      <td>15:21</td>\n",
       "      <td>5.6</td>\n",
       "      <td>7:08</td>\n",
       "      <td>6.4</td>\n",
       "      <td>0.0</td>\n",
       "      <td>...</td>\n",
       "      <td>0</td>\n",
       "      <td>7.2</td>\n",
       "      <td>13.9</td>\n",
       "      <td>360.0</td>\n",
       "      <td>0:04</td>\n",
       "      <td>18.0</td>\n",
       "      <td>20.0</td>\n",
       "      <td>0:01</td>\n",
       "      <td>52.5</td>\n",
       "      <td>38.0</td>\n",
       "    </tr>\n",
       "    <tr>\n",
       "      <th>3943</th>\n",
       "      <td>\\t\\t165</td>\n",
       "      <td>목포</td>\n",
       "      <td>2021-10-18</td>\n",
       "      <td>11.7</td>\n",
       "      <td>16.6</td>\n",
       "      <td>15:04</td>\n",
       "      <td>6.0</td>\n",
       "      <td>7:15</td>\n",
       "      <td>10.6</td>\n",
       "      <td>0.0</td>\n",
       "      <td>...</td>\n",
       "      <td>0</td>\n",
       "      <td>2.9</td>\n",
       "      <td>5.3</td>\n",
       "      <td>340.0</td>\n",
       "      <td>16:04</td>\n",
       "      <td>7.2</td>\n",
       "      <td>360.0</td>\n",
       "      <td>16:02</td>\n",
       "      <td>50.8</td>\n",
       "      <td>37.0</td>\n",
       "    </tr>\n",
       "    <tr>\n",
       "      <th>3944</th>\n",
       "      <td>\\t\\t165</td>\n",
       "      <td>목포</td>\n",
       "      <td>2021-10-19</td>\n",
       "      <td>13.3</td>\n",
       "      <td>16.6</td>\n",
       "      <td>13:48</td>\n",
       "      <td>10.8</td>\n",
       "      <td>7:04</td>\n",
       "      <td>5.8</td>\n",
       "      <td>3.6</td>\n",
       "      <td>...</td>\n",
       "      <td>6:09</td>\n",
       "      <td>4.0</td>\n",
       "      <td>9.4</td>\n",
       "      <td>340.0</td>\n",
       "      <td>16:08</td>\n",
       "      <td>13.5</td>\n",
       "      <td>340.0</td>\n",
       "      <td>16:05</td>\n",
       "      <td>70.3</td>\n",
       "      <td>51.0</td>\n",
       "    </tr>\n",
       "  </tbody>\n",
       "</table>\n",
       "<p>5 rows × 21 columns</p>\n",
       "</div>"
      ],
      "text/plain": [
       "         지점번호 지점명         일시  평균기온(℃)  최고기온(℃) 최고기온시각  최저기온(℃) 최저기온시각   일교차  \\\n",
       "3940  \\t\\t165  목포 2021-10-15     19.6     23.2  13:45     16.5  21:38   6.7   \n",
       "3941  \\t\\t165  목포 2021-10-16     14.5     17.8  11:11     11.4  23:57   6.4   \n",
       "3942  \\t\\t165  목포 2021-10-17      8.8     12.0  15:21      5.6   7:08   6.4   \n",
       "3943  \\t\\t165  목포 2021-10-18     11.7     16.6  15:04      6.0   7:15  10.6   \n",
       "3944  \\t\\t165  목포 2021-10-19     13.3     16.6  13:48     10.8   7:04   5.8   \n",
       "\n",
       "      강수량(mm)  ...  1시간최다강수량시각 평균풍속(m/s)  최대풍속(m/s)  최대풍속풍향(deg)  최대풍속시각  \\\n",
       "3940      4.3  ...       20:50       4.3        8.7        360.0   18:20   \n",
       "3941      3.5  ...        2:04       8.7       14.9        360.0   23:28   \n",
       "3942      0.0  ...           0       7.2       13.9        360.0    0:04   \n",
       "3943      0.0  ...           0       2.9        5.3        340.0   16:04   \n",
       "3944      3.6  ...        6:09       4.0        9.4        340.0   16:08   \n",
       "\n",
       "     최대순간풍속(m/s)  최대순간풍속풍향(deg)  최대순간풍속시각 평균습도(%rh)  최저습도(%rh)  \n",
       "3940        11.1          360.0     18:26      81.9       61.0  \n",
       "3941        19.1          360.0     23:28      67.8       50.0  \n",
       "3942        18.0           20.0      0:01      52.5       38.0  \n",
       "3943         7.2          360.0     16:02      50.8       37.0  \n",
       "3944        13.5          340.0     16:05      70.3       51.0  \n",
       "\n",
       "[5 rows x 21 columns]"
      ]
     },
     "execution_count": 309,
     "metadata": {},
     "output_type": "execute_result"
    }
   ],
   "source": [
    "data_merge.tail(5)"
   ]
  },
  {
   "cell_type": "code",
   "execution_count": 306,
   "id": "b09572ef",
   "metadata": {},
   "outputs": [
    {
     "data": {
      "text/plain": [
       "(3945, 21)"
      ]
     },
     "execution_count": 306,
     "metadata": {},
     "output_type": "execute_result"
    }
   ],
   "source": [
    "data_merge.shape"
   ]
  },
  {
   "cell_type": "code",
   "execution_count": 307,
   "id": "b6ca5ece",
   "metadata": {},
   "outputs": [
    {
     "name": "stdout",
     "output_type": "stream",
     "text": [
      "<class 'pandas.core.frame.DataFrame'>\n",
      "Int64Index: 3945 entries, 0 to 3944\n",
      "Data columns (total 21 columns):\n",
      " #   Column         Non-Null Count  Dtype         \n",
      "---  ------         --------------  -----         \n",
      " 0   지점번호           3945 non-null   object        \n",
      " 1   지점명            3945 non-null   object        \n",
      " 2   일시             3945 non-null   datetime64[ns]\n",
      " 3   평균기온(℃)        3945 non-null   float64       \n",
      " 4   최고기온(℃)        3945 non-null   float64       \n",
      " 5   최고기온시각         3945 non-null   object        \n",
      " 6   최저기온(℃)        3945 non-null   float64       \n",
      " 7   최저기온시각         3945 non-null   object        \n",
      " 8   일교차            3945 non-null   float64       \n",
      " 9   강수량(mm)        3945 non-null   float64       \n",
      " 10  1시간최다강수량(mm)   3945 non-null   float64       \n",
      " 11  1시간최다강수량시각     3945 non-null   object        \n",
      " 12  평균풍속(m/s)      3945 non-null   float64       \n",
      " 13  최대풍속(m/s)      3945 non-null   float64       \n",
      " 14  최대풍속풍향(deg)    3945 non-null   float64       \n",
      " 15  최대풍속시각         3945 non-null   object        \n",
      " 16  최대순간풍속(m/s)    3945 non-null   float64       \n",
      " 17  최대순간풍속풍향(deg)  3945 non-null   float64       \n",
      " 18  최대순간풍속시각       3945 non-null   object        \n",
      " 19  평균습도(%rh)      3945 non-null   float64       \n",
      " 20  최저습도(%rh)      3945 non-null   float64       \n",
      "dtypes: datetime64[ns](1), float64(13), object(7)\n",
      "memory usage: 678.0+ KB\n"
     ]
    }
   ],
   "source": [
    "data_merge.info()"
   ]
  },
  {
   "cell_type": "markdown",
   "id": "d3b20573",
   "metadata": {},
   "source": [
    "## CSV 파일로 저장\n",
    "* index 제거"
   ]
  },
  {
   "cell_type": "code",
   "execution_count": 310,
   "id": "84eacdda",
   "metadata": {},
   "outputs": [],
   "source": [
    "data_merge.to_csv(\"../CSV/weather.csv\", index = False)"
   ]
  },
  {
   "cell_type": "markdown",
   "id": "c6d1a031",
   "metadata": {},
   "source": [
    "## 고구마 가격 데이터 불러오기"
   ]
  },
  {
   "cell_type": "code",
   "execution_count": 392,
   "id": "9e958f18",
   "metadata": {},
   "outputs": [],
   "source": [
    "# item = pd.read_excel(\"../EXCEL/고구마_가격_2011.xls\")\n",
    "item = pd.read_csv(\"../CSV/고구마_가격_2011.csv\", header = None)"
   ]
  },
  {
   "cell_type": "code",
   "execution_count": 393,
   "id": "1fcb55c3",
   "metadata": {},
   "outputs": [
    {
     "data": {
      "text/html": [
       "<div>\n",
       "<style scoped>\n",
       "    .dataframe tbody tr th:only-of-type {\n",
       "        vertical-align: middle;\n",
       "    }\n",
       "\n",
       "    .dataframe tbody tr th {\n",
       "        vertical-align: top;\n",
       "    }\n",
       "\n",
       "    .dataframe thead th {\n",
       "        text-align: right;\n",
       "    }\n",
       "</style>\n",
       "<table border=\"1\" class=\"dataframe\">\n",
       "  <thead>\n",
       "    <tr style=\"text-align: right;\">\n",
       "      <th></th>\n",
       "      <th>0</th>\n",
       "      <th>1</th>\n",
       "      <th>2</th>\n",
       "      <th>3</th>\n",
       "      <th>4</th>\n",
       "      <th>5</th>\n",
       "      <th>6</th>\n",
       "      <th>7</th>\n",
       "      <th>8</th>\n",
       "      <th>9</th>\n",
       "      <th>...</th>\n",
       "      <th>239</th>\n",
       "      <th>240</th>\n",
       "      <th>241</th>\n",
       "      <th>242</th>\n",
       "      <th>243</th>\n",
       "      <th>244</th>\n",
       "      <th>245</th>\n",
       "      <th>246</th>\n",
       "      <th>247</th>\n",
       "      <th>248</th>\n",
       "    </tr>\n",
       "  </thead>\n",
       "  <tbody>\n",
       "    <tr>\n",
       "      <th>0</th>\n",
       "      <td>구분</td>\n",
       "      <td>1월 3일</td>\n",
       "      <td>1월 4일</td>\n",
       "      <td>1월 5일</td>\n",
       "      <td>1월 6일</td>\n",
       "      <td>1월 7일</td>\n",
       "      <td>1월 10일</td>\n",
       "      <td>1월 11일</td>\n",
       "      <td>1월 12일</td>\n",
       "      <td>1월 13일</td>\n",
       "      <td>...</td>\n",
       "      <td>12월 19일</td>\n",
       "      <td>12월 20일</td>\n",
       "      <td>12월 21일</td>\n",
       "      <td>12월 22일</td>\n",
       "      <td>12월 23일</td>\n",
       "      <td>12월 26일</td>\n",
       "      <td>12월 27일</td>\n",
       "      <td>12월 28일</td>\n",
       "      <td>12월 29일</td>\n",
       "      <td>12월 30일</td>\n",
       "    </tr>\n",
       "    <tr>\n",
       "      <th>1</th>\n",
       "      <td>평균</td>\n",
       "      <td>25,600</td>\n",
       "      <td>25,600</td>\n",
       "      <td>25,600</td>\n",
       "      <td>26,600</td>\n",
       "      <td>26,800</td>\n",
       "      <td>27,200</td>\n",
       "      <td>27,200</td>\n",
       "      <td>29,400</td>\n",
       "      <td>29,400</td>\n",
       "      <td>...</td>\n",
       "      <td>31,000</td>\n",
       "      <td>31,000</td>\n",
       "      <td>31,000</td>\n",
       "      <td>31,000</td>\n",
       "      <td>31,000</td>\n",
       "      <td>31,000</td>\n",
       "      <td>30,400</td>\n",
       "      <td>30,400</td>\n",
       "      <td>30,000</td>\n",
       "      <td>30,000</td>\n",
       "    </tr>\n",
       "    <tr>\n",
       "      <th>2</th>\n",
       "      <td>평년</td>\n",
       "      <td>16,500</td>\n",
       "      <td>16,593</td>\n",
       "      <td>16,820</td>\n",
       "      <td>17,063</td>\n",
       "      <td>17,217</td>\n",
       "      <td>17,637</td>\n",
       "      <td>17,707</td>\n",
       "      <td>17,813</td>\n",
       "      <td>17,910</td>\n",
       "      <td>...</td>\n",
       "      <td>17,300</td>\n",
       "      <td>17,340</td>\n",
       "      <td>17,440</td>\n",
       "      <td>17,547</td>\n",
       "      <td>17,657</td>\n",
       "      <td>17,770</td>\n",
       "      <td>17,780</td>\n",
       "      <td>17,797</td>\n",
       "      <td>17,800</td>\n",
       "      <td>17,927</td>\n",
       "    </tr>\n",
       "    <tr>\n",
       "      <th>3</th>\n",
       "      <td>서울</td>\n",
       "      <td>30,000</td>\n",
       "      <td>30,000</td>\n",
       "      <td>30,000</td>\n",
       "      <td>30,000</td>\n",
       "      <td>30,000</td>\n",
       "      <td>32,000</td>\n",
       "      <td>32,000</td>\n",
       "      <td>35,000</td>\n",
       "      <td>35,000</td>\n",
       "      <td>...</td>\n",
       "      <td>33,000</td>\n",
       "      <td>33,000</td>\n",
       "      <td>33,000</td>\n",
       "      <td>33,000</td>\n",
       "      <td>33,000</td>\n",
       "      <td>33,000</td>\n",
       "      <td>33,000</td>\n",
       "      <td>33,000</td>\n",
       "      <td>33,000</td>\n",
       "      <td>33,000</td>\n",
       "    </tr>\n",
       "    <tr>\n",
       "      <th>4</th>\n",
       "      <td>부산</td>\n",
       "      <td>23,000</td>\n",
       "      <td>23,000</td>\n",
       "      <td>23,000</td>\n",
       "      <td>24,000</td>\n",
       "      <td>25,000</td>\n",
       "      <td>25,000</td>\n",
       "      <td>25,000</td>\n",
       "      <td>27,000</td>\n",
       "      <td>27,000</td>\n",
       "      <td>...</td>\n",
       "      <td>30,000</td>\n",
       "      <td>30,000</td>\n",
       "      <td>30,000</td>\n",
       "      <td>30,000</td>\n",
       "      <td>30,000</td>\n",
       "      <td>30,000</td>\n",
       "      <td>30,000</td>\n",
       "      <td>30,000</td>\n",
       "      <td>30,000</td>\n",
       "      <td>30,000</td>\n",
       "    </tr>\n",
       "    <tr>\n",
       "      <th>5</th>\n",
       "      <td>대구</td>\n",
       "      <td>24,000</td>\n",
       "      <td>24,000</td>\n",
       "      <td>24,000</td>\n",
       "      <td>26,000</td>\n",
       "      <td>26,000</td>\n",
       "      <td>26,000</td>\n",
       "      <td>26,000</td>\n",
       "      <td>28,000</td>\n",
       "      <td>28,000</td>\n",
       "      <td>...</td>\n",
       "      <td>31,000</td>\n",
       "      <td>31,000</td>\n",
       "      <td>31,000</td>\n",
       "      <td>31,000</td>\n",
       "      <td>31,000</td>\n",
       "      <td>31,000</td>\n",
       "      <td>31,000</td>\n",
       "      <td>31,000</td>\n",
       "      <td>31,000</td>\n",
       "      <td>31,000</td>\n",
       "    </tr>\n",
       "    <tr>\n",
       "      <th>6</th>\n",
       "      <td>광주</td>\n",
       "      <td>24,000</td>\n",
       "      <td>24,000</td>\n",
       "      <td>24,000</td>\n",
       "      <td>24,000</td>\n",
       "      <td>24,000</td>\n",
       "      <td>24,000</td>\n",
       "      <td>24,000</td>\n",
       "      <td>27,000</td>\n",
       "      <td>27,000</td>\n",
       "      <td>...</td>\n",
       "      <td>28,000</td>\n",
       "      <td>28,000</td>\n",
       "      <td>28,000</td>\n",
       "      <td>28,000</td>\n",
       "      <td>28,000</td>\n",
       "      <td>28,000</td>\n",
       "      <td>28,000</td>\n",
       "      <td>28,000</td>\n",
       "      <td>26,000</td>\n",
       "      <td>26,000</td>\n",
       "    </tr>\n",
       "    <tr>\n",
       "      <th>7</th>\n",
       "      <td>대전</td>\n",
       "      <td>27,000</td>\n",
       "      <td>27,000</td>\n",
       "      <td>27,000</td>\n",
       "      <td>29,000</td>\n",
       "      <td>29,000</td>\n",
       "      <td>29,000</td>\n",
       "      <td>29,000</td>\n",
       "      <td>30,000</td>\n",
       "      <td>30,000</td>\n",
       "      <td>...</td>\n",
       "      <td>33,000</td>\n",
       "      <td>33,000</td>\n",
       "      <td>33,000</td>\n",
       "      <td>33,000</td>\n",
       "      <td>33,000</td>\n",
       "      <td>33,000</td>\n",
       "      <td>30,000</td>\n",
       "      <td>30,000</td>\n",
       "      <td>30,000</td>\n",
       "      <td>30,000</td>\n",
       "    </tr>\n",
       "  </tbody>\n",
       "</table>\n",
       "<p>8 rows × 249 columns</p>\n",
       "</div>"
      ],
      "text/plain": [
       "  0       1       2       3       4       5       6       7       8       9    \\\n",
       "0  구분   1월 3일   1월 4일   1월 5일   1월 6일   1월 7일  1월 10일  1월 11일  1월 12일  1월 13일   \n",
       "1  평균  25,600  25,600  25,600  26,600  26,800  27,200  27,200  29,400  29,400   \n",
       "2  평년  16,500  16,593  16,820  17,063  17,217  17,637  17,707  17,813  17,910   \n",
       "3  서울  30,000  30,000  30,000  30,000  30,000  32,000  32,000  35,000  35,000   \n",
       "4  부산  23,000  23,000  23,000  24,000  25,000  25,000  25,000  27,000  27,000   \n",
       "5  대구  24,000  24,000  24,000  26,000  26,000  26,000  26,000  28,000  28,000   \n",
       "6  광주  24,000  24,000  24,000  24,000  24,000  24,000  24,000  27,000  27,000   \n",
       "7  대전  27,000  27,000  27,000  29,000  29,000  29,000  29,000  30,000  30,000   \n",
       "\n",
       "   ...      239      240      241      242      243      244      245  \\\n",
       "0  ...  12월 19일  12월 20일  12월 21일  12월 22일  12월 23일  12월 26일  12월 27일   \n",
       "1  ...   31,000   31,000   31,000   31,000   31,000   31,000   30,400   \n",
       "2  ...   17,300   17,340   17,440   17,547   17,657   17,770   17,780   \n",
       "3  ...   33,000   33,000   33,000   33,000   33,000   33,000   33,000   \n",
       "4  ...   30,000   30,000   30,000   30,000   30,000   30,000   30,000   \n",
       "5  ...   31,000   31,000   31,000   31,000   31,000   31,000   31,000   \n",
       "6  ...   28,000   28,000   28,000   28,000   28,000   28,000   28,000   \n",
       "7  ...   33,000   33,000   33,000   33,000   33,000   33,000   30,000   \n",
       "\n",
       "       246      247      248  \n",
       "0  12월 28일  12월 29일  12월 30일  \n",
       "1   30,400   30,000   30,000  \n",
       "2   17,797   17,800   17,927  \n",
       "3   33,000   33,000   33,000  \n",
       "4   30,000   30,000   30,000  \n",
       "5   31,000   31,000   31,000  \n",
       "6   28,000   26,000   26,000  \n",
       "7   30,000   30,000   30,000  \n",
       "\n",
       "[8 rows x 249 columns]"
      ]
     },
     "execution_count": 393,
     "metadata": {},
     "output_type": "execute_result"
    }
   ],
   "source": [
    "item.head(10)"
   ]
  },
  {
   "cell_type": "code",
   "execution_count": 394,
   "id": "8a6620e3",
   "metadata": {},
   "outputs": [],
   "source": [
    "item = item.transpose()"
   ]
  },
  {
   "cell_type": "code",
   "execution_count": 395,
   "id": "62bd6049",
   "metadata": {},
   "outputs": [
    {
     "data": {
      "text/html": [
       "<div>\n",
       "<style scoped>\n",
       "    .dataframe tbody tr th:only-of-type {\n",
       "        vertical-align: middle;\n",
       "    }\n",
       "\n",
       "    .dataframe tbody tr th {\n",
       "        vertical-align: top;\n",
       "    }\n",
       "\n",
       "    .dataframe thead th {\n",
       "        text-align: right;\n",
       "    }\n",
       "</style>\n",
       "<table border=\"1\" class=\"dataframe\">\n",
       "  <thead>\n",
       "    <tr style=\"text-align: right;\">\n",
       "      <th></th>\n",
       "      <th>0</th>\n",
       "      <th>1</th>\n",
       "      <th>2</th>\n",
       "      <th>3</th>\n",
       "      <th>4</th>\n",
       "      <th>5</th>\n",
       "      <th>6</th>\n",
       "      <th>7</th>\n",
       "    </tr>\n",
       "  </thead>\n",
       "  <tbody>\n",
       "    <tr>\n",
       "      <th>0</th>\n",
       "      <td>구분</td>\n",
       "      <td>평균</td>\n",
       "      <td>평년</td>\n",
       "      <td>서울</td>\n",
       "      <td>부산</td>\n",
       "      <td>대구</td>\n",
       "      <td>광주</td>\n",
       "      <td>대전</td>\n",
       "    </tr>\n",
       "    <tr>\n",
       "      <th>1</th>\n",
       "      <td>1월 3일</td>\n",
       "      <td>25,600</td>\n",
       "      <td>16,500</td>\n",
       "      <td>30,000</td>\n",
       "      <td>23,000</td>\n",
       "      <td>24,000</td>\n",
       "      <td>24,000</td>\n",
       "      <td>27,000</td>\n",
       "    </tr>\n",
       "    <tr>\n",
       "      <th>2</th>\n",
       "      <td>1월 4일</td>\n",
       "      <td>25,600</td>\n",
       "      <td>16,593</td>\n",
       "      <td>30,000</td>\n",
       "      <td>23,000</td>\n",
       "      <td>24,000</td>\n",
       "      <td>24,000</td>\n",
       "      <td>27,000</td>\n",
       "    </tr>\n",
       "  </tbody>\n",
       "</table>\n",
       "</div>"
      ],
      "text/plain": [
       "       0       1       2       3       4       5       6       7\n",
       "0     구분      평균      평년      서울      부산      대구      광주      대전\n",
       "1  1월 3일  25,600  16,500  30,000  23,000  24,000  24,000  27,000\n",
       "2  1월 4일  25,600  16,593  30,000  23,000  24,000  24,000  27,000"
      ]
     },
     "execution_count": 395,
     "metadata": {},
     "output_type": "execute_result"
    }
   ],
   "source": [
    "item.head(3)"
   ]
  },
  {
   "cell_type": "code",
   "execution_count": 396,
   "id": "aec690b4",
   "metadata": {},
   "outputs": [],
   "source": [
    "item.columns = [\"일시\", \"평균\", \"평년\", \"서울\", \"부산\", \"대구\", \"광주\", \"대전\"]"
   ]
  },
  {
   "cell_type": "code",
   "execution_count": 397,
   "id": "5f913659",
   "metadata": {},
   "outputs": [
    {
     "data": {
      "text/html": [
       "<div>\n",
       "<style scoped>\n",
       "    .dataframe tbody tr th:only-of-type {\n",
       "        vertical-align: middle;\n",
       "    }\n",
       "\n",
       "    .dataframe tbody tr th {\n",
       "        vertical-align: top;\n",
       "    }\n",
       "\n",
       "    .dataframe thead th {\n",
       "        text-align: right;\n",
       "    }\n",
       "</style>\n",
       "<table border=\"1\" class=\"dataframe\">\n",
       "  <thead>\n",
       "    <tr style=\"text-align: right;\">\n",
       "      <th></th>\n",
       "      <th>일시</th>\n",
       "      <th>평균</th>\n",
       "      <th>평년</th>\n",
       "      <th>서울</th>\n",
       "      <th>부산</th>\n",
       "      <th>대구</th>\n",
       "      <th>광주</th>\n",
       "      <th>대전</th>\n",
       "    </tr>\n",
       "  </thead>\n",
       "  <tbody>\n",
       "    <tr>\n",
       "      <th>0</th>\n",
       "      <td>구분</td>\n",
       "      <td>평균</td>\n",
       "      <td>평년</td>\n",
       "      <td>서울</td>\n",
       "      <td>부산</td>\n",
       "      <td>대구</td>\n",
       "      <td>광주</td>\n",
       "      <td>대전</td>\n",
       "    </tr>\n",
       "    <tr>\n",
       "      <th>1</th>\n",
       "      <td>1월 3일</td>\n",
       "      <td>25,600</td>\n",
       "      <td>16,500</td>\n",
       "      <td>30,000</td>\n",
       "      <td>23,000</td>\n",
       "      <td>24,000</td>\n",
       "      <td>24,000</td>\n",
       "      <td>27,000</td>\n",
       "    </tr>\n",
       "    <tr>\n",
       "      <th>2</th>\n",
       "      <td>1월 4일</td>\n",
       "      <td>25,600</td>\n",
       "      <td>16,593</td>\n",
       "      <td>30,000</td>\n",
       "      <td>23,000</td>\n",
       "      <td>24,000</td>\n",
       "      <td>24,000</td>\n",
       "      <td>27,000</td>\n",
       "    </tr>\n",
       "  </tbody>\n",
       "</table>\n",
       "</div>"
      ],
      "text/plain": [
       "      일시      평균      평년      서울      부산      대구      광주      대전\n",
       "0     구분      평균      평년      서울      부산      대구      광주      대전\n",
       "1  1월 3일  25,600  16,500  30,000  23,000  24,000  24,000  27,000\n",
       "2  1월 4일  25,600  16,593  30,000  23,000  24,000  24,000  27,000"
      ]
     },
     "execution_count": 397,
     "metadata": {},
     "output_type": "execute_result"
    }
   ],
   "source": [
    "item.head(3)"
   ]
  },
  {
   "cell_type": "code",
   "execution_count": 398,
   "id": "95d95c83",
   "metadata": {},
   "outputs": [],
   "source": [
    "item.drop(0, axis = 0, inplace = True)"
   ]
  },
  {
   "cell_type": "code",
   "execution_count": 399,
   "id": "cbac1f74",
   "metadata": {},
   "outputs": [
    {
     "data": {
      "text/html": [
       "<div>\n",
       "<style scoped>\n",
       "    .dataframe tbody tr th:only-of-type {\n",
       "        vertical-align: middle;\n",
       "    }\n",
       "\n",
       "    .dataframe tbody tr th {\n",
       "        vertical-align: top;\n",
       "    }\n",
       "\n",
       "    .dataframe thead th {\n",
       "        text-align: right;\n",
       "    }\n",
       "</style>\n",
       "<table border=\"1\" class=\"dataframe\">\n",
       "  <thead>\n",
       "    <tr style=\"text-align: right;\">\n",
       "      <th></th>\n",
       "      <th>일시</th>\n",
       "      <th>평균</th>\n",
       "      <th>평년</th>\n",
       "      <th>서울</th>\n",
       "      <th>부산</th>\n",
       "      <th>대구</th>\n",
       "      <th>광주</th>\n",
       "      <th>대전</th>\n",
       "    </tr>\n",
       "  </thead>\n",
       "  <tbody>\n",
       "    <tr>\n",
       "      <th>1</th>\n",
       "      <td>1월 3일</td>\n",
       "      <td>25,600</td>\n",
       "      <td>16,500</td>\n",
       "      <td>30,000</td>\n",
       "      <td>23,000</td>\n",
       "      <td>24,000</td>\n",
       "      <td>24,000</td>\n",
       "      <td>27,000</td>\n",
       "    </tr>\n",
       "    <tr>\n",
       "      <th>2</th>\n",
       "      <td>1월 4일</td>\n",
       "      <td>25,600</td>\n",
       "      <td>16,593</td>\n",
       "      <td>30,000</td>\n",
       "      <td>23,000</td>\n",
       "      <td>24,000</td>\n",
       "      <td>24,000</td>\n",
       "      <td>27,000</td>\n",
       "    </tr>\n",
       "    <tr>\n",
       "      <th>3</th>\n",
       "      <td>1월 5일</td>\n",
       "      <td>25,600</td>\n",
       "      <td>16,820</td>\n",
       "      <td>30,000</td>\n",
       "      <td>23,000</td>\n",
       "      <td>24,000</td>\n",
       "      <td>24,000</td>\n",
       "      <td>27,000</td>\n",
       "    </tr>\n",
       "  </tbody>\n",
       "</table>\n",
       "</div>"
      ],
      "text/plain": [
       "      일시      평균      평년      서울      부산      대구      광주      대전\n",
       "1  1월 3일  25,600  16,500  30,000  23,000  24,000  24,000  27,000\n",
       "2  1월 4일  25,600  16,593  30,000  23,000  24,000  24,000  27,000\n",
       "3  1월 5일  25,600  16,820  30,000  23,000  24,000  24,000  27,000"
      ]
     },
     "execution_count": 399,
     "metadata": {},
     "output_type": "execute_result"
    }
   ],
   "source": [
    "item.head(3)"
   ]
  },
  {
   "cell_type": "code",
   "execution_count": 400,
   "id": "ad6405bb",
   "metadata": {},
   "outputs": [],
   "source": [
    "item.reset_index(drop = True, inplace = True)"
   ]
  },
  {
   "cell_type": "code",
   "execution_count": 401,
   "id": "04c83d9c",
   "metadata": {},
   "outputs": [
    {
     "data": {
      "text/html": [
       "<div>\n",
       "<style scoped>\n",
       "    .dataframe tbody tr th:only-of-type {\n",
       "        vertical-align: middle;\n",
       "    }\n",
       "\n",
       "    .dataframe tbody tr th {\n",
       "        vertical-align: top;\n",
       "    }\n",
       "\n",
       "    .dataframe thead th {\n",
       "        text-align: right;\n",
       "    }\n",
       "</style>\n",
       "<table border=\"1\" class=\"dataframe\">\n",
       "  <thead>\n",
       "    <tr style=\"text-align: right;\">\n",
       "      <th></th>\n",
       "      <th>일시</th>\n",
       "      <th>평균</th>\n",
       "      <th>평년</th>\n",
       "      <th>서울</th>\n",
       "      <th>부산</th>\n",
       "      <th>대구</th>\n",
       "      <th>광주</th>\n",
       "      <th>대전</th>\n",
       "    </tr>\n",
       "  </thead>\n",
       "  <tbody>\n",
       "    <tr>\n",
       "      <th>0</th>\n",
       "      <td>1월 3일</td>\n",
       "      <td>25,600</td>\n",
       "      <td>16,500</td>\n",
       "      <td>30,000</td>\n",
       "      <td>23,000</td>\n",
       "      <td>24,000</td>\n",
       "      <td>24,000</td>\n",
       "      <td>27,000</td>\n",
       "    </tr>\n",
       "    <tr>\n",
       "      <th>1</th>\n",
       "      <td>1월 4일</td>\n",
       "      <td>25,600</td>\n",
       "      <td>16,593</td>\n",
       "      <td>30,000</td>\n",
       "      <td>23,000</td>\n",
       "      <td>24,000</td>\n",
       "      <td>24,000</td>\n",
       "      <td>27,000</td>\n",
       "    </tr>\n",
       "    <tr>\n",
       "      <th>2</th>\n",
       "      <td>1월 5일</td>\n",
       "      <td>25,600</td>\n",
       "      <td>16,820</td>\n",
       "      <td>30,000</td>\n",
       "      <td>23,000</td>\n",
       "      <td>24,000</td>\n",
       "      <td>24,000</td>\n",
       "      <td>27,000</td>\n",
       "    </tr>\n",
       "  </tbody>\n",
       "</table>\n",
       "</div>"
      ],
      "text/plain": [
       "      일시      평균      평년      서울      부산      대구      광주      대전\n",
       "0  1월 3일  25,600  16,500  30,000  23,000  24,000  24,000  27,000\n",
       "1  1월 4일  25,600  16,593  30,000  23,000  24,000  24,000  27,000\n",
       "2  1월 5일  25,600  16,820  30,000  23,000  24,000  24,000  27,000"
      ]
     },
     "execution_count": 401,
     "metadata": {},
     "output_type": "execute_result"
    }
   ],
   "source": [
    "item.head(3)"
   ]
  },
  {
   "cell_type": "code",
   "execution_count": 403,
   "id": "e5360595",
   "metadata": {},
   "outputs": [],
   "source": [
    "item[\"year\"] = \"2011\""
   ]
  },
  {
   "cell_type": "code",
   "execution_count": 404,
   "id": "ec61117a",
   "metadata": {},
   "outputs": [],
   "source": [
    "item[\"month\"] = item[\"일시\"].str.split(\"월\", expand = True)[0]"
   ]
  },
  {
   "cell_type": "code",
   "execution_count": 405,
   "id": "bcbb5807",
   "metadata": {},
   "outputs": [],
   "source": [
    "item[\"day\"] = item[\"일시\"].str.split(\"월\", expand = True)[1].str.split(\"일\", expand = True)[0]\n",
    "item[\"day\"] = item[\"day\"].str.lstrip() # 앞 공백 제거"
   ]
  },
  {
   "cell_type": "code",
   "execution_count": 406,
   "id": "c32314fa",
   "metadata": {},
   "outputs": [
    {
     "data": {
      "text/html": [
       "<div>\n",
       "<style scoped>\n",
       "    .dataframe tbody tr th:only-of-type {\n",
       "        vertical-align: middle;\n",
       "    }\n",
       "\n",
       "    .dataframe tbody tr th {\n",
       "        vertical-align: top;\n",
       "    }\n",
       "\n",
       "    .dataframe thead th {\n",
       "        text-align: right;\n",
       "    }\n",
       "</style>\n",
       "<table border=\"1\" class=\"dataframe\">\n",
       "  <thead>\n",
       "    <tr style=\"text-align: right;\">\n",
       "      <th></th>\n",
       "      <th>일시</th>\n",
       "      <th>평균</th>\n",
       "      <th>평년</th>\n",
       "      <th>서울</th>\n",
       "      <th>부산</th>\n",
       "      <th>대구</th>\n",
       "      <th>광주</th>\n",
       "      <th>대전</th>\n",
       "      <th>year</th>\n",
       "      <th>month</th>\n",
       "      <th>day</th>\n",
       "    </tr>\n",
       "  </thead>\n",
       "  <tbody>\n",
       "    <tr>\n",
       "      <th>0</th>\n",
       "      <td>1월 3일</td>\n",
       "      <td>25,600</td>\n",
       "      <td>16,500</td>\n",
       "      <td>30,000</td>\n",
       "      <td>23,000</td>\n",
       "      <td>24,000</td>\n",
       "      <td>24,000</td>\n",
       "      <td>27,000</td>\n",
       "      <td>2011</td>\n",
       "      <td>1</td>\n",
       "      <td>3</td>\n",
       "    </tr>\n",
       "    <tr>\n",
       "      <th>1</th>\n",
       "      <td>1월 4일</td>\n",
       "      <td>25,600</td>\n",
       "      <td>16,593</td>\n",
       "      <td>30,000</td>\n",
       "      <td>23,000</td>\n",
       "      <td>24,000</td>\n",
       "      <td>24,000</td>\n",
       "      <td>27,000</td>\n",
       "      <td>2011</td>\n",
       "      <td>1</td>\n",
       "      <td>4</td>\n",
       "    </tr>\n",
       "    <tr>\n",
       "      <th>2</th>\n",
       "      <td>1월 5일</td>\n",
       "      <td>25,600</td>\n",
       "      <td>16,820</td>\n",
       "      <td>30,000</td>\n",
       "      <td>23,000</td>\n",
       "      <td>24,000</td>\n",
       "      <td>24,000</td>\n",
       "      <td>27,000</td>\n",
       "      <td>2011</td>\n",
       "      <td>1</td>\n",
       "      <td>5</td>\n",
       "    </tr>\n",
       "  </tbody>\n",
       "</table>\n",
       "</div>"
      ],
      "text/plain": [
       "      일시      평균      평년      서울      부산      대구      광주      대전  year month  \\\n",
       "0  1월 3일  25,600  16,500  30,000  23,000  24,000  24,000  27,000  2011     1   \n",
       "1  1월 4일  25,600  16,593  30,000  23,000  24,000  24,000  27,000  2011     1   \n",
       "2  1월 5일  25,600  16,820  30,000  23,000  24,000  24,000  27,000  2011     1   \n",
       "\n",
       "  day  \n",
       "0   3  \n",
       "1   4  \n",
       "2   5  "
      ]
     },
     "execution_count": 406,
     "metadata": {},
     "output_type": "execute_result"
    }
   ],
   "source": [
    "item.head(3)"
   ]
  },
  {
   "cell_type": "code",
   "execution_count": 415,
   "id": "ac5c20d0",
   "metadata": {},
   "outputs": [],
   "source": [
    "item[\"일시\"] = item[\"year\"] + \"-\" + item[\"month\"] + \"-\" + item[\"day\"]"
   ]
  },
  {
   "cell_type": "code",
   "execution_count": 416,
   "id": "7110e6ac",
   "metadata": {},
   "outputs": [],
   "source": [
    "# if len(item[\"month\"].values) == 1 :\n",
    "#     if len(item[\"day\".values]) == 1 :  \n",
    "#         item[\"일시\"] = item[\"year\"] + \"0\" + item[\"month\"] + \"0\" + item[\"day\"]\n",
    "#     else :\n",
    "#         item[\"일시\"] = item[\"year\"] + \"0\" + item[\"month\"] + item[\"day\"]\n",
    "# else :\n",
    "#     item[\"일시\"] = item[\"year\"] + item[\"month\"] + item[\"day\"]"
   ]
  },
  {
   "cell_type": "code",
   "execution_count": 417,
   "id": "e900fe5d",
   "metadata": {},
   "outputs": [
    {
     "data": {
      "text/html": [
       "<div>\n",
       "<style scoped>\n",
       "    .dataframe tbody tr th:only-of-type {\n",
       "        vertical-align: middle;\n",
       "    }\n",
       "\n",
       "    .dataframe tbody tr th {\n",
       "        vertical-align: top;\n",
       "    }\n",
       "\n",
       "    .dataframe thead th {\n",
       "        text-align: right;\n",
       "    }\n",
       "</style>\n",
       "<table border=\"1\" class=\"dataframe\">\n",
       "  <thead>\n",
       "    <tr style=\"text-align: right;\">\n",
       "      <th></th>\n",
       "      <th>일시</th>\n",
       "      <th>평균</th>\n",
       "      <th>평년</th>\n",
       "      <th>서울</th>\n",
       "      <th>부산</th>\n",
       "      <th>대구</th>\n",
       "      <th>광주</th>\n",
       "      <th>대전</th>\n",
       "      <th>year</th>\n",
       "      <th>month</th>\n",
       "      <th>day</th>\n",
       "    </tr>\n",
       "  </thead>\n",
       "  <tbody>\n",
       "    <tr>\n",
       "      <th>0</th>\n",
       "      <td>2011-1-3</td>\n",
       "      <td>25,600</td>\n",
       "      <td>16,500</td>\n",
       "      <td>30,000</td>\n",
       "      <td>23,000</td>\n",
       "      <td>24,000</td>\n",
       "      <td>24,000</td>\n",
       "      <td>27,000</td>\n",
       "      <td>2011</td>\n",
       "      <td>1</td>\n",
       "      <td>3</td>\n",
       "    </tr>\n",
       "    <tr>\n",
       "      <th>1</th>\n",
       "      <td>2011-1-4</td>\n",
       "      <td>25,600</td>\n",
       "      <td>16,593</td>\n",
       "      <td>30,000</td>\n",
       "      <td>23,000</td>\n",
       "      <td>24,000</td>\n",
       "      <td>24,000</td>\n",
       "      <td>27,000</td>\n",
       "      <td>2011</td>\n",
       "      <td>1</td>\n",
       "      <td>4</td>\n",
       "    </tr>\n",
       "    <tr>\n",
       "      <th>2</th>\n",
       "      <td>2011-1-5</td>\n",
       "      <td>25,600</td>\n",
       "      <td>16,820</td>\n",
       "      <td>30,000</td>\n",
       "      <td>23,000</td>\n",
       "      <td>24,000</td>\n",
       "      <td>24,000</td>\n",
       "      <td>27,000</td>\n",
       "      <td>2011</td>\n",
       "      <td>1</td>\n",
       "      <td>5</td>\n",
       "    </tr>\n",
       "  </tbody>\n",
       "</table>\n",
       "</div>"
      ],
      "text/plain": [
       "         일시      평균      평년      서울      부산      대구      광주      대전  year  \\\n",
       "0  2011-1-3  25,600  16,500  30,000  23,000  24,000  24,000  27,000  2011   \n",
       "1  2011-1-4  25,600  16,593  30,000  23,000  24,000  24,000  27,000  2011   \n",
       "2  2011-1-5  25,600  16,820  30,000  23,000  24,000  24,000  27,000  2011   \n",
       "\n",
       "  month day  \n",
       "0     1   3  \n",
       "1     1   4  \n",
       "2     1   5  "
      ]
     },
     "execution_count": 417,
     "metadata": {},
     "output_type": "execute_result"
    }
   ],
   "source": [
    "item.head(3)"
   ]
  },
  {
   "cell_type": "code",
   "execution_count": 419,
   "id": "50d49cab",
   "metadata": {},
   "outputs": [],
   "source": [
    "item[\"일시\"] = pd.to_datetime(item[\"일시\"])"
   ]
  },
  {
   "cell_type": "code",
   "execution_count": 422,
   "id": "c908411c",
   "metadata": {},
   "outputs": [
    {
     "data": {
      "text/html": [
       "<div>\n",
       "<style scoped>\n",
       "    .dataframe tbody tr th:only-of-type {\n",
       "        vertical-align: middle;\n",
       "    }\n",
       "\n",
       "    .dataframe tbody tr th {\n",
       "        vertical-align: top;\n",
       "    }\n",
       "\n",
       "    .dataframe thead th {\n",
       "        text-align: right;\n",
       "    }\n",
       "</style>\n",
       "<table border=\"1\" class=\"dataframe\">\n",
       "  <thead>\n",
       "    <tr style=\"text-align: right;\">\n",
       "      <th></th>\n",
       "      <th>일시</th>\n",
       "      <th>평균</th>\n",
       "      <th>평년</th>\n",
       "      <th>서울</th>\n",
       "      <th>부산</th>\n",
       "      <th>대구</th>\n",
       "      <th>광주</th>\n",
       "      <th>대전</th>\n",
       "      <th>year</th>\n",
       "      <th>month</th>\n",
       "      <th>day</th>\n",
       "    </tr>\n",
       "  </thead>\n",
       "  <tbody>\n",
       "    <tr>\n",
       "      <th>0</th>\n",
       "      <td>2011-01-03</td>\n",
       "      <td>25,600</td>\n",
       "      <td>16,500</td>\n",
       "      <td>30,000</td>\n",
       "      <td>23,000</td>\n",
       "      <td>24,000</td>\n",
       "      <td>24,000</td>\n",
       "      <td>27,000</td>\n",
       "      <td>2011</td>\n",
       "      <td>1</td>\n",
       "      <td>3</td>\n",
       "    </tr>\n",
       "    <tr>\n",
       "      <th>1</th>\n",
       "      <td>2011-01-04</td>\n",
       "      <td>25,600</td>\n",
       "      <td>16,593</td>\n",
       "      <td>30,000</td>\n",
       "      <td>23,000</td>\n",
       "      <td>24,000</td>\n",
       "      <td>24,000</td>\n",
       "      <td>27,000</td>\n",
       "      <td>2011</td>\n",
       "      <td>1</td>\n",
       "      <td>4</td>\n",
       "    </tr>\n",
       "    <tr>\n",
       "      <th>2</th>\n",
       "      <td>2011-01-05</td>\n",
       "      <td>25,600</td>\n",
       "      <td>16,820</td>\n",
       "      <td>30,000</td>\n",
       "      <td>23,000</td>\n",
       "      <td>24,000</td>\n",
       "      <td>24,000</td>\n",
       "      <td>27,000</td>\n",
       "      <td>2011</td>\n",
       "      <td>1</td>\n",
       "      <td>5</td>\n",
       "    </tr>\n",
       "  </tbody>\n",
       "</table>\n",
       "</div>"
      ],
      "text/plain": [
       "          일시      평균      평년      서울      부산      대구      광주      대전  year  \\\n",
       "0 2011-01-03  25,600  16,500  30,000  23,000  24,000  24,000  27,000  2011   \n",
       "1 2011-01-04  25,600  16,593  30,000  23,000  24,000  24,000  27,000  2011   \n",
       "2 2011-01-05  25,600  16,820  30,000  23,000  24,000  24,000  27,000  2011   \n",
       "\n",
       "  month day  \n",
       "0     1   3  \n",
       "1     1   4  \n",
       "2     1   5  "
      ]
     },
     "execution_count": 422,
     "metadata": {},
     "output_type": "execute_result"
    }
   ],
   "source": [
    "item.head(3)"
   ]
  },
  {
   "cell_type": "code",
   "execution_count": 423,
   "id": "fe46b06c",
   "metadata": {},
   "outputs": [
    {
     "data": {
      "text/plain": [
       "(248, 11)"
      ]
     },
     "execution_count": 423,
     "metadata": {},
     "output_type": "execute_result"
    }
   ],
   "source": [
    "item.shape"
   ]
  },
  {
   "cell_type": "code",
   "execution_count": 424,
   "id": "b484ff3b",
   "metadata": {},
   "outputs": [
    {
     "name": "stdout",
     "output_type": "stream",
     "text": [
      "<class 'pandas.core.frame.DataFrame'>\n",
      "RangeIndex: 248 entries, 0 to 247\n",
      "Data columns (total 11 columns):\n",
      " #   Column  Non-Null Count  Dtype         \n",
      "---  ------  --------------  -----         \n",
      " 0   일시      248 non-null    datetime64[ns]\n",
      " 1   평균      248 non-null    object        \n",
      " 2   평년      248 non-null    object        \n",
      " 3   서울      248 non-null    object        \n",
      " 4   부산      248 non-null    object        \n",
      " 5   대구      248 non-null    object        \n",
      " 6   광주      248 non-null    object        \n",
      " 7   대전      248 non-null    object        \n",
      " 8   year    248 non-null    object        \n",
      " 9   month   248 non-null    object        \n",
      " 10  day     248 non-null    object        \n",
      "dtypes: datetime64[ns](1), object(10)\n",
      "memory usage: 21.4+ KB\n"
     ]
    }
   ],
   "source": [
    "item.info()"
   ]
  },
  {
   "cell_type": "code",
   "execution_count": 425,
   "id": "040af33d",
   "metadata": {},
   "outputs": [],
   "source": [
    "price_merge = item.copy()"
   ]
  },
  {
   "cell_type": "code",
   "execution_count": 426,
   "id": "1881e100",
   "metadata": {},
   "outputs": [
    {
     "data": {
      "text/plain": [
       "(248, 11)"
      ]
     },
     "execution_count": 426,
     "metadata": {},
     "output_type": "execute_result"
    }
   ],
   "source": [
    "price_merge.shape"
   ]
  },
  {
   "cell_type": "code",
   "execution_count": 427,
   "id": "10fe496c",
   "metadata": {},
   "outputs": [
    {
     "name": "stdout",
     "output_type": "stream",
     "text": [
      "price shape 2012 : (249, 11)\n",
      "price shape 2013 : (248, 11)\n",
      "price shape 2014 : (243, 11)\n",
      "price shape 2015 : (248, 11)\n",
      "price shape 2016 : (246, 11)\n",
      "price shape 2017 : (243, 11)\n",
      "price shape 2018 : (244, 11)\n",
      "price shape 2019 : (246, 11)\n",
      "price shape 2020 : (248, 11)\n",
      "price shape 2021 : (196, 11)\n"
     ]
    }
   ],
   "source": [
    "for i in range(2012, 2022, 1) :\n",
    "    price = pd.read_csv(f\"../CSV/고구마_가격_{i}.csv\", header = None)\n",
    "    price = price.transpose()\n",
    "    price.columns = [\"일시\", \"평균\", \"평년\", \"서울\", \"부산\", \"대구\", \"광주\", \"대전\"]\n",
    "    price.drop(0, axis = 0, inplace = True)\n",
    "    price.reset_index(drop = True, inplace = True)\n",
    "\n",
    "    price[\"year\"] = f\"{i}\"\n",
    "    price[\"month\"] = price[\"일시\"].str.split(\"월\", expand = True)[0]\n",
    "    price[\"day\"] = price[\"일시\"].str.split(\"월\", expand = True)[1].str.split(\"일\", expand = True)[0]\n",
    "    price[\"day\"] = price[\"day\"].str.lstrip() # 앞 공백 제거\n",
    "\n",
    "    price[\"일시\"] = price[\"year\"] + \"-\" + price[\"month\"] + \"-\" + price[\"day\"]\n",
    "    price[\"일시\"] = pd.to_datetime(price[\"일시\"])\n",
    "    price_merge = pd.concat([price_merge, price], ignore_index = True)\n",
    "    print(\"price shape {} : {}\".format(i, price.shape))"
   ]
  },
  {
   "cell_type": "code",
   "execution_count": 428,
   "id": "894106fc",
   "metadata": {},
   "outputs": [
    {
     "data": {
      "text/plain": [
       "(2659, 11)"
      ]
     },
     "execution_count": 428,
     "metadata": {},
     "output_type": "execute_result"
    }
   ],
   "source": [
    "price_merge.shape"
   ]
  },
  {
   "cell_type": "code",
   "execution_count": 429,
   "id": "79c97a9c",
   "metadata": {},
   "outputs": [
    {
     "name": "stdout",
     "output_type": "stream",
     "text": [
      "<class 'pandas.core.frame.DataFrame'>\n",
      "RangeIndex: 2659 entries, 0 to 2658\n",
      "Data columns (total 11 columns):\n",
      " #   Column  Non-Null Count  Dtype         \n",
      "---  ------  --------------  -----         \n",
      " 0   일시      2659 non-null   datetime64[ns]\n",
      " 1   평균      2659 non-null   object        \n",
      " 2   평년      2659 non-null   object        \n",
      " 3   서울      2659 non-null   object        \n",
      " 4   부산      2659 non-null   object        \n",
      " 5   대구      2659 non-null   object        \n",
      " 6   광주      2659 non-null   object        \n",
      " 7   대전      2659 non-null   object        \n",
      " 8   year    2659 non-null   object        \n",
      " 9   month   2659 non-null   object        \n",
      " 10  day     2659 non-null   object        \n",
      "dtypes: datetime64[ns](1), object(10)\n",
      "memory usage: 228.6+ KB\n"
     ]
    }
   ],
   "source": [
    "price_merge.info()"
   ]
  },
  {
   "cell_type": "code",
   "execution_count": 430,
   "id": "a108170c",
   "metadata": {},
   "outputs": [
    {
     "data": {
      "text/html": [
       "<div>\n",
       "<style scoped>\n",
       "    .dataframe tbody tr th:only-of-type {\n",
       "        vertical-align: middle;\n",
       "    }\n",
       "\n",
       "    .dataframe tbody tr th {\n",
       "        vertical-align: top;\n",
       "    }\n",
       "\n",
       "    .dataframe thead th {\n",
       "        text-align: right;\n",
       "    }\n",
       "</style>\n",
       "<table border=\"1\" class=\"dataframe\">\n",
       "  <thead>\n",
       "    <tr style=\"text-align: right;\">\n",
       "      <th></th>\n",
       "      <th>일시</th>\n",
       "      <th>평균</th>\n",
       "      <th>평년</th>\n",
       "      <th>서울</th>\n",
       "      <th>부산</th>\n",
       "      <th>대구</th>\n",
       "      <th>광주</th>\n",
       "      <th>대전</th>\n",
       "      <th>year</th>\n",
       "      <th>month</th>\n",
       "      <th>day</th>\n",
       "    </tr>\n",
       "  </thead>\n",
       "  <tbody>\n",
       "  </tbody>\n",
       "</table>\n",
       "</div>"
      ],
      "text/plain": [
       "Empty DataFrame\n",
       "Columns: [일시, 평균, 평년, 서울, 부산, 대구, 광주, 대전, year, month, day]\n",
       "Index: []"
      ]
     },
     "execution_count": 430,
     "metadata": {},
     "output_type": "execute_result"
    }
   ],
   "source": [
    "price_merge[price_merge[\"일시\"].isnull()]"
   ]
  },
  {
   "cell_type": "code",
   "execution_count": 431,
   "id": "5128e544",
   "metadata": {},
   "outputs": [
    {
     "data": {
      "text/html": [
       "<div>\n",
       "<style scoped>\n",
       "    .dataframe tbody tr th:only-of-type {\n",
       "        vertical-align: middle;\n",
       "    }\n",
       "\n",
       "    .dataframe tbody tr th {\n",
       "        vertical-align: top;\n",
       "    }\n",
       "\n",
       "    .dataframe thead th {\n",
       "        text-align: right;\n",
       "    }\n",
       "</style>\n",
       "<table border=\"1\" class=\"dataframe\">\n",
       "  <thead>\n",
       "    <tr style=\"text-align: right;\">\n",
       "      <th></th>\n",
       "      <th>일시</th>\n",
       "      <th>평균</th>\n",
       "      <th>평년</th>\n",
       "      <th>서울</th>\n",
       "      <th>부산</th>\n",
       "      <th>대구</th>\n",
       "      <th>광주</th>\n",
       "      <th>대전</th>\n",
       "      <th>year</th>\n",
       "      <th>month</th>\n",
       "      <th>day</th>\n",
       "    </tr>\n",
       "  </thead>\n",
       "  <tbody>\n",
       "    <tr>\n",
       "      <th>0</th>\n",
       "      <td>2011-01-03</td>\n",
       "      <td>25,600</td>\n",
       "      <td>16,500</td>\n",
       "      <td>30,000</td>\n",
       "      <td>23,000</td>\n",
       "      <td>24,000</td>\n",
       "      <td>24,000</td>\n",
       "      <td>27,000</td>\n",
       "      <td>2011</td>\n",
       "      <td>1</td>\n",
       "      <td>3</td>\n",
       "    </tr>\n",
       "    <tr>\n",
       "      <th>1</th>\n",
       "      <td>2011-01-04</td>\n",
       "      <td>25,600</td>\n",
       "      <td>16,593</td>\n",
       "      <td>30,000</td>\n",
       "      <td>23,000</td>\n",
       "      <td>24,000</td>\n",
       "      <td>24,000</td>\n",
       "      <td>27,000</td>\n",
       "      <td>2011</td>\n",
       "      <td>1</td>\n",
       "      <td>4</td>\n",
       "    </tr>\n",
       "    <tr>\n",
       "      <th>2</th>\n",
       "      <td>2011-01-05</td>\n",
       "      <td>25,600</td>\n",
       "      <td>16,820</td>\n",
       "      <td>30,000</td>\n",
       "      <td>23,000</td>\n",
       "      <td>24,000</td>\n",
       "      <td>24,000</td>\n",
       "      <td>27,000</td>\n",
       "      <td>2011</td>\n",
       "      <td>1</td>\n",
       "      <td>5</td>\n",
       "    </tr>\n",
       "  </tbody>\n",
       "</table>\n",
       "</div>"
      ],
      "text/plain": [
       "          일시      평균      평년      서울      부산      대구      광주      대전  year  \\\n",
       "0 2011-01-03  25,600  16,500  30,000  23,000  24,000  24,000  27,000  2011   \n",
       "1 2011-01-04  25,600  16,593  30,000  23,000  24,000  24,000  27,000  2011   \n",
       "2 2011-01-05  25,600  16,820  30,000  23,000  24,000  24,000  27,000  2011   \n",
       "\n",
       "  month day  \n",
       "0     1   3  \n",
       "1     1   4  \n",
       "2     1   5  "
      ]
     },
     "execution_count": 431,
     "metadata": {},
     "output_type": "execute_result"
    }
   ],
   "source": [
    "price_merge.head(3)"
   ]
  },
  {
   "cell_type": "code",
   "execution_count": 432,
   "id": "6f153649",
   "metadata": {},
   "outputs": [
    {
     "data": {
      "text/html": [
       "<div>\n",
       "<style scoped>\n",
       "    .dataframe tbody tr th:only-of-type {\n",
       "        vertical-align: middle;\n",
       "    }\n",
       "\n",
       "    .dataframe tbody tr th {\n",
       "        vertical-align: top;\n",
       "    }\n",
       "\n",
       "    .dataframe thead th {\n",
       "        text-align: right;\n",
       "    }\n",
       "</style>\n",
       "<table border=\"1\" class=\"dataframe\">\n",
       "  <thead>\n",
       "    <tr style=\"text-align: right;\">\n",
       "      <th></th>\n",
       "      <th>일시</th>\n",
       "      <th>평균</th>\n",
       "      <th>평년</th>\n",
       "      <th>서울</th>\n",
       "      <th>부산</th>\n",
       "      <th>대구</th>\n",
       "      <th>광주</th>\n",
       "      <th>대전</th>\n",
       "      <th>year</th>\n",
       "      <th>month</th>\n",
       "      <th>day</th>\n",
       "    </tr>\n",
       "  </thead>\n",
       "  <tbody>\n",
       "    <tr>\n",
       "      <th>2231</th>\n",
       "      <td>2020-01-28</td>\n",
       "      <td>27,000</td>\n",
       "      <td>28,263</td>\n",
       "      <td>28,000</td>\n",
       "      <td>-</td>\n",
       "      <td>27,000</td>\n",
       "      <td>27,000</td>\n",
       "      <td>26,000</td>\n",
       "      <td>2020</td>\n",
       "      <td>1</td>\n",
       "      <td>28</td>\n",
       "    </tr>\n",
       "  </tbody>\n",
       "</table>\n",
       "</div>"
      ],
      "text/plain": [
       "             일시      평균      평년      서울 부산      대구      광주      대전  year  \\\n",
       "2231 2020-01-28  27,000  28,263  28,000  -  27,000  27,000  26,000  2020   \n",
       "\n",
       "     month day  \n",
       "2231     1  28  "
      ]
     },
     "execution_count": 432,
     "metadata": {},
     "output_type": "execute_result"
    }
   ],
   "source": [
    "price_merge[price_merge[\"부산\"] == \"-\"]"
   ]
  },
  {
   "cell_type": "code",
   "execution_count": 434,
   "id": "faaf934d",
   "metadata": {},
   "outputs": [
    {
     "name": "stdout",
     "output_type": "stream",
     "text": [
      "2021-01-27 부산 가격 : 26,000\n"
     ]
    }
   ],
   "source": [
    "print(\"2021-01-27 부산 가격 : {}\".format(price_merge.iloc[2230, 4]))\n",
    "price_merge.iloc[2231, 4] = price_merge.iloc[2230, 4]"
   ]
  },
  {
   "cell_type": "code",
   "execution_count": 435,
   "id": "77e72d39",
   "metadata": {},
   "outputs": [
    {
     "data": {
      "text/html": [
       "<div>\n",
       "<style scoped>\n",
       "    .dataframe tbody tr th:only-of-type {\n",
       "        vertical-align: middle;\n",
       "    }\n",
       "\n",
       "    .dataframe tbody tr th {\n",
       "        vertical-align: top;\n",
       "    }\n",
       "\n",
       "    .dataframe thead th {\n",
       "        text-align: right;\n",
       "    }\n",
       "</style>\n",
       "<table border=\"1\" class=\"dataframe\">\n",
       "  <thead>\n",
       "    <tr style=\"text-align: right;\">\n",
       "      <th></th>\n",
       "      <th>일시</th>\n",
       "      <th>평균</th>\n",
       "      <th>평년</th>\n",
       "      <th>서울</th>\n",
       "      <th>부산</th>\n",
       "      <th>대구</th>\n",
       "      <th>광주</th>\n",
       "      <th>대전</th>\n",
       "      <th>year</th>\n",
       "      <th>month</th>\n",
       "      <th>day</th>\n",
       "    </tr>\n",
       "  </thead>\n",
       "  <tbody>\n",
       "    <tr>\n",
       "      <th>2229</th>\n",
       "      <td>2020-01-22</td>\n",
       "      <td>26,800</td>\n",
       "      <td>27,833</td>\n",
       "      <td>28,000</td>\n",
       "      <td>26,000</td>\n",
       "      <td>27,000</td>\n",
       "      <td>27,000</td>\n",
       "      <td>26,000</td>\n",
       "      <td>2020</td>\n",
       "      <td>1</td>\n",
       "      <td>22</td>\n",
       "    </tr>\n",
       "    <tr>\n",
       "      <th>2230</th>\n",
       "      <td>2020-01-23</td>\n",
       "      <td>26,400</td>\n",
       "      <td>27,897</td>\n",
       "      <td>28,000</td>\n",
       "      <td>26,000</td>\n",
       "      <td>26,000</td>\n",
       "      <td>26,000</td>\n",
       "      <td>26,000</td>\n",
       "      <td>2020</td>\n",
       "      <td>1</td>\n",
       "      <td>23</td>\n",
       "    </tr>\n",
       "    <tr>\n",
       "      <th>2231</th>\n",
       "      <td>2020-01-28</td>\n",
       "      <td>27,000</td>\n",
       "      <td>28,263</td>\n",
       "      <td>28,000</td>\n",
       "      <td>26,000</td>\n",
       "      <td>27,000</td>\n",
       "      <td>27,000</td>\n",
       "      <td>26,000</td>\n",
       "      <td>2020</td>\n",
       "      <td>1</td>\n",
       "      <td>28</td>\n",
       "    </tr>\n",
       "    <tr>\n",
       "      <th>2232</th>\n",
       "      <td>2020-01-29</td>\n",
       "      <td>26,400</td>\n",
       "      <td>28,553</td>\n",
       "      <td>28,000</td>\n",
       "      <td>26,000</td>\n",
       "      <td>26,000</td>\n",
       "      <td>26,000</td>\n",
       "      <td>26,000</td>\n",
       "      <td>2020</td>\n",
       "      <td>1</td>\n",
       "      <td>29</td>\n",
       "    </tr>\n",
       "    <tr>\n",
       "      <th>2233</th>\n",
       "      <td>2020-01-30</td>\n",
       "      <td>25,800</td>\n",
       "      <td>28,767</td>\n",
       "      <td>28,000</td>\n",
       "      <td>25,000</td>\n",
       "      <td>26,000</td>\n",
       "      <td>25,000</td>\n",
       "      <td>25,000</td>\n",
       "      <td>2020</td>\n",
       "      <td>1</td>\n",
       "      <td>30</td>\n",
       "    </tr>\n",
       "  </tbody>\n",
       "</table>\n",
       "</div>"
      ],
      "text/plain": [
       "             일시      평균      평년      서울      부산      대구      광주      대전  year  \\\n",
       "2229 2020-01-22  26,800  27,833  28,000  26,000  27,000  27,000  26,000  2020   \n",
       "2230 2020-01-23  26,400  27,897  28,000  26,000  26,000  26,000  26,000  2020   \n",
       "2231 2020-01-28  27,000  28,263  28,000  26,000  27,000  27,000  26,000  2020   \n",
       "2232 2020-01-29  26,400  28,553  28,000  26,000  26,000  26,000  26,000  2020   \n",
       "2233 2020-01-30  25,800  28,767  28,000  25,000  26,000  25,000  25,000  2020   \n",
       "\n",
       "     month day  \n",
       "2229     1  22  \n",
       "2230     1  23  \n",
       "2231     1  28  \n",
       "2232     1  29  \n",
       "2233     1  30  "
      ]
     },
     "execution_count": 435,
     "metadata": {},
     "output_type": "execute_result"
    }
   ],
   "source": [
    "price_merge.loc[2229: 2233, :]"
   ]
  },
  {
   "cell_type": "code",
   "execution_count": 436,
   "id": "08f6266e",
   "metadata": {},
   "outputs": [
    {
     "data": {
      "text/html": [
       "<div>\n",
       "<style scoped>\n",
       "    .dataframe tbody tr th:only-of-type {\n",
       "        vertical-align: middle;\n",
       "    }\n",
       "\n",
       "    .dataframe tbody tr th {\n",
       "        vertical-align: top;\n",
       "    }\n",
       "\n",
       "    .dataframe thead th {\n",
       "        text-align: right;\n",
       "    }\n",
       "</style>\n",
       "<table border=\"1\" class=\"dataframe\">\n",
       "  <thead>\n",
       "    <tr style=\"text-align: right;\">\n",
       "      <th></th>\n",
       "      <th>일시</th>\n",
       "      <th>평균</th>\n",
       "      <th>평년</th>\n",
       "      <th>서울</th>\n",
       "      <th>부산</th>\n",
       "      <th>대구</th>\n",
       "      <th>광주</th>\n",
       "      <th>대전</th>\n",
       "      <th>year</th>\n",
       "      <th>month</th>\n",
       "      <th>day</th>\n",
       "    </tr>\n",
       "  </thead>\n",
       "  <tbody>\n",
       "    <tr>\n",
       "      <th>2249</th>\n",
       "      <td>2020-02-21</td>\n",
       "      <td>25,250</td>\n",
       "      <td>28,640</td>\n",
       "      <td>26,000</td>\n",
       "      <td>25,000</td>\n",
       "      <td>25,000</td>\n",
       "      <td>-</td>\n",
       "      <td>25,000</td>\n",
       "      <td>2020</td>\n",
       "      <td>2</td>\n",
       "      <td>21</td>\n",
       "    </tr>\n",
       "    <tr>\n",
       "      <th>2250</th>\n",
       "      <td>2020-02-24</td>\n",
       "      <td>25,250</td>\n",
       "      <td>28,900</td>\n",
       "      <td>26,000</td>\n",
       "      <td>25,000</td>\n",
       "      <td>25,000</td>\n",
       "      <td>-</td>\n",
       "      <td>25,000</td>\n",
       "      <td>2020</td>\n",
       "      <td>2</td>\n",
       "      <td>24</td>\n",
       "    </tr>\n",
       "    <tr>\n",
       "      <th>2251</th>\n",
       "      <td>2020-02-25</td>\n",
       "      <td>27,250</td>\n",
       "      <td>28,960</td>\n",
       "      <td>28,000</td>\n",
       "      <td>29,000</td>\n",
       "      <td>25,000</td>\n",
       "      <td>-</td>\n",
       "      <td>27,000</td>\n",
       "      <td>2020</td>\n",
       "      <td>2</td>\n",
       "      <td>25</td>\n",
       "    </tr>\n",
       "    <tr>\n",
       "      <th>2252</th>\n",
       "      <td>2020-02-26</td>\n",
       "      <td>30,750</td>\n",
       "      <td>29,100</td>\n",
       "      <td>31,000</td>\n",
       "      <td>33,000</td>\n",
       "      <td>30,000</td>\n",
       "      <td>-</td>\n",
       "      <td>29,000</td>\n",
       "      <td>2020</td>\n",
       "      <td>2</td>\n",
       "      <td>26</td>\n",
       "    </tr>\n",
       "    <tr>\n",
       "      <th>2253</th>\n",
       "      <td>2020-02-27</td>\n",
       "      <td>33,750</td>\n",
       "      <td>29,273</td>\n",
       "      <td>33,000</td>\n",
       "      <td>36,000</td>\n",
       "      <td>35,000</td>\n",
       "      <td>-</td>\n",
       "      <td>31,000</td>\n",
       "      <td>2020</td>\n",
       "      <td>2</td>\n",
       "      <td>27</td>\n",
       "    </tr>\n",
       "    <tr>\n",
       "      <th>2254</th>\n",
       "      <td>2020-02-28</td>\n",
       "      <td>35,000</td>\n",
       "      <td>29,507</td>\n",
       "      <td>35,000</td>\n",
       "      <td>36,000</td>\n",
       "      <td>36,000</td>\n",
       "      <td>-</td>\n",
       "      <td>33,000</td>\n",
       "      <td>2020</td>\n",
       "      <td>2</td>\n",
       "      <td>28</td>\n",
       "    </tr>\n",
       "    <tr>\n",
       "      <th>2255</th>\n",
       "      <td>2020-03-02</td>\n",
       "      <td>34,250</td>\n",
       "      <td>29,587</td>\n",
       "      <td>35,000</td>\n",
       "      <td>35,000</td>\n",
       "      <td>36,000</td>\n",
       "      <td>-</td>\n",
       "      <td>31,000</td>\n",
       "      <td>2020</td>\n",
       "      <td>3</td>\n",
       "      <td>2</td>\n",
       "    </tr>\n",
       "    <tr>\n",
       "      <th>2256</th>\n",
       "      <td>2020-03-03</td>\n",
       "      <td>34,250</td>\n",
       "      <td>29,790</td>\n",
       "      <td>35,000</td>\n",
       "      <td>35,000</td>\n",
       "      <td>36,000</td>\n",
       "      <td>-</td>\n",
       "      <td>31,000</td>\n",
       "      <td>2020</td>\n",
       "      <td>3</td>\n",
       "      <td>3</td>\n",
       "    </tr>\n",
       "    <tr>\n",
       "      <th>2257</th>\n",
       "      <td>2020-03-04</td>\n",
       "      <td>34,250</td>\n",
       "      <td>29,857</td>\n",
       "      <td>33,000</td>\n",
       "      <td>35,000</td>\n",
       "      <td>36,000</td>\n",
       "      <td>-</td>\n",
       "      <td>33,000</td>\n",
       "      <td>2020</td>\n",
       "      <td>3</td>\n",
       "      <td>4</td>\n",
       "    </tr>\n",
       "    <tr>\n",
       "      <th>2258</th>\n",
       "      <td>2020-03-05</td>\n",
       "      <td>35,250</td>\n",
       "      <td>29,907</td>\n",
       "      <td>35,000</td>\n",
       "      <td>35,000</td>\n",
       "      <td>36,000</td>\n",
       "      <td>-</td>\n",
       "      <td>35,000</td>\n",
       "      <td>2020</td>\n",
       "      <td>3</td>\n",
       "      <td>5</td>\n",
       "    </tr>\n",
       "    <tr>\n",
       "      <th>2259</th>\n",
       "      <td>2020-03-06</td>\n",
       "      <td>35,250</td>\n",
       "      <td>29,987</td>\n",
       "      <td>35,000</td>\n",
       "      <td>35,000</td>\n",
       "      <td>36,000</td>\n",
       "      <td>-</td>\n",
       "      <td>35,000</td>\n",
       "      <td>2020</td>\n",
       "      <td>3</td>\n",
       "      <td>6</td>\n",
       "    </tr>\n",
       "  </tbody>\n",
       "</table>\n",
       "</div>"
      ],
      "text/plain": [
       "             일시      평균      평년      서울      부산      대구 광주      대전  year  \\\n",
       "2249 2020-02-21  25,250  28,640  26,000  25,000  25,000  -  25,000  2020   \n",
       "2250 2020-02-24  25,250  28,900  26,000  25,000  25,000  -  25,000  2020   \n",
       "2251 2020-02-25  27,250  28,960  28,000  29,000  25,000  -  27,000  2020   \n",
       "2252 2020-02-26  30,750  29,100  31,000  33,000  30,000  -  29,000  2020   \n",
       "2253 2020-02-27  33,750  29,273  33,000  36,000  35,000  -  31,000  2020   \n",
       "2254 2020-02-28  35,000  29,507  35,000  36,000  36,000  -  33,000  2020   \n",
       "2255 2020-03-02  34,250  29,587  35,000  35,000  36,000  -  31,000  2020   \n",
       "2256 2020-03-03  34,250  29,790  35,000  35,000  36,000  -  31,000  2020   \n",
       "2257 2020-03-04  34,250  29,857  33,000  35,000  36,000  -  33,000  2020   \n",
       "2258 2020-03-05  35,250  29,907  35,000  35,000  36,000  -  35,000  2020   \n",
       "2259 2020-03-06  35,250  29,987  35,000  35,000  36,000  -  35,000  2020   \n",
       "\n",
       "     month day  \n",
       "2249     2  21  \n",
       "2250     2  24  \n",
       "2251     2  25  \n",
       "2252     2  26  \n",
       "2253     2  27  \n",
       "2254     2  28  \n",
       "2255     3   2  \n",
       "2256     3   3  \n",
       "2257     3   4  \n",
       "2258     3   5  \n",
       "2259     3   6  "
      ]
     },
     "execution_count": 436,
     "metadata": {},
     "output_type": "execute_result"
    }
   ],
   "source": [
    "price_merge[price_merge[\"광주\"] == \"-\"]"
   ]
  },
  {
   "cell_type": "code",
   "execution_count": 445,
   "id": "0b58e895",
   "metadata": {},
   "outputs": [
    {
     "name": "stdout",
     "output_type": "stream",
     "text": [
      "2020-02-20 광주 가격 : 25,000\n"
     ]
    }
   ],
   "source": [
    "print(\"2020-02-20 광주 가격 : {}\".format(price_merge.iloc[2248, 6]))"
   ]
  },
  {
   "cell_type": "code",
   "execution_count": 438,
   "id": "993169f2",
   "metadata": {},
   "outputs": [],
   "source": [
    "price_merge.loc[2249: 2251, \"광주\"] = price_merge.iloc[2248, 6]"
   ]
  },
  {
   "cell_type": "code",
   "execution_count": 444,
   "id": "b7b2dd79",
   "metadata": {},
   "outputs": [
    {
     "name": "stdout",
     "output_type": "stream",
     "text": [
      "2020-03-07 광주 가격 : 35,000\n"
     ]
    }
   ],
   "source": [
    "print(\"2020-03-07 광주 가격 : {}\".format(price_merge.iloc[2260, 6]))"
   ]
  },
  {
   "cell_type": "code",
   "execution_count": 440,
   "id": "8fba83b3",
   "metadata": {},
   "outputs": [],
   "source": [
    "price_merge.loc[2252: 2254, \"광주\"] = '30,000'"
   ]
  },
  {
   "cell_type": "code",
   "execution_count": 441,
   "id": "d8db8c04",
   "metadata": {},
   "outputs": [],
   "source": [
    "price_merge.loc[2255: 2259, \"광주\"] = price_merge.iloc[2260, 6]"
   ]
  },
  {
   "cell_type": "code",
   "execution_count": 442,
   "id": "1704e65a",
   "metadata": {},
   "outputs": [
    {
     "data": {
      "text/html": [
       "<div>\n",
       "<style scoped>\n",
       "    .dataframe tbody tr th:only-of-type {\n",
       "        vertical-align: middle;\n",
       "    }\n",
       "\n",
       "    .dataframe tbody tr th {\n",
       "        vertical-align: top;\n",
       "    }\n",
       "\n",
       "    .dataframe thead th {\n",
       "        text-align: right;\n",
       "    }\n",
       "</style>\n",
       "<table border=\"1\" class=\"dataframe\">\n",
       "  <thead>\n",
       "    <tr style=\"text-align: right;\">\n",
       "      <th></th>\n",
       "      <th>일시</th>\n",
       "      <th>평균</th>\n",
       "      <th>평년</th>\n",
       "      <th>서울</th>\n",
       "      <th>부산</th>\n",
       "      <th>대구</th>\n",
       "      <th>광주</th>\n",
       "      <th>대전</th>\n",
       "      <th>year</th>\n",
       "      <th>month</th>\n",
       "      <th>day</th>\n",
       "    </tr>\n",
       "  </thead>\n",
       "  <tbody>\n",
       "  </tbody>\n",
       "</table>\n",
       "</div>"
      ],
      "text/plain": [
       "Empty DataFrame\n",
       "Columns: [일시, 평균, 평년, 서울, 부산, 대구, 광주, 대전, year, month, day]\n",
       "Index: []"
      ]
     },
     "execution_count": 442,
     "metadata": {},
     "output_type": "execute_result"
    }
   ],
   "source": [
    "price_merge[price_merge[\"광주\"] == \"-\"]"
   ]
  },
  {
   "cell_type": "code",
   "execution_count": 443,
   "id": "8cae07e1",
   "metadata": {},
   "outputs": [
    {
     "data": {
      "text/html": [
       "<div>\n",
       "<style scoped>\n",
       "    .dataframe tbody tr th:only-of-type {\n",
       "        vertical-align: middle;\n",
       "    }\n",
       "\n",
       "    .dataframe tbody tr th {\n",
       "        vertical-align: top;\n",
       "    }\n",
       "\n",
       "    .dataframe thead th {\n",
       "        text-align: right;\n",
       "    }\n",
       "</style>\n",
       "<table border=\"1\" class=\"dataframe\">\n",
       "  <thead>\n",
       "    <tr style=\"text-align: right;\">\n",
       "      <th></th>\n",
       "      <th>일시</th>\n",
       "      <th>평균</th>\n",
       "      <th>평년</th>\n",
       "      <th>서울</th>\n",
       "      <th>부산</th>\n",
       "      <th>대구</th>\n",
       "      <th>광주</th>\n",
       "      <th>대전</th>\n",
       "      <th>year</th>\n",
       "      <th>month</th>\n",
       "      <th>day</th>\n",
       "    </tr>\n",
       "  </thead>\n",
       "  <tbody>\n",
       "  </tbody>\n",
       "</table>\n",
       "</div>"
      ],
      "text/plain": [
       "Empty DataFrame\n",
       "Columns: [일시, 평균, 평년, 서울, 부산, 대구, 광주, 대전, year, month, day]\n",
       "Index: []"
      ]
     },
     "execution_count": 443,
     "metadata": {},
     "output_type": "execute_result"
    }
   ],
   "source": [
    "price_merge[price_merge[\"부산\"] == \"-\"]"
   ]
  },
  {
   "cell_type": "code",
   "execution_count": 446,
   "id": "22e6330e",
   "metadata": {},
   "outputs": [],
   "source": [
    "price_merge[\"평균\"] = price_merge[\"평균\"].str.replace(pat = r\",\", repl = r\"\", regex = True).astype(int)\n",
    "price_merge[\"평년\"] = price_merge[\"평년\"].str.replace(pat = r\",\", repl = r\"\", regex = True).astype(int)\n",
    "price_merge[\"서울\"] = price_merge[\"서울\"].str.replace(pat = r\",\", repl = r\"\", regex = True).astype(int)\n",
    "price_merge[\"부산\"] = price_merge[\"부산\"].str.replace(pat = r\",\", repl = r\"\", regex = True).astype(int)\n",
    "price_merge[\"대구\"] = price_merge[\"대구\"].str.replace(pat = r\",\", repl = r\"\", regex = True).astype(int)\n",
    "price_merge[\"광주\"] = price_merge[\"광주\"].str.replace(pat = r\",\", repl = r\"\", regex = True).astype(int)\n",
    "price_merge[\"대전\"] = price_merge[\"대전\"].str.replace(pat = r\",\", repl = r\"\", regex = True).astype(int)"
   ]
  },
  {
   "cell_type": "code",
   "execution_count": 447,
   "id": "1d2fd2ef",
   "metadata": {},
   "outputs": [
    {
     "name": "stdout",
     "output_type": "stream",
     "text": [
      "<class 'pandas.core.frame.DataFrame'>\n",
      "RangeIndex: 2659 entries, 0 to 2658\n",
      "Data columns (total 11 columns):\n",
      " #   Column  Non-Null Count  Dtype         \n",
      "---  ------  --------------  -----         \n",
      " 0   일시      2659 non-null   datetime64[ns]\n",
      " 1   평균      2659 non-null   int64         \n",
      " 2   평년      2659 non-null   int64         \n",
      " 3   서울      2659 non-null   int64         \n",
      " 4   부산      2659 non-null   int64         \n",
      " 5   대구      2659 non-null   int64         \n",
      " 6   광주      2659 non-null   int64         \n",
      " 7   대전      2659 non-null   int64         \n",
      " 8   year    2659 non-null   object        \n",
      " 9   month   2659 non-null   object        \n",
      " 10  day     2659 non-null   object        \n",
      "dtypes: datetime64[ns](1), int64(7), object(3)\n",
      "memory usage: 228.6+ KB\n"
     ]
    }
   ],
   "source": [
    "price_merge.info()"
   ]
  },
  {
   "cell_type": "code",
   "execution_count": 448,
   "id": "6e159c82",
   "metadata": {},
   "outputs": [],
   "source": [
    "price_merge.drop([\"year\", \"month\", \"day\"], axis = 1, inplace = True)"
   ]
  },
  {
   "cell_type": "code",
   "execution_count": 449,
   "id": "acab0f14",
   "metadata": {},
   "outputs": [
    {
     "name": "stdout",
     "output_type": "stream",
     "text": [
      "<class 'pandas.core.frame.DataFrame'>\n",
      "RangeIndex: 2659 entries, 0 to 2658\n",
      "Data columns (total 8 columns):\n",
      " #   Column  Non-Null Count  Dtype         \n",
      "---  ------  --------------  -----         \n",
      " 0   일시      2659 non-null   datetime64[ns]\n",
      " 1   평균      2659 non-null   int64         \n",
      " 2   평년      2659 non-null   int64         \n",
      " 3   서울      2659 non-null   int64         \n",
      " 4   부산      2659 non-null   int64         \n",
      " 5   대구      2659 non-null   int64         \n",
      " 6   광주      2659 non-null   int64         \n",
      " 7   대전      2659 non-null   int64         \n",
      "dtypes: datetime64[ns](1), int64(7)\n",
      "memory usage: 166.3 KB\n"
     ]
    }
   ],
   "source": [
    "price_merge.info()"
   ]
  },
  {
   "cell_type": "code",
   "execution_count": 450,
   "id": "0e68a131",
   "metadata": {},
   "outputs": [],
   "source": [
    "result_data = pd.merge(data_merge, price_merge, on = \"일시\", how = \"outer\")"
   ]
  },
  {
   "cell_type": "code",
   "execution_count": 451,
   "id": "c4534169",
   "metadata": {},
   "outputs": [
    {
     "name": "stdout",
     "output_type": "stream",
     "text": [
      "<class 'pandas.core.frame.DataFrame'>\n",
      "Int64Index: 3945 entries, 0 to 3944\n",
      "Data columns (total 28 columns):\n",
      " #   Column         Non-Null Count  Dtype         \n",
      "---  ------         --------------  -----         \n",
      " 0   지점번호           3945 non-null   object        \n",
      " 1   지점명            3945 non-null   object        \n",
      " 2   일시             3945 non-null   datetime64[ns]\n",
      " 3   평균기온(℃)        3945 non-null   float64       \n",
      " 4   최고기온(℃)        3945 non-null   float64       \n",
      " 5   최고기온시각         3945 non-null   object        \n",
      " 6   최저기온(℃)        3945 non-null   float64       \n",
      " 7   최저기온시각         3945 non-null   object        \n",
      " 8   일교차            3945 non-null   float64       \n",
      " 9   강수량(mm)        3945 non-null   float64       \n",
      " 10  1시간최다강수량(mm)   3945 non-null   float64       \n",
      " 11  1시간최다강수량시각     3945 non-null   object        \n",
      " 12  평균풍속(m/s)      3945 non-null   float64       \n",
      " 13  최대풍속(m/s)      3945 non-null   float64       \n",
      " 14  최대풍속풍향(deg)    3945 non-null   float64       \n",
      " 15  최대풍속시각         3945 non-null   object        \n",
      " 16  최대순간풍속(m/s)    3945 non-null   float64       \n",
      " 17  최대순간풍속풍향(deg)  3945 non-null   float64       \n",
      " 18  최대순간풍속시각       3945 non-null   object        \n",
      " 19  평균습도(%rh)      3945 non-null   float64       \n",
      " 20  최저습도(%rh)      3945 non-null   float64       \n",
      " 21  평균             2659 non-null   float64       \n",
      " 22  평년             2659 non-null   float64       \n",
      " 23  서울             2659 non-null   float64       \n",
      " 24  부산             2659 non-null   float64       \n",
      " 25  대구             2659 non-null   float64       \n",
      " 26  광주             2659 non-null   float64       \n",
      " 27  대전             2659 non-null   float64       \n",
      "dtypes: datetime64[ns](1), float64(20), object(7)\n",
      "memory usage: 893.8+ KB\n"
     ]
    }
   ],
   "source": [
    "result_data.info()"
   ]
  },
  {
   "cell_type": "code",
   "execution_count": 452,
   "id": "c95c22a8",
   "metadata": {},
   "outputs": [],
   "source": [
    "result_data = result_data.fillna(method = \"ffill\")\n",
    "result_data = result_data.fillna(method = \"bfill\")"
   ]
  },
  {
   "cell_type": "code",
   "execution_count": 453,
   "id": "ad6cae4e",
   "metadata": {},
   "outputs": [
    {
     "data": {
      "text/html": [
       "<div>\n",
       "<style scoped>\n",
       "    .dataframe tbody tr th:only-of-type {\n",
       "        vertical-align: middle;\n",
       "    }\n",
       "\n",
       "    .dataframe tbody tr th {\n",
       "        vertical-align: top;\n",
       "    }\n",
       "\n",
       "    .dataframe thead th {\n",
       "        text-align: right;\n",
       "    }\n",
       "</style>\n",
       "<table border=\"1\" class=\"dataframe\">\n",
       "  <thead>\n",
       "    <tr style=\"text-align: right;\">\n",
       "      <th></th>\n",
       "      <th>지점번호</th>\n",
       "      <th>지점명</th>\n",
       "      <th>일시</th>\n",
       "      <th>평균기온(℃)</th>\n",
       "      <th>최고기온(℃)</th>\n",
       "      <th>최고기온시각</th>\n",
       "      <th>최저기온(℃)</th>\n",
       "      <th>최저기온시각</th>\n",
       "      <th>일교차</th>\n",
       "      <th>강수량(mm)</th>\n",
       "      <th>...</th>\n",
       "      <th>최대순간풍속시각</th>\n",
       "      <th>평균습도(%rh)</th>\n",
       "      <th>최저습도(%rh)</th>\n",
       "      <th>평균</th>\n",
       "      <th>평년</th>\n",
       "      <th>서울</th>\n",
       "      <th>부산</th>\n",
       "      <th>대구</th>\n",
       "      <th>광주</th>\n",
       "      <th>대전</th>\n",
       "    </tr>\n",
       "  </thead>\n",
       "  <tbody>\n",
       "  </tbody>\n",
       "</table>\n",
       "<p>0 rows × 28 columns</p>\n",
       "</div>"
      ],
      "text/plain": [
       "Empty DataFrame\n",
       "Columns: [지점번호, 지점명, 일시, 평균기온(℃), 최고기온(℃), 최고기온시각, 최저기온(℃), 최저기온시각, 일교차, 강수량(mm), 1시간최다강수량(mm), 1시간최다강수량시각, 평균풍속(m/s), 최대풍속(m/s), 최대풍속풍향(deg), 최대풍속시각, 최대순간풍속(m/s), 최대순간풍속풍향(deg), 최대순간풍속시각, 평균습도(%rh), 최저습도(%rh), 평균, 평년, 서울, 부산, 대구, 광주, 대전]\n",
       "Index: []\n",
       "\n",
       "[0 rows x 28 columns]"
      ]
     },
     "execution_count": 453,
     "metadata": {},
     "output_type": "execute_result"
    }
   ],
   "source": [
    "result_data[result_data[\"평균\"].isnull()]"
   ]
  },
  {
   "cell_type": "code",
   "execution_count": 454,
   "id": "b85182d6",
   "metadata": {},
   "outputs": [
    {
     "name": "stdout",
     "output_type": "stream",
     "text": [
      "<class 'pandas.core.frame.DataFrame'>\n",
      "Int64Index: 3945 entries, 0 to 3944\n",
      "Data columns (total 28 columns):\n",
      " #   Column         Non-Null Count  Dtype         \n",
      "---  ------         --------------  -----         \n",
      " 0   지점번호           3945 non-null   object        \n",
      " 1   지점명            3945 non-null   object        \n",
      " 2   일시             3945 non-null   datetime64[ns]\n",
      " 3   평균기온(℃)        3945 non-null   float64       \n",
      " 4   최고기온(℃)        3945 non-null   float64       \n",
      " 5   최고기온시각         3945 non-null   object        \n",
      " 6   최저기온(℃)        3945 non-null   float64       \n",
      " 7   최저기온시각         3945 non-null   object        \n",
      " 8   일교차            3945 non-null   float64       \n",
      " 9   강수량(mm)        3945 non-null   float64       \n",
      " 10  1시간최다강수량(mm)   3945 non-null   float64       \n",
      " 11  1시간최다강수량시각     3945 non-null   object        \n",
      " 12  평균풍속(m/s)      3945 non-null   float64       \n",
      " 13  최대풍속(m/s)      3945 non-null   float64       \n",
      " 14  최대풍속풍향(deg)    3945 non-null   float64       \n",
      " 15  최대풍속시각         3945 non-null   object        \n",
      " 16  최대순간풍속(m/s)    3945 non-null   float64       \n",
      " 17  최대순간풍속풍향(deg)  3945 non-null   float64       \n",
      " 18  최대순간풍속시각       3945 non-null   object        \n",
      " 19  평균습도(%rh)      3945 non-null   float64       \n",
      " 20  최저습도(%rh)      3945 non-null   float64       \n",
      " 21  평균             3945 non-null   float64       \n",
      " 22  평년             3945 non-null   float64       \n",
      " 23  서울             3945 non-null   float64       \n",
      " 24  부산             3945 non-null   float64       \n",
      " 25  대구             3945 non-null   float64       \n",
      " 26  광주             3945 non-null   float64       \n",
      " 27  대전             3945 non-null   float64       \n",
      "dtypes: datetime64[ns](1), float64(20), object(7)\n",
      "memory usage: 893.8+ KB\n"
     ]
    }
   ],
   "source": [
    "result_data.info()"
   ]
  },
  {
   "cell_type": "code",
   "execution_count": 455,
   "id": "a09ae386",
   "metadata": {},
   "outputs": [],
   "source": [
    "result_data.to_csv(\"../CSV/result.csv\", index = False)"
   ]
  },
  {
   "cell_type": "code",
   "execution_count": null,
   "id": "57bc25d2",
   "metadata": {},
   "outputs": [],
   "source": []
  }
 ],
 "metadata": {
  "kernelspec": {
   "display_name": "Python 3 (ipykernel)",
   "language": "python",
   "name": "python3"
  },
  "language_info": {
   "codemirror_mode": {
    "name": "ipython",
    "version": 3
   },
   "file_extension": ".py",
   "mimetype": "text/x-python",
   "name": "python",
   "nbconvert_exporter": "python",
   "pygments_lexer": "ipython3",
   "version": "3.8.8"
  }
 },
 "nbformat": 4,
 "nbformat_minor": 5
}
