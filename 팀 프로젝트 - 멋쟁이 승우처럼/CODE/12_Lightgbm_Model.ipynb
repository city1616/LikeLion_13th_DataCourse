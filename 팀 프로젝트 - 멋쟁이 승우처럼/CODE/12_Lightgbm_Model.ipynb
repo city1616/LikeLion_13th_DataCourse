{
 "cells": [
  {
   "cell_type": "markdown",
   "id": "5110ec91",
   "metadata": {},
   "source": [
    "### 가장 성능이 좋았던 모델에 비선형 변환 적용\n",
    "* 가스공급량 데이터에 비선형 변환 적용"
   ]
  },
  {
   "cell_type": "code",
   "execution_count": 198,
   "id": "b8a15f87",
   "metadata": {},
   "outputs": [],
   "source": [
    "import pandas as pd\n",
    "import numpy as np\n",
    "import matplotlib.pyplot as plt\n",
    "import lightgbm as lgb\n",
    "import xgboost as xgb\n",
    "\n",
    "from sklearn.metrics import mean_squared_error\n",
    "\n",
    "from sklearn.model_selection import cross_val_score\n",
    "from sklearn.model_selection import KFold\n",
    "from sklearn.model_selection import GridSearchCV"
   ]
  },
  {
   "cell_type": "code",
   "execution_count": 199,
   "id": "0ec7f7ac",
   "metadata": {},
   "outputs": [
    {
     "name": "stdout",
     "output_type": "stream",
     "text": [
      "total shape : (368088, 12), test shape : (15120, 12)\n"
     ]
    }
   ],
   "source": [
    "total = pd.read_csv(\"../CSV/train_data.csv\")\n",
    "test = pd.read_csv(\"../CSV/pred_test.csv\")\n",
    "\n",
    "print(\"total shape : {}, test shape : {}\".format(total.shape, test.shape))"
   ]
  },
  {
   "cell_type": "code",
   "execution_count": 200,
   "id": "eb18e07f",
   "metadata": {},
   "outputs": [
    {
     "data": {
      "text/html": [
       "<div>\n",
       "<style scoped>\n",
       "    .dataframe tbody tr th:only-of-type {\n",
       "        vertical-align: middle;\n",
       "    }\n",
       "\n",
       "    .dataframe tbody tr th {\n",
       "        vertical-align: top;\n",
       "    }\n",
       "\n",
       "    .dataframe thead th {\n",
       "        text-align: right;\n",
       "    }\n",
       "</style>\n",
       "<table border=\"1\" class=\"dataframe\">\n",
       "  <thead>\n",
       "    <tr style=\"text-align: right;\">\n",
       "      <th></th>\n",
       "      <th>연월일</th>\n",
       "      <th>시간</th>\n",
       "      <th>일시</th>\n",
       "      <th>year</th>\n",
       "      <th>month</th>\n",
       "      <th>day</th>\n",
       "      <th>hour</th>\n",
       "      <th>weekday</th>\n",
       "      <th>구분</th>\n",
       "      <th>구분_int</th>\n",
       "      <th>공급량</th>\n",
       "      <th>기온(°C)</th>\n",
       "    </tr>\n",
       "  </thead>\n",
       "  <tbody>\n",
       "    <tr>\n",
       "      <th>0</th>\n",
       "      <td>2013-01-01</td>\n",
       "      <td>1</td>\n",
       "      <td>2013-01-01 00:00:00</td>\n",
       "      <td>2013</td>\n",
       "      <td>1</td>\n",
       "      <td>1</td>\n",
       "      <td>0</td>\n",
       "      <td>1</td>\n",
       "      <td>A</td>\n",
       "      <td>0</td>\n",
       "      <td>2497.129</td>\n",
       "      <td>-8.3</td>\n",
       "    </tr>\n",
       "    <tr>\n",
       "      <th>1</th>\n",
       "      <td>2013-01-01</td>\n",
       "      <td>2</td>\n",
       "      <td>2013-01-01 01:00:00</td>\n",
       "      <td>2013</td>\n",
       "      <td>1</td>\n",
       "      <td>1</td>\n",
       "      <td>1</td>\n",
       "      <td>1</td>\n",
       "      <td>A</td>\n",
       "      <td>0</td>\n",
       "      <td>2363.265</td>\n",
       "      <td>-8.5</td>\n",
       "    </tr>\n",
       "    <tr>\n",
       "      <th>2</th>\n",
       "      <td>2013-01-01</td>\n",
       "      <td>3</td>\n",
       "      <td>2013-01-01 02:00:00</td>\n",
       "      <td>2013</td>\n",
       "      <td>1</td>\n",
       "      <td>1</td>\n",
       "      <td>2</td>\n",
       "      <td>1</td>\n",
       "      <td>A</td>\n",
       "      <td>0</td>\n",
       "      <td>2258.505</td>\n",
       "      <td>-8.4</td>\n",
       "    </tr>\n",
       "  </tbody>\n",
       "</table>\n",
       "</div>"
      ],
      "text/plain": [
       "          연월일  시간                   일시  year  month  day  hour  weekday 구분  \\\n",
       "0  2013-01-01   1  2013-01-01 00:00:00  2013      1    1     0        1  A   \n",
       "1  2013-01-01   2  2013-01-01 01:00:00  2013      1    1     1        1  A   \n",
       "2  2013-01-01   3  2013-01-01 02:00:00  2013      1    1     2        1  A   \n",
       "\n",
       "   구분_int       공급량  기온(°C)  \n",
       "0       0  2497.129    -8.3  \n",
       "1       0  2363.265    -8.5  \n",
       "2       0  2258.505    -8.4  "
      ]
     },
     "execution_count": 200,
     "metadata": {},
     "output_type": "execute_result"
    }
   ],
   "source": [
    "total.head(3)"
   ]
  },
  {
   "cell_type": "code",
   "execution_count": 201,
   "id": "afcd016e",
   "metadata": {},
   "outputs": [],
   "source": [
    "def nmae(true_df, pred_df):\n",
    "    target_idx = true_df.iloc[:,0]\n",
    "    pred_df = pred_df[pred_df.iloc[:,0].isin(target_idx)]\n",
    "    pred_df = pred_df.sort_values(by=[pred_df.columns[0]], ascending=[True])\n",
    "    true_df = true_df.sort_values(by=[true_df.columns[0]], ascending=[True])\n",
    "    \n",
    "    true = true_df.iloc[:,1].to_numpy()\n",
    "    pred = pred_df.iloc[:,1].to_numpy()\n",
    "    \n",
    "    score = np.mean((np.abs(true-pred))/true)\n",
    "    \n",
    "    return score"
   ]
  },
  {
   "cell_type": "code",
   "execution_count": 202,
   "id": "43ff3801",
   "metadata": {},
   "outputs": [],
   "source": [
    "train_years = [2013,2014,2015,2016,2017]\n",
    "val_years = [2018]\n",
    "\n",
    "train = total[total['year'].isin(train_years)]\n",
    "val = total[total['year'].isin(val_years)]\n",
    "\n",
    "# \"year\", \"month\", \"day\", \"hour\", \"weekday\", \"구분_int\", \"기온(°C)\"\n",
    "features = [\"month\", \"hour\", \"구분_int\", \"기온(°C)\"]\n",
    "# features = [\"year\", \"month\", \"day\", \"hour\", \"weekday\", \"구분_int\", \"기온(°C)\"]\n",
    "train_x = train[features]\n",
    "train_y = np.log1p(train[\"공급량\"])\n",
    "\n",
    "val_x = val[features]\n",
    "val_y = val['공급량']\n",
    "\n",
    "X = total[features]\n",
    "y = total[\"공급량\"]"
   ]
  },
  {
   "cell_type": "code",
   "execution_count": 187,
   "id": "aa761f7e",
   "metadata": {
    "scrolled": true
   },
   "outputs": [
    {
     "name": "stderr",
     "output_type": "stream",
     "text": [
      "/Users/seungwoomun/opt/anaconda3/envs/likelion/lib/python3.8/site-packages/lightgbm/engine.py:181: UserWarning: 'early_stopping_rounds' argument is deprecated and will be removed in a future release of LightGBM. Pass 'early_stopping()' callback via 'callbacks' argument instead.\n",
      "  _log_warning(\"'early_stopping_rounds' argument is deprecated and will be removed in a future release of LightGBM. \"\n",
      "/Users/seungwoomun/opt/anaconda3/envs/likelion/lib/python3.8/site-packages/lightgbm/engine.py:239: UserWarning: 'verbose_eval' argument is deprecated and will be removed in a future release of LightGBM. Pass 'log_evaluation()' callback via 'callbacks' argument instead.\n",
      "  _log_warning(\"'verbose_eval' argument is deprecated and will be removed in a future release of LightGBM. \"\n"
     ]
    },
    {
     "name": "stdout",
     "output_type": "stream",
     "text": [
      "[LightGBM] [Warning] Auto-choosing row-wise multi-threading, the overhead of testing was 0.001241 seconds.\n",
      "You can set `force_row_wise=true` to remove the overhead.\n",
      "And if memory is not enough, you can set `force_col_wise=true`.\n",
      "[LightGBM] [Info] Total Bins 299\n",
      "[LightGBM] [Info] Number of data points in the train set: 306768, number of used features: 4\n",
      "[LightGBM] [Info] Start training from score 6.296359\n",
      "Training until validation scores don't improve for 10 rounds\n",
      "[20]\tvalid_0's l1: 1008.1\n",
      "[40]\tvalid_0's l1: 1008.09\n",
      "[60]\tvalid_0's l1: 1008.08\n",
      "[80]\tvalid_0's l1: 1008.08\n",
      "[100]\tvalid_0's l1: 1008.07\n",
      "[120]\tvalid_0's l1: 1008.07\n",
      "[140]\tvalid_0's l1: 1008.07\n",
      "[160]\tvalid_0's l1: 1008.06\n",
      "[180]\tvalid_0's l1: 1008.06\n",
      "[200]\tvalid_0's l1: 1008.06\n",
      "[220]\tvalid_0's l1: 1008.06\n",
      "[240]\tvalid_0's l1: 1008.05\n",
      "[260]\tvalid_0's l1: 1008.05\n",
      "[280]\tvalid_0's l1: 1008.05\n",
      "[300]\tvalid_0's l1: 1008.05\n",
      "[320]\tvalid_0's l1: 1008.05\n",
      "[340]\tvalid_0's l1: 1008.05\n",
      "[360]\tvalid_0's l1: 1008.05\n",
      "[380]\tvalid_0's l1: 1008.05\n",
      "[400]\tvalid_0's l1: 1008.05\n",
      "[420]\tvalid_0's l1: 1008.04\n",
      "[440]\tvalid_0's l1: 1008.04\n",
      "[460]\tvalid_0's l1: 1008.04\n",
      "[480]\tvalid_0's l1: 1008.04\n",
      "[500]\tvalid_0's l1: 1008.04\n",
      "[520]\tvalid_0's l1: 1008.04\n",
      "[540]\tvalid_0's l1: 1008.04\n",
      "[560]\tvalid_0's l1: 1008.04\n",
      "[580]\tvalid_0's l1: 1008.04\n",
      "[600]\tvalid_0's l1: 1008.04\n",
      "[620]\tvalid_0's l1: 1008.04\n",
      "[640]\tvalid_0's l1: 1008.04\n",
      "Early stopping, best iteration is:\n",
      "[643]\tvalid_0's l1: 1008.04\n",
      "MSE : 83551.58131067193\n",
      "NMAE : 0.498777\n",
      "[LightGBM] [Warning] Auto-choosing row-wise multi-threading, the overhead of testing was 0.001070 seconds.\n",
      "You can set `force_row_wise=true` to remove the overhead.\n",
      "And if memory is not enough, you can set `force_col_wise=true`.\n",
      "[LightGBM] [Info] Total Bins 299\n",
      "[LightGBM] [Info] Number of data points in the train set: 306768, number of used features: 4\n",
      "[LightGBM] [Info] Start training from score 6.296359\n"
     ]
    },
    {
     "name": "stderr",
     "output_type": "stream",
     "text": [
      "/Users/seungwoomun/opt/anaconda3/envs/likelion/lib/python3.8/site-packages/lightgbm/engine.py:181: UserWarning: 'early_stopping_rounds' argument is deprecated and will be removed in a future release of LightGBM. Pass 'early_stopping()' callback via 'callbacks' argument instead.\n",
      "  _log_warning(\"'early_stopping_rounds' argument is deprecated and will be removed in a future release of LightGBM. \"\n",
      "/Users/seungwoomun/opt/anaconda3/envs/likelion/lib/python3.8/site-packages/lightgbm/engine.py:239: UserWarning: 'verbose_eval' argument is deprecated and will be removed in a future release of LightGBM. Pass 'log_evaluation()' callback via 'callbacks' argument instead.\n",
      "  _log_warning(\"'verbose_eval' argument is deprecated and will be removed in a future release of LightGBM. \"\n"
     ]
    },
    {
     "name": "stdout",
     "output_type": "stream",
     "text": [
      "Training until validation scores don't improve for 10 rounds\n",
      "[20]\tvalid_0's l1: 1008.08\n",
      "[40]\tvalid_0's l1: 1008.06\n",
      "[60]\tvalid_0's l1: 1008.05\n",
      "[80]\tvalid_0's l1: 1008.05\n",
      "[100]\tvalid_0's l1: 1008.05\n",
      "[120]\tvalid_0's l1: 1008.04\n",
      "[140]\tvalid_0's l1: 1008.04\n",
      "[160]\tvalid_0's l1: 1008.04\n",
      "[180]\tvalid_0's l1: 1008.04\n",
      "[200]\tvalid_0's l1: 1008.04\n",
      "[220]\tvalid_0's l1: 1008.04\n",
      "Early stopping, best iteration is:\n",
      "[211]\tvalid_0's l1: 1008.04\n",
      "MSE : 57808.00008501455\n",
      "NMAE : 0.472731\n",
      "[LightGBM] [Warning] Auto-choosing row-wise multi-threading, the overhead of testing was 0.001088 seconds.\n",
      "You can set `force_row_wise=true` to remove the overhead.\n",
      "And if memory is not enough, you can set `force_col_wise=true`.\n",
      "[LightGBM] [Info] Total Bins 299\n",
      "[LightGBM] [Info] Number of data points in the train set: 306768, number of used features: 4\n",
      "[LightGBM] [Info] Start training from score 6.296359\n",
      "Training until validation scores don't improve for 10 rounds\n"
     ]
    },
    {
     "name": "stderr",
     "output_type": "stream",
     "text": [
      "/Users/seungwoomun/opt/anaconda3/envs/likelion/lib/python3.8/site-packages/lightgbm/engine.py:181: UserWarning: 'early_stopping_rounds' argument is deprecated and will be removed in a future release of LightGBM. Pass 'early_stopping()' callback via 'callbacks' argument instead.\n",
      "  _log_warning(\"'early_stopping_rounds' argument is deprecated and will be removed in a future release of LightGBM. \"\n",
      "/Users/seungwoomun/opt/anaconda3/envs/likelion/lib/python3.8/site-packages/lightgbm/engine.py:239: UserWarning: 'verbose_eval' argument is deprecated and will be removed in a future release of LightGBM. Pass 'log_evaluation()' callback via 'callbacks' argument instead.\n",
      "  _log_warning(\"'verbose_eval' argument is deprecated and will be removed in a future release of LightGBM. \"\n"
     ]
    },
    {
     "name": "stdout",
     "output_type": "stream",
     "text": [
      "[20]\tvalid_0's l1: 1008.07\n",
      "[40]\tvalid_0's l1: 1008.06\n",
      "[60]\tvalid_0's l1: 1008.05\n",
      "[80]\tvalid_0's l1: 1008.05\n",
      "[100]\tvalid_0's l1: 1008.04\n",
      "[120]\tvalid_0's l1: 1008.04\n",
      "Early stopping, best iteration is:\n",
      "[123]\tvalid_0's l1: 1008.04\n",
      "MSE : 46183.541544440544\n",
      "NMAE : 0.489383\n",
      "[LightGBM] [Warning] Auto-choosing row-wise multi-threading, the overhead of testing was 0.001093 seconds.\n",
      "You can set `force_row_wise=true` to remove the overhead.\n",
      "And if memory is not enough, you can set `force_col_wise=true`.\n",
      "[LightGBM] [Info] Total Bins 299\n",
      "[LightGBM] [Info] Number of data points in the train set: 306768, number of used features: 4\n",
      "[LightGBM] [Info] Start training from score 6.296359\n",
      "Training until validation scores don't improve for 10 rounds\n",
      "[20]\tvalid_0's l1: 1008.07\n",
      "[40]\tvalid_0's l1: 1008.05\n",
      "[60]\tvalid_0's l1: 1008.05\n",
      "[80]\tvalid_0's l1: 1008.05\n",
      "Early stopping, best iteration is:\n",
      "[73]\tvalid_0's l1: 1008.04\n"
     ]
    },
    {
     "name": "stderr",
     "output_type": "stream",
     "text": [
      "/Users/seungwoomun/opt/anaconda3/envs/likelion/lib/python3.8/site-packages/lightgbm/engine.py:181: UserWarning: 'early_stopping_rounds' argument is deprecated and will be removed in a future release of LightGBM. Pass 'early_stopping()' callback via 'callbacks' argument instead.\n",
      "  _log_warning(\"'early_stopping_rounds' argument is deprecated and will be removed in a future release of LightGBM. \"\n",
      "/Users/seungwoomun/opt/anaconda3/envs/likelion/lib/python3.8/site-packages/lightgbm/engine.py:239: UserWarning: 'verbose_eval' argument is deprecated and will be removed in a future release of LightGBM. Pass 'log_evaluation()' callback via 'callbacks' argument instead.\n",
      "  _log_warning(\"'verbose_eval' argument is deprecated and will be removed in a future release of LightGBM. \"\n"
     ]
    },
    {
     "name": "stdout",
     "output_type": "stream",
     "text": [
      "MSE : 48791.60890664235\n",
      "NMAE : 0.490965\n",
      "[LightGBM] [Warning] Accuracy may be bad since you didn't explicitly set num_leaves OR 2^max_depth > num_leaves. (num_leaves=31).\n",
      "[LightGBM] [Warning] Accuracy may be bad since you didn't explicitly set num_leaves OR 2^max_depth > num_leaves. (num_leaves=31).\n",
      "[LightGBM] [Warning] Accuracy may be bad since you didn't explicitly set num_leaves OR 2^max_depth > num_leaves. (num_leaves=31).\n",
      "[LightGBM] [Warning] Auto-choosing row-wise multi-threading, the overhead of testing was 0.001355 seconds.\n",
      "You can set `force_row_wise=true` to remove the overhead.\n",
      "And if memory is not enough, you can set `force_col_wise=true`.\n",
      "[LightGBM] [Info] Total Bins 299\n",
      "[LightGBM] [Info] Number of data points in the train set: 306768, number of used features: 4\n",
      "[LightGBM] [Info] Start training from score 6.296359\n",
      "Training until validation scores don't improve for 10 rounds\n",
      "[20]\tvalid_0's l1: 1008.06\n",
      "[40]\tvalid_0's l1: 1008.05\n",
      "[60]\tvalid_0's l1: 1008.05\n",
      "Early stopping, best iteration is:\n",
      "[55]\tvalid_0's l1: 1008.05\n"
     ]
    },
    {
     "name": "stderr",
     "output_type": "stream",
     "text": [
      "/Users/seungwoomun/opt/anaconda3/envs/likelion/lib/python3.8/site-packages/lightgbm/engine.py:181: UserWarning: 'early_stopping_rounds' argument is deprecated and will be removed in a future release of LightGBM. Pass 'early_stopping()' callback via 'callbacks' argument instead.\n",
      "  _log_warning(\"'early_stopping_rounds' argument is deprecated and will be removed in a future release of LightGBM. \"\n",
      "/Users/seungwoomun/opt/anaconda3/envs/likelion/lib/python3.8/site-packages/lightgbm/engine.py:239: UserWarning: 'verbose_eval' argument is deprecated and will be removed in a future release of LightGBM. Pass 'log_evaluation()' callback via 'callbacks' argument instead.\n",
      "  _log_warning(\"'verbose_eval' argument is deprecated and will be removed in a future release of LightGBM. \"\n"
     ]
    },
    {
     "name": "stdout",
     "output_type": "stream",
     "text": [
      "MSE : 48440.91962279915\n",
      "NMAE : 0.504018\n",
      "[LightGBM] [Warning] Accuracy may be bad since you didn't explicitly set num_leaves OR 2^max_depth > num_leaves. (num_leaves=31).\n",
      "[LightGBM] [Warning] Accuracy may be bad since you didn't explicitly set num_leaves OR 2^max_depth > num_leaves. (num_leaves=31).\n",
      "[LightGBM] [Warning] Accuracy may be bad since you didn't explicitly set num_leaves OR 2^max_depth > num_leaves. (num_leaves=31).\n",
      "[LightGBM] [Warning] Auto-choosing row-wise multi-threading, the overhead of testing was 0.001089 seconds.\n",
      "You can set `force_row_wise=true` to remove the overhead.\n",
      "And if memory is not enough, you can set `force_col_wise=true`.\n",
      "[LightGBM] [Info] Total Bins 299\n",
      "[LightGBM] [Info] Number of data points in the train set: 306768, number of used features: 4\n",
      "[LightGBM] [Info] Start training from score 6.296359\n",
      "Training until validation scores don't improve for 10 rounds\n",
      "[20]\tvalid_0's l1: 1008.06\n",
      "[40]\tvalid_0's l1: 1008.05\n"
     ]
    },
    {
     "name": "stderr",
     "output_type": "stream",
     "text": [
      "/Users/seungwoomun/opt/anaconda3/envs/likelion/lib/python3.8/site-packages/lightgbm/engine.py:181: UserWarning: 'early_stopping_rounds' argument is deprecated and will be removed in a future release of LightGBM. Pass 'early_stopping()' callback via 'callbacks' argument instead.\n",
      "  _log_warning(\"'early_stopping_rounds' argument is deprecated and will be removed in a future release of LightGBM. \"\n",
      "/Users/seungwoomun/opt/anaconda3/envs/likelion/lib/python3.8/site-packages/lightgbm/engine.py:239: UserWarning: 'verbose_eval' argument is deprecated and will be removed in a future release of LightGBM. Pass 'log_evaluation()' callback via 'callbacks' argument instead.\n",
      "  _log_warning(\"'verbose_eval' argument is deprecated and will be removed in a future release of LightGBM. \"\n"
     ]
    },
    {
     "name": "stdout",
     "output_type": "stream",
     "text": [
      "[60]\tvalid_0's l1: 1008.05\n",
      "Early stopping, best iteration is:\n",
      "[54]\tvalid_0's l1: 1008.05\n",
      "MSE : 50965.39390087396\n",
      "NMAE : 0.509058\n",
      "[LightGBM] [Warning] Accuracy may be bad since you didn't explicitly set num_leaves OR 2^max_depth > num_leaves. (num_leaves=31).\n",
      "[LightGBM] [Warning] Accuracy may be bad since you didn't explicitly set num_leaves OR 2^max_depth > num_leaves. (num_leaves=31).\n",
      "[LightGBM] [Warning] Accuracy may be bad since you didn't explicitly set num_leaves OR 2^max_depth > num_leaves. (num_leaves=31).\n",
      "[LightGBM] [Warning] Auto-choosing row-wise multi-threading, the overhead of testing was 0.001090 seconds.\n",
      "You can set `force_row_wise=true` to remove the overhead.\n",
      "And if memory is not enough, you can set `force_col_wise=true`.\n",
      "[LightGBM] [Info] Total Bins 299\n",
      "[LightGBM] [Info] Number of data points in the train set: 306768, number of used features: 4\n",
      "[LightGBM] [Info] Start training from score 6.296359\n",
      "Training until validation scores don't improve for 10 rounds\n",
      "[20]\tvalid_0's l1: 1008.05\n"
     ]
    },
    {
     "name": "stderr",
     "output_type": "stream",
     "text": [
      "/Users/seungwoomun/opt/anaconda3/envs/likelion/lib/python3.8/site-packages/lightgbm/engine.py:181: UserWarning: 'early_stopping_rounds' argument is deprecated and will be removed in a future release of LightGBM. Pass 'early_stopping()' callback via 'callbacks' argument instead.\n",
      "  _log_warning(\"'early_stopping_rounds' argument is deprecated and will be removed in a future release of LightGBM. \"\n",
      "/Users/seungwoomun/opt/anaconda3/envs/likelion/lib/python3.8/site-packages/lightgbm/engine.py:239: UserWarning: 'verbose_eval' argument is deprecated and will be removed in a future release of LightGBM. Pass 'log_evaluation()' callback via 'callbacks' argument instead.\n",
      "  _log_warning(\"'verbose_eval' argument is deprecated and will be removed in a future release of LightGBM. \"\n"
     ]
    },
    {
     "name": "stdout",
     "output_type": "stream",
     "text": [
      "[40]\tvalid_0's l1: 1008.05\n",
      "Early stopping, best iteration is:\n",
      "[40]\tvalid_0's l1: 1008.05\n",
      "MSE : 73473.61394634332\n",
      "NMAE : 0.518605\n",
      "[LightGBM] [Warning] Accuracy may be bad since you didn't explicitly set num_leaves OR 2^max_depth > num_leaves. (num_leaves=31).\n",
      "[LightGBM] [Warning] Accuracy may be bad since you didn't explicitly set num_leaves OR 2^max_depth > num_leaves. (num_leaves=31).\n",
      "[LightGBM] [Warning] Accuracy may be bad since you didn't explicitly set num_leaves OR 2^max_depth > num_leaves. (num_leaves=31).\n",
      "[LightGBM] [Warning] Auto-choosing row-wise multi-threading, the overhead of testing was 0.001170 seconds.\n",
      "You can set `force_row_wise=true` to remove the overhead.\n",
      "And if memory is not enough, you can set `force_col_wise=true`.\n",
      "[LightGBM] [Info] Total Bins 299\n",
      "[LightGBM] [Info] Number of data points in the train set: 306768, number of used features: 4\n",
      "[LightGBM] [Info] Start training from score 6.296359\n",
      "Training until validation scores don't improve for 10 rounds\n",
      "[20]\tvalid_0's l1: 1008.06\n"
     ]
    },
    {
     "name": "stderr",
     "output_type": "stream",
     "text": [
      "/Users/seungwoomun/opt/anaconda3/envs/likelion/lib/python3.8/site-packages/lightgbm/engine.py:181: UserWarning: 'early_stopping_rounds' argument is deprecated and will be removed in a future release of LightGBM. Pass 'early_stopping()' callback via 'callbacks' argument instead.\n",
      "  _log_warning(\"'early_stopping_rounds' argument is deprecated and will be removed in a future release of LightGBM. \"\n",
      "/Users/seungwoomun/opt/anaconda3/envs/likelion/lib/python3.8/site-packages/lightgbm/engine.py:239: UserWarning: 'verbose_eval' argument is deprecated and will be removed in a future release of LightGBM. Pass 'log_evaluation()' callback via 'callbacks' argument instead.\n",
      "  _log_warning(\"'verbose_eval' argument is deprecated and will be removed in a future release of LightGBM. \"\n"
     ]
    },
    {
     "name": "stdout",
     "output_type": "stream",
     "text": [
      "[40]\tvalid_0's l1: 1008.05\n",
      "Early stopping, best iteration is:\n",
      "[40]\tvalid_0's l1: 1008.05\n",
      "MSE : 76539.08964216428\n",
      "NMAE : 0.514782\n",
      "[LightGBM] [Warning] Accuracy may be bad since you didn't explicitly set num_leaves OR 2^max_depth > num_leaves. (num_leaves=31).\n",
      "[LightGBM] [Warning] Accuracy may be bad since you didn't explicitly set num_leaves OR 2^max_depth > num_leaves. (num_leaves=31).\n",
      "[LightGBM] [Warning] Accuracy may be bad since you didn't explicitly set num_leaves OR 2^max_depth > num_leaves. (num_leaves=31).\n",
      "[LightGBM] [Warning] Auto-choosing row-wise multi-threading, the overhead of testing was 0.001068 seconds.\n",
      "You can set `force_row_wise=true` to remove the overhead.\n",
      "And if memory is not enough, you can set `force_col_wise=true`.\n",
      "[LightGBM] [Info] Total Bins 299\n",
      "[LightGBM] [Info] Number of data points in the train set: 306768, number of used features: 4\n",
      "[LightGBM] [Info] Start training from score 6.296359\n",
      "Training until validation scores don't improve for 10 rounds\n",
      "[20]\tvalid_0's l1: 1008.06\n"
     ]
    },
    {
     "name": "stderr",
     "output_type": "stream",
     "text": [
      "/Users/seungwoomun/opt/anaconda3/envs/likelion/lib/python3.8/site-packages/lightgbm/engine.py:181: UserWarning: 'early_stopping_rounds' argument is deprecated and will be removed in a future release of LightGBM. Pass 'early_stopping()' callback via 'callbacks' argument instead.\n",
      "  _log_warning(\"'early_stopping_rounds' argument is deprecated and will be removed in a future release of LightGBM. \"\n",
      "/Users/seungwoomun/opt/anaconda3/envs/likelion/lib/python3.8/site-packages/lightgbm/engine.py:239: UserWarning: 'verbose_eval' argument is deprecated and will be removed in a future release of LightGBM. Pass 'log_evaluation()' callback via 'callbacks' argument instead.\n",
      "  _log_warning(\"'verbose_eval' argument is deprecated and will be removed in a future release of LightGBM. \"\n"
     ]
    },
    {
     "name": "stdout",
     "output_type": "stream",
     "text": [
      "[40]\tvalid_0's l1: 1008.05\n",
      "Early stopping, best iteration is:\n",
      "[46]\tvalid_0's l1: 1008.05\n",
      "MSE : 64342.047898396464\n",
      "NMAE : 0.521575\n",
      "[LightGBM] [Warning] Accuracy may be bad since you didn't explicitly set num_leaves OR 2^max_depth > num_leaves. (num_leaves=31).\n",
      "[LightGBM] [Warning] Accuracy may be bad since you didn't explicitly set num_leaves OR 2^max_depth > num_leaves. (num_leaves=31).\n",
      "[LightGBM] [Warning] Accuracy may be bad since you didn't explicitly set num_leaves OR 2^max_depth > num_leaves. (num_leaves=31).\n",
      "[LightGBM] [Warning] Auto-choosing row-wise multi-threading, the overhead of testing was 0.001064 seconds.\n",
      "You can set `force_row_wise=true` to remove the overhead.\n",
      "And if memory is not enough, you can set `force_col_wise=true`.\n",
      "[LightGBM] [Info] Total Bins 299\n",
      "[LightGBM] [Info] Number of data points in the train set: 306768, number of used features: 4\n",
      "[LightGBM] [Info] Start training from score 6.296359\n",
      "Training until validation scores don't improve for 10 rounds\n",
      "[20]\tvalid_0's l1: 1008.06\n"
     ]
    },
    {
     "name": "stderr",
     "output_type": "stream",
     "text": [
      "/Users/seungwoomun/opt/anaconda3/envs/likelion/lib/python3.8/site-packages/lightgbm/engine.py:181: UserWarning: 'early_stopping_rounds' argument is deprecated and will be removed in a future release of LightGBM. Pass 'early_stopping()' callback via 'callbacks' argument instead.\n",
      "  _log_warning(\"'early_stopping_rounds' argument is deprecated and will be removed in a future release of LightGBM. \"\n",
      "/Users/seungwoomun/opt/anaconda3/envs/likelion/lib/python3.8/site-packages/lightgbm/engine.py:239: UserWarning: 'verbose_eval' argument is deprecated and will be removed in a future release of LightGBM. Pass 'log_evaluation()' callback via 'callbacks' argument instead.\n",
      "  _log_warning(\"'verbose_eval' argument is deprecated and will be removed in a future release of LightGBM. \"\n"
     ]
    },
    {
     "name": "stdout",
     "output_type": "stream",
     "text": [
      "[40]\tvalid_0's l1: 1008.05\n",
      "[60]\tvalid_0's l1: 1008.05\n",
      "[80]\tvalid_0's l1: 1008.05\n",
      "[100]\tvalid_0's l1: 1008.05\n",
      "Early stopping, best iteration is:\n",
      "[101]\tvalid_0's l1: 1008.05\n",
      "MSE : 39003.93818629629\n",
      "NMAE : 0.512434\n",
      "[LightGBM] [Warning] Accuracy may be bad since you didn't explicitly set num_leaves OR 2^max_depth > num_leaves. (num_leaves=31).\n",
      "[LightGBM] [Warning] Accuracy may be bad since you didn't explicitly set num_leaves OR 2^max_depth > num_leaves. (num_leaves=31).\n",
      "[LightGBM] [Warning] Accuracy may be bad since you didn't explicitly set num_leaves OR 2^max_depth > num_leaves. (num_leaves=31).\n",
      "[LightGBM] [Warning] Auto-choosing row-wise multi-threading, the overhead of testing was 0.001144 seconds.\n",
      "You can set `force_row_wise=true` to remove the overhead.\n",
      "And if memory is not enough, you can set `force_col_wise=true`.\n",
      "[LightGBM] [Info] Total Bins 299\n",
      "[LightGBM] [Info] Number of data points in the train set: 306768, number of used features: 4\n",
      "[LightGBM] [Info] Start training from score 6.296359\n",
      "Training until validation scores don't improve for 10 rounds\n",
      "[20]\tvalid_0's l1: 1008.06\n"
     ]
    },
    {
     "name": "stderr",
     "output_type": "stream",
     "text": [
      "/Users/seungwoomun/opt/anaconda3/envs/likelion/lib/python3.8/site-packages/lightgbm/engine.py:181: UserWarning: 'early_stopping_rounds' argument is deprecated and will be removed in a future release of LightGBM. Pass 'early_stopping()' callback via 'callbacks' argument instead.\n",
      "  _log_warning(\"'early_stopping_rounds' argument is deprecated and will be removed in a future release of LightGBM. \"\n",
      "/Users/seungwoomun/opt/anaconda3/envs/likelion/lib/python3.8/site-packages/lightgbm/engine.py:239: UserWarning: 'verbose_eval' argument is deprecated and will be removed in a future release of LightGBM. Pass 'log_evaluation()' callback via 'callbacks' argument instead.\n",
      "  _log_warning(\"'verbose_eval' argument is deprecated and will be removed in a future release of LightGBM. \"\n"
     ]
    },
    {
     "name": "stdout",
     "output_type": "stream",
     "text": [
      "[40]\tvalid_0's l1: 1008.05\n",
      "[60]\tvalid_0's l1: 1008.05\n",
      "[80]\tvalid_0's l1: 1008.05\n",
      "Early stopping, best iteration is:\n",
      "[80]\tvalid_0's l1: 1008.05\n",
      "MSE : 42166.831941847166\n",
      "NMAE : 0.511965\n",
      "[LightGBM] [Warning] Accuracy may be bad since you didn't explicitly set num_leaves OR 2^max_depth > num_leaves. (num_leaves=31).\n",
      "[LightGBM] [Warning] Accuracy may be bad since you didn't explicitly set num_leaves OR 2^max_depth > num_leaves. (num_leaves=31).\n",
      "[LightGBM] [Warning] Accuracy may be bad since you didn't explicitly set num_leaves OR 2^max_depth > num_leaves. (num_leaves=31).\n",
      "[LightGBM] [Warning] Auto-choosing row-wise multi-threading, the overhead of testing was 0.001115 seconds.\n",
      "You can set `force_row_wise=true` to remove the overhead.\n",
      "And if memory is not enough, you can set `force_col_wise=true`.\n",
      "[LightGBM] [Info] Total Bins 299\n",
      "[LightGBM] [Info] Number of data points in the train set: 306768, number of used features: 4\n",
      "[LightGBM] [Info] Start training from score 6.296359\n",
      "Training until validation scores don't improve for 10 rounds\n",
      "[20]\tvalid_0's l1: 1008.06\n",
      "[40]\tvalid_0's l1: 1008.05\n"
     ]
    },
    {
     "name": "stderr",
     "output_type": "stream",
     "text": [
      "/Users/seungwoomun/opt/anaconda3/envs/likelion/lib/python3.8/site-packages/lightgbm/engine.py:181: UserWarning: 'early_stopping_rounds' argument is deprecated and will be removed in a future release of LightGBM. Pass 'early_stopping()' callback via 'callbacks' argument instead.\n",
      "  _log_warning(\"'early_stopping_rounds' argument is deprecated and will be removed in a future release of LightGBM. \"\n",
      "/Users/seungwoomun/opt/anaconda3/envs/likelion/lib/python3.8/site-packages/lightgbm/engine.py:239: UserWarning: 'verbose_eval' argument is deprecated and will be removed in a future release of LightGBM. Pass 'log_evaluation()' callback via 'callbacks' argument instead.\n",
      "  _log_warning(\"'verbose_eval' argument is deprecated and will be removed in a future release of LightGBM. \"\n"
     ]
    },
    {
     "name": "stdout",
     "output_type": "stream",
     "text": [
      "[60]\tvalid_0's l1: 1008.05\n",
      "[80]\tvalid_0's l1: 1008.05\n",
      "Early stopping, best iteration is:\n",
      "[83]\tvalid_0's l1: 1008.05\n",
      "MSE : 41797.41822738554\n",
      "NMAE : 0.514980\n",
      "[LightGBM] [Warning] Accuracy may be bad since you didn't explicitly set num_leaves OR 2^max_depth > num_leaves. (num_leaves=31).\n",
      "[LightGBM] [Warning] Accuracy may be bad since you didn't explicitly set num_leaves OR 2^max_depth > num_leaves. (num_leaves=31).\n",
      "[LightGBM] [Warning] Accuracy may be bad since you didn't explicitly set num_leaves OR 2^max_depth > num_leaves. (num_leaves=31).\n",
      "[LightGBM] [Warning] Auto-choosing row-wise multi-threading, the overhead of testing was 0.001080 seconds.\n",
      "You can set `force_row_wise=true` to remove the overhead.\n",
      "And if memory is not enough, you can set `force_col_wise=true`.\n",
      "[LightGBM] [Info] Total Bins 299\n",
      "[LightGBM] [Info] Number of data points in the train set: 306768, number of used features: 4\n",
      "[LightGBM] [Info] Start training from score 6.296359\n",
      "Training until validation scores don't improve for 10 rounds\n"
     ]
    },
    {
     "name": "stderr",
     "output_type": "stream",
     "text": [
      "/Users/seungwoomun/opt/anaconda3/envs/likelion/lib/python3.8/site-packages/lightgbm/engine.py:181: UserWarning: 'early_stopping_rounds' argument is deprecated and will be removed in a future release of LightGBM. Pass 'early_stopping()' callback via 'callbacks' argument instead.\n",
      "  _log_warning(\"'early_stopping_rounds' argument is deprecated and will be removed in a future release of LightGBM. \"\n",
      "/Users/seungwoomun/opt/anaconda3/envs/likelion/lib/python3.8/site-packages/lightgbm/engine.py:239: UserWarning: 'verbose_eval' argument is deprecated and will be removed in a future release of LightGBM. Pass 'log_evaluation()' callback via 'callbacks' argument instead.\n",
      "  _log_warning(\"'verbose_eval' argument is deprecated and will be removed in a future release of LightGBM. \"\n"
     ]
    },
    {
     "name": "stdout",
     "output_type": "stream",
     "text": [
      "[20]\tvalid_0's l1: 1008.06\n",
      "[40]\tvalid_0's l1: 1008.05\n",
      "[60]\tvalid_0's l1: 1008.05\n",
      "[80]\tvalid_0's l1: 1008.05\n",
      "Early stopping, best iteration is:\n",
      "[83]\tvalid_0's l1: 1008.05\n",
      "MSE : 41754.4499260716\n",
      "NMAE : 0.514723\n",
      "[LightGBM] [Warning] Accuracy may be bad since you didn't explicitly set num_leaves OR 2^max_depth > num_leaves. (num_leaves=31).\n",
      "[LightGBM] [Warning] Accuracy may be bad since you didn't explicitly set num_leaves OR 2^max_depth > num_leaves. (num_leaves=31).\n",
      "[LightGBM] [Warning] Accuracy may be bad since you didn't explicitly set num_leaves OR 2^max_depth > num_leaves. (num_leaves=31).\n",
      "[LightGBM] [Warning] Auto-choosing row-wise multi-threading, the overhead of testing was 0.001132 seconds.\n",
      "You can set `force_row_wise=true` to remove the overhead.\n",
      "And if memory is not enough, you can set `force_col_wise=true`.\n",
      "[LightGBM] [Info] Total Bins 299\n",
      "[LightGBM] [Info] Number of data points in the train set: 306768, number of used features: 4\n",
      "[LightGBM] [Info] Start training from score 6.296359\n",
      "Training until validation scores don't improve for 10 rounds\n",
      "[20]\tvalid_0's l1: 1008.06\n"
     ]
    },
    {
     "name": "stderr",
     "output_type": "stream",
     "text": [
      "/Users/seungwoomun/opt/anaconda3/envs/likelion/lib/python3.8/site-packages/lightgbm/engine.py:181: UserWarning: 'early_stopping_rounds' argument is deprecated and will be removed in a future release of LightGBM. Pass 'early_stopping()' callback via 'callbacks' argument instead.\n",
      "  _log_warning(\"'early_stopping_rounds' argument is deprecated and will be removed in a future release of LightGBM. \"\n",
      "/Users/seungwoomun/opt/anaconda3/envs/likelion/lib/python3.8/site-packages/lightgbm/engine.py:239: UserWarning: 'verbose_eval' argument is deprecated and will be removed in a future release of LightGBM. Pass 'log_evaluation()' callback via 'callbacks' argument instead.\n",
      "  _log_warning(\"'verbose_eval' argument is deprecated and will be removed in a future release of LightGBM. \"\n"
     ]
    },
    {
     "name": "stdout",
     "output_type": "stream",
     "text": [
      "[40]\tvalid_0's l1: 1008.05\n",
      "[60]\tvalid_0's l1: 1008.05\n",
      "Early stopping, best iteration is:\n",
      "[56]\tvalid_0's l1: 1008.05\n",
      "MSE : 52405.14762856789\n",
      "NMAE : 0.521768\n",
      "[LightGBM] [Warning] Accuracy may be bad since you didn't explicitly set num_leaves OR 2^max_depth > num_leaves. (num_leaves=31).\n",
      "[LightGBM] [Warning] Accuracy may be bad since you didn't explicitly set num_leaves OR 2^max_depth > num_leaves. (num_leaves=31).\n",
      "[LightGBM] [Warning] Accuracy may be bad since you didn't explicitly set num_leaves OR 2^max_depth > num_leaves. (num_leaves=31).\n",
      "[LightGBM] [Warning] Auto-choosing row-wise multi-threading, the overhead of testing was 0.001393 seconds.\n",
      "You can set `force_row_wise=true` to remove the overhead.\n",
      "And if memory is not enough, you can set `force_col_wise=true`.\n",
      "[LightGBM] [Info] Total Bins 299\n",
      "[LightGBM] [Info] Number of data points in the train set: 306768, number of used features: 4\n",
      "[LightGBM] [Info] Start training from score 6.296359\n",
      "Training until validation scores don't improve for 10 rounds\n",
      "[20]\tvalid_0's l1: 1008.06\n"
     ]
    },
    {
     "name": "stderr",
     "output_type": "stream",
     "text": [
      "/Users/seungwoomun/opt/anaconda3/envs/likelion/lib/python3.8/site-packages/lightgbm/engine.py:181: UserWarning: 'early_stopping_rounds' argument is deprecated and will be removed in a future release of LightGBM. Pass 'early_stopping()' callback via 'callbacks' argument instead.\n",
      "  _log_warning(\"'early_stopping_rounds' argument is deprecated and will be removed in a future release of LightGBM. \"\n",
      "/Users/seungwoomun/opt/anaconda3/envs/likelion/lib/python3.8/site-packages/lightgbm/engine.py:239: UserWarning: 'verbose_eval' argument is deprecated and will be removed in a future release of LightGBM. Pass 'log_evaluation()' callback via 'callbacks' argument instead.\n",
      "  _log_warning(\"'verbose_eval' argument is deprecated and will be removed in a future release of LightGBM. \"\n"
     ]
    },
    {
     "name": "stdout",
     "output_type": "stream",
     "text": [
      "[40]\tvalid_0's l1: 1008.05\n",
      "[60]\tvalid_0's l1: 1008.05\n",
      "[80]\tvalid_0's l1: 1008.05\n",
      "Early stopping, best iteration is:\n",
      "[80]\tvalid_0's l1: 1008.05\n",
      "MSE : 42435.89923004157\n",
      "NMAE : 0.517489\n",
      "[LightGBM] [Warning] Accuracy may be bad since you didn't explicitly set num_leaves OR 2^max_depth > num_leaves. (num_leaves=31).\n",
      "[LightGBM] [Warning] Accuracy may be bad since you didn't explicitly set num_leaves OR 2^max_depth > num_leaves. (num_leaves=31).\n",
      "[LightGBM] [Warning] Accuracy may be bad since you didn't explicitly set num_leaves OR 2^max_depth > num_leaves. (num_leaves=31).\n",
      "[LightGBM] [Warning] Auto-choosing row-wise multi-threading, the overhead of testing was 0.001086 seconds.\n",
      "You can set `force_row_wise=true` to remove the overhead.\n",
      "And if memory is not enough, you can set `force_col_wise=true`.\n",
      "[LightGBM] [Info] Total Bins 299\n",
      "[LightGBM] [Info] Number of data points in the train set: 306768, number of used features: 4\n",
      "[LightGBM] [Info] Start training from score 6.296359\n",
      "Training until validation scores don't improve for 10 rounds\n"
     ]
    },
    {
     "name": "stderr",
     "output_type": "stream",
     "text": [
      "/Users/seungwoomun/opt/anaconda3/envs/likelion/lib/python3.8/site-packages/lightgbm/engine.py:181: UserWarning: 'early_stopping_rounds' argument is deprecated and will be removed in a future release of LightGBM. Pass 'early_stopping()' callback via 'callbacks' argument instead.\n",
      "  _log_warning(\"'early_stopping_rounds' argument is deprecated and will be removed in a future release of LightGBM. \"\n",
      "/Users/seungwoomun/opt/anaconda3/envs/likelion/lib/python3.8/site-packages/lightgbm/engine.py:239: UserWarning: 'verbose_eval' argument is deprecated and will be removed in a future release of LightGBM. Pass 'log_evaluation()' callback via 'callbacks' argument instead.\n",
      "  _log_warning(\"'verbose_eval' argument is deprecated and will be removed in a future release of LightGBM. \"\n"
     ]
    },
    {
     "name": "stdout",
     "output_type": "stream",
     "text": [
      "[20]\tvalid_0's l1: 1008.06\n",
      "[40]\tvalid_0's l1: 1008.05\n",
      "[60]\tvalid_0's l1: 1008.05\n",
      "[80]\tvalid_0's l1: 1008.05\n",
      "Early stopping, best iteration is:\n",
      "[71]\tvalid_0's l1: 1008.05\n",
      "MSE : 44872.95197443433\n",
      "NMAE : 0.518289\n"
     ]
    }
   ],
   "source": [
    "d_train = lgb.Dataset(train_x, train_y)\n",
    "d_val = lgb.Dataset(val_x, val_y)\n",
    "\n",
    "# kfold = KFold(n_splits = 10, shuffle = True, random_state = 27)\n",
    "MSE = []\n",
    "NMAE = []\n",
    "for i in range(1, 17, 1) :\n",
    "    params = {\n",
    "        'objective': 'regression',\n",
    "        'metric':'mae',\n",
    "        'seed':42, \n",
    "        \"learning_rate\" : 0.1, \n",
    "        \"max_depth\" : f\"{i}\"\n",
    "    }\n",
    "\n",
    "    model = lgb.train(params, d_train, 1000, d_val, verbose_eval=20, early_stopping_rounds=10)\n",
    "\n",
    "#     pred = model.predict(val_x)\n",
    "    pred = np.expm1(model.predict(val_x))\n",
    "\n",
    "    true_y = pd.DataFrame({\"y\" : val_y})\n",
    "    pred_y = pd.DataFrame({\"pred_y\" : pred})\n",
    "\n",
    "    true_y.reset_index(drop = True, inplace = True)\n",
    "    true_y.reset_index(inplace = True)\n",
    "    pred_y.reset_index(inplace = True)\n",
    "\n",
    "    # cross_score = cross_val_score(model, X, y, cv = 3)\n",
    "\n",
    "    train_mse = mean_squared_error(val_y, pred)\n",
    "    print(\"MSE :\", train_mse)\n",
    "    print(\"NMAE : {:.6f}\".format(nmae(true_y, pred_y)))\n",
    "    MSE.append(train_mse)\n",
    "    NMAE.append(nmae(true_y, pred_y))\n"
   ]
  },
  {
   "cell_type": "code",
   "execution_count": 188,
   "id": "7ae1d850",
   "metadata": {},
   "outputs": [
    {
     "data": {
      "text/html": [
       "<div>\n",
       "<style scoped>\n",
       "    .dataframe tbody tr th:only-of-type {\n",
       "        vertical-align: middle;\n",
       "    }\n",
       "\n",
       "    .dataframe tbody tr th {\n",
       "        vertical-align: top;\n",
       "    }\n",
       "\n",
       "    .dataframe thead th {\n",
       "        text-align: right;\n",
       "    }\n",
       "</style>\n",
       "<table border=\"1\" class=\"dataframe\">\n",
       "  <thead>\n",
       "    <tr style=\"text-align: right;\">\n",
       "      <th></th>\n",
       "      <th>MSE</th>\n",
       "      <th>NMAE</th>\n",
       "    </tr>\n",
       "  </thead>\n",
       "  <tbody>\n",
       "    <tr>\n",
       "      <th>0</th>\n",
       "      <td>83551.581311</td>\n",
       "      <td>0.498777</td>\n",
       "    </tr>\n",
       "    <tr>\n",
       "      <th>1</th>\n",
       "      <td>57808.000085</td>\n",
       "      <td>0.472731</td>\n",
       "    </tr>\n",
       "    <tr>\n",
       "      <th>2</th>\n",
       "      <td>46183.541544</td>\n",
       "      <td>0.489383</td>\n",
       "    </tr>\n",
       "    <tr>\n",
       "      <th>3</th>\n",
       "      <td>48791.608907</td>\n",
       "      <td>0.490965</td>\n",
       "    </tr>\n",
       "    <tr>\n",
       "      <th>4</th>\n",
       "      <td>48440.919623</td>\n",
       "      <td>0.504018</td>\n",
       "    </tr>\n",
       "    <tr>\n",
       "      <th>5</th>\n",
       "      <td>50965.393901</td>\n",
       "      <td>0.509058</td>\n",
       "    </tr>\n",
       "    <tr>\n",
       "      <th>6</th>\n",
       "      <td>73473.613946</td>\n",
       "      <td>0.518605</td>\n",
       "    </tr>\n",
       "    <tr>\n",
       "      <th>7</th>\n",
       "      <td>76539.089642</td>\n",
       "      <td>0.514782</td>\n",
       "    </tr>\n",
       "    <tr>\n",
       "      <th>8</th>\n",
       "      <td>64342.047898</td>\n",
       "      <td>0.521575</td>\n",
       "    </tr>\n",
       "    <tr>\n",
       "      <th>9</th>\n",
       "      <td>39003.938186</td>\n",
       "      <td>0.512434</td>\n",
       "    </tr>\n",
       "    <tr>\n",
       "      <th>10</th>\n",
       "      <td>42166.831942</td>\n",
       "      <td>0.511965</td>\n",
       "    </tr>\n",
       "    <tr>\n",
       "      <th>11</th>\n",
       "      <td>41797.418227</td>\n",
       "      <td>0.514980</td>\n",
       "    </tr>\n",
       "    <tr>\n",
       "      <th>12</th>\n",
       "      <td>41754.449926</td>\n",
       "      <td>0.514723</td>\n",
       "    </tr>\n",
       "    <tr>\n",
       "      <th>13</th>\n",
       "      <td>52405.147629</td>\n",
       "      <td>0.521768</td>\n",
       "    </tr>\n",
       "    <tr>\n",
       "      <th>14</th>\n",
       "      <td>42435.899230</td>\n",
       "      <td>0.517489</td>\n",
       "    </tr>\n",
       "    <tr>\n",
       "      <th>15</th>\n",
       "      <td>44872.951974</td>\n",
       "      <td>0.518289</td>\n",
       "    </tr>\n",
       "  </tbody>\n",
       "</table>\n",
       "</div>"
      ],
      "text/plain": [
       "             MSE      NMAE\n",
       "0   83551.581311  0.498777\n",
       "1   57808.000085  0.472731\n",
       "2   46183.541544  0.489383\n",
       "3   48791.608907  0.490965\n",
       "4   48440.919623  0.504018\n",
       "5   50965.393901  0.509058\n",
       "6   73473.613946  0.518605\n",
       "7   76539.089642  0.514782\n",
       "8   64342.047898  0.521575\n",
       "9   39003.938186  0.512434\n",
       "10  42166.831942  0.511965\n",
       "11  41797.418227  0.514980\n",
       "12  41754.449926  0.514723\n",
       "13  52405.147629  0.521768\n",
       "14  42435.899230  0.517489\n",
       "15  44872.951974  0.518289"
      ]
     },
     "execution_count": 188,
     "metadata": {},
     "output_type": "execute_result"
    }
   ],
   "source": [
    "df = pd.DataFrame({\"MSE\" : MSE, \"NMAE\" : NMAE})\n",
    "df"
   ]
  },
  {
   "cell_type": "markdown",
   "id": "edc18451",
   "metadata": {},
   "source": [
    "### 13번째 제출 모델"
   ]
  },
  {
   "cell_type": "code",
   "execution_count": 203,
   "id": "91dfb936",
   "metadata": {},
   "outputs": [
    {
     "name": "stderr",
     "output_type": "stream",
     "text": [
      "/Users/seungwoomun/opt/anaconda3/envs/likelion/lib/python3.8/site-packages/lightgbm/engine.py:181: UserWarning: 'early_stopping_rounds' argument is deprecated and will be removed in a future release of LightGBM. Pass 'early_stopping()' callback via 'callbacks' argument instead.\n",
      "  _log_warning(\"'early_stopping_rounds' argument is deprecated and will be removed in a future release of LightGBM. \"\n",
      "/Users/seungwoomun/opt/anaconda3/envs/likelion/lib/python3.8/site-packages/lightgbm/engine.py:239: UserWarning: 'verbose_eval' argument is deprecated and will be removed in a future release of LightGBM. Pass 'log_evaluation()' callback via 'callbacks' argument instead.\n",
      "  _log_warning(\"'verbose_eval' argument is deprecated and will be removed in a future release of LightGBM. \"\n"
     ]
    },
    {
     "name": "stdout",
     "output_type": "stream",
     "text": [
      "[LightGBM] [Warning] Accuracy may be bad since you didn't explicitly set num_leaves OR 2^max_depth > num_leaves. (num_leaves=31).\n",
      "[LightGBM] [Warning] Accuracy may be bad since you didn't explicitly set num_leaves OR 2^max_depth > num_leaves. (num_leaves=31).\n",
      "[LightGBM] [Warning] Auto-choosing row-wise multi-threading, the overhead of testing was 0.001626 seconds.\n",
      "You can set `force_row_wise=true` to remove the overhead.\n",
      "And if memory is not enough, you can set `force_col_wise=true`.\n",
      "[LightGBM] [Info] Total Bins 299\n",
      "[LightGBM] [Info] Number of data points in the train set: 306768, number of used features: 4\n",
      "[LightGBM] [Warning] Accuracy may be bad since you didn't explicitly set num_leaves OR 2^max_depth > num_leaves. (num_leaves=31).\n",
      "[LightGBM] [Info] Start training from score 6.296359\n",
      "Training until validation scores don't improve for 10 rounds\n",
      "[20]\tvalid_0's l1: 1008.06\n",
      "[40]\tvalid_0's l1: 1008.05\n",
      "[60]\tvalid_0's l1: 1008.05\n",
      "[80]\tvalid_0's l1: 1008.05\n",
      "Early stopping, best iteration is:\n",
      "[71]\tvalid_0's l1: 1008.05\n",
      "MSE : 44872.95197443433\n",
      "NMAE : 0.518289\n"
     ]
    }
   ],
   "source": [
    "d_train = lgb.Dataset(train_x, train_y)\n",
    "d_val = lgb.Dataset(val_x, val_y)\n",
    "\n",
    "# kfold = KFold(n_splits = 10, shuffle = True, random_state = 27)\n",
    "\n",
    "params = {\n",
    "    'objective': 'regression',\n",
    "    'metric':'mae',\n",
    "    'seed':42, \n",
    "    \"learning_rate\" : 0.1, \n",
    "    \"max_depth\" : 17\n",
    "}\n",
    "\n",
    "model = lgb.train(params, d_train, 1000, d_val, verbose_eval=20, early_stopping_rounds=10)\n",
    "\n",
    "# pred = model.predict(val_x)\n",
    "pred = np.expm1(model.predict(val_x))\n",
    "true_y = pd.DataFrame({\"y\" : val_y})\n",
    "pred_y = pd.DataFrame({\"pred_y\" : pred})\n",
    "\n",
    "true_y.reset_index(drop = True, inplace = True)\n",
    "true_y.reset_index(inplace = True)\n",
    "pred_y.reset_index(inplace = True)\n",
    "\n",
    "# cross_score = cross_val_score(model, X, y, cv = 3)\n",
    "\n",
    "train_mse = mean_squared_error(val_y, pred)\n",
    "print(\"MSE :\", train_mse)\n",
    "print(\"NMAE : {:.6f}\".format(nmae(true_y, pred_y)))"
   ]
  },
  {
   "cell_type": "code",
   "execution_count": 190,
   "id": "2bdef31b",
   "metadata": {},
   "outputs": [],
   "source": [
    "submission = pd.read_csv('../CSV/가스공급량 수요예측 모델개발 data/sample_submission.csv')"
   ]
  },
  {
   "cell_type": "code",
   "execution_count": 191,
   "id": "def997bb",
   "metadata": {},
   "outputs": [],
   "source": [
    "test_x = test[features]\n",
    "preds = np.expm1(model.predict(test_x))\n",
    "submission['공급량'] = preds\n",
    "submission.to_csv(\"../CSV/Submission/14_4_features_lightgbm_model.csv\", index = False)"
   ]
  },
  {
   "cell_type": "code",
   "execution_count": 197,
   "id": "f9b8bcc0",
   "metadata": {},
   "outputs": [
    {
     "data": {
      "text/html": [
       "<div>\n",
       "<style scoped>\n",
       "    .dataframe tbody tr th:only-of-type {\n",
       "        vertical-align: middle;\n",
       "    }\n",
       "\n",
       "    .dataframe tbody tr th {\n",
       "        vertical-align: top;\n",
       "    }\n",
       "\n",
       "    .dataframe thead th {\n",
       "        text-align: right;\n",
       "    }\n",
       "</style>\n",
       "<table border=\"1\" class=\"dataframe\">\n",
       "  <thead>\n",
       "    <tr style=\"text-align: right;\">\n",
       "      <th></th>\n",
       "      <th>일자|시간|구분</th>\n",
       "      <th>공급량</th>\n",
       "    </tr>\n",
       "  </thead>\n",
       "  <tbody>\n",
       "    <tr>\n",
       "      <th>0</th>\n",
       "      <td>2019-01-01 01 A</td>\n",
       "      <td>2317.388492</td>\n",
       "    </tr>\n",
       "    <tr>\n",
       "      <th>1</th>\n",
       "      <td>2019-01-01 02 A</td>\n",
       "      <td>2018.930936</td>\n",
       "    </tr>\n",
       "    <tr>\n",
       "      <th>2</th>\n",
       "      <td>2019-01-01 03 A</td>\n",
       "      <td>1901.809367</td>\n",
       "    </tr>\n",
       "  </tbody>\n",
       "</table>\n",
       "</div>"
      ],
      "text/plain": [
       "          일자|시간|구분          공급량\n",
       "0  2019-01-01 01 A  2317.388492\n",
       "1  2019-01-01 02 A  2018.930936\n",
       "2  2019-01-01 03 A  1901.809367"
      ]
     },
     "execution_count": 197,
     "metadata": {},
     "output_type": "execute_result"
    }
   ],
   "source": [
    "submission.head(3)"
   ]
  },
  {
   "cell_type": "code",
   "execution_count": 192,
   "id": "2f45019a",
   "metadata": {},
   "outputs": [],
   "source": [
    "from lightgbm import plot_importance\n",
    "import matplotlib.pyplot as plt\n",
    "\n",
    "# fig, ax = plt.subplots(figsize = (10, 12))\n",
    "# plot_importance(model, ax = ax)"
   ]
  },
  {
   "cell_type": "code",
   "execution_count": 193,
   "id": "c0a0cc68",
   "metadata": {},
   "outputs": [],
   "source": [
    "# true_y = pd.DataFrame({\"y\" : np.expm1(val_y)})\n",
    "# pred_y = pd.DataFrame({\"pred_y\" : np.expm1(pred)})\n",
    "\n",
    "# true_y.reset_index(drop = True, inplace = True)\n",
    "# true_y.reset_index(inplace = True)\n",
    "# pred_y.reset_index(inplace = True)"
   ]
  },
  {
   "cell_type": "code",
   "execution_count": 194,
   "id": "854c13d6",
   "metadata": {},
   "outputs": [
    {
     "data": {
      "text/html": [
       "<div>\n",
       "<style scoped>\n",
       "    .dataframe tbody tr th:only-of-type {\n",
       "        vertical-align: middle;\n",
       "    }\n",
       "\n",
       "    .dataframe tbody tr th {\n",
       "        vertical-align: top;\n",
       "    }\n",
       "\n",
       "    .dataframe thead th {\n",
       "        text-align: right;\n",
       "    }\n",
       "</style>\n",
       "<table border=\"1\" class=\"dataframe\">\n",
       "  <thead>\n",
       "    <tr style=\"text-align: right;\">\n",
       "      <th></th>\n",
       "      <th>index</th>\n",
       "      <th>y</th>\n",
       "    </tr>\n",
       "  </thead>\n",
       "  <tbody>\n",
       "    <tr>\n",
       "      <th>0</th>\n",
       "      <td>0</td>\n",
       "      <td>1765.008</td>\n",
       "    </tr>\n",
       "    <tr>\n",
       "      <th>1</th>\n",
       "      <td>1</td>\n",
       "      <td>1679.186</td>\n",
       "    </tr>\n",
       "    <tr>\n",
       "      <th>2</th>\n",
       "      <td>2</td>\n",
       "      <td>1610.885</td>\n",
       "    </tr>\n",
       "    <tr>\n",
       "      <th>3</th>\n",
       "      <td>3</td>\n",
       "      <td>1604.123</td>\n",
       "    </tr>\n",
       "    <tr>\n",
       "      <th>4</th>\n",
       "      <td>4</td>\n",
       "      <td>1711.506</td>\n",
       "    </tr>\n",
       "    <tr>\n",
       "      <th>...</th>\n",
       "      <td>...</td>\n",
       "      <td>...</td>\n",
       "    </tr>\n",
       "    <tr>\n",
       "      <th>61315</th>\n",
       "      <td>61315</td>\n",
       "      <td>681.033</td>\n",
       "    </tr>\n",
       "    <tr>\n",
       "      <th>61316</th>\n",
       "      <td>61316</td>\n",
       "      <td>669.961</td>\n",
       "    </tr>\n",
       "    <tr>\n",
       "      <th>61317</th>\n",
       "      <td>61317</td>\n",
       "      <td>657.941</td>\n",
       "    </tr>\n",
       "    <tr>\n",
       "      <th>61318</th>\n",
       "      <td>61318</td>\n",
       "      <td>610.953</td>\n",
       "    </tr>\n",
       "    <tr>\n",
       "      <th>61319</th>\n",
       "      <td>61319</td>\n",
       "      <td>560.896</td>\n",
       "    </tr>\n",
       "  </tbody>\n",
       "</table>\n",
       "<p>61320 rows × 2 columns</p>\n",
       "</div>"
      ],
      "text/plain": [
       "       index         y\n",
       "0          0  1765.008\n",
       "1          1  1679.186\n",
       "2          2  1610.885\n",
       "3          3  1604.123\n",
       "4          4  1711.506\n",
       "...      ...       ...\n",
       "61315  61315   681.033\n",
       "61316  61316   669.961\n",
       "61317  61317   657.941\n",
       "61318  61318   610.953\n",
       "61319  61319   560.896\n",
       "\n",
       "[61320 rows x 2 columns]"
      ]
     },
     "execution_count": 194,
     "metadata": {},
     "output_type": "execute_result"
    }
   ],
   "source": [
    "true_y"
   ]
  },
  {
   "cell_type": "code",
   "execution_count": 195,
   "id": "b5b043a1",
   "metadata": {},
   "outputs": [
    {
     "data": {
      "text/html": [
       "<div>\n",
       "<style scoped>\n",
       "    .dataframe tbody tr th:only-of-type {\n",
       "        vertical-align: middle;\n",
       "    }\n",
       "\n",
       "    .dataframe tbody tr th {\n",
       "        vertical-align: top;\n",
       "    }\n",
       "\n",
       "    .dataframe thead th {\n",
       "        text-align: right;\n",
       "    }\n",
       "</style>\n",
       "<table border=\"1\" class=\"dataframe\">\n",
       "  <thead>\n",
       "    <tr style=\"text-align: right;\">\n",
       "      <th></th>\n",
       "      <th>index</th>\n",
       "      <th>pred_y</th>\n",
       "    </tr>\n",
       "  </thead>\n",
       "  <tbody>\n",
       "    <tr>\n",
       "      <th>0</th>\n",
       "      <td>0</td>\n",
       "      <td>1975.377523</td>\n",
       "    </tr>\n",
       "    <tr>\n",
       "      <th>1</th>\n",
       "      <td>1</td>\n",
       "      <td>1762.404670</td>\n",
       "    </tr>\n",
       "    <tr>\n",
       "      <th>2</th>\n",
       "      <td>2</td>\n",
       "      <td>1653.405481</td>\n",
       "    </tr>\n",
       "    <tr>\n",
       "      <th>3</th>\n",
       "      <td>3</td>\n",
       "      <td>1653.405481</td>\n",
       "    </tr>\n",
       "    <tr>\n",
       "      <th>4</th>\n",
       "      <td>4</td>\n",
       "      <td>1867.527604</td>\n",
       "    </tr>\n",
       "    <tr>\n",
       "      <th>...</th>\n",
       "      <td>...</td>\n",
       "      <td>...</td>\n",
       "    </tr>\n",
       "    <tr>\n",
       "      <th>61315</th>\n",
       "      <td>61315</td>\n",
       "      <td>577.686413</td>\n",
       "    </tr>\n",
       "    <tr>\n",
       "      <th>61316</th>\n",
       "      <td>61316</td>\n",
       "      <td>596.861721</td>\n",
       "    </tr>\n",
       "    <tr>\n",
       "      <th>61317</th>\n",
       "      <td>61317</td>\n",
       "      <td>597.850031</td>\n",
       "    </tr>\n",
       "    <tr>\n",
       "      <th>61318</th>\n",
       "      <td>61318</td>\n",
       "      <td>587.283599</td>\n",
       "    </tr>\n",
       "    <tr>\n",
       "      <th>61319</th>\n",
       "      <td>61319</td>\n",
       "      <td>562.621387</td>\n",
       "    </tr>\n",
       "  </tbody>\n",
       "</table>\n",
       "<p>61320 rows × 2 columns</p>\n",
       "</div>"
      ],
      "text/plain": [
       "       index       pred_y\n",
       "0          0  1975.377523\n",
       "1          1  1762.404670\n",
       "2          2  1653.405481\n",
       "3          3  1653.405481\n",
       "4          4  1867.527604\n",
       "...      ...          ...\n",
       "61315  61315   577.686413\n",
       "61316  61316   596.861721\n",
       "61317  61317   597.850031\n",
       "61318  61318   587.283599\n",
       "61319  61319   562.621387\n",
       "\n",
       "[61320 rows x 2 columns]"
      ]
     },
     "execution_count": 195,
     "metadata": {},
     "output_type": "execute_result"
    }
   ],
   "source": [
    "pred_y"
   ]
  },
  {
   "cell_type": "code",
   "execution_count": 196,
   "id": "3bbb897e",
   "metadata": {},
   "outputs": [
    {
     "data": {
      "text/html": [
       "<div>\n",
       "<style scoped>\n",
       "    .dataframe tbody tr th:only-of-type {\n",
       "        vertical-align: middle;\n",
       "    }\n",
       "\n",
       "    .dataframe tbody tr th {\n",
       "        vertical-align: top;\n",
       "    }\n",
       "\n",
       "    .dataframe thead th {\n",
       "        text-align: right;\n",
       "    }\n",
       "</style>\n",
       "<table border=\"1\" class=\"dataframe\">\n",
       "  <thead>\n",
       "    <tr style=\"text-align: right;\">\n",
       "      <th></th>\n",
       "      <th>index</th>\n",
       "      <th>y</th>\n",
       "      <th>pred_y</th>\n",
       "      <th>오차</th>\n",
       "    </tr>\n",
       "  </thead>\n",
       "  <tbody>\n",
       "    <tr>\n",
       "      <th>count</th>\n",
       "      <td>61320.00000</td>\n",
       "      <td>61320.000000</td>\n",
       "      <td>61320.000000</td>\n",
       "      <td>61320.000000</td>\n",
       "    </tr>\n",
       "    <tr>\n",
       "      <th>mean</th>\n",
       "      <td>30659.50000</td>\n",
       "      <td>1014.316302</td>\n",
       "      <td>932.208847</td>\n",
       "      <td>-82.107455</td>\n",
       "    </tr>\n",
       "    <tr>\n",
       "      <th>std</th>\n",
       "      <td>17701.70359</td>\n",
       "      <td>1009.644343</td>\n",
       "      <td>909.284195</td>\n",
       "      <td>198.601487</td>\n",
       "    </tr>\n",
       "    <tr>\n",
       "      <th>min</th>\n",
       "      <td>0.00000</td>\n",
       "      <td>2.756000</td>\n",
       "      <td>26.989482</td>\n",
       "      <td>-1775.809445</td>\n",
       "    </tr>\n",
       "    <tr>\n",
       "      <th>25%</th>\n",
       "      <td>15329.75000</td>\n",
       "      <td>236.663750</td>\n",
       "      <td>234.295990</td>\n",
       "      <td>-146.278775</td>\n",
       "    </tr>\n",
       "    <tr>\n",
       "      <th>50%</th>\n",
       "      <td>30659.50000</td>\n",
       "      <td>679.869500</td>\n",
       "      <td>638.333355</td>\n",
       "      <td>-27.227144</td>\n",
       "    </tr>\n",
       "    <tr>\n",
       "      <th>75%</th>\n",
       "      <td>45989.25000</td>\n",
       "      <td>1482.117000</td>\n",
       "      <td>1350.274047</td>\n",
       "      <td>16.142681</td>\n",
       "    </tr>\n",
       "    <tr>\n",
       "      <th>max</th>\n",
       "      <td>61319.00000</td>\n",
       "      <td>6641.641000</td>\n",
       "      <td>5130.270850</td>\n",
       "      <td>1027.590433</td>\n",
       "    </tr>\n",
       "  </tbody>\n",
       "</table>\n",
       "</div>"
      ],
      "text/plain": [
       "             index             y        pred_y            오차\n",
       "count  61320.00000  61320.000000  61320.000000  61320.000000\n",
       "mean   30659.50000   1014.316302    932.208847    -82.107455\n",
       "std    17701.70359   1009.644343    909.284195    198.601487\n",
       "min        0.00000      2.756000     26.989482  -1775.809445\n",
       "25%    15329.75000    236.663750    234.295990   -146.278775\n",
       "50%    30659.50000    679.869500    638.333355    -27.227144\n",
       "75%    45989.25000   1482.117000   1350.274047     16.142681\n",
       "max    61319.00000   6641.641000   5130.270850   1027.590433"
      ]
     },
     "execution_count": 196,
     "metadata": {},
     "output_type": "execute_result"
    }
   ],
   "source": [
    "merge_df = pd.merge(true_y, pred_y, on = \"index\")\n",
    "merge_df[\"오차\"] = merge_df[\"pred_y\"] - merge_df[\"y\"]\n",
    "merge_df.describe()"
   ]
  },
  {
   "cell_type": "code",
   "execution_count": 158,
   "id": "8ab4a0da",
   "metadata": {},
   "outputs": [
    {
     "data": {
      "text/plain": [
       "[<matplotlib.lines.Line2D at 0x7fd5703bdb50>]"
      ]
     },
     "execution_count": 158,
     "metadata": {},
     "output_type": "execute_result"
    },
    {
     "data": {
      "image/png": "[encoded data removed]",
      "text/plain": [
       "<Figure size 432x288 with 1 Axes>"
      ]
     },
     "metadata": {
      "needs_background": "light"
     },
     "output_type": "display_data"
    }
   ],
   "source": [
    "plt.plot(merge_df[\"오차\"][:5])"
   ]
  },
  {
   "cell_type": "code",
   "execution_count": null,
   "id": "2993cf6e",
   "metadata": {},
   "outputs": [],
   "source": []
  },
  {
   "cell_type": "code",
   "execution_count": null,
   "id": "77e40085",
   "metadata": {},
   "outputs": [],
   "source": []
  }
 ],
 "metadata": {
  "kernelspec": {
   "display_name": "Python 3 (ipykernel)",
   "language": "python",
   "name": "python3"
  },
  "language_info": {
   "codemirror_mode": {
    "name": "ipython",
    "version": 3
   },
   "file_extension": ".py",
   "mimetype": "text/x-python",
   "name": "python",
   "nbconvert_exporter": "python",
   "pygments_lexer": "ipython3",
   "version": "3.8.8"
  }
 },
 "nbformat": 4,
 "nbformat_minor": 5
}
