{
 "cells": [
  {
   "cell_type": "code",
   "execution_count": 28,
   "id": "3a223ad7",
   "metadata": {},
   "outputs": [],
   "source": [
    "import pandas as pd\n",
    "import numpy as np\n",
    "import matplotlib.pyplot as plt\n",
    "\n",
    "from sklearn.metrics import mean_squared_error\n",
    "\n",
    "from sklearn.model_selection import cross_val_score\n",
    "from sklearn.model_selection import KFold\n",
    "from sklearn.model_selection import GridSearchCV\n",
    "\n",
    "import tensorflow as tf\n",
    "from tensorflow.keras.models import Sequential\n",
    "from tensorflow.keras.layers import Dense, Activation\n",
    "from tensorflow.keras.callbacks import EarlyStopping"
   ]
  },
  {
   "cell_type": "code",
   "execution_count": 29,
   "id": "f5e394fe",
   "metadata": {},
   "outputs": [
    {
     "name": "stdout",
     "output_type": "stream",
     "text": [
      "total shape : (368088, 12), test shape : (15120, 12)\n"
     ]
    }
   ],
   "source": [
    "total = pd.read_csv(\"../CSV/train_data.csv\")\n",
    "test = pd.read_csv(\"../CSV/pred_test.csv\")\n",
    "\n",
    "print(\"total shape : {}, test shape : {}\".format(total.shape, test.shape))"
   ]
  },
  {
   "cell_type": "code",
   "execution_count": 30,
   "id": "9b9948f8",
   "metadata": {},
   "outputs": [],
   "source": [
    "def nmae(true_df, pred_df):\n",
    "    target_idx = true_df.iloc[:,0]\n",
    "    pred_df = pred_df[pred_df.iloc[:,0].isin(target_idx)]\n",
    "    pred_df = pred_df.sort_values(by=[pred_df.columns[0]], ascending=[True])\n",
    "    true_df = true_df.sort_values(by=[true_df.columns[0]], ascending=[True])\n",
    "    \n",
    "    true = true_df.iloc[:,1].to_numpy()\n",
    "    pred = pred_df.iloc[:,1].to_numpy()\n",
    "    \n",
    "    score = np.mean((np.abs(true-pred))/true)\n",
    "    \n",
    "    return score"
   ]
  },
  {
   "cell_type": "code",
   "execution_count": 31,
   "id": "17e1a829",
   "metadata": {},
   "outputs": [],
   "source": [
    "train_years = [2013,2014,2015,2016,2017]\n",
    "val_years = [2018]\n",
    "\n",
    "train = total[total['year'].isin(train_years)]\n",
    "val = total[total['year'].isin(val_years)]\n",
    "\n",
    "# \"year\", \"month\", \"day\", \"hour\", \"weekday\", \"구분_int\", \"기온(°C)\"\n",
    "features = [\"month\", \"hour\", \"구분_int\", \"기온(°C)\"]\n",
    "# features = [\"year\", \"month\", \"day\", \"hour\", \"weekday\", \"구분_int\", \"기온(°C)\"]\n",
    "train_x = train[features]\n",
    "train_y = train['공급량']\n",
    "\n",
    "val_x = val[features]\n",
    "val_y = val['공급량']\n",
    "\n",
    "X = total[features]\n",
    "y = total[\"공급량\"]"
   ]
  },
  {
   "cell_type": "code",
   "execution_count": 32,
   "id": "2b0d1346",
   "metadata": {},
   "outputs": [
    {
     "name": "stdout",
     "output_type": "stream",
     "text": [
      "(306768, 4) (306768,)\n",
      "(61320, 4) (61320,)\n",
      "(15120, 12)\n"
     ]
    }
   ],
   "source": [
    "print(train_x.shape, train_y.shape)\n",
    "print(val_x.shape, val_y.shape)\n",
    "print(test.shape)"
   ]
  },
  {
   "cell_type": "code",
   "execution_count": 33,
   "id": "3277b751",
   "metadata": {},
   "outputs": [
    {
     "name": "stdout",
     "output_type": "stream",
     "text": [
      "Model: \"sequential_2\"\n",
      "_________________________________________________________________\n",
      " Layer (type)                Output Shape              Param #   \n",
      "=================================================================\n",
      " dense_12 (Dense)            (None, 16)                80        \n",
      "                                                                 \n",
      " dense_13 (Dense)            (None, 32)                544       \n",
      "                                                                 \n",
      " dense_14 (Dense)            (None, 64)                2112      \n",
      "                                                                 \n",
      " dense_15 (Dense)            (None, 32)                2080      \n",
      "                                                                 \n",
      " dense_16 (Dense)            (None, 16)                528       \n",
      "                                                                 \n",
      " dense_17 (Dense)            (None, 1)                 17        \n",
      "                                                                 \n",
      "=================================================================\n",
      "Total params: 5,361\n",
      "Trainable params: 5,361\n",
      "Non-trainable params: 0\n",
      "_________________________________________________________________\n"
     ]
    }
   ],
   "source": [
    "model = Sequential()\n",
    "model.add(Dense(units = 16, input_dim = 4, activation = \"relu\"))\n",
    "model.add(Dense(32, activation = \"relu\"))\n",
    "model.add(Dense(64, activation = \"relu\"))\n",
    "model.add(Dense(32, activation = \"relu\"))\n",
    "model.add(Dense(16, activation = \"relu\"))\n",
    "model.add(Dense(1))\n",
    "\n",
    "model.summary()"
   ]
  },
  {
   "cell_type": "code",
   "execution_count": 34,
   "id": "5cfc0693",
   "metadata": {
    "scrolled": true
   },
   "outputs": [
    {
     "name": "stdout",
     "output_type": "stream",
     "text": [
      "Epoch 1/200\n",
      "3068/3068 [==============================] - 4s 960us/step - loss: 576803.8750 - accuracy: 0.0000e+00 - val_loss: 630334.9375 - val_accuracy: 0.0000e+00\n",
      "Epoch 2/200\n",
      "3068/3068 [==============================] - 3s 876us/step - loss: 403858.8438 - accuracy: 0.0000e+00 - val_loss: 420579.0312 - val_accuracy: 0.0000e+00\n",
      "Epoch 3/200\n",
      "3068/3068 [==============================] - 3s 1ms/step - loss: 151107.4844 - accuracy: 0.0000e+00 - val_loss: 91485.4219 - val_accuracy: 0.0000e+00\n",
      "Epoch 4/200\n",
      "3068/3068 [==============================] - 4s 1ms/step - loss: 80820.7578 - accuracy: 0.0000e+00 - val_loss: 392308.4375 - val_accuracy: 0.0000e+00\n",
      "Epoch 5/200\n",
      "3068/3068 [==============================] - 4s 1ms/step - loss: 59325.8867 - accuracy: 0.0000e+00 - val_loss: 68619.8281 - val_accuracy: 0.0000e+00\n",
      "Epoch 6/200\n",
      "3068/3068 [==============================] - 5s 2ms/step - loss: 47593.8398 - accuracy: 0.0000e+00 - val_loss: 40971.3750 - val_accuracy: 0.0000e+00\n",
      "Epoch 7/200\n",
      "3068/3068 [==============================] - 4s 1ms/step - loss: 40287.9375 - accuracy: 0.0000e+00 - val_loss: 41020.5547 - val_accuracy: 0.0000e+00\n",
      "Epoch 8/200\n",
      "3068/3068 [==============================] - 4s 1ms/step - loss: 36113.1406 - accuracy: 0.0000e+00 - val_loss: 37415.4297 - val_accuracy: 0.0000e+00\n",
      "Epoch 9/200\n",
      "3068/3068 [==============================] - 4s 1ms/step - loss: 32794.0664 - accuracy: 0.0000e+00 - val_loss: 46008.8906 - val_accuracy: 0.0000e+00\n",
      "Epoch 10/200\n",
      "3068/3068 [==============================] - 4s 1ms/step - loss: 30360.3984 - accuracy: 0.0000e+00 - val_loss: 32350.4121 - val_accuracy: 0.0000e+00\n",
      "Epoch 11/200\n",
      "3068/3068 [==============================] - 4s 1ms/step - loss: 28203.6445 - accuracy: 0.0000e+00 - val_loss: 86920.1484 - val_accuracy: 0.0000e+00\n",
      "Epoch 12/200\n",
      "3068/3068 [==============================] - 4s 1ms/step - loss: 26912.0625 - accuracy: 0.0000e+00 - val_loss: 39118.9727 - val_accuracy: 0.0000e+00\n",
      "Epoch 13/200\n",
      "3068/3068 [==============================] - 4s 1ms/step - loss: 25965.7305 - accuracy: 0.0000e+00 - val_loss: 45279.2812 - val_accuracy: 0.0000e+00\n",
      "Epoch 14/200\n",
      "3068/3068 [==============================] - 4s 1ms/step - loss: 25547.4453 - accuracy: 0.0000e+00 - val_loss: 40498.5039 - val_accuracy: 0.0000e+00\n",
      "Epoch 15/200\n",
      "3068/3068 [==============================] - 4s 1ms/step - loss: 24964.9375 - accuracy: 0.0000e+00 - val_loss: 27671.0879 - val_accuracy: 0.0000e+00\n",
      "Epoch 16/200\n",
      "3068/3068 [==============================] - 4s 1ms/step - loss: 24681.3730 - accuracy: 0.0000e+00 - val_loss: 29880.5000 - val_accuracy: 0.0000e+00\n",
      "Epoch 17/200\n",
      "3068/3068 [==============================] - 4s 1ms/step - loss: 24450.1738 - accuracy: 0.0000e+00 - val_loss: 53898.4805 - val_accuracy: 0.0000e+00\n",
      "Epoch 18/200\n",
      "3068/3068 [==============================] - 4s 1ms/step - loss: 24415.4180 - accuracy: 0.0000e+00 - val_loss: 29888.1504 - val_accuracy: 0.0000e+00\n",
      "Epoch 19/200\n",
      "3068/3068 [==============================] - 3s 1ms/step - loss: 24177.2441 - accuracy: 0.0000e+00 - val_loss: 45202.2969 - val_accuracy: 0.0000e+00\n",
      "Epoch 20/200\n",
      "3068/3068 [==============================] - 3s 1ms/step - loss: 23862.0781 - accuracy: 0.0000e+00 - val_loss: 27164.9512 - val_accuracy: 0.0000e+00\n",
      "Epoch 21/200\n",
      "3068/3068 [==============================] - 3s 903us/step - loss: 23782.1191 - accuracy: 0.0000e+00 - val_loss: 29414.6816 - val_accuracy: 0.0000e+00\n",
      "Epoch 22/200\n",
      "3068/3068 [==============================] - 3s 944us/step - loss: 23739.2793 - accuracy: 0.0000e+00 - val_loss: 31560.1016 - val_accuracy: 0.0000e+00\n",
      "Epoch 23/200\n",
      "3068/3068 [==============================] - 3s 1ms/step - loss: 23526.7930 - accuracy: 0.0000e+00 - val_loss: 34127.5703 - val_accuracy: 0.0000e+00\n",
      "Epoch 24/200\n",
      "3068/3068 [==============================] - 3s 975us/step - loss: 23561.4336 - accuracy: 0.0000e+00 - val_loss: 34938.9023 - val_accuracy: 0.0000e+00\n",
      "Epoch 25/200\n",
      "3068/3068 [==============================] - 3s 914us/step - loss: 23350.4766 - accuracy: 0.0000e+00 - val_loss: 27080.0176 - val_accuracy: 0.0000e+00\n",
      "Epoch 26/200\n",
      "3068/3068 [==============================] - 3s 1ms/step - loss: 23335.0293 - accuracy: 0.0000e+00 - val_loss: 44665.6914 - val_accuracy: 0.0000e+00\n",
      "Epoch 27/200\n",
      "3068/3068 [==============================] - 3s 1ms/step - loss: 23291.0859 - accuracy: 0.0000e+00 - val_loss: 34559.5234 - val_accuracy: 0.0000e+00\n",
      "Epoch 28/200\n",
      "3068/3068 [==============================] - 3s 1ms/step - loss: 23187.9004 - accuracy: 0.0000e+00 - val_loss: 36589.4219 - val_accuracy: 0.0000e+00\n",
      "Epoch 29/200\n",
      "3068/3068 [==============================] - 4s 1ms/step - loss: 23162.3047 - accuracy: 0.0000e+00 - val_loss: 31055.9590 - val_accuracy: 0.0000e+00\n",
      "Epoch 30/200\n",
      "3068/3068 [==============================] - 4s 1ms/step - loss: 23063.4355 - accuracy: 0.0000e+00 - val_loss: 47670.2773 - val_accuracy: 0.0000e+00\n",
      "Epoch 31/200\n",
      "3068/3068 [==============================] - 3s 1ms/step - loss: 23010.0430 - accuracy: 0.0000e+00 - val_loss: 39240.7969 - val_accuracy: 0.0000e+00\n",
      "Epoch 32/200\n",
      "3068/3068 [==============================] - 4s 1ms/step - loss: 22979.5918 - accuracy: 0.0000e+00 - val_loss: 27845.0625 - val_accuracy: 0.0000e+00\n",
      "Epoch 33/200\n",
      "3068/3068 [==============================] - 4s 1ms/step - loss: 22960.0977 - accuracy: 0.0000e+00 - val_loss: 47060.2656 - val_accuracy: 0.0000e+00\n",
      "Epoch 34/200\n",
      "3068/3068 [==============================] - 4s 1ms/step - loss: 22868.5312 - accuracy: 0.0000e+00 - val_loss: 29283.7344 - val_accuracy: 0.0000e+00\n",
      "Epoch 35/200\n",
      "3068/3068 [==============================] - 4s 1ms/step - loss: 22885.0176 - accuracy: 0.0000e+00 - val_loss: 35583.9180 - val_accuracy: 0.0000e+00\n",
      "Epoch 36/200\n",
      "3068/3068 [==============================] - 4s 1ms/step - loss: 22805.1152 - accuracy: 0.0000e+00 - val_loss: 29044.8281 - val_accuracy: 0.0000e+00\n",
      "Epoch 37/200\n",
      "3068/3068 [==============================] - 4s 1ms/step - loss: 22798.8203 - accuracy: 0.0000e+00 - val_loss: 24388.8242 - val_accuracy: 0.0000e+00\n",
      "Epoch 38/200\n",
      "3068/3068 [==============================] - 4s 1ms/step - loss: 22693.1055 - accuracy: 0.0000e+00 - val_loss: 30840.2676 - val_accuracy: 0.0000e+00\n",
      "Epoch 39/200\n",
      "3068/3068 [==============================] - 4s 1ms/step - loss: 22712.5703 - accuracy: 0.0000e+00 - val_loss: 33817.5469 - val_accuracy: 0.0000e+00\n",
      "Epoch 40/200\n",
      "3068/3068 [==============================] - 3s 1ms/step - loss: 22659.0859 - accuracy: 0.0000e+00 - val_loss: 29264.6172 - val_accuracy: 0.0000e+00\n",
      "Epoch 41/200\n",
      "3068/3068 [==============================] - 4s 1ms/step - loss: 22572.1230 - accuracy: 0.0000e+00 - val_loss: 31980.5176 - val_accuracy: 0.0000e+00\n",
      "Epoch 42/200\n",
      "3068/3068 [==============================] - 3s 1ms/step - loss: 22571.1523 - accuracy: 0.0000e+00 - val_loss: 34826.0000 - val_accuracy: 0.0000e+00\n",
      "Epoch 43/200\n",
      "3068/3068 [==============================] - 3s 1ms/step - loss: 22557.1934 - accuracy: 0.0000e+00 - val_loss: 28997.1211 - val_accuracy: 0.0000e+00\n",
      "Epoch 44/200\n",
      "3068/3068 [==============================] - 3s 944us/step - loss: 22580.6621 - accuracy: 0.0000e+00 - val_loss: 28095.7539 - val_accuracy: 0.0000e+00\n",
      "Epoch 45/200\n",
      "3068/3068 [==============================] - 3s 1ms/step - loss: 22489.4199 - accuracy: 0.0000e+00 - val_loss: 30247.4375 - val_accuracy: 0.0000e+00\n",
      "Epoch 46/200\n",
      "3068/3068 [==============================] - 3s 981us/step - loss: 22439.0078 - accuracy: 0.0000e+00 - val_loss: 42148.9375 - val_accuracy: 0.0000e+00\n",
      "Epoch 47/200\n",
      "3068/3068 [==============================] - 3s 1ms/step - loss: 22517.6543 - accuracy: 0.0000e+00 - val_loss: 34639.6484 - val_accuracy: 0.0000e+00\n",
      "Epoch 48/200\n",
      "3068/3068 [==============================] - 3s 1ms/step - loss: 22456.1562 - accuracy: 0.0000e+00 - val_loss: 32602.6680 - val_accuracy: 0.0000e+00\n",
      "Epoch 49/200\n",
      "3068/3068 [==============================] - 3s 1ms/step - loss: 22421.4473 - accuracy: 0.0000e+00 - val_loss: 42514.4180 - val_accuracy: 0.0000e+00\n",
      "Epoch 50/200\n",
      "3068/3068 [==============================] - 3s 1ms/step - loss: 22337.5547 - accuracy: 0.0000e+00 - val_loss: 38718.7227 - val_accuracy: 0.0000e+00\n",
      "Epoch 51/200\n"
     ]
    },
    {
     "name": "stdout",
     "output_type": "stream",
     "text": [
      "3068/3068 [==============================] - 3s 873us/step - loss: 22383.8203 - accuracy: 0.0000e+00 - val_loss: 47844.3555 - val_accuracy: 0.0000e+00\n",
      "Epoch 52/200\n",
      "3068/3068 [==============================] - 3s 926us/step - loss: 22343.0586 - accuracy: 0.0000e+00 - val_loss: 26515.2344 - val_accuracy: 0.0000e+00\n",
      "Epoch 53/200\n",
      "3068/3068 [==============================] - 3s 874us/step - loss: 22338.1094 - accuracy: 0.0000e+00 - val_loss: 31145.0410 - val_accuracy: 0.0000e+00\n",
      "Epoch 54/200\n",
      "3068/3068 [==============================] - 3s 932us/step - loss: 22399.3477 - accuracy: 0.0000e+00 - val_loss: 46869.4258 - val_accuracy: 0.0000e+00\n",
      "Epoch 55/200\n",
      "3068/3068 [==============================] - 3s 992us/step - loss: 22269.3262 - accuracy: 0.0000e+00 - val_loss: 39652.2305 - val_accuracy: 0.0000e+00\n",
      "Epoch 56/200\n",
      "3068/3068 [==============================] - 3s 978us/step - loss: 22286.9004 - accuracy: 0.0000e+00 - val_loss: 28244.1562 - val_accuracy: 0.0000e+00\n",
      "Epoch 57/200\n",
      "3068/3068 [==============================] - 3s 913us/step - loss: 22287.1270 - accuracy: 0.0000e+00 - val_loss: 37509.7109 - val_accuracy: 0.0000e+00\n",
      "Epoch 58/200\n",
      "3068/3068 [==============================] - 3s 988us/step - loss: 22316.3887 - accuracy: 0.0000e+00 - val_loss: 32110.6621 - val_accuracy: 0.0000e+00\n",
      "Epoch 59/200\n",
      "3068/3068 [==============================] - 3s 1ms/step - loss: 22213.6680 - accuracy: 0.0000e+00 - val_loss: 46928.0664 - val_accuracy: 0.0000e+00\n",
      "Epoch 60/200\n",
      "3068/3068 [==============================] - 3s 946us/step - loss: 22261.2871 - accuracy: 0.0000e+00 - val_loss: 29436.5938 - val_accuracy: 0.0000e+00\n",
      "Epoch 61/200\n",
      "3068/3068 [==============================] - 4s 1ms/step - loss: 22287.5254 - accuracy: 0.0000e+00 - val_loss: 53496.3984 - val_accuracy: 0.0000e+00\n",
      "Epoch 62/200\n",
      "3068/3068 [==============================] - 3s 920us/step - loss: 22295.0586 - accuracy: 0.0000e+00 - val_loss: 29414.3164 - val_accuracy: 0.0000e+00\n",
      "Epoch 63/200\n",
      "3068/3068 [==============================] - 3s 890us/step - loss: 22258.8965 - accuracy: 0.0000e+00 - val_loss: 44400.6250 - val_accuracy: 0.0000e+00\n",
      "Epoch 64/200\n",
      "3068/3068 [==============================] - 3s 855us/step - loss: 22172.9453 - accuracy: 0.0000e+00 - val_loss: 30752.3320 - val_accuracy: 0.0000e+00\n",
      "Epoch 65/200\n",
      "3068/3068 [==============================] - 4s 1ms/step - loss: 22157.1055 - accuracy: 0.0000e+00 - val_loss: 33260.2695 - val_accuracy: 0.0000e+00\n",
      "Epoch 66/200\n",
      "3068/3068 [==============================] - 3s 956us/step - loss: 22167.9023 - accuracy: 0.0000e+00 - val_loss: 36445.1641 - val_accuracy: 0.0000e+00\n",
      "Epoch 67/200\n",
      "3068/3068 [==============================] - 3s 903us/step - loss: 22250.4883 - accuracy: 0.0000e+00 - val_loss: 32716.4883 - val_accuracy: 0.0000e+00\n"
     ]
    }
   ],
   "source": [
    "model.compile(loss = \"mean_squared_error\", \n",
    "              optimizer = \"rmsprop\", \n",
    "              metrics = [\"accuracy\"])\n",
    "\n",
    "early_stopping = EarlyStopping(patience = 30)\n",
    "\n",
    "hist = model.fit(train_x, train_y, \n",
    "                 epochs = 200, \n",
    "                 batch_size = 100, \n",
    "                 validation_data = (val_x, val_y), \n",
    "                 callbacks = [early_stopping])"
   ]
  },
  {
   "cell_type": "code",
   "execution_count": 35,
   "id": "ec234313",
   "metadata": {},
   "outputs": [
    {
     "name": "stdout",
     "output_type": "stream",
     "text": [
      "1917/1917 [==============================] - 1s 636us/step - loss: 32716.4863 - accuracy: 0.0000e+00\n"
     ]
    },
    {
     "data": {
      "text/plain": [
       "[32716.486328125, 0.0]"
      ]
     },
     "execution_count": 35,
     "metadata": {},
     "output_type": "execute_result"
    }
   ],
   "source": [
    "model.evaluate(val_x, val_y)"
   ]
  },
  {
   "cell_type": "code",
   "execution_count": 36,
   "id": "2ede6e4b",
   "metadata": {},
   "outputs": [
    {
     "name": "stdout",
     "output_type": "stream",
     "text": [
      "NMAE : 0.528145\n"
     ]
    }
   ],
   "source": [
    "pred = model.predict(val_x)\n",
    "\n",
    "true_y = pd.DataFrame({\"y\" : val_y})\n",
    "pred_y = pd.DataFrame(pred)\n",
    "\n",
    "true_y.reset_index(drop = True, inplace = True)\n",
    "true_y.reset_index(inplace = True)\n",
    "pred_y.reset_index(inplace = True)\n",
    "\n",
    "print(\"NMAE : {:.6f}\".format(nmae(true_y, pred_y)))"
   ]
  },
  {
   "cell_type": "code",
   "execution_count": 24,
   "id": "daca4748",
   "metadata": {},
   "outputs": [
    {
     "data": {
      "text/html": [
       "<div>\n",
       "<style scoped>\n",
       "    .dataframe tbody tr th:only-of-type {\n",
       "        vertical-align: middle;\n",
       "    }\n",
       "\n",
       "    .dataframe tbody tr th {\n",
       "        vertical-align: top;\n",
       "    }\n",
       "\n",
       "    .dataframe thead th {\n",
       "        text-align: right;\n",
       "    }\n",
       "</style>\n",
       "<table border=\"1\" class=\"dataframe\">\n",
       "  <thead>\n",
       "    <tr style=\"text-align: right;\">\n",
       "      <th></th>\n",
       "      <th>index</th>\n",
       "      <th>0</th>\n",
       "    </tr>\n",
       "  </thead>\n",
       "  <tbody>\n",
       "    <tr>\n",
       "      <th>0</th>\n",
       "      <td>0</td>\n",
       "      <td>2071.359375</td>\n",
       "    </tr>\n",
       "    <tr>\n",
       "      <th>1</th>\n",
       "      <td>1</td>\n",
       "      <td>1840.957764</td>\n",
       "    </tr>\n",
       "    <tr>\n",
       "      <th>2</th>\n",
       "      <td>2</td>\n",
       "      <td>1671.306763</td>\n",
       "    </tr>\n",
       "    <tr>\n",
       "      <th>3</th>\n",
       "      <td>3</td>\n",
       "      <td>1761.066162</td>\n",
       "    </tr>\n",
       "    <tr>\n",
       "      <th>4</th>\n",
       "      <td>4</td>\n",
       "      <td>1912.756104</td>\n",
       "    </tr>\n",
       "    <tr>\n",
       "      <th>...</th>\n",
       "      <td>...</td>\n",
       "      <td>...</td>\n",
       "    </tr>\n",
       "    <tr>\n",
       "      <th>61315</th>\n",
       "      <td>61315</td>\n",
       "      <td>629.390991</td>\n",
       "    </tr>\n",
       "    <tr>\n",
       "      <th>61316</th>\n",
       "      <td>61316</td>\n",
       "      <td>608.711670</td>\n",
       "    </tr>\n",
       "    <tr>\n",
       "      <th>61317</th>\n",
       "      <td>61317</td>\n",
       "      <td>592.297058</td>\n",
       "    </tr>\n",
       "    <tr>\n",
       "      <th>61318</th>\n",
       "      <td>61318</td>\n",
       "      <td>558.401062</td>\n",
       "    </tr>\n",
       "    <tr>\n",
       "      <th>61319</th>\n",
       "      <td>61319</td>\n",
       "      <td>514.202271</td>\n",
       "    </tr>\n",
       "  </tbody>\n",
       "</table>\n",
       "<p>61320 rows × 2 columns</p>\n",
       "</div>"
      ],
      "text/plain": [
       "       index            0\n",
       "0          0  2071.359375\n",
       "1          1  1840.957764\n",
       "2          2  1671.306763\n",
       "3          3  1761.066162\n",
       "4          4  1912.756104\n",
       "...      ...          ...\n",
       "61315  61315   629.390991\n",
       "61316  61316   608.711670\n",
       "61317  61317   592.297058\n",
       "61318  61318   558.401062\n",
       "61319  61319   514.202271\n",
       "\n",
       "[61320 rows x 2 columns]"
      ]
     },
     "execution_count": 24,
     "metadata": {},
     "output_type": "execute_result"
    }
   ],
   "source": [
    "pred_y"
   ]
  },
  {
   "cell_type": "code",
   "execution_count": 25,
   "id": "8fc0ec39",
   "metadata": {},
   "outputs": [
    {
     "data": {
      "text/html": [
       "<div>\n",
       "<style scoped>\n",
       "    .dataframe tbody tr th:only-of-type {\n",
       "        vertical-align: middle;\n",
       "    }\n",
       "\n",
       "    .dataframe tbody tr th {\n",
       "        vertical-align: top;\n",
       "    }\n",
       "\n",
       "    .dataframe thead th {\n",
       "        text-align: right;\n",
       "    }\n",
       "</style>\n",
       "<table border=\"1\" class=\"dataframe\">\n",
       "  <thead>\n",
       "    <tr style=\"text-align: right;\">\n",
       "      <th></th>\n",
       "      <th>index</th>\n",
       "      <th>y</th>\n",
       "    </tr>\n",
       "  </thead>\n",
       "  <tbody>\n",
       "    <tr>\n",
       "      <th>0</th>\n",
       "      <td>0</td>\n",
       "      <td>1765.008</td>\n",
       "    </tr>\n",
       "    <tr>\n",
       "      <th>1</th>\n",
       "      <td>1</td>\n",
       "      <td>1679.186</td>\n",
       "    </tr>\n",
       "    <tr>\n",
       "      <th>2</th>\n",
       "      <td>2</td>\n",
       "      <td>1610.885</td>\n",
       "    </tr>\n",
       "    <tr>\n",
       "      <th>3</th>\n",
       "      <td>3</td>\n",
       "      <td>1604.123</td>\n",
       "    </tr>\n",
       "    <tr>\n",
       "      <th>4</th>\n",
       "      <td>4</td>\n",
       "      <td>1711.506</td>\n",
       "    </tr>\n",
       "    <tr>\n",
       "      <th>...</th>\n",
       "      <td>...</td>\n",
       "      <td>...</td>\n",
       "    </tr>\n",
       "    <tr>\n",
       "      <th>61315</th>\n",
       "      <td>61315</td>\n",
       "      <td>681.033</td>\n",
       "    </tr>\n",
       "    <tr>\n",
       "      <th>61316</th>\n",
       "      <td>61316</td>\n",
       "      <td>669.961</td>\n",
       "    </tr>\n",
       "    <tr>\n",
       "      <th>61317</th>\n",
       "      <td>61317</td>\n",
       "      <td>657.941</td>\n",
       "    </tr>\n",
       "    <tr>\n",
       "      <th>61318</th>\n",
       "      <td>61318</td>\n",
       "      <td>610.953</td>\n",
       "    </tr>\n",
       "    <tr>\n",
       "      <th>61319</th>\n",
       "      <td>61319</td>\n",
       "      <td>560.896</td>\n",
       "    </tr>\n",
       "  </tbody>\n",
       "</table>\n",
       "<p>61320 rows × 2 columns</p>\n",
       "</div>"
      ],
      "text/plain": [
       "       index         y\n",
       "0          0  1765.008\n",
       "1          1  1679.186\n",
       "2          2  1610.885\n",
       "3          3  1604.123\n",
       "4          4  1711.506\n",
       "...      ...       ...\n",
       "61315  61315   681.033\n",
       "61316  61316   669.961\n",
       "61317  61317   657.941\n",
       "61318  61318   610.953\n",
       "61319  61319   560.896\n",
       "\n",
       "[61320 rows x 2 columns]"
      ]
     },
     "execution_count": 25,
     "metadata": {},
     "output_type": "execute_result"
    }
   ],
   "source": [
    "true_y"
   ]
  },
  {
   "cell_type": "code",
   "execution_count": 26,
   "id": "c00b2630",
   "metadata": {},
   "outputs": [],
   "source": [
    "submission = pd.read_csv('../CSV/가스공급량 수요예측 모델개발 data/sample_submission.csv')"
   ]
  },
  {
   "cell_type": "code",
   "execution_count": 27,
   "id": "88fb8bb1",
   "metadata": {},
   "outputs": [],
   "source": [
    "test_x = test[features]\n",
    "preds = model.predict(test_x)\n",
    "submission['공급량'] = preds\n",
    "submission.to_csv(\"../CSV/Submission/19_4_features_DeepLearning_model.csv\", index = False)"
   ]
  },
  {
   "cell_type": "code",
   "execution_count": null,
   "id": "cbffa94f",
   "metadata": {},
   "outputs": [],
   "source": []
  }
 ],
 "metadata": {
  "kernelspec": {
   "display_name": "Python 3 (ipykernel)",
   "language": "python",
   "name": "python3"
  },
  "language_info": {
   "codemirror_mode": {
    "name": "ipython",
    "version": 3
   },
   "file_extension": ".py",
   "mimetype": "text/x-python",
   "name": "python",
   "nbconvert_exporter": "python",
   "pygments_lexer": "ipython3",
   "version": "3.8.8"
  }
 },
 "nbformat": 4,
 "nbformat_minor": 5
}
