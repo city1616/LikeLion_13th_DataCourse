{
 "cells": [
  {
   "cell_type": "code",
   "execution_count": 1,
   "id": "3a223ad7",
   "metadata": {},
   "outputs": [],
   "source": [
    "import pandas as pd\n",
    "import numpy as np\n",
    "import matplotlib.pyplot as plt\n",
    "\n",
    "from sklearn.metrics import mean_squared_error\n",
    "\n",
    "from sklearn.model_selection import cross_val_score\n",
    "from sklearn.model_selection import KFold\n",
    "from sklearn.model_selection import GridSearchCV\n",
    "\n",
    "import tensorflow as tf\n",
    "from tensorflow.keras.models import Sequential\n",
    "from tensorflow.keras.layers import Dense, Activation\n",
    "from tensorflow.keras.callbacks import EarlyStopping"
   ]
  },
  {
   "cell_type": "code",
   "execution_count": 2,
   "id": "f5e394fe",
   "metadata": {},
   "outputs": [
    {
     "name": "stdout",
     "output_type": "stream",
     "text": [
      "total shape : (368088, 12), test shape : (15120, 12)\n"
     ]
    }
   ],
   "source": [
    "total = pd.read_csv(\"../CSV/train_data.csv\")\n",
    "test = pd.read_csv(\"../CSV/pred_test.csv\")\n",
    "\n",
    "print(\"total shape : {}, test shape : {}\".format(total.shape, test.shape))"
   ]
  },
  {
   "cell_type": "code",
   "execution_count": 3,
   "id": "9b9948f8",
   "metadata": {},
   "outputs": [],
   "source": [
    "def nmae(true_df, pred_df):\n",
    "    target_idx = true_df.iloc[:,0]\n",
    "    pred_df = pred_df[pred_df.iloc[:,0].isin(target_idx)]\n",
    "    pred_df = pred_df.sort_values(by=[pred_df.columns[0]], ascending=[True])\n",
    "    true_df = true_df.sort_values(by=[true_df.columns[0]], ascending=[True])\n",
    "    \n",
    "    true = true_df.iloc[:,1].to_numpy()\n",
    "    pred = pred_df.iloc[:,1].to_numpy()\n",
    "    \n",
    "    score = np.mean((np.abs(true-pred))/true)\n",
    "    \n",
    "    return score"
   ]
  },
  {
   "cell_type": "code",
   "execution_count": 4,
   "id": "17e1a829",
   "metadata": {},
   "outputs": [],
   "source": [
    "train_years = [2013,2014,2015,2016,2017]\n",
    "val_years = [2018]\n",
    "\n",
    "train = total[total['year'].isin(train_years)]\n",
    "val = total[total['year'].isin(val_years)]\n",
    "\n",
    "# \"year\", \"month\", \"day\", \"hour\", \"weekday\", \"구분_int\", \"기온(°C)\"\n",
    "features = [\"month\", \"hour\", \"구분_int\", \"기온(°C)\"]\n",
    "# features = [\"year\", \"month\", \"day\", \"hour\", \"weekday\", \"구분_int\", \"기온(°C)\"]\n",
    "train_x = train[features]\n",
    "train_y = train['공급량']\n",
    "\n",
    "val_x = val[features]\n",
    "val_y = val['공급량']\n",
    "\n",
    "X = total[features]\n",
    "y = total[\"공급량\"]"
   ]
  },
  {
   "cell_type": "code",
   "execution_count": 5,
   "id": "2b0d1346",
   "metadata": {},
   "outputs": [
    {
     "name": "stdout",
     "output_type": "stream",
     "text": [
      "(306768, 4) (306768,)\n",
      "(61320, 4) (61320,)\n",
      "(15120, 12)\n"
     ]
    }
   ],
   "source": [
    "print(train_x.shape, train_y.shape)\n",
    "print(val_x.shape, val_y.shape)\n",
    "print(test.shape)"
   ]
  },
  {
   "cell_type": "code",
   "execution_count": 6,
   "id": "3277b751",
   "metadata": {},
   "outputs": [
    {
     "name": "stdout",
     "output_type": "stream",
     "text": [
      "Model: \"sequential\"\n",
      "_________________________________________________________________\n",
      " Layer (type)                Output Shape              Param #   \n",
      "=================================================================\n",
      " dense (Dense)               (None, 16)                80        \n",
      "                                                                 \n",
      " dense_1 (Dense)             (None, 32)                544       \n",
      "                                                                 \n",
      " dense_2 (Dense)             (None, 64)                2112      \n",
      "                                                                 \n",
      " dense_3 (Dense)             (None, 32)                2080      \n",
      "                                                                 \n",
      " dense_4 (Dense)             (None, 16)                528       \n",
      "                                                                 \n",
      " dense_5 (Dense)             (None, 1)                 17        \n",
      "                                                                 \n",
      "=================================================================\n",
      "Total params: 5,361\n",
      "Trainable params: 5,361\n",
      "Non-trainable params: 0\n",
      "_________________________________________________________________\n"
     ]
    },
    {
     "name": "stderr",
     "output_type": "stream",
     "text": [
      "2021-11-13 23:05:13.069806: I tensorflow/core/platform/cpu_feature_guard.cc:151] This TensorFlow binary is optimized with oneAPI Deep Neural Network Library (oneDNN) to use the following CPU instructions in performance-critical operations:  AVX2 FMA\n",
      "To enable them in other operations, rebuild TensorFlow with the appropriate compiler flags.\n"
     ]
    }
   ],
   "source": [
    "model = Sequential()\n",
    "model.add(Dense(units = 16, input_dim = 4, activation = \"relu\"))\n",
    "model.add(Dense(32, activation = \"relu\"))\n",
    "model.add(Dense(64, activation = \"relu\"))\n",
    "model.add(Dense(32, activation = \"relu\"))\n",
    "model.add(Dense(16, activation = \"relu\"))\n",
    "model.add(Dense(1))\n",
    "\n",
    "model.summary()"
   ]
  },
  {
   "cell_type": "code",
   "execution_count": 7,
   "id": "5cfc0693",
   "metadata": {
    "scrolled": true
   },
   "outputs": [
    {
     "name": "stdout",
     "output_type": "stream",
     "text": [
      "Epoch 1/200\n",
      "3068/3068 [==============================] - 4s 995us/step - loss: 604496.0000 - accuracy: 0.0000e+00 - val_loss: 672543.3750 - val_accuracy: 0.0000e+00\n",
      "Epoch 2/200\n",
      "3068/3068 [==============================] - 2s 786us/step - loss: 513921.9688 - accuracy: 0.0000e+00 - val_loss: 589800.3750 - val_accuracy: 0.0000e+00\n",
      "Epoch 3/200\n",
      "3068/3068 [==============================] - 3s 1ms/step - loss: 285006.9375 - accuracy: 0.0000e+00 - val_loss: 137787.2031 - val_accuracy: 0.0000e+00\n",
      "Epoch 4/200\n",
      "3068/3068 [==============================] - 3s 924us/step - loss: 107432.3203 - accuracy: 0.0000e+00 - val_loss: 77698.0391 - val_accuracy: 0.0000e+00\n",
      "Epoch 5/200\n",
      "3068/3068 [==============================] - 3s 862us/step - loss: 77384.5312 - accuracy: 0.0000e+00 - val_loss: 79968.6250 - val_accuracy: 0.0000e+00\n",
      "Epoch 6/200\n",
      "3068/3068 [==============================] - 3s 1ms/step - loss: 61988.6133 - accuracy: 0.0000e+00 - val_loss: 54309.7461 - val_accuracy: 0.0000e+00\n",
      "Epoch 7/200\n",
      "3068/3068 [==============================] - 3s 928us/step - loss: 52007.0273 - accuracy: 0.0000e+00 - val_loss: 50609.0195 - val_accuracy: 0.0000e+00\n",
      "Epoch 8/200\n",
      "3068/3068 [==============================] - 3s 850us/step - loss: 44182.7773 - accuracy: 0.0000e+00 - val_loss: 43094.4688 - val_accuracy: 0.0000e+00\n",
      "Epoch 9/200\n",
      "3068/3068 [==============================] - 3s 925us/step - loss: 39151.3867 - accuracy: 0.0000e+00 - val_loss: 36605.4336 - val_accuracy: 0.0000e+00\n",
      "Epoch 10/200\n",
      "3068/3068 [==============================] - 3s 912us/step - loss: 35856.0781 - accuracy: 0.0000e+00 - val_loss: 58089.6172 - val_accuracy: 0.0000e+00\n",
      "Epoch 11/200\n",
      "3068/3068 [==============================] - 2s 811us/step - loss: 33615.0195 - accuracy: 0.0000e+00 - val_loss: 31420.6328 - val_accuracy: 0.0000e+00\n",
      "Epoch 12/200\n",
      "3068/3068 [==============================] - 3s 968us/step - loss: 32025.2520 - accuracy: 0.0000e+00 - val_loss: 40766.1641 - val_accuracy: 0.0000e+00\n",
      "Epoch 13/200\n",
      "3068/3068 [==============================] - 3s 934us/step - loss: 30475.6758 - accuracy: 0.0000e+00 - val_loss: 30108.2227 - val_accuracy: 0.0000e+00\n",
      "Epoch 14/200\n",
      "3068/3068 [==============================] - 3s 1ms/step - loss: 29374.7051 - accuracy: 0.0000e+00 - val_loss: 47964.2305 - val_accuracy: 0.0000e+00\n",
      "Epoch 15/200\n",
      "3068/3068 [==============================] - 3s 1ms/step - loss: 28471.5488 - accuracy: 0.0000e+00 - val_loss: 48679.2109 - val_accuracy: 0.0000e+00\n",
      "Epoch 16/200\n",
      "3068/3068 [==============================] - 3s 1ms/step - loss: 27759.6152 - accuracy: 0.0000e+00 - val_loss: 34046.1602 - val_accuracy: 0.0000e+00\n",
      "Epoch 17/200\n",
      "3068/3068 [==============================] - 4s 1ms/step - loss: 27014.0762 - accuracy: 0.0000e+00 - val_loss: 26526.6133 - val_accuracy: 0.0000e+00\n",
      "Epoch 18/200\n",
      "3068/3068 [==============================] - 3s 945us/step - loss: 26410.9688 - accuracy: 0.0000e+00 - val_loss: 27613.2617 - val_accuracy: 0.0000e+00\n",
      "Epoch 19/200\n",
      "3068/3068 [==============================] - 3s 1ms/step - loss: 25845.6543 - accuracy: 0.0000e+00 - val_loss: 33697.1758 - val_accuracy: 0.0000e+00\n",
      "Epoch 20/200\n",
      "3068/3068 [==============================] - 3s 876us/step - loss: 25483.6328 - accuracy: 0.0000e+00 - val_loss: 33702.4258 - val_accuracy: 0.0000e+00\n",
      "Epoch 21/200\n",
      "3068/3068 [==============================] - 3s 1ms/step - loss: 25234.9258 - accuracy: 0.0000e+00 - val_loss: 44859.5586 - val_accuracy: 0.0000e+00\n",
      "Epoch 22/200\n",
      "3068/3068 [==============================] - 3s 1ms/step - loss: 25072.5059 - accuracy: 0.0000e+00 - val_loss: 34369.2695 - val_accuracy: 0.0000e+00\n",
      "Epoch 23/200\n",
      "3068/3068 [==============================] - 3s 967us/step - loss: 24761.3535 - accuracy: 0.0000e+00 - val_loss: 25375.3223 - val_accuracy: 0.0000e+00\n",
      "Epoch 24/200\n",
      "3068/3068 [==============================] - 3s 1ms/step - loss: 24525.1172 - accuracy: 0.0000e+00 - val_loss: 48221.3789 - val_accuracy: 0.0000e+00\n",
      "Epoch 25/200\n",
      "3068/3068 [==============================] - 3s 934us/step - loss: 24323.8359 - accuracy: 0.0000e+00 - val_loss: 31697.9863 - val_accuracy: 0.0000e+00\n",
      "Epoch 26/200\n",
      "3068/3068 [==============================] - 3s 1ms/step - loss: 24295.6934 - accuracy: 0.0000e+00 - val_loss: 35616.1641 - val_accuracy: 0.0000e+00\n",
      "Epoch 27/200\n",
      "3068/3068 [==============================] - 3s 973us/step - loss: 24139.9766 - accuracy: 0.0000e+00 - val_loss: 28222.2793 - val_accuracy: 0.0000e+00\n",
      "Epoch 28/200\n",
      "3068/3068 [==============================] - 4s 1ms/step - loss: 24117.6797 - accuracy: 0.0000e+00 - val_loss: 27273.6289 - val_accuracy: 0.0000e+00\n",
      "Epoch 29/200\n",
      "3068/3068 [==============================] - 3s 994us/step - loss: 24007.2910 - accuracy: 0.0000e+00 - val_loss: 34488.7617 - val_accuracy: 0.0000e+00\n",
      "Epoch 30/200\n",
      "3068/3068 [==============================] - 3s 841us/step - loss: 24007.7559 - accuracy: 0.0000e+00 - val_loss: 43746.4883 - val_accuracy: 0.0000e+00\n",
      "Epoch 31/200\n",
      "3068/3068 [==============================] - 3s 976us/step - loss: 23856.9375 - accuracy: 0.0000e+00 - val_loss: 26401.9141 - val_accuracy: 0.0000e+00\n",
      "Epoch 32/200\n",
      "3068/3068 [==============================] - 3s 1ms/step - loss: 23824.8125 - accuracy: 0.0000e+00 - val_loss: 33399.8086 - val_accuracy: 0.0000e+00\n",
      "Epoch 33/200\n",
      "3068/3068 [==============================] - 3s 870us/step - loss: 23604.9160 - accuracy: 0.0000e+00 - val_loss: 29588.8691 - val_accuracy: 0.0000e+00\n",
      "Epoch 34/200\n",
      "3068/3068 [==============================] - 3s 872us/step - loss: 23597.2402 - accuracy: 0.0000e+00 - val_loss: 31854.0938 - val_accuracy: 0.0000e+00\n",
      "Epoch 35/200\n",
      "3068/3068 [==============================] - 3s 878us/step - loss: 23455.3086 - accuracy: 0.0000e+00 - val_loss: 32885.7930 - val_accuracy: 0.0000e+00\n",
      "Epoch 36/200\n",
      "3068/3068 [==============================] - 3s 872us/step - loss: 23464.3242 - accuracy: 0.0000e+00 - val_loss: 34245.9531 - val_accuracy: 0.0000e+00\n",
      "Epoch 37/200\n",
      "3068/3068 [==============================] - 3s 885us/step - loss: 23321.3887 - accuracy: 0.0000e+00 - val_loss: 38012.4141 - val_accuracy: 0.0000e+00\n",
      "Epoch 38/200\n",
      "3068/3068 [==============================] - 3s 881us/step - loss: 23249.5566 - accuracy: 0.0000e+00 - val_loss: 31343.0332 - val_accuracy: 0.0000e+00\n",
      "Epoch 39/200\n",
      "3068/3068 [==============================] - 3s 890us/step - loss: 23377.6680 - accuracy: 0.0000e+00 - val_loss: 54463.6016 - val_accuracy: 0.0000e+00\n",
      "Epoch 40/200\n",
      "3068/3068 [==============================] - 3s 888us/step - loss: 23311.5254 - accuracy: 0.0000e+00 - val_loss: 32152.4238 - val_accuracy: 0.0000e+00\n",
      "Epoch 41/200\n",
      "3068/3068 [==============================] - 3s 829us/step - loss: 23107.9824 - accuracy: 0.0000e+00 - val_loss: 31974.7305 - val_accuracy: 0.0000e+00\n",
      "Epoch 42/200\n",
      "3068/3068 [==============================] - 3s 844us/step - loss: 23113.8066 - accuracy: 0.0000e+00 - val_loss: 31724.5293 - val_accuracy: 0.0000e+00\n",
      "Epoch 43/200\n",
      "3068/3068 [==============================] - 3s 825us/step - loss: 22940.1797 - accuracy: 0.0000e+00 - val_loss: 48298.7617 - val_accuracy: 0.0000e+00\n",
      "Epoch 44/200\n",
      "3068/3068 [==============================] - 3s 821us/step - loss: 22915.8145 - accuracy: 0.0000e+00 - val_loss: 43852.5078 - val_accuracy: 0.0000e+00\n",
      "Epoch 45/200\n",
      "3068/3068 [==============================] - 3s 838us/step - loss: 22805.4961 - accuracy: 0.0000e+00 - val_loss: 34259.0781 - val_accuracy: 0.0000e+00\n",
      "Epoch 46/200\n",
      "3068/3068 [==============================] - 3s 823us/step - loss: 22868.4238 - accuracy: 0.0000e+00 - val_loss: 30286.4688 - val_accuracy: 0.0000e+00\n",
      "Epoch 47/200\n",
      "3068/3068 [==============================] - 3s 830us/step - loss: 22735.5645 - accuracy: 0.0000e+00 - val_loss: 36645.1641 - val_accuracy: 0.0000e+00\n",
      "Epoch 48/200\n",
      "3068/3068 [==============================] - 3s 831us/step - loss: 22705.6367 - accuracy: 0.0000e+00 - val_loss: 39354.8867 - val_accuracy: 0.0000e+00\n",
      "Epoch 49/200\n",
      "3068/3068 [==============================] - 3s 822us/step - loss: 22722.2227 - accuracy: 0.0000e+00 - val_loss: 25970.3398 - val_accuracy: 0.0000e+00\n",
      "Epoch 50/200\n",
      "3068/3068 [==============================] - 3s 821us/step - loss: 22719.8223 - accuracy: 0.0000e+00 - val_loss: 27388.4258 - val_accuracy: 0.0000e+00\n",
      "Epoch 51/200\n"
     ]
    },
    {
     "name": "stdout",
     "output_type": "stream",
     "text": [
      "3068/3068 [==============================] - 2s 791us/step - loss: 22726.8066 - accuracy: 0.0000e+00 - val_loss: 34989.3633 - val_accuracy: 0.0000e+00\n",
      "Epoch 52/200\n",
      "3068/3068 [==============================] - 2s 803us/step - loss: 22491.0801 - accuracy: 0.0000e+00 - val_loss: 26085.2012 - val_accuracy: 0.0000e+00\n",
      "Epoch 53/200\n",
      "3068/3068 [==============================] - 2s 792us/step - loss: 22545.1914 - accuracy: 0.0000e+00 - val_loss: 38846.6211 - val_accuracy: 0.0000e+00\n"
     ]
    }
   ],
   "source": [
    "model.compile(loss = \"mean_squared_error\", \n",
    "              optimizer = \"rmsprop\", \n",
    "              metrics = [\"accuracy\"])\n",
    "\n",
    "early_stopping = EarlyStopping(patience = 30)\n",
    "\n",
    "hist = model.fit(train_x, train_y, \n",
    "                 epochs = 200, \n",
    "                 batch_size = 100, \n",
    "                 validation_data = (val_x, val_y), \n",
    "                 callbacks = [early_stopping])"
   ]
  },
  {
   "cell_type": "code",
   "execution_count": 8,
   "id": "ec234313",
   "metadata": {},
   "outputs": [
    {
     "name": "stdout",
     "output_type": "stream",
     "text": [
      "1917/1917 [==============================] - 1s 527us/step - loss: 38846.6289 - accuracy: 0.0000e+00\n"
     ]
    },
    {
     "data": {
      "text/plain": [
       "[38846.62890625, 0.0]"
      ]
     },
     "execution_count": 8,
     "metadata": {},
     "output_type": "execute_result"
    }
   ],
   "source": [
    "model.evaluate(val_x, val_y)"
   ]
  },
  {
   "cell_type": "code",
   "execution_count": 9,
   "id": "2ede6e4b",
   "metadata": {},
   "outputs": [
    {
     "name": "stdout",
     "output_type": "stream",
     "text": [
      "NMAE : 0.545337\n"
     ]
    }
   ],
   "source": [
    "pred = model.predict(val_x)\n",
    "\n",
    "true_y = pd.DataFrame({\"y\" : val_y})\n",
    "pred_y = pd.DataFrame(pred)\n",
    "\n",
    "true_y.reset_index(drop = True, inplace = True)\n",
    "true_y.reset_index(inplace = True)\n",
    "pred_y.reset_index(inplace = True)\n",
    "\n",
    "print(\"NMAE : {:.6f}\".format(nmae(true_y, pred_y)))"
   ]
  },
  {
   "cell_type": "code",
   "execution_count": 10,
   "id": "daca4748",
   "metadata": {},
   "outputs": [
    {
     "data": {
      "text/html": [
       "<div>\n",
       "<style scoped>\n",
       "    .dataframe tbody tr th:only-of-type {\n",
       "        vertical-align: middle;\n",
       "    }\n",
       "\n",
       "    .dataframe tbody tr th {\n",
       "        vertical-align: top;\n",
       "    }\n",
       "\n",
       "    .dataframe thead th {\n",
       "        text-align: right;\n",
       "    }\n",
       "</style>\n",
       "<table border=\"1\" class=\"dataframe\">\n",
       "  <thead>\n",
       "    <tr style=\"text-align: right;\">\n",
       "      <th></th>\n",
       "      <th>index</th>\n",
       "      <th>0</th>\n",
       "    </tr>\n",
       "  </thead>\n",
       "  <tbody>\n",
       "    <tr>\n",
       "      <th>0</th>\n",
       "      <td>0</td>\n",
       "      <td>1961.825684</td>\n",
       "    </tr>\n",
       "    <tr>\n",
       "      <th>1</th>\n",
       "      <td>1</td>\n",
       "      <td>1692.296143</td>\n",
       "    </tr>\n",
       "    <tr>\n",
       "      <th>2</th>\n",
       "      <td>2</td>\n",
       "      <td>1639.446533</td>\n",
       "    </tr>\n",
       "    <tr>\n",
       "      <th>3</th>\n",
       "      <td>3</td>\n",
       "      <td>1667.221191</td>\n",
       "    </tr>\n",
       "    <tr>\n",
       "      <th>4</th>\n",
       "      <td>4</td>\n",
       "      <td>1784.266357</td>\n",
       "    </tr>\n",
       "    <tr>\n",
       "      <th>...</th>\n",
       "      <td>...</td>\n",
       "      <td>...</td>\n",
       "    </tr>\n",
       "    <tr>\n",
       "      <th>61315</th>\n",
       "      <td>61315</td>\n",
       "      <td>583.491394</td>\n",
       "    </tr>\n",
       "    <tr>\n",
       "      <th>61316</th>\n",
       "      <td>61316</td>\n",
       "      <td>622.158691</td>\n",
       "    </tr>\n",
       "    <tr>\n",
       "      <th>61317</th>\n",
       "      <td>61317</td>\n",
       "      <td>604.609497</td>\n",
       "    </tr>\n",
       "    <tr>\n",
       "      <th>61318</th>\n",
       "      <td>61318</td>\n",
       "      <td>582.618713</td>\n",
       "    </tr>\n",
       "    <tr>\n",
       "      <th>61319</th>\n",
       "      <td>61319</td>\n",
       "      <td>543.466919</td>\n",
       "    </tr>\n",
       "  </tbody>\n",
       "</table>\n",
       "<p>61320 rows × 2 columns</p>\n",
       "</div>"
      ],
      "text/plain": [
       "       index            0\n",
       "0          0  1961.825684\n",
       "1          1  1692.296143\n",
       "2          2  1639.446533\n",
       "3          3  1667.221191\n",
       "4          4  1784.266357\n",
       "...      ...          ...\n",
       "61315  61315   583.491394\n",
       "61316  61316   622.158691\n",
       "61317  61317   604.609497\n",
       "61318  61318   582.618713\n",
       "61319  61319   543.466919\n",
       "\n",
       "[61320 rows x 2 columns]"
      ]
     },
     "execution_count": 10,
     "metadata": {},
     "output_type": "execute_result"
    }
   ],
   "source": [
    "pred_y"
   ]
  },
  {
   "cell_type": "code",
   "execution_count": 11,
   "id": "8fc0ec39",
   "metadata": {},
   "outputs": [
    {
     "data": {
      "text/html": [
       "<div>\n",
       "<style scoped>\n",
       "    .dataframe tbody tr th:only-of-type {\n",
       "        vertical-align: middle;\n",
       "    }\n",
       "\n",
       "    .dataframe tbody tr th {\n",
       "        vertical-align: top;\n",
       "    }\n",
       "\n",
       "    .dataframe thead th {\n",
       "        text-align: right;\n",
       "    }\n",
       "</style>\n",
       "<table border=\"1\" class=\"dataframe\">\n",
       "  <thead>\n",
       "    <tr style=\"text-align: right;\">\n",
       "      <th></th>\n",
       "      <th>index</th>\n",
       "      <th>y</th>\n",
       "    </tr>\n",
       "  </thead>\n",
       "  <tbody>\n",
       "    <tr>\n",
       "      <th>0</th>\n",
       "      <td>0</td>\n",
       "      <td>1765.008</td>\n",
       "    </tr>\n",
       "    <tr>\n",
       "      <th>1</th>\n",
       "      <td>1</td>\n",
       "      <td>1679.186</td>\n",
       "    </tr>\n",
       "    <tr>\n",
       "      <th>2</th>\n",
       "      <td>2</td>\n",
       "      <td>1610.885</td>\n",
       "    </tr>\n",
       "    <tr>\n",
       "      <th>3</th>\n",
       "      <td>3</td>\n",
       "      <td>1604.123</td>\n",
       "    </tr>\n",
       "    <tr>\n",
       "      <th>4</th>\n",
       "      <td>4</td>\n",
       "      <td>1711.506</td>\n",
       "    </tr>\n",
       "    <tr>\n",
       "      <th>...</th>\n",
       "      <td>...</td>\n",
       "      <td>...</td>\n",
       "    </tr>\n",
       "    <tr>\n",
       "      <th>61315</th>\n",
       "      <td>61315</td>\n",
       "      <td>681.033</td>\n",
       "    </tr>\n",
       "    <tr>\n",
       "      <th>61316</th>\n",
       "      <td>61316</td>\n",
       "      <td>669.961</td>\n",
       "    </tr>\n",
       "    <tr>\n",
       "      <th>61317</th>\n",
       "      <td>61317</td>\n",
       "      <td>657.941</td>\n",
       "    </tr>\n",
       "    <tr>\n",
       "      <th>61318</th>\n",
       "      <td>61318</td>\n",
       "      <td>610.953</td>\n",
       "    </tr>\n",
       "    <tr>\n",
       "      <th>61319</th>\n",
       "      <td>61319</td>\n",
       "      <td>560.896</td>\n",
       "    </tr>\n",
       "  </tbody>\n",
       "</table>\n",
       "<p>61320 rows × 2 columns</p>\n",
       "</div>"
      ],
      "text/plain": [
       "       index         y\n",
       "0          0  1765.008\n",
       "1          1  1679.186\n",
       "2          2  1610.885\n",
       "3          3  1604.123\n",
       "4          4  1711.506\n",
       "...      ...       ...\n",
       "61315  61315   681.033\n",
       "61316  61316   669.961\n",
       "61317  61317   657.941\n",
       "61318  61318   610.953\n",
       "61319  61319   560.896\n",
       "\n",
       "[61320 rows x 2 columns]"
      ]
     },
     "execution_count": 11,
     "metadata": {},
     "output_type": "execute_result"
    }
   ],
   "source": [
    "true_y"
   ]
  },
  {
   "cell_type": "code",
   "execution_count": 12,
   "id": "c00b2630",
   "metadata": {},
   "outputs": [],
   "source": [
    "submission = pd.read_csv('../CSV/가스공급량 수요예측 모델개발 data/sample_submission.csv')"
   ]
  },
  {
   "cell_type": "code",
   "execution_count": 13,
   "id": "88fb8bb1",
   "metadata": {},
   "outputs": [],
   "source": [
    "test_x = test[features]\n",
    "preds = model.predict(test_x)\n",
    "submission['공급량'] = preds\n",
    "submission.to_csv(\"../CSV/Submission/20_4_features_DeepLearning_model.csv\", index = False)"
   ]
  },
  {
   "cell_type": "code",
   "execution_count": null,
   "id": "cbffa94f",
   "metadata": {},
   "outputs": [],
   "source": []
  }
 ],
 "metadata": {
  "kernelspec": {
   "display_name": "Python 3 (ipykernel)",
   "language": "python",
   "name": "python3"
  },
  "language_info": {
   "codemirror_mode": {
    "name": "ipython",
    "version": 3
   },
   "file_extension": ".py",
   "mimetype": "text/x-python",
   "name": "python",
   "nbconvert_exporter": "python",
   "pygments_lexer": "ipython3",
   "version": "3.8.8"
  }
 },
 "nbformat": 4,
 "nbformat_minor": 5
}
