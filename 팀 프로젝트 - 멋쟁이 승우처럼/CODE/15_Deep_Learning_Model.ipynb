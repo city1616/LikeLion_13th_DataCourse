{
 "cells": [
  {
   "cell_type": "code",
   "execution_count": 66,
   "id": "3a223ad7",
   "metadata": {},
   "outputs": [],
   "source": [
    "import pandas as pd\n",
    "import numpy as np\n",
    "import matplotlib.pyplot as plt\n",
    "\n",
    "from sklearn.metrics import mean_squared_error\n",
    "\n",
    "from sklearn.model_selection import cross_val_score\n",
    "from sklearn.model_selection import KFold\n",
    "from sklearn.model_selection import GridSearchCV\n",
    "\n",
    "import tensorflow as tf\n",
    "from tensorflow.keras.models import Sequential\n",
    "from tensorflow.keras.layers import Dense, Activation\n",
    "from tensorflow.keras.callbacks import EarlyStopping"
   ]
  },
  {
   "cell_type": "code",
   "execution_count": 67,
   "id": "f5e394fe",
   "metadata": {},
   "outputs": [
    {
     "name": "stdout",
     "output_type": "stream",
     "text": [
      "total shape : (368088, 12), test shape : (15120, 12)\n"
     ]
    }
   ],
   "source": [
    "total = pd.read_csv(\"../CSV/train_data.csv\")\n",
    "test = pd.read_csv(\"../CSV/pred_test.csv\")\n",
    "\n",
    "print(\"total shape : {}, test shape : {}\".format(total.shape, test.shape))"
   ]
  },
  {
   "cell_type": "code",
   "execution_count": 68,
   "id": "9b9948f8",
   "metadata": {},
   "outputs": [],
   "source": [
    "def nmae(true_df, pred_df):\n",
    "    target_idx = true_df.iloc[:,0]\n",
    "    pred_df = pred_df[pred_df.iloc[:,0].isin(target_idx)]\n",
    "    pred_df = pred_df.sort_values(by=[pred_df.columns[0]], ascending=[True])\n",
    "    true_df = true_df.sort_values(by=[true_df.columns[0]], ascending=[True])\n",
    "    \n",
    "    true = true_df.iloc[:,1].to_numpy()\n",
    "    pred = pred_df.iloc[:,1].to_numpy()\n",
    "    \n",
    "    score = np.mean((np.abs(true-pred))/true)\n",
    "    \n",
    "    return score"
   ]
  },
  {
   "cell_type": "code",
   "execution_count": 69,
   "id": "17e1a829",
   "metadata": {},
   "outputs": [],
   "source": [
    "train_years = [2013,2014,2015,2016,2017]\n",
    "val_years = [2018]\n",
    "\n",
    "train = total[total['year'].isin(train_years)]\n",
    "val = total[total['year'].isin(val_years)]\n",
    "\n",
    "# \"year\", \"month\", \"day\", \"hour\", \"weekday\", \"구분_int\", \"기온(°C)\"\n",
    "features = [\"month\", \"hour\", \"구분_int\", \"기온(°C)\"]\n",
    "# features = [\"year\", \"month\", \"day\", \"hour\", \"weekday\", \"구분_int\", \"기온(°C)\"]\n",
    "train_x = train[features]\n",
    "train_y = train['공급량']\n",
    "\n",
    "val_x = val[features]\n",
    "val_y = val['공급량']\n",
    "\n",
    "X = total[features]\n",
    "y = total[\"공급량\"]"
   ]
  },
  {
   "cell_type": "code",
   "execution_count": 70,
   "id": "2b0d1346",
   "metadata": {},
   "outputs": [
    {
     "name": "stdout",
     "output_type": "stream",
     "text": [
      "(306768, 4) (306768,)\n",
      "(61320, 4) (61320,)\n",
      "(15120, 12)\n"
     ]
    }
   ],
   "source": [
    "print(train_x.shape, train_y.shape)\n",
    "print(val_x.shape, val_y.shape)\n",
    "print(test.shape)"
   ]
  },
  {
   "cell_type": "code",
   "execution_count": 71,
   "id": "3277b751",
   "metadata": {},
   "outputs": [
    {
     "name": "stdout",
     "output_type": "stream",
     "text": [
      "Model: \"sequential_3\"\n",
      "_________________________________________________________________\n",
      "Layer (type)                 Output Shape              Param #   \n",
      "=================================================================\n",
      "dense_18 (Dense)             (None, 16)                80        \n",
      "_________________________________________________________________\n",
      "dense_19 (Dense)             (None, 32)                544       \n",
      "_________________________________________________________________\n",
      "dense_20 (Dense)             (None, 64)                2112      \n",
      "_________________________________________________________________\n",
      "dense_21 (Dense)             (None, 32)                2080      \n",
      "_________________________________________________________________\n",
      "dense_22 (Dense)             (None, 16)                528       \n",
      "_________________________________________________________________\n",
      "dense_23 (Dense)             (None, 1)                 17        \n",
      "=================================================================\n",
      "Total params: 5,361\n",
      "Trainable params: 5,361\n",
      "Non-trainable params: 0\n",
      "_________________________________________________________________\n"
     ]
    }
   ],
   "source": [
    "model = Sequential()\n",
    "model.add(Dense(units = 16, input_dim = 4, activation = \"relu\"))\n",
    "model.add(Dense(32, activation = \"relu\"))\n",
    "model.add(Dense(64, activation = \"relu\"))\n",
    "model.add(Dense(32, activation = \"relu\"))\n",
    "model.add(Dense(16, activation = \"relu\"))\n",
    "model.add(Dense(1))\n",
    "\n",
    "model.summary()"
   ]
  },
  {
   "cell_type": "code",
   "execution_count": 72,
   "id": "5cfc0693",
   "metadata": {
    "scrolled": true
   },
   "outputs": [
    {
     "name": "stdout",
     "output_type": "stream",
     "text": [
      "Epoch 1/20\n",
      "30677/30677 [==============================] - 21s 673us/step - loss: 347600.4062 - accuracy: 0.0000e+00 - val_loss: 55123.0938 - val_accuracy: 0.0000e+00\n",
      "Epoch 2/20\n",
      "30677/30677 [==============================] - 23s 735us/step - loss: 38447.0781 - accuracy: 0.0000e+00 - val_loss: 36076.4883 - val_accuracy: 0.0000e+00\n",
      "Epoch 3/20\n",
      "30677/30677 [==============================] - 23s 755us/step - loss: 30445.8984 - accuracy: 0.0000e+00 - val_loss: 31689.4961 - val_accuracy: 0.0000e+00\n",
      "Epoch 4/20\n",
      "30677/30677 [==============================] - 24s 769us/step - loss: 28591.1465 - accuracy: 0.0000e+00 - val_loss: 45862.5625 - val_accuracy: 0.0000e+00\n",
      "Epoch 5/20\n",
      "30677/30677 [==============================] - 22s 723us/step - loss: 27615.5117 - accuracy: 0.0000e+00 - val_loss: 34749.0156 - val_accuracy: 0.0000e+00\n",
      "Epoch 6/20\n",
      "30677/30677 [==============================] - 25s 804us/step - loss: 27055.6270 - accuracy: 0.0000e+00 - val_loss: 29357.1016 - val_accuracy: 0.0000e+00\n",
      "Epoch 7/20\n",
      "30677/30677 [==============================] - 23s 759us/step - loss: 26207.2246 - accuracy: 0.0000e+00 - val_loss: 28039.2578 - val_accuracy: 0.0000e+00\n",
      "Epoch 8/20\n",
      "30677/30677 [==============================] - 24s 782us/step - loss: 26099.8320 - accuracy: 0.0000e+00 - val_loss: 34320.1875 - val_accuracy: 0.0000e+00\n",
      "Epoch 9/20\n",
      "30677/30677 [==============================] - 23s 744us/step - loss: 26206.0352 - accuracy: 0.0000e+00 - val_loss: 41906.2227 - val_accuracy: 0.0000e+00\n",
      "Epoch 10/20\n",
      "30677/30677 [==============================] - 23s 744us/step - loss: 26081.3633 - accuracy: 0.0000e+00 - val_loss: 30857.9941 - val_accuracy: 0.0000e+00\n",
      "Epoch 11/20\n",
      "30677/30677 [==============================] - 23s 747us/step - loss: 26175.7637 - accuracy: 0.0000e+00 - val_loss: 47667.4062 - val_accuracy: 0.0000e+00\n",
      "Epoch 12/20\n",
      "30677/30677 [==============================] - 23s 758us/step - loss: 26355.4883 - accuracy: 0.0000e+00 - val_loss: 38822.3555 - val_accuracy: 0.0000e+00\n",
      "Epoch 13/20\n",
      "30677/30677 [==============================] - 23s 752us/step - loss: 26264.8086 - accuracy: 0.0000e+00 - val_loss: 33248.4062 - val_accuracy: 0.0000e+00\n",
      "Epoch 14/20\n",
      "30677/30677 [==============================] - 22s 718us/step - loss: 26517.1719 - accuracy: 0.0000e+00 - val_loss: 44197.0898 - val_accuracy: 0.0000e+00\n",
      "Epoch 15/20\n",
      "30677/30677 [==============================] - 22s 717us/step - loss: 26735.5156 - accuracy: 0.0000e+00 - val_loss: 29102.7246 - val_accuracy: 0.0000e+00\n",
      "Epoch 16/20\n",
      "30677/30677 [==============================] - 22s 717us/step - loss: 26422.4180 - accuracy: 0.0000e+00 - val_loss: 42258.1289 - val_accuracy: 0.0000e+00\n",
      "Epoch 17/20\n",
      "30677/30677 [==============================] - 22s 730us/step - loss: 26517.1465 - accuracy: 0.0000e+00 - val_loss: 28732.7734 - val_accuracy: 0.0000e+00\n",
      "Epoch 18/20\n",
      "30677/30677 [==============================] - 22s 714us/step - loss: 26102.3438 - accuracy: 0.0000e+00 - val_loss: 38151.6523 - val_accuracy: 0.0000e+00\n",
      "Epoch 19/20\n",
      "30677/30677 [==============================] - 22s 716us/step - loss: 26247.3164 - accuracy: 0.0000e+00 - val_loss: 29418.5430 - val_accuracy: 0.0000e+00\n",
      "Epoch 20/20\n",
      "30677/30677 [==============================] - 22s 714us/step - loss: 25966.1582 - accuracy: 0.0000e+00 - val_loss: 43852.1328 - val_accuracy: 0.0000e+00\n"
     ]
    }
   ],
   "source": [
    "model.compile(loss = \"mean_squared_error\", \n",
    "              optimizer = \"rmsprop\", \n",
    "              metrics = [\"accuracy\"])\n",
    "\n",
    "early_stopping = EarlyStopping(patience = 30)\n",
    "\n",
    "hist = model.fit(train_x, train_y, \n",
    "                 epochs = 20, \n",
    "                 batch_size = 10, \n",
    "                 validation_data = (val_x, val_y), \n",
    "                 callbacks = [early_stopping])"
   ]
  },
  {
   "cell_type": "code",
   "execution_count": 73,
   "id": "ec234313",
   "metadata": {},
   "outputs": [
    {
     "name": "stdout",
     "output_type": "stream",
     "text": [
      "1917/1917 [==============================] - 2s 730us/step - loss: 43852.1055 - accuracy: 0.0000e+00\n"
     ]
    },
    {
     "data": {
      "text/plain": [
       "[43852.10546875, 0.0]"
      ]
     },
     "execution_count": 73,
     "metadata": {},
     "output_type": "execute_result"
    }
   ],
   "source": [
    "model.evaluate(val_x, val_y)"
   ]
  },
  {
   "cell_type": "code",
   "execution_count": 74,
   "id": "2ede6e4b",
   "metadata": {},
   "outputs": [
    {
     "name": "stdout",
     "output_type": "stream",
     "text": [
      "NMAE : 0.638012\n"
     ]
    }
   ],
   "source": [
    "pred = model.predict(val_x)\n",
    "\n",
    "true_y = pd.DataFrame({\"y\" : val_y})\n",
    "pred_y = pd.DataFrame(pred)\n",
    "\n",
    "true_y.reset_index(drop = True, inplace = True)\n",
    "true_y.reset_index(inplace = True)\n",
    "pred_y.reset_index(inplace = True)\n",
    "\n",
    "print(\"NMAE : {:.6f}\".format(nmae(true_y, pred_y)))"
   ]
  },
  {
   "cell_type": "code",
   "execution_count": 62,
   "id": "daca4748",
   "metadata": {},
   "outputs": [
    {
     "data": {
      "text/html": [
       "<div>\n",
       "<style scoped>\n",
       "    .dataframe tbody tr th:only-of-type {\n",
       "        vertical-align: middle;\n",
       "    }\n",
       "\n",
       "    .dataframe tbody tr th {\n",
       "        vertical-align: top;\n",
       "    }\n",
       "\n",
       "    .dataframe thead th {\n",
       "        text-align: right;\n",
       "    }\n",
       "</style>\n",
       "<table border=\"1\" class=\"dataframe\">\n",
       "  <thead>\n",
       "    <tr style=\"text-align: right;\">\n",
       "      <th></th>\n",
       "      <th>index</th>\n",
       "      <th>0</th>\n",
       "    </tr>\n",
       "  </thead>\n",
       "  <tbody>\n",
       "    <tr>\n",
       "      <th>0</th>\n",
       "      <td>0</td>\n",
       "      <td>2077.645264</td>\n",
       "    </tr>\n",
       "    <tr>\n",
       "      <th>1</th>\n",
       "      <td>1</td>\n",
       "      <td>1815.723145</td>\n",
       "    </tr>\n",
       "    <tr>\n",
       "      <th>2</th>\n",
       "      <td>2</td>\n",
       "      <td>1752.837646</td>\n",
       "    </tr>\n",
       "    <tr>\n",
       "      <th>3</th>\n",
       "      <td>3</td>\n",
       "      <td>1801.679199</td>\n",
       "    </tr>\n",
       "    <tr>\n",
       "      <th>4</th>\n",
       "      <td>4</td>\n",
       "      <td>1919.278687</td>\n",
       "    </tr>\n",
       "    <tr>\n",
       "      <th>...</th>\n",
       "      <td>...</td>\n",
       "      <td>...</td>\n",
       "    </tr>\n",
       "    <tr>\n",
       "      <th>61315</th>\n",
       "      <td>61315</td>\n",
       "      <td>657.350647</td>\n",
       "    </tr>\n",
       "    <tr>\n",
       "      <th>61316</th>\n",
       "      <td>61316</td>\n",
       "      <td>656.396667</td>\n",
       "    </tr>\n",
       "    <tr>\n",
       "      <th>61317</th>\n",
       "      <td>61317</td>\n",
       "      <td>650.483521</td>\n",
       "    </tr>\n",
       "    <tr>\n",
       "      <th>61318</th>\n",
       "      <td>61318</td>\n",
       "      <td>642.748535</td>\n",
       "    </tr>\n",
       "    <tr>\n",
       "      <th>61319</th>\n",
       "      <td>61319</td>\n",
       "      <td>610.267578</td>\n",
       "    </tr>\n",
       "  </tbody>\n",
       "</table>\n",
       "<p>61320 rows × 2 columns</p>\n",
       "</div>"
      ],
      "text/plain": [
       "       index            0\n",
       "0          0  2077.645264\n",
       "1          1  1815.723145\n",
       "2          2  1752.837646\n",
       "3          3  1801.679199\n",
       "4          4  1919.278687\n",
       "...      ...          ...\n",
       "61315  61315   657.350647\n",
       "61316  61316   656.396667\n",
       "61317  61317   650.483521\n",
       "61318  61318   642.748535\n",
       "61319  61319   610.267578\n",
       "\n",
       "[61320 rows x 2 columns]"
      ]
     },
     "execution_count": 62,
     "metadata": {},
     "output_type": "execute_result"
    }
   ],
   "source": [
    "pred_y"
   ]
  },
  {
   "cell_type": "code",
   "execution_count": 63,
   "id": "8fc0ec39",
   "metadata": {},
   "outputs": [
    {
     "data": {
      "text/html": [
       "<div>\n",
       "<style scoped>\n",
       "    .dataframe tbody tr th:only-of-type {\n",
       "        vertical-align: middle;\n",
       "    }\n",
       "\n",
       "    .dataframe tbody tr th {\n",
       "        vertical-align: top;\n",
       "    }\n",
       "\n",
       "    .dataframe thead th {\n",
       "        text-align: right;\n",
       "    }\n",
       "</style>\n",
       "<table border=\"1\" class=\"dataframe\">\n",
       "  <thead>\n",
       "    <tr style=\"text-align: right;\">\n",
       "      <th></th>\n",
       "      <th>index</th>\n",
       "      <th>y</th>\n",
       "    </tr>\n",
       "  </thead>\n",
       "  <tbody>\n",
       "    <tr>\n",
       "      <th>0</th>\n",
       "      <td>0</td>\n",
       "      <td>1765.008</td>\n",
       "    </tr>\n",
       "    <tr>\n",
       "      <th>1</th>\n",
       "      <td>1</td>\n",
       "      <td>1679.186</td>\n",
       "    </tr>\n",
       "    <tr>\n",
       "      <th>2</th>\n",
       "      <td>2</td>\n",
       "      <td>1610.885</td>\n",
       "    </tr>\n",
       "    <tr>\n",
       "      <th>3</th>\n",
       "      <td>3</td>\n",
       "      <td>1604.123</td>\n",
       "    </tr>\n",
       "    <tr>\n",
       "      <th>4</th>\n",
       "      <td>4</td>\n",
       "      <td>1711.506</td>\n",
       "    </tr>\n",
       "    <tr>\n",
       "      <th>...</th>\n",
       "      <td>...</td>\n",
       "      <td>...</td>\n",
       "    </tr>\n",
       "    <tr>\n",
       "      <th>61315</th>\n",
       "      <td>61315</td>\n",
       "      <td>681.033</td>\n",
       "    </tr>\n",
       "    <tr>\n",
       "      <th>61316</th>\n",
       "      <td>61316</td>\n",
       "      <td>669.961</td>\n",
       "    </tr>\n",
       "    <tr>\n",
       "      <th>61317</th>\n",
       "      <td>61317</td>\n",
       "      <td>657.941</td>\n",
       "    </tr>\n",
       "    <tr>\n",
       "      <th>61318</th>\n",
       "      <td>61318</td>\n",
       "      <td>610.953</td>\n",
       "    </tr>\n",
       "    <tr>\n",
       "      <th>61319</th>\n",
       "      <td>61319</td>\n",
       "      <td>560.896</td>\n",
       "    </tr>\n",
       "  </tbody>\n",
       "</table>\n",
       "<p>61320 rows × 2 columns</p>\n",
       "</div>"
      ],
      "text/plain": [
       "       index         y\n",
       "0          0  1765.008\n",
       "1          1  1679.186\n",
       "2          2  1610.885\n",
       "3          3  1604.123\n",
       "4          4  1711.506\n",
       "...      ...       ...\n",
       "61315  61315   681.033\n",
       "61316  61316   669.961\n",
       "61317  61317   657.941\n",
       "61318  61318   610.953\n",
       "61319  61319   560.896\n",
       "\n",
       "[61320 rows x 2 columns]"
      ]
     },
     "execution_count": 63,
     "metadata": {},
     "output_type": "execute_result"
    }
   ],
   "source": [
    "true_y"
   ]
  },
  {
   "cell_type": "code",
   "execution_count": 64,
   "id": "c00b2630",
   "metadata": {},
   "outputs": [],
   "source": [
    "submission = pd.read_csv('../CSV/가스공급량 수요예측 모델개발 data/sample_submission.csv')"
   ]
  },
  {
   "cell_type": "code",
   "execution_count": 65,
   "id": "88fb8bb1",
   "metadata": {},
   "outputs": [],
   "source": [
    "test_x = test[features]\n",
    "preds = model.predict(test_x)\n",
    "submission['공급량'] = preds\n",
    "submission.to_csv(\"../CSV/Submission/17_4_features_DeepLearning_model.csv\", index = False)"
   ]
  },
  {
   "cell_type": "code",
   "execution_count": null,
   "id": "cbffa94f",
   "metadata": {},
   "outputs": [],
   "source": []
  }
 ],
 "metadata": {
  "kernelspec": {
   "display_name": "Python 3 (ipykernel)",
   "language": "python",
   "name": "python3"
  },
  "language_info": {
   "codemirror_mode": {
    "name": "ipython",
    "version": 3
   },
   "file_extension": ".py",
   "mimetype": "text/x-python",
   "name": "python",
   "nbconvert_exporter": "python",
   "pygments_lexer": "ipython3",
   "version": "3.8.8"
  }
 },
 "nbformat": 4,
 "nbformat_minor": 5
}
