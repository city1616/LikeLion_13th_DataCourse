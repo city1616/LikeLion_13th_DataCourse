{
 "cells": [
  {
   "cell_type": "code",
   "execution_count": 68,
   "id": "3a223ad7",
   "metadata": {},
   "outputs": [],
   "source": [
    "import pandas as pd\n",
    "import numpy as np\n",
    "import matplotlib.pyplot as plt\n",
    "\n",
    "from sklearn.metrics import mean_squared_error\n",
    "\n",
    "from sklearn.model_selection import cross_val_score\n",
    "from sklearn.model_selection import KFold\n",
    "from sklearn.model_selection import GridSearchCV\n",
    "\n",
    "import tensorflow as tf\n",
    "from tensorflow.keras.models import Sequential\n",
    "from tensorflow.keras.layers import Dense, Activation\n",
    "from tensorflow.keras.callbacks import EarlyStopping"
   ]
  },
  {
   "cell_type": "code",
   "execution_count": 69,
   "id": "f5e394fe",
   "metadata": {},
   "outputs": [
    {
     "name": "stdout",
     "output_type": "stream",
     "text": [
      "total shape : (368088, 12), test shape : (15120, 12)\n"
     ]
    }
   ],
   "source": [
    "total = pd.read_csv(\"../CSV/train_data.csv\")\n",
    "test = pd.read_csv(\"../CSV/pred_test.csv\")\n",
    "\n",
    "print(\"total shape : {}, test shape : {}\".format(total.shape, test.shape))"
   ]
  },
  {
   "cell_type": "code",
   "execution_count": 70,
   "id": "9b9948f8",
   "metadata": {},
   "outputs": [],
   "source": [
    "def nmae(true_df, pred_df):\n",
    "    target_idx = true_df.iloc[:,0]\n",
    "    pred_df = pred_df[pred_df.iloc[:,0].isin(target_idx)]\n",
    "    pred_df = pred_df.sort_values(by=[pred_df.columns[0]], ascending=[True])\n",
    "    true_df = true_df.sort_values(by=[true_df.columns[0]], ascending=[True])\n",
    "    \n",
    "    true = true_df.iloc[:,1].to_numpy()\n",
    "    pred = pred_df.iloc[:,1].to_numpy()\n",
    "    \n",
    "    score = np.mean((np.abs(true-pred))/true)\n",
    "    \n",
    "    return score"
   ]
  },
  {
   "cell_type": "code",
   "execution_count": 71,
   "id": "17e1a829",
   "metadata": {},
   "outputs": [],
   "source": [
    "train_years = [2013,2014,2015,2016,2017]\n",
    "val_years = [2018]\n",
    "\n",
    "train = total[total['year'].isin(train_years)]\n",
    "val = total[total['year'].isin(val_years)]\n",
    "\n",
    "# \"year\", \"month\", \"day\", \"hour\", \"weekday\", \"구분_int\", \"기온(°C)\"\n",
    "features = [\"month\", \"hour\", \"구분_int\", \"기온(°C)\"]\n",
    "# features = [\"year\", \"month\", \"day\", \"hour\", \"weekday\", \"구분_int\", \"기온(°C)\"]\n",
    "train_x = train[features]\n",
    "train_y = train['공급량']\n",
    "\n",
    "val_x = val[features]\n",
    "val_y = val['공급량']\n",
    "\n",
    "X = total[features]\n",
    "y = total[\"공급량\"]"
   ]
  },
  {
   "cell_type": "code",
   "execution_count": 72,
   "id": "2b0d1346",
   "metadata": {},
   "outputs": [
    {
     "name": "stdout",
     "output_type": "stream",
     "text": [
      "(306768, 4) (306768,)\n",
      "(61320, 4) (61320,)\n",
      "(15120, 12)\n"
     ]
    }
   ],
   "source": [
    "print(train_x.shape, train_y.shape)\n",
    "print(val_x.shape, val_y.shape)\n",
    "print(test.shape)"
   ]
  },
  {
   "cell_type": "code",
   "execution_count": 73,
   "id": "3277b751",
   "metadata": {},
   "outputs": [
    {
     "name": "stdout",
     "output_type": "stream",
     "text": [
      "Model: \"sequential_6\"\n",
      "_________________________________________________________________\n",
      " Layer (type)                Output Shape              Param #   \n",
      "=================================================================\n",
      " dense_36 (Dense)            (None, 16)                80        \n",
      "                                                                 \n",
      " dense_37 (Dense)            (None, 32)                544       \n",
      "                                                                 \n",
      " dense_38 (Dense)            (None, 64)                2112      \n",
      "                                                                 \n",
      " dense_39 (Dense)            (None, 32)                2080      \n",
      "                                                                 \n",
      " dense_40 (Dense)            (None, 16)                528       \n",
      "                                                                 \n",
      " dense_41 (Dense)            (None, 1)                 17        \n",
      "                                                                 \n",
      "=================================================================\n",
      "Total params: 5,361\n",
      "Trainable params: 5,361\n",
      "Non-trainable params: 0\n",
      "_________________________________________________________________\n"
     ]
    }
   ],
   "source": [
    "model = Sequential()\n",
    "model.add(Dense(units = 16, input_dim = 4, activation = \"relu\"))\n",
    "model.add(Dense(32, activation = \"relu\"))\n",
    "model.add(Dense(64, activation = \"relu\"))\n",
    "model.add(Dense(32, activation = \"relu\"))\n",
    "model.add(Dense(16, activation = \"relu\"))\n",
    "model.add(Dense(1))\n",
    "\n",
    "model.summary()"
   ]
  },
  {
   "cell_type": "code",
   "execution_count": 74,
   "id": "5cfc0693",
   "metadata": {
    "scrolled": true
   },
   "outputs": [
    {
     "name": "stdout",
     "output_type": "stream",
     "text": [
      "Epoch 1/30\n",
      "30677/30677 [==============================] - 30s 970us/step - loss: 332351.0625 - accuracy: 0.0000e+00 - val_loss: 53261.6836 - val_accuracy: 0.0000e+00\n",
      "Epoch 2/30\n",
      "30677/30677 [==============================] - 29s 961us/step - loss: 43208.9062 - accuracy: 0.0000e+00 - val_loss: 43852.4609 - val_accuracy: 0.0000e+00\n",
      "Epoch 3/30\n",
      "30677/30677 [==============================] - 30s 971us/step - loss: 36013.8438 - accuracy: 0.0000e+00 - val_loss: 54118.9375 - val_accuracy: 0.0000e+00\n",
      "Epoch 4/30\n",
      "30677/30677 [==============================] - 35s 1ms/step - loss: 29345.3535 - accuracy: 0.0000e+00 - val_loss: 28152.2891 - val_accuracy: 0.0000e+00\n",
      "Epoch 5/30\n",
      "30677/30677 [==============================] - 31s 1ms/step - loss: 28572.6699 - accuracy: 0.0000e+00 - val_loss: 63218.4141 - val_accuracy: 0.0000e+00\n",
      "Epoch 6/30\n",
      "30677/30677 [==============================] - 31s 1ms/step - loss: 26901.0508 - accuracy: 0.0000e+00 - val_loss: 36909.0312 - val_accuracy: 0.0000e+00\n",
      "Epoch 7/30\n",
      "30677/30677 [==============================] - 31s 1ms/step - loss: 25565.8145 - accuracy: 0.0000e+00 - val_loss: 26260.2520 - val_accuracy: 0.0000e+00\n",
      "Epoch 8/30\n",
      "30677/30677 [==============================] - 30s 980us/step - loss: 25599.9805 - accuracy: 0.0000e+00 - val_loss: 27276.3320 - val_accuracy: 0.0000e+00\n",
      "Epoch 9/30\n",
      "30677/30677 [==============================] - 31s 1ms/step - loss: 24979.3887 - accuracy: 0.0000e+00 - val_loss: 32503.4297 - val_accuracy: 0.0000e+00\n",
      "Epoch 10/30\n",
      "30677/30677 [==============================] - 30s 971us/step - loss: 24603.3418 - accuracy: 0.0000e+00 - val_loss: 31549.2891 - val_accuracy: 0.0000e+00\n",
      "Epoch 11/30\n",
      "30677/30677 [==============================] - 30s 984us/step - loss: 24434.6152 - accuracy: 0.0000e+00 - val_loss: 32933.8945 - val_accuracy: 0.0000e+00\n",
      "Epoch 12/30\n",
      "30677/30677 [==============================] - 105s 3ms/step - loss: 24334.3027 - accuracy: 0.0000e+00 - val_loss: 38177.3555 - val_accuracy: 0.0000e+00\n",
      "Epoch 13/30\n",
      "30677/30677 [==============================] - 50s 2ms/step - loss: 24639.4434 - accuracy: 0.0000e+00 - val_loss: 38613.6211 - val_accuracy: 0.0000e+00\n",
      "Epoch 14/30\n",
      "30677/30677 [==============================] - 37s 1ms/step - loss: 23967.3379 - accuracy: 0.0000e+00 - val_loss: 31072.6191 - val_accuracy: 0.0000e+00\n",
      "Epoch 15/30\n",
      "30677/30677 [==============================] - 32s 1ms/step - loss: 23576.2793 - accuracy: 0.0000e+00 - val_loss: 38047.9844 - val_accuracy: 0.0000e+00\n",
      "Epoch 16/30\n",
      "30677/30677 [==============================] - 33s 1ms/step - loss: 23336.1016 - accuracy: 0.0000e+00 - val_loss: 35058.7188 - val_accuracy: 0.0000e+00\n",
      "Epoch 17/30\n",
      "30677/30677 [==============================] - 34s 1ms/step - loss: 23538.1992 - accuracy: 0.0000e+00 - val_loss: 39084.5742 - val_accuracy: 0.0000e+00\n",
      "Epoch 18/30\n",
      "30677/30677 [==============================] - 32s 1ms/step - loss: 23398.2637 - accuracy: 0.0000e+00 - val_loss: 27568.4473 - val_accuracy: 0.0000e+00\n",
      "Epoch 19/30\n",
      "30677/30677 [==============================] - 30s 974us/step - loss: 23179.3633 - accuracy: 0.0000e+00 - val_loss: 33089.2422 - val_accuracy: 0.0000e+00\n",
      "Epoch 20/30\n",
      "30677/30677 [==============================] - 29s 957us/step - loss: 23227.6914 - accuracy: 0.0000e+00 - val_loss: 28685.3965 - val_accuracy: 0.0000e+00\n",
      "Epoch 21/30\n",
      "30677/30677 [==============================] - 30s 962us/step - loss: 23923.2070 - accuracy: 0.0000e+00 - val_loss: 28811.1660 - val_accuracy: 0.0000e+00\n",
      "Epoch 22/30\n",
      "30677/30677 [==============================] - 29s 938us/step - loss: 23008.7559 - accuracy: 0.0000e+00 - val_loss: 32262.8984 - val_accuracy: 0.0000e+00\n",
      "Epoch 23/30\n",
      "30677/30677 [==============================] - 31s 1ms/step - loss: 23183.7891 - accuracy: 0.0000e+00 - val_loss: 30777.4492 - val_accuracy: 0.0000e+00\n",
      "Epoch 24/30\n",
      "30677/30677 [==============================] - 30s 993us/step - loss: 22819.5508 - accuracy: 0.0000e+00 - val_loss: 31212.2109 - val_accuracy: 0.0000e+00\n",
      "Epoch 25/30\n",
      "30677/30677 [==============================] - 31s 997us/step - loss: 22988.7500 - accuracy: 0.0000e+00 - val_loss: 30821.2559 - val_accuracy: 0.0000e+00\n",
      "Epoch 26/30\n",
      "30677/30677 [==============================] - 28s 921us/step - loss: 22941.0938 - accuracy: 0.0000e+00 - val_loss: 35431.1641 - val_accuracy: 0.0000e+00\n",
      "Epoch 27/30\n",
      "30677/30677 [==============================] - 29s 935us/step - loss: 23034.0801 - accuracy: 0.0000e+00 - val_loss: 42587.9180 - val_accuracy: 0.0000e+00\n",
      "Epoch 28/30\n",
      "30677/30677 [==============================] - 29s 944us/step - loss: 22701.0254 - accuracy: 0.0000e+00 - val_loss: 33925.2852 - val_accuracy: 0.0000e+00\n",
      "Epoch 29/30\n",
      "30677/30677 [==============================] - 29s 942us/step - loss: 22579.7344 - accuracy: 0.0000e+00 - val_loss: 31240.2715 - val_accuracy: 0.0000e+00\n",
      "Epoch 30/30\n",
      "30677/30677 [==============================] - 29s 931us/step - loss: 22682.6289 - accuracy: 0.0000e+00 - val_loss: 36257.9883 - val_accuracy: 0.0000e+00\n"
     ]
    }
   ],
   "source": [
    "model.compile(loss = \"mean_squared_error\", \n",
    "              optimizer = \"adam\", \n",
    "              metrics = [\"accuracy\"])\n",
    "\n",
    "early_stopping = EarlyStopping(patience = 30)\n",
    "\n",
    "hist = model.fit(train_x, train_y, \n",
    "                 epochs = 30, \n",
    "                 batch_size = 10, \n",
    "                 validation_data = (val_x, val_y), \n",
    "                 callbacks = [early_stopping])"
   ]
  },
  {
   "cell_type": "code",
   "execution_count": 75,
   "id": "ec234313",
   "metadata": {
    "scrolled": true
   },
   "outputs": [
    {
     "name": "stdout",
     "output_type": "stream",
     "text": [
      "1917/1917 [==============================] - 2s 878us/step - loss: 36257.9023 - accuracy: 0.0000e+00\n"
     ]
    },
    {
     "data": {
      "text/plain": [
       "[36257.90234375, 0.0]"
      ]
     },
     "execution_count": 75,
     "metadata": {},
     "output_type": "execute_result"
    }
   ],
   "source": [
    "model.evaluate(val_x, val_y)"
   ]
  },
  {
   "cell_type": "code",
   "execution_count": 76,
   "id": "2ede6e4b",
   "metadata": {},
   "outputs": [
    {
     "name": "stdout",
     "output_type": "stream",
     "text": [
      "NMAE : 0.527506\n"
     ]
    }
   ],
   "source": [
    "pred = model.predict(val_x)\n",
    "\n",
    "true_y = pd.DataFrame({\"y\" : val_y})\n",
    "pred_y = pd.DataFrame(pred)\n",
    "\n",
    "true_y.reset_index(drop = True, inplace = True)\n",
    "true_y.reset_index(inplace = True)\n",
    "pred_y.reset_index(inplace = True)\n",
    "\n",
    "print(\"NMAE : {:.6f}\".format(nmae(true_y, pred_y)))"
   ]
  },
  {
   "cell_type": "code",
   "execution_count": 77,
   "id": "daca4748",
   "metadata": {},
   "outputs": [],
   "source": [
    "# pred_y\n",
    "# true_y"
   ]
  },
  {
   "cell_type": "code",
   "execution_count": 78,
   "id": "c00b2630",
   "metadata": {},
   "outputs": [],
   "source": [
    "submission = pd.read_csv('../CSV/가스공급량 수요예측 모델개발 data/sample_submission.csv')"
   ]
  },
  {
   "cell_type": "code",
   "execution_count": 79,
   "id": "88fb8bb1",
   "metadata": {},
   "outputs": [],
   "source": [
    "test_x = test[features]\n",
    "preds = model.predict(test_x)\n",
    "submission['공급량'] = preds\n",
    "submission.to_csv(\"../CSV/Submission/27_4_features_DeepLearning_model.csv\", index = False)"
   ]
  },
  {
   "cell_type": "code",
   "execution_count": null,
   "id": "cbffa94f",
   "metadata": {},
   "outputs": [],
   "source": []
  }
 ],
 "metadata": {
  "kernelspec": {
   "display_name": "Python 3 (ipykernel)",
   "language": "python",
   "name": "python3"
  },
  "language_info": {
   "codemirror_mode": {
    "name": "ipython",
    "version": 3
   },
   "file_extension": ".py",
   "mimetype": "text/x-python",
   "name": "python",
   "nbconvert_exporter": "python",
   "pygments_lexer": "ipython3",
   "version": "3.8.8"
  }
 },
 "nbformat": 4,
 "nbformat_minor": 5
}
