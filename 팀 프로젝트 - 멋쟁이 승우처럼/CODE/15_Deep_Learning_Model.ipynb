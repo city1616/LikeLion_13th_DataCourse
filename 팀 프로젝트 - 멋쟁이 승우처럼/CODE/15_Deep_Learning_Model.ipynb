{
 "cells": [
  {
   "cell_type": "code",
   "execution_count": 53,
   "id": "3a223ad7",
   "metadata": {},
   "outputs": [],
   "source": [
    "import pandas as pd\n",
    "import numpy as np\n",
    "import matplotlib.pyplot as plt\n",
    "\n",
    "from sklearn.metrics import mean_squared_error\n",
    "\n",
    "from sklearn.model_selection import cross_val_score\n",
    "from sklearn.model_selection import KFold\n",
    "from sklearn.model_selection import GridSearchCV\n",
    "\n",
    "import tensorflow as tf\n",
    "from keras.models import Sequential\n",
    "from keras.layers import Dense, Activation\n",
    "from keras.callbacks import EarlyStopping"
   ]
  },
  {
   "cell_type": "code",
   "execution_count": 54,
   "id": "f5e394fe",
   "metadata": {},
   "outputs": [
    {
     "name": "stdout",
     "output_type": "stream",
     "text": [
      "total shape : (368088, 12), test shape : (15120, 12)\n"
     ]
    }
   ],
   "source": [
    "total = pd.read_csv(\"../CSV/train_data.csv\")\n",
    "test = pd.read_csv(\"../CSV/pred_test.csv\")\n",
    "\n",
    "print(\"total shape : {}, test shape : {}\".format(total.shape, test.shape))"
   ]
  },
  {
   "cell_type": "code",
   "execution_count": 55,
   "id": "9b9948f8",
   "metadata": {},
   "outputs": [],
   "source": [
    "def nmae(true_df, pred_df):\n",
    "    target_idx = true_df.iloc[:,0]\n",
    "    pred_df = pred_df[pred_df.iloc[:,0].isin(target_idx)]\n",
    "    pred_df = pred_df.sort_values(by=[pred_df.columns[0]], ascending=[True])\n",
    "    true_df = true_df.sort_values(by=[true_df.columns[0]], ascending=[True])\n",
    "    \n",
    "    true = true_df.iloc[:,1].to_numpy()\n",
    "    pred = pred_df.iloc[:,1].to_numpy()\n",
    "    \n",
    "    score = np.mean((np.abs(true-pred))/true)\n",
    "    \n",
    "    return score"
   ]
  },
  {
   "cell_type": "code",
   "execution_count": 56,
   "id": "17e1a829",
   "metadata": {},
   "outputs": [],
   "source": [
    "train_years = [2013,2014,2015,2016,2017]\n",
    "val_years = [2018]\n",
    "\n",
    "train = total[total['year'].isin(train_years)]\n",
    "val = total[total['year'].isin(val_years)]\n",
    "\n",
    "# \"year\", \"month\", \"day\", \"hour\", \"weekday\", \"구분_int\", \"기온(°C)\"\n",
    "features = [\"month\", \"hour\", \"구분_int\", \"기온(°C)\"]\n",
    "# features = [\"year\", \"month\", \"day\", \"hour\", \"weekday\", \"구분_int\", \"기온(°C)\"]\n",
    "train_x = train[features]\n",
    "train_y = train['공급량']\n",
    "\n",
    "val_x = val[features]\n",
    "val_y = val['공급량']\n",
    "\n",
    "X = total[features]\n",
    "y = total[\"공급량\"]"
   ]
  },
  {
   "cell_type": "code",
   "execution_count": 57,
   "id": "2b0d1346",
   "metadata": {},
   "outputs": [
    {
     "name": "stdout",
     "output_type": "stream",
     "text": [
      "(306768, 4) (306768,)\n",
      "(61320, 4) (61320,)\n",
      "(15120, 12)\n"
     ]
    }
   ],
   "source": [
    "print(train_x.shape, train_y.shape)\n",
    "print(val_x.shape, val_y.shape)\n",
    "print(test.shape)"
   ]
  },
  {
   "cell_type": "code",
   "execution_count": 58,
   "id": "3277b751",
   "metadata": {},
   "outputs": [
    {
     "name": "stdout",
     "output_type": "stream",
     "text": [
      "Model: \"sequential_8\"\n",
      "_________________________________________________________________\n",
      " Layer (type)                Output Shape              Param #   \n",
      "=================================================================\n",
      " dense_24 (Dense)            (None, 16)                80        \n",
      "                                                                 \n",
      " dense_25 (Dense)            (None, 32)                544       \n",
      "                                                                 \n",
      " dense_26 (Dense)            (None, 64)                2112      \n",
      "                                                                 \n",
      " dense_27 (Dense)            (None, 32)                2080      \n",
      "                                                                 \n",
      " dense_28 (Dense)            (None, 16)                528       \n",
      "                                                                 \n",
      " dense_29 (Dense)            (None, 1)                 17        \n",
      "                                                                 \n",
      "=================================================================\n",
      "Total params: 5,361\n",
      "Trainable params: 5,361\n",
      "Non-trainable params: 0\n",
      "_________________________________________________________________\n"
     ]
    }
   ],
   "source": [
    "model = Sequential()\n",
    "model.add(Dense(units = 16, input_dim = 4, activation = \"relu\"))\n",
    "model.add(Dense(32, activation = \"relu\"))\n",
    "model.add(Dense(64, activation = \"relu\"))\n",
    "model.add(Dense(32, activation = \"relu\"))\n",
    "model.add(Dense(16, activation = \"relu\"))\n",
    "model.add(Dense(1))\n",
    "\n",
    "model.summary()"
   ]
  },
  {
   "cell_type": "code",
   "execution_count": 59,
   "id": "5cfc0693",
   "metadata": {
    "scrolled": true
   },
   "outputs": [
    {
     "name": "stdout",
     "output_type": "stream",
     "text": [
      "Epoch 1/100\n",
      "30677/30677 [==============================] - 26s 839us/step - loss: 305519.3750 - accuracy: 0.0000e+00 - val_loss: 46398.5586 - val_accuracy: 0.0000e+00\n",
      "Epoch 2/100\n",
      "30677/30677 [==============================] - 27s 877us/step - loss: 37063.7812 - accuracy: 0.0000e+00 - val_loss: 31870.1758 - val_accuracy: 0.0000e+00\n",
      "Epoch 3/100\n",
      "30677/30677 [==============================] - 28s 923us/step - loss: 30486.1719 - accuracy: 0.0000e+00 - val_loss: 53465.4961 - val_accuracy: 0.0000e+00\n",
      "Epoch 4/100\n",
      "30677/30677 [==============================] - 25s 826us/step - loss: 28293.0098 - accuracy: 0.0000e+00 - val_loss: 37471.9492 - val_accuracy: 0.0000e+00\n",
      "Epoch 5/100\n",
      "30677/30677 [==============================] - 25s 818us/step - loss: 27528.6152 - accuracy: 0.0000e+00 - val_loss: 32278.6152 - val_accuracy: 0.0000e+00\n",
      "Epoch 6/100\n",
      "30677/30677 [==============================] - 27s 890us/step - loss: 27105.3477 - accuracy: 0.0000e+00 - val_loss: 37296.5117 - val_accuracy: 0.0000e+00\n",
      "Epoch 7/100\n",
      "30677/30677 [==============================] - 26s 834us/step - loss: 26706.4199 - accuracy: 0.0000e+00 - val_loss: 38713.3008 - val_accuracy: 0.0000e+00\n",
      "Epoch 8/100\n",
      "30677/30677 [==============================] - 27s 866us/step - loss: 26117.6230 - accuracy: 0.0000e+00 - val_loss: 30927.2070 - val_accuracy: 0.0000e+00\n",
      "Epoch 9/100\n",
      "30677/30677 [==============================] - 26s 856us/step - loss: 26094.1699 - accuracy: 0.0000e+00 - val_loss: 37775.4492 - val_accuracy: 0.0000e+00\n",
      "Epoch 10/100\n",
      "30677/30677 [==============================] - 26s 843us/step - loss: 25794.8418 - accuracy: 0.0000e+00 - val_loss: 32611.6309 - val_accuracy: 0.0000e+00\n",
      "Epoch 11/100\n",
      "30677/30677 [==============================] - 30s 980us/step - loss: 25746.3770 - accuracy: 0.0000e+00 - val_loss: 41699.8008 - val_accuracy: 0.0000e+00\n",
      "Epoch 12/100\n",
      "30677/30677 [==============================] - 34s 1ms/step - loss: 25452.2480 - accuracy: 0.0000e+00 - val_loss: 52720.7148 - val_accuracy: 0.0000e+00\n",
      "Epoch 13/100\n",
      "30677/30677 [==============================] - 33s 1ms/step - loss: 25335.8359 - accuracy: 0.0000e+00 - val_loss: 34791.6602 - val_accuracy: 0.0000e+00\n",
      "Epoch 14/100\n",
      "30677/30677 [==============================] - 31s 1ms/step - loss: 25106.4375 - accuracy: 0.0000e+00 - val_loss: 29535.8477 - val_accuracy: 0.0000e+00\n",
      "Epoch 15/100\n",
      "30677/30677 [==============================] - 33s 1ms/step - loss: 25111.8105 - accuracy: 0.0000e+00 - val_loss: 42616.9141 - val_accuracy: 0.0000e+00\n",
      "Epoch 16/100\n",
      "30677/30677 [==============================] - 34s 1ms/step - loss: 25096.2559 - accuracy: 0.0000e+00 - val_loss: 36949.4453 - val_accuracy: 0.0000e+00\n",
      "Epoch 17/100\n",
      "30677/30677 [==============================] - 33s 1ms/step - loss: 24883.4258 - accuracy: 0.0000e+00 - val_loss: 62008.3906 - val_accuracy: 0.0000e+00\n",
      "Epoch 18/100\n",
      "30677/30677 [==============================] - 32s 1ms/step - loss: 24661.3242 - accuracy: 0.0000e+00 - val_loss: 31294.0879 - val_accuracy: 0.0000e+00\n",
      "Epoch 19/100\n",
      "30677/30677 [==============================] - 31s 1ms/step - loss: 24658.7539 - accuracy: 0.0000e+00 - val_loss: 30444.0156 - val_accuracy: 0.0000e+00\n",
      "Epoch 20/100\n",
      "30677/30677 [==============================] - 33s 1ms/step - loss: 24412.4531 - accuracy: 0.0000e+00 - val_loss: 46217.5469 - val_accuracy: 0.0000e+00\n",
      "Epoch 21/100\n",
      "30677/30677 [==============================] - 32s 1ms/step - loss: 24438.9531 - accuracy: 0.0000e+00 - val_loss: 35138.2539 - val_accuracy: 0.0000e+00\n",
      "Epoch 22/100\n",
      "30677/30677 [==============================] - 32s 1ms/step - loss: 24411.7988 - accuracy: 0.0000e+00 - val_loss: 31805.2168 - val_accuracy: 0.0000e+00\n",
      "Epoch 23/100\n",
      "30677/30677 [==============================] - 33s 1ms/step - loss: 24352.5371 - accuracy: 0.0000e+00 - val_loss: 29560.8438 - val_accuracy: 0.0000e+00\n",
      "Epoch 24/100\n",
      "30677/30677 [==============================] - 27s 869us/step - loss: 24361.2090 - accuracy: 0.0000e+00 - val_loss: 33941.1484 - val_accuracy: 0.0000e+00\n",
      "Epoch 25/100\n",
      "30677/30677 [==============================] - 25s 824us/step - loss: 24499.5879 - accuracy: 0.0000e+00 - val_loss: 37782.9492 - val_accuracy: 0.0000e+00\n",
      "Epoch 26/100\n",
      "30677/30677 [==============================] - 28s 903us/step - loss: 24590.6484 - accuracy: 0.0000e+00 - val_loss: 38921.8867 - val_accuracy: 0.0000e+00\n",
      "Epoch 27/100\n",
      "30677/30677 [==============================] - 28s 901us/step - loss: 24446.5586 - accuracy: 0.0000e+00 - val_loss: 29137.0137 - val_accuracy: 0.0000e+00\n",
      "Epoch 28/100\n",
      "30677/30677 [==============================] - 26s 860us/step - loss: 24554.4004 - accuracy: 0.0000e+00 - val_loss: 29681.6934 - val_accuracy: 0.0000e+00\n",
      "Epoch 29/100\n",
      "30677/30677 [==============================] - 28s 904us/step - loss: 24470.6855 - accuracy: 0.0000e+00 - val_loss: 33378.4102 - val_accuracy: 0.0000e+00\n",
      "Epoch 30/100\n",
      "30677/30677 [==============================] - 27s 894us/step - loss: 24339.9355 - accuracy: 0.0000e+00 - val_loss: 45530.6406 - val_accuracy: 0.0000e+00\n",
      "Epoch 31/100\n",
      "30677/30677 [==============================] - 25s 825us/step - loss: 24301.9648 - accuracy: 0.0000e+00 - val_loss: 49627.9414 - val_accuracy: 0.0000e+00\n",
      "Epoch 32/100\n",
      "30677/30677 [==============================] - 28s 899us/step - loss: 24331.8945 - accuracy: 0.0000e+00 - val_loss: 41417.4648 - val_accuracy: 0.0000e+00\n",
      "Epoch 33/100\n",
      "30677/30677 [==============================] - 29s 939us/step - loss: 24871.0977 - accuracy: 0.0000e+00 - val_loss: 60579.6094 - val_accuracy: 0.0000e+00\n",
      "Epoch 34/100\n",
      "30677/30677 [==============================] - 27s 874us/step - loss: 30424.8750 - accuracy: 0.0000e+00 - val_loss: 43625.3164 - val_accuracy: 0.0000e+00\n",
      "Epoch 35/100\n",
      "30677/30677 [==============================] - 26s 852us/step - loss: 25968.8809 - accuracy: 0.0000e+00 - val_loss: 32077.8965 - val_accuracy: 0.0000e+00\n",
      "Epoch 36/100\n",
      "30677/30677 [==============================] - 26s 845us/step - loss: 25018.2520 - accuracy: 0.0000e+00 - val_loss: 55766.1250 - val_accuracy: 0.0000e+00\n",
      "Epoch 37/100\n",
      "30677/30677 [==============================] - 26s 843us/step - loss: 24730.0469 - accuracy: 0.0000e+00 - val_loss: 36616.8516 - val_accuracy: 0.0000e+00\n",
      "Epoch 38/100\n",
      "30677/30677 [==============================] - 26s 847us/step - loss: 24552.4512 - accuracy: 0.0000e+00 - val_loss: 30083.9531 - val_accuracy: 0.0000e+00\n",
      "Epoch 39/100\n",
      "30677/30677 [==============================] - 48s 2ms/step - loss: 24482.4785 - accuracy: 0.0000e+00 - val_loss: 34805.2734 - val_accuracy: 0.0000e+00\n",
      "Epoch 40/100\n",
      "30677/30677 [==============================] - 54s 2ms/step - loss: 24425.4258 - accuracy: 0.0000e+00 - val_loss: 38445.9297 - val_accuracy: 0.0000e+00\n",
      "Epoch 41/100\n",
      "30677/30677 [==============================] - 47s 2ms/step - loss: 24165.4785 - accuracy: 0.0000e+00 - val_loss: 42694.0820 - val_accuracy: 0.0000e+00\n",
      "Epoch 42/100\n",
      "30677/30677 [==============================] - 47s 2ms/step - loss: 24068.9922 - accuracy: 0.0000e+00 - val_loss: 34751.3359 - val_accuracy: 0.0000e+00\n",
      "Epoch 43/100\n",
      "30677/30677 [==============================] - 48s 2ms/step - loss: 24237.4746 - accuracy: 0.0000e+00 - val_loss: 33692.1133 - val_accuracy: 0.0000e+00\n",
      "Epoch 44/100\n",
      "30677/30677 [==============================] - 47s 2ms/step - loss: 24117.4746 - accuracy: 0.0000e+00 - val_loss: 24877.3750 - val_accuracy: 0.0000e+00\n",
      "Epoch 45/100\n",
      "30677/30677 [==============================] - 48s 2ms/step - loss: 24006.6445 - accuracy: 0.0000e+00 - val_loss: 41732.1250 - val_accuracy: 0.0000e+00\n",
      "Epoch 46/100\n",
      "30677/30677 [==============================] - 47s 2ms/step - loss: 23931.2051 - accuracy: 0.0000e+00 - val_loss: 37389.0352 - val_accuracy: 0.0000e+00\n",
      "Epoch 47/100\n",
      "30677/30677 [==============================] - 48s 2ms/step - loss: 24021.8086 - accuracy: 0.0000e+00 - val_loss: 46143.9531 - val_accuracy: 0.0000e+00\n",
      "Epoch 48/100\n",
      "30677/30677 [==============================] - 46s 2ms/step - loss: 23956.2930 - accuracy: 0.0000e+00 - val_loss: 36078.8750 - val_accuracy: 0.0000e+00\n",
      "Epoch 49/100\n",
      "30677/30677 [==============================] - 51s 2ms/step - loss: 23854.3320 - accuracy: 0.0000e+00 - val_loss: 36981.1680 - val_accuracy: 0.0000e+00\n",
      "Epoch 50/100\n"
     ]
    },
    {
     "name": "stdout",
     "output_type": "stream",
     "text": [
      "30677/30677 [==============================] - 47s 2ms/step - loss: 23829.6211 - accuracy: 0.0000e+00 - val_loss: 37075.6523 - val_accuracy: 0.0000e+00\n",
      "Epoch 51/100\n",
      "30677/30677 [==============================] - 50s 2ms/step - loss: 23885.1953 - accuracy: 0.0000e+00 - val_loss: 33102.6758 - val_accuracy: 0.0000e+00\n",
      "Epoch 52/100\n",
      "30677/30677 [==============================] - 48s 2ms/step - loss: 23791.4941 - accuracy: 0.0000e+00 - val_loss: 33315.6523 - val_accuracy: 0.0000e+00\n",
      "Epoch 53/100\n",
      "30677/30677 [==============================] - 50s 2ms/step - loss: 23849.4375 - accuracy: 0.0000e+00 - val_loss: 44409.7656 - val_accuracy: 0.0000e+00\n",
      "Epoch 54/100\n",
      "30677/30677 [==============================] - 40s 1ms/step - loss: 23989.3730 - accuracy: 0.0000e+00 - val_loss: 33434.5898 - val_accuracy: 0.0000e+00\n",
      "Epoch 55/100\n",
      "30677/30677 [==============================] - 25s 799us/step - loss: 23941.9297 - accuracy: 0.0000e+00 - val_loss: 40060.0273 - val_accuracy: 0.0000e+00\n",
      "Epoch 56/100\n",
      "30677/30677 [==============================] - 24s 770us/step - loss: 23939.4004 - accuracy: 0.0000e+00 - val_loss: 27844.8105 - val_accuracy: 0.0000e+00\n",
      "Epoch 57/100\n",
      "30677/30677 [==============================] - 25s 806us/step - loss: 23825.3691 - accuracy: 0.0000e+00 - val_loss: 37846.9375 - val_accuracy: 0.0000e+00\n",
      "Epoch 58/100\n",
      "30677/30677 [==============================] - 43s 1ms/step - loss: 23830.4473 - accuracy: 0.0000e+00 - val_loss: 36746.3438 - val_accuracy: 0.0000e+00\n",
      "Epoch 59/100\n",
      "30677/30677 [==============================] - 47s 2ms/step - loss: 23932.0293 - accuracy: 0.0000e+00 - val_loss: 31551.4844 - val_accuracy: 0.0000e+00\n",
      "Epoch 60/100\n",
      "30677/30677 [==============================] - 28s 918us/step - loss: 23891.4082 - accuracy: 0.0000e+00 - val_loss: 31154.7402 - val_accuracy: 0.0000e+00\n",
      "Epoch 61/100\n",
      "30677/30677 [==============================] - 24s 776us/step - loss: 23879.6504 - accuracy: 0.0000e+00 - val_loss: 29104.3203 - val_accuracy: 0.0000e+00\n",
      "Epoch 62/100\n",
      "30677/30677 [==============================] - 23s 756us/step - loss: 23777.4414 - accuracy: 0.0000e+00 - val_loss: 32035.4531 - val_accuracy: 0.0000e+00\n",
      "Epoch 63/100\n",
      "30677/30677 [==============================] - 24s 779us/step - loss: 23878.2305 - accuracy: 0.0000e+00 - val_loss: 40048.2109 - val_accuracy: 0.0000e+00\n",
      "Epoch 64/100\n",
      "30677/30677 [==============================] - 24s 773us/step - loss: 23777.6504 - accuracy: 0.0000e+00 - val_loss: 41949.3281 - val_accuracy: 0.0000e+00\n",
      "Epoch 65/100\n",
      "30677/30677 [==============================] - 25s 828us/step - loss: 23762.2148 - accuracy: 0.0000e+00 - val_loss: 34507.9961 - val_accuracy: 0.0000e+00\n",
      "Epoch 66/100\n",
      "30677/30677 [==============================] - 25s 828us/step - loss: 23883.1738 - accuracy: 0.0000e+00 - val_loss: 36587.8555 - val_accuracy: 0.0000e+00\n",
      "Epoch 67/100\n",
      "30677/30677 [==============================] - 25s 828us/step - loss: 23890.1113 - accuracy: 0.0000e+00 - val_loss: 39977.3984 - val_accuracy: 0.0000e+00\n",
      "Epoch 68/100\n",
      "30677/30677 [==============================] - 25s 829us/step - loss: 23904.6875 - accuracy: 0.0000e+00 - val_loss: 29647.0723 - val_accuracy: 0.0000e+00\n",
      "Epoch 69/100\n",
      "30677/30677 [==============================] - 25s 814us/step - loss: 23979.3613 - accuracy: 0.0000e+00 - val_loss: 31074.2266 - val_accuracy: 0.0000e+00\n",
      "Epoch 70/100\n",
      "30677/30677 [==============================] - 24s 780us/step - loss: 23944.3594 - accuracy: 0.0000e+00 - val_loss: 30666.3965 - val_accuracy: 0.0000e+00\n",
      "Epoch 71/100\n",
      "30677/30677 [==============================] - 24s 798us/step - loss: 24003.8027 - accuracy: 0.0000e+00 - val_loss: 32650.7949 - val_accuracy: 0.0000e+00\n",
      "Epoch 72/100\n",
      "30677/30677 [==============================] - 26s 856us/step - loss: 23994.0684 - accuracy: 0.0000e+00 - val_loss: 49386.3164 - val_accuracy: 0.0000e+00\n",
      "Epoch 73/100\n",
      "30677/30677 [==============================] - 25s 808us/step - loss: 23890.7910 - accuracy: 0.0000e+00 - val_loss: 30337.9297 - val_accuracy: 0.0000e+00\n",
      "Epoch 74/100\n",
      "30677/30677 [==============================] - 38s 1ms/step - loss: 23929.6934 - accuracy: 0.0000e+00 - val_loss: 32059.9941 - val_accuracy: 0.0000e+00\n"
     ]
    }
   ],
   "source": [
    "model.compile(loss = \"mean_squared_error\", \n",
    "              optimizer = \"rmsprop\", \n",
    "              metrics = [\"accuracy\"])\n",
    "\n",
    "early_stopping = EarlyStopping(patience = 30)\n",
    "\n",
    "hist = model.fit(train_x, train_y, \n",
    "                 epochs = 100, \n",
    "                 batch_size = 10, \n",
    "                 validation_data = (val_x, val_y), \n",
    "                 callbacks = [early_stopping])"
   ]
  },
  {
   "cell_type": "code",
   "execution_count": 60,
   "id": "ec234313",
   "metadata": {},
   "outputs": [
    {
     "name": "stdout",
     "output_type": "stream",
     "text": [
      "1917/1917 [==============================] - 3s 2ms/step - loss: 32059.9922 - accuracy: 0.0000e+00\n"
     ]
    },
    {
     "data": {
      "text/plain": [
       "[32059.9921875, 0.0]"
      ]
     },
     "execution_count": 60,
     "metadata": {},
     "output_type": "execute_result"
    }
   ],
   "source": [
    "model.evaluate(val_x, val_y)"
   ]
  },
  {
   "cell_type": "code",
   "execution_count": 61,
   "id": "2ede6e4b",
   "metadata": {},
   "outputs": [
    {
     "name": "stdout",
     "output_type": "stream",
     "text": [
      "NMAE : 0.486311\n"
     ]
    }
   ],
   "source": [
    "pred = model.predict(val_x)\n",
    "\n",
    "true_y = pd.DataFrame({\"y\" : val_y})\n",
    "pred_y = pd.DataFrame(pred)\n",
    "\n",
    "true_y.reset_index(drop = True, inplace = True)\n",
    "true_y.reset_index(inplace = True)\n",
    "pred_y.reset_index(inplace = True)\n",
    "\n",
    "print(\"NMAE : {:.6f}\".format(nmae(true_y, pred_y)))"
   ]
  },
  {
   "cell_type": "code",
   "execution_count": 63,
   "id": "daca4748",
   "metadata": {},
   "outputs": [
    {
     "data": {
      "text/html": [
       "<div>\n",
       "<style scoped>\n",
       "    .dataframe tbody tr th:only-of-type {\n",
       "        vertical-align: middle;\n",
       "    }\n",
       "\n",
       "    .dataframe tbody tr th {\n",
       "        vertical-align: top;\n",
       "    }\n",
       "\n",
       "    .dataframe thead th {\n",
       "        text-align: right;\n",
       "    }\n",
       "</style>\n",
       "<table border=\"1\" class=\"dataframe\">\n",
       "  <thead>\n",
       "    <tr style=\"text-align: right;\">\n",
       "      <th></th>\n",
       "      <th>index</th>\n",
       "      <th>0</th>\n",
       "    </tr>\n",
       "  </thead>\n",
       "  <tbody>\n",
       "    <tr>\n",
       "      <th>0</th>\n",
       "      <td>0</td>\n",
       "      <td>1972.101318</td>\n",
       "    </tr>\n",
       "    <tr>\n",
       "      <th>1</th>\n",
       "      <td>1</td>\n",
       "      <td>1756.432861</td>\n",
       "    </tr>\n",
       "    <tr>\n",
       "      <th>2</th>\n",
       "      <td>2</td>\n",
       "      <td>1608.161865</td>\n",
       "    </tr>\n",
       "    <tr>\n",
       "      <th>3</th>\n",
       "      <td>3</td>\n",
       "      <td>1694.288208</td>\n",
       "    </tr>\n",
       "    <tr>\n",
       "      <th>4</th>\n",
       "      <td>4</td>\n",
       "      <td>1804.988403</td>\n",
       "    </tr>\n",
       "    <tr>\n",
       "      <th>...</th>\n",
       "      <td>...</td>\n",
       "      <td>...</td>\n",
       "    </tr>\n",
       "    <tr>\n",
       "      <th>61315</th>\n",
       "      <td>61315</td>\n",
       "      <td>649.565613</td>\n",
       "    </tr>\n",
       "    <tr>\n",
       "      <th>61316</th>\n",
       "      <td>61316</td>\n",
       "      <td>657.562561</td>\n",
       "    </tr>\n",
       "    <tr>\n",
       "      <th>61317</th>\n",
       "      <td>61317</td>\n",
       "      <td>634.136536</td>\n",
       "    </tr>\n",
       "    <tr>\n",
       "      <th>61318</th>\n",
       "      <td>61318</td>\n",
       "      <td>610.956726</td>\n",
       "    </tr>\n",
       "    <tr>\n",
       "      <th>61319</th>\n",
       "      <td>61319</td>\n",
       "      <td>572.249573</td>\n",
       "    </tr>\n",
       "  </tbody>\n",
       "</table>\n",
       "<p>61320 rows × 2 columns</p>\n",
       "</div>"
      ],
      "text/plain": [
       "       index            0\n",
       "0          0  1972.101318\n",
       "1          1  1756.432861\n",
       "2          2  1608.161865\n",
       "3          3  1694.288208\n",
       "4          4  1804.988403\n",
       "...      ...          ...\n",
       "61315  61315   649.565613\n",
       "61316  61316   657.562561\n",
       "61317  61317   634.136536\n",
       "61318  61318   610.956726\n",
       "61319  61319   572.249573\n",
       "\n",
       "[61320 rows x 2 columns]"
      ]
     },
     "execution_count": 63,
     "metadata": {},
     "output_type": "execute_result"
    }
   ],
   "source": [
    "pred_y"
   ]
  },
  {
   "cell_type": "code",
   "execution_count": 64,
   "id": "8fc0ec39",
   "metadata": {},
   "outputs": [
    {
     "data": {
      "text/html": [
       "<div>\n",
       "<style scoped>\n",
       "    .dataframe tbody tr th:only-of-type {\n",
       "        vertical-align: middle;\n",
       "    }\n",
       "\n",
       "    .dataframe tbody tr th {\n",
       "        vertical-align: top;\n",
       "    }\n",
       "\n",
       "    .dataframe thead th {\n",
       "        text-align: right;\n",
       "    }\n",
       "</style>\n",
       "<table border=\"1\" class=\"dataframe\">\n",
       "  <thead>\n",
       "    <tr style=\"text-align: right;\">\n",
       "      <th></th>\n",
       "      <th>y</th>\n",
       "    </tr>\n",
       "  </thead>\n",
       "  <tbody>\n",
       "    <tr>\n",
       "      <th>0</th>\n",
       "      <td>1765.008</td>\n",
       "    </tr>\n",
       "    <tr>\n",
       "      <th>1</th>\n",
       "      <td>1679.186</td>\n",
       "    </tr>\n",
       "    <tr>\n",
       "      <th>2</th>\n",
       "      <td>1610.885</td>\n",
       "    </tr>\n",
       "    <tr>\n",
       "      <th>3</th>\n",
       "      <td>1604.123</td>\n",
       "    </tr>\n",
       "    <tr>\n",
       "      <th>4</th>\n",
       "      <td>1711.506</td>\n",
       "    </tr>\n",
       "    <tr>\n",
       "      <th>...</th>\n",
       "      <td>...</td>\n",
       "    </tr>\n",
       "    <tr>\n",
       "      <th>61315</th>\n",
       "      <td>681.033</td>\n",
       "    </tr>\n",
       "    <tr>\n",
       "      <th>61316</th>\n",
       "      <td>669.961</td>\n",
       "    </tr>\n",
       "    <tr>\n",
       "      <th>61317</th>\n",
       "      <td>657.941</td>\n",
       "    </tr>\n",
       "    <tr>\n",
       "      <th>61318</th>\n",
       "      <td>610.953</td>\n",
       "    </tr>\n",
       "    <tr>\n",
       "      <th>61319</th>\n",
       "      <td>560.896</td>\n",
       "    </tr>\n",
       "  </tbody>\n",
       "</table>\n",
       "<p>61320 rows × 1 columns</p>\n",
       "</div>"
      ],
      "text/plain": [
       "              y\n",
       "0      1765.008\n",
       "1      1679.186\n",
       "2      1610.885\n",
       "3      1604.123\n",
       "4      1711.506\n",
       "...         ...\n",
       "61315   681.033\n",
       "61316   669.961\n",
       "61317   657.941\n",
       "61318   610.953\n",
       "61319   560.896\n",
       "\n",
       "[61320 rows x 1 columns]"
      ]
     },
     "execution_count": 64,
     "metadata": {},
     "output_type": "execute_result"
    }
   ],
   "source": [
    "true_y"
   ]
  },
  {
   "cell_type": "code",
   "execution_count": 65,
   "id": "c00b2630",
   "metadata": {},
   "outputs": [],
   "source": [
    "submission = pd.read_csv('../CSV/가스공급량 수요예측 모델개발 data/sample_submission.csv')"
   ]
  },
  {
   "cell_type": "code",
   "execution_count": 66,
   "id": "88fb8bb1",
   "metadata": {},
   "outputs": [],
   "source": [
    "test_x = test[features]\n",
    "preds = model.predict(test_x)\n",
    "submission['공급량'] = preds\n",
    "submission.to_csv(\"../CSV/Submission/12_4_features_DeepLearning_model.csv\", index = False)"
   ]
  },
  {
   "cell_type": "code",
   "execution_count": null,
   "id": "cbffa94f",
   "metadata": {},
   "outputs": [],
   "source": []
  }
 ],
 "metadata": {
  "kernelspec": {
   "display_name": "Python 3 (ipykernel)",
   "language": "python",
   "name": "python3"
  },
  "language_info": {
   "codemirror_mode": {
    "name": "ipython",
    "version": 3
   },
   "file_extension": ".py",
   "mimetype": "text/x-python",
   "name": "python",
   "nbconvert_exporter": "python",
   "pygments_lexer": "ipython3",
   "version": "3.8.8"
  }
 },
 "nbformat": 4,
 "nbformat_minor": 5
}
