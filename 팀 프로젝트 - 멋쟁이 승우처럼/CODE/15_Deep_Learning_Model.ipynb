{
 "cells": [
  {
   "cell_type": "code",
   "execution_count": 80,
   "id": "3a223ad7",
   "metadata": {},
   "outputs": [],
   "source": [
    "import pandas as pd\n",
    "import numpy as np\n",
    "import matplotlib.pyplot as plt\n",
    "\n",
    "from sklearn.metrics import mean_squared_error\n",
    "\n",
    "from sklearn.model_selection import cross_val_score\n",
    "from sklearn.model_selection import KFold\n",
    "from sklearn.model_selection import GridSearchCV\n",
    "\n",
    "import tensorflow as tf\n",
    "from tensorflow.keras.models import Sequential\n",
    "from tensorflow.keras.layers import Dense, Activation\n",
    "from tensorflow.keras.callbacks import EarlyStopping"
   ]
  },
  {
   "cell_type": "code",
   "execution_count": 81,
   "id": "f5e394fe",
   "metadata": {},
   "outputs": [
    {
     "name": "stdout",
     "output_type": "stream",
     "text": [
      "total shape : (368088, 12), test shape : (15120, 12)\n"
     ]
    }
   ],
   "source": [
    "total = pd.read_csv(\"../CSV/train_data.csv\")\n",
    "test = pd.read_csv(\"../CSV/pred_test.csv\")\n",
    "\n",
    "print(\"total shape : {}, test shape : {}\".format(total.shape, test.shape))"
   ]
  },
  {
   "cell_type": "code",
   "execution_count": 82,
   "id": "9b9948f8",
   "metadata": {},
   "outputs": [],
   "source": [
    "def nmae(true_df, pred_df):\n",
    "    target_idx = true_df.iloc[:,0]\n",
    "    pred_df = pred_df[pred_df.iloc[:,0].isin(target_idx)]\n",
    "    pred_df = pred_df.sort_values(by=[pred_df.columns[0]], ascending=[True])\n",
    "    true_df = true_df.sort_values(by=[true_df.columns[0]], ascending=[True])\n",
    "    \n",
    "    true = true_df.iloc[:,1].to_numpy()\n",
    "    pred = pred_df.iloc[:,1].to_numpy()\n",
    "    \n",
    "    score = np.mean((np.abs(true-pred))/true)\n",
    "    \n",
    "    return score"
   ]
  },
  {
   "cell_type": "code",
   "execution_count": 83,
   "id": "17e1a829",
   "metadata": {},
   "outputs": [],
   "source": [
    "train_years = [2013,2014,2015,2016,2017]\n",
    "val_years = [2018]\n",
    "\n",
    "train = total[total['year'].isin(train_years)]\n",
    "val = total[total['year'].isin(val_years)]\n",
    "\n",
    "# \"year\", \"month\", \"day\", \"hour\", \"weekday\", \"구분_int\", \"기온(°C)\"\n",
    "features = [\"month\", \"hour\", \"구분_int\", \"기온(°C)\"]\n",
    "# features = [\"year\", \"month\", \"day\", \"hour\", \"weekday\", \"구분_int\", \"기온(°C)\"]\n",
    "train_x = train[features]\n",
    "train_y = train['공급량']\n",
    "\n",
    "val_x = val[features]\n",
    "val_y = val['공급량']\n",
    "\n",
    "X = total[features]\n",
    "y = total[\"공급량\"]"
   ]
  },
  {
   "cell_type": "code",
   "execution_count": 84,
   "id": "2b0d1346",
   "metadata": {},
   "outputs": [
    {
     "name": "stdout",
     "output_type": "stream",
     "text": [
      "(306768, 4) (306768,)\n",
      "(61320, 4) (61320,)\n",
      "(15120, 12)\n"
     ]
    }
   ],
   "source": [
    "print(train_x.shape, train_y.shape)\n",
    "print(val_x.shape, val_y.shape)\n",
    "print(test.shape)"
   ]
  },
  {
   "cell_type": "code",
   "execution_count": 85,
   "id": "3277b751",
   "metadata": {},
   "outputs": [
    {
     "name": "stdout",
     "output_type": "stream",
     "text": [
      "Model: \"sequential_7\"\n",
      "_________________________________________________________________\n",
      " Layer (type)                Output Shape              Param #   \n",
      "=================================================================\n",
      " dense_37 (Dense)            (None, 32)                160       \n",
      "                                                                 \n",
      " dense_38 (Dense)            (None, 32)                1056      \n",
      "                                                                 \n",
      " dense_39 (Dense)            (None, 1)                 33        \n",
      "                                                                 \n",
      "=================================================================\n",
      "Total params: 1,249\n",
      "Trainable params: 1,249\n",
      "Non-trainable params: 0\n",
      "_________________________________________________________________\n"
     ]
    }
   ],
   "source": [
    "model = Sequential()\n",
    "model.add(Dense(units = 32, input_dim = 4, activation = \"relu\"))\n",
    "model.add(Dense(32, activation = \"relu\"))\n",
    "# model.add(Dense(64, activation = \"relu\"))\n",
    "# model.add(Dense(32, activation = \"relu\"))\n",
    "# model.add(Dense(16, activation = \"relu\"))\n",
    "model.add(Dense(1))\n",
    "\n",
    "model.summary()"
   ]
  },
  {
   "cell_type": "code",
   "execution_count": null,
   "id": "5cfc0693",
   "metadata": {
    "scrolled": true
   },
   "outputs": [
    {
     "name": "stdout",
     "output_type": "stream",
     "text": [
      "Epoch 1/100\n",
      "30677/30677 [==============================] - 20s 632us/step - loss: 570056.1875 - accuracy: 0.0000e+00 - val_loss: 651662.0000 - val_accuracy: 0.0000e+00\n",
      "Epoch 2/100\n",
      "30677/30677 [==============================] - 19s 623us/step - loss: 499037.0625 - accuracy: 0.0000e+00 - val_loss: 576542.2500 - val_accuracy: 0.0000e+00\n",
      "Epoch 3/100\n",
      "30677/30677 [==============================] - 20s 644us/step - loss: 308996.4062 - accuracy: 0.0000e+00 - val_loss: 181334.3906 - val_accuracy: 0.0000e+00\n",
      "Epoch 4/100\n",
      "30677/30677 [==============================] - 21s 673us/step - loss: 89371.0000 - accuracy: 0.0000e+00 - val_loss: 99767.9453 - val_accuracy: 0.0000e+00\n",
      "Epoch 5/100\n",
      "30677/30677 [==============================] - 21s 686us/step - loss: 57597.3633 - accuracy: 0.0000e+00 - val_loss: 74958.4297 - val_accuracy: 0.0000e+00\n",
      "Epoch 6/100\n",
      "30677/30677 [==============================] - 24s 783us/step - loss: 43489.3320 - accuracy: 0.0000e+00 - val_loss: 49302.2500 - val_accuracy: 0.0000e+00\n",
      "Epoch 7/100\n",
      "30677/30677 [==============================] - 24s 789us/step - loss: 38799.5000 - accuracy: 0.0000e+00 - val_loss: 57571.5000 - val_accuracy: 0.0000e+00\n",
      "Epoch 8/100\n",
      "30677/30677 [==============================] - 22s 713us/step - loss: 35729.9180 - accuracy: 0.0000e+00 - val_loss: 43554.3711 - val_accuracy: 0.0000e+00\n",
      "Epoch 9/100\n",
      "30677/30677 [==============================] - 26s 846us/step - loss: 34307.4727 - accuracy: 0.0000e+00 - val_loss: 48152.2891 - val_accuracy: 0.0000e+00\n",
      "Epoch 10/100\n",
      "30677/30677 [==============================] - 22s 727us/step - loss: 33423.1797 - accuracy: 0.0000e+00 - val_loss: 52629.5039 - val_accuracy: 0.0000e+00\n",
      "Epoch 11/100\n",
      "30677/30677 [==============================] - 22s 721us/step - loss: 32787.3867 - accuracy: 0.0000e+00 - val_loss: 38818.0234 - val_accuracy: 0.0000e+00\n",
      "Epoch 12/100\n",
      "30677/30677 [==============================] - 25s 825us/step - loss: 32468.9824 - accuracy: 0.0000e+00 - val_loss: 49759.9766 - val_accuracy: 0.0000e+00\n",
      "Epoch 13/100\n",
      "30677/30677 [==============================] - 23s 747us/step - loss: 32140.9219 - accuracy: 0.0000e+00 - val_loss: 40390.3984 - val_accuracy: 0.0000e+00\n",
      "Epoch 14/100\n",
      "30677/30677 [==============================] - 26s 862us/step - loss: 31957.1270 - accuracy: 0.0000e+00 - val_loss: 41856.3789 - val_accuracy: 0.0000e+00\n",
      "Epoch 15/100\n",
      "30677/30677 [==============================] - 27s 866us/step - loss: 31661.1504 - accuracy: 0.0000e+00 - val_loss: 36808.2109 - val_accuracy: 0.0000e+00\n",
      "Epoch 16/100\n",
      "30677/30677 [==============================] - 29s 941us/step - loss: 31484.4785 - accuracy: 0.0000e+00 - val_loss: 49003.1250 - val_accuracy: 0.0000e+00\n",
      "Epoch 17/100\n",
      "30677/30677 [==============================] - 28s 922us/step - loss: 31278.4512 - accuracy: 0.0000e+00 - val_loss: 41405.2305 - val_accuracy: 0.0000e+00\n",
      "Epoch 18/100\n",
      "30677/30677 [==============================] - 29s 941us/step - loss: 30958.0508 - accuracy: 0.0000e+00 - val_loss: 43292.4023 - val_accuracy: 0.0000e+00\n",
      "Epoch 19/100\n",
      "30677/30677 [==============================] - 32s 1ms/step - loss: 30723.8457 - accuracy: 0.0000e+00 - val_loss: 35126.6641 - val_accuracy: 0.0000e+00\n",
      "Epoch 20/100\n",
      "30677/30677 [==============================] - 30s 992us/step - loss: 30607.5918 - accuracy: 0.0000e+00 - val_loss: 56782.3555 - val_accuracy: 0.0000e+00\n",
      "Epoch 21/100\n",
      "30677/30677 [==============================] - 35s 1ms/step - loss: 30293.0488 - accuracy: 0.0000e+00 - val_loss: 40460.9688 - val_accuracy: 0.0000e+00\n",
      "Epoch 22/100\n",
      "30677/30677 [==============================] - 40s 1ms/step - loss: 29336.2539 - accuracy: 0.0000e+00 - val_loss: 52400.4609 - val_accuracy: 0.0000e+00\n",
      "Epoch 23/100\n",
      "30677/30677 [==============================] - 38s 1ms/step - loss: 28812.2480 - accuracy: 0.0000e+00 - val_loss: 39605.6992 - val_accuracy: 0.0000e+00\n",
      "Epoch 24/100\n",
      "30677/30677 [==============================] - 45s 1ms/step - loss: 28401.8633 - accuracy: 0.0000e+00 - val_loss: 45439.5625 - val_accuracy: 0.0000e+00\n",
      "Epoch 25/100\n",
      "30677/30677 [==============================] - 46s 1ms/step - loss: 28208.2344 - accuracy: 0.0000e+00 - val_loss: 38723.8125 - val_accuracy: 0.0000e+00\n",
      "Epoch 26/100\n",
      "30677/30677 [==============================] - 45s 1ms/step - loss: 28000.7402 - accuracy: 0.0000e+00 - val_loss: 46985.2148 - val_accuracy: 0.0000e+00\n",
      "Epoch 27/100\n",
      "30677/30677 [==============================] - 46s 1ms/step - loss: 27896.3750 - accuracy: 0.0000e+00 - val_loss: 52098.5000 - val_accuracy: 0.0000e+00\n",
      "Epoch 28/100\n",
      "30677/30677 [==============================] - 46s 1ms/step - loss: 27696.9805 - accuracy: 0.0000e+00 - val_loss: 47049.6719 - val_accuracy: 0.0000e+00\n",
      "Epoch 29/100\n",
      "30677/30677 [==============================] - 46s 1ms/step - loss: 27461.7754 - accuracy: 0.0000e+00 - val_loss: 35485.6133 - val_accuracy: 0.0000e+00\n",
      "Epoch 30/100\n",
      "30677/30677 [==============================] - 46s 1ms/step - loss: 27245.4609 - accuracy: 0.0000e+00 - val_loss: 47647.5586 - val_accuracy: 0.0000e+00\n",
      "Epoch 31/100\n",
      "30677/30677 [==============================] - 46s 2ms/step - loss: 27058.9746 - accuracy: 0.0000e+00 - val_loss: 36835.5234 - val_accuracy: 0.0000e+00\n",
      "Epoch 32/100\n",
      "30677/30677 [==============================] - 46s 1ms/step - loss: 26960.5762 - accuracy: 0.0000e+00 - val_loss: 50041.8906 - val_accuracy: 0.0000e+00\n",
      "Epoch 33/100\n",
      "30677/30677 [==============================] - 46s 1ms/step - loss: 26847.4453 - accuracy: 0.0000e+00 - val_loss: 38385.6914 - val_accuracy: 0.0000e+00\n",
      "Epoch 34/100\n",
      "30677/30677 [==============================] - 46s 1ms/step - loss: 26703.0137 - accuracy: 0.0000e+00 - val_loss: 42628.8320 - val_accuracy: 0.0000e+00\n",
      "Epoch 35/100\n",
      "30677/30677 [==============================] - 46s 2ms/step - loss: 26568.3867 - accuracy: 0.0000e+00 - val_loss: 37493.2148 - val_accuracy: 0.0000e+00\n",
      "Epoch 36/100\n",
      "30677/30677 [==============================] - 46s 2ms/step - loss: 26399.5273 - accuracy: 0.0000e+00 - val_loss: 32635.1855 - val_accuracy: 0.0000e+00\n",
      "Epoch 37/100\n",
      "30677/30677 [==============================] - 46s 2ms/step - loss: 26314.4961 - accuracy: 0.0000e+00 - val_loss: 32812.8594 - val_accuracy: 0.0000e+00\n",
      "Epoch 38/100\n",
      "30677/30677 [==============================] - 46s 1ms/step - loss: 26186.5156 - accuracy: 0.0000e+00 - val_loss: 30100.0254 - val_accuracy: 0.0000e+00\n",
      "Epoch 39/100\n",
      "30677/30677 [==============================] - 50s 2ms/step - loss: 26092.5859 - accuracy: 0.0000e+00 - val_loss: 36010.6641 - val_accuracy: 0.0000e+00\n",
      "Epoch 40/100\n",
      "30677/30677 [==============================] - 49328s 2s/step - loss: 25977.6738 - accuracy: 0.0000e+00 - val_loss: 39448.2617 - val_accuracy: 0.0000e+00\n",
      "Epoch 41/100\n",
      "30677/30677 [==============================] - 963s 31ms/step - loss: 25920.3672 - accuracy: 0.0000e+00 - val_loss: 46706.1484 - val_accuracy: 0.0000e+00\n",
      "Epoch 42/100\n",
      "30677/30677 [==============================] - 108s 4ms/step - loss: 25781.3848 - accuracy: 0.0000e+00 - val_loss: 30906.6973 - val_accuracy: 0.0000e+00\n",
      "Epoch 43/100\n",
      "30677/30677 [==============================] - 111s 4ms/step - loss: 25698.2148 - accuracy: 0.0000e+00 - val_loss: 38621.6250 - val_accuracy: 0.0000e+00\n",
      "Epoch 44/100\n",
      "30677/30677 [==============================] - 108s 4ms/step - loss: 25575.8906 - accuracy: 0.0000e+00 - val_loss: 32774.4297 - val_accuracy: 0.0000e+00\n",
      "Epoch 45/100\n",
      "30677/30677 [==============================] - 107s 4ms/step - loss: 25514.6719 - accuracy: 0.0000e+00 - val_loss: 31916.9688 - val_accuracy: 0.0000e+00\n",
      "Epoch 46/100\n",
      "30677/30677 [==============================] - 101s 3ms/step - loss: 25436.9648 - accuracy: 0.0000e+00 - val_loss: 36276.6680 - val_accuracy: 0.0000e+00\n",
      "Epoch 47/100\n",
      "30677/30677 [==============================] - 102s 3ms/step - loss: 25392.3555 - accuracy: 0.0000e+00 - val_loss: 38050.5898 - val_accuracy: 0.0000e+00\n",
      "Epoch 48/100\n",
      "25983/30677 [========================>.....] - ETA: 13s - loss: 25498.2188 - accuracy: 0.0000e+00"
     ]
    }
   ],
   "source": [
    "model.compile(loss = \"mean_squared_error\", \n",
    "              optimizer = \"rmsprop\", \n",
    "              metrics = [\"accuracy\"])\n",
    "\n",
    "early_stopping = EarlyStopping(patience = 30)\n",
    "\n",
    "hist = model.fit(train_x, train_y, \n",
    "                 epochs = 100, \n",
    "                 batch_size = 10, \n",
    "                 validation_data = (val_x, val_y), \n",
    "                 callbacks = [early_stopping])"
   ]
  },
  {
   "cell_type": "code",
   "execution_count": 74,
   "id": "ec234313",
   "metadata": {},
   "outputs": [
    {
     "name": "stdout",
     "output_type": "stream",
     "text": [
      "1917/1917 [==============================] - 1s 523us/step - loss: 34718.5352 - accuracy: 0.0000e+00\n"
     ]
    },
    {
     "data": {
      "text/plain": [
       "[34718.53515625, 0.0]"
      ]
     },
     "execution_count": 74,
     "metadata": {},
     "output_type": "execute_result"
    }
   ],
   "source": [
    "model.evaluate(val_x, val_y)"
   ]
  },
  {
   "cell_type": "code",
   "execution_count": 75,
   "id": "2ede6e4b",
   "metadata": {},
   "outputs": [
    {
     "name": "stdout",
     "output_type": "stream",
     "text": [
      "NMAE : 0.534333\n"
     ]
    }
   ],
   "source": [
    "pred = model.predict(val_x)\n",
    "\n",
    "true_y = pd.DataFrame({\"y\" : val_y})\n",
    "pred_y = pd.DataFrame(pred)\n",
    "\n",
    "true_y.reset_index(drop = True, inplace = True)\n",
    "true_y.reset_index(inplace = True)\n",
    "pred_y.reset_index(inplace = True)\n",
    "\n",
    "print(\"NMAE : {:.6f}\".format(nmae(true_y, pred_y)))"
   ]
  },
  {
   "cell_type": "code",
   "execution_count": 76,
   "id": "daca4748",
   "metadata": {},
   "outputs": [
    {
     "data": {
      "text/html": [
       "<div>\n",
       "<style scoped>\n",
       "    .dataframe tbody tr th:only-of-type {\n",
       "        vertical-align: middle;\n",
       "    }\n",
       "\n",
       "    .dataframe tbody tr th {\n",
       "        vertical-align: top;\n",
       "    }\n",
       "\n",
       "    .dataframe thead th {\n",
       "        text-align: right;\n",
       "    }\n",
       "</style>\n",
       "<table border=\"1\" class=\"dataframe\">\n",
       "  <thead>\n",
       "    <tr style=\"text-align: right;\">\n",
       "      <th></th>\n",
       "      <th>index</th>\n",
       "      <th>0</th>\n",
       "    </tr>\n",
       "  </thead>\n",
       "  <tbody>\n",
       "    <tr>\n",
       "      <th>0</th>\n",
       "      <td>0</td>\n",
       "      <td>2064.705322</td>\n",
       "    </tr>\n",
       "    <tr>\n",
       "      <th>1</th>\n",
       "      <td>1</td>\n",
       "      <td>1770.634521</td>\n",
       "    </tr>\n",
       "    <tr>\n",
       "      <th>2</th>\n",
       "      <td>2</td>\n",
       "      <td>1637.093262</td>\n",
       "    </tr>\n",
       "    <tr>\n",
       "      <th>3</th>\n",
       "      <td>3</td>\n",
       "      <td>1706.222168</td>\n",
       "    </tr>\n",
       "    <tr>\n",
       "      <th>4</th>\n",
       "      <td>4</td>\n",
       "      <td>1847.824219</td>\n",
       "    </tr>\n",
       "    <tr>\n",
       "      <th>...</th>\n",
       "      <td>...</td>\n",
       "      <td>...</td>\n",
       "    </tr>\n",
       "    <tr>\n",
       "      <th>61315</th>\n",
       "      <td>61315</td>\n",
       "      <td>635.831787</td>\n",
       "    </tr>\n",
       "    <tr>\n",
       "      <th>61316</th>\n",
       "      <td>61316</td>\n",
       "      <td>624.263184</td>\n",
       "    </tr>\n",
       "    <tr>\n",
       "      <th>61317</th>\n",
       "      <td>61317</td>\n",
       "      <td>616.861450</td>\n",
       "    </tr>\n",
       "    <tr>\n",
       "      <th>61318</th>\n",
       "      <td>61318</td>\n",
       "      <td>584.593628</td>\n",
       "    </tr>\n",
       "    <tr>\n",
       "      <th>61319</th>\n",
       "      <td>61319</td>\n",
       "      <td>543.034790</td>\n",
       "    </tr>\n",
       "  </tbody>\n",
       "</table>\n",
       "<p>61320 rows × 2 columns</p>\n",
       "</div>"
      ],
      "text/plain": [
       "       index            0\n",
       "0          0  2064.705322\n",
       "1          1  1770.634521\n",
       "2          2  1637.093262\n",
       "3          3  1706.222168\n",
       "4          4  1847.824219\n",
       "...      ...          ...\n",
       "61315  61315   635.831787\n",
       "61316  61316   624.263184\n",
       "61317  61317   616.861450\n",
       "61318  61318   584.593628\n",
       "61319  61319   543.034790\n",
       "\n",
       "[61320 rows x 2 columns]"
      ]
     },
     "execution_count": 76,
     "metadata": {},
     "output_type": "execute_result"
    }
   ],
   "source": [
    "pred_y"
   ]
  },
  {
   "cell_type": "code",
   "execution_count": 77,
   "id": "8fc0ec39",
   "metadata": {},
   "outputs": [
    {
     "data": {
      "text/html": [
       "<div>\n",
       "<style scoped>\n",
       "    .dataframe tbody tr th:only-of-type {\n",
       "        vertical-align: middle;\n",
       "    }\n",
       "\n",
       "    .dataframe tbody tr th {\n",
       "        vertical-align: top;\n",
       "    }\n",
       "\n",
       "    .dataframe thead th {\n",
       "        text-align: right;\n",
       "    }\n",
       "</style>\n",
       "<table border=\"1\" class=\"dataframe\">\n",
       "  <thead>\n",
       "    <tr style=\"text-align: right;\">\n",
       "      <th></th>\n",
       "      <th>index</th>\n",
       "      <th>y</th>\n",
       "    </tr>\n",
       "  </thead>\n",
       "  <tbody>\n",
       "    <tr>\n",
       "      <th>0</th>\n",
       "      <td>0</td>\n",
       "      <td>1765.008</td>\n",
       "    </tr>\n",
       "    <tr>\n",
       "      <th>1</th>\n",
       "      <td>1</td>\n",
       "      <td>1679.186</td>\n",
       "    </tr>\n",
       "    <tr>\n",
       "      <th>2</th>\n",
       "      <td>2</td>\n",
       "      <td>1610.885</td>\n",
       "    </tr>\n",
       "    <tr>\n",
       "      <th>3</th>\n",
       "      <td>3</td>\n",
       "      <td>1604.123</td>\n",
       "    </tr>\n",
       "    <tr>\n",
       "      <th>4</th>\n",
       "      <td>4</td>\n",
       "      <td>1711.506</td>\n",
       "    </tr>\n",
       "    <tr>\n",
       "      <th>...</th>\n",
       "      <td>...</td>\n",
       "      <td>...</td>\n",
       "    </tr>\n",
       "    <tr>\n",
       "      <th>61315</th>\n",
       "      <td>61315</td>\n",
       "      <td>681.033</td>\n",
       "    </tr>\n",
       "    <tr>\n",
       "      <th>61316</th>\n",
       "      <td>61316</td>\n",
       "      <td>669.961</td>\n",
       "    </tr>\n",
       "    <tr>\n",
       "      <th>61317</th>\n",
       "      <td>61317</td>\n",
       "      <td>657.941</td>\n",
       "    </tr>\n",
       "    <tr>\n",
       "      <th>61318</th>\n",
       "      <td>61318</td>\n",
       "      <td>610.953</td>\n",
       "    </tr>\n",
       "    <tr>\n",
       "      <th>61319</th>\n",
       "      <td>61319</td>\n",
       "      <td>560.896</td>\n",
       "    </tr>\n",
       "  </tbody>\n",
       "</table>\n",
       "<p>61320 rows × 2 columns</p>\n",
       "</div>"
      ],
      "text/plain": [
       "       index         y\n",
       "0          0  1765.008\n",
       "1          1  1679.186\n",
       "2          2  1610.885\n",
       "3          3  1604.123\n",
       "4          4  1711.506\n",
       "...      ...       ...\n",
       "61315  61315   681.033\n",
       "61316  61316   669.961\n",
       "61317  61317   657.941\n",
       "61318  61318   610.953\n",
       "61319  61319   560.896\n",
       "\n",
       "[61320 rows x 2 columns]"
      ]
     },
     "execution_count": 77,
     "metadata": {},
     "output_type": "execute_result"
    }
   ],
   "source": [
    "true_y"
   ]
  },
  {
   "cell_type": "code",
   "execution_count": 78,
   "id": "c00b2630",
   "metadata": {},
   "outputs": [],
   "source": [
    "submission = pd.read_csv('../CSV/가스공급량 수요예측 모델개발 data/sample_submission.csv')"
   ]
  },
  {
   "cell_type": "code",
   "execution_count": 79,
   "id": "88fb8bb1",
   "metadata": {},
   "outputs": [],
   "source": [
    "test_x = test[features]\n",
    "preds = model.predict(test_x)\n",
    "submission['공급량'] = preds\n",
    "submission.to_csv(\"../CSV/Submission/23_4_features_DeepLearning_model.csv\", index = False)"
   ]
  },
  {
   "cell_type": "code",
   "execution_count": null,
   "id": "cbffa94f",
   "metadata": {},
   "outputs": [],
   "source": []
  }
 ],
 "metadata": {
  "kernelspec": {
   "display_name": "Python 3 (ipykernel)",
   "language": "python",
   "name": "python3"
  },
  "language_info": {
   "codemirror_mode": {
    "name": "ipython",
    "version": 3
   },
   "file_extension": ".py",
   "mimetype": "text/x-python",
   "name": "python",
   "nbconvert_exporter": "python",
   "pygments_lexer": "ipython3",
   "version": "3.8.8"
  }
 },
 "nbformat": 4,
 "nbformat_minor": 5
}
