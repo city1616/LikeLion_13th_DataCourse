{
 "cells": [
  {
   "cell_type": "code",
   "execution_count": 59,
   "id": "3a223ad7",
   "metadata": {},
   "outputs": [],
   "source": [
    "import pandas as pd\n",
    "import numpy as np\n",
    "import matplotlib.pyplot as plt\n",
    "\n",
    "from sklearn.metrics import mean_squared_error\n",
    "\n",
    "from sklearn.model_selection import cross_val_score\n",
    "from sklearn.model_selection import KFold\n",
    "from sklearn.model_selection import GridSearchCV\n",
    "\n",
    "import tensorflow as tf\n",
    "from tensorflow.keras.models import Sequential\n",
    "from tensorflow.keras.layers import Dense, Activation\n",
    "from tensorflow.keras.callbacks import EarlyStopping"
   ]
  },
  {
   "cell_type": "code",
   "execution_count": 60,
   "id": "f5e394fe",
   "metadata": {},
   "outputs": [
    {
     "name": "stdout",
     "output_type": "stream",
     "text": [
      "total shape : (368088, 12), test shape : (15120, 12)\n"
     ]
    }
   ],
   "source": [
    "total = pd.read_csv(\"../CSV/train_data.csv\")\n",
    "test = pd.read_csv(\"../CSV/pred_test.csv\")\n",
    "\n",
    "print(\"total shape : {}, test shape : {}\".format(total.shape, test.shape))"
   ]
  },
  {
   "cell_type": "code",
   "execution_count": 61,
   "id": "9b9948f8",
   "metadata": {},
   "outputs": [],
   "source": [
    "def nmae(true_df, pred_df):\n",
    "    target_idx = true_df.iloc[:,0]\n",
    "    pred_df = pred_df[pred_df.iloc[:,0].isin(target_idx)]\n",
    "    pred_df = pred_df.sort_values(by=[pred_df.columns[0]], ascending=[True])\n",
    "    true_df = true_df.sort_values(by=[true_df.columns[0]], ascending=[True])\n",
    "    \n",
    "    true = true_df.iloc[:,1].to_numpy()\n",
    "    pred = pred_df.iloc[:,1].to_numpy()\n",
    "    \n",
    "    score = np.mean((np.abs(true-pred))/true)\n",
    "    \n",
    "    return score"
   ]
  },
  {
   "cell_type": "code",
   "execution_count": 62,
   "id": "17e1a829",
   "metadata": {},
   "outputs": [],
   "source": [
    "train_years = [2013,2014,2015,2016,2017]\n",
    "val_years = [2018]\n",
    "\n",
    "train = total[total['year'].isin(train_years)]\n",
    "val = total[total['year'].isin(val_years)]\n",
    "\n",
    "# \"year\", \"month\", \"day\", \"hour\", \"weekday\", \"구분_int\", \"기온(°C)\"\n",
    "features = [\"month\", \"hour\", \"구분_int\", \"기온(°C)\"]\n",
    "# features = [\"year\", \"month\", \"day\", \"hour\", \"weekday\", \"구분_int\", \"기온(°C)\"]\n",
    "train_x = train[features]\n",
    "train_y = train['공급량']\n",
    "\n",
    "val_x = val[features]\n",
    "val_y = val['공급량']\n",
    "\n",
    "X = total[features]\n",
    "y = total[\"공급량\"]"
   ]
  },
  {
   "cell_type": "code",
   "execution_count": 63,
   "id": "2b0d1346",
   "metadata": {},
   "outputs": [
    {
     "name": "stdout",
     "output_type": "stream",
     "text": [
      "(306768, 4) (306768,)\n",
      "(61320, 4) (61320,)\n",
      "(15120, 12)\n"
     ]
    }
   ],
   "source": [
    "print(train_x.shape, train_y.shape)\n",
    "print(val_x.shape, val_y.shape)\n",
    "print(test.shape)"
   ]
  },
  {
   "cell_type": "code",
   "execution_count": 64,
   "id": "3277b751",
   "metadata": {},
   "outputs": [
    {
     "name": "stdout",
     "output_type": "stream",
     "text": [
      "Model: \"sequential_5\"\n",
      "_________________________________________________________________\n",
      " Layer (type)                Output Shape              Param #   \n",
      "=================================================================\n",
      " dense_30 (Dense)            (None, 16)                80        \n",
      "                                                                 \n",
      " dense_31 (Dense)            (None, 32)                544       \n",
      "                                                                 \n",
      " dense_32 (Dense)            (None, 64)                2112      \n",
      "                                                                 \n",
      " dense_33 (Dense)            (None, 32)                2080      \n",
      "                                                                 \n",
      " dense_34 (Dense)            (None, 16)                528       \n",
      "                                                                 \n",
      " dense_35 (Dense)            (None, 1)                 17        \n",
      "                                                                 \n",
      "=================================================================\n",
      "Total params: 5,361\n",
      "Trainable params: 5,361\n",
      "Non-trainable params: 0\n",
      "_________________________________________________________________\n"
     ]
    }
   ],
   "source": [
    "model = Sequential()\n",
    "model.add(Dense(units = 16, input_dim = 4, activation = \"relu\"))\n",
    "model.add(Dense(32, activation = \"relu\"))\n",
    "model.add(Dense(64, activation = \"relu\"))\n",
    "model.add(Dense(32, activation = \"relu\"))\n",
    "model.add(Dense(16, activation = \"relu\"))\n",
    "model.add(Dense(1))\n",
    "\n",
    "model.summary()"
   ]
  },
  {
   "cell_type": "code",
   "execution_count": 65,
   "id": "5cfc0693",
   "metadata": {
    "scrolled": true
   },
   "outputs": [
    {
     "name": "stdout",
     "output_type": "stream",
     "text": [
      "Epoch 1/30\n",
      "30677/30677 [==============================] - 29s 933us/step - loss: 386389.7812 - accuracy: 0.0000e+00 - val_loss: 62305.5820 - val_accuracy: 0.0000e+00\n",
      "Epoch 2/30\n",
      "30677/30677 [==============================] - 28s 907us/step - loss: 44411.4375 - accuracy: 0.0000e+00 - val_loss: 40457.8594 - val_accuracy: 0.0000e+00\n",
      "Epoch 3/30\n",
      "30677/30677 [==============================] - 27s 869us/step - loss: 36116.2227 - accuracy: 0.0000e+00 - val_loss: 36444.6211 - val_accuracy: 0.0000e+00\n",
      "Epoch 4/30\n",
      "30677/30677 [==============================] - 26s 842us/step - loss: 32767.9805 - accuracy: 0.0000e+00 - val_loss: 31970.9668 - val_accuracy: 0.0000e+00\n",
      "Epoch 5/30\n",
      "30677/30677 [==============================] - 26s 832us/step - loss: 29567.9434 - accuracy: 0.0000e+00 - val_loss: 36210.7266 - val_accuracy: 0.0000e+00\n",
      "Epoch 6/30\n",
      "30677/30677 [==============================] - 26s 844us/step - loss: 28041.0195 - accuracy: 0.0000e+00 - val_loss: 39026.2031 - val_accuracy: 0.0000e+00\n",
      "Epoch 7/30\n",
      "30677/30677 [==============================] - 26s 839us/step - loss: 26832.3086 - accuracy: 0.0000e+00 - val_loss: 36958.9219 - val_accuracy: 0.0000e+00\n",
      "Epoch 8/30\n",
      "30677/30677 [==============================] - 26s 838us/step - loss: 25724.2324 - accuracy: 0.0000e+00 - val_loss: 77041.6797 - val_accuracy: 0.0000e+00\n",
      "Epoch 9/30\n",
      "30677/30677 [==============================] - 26s 833us/step - loss: 25823.6445 - accuracy: 0.0000e+00 - val_loss: 34091.3828 - val_accuracy: 0.0000e+00\n",
      "Epoch 10/30\n",
      "30677/30677 [==============================] - 26s 848us/step - loss: 25233.6289 - accuracy: 0.0000e+00 - val_loss: 30078.5781 - val_accuracy: 0.0000e+00\n",
      "Epoch 11/30\n",
      "30677/30677 [==============================] - 26s 846us/step - loss: 24558.8926 - accuracy: 0.0000e+00 - val_loss: 29841.7988 - val_accuracy: 0.0000e+00\n",
      "Epoch 12/30\n",
      "30677/30677 [==============================] - 28s 904us/step - loss: 24943.4199 - accuracy: 0.0000e+00 - val_loss: 38703.5664 - val_accuracy: 0.0000e+00\n",
      "Epoch 13/30\n",
      "30677/30677 [==============================] - 28s 897us/step - loss: 24267.5117 - accuracy: 0.0000e+00 - val_loss: 37171.6484 - val_accuracy: 0.0000e+00\n",
      "Epoch 14/30\n",
      "30677/30677 [==============================] - 26s 844us/step - loss: 25394.7266 - accuracy: 0.0000e+00 - val_loss: 50845.9414 - val_accuracy: 0.0000e+00\n",
      "Epoch 15/30\n",
      "30677/30677 [==============================] - 26s 846us/step - loss: 24147.6816 - accuracy: 0.0000e+00 - val_loss: 26616.6699 - val_accuracy: 0.0000e+00\n",
      "Epoch 16/30\n",
      "30677/30677 [==============================] - 26s 843us/step - loss: 24045.2441 - accuracy: 0.0000e+00 - val_loss: 33050.6367 - val_accuracy: 0.0000e+00\n",
      "Epoch 17/30\n",
      "30677/30677 [==============================] - 26s 843us/step - loss: 24276.8672 - accuracy: 0.0000e+00 - val_loss: 26377.8301 - val_accuracy: 0.0000e+00\n",
      "Epoch 18/30\n",
      "30677/30677 [==============================] - 26s 840us/step - loss: 23338.2324 - accuracy: 0.0000e+00 - val_loss: 37153.6445 - val_accuracy: 0.0000e+00\n",
      "Epoch 19/30\n",
      "30677/30677 [==============================] - 30s 978us/step - loss: 23345.9844 - accuracy: 0.0000e+00 - val_loss: 37309.6133 - val_accuracy: 0.0000e+00\n",
      "Epoch 20/30\n",
      "30677/30677 [==============================] - 30s 994us/step - loss: 23613.5957 - accuracy: 0.0000e+00 - val_loss: 41589.2070 - val_accuracy: 0.0000e+00\n",
      "Epoch 21/30\n",
      "30677/30677 [==============================] - 28s 925us/step - loss: 23026.9258 - accuracy: 0.0000e+00 - val_loss: 29488.4688 - val_accuracy: 0.0000e+00\n",
      "Epoch 22/30\n",
      "30677/30677 [==============================] - 27s 877us/step - loss: 23338.1816 - accuracy: 0.0000e+00 - val_loss: 33998.7305 - val_accuracy: 0.0000e+00\n",
      "Epoch 23/30\n",
      "30677/30677 [==============================] - 26s 862us/step - loss: 23236.7500 - accuracy: 0.0000e+00 - val_loss: 37820.4883 - val_accuracy: 0.0000e+00\n",
      "Epoch 24/30\n",
      "30677/30677 [==============================] - 28s 897us/step - loss: 22670.8535 - accuracy: 0.0000e+00 - val_loss: 25212.7910 - val_accuracy: 0.0000e+00\n",
      "Epoch 25/30\n",
      "30677/30677 [==============================] - 26s 859us/step - loss: 22704.5957 - accuracy: 0.0000e+00 - val_loss: 42632.4453 - val_accuracy: 0.0000e+00\n",
      "Epoch 26/30\n",
      "30677/30677 [==============================] - 26s 857us/step - loss: 22989.6602 - accuracy: 0.0000e+00 - val_loss: 29346.5449 - val_accuracy: 0.0000e+00\n",
      "Epoch 27/30\n",
      "30677/30677 [==============================] - 27s 866us/step - loss: 22764.7148 - accuracy: 0.0000e+00 - val_loss: 33210.1641 - val_accuracy: 0.0000e+00\n",
      "Epoch 28/30\n",
      "30677/30677 [==============================] - 26s 863us/step - loss: 22644.2227 - accuracy: 0.0000e+00 - val_loss: 36562.7695 - val_accuracy: 0.0000e+00\n",
      "Epoch 29/30\n",
      "30677/30677 [==============================] - 27s 880us/step - loss: 22833.1758 - accuracy: 0.0000e+00 - val_loss: 28625.1699 - val_accuracy: 0.0000e+00\n",
      "Epoch 30/30\n",
      "30677/30677 [==============================] - 28s 920us/step - loss: 22544.2188 - accuracy: 0.0000e+00 - val_loss: 28709.6133 - val_accuracy: 0.0000e+00\n"
     ]
    }
   ],
   "source": [
    "model.compile(loss = \"mean_squared_error\", \n",
    "              optimizer = \"adam\", \n",
    "              metrics = [\"accuracy\"])\n",
    "\n",
    "early_stopping = EarlyStopping(patience = 30)\n",
    "\n",
    "hist = model.fit(train_x, train_y, \n",
    "                 epochs = 30, \n",
    "                 batch_size = 10, \n",
    "                 validation_data = (val_x, val_y), \n",
    "                 callbacks = [early_stopping])"
   ]
  },
  {
   "cell_type": "code",
   "execution_count": 66,
   "id": "ec234313",
   "metadata": {},
   "outputs": [
    {
     "name": "stdout",
     "output_type": "stream",
     "text": [
      "1917/1917 [==============================] - 2s 780us/step - loss: 28709.6562 - accuracy: 0.0000e+00\n"
     ]
    },
    {
     "data": {
      "text/plain": [
       "[28709.65625, 0.0]"
      ]
     },
     "execution_count": 66,
     "metadata": {},
     "output_type": "execute_result"
    }
   ],
   "source": [
    "model.evaluate(val_x, val_y)"
   ]
  },
  {
   "cell_type": "code",
   "execution_count": 67,
   "id": "2ede6e4b",
   "metadata": {},
   "outputs": [
    {
     "name": "stdout",
     "output_type": "stream",
     "text": [
      "NMAE : 0.551136\n"
     ]
    }
   ],
   "source": [
    "pred = model.predict(val_x)\n",
    "\n",
    "true_y = pd.DataFrame({\"y\" : val_y})\n",
    "pred_y = pd.DataFrame(pred)\n",
    "\n",
    "true_y.reset_index(drop = True, inplace = True)\n",
    "true_y.reset_index(inplace = True)\n",
    "pred_y.reset_index(inplace = True)\n",
    "\n",
    "print(\"NMAE : {:.6f}\".format(nmae(true_y, pred_y)))"
   ]
  },
  {
   "cell_type": "code",
   "execution_count": 56,
   "id": "daca4748",
   "metadata": {},
   "outputs": [],
   "source": [
    "# pred_y\n",
    "# true_y"
   ]
  },
  {
   "cell_type": "code",
   "execution_count": 57,
   "id": "c00b2630",
   "metadata": {},
   "outputs": [],
   "source": [
    "submission = pd.read_csv('../CSV/가스공급량 수요예측 모델개발 data/sample_submission.csv')"
   ]
  },
  {
   "cell_type": "code",
   "execution_count": 58,
   "id": "88fb8bb1",
   "metadata": {},
   "outputs": [],
   "source": [
    "test_x = test[features]\n",
    "preds = model.predict(test_x)\n",
    "submission['공급량'] = preds\n",
    "submission.to_csv(\"../CSV/Submission/27_4_features_DeepLearning_model.csv\", index = False)"
   ]
  },
  {
   "cell_type": "code",
   "execution_count": null,
   "id": "cbffa94f",
   "metadata": {},
   "outputs": [],
   "source": []
  }
 ],
 "metadata": {
  "kernelspec": {
   "display_name": "Python 3 (ipykernel)",
   "language": "python",
   "name": "python3"
  },
  "language_info": {
   "codemirror_mode": {
    "name": "ipython",
    "version": 3
   },
   "file_extension": ".py",
   "mimetype": "text/x-python",
   "name": "python",
   "nbconvert_exporter": "python",
   "pygments_lexer": "ipython3",
   "version": "3.8.8"
  }
 },
 "nbformat": 4,
 "nbformat_minor": 5
}
