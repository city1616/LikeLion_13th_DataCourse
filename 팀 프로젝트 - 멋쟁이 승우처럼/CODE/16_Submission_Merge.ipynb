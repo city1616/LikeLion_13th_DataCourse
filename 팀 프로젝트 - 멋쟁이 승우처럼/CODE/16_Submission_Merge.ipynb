{
 "cells": [
  {
   "cell_type": "code",
   "execution_count": 12,
   "id": "b8738803",
   "metadata": {},
   "outputs": [],
   "source": [
    "import pandas as pd\n",
    "import numpy as np"
   ]
  },
  {
   "cell_type": "code",
   "execution_count": 13,
   "id": "c9e88266",
   "metadata": {},
   "outputs": [],
   "source": [
    "submission = pd.read_csv('../CSV/가스공급량 수요예측 모델개발 data/sample_submission.csv')\n",
    "\n",
    "df_1 = pd.read_csv(\"../CSV/Submission/16_4_features_DeepLearning_model.csv\")\n",
    "df_2 = pd.read_csv(\"../CSV/Submission/18_4_features_DeepLearning_model.csv\")\n",
    "df_3 = pd.read_csv(\"../CSV/Submission/23_4_features_DeepLearning_model.csv\")"
   ]
  },
  {
   "cell_type": "code",
   "execution_count": 4,
   "id": "79fa2eed",
   "metadata": {},
   "outputs": [
    {
     "data": {
      "text/plain": [
       "0        2217.66720\n",
       "1        1991.95840\n",
       "2        1911.18790\n",
       "3        1911.78190\n",
       "4        1986.73820\n",
       "            ...    \n",
       "15115     293.83280\n",
       "15116     310.23312\n",
       "15117     309.30106\n",
       "15118     296.14352\n",
       "15119     277.19504\n",
       "Name: 공급량, Length: 15120, dtype: float64"
      ]
     },
     "execution_count": 4,
     "metadata": {},
     "output_type": "execute_result"
    }
   ],
   "source": [
    "submission['공급량'] = (df_1[\"공급량\"] + df_2[\"공급량\"] + df_3[\"공급량\"]) / 3"
   ]
  },
  {
   "cell_type": "code",
   "execution_count": null,
   "id": "c328f142",
   "metadata": {},
   "outputs": [],
   "source": [
    "submission.to_csv(\"../CSV/Submission/27_4_features_DeepLearning_model.csv\", index = False)"
   ]
  },
  {
   "cell_type": "code",
   "execution_count": null,
   "id": "7780110f",
   "metadata": {},
   "outputs": [],
   "source": []
  }
 ],
 "metadata": {
  "kernelspec": {
   "display_name": "Python 3 (ipykernel)",
   "language": "python",
   "name": "python3"
  },
  "language_info": {
   "codemirror_mode": {
    "name": "ipython",
    "version": 3
   },
   "file_extension": ".py",
   "mimetype": "text/x-python",
   "name": "python",
   "nbconvert_exporter": "python",
   "pygments_lexer": "ipython3",
   "version": "3.8.8"
  }
 },
 "nbformat": 4,
 "nbformat_minor": 5
}
