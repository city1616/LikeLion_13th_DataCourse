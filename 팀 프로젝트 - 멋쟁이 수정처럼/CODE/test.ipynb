{
 "cells": [
  {
   "cell_type": "code",
   "execution_count": 1,
   "id": "319412c7",
   "metadata": {},
   "outputs": [],
   "source": [
    "import pandas as pd"
   ]
  },
  {
   "cell_type": "code",
   "execution_count": 2,
   "id": "a825440f",
   "metadata": {},
   "outputs": [
    {
     "name": "stdout",
     "output_type": "stream",
     "text": [
      "2013-01-01 ~ 2018-12-31 총 길이 : 52584\n",
      "2013년 길이 : 8760\n",
      "2014년 길이 : 8760\n",
      "2015년 길이 : 8760\n",
      "2016년 길이 : 8784\n",
      "2017년 길이 : 8760\n",
      "2018년 길이 : 8760\n"
     ]
    }
   ],
   "source": [
    "print(\"2013-01-01 ~ 2018-12-31 총 길이 : {}\".format(len(pd.date_range(start = \"2013-01-01 00:00:00\", \n",
    "                                                                    end = \"2018-12-31 23:00:00\", freq = \"1h\"))))\n",
    "for i in range(2013, 2019) :\n",
    "    print(\"{}년 길이 : {}\".format(i, len(pd.date_range(start = f\"{i}-01-01 00:00:00\", \n",
    "                                                    end = f\"{i}-12-31 23:00:00\", freq = \"1h\"))))"
   ]
  },
  {
   "cell_type": "code",
   "execution_count": 3,
   "id": "6889e291",
   "metadata": {},
   "outputs": [
    {
     "data": {
      "text/plain": [
       "DatetimeIndex(['2013-01-01 00:00:00', '2013-01-01 01:00:00',\n",
       "               '2013-01-01 02:00:00', '2013-01-01 03:00:00',\n",
       "               '2013-01-01 04:00:00', '2013-01-01 05:00:00',\n",
       "               '2013-01-01 06:00:00', '2013-01-01 07:00:00',\n",
       "               '2013-01-01 08:00:00', '2013-01-01 09:00:00',\n",
       "               ...\n",
       "               '2013-12-31 14:00:00', '2013-12-31 15:00:00',\n",
       "               '2013-12-31 16:00:00', '2013-12-31 17:00:00',\n",
       "               '2013-12-31 18:00:00', '2013-12-31 19:00:00',\n",
       "               '2013-12-31 20:00:00', '2013-12-31 21:00:00',\n",
       "               '2013-12-31 22:00:00', '2013-12-31 23:00:00'],\n",
       "              dtype='datetime64[ns]', length=8760, freq='H')"
      ]
     },
     "execution_count": 3,
     "metadata": {},
     "output_type": "execute_result"
    }
   ],
   "source": [
    "pd.date_range(start = \"2013-01-01 00:00:00\", end = \"2013-12-31 23:00:00\", freq = \"1h\")"
   ]
  },
  {
   "cell_type": "code",
   "execution_count": 4,
   "id": "dcfb5f97",
   "metadata": {},
   "outputs": [
    {
     "data": {
      "text/plain": [
       "8784"
      ]
     },
     "execution_count": 4,
     "metadata": {},
     "output_type": "execute_result"
    }
   ],
   "source": [
    "len(pd.date_range(start = \"2016-01-01 00:00:00\", end = \"2016-12-31 23:00:00\", freq = \"1h\"))"
   ]
  },
  {
   "cell_type": "code",
   "execution_count": 8,
   "id": "458460ed",
   "metadata": {},
   "outputs": [
    {
     "name": "stdout",
     "output_type": "stream",
     "text": [
      "<class 'pandas.core.frame.DataFrame'>\n",
      "RangeIndex: 8760 entries, 0 to 8759\n",
      "Data columns (total 38 columns):\n",
      " #   Column         Non-Null Count  Dtype  \n",
      "---  ------         --------------  -----  \n",
      " 0   지점             8760 non-null   int64  \n",
      " 1   지점명            8760 non-null   object \n",
      " 2   일시             8760 non-null   object \n",
      " 3   기온(°C)         8760 non-null   float64\n",
      " 4   기온 QC플래그       8760 non-null   int64  \n",
      " 5   강수량(mm)        792 non-null    float64\n",
      " 6   강수량 QC플래그      2269 non-null   float64\n",
      " 7   풍속(m/s)        8760 non-null   float64\n",
      " 8   풍속 QC플래그       8760 non-null   int64  \n",
      " 9   풍향(16방위)       8713 non-null   float64\n",
      " 10  풍향 QC플래그       8760 non-null   int64  \n",
      " 11  습도(%)          8748 non-null   float64\n",
      " 12  습도 QC플래그       8760 non-null   int64  \n",
      " 13  증기압(hPa)       8753 non-null   float64\n",
      " 14  이슬점온도(°C)      8733 non-null   float64\n",
      " 15  현지기압(hPa)      8711 non-null   float64\n",
      " 16  현지기압 QC플래그     8760 non-null   int64  \n",
      " 17  해면기압(hPa)      8759 non-null   float64\n",
      " 18  해면기압 QC플래그     8760 non-null   int64  \n",
      " 19  일조(hr)         4631 non-null   float64\n",
      " 20  일조 QC플래그       8760 non-null   int64  \n",
      " 21  일사(MJ/m2)      4629 non-null   float64\n",
      " 22  일사 QC플래그       8760 non-null   int64  \n",
      " 23  적설(cm)         395 non-null    float64\n",
      " 24  3시간신적설(cm)     34 non-null     float64\n",
      " 25  전운량(10분위)      6747 non-null   float64\n",
      " 26  중하층운량(10분위)    6828 non-null   float64\n",
      " 27  운형(운형약어)       4970 non-null   object \n",
      " 28  최저운고(100m )    3949 non-null   float64\n",
      " 29  시정(10m)        6828 non-null   float64\n",
      " 30  지면상태(지면상태코드)   1465 non-null   float64\n",
      " 31  현상번호(국내식)      3739 non-null   float64\n",
      " 32  지면온도(°C)       8759 non-null   float64\n",
      " 33  지면온도 QC플래그     8760 non-null   int64  \n",
      " 34  5cm 지중온도(°C)   8759 non-null   float64\n",
      " 35  10cm 지중온도(°C)  8760 non-null   float64\n",
      " 36  20cm 지중온도(°C)  8760 non-null   float64\n",
      " 37  30cm 지중온도(°C)  8650 non-null   float64\n",
      "dtypes: float64(25), int64(10), object(3)\n",
      "memory usage: 2.5+ MB\n"
     ]
    }
   ],
   "source": [
    "path = \"../CSV/서울 기상 데이터/\" + \"2014\" + \"_seoul_weather.csv\"\n",
    "# print(path)\n",
    "temp = pd.read_csv(path, encoding = 'cp949')\n",
    "price_merge = pd.concat([price_merge, price], ignore_index = True)"
   ]
  },
  {
   "cell_type": "code",
   "execution_count": 7,
   "id": "7df8629d",
   "metadata": {},
   "outputs": [],
   "source": [
    "train = pd.read_csv(\"../CSV/한국가스공사_시간별_공급량_20181231.csv\", encoding = 'cp949', parse_dates = [\"연월일\"])"
   ]
  },
  {
   "cell_type": "code",
   "execution_count": 9,
   "id": "63ed2efb",
   "metadata": {},
   "outputs": [
    {
     "name": "stdout",
     "output_type": "stream",
     "text": [
      "<class 'pandas.core.frame.DataFrame'>\n",
      "RangeIndex: 368088 entries, 0 to 368087\n",
      "Data columns (total 4 columns):\n",
      " #   Column  Non-Null Count   Dtype         \n",
      "---  ------  --------------   -----         \n",
      " 0   연월일     368088 non-null  datetime64[ns]\n",
      " 1   시간      368088 non-null  int64         \n",
      " 2   구분      368088 non-null  object        \n",
      " 3   공급량     368088 non-null  float64       \n",
      "dtypes: datetime64[ns](1), float64(1), int64(1), object(1)\n",
      "memory usage: 11.2+ MB\n"
     ]
    }
   ],
   "source": [
    "train.info()"
   ]
  },
  {
   "cell_type": "code",
   "execution_count": 10,
   "id": "d22022c7",
   "metadata": {},
   "outputs": [],
   "source": [
    "train[\"year\"] = train[\"연월일\"].dt.year\n",
    "train[\"month\"] = train[\"연월일\"].dt.month\n",
    "train[\"day\"] = train[\"연월일\"].dt.day"
   ]
  },
  {
   "cell_type": "code",
   "execution_count": 11,
   "id": "5295d86d",
   "metadata": {},
   "outputs": [
    {
     "data": {
      "text/html": [
       "<div>\n",
       "<style scoped>\n",
       "    .dataframe tbody tr th:only-of-type {\n",
       "        vertical-align: middle;\n",
       "    }\n",
       "\n",
       "    .dataframe tbody tr th {\n",
       "        vertical-align: top;\n",
       "    }\n",
       "\n",
       "    .dataframe thead th {\n",
       "        text-align: right;\n",
       "    }\n",
       "</style>\n",
       "<table border=\"1\" class=\"dataframe\">\n",
       "  <thead>\n",
       "    <tr style=\"text-align: right;\">\n",
       "      <th></th>\n",
       "      <th>연월일</th>\n",
       "      <th>시간</th>\n",
       "      <th>구분</th>\n",
       "      <th>공급량</th>\n",
       "      <th>year</th>\n",
       "      <th>month</th>\n",
       "      <th>day</th>\n",
       "    </tr>\n",
       "  </thead>\n",
       "  <tbody>\n",
       "    <tr>\n",
       "      <th>0</th>\n",
       "      <td>2013-01-01</td>\n",
       "      <td>1</td>\n",
       "      <td>A</td>\n",
       "      <td>2497.129</td>\n",
       "      <td>2013</td>\n",
       "      <td>1</td>\n",
       "      <td>1</td>\n",
       "    </tr>\n",
       "    <tr>\n",
       "      <th>1</th>\n",
       "      <td>2013-01-01</td>\n",
       "      <td>2</td>\n",
       "      <td>A</td>\n",
       "      <td>2363.265</td>\n",
       "      <td>2013</td>\n",
       "      <td>1</td>\n",
       "      <td>1</td>\n",
       "    </tr>\n",
       "    <tr>\n",
       "      <th>2</th>\n",
       "      <td>2013-01-01</td>\n",
       "      <td>3</td>\n",
       "      <td>A</td>\n",
       "      <td>2258.505</td>\n",
       "      <td>2013</td>\n",
       "      <td>1</td>\n",
       "      <td>1</td>\n",
       "    </tr>\n",
       "  </tbody>\n",
       "</table>\n",
       "</div>"
      ],
      "text/plain": [
       "         연월일  시간 구분       공급량  year  month  day\n",
       "0 2013-01-01   1  A  2497.129  2013      1    1\n",
       "1 2013-01-01   2  A  2363.265  2013      1    1\n",
       "2 2013-01-01   3  A  2258.505  2013      1    1"
      ]
     },
     "execution_count": 11,
     "metadata": {},
     "output_type": "execute_result"
    }
   ],
   "source": [
    "train.head(3)"
   ]
  },
  {
   "cell_type": "code",
   "execution_count": 1,
   "id": "d592ae79",
   "metadata": {},
   "outputs": [],
   "source": [
    "import pandas as pd"
   ]
  },
  {
   "cell_type": "code",
   "execution_count": 4,
   "id": "dad65082",
   "metadata": {},
   "outputs": [],
   "source": [
    "weather = pd.read_csv(\"../CSV/서울 기상 데이터/2013_2018_seoul_weather.csv\", parse_dates = [\"일시\"])\n",
    "test = pd.read_csv(\"../CSV/가스공급량 수요예측 모델개발 data/test.csv\")"
   ]
  },
  {
   "cell_type": "code",
   "execution_count": 3,
   "id": "ca9afedc",
   "metadata": {},
   "outputs": [
    {
     "data": {
      "text/html": [
       "<div>\n",
       "<style scoped>\n",
       "    .dataframe tbody tr th:only-of-type {\n",
       "        vertical-align: middle;\n",
       "    }\n",
       "\n",
       "    .dataframe tbody tr th {\n",
       "        vertical-align: top;\n",
       "    }\n",
       "\n",
       "    .dataframe thead th {\n",
       "        text-align: right;\n",
       "    }\n",
       "</style>\n",
       "<table border=\"1\" class=\"dataframe\">\n",
       "  <thead>\n",
       "    <tr style=\"text-align: right;\">\n",
       "      <th></th>\n",
       "      <th>지점</th>\n",
       "      <th>지점명</th>\n",
       "      <th>일시</th>\n",
       "      <th>기온(°C)</th>\n",
       "      <th>기온 QC플래그</th>\n",
       "      <th>강수량(mm)</th>\n",
       "      <th>강수량 QC플래그</th>\n",
       "      <th>풍속(m/s)</th>\n",
       "      <th>풍속 QC플래그</th>\n",
       "      <th>풍향(16방위)</th>\n",
       "      <th>...</th>\n",
       "      <th>최저운고(100m )</th>\n",
       "      <th>시정(10m)</th>\n",
       "      <th>지면상태(지면상태코드)</th>\n",
       "      <th>현상번호(국내식)</th>\n",
       "      <th>지면온도(°C)</th>\n",
       "      <th>지면온도 QC플래그</th>\n",
       "      <th>5cm 지중온도(°C)</th>\n",
       "      <th>10cm 지중온도(°C)</th>\n",
       "      <th>20cm 지중온도(°C)</th>\n",
       "      <th>30cm 지중온도(°C)</th>\n",
       "    </tr>\n",
       "  </thead>\n",
       "  <tbody>\n",
       "    <tr>\n",
       "      <th>0</th>\n",
       "      <td>108</td>\n",
       "      <td>서울</td>\n",
       "      <td>2013-01-01 00:00:00</td>\n",
       "      <td>-8.3</td>\n",
       "      <td>0.0</td>\n",
       "      <td>NaN</td>\n",
       "      <td>NaN</td>\n",
       "      <td>3.6</td>\n",
       "      <td>0.0</td>\n",
       "      <td>50.0</td>\n",
       "      <td>...</td>\n",
       "      <td>10.0</td>\n",
       "      <td>2000.0</td>\n",
       "      <td>NaN</td>\n",
       "      <td>NaN</td>\n",
       "      <td>-3.3</td>\n",
       "      <td>0.0</td>\n",
       "      <td>-2.9</td>\n",
       "      <td>-1.6</td>\n",
       "      <td>-0.5</td>\n",
       "      <td>0.3</td>\n",
       "    </tr>\n",
       "    <tr>\n",
       "      <th>1</th>\n",
       "      <td>108</td>\n",
       "      <td>서울</td>\n",
       "      <td>2013-01-01 01:00:00</td>\n",
       "      <td>-8.5</td>\n",
       "      <td>0.0</td>\n",
       "      <td>NaN</td>\n",
       "      <td>NaN</td>\n",
       "      <td>4.0</td>\n",
       "      <td>0.0</td>\n",
       "      <td>50.0</td>\n",
       "      <td>...</td>\n",
       "      <td>NaN</td>\n",
       "      <td>NaN</td>\n",
       "      <td>NaN</td>\n",
       "      <td>NaN</td>\n",
       "      <td>-3.4</td>\n",
       "      <td>0.0</td>\n",
       "      <td>-2.9</td>\n",
       "      <td>-1.6</td>\n",
       "      <td>-0.5</td>\n",
       "      <td>0.3</td>\n",
       "    </tr>\n",
       "    <tr>\n",
       "      <th>2</th>\n",
       "      <td>108</td>\n",
       "      <td>서울</td>\n",
       "      <td>2013-01-01 02:00:00</td>\n",
       "      <td>-8.4</td>\n",
       "      <td>0.0</td>\n",
       "      <td>NaN</td>\n",
       "      <td>NaN</td>\n",
       "      <td>4.0</td>\n",
       "      <td>0.0</td>\n",
       "      <td>70.0</td>\n",
       "      <td>...</td>\n",
       "      <td>NaN</td>\n",
       "      <td>NaN</td>\n",
       "      <td>NaN</td>\n",
       "      <td>NaN</td>\n",
       "      <td>-3.4</td>\n",
       "      <td>0.0</td>\n",
       "      <td>-3.0</td>\n",
       "      <td>-1.6</td>\n",
       "      <td>-0.5</td>\n",
       "      <td>0.4</td>\n",
       "    </tr>\n",
       "  </tbody>\n",
       "</table>\n",
       "<p>3 rows × 38 columns</p>\n",
       "</div>"
      ],
      "text/plain": [
       "    지점 지점명                  일시  기온(°C)  기온 QC플래그  강수량(mm)  강수량 QC플래그  풍속(m/s)  \\\n",
       "0  108  서울 2013-01-01 00:00:00    -8.3       0.0      NaN        NaN      3.6   \n",
       "1  108  서울 2013-01-01 01:00:00    -8.5       0.0      NaN        NaN      4.0   \n",
       "2  108  서울 2013-01-01 02:00:00    -8.4       0.0      NaN        NaN      4.0   \n",
       "\n",
       "   풍속 QC플래그  풍향(16방위)  ...  최저운고(100m )  시정(10m)  지면상태(지면상태코드)  현상번호(국내식)  \\\n",
       "0       0.0      50.0  ...         10.0   2000.0           NaN        NaN   \n",
       "1       0.0      50.0  ...          NaN      NaN           NaN        NaN   \n",
       "2       0.0      70.0  ...          NaN      NaN           NaN        NaN   \n",
       "\n",
       "   지면온도(°C)  지면온도 QC플래그  5cm 지중온도(°C)  10cm 지중온도(°C)  20cm 지중온도(°C)  \\\n",
       "0      -3.3         0.0          -2.9           -1.6           -0.5   \n",
       "1      -3.4         0.0          -2.9           -1.6           -0.5   \n",
       "2      -3.4         0.0          -3.0           -1.6           -0.5   \n",
       "\n",
       "   30cm 지중온도(°C)  \n",
       "0            0.3  \n",
       "1            0.3  \n",
       "2            0.4  \n",
       "\n",
       "[3 rows x 38 columns]"
      ]
     },
     "execution_count": 3,
     "metadata": {},
     "output_type": "execute_result"
    }
   ],
   "source": [
    "weather.head(3)"
   ]
  },
  {
   "cell_type": "code",
   "execution_count": 5,
   "id": "03d77fbf",
   "metadata": {},
   "outputs": [
    {
     "data": {
      "text/html": [
       "<div>\n",
       "<style scoped>\n",
       "    .dataframe tbody tr th:only-of-type {\n",
       "        vertical-align: middle;\n",
       "    }\n",
       "\n",
       "    .dataframe tbody tr th {\n",
       "        vertical-align: top;\n",
       "    }\n",
       "\n",
       "    .dataframe thead th {\n",
       "        text-align: right;\n",
       "    }\n",
       "</style>\n",
       "<table border=\"1\" class=\"dataframe\">\n",
       "  <thead>\n",
       "    <tr style=\"text-align: right;\">\n",
       "      <th></th>\n",
       "      <th>일자|시간|구분</th>\n",
       "    </tr>\n",
       "  </thead>\n",
       "  <tbody>\n",
       "    <tr>\n",
       "      <th>0</th>\n",
       "      <td>2019-01-01 01 A</td>\n",
       "    </tr>\n",
       "    <tr>\n",
       "      <th>1</th>\n",
       "      <td>2019-01-01 02 A</td>\n",
       "    </tr>\n",
       "    <tr>\n",
       "      <th>2</th>\n",
       "      <td>2019-01-01 03 A</td>\n",
       "    </tr>\n",
       "  </tbody>\n",
       "</table>\n",
       "</div>"
      ],
      "text/plain": [
       "          일자|시간|구분\n",
       "0  2019-01-01 01 A\n",
       "1  2019-01-01 02 A\n",
       "2  2019-01-01 03 A"
      ]
     },
     "execution_count": 5,
     "metadata": {},
     "output_type": "execute_result"
    }
   ],
   "source": [
    "test.head(3)"
   ]
  },
  {
   "cell_type": "code",
   "execution_count": null,
   "id": "262b15f1",
   "metadata": {},
   "outputs": [],
   "source": []
  }
 ],
 "metadata": {
  "kernelspec": {
   "display_name": "Python 3 (ipykernel)",
   "language": "python",
   "name": "python3"
  },
  "language_info": {
   "codemirror_mode": {
    "name": "ipython",
    "version": 3
   },
   "file_extension": ".py",
   "mimetype": "text/x-python",
   "name": "python",
   "nbconvert_exporter": "python",
   "pygments_lexer": "ipython3",
   "version": "3.8.8"
  }
 },
 "nbformat": 4,
 "nbformat_minor": 5
}
