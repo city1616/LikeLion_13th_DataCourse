{
 "cells": [
  {
   "cell_type": "code",
   "execution_count": 1,
   "id": "319412c7",
   "metadata": {},
   "outputs": [],
   "source": [
    "import pandas as pd"
   ]
  },
  {
   "cell_type": "code",
   "execution_count": 22,
   "id": "a825440f",
   "metadata": {},
   "outputs": [
    {
     "name": "stdout",
     "output_type": "stream",
     "text": [
      "2013-01-01 ~ 2018-12-31 총 길이 : 52584\n",
      "2013년 길이 : 8760\n",
      "2014년 길이 : 8760\n",
      "2015년 길이 : 8760\n",
      "2016년 길이 : 8784\n",
      "2017년 길이 : 8760\n",
      "2018년 길이 : 8760\n"
     ]
    }
   ],
   "source": [
    "print(\"2013-01-01 ~ 2018-12-31 총 길이 : {}\".format(len(pd.date_range(start = \"2013-01-01 00:00:00\", \n",
    "                                                                    end = \"2018-12-31 23:00:00\", freq = \"1h\"))))\n",
    "for i in range(2013, 2019) :\n",
    "    print(\"{}년 길이 : {}\".format(i, len(pd.date_range(start = f\"{i}-01-01 00:00:00\", \n",
    "                                                    end = f\"{i}-12-31 23:00:00\", freq = \"1h\"))))"
   ]
  },
  {
   "cell_type": "code",
   "execution_count": 11,
   "id": "6889e291",
   "metadata": {},
   "outputs": [
    {
     "data": {
      "text/plain": [
       "DatetimeIndex(['2013-01-01 00:00:00', '2013-01-01 01:00:00',\n",
       "               '2013-01-01 02:00:00', '2013-01-01 03:00:00',\n",
       "               '2013-01-01 04:00:00', '2013-01-01 05:00:00',\n",
       "               '2013-01-01 06:00:00', '2013-01-01 07:00:00',\n",
       "               '2013-01-01 08:00:00', '2013-01-01 09:00:00',\n",
       "               ...\n",
       "               '2013-12-31 14:00:00', '2013-12-31 15:00:00',\n",
       "               '2013-12-31 16:00:00', '2013-12-31 17:00:00',\n",
       "               '2013-12-31 18:00:00', '2013-12-31 19:00:00',\n",
       "               '2013-12-31 20:00:00', '2013-12-31 21:00:00',\n",
       "               '2013-12-31 22:00:00', '2013-12-31 23:00:00'],\n",
       "              dtype='datetime64[ns]', length=8760, freq='H')"
      ]
     },
     "execution_count": 11,
     "metadata": {},
     "output_type": "execute_result"
    }
   ],
   "source": [
    "pd.date_range(start = \"2013-01-01 00:00:00\", end = \"2013-12-31 23:00:00\", freq = \"1h\")"
   ]
  },
  {
   "cell_type": "code",
   "execution_count": 20,
   "id": "dcfb5f97",
   "metadata": {},
   "outputs": [
    {
     "data": {
      "text/plain": [
       "8784"
      ]
     },
     "execution_count": 20,
     "metadata": {},
     "output_type": "execute_result"
    }
   ],
   "source": [
    "len(pd.date_range(start = \"2016-01-01 00:00:00\", end = \"2016-12-31 23:00:00\", freq = \"1h\"))"
   ]
  },
  {
   "cell_type": "code",
   "execution_count": null,
   "id": "458460ed",
   "metadata": {},
   "outputs": [],
   "source": []
  }
 ],
 "metadata": {
  "kernelspec": {
   "display_name": "Python 3 (ipykernel)",
   "language": "python",
   "name": "python3"
  },
  "language_info": {
   "codemirror_mode": {
    "name": "ipython",
    "version": 3
   },
   "file_extension": ".py",
   "mimetype": "text/x-python",
   "name": "python",
   "nbconvert_exporter": "python",
   "pygments_lexer": "ipython3",
   "version": "3.8.8"
  }
 },
 "nbformat": 4,
 "nbformat_minor": 5
}
