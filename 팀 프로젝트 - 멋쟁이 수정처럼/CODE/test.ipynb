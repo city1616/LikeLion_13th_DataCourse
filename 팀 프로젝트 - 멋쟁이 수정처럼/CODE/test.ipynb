{
 "cells": [
  {
   "cell_type": "code",
   "execution_count": 1,
   "id": "319412c7",
   "metadata": {},
   "outputs": [],
   "source": [
    "import pandas as pd"
   ]
  },
  {
   "cell_type": "code",
   "execution_count": 2,
   "id": "a825440f",
   "metadata": {},
   "outputs": [
    {
     "name": "stdout",
     "output_type": "stream",
     "text": [
      "2013-01-01 ~ 2018-12-31 총 길이 : 52584\n",
      "2013년 길이 : 8760\n",
      "2014년 길이 : 8760\n",
      "2015년 길이 : 8760\n",
      "2016년 길이 : 8784\n",
      "2017년 길이 : 8760\n",
      "2018년 길이 : 8760\n"
     ]
    }
   ],
   "source": [
    "print(\"2013-01-01 ~ 2018-12-31 총 길이 : {}\".format(len(pd.date_range(start = \"2013-01-01 00:00:00\", \n",
    "                                                                    end = \"2018-12-31 23:00:00\", freq = \"1h\"))))\n",
    "for i in range(2013, 2019) :\n",
    "    print(\"{}년 길이 : {}\".format(i, len(pd.date_range(start = f\"{i}-01-01 00:00:00\", \n",
    "                                                    end = f\"{i}-12-31 23:00:00\", freq = \"1h\"))))"
   ]
  },
  {
   "cell_type": "code",
   "execution_count": 3,
   "id": "6889e291",
   "metadata": {},
   "outputs": [
    {
     "data": {
      "text/plain": [
       "DatetimeIndex(['2013-01-01 00:00:00', '2013-01-01 01:00:00',\n",
       "               '2013-01-01 02:00:00', '2013-01-01 03:00:00',\n",
       "               '2013-01-01 04:00:00', '2013-01-01 05:00:00',\n",
       "               '2013-01-01 06:00:00', '2013-01-01 07:00:00',\n",
       "               '2013-01-01 08:00:00', '2013-01-01 09:00:00',\n",
       "               ...\n",
       "               '2013-12-31 14:00:00', '2013-12-31 15:00:00',\n",
       "               '2013-12-31 16:00:00', '2013-12-31 17:00:00',\n",
       "               '2013-12-31 18:00:00', '2013-12-31 19:00:00',\n",
       "               '2013-12-31 20:00:00', '2013-12-31 21:00:00',\n",
       "               '2013-12-31 22:00:00', '2013-12-31 23:00:00'],\n",
       "              dtype='datetime64[ns]', length=8760, freq='H')"
      ]
     },
     "execution_count": 3,
     "metadata": {},
     "output_type": "execute_result"
    }
   ],
   "source": [
    "pd.date_range(start = \"2013-01-01 00:00:00\", end = \"2013-12-31 23:00:00\", freq = \"1h\")"
   ]
  },
  {
   "cell_type": "code",
   "execution_count": 4,
   "id": "dcfb5f97",
   "metadata": {},
   "outputs": [
    {
     "data": {
      "text/plain": [
       "8784"
      ]
     },
     "execution_count": 4,
     "metadata": {},
     "output_type": "execute_result"
    }
   ],
   "source": [
    "len(pd.date_range(start = \"2016-01-01 00:00:00\", end = \"2016-12-31 23:00:00\", freq = \"1h\"))"
   ]
  },
  {
   "cell_type": "code",
   "execution_count": 8,
   "id": "458460ed",
   "metadata": {},
   "outputs": [
    {
     "name": "stdout",
     "output_type": "stream",
     "text": [
      "<class 'pandas.core.frame.DataFrame'>\n",
      "RangeIndex: 8760 entries, 0 to 8759\n",
      "Data columns (total 38 columns):\n",
      " #   Column         Non-Null Count  Dtype  \n",
      "---  ------         --------------  -----  \n",
      " 0   지점             8760 non-null   int64  \n",
      " 1   지점명            8760 non-null   object \n",
      " 2   일시             8760 non-null   object \n",
      " 3   기온(°C)         8760 non-null   float64\n",
      " 4   기온 QC플래그       8760 non-null   int64  \n",
      " 5   강수량(mm)        792 non-null    float64\n",
      " 6   강수량 QC플래그      2269 non-null   float64\n",
      " 7   풍속(m/s)        8760 non-null   float64\n",
      " 8   풍속 QC플래그       8760 non-null   int64  \n",
      " 9   풍향(16방위)       8713 non-null   float64\n",
      " 10  풍향 QC플래그       8760 non-null   int64  \n",
      " 11  습도(%)          8748 non-null   float64\n",
      " 12  습도 QC플래그       8760 non-null   int64  \n",
      " 13  증기압(hPa)       8753 non-null   float64\n",
      " 14  이슬점온도(°C)      8733 non-null   float64\n",
      " 15  현지기압(hPa)      8711 non-null   float64\n",
      " 16  현지기압 QC플래그     8760 non-null   int64  \n",
      " 17  해면기압(hPa)      8759 non-null   float64\n",
      " 18  해면기압 QC플래그     8760 non-null   int64  \n",
      " 19  일조(hr)         4631 non-null   float64\n",
      " 20  일조 QC플래그       8760 non-null   int64  \n",
      " 21  일사(MJ/m2)      4629 non-null   float64\n",
      " 22  일사 QC플래그       8760 non-null   int64  \n",
      " 23  적설(cm)         395 non-null    float64\n",
      " 24  3시간신적설(cm)     34 non-null     float64\n",
      " 25  전운량(10분위)      6747 non-null   float64\n",
      " 26  중하층운량(10분위)    6828 non-null   float64\n",
      " 27  운형(운형약어)       4970 non-null   object \n",
      " 28  최저운고(100m )    3949 non-null   float64\n",
      " 29  시정(10m)        6828 non-null   float64\n",
      " 30  지면상태(지면상태코드)   1465 non-null   float64\n",
      " 31  현상번호(국내식)      3739 non-null   float64\n",
      " 32  지면온도(°C)       8759 non-null   float64\n",
      " 33  지면온도 QC플래그     8760 non-null   int64  \n",
      " 34  5cm 지중온도(°C)   8759 non-null   float64\n",
      " 35  10cm 지중온도(°C)  8760 non-null   float64\n",
      " 36  20cm 지중온도(°C)  8760 non-null   float64\n",
      " 37  30cm 지중온도(°C)  8650 non-null   float64\n",
      "dtypes: float64(25), int64(10), object(3)\n",
      "memory usage: 2.5+ MB\n"
     ]
    }
   ],
   "source": [
    "path = \"../CSV/서울 기상 데이터/\" + \"2014\" + \"_seoul_weather.csv\"\n",
    "# print(path)\n",
    "temp = pd.read_csv(path, encoding = 'cp949')\n",
    "price_merge = pd.concat([price_merge, price], ignore_index = True)"
   ]
  },
  {
   "cell_type": "code",
   "execution_count": null,
   "id": "d592ae79",
   "metadata": {},
   "outputs": [],
   "source": []
  }
 ],
 "metadata": {
  "kernelspec": {
   "display_name": "Python 3 (ipykernel)",
   "language": "python",
   "name": "python3"
  },
  "language_info": {
   "codemirror_mode": {
    "name": "ipython",
    "version": 3
   },
   "file_extension": ".py",
   "mimetype": "text/x-python",
   "name": "python",
   "nbconvert_exporter": "python",
   "pygments_lexer": "ipython3",
   "version": "3.8.8"
  }
 },
 "nbformat": 4,
 "nbformat_minor": 5
}
