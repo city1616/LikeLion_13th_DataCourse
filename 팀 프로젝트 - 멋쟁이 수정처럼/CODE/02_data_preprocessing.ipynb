{
 "cells": [
  {
   "cell_type": "markdown",
   "id": "a211e3ff",
   "metadata": {},
   "source": [
    "### 데이터\n",
    "* data : 한국가스공사 시간별 공급량 데이터\n",
    "* gn : 강릉 시간별 기상 데이터\n",
    "* parse_dates=['구매일']"
   ]
  },
  {
   "cell_type": "code",
   "execution_count": 85,
   "id": "87eb6f82",
   "metadata": {},
   "outputs": [],
   "source": [
    "import pandas as pd\n",
    "import numpy as np"
   ]
  },
  {
   "cell_type": "code",
   "execution_count": 2,
   "id": "7611168f",
   "metadata": {},
   "outputs": [
    {
     "name": "stdout",
     "output_type": "stream",
     "text": [
      "2013-01-01 ~ 2018-12-31 총 길이 : 52584\n",
      "2013년 길이 : 8760\n",
      "2014년 길이 : 8760\n",
      "2015년 길이 : 8760\n",
      "2016년 길이 : 8784\n",
      "2017년 길이 : 8760\n",
      "2018년 길이 : 8760\n"
     ]
    }
   ],
   "source": [
    "print(\"2013-01-01 ~ 2018-12-31 총 길이 : {}\".format(len(pd.date_range(start = \"2013-01-01 00:00:00\", \n",
    "                                                                    end = \"2018-12-31 23:00:00\", freq = \"1h\"))))\n",
    "for i in range(2013, 2019) :\n",
    "    print(\"{}년 길이 : {}\".format(i, len(pd.date_range(start = f\"{i}-01-01 00:00:00\", \n",
    "                                                    end = f\"{i}-12-31 23:00:00\", freq = \"1h\"))))"
   ]
  },
  {
   "cell_type": "code",
   "execution_count": 3,
   "id": "e95eb1e9",
   "metadata": {},
   "outputs": [],
   "source": [
    "pd.set_option(\"display.max_columns\", None)"
   ]
  },
  {
   "cell_type": "markdown",
   "id": "db24b380",
   "metadata": {},
   "source": [
    "### 가스공급량 데이터"
   ]
  },
  {
   "cell_type": "code",
   "execution_count": 4,
   "id": "5e302c63",
   "metadata": {},
   "outputs": [],
   "source": [
    "data = pd.read_csv(\"../CSV/한국가스공사_시간별_공급량_20181231.csv\", encoding = 'cp949')"
   ]
  },
  {
   "cell_type": "code",
   "execution_count": 5,
   "id": "c1beb7bb",
   "metadata": {},
   "outputs": [
    {
     "name": "stdout",
     "output_type": "stream",
     "text": [
      "<class 'pandas.core.frame.DataFrame'>\n",
      "RangeIndex: 368088 entries, 0 to 368087\n",
      "Data columns (total 4 columns):\n",
      " #   Column  Non-Null Count   Dtype  \n",
      "---  ------  --------------   -----  \n",
      " 0   연월일     368088 non-null  object \n",
      " 1   시간      368088 non-null  int64  \n",
      " 2   구분      368088 non-null  object \n",
      " 3   공급량     368088 non-null  float64\n",
      "dtypes: float64(1), int64(1), object(2)\n",
      "memory usage: 11.2+ MB\n"
     ]
    }
   ],
   "source": [
    "data.info()"
   ]
  },
  {
   "cell_type": "code",
   "execution_count": 6,
   "id": "33d1fda5",
   "metadata": {},
   "outputs": [
    {
     "data": {
      "text/html": [
       "<div>\n",
       "<style scoped>\n",
       "    .dataframe tbody tr th:only-of-type {\n",
       "        vertical-align: middle;\n",
       "    }\n",
       "\n",
       "    .dataframe tbody tr th {\n",
       "        vertical-align: top;\n",
       "    }\n",
       "\n",
       "    .dataframe thead th {\n",
       "        text-align: right;\n",
       "    }\n",
       "</style>\n",
       "<table border=\"1\" class=\"dataframe\">\n",
       "  <thead>\n",
       "    <tr style=\"text-align: right;\">\n",
       "      <th></th>\n",
       "      <th>연월일</th>\n",
       "      <th>시간</th>\n",
       "      <th>구분</th>\n",
       "      <th>공급량</th>\n",
       "    </tr>\n",
       "  </thead>\n",
       "  <tbody>\n",
       "    <tr>\n",
       "      <th>0</th>\n",
       "      <td>2013-01-01</td>\n",
       "      <td>1</td>\n",
       "      <td>A</td>\n",
       "      <td>2497.129</td>\n",
       "    </tr>\n",
       "    <tr>\n",
       "      <th>1</th>\n",
       "      <td>2013-01-01</td>\n",
       "      <td>2</td>\n",
       "      <td>A</td>\n",
       "      <td>2363.265</td>\n",
       "    </tr>\n",
       "    <tr>\n",
       "      <th>2</th>\n",
       "      <td>2013-01-01</td>\n",
       "      <td>3</td>\n",
       "      <td>A</td>\n",
       "      <td>2258.505</td>\n",
       "    </tr>\n",
       "  </tbody>\n",
       "</table>\n",
       "</div>"
      ],
      "text/plain": [
       "          연월일  시간 구분       공급량\n",
       "0  2013-01-01   1  A  2497.129\n",
       "1  2013-01-01   2  A  2363.265\n",
       "2  2013-01-01   3  A  2258.505"
      ]
     },
     "execution_count": 6,
     "metadata": {},
     "output_type": "execute_result"
    }
   ],
   "source": [
    "data.head(3)"
   ]
  },
  {
   "cell_type": "code",
   "execution_count": 7,
   "id": "d9951ff0",
   "metadata": {},
   "outputs": [
    {
     "data": {
      "text/html": [
       "<div>\n",
       "<style scoped>\n",
       "    .dataframe tbody tr th:only-of-type {\n",
       "        vertical-align: middle;\n",
       "    }\n",
       "\n",
       "    .dataframe tbody tr th {\n",
       "        vertical-align: top;\n",
       "    }\n",
       "\n",
       "    .dataframe thead th {\n",
       "        text-align: right;\n",
       "    }\n",
       "</style>\n",
       "<table border=\"1\" class=\"dataframe\">\n",
       "  <thead>\n",
       "    <tr style=\"text-align: right;\">\n",
       "      <th></th>\n",
       "      <th></th>\n",
       "      <th>시간</th>\n",
       "      <th>공급량</th>\n",
       "    </tr>\n",
       "    <tr>\n",
       "      <th>연월일</th>\n",
       "      <th>구분</th>\n",
       "      <th></th>\n",
       "      <th></th>\n",
       "    </tr>\n",
       "  </thead>\n",
       "  <tbody>\n",
       "    <tr>\n",
       "      <th rowspan=\"5\" valign=\"top\">2013-01-01</th>\n",
       "      <th>A</th>\n",
       "      <td>24</td>\n",
       "      <td>24</td>\n",
       "    </tr>\n",
       "    <tr>\n",
       "      <th>B</th>\n",
       "      <td>24</td>\n",
       "      <td>24</td>\n",
       "    </tr>\n",
       "    <tr>\n",
       "      <th>C</th>\n",
       "      <td>24</td>\n",
       "      <td>24</td>\n",
       "    </tr>\n",
       "    <tr>\n",
       "      <th>D</th>\n",
       "      <td>24</td>\n",
       "      <td>24</td>\n",
       "    </tr>\n",
       "    <tr>\n",
       "      <th>E</th>\n",
       "      <td>24</td>\n",
       "      <td>24</td>\n",
       "    </tr>\n",
       "    <tr>\n",
       "      <th>...</th>\n",
       "      <th>...</th>\n",
       "      <td>...</td>\n",
       "      <td>...</td>\n",
       "    </tr>\n",
       "    <tr>\n",
       "      <th rowspan=\"5\" valign=\"top\">2018-12-31</th>\n",
       "      <th>C</th>\n",
       "      <td>24</td>\n",
       "      <td>24</td>\n",
       "    </tr>\n",
       "    <tr>\n",
       "      <th>D</th>\n",
       "      <td>24</td>\n",
       "      <td>24</td>\n",
       "    </tr>\n",
       "    <tr>\n",
       "      <th>E</th>\n",
       "      <td>24</td>\n",
       "      <td>24</td>\n",
       "    </tr>\n",
       "    <tr>\n",
       "      <th>G</th>\n",
       "      <td>24</td>\n",
       "      <td>24</td>\n",
       "    </tr>\n",
       "    <tr>\n",
       "      <th>H</th>\n",
       "      <td>24</td>\n",
       "      <td>24</td>\n",
       "    </tr>\n",
       "  </tbody>\n",
       "</table>\n",
       "<p>15337 rows × 2 columns</p>\n",
       "</div>"
      ],
      "text/plain": [
       "               시간  공급량\n",
       "연월일        구분         \n",
       "2013-01-01 A   24   24\n",
       "           B   24   24\n",
       "           C   24   24\n",
       "           D   24   24\n",
       "           E   24   24\n",
       "...            ..  ...\n",
       "2018-12-31 C   24   24\n",
       "           D   24   24\n",
       "           E   24   24\n",
       "           G   24   24\n",
       "           H   24   24\n",
       "\n",
       "[15337 rows x 2 columns]"
      ]
     },
     "execution_count": 7,
     "metadata": {},
     "output_type": "execute_result"
    }
   ],
   "source": [
    "data.groupby([\"연월일\", \"구분\"]).count()"
   ]
  },
  {
   "cell_type": "code",
   "execution_count": 8,
   "id": "7b9b8e21",
   "metadata": {},
   "outputs": [
    {
     "data": {
      "text/html": [
       "<div>\n",
       "<style scoped>\n",
       "    .dataframe tbody tr th:only-of-type {\n",
       "        vertical-align: middle;\n",
       "    }\n",
       "\n",
       "    .dataframe tbody tr th {\n",
       "        vertical-align: top;\n",
       "    }\n",
       "\n",
       "    .dataframe thead th {\n",
       "        text-align: right;\n",
       "    }\n",
       "</style>\n",
       "<table border=\"1\" class=\"dataframe\">\n",
       "  <thead>\n",
       "    <tr style=\"text-align: right;\">\n",
       "      <th></th>\n",
       "      <th>연월일</th>\n",
       "      <th>시간</th>\n",
       "      <th>공급량</th>\n",
       "    </tr>\n",
       "    <tr>\n",
       "      <th>구분</th>\n",
       "      <th></th>\n",
       "      <th></th>\n",
       "      <th></th>\n",
       "    </tr>\n",
       "  </thead>\n",
       "  <tbody>\n",
       "    <tr>\n",
       "      <th>A</th>\n",
       "      <td>52584</td>\n",
       "      <td>52584</td>\n",
       "      <td>52584</td>\n",
       "    </tr>\n",
       "    <tr>\n",
       "      <th>B</th>\n",
       "      <td>52584</td>\n",
       "      <td>52584</td>\n",
       "      <td>52584</td>\n",
       "    </tr>\n",
       "    <tr>\n",
       "      <th>C</th>\n",
       "      <td>52584</td>\n",
       "      <td>52584</td>\n",
       "      <td>52584</td>\n",
       "    </tr>\n",
       "    <tr>\n",
       "      <th>D</th>\n",
       "      <td>52584</td>\n",
       "      <td>52584</td>\n",
       "      <td>52584</td>\n",
       "    </tr>\n",
       "    <tr>\n",
       "      <th>E</th>\n",
       "      <td>52584</td>\n",
       "      <td>52584</td>\n",
       "      <td>52584</td>\n",
       "    </tr>\n",
       "    <tr>\n",
       "      <th>G</th>\n",
       "      <td>52584</td>\n",
       "      <td>52584</td>\n",
       "      <td>52584</td>\n",
       "    </tr>\n",
       "    <tr>\n",
       "      <th>H</th>\n",
       "      <td>52584</td>\n",
       "      <td>52584</td>\n",
       "      <td>52584</td>\n",
       "    </tr>\n",
       "  </tbody>\n",
       "</table>\n",
       "</div>"
      ],
      "text/plain": [
       "      연월일     시간    공급량\n",
       "구분                     \n",
       "A   52584  52584  52584\n",
       "B   52584  52584  52584\n",
       "C   52584  52584  52584\n",
       "D   52584  52584  52584\n",
       "E   52584  52584  52584\n",
       "G   52584  52584  52584\n",
       "H   52584  52584  52584"
      ]
     },
     "execution_count": 8,
     "metadata": {},
     "output_type": "execute_result"
    }
   ],
   "source": [
    "data.groupby([\"구분\"]).count()"
   ]
  },
  {
   "cell_type": "code",
   "execution_count": 9,
   "id": "4d550649",
   "metadata": {},
   "outputs": [
    {
     "data": {
      "text/plain": [
       "array(['A', 'B', 'C', 'D', 'E', 'G', 'H'], dtype=object)"
      ]
     },
     "execution_count": 9,
     "metadata": {},
     "output_type": "execute_result"
    }
   ],
   "source": [
    "data[\"구분\"].unique()"
   ]
  },
  {
   "cell_type": "code",
   "execution_count": null,
   "id": "c032baa0",
   "metadata": {},
   "outputs": [],
   "source": []
  },
  {
   "cell_type": "markdown",
   "id": "fbc43ddb",
   "metadata": {},
   "source": [
    "### 가스공급량 데이터 날짜 데이터 타입 변경"
   ]
  },
  {
   "cell_type": "code",
   "execution_count": 10,
   "id": "8aae2ae3",
   "metadata": {},
   "outputs": [
    {
     "data": {
      "text/html": [
       "<div>\n",
       "<style scoped>\n",
       "    .dataframe tbody tr th:only-of-type {\n",
       "        vertical-align: middle;\n",
       "    }\n",
       "\n",
       "    .dataframe tbody tr th {\n",
       "        vertical-align: top;\n",
       "    }\n",
       "\n",
       "    .dataframe thead th {\n",
       "        text-align: right;\n",
       "    }\n",
       "</style>\n",
       "<table border=\"1\" class=\"dataframe\">\n",
       "  <thead>\n",
       "    <tr style=\"text-align: right;\">\n",
       "      <th></th>\n",
       "      <th>연월일</th>\n",
       "      <th>시간</th>\n",
       "      <th>구분</th>\n",
       "      <th>공급량</th>\n",
       "    </tr>\n",
       "  </thead>\n",
       "  <tbody>\n",
       "    <tr>\n",
       "      <th>0</th>\n",
       "      <td>2013-01-01</td>\n",
       "      <td>1</td>\n",
       "      <td>A</td>\n",
       "      <td>2497.129</td>\n",
       "    </tr>\n",
       "    <tr>\n",
       "      <th>1</th>\n",
       "      <td>2013-01-01</td>\n",
       "      <td>2</td>\n",
       "      <td>A</td>\n",
       "      <td>2363.265</td>\n",
       "    </tr>\n",
       "    <tr>\n",
       "      <th>2</th>\n",
       "      <td>2013-01-01</td>\n",
       "      <td>3</td>\n",
       "      <td>A</td>\n",
       "      <td>2258.505</td>\n",
       "    </tr>\n",
       "  </tbody>\n",
       "</table>\n",
       "</div>"
      ],
      "text/plain": [
       "          연월일  시간 구분       공급량\n",
       "0  2013-01-01   1  A  2497.129\n",
       "1  2013-01-01   2  A  2363.265\n",
       "2  2013-01-01   3  A  2258.505"
      ]
     },
     "execution_count": 10,
     "metadata": {},
     "output_type": "execute_result"
    }
   ],
   "source": [
    "data.head(3)"
   ]
  },
  {
   "cell_type": "code",
   "execution_count": 11,
   "id": "fd1a2e53",
   "metadata": {},
   "outputs": [
    {
     "name": "stdout",
     "output_type": "stream",
     "text": [
      "<class 'pandas.core.frame.DataFrame'>\n",
      "RangeIndex: 368088 entries, 0 to 368087\n",
      "Data columns (total 4 columns):\n",
      " #   Column  Non-Null Count   Dtype  \n",
      "---  ------  --------------   -----  \n",
      " 0   연월일     368088 non-null  object \n",
      " 1   시간      368088 non-null  int64  \n",
      " 2   구분      368088 non-null  object \n",
      " 3   공급량     368088 non-null  float64\n",
      "dtypes: float64(1), int64(1), object(2)\n",
      "memory usage: 11.2+ MB\n"
     ]
    }
   ],
   "source": [
    "data.info()"
   ]
  },
  {
   "cell_type": "code",
   "execution_count": 12,
   "id": "cd705cda",
   "metadata": {},
   "outputs": [],
   "source": [
    "data[\"일시\"] = data[\"연월일\"] + \" \" + (data[\"시간\"] - 1).astype(str) + \":00:00\"\n",
    "# data[\"date\"] = data[\"연월일\"] + \" \" + data[\"시간\"].astype(str) + \":00:00\""
   ]
  },
  {
   "cell_type": "code",
   "execution_count": 13,
   "id": "63c3ed11",
   "metadata": {},
   "outputs": [
    {
     "data": {
      "text/html": [
       "<div>\n",
       "<style scoped>\n",
       "    .dataframe tbody tr th:only-of-type {\n",
       "        vertical-align: middle;\n",
       "    }\n",
       "\n",
       "    .dataframe tbody tr th {\n",
       "        vertical-align: top;\n",
       "    }\n",
       "\n",
       "    .dataframe thead th {\n",
       "        text-align: right;\n",
       "    }\n",
       "</style>\n",
       "<table border=\"1\" class=\"dataframe\">\n",
       "  <thead>\n",
       "    <tr style=\"text-align: right;\">\n",
       "      <th></th>\n",
       "      <th>연월일</th>\n",
       "      <th>시간</th>\n",
       "      <th>구분</th>\n",
       "      <th>공급량</th>\n",
       "      <th>일시</th>\n",
       "    </tr>\n",
       "  </thead>\n",
       "  <tbody>\n",
       "    <tr>\n",
       "      <th>0</th>\n",
       "      <td>2013-01-01</td>\n",
       "      <td>1</td>\n",
       "      <td>A</td>\n",
       "      <td>2497.129</td>\n",
       "      <td>2013-01-01 0:00:00</td>\n",
       "    </tr>\n",
       "    <tr>\n",
       "      <th>1</th>\n",
       "      <td>2013-01-01</td>\n",
       "      <td>2</td>\n",
       "      <td>A</td>\n",
       "      <td>2363.265</td>\n",
       "      <td>2013-01-01 1:00:00</td>\n",
       "    </tr>\n",
       "    <tr>\n",
       "      <th>2</th>\n",
       "      <td>2013-01-01</td>\n",
       "      <td>3</td>\n",
       "      <td>A</td>\n",
       "      <td>2258.505</td>\n",
       "      <td>2013-01-01 2:00:00</td>\n",
       "    </tr>\n",
       "  </tbody>\n",
       "</table>\n",
       "</div>"
      ],
      "text/plain": [
       "          연월일  시간 구분       공급량                  일시\n",
       "0  2013-01-01   1  A  2497.129  2013-01-01 0:00:00\n",
       "1  2013-01-01   2  A  2363.265  2013-01-01 1:00:00\n",
       "2  2013-01-01   3  A  2258.505  2013-01-01 2:00:00"
      ]
     },
     "execution_count": 13,
     "metadata": {},
     "output_type": "execute_result"
    }
   ],
   "source": [
    "data.head(3)"
   ]
  },
  {
   "cell_type": "code",
   "execution_count": 14,
   "id": "fe5d7dad",
   "metadata": {},
   "outputs": [],
   "source": [
    "data[\"일시\"] = pd.to_datetime(data[\"일시\"])"
   ]
  },
  {
   "cell_type": "code",
   "execution_count": 15,
   "id": "0a36d253",
   "metadata": {},
   "outputs": [
    {
     "name": "stdout",
     "output_type": "stream",
     "text": [
      "<class 'pandas.core.frame.DataFrame'>\n",
      "RangeIndex: 368088 entries, 0 to 368087\n",
      "Data columns (total 5 columns):\n",
      " #   Column  Non-Null Count   Dtype         \n",
      "---  ------  --------------   -----         \n",
      " 0   연월일     368088 non-null  object        \n",
      " 1   시간      368088 non-null  int64         \n",
      " 2   구분      368088 non-null  object        \n",
      " 3   공급량     368088 non-null  float64       \n",
      " 4   일시      368088 non-null  datetime64[ns]\n",
      "dtypes: datetime64[ns](1), float64(1), int64(1), object(2)\n",
      "memory usage: 14.0+ MB\n"
     ]
    }
   ],
   "source": [
    "data.info()"
   ]
  },
  {
   "cell_type": "code",
   "execution_count": 16,
   "id": "5f0f881f",
   "metadata": {},
   "outputs": [],
   "source": [
    "data[\"year\"] = data[\"일시\"].dt.year\n",
    "data[\"month\"] = data[\"일시\"].dt.month\n",
    "data[\"day\"] = data[\"일시\"].dt.day"
   ]
  },
  {
   "cell_type": "code",
   "execution_count": 17,
   "id": "323cb889",
   "metadata": {},
   "outputs": [
    {
     "data": {
      "text/html": [
       "<div>\n",
       "<style scoped>\n",
       "    .dataframe tbody tr th:only-of-type {\n",
       "        vertical-align: middle;\n",
       "    }\n",
       "\n",
       "    .dataframe tbody tr th {\n",
       "        vertical-align: top;\n",
       "    }\n",
       "\n",
       "    .dataframe thead th {\n",
       "        text-align: right;\n",
       "    }\n",
       "</style>\n",
       "<table border=\"1\" class=\"dataframe\">\n",
       "  <thead>\n",
       "    <tr style=\"text-align: right;\">\n",
       "      <th></th>\n",
       "      <th>연월일</th>\n",
       "      <th>시간</th>\n",
       "      <th>일시</th>\n",
       "      <th>year</th>\n",
       "      <th>month</th>\n",
       "      <th>day</th>\n",
       "      <th>구분</th>\n",
       "      <th>공급량</th>\n",
       "    </tr>\n",
       "  </thead>\n",
       "  <tbody>\n",
       "    <tr>\n",
       "      <th>0</th>\n",
       "      <td>2013-01-01</td>\n",
       "      <td>1</td>\n",
       "      <td>2013-01-01 00:00:00</td>\n",
       "      <td>2013</td>\n",
       "      <td>1</td>\n",
       "      <td>1</td>\n",
       "      <td>A</td>\n",
       "      <td>2497.129</td>\n",
       "    </tr>\n",
       "    <tr>\n",
       "      <th>1</th>\n",
       "      <td>2013-01-01</td>\n",
       "      <td>2</td>\n",
       "      <td>2013-01-01 01:00:00</td>\n",
       "      <td>2013</td>\n",
       "      <td>1</td>\n",
       "      <td>1</td>\n",
       "      <td>A</td>\n",
       "      <td>2363.265</td>\n",
       "    </tr>\n",
       "    <tr>\n",
       "      <th>2</th>\n",
       "      <td>2013-01-01</td>\n",
       "      <td>3</td>\n",
       "      <td>2013-01-01 02:00:00</td>\n",
       "      <td>2013</td>\n",
       "      <td>1</td>\n",
       "      <td>1</td>\n",
       "      <td>A</td>\n",
       "      <td>2258.505</td>\n",
       "    </tr>\n",
       "  </tbody>\n",
       "</table>\n",
       "</div>"
      ],
      "text/plain": [
       "          연월일  시간                  일시  year  month  day 구분       공급량\n",
       "0  2013-01-01   1 2013-01-01 00:00:00  2013      1    1  A  2497.129\n",
       "1  2013-01-01   2 2013-01-01 01:00:00  2013      1    1  A  2363.265\n",
       "2  2013-01-01   3 2013-01-01 02:00:00  2013      1    1  A  2258.505"
      ]
     },
     "execution_count": 17,
     "metadata": {},
     "output_type": "execute_result"
    }
   ],
   "source": [
    "data = data[[\"연월일\", \"시간\", \"일시\", \"year\", \"month\", \"day\", \"구분\", \"공급량\"]]\n",
    "data.head(3)"
   ]
  },
  {
   "cell_type": "code",
   "execution_count": 18,
   "id": "882bd318",
   "metadata": {},
   "outputs": [],
   "source": [
    "data.to_csv(\"../CSV/가스공급량.csv\", index = False)"
   ]
  },
  {
   "cell_type": "markdown",
   "id": "3c1b4a52",
   "metadata": {},
   "source": [
    "### 기상 데이터"
   ]
  },
  {
   "cell_type": "code",
   "execution_count": 23,
   "id": "6733d5e7",
   "metadata": {},
   "outputs": [
    {
     "name": "stdout",
     "output_type": "stream",
     "text": [
      "2013-01-01 ~ 2018-12-31 총 길이 : 52584\n",
      "2013년 길이 : 8760\n",
      "2014년 길이 : 8760\n",
      "2015년 길이 : 8760\n",
      "2016년 길이 : 8784\n",
      "2017년 길이 : 8760\n",
      "2018년 길이 : 8760\n"
     ]
    }
   ],
   "source": [
    "print(\"2013-01-01 ~ 2018-12-31 총 길이 : {}\".format(len(pd.date_range(start = \"2013-01-01 00:00:00\", \n",
    "                                                                    end = \"2018-12-31 23:00:00\", freq = \"1h\"))))\n",
    "for i in range(2013, 2019) :\n",
    "    print(\"{}년 길이 : {}\".format(i, len(pd.date_range(start = f\"{i}-01-01 00:00:00\", \n",
    "                                                    end = f\"{i}-12-31 23:00:00\", freq = \"1h\"))))"
   ]
  },
  {
   "cell_type": "markdown",
   "id": "1f30a7a2",
   "metadata": {},
   "source": [
    "### 2013년도 서울 기상 데이터 불러오기"
   ]
  },
  {
   "cell_type": "code",
   "execution_count": 68,
   "id": "8e864d08",
   "metadata": {},
   "outputs": [],
   "source": [
    "seoul = pd.read_csv(\"../CSV/서울 기상 데이터/2013_seoul_weather.csv\", encoding = 'cp949')"
   ]
  },
  {
   "cell_type": "code",
   "execution_count": 69,
   "id": "d7e678b0",
   "metadata": {},
   "outputs": [
    {
     "data": {
      "text/html": [
       "<div>\n",
       "<style scoped>\n",
       "    .dataframe tbody tr th:only-of-type {\n",
       "        vertical-align: middle;\n",
       "    }\n",
       "\n",
       "    .dataframe tbody tr th {\n",
       "        vertical-align: top;\n",
       "    }\n",
       "\n",
       "    .dataframe thead th {\n",
       "        text-align: right;\n",
       "    }\n",
       "</style>\n",
       "<table border=\"1\" class=\"dataframe\">\n",
       "  <thead>\n",
       "    <tr style=\"text-align: right;\">\n",
       "      <th></th>\n",
       "      <th>지점</th>\n",
       "      <th>지점명</th>\n",
       "      <th>일시</th>\n",
       "      <th>기온(°C)</th>\n",
       "      <th>기온 QC플래그</th>\n",
       "      <th>강수량(mm)</th>\n",
       "      <th>강수량 QC플래그</th>\n",
       "      <th>풍속(m/s)</th>\n",
       "      <th>풍속 QC플래그</th>\n",
       "      <th>풍향(16방위)</th>\n",
       "      <th>풍향 QC플래그</th>\n",
       "      <th>습도(%)</th>\n",
       "      <th>습도 QC플래그</th>\n",
       "      <th>증기압(hPa)</th>\n",
       "      <th>이슬점온도(°C)</th>\n",
       "      <th>현지기압(hPa)</th>\n",
       "      <th>현지기압 QC플래그</th>\n",
       "      <th>해면기압(hPa)</th>\n",
       "      <th>해면기압 QC플래그</th>\n",
       "      <th>일조(hr)</th>\n",
       "      <th>일조 QC플래그</th>\n",
       "      <th>일사(MJ/m2)</th>\n",
       "      <th>일사 QC플래그</th>\n",
       "      <th>적설(cm)</th>\n",
       "      <th>3시간신적설(cm)</th>\n",
       "      <th>전운량(10분위)</th>\n",
       "      <th>중하층운량(10분위)</th>\n",
       "      <th>운형(운형약어)</th>\n",
       "      <th>최저운고(100m )</th>\n",
       "      <th>시정(10m)</th>\n",
       "      <th>지면상태(지면상태코드)</th>\n",
       "      <th>현상번호(국내식)</th>\n",
       "      <th>지면온도(°C)</th>\n",
       "      <th>지면온도 QC플래그</th>\n",
       "      <th>5cm 지중온도(°C)</th>\n",
       "      <th>10cm 지중온도(°C)</th>\n",
       "      <th>20cm 지중온도(°C)</th>\n",
       "      <th>30cm 지중온도(°C)</th>\n",
       "    </tr>\n",
       "  </thead>\n",
       "  <tbody>\n",
       "    <tr>\n",
       "      <th>0</th>\n",
       "      <td>108</td>\n",
       "      <td>서울</td>\n",
       "      <td>2013-01-01 00:00</td>\n",
       "      <td>-8.3</td>\n",
       "      <td>0</td>\n",
       "      <td>NaN</td>\n",
       "      <td>NaN</td>\n",
       "      <td>3.6</td>\n",
       "      <td>0</td>\n",
       "      <td>50</td>\n",
       "      <td>0</td>\n",
       "      <td>56.0</td>\n",
       "      <td>0</td>\n",
       "      <td>1.8</td>\n",
       "      <td>-15.5</td>\n",
       "      <td>1010.3</td>\n",
       "      <td>0</td>\n",
       "      <td>1021.5</td>\n",
       "      <td>0</td>\n",
       "      <td>NaN</td>\n",
       "      <td>9</td>\n",
       "      <td>NaN</td>\n",
       "      <td>9</td>\n",
       "      <td>6.4</td>\n",
       "      <td>NaN</td>\n",
       "      <td>3.0</td>\n",
       "      <td>3.0</td>\n",
       "      <td>Sc</td>\n",
       "      <td>10.0</td>\n",
       "      <td>2000.0</td>\n",
       "      <td>NaN</td>\n",
       "      <td>NaN</td>\n",
       "      <td>-3.3</td>\n",
       "      <td>0</td>\n",
       "      <td>-2.9</td>\n",
       "      <td>-1.6</td>\n",
       "      <td>-0.5</td>\n",
       "      <td>0.3</td>\n",
       "    </tr>\n",
       "    <tr>\n",
       "      <th>1</th>\n",
       "      <td>108</td>\n",
       "      <td>서울</td>\n",
       "      <td>2013-01-01 01:00</td>\n",
       "      <td>-8.5</td>\n",
       "      <td>0</td>\n",
       "      <td>NaN</td>\n",
       "      <td>NaN</td>\n",
       "      <td>4.0</td>\n",
       "      <td>0</td>\n",
       "      <td>50</td>\n",
       "      <td>0</td>\n",
       "      <td>57.0</td>\n",
       "      <td>0</td>\n",
       "      <td>1.8</td>\n",
       "      <td>-15.5</td>\n",
       "      <td>1010.0</td>\n",
       "      <td>0</td>\n",
       "      <td>1021.2</td>\n",
       "      <td>0</td>\n",
       "      <td>NaN</td>\n",
       "      <td>9</td>\n",
       "      <td>NaN</td>\n",
       "      <td>9</td>\n",
       "      <td>6.4</td>\n",
       "      <td>NaN</td>\n",
       "      <td>NaN</td>\n",
       "      <td>NaN</td>\n",
       "      <td>NaN</td>\n",
       "      <td>NaN</td>\n",
       "      <td>NaN</td>\n",
       "      <td>NaN</td>\n",
       "      <td>NaN</td>\n",
       "      <td>-3.4</td>\n",
       "      <td>0</td>\n",
       "      <td>-2.9</td>\n",
       "      <td>-1.6</td>\n",
       "      <td>-0.5</td>\n",
       "      <td>0.3</td>\n",
       "    </tr>\n",
       "    <tr>\n",
       "      <th>2</th>\n",
       "      <td>108</td>\n",
       "      <td>서울</td>\n",
       "      <td>2013-01-01 02:00</td>\n",
       "      <td>-8.4</td>\n",
       "      <td>0</td>\n",
       "      <td>NaN</td>\n",
       "      <td>NaN</td>\n",
       "      <td>4.0</td>\n",
       "      <td>0</td>\n",
       "      <td>70</td>\n",
       "      <td>0</td>\n",
       "      <td>60.0</td>\n",
       "      <td>0</td>\n",
       "      <td>2.0</td>\n",
       "      <td>-14.7</td>\n",
       "      <td>1009.4</td>\n",
       "      <td>0</td>\n",
       "      <td>1020.6</td>\n",
       "      <td>0</td>\n",
       "      <td>NaN</td>\n",
       "      <td>9</td>\n",
       "      <td>NaN</td>\n",
       "      <td>9</td>\n",
       "      <td>6.4</td>\n",
       "      <td>NaN</td>\n",
       "      <td>NaN</td>\n",
       "      <td>NaN</td>\n",
       "      <td>NaN</td>\n",
       "      <td>NaN</td>\n",
       "      <td>NaN</td>\n",
       "      <td>NaN</td>\n",
       "      <td>NaN</td>\n",
       "      <td>-3.4</td>\n",
       "      <td>0</td>\n",
       "      <td>-3.0</td>\n",
       "      <td>-1.6</td>\n",
       "      <td>-0.5</td>\n",
       "      <td>0.4</td>\n",
       "    </tr>\n",
       "  </tbody>\n",
       "</table>\n",
       "</div>"
      ],
      "text/plain": [
       "    지점 지점명                일시  기온(°C)  기온 QC플래그  강수량(mm)  강수량 QC플래그  풍속(m/s)  \\\n",
       "0  108  서울  2013-01-01 00:00    -8.3         0      NaN        NaN      3.6   \n",
       "1  108  서울  2013-01-01 01:00    -8.5         0      NaN        NaN      4.0   \n",
       "2  108  서울  2013-01-01 02:00    -8.4         0      NaN        NaN      4.0   \n",
       "\n",
       "   풍속 QC플래그  풍향(16방위)  풍향 QC플래그  습도(%)  습도 QC플래그  증기압(hPa)  이슬점온도(°C)  \\\n",
       "0         0        50         0   56.0         0       1.8      -15.5   \n",
       "1         0        50         0   57.0         0       1.8      -15.5   \n",
       "2         0        70         0   60.0         0       2.0      -14.7   \n",
       "\n",
       "   현지기압(hPa)  현지기압 QC플래그  해면기압(hPa)  해면기압 QC플래그  일조(hr)  일조 QC플래그  일사(MJ/m2)  \\\n",
       "0     1010.3           0     1021.5           0     NaN         9        NaN   \n",
       "1     1010.0           0     1021.2           0     NaN         9        NaN   \n",
       "2     1009.4           0     1020.6           0     NaN         9        NaN   \n",
       "\n",
       "   일사 QC플래그  적설(cm)  3시간신적설(cm)  전운량(10분위)  중하층운량(10분위) 운형(운형약어)  최저운고(100m )  \\\n",
       "0         9     6.4         NaN        3.0          3.0       Sc         10.0   \n",
       "1         9     6.4         NaN        NaN          NaN      NaN          NaN   \n",
       "2         9     6.4         NaN        NaN          NaN      NaN          NaN   \n",
       "\n",
       "   시정(10m)  지면상태(지면상태코드)  현상번호(국내식)  지면온도(°C)  지면온도 QC플래그  5cm 지중온도(°C)  \\\n",
       "0   2000.0           NaN        NaN      -3.3           0          -2.9   \n",
       "1      NaN           NaN        NaN      -3.4           0          -2.9   \n",
       "2      NaN           NaN        NaN      -3.4           0          -3.0   \n",
       "\n",
       "   10cm 지중온도(°C)  20cm 지중온도(°C)  30cm 지중온도(°C)  \n",
       "0           -1.6           -0.5            0.3  \n",
       "1           -1.6           -0.5            0.3  \n",
       "2           -1.6           -0.5            0.4  "
      ]
     },
     "execution_count": 69,
     "metadata": {},
     "output_type": "execute_result"
    }
   ],
   "source": [
    "seoul.head(3)"
   ]
  },
  {
   "cell_type": "code",
   "execution_count": 70,
   "id": "9aa652e8",
   "metadata": {},
   "outputs": [
    {
     "data": {
      "text/html": [
       "<div>\n",
       "<style scoped>\n",
       "    .dataframe tbody tr th:only-of-type {\n",
       "        vertical-align: middle;\n",
       "    }\n",
       "\n",
       "    .dataframe tbody tr th {\n",
       "        vertical-align: top;\n",
       "    }\n",
       "\n",
       "    .dataframe thead th {\n",
       "        text-align: right;\n",
       "    }\n",
       "</style>\n",
       "<table border=\"1\" class=\"dataframe\">\n",
       "  <thead>\n",
       "    <tr style=\"text-align: right;\">\n",
       "      <th></th>\n",
       "      <th>지점</th>\n",
       "      <th>지점명</th>\n",
       "      <th>일시</th>\n",
       "      <th>기온(°C)</th>\n",
       "      <th>기온 QC플래그</th>\n",
       "      <th>강수량(mm)</th>\n",
       "      <th>강수량 QC플래그</th>\n",
       "      <th>풍속(m/s)</th>\n",
       "      <th>풍속 QC플래그</th>\n",
       "      <th>풍향(16방위)</th>\n",
       "      <th>풍향 QC플래그</th>\n",
       "      <th>습도(%)</th>\n",
       "      <th>습도 QC플래그</th>\n",
       "      <th>증기압(hPa)</th>\n",
       "      <th>이슬점온도(°C)</th>\n",
       "      <th>현지기압(hPa)</th>\n",
       "      <th>현지기압 QC플래그</th>\n",
       "      <th>해면기압(hPa)</th>\n",
       "      <th>해면기압 QC플래그</th>\n",
       "      <th>일조(hr)</th>\n",
       "      <th>일조 QC플래그</th>\n",
       "      <th>일사(MJ/m2)</th>\n",
       "      <th>일사 QC플래그</th>\n",
       "      <th>적설(cm)</th>\n",
       "      <th>3시간신적설(cm)</th>\n",
       "      <th>전운량(10분위)</th>\n",
       "      <th>중하층운량(10분위)</th>\n",
       "      <th>운형(운형약어)</th>\n",
       "      <th>최저운고(100m )</th>\n",
       "      <th>시정(10m)</th>\n",
       "      <th>지면상태(지면상태코드)</th>\n",
       "      <th>현상번호(국내식)</th>\n",
       "      <th>지면온도(°C)</th>\n",
       "      <th>지면온도 QC플래그</th>\n",
       "      <th>5cm 지중온도(°C)</th>\n",
       "      <th>10cm 지중온도(°C)</th>\n",
       "      <th>20cm 지중온도(°C)</th>\n",
       "      <th>30cm 지중온도(°C)</th>\n",
       "    </tr>\n",
       "  </thead>\n",
       "  <tbody>\n",
       "    <tr>\n",
       "      <th>8757</th>\n",
       "      <td>108</td>\n",
       "      <td>서울</td>\n",
       "      <td>2013-12-31 21:00</td>\n",
       "      <td>4.9</td>\n",
       "      <td>0</td>\n",
       "      <td>NaN</td>\n",
       "      <td>NaN</td>\n",
       "      <td>3.9</td>\n",
       "      <td>0</td>\n",
       "      <td>270</td>\n",
       "      <td>0</td>\n",
       "      <td>64.0</td>\n",
       "      <td>0</td>\n",
       "      <td>5.6</td>\n",
       "      <td>-1.3</td>\n",
       "      <td>999.6</td>\n",
       "      <td>0</td>\n",
       "      <td>1010.1</td>\n",
       "      <td>0</td>\n",
       "      <td>NaN</td>\n",
       "      <td>9</td>\n",
       "      <td>NaN</td>\n",
       "      <td>9</td>\n",
       "      <td>NaN</td>\n",
       "      <td>NaN</td>\n",
       "      <td>6.0</td>\n",
       "      <td>6.0</td>\n",
       "      <td>Sc</td>\n",
       "      <td>10.0</td>\n",
       "      <td>600.0</td>\n",
       "      <td>1.0</td>\n",
       "      <td>40.0</td>\n",
       "      <td>0.1</td>\n",
       "      <td>0</td>\n",
       "      <td>0.2</td>\n",
       "      <td>-0.2</td>\n",
       "      <td>0.0</td>\n",
       "      <td>1.5</td>\n",
       "    </tr>\n",
       "    <tr>\n",
       "      <th>8758</th>\n",
       "      <td>108</td>\n",
       "      <td>서울</td>\n",
       "      <td>2013-12-31 22:00</td>\n",
       "      <td>4.2</td>\n",
       "      <td>0</td>\n",
       "      <td>NaN</td>\n",
       "      <td>NaN</td>\n",
       "      <td>3.6</td>\n",
       "      <td>0</td>\n",
       "      <td>270</td>\n",
       "      <td>0</td>\n",
       "      <td>62.0</td>\n",
       "      <td>0</td>\n",
       "      <td>5.1</td>\n",
       "      <td>-2.4</td>\n",
       "      <td>1000.4</td>\n",
       "      <td>0</td>\n",
       "      <td>1011.0</td>\n",
       "      <td>0</td>\n",
       "      <td>NaN</td>\n",
       "      <td>9</td>\n",
       "      <td>NaN</td>\n",
       "      <td>9</td>\n",
       "      <td>NaN</td>\n",
       "      <td>NaN</td>\n",
       "      <td>NaN</td>\n",
       "      <td>NaN</td>\n",
       "      <td>NaN</td>\n",
       "      <td>NaN</td>\n",
       "      <td>NaN</td>\n",
       "      <td>NaN</td>\n",
       "      <td>40.0</td>\n",
       "      <td>0.1</td>\n",
       "      <td>0</td>\n",
       "      <td>0.2</td>\n",
       "      <td>-0.2</td>\n",
       "      <td>0.0</td>\n",
       "      <td>1.5</td>\n",
       "    </tr>\n",
       "    <tr>\n",
       "      <th>8759</th>\n",
       "      <td>108</td>\n",
       "      <td>서울</td>\n",
       "      <td>2013-12-31 23:00</td>\n",
       "      <td>3.7</td>\n",
       "      <td>0</td>\n",
       "      <td>NaN</td>\n",
       "      <td>NaN</td>\n",
       "      <td>3.2</td>\n",
       "      <td>0</td>\n",
       "      <td>250</td>\n",
       "      <td>0</td>\n",
       "      <td>61.0</td>\n",
       "      <td>0</td>\n",
       "      <td>4.9</td>\n",
       "      <td>-3.1</td>\n",
       "      <td>1001.2</td>\n",
       "      <td>0</td>\n",
       "      <td>1011.8</td>\n",
       "      <td>0</td>\n",
       "      <td>NaN</td>\n",
       "      <td>9</td>\n",
       "      <td>NaN</td>\n",
       "      <td>9</td>\n",
       "      <td>NaN</td>\n",
       "      <td>NaN</td>\n",
       "      <td>NaN</td>\n",
       "      <td>NaN</td>\n",
       "      <td>NaN</td>\n",
       "      <td>NaN</td>\n",
       "      <td>NaN</td>\n",
       "      <td>NaN</td>\n",
       "      <td>40.0</td>\n",
       "      <td>0.1</td>\n",
       "      <td>0</td>\n",
       "      <td>0.2</td>\n",
       "      <td>-0.2</td>\n",
       "      <td>0.1</td>\n",
       "      <td>1.5</td>\n",
       "    </tr>\n",
       "  </tbody>\n",
       "</table>\n",
       "</div>"
      ],
      "text/plain": [
       "       지점 지점명                일시  기온(°C)  기온 QC플래그  강수량(mm)  강수량 QC플래그  \\\n",
       "8757  108  서울  2013-12-31 21:00     4.9         0      NaN        NaN   \n",
       "8758  108  서울  2013-12-31 22:00     4.2         0      NaN        NaN   \n",
       "8759  108  서울  2013-12-31 23:00     3.7         0      NaN        NaN   \n",
       "\n",
       "      풍속(m/s)  풍속 QC플래그  풍향(16방위)  풍향 QC플래그  습도(%)  습도 QC플래그  증기압(hPa)  \\\n",
       "8757      3.9         0       270         0   64.0         0       5.6   \n",
       "8758      3.6         0       270         0   62.0         0       5.1   \n",
       "8759      3.2         0       250         0   61.0         0       4.9   \n",
       "\n",
       "      이슬점온도(°C)  현지기압(hPa)  현지기압 QC플래그  해면기압(hPa)  해면기압 QC플래그  일조(hr)  \\\n",
       "8757       -1.3      999.6           0     1010.1           0     NaN   \n",
       "8758       -2.4     1000.4           0     1011.0           0     NaN   \n",
       "8759       -3.1     1001.2           0     1011.8           0     NaN   \n",
       "\n",
       "      일조 QC플래그  일사(MJ/m2)  일사 QC플래그  적설(cm)  3시간신적설(cm)  전운량(10분위)  \\\n",
       "8757         9        NaN         9     NaN         NaN        6.0   \n",
       "8758         9        NaN         9     NaN         NaN        NaN   \n",
       "8759         9        NaN         9     NaN         NaN        NaN   \n",
       "\n",
       "      중하층운량(10분위) 운형(운형약어)  최저운고(100m )  시정(10m)  지면상태(지면상태코드)  현상번호(국내식)  \\\n",
       "8757          6.0       Sc         10.0    600.0           1.0       40.0   \n",
       "8758          NaN      NaN          NaN      NaN           NaN       40.0   \n",
       "8759          NaN      NaN          NaN      NaN           NaN       40.0   \n",
       "\n",
       "      지면온도(°C)  지면온도 QC플래그  5cm 지중온도(°C)  10cm 지중온도(°C)  20cm 지중온도(°C)  \\\n",
       "8757       0.1           0           0.2           -0.2            0.0   \n",
       "8758       0.1           0           0.2           -0.2            0.0   \n",
       "8759       0.1           0           0.2           -0.2            0.1   \n",
       "\n",
       "      30cm 지중온도(°C)  \n",
       "8757            1.5  \n",
       "8758            1.5  \n",
       "8759            1.5  "
      ]
     },
     "execution_count": 70,
     "metadata": {},
     "output_type": "execute_result"
    }
   ],
   "source": [
    "seoul.tail(3)"
   ]
  },
  {
   "cell_type": "markdown",
   "id": "2396ba16",
   "metadata": {},
   "source": [
    "### 2013년 데이터에 2014 ~ 2018년도 서울 기상 데이터 병합"
   ]
  },
  {
   "cell_type": "code",
   "execution_count": 71,
   "id": "68e0e0c3",
   "metadata": {},
   "outputs": [
    {
     "name": "stdout",
     "output_type": "stream",
     "text": [
      "2014 temp shape : (8760, 38)\n",
      "2015 temp shape : (8760, 38)\n",
      "2016 temp shape : (8784, 38)\n",
      "2017 temp shape : (8760, 38)\n",
      "2018 temp shape : (8760, 38)\n"
     ]
    }
   ],
   "source": [
    "for i in range(2014, 2019) :\n",
    "    path = \"../CSV/서울 기상 데이터/\" + str(i) + \"_seoul_weather.csv\"\n",
    "#     print(path)\n",
    "    temp = pd.read_csv(path, encoding = 'cp949')\n",
    "    \n",
    "    seoul = pd.concat([seoul, temp], ignore_index = True)\n",
    "    \n",
    "    print(f\"{i} temp shape : {temp.shape}\")"
   ]
  },
  {
   "cell_type": "code",
   "execution_count": 72,
   "id": "64a4cf46",
   "metadata": {},
   "outputs": [
    {
     "data": {
      "text/plain": [
       "(52584, 38)"
      ]
     },
     "execution_count": 72,
     "metadata": {},
     "output_type": "execute_result"
    }
   ],
   "source": [
    "seoul.shape"
   ]
  },
  {
   "cell_type": "code",
   "execution_count": 73,
   "id": "17e82e80",
   "metadata": {},
   "outputs": [
    {
     "name": "stdout",
     "output_type": "stream",
     "text": [
      "<class 'pandas.core.frame.DataFrame'>\n",
      "RangeIndex: 52584 entries, 0 to 52583\n",
      "Data columns (total 38 columns):\n",
      " #   Column         Non-Null Count  Dtype  \n",
      "---  ------         --------------  -----  \n",
      " 0   지점             52584 non-null  int64  \n",
      " 1   지점명            52584 non-null  object \n",
      " 2   일시             52584 non-null  object \n",
      " 3   기온(°C)         52578 non-null  float64\n",
      " 4   기온 QC플래그       51095 non-null  float64\n",
      " 5   강수량(mm)        4944 non-null   float64\n",
      " 6   강수량 QC플래그      13808 non-null  float64\n",
      " 7   풍속(m/s)        52538 non-null  float64\n",
      " 8   풍속 QC플래그       50893 non-null  float64\n",
      " 9   풍향(16방위)       52478 non-null  float64\n",
      " 10  풍향 QC플래그       50893 non-null  float64\n",
      " 11  습도(%)          52537 non-null  float64\n",
      " 12  습도 QC플래그       51095 non-null  float64\n",
      " 13  증기압(hPa)       52572 non-null  float64\n",
      " 14  이슬점온도(°C)      52554 non-null  float64\n",
      " 15  현지기압(hPa)      52527 non-null  float64\n",
      " 16  현지기압 QC플래그     51095 non-null  float64\n",
      " 17  해면기압(hPa)      52579 non-null  float64\n",
      " 18  해면기압 QC플래그     51095 non-null  float64\n",
      " 19  일조(hr)         28355 non-null  float64\n",
      " 20  일조 QC플래그       51550 non-null  float64\n",
      " 21  일사(MJ/m2)      28529 non-null  float64\n",
      " 22  일사 QC플래그       51550 non-null  float64\n",
      " 23  적설(cm)         2395 non-null   float64\n",
      " 24  3시간신적설(cm)     153 non-null    float64\n",
      " 25  전운량(10분위)      41537 non-null  float64\n",
      " 26  중하층운량(10분위)    45414 non-null  float64\n",
      " 27  운형(운형약어)       29208 non-null  object \n",
      " 28  최저운고(100m )    24774 non-null  float64\n",
      " 29  시정(10m)        48238 non-null  float64\n",
      " 30  지면상태(지면상태코드)   5116 non-null   float64\n",
      " 31  현상번호(국내식)      18860 non-null  float64\n",
      " 32  지면온도(°C)       52527 non-null  float64\n",
      " 33  지면온도 QC플래그     51095 non-null  float64\n",
      " 34  5cm 지중온도(°C)   52526 non-null  float64\n",
      " 35  10cm 지중온도(°C)  52533 non-null  float64\n",
      " 36  20cm 지중온도(°C)  52511 non-null  float64\n",
      " 37  30cm 지중온도(°C)  52421 non-null  float64\n",
      "dtypes: float64(34), int64(1), object(3)\n",
      "memory usage: 15.2+ MB\n"
     ]
    }
   ],
   "source": [
    "seoul.info()"
   ]
  },
  {
   "cell_type": "markdown",
   "id": "8cdadfba",
   "metadata": {},
   "source": [
    "### 기온(°C) 컬럼 결측치 확인"
   ]
  },
  {
   "cell_type": "code",
   "execution_count": 74,
   "id": "b4646d1c",
   "metadata": {},
   "outputs": [
    {
     "data": {
      "text/plain": [
       "17520   NaN\n",
       "41513   NaN\n",
       "41895   NaN\n",
       "41896   NaN\n",
       "41897   NaN\n",
       "51810   NaN\n",
       "Name: 기온(°C), dtype: float64"
      ]
     },
     "execution_count": 74,
     "metadata": {},
     "output_type": "execute_result"
    }
   ],
   "source": [
    "# gn.loc[gn[\"기온(°C)\"].isnull(), \"기온(°C)\"]\n",
    "# gn.loc[1805 : 1809, [\"일시\", \"기온(°C)\"]]\n",
    "# gn.loc[8830 : 8837, [\"일시\", \"기온(°C)\"]]\n",
    "seoul.loc[seoul[\"기온(°C)\"].isnull(), \"기온(°C)\"]"
   ]
  },
  {
   "cell_type": "markdown",
   "id": "17e922e1",
   "metadata": {},
   "source": [
    "### 17520 결측치 제거\n",
    "* 17519, 17521 평균으로 대체"
   ]
  },
  {
   "cell_type": "code",
   "execution_count": 75,
   "id": "1850a364",
   "metadata": {},
   "outputs": [
    {
     "data": {
      "text/html": [
       "<div>\n",
       "<style scoped>\n",
       "    .dataframe tbody tr th:only-of-type {\n",
       "        vertical-align: middle;\n",
       "    }\n",
       "\n",
       "    .dataframe tbody tr th {\n",
       "        vertical-align: top;\n",
       "    }\n",
       "\n",
       "    .dataframe thead th {\n",
       "        text-align: right;\n",
       "    }\n",
       "</style>\n",
       "<table border=\"1\" class=\"dataframe\">\n",
       "  <thead>\n",
       "    <tr style=\"text-align: right;\">\n",
       "      <th></th>\n",
       "      <th>일시</th>\n",
       "      <th>기온(°C)</th>\n",
       "    </tr>\n",
       "  </thead>\n",
       "  <tbody>\n",
       "    <tr>\n",
       "      <th>17518</th>\n",
       "      <td>2014-12-31 22:00</td>\n",
       "      <td>-5.4</td>\n",
       "    </tr>\n",
       "    <tr>\n",
       "      <th>17519</th>\n",
       "      <td>2014-12-31 23:00</td>\n",
       "      <td>-6.2</td>\n",
       "    </tr>\n",
       "    <tr>\n",
       "      <th>17520</th>\n",
       "      <td>2015-01-01 00:00</td>\n",
       "      <td>NaN</td>\n",
       "    </tr>\n",
       "    <tr>\n",
       "      <th>17521</th>\n",
       "      <td>2015-01-01 01:00</td>\n",
       "      <td>-7.4</td>\n",
       "    </tr>\n",
       "    <tr>\n",
       "      <th>17522</th>\n",
       "      <td>2015-01-01 02:00</td>\n",
       "      <td>-8.0</td>\n",
       "    </tr>\n",
       "  </tbody>\n",
       "</table>\n",
       "</div>"
      ],
      "text/plain": [
       "                     일시  기온(°C)\n",
       "17518  2014-12-31 22:00    -5.4\n",
       "17519  2014-12-31 23:00    -6.2\n",
       "17520  2015-01-01 00:00     NaN\n",
       "17521  2015-01-01 01:00    -7.4\n",
       "17522  2015-01-01 02:00    -8.0"
      ]
     },
     "execution_count": 75,
     "metadata": {},
     "output_type": "execute_result"
    }
   ],
   "source": [
    "seoul.loc[17518 : 17522, [\"일시\", \"기온(°C)\"]]"
   ]
  },
  {
   "cell_type": "code",
   "execution_count": 126,
   "id": "ea5f13ca",
   "metadata": {},
   "outputs": [
    {
     "name": "stdout",
     "output_type": "stream",
     "text": [
      "17519 : -6.2\n",
      "17520 : nan\n",
      "17521 : -7.4\n"
     ]
    }
   ],
   "source": [
    "print(\"17519 : {}\".format(seoul.loc[17519, \"기온(°C)\"]))\n",
    "print(\"17520 : {}\".format(seoul.loc[17520, \"기온(°C)\"]))\n",
    "print(\"17521 : {}\".format(seoul.loc[17521, \"기온(°C)\"]))"
   ]
  },
  {
   "cell_type": "code",
   "execution_count": 127,
   "id": "6ff2deb2",
   "metadata": {},
   "outputs": [
    {
     "data": {
      "text/plain": [
       "일시        2015-01-01 00:00\n",
       "기온(°C)                 NaN\n",
       "Name: 17520, dtype: object"
      ]
     },
     "execution_count": 127,
     "metadata": {},
     "output_type": "execute_result"
    }
   ],
   "source": [
    "seoul.loc[17520, [\"일시\", \"기온(°C)\"]]"
   ]
  },
  {
   "cell_type": "code",
   "execution_count": 133,
   "id": "37af4fcb",
   "metadata": {},
   "outputs": [
    {
     "data": {
      "text/plain": [
       "-6.8"
      ]
     },
     "execution_count": 133,
     "metadata": {},
     "output_type": "execute_result"
    }
   ],
   "source": [
    "temperature = np.array([seoul.loc[17519, \"기온(°C)\"], seoul.loc[17521, \"기온(°C)\"]]).mean()\n",
    "seoul.loc[17520, \"기온(°C)\"] = round(temperature, 1)\n",
    "seoul.loc[17520, \"기온(°C)\"]"
   ]
  },
  {
   "cell_type": "code",
   "execution_count": 134,
   "id": "8b9d8036",
   "metadata": {},
   "outputs": [
    {
     "name": "stdout",
     "output_type": "stream",
     "text": [
      "17519 : -6.2\n",
      "17520 : -6.8\n",
      "17521 : -7.4\n"
     ]
    }
   ],
   "source": [
    "print(\"17519 : {}\".format(seoul.loc[17519, \"기온(°C)\"]))\n",
    "print(\"17520 : {}\".format(seoul.loc[17520, \"기온(°C)\"]))\n",
    "print(\"17521 : {}\".format(seoul.loc[17521, \"기온(°C)\"]))"
   ]
  },
  {
   "cell_type": "markdown",
   "id": "a2742211",
   "metadata": {},
   "source": [
    "### 41513 결측치 제거\n",
    "* 41512, 41514 평균으로 대체"
   ]
  },
  {
   "cell_type": "code",
   "execution_count": 76,
   "id": "d173e787",
   "metadata": {},
   "outputs": [
    {
     "data": {
      "text/html": [
       "<div>\n",
       "<style scoped>\n",
       "    .dataframe tbody tr th:only-of-type {\n",
       "        vertical-align: middle;\n",
       "    }\n",
       "\n",
       "    .dataframe tbody tr th {\n",
       "        vertical-align: top;\n",
       "    }\n",
       "\n",
       "    .dataframe thead th {\n",
       "        text-align: right;\n",
       "    }\n",
       "</style>\n",
       "<table border=\"1\" class=\"dataframe\">\n",
       "  <thead>\n",
       "    <tr style=\"text-align: right;\">\n",
       "      <th></th>\n",
       "      <th>일시</th>\n",
       "      <th>기온(°C)</th>\n",
       "    </tr>\n",
       "  </thead>\n",
       "  <tbody>\n",
       "    <tr>\n",
       "      <th>41511</th>\n",
       "      <td>2017-09-26 15:00</td>\n",
       "      <td>31.1</td>\n",
       "    </tr>\n",
       "    <tr>\n",
       "      <th>41512</th>\n",
       "      <td>2017-09-26 16:00</td>\n",
       "      <td>30.4</td>\n",
       "    </tr>\n",
       "    <tr>\n",
       "      <th>41513</th>\n",
       "      <td>2017-09-26 17:00</td>\n",
       "      <td>NaN</td>\n",
       "    </tr>\n",
       "    <tr>\n",
       "      <th>41514</th>\n",
       "      <td>2017-09-26 18:00</td>\n",
       "      <td>27.9</td>\n",
       "    </tr>\n",
       "    <tr>\n",
       "      <th>41515</th>\n",
       "      <td>2017-09-26 19:00</td>\n",
       "      <td>26.4</td>\n",
       "    </tr>\n",
       "  </tbody>\n",
       "</table>\n",
       "</div>"
      ],
      "text/plain": [
       "                     일시  기온(°C)\n",
       "41511  2017-09-26 15:00    31.1\n",
       "41512  2017-09-26 16:00    30.4\n",
       "41513  2017-09-26 17:00     NaN\n",
       "41514  2017-09-26 18:00    27.9\n",
       "41515  2017-09-26 19:00    26.4"
      ]
     },
     "execution_count": 76,
     "metadata": {},
     "output_type": "execute_result"
    }
   ],
   "source": [
    "seoul.loc[41511 : 41515, [\"일시\", \"기온(°C)\"]]"
   ]
  },
  {
   "cell_type": "code",
   "execution_count": 135,
   "id": "1d21e2bf",
   "metadata": {},
   "outputs": [
    {
     "name": "stdout",
     "output_type": "stream",
     "text": [
      "41512 : 30.4\n",
      "41513 : nan\n",
      "41514 : 27.9\n"
     ]
    }
   ],
   "source": [
    "print(\"41512 : {}\".format(seoul.loc[41512, \"기온(°C)\"]))\n",
    "print(\"41513 : {}\".format(seoul.loc[41513, \"기온(°C)\"]))\n",
    "print(\"41514 : {}\".format(seoul.loc[41514, \"기온(°C)\"]))"
   ]
  },
  {
   "cell_type": "code",
   "execution_count": 136,
   "id": "95bbeaa5",
   "metadata": {},
   "outputs": [
    {
     "data": {
      "text/plain": [
       "일시        2017-09-26 17:00\n",
       "기온(°C)                 NaN\n",
       "Name: 41513, dtype: object"
      ]
     },
     "execution_count": 136,
     "metadata": {},
     "output_type": "execute_result"
    }
   ],
   "source": [
    "seoul.loc[41513, [\"일시\", \"기온(°C)\"]]"
   ]
  },
  {
   "cell_type": "code",
   "execution_count": 137,
   "id": "142d10f6",
   "metadata": {},
   "outputs": [
    {
     "data": {
      "text/plain": [
       "29.2"
      ]
     },
     "execution_count": 137,
     "metadata": {},
     "output_type": "execute_result"
    }
   ],
   "source": [
    "temperature = np.array([seoul.loc[41512, \"기온(°C)\"], seoul.loc[41514, \"기온(°C)\"]]).mean()\n",
    "seoul.loc[41513, \"기온(°C)\"] = round(temperature, 1)\n",
    "seoul.loc[41513, \"기온(°C)\"]"
   ]
  },
  {
   "cell_type": "code",
   "execution_count": 138,
   "id": "79be46dc",
   "metadata": {},
   "outputs": [
    {
     "name": "stdout",
     "output_type": "stream",
     "text": [
      "41512 : 30.4\n",
      "41513 : 29.2\n",
      "41514 : 27.9\n"
     ]
    }
   ],
   "source": [
    "print(\"41512 : {}\".format(seoul.loc[41512, \"기온(°C)\"]))\n",
    "print(\"41513 : {}\".format(seoul.loc[41513, \"기온(°C)\"]))\n",
    "print(\"41514 : {}\".format(seoul.loc[41514, \"기온(°C)\"]))"
   ]
  },
  {
   "cell_type": "markdown",
   "id": "848499cd",
   "metadata": {},
   "source": [
    "### 41895, 41896, 41897 결측치 제거\n",
    "* 41894와 41898 사이의 일정한 비율로 커지는 3개의 값 찾아 대체\n",
    "* (41898 - 41894) / 4\n",
    "* 위 값을 41894에 일정하게 더한 값으로 대체"
   ]
  },
  {
   "cell_type": "code",
   "execution_count": 77,
   "id": "01de4e18",
   "metadata": {},
   "outputs": [
    {
     "data": {
      "text/html": [
       "<div>\n",
       "<style scoped>\n",
       "    .dataframe tbody tr th:only-of-type {\n",
       "        vertical-align: middle;\n",
       "    }\n",
       "\n",
       "    .dataframe tbody tr th {\n",
       "        vertical-align: top;\n",
       "    }\n",
       "\n",
       "    .dataframe thead th {\n",
       "        text-align: right;\n",
       "    }\n",
       "</style>\n",
       "<table border=\"1\" class=\"dataframe\">\n",
       "  <thead>\n",
       "    <tr style=\"text-align: right;\">\n",
       "      <th></th>\n",
       "      <th>일시</th>\n",
       "      <th>기온(°C)</th>\n",
       "    </tr>\n",
       "  </thead>\n",
       "  <tbody>\n",
       "    <tr>\n",
       "      <th>41893</th>\n",
       "      <td>2017-10-12 13:00</td>\n",
       "      <td>13.5</td>\n",
       "    </tr>\n",
       "    <tr>\n",
       "      <th>41894</th>\n",
       "      <td>2017-10-12 14:00</td>\n",
       "      <td>13.7</td>\n",
       "    </tr>\n",
       "    <tr>\n",
       "      <th>41895</th>\n",
       "      <td>2017-10-12 15:00</td>\n",
       "      <td>NaN</td>\n",
       "    </tr>\n",
       "    <tr>\n",
       "      <th>41896</th>\n",
       "      <td>2017-10-12 16:00</td>\n",
       "      <td>NaN</td>\n",
       "    </tr>\n",
       "    <tr>\n",
       "      <th>41897</th>\n",
       "      <td>2017-10-12 17:00</td>\n",
       "      <td>NaN</td>\n",
       "    </tr>\n",
       "    <tr>\n",
       "      <th>41898</th>\n",
       "      <td>2017-10-12 18:00</td>\n",
       "      <td>12.8</td>\n",
       "    </tr>\n",
       "    <tr>\n",
       "      <th>41899</th>\n",
       "      <td>2017-10-12 19:00</td>\n",
       "      <td>11.5</td>\n",
       "    </tr>\n",
       "    <tr>\n",
       "      <th>41900</th>\n",
       "      <td>2017-10-12 20:00</td>\n",
       "      <td>10.6</td>\n",
       "    </tr>\n",
       "  </tbody>\n",
       "</table>\n",
       "</div>"
      ],
      "text/plain": [
       "                     일시  기온(°C)\n",
       "41893  2017-10-12 13:00    13.5\n",
       "41894  2017-10-12 14:00    13.7\n",
       "41895  2017-10-12 15:00     NaN\n",
       "41896  2017-10-12 16:00     NaN\n",
       "41897  2017-10-12 17:00     NaN\n",
       "41898  2017-10-12 18:00    12.8\n",
       "41899  2017-10-12 19:00    11.5\n",
       "41900  2017-10-12 20:00    10.6"
      ]
     },
     "execution_count": 77,
     "metadata": {},
     "output_type": "execute_result"
    }
   ],
   "source": [
    "seoul.loc[41893 : 41900, [\"일시\", \"기온(°C)\"]]"
   ]
  },
  {
   "cell_type": "code",
   "execution_count": 125,
   "id": "f176939e",
   "metadata": {},
   "outputs": [
    {
     "data": {
      "text/html": [
       "<div>\n",
       "<style scoped>\n",
       "    .dataframe tbody tr th:only-of-type {\n",
       "        vertical-align: middle;\n",
       "    }\n",
       "\n",
       "    .dataframe tbody tr th {\n",
       "        vertical-align: top;\n",
       "    }\n",
       "\n",
       "    .dataframe thead th {\n",
       "        text-align: right;\n",
       "    }\n",
       "</style>\n",
       "<table border=\"1\" class=\"dataframe\">\n",
       "  <thead>\n",
       "    <tr style=\"text-align: right;\">\n",
       "      <th></th>\n",
       "      <th>일시</th>\n",
       "      <th>기온(°C)</th>\n",
       "    </tr>\n",
       "  </thead>\n",
       "  <tbody>\n",
       "    <tr>\n",
       "      <th>33133</th>\n",
       "      <td>2016-10-12 13:00</td>\n",
       "      <td>19.3</td>\n",
       "    </tr>\n",
       "    <tr>\n",
       "      <th>33134</th>\n",
       "      <td>2016-10-12 14:00</td>\n",
       "      <td>20.2</td>\n",
       "    </tr>\n",
       "    <tr>\n",
       "      <th>33135</th>\n",
       "      <td>2016-10-12 15:00</td>\n",
       "      <td>20.6</td>\n",
       "    </tr>\n",
       "    <tr>\n",
       "      <th>33136</th>\n",
       "      <td>2016-10-12 16:00</td>\n",
       "      <td>19.5</td>\n",
       "    </tr>\n",
       "    <tr>\n",
       "      <th>33137</th>\n",
       "      <td>2016-10-12 17:00</td>\n",
       "      <td>18.9</td>\n",
       "    </tr>\n",
       "    <tr>\n",
       "      <th>33138</th>\n",
       "      <td>2016-10-12 18:00</td>\n",
       "      <td>17.0</td>\n",
       "    </tr>\n",
       "    <tr>\n",
       "      <th>33139</th>\n",
       "      <td>2016-10-12 19:00</td>\n",
       "      <td>15.9</td>\n",
       "    </tr>\n",
       "    <tr>\n",
       "      <th>33140</th>\n",
       "      <td>2016-10-12 20:00</td>\n",
       "      <td>15.1</td>\n",
       "    </tr>\n",
       "  </tbody>\n",
       "</table>\n",
       "</div>"
      ],
      "text/plain": [
       "                     일시  기온(°C)\n",
       "33133  2016-10-12 13:00    19.3\n",
       "33134  2016-10-12 14:00    20.2\n",
       "33135  2016-10-12 15:00    20.6\n",
       "33136  2016-10-12 16:00    19.5\n",
       "33137  2016-10-12 17:00    18.9\n",
       "33138  2016-10-12 18:00    17.0\n",
       "33139  2016-10-12 19:00    15.9\n",
       "33140  2016-10-12 20:00    15.1"
      ]
     },
     "execution_count": 125,
     "metadata": {},
     "output_type": "execute_result"
    }
   ],
   "source": [
    "seoul.loc[33133 : 33140, [\"일시\", \"기온(°C)\"]]"
   ]
  },
  {
   "cell_type": "code",
   "execution_count": 149,
   "id": "d0dd2583",
   "metadata": {},
   "outputs": [
    {
     "data": {
      "text/plain": [
       "0.2"
      ]
     },
     "execution_count": 149,
     "metadata": {},
     "output_type": "execute_result"
    }
   ],
   "source": [
    "temp = round((seoul.loc[41894, \"기온(°C)\"] - seoul.loc[41898, \"기온(°C)\"]) / 4, 1)\n",
    "temp"
   ]
  },
  {
   "cell_type": "code",
   "execution_count": 150,
   "id": "90be9197",
   "metadata": {},
   "outputs": [
    {
     "name": "stdout",
     "output_type": "stream",
     "text": [
      "13.5\n",
      "13.3\n",
      "13.1\n"
     ]
    }
   ],
   "source": [
    "a = seoul.loc[41894, \"기온(°C)\"]\n",
    "for i in range(3) :\n",
    "    a = round(a - 0.2, 1)\n",
    "    print(a)"
   ]
  },
  {
   "cell_type": "code",
   "execution_count": null,
   "id": "58976bec",
   "metadata": {},
   "outputs": [],
   "source": []
  },
  {
   "cell_type": "markdown",
   "id": "0a4ac411",
   "metadata": {},
   "source": [
    "### 51810 결측치 제거\n",
    "* 51809, 51811 평균으로 대체"
   ]
  },
  {
   "cell_type": "code",
   "execution_count": 78,
   "id": "450d150a",
   "metadata": {},
   "outputs": [
    {
     "data": {
      "text/html": [
       "<div>\n",
       "<style scoped>\n",
       "    .dataframe tbody tr th:only-of-type {\n",
       "        vertical-align: middle;\n",
       "    }\n",
       "\n",
       "    .dataframe tbody tr th {\n",
       "        vertical-align: top;\n",
       "    }\n",
       "\n",
       "    .dataframe thead th {\n",
       "        text-align: right;\n",
       "    }\n",
       "</style>\n",
       "<table border=\"1\" class=\"dataframe\">\n",
       "  <thead>\n",
       "    <tr style=\"text-align: right;\">\n",
       "      <th></th>\n",
       "      <th>일시</th>\n",
       "      <th>기온(°C)</th>\n",
       "    </tr>\n",
       "  </thead>\n",
       "  <tbody>\n",
       "    <tr>\n",
       "      <th>51808</th>\n",
       "      <td>2018-11-29 16:00</td>\n",
       "      <td>5.8</td>\n",
       "    </tr>\n",
       "    <tr>\n",
       "      <th>51809</th>\n",
       "      <td>2018-11-29 17:00</td>\n",
       "      <td>5.8</td>\n",
       "    </tr>\n",
       "    <tr>\n",
       "      <th>51810</th>\n",
       "      <td>2018-11-29 18:00</td>\n",
       "      <td>NaN</td>\n",
       "    </tr>\n",
       "    <tr>\n",
       "      <th>51811</th>\n",
       "      <td>2018-11-29 19:00</td>\n",
       "      <td>5.2</td>\n",
       "    </tr>\n",
       "    <tr>\n",
       "      <th>51812</th>\n",
       "      <td>2018-11-29 20:00</td>\n",
       "      <td>4.1</td>\n",
       "    </tr>\n",
       "  </tbody>\n",
       "</table>\n",
       "</div>"
      ],
      "text/plain": [
       "                     일시  기온(°C)\n",
       "51808  2018-11-29 16:00     5.8\n",
       "51809  2018-11-29 17:00     5.8\n",
       "51810  2018-11-29 18:00     NaN\n",
       "51811  2018-11-29 19:00     5.2\n",
       "51812  2018-11-29 20:00     4.1"
      ]
     },
     "execution_count": 78,
     "metadata": {},
     "output_type": "execute_result"
    }
   ],
   "source": [
    "seoul.loc[51808 : 51812, [\"일시\", \"기온(°C)\"]]"
   ]
  },
  {
   "cell_type": "code",
   "execution_count": 79,
   "id": "5f984419",
   "metadata": {},
   "outputs": [
    {
     "data": {
      "text/plain": [
       "일시        2018-11-29 16:00\n",
       "기온(°C)                 5.8\n",
       "Name: 51808, dtype: object"
      ]
     },
     "execution_count": 79,
     "metadata": {},
     "output_type": "execute_result"
    }
   ],
   "source": [
    "seoul.loc[51808, [\"일시\", \"기온(°C)\"]]"
   ]
  },
  {
   "cell_type": "code",
   "execution_count": 104,
   "id": "c4eaec52",
   "metadata": {},
   "outputs": [
    {
     "name": "stdout",
     "output_type": "stream",
     "text": [
      "51809 : 5.8\n",
      "51810 : nan\n",
      "51811 : 5.2\n"
     ]
    }
   ],
   "source": [
    "print(\"51809 : {}\".format(seoul.loc[51809, \"기온(°C)\"]))\n",
    "print(\"51810 : {}\".format(seoul.loc[51810, \"기온(°C)\"]))\n",
    "print(\"51811 : {}\".format(seoul.loc[51811, \"기온(°C)\"]))"
   ]
  },
  {
   "cell_type": "code",
   "execution_count": 109,
   "id": "ae033ce6",
   "metadata": {},
   "outputs": [
    {
     "data": {
      "text/plain": [
       "5.5"
      ]
     },
     "execution_count": 109,
     "metadata": {},
     "output_type": "execute_result"
    }
   ],
   "source": [
    "seoul.loc[51810, \"기온(°C)\"] = np.array([seoul.loc[51809, \"기온(°C)\"], seoul.loc[51811, \"기온(°C)\"]]).mean()\n",
    "seoul.loc[51810, \"기온(°C)\"]"
   ]
  },
  {
   "cell_type": "code",
   "execution_count": 112,
   "id": "de6aefb9",
   "metadata": {},
   "outputs": [],
   "source": [
    "# (seoul.loc[51809, \"기온(°C)\"] + seoul.loc[51811, \"기온(°C)\"]) / 2\n",
    "# np.mean([[seoul.loc[51809, \"기온(°C)\"]], [seoul.loc[51811, \"기온(°C)\"]]])\n",
    "# arr = np.array([seoul.loc[51809, \"기온(°C)\"], seoul.loc[51811, \"기온(°C)\"]])\n",
    "# arr.mean()\n",
    "# np.array([seoul.loc[51809, \"기온(°C)\"], seoul.loc[51811, \"기온(°C)\"]]).mean()"
   ]
  },
  {
   "cell_type": "code",
   "execution_count": 113,
   "id": "7676f032",
   "metadata": {},
   "outputs": [
    {
     "name": "stdout",
     "output_type": "stream",
     "text": [
      "51809 : 5.8\n",
      "51810 : 5.5\n",
      "51811 : 5.2\n"
     ]
    }
   ],
   "source": [
    "print(\"51809 : {}\".format(seoul.loc[51809, \"기온(°C)\"]))\n",
    "print(\"51810 : {}\".format(seoul.loc[51810, \"기온(°C)\"]))\n",
    "print(\"51811 : {}\".format(seoul.loc[51811, \"기온(°C)\"]))"
   ]
  },
  {
   "cell_type": "code",
   "execution_count": null,
   "id": "493d89d7",
   "metadata": {},
   "outputs": [],
   "source": []
  }
 ],
 "metadata": {
  "kernelspec": {
   "display_name": "Python 3 (ipykernel)",
   "language": "python",
   "name": "python3"
  },
  "language_info": {
   "codemirror_mode": {
    "name": "ipython",
    "version": 3
   },
   "file_extension": ".py",
   "mimetype": "text/x-python",
   "name": "python",
   "nbconvert_exporter": "python",
   "pygments_lexer": "ipython3",
   "version": "3.8.8"
  }
 },
 "nbformat": 4,
 "nbformat_minor": 5
}
