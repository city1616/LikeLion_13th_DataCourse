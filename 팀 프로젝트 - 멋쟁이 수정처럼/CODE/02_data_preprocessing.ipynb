{
 "cells": [
  {
   "cell_type": "markdown",
   "id": "2ac40888",
   "metadata": {},
   "source": [
    "### 데이터\n",
    "* data : 한국가스공사 시간별 공급량 데이터\n",
    "* seoul : 서울 시간별 기상 데이터\n",
    "* parse_dates = ['']"
   ]
  },
  {
   "cell_type": "code",
   "execution_count": 1,
   "id": "901a7790",
   "metadata": {},
   "outputs": [],
   "source": [
    "import pandas as pd\n",
    "import numpy as np"
   ]
  },
  {
   "cell_type": "markdown",
   "id": "304eb5c7",
   "metadata": {},
   "source": [
    "### 2013 ~ 2018년의 모든 시간대 총 개수 구하기"
   ]
  },
  {
   "cell_type": "code",
   "execution_count": 2,
   "id": "50bfaa6f",
   "metadata": {},
   "outputs": [
    {
     "name": "stdout",
     "output_type": "stream",
     "text": [
      "2013-01-01 ~ 2018-12-31 총 길이 : 52584\n",
      "2013년 길이 : 8760\n",
      "2014년 길이 : 8760\n",
      "2015년 길이 : 8760\n",
      "2016년 길이 : 8784\n",
      "2017년 길이 : 8760\n",
      "2018년 길이 : 8760\n"
     ]
    }
   ],
   "source": [
    "print(\"2013-01-01 ~ 2018-12-31 총 길이 : {}\".format(len(pd.date_range(start = \"2013-01-01 00:00:00\", \n",
    "                                                                    end = \"2018-12-31 23:00:00\", freq = \"1h\"))))\n",
    "for i in range(2013, 2019) :\n",
    "    print(\"{}년 길이 : {}\".format(i, len(pd.date_range(start = f\"{i}-01-01 00:00:00\", \n",
    "                                                    end = f\"{i}-12-31 23:00:00\", freq = \"1h\"))))"
   ]
  },
  {
   "cell_type": "markdown",
   "id": "cff49608",
   "metadata": {},
   "source": [
    "### 출력 결과 모든 컬럼 확인 가능하게 옵션 변경"
   ]
  },
  {
   "cell_type": "code",
   "execution_count": 3,
   "id": "7516b8d9",
   "metadata": {},
   "outputs": [],
   "source": [
    "pd.set_option(\"display.max_columns\", None)"
   ]
  },
  {
   "cell_type": "markdown",
   "id": "220f09fa",
   "metadata": {},
   "source": [
    "## 가스공급량 데이터 전처리\n",
    "* parse_dates = [\"연월일\"] -> 시간 데이터를 변경 후 추가하기 위해 사용하지 않음"
   ]
  },
  {
   "cell_type": "code",
   "execution_count": 4,
   "id": "013005bc",
   "metadata": {},
   "outputs": [],
   "source": [
    "data = pd.read_csv(\"../CSV/한국가스공사_시간별_공급량_20181231.csv\", encoding = 'cp949')"
   ]
  },
  {
   "cell_type": "code",
   "execution_count": 5,
   "id": "fa619bc8",
   "metadata": {},
   "outputs": [
    {
     "name": "stdout",
     "output_type": "stream",
     "text": [
      "<class 'pandas.core.frame.DataFrame'>\n",
      "RangeIndex: 368088 entries, 0 to 368087\n",
      "Data columns (total 4 columns):\n",
      " #   Column  Non-Null Count   Dtype  \n",
      "---  ------  --------------   -----  \n",
      " 0   연월일     368088 non-null  object \n",
      " 1   시간      368088 non-null  int64  \n",
      " 2   구분      368088 non-null  object \n",
      " 3   공급량     368088 non-null  float64\n",
      "dtypes: float64(1), int64(1), object(2)\n",
      "memory usage: 11.2+ MB\n"
     ]
    }
   ],
   "source": [
    "data.info()"
   ]
  },
  {
   "cell_type": "code",
   "execution_count": 6,
   "id": "2c145c19",
   "metadata": {},
   "outputs": [
    {
     "data": {
      "text/html": [
       "<div>\n",
       "<style scoped>\n",
       "    .dataframe tbody tr th:only-of-type {\n",
       "        vertical-align: middle;\n",
       "    }\n",
       "\n",
       "    .dataframe tbody tr th {\n",
       "        vertical-align: top;\n",
       "    }\n",
       "\n",
       "    .dataframe thead th {\n",
       "        text-align: right;\n",
       "    }\n",
       "</style>\n",
       "<table border=\"1\" class=\"dataframe\">\n",
       "  <thead>\n",
       "    <tr style=\"text-align: right;\">\n",
       "      <th></th>\n",
       "      <th>연월일</th>\n",
       "      <th>시간</th>\n",
       "      <th>구분</th>\n",
       "      <th>공급량</th>\n",
       "    </tr>\n",
       "  </thead>\n",
       "  <tbody>\n",
       "    <tr>\n",
       "      <th>0</th>\n",
       "      <td>2013-01-01</td>\n",
       "      <td>1</td>\n",
       "      <td>A</td>\n",
       "      <td>2497.129</td>\n",
       "    </tr>\n",
       "    <tr>\n",
       "      <th>1</th>\n",
       "      <td>2013-01-01</td>\n",
       "      <td>2</td>\n",
       "      <td>A</td>\n",
       "      <td>2363.265</td>\n",
       "    </tr>\n",
       "    <tr>\n",
       "      <th>2</th>\n",
       "      <td>2013-01-01</td>\n",
       "      <td>3</td>\n",
       "      <td>A</td>\n",
       "      <td>2258.505</td>\n",
       "    </tr>\n",
       "  </tbody>\n",
       "</table>\n",
       "</div>"
      ],
      "text/plain": [
       "          연월일  시간 구분       공급량\n",
       "0  2013-01-01   1  A  2497.129\n",
       "1  2013-01-01   2  A  2363.265\n",
       "2  2013-01-01   3  A  2258.505"
      ]
     },
     "execution_count": 6,
     "metadata": {},
     "output_type": "execute_result"
    }
   ],
   "source": [
    "data.head(3)"
   ]
  },
  {
   "cell_type": "code",
   "execution_count": 7,
   "id": "e77e9aa2",
   "metadata": {},
   "outputs": [
    {
     "data": {
      "text/html": [
       "<div>\n",
       "<style scoped>\n",
       "    .dataframe tbody tr th:only-of-type {\n",
       "        vertical-align: middle;\n",
       "    }\n",
       "\n",
       "    .dataframe tbody tr th {\n",
       "        vertical-align: top;\n",
       "    }\n",
       "\n",
       "    .dataframe thead th {\n",
       "        text-align: right;\n",
       "    }\n",
       "</style>\n",
       "<table border=\"1\" class=\"dataframe\">\n",
       "  <thead>\n",
       "    <tr style=\"text-align: right;\">\n",
       "      <th></th>\n",
       "      <th></th>\n",
       "      <th>시간</th>\n",
       "      <th>공급량</th>\n",
       "    </tr>\n",
       "    <tr>\n",
       "      <th>연월일</th>\n",
       "      <th>구분</th>\n",
       "      <th></th>\n",
       "      <th></th>\n",
       "    </tr>\n",
       "  </thead>\n",
       "  <tbody>\n",
       "    <tr>\n",
       "      <th rowspan=\"7\" valign=\"top\">2013-01-01</th>\n",
       "      <th>A</th>\n",
       "      <td>24</td>\n",
       "      <td>24</td>\n",
       "    </tr>\n",
       "    <tr>\n",
       "      <th>B</th>\n",
       "      <td>24</td>\n",
       "      <td>24</td>\n",
       "    </tr>\n",
       "    <tr>\n",
       "      <th>C</th>\n",
       "      <td>24</td>\n",
       "      <td>24</td>\n",
       "    </tr>\n",
       "    <tr>\n",
       "      <th>D</th>\n",
       "      <td>24</td>\n",
       "      <td>24</td>\n",
       "    </tr>\n",
       "    <tr>\n",
       "      <th>E</th>\n",
       "      <td>24</td>\n",
       "      <td>24</td>\n",
       "    </tr>\n",
       "    <tr>\n",
       "      <th>G</th>\n",
       "      <td>24</td>\n",
       "      <td>24</td>\n",
       "    </tr>\n",
       "    <tr>\n",
       "      <th>H</th>\n",
       "      <td>24</td>\n",
       "      <td>24</td>\n",
       "    </tr>\n",
       "    <tr>\n",
       "      <th rowspan=\"7\" valign=\"top\">2013-01-02</th>\n",
       "      <th>A</th>\n",
       "      <td>24</td>\n",
       "      <td>24</td>\n",
       "    </tr>\n",
       "    <tr>\n",
       "      <th>B</th>\n",
       "      <td>24</td>\n",
       "      <td>24</td>\n",
       "    </tr>\n",
       "    <tr>\n",
       "      <th>C</th>\n",
       "      <td>24</td>\n",
       "      <td>24</td>\n",
       "    </tr>\n",
       "    <tr>\n",
       "      <th>D</th>\n",
       "      <td>24</td>\n",
       "      <td>24</td>\n",
       "    </tr>\n",
       "    <tr>\n",
       "      <th>E</th>\n",
       "      <td>24</td>\n",
       "      <td>24</td>\n",
       "    </tr>\n",
       "    <tr>\n",
       "      <th>G</th>\n",
       "      <td>24</td>\n",
       "      <td>24</td>\n",
       "    </tr>\n",
       "    <tr>\n",
       "      <th>H</th>\n",
       "      <td>24</td>\n",
       "      <td>24</td>\n",
       "    </tr>\n",
       "  </tbody>\n",
       "</table>\n",
       "</div>"
      ],
      "text/plain": [
       "               시간  공급량\n",
       "연월일        구분         \n",
       "2013-01-01 A   24   24\n",
       "           B   24   24\n",
       "           C   24   24\n",
       "           D   24   24\n",
       "           E   24   24\n",
       "           G   24   24\n",
       "           H   24   24\n",
       "2013-01-02 A   24   24\n",
       "           B   24   24\n",
       "           C   24   24\n",
       "           D   24   24\n",
       "           E   24   24\n",
       "           G   24   24\n",
       "           H   24   24"
      ]
     },
     "execution_count": 7,
     "metadata": {},
     "output_type": "execute_result"
    }
   ],
   "source": [
    "data.groupby([\"연월일\", \"구분\"]).count().head(14)"
   ]
  },
  {
   "cell_type": "code",
   "execution_count": 8,
   "id": "7808062e",
   "metadata": {},
   "outputs": [
    {
     "data": {
      "text/html": [
       "<div>\n",
       "<style scoped>\n",
       "    .dataframe tbody tr th:only-of-type {\n",
       "        vertical-align: middle;\n",
       "    }\n",
       "\n",
       "    .dataframe tbody tr th {\n",
       "        vertical-align: top;\n",
       "    }\n",
       "\n",
       "    .dataframe thead th {\n",
       "        text-align: right;\n",
       "    }\n",
       "</style>\n",
       "<table border=\"1\" class=\"dataframe\">\n",
       "  <thead>\n",
       "    <tr style=\"text-align: right;\">\n",
       "      <th></th>\n",
       "      <th>연월일</th>\n",
       "      <th>시간</th>\n",
       "      <th>공급량</th>\n",
       "    </tr>\n",
       "    <tr>\n",
       "      <th>구분</th>\n",
       "      <th></th>\n",
       "      <th></th>\n",
       "      <th></th>\n",
       "    </tr>\n",
       "  </thead>\n",
       "  <tbody>\n",
       "    <tr>\n",
       "      <th>A</th>\n",
       "      <td>52584</td>\n",
       "      <td>52584</td>\n",
       "      <td>52584</td>\n",
       "    </tr>\n",
       "    <tr>\n",
       "      <th>B</th>\n",
       "      <td>52584</td>\n",
       "      <td>52584</td>\n",
       "      <td>52584</td>\n",
       "    </tr>\n",
       "    <tr>\n",
       "      <th>C</th>\n",
       "      <td>52584</td>\n",
       "      <td>52584</td>\n",
       "      <td>52584</td>\n",
       "    </tr>\n",
       "    <tr>\n",
       "      <th>D</th>\n",
       "      <td>52584</td>\n",
       "      <td>52584</td>\n",
       "      <td>52584</td>\n",
       "    </tr>\n",
       "    <tr>\n",
       "      <th>E</th>\n",
       "      <td>52584</td>\n",
       "      <td>52584</td>\n",
       "      <td>52584</td>\n",
       "    </tr>\n",
       "    <tr>\n",
       "      <th>G</th>\n",
       "      <td>52584</td>\n",
       "      <td>52584</td>\n",
       "      <td>52584</td>\n",
       "    </tr>\n",
       "    <tr>\n",
       "      <th>H</th>\n",
       "      <td>52584</td>\n",
       "      <td>52584</td>\n",
       "      <td>52584</td>\n",
       "    </tr>\n",
       "  </tbody>\n",
       "</table>\n",
       "</div>"
      ],
      "text/plain": [
       "      연월일     시간    공급량\n",
       "구분                     \n",
       "A   52584  52584  52584\n",
       "B   52584  52584  52584\n",
       "C   52584  52584  52584\n",
       "D   52584  52584  52584\n",
       "E   52584  52584  52584\n",
       "G   52584  52584  52584\n",
       "H   52584  52584  52584"
      ]
     },
     "execution_count": 8,
     "metadata": {},
     "output_type": "execute_result"
    }
   ],
   "source": [
    "data.groupby([\"구분\"]).count()"
   ]
  },
  {
   "cell_type": "code",
   "execution_count": 9,
   "id": "0a915a1f",
   "metadata": {},
   "outputs": [
    {
     "data": {
      "text/plain": [
       "array(['A', 'B', 'C', 'D', 'E', 'G', 'H'], dtype=object)"
      ]
     },
     "execution_count": 9,
     "metadata": {},
     "output_type": "execute_result"
    }
   ],
   "source": [
    "data[\"구분\"].unique()"
   ]
  },
  {
   "cell_type": "markdown",
   "id": "be7637e9",
   "metadata": {},
   "source": [
    "### 가스공급량 데이터 날짜 데이터 타입 변경"
   ]
  },
  {
   "cell_type": "code",
   "execution_count": 10,
   "id": "47dff27f",
   "metadata": {},
   "outputs": [
    {
     "name": "stdout",
     "output_type": "stream",
     "text": [
      "<class 'pandas.core.frame.DataFrame'>\n",
      "RangeIndex: 368088 entries, 0 to 368087\n",
      "Data columns (total 4 columns):\n",
      " #   Column  Non-Null Count   Dtype  \n",
      "---  ------  --------------   -----  \n",
      " 0   연월일     368088 non-null  object \n",
      " 1   시간      368088 non-null  int64  \n",
      " 2   구분      368088 non-null  object \n",
      " 3   공급량     368088 non-null  float64\n",
      "dtypes: float64(1), int64(1), object(2)\n",
      "memory usage: 11.2+ MB\n"
     ]
    }
   ],
   "source": [
    "data.info()"
   ]
  },
  {
   "cell_type": "code",
   "execution_count": 11,
   "id": "1cd2c0db",
   "metadata": {},
   "outputs": [],
   "source": [
    "data[\"일시\"] = data[\"연월일\"] + \" \" + (data[\"시간\"] - 1).astype(str) + \":00:00\"\n",
    "data[\"일시\"] = pd.to_datetime(data[\"일시\"])"
   ]
  },
  {
   "cell_type": "code",
   "execution_count": 12,
   "id": "c435037e",
   "metadata": {},
   "outputs": [
    {
     "data": {
      "text/html": [
       "<div>\n",
       "<style scoped>\n",
       "    .dataframe tbody tr th:only-of-type {\n",
       "        vertical-align: middle;\n",
       "    }\n",
       "\n",
       "    .dataframe tbody tr th {\n",
       "        vertical-align: top;\n",
       "    }\n",
       "\n",
       "    .dataframe thead th {\n",
       "        text-align: right;\n",
       "    }\n",
       "</style>\n",
       "<table border=\"1\" class=\"dataframe\">\n",
       "  <thead>\n",
       "    <tr style=\"text-align: right;\">\n",
       "      <th></th>\n",
       "      <th>연월일</th>\n",
       "      <th>시간</th>\n",
       "      <th>구분</th>\n",
       "      <th>공급량</th>\n",
       "      <th>일시</th>\n",
       "    </tr>\n",
       "  </thead>\n",
       "  <tbody>\n",
       "    <tr>\n",
       "      <th>0</th>\n",
       "      <td>2013-01-01</td>\n",
       "      <td>1</td>\n",
       "      <td>A</td>\n",
       "      <td>2497.129</td>\n",
       "      <td>2013-01-01 00:00:00</td>\n",
       "    </tr>\n",
       "    <tr>\n",
       "      <th>1</th>\n",
       "      <td>2013-01-01</td>\n",
       "      <td>2</td>\n",
       "      <td>A</td>\n",
       "      <td>2363.265</td>\n",
       "      <td>2013-01-01 01:00:00</td>\n",
       "    </tr>\n",
       "    <tr>\n",
       "      <th>2</th>\n",
       "      <td>2013-01-01</td>\n",
       "      <td>3</td>\n",
       "      <td>A</td>\n",
       "      <td>2258.505</td>\n",
       "      <td>2013-01-01 02:00:00</td>\n",
       "    </tr>\n",
       "  </tbody>\n",
       "</table>\n",
       "</div>"
      ],
      "text/plain": [
       "          연월일  시간 구분       공급량                  일시\n",
       "0  2013-01-01   1  A  2497.129 2013-01-01 00:00:00\n",
       "1  2013-01-01   2  A  2363.265 2013-01-01 01:00:00\n",
       "2  2013-01-01   3  A  2258.505 2013-01-01 02:00:00"
      ]
     },
     "execution_count": 12,
     "metadata": {},
     "output_type": "execute_result"
    }
   ],
   "source": [
    "data.head(3)"
   ]
  },
  {
   "cell_type": "code",
   "execution_count": 13,
   "id": "d334faed",
   "metadata": {},
   "outputs": [
    {
     "name": "stdout",
     "output_type": "stream",
     "text": [
      "<class 'pandas.core.frame.DataFrame'>\n",
      "RangeIndex: 368088 entries, 0 to 368087\n",
      "Data columns (total 5 columns):\n",
      " #   Column  Non-Null Count   Dtype         \n",
      "---  ------  --------------   -----         \n",
      " 0   연월일     368088 non-null  object        \n",
      " 1   시간      368088 non-null  int64         \n",
      " 2   구분      368088 non-null  object        \n",
      " 3   공급량     368088 non-null  float64       \n",
      " 4   일시      368088 non-null  datetime64[ns]\n",
      "dtypes: datetime64[ns](1), float64(1), int64(1), object(2)\n",
      "memory usage: 14.0+ MB\n"
     ]
    }
   ],
   "source": [
    "data.info()"
   ]
  },
  {
   "cell_type": "markdown",
   "id": "9887ad9b",
   "metadata": {},
   "source": [
    "### 일시 컬럼을 활용해 컬럼 추가\n",
    "* year, month, day 컬럼 추가"
   ]
  },
  {
   "cell_type": "code",
   "execution_count": 14,
   "id": "c41f4f00",
   "metadata": {},
   "outputs": [],
   "source": [
    "data[\"year\"] = data[\"일시\"].dt.year\n",
    "data[\"month\"] = data[\"일시\"].dt.month\n",
    "data[\"day\"] = data[\"일시\"].dt.day\n",
    "data[\"hour\"] = data[\"일시\"].dt.hour\n",
    "data[\"weekday\"] = data[\"일시\"].dt.weekday"
   ]
  },
  {
   "cell_type": "code",
   "execution_count": 15,
   "id": "59598e38",
   "metadata": {},
   "outputs": [
    {
     "data": {
      "text/html": [
       "<div>\n",
       "<style scoped>\n",
       "    .dataframe tbody tr th:only-of-type {\n",
       "        vertical-align: middle;\n",
       "    }\n",
       "\n",
       "    .dataframe tbody tr th {\n",
       "        vertical-align: top;\n",
       "    }\n",
       "\n",
       "    .dataframe thead th {\n",
       "        text-align: right;\n",
       "    }\n",
       "</style>\n",
       "<table border=\"1\" class=\"dataframe\">\n",
       "  <thead>\n",
       "    <tr style=\"text-align: right;\">\n",
       "      <th></th>\n",
       "      <th>연월일</th>\n",
       "      <th>시간</th>\n",
       "      <th>구분</th>\n",
       "      <th>공급량</th>\n",
       "      <th>일시</th>\n",
       "      <th>year</th>\n",
       "      <th>month</th>\n",
       "      <th>day</th>\n",
       "      <th>hour</th>\n",
       "      <th>weekday</th>\n",
       "    </tr>\n",
       "  </thead>\n",
       "  <tbody>\n",
       "    <tr>\n",
       "      <th>0</th>\n",
       "      <td>2013-01-01</td>\n",
       "      <td>1</td>\n",
       "      <td>A</td>\n",
       "      <td>2497.129</td>\n",
       "      <td>2013-01-01 00:00:00</td>\n",
       "      <td>2013</td>\n",
       "      <td>1</td>\n",
       "      <td>1</td>\n",
       "      <td>0</td>\n",
       "      <td>1</td>\n",
       "    </tr>\n",
       "    <tr>\n",
       "      <th>1</th>\n",
       "      <td>2013-01-01</td>\n",
       "      <td>2</td>\n",
       "      <td>A</td>\n",
       "      <td>2363.265</td>\n",
       "      <td>2013-01-01 01:00:00</td>\n",
       "      <td>2013</td>\n",
       "      <td>1</td>\n",
       "      <td>1</td>\n",
       "      <td>1</td>\n",
       "      <td>1</td>\n",
       "    </tr>\n",
       "    <tr>\n",
       "      <th>2</th>\n",
       "      <td>2013-01-01</td>\n",
       "      <td>3</td>\n",
       "      <td>A</td>\n",
       "      <td>2258.505</td>\n",
       "      <td>2013-01-01 02:00:00</td>\n",
       "      <td>2013</td>\n",
       "      <td>1</td>\n",
       "      <td>1</td>\n",
       "      <td>2</td>\n",
       "      <td>1</td>\n",
       "    </tr>\n",
       "  </tbody>\n",
       "</table>\n",
       "</div>"
      ],
      "text/plain": [
       "          연월일  시간 구분       공급량                  일시  year  month  day  hour  \\\n",
       "0  2013-01-01   1  A  2497.129 2013-01-01 00:00:00  2013      1    1     0   \n",
       "1  2013-01-01   2  A  2363.265 2013-01-01 01:00:00  2013      1    1     1   \n",
       "2  2013-01-01   3  A  2258.505 2013-01-01 02:00:00  2013      1    1     2   \n",
       "\n",
       "   weekday  \n",
       "0        1  \n",
       "1        1  \n",
       "2        1  "
      ]
     },
     "execution_count": 15,
     "metadata": {},
     "output_type": "execute_result"
    }
   ],
   "source": [
    "data.head(3)"
   ]
  },
  {
   "cell_type": "code",
   "execution_count": 16,
   "id": "fa5447ce",
   "metadata": {},
   "outputs": [],
   "source": [
    "data = data[[\"연월일\", \"시간\", \"일시\", \"year\", \"month\", \"day\", \"hour\", \"weekday\", \"구분\", \"공급량\"]]"
   ]
  },
  {
   "cell_type": "code",
   "execution_count": 17,
   "id": "68a55445",
   "metadata": {},
   "outputs": [
    {
     "data": {
      "text/html": [
       "<div>\n",
       "<style scoped>\n",
       "    .dataframe tbody tr th:only-of-type {\n",
       "        vertical-align: middle;\n",
       "    }\n",
       "\n",
       "    .dataframe tbody tr th {\n",
       "        vertical-align: top;\n",
       "    }\n",
       "\n",
       "    .dataframe thead th {\n",
       "        text-align: right;\n",
       "    }\n",
       "</style>\n",
       "<table border=\"1\" class=\"dataframe\">\n",
       "  <thead>\n",
       "    <tr style=\"text-align: right;\">\n",
       "      <th></th>\n",
       "      <th>연월일</th>\n",
       "      <th>시간</th>\n",
       "      <th>일시</th>\n",
       "      <th>year</th>\n",
       "      <th>month</th>\n",
       "      <th>day</th>\n",
       "      <th>hour</th>\n",
       "      <th>weekday</th>\n",
       "      <th>구분</th>\n",
       "      <th>공급량</th>\n",
       "    </tr>\n",
       "  </thead>\n",
       "  <tbody>\n",
       "    <tr>\n",
       "      <th>0</th>\n",
       "      <td>2013-01-01</td>\n",
       "      <td>1</td>\n",
       "      <td>2013-01-01 00:00:00</td>\n",
       "      <td>2013</td>\n",
       "      <td>1</td>\n",
       "      <td>1</td>\n",
       "      <td>0</td>\n",
       "      <td>1</td>\n",
       "      <td>A</td>\n",
       "      <td>2497.129</td>\n",
       "    </tr>\n",
       "    <tr>\n",
       "      <th>1</th>\n",
       "      <td>2013-01-01</td>\n",
       "      <td>2</td>\n",
       "      <td>2013-01-01 01:00:00</td>\n",
       "      <td>2013</td>\n",
       "      <td>1</td>\n",
       "      <td>1</td>\n",
       "      <td>1</td>\n",
       "      <td>1</td>\n",
       "      <td>A</td>\n",
       "      <td>2363.265</td>\n",
       "    </tr>\n",
       "    <tr>\n",
       "      <th>2</th>\n",
       "      <td>2013-01-01</td>\n",
       "      <td>3</td>\n",
       "      <td>2013-01-01 02:00:00</td>\n",
       "      <td>2013</td>\n",
       "      <td>1</td>\n",
       "      <td>1</td>\n",
       "      <td>2</td>\n",
       "      <td>1</td>\n",
       "      <td>A</td>\n",
       "      <td>2258.505</td>\n",
       "    </tr>\n",
       "  </tbody>\n",
       "</table>\n",
       "</div>"
      ],
      "text/plain": [
       "          연월일  시간                  일시  year  month  day  hour  weekday 구분  \\\n",
       "0  2013-01-01   1 2013-01-01 00:00:00  2013      1    1     0        1  A   \n",
       "1  2013-01-01   2 2013-01-01 01:00:00  2013      1    1     1        1  A   \n",
       "2  2013-01-01   3 2013-01-01 02:00:00  2013      1    1     2        1  A   \n",
       "\n",
       "        공급량  \n",
       "0  2497.129  \n",
       "1  2363.265  \n",
       "2  2258.505  "
      ]
     },
     "execution_count": 17,
     "metadata": {},
     "output_type": "execute_result"
    }
   ],
   "source": [
    "data.head(3)"
   ]
  },
  {
   "cell_type": "code",
   "execution_count": 18,
   "id": "e8fb7d80",
   "metadata": {},
   "outputs": [],
   "source": [
    "data.to_csv(\"../CSV/가스공급량.csv\", index = False)"
   ]
  },
  {
   "cell_type": "markdown",
   "id": "d407360f",
   "metadata": {},
   "source": [
    "## test.csv 파일 전처리"
   ]
  },
  {
   "cell_type": "markdown",
   "id": "8b60ac85",
   "metadata": {},
   "source": [
    "### test.csv 파일 불러오기"
   ]
  },
  {
   "cell_type": "code",
   "execution_count": 19,
   "id": "74ed4cb4",
   "metadata": {},
   "outputs": [],
   "source": [
    "test = pd.read_csv(\"../CSV/가스공급량 수요예측 모델개발 data/test.csv\")"
   ]
  },
  {
   "cell_type": "code",
   "execution_count": 20,
   "id": "1e9b6c1d",
   "metadata": {},
   "outputs": [
    {
     "data": {
      "text/html": [
       "<div>\n",
       "<style scoped>\n",
       "    .dataframe tbody tr th:only-of-type {\n",
       "        vertical-align: middle;\n",
       "    }\n",
       "\n",
       "    .dataframe tbody tr th {\n",
       "        vertical-align: top;\n",
       "    }\n",
       "\n",
       "    .dataframe thead th {\n",
       "        text-align: right;\n",
       "    }\n",
       "</style>\n",
       "<table border=\"1\" class=\"dataframe\">\n",
       "  <thead>\n",
       "    <tr style=\"text-align: right;\">\n",
       "      <th></th>\n",
       "      <th>일자|시간|구분</th>\n",
       "    </tr>\n",
       "  </thead>\n",
       "  <tbody>\n",
       "    <tr>\n",
       "      <th>0</th>\n",
       "      <td>2019-01-01 01 A</td>\n",
       "    </tr>\n",
       "    <tr>\n",
       "      <th>1</th>\n",
       "      <td>2019-01-01 02 A</td>\n",
       "    </tr>\n",
       "    <tr>\n",
       "      <th>2</th>\n",
       "      <td>2019-01-01 03 A</td>\n",
       "    </tr>\n",
       "  </tbody>\n",
       "</table>\n",
       "</div>"
      ],
      "text/plain": [
       "          일자|시간|구분\n",
       "0  2019-01-01 01 A\n",
       "1  2019-01-01 02 A\n",
       "2  2019-01-01 03 A"
      ]
     },
     "execution_count": 20,
     "metadata": {},
     "output_type": "execute_result"
    }
   ],
   "source": [
    "test.head(3)"
   ]
  },
  {
   "cell_type": "markdown",
   "id": "09495d1e",
   "metadata": {},
   "source": [
    "### 컬럼 생성"
   ]
  },
  {
   "cell_type": "code",
   "execution_count": 21,
   "id": "6cbbb3eb",
   "metadata": {},
   "outputs": [],
   "source": [
    "test['일자'] = test['일자|시간|구분'].str.split(' ').str[0]\n",
    "test['시간'] = test['일자|시간|구분'].str.split(' ').str[1].astype(int)\n",
    "test['구분'] = test['일자|시간|구분'].str.split(' ').str[2]\n",
    "\n",
    "test[\"일시\"] = test[\"일자\"] + \" \" + (test[\"시간\"] - 1).astype(str) + \":00:00\"\n",
    "test[\"일시\"] = pd.to_datetime(test[\"일시\"])\n",
    "\n",
    "test['year'] = test['일시'].dt.year\n",
    "test['month'] = test['일시'].dt.month\n",
    "test['day'] = test['일시'].dt.day\n",
    "test['hour'] = test['일시'].dt.hour\n",
    "test['weekday'] = test['일시'].dt.weekday"
   ]
  },
  {
   "cell_type": "code",
   "execution_count": 22,
   "id": "28c866b9",
   "metadata": {},
   "outputs": [
    {
     "data": {
      "text/html": [
       "<div>\n",
       "<style scoped>\n",
       "    .dataframe tbody tr th:only-of-type {\n",
       "        vertical-align: middle;\n",
       "    }\n",
       "\n",
       "    .dataframe tbody tr th {\n",
       "        vertical-align: top;\n",
       "    }\n",
       "\n",
       "    .dataframe thead th {\n",
       "        text-align: right;\n",
       "    }\n",
       "</style>\n",
       "<table border=\"1\" class=\"dataframe\">\n",
       "  <thead>\n",
       "    <tr style=\"text-align: right;\">\n",
       "      <th></th>\n",
       "      <th>일자|시간|구분</th>\n",
       "      <th>일자</th>\n",
       "      <th>시간</th>\n",
       "      <th>구분</th>\n",
       "      <th>일시</th>\n",
       "      <th>year</th>\n",
       "      <th>month</th>\n",
       "      <th>day</th>\n",
       "      <th>hour</th>\n",
       "      <th>weekday</th>\n",
       "    </tr>\n",
       "  </thead>\n",
       "  <tbody>\n",
       "    <tr>\n",
       "      <th>15117</th>\n",
       "      <td>2019-03-31 22 H</td>\n",
       "      <td>2019-03-31</td>\n",
       "      <td>22</td>\n",
       "      <td>H</td>\n",
       "      <td>2019-03-31 21:00:00</td>\n",
       "      <td>2019</td>\n",
       "      <td>3</td>\n",
       "      <td>31</td>\n",
       "      <td>21</td>\n",
       "      <td>6</td>\n",
       "    </tr>\n",
       "    <tr>\n",
       "      <th>15118</th>\n",
       "      <td>2019-03-31 23 H</td>\n",
       "      <td>2019-03-31</td>\n",
       "      <td>23</td>\n",
       "      <td>H</td>\n",
       "      <td>2019-03-31 22:00:00</td>\n",
       "      <td>2019</td>\n",
       "      <td>3</td>\n",
       "      <td>31</td>\n",
       "      <td>22</td>\n",
       "      <td>6</td>\n",
       "    </tr>\n",
       "    <tr>\n",
       "      <th>15119</th>\n",
       "      <td>2019-03-31 24 H</td>\n",
       "      <td>2019-03-31</td>\n",
       "      <td>24</td>\n",
       "      <td>H</td>\n",
       "      <td>2019-03-31 23:00:00</td>\n",
       "      <td>2019</td>\n",
       "      <td>3</td>\n",
       "      <td>31</td>\n",
       "      <td>23</td>\n",
       "      <td>6</td>\n",
       "    </tr>\n",
       "  </tbody>\n",
       "</table>\n",
       "</div>"
      ],
      "text/plain": [
       "              일자|시간|구분          일자  시간 구분                  일시  year  month  \\\n",
       "15117  2019-03-31 22 H  2019-03-31  22  H 2019-03-31 21:00:00  2019      3   \n",
       "15118  2019-03-31 23 H  2019-03-31  23  H 2019-03-31 22:00:00  2019      3   \n",
       "15119  2019-03-31 24 H  2019-03-31  24  H 2019-03-31 23:00:00  2019      3   \n",
       "\n",
       "       day  hour  weekday  \n",
       "15117   31    21        6  \n",
       "15118   31    22        6  \n",
       "15119   31    23        6  "
      ]
     },
     "execution_count": 22,
     "metadata": {},
     "output_type": "execute_result"
    }
   ],
   "source": [
    "test.tail(3)"
   ]
  },
  {
   "cell_type": "code",
   "execution_count": 23,
   "id": "5553ef9a",
   "metadata": {},
   "outputs": [
    {
     "name": "stdout",
     "output_type": "stream",
     "text": [
      "<class 'pandas.core.frame.DataFrame'>\n",
      "RangeIndex: 15120 entries, 0 to 15119\n",
      "Data columns (total 10 columns):\n",
      " #   Column    Non-Null Count  Dtype         \n",
      "---  ------    --------------  -----         \n",
      " 0   일자|시간|구분  15120 non-null  object        \n",
      " 1   일자        15120 non-null  object        \n",
      " 2   시간        15120 non-null  int64         \n",
      " 3   구분        15120 non-null  object        \n",
      " 4   일시        15120 non-null  datetime64[ns]\n",
      " 5   year      15120 non-null  int64         \n",
      " 6   month     15120 non-null  int64         \n",
      " 7   day       15120 non-null  int64         \n",
      " 8   hour      15120 non-null  int64         \n",
      " 9   weekday   15120 non-null  int64         \n",
      "dtypes: datetime64[ns](1), int64(6), object(3)\n",
      "memory usage: 1.2+ MB\n"
     ]
    }
   ],
   "source": [
    "test.info()"
   ]
  },
  {
   "cell_type": "markdown",
   "id": "9b554dd0",
   "metadata": {},
   "source": [
    "### 컬럼명, 컬럼 순서 변경"
   ]
  },
  {
   "cell_type": "code",
   "execution_count": null,
   "id": "40502dd6",
   "metadata": {},
   "outputs": [],
   "source": [
    "# test.columns = ['일자|시간|구분', '일자', 'hour', '구분', 'year', 'month', 'day', 'weekday']\n",
    "# test = test[['일자|시간|구분', '구분', '일자', 'year', 'month', 'day', 'hour', 'weekday']]\n",
    "# test.head(3)"
   ]
  },
  {
   "cell_type": "markdown",
   "id": "c57b0eff",
   "metadata": {},
   "source": [
    "### CSV 파일로 저장"
   ]
  },
  {
   "cell_type": "code",
   "execution_count": 24,
   "id": "a04cc9fd",
   "metadata": {},
   "outputs": [],
   "source": [
    "test.to_csv(\"../CSV/new_test.csv\", index = False)"
   ]
  },
  {
   "cell_type": "markdown",
   "id": "65c2c4a4",
   "metadata": {},
   "source": [
    "## 서울 기상 데이터"
   ]
  },
  {
   "cell_type": "code",
   "execution_count": 25,
   "id": "f572e969",
   "metadata": {},
   "outputs": [
    {
     "name": "stdout",
     "output_type": "stream",
     "text": [
      "2013-01-01 ~ 2018-12-31 총 길이 : 52584\n",
      "2013년 길이 : 8760\n",
      "2014년 길이 : 8760\n",
      "2015년 길이 : 8760\n",
      "2016년 길이 : 8784\n",
      "2017년 길이 : 8760\n",
      "2018년 길이 : 8760\n"
     ]
    }
   ],
   "source": [
    "print(\"2013-01-01 ~ 2018-12-31 총 길이 : {}\".format(len(pd.date_range(start = \"2013-01-01 00:00:00\", \n",
    "                                                                    end = \"2018-12-31 23:00:00\", freq = \"1h\"))))\n",
    "for i in range(2013, 2019) :\n",
    "    print(\"{}년 길이 : {}\".format(i, len(pd.date_range(start = f\"{i}-01-01 00:00:00\", \n",
    "                                                    end = f\"{i}-12-31 23:00:00\", freq = \"1h\"))))"
   ]
  },
  {
   "cell_type": "markdown",
   "id": "93e38420",
   "metadata": {},
   "source": [
    "### 2013년도 서울 기상 데이터 불러오기"
   ]
  },
  {
   "cell_type": "code",
   "execution_count": null,
   "id": "a6cbd298",
   "metadata": {},
   "outputs": [],
   "source": []
  }
 ],
 "metadata": {
  "kernelspec": {
   "display_name": "Python 3 (ipykernel)",
   "language": "python",
   "name": "python3"
  },
  "language_info": {
   "codemirror_mode": {
    "name": "ipython",
    "version": 3
   },
   "file_extension": ".py",
   "mimetype": "text/x-python",
   "name": "python",
   "nbconvert_exporter": "python",
   "pygments_lexer": "ipython3",
   "version": "3.8.8"
  }
 },
 "nbformat": 4,
 "nbformat_minor": 5
}
