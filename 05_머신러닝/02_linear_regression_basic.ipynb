{
 "cells": [
  {
   "cell_type": "markdown",
   "id": "a14b18c0",
   "metadata": {},
   "source": [
    "### 2021_10_13_1"
   ]
  },
  {
   "cell_type": "code",
   "execution_count": 1,
   "id": "9f58441d",
   "metadata": {},
   "outputs": [],
   "source": [
    "from IPython.display import display, Image\n",
    "\n",
    "### 한글 폰트 설정\n",
    "import matplotlib\n",
    "from matplotlib import font_manager, rc\n",
    "import matplotlib.pyplot as plt\n",
    "import platform\n",
    "\n",
    "path = \"C:/Windows/Fonts/malgun.ttf\"\n",
    "if platform.system() == \"Windows\":\n",
    "    font_name = font_manager.FontProperties(fname=path).get_name()\n",
    "    rc('font', family=font_name)\n",
    "elif platform.system()==\"Darwin\":\n",
    "    rc('font', family='AppleGothic')\n",
    "else:\n",
    "    print(\"Unknown System\")\n",
    "    \n",
    "matplotlib.rcParams['axes.unicode_minus'] = False\n",
    "\n",
    "%matplotlib inline"
   ]
  },
  {
   "cell_type": "code",
   "execution_count": 2,
   "id": "f0113d59",
   "metadata": {},
   "outputs": [
    {
     "name": "stdout",
     "output_type": "stream",
     "text": [
      "1.21.2\n",
      "3.4.3\n"
     ]
    }
   ],
   "source": [
    "import numpy as np\n",
    "import matplotlib.pyplot as plt\n",
    "import matplotlib\n",
    "print(np.__version__)\n",
    "print(matplotlib.__version__)"
   ]
  },
  {
   "cell_type": "code",
   "execution_count": 4,
   "id": "9d5ef6fa",
   "metadata": {},
   "outputs": [
    {
     "name": "stdout",
     "output_type": "stream",
     "text": [
      "1.0\n",
      "0.1.9\n"
     ]
    }
   ],
   "source": [
    "# 설치가 안되어 있을 경우, 설치 필요.\n",
    "import mglearn\n",
    "import sklearn\n",
    "print( sklearn.__version__)\n",
    "print( mglearn.__version__)\n",
    "\n",
    "from sklearn.model_selection import train_test_split\n",
    "from sklearn.linear_model import LinearRegression"
   ]
  },
  {
   "cell_type": "code",
   "execution_count": 5,
   "id": "15377e96",
   "metadata": {},
   "outputs": [
    {
     "name": "stdout",
     "output_type": "stream",
     "text": [
      "w[0]: 0.393906  b: -0.031804\n"
     ]
    },
    {
     "data": {
      "image/png": "[encoded data removed]",
      "text/plain": [
       "<Figure size 576x576 with 1 Axes>"
      ]
     },
     "metadata": {
      "needs_background": "light"
     },
     "output_type": "display_data"
    }
   ],
   "source": [
    "mglearn.plots.plot_linear_regression_wave()"
   ]
  },
  {
   "cell_type": "markdown",
   "id": "8df49ad1",
   "metadata": {},
   "source": [
    "## 02 Boston 데이터 셋을 활용한 회귀 모델 만들어보기"
   ]
  },
  {
   "cell_type": "markdown",
   "id": "70902440",
   "metadata": {},
   "source": [
    "### 데이터 설명\n",
    "* 1970년대의 보스턴 주변의 주택 평균 가격 예측\n",
    "* 506개의 데이터 포인트와 13개의 특성"
   ]
  },
  {
   "cell_type": "markdown",
   "id": "90bcd0da",
   "metadata": {},
   "source": [
    "(1) 모델 만들기 [모델명 = 모델객체()] <br>\n",
    "(2) 모델 학습 시키기 [모델명.fit()] <br>\n",
    "(3) 모델을 활용한 예측하기 [모델명.predict()] <br>\n",
    "(4) 모델 평가"
   ]
  },
  {
   "cell_type": "code",
   "execution_count": 6,
   "id": "202ee954",
   "metadata": {},
   "outputs": [],
   "source": [
    "from sklearn.datasets import load_boston\n",
    "from sklearn.linear_model import LinearRegression"
   ]
  },
  {
   "cell_type": "code",
   "execution_count": 8,
   "id": "cd2f8fd4",
   "metadata": {},
   "outputs": [],
   "source": [
    "boston = load_boston()\n",
    "X = boston.data     # 입력 데이터 - 문제\n",
    "y = boston.target   # 출력 데이터 - 답 "
   ]
  },
  {
   "cell_type": "markdown",
   "id": "c76b12ee",
   "metadata": {},
   "source": [
    "### 데이터 살펴보기"
   ]
  },
  {
   "cell_type": "code",
   "execution_count": 11,
   "id": "e40e1328",
   "metadata": {},
   "outputs": [
    {
     "name": "stdout",
     "output_type": "stream",
     "text": [
      "X type : <class 'numpy.ndarray'>\n",
      "y type : <class 'numpy.ndarray'>\n",
      "boston keys : dict_keys(['data', 'target', 'feature_names', 'DESCR', 'filename', 'data_module'])\n",
      "boston feature names : ['CRIM' 'ZN' 'INDUS' 'CHAS' 'NOX' 'RM' 'AGE' 'DIS' 'RAD' 'TAX' 'PTRATIO'\n",
      " 'B' 'LSTAT']\n"
     ]
    }
   ],
   "source": [
    "print(\"X type :\", type(X))\n",
    "print(\"y type :\", type(y))\n",
    "print(\"boston keys :\", boston.keys())\n",
    "print(\"boston feature names :\", boston.feature_names)"
   ]
  },
  {
   "cell_type": "code",
   "execution_count": 12,
   "id": "b1471511",
   "metadata": {},
   "outputs": [
    {
     "data": {
      "text/plain": [
       "(array([ 21.,  55.,  82., 154.,  84.,  41.,  30.,   8.,  10.,  21.]),\n",
       " array([ 5. ,  9.5, 14. , 18.5, 23. , 27.5, 32. , 36.5, 41. , 45.5, 50. ]),\n",
       " <BarContainer object of 10 artists>)"
      ]
     },
     "execution_count": 12,
     "metadata": {},
     "output_type": "execute_result"
    },
    {
     "data": {
      "image/png": "[encoded data removed]",
      "text/plain": [
       "<Figure size 432x288 with 1 Axes>"
      ]
     },
     "metadata": {
      "needs_background": "light"
     },
     "output_type": "display_data"
    }
   ],
   "source": [
    "plt.hist(y)"
   ]
  },
  {
   "cell_type": "markdown",
   "id": "f5900363",
   "metadata": {},
   "source": [
    "### 데이터 준비하기"
   ]
  },
  {
   "cell_type": "code",
   "execution_count": 13,
   "id": "07295344",
   "metadata": {},
   "outputs": [],
   "source": [
    "X_train, X_test, y_train, y_test = train_test_split(X, y, random_state = 42)"
   ]
  },
  {
   "cell_type": "code",
   "execution_count": 14,
   "id": "8fc0e89d",
   "metadata": {},
   "outputs": [
    {
     "data": {
      "text/plain": [
       "array([28.83885359, 36.00783288, 15.08324755, 25.23090886, 18.87864064,\n",
       "       23.21398327, 17.5931124 , 14.30508093, 23.05438985, 20.62008346])"
      ]
     },
     "execution_count": 14,
     "metadata": {},
     "output_type": "execute_result"
    }
   ],
   "source": [
    "## model = 모델명()\n",
    "## model.fit(입력, 레이블)\n",
    "## pred = model.predict(새로운 데이터 입력)\n",
    "\n",
    "model = LinearRegression()\n",
    "model.fit(X_train, y_train)\n",
    "pred = model.predict(X_test)\n",
    "pred[:10]"
   ]
  },
  {
   "cell_type": "markdown",
   "id": "3d4e17b5",
   "metadata": {},
   "source": [
    "### MSE(Mean Squared Error) 구하기\n",
    "* (실제값 - 예측값) ^ 2의 합을 데이터 샘플의 개수로 나누어 준 값"
   ]
  },
  {
   "cell_type": "code",
   "execution_count": 15,
   "id": "a433cede",
   "metadata": {},
   "outputs": [],
   "source": [
    "import pandas as pd"
   ]
  },
  {
   "cell_type": "code",
   "execution_count": 17,
   "id": "be7c3652",
   "metadata": {},
   "outputs": [
    {
     "data": {
      "text/html": [
       "<div>\n",
       "<style scoped>\n",
       "    .dataframe tbody tr th:only-of-type {\n",
       "        vertical-align: middle;\n",
       "    }\n",
       "\n",
       "    .dataframe tbody tr th {\n",
       "        vertical-align: top;\n",
       "    }\n",
       "\n",
       "    .dataframe thead th {\n",
       "        text-align: right;\n",
       "    }\n",
       "</style>\n",
       "<table border=\"1\" class=\"dataframe\">\n",
       "  <thead>\n",
       "    <tr style=\"text-align: right;\">\n",
       "      <th></th>\n",
       "      <th>실제값</th>\n",
       "      <th>예측값</th>\n",
       "      <th>오차</th>\n",
       "    </tr>\n",
       "  </thead>\n",
       "  <tbody>\n",
       "    <tr>\n",
       "      <th>0</th>\n",
       "      <td>23.6</td>\n",
       "      <td>28.838854</td>\n",
       "      <td>-5.238854</td>\n",
       "    </tr>\n",
       "    <tr>\n",
       "      <th>1</th>\n",
       "      <td>32.4</td>\n",
       "      <td>36.007833</td>\n",
       "      <td>-3.607833</td>\n",
       "    </tr>\n",
       "    <tr>\n",
       "      <th>2</th>\n",
       "      <td>13.6</td>\n",
       "      <td>15.083248</td>\n",
       "      <td>-1.483248</td>\n",
       "    </tr>\n",
       "  </tbody>\n",
       "</table>\n",
       "</div>"
      ],
      "text/plain": [
       "    실제값        예측값        오차\n",
       "0  23.6  28.838854 -5.238854\n",
       "1  32.4  36.007833 -3.607833\n",
       "2  13.6  15.083248 -1.483248"
      ]
     },
     "execution_count": 17,
     "metadata": {},
     "output_type": "execute_result"
    }
   ],
   "source": [
    "dict_dat = {\"실제값\" : y_test, \"예측값\" : pred, \"오차\" : y_test - pred}\n",
    "dat = pd.DataFrame(dict_dat)\n",
    "dat.head(3)"
   ]
  },
  {
   "cell_type": "code",
   "execution_count": 19,
   "id": "55a48183",
   "metadata": {},
   "outputs": [
    {
     "name": "stdout",
     "output_type": "stream",
     "text": [
      "MSE : 22.098694827098424\n"
     ]
    }
   ],
   "source": [
    "dat[\"오차제곱\"] = dat[\"오차\"] * dat[\"오차\"]\n",
    "mse_val = dat[\"오차제곱\"].sum() / dat.shape[0]\n",
    "print(\"MSE :\", mse_val)"
   ]
  },
  {
   "cell_type": "markdown",
   "id": "8354a455",
   "metadata": {},
   "source": [
    "### MAE(Mean Absolute Error) 구하기"
   ]
  },
  {
   "cell_type": "code",
   "execution_count": 20,
   "id": "a9d52cb7",
   "metadata": {},
   "outputs": [],
   "source": [
    "dat[\"오차절대값\"] = abs(dat[\"오차\"])"
   ]
  },
  {
   "cell_type": "code",
   "execution_count": 23,
   "id": "270e5146",
   "metadata": {},
   "outputs": [
    {
     "name": "stdout",
     "output_type": "stream",
     "text": [
      "MAE : 3.0609395954370906\n"
     ]
    }
   ],
   "source": [
    "mae_val = dat[\"오차절대값\"].sum() / dat.shape[0]\n",
    "print(\"MAE :\", mae_val)"
   ]
  },
  {
   "cell_type": "markdown",
   "id": "47b58fdc",
   "metadata": {},
   "source": [
    "### RMSE(Root Mean Squared Error) 구하기\n",
    "* (실제값 - 예측값) ^ 2의 합을 데이터 샘플의 개수로 나누어 준 이후에 제곱근 씌우기"
   ]
  },
  {
   "cell_type": "code",
   "execution_count": 24,
   "id": "c050176f",
   "metadata": {},
   "outputs": [
    {
     "name": "stdout",
     "output_type": "stream",
     "text": [
      "RMSE : 4.700924890603808\n"
     ]
    }
   ],
   "source": [
    "rmse_val = mse_val ** 0.5\n",
    "print(\"RMSE :\", rmse_val)"
   ]
  },
  {
   "cell_type": "markdown",
   "id": "4e0523e2",
   "metadata": {},
   "source": [
    "### sklearn으로 MSE 구하기"
   ]
  },
  {
   "cell_type": "code",
   "execution_count": 26,
   "id": "5dd0b20e",
   "metadata": {},
   "outputs": [
    {
     "name": "stdout",
     "output_type": "stream",
     "text": [
      "MSE : 22.098694827098424\n"
     ]
    }
   ],
   "source": [
    "from sklearn.metrics import mean_squared_error\n",
    "print(\"MSE :\", mean_squared_error(y_test, pred))"
   ]
  },
  {
   "cell_type": "markdown",
   "id": "ac36bd42",
   "metadata": {},
   "source": [
    "* MSE : ((실제값 - 예측값) ^ 2 의 전체합) / 데이터 개수\n",
    "* RMSE : MSE에 루트 씌운 값\n",
    "* MAE : (실제값 - 예측값)의 절대값 전체합 / 데이터 개수\n",
    "* RMSLE : RMSE에 실제값과 예측값을 log 처리한 값\n",
    "    * (log(실제값 + 1) - log(예측값 + 1))"
   ]
  },
  {
   "cell_type": "markdown",
   "id": "26faf89d",
   "metadata": {},
   "source": [
    "### 결정계수\n",
    "* 결정계수는 회귀모델에서 모델의 적합도를 의미하는 것으로 0 ~ 1 사이의 값을 갖는다.\n",
    "* 1에 가까우면 가까울수록 이 모델은 좋다고 할 수 있다."
   ]
  },
  {
   "cell_type": "code",
   "execution_count": 31,
   "id": "759c2520",
   "metadata": {},
   "outputs": [
    {
     "name": "stdout",
     "output_type": "stream",
     "text": [
      "학습용 데이터 결정 계수 : 0.75\n",
      "테스트 데이터 결정 계수 : 0.68\n"
     ]
    }
   ],
   "source": [
    "print(\"학습용 데이터 결정 계수 : {:.2f}\".format(model.score(X_train, y_train)))\n",
    "print(\"테스트 데이터 결정 계수 : {:.2f}\".format(model.score(X_test, y_test)))"
   ]
  },
  {
   "cell_type": "code",
   "execution_count": 37,
   "id": "14be6132",
   "metadata": {},
   "outputs": [
    {
     "name": "stdout",
     "output_type": "stream",
     "text": [
      "학습용 : 0.7375152736886281, 테스트용 : 0.7598135533532491\n"
     ]
    }
   ],
   "source": [
    "# 9 : 1\n",
    "X_train, X_test, y_train, y_test = train_test_split(X, y, \n",
    "                                                   test_size = 0.1,\n",
    "                                                   random_state = 42)\n",
    "\n",
    "model = LinearRegression()\n",
    "model.fit(X_train, y_train)\n",
    "train_score = model.score(X_train, y_train)\n",
    "test_score = model.score(X_test, y_test)\n",
    "print(\"학습용 : {}, 테스트용 : {}\".format(train_score, test_score))"
   ]
  },
  {
   "cell_type": "code",
   "execution_count": 39,
   "id": "9926d5b3",
   "metadata": {},
   "outputs": [
    {
     "name": "stdout",
     "output_type": "stream",
     "text": [
      "학습용 : 0.7508856358979672, 테스트용 : 0.6687594935356307\n"
     ]
    }
   ],
   "source": [
    "# 8 : 2\n",
    "X_train, X_test, y_train, y_test = train_test_split(X, y, \n",
    "                                                   test_size = 0.2,\n",
    "                                                   random_state = 42)\n",
    "\n",
    "model = LinearRegression()\n",
    "model.fit(X_train, y_train)\n",
    "train_score = model.score(X_train, y_train)\n",
    "test_score = model.score(X_test, y_test)\n",
    "print(\"학습용 : {}, 테스트용 : {}\".format(train_score, test_score))"
   ]
  },
  {
   "cell_type": "code",
   "execution_count": 40,
   "id": "6fcd0acd",
   "metadata": {},
   "outputs": [
    {
     "name": "stdout",
     "output_type": "stream",
     "text": [
      "학습용 : 0.7434997532004697, 테스트용 : 0.7112260057484974\n"
     ]
    }
   ],
   "source": [
    "# 7 : 3\n",
    "X_train, X_test, y_train, y_test = train_test_split(X, y, \n",
    "                                                   test_size = 0.3,\n",
    "                                                   random_state = 42)\n",
    "\n",
    "model = LinearRegression()\n",
    "model.fit(X_train, y_train)\n",
    "train_score = model.score(X_train, y_train)\n",
    "test_score = model.score(X_test, y_test)\n",
    "print(\"학습용 : {}, 테스트용 : {}\".format(train_score, test_score))"
   ]
  },
  {
   "cell_type": "code",
   "execution_count": 43,
   "id": "02cf4f74",
   "metadata": {},
   "outputs": [
    {
     "name": "stdout",
     "output_type": "stream",
     "text": [
      "학습용 : 9, 테스트용 : 1\n",
      "학습용 : 0.7375152736886281, 테스트용 : 0.7598135533532491\n",
      "MAE : 2.8342104578589455\n",
      "MSE : 14.995852876582541\n",
      "RMSE : 3.8724479178657187\n",
      "\n",
      "학습용 : 8, 테스트용 : 2\n",
      "학습용 : 0.7508856358979672, 테스트용 : 0.6687594935356307\n",
      "MAE : 3.189091965887853\n",
      "MSE : 24.291119474973616\n",
      "RMSE : 4.9286021826653466\n",
      "\n",
      "학습용 : 7, 테스트용 : 3\n",
      "학습용 : 0.7434997532004697, 테스트용 : 0.7112260057484974\n",
      "MAE : 3.162709871457369\n",
      "MSE : 21.517444231176903\n",
      "RMSE : 4.638689926172788\n",
      "\n",
      "학습용 : 6, 테스트용 : 4\n",
      "학습용 : 0.747199884740759, 테스트용 : 0.712514093611121\n",
      "MAE : 3.2979696834924255\n",
      "MSE : 21.832709989577538\n",
      "RMSE : 4.672548554009635\n",
      "\n",
      "학습용 : 5, 테스트용 : 5\n",
      "학습용 : 0.7719887864238001, 테스트용 : 0.6896917482875751\n",
      "MAE : 3.3981670968811883\n",
      "MSE : 25.175390536117\n",
      "RMSE : 5.017508399207419\n",
      "\n"
     ]
    }
   ],
   "source": [
    "## 9 : 1, 8 : 2, 7 : 3, 6 : 4, 5 : 5\n",
    "for i in range(1, 6, 1) :\n",
    "    X_train, X_test, y_train, y_test = train_test_split(X, y, \n",
    "                                                       test_size = (i / 10),\n",
    "                                                       random_state = 42)\n",
    "    model = LinearRegression().fit(X_train, y_train)\n",
    "    pred = model.predict(X_test)\n",
    "    \n",
    "    train_score = model.score(X_train, y_train)\n",
    "    test_score = model.score(X_test, y_test)\n",
    "    \n",
    "    mae_val = np.abs(y_test - pred).sum() / len(pred)\n",
    "    mse_val = ((y_test - pred) ** 2).sum() / len(pred)\n",
    "    rmse_val = mse_val ** 0.5\n",
    "    \n",
    "    print(f\"학습용 : {10 - i}, 테스트용 : {i}\")\n",
    "    print(\"학습용 : {}, 테스트용 : {}\".format(train_score, test_score))\n",
    "    print(\"MAE : {}\".format(mae_val))\n",
    "    print(\"MSE : {}\".format(mse_val))\n",
    "    print(\"RMSE : {}\".format(rmse_val))\n",
    "    print()"
   ]
  },
  {
   "cell_type": "code",
   "execution_count": null,
   "id": "4ae02008",
   "metadata": {},
   "outputs": [],
   "source": []
  }
 ],
 "metadata": {
  "kernelspec": {
   "display_name": "Python 3 (ipykernel)",
   "language": "python",
   "name": "python3"
  },
  "language_info": {
   "codemirror_mode": {
    "name": "ipython",
    "version": 3
   },
   "file_extension": ".py",
   "mimetype": "text/x-python",
   "name": "python",
   "nbconvert_exporter": "python",
   "pygments_lexer": "ipython3",
   "version": "3.8.8"
  }
 },
 "nbformat": 4,
 "nbformat_minor": 5
}
