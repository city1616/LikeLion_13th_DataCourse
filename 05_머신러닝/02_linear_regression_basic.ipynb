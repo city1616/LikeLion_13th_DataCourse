{
 "cells": [
  {
   "cell_type": "markdown",
   "id": "0fe9f3a8",
   "metadata": {},
   "source": [
    "### 2021_10_13_1"
   ]
  },
  {
   "cell_type": "code",
   "execution_count": 1,
   "id": "1ca9dff0",
   "metadata": {},
   "outputs": [],
   "source": [
    "from IPython.display import display, Image\n",
    "\n",
    "### 한글 폰트 설정\n",
    "import matplotlib\n",
    "from matplotlib import font_manager, rc\n",
    "import matplotlib.pyplot as plt\n",
    "import platform\n",
    "\n",
    "path = \"C:/Windows/Fonts/malgun.ttf\"\n",
    "if platform.system() == \"Windows\":\n",
    "    font_name = font_manager.FontProperties(fname=path).get_name()\n",
    "    rc('font', family=font_name)\n",
    "elif platform.system()==\"Darwin\":\n",
    "    rc('font', family='AppleGothic')\n",
    "else:\n",
    "    print(\"Unknown System\")\n",
    "    \n",
    "matplotlib.rcParams['axes.unicode_minus'] = False\n",
    "\n",
    "%matplotlib inline"
   ]
  },
  {
   "cell_type": "code",
   "execution_count": 2,
   "id": "61829b45",
   "metadata": {},
   "outputs": [
    {
     "name": "stdout",
     "output_type": "stream",
     "text": [
      "1.21.2\n",
      "3.4.3\n"
     ]
    }
   ],
   "source": [
    "import numpy as np\n",
    "import matplotlib.pyplot as plt\n",
    "import matplotlib\n",
    "print(np.__version__)\n",
    "print(matplotlib.__version__)"
   ]
  },
  {
   "cell_type": "code",
   "execution_count": 4,
   "id": "1732358f",
   "metadata": {},
   "outputs": [
    {
     "name": "stdout",
     "output_type": "stream",
     "text": [
      "1.0\n",
      "0.1.9\n"
     ]
    }
   ],
   "source": [
    "# 설치가 안되어 있을 경우, 설치 필요.\n",
    "import mglearn\n",
    "import sklearn\n",
    "print( sklearn.__version__)\n",
    "print( mglearn.__version__)\n",
    "\n",
    "from sklearn.model_selection import train_test_split\n",
    "from sklearn.linear_model import LinearRegression"
   ]
  },
  {
   "cell_type": "code",
   "execution_count": 5,
   "id": "e4d1335b",
   "metadata": {},
   "outputs": [
    {
     "name": "stdout",
     "output_type": "stream",
     "text": [
      "w[0]: 0.393906  b: -0.031804\n"
     ]
    },
    {
     "data": {
      "image/png": "[encoded data removed]",
      "text/plain": [
       "<Figure size 576x576 with 1 Axes>"
      ]
     },
     "metadata": {
      "needs_background": "light"
     },
     "output_type": "display_data"
    }
   ],
   "source": [
    "mglearn.plots.plot_linear_regression_wave()"
   ]
  },
  {
   "cell_type": "markdown",
   "id": "67d1f847",
   "metadata": {},
   "source": [
    "## 02 Boston 데이터 셋을 활용한 회귀 모델 만들어보기"
   ]
  },
  {
   "cell_type": "markdown",
   "id": "64e3364f",
   "metadata": {},
   "source": [
    "### 데이터 설명\n",
    "* 1970년대의 보스턴 주변의 주택 평균 가격 예측\n",
    "* 506개의 데이터 포인트와 13개의 특성"
   ]
  },
  {
   "cell_type": "markdown",
   "id": "4bb5bea8",
   "metadata": {},
   "source": [
    "(1) 모델 만들기 [모델명 = 모델객체()] <br>\n",
    "(2) 모델 학습 시키기 [모델명.fit()] <br>\n",
    "(3) 모델을 활용한 예측하기 [모델명.predict()] <br>\n",
    "(4) 모델 평가"
   ]
  },
  {
   "cell_type": "code",
   "execution_count": null,
   "id": "19bf41f5",
   "metadata": {},
   "outputs": [],
   "source": []
  }
 ],
 "metadata": {
  "kernelspec": {
   "display_name": "Python 3 (ipykernel)",
   "language": "python",
   "name": "python3"
  },
  "language_info": {
   "codemirror_mode": {
    "name": "ipython",
    "version": 3
   },
   "file_extension": ".py",
   "mimetype": "text/x-python",
   "name": "python",
   "nbconvert_exporter": "python",
   "pygments_lexer": "ipython3",
   "version": "3.8.8"
  }
 },
 "nbformat": 4,
 "nbformat_minor": 5
}
