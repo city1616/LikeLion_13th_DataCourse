{
  "nbformat": 4,
  "nbformat_minor": 0,
  "metadata": {
    "colab": {
      "name": "Decision_Tree_Basic.ipynb",
      "provenance": [],
      "collapsed_sections": []
    },
    "kernelspec": {
      "name": "python3",
      "display_name": "Python 3"
    },
    "language_info": {
      "name": "python"
    }
  },
  "cells": [
    {
      "cell_type": "markdown",
      "metadata": {
        "id": "oLQWtpWCmqEZ"
      },
      "source": [
        "### 2021_10_14_3"
      ]
    },
    {
      "cell_type": "code",
      "metadata": {
        "id": "zXsWrGIumLtt"
      },
      "source": [
        "from sklearn.tree import DecisionTreeClassifier\n",
        "from sklearn.model_selection import train_test_split\n",
        "from sklearn.datasets import load_breast_cancer\n",
        "import seaborn as sns"
      ],
      "execution_count": 1,
      "outputs": []
    },
    {
      "cell_type": "code",
      "metadata": {
        "id": "9wozW8NsmwK3"
      },
      "source": [
        "cancer = load_breast_cancer()\n",
        "all_X = cancer.data\n",
        "all_Y = cancer.target"
      ],
      "execution_count": 2,
      "outputs": []
    },
    {
      "cell_type": "markdown",
      "metadata": {
        "id": "C2XR8nPZnTwl"
      },
      "source": [
        "### test_size를 변경해 가면서 모델 생성"
      ]
    },
    {
      "cell_type": "code",
      "metadata": {
        "id": "eJngwyH7mzxr"
      },
      "source": [
        "def testTreeModel(TestSize=0.3):\n",
        "    cancer = load_breast_cancer()\n",
        "    all_X = cancer.data\n",
        "    all_Y = cancer.target\n",
        "    X_train, X_test, y_train, y_test = train_test_split(all_X, \n",
        "                                        all_Y, \n",
        "                                        stratify=cancer.target, \n",
        "                                        test_size = TestSize,\n",
        "                                        random_state=77)\n",
        "    \n",
        "    tree = DecisionTreeClassifier(random_state=0)\n",
        "    tree.fit(X_train, y_train)\n",
        "    print(\"훈련 세트 정확도 : {:.3f}\".format(tree.score(X_train, y_train)))\n",
        "    print(\"테스트 세트 정확도 : {:.3f}\".format(tree.score(X_test, y_test)))"
      ],
      "execution_count": 3,
      "outputs": []
    },
    {
      "cell_type": "code",
      "metadata": {
        "colab": {
          "base_uri": "https://localhost:8080/"
        },
        "id": "ZZ94RRhfm4ed",
        "outputId": "f781332a-751d-4bb2-e918-95f39026b75f"
      },
      "source": [
        "testTreeModel(0.3)  # 테스트 사이즈 30%\n",
        "testTreeModel(0.1)  # 테스트 사이즈 10%\n",
        "testTreeModel(0.2)  # 테스트 사이즈 20%"
      ],
      "execution_count": 4,
      "outputs": [
        {
          "output_type": "stream",
          "name": "stdout",
          "text": [
            "훈련 세트 정확도 : 1.000\n",
            "테스트 세트 정확도 : 0.918\n",
            "훈련 세트 정확도 : 1.000\n",
            "테스트 세트 정확도 : 0.912\n",
            "훈련 세트 정확도 : 1.000\n",
            "테스트 세트 정확도 : 0.912\n"
          ]
        }
      ]
    },
    {
      "cell_type": "markdown",
      "metadata": {
        "id": "xkR39IRona3r"
      },
      "source": [
        "### test_size와 max_depth를 변경해 가면서 모델 생성"
      ]
    },
    {
      "cell_type": "code",
      "metadata": {
        "id": "UvQm8cffm7i3"
      },
      "source": [
        "def testTreeModel(TestSize=0.3, treedepth=3):\n",
        "    cancer = load_breast_cancer()\n",
        "    X_train, X_test, y_train, y_test = train_test_split(all_X, \n",
        "                                            all_Y, \n",
        "                                            stratify=cancer.target, \n",
        "                                            test_size = TestSize,\n",
        "                                            random_state=77)\n",
        "    tree = DecisionTreeClassifier(max_depth=treedepth, random_state=0)\n",
        "    tree.fit(X_train, y_train)\n",
        "    print(\"훈련 세트 정확도 : {:.3f}\".format(tree.score(X_train, y_train)))\n",
        "    print(\"테스트 세트 정확도 : {:.3f}\".format(tree.score(X_test, y_test)))"
      ],
      "execution_count": 5,
      "outputs": []
    },
    {
      "cell_type": "code",
      "metadata": {
        "colab": {
          "base_uri": "https://localhost:8080/"
        },
        "id": "q80ANS9Tm_WJ",
        "outputId": "6b091e97-25ec-4272-ba9e-23f295a9baf3"
      },
      "source": [
        "for size in range(1, 6, 1) :\n",
        "  for depth in range(1, 7, 1) :\n",
        "    print(\"test_size : {}, depth : {}\".format(size / 10, depth))\n",
        "    testTreeModel(size / 10, depth)  # 테스트 사이즈 30%\n",
        "  print()"
      ],
      "execution_count": 11,
      "outputs": [
        {
          "output_type": "stream",
          "name": "stdout",
          "text": [
            "test_size : 0.1, depth : 1\n",
            "훈련 세트 정확도 : 0.926\n",
            "테스트 세트 정확도 : 0.860\n",
            "test_size : 0.1, depth : 2\n",
            "훈련 세트 정확도 : 0.953\n",
            "테스트 세트 정확도 : 0.877\n",
            "test_size : 0.1, depth : 3\n",
            "훈련 세트 정확도 : 0.971\n",
            "테스트 세트 정확도 : 0.877\n",
            "test_size : 0.1, depth : 4\n",
            "훈련 세트 정확도 : 0.986\n",
            "테스트 세트 정확도 : 0.877\n",
            "test_size : 0.1, depth : 5\n",
            "훈련 세트 정확도 : 0.988\n",
            "테스트 세트 정확도 : 0.877\n",
            "test_size : 0.1, depth : 6\n",
            "훈련 세트 정확도 : 0.996\n",
            "테스트 세트 정확도 : 0.895\n",
            "\n",
            "test_size : 0.2, depth : 1\n",
            "훈련 세트 정확도 : 0.930\n",
            "테스트 세트 정확도 : 0.895\n",
            "test_size : 0.2, depth : 2\n",
            "훈련 세트 정확도 : 0.956\n",
            "테스트 세트 정확도 : 0.886\n",
            "test_size : 0.2, depth : 3\n",
            "훈련 세트 정확도 : 0.980\n",
            "테스트 세트 정확도 : 0.895\n",
            "test_size : 0.2, depth : 4\n",
            "훈련 세트 정확도 : 0.987\n",
            "테스트 세트 정확도 : 0.886\n",
            "test_size : 0.2, depth : 5\n",
            "훈련 세트 정확도 : 0.991\n",
            "테스트 세트 정확도 : 0.912\n",
            "test_size : 0.2, depth : 6\n",
            "훈련 세트 정확도 : 0.996\n",
            "테스트 세트 정확도 : 0.895\n",
            "\n",
            "test_size : 0.3, depth : 1\n",
            "훈련 세트 정확도 : 0.932\n",
            "테스트 세트 정확도 : 0.883\n",
            "test_size : 0.3, depth : 2\n",
            "훈련 세트 정확도 : 0.972\n",
            "테스트 세트 정확도 : 0.912\n",
            "test_size : 0.3, depth : 3\n",
            "훈련 세트 정확도 : 0.982\n",
            "테스트 세트 정확도 : 0.906\n",
            "test_size : 0.3, depth : 4\n",
            "훈련 세트 정확도 : 0.985\n",
            "테스트 세트 정확도 : 0.906\n",
            "test_size : 0.3, depth : 5\n",
            "훈련 세트 정확도 : 0.992\n",
            "테스트 세트 정확도 : 0.889\n",
            "test_size : 0.3, depth : 6\n",
            "훈련 세트 정확도 : 0.997\n",
            "테스트 세트 정확도 : 0.901\n",
            "\n",
            "test_size : 0.4, depth : 1\n",
            "훈련 세트 정확도 : 0.935\n",
            "테스트 세트 정확도 : 0.886\n",
            "test_size : 0.4, depth : 2\n",
            "훈련 세트 정확도 : 0.971\n",
            "테스트 세트 정확도 : 0.917\n",
            "test_size : 0.4, depth : 3\n",
            "훈련 세트 정확도 : 0.982\n",
            "테스트 세트 정확도 : 0.925\n",
            "test_size : 0.4, depth : 4\n",
            "훈련 세트 정확도 : 0.994\n",
            "테스트 세트 정확도 : 0.939\n",
            "test_size : 0.4, depth : 5\n",
            "훈련 세트 정확도 : 1.000\n",
            "테스트 세트 정확도 : 0.921\n",
            "test_size : 0.4, depth : 6\n",
            "훈련 세트 정확도 : 1.000\n",
            "테스트 세트 정확도 : 0.921\n",
            "\n",
            "test_size : 0.5, depth : 1\n",
            "훈련 세트 정확도 : 0.944\n",
            "테스트 세트 정확도 : 0.888\n",
            "test_size : 0.5, depth : 2\n",
            "훈련 세트 정확도 : 0.968\n",
            "테스트 세트 정확도 : 0.919\n",
            "test_size : 0.5, depth : 3\n",
            "훈련 세트 정확도 : 0.982\n",
            "테스트 세트 정확도 : 0.923\n",
            "test_size : 0.5, depth : 4\n",
            "훈련 세트 정확도 : 1.000\n",
            "테스트 세트 정확도 : 0.933\n",
            "test_size : 0.5, depth : 5\n",
            "훈련 세트 정확도 : 1.000\n",
            "테스트 세트 정확도 : 0.933\n",
            "test_size : 0.5, depth : 6\n",
            "훈련 세트 정확도 : 1.000\n",
            "테스트 세트 정확도 : 0.933\n",
            "\n"
          ]
        }
      ]
    },
    {
      "cell_type": "code",
      "metadata": {
        "colab": {
          "base_uri": "https://localhost:8080/"
        },
        "id": "qcwc6GcAnt7q",
        "outputId": "f7937d0c-bf46-48ff-b47c-8c346f5bf701"
      },
      "source": [
        "X_train, X_test, y_train, y_test = train_test_split(all_X, all_Y,\n",
        "                                                    stratify = cancer.target,\n",
        "                                                    test_size = 40,\n",
        "                                                    random_state = 77)\n",
        "model = DecisionTreeClassifier(max_depth = 4, random_state = 0)\n",
        "model.fit(X_train, y_train)"
      ],
      "execution_count": 12,
      "outputs": [
        {
          "output_type": "execute_result",
          "data": {
            "text/plain": [
              "DecisionTreeClassifier(ccp_alpha=0.0, class_weight=None, criterion='gini',\n",
              "                       max_depth=4, max_features=None, max_leaf_nodes=None,\n",
              "                       min_impurity_decrease=0.0, min_impurity_split=None,\n",
              "                       min_samples_leaf=1, min_samples_split=2,\n",
              "                       min_weight_fraction_leaf=0.0, presort='deprecated',\n",
              "                       random_state=0, splitter='best')"
            ]
          },
          "metadata": {},
          "execution_count": 12
        }
      ]
    },
    {
      "cell_type": "markdown",
      "metadata": {
        "id": "gotdQOjIqggK"
      },
      "source": [
        "### 트리의 특성 중요도\n",
        "* 특성 중요도 : 0과 1 사이의 숫자\n",
        "\t* 0은 트리에서 전혀 사용되지 않음.\n",
        "\t* 1은 트리에서 완벽하게 타깃 클래스를 예측했다.\n",
        "\t* 특성 중요도의 전체 합은 1이다.\n",
        "* 특성의 feature_importance_ 값이 낮다고 해서 특성이 유용하지 않다는 것은 아니다.\n",
        "* 단지 트리가 그 특성을 선택하지 않았다는 것이다."
      ]
    },
    {
      "cell_type": "code",
      "metadata": {
        "colab": {
          "base_uri": "https://localhost:8080/"
        },
        "id": "Xzb5no2tpxRs",
        "outputId": "b7bd7172-0e9f-42e7-e705-a2f9f19787e2"
      },
      "source": [
        "model.feature_importances_"
      ],
      "execution_count": 15,
      "outputs": [
        {
          "output_type": "execute_result",
          "data": {
            "text/plain": [
              "array([0.        , 0.02494588, 0.00818101, 0.        , 0.        ,\n",
              "       0.        , 0.        , 0.01161117, 0.        , 0.        ,\n",
              "       0.        , 0.        , 0.01428719, 0.        , 0.        ,\n",
              "       0.        , 0.        , 0.        , 0.        , 0.        ,\n",
              "       0.01518308, 0.03510067, 0.74661849, 0.00748376, 0.00748376,\n",
              "       0.        , 0.        , 0.12910498, 0.        , 0.        ])"
            ]
          },
          "metadata": {},
          "execution_count": 15
        }
      ]
    },
    {
      "cell_type": "code",
      "metadata": {
        "colab": {
          "base_uri": "https://localhost:8080/"
        },
        "id": "xtXrKpW6qyOi",
        "outputId": "53294462-b866-4269-8318-09d9b3bb0a23"
      },
      "source": [
        "cancer.data.shape[1]"
      ],
      "execution_count": 16,
      "outputs": [
        {
          "output_type": "execute_result",
          "data": {
            "text/plain": [
              "30"
            ]
          },
          "metadata": {},
          "execution_count": 16
        }
      ]
    },
    {
      "cell_type": "code",
      "metadata": {
        "id": "byoOqzdFq679"
      },
      "source": [
        "import matplotlib.pyplot as plt\n",
        "import numpy as np\n",
        "import matplotlib\n",
        "from matplotlib import font_manager, rc\n",
        "import matplotlib.pyplot as plt\n",
        "import platform"
      ],
      "execution_count": 17,
      "outputs": []
    },
    {
      "cell_type": "code",
      "metadata": {
        "colab": {
          "base_uri": "https://localhost:8080/"
        },
        "id": "Gw_2tQBDrqw5",
        "outputId": "f22bdd57-46c8-4fe0-bfff-21c4c42b2759"
      },
      "source": [
        "# 한글 및 마이너스 표시 설정\n",
        "path = \"C:/Windows/Fonts/malgun.ttf\"\n",
        "\n",
        "if platform.system() == \"Windows\":\n",
        "  font_name = font_manager.FontProperties(fname=path).get_name()\n",
        "  matplotlib.rc('font', family=font_name)\n",
        "elif platform.system()==\"Darwin\":\n",
        "  rc('font', family='AppleGothic')\n",
        "else:\n",
        "  print(\"Unknown System\")\n",
        "\n",
        "matplotlib.rcParams['axes.unicode_minus'] = False\n",
        "%matplotlib inline"
      ],
      "execution_count": 21,
      "outputs": [
        {
          "output_type": "stream",
          "name": "stdout",
          "text": [
            "Unknown System\n"
          ]
        }
      ]
    },
    {
      "cell_type": "code",
      "metadata": {
        "id": "Gs4Y1z0Pq_84"
      },
      "source": [
        "def plot_feature_imp_cancer(model):\n",
        "  n_features = cancer.data.shape[1]\n",
        "  imp = model.feature_importances_\n",
        "  plt.barh(range(n_features) , imp, align='center')\n",
        "  plt.yticks(np.arange(n_features), cancer.feature_names)\n",
        "  plt.xlabel(\"특성 중요도\")\n",
        "  plt.ylabel(\"특성\")\n",
        "  plt.ylim(-1, n_features)"
      ],
      "execution_count": 22,
      "outputs": []
    },
    {
      "cell_type": "code",
      "metadata": {
        "colab": {
          "base_uri": "https://localhost:8080/",
          "height": 985
        },
        "id": "yHc3YTuRrGCR",
        "outputId": "16f69c6d-cab0-4af1-f702-eda9511ffa23"
      },
      "source": [
        "plt.figure(figsize = (12, 12))\n",
        "plot_feature_imp_cancer(model)"
      ],
      "execution_count": 23,
      "outputs": [
        {
          "output_type": "stream",
          "name": "stderr",
          "text": [
            "/usr/local/lib/python3.7/dist-packages/matplotlib/backends/backend_agg.py:214: RuntimeWarning: Glyph 53945 missing from current font.\n",
            "  font.set_text(s, 0.0, flags=flags)\n",
            "/usr/local/lib/python3.7/dist-packages/matplotlib/backends/backend_agg.py:214: RuntimeWarning: Glyph 49457 missing from current font.\n",
            "  font.set_text(s, 0.0, flags=flags)\n",
            "/usr/local/lib/python3.7/dist-packages/matplotlib/backends/backend_agg.py:214: RuntimeWarning: Glyph 51473 missing from current font.\n",
            "  font.set_text(s, 0.0, flags=flags)\n",
            "/usr/local/lib/python3.7/dist-packages/matplotlib/backends/backend_agg.py:214: RuntimeWarning: Glyph 50836 missing from current font.\n",
            "  font.set_text(s, 0.0, flags=flags)\n",
            "/usr/local/lib/python3.7/dist-packages/matplotlib/backends/backend_agg.py:214: RuntimeWarning: Glyph 46020 missing from current font.\n",
            "  font.set_text(s, 0.0, flags=flags)\n",
            "/usr/local/lib/python3.7/dist-packages/matplotlib/backends/backend_agg.py:183: RuntimeWarning: Glyph 53945 missing from current font.\n",
            "  font.set_text(s, 0, flags=flags)\n",
            "/usr/local/lib/python3.7/dist-packages/matplotlib/backends/backend_agg.py:183: RuntimeWarning: Glyph 49457 missing from current font.\n",
            "  font.set_text(s, 0, flags=flags)\n",
            "/usr/local/lib/python3.7/dist-packages/matplotlib/backends/backend_agg.py:183: RuntimeWarning: Glyph 51473 missing from current font.\n",
            "  font.set_text(s, 0, flags=flags)\n",
            "/usr/local/lib/python3.7/dist-packages/matplotlib/backends/backend_agg.py:183: RuntimeWarning: Glyph 50836 missing from current font.\n",
            "  font.set_text(s, 0, flags=flags)\n",
            "/usr/local/lib/python3.7/dist-packages/matplotlib/backends/backend_agg.py:183: RuntimeWarning: Glyph 46020 missing from current font.\n",
            "  font.set_text(s, 0, flags=flags)\n"
          ]
        },
        {
          "output_type": "display_data",
          "data": {
            "image/png": "[encoded data removed]",
            "text/plain": [
              "<Figure size 864x864 with 1 Axes>"
            ]
          },
          "metadata": {
            "needs_background": "light"
          }
        }
      ]
    },
    {
      "cell_type": "code",
      "metadata": {
        "id": "9yIkpQaMrIM6"
      },
      "source": [
        ""
      ],
      "execution_count": null,
      "outputs": []
    }
  ]
}